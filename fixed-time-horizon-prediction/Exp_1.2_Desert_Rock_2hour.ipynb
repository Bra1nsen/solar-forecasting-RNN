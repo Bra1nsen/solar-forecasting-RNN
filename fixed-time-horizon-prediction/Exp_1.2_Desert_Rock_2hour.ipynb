{
 "cells": [
  {
   "cell_type": "markdown",
   "metadata": {},
   "source": [
    "### NOTE\n",
    "** the test['Kt'].max() values after grouping into hourly data is 7279.907547 = this is a outlier. The reason might be having a dw_solar reading with QC=2 value. Still haven't checked that. But the second highest value of 'Kt' parameter in the testset is 672 (which is way lower) **"
   ]
  },
  {
   "cell_type": "code",
   "execution_count": 1,
   "metadata": {},
   "outputs": [],
   "source": [
    "import numpy as np\n",
    "import pandas as pd\n",
    "import datetime\n",
    "import glob\n",
    "import os.path\n",
    "from pandas.compat import StringIO"
   ]
  },
  {
   "cell_type": "markdown",
   "metadata": {},
   "source": [
    "### NREL Bird Model implementation: for obtaining clear sky GHI"
   ]
  },
  {
   "cell_type": "code",
   "execution_count": 2,
   "metadata": {},
   "outputs": [],
   "source": [
    "import itertools\n",
    "import matplotlib.pyplot as plt\n",
    "import pandas as pd\n",
    "import seaborn as sns"
   ]
  },
  {
   "cell_type": "code",
   "execution_count": 3,
   "metadata": {},
   "outputs": [],
   "source": [
    "%matplotlib inline\n",
    "sns.set_color_codes()"
   ]
  },
  {
   "cell_type": "code",
   "execution_count": 4,
   "metadata": {},
   "outputs": [],
   "source": [
    "import pvlib\n",
    "from pvlib import clearsky, atmosphere\n",
    "from pvlib.location import Location"
   ]
  },
  {
   "cell_type": "code",
   "execution_count": 5,
   "metadata": {},
   "outputs": [],
   "source": [
    "drk = Location(36.621,-116.043, 'US/Pacific', 1010.1072, 'Desert Rock')"
   ]
  },
  {
   "cell_type": "code",
   "execution_count": 6,
   "metadata": {},
   "outputs": [],
   "source": [
    "times2009 = pd.DatetimeIndex(start='2009-01-01', end='2010-01-01', freq='1min',\n",
    "                        tz=drk.tz)   # 12 months of 2009 - For testing\n",
    "times2010and2011 = pd.DatetimeIndex(start='2010-01-01', end='2012-01-01', freq='1min',\n",
    "                        tz=drk.tz)   # 24 months of 2010 and 2011 - For training"
   ]
  },
  {
   "cell_type": "code",
   "execution_count": 7,
   "metadata": {},
   "outputs": [],
   "source": [
    "cs_2009 = drk.get_clearsky(times2009) \n",
    "cs_2010and2011 = drk.get_clearsky(times2010and2011) # ineichen with climatology table by default\n",
    "#cs_2011 = bvl.get_clearsky(times2011) "
   ]
  },
  {
   "cell_type": "code",
   "execution_count": 8,
   "metadata": {},
   "outputs": [],
   "source": [
    "cs_2009.drop(['dni','dhi'],axis=1, inplace=True) #updating the same dataframe by dropping two columns\n",
    "cs_2010and2011.drop(['dni','dhi'],axis=1, inplace=True) #updating the same dataframe by dropping two columns\n",
    "#cs_2011.drop(['dni','dhi'],axis=1, inplace=True) #updating the same dataframe by dropping two columns"
   ]
  },
  {
   "cell_type": "code",
   "execution_count": 9,
   "metadata": {},
   "outputs": [],
   "source": [
    "cs_2009.reset_index(inplace=True)\n",
    "cs_2010and2011.reset_index(inplace=True)\n",
    "#cs_2011.reset_index(inplace=True)"
   ]
  },
  {
   "cell_type": "code",
   "execution_count": 10,
   "metadata": {},
   "outputs": [],
   "source": [
    "cs_2009['index']=cs_2009['index'].apply(lambda x:x.to_datetime())\n",
    "cs_2009['year'] = cs_2009['index'].apply(lambda x:x.year)\n",
    "cs_2009['month'] = cs_2009['index'].apply(lambda x:x.month)\n",
    "cs_2009['day'] = cs_2009['index'].apply(lambda x:x.day)\n",
    "cs_2009['hour'] = cs_2009['index'].apply(lambda x:x.hour)\n",
    "cs_2009['min'] = cs_2009['index'].apply(lambda x:x.minute)"
   ]
  },
  {
   "cell_type": "code",
   "execution_count": 11,
   "metadata": {},
   "outputs": [],
   "source": [
    "cs_2010and2011['index']=cs_2010and2011['index'].apply(lambda x:x.to_datetime())\n",
    "cs_2010and2011['year'] = cs_2010and2011['index'].apply(lambda x:x.year)\n",
    "cs_2010and2011['month'] = cs_2010and2011['index'].apply(lambda x:x.month)\n",
    "cs_2010and2011['day'] = cs_2010and2011['index'].apply(lambda x:x.day)\n",
    "cs_2010and2011['hour'] = cs_2010and2011['index'].apply(lambda x:x.hour)\n",
    "cs_2010and2011['min'] = cs_2010and2011['index'].apply(lambda x:x.minute)"
   ]
  },
  {
   "cell_type": "code",
   "execution_count": 12,
   "metadata": {},
   "outputs": [
    {
     "name": "stdout",
     "output_type": "stream",
     "text": [
      "(525601, 7)\n",
      "(1051201, 7)\n"
     ]
    }
   ],
   "source": [
    "print(cs_2009.shape)\n",
    "print(cs_2010and2011.shape)\n",
    "#print(cs_2011.shape)"
   ]
  },
  {
   "cell_type": "code",
   "execution_count": 13,
   "metadata": {},
   "outputs": [],
   "source": [
    "cs_2009.drop(cs_2009.index[-1], inplace=True)\n",
    "cs_2010and2011.drop(cs_2010and2011.index[-1], inplace=True)\n",
    "#cs_2011.drop(cs_2011.index[-1], inplace=True)"
   ]
  },
  {
   "cell_type": "code",
   "execution_count": 14,
   "metadata": {},
   "outputs": [
    {
     "name": "stdout",
     "output_type": "stream",
     "text": [
      "(525600, 7)\n",
      "(1051200, 7)\n"
     ]
    }
   ],
   "source": [
    "print(cs_2009.shape)\n",
    "print(cs_2010and2011.shape)\n",
    "#print(cs_2011.shape)"
   ]
  },
  {
   "cell_type": "code",
   "execution_count": 15,
   "metadata": {},
   "outputs": [
    {
     "data": {
      "text/html": [
       "<div>\n",
       "<style scoped>\n",
       "    .dataframe tbody tr th:only-of-type {\n",
       "        vertical-align: middle;\n",
       "    }\n",
       "\n",
       "    .dataframe tbody tr th {\n",
       "        vertical-align: top;\n",
       "    }\n",
       "\n",
       "    .dataframe thead th {\n",
       "        text-align: right;\n",
       "    }\n",
       "</style>\n",
       "<table border=\"1\" class=\"dataframe\">\n",
       "  <thead>\n",
       "    <tr style=\"text-align: right;\">\n",
       "      <th></th>\n",
       "      <th>index</th>\n",
       "      <th>ghi</th>\n",
       "      <th>year</th>\n",
       "      <th>month</th>\n",
       "      <th>day</th>\n",
       "      <th>hour</th>\n",
       "      <th>min</th>\n",
       "    </tr>\n",
       "  </thead>\n",
       "  <tbody>\n",
       "    <tr>\n",
       "      <th>0</th>\n",
       "      <td>2010-01-01 00:00:00-08:00</td>\n",
       "      <td>0.0</td>\n",
       "      <td>2010</td>\n",
       "      <td>1</td>\n",
       "      <td>1</td>\n",
       "      <td>0</td>\n",
       "      <td>0</td>\n",
       "    </tr>\n",
       "    <tr>\n",
       "      <th>1</th>\n",
       "      <td>2010-01-01 00:01:00-08:00</td>\n",
       "      <td>0.0</td>\n",
       "      <td>2010</td>\n",
       "      <td>1</td>\n",
       "      <td>1</td>\n",
       "      <td>0</td>\n",
       "      <td>1</td>\n",
       "    </tr>\n",
       "    <tr>\n",
       "      <th>2</th>\n",
       "      <td>2010-01-01 00:02:00-08:00</td>\n",
       "      <td>0.0</td>\n",
       "      <td>2010</td>\n",
       "      <td>1</td>\n",
       "      <td>1</td>\n",
       "      <td>0</td>\n",
       "      <td>2</td>\n",
       "    </tr>\n",
       "    <tr>\n",
       "      <th>3</th>\n",
       "      <td>2010-01-01 00:03:00-08:00</td>\n",
       "      <td>0.0</td>\n",
       "      <td>2010</td>\n",
       "      <td>1</td>\n",
       "      <td>1</td>\n",
       "      <td>0</td>\n",
       "      <td>3</td>\n",
       "    </tr>\n",
       "    <tr>\n",
       "      <th>4</th>\n",
       "      <td>2010-01-01 00:04:00-08:00</td>\n",
       "      <td>0.0</td>\n",
       "      <td>2010</td>\n",
       "      <td>1</td>\n",
       "      <td>1</td>\n",
       "      <td>0</td>\n",
       "      <td>4</td>\n",
       "    </tr>\n",
       "  </tbody>\n",
       "</table>\n",
       "</div>"
      ],
      "text/plain": [
       "                      index  ghi  year  month  day  hour  min\n",
       "0 2010-01-01 00:00:00-08:00  0.0  2010      1    1     0    0\n",
       "1 2010-01-01 00:01:00-08:00  0.0  2010      1    1     0    1\n",
       "2 2010-01-01 00:02:00-08:00  0.0  2010      1    1     0    2\n",
       "3 2010-01-01 00:03:00-08:00  0.0  2010      1    1     0    3\n",
       "4 2010-01-01 00:04:00-08:00  0.0  2010      1    1     0    4"
      ]
     },
     "execution_count": 15,
     "metadata": {},
     "output_type": "execute_result"
    }
   ],
   "source": [
    "cs_2010and2011.head()"
   ]
  },
  {
   "cell_type": "markdown",
   "metadata": {},
   "source": [
    "### Import files from each year in a separate dataframe"
   ]
  },
  {
   "cell_type": "markdown",
   "metadata": {
    "collapsed": true
   },
   "source": [
    "\n",
    "- year            integer\t year, i.e., 1995\n",
    "- jday            integer\t Julian day (1 through 365 [or 366])\n",
    "- month           integer\t number of the month (1-12)\n",
    "- day             integer\t day of the month(1-31)\n",
    "- hour            integer\t hour of the day (0-23)\n",
    "- min             integer\t minute of the hour (0-59)\n",
    "- dt              real\t decimal time (hour.decimalminutes, e.g., 23.5 = 2330)\n",
    "- zen             real\t solar zenith angle (degrees)\n",
    "- dw_solar        real\t downwelling global solar (Watts m^-2)\n",
    "- uw_solar        real\t upwelling global solar (Watts m^-2)\n",
    "- direct_n        real\t direct-normal solar (Watts m^-2)\n",
    "- diffuse         real\t downwelling diffuse solar (Watts m^-2)\n",
    "- dw_ir           real\t downwelling thermal infrared (Watts m^-2)\n",
    "- dw_casetemp     real\t downwelling IR case temp. (K)\n",
    "- dw_dometemp     real\t downwelling IR dome temp. (K)\n",
    "- uw_ir           real\t upwelling thermal infrared (Watts m^-2)\n",
    "- uw_casetemp     real\t upwelling IR case temp. (K)\n",
    "- uw_dometemp     real\t upwelling IR dome temp. (K)\n",
    "- uvb             real\t global UVB (milliWatts m^-2)\n",
    "- par             real\t photosynthetically active radiation (Watts m^-2)\n",
    "- netsolar        real\t net solar (dw_solar - uw_solar) (Watts m^-2)\n",
    "- netir           real\t net infrared (dw_ir - uw_ir) (Watts m^-2)\n",
    "- totalnet        real\t net radiation (netsolar+netir) (Watts m^-2)\n",
    "- temp            real\t 10-meter air temperature (?C)\n",
    "- rh              real\t relative humidity (%)\n",
    "- windspd         real\t wind speed (ms^-1)\n",
    "- winddir         real\t wind direction (degrees, clockwise from north)\n",
    "- pressure        real\t station pressure (mb)\n"
   ]
  },
  {
   "cell_type": "code",
   "execution_count": 16,
   "metadata": {},
   "outputs": [],
   "source": [
    "cols = ['year', 'jday', 'month', 'day','hour','min','dt','zen','dw_solar','dw_solar_QC','uw_solar',\n",
    "       'uw_solar_QC', 'direct_n','direct_n_QC','diffuse', 'diffuse_QC', 'dw_ir', 'dw_ir_QC', 'dw_casetemp',\n",
    "       'dw_casetemp_QC', 'dw_dometemp','dw_dometemp_QC','uw_ir', 'uw_ir_QC', 'uw_casetemp','uw_casetemp_QC',\n",
    "       'uw_dometemp','uw_dometemp_QC','uvb','uvb_QC','par','par_QC','netsolar','netsolar_QC','netir','netir_QC',\n",
    "       'totalnet','totalnet_QC','temp','temp_QC','rh','rh_QC','windspd','windspd_QC','winddir','winddir_QC',\n",
    "       'pressure','pressure_QC']"
   ]
  },
  {
   "cell_type": "code",
   "execution_count": 17,
   "metadata": {},
   "outputs": [
    {
     "data": {
      "text/plain": [
       "(1047761, 48)"
      ]
     },
     "execution_count": 17,
     "metadata": {},
     "output_type": "execute_result"
    }
   ],
   "source": [
    "path = r'.\\\\data\\\\Desert_Rock\\\\Exp_1_train'\n",
    "all_files = glob.glob(path + \"/*.dat\")\n",
    "all_files.sort()\n",
    "\n",
    "df_big_train = pd.concat([pd.read_csv(f, skipinitialspace = True, quotechar = '\"',skiprows=(2),delimiter=' ', \n",
    "                 index_col=False,header=None, names=cols) for f in all_files],ignore_index=True)\n",
    "df_big_train.shape"
   ]
  },
  {
   "cell_type": "code",
   "execution_count": 18,
   "metadata": {},
   "outputs": [
    {
     "data": {
      "text/plain": [
       "(525542, 48)"
      ]
     },
     "execution_count": 18,
     "metadata": {},
     "output_type": "execute_result"
    }
   ],
   "source": [
    "path = r'.\\\\data\\\\Desert_Rock\\\\Exp_1_test'\n",
    "all_files = glob.glob(path + \"/*.dat\")\n",
    "all_files.sort()\n",
    "\n",
    "df_big_test = pd.concat((pd.read_csv(f, skipinitialspace = True, quotechar = '\"',skiprows=(2),delimiter=' ', \n",
    "                 index_col=False,header=None, names=cols) for f in all_files),ignore_index=True)\n",
    "df_big_test.shape"
   ]
  },
  {
   "cell_type": "code",
   "execution_count": 19,
   "metadata": {},
   "outputs": [
    {
     "data": {
      "text/plain": [
       "(11338, 48)"
      ]
     },
     "execution_count": 19,
     "metadata": {},
     "output_type": "execute_result"
    }
   ],
   "source": [
    "df_big_test[df_big_test['dw_solar']==-9999.9].shape"
   ]
  },
  {
   "cell_type": "markdown",
   "metadata": {},
   "source": [
    "### Merging Clear Sky GHI And the big dataframe"
   ]
  },
  {
   "cell_type": "code",
   "execution_count": 20,
   "metadata": {},
   "outputs": [
    {
     "data": {
      "text/plain": [
       "(1047761, 50)"
      ]
     },
     "execution_count": 20,
     "metadata": {},
     "output_type": "execute_result"
    }
   ],
   "source": [
    "df_train = pd.merge(df_big_train, cs_2010and2011, on=['year','month','day','hour','min'])\n",
    "df_train.shape"
   ]
  },
  {
   "cell_type": "code",
   "execution_count": 21,
   "metadata": {},
   "outputs": [
    {
     "data": {
      "text/plain": [
       "(525542, 50)"
      ]
     },
     "execution_count": 21,
     "metadata": {},
     "output_type": "execute_result"
    }
   ],
   "source": [
    "df_test = pd.merge(df_big_test, cs_2009, on=['year','month','day','hour','min'])\n",
    "df_test.shape"
   ]
  },
  {
   "cell_type": "code",
   "execution_count": 22,
   "metadata": {},
   "outputs": [],
   "source": [
    "df_train.drop(['index'],axis=1, inplace=True) #updating the same dataframe by dropping the index columns from clear sky model\n",
    "df_test.drop(['index'], axis=1, inplace=True)"
   ]
  },
  {
   "cell_type": "code",
   "execution_count": 23,
   "metadata": {},
   "outputs": [
    {
     "data": {
      "text/plain": [
       "(1047761, 49)"
      ]
     },
     "execution_count": 23,
     "metadata": {},
     "output_type": "execute_result"
    }
   ],
   "source": [
    "df_train.shape"
   ]
  },
  {
   "cell_type": "markdown",
   "metadata": {},
   "source": [
    "### Managing missing values"
   ]
  },
  {
   "cell_type": "code",
   "execution_count": 24,
   "metadata": {},
   "outputs": [],
   "source": [
    "# Resetting index\n",
    "df_train.reset_index(drop=True, inplace=True)\n",
    "df_test.reset_index(drop=True, inplace=True)"
   ]
  },
  {
   "cell_type": "code",
   "execution_count": 25,
   "metadata": {},
   "outputs": [],
   "source": [
    "# Dropping rows with two or more -9999.9 values in columns"
   ]
  },
  {
   "cell_type": "code",
   "execution_count": 26,
   "metadata": {},
   "outputs": [
    {
     "data": {
      "text/plain": [
       "(988587, 49)"
      ]
     },
     "execution_count": 26,
     "metadata": {},
     "output_type": "execute_result"
    }
   ],
   "source": [
    "# Step1: Get indices of all rows with 2 or more -999\n",
    "missing_data_indices = np.where((df_train <=-9999.9).apply(sum, axis=1)>=2)[0]\n",
    "# Step2: Drop those indices\n",
    "df_train.drop(missing_data_indices, axis=0, inplace=True)\n",
    "# Checking that the rows are dropped\n",
    "df_train.shape"
   ]
  },
  {
   "cell_type": "code",
   "execution_count": 27,
   "metadata": {},
   "outputs": [
    {
     "data": {
      "text/plain": [
       "(524158, 49)"
      ]
     },
     "execution_count": 27,
     "metadata": {},
     "output_type": "execute_result"
    }
   ],
   "source": [
    "missing_data_indices_test = np.where((df_test <= -9999.9).apply(sum, axis=1)>=2)[0]\n",
    "df_test.drop(missing_data_indices_test, axis=0, inplace=True)\n",
    "df_test.shape"
   ]
  },
  {
   "cell_type": "code",
   "execution_count": 28,
   "metadata": {},
   "outputs": [],
   "source": [
    "# For the rows with only one cell as -9999.9, replacing this cell with the mean of the column"
   ]
  },
  {
   "cell_type": "markdown",
   "metadata": {},
   "source": [
    "#### First resetting index after dropping rows in the previous part of the code"
   ]
  },
  {
   "cell_type": "code",
   "execution_count": 29,
   "metadata": {},
   "outputs": [],
   "source": [
    "# 2nd time - Reseting Index\n",
    "df_train.reset_index(drop=True, inplace=True)\n",
    "df_test.reset_index(drop=True, inplace=True)"
   ]
  },
  {
   "cell_type": "code",
   "execution_count": 30,
   "metadata": {},
   "outputs": [],
   "source": [
    "one_miss_train_idx = np.where((df_train <=-9999.9).apply(sum, axis=1)==1)[0]"
   ]
  },
  {
   "cell_type": "code",
   "execution_count": 31,
   "metadata": {},
   "outputs": [
    {
     "data": {
      "text/plain": [
       "16067"
      ]
     },
     "execution_count": 31,
     "metadata": {},
     "output_type": "execute_result"
    }
   ],
   "source": [
    "len(one_miss_train_idx)"
   ]
  },
  {
   "cell_type": "code",
   "execution_count": 32,
   "metadata": {},
   "outputs": [
    {
     "data": {
      "text/plain": [
       "(988587, 49)"
      ]
     },
     "execution_count": 32,
     "metadata": {},
     "output_type": "execute_result"
    }
   ],
   "source": [
    "df_train.shape"
   ]
  },
  {
   "cell_type": "code",
   "execution_count": 33,
   "metadata": {},
   "outputs": [
    {
     "name": "stderr",
     "output_type": "stream",
     "text": [
      "C:\\Users\\s269596\\AppData\\Local\\Continuum\\Anaconda3\\lib\\site-packages\\pandas\\core\\indexing.py:194: SettingWithCopyWarning: \n",
      "A value is trying to be set on a copy of a slice from a DataFrame\n",
      "\n",
      "See the caveats in the documentation: http://pandas.pydata.org/pandas-docs/stable/indexing.html#indexing-view-versus-copy\n",
      "  self._setitem_with_indexer(indexer, value)\n"
     ]
    }
   ],
   "source": [
    "col_names = df_train.columns\n",
    "from collections import defaultdict\n",
    "stats = defaultdict(int)\n",
    "total_single_missing_values = 0\n",
    "for name in col_names:\n",
    "    col_mean = df_train[~(df_train[name] == -9999.9)][name].mean()\n",
    "    missing_indices = np.where((df_train[name] == -9999.9))\n",
    "    stats[name] = len(missing_indices[0])\n",
    "    df_train[name].loc[missing_indices] = col_mean\n",
    "    total_single_missing_values += sum(df_train[name] == -9999.9)\n",
    "    "
   ]
  },
  {
   "cell_type": "code",
   "execution_count": 34,
   "metadata": {},
   "outputs": [],
   "source": [
    "#df_col_min = df_train.apply(min, axis=0)\n",
    "#df_col_max = df_train.apply(max, axis =0)\n",
    "#print(df_col_min, df_col_max)"
   ]
  },
  {
   "cell_type": "code",
   "execution_count": 35,
   "metadata": {},
   "outputs": [],
   "source": [
    "train = np.where((df_train <=-9999.9).apply(sum, axis=1)==1)[0]"
   ]
  },
  {
   "cell_type": "code",
   "execution_count": 36,
   "metadata": {},
   "outputs": [
    {
     "data": {
      "text/plain": [
       "0"
      ]
     },
     "execution_count": 36,
     "metadata": {},
     "output_type": "execute_result"
    }
   ],
   "source": [
    "len(train)"
   ]
  },
  {
   "cell_type": "code",
   "execution_count": 37,
   "metadata": {},
   "outputs": [],
   "source": [
    "# doing the same thing on test dataset"
   ]
  },
  {
   "cell_type": "code",
   "execution_count": 38,
   "metadata": {},
   "outputs": [
    {
     "data": {
      "text/plain": [
       "10590"
      ]
     },
     "execution_count": 38,
     "metadata": {},
     "output_type": "execute_result"
    }
   ],
   "source": [
    "one_miss_test_idx = np.where((df_test <=-9999.9).apply(sum, axis=1)==1)[0]\n",
    "len(one_miss_test_idx)"
   ]
  },
  {
   "cell_type": "code",
   "execution_count": 39,
   "metadata": {},
   "outputs": [
    {
     "name": "stderr",
     "output_type": "stream",
     "text": [
      "C:\\Users\\s269596\\AppData\\Local\\Continuum\\Anaconda3\\lib\\site-packages\\pandas\\core\\indexing.py:194: SettingWithCopyWarning: \n",
      "A value is trying to be set on a copy of a slice from a DataFrame\n",
      "\n",
      "See the caveats in the documentation: http://pandas.pydata.org/pandas-docs/stable/indexing.html#indexing-view-versus-copy\n",
      "  self._setitem_with_indexer(indexer, value)\n"
     ]
    }
   ],
   "source": [
    "col_names_test = df_test.columns\n",
    "from collections import defaultdict\n",
    "stats_test = defaultdict(int)\n",
    "total_single_missing_values_test = 0\n",
    "for name in col_names_test:\n",
    "    col_mean = df_test[~(df_test[name] == -9999.9)][name].mean()\n",
    "    missing_indices = np.where((df_test[name] == -9999.9))\n",
    "    stats_test[name] = len(missing_indices[0])\n",
    "    df_test[name].loc[missing_indices] = col_mean\n",
    "    total_single_missing_values_test += sum(df_test[name] == -9999.9)\n",
    "    "
   ]
  },
  {
   "cell_type": "code",
   "execution_count": 40,
   "metadata": {},
   "outputs": [],
   "source": [
    "test = np.where((df_test <=-9999.9).apply(sum, axis=1)==1)[0]"
   ]
  },
  {
   "cell_type": "code",
   "execution_count": 41,
   "metadata": {},
   "outputs": [
    {
     "data": {
      "text/plain": [
       "0"
      ]
     },
     "execution_count": 41,
     "metadata": {},
     "output_type": "execute_result"
    }
   ],
   "source": [
    "len(test)"
   ]
  },
  {
   "cell_type": "code",
   "execution_count": 42,
   "metadata": {},
   "outputs": [
    {
     "data": {
      "text/plain": [
       "(988587, 49)"
      ]
     },
     "execution_count": 42,
     "metadata": {},
     "output_type": "execute_result"
    }
   ],
   "source": [
    "df_train.shape"
   ]
  },
  {
   "cell_type": "code",
   "execution_count": 43,
   "metadata": {},
   "outputs": [
    {
     "data": {
      "text/plain": [
       "(524158, 49)"
      ]
     },
     "execution_count": 43,
     "metadata": {},
     "output_type": "execute_result"
    }
   ],
   "source": [
    "df_test.shape"
   ]
  },
  {
   "cell_type": "markdown",
   "metadata": {},
   "source": [
    "### Exploratory Data Analysis"
   ]
  },
  {
   "cell_type": "code",
   "execution_count": 44,
   "metadata": {},
   "outputs": [],
   "source": [
    "dw_solar_everyday = df_test.groupby(['jday'])['dw_solar'].mean()\n",
    "ghi_everyday = df_test.groupby(['jday'])['ghi'].mean()\n",
    "j_day = df_test['jday'].unique()"
   ]
  },
  {
   "cell_type": "code",
   "execution_count": 45,
   "metadata": {},
   "outputs": [
    {
     "data": {
      "image/png": "[encoded data removed]",
      "text/plain": [
       "<Figure size 432x288 with 1 Axes>"
      ]
     },
     "metadata": {},
     "output_type": "display_data"
    }
   ],
   "source": [
    "fig = plt.figure()\n",
    "\n",
    "axes1 = fig.add_axes([0.1,0.1,0.8,0.8])\n",
    "#axes2 = fig.add_axes([0.1,0.1,0.8,0.8])\n",
    "\n",
    "axes1.scatter(j_day,dw_solar_everyday,label='Observed dw_solar',color='red')\n",
    "axes1.scatter(j_day, ghi_everyday, label='Clear Sky GHI',color='green')\n",
    "\n",
    "axes1.set_xlabel('Days')\n",
    "axes1.set_ylabel('Solar Irradiance (Watts /m^2)')\n",
    "axes1.set_title('Solar Irradiance - Test Year 2009')\n",
    "axes1.legend(loc='best')\n",
    "\n",
    "fig.savefig('Figure2a.png', bbox_inches = 'tight')"
   ]
  },
  {
   "cell_type": "code",
   "execution_count": 46,
   "metadata": {},
   "outputs": [
    {
     "name": "stderr",
     "output_type": "stream",
     "text": [
      "C:\\Users\\s269596\\AppData\\Local\\Continuum\\Anaconda3\\lib\\site-packages\\matplotlib\\axes\\_axes.py:6462: UserWarning: The 'normed' kwarg is deprecated, and has been replaced by the 'density' kwarg.\n",
      "  warnings.warn(\"The 'normed' kwarg is deprecated, and has been \"\n"
     ]
    },
    {
     "data": {
      "image/png": "[encoded data removed]",
      "text/plain": [
       "<Figure size 432x432 with 3 Axes>"
      ]
     },
     "metadata": {},
     "output_type": "display_data"
    }
   ],
   "source": [
    "sns.jointplot(x=dw_solar_everyday,y=ghi_everyday,kind='reg')\n",
    "#plt.title('observed dw_solar vs clear sky ghi')\n",
    "plt.xlabel('Observed global downwelling solar (Watts/m^2)')\n",
    "plt.ylabel('Clear Sky GHI (Watts/m^2)')\n",
    "plt.savefig('Figure3a.png', bbox_inches='tight')"
   ]
  },
  {
   "cell_type": "markdown",
   "metadata": {},
   "source": [
    "### making the Kt (clear sky index at time t) column by first removing rows with ghi==0"
   ]
  },
  {
   "cell_type": "code",
   "execution_count": 47,
   "metadata": {},
   "outputs": [],
   "source": [
    "df_train = df_train[df_train['ghi']!=0]\n",
    "df_test = df_test[df_test['ghi']!=0]\n",
    "df_train['Kt'] = df_train['dw_solar']/df_train['ghi']\n",
    "df_test['Kt'] = df_test['dw_solar']/df_test['ghi']"
   ]
  },
  {
   "cell_type": "code",
   "execution_count": 48,
   "metadata": {},
   "outputs": [],
   "source": [
    "df_train.reset_index(inplace=True)\n",
    "df_test.reset_index(inplace=True)"
   ]
  },
  {
   "cell_type": "code",
   "execution_count": 49,
   "metadata": {},
   "outputs": [
    {
     "name": "stdout",
     "output_type": "stream",
     "text": [
      "test Kt max: 934060.7967236277\n",
      "test Kt min: -1212.4523861041143\n",
      "test Kt mean: 6.087694158417696\n",
      "\n",
      "\n",
      "train Kt max: 36737.73884840597\n",
      "train Kt min: -404.8538655568123\n",
      "train Kt mean: 2.4557778502312537\n"
     ]
    }
   ],
   "source": [
    "print(\"test Kt max: \"+str(df_test['Kt'].max()))\n",
    "print(\"test Kt min: \"+str(df_test['Kt'].min()))\n",
    "print(\"test Kt mean: \"+str(df_test['Kt'].mean()))\n",
    "print(\"\\n\")\n",
    "print(\"train Kt max: \"+str(df_train['Kt'].max()))\n",
    "print(\"train Kt min: \"+str(df_train['Kt'].min()))\n",
    "print(\"train Kt mean: \"+str(df_train['Kt'].mean()))"
   ]
  },
  {
   "cell_type": "code",
   "execution_count": 50,
   "metadata": {},
   "outputs": [
    {
     "data": {
      "text/plain": [
       "[<matplotlib.lines.Line2D at 0x6f3ecc0>]"
      ]
     },
     "execution_count": 50,
     "metadata": {},
     "output_type": "execute_result"
    },
    {
     "data": {
      "image/png": "[encoded data removed]",
      "text/plain": [
       "<Figure size 432x288 with 1 Axes>"
      ]
     },
     "metadata": {},
     "output_type": "display_data"
    }
   ],
   "source": [
    "plt.plot(df_train['Kt'])"
   ]
  },
  {
   "cell_type": "code",
   "execution_count": 51,
   "metadata": {},
   "outputs": [
    {
     "data": {
      "text/plain": [
       "[<matplotlib.lines.Line2D at 0x6edac88>]"
      ]
     },
     "execution_count": 51,
     "metadata": {},
     "output_type": "execute_result"
    },
    {
     "data": {
      "image/png": "[encoded data removed]",
      "text/plain": [
       "<Figure size 432x288 with 1 Axes>"
      ]
     },
     "metadata": {},
     "output_type": "display_data"
    }
   ],
   "source": [
    "plt.plot(df_test['Kt'])"
   ]
  },
  {
   "cell_type": "code",
   "execution_count": 52,
   "metadata": {},
   "outputs": [],
   "source": [
    "df_train= df_train[df_train['Kt']< 5000]\n",
    "df_train= df_train[df_train['Kt']> -1000]\n",
    "df_test= df_test[df_test['Kt']< 5000]\n",
    "df_test= df_test[df_test['Kt']> -1000]"
   ]
  },
  {
   "cell_type": "markdown",
   "metadata": {},
   "source": [
    "#### Group the data (train dataframe)"
   ]
  },
  {
   "cell_type": "code",
   "execution_count": 53,
   "metadata": {},
   "outputs": [],
   "source": [
    "zen = df_train.groupby(['year','month','day','hour'])['zen'].mean()\n",
    "dw_solar = df_train.groupby(['year','month','day','hour'])['dw_solar'].mean()\n",
    "uw_solar = df_train.groupby(['year','month','day','hour'])['uw_solar'].mean()\n",
    "direct_n = df_train.groupby(['year','month','day','hour'])['direct_n'].mean()\n",
    "diffuse = df_train.groupby(['year','month','day','hour'])['diffuse'].mean()\n",
    "dw_ir = df_train.groupby(['year','month','day','hour'])['dw_ir'].mean()\n",
    "dw_casetemp = df_train.groupby(['year','month','day','hour'])['dw_casetemp'].mean()\n",
    "dw_dometemp = df_train.groupby(['year','month','day','hour'])['dw_dometemp'].mean()\n",
    "uw_ir = df_train.groupby(['year','month','day','hour'])['uw_ir'].mean()\n",
    "uw_casetemp = df_train.groupby(['year','month','day','hour'])['uw_casetemp'].mean()\n",
    "uw_dometemp = df_train.groupby(['year','month','day','hour'])['uw_dometemp'].mean()\n",
    "uvb = df_train.groupby(['year','month','day','hour'])['uvb'].mean()\n",
    "par = df_train.groupby(['year','month','day','hour'])['par'].mean()\n",
    "netsolar = df_train.groupby(['year','month','day','hour'])['netsolar'].mean()\n",
    "netir = df_train.groupby(['year','month','day','hour'])['netir'].mean()\n",
    "totalnet = df_train.groupby(['year','month','day','hour'])['totalnet'].mean()\n",
    "temp = df_train.groupby(['year','month','day','hour'])['temp'].mean()\n",
    "rh = df_train.groupby(['year','month','day','hour'])['rh'].mean()\n",
    "windspd = df_train.groupby(['year','month','day','hour'])['windspd'].mean()\n",
    "winddir = df_train.groupby(['year','month','day','hour'])['winddir'].mean()\n",
    "pressure = df_train.groupby(['year','month','day','hour'])['pressure'].mean()\n",
    "ghi = df_train.groupby(['year','month','day','hour'])['ghi'].mean()\n",
    "Kt = df_train.groupby(['year','month','day','hour'])['Kt'].mean()"
   ]
  },
  {
   "cell_type": "code",
   "execution_count": 54,
   "metadata": {},
   "outputs": [],
   "source": [
    "df_new_train = pd.concat([zen,dw_solar,uw_solar,direct_n,diffuse,dw_ir,dw_casetemp,dw_dometemp,uw_ir,uw_casetemp,uw_dometemp,\n",
    "                    uvb,par,netsolar,netir,totalnet,temp,rh,windspd,winddir,pressure,ghi,Kt], axis=1)"
   ]
  },
  {
   "cell_type": "code",
   "execution_count": 55,
   "metadata": {},
   "outputs": [
    {
     "data": {
      "text/html": [
       "<div>\n",
       "<style scoped>\n",
       "    .dataframe tbody tr th:only-of-type {\n",
       "        vertical-align: middle;\n",
       "    }\n",
       "\n",
       "    .dataframe tbody tr th {\n",
       "        vertical-align: top;\n",
       "    }\n",
       "\n",
       "    .dataframe thead th {\n",
       "        text-align: right;\n",
       "    }\n",
       "</style>\n",
       "<table border=\"1\" class=\"dataframe\">\n",
       "  <thead>\n",
       "    <tr style=\"text-align: right;\">\n",
       "      <th></th>\n",
       "      <th></th>\n",
       "      <th></th>\n",
       "      <th></th>\n",
       "      <th>zen</th>\n",
       "      <th>dw_solar</th>\n",
       "      <th>uw_solar</th>\n",
       "      <th>direct_n</th>\n",
       "      <th>diffuse</th>\n",
       "      <th>dw_ir</th>\n",
       "      <th>dw_casetemp</th>\n",
       "      <th>dw_dometemp</th>\n",
       "      <th>uw_ir</th>\n",
       "      <th>uw_casetemp</th>\n",
       "      <th>...</th>\n",
       "      <th>netsolar</th>\n",
       "      <th>netir</th>\n",
       "      <th>totalnet</th>\n",
       "      <th>temp</th>\n",
       "      <th>rh</th>\n",
       "      <th>windspd</th>\n",
       "      <th>winddir</th>\n",
       "      <th>pressure</th>\n",
       "      <th>ghi</th>\n",
       "      <th>Kt</th>\n",
       "    </tr>\n",
       "    <tr>\n",
       "      <th>year</th>\n",
       "      <th>month</th>\n",
       "      <th>day</th>\n",
       "      <th>hour</th>\n",
       "      <th></th>\n",
       "      <th></th>\n",
       "      <th></th>\n",
       "      <th></th>\n",
       "      <th></th>\n",
       "      <th></th>\n",
       "      <th></th>\n",
       "      <th></th>\n",
       "      <th></th>\n",
       "      <th></th>\n",
       "      <th></th>\n",
       "      <th></th>\n",
       "      <th></th>\n",
       "      <th></th>\n",
       "      <th></th>\n",
       "      <th></th>\n",
       "      <th></th>\n",
       "      <th></th>\n",
       "      <th></th>\n",
       "      <th></th>\n",
       "      <th></th>\n",
       "    </tr>\n",
       "  </thead>\n",
       "  <tbody>\n",
       "    <tr>\n",
       "      <th rowspan=\"5\" valign=\"top\">2010.0</th>\n",
       "      <th rowspan=\"5\" valign=\"top\">1.0</th>\n",
       "      <th rowspan=\"5\" valign=\"top\">1.0</th>\n",
       "      <th>6.0</th>\n",
       "      <td>162.750000</td>\n",
       "      <td>229.275124</td>\n",
       "      <td>-1.300000</td>\n",
       "      <td>1.800000</td>\n",
       "      <td>-0.700000</td>\n",
       "      <td>243.300000</td>\n",
       "      <td>276.200000</td>\n",
       "      <td>275.700000</td>\n",
       "      <td>308.800000</td>\n",
       "      <td>274.700000</td>\n",
       "      <td>...</td>\n",
       "      <td>0.0</td>\n",
       "      <td>-65.500000</td>\n",
       "      <td>-65.500000</td>\n",
       "      <td>3.600000</td>\n",
       "      <td>39.000000</td>\n",
       "      <td>1.000000</td>\n",
       "      <td>56.400000</td>\n",
       "      <td>915.400000</td>\n",
       "      <td>8.485002</td>\n",
       "      <td>27.021223</td>\n",
       "    </tr>\n",
       "    <tr>\n",
       "      <th>7.0</th>\n",
       "      <td>165.356667</td>\n",
       "      <td>229.275124</td>\n",
       "      <td>-1.366667</td>\n",
       "      <td>1.018333</td>\n",
       "      <td>-0.885000</td>\n",
       "      <td>241.946667</td>\n",
       "      <td>275.456667</td>\n",
       "      <td>274.983333</td>\n",
       "      <td>307.460000</td>\n",
       "      <td>274.423333</td>\n",
       "      <td>...</td>\n",
       "      <td>0.0</td>\n",
       "      <td>-65.521667</td>\n",
       "      <td>-65.521667</td>\n",
       "      <td>2.268333</td>\n",
       "      <td>41.808333</td>\n",
       "      <td>2.255000</td>\n",
       "      <td>115.338333</td>\n",
       "      <td>915.410000</td>\n",
       "      <td>72.956955</td>\n",
       "      <td>4.371045</td>\n",
       "    </tr>\n",
       "    <tr>\n",
       "      <th>8.0</th>\n",
       "      <td>163.399000</td>\n",
       "      <td>229.275124</td>\n",
       "      <td>-1.450000</td>\n",
       "      <td>0.781667</td>\n",
       "      <td>-0.781667</td>\n",
       "      <td>244.203333</td>\n",
       "      <td>275.143333</td>\n",
       "      <td>274.721667</td>\n",
       "      <td>304.498333</td>\n",
       "      <td>273.966667</td>\n",
       "      <td>...</td>\n",
       "      <td>0.0</td>\n",
       "      <td>-60.288333</td>\n",
       "      <td>-60.288333</td>\n",
       "      <td>1.918333</td>\n",
       "      <td>43.545000</td>\n",
       "      <td>0.883333</td>\n",
       "      <td>167.170000</td>\n",
       "      <td>915.458333</td>\n",
       "      <td>234.169751</td>\n",
       "      <td>1.026259</td>\n",
       "    </tr>\n",
       "    <tr>\n",
       "      <th>9.0</th>\n",
       "      <td>154.172667</td>\n",
       "      <td>229.275124</td>\n",
       "      <td>-1.561667</td>\n",
       "      <td>0.983333</td>\n",
       "      <td>-0.815000</td>\n",
       "      <td>245.158333</td>\n",
       "      <td>274.786667</td>\n",
       "      <td>274.335000</td>\n",
       "      <td>303.886667</td>\n",
       "      <td>273.730000</td>\n",
       "      <td>...</td>\n",
       "      <td>0.0</td>\n",
       "      <td>-58.726667</td>\n",
       "      <td>-58.726667</td>\n",
       "      <td>2.043333</td>\n",
       "      <td>43.063333</td>\n",
       "      <td>1.690000</td>\n",
       "      <td>130.491667</td>\n",
       "      <td>915.133333</td>\n",
       "      <td>388.224711</td>\n",
       "      <td>0.596671</td>\n",
       "    </tr>\n",
       "    <tr>\n",
       "      <th>10.0</th>\n",
       "      <td>142.737000</td>\n",
       "      <td>229.275124</td>\n",
       "      <td>-1.428333</td>\n",
       "      <td>1.516667</td>\n",
       "      <td>-0.661667</td>\n",
       "      <td>256.343333</td>\n",
       "      <td>274.830000</td>\n",
       "      <td>274.453333</td>\n",
       "      <td>305.071667</td>\n",
       "      <td>273.793333</td>\n",
       "      <td>...</td>\n",
       "      <td>0.0</td>\n",
       "      <td>-48.730000</td>\n",
       "      <td>-48.730000</td>\n",
       "      <td>1.671667</td>\n",
       "      <td>44.681667</td>\n",
       "      <td>1.256667</td>\n",
       "      <td>104.535000</td>\n",
       "      <td>915.161667</td>\n",
       "      <td>496.624772</td>\n",
       "      <td>0.462711</td>\n",
       "    </tr>\n",
       "  </tbody>\n",
       "</table>\n",
       "<p>5 rows × 23 columns</p>\n",
       "</div>"
      ],
      "text/plain": [
       "                              zen    dw_solar  uw_solar  direct_n   diffuse  \\\n",
       "year   month day hour                                                         \n",
       "2010.0 1.0   1.0 6.0   162.750000  229.275124 -1.300000  1.800000 -0.700000   \n",
       "                 7.0   165.356667  229.275124 -1.366667  1.018333 -0.885000   \n",
       "                 8.0   163.399000  229.275124 -1.450000  0.781667 -0.781667   \n",
       "                 9.0   154.172667  229.275124 -1.561667  0.983333 -0.815000   \n",
       "                 10.0  142.737000  229.275124 -1.428333  1.516667 -0.661667   \n",
       "\n",
       "                            dw_ir  dw_casetemp  dw_dometemp       uw_ir  \\\n",
       "year   month day hour                                                     \n",
       "2010.0 1.0   1.0 6.0   243.300000   276.200000   275.700000  308.800000   \n",
       "                 7.0   241.946667   275.456667   274.983333  307.460000   \n",
       "                 8.0   244.203333   275.143333   274.721667  304.498333   \n",
       "                 9.0   245.158333   274.786667   274.335000  303.886667   \n",
       "                 10.0  256.343333   274.830000   274.453333  305.071667   \n",
       "\n",
       "                       uw_casetemp    ...      netsolar      netir   totalnet  \\\n",
       "year   month day hour                 ...                                       \n",
       "2010.0 1.0   1.0 6.0    274.700000    ...           0.0 -65.500000 -65.500000   \n",
       "                 7.0    274.423333    ...           0.0 -65.521667 -65.521667   \n",
       "                 8.0    273.966667    ...           0.0 -60.288333 -60.288333   \n",
       "                 9.0    273.730000    ...           0.0 -58.726667 -58.726667   \n",
       "                 10.0   273.793333    ...           0.0 -48.730000 -48.730000   \n",
       "\n",
       "                           temp         rh   windspd     winddir    pressure  \\\n",
       "year   month day hour                                                          \n",
       "2010.0 1.0   1.0 6.0   3.600000  39.000000  1.000000   56.400000  915.400000   \n",
       "                 7.0   2.268333  41.808333  2.255000  115.338333  915.410000   \n",
       "                 8.0   1.918333  43.545000  0.883333  167.170000  915.458333   \n",
       "                 9.0   2.043333  43.063333  1.690000  130.491667  915.133333   \n",
       "                 10.0  1.671667  44.681667  1.256667  104.535000  915.161667   \n",
       "\n",
       "                              ghi         Kt  \n",
       "year   month day hour                         \n",
       "2010.0 1.0   1.0 6.0     8.485002  27.021223  \n",
       "                 7.0    72.956955   4.371045  \n",
       "                 8.0   234.169751   1.026259  \n",
       "                 9.0   388.224711   0.596671  \n",
       "                 10.0  496.624772   0.462711  \n",
       "\n",
       "[5 rows x 23 columns]"
      ]
     },
     "execution_count": 55,
     "metadata": {},
     "output_type": "execute_result"
    }
   ],
   "source": [
    "df_new_train.head()"
   ]
  },
  {
   "cell_type": "markdown",
   "metadata": {},
   "source": [
    "#### Groupdata - test dataframe"
   ]
  },
  {
   "cell_type": "code",
   "execution_count": 56,
   "metadata": {},
   "outputs": [],
   "source": [
    "test_zen = df_test.groupby(['month','day','hour'])['zen'].mean()\n",
    "test_dw_solar = df_test.groupby(['month','day','hour'])['dw_solar'].mean()\n",
    "test_uw_solar = df_test.groupby(['month','day','hour'])['uw_solar'].mean()\n",
    "test_direct_n = df_test.groupby(['month','day','hour'])['direct_n'].mean()\n",
    "test_diffuse = df_test.groupby(['month','day','hour'])['diffuse'].mean()\n",
    "test_dw_ir = df_test.groupby(['month','day','hour'])['dw_ir'].mean()\n",
    "test_dw_casetemp = df_test.groupby(['month','day','hour'])['dw_casetemp'].mean()\n",
    "test_dw_dometemp = df_test.groupby(['month','day','hour'])['dw_dometemp'].mean()\n",
    "test_uw_ir = df_test.groupby(['month','day','hour'])['uw_ir'].mean()\n",
    "test_uw_casetemp = df_test.groupby(['month','day','hour'])['uw_casetemp'].mean()\n",
    "test_uw_dometemp = df_test.groupby(['month','day','hour'])['uw_dometemp'].mean()\n",
    "test_uvb = df_test.groupby(['month','day','hour'])['uvb'].mean()\n",
    "test_par = df_test.groupby(['month','day','hour'])['par'].mean()\n",
    "test_netsolar = df_test.groupby(['month','day','hour'])['netsolar'].mean()\n",
    "test_netir = df_test.groupby(['month','day','hour'])['netir'].mean()\n",
    "test_totalnet = df_test.groupby(['month','day','hour'])['totalnet'].mean()\n",
    "test_temp = df_test.groupby(['month','day','hour'])['temp'].mean()\n",
    "test_rh = df_test.groupby(['month','day','hour'])['rh'].mean()\n",
    "test_windspd = df_test.groupby(['month','day','hour'])['windspd'].mean()\n",
    "test_winddir = df_test.groupby(['month','day','hour'])['winddir'].mean()\n",
    "test_pressure = df_test.groupby(['month','day','hour'])['pressure'].mean()\n",
    "test_ghi = df_test.groupby(['month','day','hour'])['ghi'].mean()\n",
    "test_Kt = df_test.groupby(['month','day','hour'])['Kt'].mean()"
   ]
  },
  {
   "cell_type": "code",
   "execution_count": 57,
   "metadata": {},
   "outputs": [],
   "source": [
    "df_new_test = pd.concat([test_zen,test_dw_solar,test_uw_solar,test_direct_n,test_diffuse,test_dw_ir,\n",
    "                         test_dw_casetemp,test_dw_dometemp,test_uw_ir,test_uw_casetemp,test_uw_dometemp,\n",
    "                    test_uvb,test_par,test_netsolar,test_netir,test_totalnet,test_temp,test_rh,\n",
    "                         test_windspd,test_winddir,test_pressure,test_ghi,test_Kt], axis=1)"
   ]
  },
  {
   "cell_type": "code",
   "execution_count": 58,
   "metadata": {},
   "outputs": [
    {
     "data": {
      "text/html": [
       "<div>\n",
       "<style scoped>\n",
       "    .dataframe tbody tr th:only-of-type {\n",
       "        vertical-align: middle;\n",
       "    }\n",
       "\n",
       "    .dataframe tbody tr th {\n",
       "        vertical-align: top;\n",
       "    }\n",
       "\n",
       "    .dataframe thead th {\n",
       "        text-align: right;\n",
       "    }\n",
       "</style>\n",
       "<table border=\"1\" class=\"dataframe\">\n",
       "  <thead>\n",
       "    <tr style=\"text-align: right;\">\n",
       "      <th></th>\n",
       "      <th>zen</th>\n",
       "      <th>dw_solar</th>\n",
       "      <th>uw_solar</th>\n",
       "      <th>direct_n</th>\n",
       "      <th>diffuse</th>\n",
       "      <th>dw_ir</th>\n",
       "      <th>dw_casetemp</th>\n",
       "      <th>dw_dometemp</th>\n",
       "      <th>uw_ir</th>\n",
       "      <th>uw_casetemp</th>\n",
       "      <th>...</th>\n",
       "      <th>netsolar</th>\n",
       "      <th>netir</th>\n",
       "      <th>totalnet</th>\n",
       "      <th>temp</th>\n",
       "      <th>rh</th>\n",
       "      <th>windspd</th>\n",
       "      <th>winddir</th>\n",
       "      <th>pressure</th>\n",
       "      <th>ghi</th>\n",
       "      <th>Kt</th>\n",
       "    </tr>\n",
       "    <tr>\n",
       "      <th>hour</th>\n",
       "      <th></th>\n",
       "      <th></th>\n",
       "      <th></th>\n",
       "      <th></th>\n",
       "      <th></th>\n",
       "      <th></th>\n",
       "      <th></th>\n",
       "      <th></th>\n",
       "      <th></th>\n",
       "      <th></th>\n",
       "      <th></th>\n",
       "      <th></th>\n",
       "      <th></th>\n",
       "      <th></th>\n",
       "      <th></th>\n",
       "      <th></th>\n",
       "      <th></th>\n",
       "      <th></th>\n",
       "      <th></th>\n",
       "      <th></th>\n",
       "      <th></th>\n",
       "    </tr>\n",
       "  </thead>\n",
       "  <tbody>\n",
       "    <tr>\n",
       "      <th>6.0</th>\n",
       "      <td>150.286429</td>\n",
       "      <td>-5.457143</td>\n",
       "      <td>4.758099e-17</td>\n",
       "      <td>-0.175000</td>\n",
       "      <td>-0.053571</td>\n",
       "      <td>238.189286</td>\n",
       "      <td>280.017857</td>\n",
       "      <td>279.328571</td>\n",
       "      <td>327.503571</td>\n",
       "      <td>278.535714</td>\n",
       "      <td>...</td>\n",
       "      <td>0.000000</td>\n",
       "      <td>-89.325000</td>\n",
       "      <td>-89.325000</td>\n",
       "      <td>5.610714</td>\n",
       "      <td>61.664286</td>\n",
       "      <td>10.210714</td>\n",
       "      <td>198.364286</td>\n",
       "      <td>895.860714</td>\n",
       "      <td>33.869158</td>\n",
       "      <td>-0.199644</td>\n",
       "    </tr>\n",
       "    <tr>\n",
       "      <th>7.0</th>\n",
       "      <td>154.152333</td>\n",
       "      <td>-5.783333</td>\n",
       "      <td>-3.450000e-01</td>\n",
       "      <td>0.123333</td>\n",
       "      <td>-0.021667</td>\n",
       "      <td>238.683333</td>\n",
       "      <td>279.945000</td>\n",
       "      <td>279.300000</td>\n",
       "      <td>327.176667</td>\n",
       "      <td>278.526667</td>\n",
       "      <td>...</td>\n",
       "      <td>0.000000</td>\n",
       "      <td>-88.500000</td>\n",
       "      <td>-88.500000</td>\n",
       "      <td>5.720000</td>\n",
       "      <td>59.485000</td>\n",
       "      <td>9.733333</td>\n",
       "      <td>198.575000</td>\n",
       "      <td>896.445000</td>\n",
       "      <td>156.492998</td>\n",
       "      <td>-0.043188</td>\n",
       "    </tr>\n",
       "    <tr>\n",
       "      <th>8.0</th>\n",
       "      <td>154.031833</td>\n",
       "      <td>-5.948333</td>\n",
       "      <td>-2.000000e-01</td>\n",
       "      <td>-0.068333</td>\n",
       "      <td>0.016667</td>\n",
       "      <td>234.365000</td>\n",
       "      <td>279.816667</td>\n",
       "      <td>279.126667</td>\n",
       "      <td>325.691667</td>\n",
       "      <td>278.390000</td>\n",
       "      <td>...</td>\n",
       "      <td>0.000000</td>\n",
       "      <td>-91.336667</td>\n",
       "      <td>-91.336667</td>\n",
       "      <td>5.523333</td>\n",
       "      <td>57.200000</td>\n",
       "      <td>9.743333</td>\n",
       "      <td>206.088333</td>\n",
       "      <td>897.225000</td>\n",
       "      <td>358.157279</td>\n",
       "      <td>-0.016985</td>\n",
       "    </tr>\n",
       "    <tr>\n",
       "      <th>9.0</th>\n",
       "      <td>147.761500</td>\n",
       "      <td>-6.048333</td>\n",
       "      <td>-2.966667e-01</td>\n",
       "      <td>0.083333</td>\n",
       "      <td>0.048333</td>\n",
       "      <td>234.465000</td>\n",
       "      <td>279.631667</td>\n",
       "      <td>278.981667</td>\n",
       "      <td>324.173333</td>\n",
       "      <td>278.226667</td>\n",
       "      <td>...</td>\n",
       "      <td>0.000000</td>\n",
       "      <td>-89.698333</td>\n",
       "      <td>-89.698333</td>\n",
       "      <td>5.428333</td>\n",
       "      <td>54.283333</td>\n",
       "      <td>7.906667</td>\n",
       "      <td>204.571667</td>\n",
       "      <td>898.161667</td>\n",
       "      <td>534.190398</td>\n",
       "      <td>-0.011397</td>\n",
       "    </tr>\n",
       "    <tr>\n",
       "      <th>10.0</th>\n",
       "      <td>137.994833</td>\n",
       "      <td>-6.270000</td>\n",
       "      <td>-2.583333e-01</td>\n",
       "      <td>0.140000</td>\n",
       "      <td>0.168333</td>\n",
       "      <td>233.670000</td>\n",
       "      <td>279.040000</td>\n",
       "      <td>278.473333</td>\n",
       "      <td>321.188333</td>\n",
       "      <td>277.590000</td>\n",
       "      <td>...</td>\n",
       "      <td>0.000000</td>\n",
       "      <td>-87.516667</td>\n",
       "      <td>-87.516667</td>\n",
       "      <td>4.856667</td>\n",
       "      <td>58.343333</td>\n",
       "      <td>4.830000</td>\n",
       "      <td>221.958333</td>\n",
       "      <td>898.420000</td>\n",
       "      <td>660.519935</td>\n",
       "      <td>-0.009504</td>\n",
       "    </tr>\n",
       "    <tr>\n",
       "      <th>11.0</th>\n",
       "      <td>126.708167</td>\n",
       "      <td>-6.398333</td>\n",
       "      <td>-4.233333e-01</td>\n",
       "      <td>0.073333</td>\n",
       "      <td>0.118333</td>\n",
       "      <td>232.613333</td>\n",
       "      <td>278.768333</td>\n",
       "      <td>278.190000</td>\n",
       "      <td>318.916667</td>\n",
       "      <td>277.463333</td>\n",
       "      <td>...</td>\n",
       "      <td>0.000000</td>\n",
       "      <td>-86.303333</td>\n",
       "      <td>-86.303333</td>\n",
       "      <td>4.821667</td>\n",
       "      <td>56.403333</td>\n",
       "      <td>3.730000</td>\n",
       "      <td>242.768333</td>\n",
       "      <td>898.488333</td>\n",
       "      <td>725.681709</td>\n",
       "      <td>-0.008817</td>\n",
       "    </tr>\n",
       "    <tr>\n",
       "      <th>12.0</th>\n",
       "      <td>114.824167</td>\n",
       "      <td>-6.381667</td>\n",
       "      <td>-4.466667e-01</td>\n",
       "      <td>0.233333</td>\n",
       "      <td>0.161667</td>\n",
       "      <td>231.091667</td>\n",
       "      <td>277.991667</td>\n",
       "      <td>277.468333</td>\n",
       "      <td>317.415000</td>\n",
       "      <td>276.856667</td>\n",
       "      <td>...</td>\n",
       "      <td>0.000000</td>\n",
       "      <td>-86.321667</td>\n",
       "      <td>-86.321667</td>\n",
       "      <td>4.230000</td>\n",
       "      <td>57.873333</td>\n",
       "      <td>4.493333</td>\n",
       "      <td>240.988333</td>\n",
       "      <td>898.961667</td>\n",
       "      <td>724.381774</td>\n",
       "      <td>-0.008812</td>\n",
       "    </tr>\n",
       "    <tr>\n",
       "      <th>13.0</th>\n",
       "      <td>102.804000</td>\n",
       "      <td>-6.466667</td>\n",
       "      <td>-3.716667e-01</td>\n",
       "      <td>0.581667</td>\n",
       "      <td>0.128333</td>\n",
       "      <td>231.006667</td>\n",
       "      <td>277.816667</td>\n",
       "      <td>277.293333</td>\n",
       "      <td>317.900000</td>\n",
       "      <td>276.565000</td>\n",
       "      <td>...</td>\n",
       "      <td>0.000000</td>\n",
       "      <td>-86.886667</td>\n",
       "      <td>-86.886667</td>\n",
       "      <td>3.931667</td>\n",
       "      <td>59.148333</td>\n",
       "      <td>4.121667</td>\n",
       "      <td>251.095000</td>\n",
       "      <td>899.751667</td>\n",
       "      <td>656.728953</td>\n",
       "      <td>-0.009876</td>\n",
       "    </tr>\n",
       "    <tr>\n",
       "      <th>14.0</th>\n",
       "      <td>90.783167</td>\n",
       "      <td>4.851667</td>\n",
       "      <td>2.676667e+00</td>\n",
       "      <td>113.013333</td>\n",
       "      <td>7.931667</td>\n",
       "      <td>232.438333</td>\n",
       "      <td>278.385000</td>\n",
       "      <td>277.873333</td>\n",
       "      <td>319.696667</td>\n",
       "      <td>276.965000</td>\n",
       "      <td>...</td>\n",
       "      <td>11.883333</td>\n",
       "      <td>-87.261667</td>\n",
       "      <td>-75.386667</td>\n",
       "      <td>4.480000</td>\n",
       "      <td>54.673333</td>\n",
       "      <td>4.691667</td>\n",
       "      <td>230.323333</td>\n",
       "      <td>900.423333</td>\n",
       "      <td>528.243267</td>\n",
       "      <td>0.011476</td>\n",
       "    </tr>\n",
       "    <tr>\n",
       "      <th>15.0</th>\n",
       "      <td>79.467333</td>\n",
       "      <td>134.226667</td>\n",
       "      <td>2.904833e+01</td>\n",
       "      <td>583.338333</td>\n",
       "      <td>46.980000</td>\n",
       "      <td>236.191667</td>\n",
       "      <td>280.461667</td>\n",
       "      <td>279.906667</td>\n",
       "      <td>325.915000</td>\n",
       "      <td>277.828333</td>\n",
       "      <td>...</td>\n",
       "      <td>123.505000</td>\n",
       "      <td>-89.710000</td>\n",
       "      <td>33.791667</td>\n",
       "      <td>5.283333</td>\n",
       "      <td>51.800000</td>\n",
       "      <td>3.570000</td>\n",
       "      <td>233.085000</td>\n",
       "      <td>901.383333</td>\n",
       "      <td>350.685281</td>\n",
       "      <td>0.411660</td>\n",
       "    </tr>\n",
       "    <tr>\n",
       "      <th>16.0</th>\n",
       "      <td>68.964167</td>\n",
       "      <td>355.316667</td>\n",
       "      <td>7.125333e+01</td>\n",
       "      <td>835.673333</td>\n",
       "      <td>65.670000</td>\n",
       "      <td>238.995000</td>\n",
       "      <td>283.240000</td>\n",
       "      <td>282.521667</td>\n",
       "      <td>346.746667</td>\n",
       "      <td>279.658333</td>\n",
       "      <td>...</td>\n",
       "      <td>294.840000</td>\n",
       "      <td>-107.756667</td>\n",
       "      <td>187.081667</td>\n",
       "      <td>6.493333</td>\n",
       "      <td>47.625000</td>\n",
       "      <td>5.473333</td>\n",
       "      <td>193.385000</td>\n",
       "      <td>902.025000</td>\n",
       "      <td>149.085976</td>\n",
       "      <td>3.013727</td>\n",
       "    </tr>\n",
       "    <tr>\n",
       "      <th>17.0</th>\n",
       "      <td>62.158462</td>\n",
       "      <td>500.811538</td>\n",
       "      <td>9.932308e+01</td>\n",
       "      <td>911.876923</td>\n",
       "      <td>77.473077</td>\n",
       "      <td>241.038462</td>\n",
       "      <td>284.615385</td>\n",
       "      <td>283.865385</td>\n",
       "      <td>363.803846</td>\n",
       "      <td>280.730769</td>\n",
       "      <td>...</td>\n",
       "      <td>404.415385</td>\n",
       "      <td>-122.773077</td>\n",
       "      <td>281.650000</td>\n",
       "      <td>7.173077</td>\n",
       "      <td>46.588462</td>\n",
       "      <td>5.292308</td>\n",
       "      <td>201.319231</td>\n",
       "      <td>902.446154</td>\n",
       "      <td>31.373484</td>\n",
       "      <td>21.307784</td>\n",
       "    </tr>\n",
       "  </tbody>\n",
       "</table>\n",
       "<p>12 rows × 23 columns</p>\n",
       "</div>"
      ],
      "text/plain": [
       "             zen    dw_solar      uw_solar    direct_n    diffuse       dw_ir  \\\n",
       "hour                                                                            \n",
       "6.0   150.286429   -5.457143  4.758099e-17   -0.175000  -0.053571  238.189286   \n",
       "7.0   154.152333   -5.783333 -3.450000e-01    0.123333  -0.021667  238.683333   \n",
       "8.0   154.031833   -5.948333 -2.000000e-01   -0.068333   0.016667  234.365000   \n",
       "9.0   147.761500   -6.048333 -2.966667e-01    0.083333   0.048333  234.465000   \n",
       "10.0  137.994833   -6.270000 -2.583333e-01    0.140000   0.168333  233.670000   \n",
       "11.0  126.708167   -6.398333 -4.233333e-01    0.073333   0.118333  232.613333   \n",
       "12.0  114.824167   -6.381667 -4.466667e-01    0.233333   0.161667  231.091667   \n",
       "13.0  102.804000   -6.466667 -3.716667e-01    0.581667   0.128333  231.006667   \n",
       "14.0   90.783167    4.851667  2.676667e+00  113.013333   7.931667  232.438333   \n",
       "15.0   79.467333  134.226667  2.904833e+01  583.338333  46.980000  236.191667   \n",
       "16.0   68.964167  355.316667  7.125333e+01  835.673333  65.670000  238.995000   \n",
       "17.0   62.158462  500.811538  9.932308e+01  911.876923  77.473077  241.038462   \n",
       "\n",
       "      dw_casetemp  dw_dometemp       uw_ir  uw_casetemp    ...      \\\n",
       "hour                                                       ...       \n",
       "6.0    280.017857   279.328571  327.503571   278.535714    ...       \n",
       "7.0    279.945000   279.300000  327.176667   278.526667    ...       \n",
       "8.0    279.816667   279.126667  325.691667   278.390000    ...       \n",
       "9.0    279.631667   278.981667  324.173333   278.226667    ...       \n",
       "10.0   279.040000   278.473333  321.188333   277.590000    ...       \n",
       "11.0   278.768333   278.190000  318.916667   277.463333    ...       \n",
       "12.0   277.991667   277.468333  317.415000   276.856667    ...       \n",
       "13.0   277.816667   277.293333  317.900000   276.565000    ...       \n",
       "14.0   278.385000   277.873333  319.696667   276.965000    ...       \n",
       "15.0   280.461667   279.906667  325.915000   277.828333    ...       \n",
       "16.0   283.240000   282.521667  346.746667   279.658333    ...       \n",
       "17.0   284.615385   283.865385  363.803846   280.730769    ...       \n",
       "\n",
       "        netsolar       netir    totalnet      temp         rh    windspd  \\\n",
       "hour                                                                       \n",
       "6.0     0.000000  -89.325000  -89.325000  5.610714  61.664286  10.210714   \n",
       "7.0     0.000000  -88.500000  -88.500000  5.720000  59.485000   9.733333   \n",
       "8.0     0.000000  -91.336667  -91.336667  5.523333  57.200000   9.743333   \n",
       "9.0     0.000000  -89.698333  -89.698333  5.428333  54.283333   7.906667   \n",
       "10.0    0.000000  -87.516667  -87.516667  4.856667  58.343333   4.830000   \n",
       "11.0    0.000000  -86.303333  -86.303333  4.821667  56.403333   3.730000   \n",
       "12.0    0.000000  -86.321667  -86.321667  4.230000  57.873333   4.493333   \n",
       "13.0    0.000000  -86.886667  -86.886667  3.931667  59.148333   4.121667   \n",
       "14.0   11.883333  -87.261667  -75.386667  4.480000  54.673333   4.691667   \n",
       "15.0  123.505000  -89.710000   33.791667  5.283333  51.800000   3.570000   \n",
       "16.0  294.840000 -107.756667  187.081667  6.493333  47.625000   5.473333   \n",
       "17.0  404.415385 -122.773077  281.650000  7.173077  46.588462   5.292308   \n",
       "\n",
       "         winddir    pressure         ghi         Kt  \n",
       "hour                                                 \n",
       "6.0   198.364286  895.860714   33.869158  -0.199644  \n",
       "7.0   198.575000  896.445000  156.492998  -0.043188  \n",
       "8.0   206.088333  897.225000  358.157279  -0.016985  \n",
       "9.0   204.571667  898.161667  534.190398  -0.011397  \n",
       "10.0  221.958333  898.420000  660.519935  -0.009504  \n",
       "11.0  242.768333  898.488333  725.681709  -0.008817  \n",
       "12.0  240.988333  898.961667  724.381774  -0.008812  \n",
       "13.0  251.095000  899.751667  656.728953  -0.009876  \n",
       "14.0  230.323333  900.423333  528.243267   0.011476  \n",
       "15.0  233.085000  901.383333  350.685281   0.411660  \n",
       "16.0  193.385000  902.025000  149.085976   3.013727  \n",
       "17.0  201.319231  902.446154   31.373484  21.307784  \n",
       "\n",
       "[12 rows x 23 columns]"
      ]
     },
     "execution_count": 58,
     "metadata": {},
     "output_type": "execute_result"
    }
   ],
   "source": [
    "df_new_test.loc[2].xs(17,level='day')"
   ]
  },
  {
   "cell_type": "markdown",
   "metadata": {},
   "source": [
    "### Shifting Kt values to make 1 hour ahead forecast"
   ]
  },
  {
   "cell_type": "markdown",
   "metadata": {},
   "source": [
    "#### Train dataset"
   ]
  },
  {
   "cell_type": "code",
   "execution_count": 59,
   "metadata": {},
   "outputs": [],
   "source": [
    "levels_index= []\n",
    "for m in df_new_train.index.levels:\n",
    "    levels_index.append(m)"
   ]
  },
  {
   "cell_type": "code",
   "execution_count": 60,
   "metadata": {
    "scrolled": true
   },
   "outputs": [],
   "source": [
    "for i in levels_index[0]:\n",
    "    for j in levels_index[1]:\n",
    "        df_new_train.loc[i].loc[j]['Kt'] = df_new_train.loc[i].loc[j]['Kt'].shift(-2)"
   ]
  },
  {
   "cell_type": "code",
   "execution_count": 61,
   "metadata": {},
   "outputs": [],
   "source": [
    "df_new_train = df_new_train[~(df_new_train['Kt'].isnull())]"
   ]
  },
  {
   "cell_type": "markdown",
   "metadata": {},
   "source": [
    "#### Test dataset"
   ]
  },
  {
   "cell_type": "code",
   "execution_count": 62,
   "metadata": {},
   "outputs": [],
   "source": [
    "levels_index2= []\n",
    "for m in df_new_test.index.levels:\n",
    "    levels_index2.append(m)"
   ]
  },
  {
   "cell_type": "code",
   "execution_count": 63,
   "metadata": {},
   "outputs": [],
   "source": [
    "for i in levels_index2[0]:\n",
    "    for j in levels_index2[1]:\n",
    "        df_new_test.loc[i].loc[j]['Kt'] = df_new_test.loc[i].loc[j]['Kt'].shift(-2)"
   ]
  },
  {
   "cell_type": "code",
   "execution_count": 64,
   "metadata": {},
   "outputs": [],
   "source": [
    "df_new_test = df_new_test[~(df_new_test['Kt'].isnull())]"
   ]
  },
  {
   "cell_type": "code",
   "execution_count": 65,
   "metadata": {},
   "outputs": [
    {
     "data": {
      "text/html": [
       "<div>\n",
       "<style scoped>\n",
       "    .dataframe tbody tr th:only-of-type {\n",
       "        vertical-align: middle;\n",
       "    }\n",
       "\n",
       "    .dataframe tbody tr th {\n",
       "        vertical-align: top;\n",
       "    }\n",
       "\n",
       "    .dataframe thead th {\n",
       "        text-align: right;\n",
       "    }\n",
       "</style>\n",
       "<table border=\"1\" class=\"dataframe\">\n",
       "  <thead>\n",
       "    <tr style=\"text-align: right;\">\n",
       "      <th></th>\n",
       "      <th></th>\n",
       "      <th></th>\n",
       "      <th>zen</th>\n",
       "      <th>dw_solar</th>\n",
       "      <th>uw_solar</th>\n",
       "      <th>direct_n</th>\n",
       "      <th>diffuse</th>\n",
       "      <th>dw_ir</th>\n",
       "      <th>dw_casetemp</th>\n",
       "      <th>dw_dometemp</th>\n",
       "      <th>uw_ir</th>\n",
       "      <th>uw_casetemp</th>\n",
       "      <th>...</th>\n",
       "      <th>netsolar</th>\n",
       "      <th>netir</th>\n",
       "      <th>totalnet</th>\n",
       "      <th>temp</th>\n",
       "      <th>rh</th>\n",
       "      <th>windspd</th>\n",
       "      <th>winddir</th>\n",
       "      <th>pressure</th>\n",
       "      <th>ghi</th>\n",
       "      <th>Kt</th>\n",
       "    </tr>\n",
       "    <tr>\n",
       "      <th>month</th>\n",
       "      <th>day</th>\n",
       "      <th>hour</th>\n",
       "      <th></th>\n",
       "      <th></th>\n",
       "      <th></th>\n",
       "      <th></th>\n",
       "      <th></th>\n",
       "      <th></th>\n",
       "      <th></th>\n",
       "      <th></th>\n",
       "      <th></th>\n",
       "      <th></th>\n",
       "      <th></th>\n",
       "      <th></th>\n",
       "      <th></th>\n",
       "      <th></th>\n",
       "      <th></th>\n",
       "      <th></th>\n",
       "      <th></th>\n",
       "      <th></th>\n",
       "      <th></th>\n",
       "      <th></th>\n",
       "      <th></th>\n",
       "    </tr>\n",
       "  </thead>\n",
       "  <tbody>\n",
       "    <tr>\n",
       "      <th>7.0</th>\n",
       "      <th>16.0</th>\n",
       "      <th>18.0</th>\n",
       "      <td>23.523667</td>\n",
       "      <td>978.9</td>\n",
       "      <td>196.528333</td>\n",
       "      <td>928.071667</td>\n",
       "      <td>92.3</td>\n",
       "      <td>389.115</td>\n",
       "      <td>315.621667</td>\n",
       "      <td>314.831667</td>\n",
       "      <td>636.071667</td>\n",
       "      <td>312.423333</td>\n",
       "      <td>...</td>\n",
       "      <td>745.785</td>\n",
       "      <td>-246.948333</td>\n",
       "      <td>498.83</td>\n",
       "      <td>36.74</td>\n",
       "      <td>11.503333</td>\n",
       "      <td>5.58</td>\n",
       "      <td>223.173333</td>\n",
       "      <td>903.661667</td>\n",
       "      <td>236.172256</td>\n",
       "      <td>4900.219009</td>\n",
       "    </tr>\n",
       "  </tbody>\n",
       "</table>\n",
       "<p>1 rows × 23 columns</p>\n",
       "</div>"
      ],
      "text/plain": [
       "                       zen  dw_solar    uw_solar    direct_n  diffuse  \\\n",
       "month day  hour                                                         \n",
       "7.0   16.0 18.0  23.523667     978.9  196.528333  928.071667     92.3   \n",
       "\n",
       "                   dw_ir  dw_casetemp  dw_dometemp       uw_ir  uw_casetemp  \\\n",
       "month day  hour                                                               \n",
       "7.0   16.0 18.0  389.115   315.621667   314.831667  636.071667   312.423333   \n",
       "\n",
       "                    ...       netsolar       netir  totalnet   temp  \\\n",
       "month day  hour     ...                                               \n",
       "7.0   16.0 18.0     ...        745.785 -246.948333    498.83  36.74   \n",
       "\n",
       "                        rh  windspd     winddir    pressure         ghi  \\\n",
       "month day  hour                                                           \n",
       "7.0   16.0 18.0  11.503333     5.58  223.173333  903.661667  236.172256   \n",
       "\n",
       "                          Kt  \n",
       "month day  hour               \n",
       "7.0   16.0 18.0  4900.219009  \n",
       "\n",
       "[1 rows x 23 columns]"
      ]
     },
     "execution_count": 65,
     "metadata": {},
     "output_type": "execute_result"
    }
   ],
   "source": [
    "df_new_test[df_new_test['Kt']==df_new_test['Kt'].max()]"
   ]
  },
  {
   "cell_type": "markdown",
   "metadata": {},
   "source": [
    "### Normalize train and test dataframe"
   ]
  },
  {
   "cell_type": "code",
   "execution_count": 66,
   "metadata": {},
   "outputs": [],
   "source": [
    "train_norm = (df_new_train - df_new_train.mean()) / (df_new_train.max() - df_new_train.min())\n",
    "test_norm =  (df_new_test - df_new_test.mean()) / (df_new_test.max() - df_new_test.min())"
   ]
  },
  {
   "cell_type": "code",
   "execution_count": 67,
   "metadata": {},
   "outputs": [],
   "source": [
    "train_norm.reset_index(inplace=True,drop=True)\n",
    "test_norm.reset_index(inplace=True,drop=True)"
   ]
  },
  {
   "cell_type": "markdown",
   "metadata": {
    "collapsed": true
   },
   "source": [
    "### Making train and test sets with train_norm and test_norm"
   ]
  },
  {
   "cell_type": "markdown",
   "metadata": {
    "collapsed": true
   },
   "source": [
    "#### finding the gcf (greatest common factor) of train and test dataset's length and chop off the extra rows to make it divisible with the batchsize"
   ]
  },
  {
   "cell_type": "code",
   "execution_count": 68,
   "metadata": {},
   "outputs": [
    {
     "name": "stderr",
     "output_type": "stream",
     "text": [
      "C:\\Users\\s269596\\AppData\\Local\\Continuum\\Anaconda3\\lib\\site-packages\\ipykernel_launcher.py:2: DeprecationWarning: fractions.gcd() is deprecated. Use math.gcd() instead.\n",
      "  \n"
     ]
    },
    {
     "data": {
      "text/plain": [
       "1"
      ]
     },
     "execution_count": 68,
     "metadata": {},
     "output_type": "execute_result"
    }
   ],
   "source": [
    "from fractions import gcd\n",
    "gcd(train_norm.shape[0],test_norm.shape[0])"
   ]
  },
  {
   "cell_type": "code",
   "execution_count": 69,
   "metadata": {},
   "outputs": [],
   "source": [
    "import math\n",
    "def roundup(x):\n",
    "    return int(math.ceil(x / 100.0)) * 100"
   ]
  },
  {
   "cell_type": "code",
   "execution_count": 70,
   "metadata": {},
   "outputs": [],
   "source": [
    "train_lim = roundup(train_norm.shape[0])\n",
    "test_lim = roundup(test_norm.shape[0])\n",
    "\n",
    "train_random = train_norm.sample(train_lim-train_norm.shape[0])\n",
    "test_random = test_norm.sample(test_lim-test_norm.shape[0])\n",
    "\n",
    "train_norm = train_norm.append(train_random)\n",
    "test_norm = test_norm.append(test_random)"
   ]
  },
  {
   "cell_type": "code",
   "execution_count": 71,
   "metadata": {},
   "outputs": [],
   "source": [
    "X1 = train_norm.drop('Kt',axis=1)\n",
    "y1 = train_norm['Kt']\n",
    "\n",
    "X2 = test_norm.drop('Kt',axis=1)\n",
    "y2 = test_norm['Kt']"
   ]
  },
  {
   "cell_type": "code",
   "execution_count": 72,
   "metadata": {
    "scrolled": true
   },
   "outputs": [
    {
     "name": "stdout",
     "output_type": "stream",
     "text": [
      "X1_train shape is (9000, 22)\n",
      "y1_train shape is (9000,)\n",
      "X2_test shape is (4100, 22)\n",
      "y2_test shape is (4100,)\n"
     ]
    }
   ],
   "source": [
    "print(\"X1_train shape is {}\".format(X1.shape))\n",
    "print(\"y1_train shape is {}\".format(y1.shape))\n",
    "print(\"X2_test shape is {}\".format(X2.shape))\n",
    "print(\"y2_test shape is {}\".format(y2.shape))"
   ]
  },
  {
   "cell_type": "code",
   "execution_count": 73,
   "metadata": {},
   "outputs": [],
   "source": [
    "X_train = np.array(X1)\n",
    "y_train  = np.array(y1)\n",
    "X_test = np.array(X2)\n",
    "y_test = np.array(y2)"
   ]
  },
  {
   "cell_type": "markdown",
   "metadata": {},
   "source": [
    "### start of RNN"
   ]
  },
  {
   "cell_type": "code",
   "execution_count": 74,
   "metadata": {},
   "outputs": [],
   "source": [
    "import torch\n",
    "import torch.nn as nn\n",
    "import torchvision.transforms as transforms\n",
    "import torchvision.datasets as dsets\n",
    "from torch.autograd import Variable"
   ]
  },
  {
   "cell_type": "code",
   "execution_count": 75,
   "metadata": {},
   "outputs": [],
   "source": [
    "class RNNModel(nn.Module):\n",
    "    def __init__(self, input_dim, hidden_dim, layer_dim, output_dim):\n",
    "        super(RNNModel, self).__init__()\n",
    "        #Hidden Dimension\n",
    "        self.hidden_dim = hidden_dim\n",
    "        \n",
    "        # Number of hidden layers\n",
    "        self.layer_dim = layer_dim\n",
    "        \n",
    "        #Building the RNN\n",
    "        self.rnn = nn.RNN(input_dim, hidden_dim, layer_dim, batch_first=True, nonlinearity='relu')\n",
    "        \n",
    "        # Readout layer\n",
    "        self.fc = nn.Linear(hidden_dim, output_dim)\n",
    "        \n",
    "    def forward(self, x):\n",
    "        # Initializing the hidden state with zeros\n",
    "        # (layer_dim, batch_size, hidden_dim)\n",
    "        h0 = Variable(torch.zeros(self.layer_dim, x.size(0), self.hidden_dim))\n",
    "        \n",
    "        #One time step (the last one perhaps?)\n",
    "        out, hn = self.rnn(x, h0)\n",
    "        \n",
    "        # Indexing hidden state of the last time step\n",
    "        # out.size() --> ??\n",
    "        #out[:,-1,:] --> is it going to be 100,100\n",
    "        out = self.fc(out[:,-1,:])\n",
    "        # out.size() --> 100,1\n",
    "        return out\n",
    "        "
   ]
  },
  {
   "cell_type": "code",
   "execution_count": 76,
   "metadata": {},
   "outputs": [],
   "source": [
    "# Instantiating Model Class\n",
    "input_dim = 22\n",
    "hidden_dim = 15\n",
    "layer_dim = 1\n",
    "output_dim = 1\n",
    "batch_size = 100\n",
    "\n",
    "model = RNNModel(input_dim, hidden_dim, layer_dim, output_dim)\n",
    "\n",
    "# Instantiating Loss Class\n",
    "criterion = nn.MSELoss()\n",
    "\n",
    "# Instantiate Optimizer Class\n",
    "learning_rate = 0.001\n",
    "optimizer = torch.optim.SGD(model.parameters(), lr=learning_rate)\n",
    "\n",
    "# converting numpy array to torch tensor\n",
    "X_train = torch.from_numpy(X_train)\n",
    "y_train = torch.from_numpy(y_train)\n",
    "X_test = torch.from_numpy(X_test)\n",
    "y_test = torch.from_numpy(y_test)\n",
    "\n",
    "# initializing lists to store losses over epochs:\n",
    "train_loss = []\n",
    "test_loss = []\n",
    "train_iter = []\n",
    "test_iter = []"
   ]
  },
  {
   "cell_type": "code",
   "execution_count": 77,
   "metadata": {
    "scrolled": true
   },
   "outputs": [
    {
     "name": "stdout",
     "output_type": "stream",
     "text": [
      "Epoch: 0 Iteration: 0. Train_MSE: 0.003966538701206446. Test_MSE: 0.001130812512768086\n",
      "Epoch: 1 Iteration: 100. Train_MSE: 0.002632440533488989. Test_MSE: 0.0011062896374338103\n",
      "Epoch: 2 Iteration: 200. Train_MSE: 0.012723102234303951. Test_MSE: 0.0011101709757851384\n",
      "Epoch: 3 Iteration: 300. Train_MSE: 0.003712792182341218. Test_MSE: 0.0011198357270318295\n",
      "Epoch: 4 Iteration: 400. Train_MSE: 0.0024000676348805428. Test_MSE: 0.0010893943320306424\n",
      "Epoch: 5 Iteration: 500. Train_MSE: 0.002514314604923129. Test_MSE: 0.0010719508496736451\n",
      "Epoch: 6 Iteration: 600. Train_MSE: 0.006163809448480606. Test_MSE: 0.0010716691248545676\n",
      "Epoch: 7 Iteration: 700. Train_MSE: 0.0017601093277335167. Test_MSE: 0.0010757650940062926\n",
      "Epoch: 8 Iteration: 800. Train_MSE: 0.003962681163102388. Test_MSE: 0.0010588174284900536\n",
      "Epoch: 10 Iteration: 900. Train_MSE: 0.004066580906510353. Test_MSE: 0.0010260814277412865\n",
      "Epoch: 11 Iteration: 1000. Train_MSE: 0.01847498118877411. Test_MSE: 0.001021231942463986\n",
      "Epoch: 12 Iteration: 1100. Train_MSE: 0.0008779580239206553. Test_MSE: 0.0010257577491199423\n",
      "Epoch: 13 Iteration: 1200. Train_MSE: 0.0038836575113236904. Test_MSE: 0.0009972976129075813\n",
      "Epoch: 14 Iteration: 1300. Train_MSE: 0.0026968952734023333. Test_MSE: 0.000977881811966304\n",
      "Epoch: 15 Iteration: 1400. Train_MSE: 0.0070260693319141865. Test_MSE: 0.0009751956168641863\n",
      "Epoch: 16 Iteration: 1500. Train_MSE: 0.004092523828148842. Test_MSE: 0.0009783915239877424\n",
      "Epoch: 17 Iteration: 1600. Train_MSE: 0.006594212260097265. Test_MSE: 0.000964831946760252\n",
      "Epoch: 19 Iteration: 1700. Train_MSE: 0.000636512238997966. Test_MSE: 0.0009342427093092765\n",
      "Epoch: 20 Iteration: 1800. Train_MSE: 0.0044297524727880955. Test_MSE: 0.0009296148883555528\n",
      "Epoch: 21 Iteration: 1900. Train_MSE: 0.0025106817483901978. Test_MSE: 0.0009332740206051435\n",
      "Epoch: 22 Iteration: 2000. Train_MSE: 0.009780767373740673. Test_MSE: 0.0009098385143458762\n",
      "Epoch: 23 Iteration: 2100. Train_MSE: 0.003580279415473342. Test_MSE: 0.0008914227579690638\n",
      "Epoch: 24 Iteration: 2200. Train_MSE: 0.01117368321865797. Test_MSE: 0.0008872915792293495\n",
      "Epoch: 25 Iteration: 2300. Train_MSE: 0.0037650959566235542. Test_MSE: 0.0008906215896318069\n",
      "Epoch: 26 Iteration: 2400. Train_MSE: 0.0009991575498133898. Test_MSE: 0.0008816965280921379\n",
      "Epoch: 28 Iteration: 2500. Train_MSE: 0.0011064144782721996. Test_MSE: 0.0008523805047713985\n",
      "Epoch: 29 Iteration: 2600. Train_MSE: 0.00243282038718462. Test_MSE: 0.0008473131664291292\n",
      "Epoch: 30 Iteration: 2700. Train_MSE: 0.003163577290251851. Test_MSE: 0.000850715891033588\n",
      "Epoch: 31 Iteration: 2800. Train_MSE: 0.0053825764916837215. Test_MSE: 0.0008343098489496161\n",
      "Epoch: 32 Iteration: 2900. Train_MSE: 0.004107072949409485. Test_MSE: 0.0008154254616268096\n",
      "Epoch: 33 Iteration: 3000. Train_MSE: 0.010047211311757565. Test_MSE: 0.0008111764194197493\n",
      "Epoch: 34 Iteration: 3100. Train_MSE: 0.0025134228635579348. Test_MSE: 0.000813158511953906\n",
      "Epoch: 35 Iteration: 3200. Train_MSE: 0.0029829421546310186. Test_MSE: 0.000807188979919284\n",
      "Epoch: 37 Iteration: 3300. Train_MSE: 0.0033949431963264942. Test_MSE: 0.0007813910847005286\n",
      "Epoch: 38 Iteration: 3400. Train_MSE: 0.001780059770680964. Test_MSE: 0.0007759604931627547\n",
      "Epoch: 39 Iteration: 3500. Train_MSE: 0.0031103312503546476. Test_MSE: 0.0007782083149177053\n",
      "Epoch: 40 Iteration: 3600. Train_MSE: 0.0035525041166692972. Test_MSE: 0.0007671551011930122\n",
      "Epoch: 41 Iteration: 3700. Train_MSE: 0.001798403449356556. Test_MSE: 0.0007490706207189032\n",
      "Epoch: 42 Iteration: 3800. Train_MSE: 0.0016871823463588953. Test_MSE: 0.0007446552751385262\n",
      "Epoch: 43 Iteration: 3900. Train_MSE: 0.002585937734693289. Test_MSE: 0.0007457396555765627\n",
      "Epoch: 44 Iteration: 4000. Train_MSE: 0.0012791657354682684. Test_MSE: 0.0007430723907679359\n",
      "Epoch: 46 Iteration: 4100. Train_MSE: 0.0027531899977475405. Test_MSE: 0.0007200428385540608\n",
      "Epoch: 47 Iteration: 4200. Train_MSE: 0.0014021716779097915. Test_MSE: 0.0007136641476152557\n",
      "Epoch: 48 Iteration: 4300. Train_MSE: 0.0030072287190705538. Test_MSE: 0.0007149493814580609\n",
      "Epoch: 49 Iteration: 4400. Train_MSE: 0.0020594054367393255. Test_MSE: 0.0007078699730469645\n",
      "Epoch: 50 Iteration: 4500. Train_MSE: 0.0003851389919873327. Test_MSE: 0.0006910597210597519\n",
      "Epoch: 51 Iteration: 4600. Train_MSE: 0.0015721111558377743. Test_MSE: 0.0006858170020316086\n",
      "Epoch: 52 Iteration: 4700. Train_MSE: 0.00201384793035686. Test_MSE: 0.0006862959360453046\n",
      "Epoch: 53 Iteration: 4800. Train_MSE: 0.0017666761996224523. Test_MSE: 0.0006858110420028421\n",
      "Epoch: 55 Iteration: 4900. Train_MSE: 0.0014921368565410376. Test_MSE: 0.0006657834753139417\n",
      "Epoch: 56 Iteration: 5000. Train_MSE: 0.001206572400406003. Test_MSE: 0.0006583044536647661\n",
      "Epoch: 57 Iteration: 5100. Train_MSE: 0.002604764187708497. Test_MSE: 0.0006589268171892622\n",
      "Epoch: 58 Iteration: 5200. Train_MSE: 0.0005825249245390296. Test_MSE: 0.0006548667635292508\n",
      "Epoch: 59 Iteration: 5300. Train_MSE: 0.00031009313534013927. Test_MSE: 0.000638603727559202\n",
      "Epoch: 60 Iteration: 5400. Train_MSE: 0.001229041488841176. Test_MSE: 0.0006339188372510712\n",
      "Epoch: 61 Iteration: 5500. Train_MSE: 0.0013950507855042815. Test_MSE: 0.0006336930374798867\n",
      "Epoch: 62 Iteration: 5600. Train_MSE: 0.0008560789283365011. Test_MSE: 0.0006345071429343099\n",
      "Epoch: 64 Iteration: 5700. Train_MSE: 0.004552674479782581. Test_MSE: 0.0006173100852750431\n",
      "Epoch: 65 Iteration: 5800. Train_MSE: 0.0010453606955707073. Test_MSE: 0.0006095464482556229\n",
      "Epoch: 66 Iteration: 5900. Train_MSE: 0.014544585719704628. Test_MSE: 0.0006092862262551527\n",
      "Epoch: 67 Iteration: 6000. Train_MSE: 0.0006693881587125361. Test_MSE: 0.0006069081980489236\n",
      "Epoch: 68 Iteration: 6100. Train_MSE: 0.0015128572704270482. Test_MSE: 0.0005923252799712376\n",
      "Epoch: 69 Iteration: 6200. Train_MSE: 0.0006591220735572278. Test_MSE: 0.0005875658878874197\n",
      "Epoch: 70 Iteration: 6300. Train_MSE: 0.0007953051244840026. Test_MSE: 0.0005874081760468226\n",
      "Epoch: 71 Iteration: 6400. Train_MSE: 0.008258244022727013. Test_MSE: 0.0005880028035722553\n",
      "Epoch: 73 Iteration: 6500. Train_MSE: 0.003295904491096735. Test_MSE: 0.0005751955881137903\n",
      "Epoch: 74 Iteration: 6600. Train_MSE: 0.0007390787359327078. Test_MSE: 0.000566022512737565\n",
      "Epoch: 75 Iteration: 6700. Train_MSE: 0.0069909174926579. Test_MSE: 0.000565715977560032\n",
      "Epoch: 76 Iteration: 6800. Train_MSE: 0.0008509436738677323. Test_MSE: 0.0005643294203256877\n",
      "Epoch: 77 Iteration: 6900. Train_MSE: 0.000861118664033711. Test_MSE: 0.0005519705805710923\n",
      "Epoch: 78 Iteration: 7000. Train_MSE: 0.0010110000148415565. Test_MSE: 0.0005468279434197962\n",
      "Epoch: 79 Iteration: 7100. Train_MSE: 0.0012621725909411907. Test_MSE: 0.0005461059756616668\n",
      "Epoch: 80 Iteration: 7200. Train_MSE: 0.0005221171886660159. Test_MSE: 0.0005467833525446017\n",
      "Epoch: 82 Iteration: 7300. Train_MSE: 0.003273602109402418. Test_MSE: 0.0005372949481933297\n",
      "Epoch: 83 Iteration: 7400. Train_MSE: 0.0012498400174081326. Test_MSE: 0.0005271994673986706\n",
      "Epoch: 84 Iteration: 7500. Train_MSE: 0.002953065326437354. Test_MSE: 0.0005268651405352569\n",
      "Epoch: 85 Iteration: 7600. Train_MSE: 0.0005044121062383056. Test_MSE: 0.0005265114637036104\n",
      "Epoch: 86 Iteration: 7700. Train_MSE: 0.00034752089413814247. Test_MSE: 0.0005151759539985045\n",
      "Epoch: 87 Iteration: 7800. Train_MSE: 0.0008928135503083467. Test_MSE: 0.0005104079259964176\n",
      "Epoch: 88 Iteration: 7900. Train_MSE: 0.00896431878209114. Test_MSE: 0.0005088764592753559\n",
      "Epoch: 89 Iteration: 8000. Train_MSE: 0.0006489250808954239. Test_MSE: 0.0005103109562084085\n",
      "Epoch: 91 Iteration: 8100. Train_MSE: 0.0009797611273825169. Test_MSE: 0.0005032614762663115\n",
      "Epoch: 92 Iteration: 8200. Train_MSE: 0.0005840113153681159. Test_MSE: 0.0004926667365411841\n",
      "Epoch: 93 Iteration: 8300. Train_MSE: 0.0018774984637275338. Test_MSE: 0.0004916934947766946\n",
      "Epoch: 94 Iteration: 8400. Train_MSE: 0.0008481826516799629. Test_MSE: 0.0004917515511450448\n",
      "Epoch: 95 Iteration: 8500. Train_MSE: 0.0004954547039233148. Test_MSE: 0.0004820953438246205\n",
      "Epoch: 96 Iteration: 8600. Train_MSE: 0.00047843242646194994. Test_MSE: 0.0004772680480450645\n",
      "Epoch: 97 Iteration: 8700. Train_MSE: 0.0033584521152079105. Test_MSE: 0.00047596193820820823\n",
      "Epoch: 98 Iteration: 8800. Train_MSE: 0.0007589826709590852. Test_MSE: 0.0004769846912608929\n",
      "Epoch: 100 Iteration: 8900. Train_MSE: 0.0006042423192411661. Test_MSE: 0.0004718578316815839\n"
     ]
    },
    {
     "name": "stdout",
     "output_type": "stream",
     "text": [
      "Epoch: 101 Iteration: 9000. Train_MSE: 0.0007952108862809837. Test_MSE: 0.00046154360469494334\n",
      "Epoch: 102 Iteration: 9100. Train_MSE: 0.007126305717974901. Test_MSE: 0.00046041190280596603\n",
      "Epoch: 103 Iteration: 9200. Train_MSE: 0.0014075912768021226. Test_MSE: 0.0004614066513016144\n",
      "Epoch: 104 Iteration: 9300. Train_MSE: 0.0002789014542941004. Test_MSE: 0.00045244103593228144\n",
      "Epoch: 105 Iteration: 9400. Train_MSE: 0.0003866464539896697. Test_MSE: 0.00044783807936535824\n",
      "Epoch: 106 Iteration: 9500. Train_MSE: 0.0013583694817498326. Test_MSE: 0.0004470002001307655\n",
      "Epoch: 107 Iteration: 9600. Train_MSE: 0.00044139818055555224. Test_MSE: 0.0004470884650380809\n",
      "Epoch: 108 Iteration: 9700. Train_MSE: 0.000686520419549197. Test_MSE: 0.0004435735783505552\n",
      "Epoch: 110 Iteration: 9800. Train_MSE: 0.0011657539289444685. Test_MSE: 0.0004337714087126695\n",
      "Epoch: 111 Iteration: 9900. Train_MSE: 0.014503971673548222. Test_MSE: 0.00043255092107588735\n",
      "Epoch: 112 Iteration: 10000. Train_MSE: 0.000350936345057562. Test_MSE: 0.0004336217315387517\n",
      "Epoch: 113 Iteration: 10100. Train_MSE: 0.0006060876185074449. Test_MSE: 0.00042576533252815636\n",
      "Epoch: 114 Iteration: 10200. Train_MSE: 0.0008236956782639027. Test_MSE: 0.0004212836552945311\n",
      "Epoch: 115 Iteration: 10300. Train_MSE: 0.0018473161617293954. Test_MSE: 0.00042045003428888824\n",
      "Epoch: 116 Iteration: 10400. Train_MSE: 0.0020187795162200928. Test_MSE: 0.0004207348961887454\n",
      "Epoch: 117 Iteration: 10500. Train_MSE: 0.0013607761356979609. Test_MSE: 0.00041802657191388436\n",
      "Epoch: 119 Iteration: 10600. Train_MSE: 0.0002287107490701601. Test_MSE: 0.00040882297250578\n",
      "Epoch: 120 Iteration: 10700. Train_MSE: 0.000588317634537816. Test_MSE: 0.0004080756558541581\n",
      "Epoch: 121 Iteration: 10800. Train_MSE: 0.0006138363969512284. Test_MSE: 0.00040867154850350476\n",
      "Epoch: 122 Iteration: 10900. Train_MSE: 0.001979060936719179. Test_MSE: 0.0004019058220970258\n",
      "Epoch: 123 Iteration: 11000. Train_MSE: 0.0021117194555699825. Test_MSE: 0.0003975195375473315\n",
      "Epoch: 124 Iteration: 11100. Train_MSE: 0.008644124493002892. Test_MSE: 0.0003963176686627708\n",
      "Epoch: 125 Iteration: 11200. Train_MSE: 0.001027055666781962. Test_MSE: 0.000396820220781645\n",
      "Epoch: 126 Iteration: 11300. Train_MSE: 0.0002610188676044345. Test_MSE: 0.0003950670452381829\n",
      "Epoch: 128 Iteration: 11400. Train_MSE: 0.00030512275407090783. Test_MSE: 0.00038591318056015\n",
      "Epoch: 129 Iteration: 11500. Train_MSE: 0.0005630383966490626. Test_MSE: 0.0003851386571925941\n",
      "Epoch: 130 Iteration: 11600. Train_MSE: 0.000952207250520587. Test_MSE: 0.00038561831066629814\n",
      "Epoch: 131 Iteration: 11700. Train_MSE: 0.001260561984963715. Test_MSE: 0.00038097053926978264\n",
      "Epoch: 132 Iteration: 11800. Train_MSE: 0.0024921721778810024. Test_MSE: 0.00037604868666338823\n",
      "Epoch: 133 Iteration: 11900. Train_MSE: 0.007754509337246418. Test_MSE: 0.00037500231160449236\n",
      "Epoch: 134 Iteration: 12000. Train_MSE: 0.0005529846530407667. Test_MSE: 0.00037488681052988984\n",
      "Epoch: 135 Iteration: 12100. Train_MSE: 0.0006687447312287986. Test_MSE: 0.0003738238445633951\n",
      "Epoch: 137 Iteration: 12200. Train_MSE: 0.0009811996715143323. Test_MSE: 0.00036561741239150093\n",
      "Epoch: 138 Iteration: 12300. Train_MSE: 0.00044829846592620015. Test_MSE: 0.00036472671462414665\n",
      "Epoch: 139 Iteration: 12400. Train_MSE: 0.0011669422965496778. Test_MSE: 0.0003646390700594287\n",
      "Epoch: 140 Iteration: 12500. Train_MSE: 0.0009423414594493806. Test_MSE: 0.00036176989229633465\n",
      "Epoch: 141 Iteration: 12600. Train_MSE: 0.0004984818515367806. Test_MSE: 0.0003568389249246347\n",
      "Epoch: 142 Iteration: 12700. Train_MSE: 0.000455785368103534. Test_MSE: 0.00035573846807532446\n",
      "Epoch: 143 Iteration: 12800. Train_MSE: 0.000719140050932765. Test_MSE: 0.0003551227602725804\n",
      "Epoch: 144 Iteration: 12900. Train_MSE: 0.00028836322599090636. Test_MSE: 0.0003549982043463032\n",
      "Epoch: 146 Iteration: 13000. Train_MSE: 0.0008165849139913917. Test_MSE: 0.0003475173901774173\n",
      "Epoch: 147 Iteration: 13100. Train_MSE: 0.00037396696279756725. Test_MSE: 0.0003460756301681263\n",
      "Epoch: 148 Iteration: 13200. Train_MSE: 0.0011599643621593714. Test_MSE: 0.0003456658925794161\n",
      "Epoch: 149 Iteration: 13300. Train_MSE: 0.0005649835802614689. Test_MSE: 0.00034423418921886\n",
      "Epoch: 150 Iteration: 13400. Train_MSE: 0.00028997278423048556. Test_MSE: 0.00033939764582517813\n",
      "Epoch: 151 Iteration: 13500. Train_MSE: 0.000444598903413862. Test_MSE: 0.00033793902402716843\n",
      "Epoch: 152 Iteration: 13600. Train_MSE: 0.0005524408770725131. Test_MSE: 0.00033720423999265386\n",
      "Epoch: 153 Iteration: 13700. Train_MSE: 0.0007440604967996478. Test_MSE: 0.0003377054390872985\n",
      "Epoch: 155 Iteration: 13800. Train_MSE: 0.0004571480967570096. Test_MSE: 0.0003312731171984599\n",
      "Epoch: 156 Iteration: 13900. Train_MSE: 0.0004788553633261472. Test_MSE: 0.00032926584731494106\n",
      "Epoch: 157 Iteration: 14000. Train_MSE: 0.0005602367455139756. Test_MSE: 0.0003287304261953682\n",
      "Epoch: 158 Iteration: 14100. Train_MSE: 0.00039821991231292486. Test_MSE: 0.0003282134531181072\n",
      "Epoch: 159 Iteration: 14200. Train_MSE: 0.0002352933370275423. Test_MSE: 0.0003232073130399145\n",
      "Epoch: 160 Iteration: 14300. Train_MSE: 0.00035525389830581844. Test_MSE: 0.000321965782519095\n",
      "Epoch: 161 Iteration: 14400. Train_MSE: 0.0005183834000490606. Test_MSE: 0.0003209913250947701\n",
      "Epoch: 162 Iteration: 14500. Train_MSE: 0.0006214064196683466. Test_MSE: 0.00032172362590385684\n",
      "Epoch: 164 Iteration: 14600. Train_MSE: 0.0014754002913832664. Test_MSE: 0.00031625835814365767\n",
      "Epoch: 165 Iteration: 14700. Train_MSE: 0.000396660907426849. Test_MSE: 0.00031397579285095966\n",
      "Epoch: 166 Iteration: 14800. Train_MSE: 0.013412413187325. Test_MSE: 0.0003132088906651711\n",
      "Epoch: 167 Iteration: 14900. Train_MSE: 0.00021842782734893262. Test_MSE: 0.00031286185353294636\n",
      "Epoch: 168 Iteration: 15000. Train_MSE: 0.00046393225784413517. Test_MSE: 0.00030856053668902166\n",
      "Epoch: 169 Iteration: 15100. Train_MSE: 0.0002474816865287721. Test_MSE: 0.00030727049046089776\n",
      "Epoch: 170 Iteration: 15200. Train_MSE: 0.00018476587138138711. Test_MSE: 0.00030645747715416356\n",
      "Epoch: 171 Iteration: 15300. Train_MSE: 0.007865876890718937. Test_MSE: 0.0003068140982554423\n",
      "Epoch: 173 Iteration: 15400. Train_MSE: 0.001211640890687704. Test_MSE: 0.00030317844999270513\n",
      "Epoch: 174 Iteration: 15500. Train_MSE: 0.0003560985205695033. Test_MSE: 0.0003000454412299696\n",
      "Epoch: 175 Iteration: 15600. Train_MSE: 0.005883344914764166. Test_MSE: 0.0002996018860589866\n",
      "Epoch: 176 Iteration: 15700. Train_MSE: 0.000338180223479867. Test_MSE: 0.00029919694174535314\n",
      "Epoch: 177 Iteration: 15800. Train_MSE: 0.00039849308086559176. Test_MSE: 0.0002956011402628306\n",
      "Epoch: 178 Iteration: 15900. Train_MSE: 0.0004226562741678208. Test_MSE: 0.0002941573830338541\n",
      "Epoch: 179 Iteration: 16000. Train_MSE: 0.00037339262780733407. Test_MSE: 0.0002932593110115158\n",
      "Epoch: 180 Iteration: 16100. Train_MSE: 0.0003167353570461273. Test_MSE: 0.0002934749080878119\n",
      "Epoch: 182 Iteration: 16200. Train_MSE: 0.0010914880549535155. Test_MSE: 0.00029104726325689725\n",
      "Epoch: 183 Iteration: 16300. Train_MSE: 0.0005754900630563498. Test_MSE: 0.0002873539200337619\n",
      "Epoch: 184 Iteration: 16400. Train_MSE: 0.0016551623120903969. Test_MSE: 0.00028711094264743573\n",
      "Epoch: 185 Iteration: 16500. Train_MSE: 0.00047395858564414084. Test_MSE: 0.0002868892668629175\n",
      "Epoch: 186 Iteration: 16600. Train_MSE: 0.00018961379828397185. Test_MSE: 0.0002834411854638997\n",
      "Epoch: 187 Iteration: 16700. Train_MSE: 0.000422375655034557. Test_MSE: 0.00028224488814482176\n",
      "Epoch: 188 Iteration: 16800. Train_MSE: 0.00804776232689619. Test_MSE: 0.00028099260189372435\n",
      "Epoch: 189 Iteration: 16900. Train_MSE: 0.0003670210426207632. Test_MSE: 0.00028147030988951485\n",
      "Epoch: 191 Iteration: 17000. Train_MSE: 0.00036351982271298766. Test_MSE: 0.00028001453194812485\n",
      "Epoch: 192 Iteration: 17100. Train_MSE: 0.0003520145546644926. Test_MSE: 0.0002759084268452615\n",
      "Epoch: 193 Iteration: 17200. Train_MSE: 0.0011249291710555553. Test_MSE: 0.00027545658680728146\n",
      "Epoch: 194 Iteration: 17300. Train_MSE: 0.00046508561354130507. Test_MSE: 0.00027523282071250803\n",
      "Epoch: 195 Iteration: 17400. Train_MSE: 0.00034103821963071823. Test_MSE: 0.0002723053359120314\n",
      "Epoch: 196 Iteration: 17500. Train_MSE: 0.0002625483903102577. Test_MSE: 0.0002710505665625601\n",
      "Epoch: 197 Iteration: 17600. Train_MSE: 0.003046878380700946. Test_MSE: 0.00027007924933869704\n",
      "Epoch: 198 Iteration: 17700. Train_MSE: 0.0004146142746321857. Test_MSE: 0.0002702045814481133\n"
     ]
    },
    {
     "name": "stdout",
     "output_type": "stream",
     "text": [
      "Epoch: 200 Iteration: 17800. Train_MSE: 0.0002607849892228842. Test_MSE: 0.00026934419764444424\n",
      "Epoch: 201 Iteration: 17900. Train_MSE: 0.0005724147194996476. Test_MSE: 0.0002652864804038045\n",
      "Epoch: 202 Iteration: 18000. Train_MSE: 0.006324085406959057. Test_MSE: 0.0002648307187990511\n",
      "Epoch: 203 Iteration: 18100. Train_MSE: 0.0010683316504582763. Test_MSE: 0.00026496441624383434\n",
      "Epoch: 204 Iteration: 18200. Train_MSE: 0.00020846891857217997. Test_MSE: 0.0002619900830042477\n",
      "Epoch: 205 Iteration: 18300. Train_MSE: 0.000190054124686867. Test_MSE: 0.000260853587132507\n",
      "Epoch: 206 Iteration: 18400. Train_MSE: 0.0008739794720895588. Test_MSE: 0.00026035668258452845\n",
      "Epoch: 207 Iteration: 18500. Train_MSE: 0.0003191361902281642. Test_MSE: 0.00025980711667727074\n",
      "Epoch: 208 Iteration: 18600. Train_MSE: 0.0003394092491362244. Test_MSE: 0.0002594830995094089\n",
      "Epoch: 210 Iteration: 18700. Train_MSE: 0.0007930223364382982. Test_MSE: 0.00025559887443540457\n",
      "Epoch: 211 Iteration: 18800. Train_MSE: 0.013685467652976513. Test_MSE: 0.00025523893331413596\n",
      "Epoch: 212 Iteration: 18900. Train_MSE: 0.00032548076706007123. Test_MSE: 0.0002553134953142418\n",
      "Epoch: 213 Iteration: 19000. Train_MSE: 0.0003152801946271211. Test_MSE: 0.00025256098821877014\n",
      "Epoch: 214 Iteration: 19100. Train_MSE: 0.000533921702299267. Test_MSE: 0.0002514989530398456\n",
      "Epoch: 215 Iteration: 19200. Train_MSE: 0.0012097738217562437. Test_MSE: 0.00025108862997961487\n",
      "Epoch: 216 Iteration: 19300. Train_MSE: 0.0018950558733195066. Test_MSE: 0.0002505758459656314\n",
      "Epoch: 217 Iteration: 19400. Train_MSE: 0.0006228962447494268. Test_MSE: 0.0002503442305669446\n",
      "Epoch: 219 Iteration: 19500. Train_MSE: 0.00022512733994517475. Test_MSE: 0.00024676511019503384\n",
      "Epoch: 220 Iteration: 19600. Train_MSE: 0.0002097715623676777. Test_MSE: 0.00024684685627655053\n",
      "Epoch: 221 Iteration: 19700. Train_MSE: 0.00035204109735786915. Test_MSE: 0.00024651019882949743\n",
      "Epoch: 222 Iteration: 19800. Train_MSE: 0.0007591678877361119. Test_MSE: 0.00024409896442152373\n",
      "Epoch: 223 Iteration: 19900. Train_MSE: 0.001930883270688355. Test_MSE: 0.0002430725443551911\n",
      "Epoch: 224 Iteration: 20000. Train_MSE: 0.008152496069669724. Test_MSE: 0.00024260666871770022\n",
      "Epoch: 225 Iteration: 20100. Train_MSE: 0.0006562484777532518. Test_MSE: 0.0002422732623080591\n",
      "Epoch: 226 Iteration: 20200. Train_MSE: 0.00022574375907424837. Test_MSE: 0.00024215896681482833\n",
      "Epoch: 228 Iteration: 20300. Train_MSE: 0.00023369902919512242. Test_MSE: 0.00023853086413000592\n",
      "Epoch: 229 Iteration: 20400. Train_MSE: 0.0003098021261394024. Test_MSE: 0.0002387110226304902\n",
      "Epoch: 230 Iteration: 20500. Train_MSE: 0.0005822578677907586. Test_MSE: 0.00023824877986740634\n",
      "Epoch: 231 Iteration: 20600. Train_MSE: 0.0005497434758581221. Test_MSE: 0.00023670109610270302\n",
      "Epoch: 232 Iteration: 20700. Train_MSE: 0.002233783947303891. Test_MSE: 0.00023533889464690672\n",
      "Epoch: 233 Iteration: 20800. Train_MSE: 0.007242665160447359. Test_MSE: 0.00023505958331433843\n",
      "Epoch: 234 Iteration: 20900. Train_MSE: 0.0003426041512284428. Test_MSE: 0.00023429884545347516\n",
      "Epoch: 235 Iteration: 21000. Train_MSE: 0.00032274541445076466. Test_MSE: 0.0002342840631993195\n",
      "Epoch: 237 Iteration: 21100. Train_MSE: 0.0005378758651204407. Test_MSE: 0.00023108633648821785\n",
      "Epoch: 238 Iteration: 21200. Train_MSE: 0.0002441569813527167. Test_MSE: 0.00023125219358371816\n",
      "Epoch: 239 Iteration: 21300. Train_MSE: 0.0008152321679517627. Test_MSE: 0.00023043481472326114\n",
      "Epoch: 240 Iteration: 21400. Train_MSE: 0.00039672397542744875. Test_MSE: 0.00022971158272178563\n",
      "Epoch: 241 Iteration: 21500. Train_MSE: 0.0003009230422321707. Test_MSE: 0.00022832545720723535\n",
      "Epoch: 242 Iteration: 21600. Train_MSE: 0.00024134300474543124. Test_MSE: 0.0002280803564226744\n",
      "Epoch: 243 Iteration: 21700. Train_MSE: 0.0004592495097313076. Test_MSE: 0.00022700852852084274\n",
      "Epoch: 244 Iteration: 21800. Train_MSE: 0.00018723856192082167. Test_MSE: 0.00022734824785536621\n",
      "Epoch: 246 Iteration: 21900. Train_MSE: 0.00043603507219813764. Test_MSE: 0.00022443835830210466\n",
      "Epoch: 247 Iteration: 22000. Train_MSE: 0.00020434233010746539. Test_MSE: 0.00022426356886882207\n",
      "Epoch: 248 Iteration: 22100. Train_MSE: 0.0009452674421481788. Test_MSE: 0.00022331347702550023\n",
      "Epoch: 249 Iteration: 22200. Train_MSE: 0.000316210906021297. Test_MSE: 0.00022325392401411235\n",
      "Epoch: 250 Iteration: 22300. Train_MSE: 0.0002789744467008859. Test_MSE: 0.00022177726062368283\n",
      "Epoch: 251 Iteration: 22400. Train_MSE: 0.0002273081918247044. Test_MSE: 0.00022132417093425767\n",
      "Epoch: 252 Iteration: 22500. Train_MSE: 0.00033701545908115804. Test_MSE: 0.00022024439498066596\n",
      "Epoch: 253 Iteration: 22600. Train_MSE: 0.0005573495291173458. Test_MSE: 0.00022072657211626926\n",
      "Epoch: 255 Iteration: 22700. Train_MSE: 0.0002857010986190289. Test_MSE: 0.00021831659055864116\n",
      "Epoch: 256 Iteration: 22800. Train_MSE: 0.00032286933856084943. Test_MSE: 0.0002178128225409894\n",
      "Epoch: 257 Iteration: 22900. Train_MSE: 0.00031981561915017664. Test_MSE: 0.00021689479179152934\n",
      "Epoch: 258 Iteration: 23000. Train_MSE: 0.00045422714902088046. Test_MSE: 0.00021715811731549972\n",
      "Epoch: 259 Iteration: 23100. Train_MSE: 0.00023805124510545284. Test_MSE: 0.00021547459693086794\n",
      "Epoch: 260 Iteration: 23200. Train_MSE: 0.000195457658264786. Test_MSE: 0.00021517447582187945\n",
      "Epoch: 261 Iteration: 23300. Train_MSE: 0.00036829939926974475. Test_MSE: 0.00021403452435618108\n",
      "Epoch: 262 Iteration: 23400. Train_MSE: 0.000540061853826046. Test_MSE: 0.00021448550887677065\n",
      "Epoch: 264 Iteration: 23500. Train_MSE: 0.0007613626075908542. Test_MSE: 0.00021257741790446164\n",
      "Epoch: 265 Iteration: 23600. Train_MSE: 0.0002665056090336293. Test_MSE: 0.00021189479488807606\n",
      "Epoch: 266 Iteration: 23700. Train_MSE: 0.01324458234012127. Test_MSE: 0.00021097559821542516\n",
      "Epoch: 267 Iteration: 23800. Train_MSE: 0.0001592867774888873. Test_MSE: 0.00021103383522624457\n",
      "Epoch: 268 Iteration: 23900. Train_MSE: 0.00029119246755726635. Test_MSE: 0.00020976636061844278\n",
      "Epoch: 269 Iteration: 24000. Train_MSE: 0.00016762397717684507. Test_MSE: 0.0002094566402818547\n",
      "Epoch: 270 Iteration: 24100. Train_MSE: 0.00016161863459274173. Test_MSE: 0.00020847545280148892\n",
      "Epoch: 271 Iteration: 24200. Train_MSE: 0.007828734815120697. Test_MSE: 0.00020856461688127428\n",
      "Epoch: 273 Iteration: 24300. Train_MSE: 0.0007706632604822516. Test_MSE: 0.00020764775459870504\n",
      "Epoch: 274 Iteration: 24400. Train_MSE: 0.0002789323916658759. Test_MSE: 0.0002064019148775271\n",
      "Epoch: 275 Iteration: 24500. Train_MSE: 0.005652292165905237. Test_MSE: 0.00020587303020873834\n",
      "Epoch: 276 Iteration: 24600. Train_MSE: 0.0002497748355381191. Test_MSE: 0.0002056333900135478\n",
      "Epoch: 277 Iteration: 24700. Train_MSE: 0.0003141746565233916. Test_MSE: 0.00020467138353598145\n",
      "Epoch: 278 Iteration: 24800. Train_MSE: 0.0002728025137912482. Test_MSE: 0.00020429624571479432\n",
      "Epoch: 279 Iteration: 24900. Train_MSE: 0.00022998996428214014. Test_MSE: 0.00020337153331961537\n",
      "Epoch: 280 Iteration: 25000. Train_MSE: 0.0002677878364920616. Test_MSE: 0.00020331041757264031\n",
      "Epoch: 282 Iteration: 25100. Train_MSE: 0.0005516237579286098. Test_MSE: 0.00020293525774181352\n",
      "Epoch: 283 Iteration: 25200. Train_MSE: 0.0004068950074724853. Test_MSE: 0.00020132630370028073\n",
      "Epoch: 284 Iteration: 25300. Train_MSE: 0.0013437089510262012. Test_MSE: 0.00020104444633425135\n",
      "Epoch: 285 Iteration: 25400. Train_MSE: 0.00043973501306027174. Test_MSE: 0.0002007439507882501\n",
      "Epoch: 286 Iteration: 25500. Train_MSE: 0.0001834396825870499. Test_MSE: 0.00019974088232957958\n",
      "Epoch: 287 Iteration: 25600. Train_MSE: 0.00029903664835728705. Test_MSE: 0.00019955643616267736\n",
      "Epoch: 288 Iteration: 25700. Train_MSE: 0.0077378349378705025. Test_MSE: 0.00019846365956781525\n",
      "Epoch: 289 Iteration: 25800. Train_MSE: 0.0002940820704679936. Test_MSE: 0.00019850826741726177\n",
      "Epoch: 291 Iteration: 25900. Train_MSE: 0.00024235995078925043. Test_MSE: 0.00019862032933093833\n",
      "Epoch: 292 Iteration: 26000. Train_MSE: 0.0002963997540064156. Test_MSE: 0.00019672743885192393\n",
      "Epoch: 293 Iteration: 26100. Train_MSE: 0.0009444066672585905. Test_MSE: 0.00019639368284652293\n",
      "Epoch: 294 Iteration: 26200. Train_MSE: 0.00035396163002587855. Test_MSE: 0.0001959902540801647\n",
      "Epoch: 295 Iteration: 26300. Train_MSE: 0.00033078750129789114. Test_MSE: 0.00019517697659099763\n"
     ]
    },
    {
     "name": "stdout",
     "output_type": "stream",
     "text": [
      "Epoch: 296 Iteration: 26400. Train_MSE: 0.00021177236340008676. Test_MSE: 0.00019497601511968697\n",
      "Epoch: 297 Iteration: 26500. Train_MSE: 0.002930891700088978. Test_MSE: 0.00019416345250606703\n",
      "Epoch: 298 Iteration: 26600. Train_MSE: 0.00031651940662413836. Test_MSE: 0.00019393142036267273\n",
      "Epoch: 300 Iteration: 26700. Train_MSE: 0.00022117035405244678. Test_MSE: 0.00019423855958194863\n",
      "Epoch: 301 Iteration: 26800. Train_MSE: 0.0005091598141007125. Test_MSE: 0.00019237547685382764\n",
      "Epoch: 302 Iteration: 26900. Train_MSE: 0.00605410523712635. Test_MSE: 0.00019210810211452953\n",
      "Epoch: 303 Iteration: 27000. Train_MSE: 0.000951599155087024. Test_MSE: 0.00019186961539648185\n",
      "Epoch: 304 Iteration: 27100. Train_MSE: 0.00021882649161852896. Test_MSE: 0.0001908692628154145\n",
      "Epoch: 305 Iteration: 27200. Train_MSE: 0.0001497739285696298. Test_MSE: 0.00019075181673786597\n",
      "Epoch: 306 Iteration: 27300. Train_MSE: 0.0007653554785065353. Test_MSE: 0.00019035568694604176\n",
      "Epoch: 307 Iteration: 27400. Train_MSE: 0.0002766750694718212. Test_MSE: 0.0001896349749963348\n",
      "Epoch: 308 Iteration: 27500. Train_MSE: 0.000274196092505008. Test_MSE: 0.00019012037687396018\n",
      "Epoch: 310 Iteration: 27600. Train_MSE: 0.0006911418749950826. Test_MSE: 0.0001883388837510115\n",
      "Epoch: 311 Iteration: 27700. Train_MSE: 0.013339944183826447. Test_MSE: 0.00018821844134794181\n",
      "Epoch: 312 Iteration: 27800. Train_MSE: 0.00031071703415364027. Test_MSE: 0.0001878983040086611\n",
      "Epoch: 313 Iteration: 27900. Train_MSE: 0.00026611521025188267. Test_MSE: 0.00018687978295304868\n",
      "Epoch: 314 Iteration: 28000. Train_MSE: 0.0004418987373355776. Test_MSE: 0.0001868345709073109\n",
      "Epoch: 315 Iteration: 28100. Train_MSE: 0.0010536418994888663. Test_MSE: 0.0001865485773154389\n",
      "Epoch: 316 Iteration: 28200. Train_MSE: 0.001903059775941074. Test_MSE: 0.0001858236019310128\n",
      "Epoch: 317 Iteration: 28300. Train_MSE: 0.00044242694275453687. Test_MSE: 0.0001862116683675718\n",
      "Epoch: 319 Iteration: 28400. Train_MSE: 0.0002240644971607253. Test_MSE: 0.00018462701272210395\n",
      "Epoch: 320 Iteration: 28500. Train_MSE: 0.00015859583800192922. Test_MSE: 0.0001848674347161195\n",
      "Epoch: 321 Iteration: 28600. Train_MSE: 0.000267837371211499. Test_MSE: 0.0001842046611545097\n",
      "Epoch: 322 Iteration: 28700. Train_MSE: 0.00043722320697270334. Test_MSE: 0.00018327082126223037\n",
      "Epoch: 323 Iteration: 28800. Train_MSE: 0.0018860135460272431. Test_MSE: 0.0001832440875896008\n",
      "Epoch: 324 Iteration: 28900. Train_MSE: 0.007960337214171886. Test_MSE: 0.0001829967264184017\n",
      "Epoch: 325 Iteration: 29000. Train_MSE: 0.000562491244636476. Test_MSE: 0.0001824099346515967\n",
      "Epoch: 326 Iteration: 29100. Train_MSE: 0.0002278014289913699. Test_MSE: 0.00018268044912188945\n",
      "Epoch: 328 Iteration: 29200. Train_MSE: 0.0002138068957719952. Test_MSE: 0.00018104561974827474\n",
      "Epoch: 329 Iteration: 29300. Train_MSE: 0.00024121445312630385. Test_MSE: 0.00018142605549506893\n",
      "Epoch: 330 Iteration: 29400. Train_MSE: 0.0004505290125962347. Test_MSE: 0.00018067589175529291\n",
      "Epoch: 331 Iteration: 29500. Train_MSE: 0.0003383086295798421. Test_MSE: 0.0001801621654624371\n",
      "Epoch: 332 Iteration: 29600. Train_MSE: 0.002142903860658407. Test_MSE: 0.0001799261499766556\n",
      "Epoch: 333 Iteration: 29700. Train_MSE: 0.007019540760666132. Test_MSE: 0.00017986513129559262\n",
      "Epoch: 334 Iteration: 29800. Train_MSE: 0.00030714523745700717. Test_MSE: 0.00017899220996316607\n",
      "Epoch: 335 Iteration: 29900. Train_MSE: 0.00022073311265558004. Test_MSE: 0.00017919998936800715\n",
      "Epoch: 337 Iteration: 30000. Train_MSE: 0.0003863719757646322. Test_MSE: 0.00017781211069476375\n",
      "Epoch: 338 Iteration: 30100. Train_MSE: 0.00018197359167970717. Test_MSE: 0.0001782202539035293\n",
      "Epoch: 339 Iteration: 30200. Train_MSE: 0.0006927298964001238. Test_MSE: 0.00017724929715599185\n",
      "Epoch: 340 Iteration: 30300. Train_MSE: 0.00022767734481021762. Test_MSE: 0.00017718654448999868\n",
      "Epoch: 341 Iteration: 30400. Train_MSE: 0.0002412127360003069. Test_MSE: 0.00017694592959502302\n",
      "Epoch: 342 Iteration: 30500. Train_MSE: 0.0001759081205818802. Test_MSE: 0.00017694967601386585\n",
      "Epoch: 343 Iteration: 30600. Train_MSE: 0.0004066240508109331. Test_MSE: 0.00017586612197796424\n",
      "Epoch: 344 Iteration: 30700. Train_MSE: 0.00017051021859515458. Test_MSE: 0.00017622152648157487\n",
      "Epoch: 346 Iteration: 30800. Train_MSE: 0.00031409962684847414. Test_MSE: 0.00017496720764971656\n",
      "Epoch: 347 Iteration: 30900. Train_MSE: 0.00015407004684675485. Test_MSE: 0.0001751536203149045\n",
      "Epoch: 348 Iteration: 31000. Train_MSE: 0.0009185569942928851. Test_MSE: 0.00017413998079313878\n",
      "Epoch: 349 Iteration: 31100. Train_MSE: 0.00024059368297457695. Test_MSE: 0.00017443675317751627\n",
      "Epoch: 350 Iteration: 31200. Train_MSE: 0.0002617164864204824. Test_MSE: 0.00017408689997968192\n",
      "Epoch: 351 Iteration: 31300. Train_MSE: 0.00015540771710220724. Test_MSE: 0.00017396974174926786\n",
      "Epoch: 352 Iteration: 31400. Train_MSE: 0.00028932144050486386. Test_MSE: 0.00017292284468545181\n",
      "Epoch: 353 Iteration: 31500. Train_MSE: 0.0004752987006213516. Test_MSE: 0.00017328320355418204\n",
      "Epoch: 355 Iteration: 31600. Train_MSE: 0.0002266384835820645. Test_MSE: 0.00017231817926661314\n",
      "Epoch: 356 Iteration: 31700. Train_MSE: 0.00026432322920300066. Test_MSE: 0.00017229917743247602\n",
      "Epoch: 357 Iteration: 31800. Train_MSE: 0.0002990535576827824. Test_MSE: 0.00017136482714512542\n",
      "Epoch: 358 Iteration: 31900. Train_MSE: 0.0004599509702529758. Test_MSE: 0.00017177430194416726\n",
      "Epoch: 359 Iteration: 32000. Train_MSE: 0.00022679759422317147. Test_MSE: 0.00017123749757101393\n",
      "Epoch: 360 Iteration: 32100. Train_MSE: 0.00015044028987176716. Test_MSE: 0.00017123677051073072\n",
      "Epoch: 361 Iteration: 32200. Train_MSE: 0.0003223996900487691. Test_MSE: 0.00017019106532934448\n",
      "Epoch: 362 Iteration: 32300. Train_MSE: 0.00047139087109826505. Test_MSE: 0.00017045356734353214\n",
      "Epoch: 364 Iteration: 32400. Train_MSE: 0.0005044523859396577. Test_MSE: 0.00016978580972671134\n",
      "Epoch: 365 Iteration: 32500. Train_MSE: 0.000218384520849213. Test_MSE: 0.00016963789035253363\n",
      "Epoch: 366 Iteration: 32600. Train_MSE: 0.013186473399400711. Test_MSE: 0.00016877149824978785\n",
      "Epoch: 367 Iteration: 32700. Train_MSE: 0.00014029904559720308. Test_MSE: 0.00016890899600771256\n",
      "Epoch: 368 Iteration: 32800. Train_MSE: 0.00023400904319714755. Test_MSE: 0.00016865296763150274\n",
      "Epoch: 369 Iteration: 32900. Train_MSE: 0.00013654798385687172. Test_MSE: 0.00016865800074220027\n",
      "Epoch: 370 Iteration: 33000. Train_MSE: 0.00017390435095876455. Test_MSE: 0.00016775072611049206\n",
      "Epoch: 371 Iteration: 33100. Train_MSE: 0.007833460345864296. Test_MSE: 0.00016772202959132714\n",
      "Epoch: 373 Iteration: 33200. Train_MSE: 0.0006364285945892334. Test_MSE: 0.00016767608758820276\n",
      "Epoch: 374 Iteration: 33300. Train_MSE: 0.0002499244292266667. Test_MSE: 0.00016713183797947368\n",
      "Epoch: 375 Iteration: 33400. Train_MSE: 0.005596197675913572. Test_MSE: 0.00016662941355842078\n",
      "Epoch: 376 Iteration: 33500. Train_MSE: 0.0002117278054356575. Test_MSE: 0.00016643985566349708\n",
      "Epoch: 377 Iteration: 33600. Train_MSE: 0.0002724306541495025. Test_MSE: 0.00016634177834900043\n",
      "Epoch: 378 Iteration: 33700. Train_MSE: 0.00021197143360041082. Test_MSE: 0.00016631445255277326\n",
      "Epoch: 379 Iteration: 33800. Train_MSE: 0.00020699766173493117. Test_MSE: 0.00016549575586160647\n",
      "Epoch: 380 Iteration: 33900. Train_MSE: 0.0002399460645392537. Test_MSE: 0.0001653504818531976\n",
      "Epoch: 382 Iteration: 34000. Train_MSE: 0.00035984537680633366. Test_MSE: 0.00016558531198123216\n",
      "Epoch: 383 Iteration: 34100. Train_MSE: 0.0003368191537447274. Test_MSE: 0.00016478376586263888\n",
      "Epoch: 384 Iteration: 34200. Train_MSE: 0.001232243375852704. Test_MSE: 0.0001645212687820561\n",
      "Epoch: 385 Iteration: 34300. Train_MSE: 0.0003997350577265024. Test_MSE: 0.0001642094177342842\n",
      "Epoch: 386 Iteration: 34400. Train_MSE: 0.00017790490528568625. Test_MSE: 0.0001640296512014248\n",
      "Epoch: 387 Iteration: 34500. Train_MSE: 0.00025070394622161984. Test_MSE: 0.0001641545392334355\n",
      "Epoch: 388 Iteration: 34600. Train_MSE: 0.00757268350571394. Test_MSE: 0.00016324493689751134\n",
      "Epoch: 389 Iteration: 34700. Train_MSE: 0.00025601626839488745. Test_MSE: 0.00016315308034684363\n",
      "Epoch: 391 Iteration: 34800. Train_MSE: 0.00020183136803098023. Test_MSE: 0.00016367667798434287\n",
      "Epoch: 392 Iteration: 34900. Train_MSE: 0.0002738132025115192. Test_MSE: 0.00016266625382603162\n"
     ]
    },
    {
     "name": "stdout",
     "output_type": "stream",
     "text": [
      "Epoch: 393 Iteration: 35000. Train_MSE: 0.0008748149848543108. Test_MSE: 0.00016240993155345308\n",
      "Epoch: 394 Iteration: 35100. Train_MSE: 0.00029713453841395676. Test_MSE: 0.00016198242532778357\n",
      "Epoch: 395 Iteration: 35200. Train_MSE: 0.00031342078000307083. Test_MSE: 0.00016187744244822882\n",
      "Epoch: 396 Iteration: 35300. Train_MSE: 0.0001927760022226721. Test_MSE: 0.00016200204340768927\n",
      "Epoch: 397 Iteration: 35400. Train_MSE: 0.0028411373496055603. Test_MSE: 0.00016134012938424968\n",
      "Epoch: 398 Iteration: 35500. Train_MSE: 0.0002713009307626635. Test_MSE: 0.0001610305520645409\n",
      "Epoch: 400 Iteration: 35600. Train_MSE: 0.00021771833417005837. Test_MSE: 0.00016161172552511512\n",
      "Epoch: 401 Iteration: 35700. Train_MSE: 0.0004798188165295869. Test_MSE: 0.00016062049487017478\n",
      "Epoch: 402 Iteration: 35800. Train_MSE: 0.00591813400387764. Test_MSE: 0.00016044486498741528\n",
      "Epoch: 403 Iteration: 35900. Train_MSE: 0.0008936309604905546. Test_MSE: 0.0001601055098485354\n",
      "Epoch: 404 Iteration: 36000. Train_MSE: 0.00021416360686998814. Test_MSE: 0.00015980318839589153\n",
      "Epoch: 405 Iteration: 36100. Train_MSE: 0.00013651004701387137. Test_MSE: 0.00015999197886424127\n",
      "Epoch: 406 Iteration: 36200. Train_MSE: 0.0007220802363008261. Test_MSE: 0.00015967708425363775\n",
      "Epoch: 407 Iteration: 36300. Train_MSE: 0.0002470278996042907. Test_MSE: 0.00015899989412860202\n",
      "Epoch: 408 Iteration: 36400. Train_MSE: 0.0002444327692501247. Test_MSE: 0.00015963904165424754\n",
      "Epoch: 410 Iteration: 36500. Train_MSE: 0.0006490701343864202. Test_MSE: 0.0001586918800298025\n",
      "Epoch: 411 Iteration: 36600. Train_MSE: 0.013138779439032078. Test_MSE: 0.00015866482646575609\n",
      "Epoch: 412 Iteration: 36700. Train_MSE: 0.00029506292776204646. Test_MSE: 0.00015824755623102026\n",
      "Epoch: 413 Iteration: 36800. Train_MSE: 0.00024715473409742117. Test_MSE: 0.00015786111678391755\n",
      "Epoch: 414 Iteration: 36900. Train_MSE: 0.00040120427729561925. Test_MSE: 0.00015811495538134738\n",
      "Epoch: 415 Iteration: 37000. Train_MSE: 0.0009945275960490108. Test_MSE: 0.00015790793305359363\n",
      "Epoch: 416 Iteration: 37100. Train_MSE: 0.001913683139719069. Test_MSE: 0.0001572133735244771\n",
      "Epoch: 417 Iteration: 37200. Train_MSE: 0.0003639119095169008. Test_MSE: 0.00015772084088433428\n",
      "Epoch: 419 Iteration: 37300. Train_MSE: 0.0002155049005523324. Test_MSE: 0.00015691981814973082\n",
      "Epoch: 420 Iteration: 37400. Train_MSE: 0.00015636550961062312. Test_MSE: 0.0001571956727006556\n",
      "Epoch: 421 Iteration: 37500. Train_MSE: 0.0002275992592331022. Test_MSE: 0.00015649772996335435\n",
      "Epoch: 422 Iteration: 37600. Train_MSE: 0.000319651240715757. Test_MSE: 0.00015611385168982618\n",
      "Epoch: 423 Iteration: 37700. Train_MSE: 0.0018691703444346786. Test_MSE: 0.00015637972388065426\n",
      "Epoch: 424 Iteration: 37800. Train_MSE: 0.007853648625314236. Test_MSE: 0.00015623331084297628\n",
      "Epoch: 425 Iteration: 37900. Train_MSE: 0.0005291145644150674. Test_MSE: 0.00015564660864997396\n",
      "Epoch: 426 Iteration: 38000. Train_MSE: 0.00021773735352326185. Test_MSE: 0.00015598511740383286\n",
      "Epoch: 428 Iteration: 38100. Train_MSE: 0.00019884271023329347. Test_MSE: 0.00015513094396537103\n",
      "Epoch: 429 Iteration: 38200. Train_MSE: 0.00021282013040035963. Test_MSE: 0.00015553859679777094\n",
      "Epoch: 430 Iteration: 38300. Train_MSE: 0.0003849908825941384. Test_MSE: 0.00015476989403432497\n",
      "Epoch: 431 Iteration: 38400. Train_MSE: 0.00024934031534940004. Test_MSE: 0.00015462238014789972\n",
      "Epoch: 432 Iteration: 38500. Train_MSE: 0.0021006606984883547. Test_MSE: 0.00015474455801083137\n",
      "Epoch: 433 Iteration: 38600. Train_MSE: 0.006886319722980261. Test_MSE: 0.00015476604949441071\n",
      "Epoch: 434 Iteration: 38700. Train_MSE: 0.00029700167942792177. Test_MSE: 0.00015396402551926986\n",
      "Epoch: 435 Iteration: 38800. Train_MSE: 0.0001759650622261688. Test_MSE: 0.00015420024216812722\n",
      "Epoch: 437 Iteration: 38900. Train_MSE: 0.00031352497171610594. Test_MSE: 0.0001535101200862733\n",
      "Epoch: 438 Iteration: 39000. Train_MSE: 0.00015527957293670624. Test_MSE: 0.0001539563276023289\n",
      "Epoch: 439 Iteration: 39100. Train_MSE: 0.0006323569105006754. Test_MSE: 0.0001530320960331895\n",
      "Epoch: 440 Iteration: 39200. Train_MSE: 0.00015887523477431387. Test_MSE: 0.00015317222712907643\n",
      "Epoch: 441 Iteration: 39300. Train_MSE: 0.00021303884568624198. Test_MSE: 0.00015329970587809556\n",
      "Epoch: 442 Iteration: 39400. Train_MSE: 0.00014974131772760302. Test_MSE: 0.00015338840309003427\n",
      "Epoch: 443 Iteration: 39500. Train_MSE: 0.00039255197043530643. Test_MSE: 0.00015241971284649165\n",
      "Epoch: 444 Iteration: 39600. Train_MSE: 0.00015951921523083001. Test_MSE: 0.00015272747648819592\n",
      "Epoch: 446 Iteration: 39700. Train_MSE: 0.00025928288232535124. Test_MSE: 0.00015210405039303628\n",
      "Epoch: 447 Iteration: 39800. Train_MSE: 0.000134107016492635. Test_MSE: 0.00015238928055046595\n",
      "Epoch: 448 Iteration: 39900. Train_MSE: 0.0009179400512948632. Test_MSE: 0.00015145530515733795\n",
      "Epoch: 449 Iteration: 40000. Train_MSE: 0.0002037108934018761. Test_MSE: 0.0001518231407240757\n",
      "Epoch: 450 Iteration: 40100. Train_MSE: 0.00024155281425919384. Test_MSE: 0.0001518493049211526\n",
      "Epoch: 451 Iteration: 40200. Train_MSE: 0.0001232916838489473. Test_MSE: 0.0001518581477624317\n",
      "Epoch: 452 Iteration: 40300. Train_MSE: 0.0002748531987890601. Test_MSE: 0.000150934351658055\n",
      "Epoch: 453 Iteration: 40400. Train_MSE: 0.00041591061744838953. Test_MSE: 0.00015120789839917796\n",
      "Epoch: 455 Iteration: 40500. Train_MSE: 0.00019352206436451524. Test_MSE: 0.00015077800790826534\n",
      "Epoch: 456 Iteration: 40600. Train_MSE: 0.00023546833836007863. Test_MSE: 0.00015091773034816872\n",
      "Epoch: 457 Iteration: 40700. Train_MSE: 0.0003063747426494956. Test_MSE: 0.0001500697034370982\n",
      "Epoch: 458 Iteration: 40800. Train_MSE: 0.00043236621422693133. Test_MSE: 0.0001504763199768868\n",
      "Epoch: 459 Iteration: 40900. Train_MSE: 0.00020758867322001606. Test_MSE: 0.00015034266171652823\n",
      "Epoch: 460 Iteration: 41000. Train_MSE: 0.00013416634465102106. Test_MSE: 0.0001504427324938649\n",
      "Epoch: 461 Iteration: 41100. Train_MSE: 0.00029911648016422987. Test_MSE: 0.00014953541917695493\n",
      "Epoch: 462 Iteration: 41200. Train_MSE: 0.0004113013274036348. Test_MSE: 0.00014970333781085568\n",
      "Epoch: 464 Iteration: 41300. Train_MSE: 0.000386724277632311. Test_MSE: 0.00014947645679065557\n",
      "Epoch: 465 Iteration: 41400. Train_MSE: 0.0001954232866410166. Test_MSE: 0.00014951527919380864\n",
      "Epoch: 466 Iteration: 41500. Train_MSE: 0.013150833547115326. Test_MSE: 0.00014874626524579712\n",
      "Epoch: 467 Iteration: 41600. Train_MSE: 0.00012476291158236563. Test_MSE: 0.0001488907558739335\n",
      "Epoch: 468 Iteration: 41700. Train_MSE: 0.00020178966224193573. Test_MSE: 0.00014897163176904552\n",
      "Epoch: 469 Iteration: 41800. Train_MSE: 0.0001200775514007546. Test_MSE: 0.0001490819287013434\n",
      "Epoch: 470 Iteration: 41900. Train_MSE: 0.00017580122221261263. Test_MSE: 0.00014829098840656797\n",
      "Epoch: 471 Iteration: 42000. Train_MSE: 0.007851564325392246. Test_MSE: 0.0001482232135924279\n",
      "Epoch: 473 Iteration: 42100. Train_MSE: 0.0005859086522832513. Test_MSE: 0.0001484439118486081\n",
      "Epoch: 474 Iteration: 42200. Train_MSE: 0.00023365553352050483. Test_MSE: 0.00014817720569040992\n",
      "Epoch: 475 Iteration: 42300. Train_MSE: 0.005569494795054197. Test_MSE: 0.00014773382895775462\n",
      "Epoch: 476 Iteration: 42400. Train_MSE: 0.0001841940393205732. Test_MSE: 0.00014757164027977778\n",
      "Epoch: 477 Iteration: 42500. Train_MSE: 0.0002394203474977985. Test_MSE: 0.00014775227483599654\n",
      "Epoch: 478 Iteration: 42600. Train_MSE: 0.0001796608994482085. Test_MSE: 0.0001478434143441566\n",
      "Epoch: 479 Iteration: 42700. Train_MSE: 0.00020347863028291613. Test_MSE: 0.00014713840596747828\n",
      "Epoch: 480 Iteration: 42800. Train_MSE: 0.000219268404180184. Test_MSE: 0.00014698426727781516\n",
      "Epoch: 482 Iteration: 42900. Train_MSE: 0.0002735048474278301. Test_MSE: 0.00014737582596953348\n",
      "Epoch: 483 Iteration: 43000. Train_MSE: 0.0002999987336806953. Test_MSE: 0.00014690357400693957\n",
      "Epoch: 484 Iteration: 43100. Train_MSE: 0.0011775523889809847. Test_MSE: 0.00014667609922298336\n",
      "Epoch: 485 Iteration: 43200. Train_MSE: 0.0003608694241847843. Test_MSE: 0.00014638094098028462\n",
      "Epoch: 486 Iteration: 43300. Train_MSE: 0.00016636215150356293. Test_MSE: 0.00014647439088175012\n",
      "Epoch: 487 Iteration: 43400. Train_MSE: 0.00022560349316336215. Test_MSE: 0.00014668919451987848\n",
      "Epoch: 488 Iteration: 43500. Train_MSE: 0.007462393492460251. Test_MSE: 0.0001459225669597667\n"
     ]
    },
    {
     "name": "stdout",
     "output_type": "stream",
     "text": [
      "Epoch: 489 Iteration: 43600. Train_MSE: 0.00023108496679924428. Test_MSE: 0.00014580271098163012\n",
      "Epoch: 491 Iteration: 43700. Train_MSE: 0.00017838709754869342. Test_MSE: 0.00014639600101296404\n",
      "Epoch: 492 Iteration: 43800. Train_MSE: 0.0002614220720715821. Test_MSE: 0.0001457549850429669\n",
      "Epoch: 493 Iteration: 43900. Train_MSE: 0.0008374911267310381. Test_MSE: 0.00014555291666915266\n",
      "Epoch: 494 Iteration: 44000. Train_MSE: 0.0002593439712654799. Test_MSE: 0.000145147345596525\n",
      "Epoch: 495 Iteration: 44100. Train_MSE: 0.00028846494387835264. Test_MSE: 0.00014527358004405252\n",
      "Epoch: 496 Iteration: 44200. Train_MSE: 0.00018257336341775954. Test_MSE: 0.00014549169021720938\n",
      "Epoch: 497 Iteration: 44300. Train_MSE: 0.0027634126599878073. Test_MSE: 0.0001449410779426505\n",
      "Epoch: 498 Iteration: 44400. Train_MSE: 0.00024443314759992063. Test_MSE: 0.00014463629803516628\n",
      "Epoch: 500 Iteration: 44500. Train_MSE: 0.00021640461636707187. Test_MSE: 0.00014524045927044862\n",
      "Epoch: 501 Iteration: 44600. Train_MSE: 0.00046115912846289575. Test_MSE: 0.00014461311106976656\n",
      "Epoch: 502 Iteration: 44700. Train_MSE: 0.005833172705024481. Test_MSE: 0.00014448991408508579\n",
      "Epoch: 503 Iteration: 44800. Train_MSE: 0.0008572725346311927. Test_MSE: 0.0001441384930870821\n",
      "Epoch: 504 Iteration: 44900. Train_MSE: 0.00019932322902604938. Test_MSE: 0.00014408507647602927\n",
      "Epoch: 505 Iteration: 45000. Train_MSE: 0.00013115648471284658. Test_MSE: 0.00014435563013167862\n",
      "Epoch: 506 Iteration: 45100. Train_MSE: 0.0006933650583960116. Test_MSE: 0.00014409992763030736\n",
      "Epoch: 507 Iteration: 45200. Train_MSE: 0.00022377805726137012. Test_MSE: 0.0001435000518113887\n",
      "Epoch: 508 Iteration: 45300. Train_MSE: 0.000217695371247828. Test_MSE: 0.00014412409465393286\n",
      "Epoch: 510 Iteration: 45400. Train_MSE: 0.0006269972654990852. Test_MSE: 0.00014352480989411235\n",
      "Epoch: 511 Iteration: 45500. Train_MSE: 0.013005247339606285. Test_MSE: 0.0001435426308167145\n",
      "Epoch: 512 Iteration: 45600. Train_MSE: 0.0002795068721752614. Test_MSE: 0.00014311826473624133\n",
      "Epoch: 513 Iteration: 45700. Train_MSE: 0.00023217435227707028. Test_MSE: 0.00014296956879791565\n",
      "Epoch: 514 Iteration: 45800. Train_MSE: 0.0003789341717492789. Test_MSE: 0.00014329928317403427\n",
      "Epoch: 515 Iteration: 45900. Train_MSE: 0.0009683144744485617. Test_MSE: 0.00014314356326519952\n",
      "Epoch: 516 Iteration: 46000. Train_MSE: 0.0019156686030328274. Test_MSE: 0.00014252188082512706\n",
      "Epoch: 517 Iteration: 46100. Train_MSE: 0.0003129787801299244. Test_MSE: 0.00014301798118125563\n",
      "Epoch: 519 Iteration: 46200. Train_MSE: 0.00020455295452848077. Test_MSE: 0.00014253345770354978\n",
      "Epoch: 520 Iteration: 46300. Train_MSE: 0.00016015949950087816. Test_MSE: 0.00014281324596307883\n",
      "Epoch: 521 Iteration: 46400. Train_MSE: 0.0002033886848948896. Test_MSE: 0.00014214311985940908\n",
      "Epoch: 522 Iteration: 46500. Train_MSE: 0.0002627907961141318. Test_MSE: 0.0001419685598271272\n",
      "Epoch: 523 Iteration: 46600. Train_MSE: 0.001860582735389471. Test_MSE: 0.00014230974004355828\n",
      "Epoch: 524 Iteration: 46700. Train_MSE: 0.00777942081913352. Test_MSE: 0.00014221585013163895\n",
      "Epoch: 525 Iteration: 46800. Train_MSE: 0.0005109761259518564. Test_MSE: 0.00014168172860798528\n",
      "Epoch: 526 Iteration: 46900. Train_MSE: 0.00020017303177155554. Test_MSE: 0.00014200622393783114\n",
      "Epoch: 528 Iteration: 47000. Train_MSE: 0.00018411612836644053. Test_MSE: 0.000141472791029039\n",
      "Epoch: 529 Iteration: 47100. Train_MSE: 0.00019744242308661342. Test_MSE: 0.0001418723300524276\n",
      "Epoch: 530 Iteration: 47200. Train_MSE: 0.00034472026163712144. Test_MSE: 0.00014114427996029342\n",
      "Epoch: 531 Iteration: 47300. Train_MSE: 0.0002011771430261433. Test_MSE: 0.00014113121434834687\n",
      "Epoch: 532 Iteration: 47400. Train_MSE: 0.0020775990560650826. Test_MSE: 0.00014136233323071003\n",
      "Epoch: 533 Iteration: 47500. Train_MSE: 0.0068022203631699085. Test_MSE: 0.00014141792734839295\n",
      "Epoch: 534 Iteration: 47600. Train_MSE: 0.0002910113544203341. Test_MSE: 0.00014070472928673263\n",
      "Epoch: 535 Iteration: 47700. Train_MSE: 0.00014954892685636878. Test_MSE: 0.00014092315863605041\n",
      "Epoch: 537 Iteration: 47800. Train_MSE: 0.0002697381132747978. Test_MSE: 0.00014051345308350655\n",
      "Epoch: 538 Iteration: 47900. Train_MSE: 0.00014127696340437979. Test_MSE: 0.00014095033669661607\n",
      "Epoch: 539 Iteration: 48000. Train_MSE: 0.0006002926966175437. Test_MSE: 0.00014009944494460137\n",
      "Epoch: 540 Iteration: 48100. Train_MSE: 0.00012464243627618998. Test_MSE: 0.000140297670409882\n",
      "Epoch: 541 Iteration: 48200. Train_MSE: 0.0001954495965037495. Test_MSE: 0.00014054027319433774\n",
      "Epoch: 542 Iteration: 48300. Train_MSE: 0.00013816560385748744. Test_MSE: 0.00014066069924877726\n",
      "Epoch: 543 Iteration: 48400. Train_MSE: 0.000387082458473742. Test_MSE: 0.00013980140048490254\n",
      "Epoch: 544 Iteration: 48500. Train_MSE: 0.00014765669766347855. Test_MSE: 0.0001400639751419468\n",
      "Epoch: 546 Iteration: 48600. Train_MSE: 0.00022887140221428126. Test_MSE: 0.00013969254945571006\n",
      "Epoch: 547 Iteration: 48700. Train_MSE: 0.00012463345774449408. Test_MSE: 0.00014000092568220397\n",
      "Epoch: 548 Iteration: 48800. Train_MSE: 0.0009185448870994151. Test_MSE: 0.0001391525712650996\n",
      "Epoch: 549 Iteration: 48900. Train_MSE: 0.00017973412468563765. Test_MSE: 0.00013951597214886292\n",
      "Epoch: 550 Iteration: 49000. Train_MSE: 0.00022263936989475042. Test_MSE: 0.0001396689179973867\n",
      "Epoch: 551 Iteration: 49100. Train_MSE: 0.00010630472388584167. Test_MSE: 0.00013972840283432353\n",
      "Epoch: 552 Iteration: 49200. Train_MSE: 0.00026935734786093235. Test_MSE: 0.0001389119272518749\n",
      "Epoch: 553 Iteration: 49300. Train_MSE: 0.00036695634480565786. Test_MSE: 0.00013912909214018138\n",
      "Epoch: 555 Iteration: 49400. Train_MSE: 0.00016963713278528303. Test_MSE: 0.0001389066020321399\n",
      "Epoch: 556 Iteration: 49500. Train_MSE: 0.00021907902555540204. Test_MSE: 0.00013909864646433014\n",
      "Epoch: 557 Iteration: 49600. Train_MSE: 0.0003124890790786594. Test_MSE: 0.0001383329074065485\n",
      "Epoch: 558 Iteration: 49700. Train_MSE: 0.0003926852950826287. Test_MSE: 0.0001387088656619882\n",
      "Epoch: 559 Iteration: 49800. Train_MSE: 0.0001881265634438023. Test_MSE: 0.00013872272471594088\n",
      "Epoch: 560 Iteration: 49900. Train_MSE: 0.00012768746819347143. Test_MSE: 0.00013885983026626274\n",
      "Epoch: 561 Iteration: 50000. Train_MSE: 0.0002816755441017449. Test_MSE: 0.0001380640836437655\n",
      "Epoch: 562 Iteration: 50100. Train_MSE: 0.000360047968570143. Test_MSE: 0.00013818381265121932\n",
      "Epoch: 564 Iteration: 50200. Train_MSE: 0.00032267149072140455. Test_MSE: 0.00013812051365963803\n",
      "Epoch: 565 Iteration: 50300. Train_MSE: 0.00018168367387261242. Test_MSE: 0.00013822669576540026\n",
      "Epoch: 566 Iteration: 50400. Train_MSE: 0.013107363134622574. Test_MSE: 0.00013753691008959638\n",
      "Epoch: 567 Iteration: 50500. Train_MSE: 0.0001100341251003556. Test_MSE: 0.0001376738166075122\n",
      "Epoch: 568 Iteration: 50600. Train_MSE: 0.00017764676886145025. Test_MSE: 0.00013786550830762373\n",
      "Epoch: 569 Iteration: 50700. Train_MSE: 0.00010949726856779307. Test_MSE: 0.0001380106883624103\n",
      "Epoch: 570 Iteration: 50800. Train_MSE: 0.00016972271259874105. Test_MSE: 0.000137312275833003\n",
      "Epoch: 571 Iteration: 50900. Train_MSE: 0.0078722033649683. Test_MSE: 0.00013723185710788266\n",
      "Epoch: 573 Iteration: 51000. Train_MSE: 0.0005645311903208494. Test_MSE: 0.00013752621174292065\n",
      "Epoch: 574 Iteration: 51100. Train_MSE: 0.00022338643611874431. Test_MSE: 0.00013737678288760601\n",
      "Epoch: 575 Iteration: 51200. Train_MSE: 0.00554271275177598. Test_MSE: 0.0001369814003174092\n",
      "Epoch: 576 Iteration: 51300. Train_MSE: 0.00016072900325525552. Test_MSE: 0.00013683414745442547\n",
      "Epoch: 577 Iteration: 51400. Train_MSE: 0.00021180037583690137. Test_MSE: 0.00013710070679364103\n",
      "Epoch: 578 Iteration: 51500. Train_MSE: 0.00015948168584145606. Test_MSE: 0.00013723188067208073\n",
      "Epoch: 579 Iteration: 51600. Train_MSE: 0.00020524096908047795. Test_MSE: 0.00013661184322390265\n",
      "Epoch: 580 Iteration: 51700. Train_MSE: 0.00020277054863981903. Test_MSE: 0.00013646997939816398\n",
      "Epoch: 582 Iteration: 51800. Train_MSE: 0.0002267584641231224. Test_MSE: 0.00013688572198819875\n",
      "Epoch: 583 Iteration: 51900. Train_MSE: 0.0002771015861071646. Test_MSE: 0.0001365592890879988\n",
      "Epoch: 584 Iteration: 52000. Train_MSE: 0.0011496013030409813. Test_MSE: 0.00013636170016592726\n",
      "Epoch: 585 Iteration: 52100. Train_MSE: 0.00032602573628537357. Test_MSE: 0.00013608360634942778\n",
      "Epoch: 586 Iteration: 52200. Train_MSE: 0.00015227723633870482. Test_MSE: 0.00013626660122657974\n"
     ]
    },
    {
     "name": "stdout",
     "output_type": "stream",
     "text": [
      "Epoch: 587 Iteration: 52300. Train_MSE: 0.00021170024410821497. Test_MSE: 0.00013650298359135278\n",
      "Epoch: 588 Iteration: 52400. Train_MSE: 0.007381679955869913. Test_MSE: 0.0001358339427343797\n",
      "Epoch: 589 Iteration: 52500. Train_MSE: 0.00021302200912032276. Test_MSE: 0.00013571924120278658\n",
      "Epoch: 591 Iteration: 52600. Train_MSE: 0.00016017738380469382. Test_MSE: 0.00013629450023383284\n",
      "Epoch: 592 Iteration: 52700. Train_MSE: 0.00025345373433083296. Test_MSE: 0.00013582263407758697\n",
      "Epoch: 593 Iteration: 52800. Train_MSE: 0.0008129770867526531. Test_MSE: 0.00013565667540282563\n",
      "Epoch: 594 Iteration: 52900. Train_MSE: 0.00023055102792568505. Test_MSE: 0.00013527509720908306\n",
      "Epoch: 595 Iteration: 53000. Train_MSE: 0.0002623962936922908. Test_MSE: 0.00013547615665834606\n",
      "Epoch: 596 Iteration: 53100. Train_MSE: 0.00017570916679687798. Test_MSE: 0.0001357176567095129\n",
      "Epoch: 597 Iteration: 53200. Train_MSE: 0.0027042017318308353. Test_MSE: 0.00013524371818206686\n",
      "Epoch: 598 Iteration: 53300. Train_MSE: 0.00022575509501621127. Test_MSE: 0.00013496312309520549\n",
      "Epoch: 600 Iteration: 53400. Train_MSE: 0.000214407205930911. Test_MSE: 0.00013553402802903025\n",
      "Epoch: 601 Iteration: 53500. Train_MSE: 0.00044894928578287363. Test_MSE: 0.00013507266114440943\n",
      "Epoch: 602 Iteration: 53600. Train_MSE: 0.005773431621491909. Test_MSE: 0.00013498108614595447\n",
      "Epoch: 603 Iteration: 53700. Train_MSE: 0.0008321683271788061. Test_MSE: 0.00013463642413319175\n",
      "Epoch: 604 Iteration: 53800. Train_MSE: 0.00018118433945346624. Test_MSE: 0.00013467717128130645\n",
      "Epoch: 605 Iteration: 53900. Train_MSE: 0.0001278113923035562. Test_MSE: 0.00013496302725391155\n",
      "Epoch: 606 Iteration: 54000. Train_MSE: 0.0006707888678647578. Test_MSE: 0.0001347476796877232\n",
      "Epoch: 607 Iteration: 54100. Train_MSE: 0.00020525064610410482. Test_MSE: 0.00013421239510370744\n",
      "Epoch: 608 Iteration: 54200. Train_MSE: 0.00019210684695281088. Test_MSE: 0.000134788219265195\n",
      "Epoch: 610 Iteration: 54300. Train_MSE: 0.0006135082803666592. Test_MSE: 0.0001343443912672575\n",
      "Epoch: 611 Iteration: 54400. Train_MSE: 0.012908331118524075. Test_MSE: 0.0001343854014223132\n",
      "Epoch: 612 Iteration: 54500. Train_MSE: 0.0002648599911481142. Test_MSE: 0.00013397011264121392\n",
      "Epoch: 613 Iteration: 54600. Train_MSE: 0.00021839531837031245. Test_MSE: 0.00013391515140807398\n",
      "Epoch: 614 Iteration: 54700. Train_MSE: 0.0003648128476925194. Test_MSE: 0.00013425146441135898\n",
      "Epoch: 615 Iteration: 54800. Train_MSE: 0.0009544581989757717. Test_MSE: 0.00013412791785943304\n",
      "Epoch: 616 Iteration: 54900. Train_MSE: 0.0019118962809443474. Test_MSE: 0.00013356729095777054\n",
      "Epoch: 617 Iteration: 55000. Train_MSE: 0.0002738578768912703. Test_MSE: 0.00013402663171165947\n",
      "Epoch: 619 Iteration: 55100. Train_MSE: 0.00019327164045535028. Test_MSE: 0.00013368248426365764\n",
      "Epoch: 620 Iteration: 55200. Train_MSE: 0.00016361191228497773. Test_MSE: 0.00013396060196585826\n",
      "Epoch: 621 Iteration: 55300. Train_MSE: 0.00018645543605089188. Test_MSE: 0.00013332026460150713\n",
      "Epoch: 622 Iteration: 55400. Train_MSE: 0.0002284502115799114. Test_MSE: 0.00013323280671523826\n",
      "Epoch: 623 Iteration: 55500. Train_MSE: 0.0018555078422650695. Test_MSE: 0.00013358251862629253\n",
      "Epoch: 624 Iteration: 55600. Train_MSE: 0.007721425965428352. Test_MSE: 0.00013351822499454841\n",
      "Epoch: 625 Iteration: 55700. Train_MSE: 0.0004987613647244871. Test_MSE: 0.00013303475583963727\n",
      "Epoch: 626 Iteration: 55800. Train_MSE: 0.00018057934357784688. Test_MSE: 0.0001333308759908524\n",
      "Epoch: 628 Iteration: 55900. Train_MSE: 0.00017161932191811502. Test_MSE: 0.00013294296288753928\n",
      "Epoch: 629 Iteration: 56000. Train_MSE: 0.00018751177412923425. Test_MSE: 0.0001333309911955881\n",
      "Epoch: 630 Iteration: 56100. Train_MSE: 0.00031544725061394274. Test_MSE: 0.00013264103385035667\n",
      "Epoch: 631 Iteration: 56200. Train_MSE: 0.00017020798986777663. Test_MSE: 0.00013267959095994005\n",
      "Epoch: 632 Iteration: 56300. Train_MSE: 0.0020620294380933046. Test_MSE: 0.00013293913173799375\n",
      "Epoch: 633 Iteration: 56400. Train_MSE: 0.006738899275660515. Test_MSE: 0.00013301239094484007\n",
      "Epoch: 634 Iteration: 56500. Train_MSE: 0.0002854506019502878. Test_MSE: 0.0001323714120320594\n",
      "Epoch: 635 Iteration: 56600. Train_MSE: 0.0001311489613726735. Test_MSE: 0.00013256547158571318\n",
      "Epoch: 637 Iteration: 56700. Train_MSE: 0.00023946361034177244. Test_MSE: 0.0001322816828385095\n",
      "Epoch: 638 Iteration: 56800. Train_MSE: 0.00013246310118120164. Test_MSE: 0.00013270345577331543\n",
      "Epoch: 639 Iteration: 56900. Train_MSE: 0.0005783483502455056. Test_MSE: 0.00013191041981325968\n",
      "Epoch: 640 Iteration: 57000. Train_MSE: 0.00010444649524288252. Test_MSE: 0.00013212087092950227\n",
      "Epoch: 641 Iteration: 57100. Train_MSE: 0.00018272740999236703. Test_MSE: 0.00013239698718090545\n",
      "Epoch: 642 Iteration: 57200. Train_MSE: 0.00013267503527458757. Test_MSE: 0.0001325319626389625\n",
      "Epoch: 643 Iteration: 57300. Train_MSE: 0.00038406174280680716. Test_MSE: 0.0001317545606296249\n",
      "Epoch: 644 Iteration: 57400. Train_MSE: 0.00013493033475242555. Test_MSE: 0.00013198099745767667\n",
      "Epoch: 646 Iteration: 57500. Train_MSE: 0.0002089809422614053. Test_MSE: 0.00013172044031528786\n",
      "Epoch: 647 Iteration: 57600. Train_MSE: 0.00011938954412471503. Test_MSE: 0.00013203122863676876\n",
      "Epoch: 648 Iteration: 57700. Train_MSE: 0.0009176358580589294. Test_MSE: 0.00013124633349048095\n",
      "Epoch: 649 Iteration: 57800. Train_MSE: 0.00016151118325069547. Test_MSE: 0.00013158857673490671\n",
      "Epoch: 650 Iteration: 57900. Train_MSE: 0.00020567658066283911. Test_MSE: 0.00013178399764160174\n",
      "Epoch: 651 Iteration: 58000. Train_MSE: 9.57757729338482e-05. Test_MSE: 0.00013186795332583088\n",
      "Epoch: 652 Iteration: 58100. Train_MSE: 0.0002666299697011709. Test_MSE: 0.0001311305660667052\n",
      "Epoch: 653 Iteration: 58200. Train_MSE: 0.0003247378335800022. Test_MSE: 0.0001313100895127468\n",
      "Epoch: 655 Iteration: 58300. Train_MSE: 0.0001510150177637115. Test_MSE: 0.00013117462100019703\n",
      "Epoch: 656 Iteration: 58400. Train_MSE: 0.00020840067008975893. Test_MSE: 0.00013138413400356794\n",
      "Epoch: 657 Iteration: 58500. Train_MSE: 0.0003153524303343147. Test_MSE: 0.00013067801522515245\n",
      "Epoch: 658 Iteration: 58600. Train_MSE: 0.00035225809551775455. Test_MSE: 0.00013102188490415203\n",
      "Epoch: 659 Iteration: 58700. Train_MSE: 0.00017036570352502167. Test_MSE: 0.0001310921762173298\n",
      "Epoch: 660 Iteration: 58800. Train_MSE: 0.00012492630048654974. Test_MSE: 0.0001312443746871581\n",
      "Epoch: 661 Iteration: 58900. Train_MSE: 0.0002678975579328835. Test_MSE: 0.0001305277267347342\n",
      "Epoch: 662 Iteration: 59000. Train_MSE: 0.0003170929558109492. Test_MSE: 0.00013061808521609854\n",
      "Epoch: 664 Iteration: 59100. Train_MSE: 0.0002818414941430092. Test_MSE: 0.00013061921786040122\n",
      "Epoch: 665 Iteration: 59200. Train_MSE: 0.00017257625586353242. Test_MSE: 0.00013075186118772768\n",
      "Epoch: 666 Iteration: 59300. Train_MSE: 0.013061531819403172. Test_MSE: 0.00013011787048659588\n",
      "Epoch: 667 Iteration: 59400. Train_MSE: 9.673977911006659e-05. Test_MSE: 0.00013024353256894683\n",
      "Epoch: 668 Iteration: 59500. Train_MSE: 0.00015794552746228874. Test_MSE: 0.0001304716376068673\n",
      "Epoch: 669 Iteration: 59600. Train_MSE: 0.00010170513996854424. Test_MSE: 0.00013062993726441378\n",
      "Epoch: 670 Iteration: 59700. Train_MSE: 0.0001608601596672088. Test_MSE: 0.0001299991641232028\n",
      "Epoch: 671 Iteration: 59800. Train_MSE: 0.007893983274698257. Test_MSE: 0.00012991499641498193\n",
      "Epoch: 673 Iteration: 59900. Train_MSE: 0.0005547911860048771. Test_MSE: 0.0001302226997436991\n",
      "Epoch: 674 Iteration: 60000. Train_MSE: 0.00021651634597219527. Test_MSE: 0.0001301305508747444\n",
      "Epoch: 675 Iteration: 60100. Train_MSE: 0.00551757775247097. Test_MSE: 0.00012976931904171116\n",
      "Epoch: 676 Iteration: 60200. Train_MSE: 0.00014083832502365112. Test_MSE: 0.00012962959613589008\n",
      "Epoch: 677 Iteration: 60300. Train_MSE: 0.00018841875134967268. Test_MSE: 0.00012991976924262957\n",
      "Epoch: 678 Iteration: 60400. Train_MSE: 0.00014516993542201817. Test_MSE: 0.00013006496732417984\n",
      "Epoch: 679 Iteration: 60500. Train_MSE: 0.000208334531635046. Test_MSE: 0.00012950384397970296\n",
      "Epoch: 680 Iteration: 60600. Train_MSE: 0.00018874801753554493. Test_MSE: 0.0001293775071934985\n",
      "Epoch: 682 Iteration: 60700. Train_MSE: 0.00019679745309986174. Test_MSE: 0.00012977972865645655\n",
      "Epoch: 683 Iteration: 60800. Train_MSE: 0.00026078385417349637. Test_MSE: 0.00012952835632091232\n"
     ]
    },
    {
     "name": "stdout",
     "output_type": "stream",
     "text": [
      "Epoch: 684 Iteration: 60900. Train_MSE: 0.0011315442388877273. Test_MSE: 0.00012935408498903651\n",
      "Epoch: 685 Iteration: 61000. Train_MSE: 0.0002951260539703071. Test_MSE: 0.00012908934043842106\n",
      "Epoch: 686 Iteration: 61100. Train_MSE: 0.00013830045645590872. Test_MSE: 0.00012930153207772952\n",
      "Epoch: 687 Iteration: 61200. Train_MSE: 0.00020305508223827928. Test_MSE: 0.00012954171225231908\n",
      "Epoch: 688 Iteration: 61300. Train_MSE: 0.007317474577575922. Test_MSE: 0.0001289401596295297\n",
      "Epoch: 689 Iteration: 61400. Train_MSE: 0.0001988384174183011. Test_MSE: 0.00012884111386347408\n",
      "Epoch: 691 Iteration: 61500. Train_MSE: 0.00014454772463068366. Test_MSE: 0.000129380912683884\n",
      "Epoch: 692 Iteration: 61600. Train_MSE: 0.000247789837885648. Test_MSE: 0.00012899812421018382\n",
      "Epoch: 693 Iteration: 61700. Train_MSE: 0.0007982656825333834. Test_MSE: 0.00012885976720545657\n",
      "Epoch: 694 Iteration: 61800. Train_MSE: 0.00020741297339554876. Test_MSE: 0.00012849876300194185\n",
      "Epoch: 695 Iteration: 61900. Train_MSE: 0.00023860784131102264. Test_MSE: 0.00012872330892829814\n",
      "Epoch: 696 Iteration: 62000. Train_MSE: 0.00017070821195375174. Test_MSE: 0.00012896711104048718\n",
      "Epoch: 697 Iteration: 62100. Train_MSE: 0.0026525240391492844. Test_MSE: 0.0001285486254169467\n",
      "Epoch: 698 Iteration: 62200. Train_MSE: 0.0002116388059221208. Test_MSE: 0.00012829345464269347\n",
      "Epoch: 700 Iteration: 62300. Train_MSE: 0.00021218649635557085. Test_MSE: 0.00012882125289741099\n",
      "Epoch: 701 Iteration: 62400. Train_MSE: 0.0004397349839564413. Test_MSE: 0.00012844752174918163\n",
      "Epoch: 702 Iteration: 62500. Train_MSE: 0.00572630763053894. Test_MSE: 0.0001283799890069856\n",
      "Epoch: 703 Iteration: 62600. Train_MSE: 0.000813992868643254. Test_MSE: 0.0001280468862128329\n",
      "Epoch: 704 Iteration: 62700. Train_MSE: 0.0001628230675123632. Test_MSE: 0.00012812718294498323\n",
      "Epoch: 705 Iteration: 62800. Train_MSE: 0.0001255470997421071. Test_MSE: 0.00012840929931810137\n",
      "Epoch: 706 Iteration: 62900. Train_MSE: 0.000652247341349721. Test_MSE: 0.00012822471219175736\n",
      "Epoch: 707 Iteration: 63000. Train_MSE: 0.00019047994283027947. Test_MSE: 0.00012774210585506018\n",
      "Epoch: 708 Iteration: 63100. Train_MSE: 0.00016927358228713274. Test_MSE: 0.0001282702945818137\n",
      "Epoch: 710 Iteration: 63200. Train_MSE: 0.0006043888861313462. Test_MSE: 0.00012790771515902628\n",
      "Epoch: 711 Iteration: 63300. Train_MSE: 0.012832198292016983. Test_MSE: 0.00012796681706944113\n",
      "Epoch: 712 Iteration: 63400. Train_MSE: 0.00025197200011461973. Test_MSE: 0.00012756490630545642\n",
      "Epoch: 713 Iteration: 63500. Train_MSE: 0.00020595808746293187. Test_MSE: 0.0001275537074909887\n",
      "Epoch: 714 Iteration: 63600. Train_MSE: 0.00035494769690558314. Test_MSE: 0.0001278794151840562\n",
      "Epoch: 715 Iteration: 63700. Train_MSE: 0.0009441679576411843. Test_MSE: 0.00012778088848711266\n",
      "Epoch: 716 Iteration: 63800. Train_MSE: 0.0019052349962294102. Test_MSE: 0.00012727215917859825\n",
      "Epoch: 717 Iteration: 63900. Train_MSE: 0.00024123062030412257. Test_MSE: 0.00012769447360898206\n",
      "Epoch: 719 Iteration: 64000. Train_MSE: 0.00018274060857947916. Test_MSE: 0.00012742183356568985\n",
      "Epoch: 720 Iteration: 64100. Train_MSE: 0.0001658922847127542. Test_MSE: 0.00012770168446810378\n",
      "Epoch: 721 Iteration: 64200. Train_MSE: 0.0001740633451845497. Test_MSE: 0.00012708709089871462\n",
      "Epoch: 722 Iteration: 64300. Train_MSE: 0.0002042726264335215. Test_MSE: 0.000127040670340196\n",
      "Epoch: 723 Iteration: 64400. Train_MSE: 0.0018512270180508494. Test_MSE: 0.00012738051087248355\n",
      "Epoch: 724 Iteration: 64500. Train_MSE: 0.007674613036215305. Test_MSE: 0.00012733778439419916\n",
      "Epoch: 725 Iteration: 64600. Train_MSE: 0.0004901819629594684. Test_MSE: 0.00012689970137484395\n",
      "Epoch: 726 Iteration: 64700. Train_MSE: 0.00016178264922928065. Test_MSE: 0.00012716740244230238\n",
      "Epoch: 728 Iteration: 64800. Train_MSE: 0.00016120998770929873. Test_MSE: 0.00012685246659610057\n",
      "Epoch: 729 Iteration: 64900. Train_MSE: 0.00018074418767355382. Test_MSE: 0.00012723185536109234\n",
      "Epoch: 730 Iteration: 65000. Train_MSE: 0.00029449621797539294. Test_MSE: 0.00012657350371849736\n",
      "Epoch: 731 Iteration: 65100. Train_MSE: 0.0001478957710787654. Test_MSE: 0.0001266348881861544\n",
      "Epoch: 732 Iteration: 65200. Train_MSE: 0.00205114483833313. Test_MSE: 0.00012689577059300162\n",
      "Epoch: 733 Iteration: 65300. Train_MSE: 0.006688004359602928. Test_MSE: 0.0001269807808353486\n",
      "Epoch: 734 Iteration: 65400. Train_MSE: 0.0002811966696754098. Test_MSE: 0.00012639564446043948\n",
      "Epoch: 735 Iteration: 65500. Train_MSE: 0.00011738247849280015. Test_MSE: 0.00012656652879492044\n",
      "Epoch: 737 Iteration: 65600. Train_MSE: 0.00021617906168103218. Test_MSE: 0.0001263424496587678\n",
      "Epoch: 738 Iteration: 65700. Train_MSE: 0.0001264312450075522. Test_MSE: 0.00012675137490631558\n",
      "Epoch: 739 Iteration: 65800. Train_MSE: 0.000563151843380183. Test_MSE: 0.00012600179835528294\n",
      "Epoch: 740 Iteration: 65900. Train_MSE: 9.088979277294129e-05. Test_MSE: 0.0001262136722199417\n",
      "Epoch: 741 Iteration: 66000. Train_MSE: 0.00017289718380197883. Test_MSE: 0.00012649609374174422\n",
      "Epoch: 742 Iteration: 66100. Train_MSE: 0.00012990015966352075. Test_MSE: 0.0001266411316043935\n",
      "Epoch: 743 Iteration: 66200. Train_MSE: 0.00038244371535256505. Test_MSE: 0.00012592635455137128\n",
      "Epoch: 744 Iteration: 66300. Train_MSE: 0.00012293655890971422. Test_MSE: 0.00012612777318683817\n",
      "Epoch: 746 Iteration: 66400. Train_MSE: 0.0001947175187524408. Test_MSE: 0.00012592083970150886\n",
      "Epoch: 747 Iteration: 66500. Train_MSE: 0.00011648147483356297. Test_MSE: 0.00012623050429468133\n",
      "Epoch: 748 Iteration: 66600. Train_MSE: 0.0009151059202849865. Test_MSE: 0.00012549456017037406\n",
      "Epoch: 749 Iteration: 66700. Train_MSE: 0.00014694759738631546. Test_MSE: 0.0001258181963005587\n",
      "Epoch: 750 Iteration: 66800. Train_MSE: 0.0001916088949656114. Test_MSE: 0.00012602622848354404\n",
      "Epoch: 751 Iteration: 66900. Train_MSE: 8.901715045794845e-05. Test_MSE: 0.0001261267476325118\n",
      "Epoch: 752 Iteration: 67000. Train_MSE: 0.00026554532814770937. Test_MSE: 0.00012545026983980587\n",
      "Epoch: 753 Iteration: 67100. Train_MSE: 0.00028939262847416103. Test_MSE: 0.00012560741888448766\n",
      "Epoch: 755 Iteration: 67200. Train_MSE: 0.00013660381955560297. Test_MSE: 0.00012551230026740614\n",
      "Epoch: 756 Iteration: 67300. Train_MSE: 0.0002011534379562363. Test_MSE: 0.00012573019455765043\n",
      "Epoch: 757 Iteration: 67400. Train_MSE: 0.0003167104732710868. Test_MSE: 0.00012507111977409552\n",
      "Epoch: 758 Iteration: 67500. Train_MSE: 0.0003138832107651979. Test_MSE: 0.00012539323122262892\n",
      "Epoch: 759 Iteration: 67600. Train_MSE: 0.00015546972281299531. Test_MSE: 0.00012548695834460749\n",
      "Epoch: 760 Iteration: 67700. Train_MSE: 0.00012372391938697547. Test_MSE: 0.00012565046353116554\n",
      "Epoch: 761 Iteration: 67800. Train_MSE: 0.00025726493913680315. Test_MSE: 0.0001249942928284558\n",
      "Epoch: 762 Iteration: 67900. Train_MSE: 0.00028208293952047825. Test_MSE: 0.00012507041521352656\n",
      "Epoch: 764 Iteration: 68000. Train_MSE: 0.00025330798234790564. Test_MSE: 0.00012509648131176878\n",
      "Epoch: 765 Iteration: 68100. Train_MSE: 0.0001664700685068965. Test_MSE: 0.0001252414358849612\n",
      "Epoch: 766 Iteration: 68200. Train_MSE: 0.013011164963245392. Test_MSE: 0.0001246497107949032\n",
      "Epoch: 767 Iteration: 68300. Train_MSE: 8.543866715626791e-05. Test_MSE: 0.00012477134898535272\n",
      "Epoch: 768 Iteration: 68400. Train_MSE: 0.0001426762610208243. Test_MSE: 0.0001250089221657658\n",
      "Epoch: 769 Iteration: 68500. Train_MSE: 9.624692756915465e-05. Test_MSE: 0.00012517445328383484\n",
      "Epoch: 770 Iteration: 68600. Train_MSE: 0.00015196294407360256. Test_MSE: 0.0001245969904203219\n",
      "Epoch: 771 Iteration: 68700. Train_MSE: 0.00791435968130827. Test_MSE: 0.0001245172609496151\n",
      "Epoch: 773 Iteration: 68800. Train_MSE: 0.0005502701387740672. Test_MSE: 0.00012481796582339215\n",
      "Epoch: 774 Iteration: 68900. Train_MSE: 0.00021126813953742385. Test_MSE: 0.00012475816925068702\n",
      "Epoch: 775 Iteration: 69000. Train_MSE: 0.005487217102199793. Test_MSE: 0.00012442568172957741\n",
      "Epoch: 776 Iteration: 69100. Train_MSE: 0.00012463198800105602. Test_MSE: 0.00012429466474887557\n",
      "Epoch: 777 Iteration: 69200. Train_MSE: 0.00016875835717655718. Test_MSE: 0.00012458590767686103\n",
      "Epoch: 778 Iteration: 69300. Train_MSE: 0.00013501851935870945. Test_MSE: 0.00012473803409654308\n",
      "Epoch: 779 Iteration: 69400. Train_MSE: 0.0002127306943293661. Test_MSE: 0.00012422397630729664\n"
     ]
    },
    {
     "name": "stdout",
     "output_type": "stream",
     "text": [
      "Epoch: 780 Iteration: 69500. Train_MSE: 0.000177473557414487. Test_MSE: 0.00012411933042792892\n",
      "Epoch: 782 Iteration: 69600. Train_MSE: 0.00017600541468709707. Test_MSE: 0.0001244974374891836\n",
      "Epoch: 783 Iteration: 69700. Train_MSE: 0.0002487109450157732. Test_MSE: 0.00012428711962568923\n",
      "Epoch: 784 Iteration: 69800. Train_MSE: 0.0011200064327567816. Test_MSE: 0.00012413222630416182\n",
      "Epoch: 785 Iteration: 69900. Train_MSE: 0.0002697996096685529. Test_MSE: 0.00012388012301466997\n",
      "Epoch: 786 Iteration: 70000. Train_MSE: 0.0001260978024220094. Test_MSE: 0.0001240966030695732\n",
      "Epoch: 787 Iteration: 70100. Train_MSE: 0.0001965820847544819. Test_MSE: 0.0001243325915683549\n",
      "Epoch: 788 Iteration: 70200. Train_MSE: 0.007274756208062172. Test_MSE: 0.0001237795167444915\n",
      "Epoch: 789 Iteration: 70300. Train_MSE: 0.00018865316815208644. Test_MSE: 0.0001237012275558049\n",
      "Epoch: 791 Iteration: 70400. Train_MSE: 0.00013112348096910864. Test_MSE: 0.00012420006390668115\n",
      "Epoch: 792 Iteration: 70500. Train_MSE: 0.0002435164205962792. Test_MSE: 0.00012386583028459002\n",
      "Epoch: 793 Iteration: 70600. Train_MSE: 0.000786139047704637. Test_MSE: 0.00012374736556690575\n",
      "Epoch: 794 Iteration: 70700. Train_MSE: 0.00018812385678756982. Test_MSE: 0.0001234032258780907\n",
      "Epoch: 795 Iteration: 70800. Train_MSE: 0.00021788997401017696. Test_MSE: 0.00012363006901957164\n",
      "Epoch: 796 Iteration: 70900. Train_MSE: 0.00016655382933095098. Test_MSE: 0.00012386742932490755\n",
      "Epoch: 797 Iteration: 71000. Train_MSE: 0.0026049865409731865. Test_MSE: 0.0001234900446523948\n",
      "Epoch: 798 Iteration: 71100. Train_MSE: 0.00020225321350153536. Test_MSE: 0.00012326207151681335\n",
      "Epoch: 800 Iteration: 71200. Train_MSE: 0.0002103247243212536. Test_MSE: 0.00012374820831915513\n",
      "Epoch: 801 Iteration: 71300. Train_MSE: 0.00043218472274020314. Test_MSE: 0.00012342134517875176\n",
      "Epoch: 802 Iteration: 71400. Train_MSE: 0.005694513209164143. Test_MSE: 0.00012337031479064232\n",
      "Epoch: 803 Iteration: 71500. Train_MSE: 0.0008004815317690372. Test_MSE: 0.00012304911656625423\n",
      "Epoch: 804 Iteration: 71600. Train_MSE: 0.00014620386355090886. Test_MSE: 0.00012314396477716127\n",
      "Epoch: 805 Iteration: 71700. Train_MSE: 0.00012358295498415828. Test_MSE: 0.00012341484716718056\n",
      "Epoch: 806 Iteration: 71800. Train_MSE: 0.0006376263336278498. Test_MSE: 0.0001232533809244943\n",
      "Epoch: 807 Iteration: 71900. Train_MSE: 0.0001786963694030419. Test_MSE: 0.00012281601352449292\n",
      "Epoch: 808 Iteration: 72000. Train_MSE: 0.00014914794883225113. Test_MSE: 0.00012330164040002425\n",
      "Epoch: 810 Iteration: 72100. Train_MSE: 0.0005976448301225901. Test_MSE: 0.00012298203770871248\n",
      "Epoch: 811 Iteration: 72200. Train_MSE: 0.012774957343935966. Test_MSE: 0.00012305290086101278\n",
      "Epoch: 812 Iteration: 72300. Train_MSE: 0.00024087369092740119. Test_MSE: 0.00012266219544664018\n",
      "Epoch: 813 Iteration: 72400. Train_MSE: 0.00019508652621880174. Test_MSE: 0.00012267098064384677\n",
      "Epoch: 814 Iteration: 72500. Train_MSE: 0.0003473359683994204. Test_MSE: 0.0001229800590269283\n",
      "Epoch: 815 Iteration: 72600. Train_MSE: 0.0009347303421236575. Test_MSE: 0.00012289924112696016\n",
      "Epoch: 816 Iteration: 72700. Train_MSE: 0.001898743212223053. Test_MSE: 0.0001224358371006703\n",
      "Epoch: 817 Iteration: 72800. Train_MSE: 0.00021400679543148726. Test_MSE: 0.00012282547883369325\n",
      "Epoch: 819 Iteration: 72900. Train_MSE: 0.00017321796622127295. Test_MSE: 0.00012258942481389618\n",
      "Epoch: 820 Iteration: 73000. Train_MSE: 0.00016760759172029793. Test_MSE: 0.0001228718469929966\n",
      "Epoch: 821 Iteration: 73100. Train_MSE: 0.00016521576617378742. Test_MSE: 0.0001222770648686095\n",
      "Epoch: 822 Iteration: 73200. Train_MSE: 0.00018585646466817707. Test_MSE: 0.00012225159456287022\n",
      "Epoch: 823 Iteration: 73300. Train_MSE: 0.0018474021926522255. Test_MSE: 0.00012257482329196205\n",
      "Epoch: 824 Iteration: 73400. Train_MSE: 0.007636510767042637. Test_MSE: 0.00012254746878615806\n",
      "Epoch: 825 Iteration: 73500. Train_MSE: 0.00048425636487081647. Test_MSE: 0.00012215030221658071\n",
      "Epoch: 826 Iteration: 73600. Train_MSE: 0.0001447399117751047. Test_MSE: 0.0001223928046084268\n",
      "Epoch: 828 Iteration: 73700. Train_MSE: 0.0001523186219856143. Test_MSE: 0.00012211535867728035\n",
      "Epoch: 829 Iteration: 73800. Train_MSE: 0.00017608747293706983. Test_MSE: 0.00012248928965264268\n",
      "Epoch: 830 Iteration: 73900. Train_MSE: 0.00027957523707300425. Test_MSE: 0.000121855254939329\n",
      "Epoch: 831 Iteration: 74000. Train_MSE: 0.00013058140757493675. Test_MSE: 0.00012192668677618862\n",
      "Epoch: 832 Iteration: 74100. Train_MSE: 0.0020437247585505247. Test_MSE: 0.00012217901608550279\n",
      "Epoch: 833 Iteration: 74200. Train_MSE: 0.006648491136729717. Test_MSE: 0.00012227250943252713\n",
      "Epoch: 834 Iteration: 74300. Train_MSE: 0.00027885325835086405. Test_MSE: 0.00012173568371500425\n",
      "Epoch: 835 Iteration: 74400. Train_MSE: 0.00010651946649886668. Test_MSE: 0.00012188758684486603\n",
      "Epoch: 837 Iteration: 74500. Train_MSE: 0.00019726551545318216. Test_MSE: 0.00012169395816033824\n",
      "Epoch: 838 Iteration: 74600. Train_MSE: 0.00012184373190393671. Test_MSE: 0.00012209219206655246\n",
      "Epoch: 839 Iteration: 74700. Train_MSE: 0.0005518327816389501. Test_MSE: 0.00012137691602376319\n",
      "Epoch: 840 Iteration: 74800. Train_MSE: 8.113614603644237e-05. Test_MSE: 0.00012158433551553821\n",
      "Epoch: 841 Iteration: 74900. Train_MSE: 0.0001649364858167246. Test_MSE: 0.00012186061543805069\n",
      "Epoch: 842 Iteration: 75000. Train_MSE: 0.0001281542208744213. Test_MSE: 0.00012201157454761731\n",
      "Epoch: 843 Iteration: 75100. Train_MSE: 0.0003816824173554778. Test_MSE: 0.00012134757931765503\n",
      "Epoch: 844 Iteration: 75200. Train_MSE: 0.00011239338346058503. Test_MSE: 0.00012152914119681312\n",
      "Epoch: 846 Iteration: 75300. Train_MSE: 0.00018399253895040601. Test_MSE: 0.00012134689311090412\n",
      "Epoch: 847 Iteration: 75400. Train_MSE: 0.00011470116442069411. Test_MSE: 0.00012165213854818629\n",
      "Epoch: 848 Iteration: 75500. Train_MSE: 0.0009126763325184584. Test_MSE: 0.00012095334383164927\n",
      "Epoch: 849 Iteration: 75600. Train_MSE: 0.00013493397273123264. Test_MSE: 0.00012125917992864254\n",
      "Epoch: 850 Iteration: 75700. Train_MSE: 0.00017987264436669648. Test_MSE: 0.00012146648099812416\n",
      "Epoch: 851 Iteration: 75800. Train_MSE: 8.432730828644708e-05. Test_MSE: 0.00012157567793635889\n",
      "Epoch: 852 Iteration: 75900. Train_MSE: 0.0002649026282597333. Test_MSE: 0.00012094757549068404\n",
      "Epoch: 853 Iteration: 76000. Train_MSE: 0.00025985599495470524. Test_MSE: 0.00012108740199235215\n",
      "Epoch: 855 Iteration: 76100. Train_MSE: 0.0001251730282092467. Test_MSE: 0.0001210074044799243\n",
      "Epoch: 856 Iteration: 76200. Train_MSE: 0.00019580383377615362. Test_MSE: 0.00012122527996149297\n",
      "Epoch: 857 Iteration: 76300. Train_MSE: 0.00031713524367660284. Test_MSE: 0.00012060024616535728\n",
      "Epoch: 858 Iteration: 76400. Train_MSE: 0.00027906004106625915. Test_MSE: 0.00012090151915673822\n",
      "Epoch: 859 Iteration: 76500. Train_MSE: 0.00014286540681496263. Test_MSE: 0.00012099975459468941\n",
      "Epoch: 860 Iteration: 76600. Train_MSE: 0.0001230582274729386. Test_MSE: 0.00012116708647668166\n",
      "Epoch: 861 Iteration: 76700. Train_MSE: 0.00024814740754663944. Test_MSE: 0.00012055774540105499\n",
      "Epoch: 862 Iteration: 76800. Train_MSE: 0.00025313266087323427. Test_MSE: 0.00012062389367747293\n",
      "Epoch: 864 Iteration: 76900. Train_MSE: 0.00023173546651378274. Test_MSE: 0.00012065515516811122\n",
      "Epoch: 865 Iteration: 77000. Train_MSE: 0.0001615617802599445. Test_MSE: 0.00012080166461833693\n",
      "Epoch: 866 Iteration: 77100. Train_MSE: 0.012962951324880123. Test_MSE: 0.00012023954289247095\n",
      "Epoch: 867 Iteration: 77200. Train_MSE: 7.594535418320447e-05. Test_MSE: 0.00012035581127098805\n",
      "Epoch: 868 Iteration: 77300. Train_MSE: 0.0001302241871599108. Test_MSE: 0.00012058879610067563\n",
      "Epoch: 869 Iteration: 77400. Train_MSE: 9.225684334523976e-05. Test_MSE: 0.00012075466891099309\n",
      "Epoch: 870 Iteration: 77500. Train_MSE: 0.00014385866234079003. Test_MSE: 0.00012021803897271775\n",
      "Epoch: 871 Iteration: 77600. Train_MSE: 0.007931956090033054. Test_MSE: 0.00012014225372590157\n",
      "Epoch: 873 Iteration: 77700. Train_MSE: 0.0005482302512973547. Test_MSE: 0.00012042571578354229\n",
      "Epoch: 874 Iteration: 77800. Train_MSE: 0.0002067816094495356. Test_MSE: 0.00012038233410149517\n",
      "Epoch: 875 Iteration: 77900. Train_MSE: 0.005458163563162088. Test_MSE: 0.00012006881766438439\n",
      "Epoch: 876 Iteration: 78000. Train_MSE: 0.0001112366808229126. Test_MSE: 0.00011994221508479359\n"
     ]
    },
    {
     "name": "stdout",
     "output_type": "stream",
     "text": [
      "Epoch: 877 Iteration: 78100. Train_MSE: 0.0001522362290415913. Test_MSE: 0.00012022324383893292\n",
      "Epoch: 878 Iteration: 78200. Train_MSE: 0.00012716975470539182. Test_MSE: 0.0001203744765917772\n",
      "Epoch: 879 Iteration: 78300. Train_MSE: 0.0002166532794944942. Test_MSE: 0.00011989455209305914\n",
      "Epoch: 880 Iteration: 78400. Train_MSE: 0.00016806811618153006. Test_MSE: 0.00011980686877373558\n",
      "Epoch: 882 Iteration: 78500. Train_MSE: 0.0001599635143065825. Test_MSE: 0.0001201544057230587\n",
      "Epoch: 883 Iteration: 78600. Train_MSE: 0.00023918590159155428. Test_MSE: 0.0001199668009732392\n",
      "Epoch: 884 Iteration: 78700. Train_MSE: 0.0011109268525615335. Test_MSE: 0.00011982460083227393\n",
      "Epoch: 885 Iteration: 78800. Train_MSE: 0.00024822496925480664. Test_MSE: 0.000119581054829152\n",
      "Epoch: 886 Iteration: 78900. Train_MSE: 0.00011564009037101641. Test_MSE: 0.00011978884388916696\n",
      "Epoch: 887 Iteration: 79000. Train_MSE: 0.00019138742936775088. Test_MSE: 0.00012001645611100733\n",
      "Epoch: 888 Iteration: 79100. Train_MSE: 0.007243230473250151. Test_MSE: 0.00011950020451861567\n",
      "Epoch: 889 Iteration: 79200. Train_MSE: 0.00018020412244368345. Test_MSE: 0.00011944084566546625\n",
      "Epoch: 891 Iteration: 79300. Train_MSE: 0.0001196170414914377. Test_MSE: 0.00011989953500962155\n",
      "Epoch: 892 Iteration: 79400. Train_MSE: 0.00023969760513864458. Test_MSE: 0.00011959410883613321\n",
      "Epoch: 893 Iteration: 79500. Train_MSE: 0.0007763081812299788. Test_MSE: 0.00011948971803805026\n",
      "Epoch: 894 Iteration: 79600. Train_MSE: 0.00017194199608638883. Test_MSE: 0.00011915865691757164\n",
      "Epoch: 895 Iteration: 79700. Train_MSE: 0.000199512840481475. Test_MSE: 0.0001193769471248347\n",
      "Epoch: 896 Iteration: 79800. Train_MSE: 0.00016298961418215185. Test_MSE: 0.00011960285577837522\n",
      "Epoch: 897 Iteration: 79900. Train_MSE: 0.002563814166933298. Test_MSE: 0.000119255568951824\n",
      "Epoch: 898 Iteration: 80000. Train_MSE: 0.00019482540665194392. Test_MSE: 0.00011905071307720512\n",
      "Epoch: 900 Iteration: 80100. Train_MSE: 0.00020916851644869894. Test_MSE: 0.00011949559058054217\n",
      "Epoch: 901 Iteration: 80200. Train_MSE: 0.0004257334803696722. Test_MSE: 0.00011919672581906001\n",
      "Epoch: 902 Iteration: 80300. Train_MSE: 0.005671138875186443. Test_MSE: 0.00011915708967259152\n",
      "Epoch: 903 Iteration: 80400. Train_MSE: 0.0007899108459241688. Test_MSE: 0.00011884517076963947\n",
      "Epoch: 904 Iteration: 80500. Train_MSE: 0.00013115601905155927. Test_MSE: 0.00011894320822754282\n",
      "Epoch: 905 Iteration: 80600. Train_MSE: 0.00012168154353275895. Test_MSE: 0.00011919900468328594\n",
      "Epoch: 906 Iteration: 80700. Train_MSE: 0.0006252899183891714. Test_MSE: 0.00011905437321755657\n",
      "Epoch: 907 Iteration: 80800. Train_MSE: 0.00016877746384125203. Test_MSE: 0.00011865490326085255\n",
      "Epoch: 908 Iteration: 80900. Train_MSE: 0.00013208980089984834. Test_MSE: 0.00011910124566134848\n",
      "Epoch: 910 Iteration: 81000. Train_MSE: 0.0005923343123868108. Test_MSE: 0.00011880871758867478\n",
      "Epoch: 911 Iteration: 81100. Train_MSE: 0.012730460613965988. Test_MSE: 0.00011888965054619927\n",
      "Epoch: 912 Iteration: 81200. Train_MSE: 0.00023112767667043954. Test_MSE: 0.00011850926667821388\n",
      "Epoch: 913 Iteration: 81300. Train_MSE: 0.00018563991761766374. Test_MSE: 0.0001185275680009741\n",
      "Epoch: 914 Iteration: 81400. Train_MSE: 0.0003413831000216305. Test_MSE: 0.00011881792378672565\n",
      "Epoch: 915 Iteration: 81500. Train_MSE: 0.0009267455316148698. Test_MSE: 0.0001187518860123598\n",
      "Epoch: 916 Iteration: 81600. Train_MSE: 0.001892428263090551. Test_MSE: 0.00011832554434776848\n",
      "Epoch: 917 Iteration: 81700. Train_MSE: 0.0001910761056933552. Test_MSE: 0.00011868598178379614\n",
      "Epoch: 919 Iteration: 81800. Train_MSE: 0.00016429599781986326. Test_MSE: 0.00011847235530146388\n",
      "Epoch: 920 Iteration: 81900. Train_MSE: 0.00016905232041608542. Test_MSE: 0.00011875591616478999\n",
      "Epoch: 921 Iteration: 82000. Train_MSE: 0.00015807716408744454. Test_MSE: 0.00011817730597560452\n",
      "Epoch: 922 Iteration: 82100. Train_MSE: 0.00017066490545403212. Test_MSE: 0.00011816101665792325\n",
      "Epoch: 923 Iteration: 82200. Train_MSE: 0.0018442822620272636. Test_MSE: 0.0001184657291401657\n",
      "Epoch: 924 Iteration: 82300. Train_MSE: 0.0076046232134103775. Test_MSE: 0.00011844972519324128\n",
      "Epoch: 925 Iteration: 82400. Train_MSE: 0.0004796972207259387. Test_MSE: 0.0001180874644235021\n",
      "Epoch: 926 Iteration: 82500. Train_MSE: 0.00013001174374949187. Test_MSE: 0.00011830745094185594\n",
      "Epoch: 928 Iteration: 82600. Train_MSE: 0.0001445702655473724. Test_MSE: 0.00011805413285740062\n",
      "Epoch: 929 Iteration: 82700. Train_MSE: 0.00017256276623811573. Test_MSE: 0.00011842187521787315\n",
      "Epoch: 930 Iteration: 82800. Train_MSE: 0.0002675006981007755. Test_MSE: 0.00011780823747994198\n",
      "Epoch: 931 Iteration: 82900. Train_MSE: 0.00011629966320469975. Test_MSE: 0.00011788405562259403\n",
      "Epoch: 932 Iteration: 83000. Train_MSE: 0.0020379929337650537. Test_MSE: 0.00011812452344632537\n",
      "Epoch: 933 Iteration: 83100. Train_MSE: 0.006616469006985426. Test_MSE: 0.00011822368505226223\n",
      "Epoch: 934 Iteration: 83200. Train_MSE: 0.0002770001592580229. Test_MSE: 0.00011772734393698885\n",
      "Epoch: 935 Iteration: 83300. Train_MSE: 9.75426664808765e-05. Test_MSE: 0.00011786251291914721\n",
      "Epoch: 937 Iteration: 83400. Train_MSE: 0.00018146094225812703. Test_MSE: 0.00011768721291506531\n",
      "Epoch: 938 Iteration: 83500. Train_MSE: 0.00011801450455095619. Test_MSE: 0.00011807581176987201\n",
      "Epoch: 939 Iteration: 83600. Train_MSE: 0.0005429633893072605. Test_MSE: 0.00011738740793366836\n",
      "Epoch: 940 Iteration: 83700. Train_MSE: 7.355713023571298e-05. Test_MSE: 0.00011758852705314971\n",
      "Epoch: 941 Iteration: 83800. Train_MSE: 0.00015803238784428686. Test_MSE: 0.00011785425418174127\n",
      "Epoch: 942 Iteration: 83900. Train_MSE: 0.0001270861248485744. Test_MSE: 0.00011800932445879539\n",
      "Epoch: 943 Iteration: 84000. Train_MSE: 0.0003808872716035694. Test_MSE: 0.00011738724264705339\n",
      "Epoch: 944 Iteration: 84100. Train_MSE: 0.00010325564653612673. Test_MSE: 0.00011755190425711133\n",
      "Epoch: 946 Iteration: 84200. Train_MSE: 0.00017533759819343686. Test_MSE: 0.00011738422612544843\n",
      "Epoch: 947 Iteration: 84300. Train_MSE: 0.00011348225234542042. Test_MSE: 0.00011768473990754613\n",
      "Epoch: 948 Iteration: 84400. Train_MSE: 0.000910822011064738. Test_MSE: 0.00011701579976100634\n",
      "Epoch: 949 Iteration: 84500. Train_MSE: 0.00012443029845599085. Test_MSE: 0.00011730504570274794\n",
      "Epoch: 950 Iteration: 84600. Train_MSE: 0.00016961878282018006. Test_MSE: 0.0001175061062709637\n",
      "Epoch: 951 Iteration: 84700. Train_MSE: 8.078268001554534e-05. Test_MSE: 0.0001176224098266825\n",
      "Epoch: 952 Iteration: 84800. Train_MSE: 0.0002646943321451545. Test_MSE: 0.00011703513591799666\n",
      "Epoch: 953 Iteration: 84900. Train_MSE: 0.00023483793484047055. Test_MSE: 0.00011716165743325692\n",
      "Epoch: 955 Iteration: 85000. Train_MSE: 0.00011583699961192906. Test_MSE: 0.00011709033588194294\n",
      "Epoch: 956 Iteration: 85100. Train_MSE: 0.00019158236682415009. Test_MSE: 0.00011730769211368961\n",
      "Epoch: 957 Iteration: 85200. Train_MSE: 0.00031747540924698114. Test_MSE: 0.00011671251074324528\n",
      "Epoch: 958 Iteration: 85300. Train_MSE: 0.0002489733451511711. Test_MSE: 0.00011699820170283944\n",
      "Epoch: 959 Iteration: 85400. Train_MSE: 0.00013210884935688227. Test_MSE: 0.00011709651516621534\n",
      "Epoch: 960 Iteration: 85500. Train_MSE: 0.00012298377987463027. Test_MSE: 0.0001172676242987899\n",
      "Epoch: 961 Iteration: 85600. Train_MSE: 0.0002406841958872974. Test_MSE: 0.00011669873260120127\n",
      "Epoch: 962 Iteration: 85700. Train_MSE: 0.0002288970135850832. Test_MSE: 0.00011675832228019122\n",
      "Epoch: 964 Iteration: 85800. Train_MSE: 0.0002143194287782535. Test_MSE: 0.00011679128992232371\n",
      "Epoch: 965 Iteration: 85900. Train_MSE: 0.00015780789544805884. Test_MSE: 0.00011693915597603587\n",
      "Epoch: 966 Iteration: 86000. Train_MSE: 0.012918991036713123. Test_MSE: 0.00011640378534184812\n",
      "Epoch: 967 Iteration: 86100. Train_MSE: 6.802539428463206e-05. Test_MSE: 0.00011651625604644638\n",
      "Epoch: 968 Iteration: 86200. Train_MSE: 0.00011964733130298555. Test_MSE: 0.0001167416964673632\n",
      "Epoch: 969 Iteration: 86300. Train_MSE: 8.9150300482288e-05. Test_MSE: 0.00011690909983971454\n",
      "Epoch: 970 Iteration: 86400. Train_MSE: 0.00013694893277715892. Test_MSE: 0.00011640826833867439\n",
      "Epoch: 971 Iteration: 86500. Train_MSE: 0.007947801612317562. Test_MSE: 0.00011633869472242925\n",
      "Epoch: 973 Iteration: 86600. Train_MSE: 0.0005472307675518095. Test_MSE: 0.00011660592155146697\n",
      "Epoch: 974 Iteration: 86700. Train_MSE: 0.00020307116210460663. Test_MSE: 0.00011657588352229467\n",
      "Epoch: 975 Iteration: 86800. Train_MSE: 0.00543093541637063. Test_MSE: 0.00011628154933246063\n"
     ]
    },
    {
     "name": "stdout",
     "output_type": "stream",
     "text": [
      "Epoch: 976 Iteration: 86900. Train_MSE: 9.989670797949657e-05. Test_MSE: 0.00011616115776684386\n",
      "Epoch: 977 Iteration: 87000. Train_MSE: 0.00013850376126356423. Test_MSE: 0.0001164313438387062\n",
      "Epoch: 978 Iteration: 87100. Train_MSE: 0.00012078772124368697. Test_MSE: 0.00011658268644084124\n",
      "Epoch: 979 Iteration: 87200. Train_MSE: 0.00022074107255320996. Test_MSE: 0.00011613409901831018\n",
      "Epoch: 980 Iteration: 87300. Train_MSE: 0.0001603810815140605. Test_MSE: 0.00011606555213883996\n",
      "Epoch: 982 Iteration: 87400. Train_MSE: 0.00014690456737298518. Test_MSE: 0.0001163876923569648\n",
      "Epoch: 983 Iteration: 87500. Train_MSE: 0.00023148208856582642. Test_MSE: 0.00011621783715890919\n",
      "Epoch: 984 Iteration: 87600. Train_MSE: 0.0011029931483790278. Test_MSE: 0.00011608990748897914\n",
      "Epoch: 985 Iteration: 87700. Train_MSE: 0.00022949225967749953. Test_MSE: 0.00011585665374444463\n",
      "Epoch: 986 Iteration: 87800. Train_MSE: 0.00010697000834625214. Test_MSE: 0.00011605619030144985\n",
      "Epoch: 987 Iteration: 87900. Train_MSE: 0.000187319063115865. Test_MSE: 0.0001162777880051229\n",
      "Epoch: 988 Iteration: 88000. Train_MSE: 0.007216361351311207. Test_MSE: 0.0001157941006401087\n",
      "Epoch: 989 Iteration: 88100. Train_MSE: 0.000173476233612746. Test_MSE: 0.0001157561942742146\n",
      "Epoch: 991 Iteration: 88200. Train_MSE: 0.00010975250916089863. Test_MSE: 0.0001161811893607888\n",
      "Epoch: 992 Iteration: 88300. Train_MSE: 0.00023610697826370597. Test_MSE: 0.00011589889043977262\n",
      "Epoch: 993 Iteration: 88400. Train_MSE: 0.0007677107932977378. Test_MSE: 0.00011580894976505022\n",
      "Epoch: 994 Iteration: 88500. Train_MSE: 0.00015831802738830447. Test_MSE: 0.0001154912293505494\n",
      "Epoch: 995 Iteration: 88600. Train_MSE: 0.0001841172925196588. Test_MSE: 0.00011570201029905256\n",
      "Epoch: 996 Iteration: 88700. Train_MSE: 0.00016009679529815912. Test_MSE: 0.0001159187023361823\n",
      "Epoch: 997 Iteration: 88800. Train_MSE: 0.0025265139993280172. Test_MSE: 0.00011560064717158793\n",
      "Epoch: 998 Iteration: 88900. Train_MSE: 0.00018885066674556583. Test_MSE: 0.00011541892111372434\n"
     ]
    }
   ],
   "source": [
    "# Training the model\n",
    "seq_dim = 1\n",
    "\n",
    "n_iter =0\n",
    "num_samples = len(X_train)\n",
    "test_samples = len(X_test)\n",
    "batch_size = 100\n",
    "num_epochs = 1000\n",
    "feat_dim = X_train.shape[1]\n",
    "\n",
    "X_train = X_train.type(torch.FloatTensor)\n",
    "y_train = y_train.type(torch.FloatTensor)\n",
    "X_test = X_test.type(torch.FloatTensor)\n",
    "y_test = y_test.type(torch.FloatTensor)\n",
    "\n",
    "for epoch in range(num_epochs):\n",
    "    for i in range(0, int(num_samples/batch_size -1)):\n",
    "        \n",
    "        \n",
    "        features = Variable(X_train[i*batch_size:(i+1)*batch_size, :]).view(-1, seq_dim, feat_dim)\n",
    "        Kt_value = Variable(y_train[i*batch_size:(i+1)*batch_size])\n",
    "        \n",
    "        #print(\"Kt_value={}\".format(Kt_value))\n",
    "        \n",
    "        optimizer.zero_grad()\n",
    "        \n",
    "        outputs = model(features)\n",
    "        #print(\"outputs ={}\".format(outputs))\n",
    "        \n",
    "        loss = criterion(outputs, Kt_value)\n",
    "        \n",
    "        train_loss.append(loss.data[0])\n",
    "        train_iter.append(n_iter)\n",
    "\n",
    "        #print(\"loss = {}\".format(loss))\n",
    "        loss.backward()\n",
    "        \n",
    "        optimizer.step()\n",
    "        \n",
    "        \n",
    "            \n",
    "        if n_iter%100 == 0:\n",
    "            for i in range(0,int(test_samples/batch_size -1)):\n",
    "                features = Variable(X_test[i*batch_size:(i+1)*batch_size, :]).view(-1, seq_dim, feat_dim)\n",
    "                Kt_test = Variable(y_test[i*batch_size:(i+1)*batch_size])\n",
    "                \n",
    "                outputs = model(features)\n",
    "                \n",
    "                mse = np.sqrt(np.mean((Kt_test.data.numpy() - outputs.data.numpy().squeeze())**2)/num_samples)\n",
    "                \n",
    "                test_iter.append(n_iter)\n",
    "                test_loss.append(mse)\n",
    "                \n",
    "            print('Epoch: {} Iteration: {}. Train_MSE: {}. Test_MSE: {}'.format(epoch, n_iter, loss.data[0], mse))\n",
    "         \n",
    "        n_iter += 1  "
   ]
  },
  {
   "cell_type": "code",
   "execution_count": 78,
   "metadata": {},
   "outputs": [
    {
     "name": "stdout",
     "output_type": "stream",
     "text": [
      "35600\n"
     ]
    },
    {
     "data": {
      "text/plain": [
       "[<matplotlib.lines.Line2D at 0x164ec320>]"
      ]
     },
     "execution_count": 78,
     "metadata": {},
     "output_type": "execute_result"
    },
    {
     "data": {
      "image/png": "[encoded data removed]",
      "text/plain": [
       "<Figure size 432x288 with 1 Axes>"
      ]
     },
     "metadata": {},
     "output_type": "display_data"
    }
   ],
   "source": [
    "print(len(test_loss))\n",
    "#plt.plot(test_loss)\n",
    "plt.plot(train_loss,'-')\n",
    "#plt.ylim([0.000,0.99])\n"
   ]
  },
  {
   "cell_type": "code",
   "execution_count": 79,
   "metadata": {},
   "outputs": [
    {
     "data": {
      "text/plain": [
       "[<matplotlib.lines.Line2D at 0xbb98710>]"
      ]
     },
     "execution_count": 79,
     "metadata": {},
     "output_type": "execute_result"
    },
    {
     "data": {
      "image/png": "[encoded data removed]",
      "text/plain": [
       "<Figure size 432x288 with 1 Axes>"
      ]
     },
     "metadata": {},
     "output_type": "display_data"
    }
   ],
   "source": [
    "plt.plot(test_loss,'r')"
   ]
  },
  {
   "cell_type": "markdown",
   "metadata": {
    "collapsed": true
   },
   "source": [
    "#### Demornamization"
   ]
  },
  {
   "cell_type": "code",
   "execution_count": 80,
   "metadata": {},
   "outputs": [],
   "source": [
    "rmse = np.sqrt(mse)"
   ]
  },
  {
   "cell_type": "code",
   "execution_count": 81,
   "metadata": {},
   "outputs": [],
   "source": [
    "rmse_denorm = (rmse * (df_new_test['Kt'].max() - df_new_test['Kt'].min()))+ df_new_test['Kt'].mean()"
   ]
  },
  {
   "cell_type": "code",
   "execution_count": 82,
   "metadata": {},
   "outputs": [
    {
     "data": {
      "text/plain": [
       "59.72919367089158"
      ]
     },
     "execution_count": 82,
     "metadata": {},
     "output_type": "execute_result"
    }
   ],
   "source": [
    "rmse_denorm"
   ]
  },
  {
   "cell_type": "code",
   "execution_count": 83,
   "metadata": {},
   "outputs": [
    {
     "data": {
      "text/plain": [
       "count    4071.000000\n",
       "mean        7.084186\n",
       "std        81.754144\n",
       "min        -0.036096\n",
       "25%        -0.010877\n",
       "50%        -0.003836\n",
       "75%         1.108582\n",
       "max      4900.219009\n",
       "Name: Kt, dtype: float64"
      ]
     },
     "execution_count": 83,
     "metadata": {},
     "output_type": "execute_result"
    }
   ],
   "source": [
    "df_new_test['Kt'].describe()"
   ]
  },
  {
   "cell_type": "markdown",
   "metadata": {
    "collapsed": true
   },
   "source": [
    "### Saving train and test losses to a csv"
   ]
  },
  {
   "cell_type": "code",
   "execution_count": 84,
   "metadata": {},
   "outputs": [],
   "source": [
    "df_trainLoss = pd.DataFrame(data={'Train Loss':train_loss,'iteration':train_iter}, columns=['Train Loss','iteration'])\n",
    "df_trainLoss.to_csv('RNN Paper Results/Exp1_DesertRock_TrainLoss.csv')\n",
    "df_testLoss = pd.DataFrame(data={'Test Loss':test_loss,'iteration':test_iter}, columns=['Test Loss','iteration'])\n",
    "df_testLoss.to_csv('RNN Paper Results/Exp1_DesertRock_TestLoss.csv')"
   ]
  }
 ],
 "metadata": {
  "anaconda-cloud": {},
  "kernelspec": {
   "display_name": "Python 3",
   "language": "python",
   "name": "python3"
  },
  "language_info": {
   "codemirror_mode": {
    "name": "ipython",
    "version": 3
   },
   "file_extension": ".py",
   "mimetype": "text/x-python",
   "name": "python",
   "nbconvert_exporter": "python",
   "pygments_lexer": "ipython3",
   "version": "3.6.1"
  }
 },
 "nbformat": 4,
 "nbformat_minor": 2
}
