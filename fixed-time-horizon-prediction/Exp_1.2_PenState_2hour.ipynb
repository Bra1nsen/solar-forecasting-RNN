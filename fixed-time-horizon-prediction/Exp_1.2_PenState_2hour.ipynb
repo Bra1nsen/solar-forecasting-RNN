{
 "cells": [
  {
   "cell_type": "code",
   "execution_count": 1,
   "metadata": {},
   "outputs": [],
   "source": [
    "import numpy as np\n",
    "import pandas as pd\n",
    "import datetime\n",
    "import glob\n",
    "import os.path\n",
    "from pandas.compat import StringIO"
   ]
  },
  {
   "cell_type": "markdown",
   "metadata": {},
   "source": [
    "### NREL Bird Model implementation: for obtaining clear sky GHI"
   ]
  },
  {
   "cell_type": "code",
   "execution_count": 2,
   "metadata": {},
   "outputs": [],
   "source": [
    "import itertools\n",
    "import matplotlib.pyplot as plt\n",
    "import pandas as pd\n",
    "import seaborn as sns"
   ]
  },
  {
   "cell_type": "code",
   "execution_count": 3,
   "metadata": {},
   "outputs": [],
   "source": [
    "%matplotlib inline\n",
    "sns.set_color_codes()"
   ]
  },
  {
   "cell_type": "code",
   "execution_count": 4,
   "metadata": {},
   "outputs": [],
   "source": [
    "import pvlib\n",
    "from pvlib import clearsky, atmosphere\n",
    "from pvlib.location import Location"
   ]
  },
  {
   "cell_type": "code",
   "execution_count": 5,
   "metadata": {},
   "outputs": [],
   "source": [
    "pns = Location(40.798,-77.859, 'US/Eastern', 351.74, 'Penn State')"
   ]
  },
  {
   "cell_type": "code",
   "execution_count": 6,
   "metadata": {},
   "outputs": [],
   "source": [
    "times2009 = pd.DatetimeIndex(start='2009-01-01', end='2010-01-01', freq='1min',\n",
    "                        tz=pns.tz)   # 12 months of 2009 - For testing\n",
    "times2010and2011 = pd.DatetimeIndex(start='2010-01-01', end='2012-01-01', freq='1min',\n",
    "                        tz=pns.tz)   # 24 months of 2010 and 2011 - For training"
   ]
  },
  {
   "cell_type": "code",
   "execution_count": 7,
   "metadata": {},
   "outputs": [],
   "source": [
    "cs_2009 = pns.get_clearsky(times2009) \n",
    "cs_2010and2011 = pns.get_clearsky(times2010and2011) # ineichen with climatology table by default\n",
    "#cs_2011 = bvl.get_clearsky(times2011) "
   ]
  },
  {
   "cell_type": "code",
   "execution_count": 8,
   "metadata": {},
   "outputs": [],
   "source": [
    "cs_2009.drop(['dni','dhi'],axis=1, inplace=True) #updating the same dataframe by dropping two columns\n",
    "cs_2010and2011.drop(['dni','dhi'],axis=1, inplace=True) #updating the same dataframe by dropping two columns\n",
    "#cs_2011.drop(['dni','dhi'],axis=1, inplace=True) #updating the same dataframe by dropping two columns"
   ]
  },
  {
   "cell_type": "code",
   "execution_count": 9,
   "metadata": {},
   "outputs": [],
   "source": [
    "cs_2009.reset_index(inplace=True)\n",
    "cs_2010and2011.reset_index(inplace=True)\n",
    "#cs_2011.reset_index(inplace=True)"
   ]
  },
  {
   "cell_type": "code",
   "execution_count": 10,
   "metadata": {},
   "outputs": [],
   "source": [
    "cs_2009['index']=cs_2009['index'].apply(lambda x:x.to_datetime())\n",
    "cs_2009['year'] = cs_2009['index'].apply(lambda x:x.year)\n",
    "cs_2009['month'] = cs_2009['index'].apply(lambda x:x.month)\n",
    "cs_2009['day'] = cs_2009['index'].apply(lambda x:x.day)\n",
    "cs_2009['hour'] = cs_2009['index'].apply(lambda x:x.hour)\n",
    "cs_2009['min'] = cs_2009['index'].apply(lambda x:x.minute)"
   ]
  },
  {
   "cell_type": "code",
   "execution_count": 11,
   "metadata": {},
   "outputs": [],
   "source": [
    "cs_2010and2011['index']=cs_2010and2011['index'].apply(lambda x:x.to_datetime())\n",
    "cs_2010and2011['year'] = cs_2010and2011['index'].apply(lambda x:x.year)\n",
    "cs_2010and2011['month'] = cs_2010and2011['index'].apply(lambda x:x.month)\n",
    "cs_2010and2011['day'] = cs_2010and2011['index'].apply(lambda x:x.day)\n",
    "cs_2010and2011['hour'] = cs_2010and2011['index'].apply(lambda x:x.hour)\n",
    "cs_2010and2011['min'] = cs_2010and2011['index'].apply(lambda x:x.minute)"
   ]
  },
  {
   "cell_type": "code",
   "execution_count": 12,
   "metadata": {},
   "outputs": [
    {
     "name": "stdout",
     "output_type": "stream",
     "text": [
      "(525601, 7)\n",
      "(1051201, 7)\n"
     ]
    }
   ],
   "source": [
    "print(cs_2009.shape)\n",
    "print(cs_2010and2011.shape)\n",
    "#print(cs_2011.shape)"
   ]
  },
  {
   "cell_type": "code",
   "execution_count": 13,
   "metadata": {},
   "outputs": [],
   "source": [
    "cs_2009.drop(cs_2009.index[-1], inplace=True)\n",
    "cs_2010and2011.drop(cs_2010and2011.index[-1], inplace=True)\n",
    "#cs_2011.drop(cs_2011.index[-1], inplace=True)"
   ]
  },
  {
   "cell_type": "code",
   "execution_count": 14,
   "metadata": {},
   "outputs": [
    {
     "name": "stdout",
     "output_type": "stream",
     "text": [
      "(525600, 7)\n",
      "(1051200, 7)\n"
     ]
    }
   ],
   "source": [
    "print(cs_2009.shape)\n",
    "print(cs_2010and2011.shape)\n",
    "#print(cs_2011.shape)"
   ]
  },
  {
   "cell_type": "code",
   "execution_count": 15,
   "metadata": {},
   "outputs": [
    {
     "data": {
      "text/html": [
       "<div>\n",
       "<style scoped>\n",
       "    .dataframe tbody tr th:only-of-type {\n",
       "        vertical-align: middle;\n",
       "    }\n",
       "\n",
       "    .dataframe tbody tr th {\n",
       "        vertical-align: top;\n",
       "    }\n",
       "\n",
       "    .dataframe thead th {\n",
       "        text-align: right;\n",
       "    }\n",
       "</style>\n",
       "<table border=\"1\" class=\"dataframe\">\n",
       "  <thead>\n",
       "    <tr style=\"text-align: right;\">\n",
       "      <th></th>\n",
       "      <th>index</th>\n",
       "      <th>ghi</th>\n",
       "      <th>year</th>\n",
       "      <th>month</th>\n",
       "      <th>day</th>\n",
       "      <th>hour</th>\n",
       "      <th>min</th>\n",
       "    </tr>\n",
       "  </thead>\n",
       "  <tbody>\n",
       "    <tr>\n",
       "      <th>0</th>\n",
       "      <td>2010-01-01 00:00:00-05:00</td>\n",
       "      <td>0.0</td>\n",
       "      <td>2010</td>\n",
       "      <td>1</td>\n",
       "      <td>1</td>\n",
       "      <td>0</td>\n",
       "      <td>0</td>\n",
       "    </tr>\n",
       "    <tr>\n",
       "      <th>1</th>\n",
       "      <td>2010-01-01 00:01:00-05:00</td>\n",
       "      <td>0.0</td>\n",
       "      <td>2010</td>\n",
       "      <td>1</td>\n",
       "      <td>1</td>\n",
       "      <td>0</td>\n",
       "      <td>1</td>\n",
       "    </tr>\n",
       "    <tr>\n",
       "      <th>2</th>\n",
       "      <td>2010-01-01 00:02:00-05:00</td>\n",
       "      <td>0.0</td>\n",
       "      <td>2010</td>\n",
       "      <td>1</td>\n",
       "      <td>1</td>\n",
       "      <td>0</td>\n",
       "      <td>2</td>\n",
       "    </tr>\n",
       "    <tr>\n",
       "      <th>3</th>\n",
       "      <td>2010-01-01 00:03:00-05:00</td>\n",
       "      <td>0.0</td>\n",
       "      <td>2010</td>\n",
       "      <td>1</td>\n",
       "      <td>1</td>\n",
       "      <td>0</td>\n",
       "      <td>3</td>\n",
       "    </tr>\n",
       "    <tr>\n",
       "      <th>4</th>\n",
       "      <td>2010-01-01 00:04:00-05:00</td>\n",
       "      <td>0.0</td>\n",
       "      <td>2010</td>\n",
       "      <td>1</td>\n",
       "      <td>1</td>\n",
       "      <td>0</td>\n",
       "      <td>4</td>\n",
       "    </tr>\n",
       "  </tbody>\n",
       "</table>\n",
       "</div>"
      ],
      "text/plain": [
       "                      index  ghi  year  month  day  hour  min\n",
       "0 2010-01-01 00:00:00-05:00  0.0  2010      1    1     0    0\n",
       "1 2010-01-01 00:01:00-05:00  0.0  2010      1    1     0    1\n",
       "2 2010-01-01 00:02:00-05:00  0.0  2010      1    1     0    2\n",
       "3 2010-01-01 00:03:00-05:00  0.0  2010      1    1     0    3\n",
       "4 2010-01-01 00:04:00-05:00  0.0  2010      1    1     0    4"
      ]
     },
     "execution_count": 15,
     "metadata": {},
     "output_type": "execute_result"
    }
   ],
   "source": [
    "cs_2010and2011.head()"
   ]
  },
  {
   "cell_type": "markdown",
   "metadata": {},
   "source": [
    "### Import files from each year in a separate dataframe"
   ]
  },
  {
   "cell_type": "markdown",
   "metadata": {
    "collapsed": true
   },
   "source": [
    "\n",
    "- year            integer\t year, i.e., 1995\n",
    "- jday            integer\t Julian day (1 through 365 [or 366])\n",
    "- month           integer\t number of the month (1-12)\n",
    "- day             integer\t day of the month(1-31)\n",
    "- hour            integer\t hour of the day (0-23)\n",
    "- min             integer\t minute of the hour (0-59)\n",
    "- dt              real\t decimal time (hour.decimalminutes, e.g., 23.5 = 2330)\n",
    "- zen             real\t solar zenith angle (degrees)\n",
    "- dw_solar        real\t downwelling global solar (Watts m^-2)\n",
    "- uw_solar        real\t upwelling global solar (Watts m^-2)\n",
    "- direct_n        real\t direct-normal solar (Watts m^-2)\n",
    "- diffuse         real\t downwelling diffuse solar (Watts m^-2)\n",
    "- dw_ir           real\t downwelling thermal infrared (Watts m^-2)\n",
    "- dw_casetemp     real\t downwelling IR case temp. (K)\n",
    "- dw_dometemp     real\t downwelling IR dome temp. (K)\n",
    "- uw_ir           real\t upwelling thermal infrared (Watts m^-2)\n",
    "- uw_casetemp     real\t upwelling IR case temp. (K)\n",
    "- uw_dometemp     real\t upwelling IR dome temp. (K)\n",
    "- uvb             real\t global UVB (milliWatts m^-2)\n",
    "- par             real\t photosynthetically active radiation (Watts m^-2)\n",
    "- netsolar        real\t net solar (dw_solar - uw_solar) (Watts m^-2)\n",
    "- netir           real\t net infrared (dw_ir - uw_ir) (Watts m^-2)\n",
    "- totalnet        real\t net radiation (netsolar+netir) (Watts m^-2)\n",
    "- temp            real\t 10-meter air temperature (?C)\n",
    "- rh              real\t relative humidity (%)\n",
    "- windspd         real\t wind speed (ms^-1)\n",
    "- winddir         real\t wind direction (degrees, clockwise from north)\n",
    "- pressure        real\t station pressure (mb)\n"
   ]
  },
  {
   "cell_type": "code",
   "execution_count": 16,
   "metadata": {},
   "outputs": [],
   "source": [
    "cols = ['year', 'jday', 'month', 'day','hour','min','dt','zen','dw_solar','dw_solar_QC','uw_solar',\n",
    "       'uw_solar_QC', 'direct_n','direct_n_QC','diffuse', 'diffuse_QC', 'dw_ir', 'dw_ir_QC', 'dw_casetemp',\n",
    "       'dw_casetemp_QC', 'dw_dometemp','dw_dometemp_QC','uw_ir', 'uw_ir_QC', 'uw_casetemp','uw_casetemp_QC',\n",
    "       'uw_dometemp','uw_dometemp_QC','uvb','uvb_QC','par','par_QC','netsolar','netsolar_QC','netir','netir_QC',\n",
    "       'totalnet','totalnet_QC','temp','temp_QC','rh','rh_QC','windspd','windspd_QC','winddir','winddir_QC',\n",
    "       'pressure','pressure_QC']"
   ]
  },
  {
   "cell_type": "code",
   "execution_count": 17,
   "metadata": {},
   "outputs": [
    {
     "data": {
      "text/plain": [
       "(1049577, 48)"
      ]
     },
     "execution_count": 17,
     "metadata": {},
     "output_type": "execute_result"
    }
   ],
   "source": [
    "path = r'.\\\\data\\\\Penn_State\\\\Exp_1_train'\n",
    "all_files = glob.glob(path + \"/*.dat\")\n",
    "all_files.sort()\n",
    "\n",
    "df_big_train = pd.concat([pd.read_csv(f, skipinitialspace = True, quotechar = '\"',skiprows=(2),delimiter=' ', \n",
    "                 index_col=False,header=None, names=cols) for f in all_files],ignore_index=True)\n",
    "df_big_train.shape"
   ]
  },
  {
   "cell_type": "code",
   "execution_count": 18,
   "metadata": {},
   "outputs": [
    {
     "data": {
      "text/plain": [
       "(524846, 48)"
      ]
     },
     "execution_count": 18,
     "metadata": {},
     "output_type": "execute_result"
    }
   ],
   "source": [
    "path = r'.\\\\data\\\\Penn_State\\\\Exp_1_test'\n",
    "all_files = glob.glob(path + \"/*.dat\")\n",
    "all_files.sort()\n",
    "\n",
    "df_big_test = pd.concat((pd.read_csv(f, skipinitialspace = True, quotechar = '\"',skiprows=(2),delimiter=' ', \n",
    "                 index_col=False,header=None, names=cols) for f in all_files),ignore_index=True)\n",
    "df_big_test.shape"
   ]
  },
  {
   "cell_type": "code",
   "execution_count": 19,
   "metadata": {},
   "outputs": [
    {
     "data": {
      "text/plain": [
       "(12, 48)"
      ]
     },
     "execution_count": 19,
     "metadata": {},
     "output_type": "execute_result"
    }
   ],
   "source": [
    "df_big_test[df_big_test['dw_solar']==-9999.9].shape"
   ]
  },
  {
   "cell_type": "markdown",
   "metadata": {},
   "source": [
    "### Merging Clear Sky GHI And the big dataframe"
   ]
  },
  {
   "cell_type": "code",
   "execution_count": 20,
   "metadata": {},
   "outputs": [
    {
     "data": {
      "text/plain": [
       "(1049577, 50)"
      ]
     },
     "execution_count": 20,
     "metadata": {},
     "output_type": "execute_result"
    }
   ],
   "source": [
    "df_train = pd.merge(df_big_train, cs_2010and2011, on=['year','month','day','hour','min'])\n",
    "df_train.shape"
   ]
  },
  {
   "cell_type": "code",
   "execution_count": 21,
   "metadata": {},
   "outputs": [
    {
     "data": {
      "text/plain": [
       "(524846, 50)"
      ]
     },
     "execution_count": 21,
     "metadata": {},
     "output_type": "execute_result"
    }
   ],
   "source": [
    "df_test = pd.merge(df_big_test, cs_2009, on=['year','month','day','hour','min'])\n",
    "df_test.shape"
   ]
  },
  {
   "cell_type": "code",
   "execution_count": 22,
   "metadata": {},
   "outputs": [],
   "source": [
    "df_train.drop(['index'],axis=1, inplace=True) #updating the same dataframe by dropping the index columns from clear sky model\n",
    "df_test.drop(['index'], axis=1, inplace=True)"
   ]
  },
  {
   "cell_type": "code",
   "execution_count": 23,
   "metadata": {},
   "outputs": [
    {
     "data": {
      "text/plain": [
       "(1049577, 49)"
      ]
     },
     "execution_count": 23,
     "metadata": {},
     "output_type": "execute_result"
    }
   ],
   "source": [
    "df_train.shape"
   ]
  },
  {
   "cell_type": "markdown",
   "metadata": {},
   "source": [
    "### Managing missing values"
   ]
  },
  {
   "cell_type": "code",
   "execution_count": 24,
   "metadata": {},
   "outputs": [],
   "source": [
    "# Resetting index\n",
    "df_train.reset_index(drop=True, inplace=True)\n",
    "df_test.reset_index(drop=True, inplace=True)"
   ]
  },
  {
   "cell_type": "code",
   "execution_count": 25,
   "metadata": {},
   "outputs": [],
   "source": [
    "# Dropping rows with two or more -9999.9 values in columns"
   ]
  },
  {
   "cell_type": "code",
   "execution_count": 26,
   "metadata": {},
   "outputs": [
    {
     "data": {
      "text/plain": [
       "(1039363, 49)"
      ]
     },
     "execution_count": 26,
     "metadata": {},
     "output_type": "execute_result"
    }
   ],
   "source": [
    "# Step1: Get indices of all rows with 2 or more -999\n",
    "missing_data_indices = np.where((df_train <=-9999.9).apply(sum, axis=1)>=2)[0]\n",
    "# Step2: Drop those indices\n",
    "df_train.drop(missing_data_indices, axis=0, inplace=True)\n",
    "# Checking that the rows are dropped\n",
    "df_train.shape"
   ]
  },
  {
   "cell_type": "code",
   "execution_count": 27,
   "metadata": {},
   "outputs": [
    {
     "data": {
      "text/plain": [
       "(510853, 49)"
      ]
     },
     "execution_count": 27,
     "metadata": {},
     "output_type": "execute_result"
    }
   ],
   "source": [
    "missing_data_indices_test = np.where((df_test <= -9999.9).apply(sum, axis=1)>=2)[0]\n",
    "df_test.drop(missing_data_indices_test, axis=0, inplace=True)\n",
    "df_test.shape"
   ]
  },
  {
   "cell_type": "code",
   "execution_count": 28,
   "metadata": {},
   "outputs": [],
   "source": [
    "# For the rows with only one cell as -9999.9, replacing this cell with the mean of the column"
   ]
  },
  {
   "cell_type": "markdown",
   "metadata": {},
   "source": [
    "#### First resetting index after dropping rows in the previous part of the code"
   ]
  },
  {
   "cell_type": "code",
   "execution_count": 29,
   "metadata": {},
   "outputs": [],
   "source": [
    "# 2nd time - Reseting Index\n",
    "df_train.reset_index(drop=True, inplace=True)\n",
    "df_test.reset_index(drop=True, inplace=True)"
   ]
  },
  {
   "cell_type": "code",
   "execution_count": 30,
   "metadata": {},
   "outputs": [],
   "source": [
    "one_miss_train_idx = np.where((df_train <=-9999.9).apply(sum, axis=1)==1)[0]"
   ]
  },
  {
   "cell_type": "code",
   "execution_count": 31,
   "metadata": {},
   "outputs": [
    {
     "data": {
      "text/plain": [
       "13173"
      ]
     },
     "execution_count": 31,
     "metadata": {},
     "output_type": "execute_result"
    }
   ],
   "source": [
    "len(one_miss_train_idx)"
   ]
  },
  {
   "cell_type": "code",
   "execution_count": 32,
   "metadata": {},
   "outputs": [
    {
     "data": {
      "text/plain": [
       "(1039363, 49)"
      ]
     },
     "execution_count": 32,
     "metadata": {},
     "output_type": "execute_result"
    }
   ],
   "source": [
    "df_train.shape"
   ]
  },
  {
   "cell_type": "code",
   "execution_count": 33,
   "metadata": {},
   "outputs": [
    {
     "name": "stderr",
     "output_type": "stream",
     "text": [
      "C:\\Users\\s269596\\AppData\\Local\\Continuum\\Anaconda3\\lib\\site-packages\\pandas\\core\\indexing.py:194: SettingWithCopyWarning: \n",
      "A value is trying to be set on a copy of a slice from a DataFrame\n",
      "\n",
      "See the caveats in the documentation: http://pandas.pydata.org/pandas-docs/stable/indexing.html#indexing-view-versus-copy\n",
      "  self._setitem_with_indexer(indexer, value)\n"
     ]
    }
   ],
   "source": [
    "col_names = df_train.columns\n",
    "from collections import defaultdict\n",
    "stats = defaultdict(int)\n",
    "total_single_missing_values = 0\n",
    "for name in col_names:\n",
    "    col_mean = df_train[~(df_train[name] == -9999.9)][name].mean()\n",
    "    missing_indices = np.where((df_train[name] == -9999.9))\n",
    "    stats[name] = len(missing_indices[0])\n",
    "    df_train[name].loc[missing_indices] = col_mean\n",
    "    total_single_missing_values += sum(df_train[name] == -9999.9)\n",
    "    "
   ]
  },
  {
   "cell_type": "code",
   "execution_count": 34,
   "metadata": {},
   "outputs": [],
   "source": [
    "df_col_min = df_train.apply(min, axis=0)\n",
    "df_col_max = df_train.apply(max, axis =0)\n",
    "#print(df_col_min, df_col_max)"
   ]
  },
  {
   "cell_type": "code",
   "execution_count": 35,
   "metadata": {},
   "outputs": [],
   "source": [
    "train = np.where((df_train <=-9999.9).apply(sum, axis=1)==1)[0]"
   ]
  },
  {
   "cell_type": "code",
   "execution_count": 36,
   "metadata": {},
   "outputs": [
    {
     "data": {
      "text/plain": [
       "0"
      ]
     },
     "execution_count": 36,
     "metadata": {},
     "output_type": "execute_result"
    }
   ],
   "source": [
    "len(train)"
   ]
  },
  {
   "cell_type": "code",
   "execution_count": 37,
   "metadata": {},
   "outputs": [],
   "source": [
    "# doing the same thing on test dataset"
   ]
  },
  {
   "cell_type": "code",
   "execution_count": 38,
   "metadata": {},
   "outputs": [
    {
     "data": {
      "text/plain": [
       "6448"
      ]
     },
     "execution_count": 38,
     "metadata": {},
     "output_type": "execute_result"
    }
   ],
   "source": [
    "one_miss_test_idx = np.where((df_test <=-9999.9).apply(sum, axis=1)==1)[0]\n",
    "len(one_miss_test_idx)"
   ]
  },
  {
   "cell_type": "code",
   "execution_count": 39,
   "metadata": {},
   "outputs": [
    {
     "name": "stderr",
     "output_type": "stream",
     "text": [
      "C:\\Users\\s269596\\AppData\\Local\\Continuum\\Anaconda3\\lib\\site-packages\\pandas\\core\\indexing.py:194: SettingWithCopyWarning: \n",
      "A value is trying to be set on a copy of a slice from a DataFrame\n",
      "\n",
      "See the caveats in the documentation: http://pandas.pydata.org/pandas-docs/stable/indexing.html#indexing-view-versus-copy\n",
      "  self._setitem_with_indexer(indexer, value)\n"
     ]
    }
   ],
   "source": [
    "col_names_test = df_test.columns\n",
    "from collections import defaultdict\n",
    "stats_test = defaultdict(int)\n",
    "total_single_missing_values_test = 0\n",
    "for name in col_names_test:\n",
    "    col_mean = df_test[~(df_test[name] == -9999.9)][name].mean()\n",
    "    missing_indices = np.where((df_test[name] == -9999.9))\n",
    "    stats_test[name] = len(missing_indices[0])\n",
    "    df_test[name].loc[missing_indices] = col_mean\n",
    "    total_single_missing_values_test += sum(df_test[name] == -9999.9)\n",
    "    "
   ]
  },
  {
   "cell_type": "code",
   "execution_count": 40,
   "metadata": {},
   "outputs": [],
   "source": [
    "test = np.where((df_test <=-9999.9).apply(sum, axis=1)==1)[0]"
   ]
  },
  {
   "cell_type": "code",
   "execution_count": 41,
   "metadata": {},
   "outputs": [
    {
     "data": {
      "text/plain": [
       "0"
      ]
     },
     "execution_count": 41,
     "metadata": {},
     "output_type": "execute_result"
    }
   ],
   "source": [
    "len(test)"
   ]
  },
  {
   "cell_type": "code",
   "execution_count": 42,
   "metadata": {},
   "outputs": [
    {
     "data": {
      "text/plain": [
       "(1039363, 49)"
      ]
     },
     "execution_count": 42,
     "metadata": {},
     "output_type": "execute_result"
    }
   ],
   "source": [
    "df_train.shape"
   ]
  },
  {
   "cell_type": "code",
   "execution_count": 43,
   "metadata": {},
   "outputs": [
    {
     "data": {
      "text/plain": [
       "(510853, 49)"
      ]
     },
     "execution_count": 43,
     "metadata": {},
     "output_type": "execute_result"
    }
   ],
   "source": [
    "df_test.shape"
   ]
  },
  {
   "cell_type": "markdown",
   "metadata": {},
   "source": [
    "### Exploratory Data Analysis"
   ]
  },
  {
   "cell_type": "code",
   "execution_count": 44,
   "metadata": {},
   "outputs": [],
   "source": [
    "dw_solar_everyday = df_test.groupby(['jday'])['dw_solar'].mean()\n",
    "ghi_everyday = df_test.groupby(['jday'])['ghi'].mean()\n",
    "j_day = df_test['jday'].unique()"
   ]
  },
  {
   "cell_type": "code",
   "execution_count": 45,
   "metadata": {},
   "outputs": [
    {
     "data": {
      "image/png": "[encoded data removed]",
      "text/plain": [
       "<Figure size 432x288 with 1 Axes>"
      ]
     },
     "metadata": {},
     "output_type": "display_data"
    }
   ],
   "source": [
    "fig = plt.figure()\n",
    "\n",
    "axes1 = fig.add_axes([0.1,0.1,0.8,0.8])\n",
    "#axes2 = fig.add_axes([0.1,0.1,0.8,0.8])\n",
    "\n",
    "axes1.scatter(j_day,dw_solar_everyday,label='Observed dw_solar',color='red')\n",
    "axes1.scatter(j_day, ghi_everyday, label='Clear Sky GHI',color='green')\n",
    "\n",
    "axes1.set_xlabel('Days')\n",
    "axes1.set_ylabel('Solar Irradiance (Watts /m^2)')\n",
    "axes1.set_title('Solar Irradiance - Test Year 2009')\n",
    "axes1.legend(loc='best')\n",
    "\n",
    "fig.savefig('Figure2a.png', bbox_inches = 'tight')"
   ]
  },
  {
   "cell_type": "code",
   "execution_count": 46,
   "metadata": {},
   "outputs": [
    {
     "name": "stderr",
     "output_type": "stream",
     "text": [
      "C:\\Users\\s269596\\AppData\\Local\\Continuum\\Anaconda3\\lib\\site-packages\\matplotlib\\axes\\_axes.py:6462: UserWarning: The 'normed' kwarg is deprecated, and has been replaced by the 'density' kwarg.\n",
      "  warnings.warn(\"The 'normed' kwarg is deprecated, and has been \"\n"
     ]
    },
    {
     "data": {
      "image/png": "[encoded data removed]",
      "text/plain": [
       "<Figure size 432x432 with 3 Axes>"
      ]
     },
     "metadata": {},
     "output_type": "display_data"
    }
   ],
   "source": [
    "sns.jointplot(x=dw_solar_everyday,y=ghi_everyday,kind='reg')\n",
    "#plt.title('observed dw_solar vs clear sky ghi')\n",
    "plt.xlabel('Observed global downwelling solar (Watts/m^2)')\n",
    "plt.ylabel('Clear Sky GHI (Watts/m^2)')\n",
    "plt.savefig('Figure3a.png', bbox_inches='tight')"
   ]
  },
  {
   "cell_type": "markdown",
   "metadata": {},
   "source": [
    "### making the Kt (clear sky index at time t) column by first removing rows with ghi==0"
   ]
  },
  {
   "cell_type": "code",
   "execution_count": 47,
   "metadata": {},
   "outputs": [],
   "source": [
    "df_train = df_train[df_train['ghi']!=0]\n",
    "df_test = df_test[df_test['ghi']!=0]\n",
    "df_train['Kt'] = df_train['dw_solar']/df_train['ghi']\n",
    "df_test['Kt'] = df_test['dw_solar']/df_test['ghi']"
   ]
  },
  {
   "cell_type": "code",
   "execution_count": 48,
   "metadata": {},
   "outputs": [],
   "source": [
    "df_train.reset_index(inplace=True)\n",
    "df_test.reset_index(inplace=True)"
   ]
  },
  {
   "cell_type": "code",
   "execution_count": 49,
   "metadata": {},
   "outputs": [
    {
     "name": "stdout",
     "output_type": "stream",
     "text": [
      "test Kt max: 15152.440011618102\n",
      "test Kt min: -34.79740973618779\n",
      "test Kt mean: 1.9145243277345676\n",
      "\n",
      "\n",
      "train Kt max: 110113.08976621665\n",
      "train Kt min: -167.27791726909712\n",
      "train Kt mean: 2.453877360947302\n"
     ]
    }
   ],
   "source": [
    "print(\"test Kt max: \"+str(df_test['Kt'].max()))\n",
    "print(\"test Kt min: \"+str(df_test['Kt'].min()))\n",
    "print(\"test Kt mean: \"+str(df_test['Kt'].mean()))\n",
    "print(\"\\n\")\n",
    "print(\"train Kt max: \"+str(df_train['Kt'].max()))\n",
    "print(\"train Kt min: \"+str(df_train['Kt'].min()))\n",
    "print(\"train Kt mean: \"+str(df_train['Kt'].mean()))"
   ]
  },
  {
   "cell_type": "code",
   "execution_count": 50,
   "metadata": {},
   "outputs": [
    {
     "data": {
      "text/plain": [
       "[<matplotlib.lines.Line2D at 0xa3bb828>]"
      ]
     },
     "execution_count": 50,
     "metadata": {},
     "output_type": "execute_result"
    },
    {
     "data": {
      "image/png": "[encoded data removed]",
      "text/plain": [
       "<Figure size 432x288 with 1 Axes>"
      ]
     },
     "metadata": {},
     "output_type": "display_data"
    }
   ],
   "source": [
    "plt.plot(df_train['Kt'])"
   ]
  },
  {
   "cell_type": "code",
   "execution_count": 51,
   "metadata": {},
   "outputs": [
    {
     "data": {
      "text/plain": [
       "[<matplotlib.lines.Line2D at 0xfe934a8>]"
      ]
     },
     "execution_count": 51,
     "metadata": {},
     "output_type": "execute_result"
    },
    {
     "data": {
      "image/png": "[encoded data removed]",
      "text/plain": [
       "<Figure size 432x288 with 1 Axes>"
      ]
     },
     "metadata": {},
     "output_type": "display_data"
    }
   ],
   "source": [
    "plt.plot(df_test['Kt'])"
   ]
  },
  {
   "cell_type": "code",
   "execution_count": 52,
   "metadata": {},
   "outputs": [],
   "source": [
    "df_train= df_train[df_train['Kt']< 5000]\n",
    "df_train= df_train[df_train['Kt']> -1000]\n",
    "df_test= df_test[df_test['Kt']< 5000]\n",
    "df_test= df_test[df_test['Kt']> -1000]"
   ]
  },
  {
   "cell_type": "markdown",
   "metadata": {},
   "source": [
    "#### Group the data (train dataframe)"
   ]
  },
  {
   "cell_type": "code",
   "execution_count": 53,
   "metadata": {},
   "outputs": [],
   "source": [
    "zen = df_train.groupby(['year','month','day','hour'])['zen'].mean()\n",
    "dw_solar = df_train.groupby(['year','month','day','hour'])['dw_solar'].mean()\n",
    "uw_solar = df_train.groupby(['year','month','day','hour'])['uw_solar'].mean()\n",
    "direct_n = df_train.groupby(['year','month','day','hour'])['direct_n'].mean()\n",
    "diffuse = df_train.groupby(['year','month','day','hour'])['diffuse'].mean()\n",
    "dw_ir = df_train.groupby(['year','month','day','hour'])['dw_ir'].mean()\n",
    "dw_casetemp = df_train.groupby(['year','month','day','hour'])['dw_casetemp'].mean()\n",
    "dw_dometemp = df_train.groupby(['year','month','day','hour'])['dw_dometemp'].mean()\n",
    "uw_ir = df_train.groupby(['year','month','day','hour'])['uw_ir'].mean()\n",
    "uw_casetemp = df_train.groupby(['year','month','day','hour'])['uw_casetemp'].mean()\n",
    "uw_dometemp = df_train.groupby(['year','month','day','hour'])['uw_dometemp'].mean()\n",
    "uvb = df_train.groupby(['year','month','day','hour'])['uvb'].mean()\n",
    "par = df_train.groupby(['year','month','day','hour'])['par'].mean()\n",
    "netsolar = df_train.groupby(['year','month','day','hour'])['netsolar'].mean()\n",
    "netir = df_train.groupby(['year','month','day','hour'])['netir'].mean()\n",
    "totalnet = df_train.groupby(['year','month','day','hour'])['totalnet'].mean()\n",
    "temp = df_train.groupby(['year','month','day','hour'])['temp'].mean()\n",
    "rh = df_train.groupby(['year','month','day','hour'])['rh'].mean()\n",
    "windspd = df_train.groupby(['year','month','day','hour'])['windspd'].mean()\n",
    "winddir = df_train.groupby(['year','month','day','hour'])['winddir'].mean()\n",
    "pressure = df_train.groupby(['year','month','day','hour'])['pressure'].mean()\n",
    "ghi = df_train.groupby(['year','month','day','hour'])['ghi'].mean()\n",
    "Kt = df_train.groupby(['year','month','day','hour'])['Kt'].mean()"
   ]
  },
  {
   "cell_type": "code",
   "execution_count": 54,
   "metadata": {},
   "outputs": [],
   "source": [
    "df_new_train = pd.concat([zen,dw_solar,uw_solar,direct_n,diffuse,dw_ir,dw_casetemp,dw_dometemp,uw_ir,uw_casetemp,uw_dometemp,\n",
    "                    uvb,par,netsolar,netir,totalnet,temp,rh,windspd,winddir,pressure,ghi,Kt], axis=1)"
   ]
  },
  {
   "cell_type": "code",
   "execution_count": 55,
   "metadata": {},
   "outputs": [
    {
     "data": {
      "text/html": [
       "<div>\n",
       "<style scoped>\n",
       "    .dataframe tbody tr th:only-of-type {\n",
       "        vertical-align: middle;\n",
       "    }\n",
       "\n",
       "    .dataframe tbody tr th {\n",
       "        vertical-align: top;\n",
       "    }\n",
       "\n",
       "    .dataframe thead th {\n",
       "        text-align: right;\n",
       "    }\n",
       "</style>\n",
       "<table border=\"1\" class=\"dataframe\">\n",
       "  <thead>\n",
       "    <tr style=\"text-align: right;\">\n",
       "      <th></th>\n",
       "      <th></th>\n",
       "      <th></th>\n",
       "      <th></th>\n",
       "      <th>zen</th>\n",
       "      <th>dw_solar</th>\n",
       "      <th>uw_solar</th>\n",
       "      <th>direct_n</th>\n",
       "      <th>diffuse</th>\n",
       "      <th>dw_ir</th>\n",
       "      <th>dw_casetemp</th>\n",
       "      <th>dw_dometemp</th>\n",
       "      <th>uw_ir</th>\n",
       "      <th>uw_casetemp</th>\n",
       "      <th>...</th>\n",
       "      <th>netsolar</th>\n",
       "      <th>netir</th>\n",
       "      <th>totalnet</th>\n",
       "      <th>temp</th>\n",
       "      <th>rh</th>\n",
       "      <th>windspd</th>\n",
       "      <th>winddir</th>\n",
       "      <th>pressure</th>\n",
       "      <th>ghi</th>\n",
       "      <th>Kt</th>\n",
       "    </tr>\n",
       "    <tr>\n",
       "      <th>year</th>\n",
       "      <th>month</th>\n",
       "      <th>day</th>\n",
       "      <th>hour</th>\n",
       "      <th></th>\n",
       "      <th></th>\n",
       "      <th></th>\n",
       "      <th></th>\n",
       "      <th></th>\n",
       "      <th></th>\n",
       "      <th></th>\n",
       "      <th></th>\n",
       "      <th></th>\n",
       "      <th></th>\n",
       "      <th></th>\n",
       "      <th></th>\n",
       "      <th></th>\n",
       "      <th></th>\n",
       "      <th></th>\n",
       "      <th></th>\n",
       "      <th></th>\n",
       "      <th></th>\n",
       "      <th></th>\n",
       "      <th></th>\n",
       "      <th></th>\n",
       "    </tr>\n",
       "  </thead>\n",
       "  <tbody>\n",
       "    <tr>\n",
       "      <th rowspan=\"5\" valign=\"top\">2010.0</th>\n",
       "      <th rowspan=\"5\" valign=\"top\">1.0</th>\n",
       "      <th rowspan=\"5\" valign=\"top\">1.0</th>\n",
       "      <th>7.0</th>\n",
       "      <td>143.425455</td>\n",
       "      <td>-1.595455</td>\n",
       "      <td>0.000000</td>\n",
       "      <td>2.354545</td>\n",
       "      <td>-0.481818</td>\n",
       "      <td>294.027273</td>\n",
       "      <td>272.977273</td>\n",
       "      <td>272.813636</td>\n",
       "      <td>303.809091</td>\n",
       "      <td>270.872727</td>\n",
       "      <td>...</td>\n",
       "      <td>0.0</td>\n",
       "      <td>-9.786364</td>\n",
       "      <td>-9.786364</td>\n",
       "      <td>-1.918182</td>\n",
       "      <td>94.595455</td>\n",
       "      <td>1.645455</td>\n",
       "      <td>251.290909</td>\n",
       "      <td>969.427273</td>\n",
       "      <td>46.729148</td>\n",
       "      <td>-0.035871</td>\n",
       "    </tr>\n",
       "    <tr>\n",
       "      <th>8.0</th>\n",
       "      <td>135.844000</td>\n",
       "      <td>-1.611667</td>\n",
       "      <td>0.000000</td>\n",
       "      <td>2.188333</td>\n",
       "      <td>-0.465000</td>\n",
       "      <td>293.376667</td>\n",
       "      <td>272.786667</td>\n",
       "      <td>272.631667</td>\n",
       "      <td>303.080000</td>\n",
       "      <td>270.731667</td>\n",
       "      <td>...</td>\n",
       "      <td>0.0</td>\n",
       "      <td>-9.711667</td>\n",
       "      <td>-9.711667</td>\n",
       "      <td>-1.998333</td>\n",
       "      <td>95.076667</td>\n",
       "      <td>1.708333</td>\n",
       "      <td>244.951667</td>\n",
       "      <td>969.338333</td>\n",
       "      <td>116.574405</td>\n",
       "      <td>-0.015675</td>\n",
       "    </tr>\n",
       "    <tr>\n",
       "      <th>9.0</th>\n",
       "      <td>124.525667</td>\n",
       "      <td>-1.760000</td>\n",
       "      <td>-0.013333</td>\n",
       "      <td>2.090000</td>\n",
       "      <td>-0.393333</td>\n",
       "      <td>299.085000</td>\n",
       "      <td>272.953333</td>\n",
       "      <td>272.795000</td>\n",
       "      <td>305.198333</td>\n",
       "      <td>270.860000</td>\n",
       "      <td>...</td>\n",
       "      <td>0.0</td>\n",
       "      <td>-6.116667</td>\n",
       "      <td>-6.116667</td>\n",
       "      <td>-1.755000</td>\n",
       "      <td>95.043333</td>\n",
       "      <td>2.110000</td>\n",
       "      <td>239.411667</td>\n",
       "      <td>968.896667</td>\n",
       "      <td>258.670822</td>\n",
       "      <td>-0.006941</td>\n",
       "    </tr>\n",
       "    <tr>\n",
       "      <th>10.0</th>\n",
       "      <td>113.255500</td>\n",
       "      <td>-1.645000</td>\n",
       "      <td>-0.045000</td>\n",
       "      <td>3.075000</td>\n",
       "      <td>-0.441667</td>\n",
       "      <td>298.563333</td>\n",
       "      <td>273.190000</td>\n",
       "      <td>273.025000</td>\n",
       "      <td>305.490000</td>\n",
       "      <td>271.108333</td>\n",
       "      <td>...</td>\n",
       "      <td>0.0</td>\n",
       "      <td>-6.930000</td>\n",
       "      <td>-6.930000</td>\n",
       "      <td>-1.506667</td>\n",
       "      <td>94.693333</td>\n",
       "      <td>1.555000</td>\n",
       "      <td>262.800000</td>\n",
       "      <td>969.090000</td>\n",
       "      <td>375.577358</td>\n",
       "      <td>-0.004403</td>\n",
       "    </tr>\n",
       "    <tr>\n",
       "      <th>11.0</th>\n",
       "      <td>102.321167</td>\n",
       "      <td>-1.561667</td>\n",
       "      <td>-0.045000</td>\n",
       "      <td>3.716667</td>\n",
       "      <td>-0.470000</td>\n",
       "      <td>306.001667</td>\n",
       "      <td>273.680000</td>\n",
       "      <td>273.568333</td>\n",
       "      <td>308.616667</td>\n",
       "      <td>271.521667</td>\n",
       "      <td>...</td>\n",
       "      <td>0.0</td>\n",
       "      <td>-2.611667</td>\n",
       "      <td>-2.611667</td>\n",
       "      <td>-0.810000</td>\n",
       "      <td>93.096667</td>\n",
       "      <td>0.730000</td>\n",
       "      <td>255.361667</td>\n",
       "      <td>969.346667</td>\n",
       "      <td>445.293463</td>\n",
       "      <td>-0.003517</td>\n",
       "    </tr>\n",
       "  </tbody>\n",
       "</table>\n",
       "<p>5 rows × 23 columns</p>\n",
       "</div>"
      ],
      "text/plain": [
       "                              zen  dw_solar  uw_solar  direct_n   diffuse  \\\n",
       "year   month day hour                                                       \n",
       "2010.0 1.0   1.0 7.0   143.425455 -1.595455  0.000000  2.354545 -0.481818   \n",
       "                 8.0   135.844000 -1.611667  0.000000  2.188333 -0.465000   \n",
       "                 9.0   124.525667 -1.760000 -0.013333  2.090000 -0.393333   \n",
       "                 10.0  113.255500 -1.645000 -0.045000  3.075000 -0.441667   \n",
       "                 11.0  102.321167 -1.561667 -0.045000  3.716667 -0.470000   \n",
       "\n",
       "                            dw_ir  dw_casetemp  dw_dometemp       uw_ir  \\\n",
       "year   month day hour                                                     \n",
       "2010.0 1.0   1.0 7.0   294.027273   272.977273   272.813636  303.809091   \n",
       "                 8.0   293.376667   272.786667   272.631667  303.080000   \n",
       "                 9.0   299.085000   272.953333   272.795000  305.198333   \n",
       "                 10.0  298.563333   273.190000   273.025000  305.490000   \n",
       "                 11.0  306.001667   273.680000   273.568333  308.616667   \n",
       "\n",
       "                       uw_casetemp    ...     netsolar     netir  totalnet  \\\n",
       "year   month day hour                 ...                                    \n",
       "2010.0 1.0   1.0 7.0    270.872727    ...          0.0 -9.786364 -9.786364   \n",
       "                 8.0    270.731667    ...          0.0 -9.711667 -9.711667   \n",
       "                 9.0    270.860000    ...          0.0 -6.116667 -6.116667   \n",
       "                 10.0   271.108333    ...          0.0 -6.930000 -6.930000   \n",
       "                 11.0   271.521667    ...          0.0 -2.611667 -2.611667   \n",
       "\n",
       "                           temp         rh   windspd     winddir    pressure  \\\n",
       "year   month day hour                                                          \n",
       "2010.0 1.0   1.0 7.0  -1.918182  94.595455  1.645455  251.290909  969.427273   \n",
       "                 8.0  -1.998333  95.076667  1.708333  244.951667  969.338333   \n",
       "                 9.0  -1.755000  95.043333  2.110000  239.411667  968.896667   \n",
       "                 10.0 -1.506667  94.693333  1.555000  262.800000  969.090000   \n",
       "                 11.0 -0.810000  93.096667  0.730000  255.361667  969.346667   \n",
       "\n",
       "                              ghi        Kt  \n",
       "year   month day hour                        \n",
       "2010.0 1.0   1.0 7.0    46.729148 -0.035871  \n",
       "                 8.0   116.574405 -0.015675  \n",
       "                 9.0   258.670822 -0.006941  \n",
       "                 10.0  375.577358 -0.004403  \n",
       "                 11.0  445.293463 -0.003517  \n",
       "\n",
       "[5 rows x 23 columns]"
      ]
     },
     "execution_count": 55,
     "metadata": {},
     "output_type": "execute_result"
    }
   ],
   "source": [
    "df_new_train.head()"
   ]
  },
  {
   "cell_type": "markdown",
   "metadata": {},
   "source": [
    "#### Groupdata - test dataframe"
   ]
  },
  {
   "cell_type": "code",
   "execution_count": 56,
   "metadata": {},
   "outputs": [],
   "source": [
    "test_zen = df_test.groupby(['month','day','hour'])['zen'].mean()\n",
    "test_dw_solar = df_test.groupby(['month','day','hour'])['dw_solar'].mean()\n",
    "test_uw_solar = df_test.groupby(['month','day','hour'])['uw_solar'].mean()\n",
    "test_direct_n = df_test.groupby(['month','day','hour'])['direct_n'].mean()\n",
    "test_diffuse = df_test.groupby(['month','day','hour'])['diffuse'].mean()\n",
    "test_dw_ir = df_test.groupby(['month','day','hour'])['dw_ir'].mean()\n",
    "test_dw_casetemp = df_test.groupby(['month','day','hour'])['dw_casetemp'].mean()\n",
    "test_dw_dometemp = df_test.groupby(['month','day','hour'])['dw_dometemp'].mean()\n",
    "test_uw_ir = df_test.groupby(['month','day','hour'])['uw_ir'].mean()\n",
    "test_uw_casetemp = df_test.groupby(['month','day','hour'])['uw_casetemp'].mean()\n",
    "test_uw_dometemp = df_test.groupby(['month','day','hour'])['uw_dometemp'].mean()\n",
    "test_uvb = df_test.groupby(['month','day','hour'])['uvb'].mean()\n",
    "test_par = df_test.groupby(['month','day','hour'])['par'].mean()\n",
    "test_netsolar = df_test.groupby(['month','day','hour'])['netsolar'].mean()\n",
    "test_netir = df_test.groupby(['month','day','hour'])['netir'].mean()\n",
    "test_totalnet = df_test.groupby(['month','day','hour'])['totalnet'].mean()\n",
    "test_temp = df_test.groupby(['month','day','hour'])['temp'].mean()\n",
    "test_rh = df_test.groupby(['month','day','hour'])['rh'].mean()\n",
    "test_windspd = df_test.groupby(['month','day','hour'])['windspd'].mean()\n",
    "test_winddir = df_test.groupby(['month','day','hour'])['winddir'].mean()\n",
    "test_pressure = df_test.groupby(['month','day','hour'])['pressure'].mean()\n",
    "test_ghi = df_test.groupby(['month','day','hour'])['ghi'].mean()\n",
    "test_Kt = df_test.groupby(['month','day','hour'])['Kt'].mean()"
   ]
  },
  {
   "cell_type": "code",
   "execution_count": 57,
   "metadata": {},
   "outputs": [],
   "source": [
    "df_new_test = pd.concat([test_zen,test_dw_solar,test_uw_solar,test_direct_n,test_diffuse,test_dw_ir,\n",
    "                         test_dw_casetemp,test_dw_dometemp,test_uw_ir,test_uw_casetemp,test_uw_dometemp,\n",
    "                    test_uvb,test_par,test_netsolar,test_netir,test_totalnet,test_temp,test_rh,\n",
    "                         test_windspd,test_winddir,test_pressure,test_ghi,test_Kt], axis=1)"
   ]
  },
  {
   "cell_type": "code",
   "execution_count": 58,
   "metadata": {},
   "outputs": [
    {
     "data": {
      "text/html": [
       "<div>\n",
       "<style scoped>\n",
       "    .dataframe tbody tr th:only-of-type {\n",
       "        vertical-align: middle;\n",
       "    }\n",
       "\n",
       "    .dataframe tbody tr th {\n",
       "        vertical-align: top;\n",
       "    }\n",
       "\n",
       "    .dataframe thead th {\n",
       "        text-align: right;\n",
       "    }\n",
       "</style>\n",
       "<table border=\"1\" class=\"dataframe\">\n",
       "  <thead>\n",
       "    <tr style=\"text-align: right;\">\n",
       "      <th></th>\n",
       "      <th>zen</th>\n",
       "      <th>dw_solar</th>\n",
       "      <th>uw_solar</th>\n",
       "      <th>direct_n</th>\n",
       "      <th>diffuse</th>\n",
       "      <th>dw_ir</th>\n",
       "      <th>dw_casetemp</th>\n",
       "      <th>dw_dometemp</th>\n",
       "      <th>uw_ir</th>\n",
       "      <th>uw_casetemp</th>\n",
       "      <th>...</th>\n",
       "      <th>netsolar</th>\n",
       "      <th>netir</th>\n",
       "      <th>totalnet</th>\n",
       "      <th>temp</th>\n",
       "      <th>rh</th>\n",
       "      <th>windspd</th>\n",
       "      <th>winddir</th>\n",
       "      <th>pressure</th>\n",
       "      <th>ghi</th>\n",
       "      <th>Kt</th>\n",
       "    </tr>\n",
       "    <tr>\n",
       "      <th>hour</th>\n",
       "      <th></th>\n",
       "      <th></th>\n",
       "      <th></th>\n",
       "      <th></th>\n",
       "      <th></th>\n",
       "      <th></th>\n",
       "      <th></th>\n",
       "      <th></th>\n",
       "      <th></th>\n",
       "      <th></th>\n",
       "      <th></th>\n",
       "      <th></th>\n",
       "      <th></th>\n",
       "      <th></th>\n",
       "      <th></th>\n",
       "      <th></th>\n",
       "      <th></th>\n",
       "      <th></th>\n",
       "      <th></th>\n",
       "      <th></th>\n",
       "      <th></th>\n",
       "    </tr>\n",
       "  </thead>\n",
       "  <tbody>\n",
       "    <tr>\n",
       "      <th>7.0</th>\n",
       "      <td>140.031091</td>\n",
       "      <td>-2.469091</td>\n",
       "      <td>-0.358182</td>\n",
       "      <td>2.360000</td>\n",
       "      <td>0.745455</td>\n",
       "      <td>195.056364</td>\n",
       "      <td>266.727273</td>\n",
       "      <td>266.285455</td>\n",
       "      <td>269.809091</td>\n",
       "      <td>265.814545</td>\n",
       "      <td>...</td>\n",
       "      <td>0.000000</td>\n",
       "      <td>-74.750909</td>\n",
       "      <td>-74.750909</td>\n",
       "      <td>-6.736364</td>\n",
       "      <td>72.103636</td>\n",
       "      <td>0.458182</td>\n",
       "      <td>193.252727</td>\n",
       "      <td>980.114545</td>\n",
       "      <td>75.495960</td>\n",
       "      <td>-0.036719</td>\n",
       "    </tr>\n",
       "    <tr>\n",
       "      <th>8.0</th>\n",
       "      <td>130.593167</td>\n",
       "      <td>-2.996667</td>\n",
       "      <td>-0.261667</td>\n",
       "      <td>5.101667</td>\n",
       "      <td>0.508333</td>\n",
       "      <td>194.861667</td>\n",
       "      <td>266.001667</td>\n",
       "      <td>265.620000</td>\n",
       "      <td>269.271667</td>\n",
       "      <td>264.505000</td>\n",
       "      <td>...</td>\n",
       "      <td>0.000000</td>\n",
       "      <td>-74.410000</td>\n",
       "      <td>-74.410000</td>\n",
       "      <td>-7.518333</td>\n",
       "      <td>77.925000</td>\n",
       "      <td>0.680000</td>\n",
       "      <td>205.293333</td>\n",
       "      <td>980.090000</td>\n",
       "      <td>232.239353</td>\n",
       "      <td>-0.013559</td>\n",
       "    </tr>\n",
       "    <tr>\n",
       "      <th>9.0</th>\n",
       "      <td>119.707500</td>\n",
       "      <td>-4.038333</td>\n",
       "      <td>-0.643333</td>\n",
       "      <td>4.806667</td>\n",
       "      <td>0.148333</td>\n",
       "      <td>195.403333</td>\n",
       "      <td>266.540000</td>\n",
       "      <td>266.166667</td>\n",
       "      <td>273.628333</td>\n",
       "      <td>264.931667</td>\n",
       "      <td>...</td>\n",
       "      <td>0.000000</td>\n",
       "      <td>-78.231667</td>\n",
       "      <td>-78.231667</td>\n",
       "      <td>-6.785000</td>\n",
       "      <td>75.850000</td>\n",
       "      <td>1.795000</td>\n",
       "      <td>260.378333</td>\n",
       "      <td>980.315000</td>\n",
       "      <td>404.694221</td>\n",
       "      <td>-0.010033</td>\n",
       "    </tr>\n",
       "    <tr>\n",
       "      <th>10.0</th>\n",
       "      <td>108.404667</td>\n",
       "      <td>-3.563333</td>\n",
       "      <td>-0.198333</td>\n",
       "      <td>2.993333</td>\n",
       "      <td>0.030000</td>\n",
       "      <td>197.165000</td>\n",
       "      <td>267.168333</td>\n",
       "      <td>266.723333</td>\n",
       "      <td>277.640000</td>\n",
       "      <td>265.658333</td>\n",
       "      <td>...</td>\n",
       "      <td>0.000000</td>\n",
       "      <td>-80.465000</td>\n",
       "      <td>-80.465000</td>\n",
       "      <td>-6.968333</td>\n",
       "      <td>77.696667</td>\n",
       "      <td>2.896667</td>\n",
       "      <td>294.021667</td>\n",
       "      <td>980.585000</td>\n",
       "      <td>540.919433</td>\n",
       "      <td>-0.006609</td>\n",
       "    </tr>\n",
       "    <tr>\n",
       "      <th>11.0</th>\n",
       "      <td>97.092500</td>\n",
       "      <td>-2.285000</td>\n",
       "      <td>0.116667</td>\n",
       "      <td>1.671667</td>\n",
       "      <td>1.081667</td>\n",
       "      <td>197.653333</td>\n",
       "      <td>266.230000</td>\n",
       "      <td>265.790000</td>\n",
       "      <td>273.118333</td>\n",
       "      <td>264.701667</td>\n",
       "      <td>...</td>\n",
       "      <td>0.703333</td>\n",
       "      <td>-75.468333</td>\n",
       "      <td>-74.763333</td>\n",
       "      <td>-8.111667</td>\n",
       "      <td>84.283333</td>\n",
       "      <td>1.836667</td>\n",
       "      <td>234.206667</td>\n",
       "      <td>980.305000</td>\n",
       "      <td>625.970675</td>\n",
       "      <td>-0.003699</td>\n",
       "    </tr>\n",
       "    <tr>\n",
       "      <th>12.0</th>\n",
       "      <td>85.866500</td>\n",
       "      <td>32.508333</td>\n",
       "      <td>9.730000</td>\n",
       "      <td>70.833333</td>\n",
       "      <td>29.548333</td>\n",
       "      <td>196.690000</td>\n",
       "      <td>265.670000</td>\n",
       "      <td>265.330000</td>\n",
       "      <td>273.705000</td>\n",
       "      <td>263.960000</td>\n",
       "      <td>...</td>\n",
       "      <td>29.581667</td>\n",
       "      <td>-77.023333</td>\n",
       "      <td>-47.456667</td>\n",
       "      <td>-8.293333</td>\n",
       "      <td>85.805000</td>\n",
       "      <td>0.763333</td>\n",
       "      <td>140.258333</td>\n",
       "      <td>980.138333</td>\n",
       "      <td>652.453536</td>\n",
       "      <td>0.049939</td>\n",
       "    </tr>\n",
       "    <tr>\n",
       "      <th>13.0</th>\n",
       "      <td>75.707667</td>\n",
       "      <td>210.618333</td>\n",
       "      <td>64.191667</td>\n",
       "      <td>636.253333</td>\n",
       "      <td>73.140000</td>\n",
       "      <td>198.428333</td>\n",
       "      <td>268.711667</td>\n",
       "      <td>268.348333</td>\n",
       "      <td>295.406667</td>\n",
       "      <td>265.903333</td>\n",
       "      <td>...</td>\n",
       "      <td>169.485000</td>\n",
       "      <td>-96.983333</td>\n",
       "      <td>72.503333</td>\n",
       "      <td>-5.795000</td>\n",
       "      <td>77.586667</td>\n",
       "      <td>1.020000</td>\n",
       "      <td>235.083333</td>\n",
       "      <td>980.205000</td>\n",
       "      <td>618.211997</td>\n",
       "      <td>0.343985</td>\n",
       "    </tr>\n",
       "    <tr>\n",
       "      <th>14.0</th>\n",
       "      <td>66.538667</td>\n",
       "      <td>390.026667</td>\n",
       "      <td>101.055000</td>\n",
       "      <td>775.546667</td>\n",
       "      <td>97.310000</td>\n",
       "      <td>202.463333</td>\n",
       "      <td>271.936667</td>\n",
       "      <td>271.526667</td>\n",
       "      <td>313.186667</td>\n",
       "      <td>269.253333</td>\n",
       "      <td>...</td>\n",
       "      <td>306.830000</td>\n",
       "      <td>-110.721667</td>\n",
       "      <td>196.103333</td>\n",
       "      <td>-3.860000</td>\n",
       "      <td>69.966667</td>\n",
       "      <td>0.835000</td>\n",
       "      <td>207.591667</td>\n",
       "      <td>980.203333</td>\n",
       "      <td>526.060053</td>\n",
       "      <td>0.751055</td>\n",
       "    </tr>\n",
       "    <tr>\n",
       "      <th>15.0</th>\n",
       "      <td>59.110333</td>\n",
       "      <td>552.710000</td>\n",
       "      <td>133.133333</td>\n",
       "      <td>867.756667</td>\n",
       "      <td>115.838333</td>\n",
       "      <td>209.016667</td>\n",
       "      <td>274.416667</td>\n",
       "      <td>273.986667</td>\n",
       "      <td>331.186667</td>\n",
       "      <td>271.878333</td>\n",
       "      <td>...</td>\n",
       "      <td>428.315000</td>\n",
       "      <td>-122.181667</td>\n",
       "      <td>306.143333</td>\n",
       "      <td>-2.396667</td>\n",
       "      <td>63.925000</td>\n",
       "      <td>1.126667</td>\n",
       "      <td>202.361667</td>\n",
       "      <td>979.830000</td>\n",
       "      <td>384.153979</td>\n",
       "      <td>1.473137</td>\n",
       "    </tr>\n",
       "    <tr>\n",
       "      <th>16.0</th>\n",
       "      <td>54.222000</td>\n",
       "      <td>620.096667</td>\n",
       "      <td>147.301667</td>\n",
       "      <td>827.500000</td>\n",
       "      <td>139.430000</td>\n",
       "      <td>213.890000</td>\n",
       "      <td>275.918333</td>\n",
       "      <td>275.506667</td>\n",
       "      <td>343.101667</td>\n",
       "      <td>273.151667</td>\n",
       "      <td>...</td>\n",
       "      <td>476.185000</td>\n",
       "      <td>-129.215000</td>\n",
       "      <td>346.971667</td>\n",
       "      <td>-1.636667</td>\n",
       "      <td>60.098333</td>\n",
       "      <td>1.731667</td>\n",
       "      <td>214.810000</td>\n",
       "      <td>979.293333</td>\n",
       "      <td>209.013003</td>\n",
       "      <td>3.211572</td>\n",
       "    </tr>\n",
       "    <tr>\n",
       "      <th>17.0</th>\n",
       "      <td>52.557917</td>\n",
       "      <td>641.820833</td>\n",
       "      <td>151.570833</td>\n",
       "      <td>843.958333</td>\n",
       "      <td>132.360417</td>\n",
       "      <td>215.918750</td>\n",
       "      <td>277.354167</td>\n",
       "      <td>276.941667</td>\n",
       "      <td>351.164583</td>\n",
       "      <td>274.708333</td>\n",
       "      <td>...</td>\n",
       "      <td>493.879167</td>\n",
       "      <td>-135.239583</td>\n",
       "      <td>358.635417</td>\n",
       "      <td>-0.281250</td>\n",
       "      <td>51.289583</td>\n",
       "      <td>1.729167</td>\n",
       "      <td>266.472917</td>\n",
       "      <td>978.422917</td>\n",
       "      <td>65.876009</td>\n",
       "      <td>11.914275</td>\n",
       "    </tr>\n",
       "  </tbody>\n",
       "</table>\n",
       "<p>11 rows × 23 columns</p>\n",
       "</div>"
      ],
      "text/plain": [
       "             zen    dw_solar    uw_solar    direct_n     diffuse       dw_ir  \\\n",
       "hour                                                                           \n",
       "7.0   140.031091   -2.469091   -0.358182    2.360000    0.745455  195.056364   \n",
       "8.0   130.593167   -2.996667   -0.261667    5.101667    0.508333  194.861667   \n",
       "9.0   119.707500   -4.038333   -0.643333    4.806667    0.148333  195.403333   \n",
       "10.0  108.404667   -3.563333   -0.198333    2.993333    0.030000  197.165000   \n",
       "11.0   97.092500   -2.285000    0.116667    1.671667    1.081667  197.653333   \n",
       "12.0   85.866500   32.508333    9.730000   70.833333   29.548333  196.690000   \n",
       "13.0   75.707667  210.618333   64.191667  636.253333   73.140000  198.428333   \n",
       "14.0   66.538667  390.026667  101.055000  775.546667   97.310000  202.463333   \n",
       "15.0   59.110333  552.710000  133.133333  867.756667  115.838333  209.016667   \n",
       "16.0   54.222000  620.096667  147.301667  827.500000  139.430000  213.890000   \n",
       "17.0   52.557917  641.820833  151.570833  843.958333  132.360417  215.918750   \n",
       "\n",
       "      dw_casetemp  dw_dometemp       uw_ir  uw_casetemp    ...      \\\n",
       "hour                                                       ...       \n",
       "7.0    266.727273   266.285455  269.809091   265.814545    ...       \n",
       "8.0    266.001667   265.620000  269.271667   264.505000    ...       \n",
       "9.0    266.540000   266.166667  273.628333   264.931667    ...       \n",
       "10.0   267.168333   266.723333  277.640000   265.658333    ...       \n",
       "11.0   266.230000   265.790000  273.118333   264.701667    ...       \n",
       "12.0   265.670000   265.330000  273.705000   263.960000    ...       \n",
       "13.0   268.711667   268.348333  295.406667   265.903333    ...       \n",
       "14.0   271.936667   271.526667  313.186667   269.253333    ...       \n",
       "15.0   274.416667   273.986667  331.186667   271.878333    ...       \n",
       "16.0   275.918333   275.506667  343.101667   273.151667    ...       \n",
       "17.0   277.354167   276.941667  351.164583   274.708333    ...       \n",
       "\n",
       "        netsolar       netir    totalnet      temp         rh   windspd  \\\n",
       "hour                                                                      \n",
       "7.0     0.000000  -74.750909  -74.750909 -6.736364  72.103636  0.458182   \n",
       "8.0     0.000000  -74.410000  -74.410000 -7.518333  77.925000  0.680000   \n",
       "9.0     0.000000  -78.231667  -78.231667 -6.785000  75.850000  1.795000   \n",
       "10.0    0.000000  -80.465000  -80.465000 -6.968333  77.696667  2.896667   \n",
       "11.0    0.703333  -75.468333  -74.763333 -8.111667  84.283333  1.836667   \n",
       "12.0   29.581667  -77.023333  -47.456667 -8.293333  85.805000  0.763333   \n",
       "13.0  169.485000  -96.983333   72.503333 -5.795000  77.586667  1.020000   \n",
       "14.0  306.830000 -110.721667  196.103333 -3.860000  69.966667  0.835000   \n",
       "15.0  428.315000 -122.181667  306.143333 -2.396667  63.925000  1.126667   \n",
       "16.0  476.185000 -129.215000  346.971667 -1.636667  60.098333  1.731667   \n",
       "17.0  493.879167 -135.239583  358.635417 -0.281250  51.289583  1.729167   \n",
       "\n",
       "         winddir    pressure         ghi         Kt  \n",
       "hour                                                 \n",
       "7.0   193.252727  980.114545   75.495960  -0.036719  \n",
       "8.0   205.293333  980.090000  232.239353  -0.013559  \n",
       "9.0   260.378333  980.315000  404.694221  -0.010033  \n",
       "10.0  294.021667  980.585000  540.919433  -0.006609  \n",
       "11.0  234.206667  980.305000  625.970675  -0.003699  \n",
       "12.0  140.258333  980.138333  652.453536   0.049939  \n",
       "13.0  235.083333  980.205000  618.211997   0.343985  \n",
       "14.0  207.591667  980.203333  526.060053   0.751055  \n",
       "15.0  202.361667  979.830000  384.153979   1.473137  \n",
       "16.0  214.810000  979.293333  209.013003   3.211572  \n",
       "17.0  266.472917  978.422917   65.876009  11.914275  \n",
       "\n",
       "[11 rows x 23 columns]"
      ]
     },
     "execution_count": 58,
     "metadata": {},
     "output_type": "execute_result"
    }
   ],
   "source": [
    "df_new_test.loc[2].xs(17,level='day')"
   ]
  },
  {
   "cell_type": "markdown",
   "metadata": {},
   "source": [
    "### Shifting Kt values to make 1 hour ahead forecast"
   ]
  },
  {
   "cell_type": "markdown",
   "metadata": {},
   "source": [
    "#### Train dataset"
   ]
  },
  {
   "cell_type": "code",
   "execution_count": 59,
   "metadata": {},
   "outputs": [],
   "source": [
    "levels_index= []\n",
    "for m in df_new_train.index.levels:\n",
    "    levels_index.append(m)"
   ]
  },
  {
   "cell_type": "code",
   "execution_count": 60,
   "metadata": {
    "scrolled": true
   },
   "outputs": [],
   "source": [
    "for i in levels_index[0]:\n",
    "    for j in levels_index[1]:\n",
    "        df_new_train.loc[i].loc[j]['Kt'] = df_new_train.loc[i].loc[j]['Kt'].shift(-2)"
   ]
  },
  {
   "cell_type": "code",
   "execution_count": 61,
   "metadata": {},
   "outputs": [],
   "source": [
    "df_new_train = df_new_train[~(df_new_train['Kt'].isnull())]"
   ]
  },
  {
   "cell_type": "markdown",
   "metadata": {},
   "source": [
    "#### Test dataset"
   ]
  },
  {
   "cell_type": "code",
   "execution_count": 62,
   "metadata": {},
   "outputs": [],
   "source": [
    "levels_index2= []\n",
    "for m in df_new_test.index.levels:\n",
    "    levels_index2.append(m)"
   ]
  },
  {
   "cell_type": "code",
   "execution_count": 63,
   "metadata": {},
   "outputs": [],
   "source": [
    "for i in levels_index2[0]:\n",
    "    for j in levels_index2[1]:\n",
    "        df_new_test.loc[i].loc[j]['Kt'] = df_new_test.loc[i].loc[j]['Kt'].shift(-2)"
   ]
  },
  {
   "cell_type": "code",
   "execution_count": 64,
   "metadata": {},
   "outputs": [],
   "source": [
    "df_new_test = df_new_test[~(df_new_test['Kt'].isnull())]"
   ]
  },
  {
   "cell_type": "code",
   "execution_count": 65,
   "metadata": {},
   "outputs": [
    {
     "data": {
      "text/html": [
       "<div>\n",
       "<style scoped>\n",
       "    .dataframe tbody tr th:only-of-type {\n",
       "        vertical-align: middle;\n",
       "    }\n",
       "\n",
       "    .dataframe tbody tr th {\n",
       "        vertical-align: top;\n",
       "    }\n",
       "\n",
       "    .dataframe thead th {\n",
       "        text-align: right;\n",
       "    }\n",
       "</style>\n",
       "<table border=\"1\" class=\"dataframe\">\n",
       "  <thead>\n",
       "    <tr style=\"text-align: right;\">\n",
       "      <th></th>\n",
       "      <th></th>\n",
       "      <th></th>\n",
       "      <th>zen</th>\n",
       "      <th>dw_solar</th>\n",
       "      <th>uw_solar</th>\n",
       "      <th>direct_n</th>\n",
       "      <th>diffuse</th>\n",
       "      <th>dw_ir</th>\n",
       "      <th>dw_casetemp</th>\n",
       "      <th>dw_dometemp</th>\n",
       "      <th>uw_ir</th>\n",
       "      <th>uw_casetemp</th>\n",
       "      <th>...</th>\n",
       "      <th>netsolar</th>\n",
       "      <th>netir</th>\n",
       "      <th>totalnet</th>\n",
       "      <th>temp</th>\n",
       "      <th>rh</th>\n",
       "      <th>windspd</th>\n",
       "      <th>winddir</th>\n",
       "      <th>pressure</th>\n",
       "      <th>ghi</th>\n",
       "      <th>Kt</th>\n",
       "    </tr>\n",
       "    <tr>\n",
       "      <th>month</th>\n",
       "      <th>day</th>\n",
       "      <th>hour</th>\n",
       "      <th></th>\n",
       "      <th></th>\n",
       "      <th></th>\n",
       "      <th></th>\n",
       "      <th></th>\n",
       "      <th></th>\n",
       "      <th></th>\n",
       "      <th></th>\n",
       "      <th></th>\n",
       "      <th></th>\n",
       "      <th></th>\n",
       "      <th></th>\n",
       "      <th></th>\n",
       "      <th></th>\n",
       "      <th></th>\n",
       "      <th></th>\n",
       "      <th></th>\n",
       "      <th></th>\n",
       "      <th></th>\n",
       "      <th></th>\n",
       "      <th></th>\n",
       "    </tr>\n",
       "  </thead>\n",
       "  <tbody>\n",
       "    <tr>\n",
       "      <th>4.0</th>\n",
       "      <th>25.0</th>\n",
       "      <th>18.0</th>\n",
       "      <td>32.4985</td>\n",
       "      <td>603.748333</td>\n",
       "      <td>128.64</td>\n",
       "      <td>211.105</td>\n",
       "      <td>421.24</td>\n",
       "      <td>379.026667</td>\n",
       "      <td>304.211667</td>\n",
       "      <td>304.038333</td>\n",
       "      <td>457.716667</td>\n",
       "      <td>300.86</td>\n",
       "      <td>...</td>\n",
       "      <td>469.681667</td>\n",
       "      <td>-78.693333</td>\n",
       "      <td>390.996667</td>\n",
       "      <td>27.27</td>\n",
       "      <td>28.423333</td>\n",
       "      <td>8.353333</td>\n",
       "      <td>238.773333</td>\n",
       "      <td>977.523333</td>\n",
       "      <td>227.473301</td>\n",
       "      <td>653.28121</td>\n",
       "    </tr>\n",
       "  </tbody>\n",
       "</table>\n",
       "<p>1 rows × 23 columns</p>\n",
       "</div>"
      ],
      "text/plain": [
       "                     zen    dw_solar  uw_solar  direct_n  diffuse       dw_ir  \\\n",
       "month day  hour                                                                 \n",
       "4.0   25.0 18.0  32.4985  603.748333    128.64   211.105   421.24  379.026667   \n",
       "\n",
       "                 dw_casetemp  dw_dometemp       uw_ir  uw_casetemp    ...      \\\n",
       "month day  hour                                                       ...       \n",
       "4.0   25.0 18.0   304.211667   304.038333  457.716667       300.86    ...       \n",
       "\n",
       "                   netsolar      netir    totalnet   temp         rh  \\\n",
       "month day  hour                                                        \n",
       "4.0   25.0 18.0  469.681667 -78.693333  390.996667  27.27  28.423333   \n",
       "\n",
       "                  windspd     winddir    pressure         ghi         Kt  \n",
       "month day  hour                                                           \n",
       "4.0   25.0 18.0  8.353333  238.773333  977.523333  227.473301  653.28121  \n",
       "\n",
       "[1 rows x 23 columns]"
      ]
     },
     "execution_count": 65,
     "metadata": {},
     "output_type": "execute_result"
    }
   ],
   "source": [
    "df_new_test[df_new_test['Kt']==df_new_test['Kt'].max()]"
   ]
  },
  {
   "cell_type": "markdown",
   "metadata": {},
   "source": [
    "### Normalize train and test dataframe"
   ]
  },
  {
   "cell_type": "code",
   "execution_count": 66,
   "metadata": {},
   "outputs": [],
   "source": [
    "train_norm = (df_new_train - df_new_train.mean()) / (df_new_train.max() - df_new_train.min())\n",
    "test_norm =  (df_new_test - df_new_test.mean()) / (df_new_test.max() - df_new_test.min())"
   ]
  },
  {
   "cell_type": "code",
   "execution_count": 67,
   "metadata": {},
   "outputs": [],
   "source": [
    "train_norm.reset_index(inplace=True,drop=True)\n",
    "test_norm.reset_index(inplace=True,drop=True)"
   ]
  },
  {
   "cell_type": "markdown",
   "metadata": {
    "collapsed": true
   },
   "source": [
    "### Making train and test sets with train_norm and test_norm"
   ]
  },
  {
   "cell_type": "markdown",
   "metadata": {
    "collapsed": true
   },
   "source": [
    "#### finding the gcf (greatest common factor) of train and test dataset's length and chop off the extra rows to make it divisible with the batchsize"
   ]
  },
  {
   "cell_type": "code",
   "execution_count": 68,
   "metadata": {},
   "outputs": [
    {
     "name": "stderr",
     "output_type": "stream",
     "text": [
      "C:\\Users\\s269596\\AppData\\Local\\Continuum\\Anaconda3\\lib\\site-packages\\ipykernel_launcher.py:2: DeprecationWarning: fractions.gcd() is deprecated. Use math.gcd() instead.\n",
      "  \n"
     ]
    },
    {
     "data": {
      "text/plain": [
       "1"
      ]
     },
     "execution_count": 68,
     "metadata": {},
     "output_type": "execute_result"
    }
   ],
   "source": [
    "from fractions import gcd\n",
    "gcd(train_norm.shape[0],test_norm.shape[0])"
   ]
  },
  {
   "cell_type": "code",
   "execution_count": 69,
   "metadata": {},
   "outputs": [],
   "source": [
    "import math\n",
    "def roundup(x):\n",
    "    return int(math.ceil(x / 100.0)) * 100"
   ]
  },
  {
   "cell_type": "code",
   "execution_count": 70,
   "metadata": {},
   "outputs": [],
   "source": [
    "train_lim = roundup(train_norm.shape[0])\n",
    "test_lim = roundup(test_norm.shape[0])\n",
    "\n",
    "train_random = train_norm.sample(train_lim-train_norm.shape[0])\n",
    "test_random = test_norm.sample(test_lim-test_norm.shape[0])\n",
    "\n",
    "train_norm = train_norm.append(train_random)\n",
    "test_norm = test_norm.append(test_random)"
   ]
  },
  {
   "cell_type": "code",
   "execution_count": 71,
   "metadata": {},
   "outputs": [],
   "source": [
    "X1 = train_norm.drop('Kt',axis=1)\n",
    "y1 = train_norm['Kt']\n",
    "\n",
    "X2 = test_norm.drop('Kt',axis=1)\n",
    "y2 = test_norm['Kt']"
   ]
  },
  {
   "cell_type": "code",
   "execution_count": 72,
   "metadata": {
    "scrolled": true
   },
   "outputs": [
    {
     "name": "stdout",
     "output_type": "stream",
     "text": [
      "X1_train shape is (9500, 22)\n",
      "y1_train shape is (9500,)\n",
      "X2_test shape is (4000, 22)\n",
      "y2_test shape is (4000,)\n"
     ]
    }
   ],
   "source": [
    "print(\"X1_train shape is {}\".format(X1.shape))\n",
    "print(\"y1_train shape is {}\".format(y1.shape))\n",
    "print(\"X2_test shape is {}\".format(X2.shape))\n",
    "print(\"y2_test shape is {}\".format(y2.shape))"
   ]
  },
  {
   "cell_type": "code",
   "execution_count": 73,
   "metadata": {},
   "outputs": [],
   "source": [
    "X_train = np.array(X1)\n",
    "y_train  = np.array(y1)\n",
    "X_test = np.array(X2)\n",
    "y_test = np.array(y2)"
   ]
  },
  {
   "cell_type": "markdown",
   "metadata": {},
   "source": [
    "### start of RNN"
   ]
  },
  {
   "cell_type": "code",
   "execution_count": 74,
   "metadata": {},
   "outputs": [],
   "source": [
    "import torch\n",
    "import torch.nn as nn\n",
    "import torchvision.transforms as transforms\n",
    "import torchvision.datasets as dsets\n",
    "from torch.autograd import Variable"
   ]
  },
  {
   "cell_type": "code",
   "execution_count": 75,
   "metadata": {},
   "outputs": [],
   "source": [
    "class RNNModel(nn.Module):\n",
    "    def __init__(self, input_dim, hidden_dim, layer_dim, output_dim):\n",
    "        super(RNNModel, self).__init__()\n",
    "        #Hidden Dimension\n",
    "        self.hidden_dim = hidden_dim\n",
    "        \n",
    "        # Number of hidden layers\n",
    "        self.layer_dim = layer_dim\n",
    "        \n",
    "        #Building the RNN\n",
    "        self.rnn = nn.RNN(input_dim, hidden_dim, layer_dim, batch_first=True, nonlinearity='relu')\n",
    "        \n",
    "        # Readout layer\n",
    "        self.fc = nn.Linear(hidden_dim, output_dim)\n",
    "        \n",
    "    def forward(self, x):\n",
    "        # Initializing the hidden state with zeros\n",
    "        # (layer_dim, batch_size, hidden_dim)\n",
    "        h0 = Variable(torch.zeros(self.layer_dim, x.size(0), self.hidden_dim))\n",
    "        \n",
    "        #One time step (the last one perhaps?)\n",
    "        out, hn = self.rnn(x, h0)\n",
    "        \n",
    "        # Indexing hidden state of the last time step\n",
    "        # out.size() --> ??\n",
    "        #out[:,-1,:] --> is it going to be 100,100\n",
    "        out = self.fc(out[:,-1,:])\n",
    "        # out.size() --> 100,1\n",
    "        return out\n",
    "        "
   ]
  },
  {
   "cell_type": "code",
   "execution_count": 76,
   "metadata": {},
   "outputs": [],
   "source": [
    "# Instantiating Model Class\n",
    "input_dim = 22\n",
    "hidden_dim = 15\n",
    "layer_dim = 1\n",
    "output_dim = 1\n",
    "batch_size = 100\n",
    "\n",
    "model = RNNModel(input_dim, hidden_dim, layer_dim, output_dim)\n",
    "\n",
    "# Instantiating Loss Class\n",
    "criterion = nn.MSELoss()\n",
    "\n",
    "# Instantiate Optimizer Class\n",
    "learning_rate = 0.001\n",
    "optimizer = torch.optim.SGD(model.parameters(), lr=learning_rate)\n",
    "\n",
    "# converting numpy array to torch tensor\n",
    "X_train = torch.from_numpy(X_train)\n",
    "y_train = torch.from_numpy(y_train)\n",
    "X_test = torch.from_numpy(X_test)\n",
    "y_test = torch.from_numpy(y_test)\n",
    "\n",
    "# initializing lists to store losses over epochs:\n",
    "train_loss = []\n",
    "test_loss = []\n",
    "train_iter = []\n",
    "test_iter = []"
   ]
  },
  {
   "cell_type": "code",
   "execution_count": 77,
   "metadata": {
    "scrolled": true
   },
   "outputs": [
    {
     "name": "stdout",
     "output_type": "stream",
     "text": [
      "Epoch: 0 Iteration: 0. Train_MSE: 0.03370298072695732. Test_MSE: 0.0016472058022923642\n",
      "Epoch: 1 Iteration: 100. Train_MSE: 0.019318167120218277. Test_MSE: 0.0012890273945726633\n",
      "Epoch: 2 Iteration: 200. Train_MSE: 0.006523102521896362. Test_MSE: 0.0010258828800485385\n",
      "Epoch: 3 Iteration: 300. Train_MSE: 0.002813188824802637. Test_MSE: 0.0008324341657359085\n",
      "Epoch: 4 Iteration: 400. Train_MSE: 0.0034082913771271706. Test_MSE: 0.0006914552937201053\n",
      "Epoch: 5 Iteration: 500. Train_MSE: 0.002318228129297495. Test_MSE: 0.0005893972381466778\n",
      "Epoch: 6 Iteration: 600. Train_MSE: 0.0057564531452953815. Test_MSE: 0.0005155105547467799\n",
      "Epoch: 7 Iteration: 700. Train_MSE: 0.0007380408933386207. Test_MSE: 0.00046205274075587977\n",
      "Epoch: 8 Iteration: 800. Train_MSE: 0.0027502761222422123. Test_MSE: 0.0004208227320794054\n",
      "Epoch: 9 Iteration: 900. Train_MSE: 0.0015378771349787712. Test_MSE: 0.00039339752130433783\n",
      "Epoch: 10 Iteration: 1000. Train_MSE: 0.0006326977745629847. Test_MSE: 0.00037465985181936424\n",
      "Epoch: 11 Iteration: 1100. Train_MSE: 0.0015132330590859056. Test_MSE: 0.00036140712685610695\n",
      "Epoch: 12 Iteration: 1200. Train_MSE: 0.0008972439682111144. Test_MSE: 0.0003522760834425846\n",
      "Epoch: 13 Iteration: 1300. Train_MSE: 0.011517733335494995. Test_MSE: 0.0003455420967512132\n",
      "Epoch: 14 Iteration: 1400. Train_MSE: 0.0005310766864567995. Test_MSE: 0.0003414800258051717\n",
      "Epoch: 15 Iteration: 1500. Train_MSE: 0.0006435976829379797. Test_MSE: 0.0003373171579453345\n",
      "Epoch: 17 Iteration: 1600. Train_MSE: 0.0008883572882041335. Test_MSE: 0.00033321094278986567\n",
      "Epoch: 18 Iteration: 1700. Train_MSE: 0.0004702450823970139. Test_MSE: 0.0003291177435856941\n",
      "Epoch: 19 Iteration: 1800. Train_MSE: 0.0029921000823378563. Test_MSE: 0.0003261005756187739\n",
      "Epoch: 20 Iteration: 1900. Train_MSE: 0.000471987237688154. Test_MSE: 0.0003244035477794074\n",
      "Epoch: 21 Iteration: 2000. Train_MSE: 0.0007892727153375745. Test_MSE: 0.0003230438122603839\n",
      "Epoch: 22 Iteration: 2100. Train_MSE: 0.001678772852756083. Test_MSE: 0.00032206201889971694\n",
      "Epoch: 23 Iteration: 2200. Train_MSE: 0.0004897032049484551. Test_MSE: 0.000320998019123996\n",
      "Epoch: 24 Iteration: 2300. Train_MSE: 0.0009836854878813028. Test_MSE: 0.00031938565700793584\n",
      "Epoch: 25 Iteration: 2400. Train_MSE: 0.0006748909363523126. Test_MSE: 0.0003168086890121401\n",
      "Epoch: 26 Iteration: 2500. Train_MSE: 0.0007531668525189161. Test_MSE: 0.0003152466714366861\n",
      "Epoch: 27 Iteration: 2600. Train_MSE: 0.0020888152066618204. Test_MSE: 0.00031402496966810394\n",
      "Epoch: 28 Iteration: 2700. Train_MSE: 0.0004944415995851159. Test_MSE: 0.0003132423704919216\n",
      "Epoch: 29 Iteration: 2800. Train_MSE: 0.001098799635656178. Test_MSE: 0.00031254502179181587\n",
      "Epoch: 30 Iteration: 2900. Train_MSE: 0.000623393221758306. Test_MSE: 0.0003120323005795868\n",
      "Epoch: 31 Iteration: 3000. Train_MSE: 0.000891564239282161. Test_MSE: 0.0003119244695051926\n",
      "Epoch: 32 Iteration: 3100. Train_MSE: 0.0009367699967697263. Test_MSE: 0.0003111763834232581\n",
      "Epoch: 34 Iteration: 3200. Train_MSE: 0.0015386976301670074. Test_MSE: 0.00030926344961412875\n",
      "Epoch: 35 Iteration: 3300. Train_MSE: 0.0006478275172412395. Test_MSE: 0.0003073548371004219\n",
      "Epoch: 36 Iteration: 3400. Train_MSE: 0.0007026579114608467. Test_MSE: 0.000305902108633949\n",
      "Epoch: 37 Iteration: 3500. Train_MSE: 0.0005415925988927484. Test_MSE: 0.00030540981353834935\n",
      "Epoch: 38 Iteration: 3600. Train_MSE: 0.0008413283503614366. Test_MSE: 0.00030474373199445675\n",
      "Epoch: 39 Iteration: 3700. Train_MSE: 0.000945652078371495. Test_MSE: 0.000304221880984604\n",
      "Epoch: 40 Iteration: 3800. Train_MSE: 0.001369528821669519. Test_MSE: 0.00030343103074884905\n",
      "Epoch: 41 Iteration: 3900. Train_MSE: 0.0005685421638190746. Test_MSE: 0.0003017296008744411\n",
      "Epoch: 42 Iteration: 4000. Train_MSE: 0.0013176422799006104. Test_MSE: 0.00030015547473055047\n",
      "Epoch: 43 Iteration: 4100. Train_MSE: 0.0005270593683235347. Test_MSE: 0.0002990876612813362\n",
      "Epoch: 44 Iteration: 4200. Train_MSE: 0.0003829610359389335. Test_MSE: 0.00029820103257995024\n",
      "Epoch: 45 Iteration: 4300. Train_MSE: 0.0006458234856836498. Test_MSE: 0.0002976059950453454\n",
      "Epoch: 46 Iteration: 4400. Train_MSE: 0.0011487242300063372. Test_MSE: 0.00029698195571559004\n",
      "Epoch: 47 Iteration: 4500. Train_MSE: 0.0006777079543098807. Test_MSE: 0.00029676665200633023\n",
      "Epoch: 48 Iteration: 4600. Train_MSE: 0.0005926914163865149. Test_MSE: 0.00029653360872496245\n",
      "Epoch: 50 Iteration: 4700. Train_MSE: 0.0013123198878020048. Test_MSE: 0.00029523243687562377\n",
      "Epoch: 51 Iteration: 4800. Train_MSE: 0.0020659661386162043. Test_MSE: 0.0002935050773358009\n",
      "Epoch: 52 Iteration: 4900. Train_MSE: 0.0006457482813857496. Test_MSE: 0.00029207093089111345\n",
      "Epoch: 53 Iteration: 5000. Train_MSE: 0.0010035914601758122. Test_MSE: 0.00029106362486644747\n",
      "Epoch: 54 Iteration: 5100. Train_MSE: 0.00062203174456954. Test_MSE: 0.0002904696071843014\n",
      "Epoch: 55 Iteration: 5200. Train_MSE: 0.0013692039065063. Test_MSE: 0.0002900078649573169\n",
      "Epoch: 56 Iteration: 5300. Train_MSE: 0.004751069471240044. Test_MSE: 0.00028944781690263833\n",
      "Epoch: 57 Iteration: 5400. Train_MSE: 0.0005834756302647293. Test_MSE: 0.0002886968387485194\n",
      "Epoch: 58 Iteration: 5500. Train_MSE: 0.0013831979595124722. Test_MSE: 0.0002866540133331111\n",
      "Epoch: 59 Iteration: 5600. Train_MSE: 0.0010413744021207094. Test_MSE: 0.00028555528247765265\n",
      "Epoch: 60 Iteration: 5700. Train_MSE: 0.00046325306175276637. Test_MSE: 0.0002847149321953984\n",
      "Epoch: 61 Iteration: 5800. Train_MSE: 0.0009539430611766875. Test_MSE: 0.0002838814507749974\n",
      "Epoch: 62 Iteration: 5900. Train_MSE: 0.0006208654376678169. Test_MSE: 0.00028337225216894127\n",
      "Epoch: 63 Iteration: 6000. Train_MSE: 0.011295485310256481. Test_MSE: 0.0002827954560105358\n",
      "Epoch: 64 Iteration: 6100. Train_MSE: 0.00040678505320101976. Test_MSE: 0.00028286408642044867\n",
      "Epoch: 65 Iteration: 6200. Train_MSE: 0.00046399125130847096. Test_MSE: 0.00028219415195128493\n",
      "Epoch: 67 Iteration: 6300. Train_MSE: 0.0006659249193035066. Test_MSE: 0.0002810185913734924\n",
      "Epoch: 68 Iteration: 6400. Train_MSE: 0.00034758858964778483. Test_MSE: 0.00027936826412386595\n",
      "Epoch: 69 Iteration: 6500. Train_MSE: 0.0025945138186216354. Test_MSE: 0.0002780642216264583\n",
      "Epoch: 70 Iteration: 6600. Train_MSE: 0.00036093033850193024. Test_MSE: 0.000277439060316809\n",
      "Epoch: 71 Iteration: 6700. Train_MSE: 0.000569708994589746. Test_MSE: 0.0002769125172593696\n",
      "Epoch: 72 Iteration: 6800. Train_MSE: 0.0015058164717629552. Test_MSE: 0.0002765102518114913\n",
      "Epoch: 73 Iteration: 6900. Train_MSE: 0.00036970205837860703. Test_MSE: 0.00027599748817789117\n",
      "Epoch: 74 Iteration: 7000. Train_MSE: 0.0007717809057794511. Test_MSE: 0.00027500949947234813\n",
      "Epoch: 75 Iteration: 7100. Train_MSE: 0.0005959057016298175. Test_MSE: 0.0002733117613088131\n",
      "Epoch: 76 Iteration: 7200. Train_MSE: 0.000513381150085479. Test_MSE: 0.0002723404650918134\n",
      "Epoch: 77 Iteration: 7300. Train_MSE: 0.0018738448852673173. Test_MSE: 0.00027147209684259924\n",
      "Epoch: 78 Iteration: 7400. Train_MSE: 0.0003846281033474952. Test_MSE: 0.00027090178612718894\n",
      "Epoch: 79 Iteration: 7500. Train_MSE: 0.0008865813142620027. Test_MSE: 0.0002703944414789466\n",
      "Epoch: 80 Iteration: 7600. Train_MSE: 0.0004616006917785853. Test_MSE: 0.0002699802177094634\n",
      "Epoch: 81 Iteration: 7700. Train_MSE: 0.0007370412931777537. Test_MSE: 0.0002698812619949283\n",
      "Epoch: 82 Iteration: 7800. Train_MSE: 0.0008244871278293431. Test_MSE: 0.0002693671503315272\n",
      "Epoch: 84 Iteration: 7900. Train_MSE: 0.0011966355377808213. Test_MSE: 0.0002679822492696712\n",
      "Epoch: 85 Iteration: 8000. Train_MSE: 0.0004741046577692032. Test_MSE: 0.00026652026403151786\n",
      "Epoch: 86 Iteration: 8100. Train_MSE: 0.0005154039245098829. Test_MSE: 0.00026540562900090385\n",
      "Epoch: 87 Iteration: 8200. Train_MSE: 0.00043108954560011625. Test_MSE: 0.00026499482105437196\n",
      "Epoch: 88 Iteration: 8300. Train_MSE: 0.0007143783732317388. Test_MSE: 0.0002644737011853246\n",
      "Epoch: 89 Iteration: 8400. Train_MSE: 0.0007604180136695504. Test_MSE: 0.0002640436574140776\n",
      "Epoch: 90 Iteration: 8500. Train_MSE: 0.0011098451213911176. Test_MSE: 0.00026341720415986984\n",
      "Epoch: 91 Iteration: 8600. Train_MSE: 0.00039896657108329237. Test_MSE: 0.00026214925426110624\n",
      "Epoch: 92 Iteration: 8700. Train_MSE: 0.0010703846346586943. Test_MSE: 0.0002610334064948452\n",
      "Epoch: 93 Iteration: 8800. Train_MSE: 0.00039624099736101925. Test_MSE: 0.000260263650835475\n"
     ]
    },
    {
     "name": "stdout",
     "output_type": "stream",
     "text": [
      "Epoch: 94 Iteration: 8900. Train_MSE: 0.0003008045896422118. Test_MSE: 0.0002595353021563433\n",
      "Epoch: 95 Iteration: 9000. Train_MSE: 0.0005220508901402354. Test_MSE: 0.0002590579096760297\n",
      "Epoch: 96 Iteration: 9100. Train_MSE: 0.0009514369303360581. Test_MSE: 0.000258544505160555\n",
      "Epoch: 97 Iteration: 9200. Train_MSE: 0.000570331874769181. Test_MSE: 0.0002583252957125331\n",
      "Epoch: 98 Iteration: 9300. Train_MSE: 0.0005529107293114066. Test_MSE: 0.00025813462242974396\n",
      "Epoch: 100 Iteration: 9400. Train_MSE: 0.0009469868382439017. Test_MSE: 0.00025716654406954584\n",
      "Epoch: 101 Iteration: 9500. Train_MSE: 0.001749707036651671. Test_MSE: 0.0002558901775159663\n",
      "Epoch: 102 Iteration: 9600. Train_MSE: 0.0005595348193310201. Test_MSE: 0.0002547822327080663\n",
      "Epoch: 103 Iteration: 9700. Train_MSE: 0.0008473476045764983. Test_MSE: 0.0002539694206520414\n",
      "Epoch: 104 Iteration: 9800. Train_MSE: 0.0004894863814115524. Test_MSE: 0.0002534940183057086\n",
      "Epoch: 105 Iteration: 9900. Train_MSE: 0.0012477292912080884. Test_MSE: 0.0002531033124263299\n",
      "Epoch: 106 Iteration: 10000. Train_MSE: 0.0045828684233129025. Test_MSE: 0.00025265070250394194\n",
      "Epoch: 107 Iteration: 10100. Train_MSE: 0.0005275904550217092. Test_MSE: 0.0002520724948209976\n",
      "Epoch: 108 Iteration: 10200. Train_MSE: 0.001108321244828403. Test_MSE: 0.0002505518572424332\n",
      "Epoch: 109 Iteration: 10300. Train_MSE: 0.0008610601653344929. Test_MSE: 0.000249787760410219\n",
      "Epoch: 110 Iteration: 10400. Train_MSE: 0.0003645384276751429. Test_MSE: 0.0002491575555075511\n",
      "Epoch: 111 Iteration: 10500. Train_MSE: 0.000751751649659127. Test_MSE: 0.00024847207527643603\n",
      "Epoch: 112 Iteration: 10600. Train_MSE: 0.0004789398517459631. Test_MSE: 0.0002480601471394613\n",
      "Epoch: 113 Iteration: 10700. Train_MSE: 0.011211515404284. Test_MSE: 0.00024755635770874724\n",
      "Epoch: 114 Iteration: 10800. Train_MSE: 0.0002981044235639274. Test_MSE: 0.000247570279424849\n",
      "Epoch: 115 Iteration: 10900. Train_MSE: 0.00035122400731779635. Test_MSE: 0.0002470530910056914\n",
      "Epoch: 117 Iteration: 11000. Train_MSE: 0.0005429066950455308. Test_MSE: 0.0002461924165903958\n",
      "Epoch: 118 Iteration: 11100. Train_MSE: 0.0003124415234196931. Test_MSE: 0.0002449565729384202\n",
      "Epoch: 119 Iteration: 11200. Train_MSE: 0.002387199318036437. Test_MSE: 0.00024393880181668195\n",
      "Epoch: 120 Iteration: 11300. Train_MSE: 0.00030094661633484066. Test_MSE: 0.00024342370176488968\n",
      "Epoch: 121 Iteration: 11400. Train_MSE: 0.0004408185195643455. Test_MSE: 0.00024299763100174248\n",
      "Epoch: 122 Iteration: 11500. Train_MSE: 0.001403016853146255. Test_MSE: 0.0002426432694125015\n",
      "Epoch: 123 Iteration: 11600. Train_MSE: 0.00029276820714585483. Test_MSE: 0.0002422402100691154\n",
      "Epoch: 124 Iteration: 11700. Train_MSE: 0.0006197481416165829. Test_MSE: 0.0002414895476085546\n",
      "Epoch: 125 Iteration: 11800. Train_MSE: 0.0005388841382227838. Test_MSE: 0.00024026089380304612\n",
      "Epoch: 126 Iteration: 11900. Train_MSE: 0.0003949759993702173. Test_MSE: 0.00023957954832892802\n",
      "Epoch: 127 Iteration: 12000. Train_MSE: 0.0017601284198462963. Test_MSE: 0.00023888761622064875\n",
      "Epoch: 128 Iteration: 12100. Train_MSE: 0.0003206590481568128. Test_MSE: 0.0002384126971673705\n",
      "Epoch: 129 Iteration: 12200. Train_MSE: 0.0007695935200899839. Test_MSE: 0.00023799496894161076\n",
      "Epoch: 130 Iteration: 12300. Train_MSE: 0.0003663692332338542. Test_MSE: 0.0002376249479968948\n",
      "Epoch: 131 Iteration: 12400. Train_MSE: 0.0006284588016569614. Test_MSE: 0.00023751017772494367\n",
      "Epoch: 132 Iteration: 12500. Train_MSE: 0.0007413654820993543. Test_MSE: 0.00023714100226467796\n",
      "Epoch: 134 Iteration: 12600. Train_MSE: 0.0009585865773260593. Test_MSE: 0.00023613282584338587\n",
      "Epoch: 135 Iteration: 12700. Train_MSE: 0.0003726871218532324. Test_MSE: 0.00023500179095072384\n",
      "Epoch: 136 Iteration: 12800. Train_MSE: 0.0004097381897736341. Test_MSE: 0.00023413218397416174\n",
      "Epoch: 137 Iteration: 12900. Train_MSE: 0.0003714358026627451. Test_MSE: 0.00023377980818297924\n",
      "Epoch: 138 Iteration: 13000. Train_MSE: 0.0006468163337558508. Test_MSE: 0.00023336050838035054\n",
      "Epoch: 139 Iteration: 13100. Train_MSE: 0.0006411448703147471. Test_MSE: 0.00023299805111683434\n",
      "Epoch: 140 Iteration: 13200. Train_MSE: 0.0009297449141740799. Test_MSE: 0.00023249792620382205\n",
      "Epoch: 141 Iteration: 13300. Train_MSE: 0.00029086790164001286. Test_MSE: 0.00023155502480254675\n",
      "Epoch: 142 Iteration: 13400. Train_MSE: 0.0008970932103693485. Test_MSE: 0.00023076399192350618\n",
      "Epoch: 143 Iteration: 13500. Train_MSE: 0.00031387529452331364. Test_MSE: 0.0002302028214341657\n",
      "Epoch: 144 Iteration: 13600. Train_MSE: 0.00025909763644449413. Test_MSE: 0.0002296035630902326\n",
      "Epoch: 145 Iteration: 13700. Train_MSE: 0.0004510751459747553. Test_MSE: 0.00022921660185008403\n",
      "Epoch: 146 Iteration: 13800. Train_MSE: 0.0008407194982282817. Test_MSE: 0.00022879192527144822\n",
      "Epoch: 147 Iteration: 13900. Train_MSE: 0.0005002106772735715. Test_MSE: 0.00022857982050828745\n",
      "Epoch: 148 Iteration: 14000. Train_MSE: 0.0005238542798906565. Test_MSE: 0.00022842032768099436\n",
      "Epoch: 150 Iteration: 14100. Train_MSE: 0.000702465942595154. Test_MSE: 0.0002277007834794907\n",
      "Epoch: 151 Iteration: 14200. Train_MSE: 0.001523062470369041. Test_MSE: 0.00022675801093455412\n",
      "Epoch: 152 Iteration: 14300. Train_MSE: 0.0004991539753973484. Test_MSE: 0.00022589673053065944\n",
      "Epoch: 153 Iteration: 14400. Train_MSE: 0.0007546812994405627. Test_MSE: 0.00022523736428986608\n",
      "Epoch: 154 Iteration: 14500. Train_MSE: 0.0004197413509245962. Test_MSE: 0.0002248524604169629\n",
      "Epoch: 155 Iteration: 14600. Train_MSE: 0.0011838959762826562. Test_MSE: 0.00022452015217630002\n",
      "Epoch: 156 Iteration: 14700. Train_MSE: 0.004474314395338297. Test_MSE: 0.00022414892157524553\n",
      "Epoch: 157 Iteration: 14800. Train_MSE: 0.00048527997569181025. Test_MSE: 0.00022369870533711728\n",
      "Epoch: 158 Iteration: 14900. Train_MSE: 0.0009184248046949506. Test_MSE: 0.0002225662451408234\n",
      "Epoch: 159 Iteration: 15000. Train_MSE: 0.0007296639960259199. Test_MSE: 0.00022202963463323404\n",
      "Epoch: 160 Iteration: 15100. Train_MSE: 0.0003047376812901348. Test_MSE: 0.00022154996774949206\n",
      "Epoch: 161 Iteration: 15200. Train_MSE: 0.0006317451479844749. Test_MSE: 0.0002209842392494339\n",
      "Epoch: 162 Iteration: 15300. Train_MSE: 0.00039618919254280627. Test_MSE: 0.00022064648015923013\n",
      "Epoch: 163 Iteration: 15400. Train_MSE: 0.011169608682394028. Test_MSE: 0.00022020914388904363\n",
      "Epoch: 164 Iteration: 15500. Train_MSE: 0.00023108208552002907. Test_MSE: 0.0002201869878313425\n",
      "Epoch: 165 Iteration: 15600. Train_MSE: 0.00027716835029423237. Test_MSE: 0.00021978268826740953\n",
      "Epoch: 167 Iteration: 15700. Train_MSE: 0.0004530624719336629. Test_MSE: 0.00021914878108764293\n",
      "Epoch: 168 Iteration: 15800. Train_MSE: 0.0002944444422610104. Test_MSE: 0.00021821726433098658\n",
      "Epoch: 169 Iteration: 15900. Train_MSE: 0.002251275582239032. Test_MSE: 0.00021741599610848787\n",
      "Epoch: 170 Iteration: 16000. Train_MSE: 0.00026616716058924794. Test_MSE: 0.00021698832892940768\n",
      "Epoch: 171 Iteration: 16100. Train_MSE: 0.00036434840876609087. Test_MSE: 0.00021663911495833316\n",
      "Epoch: 172 Iteration: 16200. Train_MSE: 0.0013418252347037196. Test_MSE: 0.00021632805147927658\n",
      "Epoch: 173 Iteration: 16300. Train_MSE: 0.00024115527048707008. Test_MSE: 0.00021600517993517618\n",
      "Epoch: 174 Iteration: 16400. Train_MSE: 0.0005068834288977087. Test_MSE: 0.00021542783445964824\n",
      "Epoch: 175 Iteration: 16500. Train_MSE: 0.0004936590557917953. Test_MSE: 0.00021453044459270772\n",
      "Epoch: 176 Iteration: 16600. Train_MSE: 0.00033125001937150955. Test_MSE: 0.0002140438767639518\n",
      "Epoch: 177 Iteration: 16700. Train_MSE: 0.0016916936729103327. Test_MSE: 0.0002134871947188192\n",
      "Epoch: 178 Iteration: 16800. Train_MSE: 0.000280383275821805. Test_MSE: 0.00021308931920762864\n",
      "Epoch: 179 Iteration: 16900. Train_MSE: 0.0006983189377933741. Test_MSE: 0.0002127423524726698\n",
      "Epoch: 180 Iteration: 17000. Train_MSE: 0.00030680341296829283. Test_MSE: 0.00021241413165669647\n",
      "Epoch: 181 Iteration: 17100. Train_MSE: 0.000545858929399401. Test_MSE: 0.00021229307002706234\n",
      "Epoch: 182 Iteration: 17200. Train_MSE: 0.0006726025021634996. Test_MSE: 0.00021201913359362922\n",
      "Epoch: 184 Iteration: 17300. Train_MSE: 0.000788646808359772. Test_MSE: 0.00021127503914543982\n",
      "Epoch: 185 Iteration: 17400. Train_MSE: 0.00030755496118217707. Test_MSE: 0.0002103893867754044\n"
     ]
    },
    {
     "name": "stdout",
     "output_type": "stream",
     "text": [
      "Epoch: 186 Iteration: 17500. Train_MSE: 0.00034515128936618567. Test_MSE: 0.00020970052476366807\n",
      "Epoch: 187 Iteration: 17600. Train_MSE: 0.0003359793918207288. Test_MSE: 0.0002093959131204096\n",
      "Epoch: 188 Iteration: 17700. Train_MSE: 0.0006071482785046101. Test_MSE: 0.00020905190954901876\n",
      "Epoch: 189 Iteration: 17800. Train_MSE: 0.0005578190903179348. Test_MSE: 0.0002087415229614348\n",
      "Epoch: 190 Iteration: 17900. Train_MSE: 0.0007990789599716663. Test_MSE: 0.0002083337388667334\n",
      "Epoch: 191 Iteration: 18000. Train_MSE: 0.000222378148464486. Test_MSE: 0.00020761985686196748\n",
      "Epoch: 192 Iteration: 18100. Train_MSE: 0.0007689350750297308. Test_MSE: 0.00020704653959534742\n",
      "Epoch: 193 Iteration: 18200. Train_MSE: 0.0002587762428447604. Test_MSE: 0.0002066263072488814\n",
      "Epoch: 194 Iteration: 18300. Train_MSE: 0.0002365160034969449. Test_MSE: 0.00020612764369379964\n",
      "Epoch: 195 Iteration: 18400. Train_MSE: 0.0004066485271323472. Test_MSE: 0.0002058070119918735\n",
      "Epoch: 196 Iteration: 18500. Train_MSE: 0.000775438267737627. Test_MSE: 0.00020545081134877653\n",
      "Epoch: 197 Iteration: 18600. Train_MSE: 0.0004508452257141471. Test_MSE: 0.00020524820705870785\n",
      "Epoch: 198 Iteration: 18700. Train_MSE: 0.0004980858066119254. Test_MSE: 0.00020510784599463714\n",
      "Epoch: 200 Iteration: 18800. Train_MSE: 0.000537138432264328. Test_MSE: 0.0002045630212941883\n",
      "Epoch: 201 Iteration: 18900. Train_MSE: 0.0013592111645266414. Test_MSE: 0.00020385369791259665\n",
      "Epoch: 202 Iteration: 19000. Train_MSE: 0.00045343514648266137. Test_MSE: 0.00020317302987369834\n",
      "Epoch: 203 Iteration: 19100. Train_MSE: 0.0006961117032915354. Test_MSE: 0.00020263077407273804\n",
      "Epoch: 204 Iteration: 19200. Train_MSE: 0.0003792648494709283. Test_MSE: 0.00020231359519856738\n",
      "Epoch: 205 Iteration: 19300. Train_MSE: 0.0011495590442791581. Test_MSE: 0.0002020274847833453\n",
      "Epoch: 206 Iteration: 19400. Train_MSE: 0.004396939184516668. Test_MSE: 0.00020171647271724976\n",
      "Epoch: 207 Iteration: 19500. Train_MSE: 0.0004495229513850063. Test_MSE: 0.00020135589627152774\n",
      "Epoch: 208 Iteration: 19600. Train_MSE: 0.0007838922902010381. Test_MSE: 0.00020049958984056358\n",
      "Epoch: 209 Iteration: 19700. Train_MSE: 0.0006302422843873501. Test_MSE: 0.00020011108007322786\n",
      "Epoch: 210 Iteration: 19800. Train_MSE: 0.0002654064737726003. Test_MSE: 0.00019973550427121906\n",
      "Epoch: 211 Iteration: 19900. Train_MSE: 0.0005546088796108961. Test_MSE: 0.00019926439909833863\n",
      "Epoch: 212 Iteration: 20000. Train_MSE: 0.0003442984016146511. Test_MSE: 0.00019898314206750749\n",
      "Epoch: 213 Iteration: 20100. Train_MSE: 0.011145787313580513. Test_MSE: 0.00019860396014503834\n",
      "Epoch: 214 Iteration: 20200. Train_MSE: 0.00018764499691314995. Test_MSE: 0.0001985584960563622\n",
      "Epoch: 215 Iteration: 20300. Train_MSE: 0.00022600784723181278. Test_MSE: 0.00019823383568876328\n",
      "Epoch: 217 Iteration: 20400. Train_MSE: 0.000385588122298941. Test_MSE: 0.0001977570076811401\n",
      "Epoch: 218 Iteration: 20500. Train_MSE: 0.0002835508494172245. Test_MSE: 0.00019704243181588462\n",
      "Epoch: 219 Iteration: 20600. Train_MSE: 0.002155640861019492. Test_MSE: 0.00019640291121975287\n",
      "Epoch: 220 Iteration: 20700. Train_MSE: 0.0002441871038172394. Test_MSE: 0.00019604392250527897\n",
      "Epoch: 221 Iteration: 20800. Train_MSE: 0.0003169825067743659. Test_MSE: 0.00019575263924946764\n",
      "Epoch: 222 Iteration: 20900. Train_MSE: 0.0013031912967562675. Test_MSE: 0.0001954779896333241\n",
      "Epoch: 223 Iteration: 21000. Train_MSE: 0.00020450825104489923. Test_MSE: 0.00019521233851402977\n",
      "Epoch: 224 Iteration: 21100. Train_MSE: 0.0004211050982121378. Test_MSE: 0.0001947583396123131\n",
      "Epoch: 225 Iteration: 21200. Train_MSE: 0.00045409181620925665. Test_MSE: 0.00019409008113755572\n",
      "Epoch: 226 Iteration: 21300. Train_MSE: 0.00029633412486873567. Test_MSE: 0.00019373159817043708\n",
      "Epoch: 227 Iteration: 21400. Train_MSE: 0.001647869823500514. Test_MSE: 0.0001932771564722593\n",
      "Epoch: 228 Iteration: 21500. Train_MSE: 0.0002539530978538096. Test_MSE: 0.0001929412357816449\n",
      "Epoch: 229 Iteration: 21600. Train_MSE: 0.0006517748697660863. Test_MSE: 0.00019264936409018498\n",
      "Epoch: 230 Iteration: 21700. Train_MSE: 0.00026771912234835327. Test_MSE: 0.00019235831567668716\n",
      "Epoch: 231 Iteration: 21800. Train_MSE: 0.00048048514872789383. Test_MSE: 0.00019223546855530303\n",
      "Epoch: 232 Iteration: 21900. Train_MSE: 0.0006130393594503403. Test_MSE: 0.00019202298128146225\n",
      "Epoch: 234 Iteration: 22000. Train_MSE: 0.0006638086051680148. Test_MSE: 0.00019146266814117912\n",
      "Epoch: 235 Iteration: 22100. Train_MSE: 0.0002627241483423859. Test_MSE: 0.00019076127521951977\n",
      "Epoch: 236 Iteration: 22200. Train_MSE: 0.00030390010215342045. Test_MSE: 0.0001902086810102495\n",
      "Epoch: 237 Iteration: 22300. Train_MSE: 0.00031382066663354635. Test_MSE: 0.00018994445053827926\n",
      "Epoch: 238 Iteration: 22400. Train_MSE: 0.0005820249207317829. Test_MSE: 0.00018965859578754058\n",
      "Epoch: 239 Iteration: 22500. Train_MSE: 0.0004963320679962635. Test_MSE: 0.00018939187515893392\n",
      "Epoch: 240 Iteration: 22600. Train_MSE: 0.0007003732607699931. Test_MSE: 0.000189055735340326\n",
      "Epoch: 241 Iteration: 22700. Train_MSE: 0.00017717060109134763. Test_MSE: 0.00018850613734697333\n",
      "Epoch: 242 Iteration: 22800. Train_MSE: 0.0006696054479107261. Test_MSE: 0.00018808130014999803\n",
      "Epoch: 243 Iteration: 22900. Train_MSE: 0.00021970078523736447. Test_MSE: 0.0001877582091274969\n",
      "Epoch: 244 Iteration: 23000. Train_MSE: 0.0002233765844721347. Test_MSE: 0.0001873409971230466\n",
      "Epoch: 245 Iteration: 23100. Train_MSE: 0.00037765197339467704. Test_MSE: 0.00018707293732081354\n",
      "Epoch: 246 Iteration: 23200. Train_MSE: 0.0007348316139541566. Test_MSE: 0.00018677246945553416\n",
      "Epoch: 247 Iteration: 23300. Train_MSE: 0.0004138883959967643. Test_MSE: 0.00018658216752270515\n",
      "Epoch: 248 Iteration: 23400. Train_MSE: 0.0004745778860524297. Test_MSE: 0.0001864551615403777\n",
      "Epoch: 250 Iteration: 23500. Train_MSE: 0.00042252850835211575. Test_MSE: 0.00018603453324497255\n",
      "Epoch: 251 Iteration: 23600. Train_MSE: 0.0012390105985105038. Test_MSE: 0.00018549233451293555\n",
      "Epoch: 252 Iteration: 23700. Train_MSE: 0.0004171206383034587. Test_MSE: 0.00018495009503206156\n",
      "Epoch: 253 Iteration: 23800. Train_MSE: 0.0006561691407114267. Test_MSE: 0.0001845037792016306\n",
      "Epoch: 254 Iteration: 23900. Train_MSE: 0.00035317239235155284. Test_MSE: 0.00018424184265606146\n",
      "Epoch: 255 Iteration: 24000. Train_MSE: 0.001130067277699709. Test_MSE: 0.0001839974827780285\n",
      "Epoch: 256 Iteration: 24100. Train_MSE: 0.00433798972517252. Test_MSE: 0.0001837365001572877\n",
      "Epoch: 257 Iteration: 24200. Train_MSE: 0.00041891145519912243. Test_MSE: 0.00018344462923624663\n",
      "Epoch: 258 Iteration: 24300. Train_MSE: 0.0006865528994239867. Test_MSE: 0.0001827898819441309\n",
      "Epoch: 259 Iteration: 24400. Train_MSE: 0.0005521028651855886. Test_MSE: 0.00018250183525538686\n",
      "Epoch: 260 Iteration: 24500. Train_MSE: 0.00023808069818187505. Test_MSE: 0.00018220338802897514\n",
      "Epoch: 261 Iteration: 24600. Train_MSE: 0.0005010593449696898. Test_MSE: 0.0001818112342958725\n",
      "Epoch: 262 Iteration: 24700. Train_MSE: 0.0003091087273787707. Test_MSE: 0.00018157719404284195\n",
      "Epoch: 263 Iteration: 24800. Train_MSE: 0.011125320568680763. Test_MSE: 0.00018125078276090472\n",
      "Epoch: 264 Iteration: 24900. Train_MSE: 0.0001578950323164463. Test_MSE: 0.00018119365232248337\n",
      "Epoch: 265 Iteration: 25000. Train_MSE: 0.00018927200289908797. Test_MSE: 0.00018092894704463657\n",
      "Epoch: 267 Iteration: 25100. Train_MSE: 0.0003336762893013656. Test_MSE: 0.00018056298951676144\n",
      "Epoch: 268 Iteration: 25200. Train_MSE: 0.00027521749143488705. Test_MSE: 0.00018000659955832226\n",
      "Epoch: 269 Iteration: 25300. Train_MSE: 0.0020843828096985817. Test_MSE: 0.00017949096336436688\n",
      "Epoch: 270 Iteration: 25400. Train_MSE: 0.00022912409622222185. Test_MSE: 0.0001791893564358114\n",
      "Epoch: 271 Iteration: 25500. Train_MSE: 0.0002860920212697238. Test_MSE: 0.00017894601514772103\n",
      "Epoch: 272 Iteration: 25600. Train_MSE: 0.0012776252115145326. Test_MSE: 0.00017870611400145448\n",
      "Epoch: 273 Iteration: 25700. Train_MSE: 0.00017755386943463236. Test_MSE: 0.00017848615378653906\n",
      "Epoch: 274 Iteration: 25800. Train_MSE: 0.000354802148649469. Test_MSE: 0.0001781232783007828\n",
      "Epoch: 275 Iteration: 25900. Train_MSE: 0.0004175255890004337. Test_MSE: 0.00017761541285548965\n",
      "Epoch: 276 Iteration: 26000. Train_MSE: 0.00027568868244998157. Test_MSE: 0.00017734437349693215\n"
     ]
    },
    {
     "name": "stdout",
     "output_type": "stream",
     "text": [
      "Epoch: 277 Iteration: 26100. Train_MSE: 0.0016176444478332996. Test_MSE: 0.00017696975719814405\n",
      "Epoch: 278 Iteration: 26200. Train_MSE: 0.00023553689243271947. Test_MSE: 0.00017668609337173724\n",
      "Epoch: 279 Iteration: 26300. Train_MSE: 0.0006183860241435468. Test_MSE: 0.00017643979452299622\n",
      "Epoch: 280 Iteration: 26400. Train_MSE: 0.00024122692411765456. Test_MSE: 0.00017618376186720285\n",
      "Epoch: 281 Iteration: 26500. Train_MSE: 0.0004273847443982959. Test_MSE: 0.00017606473255156734\n",
      "Epoch: 282 Iteration: 26600. Train_MSE: 0.0005600724834948778. Test_MSE: 0.0001758936838242491\n",
      "Epoch: 284 Iteration: 26700. Train_MSE: 0.0005700014880858362. Test_MSE: 0.00017546300599344722\n",
      "Epoch: 285 Iteration: 26800. Train_MSE: 0.00023013867030385882. Test_MSE: 0.0001749001923911128\n",
      "Epoch: 286 Iteration: 26900. Train_MSE: 0.0002764890086837113. Test_MSE: 0.00017445119634594336\n",
      "Epoch: 287 Iteration: 27000. Train_MSE: 0.0002992238732986152. Test_MSE: 0.0001742227608020076\n",
      "Epoch: 288 Iteration: 27100. Train_MSE: 0.0005650745588354766. Test_MSE: 0.00017398353109298646\n",
      "Epoch: 289 Iteration: 27200. Train_MSE: 0.00044906881521455944. Test_MSE: 0.00017375280570372875\n",
      "Epoch: 290 Iteration: 27300. Train_MSE: 0.0006240809452719986. Test_MSE: 0.000173471908086452\n",
      "Epoch: 291 Iteration: 27400. Train_MSE: 0.00014597289555240422. Test_MSE: 0.00017303915964300698\n",
      "Epoch: 292 Iteration: 27500. Train_MSE: 0.0005899135139770806. Test_MSE: 0.00017271385349098848\n",
      "Epoch: 293 Iteration: 27600. Train_MSE: 0.00019076111493632197. Test_MSE: 0.00017245816030549645\n",
      "Epoch: 294 Iteration: 27700. Train_MSE: 0.00021556862338911742. Test_MSE: 0.00017210641915759903\n",
      "Epoch: 295 Iteration: 27800. Train_MSE: 0.0003578794130589813. Test_MSE: 0.00017188050856444017\n",
      "Epoch: 296 Iteration: 27900. Train_MSE: 0.0007082540541887283. Test_MSE: 0.0001716258943705945\n",
      "Epoch: 297 Iteration: 28000. Train_MSE: 0.0003848225751426071. Test_MSE: 0.0001714503993935104\n",
      "Epoch: 298 Iteration: 28100. Train_MSE: 0.0004521645314525813. Test_MSE: 0.0001713338929391537\n",
      "Epoch: 300 Iteration: 28200. Train_MSE: 0.0003404747985769063. Test_MSE: 0.00017100164337426518\n",
      "Epoch: 301 Iteration: 28300. Train_MSE: 0.0011483110720291734. Test_MSE: 0.00017057615200994727\n",
      "Epoch: 302 Iteration: 28400. Train_MSE: 0.0003862834710162133. Test_MSE: 0.00017013295009452668\n",
      "Epoch: 303 Iteration: 28500. Train_MSE: 0.0006282267859205604. Test_MSE: 0.0001697571098278047\n",
      "Epoch: 304 Iteration: 28600. Train_MSE: 0.00033609100501053035. Test_MSE: 0.00016953441145119025\n",
      "Epoch: 305 Iteration: 28700. Train_MSE: 0.0011195995612069964. Test_MSE: 0.00016931988804716312\n",
      "Epoch: 306 Iteration: 28800. Train_MSE: 0.004291363526135683. Test_MSE: 0.00016909373319223258\n",
      "Epoch: 307 Iteration: 28900. Train_MSE: 0.0003915355773642659. Test_MSE: 0.0001688478263006904\n",
      "Epoch: 308 Iteration: 29000. Train_MSE: 0.0006137535092420876. Test_MSE: 0.00016833193234549963\n",
      "Epoch: 309 Iteration: 29100. Train_MSE: 0.0004887046525254846. Test_MSE: 0.00016810552359741737\n",
      "Epoch: 310 Iteration: 29200. Train_MSE: 0.00021829496836289763. Test_MSE: 0.00016785872566766127\n",
      "Epoch: 311 Iteration: 29300. Train_MSE: 0.000462631433038041. Test_MSE: 0.0001675253351875993\n",
      "Epoch: 312 Iteration: 29400. Train_MSE: 0.000284436420770362. Test_MSE: 0.00016732409222746826\n",
      "Epoch: 313 Iteration: 29500. Train_MSE: 0.01111000869423151. Test_MSE: 0.00016703872972836188\n",
      "Epoch: 314 Iteration: 29600. Train_MSE: 0.00013677652168553323. Test_MSE: 0.0001669713517625671\n",
      "Epoch: 315 Iteration: 29700. Train_MSE: 0.00016183342086151242. Test_MSE: 0.00016674627407636952\n",
      "Epoch: 317 Iteration: 29800. Train_MSE: 0.0002924908185377717. Test_MSE: 0.00016645381992270528\n",
      "Epoch: 318 Iteration: 29900. Train_MSE: 0.0002679637400433421. Test_MSE: 0.0001660080367677764\n",
      "Epoch: 319 Iteration: 30000. Train_MSE: 0.0020291234832257032. Test_MSE: 0.00016558334002795698\n",
      "Epoch: 320 Iteration: 30100. Train_MSE: 0.00021835105144418776. Test_MSE: 0.00016532411434510747\n",
      "Epoch: 321 Iteration: 30200. Train_MSE: 0.0002649804519023746. Test_MSE: 0.00016511497501039808\n",
      "Epoch: 322 Iteration: 30300. Train_MSE: 0.001259973389096558. Test_MSE: 0.0001649015018779771\n",
      "Epoch: 323 Iteration: 30400. Train_MSE: 0.00015705602709203959. Test_MSE: 0.00016471213776691335\n",
      "Epoch: 324 Iteration: 30500. Train_MSE: 0.0003030036750715226. Test_MSE: 0.00016441265557399297\n",
      "Epoch: 325 Iteration: 30600. Train_MSE: 0.0003836611576844007. Test_MSE: 0.00016401306192636084\n",
      "Epoch: 326 Iteration: 30700. Train_MSE: 0.0002621092717163265. Test_MSE: 0.0001637973017095465\n",
      "Epoch: 327 Iteration: 30800. Train_MSE: 0.00159650354180485. Test_MSE: 0.00016348181809470744\n",
      "Epoch: 328 Iteration: 30900. Train_MSE: 0.00022190774325281382. Test_MSE: 0.0001632376104402541\n",
      "Epoch: 329 Iteration: 31000. Train_MSE: 0.0005935022491030395. Test_MSE: 0.00016302474208564505\n",
      "Epoch: 330 Iteration: 31100. Train_MSE: 0.00022249271569307894. Test_MSE: 0.00016279688016782298\n",
      "Epoch: 331 Iteration: 31200. Train_MSE: 0.0003829702327493578. Test_MSE: 0.0001626801930949525\n",
      "Epoch: 332 Iteration: 31300. Train_MSE: 0.0005120610585436225. Test_MSE: 0.0001625335590987824\n",
      "Epoch: 334 Iteration: 31400. Train_MSE: 0.0004966487176716328. Test_MSE: 0.00016219273604262672\n",
      "Epoch: 335 Iteration: 31500. Train_MSE: 0.0002055655641015619. Test_MSE: 0.0001617327935872732\n",
      "Epoch: 336 Iteration: 31600. Train_MSE: 0.0002575888065621257. Test_MSE: 0.0001613612339325996\n",
      "Epoch: 337 Iteration: 31700. Train_MSE: 0.0002892048505600542. Test_MSE: 0.00016115978348343394\n",
      "Epoch: 338 Iteration: 31800. Train_MSE: 0.0005532624782063067. Test_MSE: 0.00016095451212435986\n",
      "Epoch: 339 Iteration: 31900. Train_MSE: 0.0004115871852263808. Test_MSE: 0.00016075090349138463\n",
      "Epoch: 340 Iteration: 32000. Train_MSE: 0.0005632792599499226. Test_MSE: 0.00016051045224577145\n",
      "Epoch: 341 Iteration: 32100. Train_MSE: 0.0001237499964190647. Test_MSE: 0.00016016029835904855\n",
      "Epoch: 342 Iteration: 32200. Train_MSE: 0.0005243353080004454. Test_MSE: 0.00015990020332904488\n",
      "Epoch: 343 Iteration: 32300. Train_MSE: 0.00016883236821740866. Test_MSE: 0.00015968994127278774\n",
      "Epoch: 344 Iteration: 32400. Train_MSE: 0.00021029190975241363. Test_MSE: 0.00015938922510085694\n",
      "Epoch: 345 Iteration: 32500. Train_MSE: 0.0003442022134549916. Test_MSE: 0.00015919421343412523\n",
      "Epoch: 346 Iteration: 32600. Train_MSE: 0.00069019990041852. Test_MSE: 0.00015897418225742496\n",
      "Epoch: 347 Iteration: 32700. Train_MSE: 0.00036173377884551883. Test_MSE: 0.00015881063831533451\n",
      "Epoch: 348 Iteration: 32800. Train_MSE: 0.0004310628864914179. Test_MSE: 0.00015869962037793047\n",
      "Epoch: 350 Iteration: 32900. Train_MSE: 0.00027968102949671447. Test_MSE: 0.00015842832929027572\n",
      "Epoch: 351 Iteration: 33000. Train_MSE: 0.001078359899111092. Test_MSE: 0.0001580855691207429\n",
      "Epoch: 352 Iteration: 33100. Train_MSE: 0.0003602165379561484. Test_MSE: 0.00015771848490395097\n",
      "Epoch: 353 Iteration: 33200. Train_MSE: 0.0006074028206057847. Test_MSE: 0.00015739932771394925\n",
      "Epoch: 354 Iteration: 33300. Train_MSE: 0.00032462002127431333. Test_MSE: 0.00015720719207696927\n",
      "Epoch: 355 Iteration: 33400. Train_MSE: 0.001114067155867815. Test_MSE: 0.00015701789920316185\n",
      "Epoch: 356 Iteration: 33500. Train_MSE: 0.00425350945442915. Test_MSE: 0.00015681954313352624\n",
      "Epoch: 357 Iteration: 33600. Train_MSE: 0.00036724095116369426. Test_MSE: 0.00015660790811340068\n",
      "Epoch: 358 Iteration: 33700. Train_MSE: 0.0005556058022193611. Test_MSE: 0.00015619450194489522\n",
      "Epoch: 359 Iteration: 33800. Train_MSE: 0.00043644834659062326. Test_MSE: 0.0001560092627478742\n",
      "Epoch: 360 Iteration: 33900. Train_MSE: 0.00020356009190436453. Test_MSE: 0.00015580091202054504\n",
      "Epoch: 361 Iteration: 34000. Train_MSE: 0.00043398523121140897. Test_MSE: 0.00015551570015613143\n",
      "Epoch: 362 Iteration: 34100. Train_MSE: 0.0002665088977664709. Test_MSE: 0.00015534029655752996\n",
      "Epoch: 363 Iteration: 34200. Train_MSE: 0.011098552495241165. Test_MSE: 0.00015509037058987867\n",
      "Epoch: 364 Iteration: 34300. Train_MSE: 0.00012118582526454702. Test_MSE: 0.00015501683102448014\n",
      "Epoch: 365 Iteration: 34400. Train_MSE: 0.00014034849300514907. Test_MSE: 0.00015482189700998937\n",
      "Epoch: 367 Iteration: 34500. Train_MSE: 0.0002592160308267921. Test_MSE: 0.00015458204818622612\n",
      "Epoch: 368 Iteration: 34600. Train_MSE: 0.0002608141803648323. Test_MSE: 0.0001542186131952493\n"
     ]
    },
    {
     "name": "stdout",
     "output_type": "stream",
     "text": [
      "Epoch: 369 Iteration: 34700. Train_MSE: 0.0019832991529256105. Test_MSE: 0.00015386501212070685\n",
      "Epoch: 370 Iteration: 34800. Train_MSE: 0.00021028323681093752. Test_MSE: 0.0001536407686451417\n",
      "Epoch: 371 Iteration: 34900. Train_MSE: 0.00024994410341605544. Test_MSE: 0.00015345899488551786\n",
      "Epoch: 372 Iteration: 35000. Train_MSE: 0.0012470149667933583. Test_MSE: 0.00015326817600677694\n",
      "Epoch: 373 Iteration: 35100. Train_MSE: 0.00014114013174548745. Test_MSE: 0.0001531025238957543\n",
      "Epoch: 374 Iteration: 35200. Train_MSE: 0.00026107675512321293. Test_MSE: 0.0001528500513367815\n",
      "Epoch: 375 Iteration: 35300. Train_MSE: 0.00035167799796909094. Test_MSE: 0.00015252814880158268\n",
      "Epoch: 376 Iteration: 35400. Train_MSE: 0.00025217331130988896. Test_MSE: 0.0001523502858992219\n",
      "Epoch: 377 Iteration: 35500. Train_MSE: 0.001580850686877966. Test_MSE: 0.00015208176445893795\n",
      "Epoch: 378 Iteration: 35600. Train_MSE: 0.00021136479335837066. Test_MSE: 0.0001518699369495847\n",
      "Epoch: 379 Iteration: 35700. Train_MSE: 0.0005740245687775314. Test_MSE: 0.00015168430924042704\n",
      "Epoch: 380 Iteration: 35800. Train_MSE: 0.0002088977926177904. Test_MSE: 0.00015148145171085906\n",
      "Epoch: 381 Iteration: 35900. Train_MSE: 0.00034539110492914915. Test_MSE: 0.00015136828648827235\n",
      "Epoch: 382 Iteration: 36000. Train_MSE: 0.00046782809658907354. Test_MSE: 0.00015123767768858212\n",
      "Epoch: 384 Iteration: 36100. Train_MSE: 0.0004373222473077476. Test_MSE: 0.0001509603536534161\n",
      "Epoch: 385 Iteration: 36200. Train_MSE: 0.0001863672077888623. Test_MSE: 0.00015057786344156143\n",
      "Epoch: 386 Iteration: 36300. Train_MSE: 0.0002440895768813789. Test_MSE: 0.00015026500314753414\n",
      "Epoch: 387 Iteration: 36400. Train_MSE: 0.0002821760135702789. Test_MSE: 0.00015008501448094457\n",
      "Epoch: 388 Iteration: 36500. Train_MSE: 0.0005447881412692368. Test_MSE: 0.00014990559651583053\n",
      "Epoch: 389 Iteration: 36600. Train_MSE: 0.0003812311333604157. Test_MSE: 0.00014972474611104754\n",
      "Epoch: 390 Iteration: 36700. Train_MSE: 0.0005136857507750392. Test_MSE: 0.00014951669441680768\n",
      "Epoch: 391 Iteration: 36800. Train_MSE: 0.00010702382132876664. Test_MSE: 0.00014922733464667372\n",
      "Epoch: 392 Iteration: 36900. Train_MSE: 0.0004694389062933624. Test_MSE: 0.0001490127446984854\n",
      "Epoch: 393 Iteration: 37000. Train_MSE: 0.00015161430928856134. Test_MSE: 0.00014883515770271384\n",
      "Epoch: 394 Iteration: 37100. Train_MSE: 0.0002062146522803232. Test_MSE: 0.00014857618129087254\n",
      "Epoch: 395 Iteration: 37200. Train_MSE: 0.0003340711409691721. Test_MSE: 0.00014840614353043034\n",
      "Epoch: 396 Iteration: 37300. Train_MSE: 0.0006771680782549083. Test_MSE: 0.00014821483942941346\n",
      "Epoch: 397 Iteration: 37400. Train_MSE: 0.0003430078213568777. Test_MSE: 0.00014806366658905368\n",
      "Epoch: 398 Iteration: 37500. Train_MSE: 0.0004108191351406276. Test_MSE: 0.0001479576449937557\n",
      "Epoch: 400 Iteration: 37600. Train_MSE: 0.00023377517936751246. Test_MSE: 0.00014773138686406814\n",
      "Epoch: 401 Iteration: 37700. Train_MSE: 0.0010230884654447436. Test_MSE: 0.0001474495615282452\n",
      "Epoch: 402 Iteration: 37800. Train_MSE: 0.00033831183100119233. Test_MSE: 0.00014714177169306507\n",
      "Epoch: 403 Iteration: 37900. Train_MSE: 0.0005912800552323461. Test_MSE: 0.00014686870246239788\n",
      "Epoch: 404 Iteration: 38000. Train_MSE: 0.00031650354503653944. Test_MSE: 0.00014670152004111768\n",
      "Epoch: 405 Iteration: 38100. Train_MSE: 0.0011107651516795158. Test_MSE: 0.00014653359807499018\n",
      "Epoch: 406 Iteration: 38200. Train_MSE: 0.004221629351377487. Test_MSE: 0.00014635824641860782\n",
      "Epoch: 407 Iteration: 38300. Train_MSE: 0.0003446587943471968. Test_MSE: 0.0001461736621233435\n",
      "Epoch: 408 Iteration: 38400. Train_MSE: 0.0005094276275485754. Test_MSE: 0.0001458362149382849\n",
      "Epoch: 409 Iteration: 38500. Train_MSE: 0.00039247606764547527. Test_MSE: 0.00014567961398831143\n",
      "Epoch: 410 Iteration: 38600. Train_MSE: 0.00019232025078963488. Test_MSE: 0.00014550096974272694\n",
      "Epoch: 411 Iteration: 38700. Train_MSE: 0.0004116295895073563. Test_MSE: 0.00014525540027579103\n",
      "Epoch: 412 Iteration: 38800. Train_MSE: 0.0002526252646930516. Test_MSE: 0.00014510183565082837\n",
      "Epoch: 413 Iteration: 38900. Train_MSE: 0.01108877919614315. Test_MSE: 0.00014488277412458755\n",
      "Epoch: 414 Iteration: 39000. Train_MSE: 0.00010932689474429935. Test_MSE: 0.000144807187097426\n",
      "Epoch: 415 Iteration: 39100. Train_MSE: 0.00012382958084344864. Test_MSE: 0.00014463607033777495\n",
      "Epoch: 417 Iteration: 39200. Train_MSE: 0.0002320529893040657. Test_MSE: 0.00014443520220995814\n",
      "Epoch: 418 Iteration: 39300. Train_MSE: 0.0002535648818593472. Test_MSE: 0.00014413376038783547\n",
      "Epoch: 419 Iteration: 39400. Train_MSE: 0.001943961950019002. Test_MSE: 0.00014383608511211307\n",
      "Epoch: 420 Iteration: 39500. Train_MSE: 0.00020398818014655262. Test_MSE: 0.00014364090733081421\n",
      "Epoch: 421 Iteration: 39600. Train_MSE: 0.00023887412680778652. Test_MSE: 0.00014348195840976766\n",
      "Epoch: 422 Iteration: 39700. Train_MSE: 0.001237367046996951. Test_MSE: 0.00014331150922517995\n",
      "Epoch: 423 Iteration: 39800. Train_MSE: 0.00012848353071603924. Test_MSE: 0.00014316515746142663\n",
      "Epoch: 424 Iteration: 39900. Train_MSE: 0.00022651847393717617. Test_MSE: 0.00014294926813475487\n",
      "Epoch: 425 Iteration: 40000. Train_MSE: 0.00032204014132730663. Test_MSE: 0.00014268383317720933\n",
      "Epoch: 426 Iteration: 40100. Train_MSE: 0.00024409385514445603. Test_MSE: 0.00014253352696077837\n",
      "Epoch: 427 Iteration: 40200. Train_MSE: 0.0015692057786509395. Test_MSE: 0.00014230297728404944\n",
      "Epoch: 428 Iteration: 40300. Train_MSE: 0.00020320300245657563. Test_MSE: 0.00014211835879519063\n",
      "Epoch: 429 Iteration: 40400. Train_MSE: 0.0005586414481513202. Test_MSE: 0.00014195574123226207\n",
      "Epoch: 430 Iteration: 40500. Train_MSE: 0.00019872849225066602. Test_MSE: 0.00014177501936123247\n",
      "Epoch: 431 Iteration: 40600. Train_MSE: 0.00031327412580139935. Test_MSE: 0.0001416675243940923\n",
      "Epoch: 432 Iteration: 40700. Train_MSE: 0.00042733937152661383. Test_MSE: 0.0001415492835784021\n",
      "Epoch: 434 Iteration: 40800. Train_MSE: 0.0003890165826305747. Test_MSE: 0.0001413199843119673\n",
      "Epoch: 435 Iteration: 40900. Train_MSE: 0.0001712225202936679. Test_MSE: 0.0001410009113989319\n",
      "Epoch: 436 Iteration: 41000. Train_MSE: 0.00023421255173161626. Test_MSE: 0.000140736835626705\n",
      "Epoch: 437 Iteration: 41100. Train_MSE: 0.00027706861146725714. Test_MSE: 0.00014057818256159988\n",
      "Epoch: 438 Iteration: 41200. Train_MSE: 0.0005385312251746655. Test_MSE: 0.00014042194646838078\n",
      "Epoch: 439 Iteration: 41300. Train_MSE: 0.0003564680810086429. Test_MSE: 0.0001402607585165342\n",
      "Epoch: 440 Iteration: 41400. Train_MSE: 0.00047289926442317665. Test_MSE: 0.00014007864267578485\n",
      "Epoch: 441 Iteration: 41500. Train_MSE: 9.384664735989645e-05. Test_MSE: 0.00013983478440289927\n",
      "Epoch: 442 Iteration: 41600. Train_MSE: 0.00042231823317706585. Test_MSE: 0.00013965285343893374\n",
      "Epoch: 443 Iteration: 41700. Train_MSE: 0.00013798923464491963. Test_MSE: 0.00013950008305135123\n",
      "Epoch: 444 Iteration: 41800. Train_MSE: 0.00020264193881303072. Test_MSE: 0.00013927561477979845\n",
      "Epoch: 445 Iteration: 41900. Train_MSE: 0.0003266184066887945. Test_MSE: 0.00013912626168071735\n",
      "Epoch: 446 Iteration: 42000. Train_MSE: 0.0006670081056654453. Test_MSE: 0.00013895880886262904\n",
      "Epoch: 447 Iteration: 42100. Train_MSE: 0.00032728115911595523. Test_MSE: 0.00013881971375823582\n",
      "Epoch: 448 Iteration: 42200. Train_MSE: 0.00039216401637531817. Test_MSE: 0.00013871859156102667\n",
      "Epoch: 450 Iteration: 42300. Train_MSE: 0.0001988100411836058. Test_MSE: 0.0001385263046723652\n",
      "Epoch: 451 Iteration: 42400. Train_MSE: 0.0009785911533981562. Test_MSE: 0.00013829022091522102\n",
      "Epoch: 452 Iteration: 42500. Train_MSE: 0.00031941061024554074. Test_MSE: 0.00013802942651764227\n",
      "Epoch: 453 Iteration: 42600. Train_MSE: 0.0005785442772321403. Test_MSE: 0.00013779428120472235\n",
      "Epoch: 454 Iteration: 42700. Train_MSE: 0.00031070865225046873. Test_MSE: 0.0001376478444701339\n",
      "Epoch: 455 Iteration: 42800. Train_MSE: 0.0011088812025263906. Test_MSE: 0.00013749813251355103\n",
      "Epoch: 456 Iteration: 42900. Train_MSE: 0.004193903412669897. Test_MSE: 0.00013734202853926092\n",
      "Epoch: 457 Iteration: 43000. Train_MSE: 0.000324381107930094. Test_MSE: 0.0001371792874006405\n",
      "Epoch: 458 Iteration: 43100. Train_MSE: 0.00047121933312155306. Test_MSE: 0.00013689925308595172\n",
      "Epoch: 459 Iteration: 43200. Train_MSE: 0.0003553069254849106. Test_MSE: 0.0001367630194485205\n"
     ]
    },
    {
     "name": "stdout",
     "output_type": "stream",
     "text": [
      "Epoch: 460 Iteration: 43300. Train_MSE: 0.00018360283866059035. Test_MSE: 0.0001366078639216538\n",
      "Epoch: 461 Iteration: 43400. Train_MSE: 0.0003938156005460769. Test_MSE: 0.00013639544275884444\n",
      "Epoch: 462 Iteration: 43500. Train_MSE: 0.00024171016411855817. Test_MSE: 0.00013625972277546197\n",
      "Epoch: 463 Iteration: 43600. Train_MSE: 0.011080306954681873. Test_MSE: 0.000136067090666104\n",
      "Epoch: 464 Iteration: 43700. Train_MSE: 0.00010017418389907107. Test_MSE: 0.0001359911373682619\n",
      "Epoch: 465 Iteration: 43800. Train_MSE: 0.00011083702702308074. Test_MSE: 0.0001358388947525139\n",
      "Epoch: 467 Iteration: 43900. Train_MSE: 0.00020924494310747832. Test_MSE: 0.0001356668255417635\n",
      "Epoch: 468 Iteration: 44000. Train_MSE: 0.00024605100043118. Test_MSE: 0.0001354134050175868\n",
      "Epoch: 469 Iteration: 44100. Train_MSE: 0.0019101888174191117. Test_MSE: 0.0001351606086467558\n",
      "Epoch: 470 Iteration: 44200. Train_MSE: 0.00019886120571754873. Test_MSE: 0.00013498966063350498\n",
      "Epoch: 471 Iteration: 44300. Train_MSE: 0.00023070308088790625. Test_MSE: 0.0001348490101975269\n",
      "Epoch: 472 Iteration: 44400. Train_MSE: 0.0012294682674109936. Test_MSE: 0.00013469607939677427\n",
      "Epoch: 473 Iteration: 44500. Train_MSE: 0.00011818954953923821. Test_MSE: 0.00013456488923040214\n",
      "Epoch: 474 Iteration: 44600. Train_MSE: 0.00019749364582821727. Test_MSE: 0.00013437762462878742\n",
      "Epoch: 475 Iteration: 44700. Train_MSE: 0.0002951174392364919. Test_MSE: 0.00013415443348351028\n",
      "Epoch: 476 Iteration: 44800. Train_MSE: 0.00023739507014397532. Test_MSE: 0.00013402398176181766\n",
      "Epoch: 477 Iteration: 44900. Train_MSE: 0.0015602740459144115. Test_MSE: 0.00013382523572863815\n",
      "Epoch: 478 Iteration: 45000. Train_MSE: 0.00019675001385621727. Test_MSE: 0.00013366393127273786\n",
      "Epoch: 479 Iteration: 45100. Train_MSE: 0.0005460598622448742. Test_MSE: 0.00013352075432612954\n",
      "Epoch: 480 Iteration: 45200. Train_MSE: 0.00019080110359936953. Test_MSE: 0.0001333601785067843\n",
      "Epoch: 481 Iteration: 45300. Train_MSE: 0.0002857278159353882. Test_MSE: 0.00013325847102634207\n",
      "Epoch: 482 Iteration: 45400. Train_MSE: 0.00039074275991879404. Test_MSE: 0.00013315049678211247\n",
      "Epoch: 484 Iteration: 45500. Train_MSE: 0.0003484865592326969. Test_MSE: 0.00013296083692565159\n",
      "Epoch: 485 Iteration: 45600. Train_MSE: 0.00015878422709647566. Test_MSE: 0.00013269652922108407\n",
      "Epoch: 486 Iteration: 45700. Train_MSE: 0.00022670574253425002. Test_MSE: 0.00013247523499212408\n",
      "Epoch: 487 Iteration: 45800. Train_MSE: 0.0002731983840931207. Test_MSE: 0.00013233709193992033\n",
      "Epoch: 488 Iteration: 45900. Train_MSE: 0.0005334429442882538. Test_MSE: 0.0001322021067718857\n",
      "Epoch: 489 Iteration: 46000. Train_MSE: 0.00033576294663362205. Test_MSE: 0.00013206071449132885\n",
      "Epoch: 490 Iteration: 46100. Train_MSE: 0.00043893588008359075. Test_MSE: 0.0001319037148421925\n",
      "Epoch: 491 Iteration: 46200. Train_MSE: 8.344700472662225e-05. Test_MSE: 0.00013169939074065176\n",
      "Epoch: 492 Iteration: 46300. Train_MSE: 0.00038151053013280034. Test_MSE: 0.0001315449699882651\n",
      "Epoch: 493 Iteration: 46400. Train_MSE: 0.00012684293324127793. Test_MSE: 0.00013141448060661\n",
      "Epoch: 494 Iteration: 46500. Train_MSE: 0.00019935780437663198. Test_MSE: 0.00013122313460975184\n",
      "Epoch: 495 Iteration: 46600. Train_MSE: 0.00032077933428809047. Test_MSE: 0.00013109385556617348\n",
      "Epoch: 496 Iteration: 46700. Train_MSE: 0.0006585590308532119. Test_MSE: 0.00013094949451881516\n",
      "Epoch: 497 Iteration: 46800. Train_MSE: 0.00031371458317153156. Test_MSE: 0.00013082465787638025\n",
      "Epoch: 498 Iteration: 46900. Train_MSE: 0.0003748948802240193. Test_MSE: 0.0001307306914597391\n",
      "Epoch: 500 Iteration: 47000. Train_MSE: 0.0001714614627417177. Test_MSE: 0.000130567675693478\n",
      "Epoch: 501 Iteration: 47100. Train_MSE: 0.0009425980388186872. Test_MSE: 0.00013037118027246373\n",
      "Epoch: 502 Iteration: 47200. Train_MSE: 0.0003030372317880392. Test_MSE: 0.0001301524936366774\n",
      "Epoch: 503 Iteration: 47300. Train_MSE: 0.0005679518217220902. Test_MSE: 0.0001299530012493059\n",
      "Epoch: 504 Iteration: 47400. Train_MSE: 0.0003061062889173627. Test_MSE: 0.0001298264513091627\n",
      "Epoch: 505 Iteration: 47500. Train_MSE: 0.001107705757021904. Test_MSE: 0.0001296951954532303\n",
      "Epoch: 506 Iteration: 47600. Train_MSE: 0.0041700550355017185. Test_MSE: 0.00012955811983385445\n",
      "Epoch: 507 Iteration: 47700. Train_MSE: 0.0003062656905967742. Test_MSE: 0.00012941604632372245\n",
      "Epoch: 508 Iteration: 47800. Train_MSE: 0.0004388907691463828. Test_MSE: 0.00012918499480255515\n",
      "Epoch: 509 Iteration: 47900. Train_MSE: 0.00032339897006750107. Test_MSE: 0.00012906614220417452\n",
      "Epoch: 510 Iteration: 48000. Train_MSE: 0.00017658073920756578. Test_MSE: 0.0001289329658929135\n",
      "Epoch: 511 Iteration: 48100. Train_MSE: 0.0003794824588112533. Test_MSE: 0.00012875151892084296\n",
      "Epoch: 512 Iteration: 48200. Train_MSE: 0.00023302171030081809. Test_MSE: 0.00012863332563023527\n",
      "Epoch: 513 Iteration: 48300. Train_MSE: 0.01107261423021555. Test_MSE: 0.0001284666767256014\n",
      "Epoch: 514 Iteration: 48400. Train_MSE: 9.292253525927663e-05. Test_MSE: 0.00012839391045779686\n",
      "Epoch: 515 Iteration: 48500. Train_MSE: 0.00010057782492367551. Test_MSE: 0.000128259904779115\n",
      "Epoch: 517 Iteration: 48600. Train_MSE: 0.00018971967801917344. Test_MSE: 0.00012811336668813936\n",
      "Epoch: 518 Iteration: 48700. Train_MSE: 0.00023849966237321496. Test_MSE: 0.00012790259845179972\n",
      "Epoch: 519 Iteration: 48800. Train_MSE: 0.0018805920844897628. Test_MSE: 0.00012769104446786709\n",
      "Epoch: 520 Iteration: 48900. Train_MSE: 0.0001943251845659688. Test_MSE: 0.00012754389483617267\n",
      "Epoch: 521 Iteration: 49000. Train_MSE: 0.00022442464251071215. Test_MSE: 0.00012742185259946888\n",
      "Epoch: 522 Iteration: 49100. Train_MSE: 0.001222615479491651. Test_MSE: 0.00012728737110653888\n",
      "Epoch: 523 Iteration: 49200. Train_MSE: 0.00010990133159793913. Test_MSE: 0.00012717271334319774\n",
      "Epoch: 524 Iteration: 49300. Train_MSE: 0.00017351546557620168. Test_MSE: 0.0001270151770928332\n",
      "Epoch: 525 Iteration: 49400. Train_MSE: 0.000270367250777781. Test_MSE: 0.0001268316688907268\n",
      "Epoch: 526 Iteration: 49500. Train_MSE: 0.00023149604385253042. Test_MSE: 0.000126721542785568\n",
      "Epoch: 527 Iteration: 49600. Train_MSE: 0.0015528610674664378. Test_MSE: 0.0001265544945680445\n",
      "Epoch: 528 Iteration: 49700. Train_MSE: 0.00019158158102072775. Test_MSE: 0.0001264178666132086\n",
      "Epoch: 529 Iteration: 49800. Train_MSE: 0.0005355020402930677. Test_MSE: 0.00012629561558943726\n",
      "Epoch: 530 Iteration: 49900. Train_MSE: 0.00018446595640853047. Test_MSE: 0.00012615716526823565\n",
      "Epoch: 531 Iteration: 50000. Train_MSE: 0.00026174227241426706. Test_MSE: 0.00012606568580738746\n",
      "Epoch: 532 Iteration: 50100. Train_MSE: 0.0003564316430129111. Test_MSE: 0.00012596790802657965\n",
      "Epoch: 534 Iteration: 50200. Train_MSE: 0.00031435798155143857. Test_MSE: 0.00012580861354630256\n",
      "Epoch: 535 Iteration: 50300. Train_MSE: 0.00014822915545664728. Test_MSE: 0.00012558821471927805\n",
      "Epoch: 536 Iteration: 50400. Train_MSE: 0.00022061496565584093. Test_MSE: 0.0001254014213199786\n",
      "Epoch: 537 Iteration: 50500. Train_MSE: 0.00027017496176995337. Test_MSE: 0.0001252805320976191\n",
      "Epoch: 538 Iteration: 50600. Train_MSE: 0.0005292196874506772. Test_MSE: 0.00012516285497252673\n",
      "Epoch: 539 Iteration: 50700. Train_MSE: 0.00031830661464482546. Test_MSE: 0.0001250380416305121\n",
      "Epoch: 540 Iteration: 50800. Train_MSE: 0.00041025065002031624. Test_MSE: 0.00012490174160256453\n",
      "Epoch: 541 Iteration: 50900. Train_MSE: 7.534576434409246e-05. Test_MSE: 0.00012472851674904698\n",
      "Epoch: 542 Iteration: 51000. Train_MSE: 0.00034614719334058464. Test_MSE: 0.00012459484102161968\n",
      "Epoch: 543 Iteration: 51100. Train_MSE: 0.00011754455044865608. Test_MSE: 0.00012448180703495258\n",
      "Epoch: 544 Iteration: 51200. Train_MSE: 0.00019603274995461106. Test_MSE: 0.00012431803323841313\n",
      "Epoch: 545 Iteration: 51300. Train_MSE: 0.00031601416412740946. Test_MSE: 0.00012420524681339455\n",
      "Epoch: 546 Iteration: 51400. Train_MSE: 0.0006516711437143385. Test_MSE: 0.00012407999487122395\n",
      "Epoch: 547 Iteration: 51500. Train_MSE: 0.000301910302368924. Test_MSE: 0.0001239678568187297\n",
      "Epoch: 548 Iteration: 51600. Train_MSE: 0.00035919208312407136. Test_MSE: 0.0001238802013264565\n",
      "Epoch: 550 Iteration: 51700. Train_MSE: 0.00014938836102373898. Test_MSE: 0.00012374019970594753\n",
      "Epoch: 551 Iteration: 51800. Train_MSE: 0.0009135021828114986. Test_MSE: 0.00012357465594820772\n",
      "Epoch: 552 Iteration: 51900. Train_MSE: 0.0002885342692025006. Test_MSE: 0.0001233902579499527\n"
     ]
    },
    {
     "name": "stdout",
     "output_type": "stream",
     "text": [
      "Epoch: 553 Iteration: 52000. Train_MSE: 0.000558878353331238. Test_MSE: 0.00012322045260536207\n",
      "Epoch: 554 Iteration: 52100. Train_MSE: 0.000302309199469164. Test_MSE: 0.0001231106982091992\n",
      "Epoch: 555 Iteration: 52200. Train_MSE: 0.0011068562744185328. Test_MSE: 0.00012299608235517807\n",
      "Epoch: 556 Iteration: 52300. Train_MSE: 0.0041491021402180195. Test_MSE: 0.00012287593073921196\n",
      "Epoch: 557 Iteration: 52400. Train_MSE: 0.00029023707611486316. Test_MSE: 0.00012275206772081876\n",
      "Epoch: 558 Iteration: 52500. Train_MSE: 0.0004113265604246408. Test_MSE: 0.00012256098936086913\n",
      "Epoch: 559 Iteration: 52600. Train_MSE: 0.0002960468700621277. Test_MSE: 0.00012245625420351136\n",
      "Epoch: 560 Iteration: 52700. Train_MSE: 0.00017072218179237098. Test_MSE: 0.00012234207069553843\n",
      "Epoch: 561 Iteration: 52800. Train_MSE: 0.0003674486360978335. Test_MSE: 0.00012218779005652506\n",
      "Epoch: 562 Iteration: 52900. Train_MSE: 0.00022602708486374468. Test_MSE: 0.00012208505591652482\n",
      "Epoch: 563 Iteration: 53000. Train_MSE: 0.011065775528550148. Test_MSE: 0.00012194154246776705\n",
      "Epoch: 564 Iteration: 53100. Train_MSE: 8.722874918021262e-05. Test_MSE: 0.00012187306253401271\n",
      "Epoch: 565 Iteration: 53200. Train_MSE: 9.232995944330469e-05. Test_MSE: 0.0001217550925955587\n",
      "Epoch: 567 Iteration: 53300. Train_MSE: 0.00017272273544222116. Test_MSE: 0.00012162918771020069\n",
      "Epoch: 568 Iteration: 53400. Train_MSE: 0.000230920355534181. Test_MSE: 0.00012145300428822612\n",
      "Epoch: 569 Iteration: 53500. Train_MSE: 0.0018542077159509063. Test_MSE: 0.00012127592707702931\n",
      "Epoch: 570 Iteration: 53600. Train_MSE: 0.00019037518359255046. Test_MSE: 0.00012114939778171447\n",
      "Epoch: 571 Iteration: 53700. Train_MSE: 0.00021945039043202996. Test_MSE: 0.00012104309954376696\n",
      "Epoch: 572 Iteration: 53800. Train_MSE: 0.0012168055400252342. Test_MSE: 0.00012092492161605175\n",
      "Epoch: 573 Iteration: 53900. Train_MSE: 0.00010274728992953897. Test_MSE: 0.00012082323088626468\n",
      "Epoch: 574 Iteration: 54000. Train_MSE: 0.00015346707368735224. Test_MSE: 0.00012068494400900324\n",
      "Epoch: 575 Iteration: 54100. Train_MSE: 0.0002480170805938542. Test_MSE: 0.00012052408767178356\n",
      "Epoch: 576 Iteration: 54200. Train_MSE: 0.00022588293359149247. Test_MSE: 0.00012042275170059486\n",
      "Epoch: 577 Iteration: 54300. Train_MSE: 0.0015468682395294309. Test_MSE: 0.00012027415371264245\n",
      "Epoch: 578 Iteration: 54400. Train_MSE: 0.00018727041606325656. Test_MSE: 0.00012015082123480715\n",
      "Epoch: 579 Iteration: 54500. Train_MSE: 0.0005264749052003026. Test_MSE: 0.00012003945334617175\n",
      "Epoch: 580 Iteration: 54600. Train_MSE: 0.00017932284390553832. Test_MSE: 0.00011991340133988547\n",
      "Epoch: 581 Iteration: 54700. Train_MSE: 0.00024066879996098578. Test_MSE: 0.00011982487638789904\n",
      "Epoch: 582 Iteration: 54800. Train_MSE: 0.0003252611786592752. Test_MSE: 0.00011973120068015936\n",
      "Epoch: 584 Iteration: 54900. Train_MSE: 0.00028553741867654026. Test_MSE: 0.0001195905111120245\n",
      "Epoch: 585 Iteration: 55000. Train_MSE: 0.00013938150368630886. Test_MSE: 0.00011939937013427912\n",
      "Epoch: 586 Iteration: 55100. Train_MSE: 0.00021576065046247095. Test_MSE: 0.00011923548842199409\n",
      "Epoch: 587 Iteration: 55200. Train_MSE: 0.00026773574063554406. Test_MSE: 0.00011912602297288679\n",
      "Epoch: 588 Iteration: 55300. Train_MSE: 0.000525286013726145. Test_MSE: 0.00011901980951551195\n",
      "Epoch: 589 Iteration: 55400. Train_MSE: 0.0003034946566913277. Test_MSE: 0.00011890635819942683\n",
      "Epoch: 590 Iteration: 55500. Train_MSE: 0.0003851449000649154. Test_MSE: 0.00011878373331369181\n",
      "Epoch: 591 Iteration: 55600. Train_MSE: 6.91319874022156e-05. Test_MSE: 0.00011863165555864866\n",
      "Epoch: 592 Iteration: 55700. Train_MSE: 0.00031532722641713917. Test_MSE: 0.00011851105360231251\n",
      "Epoch: 593 Iteration: 55800. Train_MSE: 0.00010967851267196238. Test_MSE: 0.00011840889392885163\n",
      "Epoch: 594 Iteration: 55900. Train_MSE: 0.00019284476002212614. Test_MSE: 0.00011826435179893802\n",
      "Epoch: 595 Iteration: 56000. Train_MSE: 0.00031230016611516476. Test_MSE: 0.00011816210846780718\n",
      "Epoch: 596 Iteration: 56100. Train_MSE: 0.0006458661518990993. Test_MSE: 0.00011804900067852564\n",
      "Epoch: 597 Iteration: 56200. Train_MSE: 0.00029118635575287044. Test_MSE: 0.00011794442778169636\n",
      "Epoch: 598 Iteration: 56300. Train_MSE: 0.00034470425453037024. Test_MSE: 0.0001178595056735646\n",
      "Epoch: 600 Iteration: 56400. Train_MSE: 0.00013173662591725588. Test_MSE: 0.00011773353966153587\n",
      "Epoch: 601 Iteration: 56500. Train_MSE: 0.0008893175981938839. Test_MSE: 0.00011758756814558562\n",
      "Epoch: 602 Iteration: 56600. Train_MSE: 0.00027571863029152155. Test_MSE: 0.00011742554087459629\n",
      "Epoch: 603 Iteration: 56700. Train_MSE: 0.0005510926712304354. Test_MSE: 0.00011727513050569594\n",
      "Epoch: 604 Iteration: 56800. Train_MSE: 0.0002991316723637283. Test_MSE: 0.00011717438362987683\n",
      "Epoch: 605 Iteration: 56900. Train_MSE: 0.0011064597638323903. Test_MSE: 0.0001170681266480285\n",
      "Epoch: 606 Iteration: 57000. Train_MSE: 0.004130491521209478. Test_MSE: 0.00011695670470977778\n",
      "Epoch: 607 Iteration: 57100. Train_MSE: 0.0002758586488198489. Test_MSE: 0.00011684174833951107\n",
      "Epoch: 608 Iteration: 57200. Train_MSE: 0.00038751907413825393. Test_MSE: 0.00011667365060993959\n",
      "Epoch: 609 Iteration: 57300. Train_MSE: 0.00027269546990282834. Test_MSE: 0.00011657514988270652\n",
      "Epoch: 610 Iteration: 57400. Train_MSE: 0.00016575571498833597. Test_MSE: 0.00011647018088243158\n",
      "Epoch: 611 Iteration: 57500. Train_MSE: 0.0003571724519133568. Test_MSE: 0.00011633133456473691\n",
      "Epoch: 612 Iteration: 57600. Train_MSE: 0.0002202843315899372. Test_MSE: 0.00011623585811080338\n",
      "Epoch: 613 Iteration: 57700. Train_MSE: 0.011059253476560116. Test_MSE: 0.00011610568333974038\n",
      "Epoch: 614 Iteration: 57800. Train_MSE: 8.25763781904243e-05. Test_MSE: 0.00011603690772815227\n",
      "Epoch: 615 Iteration: 57900. Train_MSE: 8.558118861401454e-05. Test_MSE: 0.00011592717695909999\n",
      "Epoch: 617 Iteration: 58000. Train_MSE: 0.0001578835363034159. Test_MSE: 0.00011581156239383111\n",
      "Epoch: 618 Iteration: 58100. Train_MSE: 0.00022334112145472318. Test_MSE: 0.00011565452361079668\n",
      "Epoch: 619 Iteration: 58200. Train_MSE: 0.0018303586402907968. Test_MSE: 0.0001154968535372533\n",
      "Epoch: 620 Iteration: 58300. Train_MSE: 0.0001868695399025455. Test_MSE: 0.00011538093389823966\n",
      "Epoch: 621 Iteration: 58400. Train_MSE: 0.00021540388115681708. Test_MSE: 0.00011528231853175571\n",
      "Epoch: 622 Iteration: 58500. Train_MSE: 0.0012116876896470785. Test_MSE: 0.0001151726269199183\n",
      "Epoch: 623 Iteration: 58600. Train_MSE: 9.67036685324274e-05. Test_MSE: 0.00011507684800623989\n",
      "Epoch: 624 Iteration: 58700. Train_MSE: 0.00013685460726264864. Test_MSE: 0.0001149500846998152\n",
      "Epoch: 625 Iteration: 58800. Train_MSE: 0.00022810010705143213. Test_MSE: 0.0001148079524377196\n",
      "Epoch: 626 Iteration: 58900. Train_MSE: 0.00022066097881179303. Test_MSE: 0.00011471624883336826\n",
      "Epoch: 627 Iteration: 59000. Train_MSE: 0.0015419217525050044. Test_MSE: 0.0001145849024837836\n",
      "Epoch: 628 Iteration: 59100. Train_MSE: 0.00018366427684668452. Test_MSE: 0.00011447485035893698\n",
      "Epoch: 629 Iteration: 59200. Train_MSE: 0.0005184189649298787. Test_MSE: 0.00011437464351018393\n",
      "Epoch: 630 Iteration: 59300. Train_MSE: 0.0001749136863509193. Test_MSE: 0.00011426117149277049\n",
      "Epoch: 631 Iteration: 59400. Train_MSE: 0.0002222168113803491. Test_MSE: 0.00011417829931768329\n",
      "Epoch: 632 Iteration: 59500. Train_MSE: 0.000297300866805017. Test_MSE: 0.00011409051354919365\n",
      "Epoch: 634 Iteration: 59600. Train_MSE: 0.00026087905280292034. Test_MSE: 0.00011396657785159471\n",
      "Epoch: 635 Iteration: 59700. Train_MSE: 0.0001318233844358474. Test_MSE: 0.00011380068059808543\n",
      "Epoch: 636 Iteration: 59800. Train_MSE: 0.00021173281129449606. Test_MSE: 0.00011365717836036558\n",
      "Epoch: 637 Iteration: 59900. Train_MSE: 0.00026578185497783124. Test_MSE: 0.0001135572009485889\n",
      "Epoch: 638 Iteration: 60000. Train_MSE: 0.0005216881982050836. Test_MSE: 0.00011346014611237684\n",
      "Epoch: 639 Iteration: 60100. Train_MSE: 0.000290848285658285. Test_MSE: 0.00011335604920090828\n",
      "Epoch: 640 Iteration: 60200. Train_MSE: 0.00036337110213935375. Test_MSE: 0.00011324443766371856\n",
      "Epoch: 641 Iteration: 60300. Train_MSE: 6.420208228519186e-05. Test_MSE: 0.00011310851802325927\n",
      "Epoch: 642 Iteration: 60400. Train_MSE: 0.0002883467241190374. Test_MSE: 0.00011299826158380027\n",
      "Epoch: 643 Iteration: 60500. Train_MSE: 0.0001028882252285257. Test_MSE: 0.00011290488801151301\n"
     ]
    },
    {
     "name": "stdout",
     "output_type": "stream",
     "text": [
      "Epoch: 644 Iteration: 60600. Train_MSE: 0.00018969205848407. Test_MSE: 0.00011277564603026099\n",
      "Epoch: 645 Iteration: 60700. Train_MSE: 0.0003094976127613336. Test_MSE: 0.00011268212877008211\n",
      "Epoch: 646 Iteration: 60800. Train_MSE: 0.0006408223998732865. Test_MSE: 0.00011258015276741269\n",
      "Epoch: 647 Iteration: 60900. Train_MSE: 0.00028178642969578505. Test_MSE: 0.00011248397755314718\n",
      "Epoch: 648 Iteration: 61000. Train_MSE: 0.00033159551094286144. Test_MSE: 0.00011240349840233714\n",
      "Epoch: 650 Iteration: 61100. Train_MSE: 0.00011754685692721978. Test_MSE: 0.00011229027166198937\n",
      "Epoch: 651 Iteration: 61200. Train_MSE: 0.0008687803638167679. Test_MSE: 0.00011216148230683901\n",
      "Epoch: 652 Iteration: 61300. Train_MSE: 0.0002638256410136819. Test_MSE: 0.00011201924746864222\n",
      "Epoch: 653 Iteration: 61400. Train_MSE: 0.0005439685191959143. Test_MSE: 0.00011188656957583128\n",
      "Epoch: 654 Iteration: 61500. Train_MSE: 0.00029638083651661873. Test_MSE: 0.00011179538464323601\n",
      "Epoch: 655 Iteration: 61600. Train_MSE: 0.0011065222788602114. Test_MSE: 0.00011169871543019917\n",
      "Epoch: 656 Iteration: 61700. Train_MSE: 0.004113543312996626. Test_MSE: 0.00011159720996491364\n",
      "Epoch: 657 Iteration: 61800. Train_MSE: 0.00026279277517460287. Test_MSE: 0.00011149243501980252\n",
      "Epoch: 658 Iteration: 61900. Train_MSE: 0.0003666884731501341. Test_MSE: 0.00011134568626384072\n",
      "Epoch: 659 Iteration: 62000. Train_MSE: 0.0002522653085179627. Test_MSE: 0.00011125452958246286\n",
      "Epoch: 660 Iteration: 62100. Train_MSE: 0.00016156915808096528. Test_MSE: 0.00011115986009873317\n",
      "Epoch: 661 Iteration: 62200. Train_MSE: 0.0003482360625639558. Test_MSE: 0.00011103657115476591\n",
      "Epoch: 662 Iteration: 62300. Train_MSE: 0.00021532505343202502. Test_MSE: 0.00011094963030476128\n",
      "Epoch: 663 Iteration: 62400. Train_MSE: 0.011053013615310192. Test_MSE: 0.00011083317695033233\n",
      "Epoch: 664 Iteration: 62500. Train_MSE: 7.859500328777358e-05. Test_MSE: 0.00011076691848398715\n",
      "Epoch: 665 Iteration: 62600. Train_MSE: 7.998245564522222e-05. Test_MSE: 0.00011066636812622242\n",
      "Epoch: 667 Iteration: 62700. Train_MSE: 0.0001449233095627278. Test_MSE: 0.00011056203416646042\n",
      "Epoch: 668 Iteration: 62800. Train_MSE: 0.00021576907602138817. Test_MSE: 0.00011042462307563172\n",
      "Epoch: 669 Iteration: 62900. Train_MSE: 0.0018082201713696122. Test_MSE: 0.00011028720744718455\n",
      "Epoch: 670 Iteration: 63000. Train_MSE: 0.00018391672347206622. Test_MSE: 0.00011018437038292794\n",
      "Epoch: 671 Iteration: 63100. Train_MSE: 0.0002118278353009373. Test_MSE: 0.00011009576874158201\n",
      "Epoch: 672 Iteration: 63200. Train_MSE: 0.0012069002259522676. Test_MSE: 0.00010999695484214995\n",
      "Epoch: 673 Iteration: 63300. Train_MSE: 9.154438157565892e-05. Test_MSE: 0.00010990996512210744\n",
      "Epoch: 674 Iteration: 63400. Train_MSE: 0.00012274413893464953. Test_MSE: 0.00010979688043207843\n",
      "Epoch: 675 Iteration: 63500. Train_MSE: 0.00021052206284366548. Test_MSE: 0.00010967170662634823\n",
      "Epoch: 676 Iteration: 63600. Train_MSE: 0.0002155184920411557. Test_MSE: 0.00010958865555865343\n",
      "Epoch: 677 Iteration: 63700. Train_MSE: 0.0015376105438917875. Test_MSE: 0.00010947311565507489\n",
      "Epoch: 678 Iteration: 63800. Train_MSE: 0.00018040105351246893. Test_MSE: 0.00010937542330979949\n",
      "Epoch: 679 Iteration: 63900. Train_MSE: 0.0005111369537189603. Test_MSE: 0.0001092856367181156\n",
      "Epoch: 680 Iteration: 64000. Train_MSE: 0.00017113178910221905. Test_MSE: 0.00010918417115429087\n",
      "Epoch: 681 Iteration: 64100. Train_MSE: 0.0002060195110971108. Test_MSE: 0.00010910719315431085\n",
      "Epoch: 682 Iteration: 64200. Train_MSE: 0.0002725908125285059. Test_MSE: 0.00010902513460845132\n",
      "Epoch: 684 Iteration: 64300. Train_MSE: 0.00023981615959201008. Test_MSE: 0.00010891593762104034\n",
      "Epoch: 685 Iteration: 64400. Train_MSE: 0.00012553775741253048. Test_MSE: 0.0001087731061447129\n",
      "Epoch: 686 Iteration: 64500. Train_MSE: 0.00020836497424170375. Test_MSE: 0.00010864836712916895\n",
      "Epoch: 687 Iteration: 64600. Train_MSE: 0.0002640282327774912. Test_MSE: 0.00010855882228679784\n",
      "Epoch: 688 Iteration: 64700. Train_MSE: 0.0005182300228625536. Test_MSE: 0.00010847165009678394\n",
      "Epoch: 689 Iteration: 64800. Train_MSE: 0.00028008263325318694. Test_MSE: 0.00010837787115519764\n",
      "Epoch: 690 Iteration: 64900. Train_MSE: 0.00034428437356837094. Test_MSE: 0.00010827815087708206\n",
      "Epoch: 691 Iteration: 65000. Train_MSE: 6.020202272338793e-05. Test_MSE: 0.00010815835739264245\n",
      "Epoch: 692 Iteration: 65100. Train_MSE: 0.0002645760541781783. Test_MSE: 0.00010805849478517078\n",
      "Epoch: 693 Iteration: 65200. Train_MSE: 9.690893784863874e-05. Test_MSE: 0.00010797451853233084\n",
      "Epoch: 694 Iteration: 65300. Train_MSE: 0.00018634513253346086. Test_MSE: 0.00010786128635246175\n",
      "Epoch: 695 Iteration: 65400. Train_MSE: 0.00030728799174539745. Test_MSE: 0.00010777720973848673\n",
      "Epoch: 696 Iteration: 65500. Train_MSE: 0.000636155775282532. Test_MSE: 0.00010768622928406676\n",
      "Epoch: 697 Iteration: 65600. Train_MSE: 0.00027341226814314723. Test_MSE: 0.00010759881638507561\n",
      "Epoch: 698 Iteration: 65700. Train_MSE: 0.0003193915181327611. Test_MSE: 0.00010752329618716196\n",
      "Epoch: 700 Iteration: 65800. Train_MSE: 0.00010613077029120177. Test_MSE: 0.00010742107503994676\n",
      "Epoch: 701 Iteration: 65900. Train_MSE: 0.0008517405949532986. Test_MSE: 0.00010730652370969942\n",
      "Epoch: 702 Iteration: 66000. Train_MSE: 0.00025279796682298183. Test_MSE: 0.00010718122833217854\n",
      "Epoch: 703 Iteration: 66100. Train_MSE: 0.0005374156753532588. Test_MSE: 0.00010706398462339988\n",
      "Epoch: 704 Iteration: 66200. Train_MSE: 0.00029384830850176513. Test_MSE: 0.00010698064880589727\n",
      "Epoch: 705 Iteration: 66300. Train_MSE: 0.001107328338548541. Test_MSE: 0.00010689219676446851\n",
      "Epoch: 706 Iteration: 66400. Train_MSE: 0.00409782724454999. Test_MSE: 0.00010679913570876346\n",
      "Epoch: 707 Iteration: 66500. Train_MSE: 0.0002511660277377814. Test_MSE: 0.00010670301475692006\n",
      "Epoch: 708 Iteration: 66600. Train_MSE: 0.00034869107184931636. Test_MSE: 0.00010657391973983671\n",
      "Epoch: 709 Iteration: 66700. Train_MSE: 0.00023435546609107405. Test_MSE: 0.00010648865409697858\n",
      "Epoch: 710 Iteration: 66800. Train_MSE: 0.0001578537921886891. Test_MSE: 0.00010640268310282425\n",
      "Epoch: 711 Iteration: 66900. Train_MSE: 0.00034031341783702374. Test_MSE: 0.00010629290682143842\n",
      "Epoch: 712 Iteration: 67000. Train_MSE: 0.00021087942877784371. Test_MSE: 0.00010621325293756566\n",
      "Epoch: 713 Iteration: 67100. Train_MSE: 0.011046703904867172. Test_MSE: 0.0001061088494770575\n",
      "Epoch: 714 Iteration: 67200. Train_MSE: 7.484426168957725e-05. Test_MSE: 0.00010604500177725521\n",
      "Epoch: 715 Iteration: 67300. Train_MSE: 7.522899977630004e-05. Test_MSE: 0.00010595241101586856\n",
      "Epoch: 717 Iteration: 67400. Train_MSE: 0.00013366114581003785. Test_MSE: 0.00010585725041632107\n",
      "Epoch: 718 Iteration: 67500. Train_MSE: 0.00020837430201936513. Test_MSE: 0.0001057355797732906\n",
      "Epoch: 719 Iteration: 67600. Train_MSE: 0.0017880211817100644. Test_MSE: 0.00010561278633773243\n",
      "Epoch: 720 Iteration: 67700. Train_MSE: 0.00018120408640243113. Test_MSE: 0.00010551799085155379\n",
      "Epoch: 721 Iteration: 67800. Train_MSE: 0.00020880137162748724. Test_MSE: 0.00010543493674970189\n",
      "Epoch: 722 Iteration: 67900. Train_MSE: 0.001202405896037817. Test_MSE: 0.00010534289307235264\n",
      "Epoch: 723 Iteration: 68000. Train_MSE: 8.710627298569307e-05. Test_MSE: 0.00010526034111481209\n",
      "Epoch: 724 Iteration: 68100. Train_MSE: 0.0001107878633774817. Test_MSE: 0.00010515538486222123\n",
      "Epoch: 725 Iteration: 68200. Train_MSE: 0.00019507574324961752. Test_MSE: 0.0001050405245911189\n",
      "Epoch: 726 Iteration: 68300. Train_MSE: 0.00021050364011898637. Test_MSE: 0.00010496174450981343\n",
      "Epoch: 727 Iteration: 68400. Train_MSE: 0.0015339459059759974. Test_MSE: 0.00010485599634389762\n",
      "Epoch: 728 Iteration: 68500. Train_MSE: 0.00017745033255778253. Test_MSE: 0.00010476536305051123\n",
      "Epoch: 729 Iteration: 68600. Train_MSE: 0.0005045342841185629. Test_MSE: 0.0001046814081882625\n",
      "Epoch: 730 Iteration: 68700. Train_MSE: 0.0001673929946264252. Test_MSE: 0.00010458716355175496\n",
      "Epoch: 731 Iteration: 68800. Train_MSE: 0.0001917022600537166. Test_MSE: 0.0001045125779804905\n",
      "Epoch: 732 Iteration: 68900. Train_MSE: 0.0002504464646335691. Test_MSE: 0.00010443367832244022\n",
      "Epoch: 734 Iteration: 69000. Train_MSE: 0.0002214450214523822. Test_MSE: 0.00010433373385050622\n",
      "Epoch: 735 Iteration: 69100. Train_MSE: 0.00011995924432994798. Test_MSE: 0.00010420616498307566\n"
     ]
    },
    {
     "name": "stdout",
     "output_type": "stream",
     "text": [
      "Epoch: 736 Iteration: 69200. Train_MSE: 0.00020546151790767908. Test_MSE: 0.00010409381478854385\n",
      "Epoch: 737 Iteration: 69300. Train_MSE: 0.00026229844661429524. Test_MSE: 0.00010401045922593162\n",
      "Epoch: 738 Iteration: 69400. Train_MSE: 0.0005149439093656838. Test_MSE: 0.00010392915920156958\n",
      "Epoch: 739 Iteration: 69500. Train_MSE: 0.0002707739477045834. Test_MSE: 0.00010384179200559484\n",
      "Epoch: 740 Iteration: 69600. Train_MSE: 0.00032747595105320215. Test_MSE: 0.00010374928353571136\n",
      "Epoch: 741 Iteration: 69700. Train_MSE: 5.686873919330537e-05. Test_MSE: 0.00010363967488759393\n",
      "Epoch: 742 Iteration: 69800. Train_MSE: 0.00024347304133698344. Test_MSE: 0.00010354608346441324\n",
      "Epoch: 743 Iteration: 69900. Train_MSE: 9.158789907814935e-05. Test_MSE: 0.00010346747201054188\n",
      "Epoch: 744 Iteration: 70000. Train_MSE: 0.00018291646847501397. Test_MSE: 0.00010336437787313896\n",
      "Epoch: 745 Iteration: 70100. Train_MSE: 0.00030550171504728496. Test_MSE: 0.00010328579125758877\n",
      "Epoch: 746 Iteration: 70200. Train_MSE: 0.0006318220985122025. Test_MSE: 0.00010320161979199553\n",
      "Epoch: 747 Iteration: 70300. Train_MSE: 0.00026603203150443733. Test_MSE: 0.00010311953353286958\n",
      "Epoch: 748 Iteration: 70400. Train_MSE: 0.0003082631155848503. Test_MSE: 0.00010304671375091294\n",
      "Epoch: 750 Iteration: 70500. Train_MSE: 9.651594155002385e-05. Test_MSE: 0.00010295256468599641\n",
      "Epoch: 751 Iteration: 70600. Train_MSE: 0.0008372417651116848. Test_MSE: 0.00010284938260220483\n",
      "Epoch: 752 Iteration: 70700. Train_MSE: 0.0002426287974230945. Test_MSE: 0.00010273756893627348\n",
      "Epoch: 753 Iteration: 70800. Train_MSE: 0.0005315569578669965. Test_MSE: 0.00010263268196313583\n",
      "Epoch: 754 Iteration: 70900. Train_MSE: 0.0002913671196438372. Test_MSE: 0.00010255583856539378\n",
      "Epoch: 755 Iteration: 71000. Train_MSE: 0.001108080497942865. Test_MSE: 0.00010247426268103515\n",
      "Epoch: 756 Iteration: 71100. Train_MSE: 0.0040832459926605225. Test_MSE: 0.00010238826464991919\n",
      "Epoch: 757 Iteration: 71200. Train_MSE: 0.0002407144202152267. Test_MSE: 0.00010229938308917279\n",
      "Epoch: 758 Iteration: 71300. Train_MSE: 0.00033323810203000903. Test_MSE: 0.00010218413446645292\n",
      "Epoch: 759 Iteration: 71400. Train_MSE: 0.000218949222471565. Test_MSE: 0.0001021038555990701\n",
      "Epoch: 760 Iteration: 71500. Train_MSE: 0.00015454264939762652. Test_MSE: 0.00010202489108773595\n",
      "Epoch: 761 Iteration: 71600. Train_MSE: 0.00033330530277453363. Test_MSE: 0.00010192580073157768\n",
      "Epoch: 762 Iteration: 71700. Train_MSE: 0.00020696739375125617. Test_MSE: 0.00010185193197630052\n",
      "Epoch: 763 Iteration: 71800. Train_MSE: 0.011042285710573196. Test_MSE: 0.00010175714787743921\n",
      "Epoch: 764 Iteration: 71900. Train_MSE: 7.145796553231776e-05. Test_MSE: 0.00010169538803847731\n",
      "Epoch: 765 Iteration: 72000. Train_MSE: 7.128837751224637e-05. Test_MSE: 0.00010160929235039271\n",
      "Epoch: 767 Iteration: 72100. Train_MSE: 0.00012384341971483082. Test_MSE: 0.00010152130175778759\n",
      "Epoch: 768 Iteration: 72200. Train_MSE: 0.00020131442579440773. Test_MSE: 0.00010141260804589664\n",
      "Epoch: 769 Iteration: 72300. Train_MSE: 0.001769569469615817. Test_MSE: 0.0001013047994503147\n",
      "Epoch: 770 Iteration: 72400. Train_MSE: 0.00017851065786089748. Test_MSE: 0.00010121961624714902\n",
      "Epoch: 771 Iteration: 72500. Train_MSE: 0.0002062330604530871. Test_MSE: 0.000101143471201921\n",
      "Epoch: 772 Iteration: 72600. Train_MSE: 0.0011982535943388939. Test_MSE: 0.00010105930018102657\n",
      "Epoch: 773 Iteration: 72700. Train_MSE: 8.329406409757212e-05. Test_MSE: 0.00010098269674750251\n",
      "Epoch: 774 Iteration: 72800. Train_MSE: 0.00010060553177027032. Test_MSE: 0.00010088703906295403\n",
      "Epoch: 775 Iteration: 72900. Train_MSE: 0.00018142523185815662. Test_MSE: 0.000100783315363677\n",
      "Epoch: 776 Iteration: 73000. Train_MSE: 0.0002055267832474783. Test_MSE: 0.00010070995088616207\n",
      "Epoch: 777 Iteration: 73100. Train_MSE: 0.0015315914060920477. Test_MSE: 0.00010061504630421004\n",
      "Epoch: 778 Iteration: 73200. Train_MSE: 0.00017496592772658914. Test_MSE: 0.00010053280598264815\n",
      "Epoch: 779 Iteration: 73300. Train_MSE: 0.0004987154970876873. Test_MSE: 0.00010045591924153861\n",
      "Epoch: 780 Iteration: 73400. Train_MSE: 0.00016417726874351501. Test_MSE: 0.00010037016440125468\n",
      "Epoch: 781 Iteration: 73500. Train_MSE: 0.00017888675210997462. Test_MSE: 0.00010029995306296376\n",
      "Epoch: 782 Iteration: 73600. Train_MSE: 0.00023051630705595016. Test_MSE: 0.0001002246758687663\n",
      "Epoch: 784 Iteration: 73700. Train_MSE: 0.00020510681497398764. Test_MSE: 0.00010013370941955997\n",
      "Epoch: 785 Iteration: 73800. Train_MSE: 0.0001153256744146347. Test_MSE: 0.0001000206172498351\n",
      "Epoch: 786 Iteration: 73900. Train_MSE: 0.0002026166912401095. Test_MSE: 9.991958142996765e-05\n",
      "Epoch: 787 Iteration: 74000. Train_MSE: 0.0002606375201139599. Test_MSE: 9.984219177249408e-05\n",
      "Epoch: 788 Iteration: 74100. Train_MSE: 0.0005120233981870115. Test_MSE: 9.976641948462062e-05\n",
      "Epoch: 789 Iteration: 74200. Train_MSE: 0.0002634103875607252. Test_MSE: 9.968525000291964e-05\n",
      "Epoch: 790 Iteration: 74300. Train_MSE: 0.00031251530162990093. Test_MSE: 9.959963519252703e-05\n",
      "Epoch: 791 Iteration: 74400. Train_MSE: 5.405117917689495e-05. Test_MSE: 9.94995343393315e-05\n",
      "Epoch: 792 Iteration: 74500. Train_MSE: 0.00022465031361207366. Test_MSE: 9.941173725314943e-05\n",
      "Epoch: 793 Iteration: 74600. Train_MSE: 8.703219646122307e-05. Test_MSE: 9.93380999738814e-05\n",
      "Epoch: 794 Iteration: 74700. Train_MSE: 0.0001795965654309839. Test_MSE: 9.924463858255763e-05\n",
      "Epoch: 795 Iteration: 74800. Train_MSE: 0.00030397780938073993. Test_MSE: 9.9171217036287e-05\n",
      "Epoch: 796 Iteration: 74900. Train_MSE: 0.0006279716617427766. Test_MSE: 9.909337431697059e-05\n",
      "Epoch: 797 Iteration: 75000. Train_MSE: 0.00025918229948729277. Test_MSE: 9.901650302495854e-05\n",
      "Epoch: 798 Iteration: 75100. Train_MSE: 0.0002982549776788801. Test_MSE: 9.894649995150191e-05\n",
      "Epoch: 800 Iteration: 75200. Train_MSE: 8.841004455462098e-05. Test_MSE: 9.885908328479427e-05\n",
      "Epoch: 801 Iteration: 75300. Train_MSE: 0.0008248087833635509. Test_MSE: 9.876511044147824e-05\n",
      "Epoch: 802 Iteration: 75400. Train_MSE: 0.00023274982231669128. Test_MSE: 9.866443848715842e-05\n",
      "Epoch: 803 Iteration: 75500. Train_MSE: 0.0005268251406960189. Test_MSE: 9.85698915773283e-05\n",
      "Epoch: 804 Iteration: 75600. Train_MSE: 0.0002884342975448817. Test_MSE: 9.849814038501404e-05\n",
      "Epoch: 805 Iteration: 75700. Train_MSE: 0.0011086929589509964. Test_MSE: 9.842211541161389e-05\n",
      "Epoch: 806 Iteration: 75800. Train_MSE: 0.004069511312991381. Test_MSE: 9.834204817440326e-05\n",
      "Epoch: 807 Iteration: 75900. Train_MSE: 0.00023130008776206523. Test_MSE: 9.825916813983443e-05\n",
      "Epoch: 808 Iteration: 76000. Train_MSE: 0.00031966232927516103. Test_MSE: 9.815530094840705e-05\n",
      "Epoch: 809 Iteration: 76100. Train_MSE: 0.0002054894284810871. Test_MSE: 9.807881109933703e-05\n",
      "Epoch: 810 Iteration: 76200. Train_MSE: 0.00015136162983253598. Test_MSE: 9.800555943638485e-05\n",
      "Epoch: 811 Iteration: 76300. Train_MSE: 0.0003269860171712935. Test_MSE: 9.791558974829064e-05\n",
      "Epoch: 812 Iteration: 76400. Train_MSE: 0.00020370179845485836. Test_MSE: 9.784647020850576e-05\n",
      "Epoch: 813 Iteration: 76500. Train_MSE: 0.011035976000130177. Test_MSE: 9.776007159086957e-05\n",
      "Epoch: 814 Iteration: 76600. Train_MSE: 6.849674537079409e-05. Test_MSE: 9.770015542082934e-05\n",
      "Epoch: 815 Iteration: 76700. Train_MSE: 6.794647197239101e-05. Test_MSE: 9.761959018383769e-05\n",
      "Epoch: 817 Iteration: 76800. Train_MSE: 0.00011514101061038673. Test_MSE: 9.753759997063398e-05\n",
      "Epoch: 818 Iteration: 76900. Train_MSE: 0.0001944730174727738. Test_MSE: 9.743952701820277e-05\n",
      "Epoch: 819 Iteration: 77000. Train_MSE: 0.001752168289385736. Test_MSE: 9.734280297306002e-05\n",
      "Epoch: 820 Iteration: 77100. Train_MSE: 0.0001762411993695423. Test_MSE: 9.72644891009367e-05\n",
      "Epoch: 821 Iteration: 77200. Train_MSE: 0.00020412582671269774. Test_MSE: 9.719372847762554e-05\n",
      "Epoch: 822 Iteration: 77300. Train_MSE: 0.0011944203870370984. Test_MSE: 9.711621709643059e-05\n",
      "Epoch: 823 Iteration: 77400. Train_MSE: 7.999867375474423e-05. Test_MSE: 9.704455914878572e-05\n",
      "Epoch: 824 Iteration: 77500. Train_MSE: 9.17438228498213e-05. Test_MSE: 9.695669947099118e-05\n",
      "Epoch: 825 Iteration: 77600. Train_MSE: 0.00016916487948037684. Test_MSE: 9.686215402098082e-05\n",
      "Epoch: 826 Iteration: 77700. Train_MSE: 0.00020064417913090438. Test_MSE: 9.679326735249293e-05\n"
     ]
    },
    {
     "name": "stdout",
     "output_type": "stream",
     "text": [
      "Epoch: 827 Iteration: 77800. Train_MSE: 0.0015292690368369222. Test_MSE: 9.670744837821327e-05\n",
      "Epoch: 828 Iteration: 77900. Train_MSE: 0.00017290959658566862. Test_MSE: 9.663215059944705e-05\n",
      "Epoch: 829 Iteration: 78000. Train_MSE: 0.0004933078307658434. Test_MSE: 9.656117644207591e-05\n",
      "Epoch: 830 Iteration: 78100. Train_MSE: 0.000161294563440606. Test_MSE: 9.648259725508822e-05\n",
      "Epoch: 831 Iteration: 78200. Train_MSE: 0.00016729779599700123. Test_MSE: 9.64161164241746e-05\n",
      "Epoch: 832 Iteration: 78300. Train_MSE: 0.00021277496125549078. Test_MSE: 9.634440280962521e-05\n",
      "Epoch: 834 Iteration: 78400. Train_MSE: 0.00019067779066972435. Test_MSE: 9.626121905563468e-05\n",
      "Epoch: 835 Iteration: 78500. Train_MSE: 0.0001113409671233967. Test_MSE: 9.616069347340945e-05\n",
      "Epoch: 836 Iteration: 78600. Train_MSE: 0.0002000797539949417. Test_MSE: 9.607070610509667e-05\n",
      "Epoch: 837 Iteration: 78700. Train_MSE: 0.00025899254251271486. Test_MSE: 9.599976363328287e-05\n",
      "Epoch: 838 Iteration: 78800. Train_MSE: 0.0005097502726130188. Test_MSE: 9.592985051601548e-05\n",
      "Epoch: 839 Iteration: 78900. Train_MSE: 0.0002570843498688191. Test_MSE: 9.585524429004506e-05\n",
      "Epoch: 840 Iteration: 79000. Train_MSE: 0.0002991488727275282. Test_MSE: 9.577699754166861e-05\n",
      "Epoch: 841 Iteration: 79100. Train_MSE: 5.1744220399996266e-05. Test_MSE: 9.568637318820615e-05\n",
      "Epoch: 842 Iteration: 79200. Train_MSE: 0.000207850054721348. Test_MSE: 9.560475985296675e-05\n",
      "Epoch: 843 Iteration: 79300. Train_MSE: 8.303286449518055e-05. Test_MSE: 9.553642959458369e-05\n",
      "Epoch: 844 Iteration: 79400. Train_MSE: 0.0001764184853527695. Test_MSE: 9.545259387564066e-05\n",
      "Epoch: 845 Iteration: 79500. Train_MSE: 0.00030268222326412797. Test_MSE: 9.538467652857648e-05\n",
      "Epoch: 846 Iteration: 79600. Train_MSE: 0.000624387466814369. Test_MSE: 9.531331986633397e-05\n",
      "Epoch: 847 Iteration: 79700. Train_MSE: 0.0002530332712922245. Test_MSE: 9.524226356910695e-05\n",
      "Epoch: 848 Iteration: 79800. Train_MSE: 0.00028909093816764653. Test_MSE: 9.51758095875247e-05\n",
      "Epoch: 850 Iteration: 79900. Train_MSE: 8.149534551193938e-05. Test_MSE: 9.509529637872036e-05\n",
      "Epoch: 851 Iteration: 80000. Train_MSE: 0.0008140767458826303. Test_MSE: 9.501041846576212e-05\n",
      "Epoch: 852 Iteration: 80100. Train_MSE: 0.00022373678802978247. Test_MSE: 9.492087770074044e-05\n",
      "Epoch: 853 Iteration: 80200. Train_MSE: 0.0005228344816714525. Test_MSE: 9.48366835793973e-05\n",
      "Epoch: 854 Iteration: 80300. Train_MSE: 0.00028565063257701695. Test_MSE: 9.47703169516572e-05\n",
      "Epoch: 855 Iteration: 80400. Train_MSE: 0.001109168864786625. Test_MSE: 9.470026450147192e-05\n",
      "Epoch: 856 Iteration: 80500. Train_MSE: 0.0040565794333815575. Test_MSE: 9.462648971456321e-05\n",
      "Epoch: 857 Iteration: 80600. Train_MSE: 0.00022256083320826292. Test_MSE: 9.455001668055122e-05\n",
      "Epoch: 858 Iteration: 80700. Train_MSE: 0.00030747559503652155. Test_MSE: 9.44573597305171e-05\n",
      "Epoch: 859 Iteration: 80800. Train_MSE: 0.00019355324911884964. Test_MSE: 9.438485164961957e-05\n",
      "Epoch: 860 Iteration: 80900. Train_MSE: 0.00014858708891551942. Test_MSE: 9.431755806931314e-05\n",
      "Epoch: 861 Iteration: 81000. Train_MSE: 0.00032143390853889287. Test_MSE: 9.42368845697e-05\n",
      "Epoch: 862 Iteration: 81100. Train_MSE: 0.0002006557915592566. Test_MSE: 9.417273437131573e-05\n",
      "Epoch: 863 Iteration: 81200. Train_MSE: 0.011029316112399101. Test_MSE: 9.409484256786645e-05\n",
      "Epoch: 864 Iteration: 81300. Train_MSE: 6.589093391085044e-05. Test_MSE: 9.403728236859486e-05\n",
      "Epoch: 865 Iteration: 81400. Train_MSE: 6.483037577709183e-05. Test_MSE: 9.396247760695776e-05\n",
      "Epoch: 867 Iteration: 81500. Train_MSE: 0.00010752429079730064. Test_MSE: 9.38865364457151e-05\n",
      "Epoch: 868 Iteration: 81600. Train_MSE: 0.0001879506598925218. Test_MSE: 9.379909911532395e-05\n",
      "Epoch: 869 Iteration: 81700. Train_MSE: 0.0017371257999911904. Test_MSE: 9.37135048871813e-05\n",
      "Epoch: 870 Iteration: 81800. Train_MSE: 0.00017416744958609343. Test_MSE: 9.36419216677612e-05\n",
      "Epoch: 871 Iteration: 81900. Train_MSE: 0.00020219518046360463. Test_MSE: 9.35755588900606e-05\n",
      "Epoch: 872 Iteration: 82000. Train_MSE: 0.001190739101730287. Test_MSE: 9.350382091815965e-05\n",
      "Epoch: 873 Iteration: 82100. Train_MSE: 7.710148929618299e-05. Test_MSE: 9.343611822789925e-05\n",
      "Epoch: 874 Iteration: 82200. Train_MSE: 8.424887346336618e-05. Test_MSE: 9.335478967835462e-05\n",
      "Epoch: 875 Iteration: 82300. Train_MSE: 0.00015798652020748705. Test_MSE: 9.326792136868469e-05\n",
      "Epoch: 876 Iteration: 82400. Train_MSE: 0.00019617001817096025. Test_MSE: 9.320231126522276e-05\n",
      "Epoch: 877 Iteration: 82500. Train_MSE: 0.0015268787974491715. Test_MSE: 9.31242163770594e-05\n",
      "Epoch: 878 Iteration: 82600. Train_MSE: 0.00017111147462856025. Test_MSE: 9.305462433461437e-05\n",
      "Epoch: 879 Iteration: 82700. Train_MSE: 0.00048824783880263567. Test_MSE: 9.298837367035612e-05\n",
      "Epoch: 880 Iteration: 82800. Train_MSE: 0.00015888342750258744. Test_MSE: 9.291581554467117e-05\n",
      "Epoch: 881 Iteration: 82900. Train_MSE: 0.00015683779201935977. Test_MSE: 9.285198991395575e-05\n",
      "Epoch: 882 Iteration: 83000. Train_MSE: 0.00019698904361575842. Test_MSE: 9.278290358855719e-05\n",
      "Epoch: 884 Iteration: 83100. Train_MSE: 0.0001779744343366474. Test_MSE: 9.270609530890971e-05\n",
      "Epoch: 885 Iteration: 83200. Train_MSE: 0.00010768722131615505. Test_MSE: 9.261663806535069e-05\n",
      "Epoch: 886 Iteration: 83300. Train_MSE: 0.00019781551964115351. Test_MSE: 9.2535603180816e-05\n",
      "Epoch: 887 Iteration: 83400. Train_MSE: 0.0002575157268438488. Test_MSE: 9.246937822493149e-05\n",
      "Epoch: 888 Iteration: 83500. Train_MSE: 0.0005077020614407957. Test_MSE: 9.240376888968032e-05\n",
      "Epoch: 889 Iteration: 83600. Train_MSE: 0.00025141547666862607. Test_MSE: 9.233421862863778e-05\n",
      "Epoch: 890 Iteration: 83700. Train_MSE: 0.00028711301274597645. Test_MSE: 9.226137433509103e-05\n",
      "Epoch: 891 Iteration: 83800. Train_MSE: 4.9810554628493264e-05. Test_MSE: 9.217831139170117e-05\n",
      "Epoch: 892 Iteration: 83900. Train_MSE: 0.0001928464334923774. Test_MSE: 9.210112780376313e-05\n",
      "Epoch: 893 Iteration: 84000. Train_MSE: 7.95350715634413e-05. Test_MSE: 9.203681626007235e-05\n",
      "Epoch: 894 Iteration: 84100. Train_MSE: 0.0001733451645122841. Test_MSE: 9.196099638394511e-05\n",
      "Epoch: 895 Iteration: 84200. Train_MSE: 0.00030146888457238674. Test_MSE: 9.189714516670281e-05\n",
      "Epoch: 896 Iteration: 84300. Train_MSE: 0.0006211288855411112. Test_MSE: 9.183087262024293e-05\n",
      "Epoch: 897 Iteration: 84400. Train_MSE: 0.00024749047588557005. Test_MSE: 9.176439363266157e-05\n",
      "Epoch: 898 Iteration: 84500. Train_MSE: 0.00028068554820492864. Test_MSE: 9.17005308018465e-05\n",
      "Epoch: 900 Iteration: 84600. Train_MSE: 7.573414768557996e-05. Test_MSE: 9.162527690443087e-05\n",
      "Epoch: 901 Iteration: 84700. Train_MSE: 0.0008048619492910802. Test_MSE: 9.15475643103583e-05\n",
      "Epoch: 902 Iteration: 84800. Train_MSE: 0.00021556467982009053. Test_MSE: 9.14669304029444e-05\n",
      "Epoch: 903 Iteration: 84900. Train_MSE: 0.0005191129166632891. Test_MSE: 9.139114474990461e-05\n",
      "Epoch: 904 Iteration: 85000. Train_MSE: 0.0002830972371157259. Test_MSE: 9.132856816341695e-05\n",
      "Epoch: 905 Iteration: 85100. Train_MSE: 0.0011093857465311885. Test_MSE: 9.126302406418482e-05\n",
      "Epoch: 906 Iteration: 85200. Train_MSE: 0.004045937675982714. Test_MSE: 9.11938257786879e-05\n",
      "Epoch: 907 Iteration: 85300. Train_MSE: 0.00021465680038090795. Test_MSE: 9.112225517147546e-05\n",
      "Epoch: 908 Iteration: 85400. Train_MSE: 0.0002967108739539981. Test_MSE: 9.103817393715943e-05\n",
      "Epoch: 909 Iteration: 85500. Train_MSE: 0.0001828608801588416. Test_MSE: 9.096857308247208e-05\n",
      "Epoch: 910 Iteration: 85600. Train_MSE: 0.000146316786413081. Test_MSE: 9.09057140367067e-05\n",
      "Epoch: 911 Iteration: 85700. Train_MSE: 0.00031642511021345854. Test_MSE: 9.083222161774244e-05\n",
      "Epoch: 912 Iteration: 85800. Train_MSE: 0.00019802041060756892. Test_MSE: 9.077166022312875e-05\n",
      "Epoch: 913 Iteration: 85900. Train_MSE: 0.011022775433957577. Test_MSE: 9.070041091438114e-05\n",
      "Epoch: 914 Iteration: 86000. Train_MSE: 6.344062421703711e-05. Test_MSE: 9.064452702682302e-05\n",
      "Epoch: 915 Iteration: 86100. Train_MSE: 6.197837501531467e-05. Test_MSE: 9.057415860406734e-05\n",
      "Epoch: 917 Iteration: 86200. Train_MSE: 0.00010076770558953285. Test_MSE: 9.050281727970314e-05\n",
      "Epoch: 918 Iteration: 86300. Train_MSE: 0.00018174159049522132. Test_MSE: 9.042344124735292e-05\n",
      "Epoch: 919 Iteration: 86400. Train_MSE: 0.001723713823594153. Test_MSE: 9.034636490267587e-05\n",
      "Epoch: 920 Iteration: 86500. Train_MSE: 0.00017225077317561954. Test_MSE: 9.028059551791396e-05\n"
     ]
    },
    {
     "name": "stdout",
     "output_type": "stream",
     "text": [
      "Epoch: 921 Iteration: 86600. Train_MSE: 0.00020036545174662024. Test_MSE: 9.021875973481917e-05\n",
      "Epoch: 922 Iteration: 86700. Train_MSE: 0.0011884925188496709. Test_MSE: 9.015265938493077e-05\n",
      "Epoch: 923 Iteration: 86800. Train_MSE: 7.453028956661001e-05. Test_MSE: 9.008907801719291e-05\n",
      "Epoch: 924 Iteration: 86900. Train_MSE: 7.769098738208413e-05. Test_MSE: 9.001426370512997e-05\n",
      "Epoch: 925 Iteration: 87000. Train_MSE: 0.000147753773489967. Test_MSE: 8.99347673139644e-05\n",
      "Epoch: 926 Iteration: 87100. Train_MSE: 0.00019206744036637247. Test_MSE: 8.98728853320018e-05\n",
      "Epoch: 927 Iteration: 87200. Train_MSE: 0.001525042811408639. Test_MSE: 8.980232589512442e-05\n",
      "Epoch: 928 Iteration: 87300. Train_MSE: 0.00016968930140137672. Test_MSE: 8.973850484472765e-05\n",
      "Epoch: 929 Iteration: 87400. Train_MSE: 0.00048358854837715626. Test_MSE: 8.96772091074758e-05\n",
      "Epoch: 930 Iteration: 87500. Train_MSE: 0.00015683066158089787. Test_MSE: 8.961104261659787e-05\n",
      "Epoch: 931 Iteration: 87600. Train_MSE: 0.00014742868370376527. Test_MSE: 8.955099384227014e-05\n",
      "Epoch: 932 Iteration: 87700. Train_MSE: 0.00018265876860823482. Test_MSE: 8.948562414624665e-05\n",
      "Epoch: 934 Iteration: 87800. Train_MSE: 0.00016684303409419954. Test_MSE: 8.941534585341608e-05\n",
      "Epoch: 935 Iteration: 87900. Train_MSE: 0.00010436719458084553. Test_MSE: 8.93361309587478e-05\n",
      "Epoch: 936 Iteration: 88000. Train_MSE: 0.0001958452194230631. Test_MSE: 8.926374870418462e-05\n",
      "Epoch: 937 Iteration: 88100. Train_MSE: 0.0002562465379014611. Test_MSE: 8.920266765314378e-05\n",
      "Epoch: 938 Iteration: 88200. Train_MSE: 0.00050580152310431. Test_MSE: 8.914172947297163e-05\n",
      "Epoch: 939 Iteration: 88300. Train_MSE: 0.0002463701239321381. Test_MSE: 8.907764577967369e-05\n",
      "Epoch: 940 Iteration: 88400. Train_MSE: 0.00027631534612737596. Test_MSE: 8.901084430565014e-05\n",
      "Epoch: 941 Iteration: 88500. Train_MSE: 4.8171561502385885e-05. Test_MSE: 8.893528228062066e-05\n",
      "Epoch: 942 Iteration: 88600. Train_MSE: 0.00017938809469342232. Test_MSE: 8.886302169613399e-05\n",
      "Epoch: 943 Iteration: 88700. Train_MSE: 7.635002111783251e-05. Test_MSE: 8.88030708304093e-05\n",
      "Epoch: 944 Iteration: 88800. Train_MSE: 0.00017045503773260862. Test_MSE: 8.873495354969001e-05\n",
      "Epoch: 945 Iteration: 88900. Train_MSE: 0.0003002978628501296. Test_MSE: 8.867556387726007e-05\n",
      "Epoch: 946 Iteration: 89000. Train_MSE: 0.0006181529024615884. Test_MSE: 8.86145397941155e-05\n",
      "Epoch: 947 Iteration: 89100. Train_MSE: 0.00024245092936325818. Test_MSE: 8.855311905231323e-05\n",
      "Epoch: 948 Iteration: 89200. Train_MSE: 0.00027299352223053575. Test_MSE: 8.849255578883842e-05\n",
      "Epoch: 950 Iteration: 89300. Train_MSE: 7.087460107868537e-05. Test_MSE: 8.842290006278395e-05\n",
      "Epoch: 951 Iteration: 89400. Train_MSE: 0.0007967877900227904. Test_MSE: 8.835240925258318e-05\n",
      "Epoch: 952 Iteration: 89500. Train_MSE: 0.0002079312689602375. Test_MSE: 8.828068661770954e-05\n",
      "Epoch: 953 Iteration: 89600. Train_MSE: 0.0005157701671123505. Test_MSE: 8.821342922888367e-05\n",
      "Epoch: 954 Iteration: 89700. Train_MSE: 0.0002808225399348885. Test_MSE: 8.81550782921308e-05\n",
      "Epoch: 955 Iteration: 89800. Train_MSE: 0.0011094468645751476. Test_MSE: 8.809443699747228e-05\n",
      "Epoch: 956 Iteration: 89900. Train_MSE: 0.004037303850054741. Test_MSE: 8.803054358623737e-05\n",
      "Epoch: 957 Iteration: 90000. Train_MSE: 0.0002074126387014985. Test_MSE: 8.796434002101173e-05\n",
      "Epoch: 958 Iteration: 90100. Train_MSE: 0.0002871492179110646. Test_MSE: 8.78889893427005e-05\n",
      "Epoch: 959 Iteration: 90200. Train_MSE: 0.00017316752928309143. Test_MSE: 8.782256133754939e-05\n",
      "Epoch: 960 Iteration: 90300. Train_MSE: 0.00014425093831960112. Test_MSE: 8.776449158204125e-05\n",
      "Epoch: 961 Iteration: 90400. Train_MSE: 0.00031177830533124506. Test_MSE: 8.769846270295497e-05\n",
      "Epoch: 962 Iteration: 90500. Train_MSE: 0.00019558891654014587. Test_MSE: 8.764180944955743e-05\n",
      "Epoch: 963 Iteration: 90600. Train_MSE: 0.011016570031642914. Test_MSE: 8.757761642686607e-05\n",
      "Epoch: 964 Iteration: 90700. Train_MSE: 6.123787170508876e-05. Test_MSE: 8.752374208460196e-05\n",
      "Epoch: 965 Iteration: 90800. Train_MSE: 5.9325069742044434e-05. Test_MSE: 8.745812693727635e-05\n",
      "Epoch: 967 Iteration: 90900. Train_MSE: 9.480454173171893e-05. Test_MSE: 8.739169130742997e-05\n",
      "Epoch: 968 Iteration: 91000. Train_MSE: 0.00017577988910488784. Test_MSE: 8.732098639688398e-05\n",
      "Epoch: 969 Iteration: 91100. Train_MSE: 0.0017111547058448195. Test_MSE: 8.725313407740094e-05\n",
      "Epoch: 970 Iteration: 91200. Train_MSE: 0.00017044234846252948. Test_MSE: 8.71932753044473e-05\n",
      "Epoch: 971 Iteration: 91300. Train_MSE: 0.00019863928901031613. Test_MSE: 8.713551571471523e-05\n",
      "Epoch: 972 Iteration: 91400. Train_MSE: 0.0011866329004988074. Test_MSE: 8.707502195625878e-05\n",
      "Epoch: 973 Iteration: 91500. Train_MSE: 7.226506568258628e-05. Test_MSE: 8.701544113941056e-05\n",
      "Epoch: 974 Iteration: 91600. Train_MSE: 7.183948764577508e-05. Test_MSE: 8.6946870303941e-05\n",
      "Epoch: 975 Iteration: 91700. Train_MSE: 0.00013830310490448028. Test_MSE: 8.68743531400463e-05\n",
      "Epoch: 976 Iteration: 91800. Train_MSE: 0.0001879868214018643. Test_MSE: 8.681543741486781e-05\n",
      "Epoch: 977 Iteration: 91900. Train_MSE: 0.0015237119514495134. Test_MSE: 8.675207637326936e-05\n",
      "Epoch: 978 Iteration: 92000. Train_MSE: 0.00016838354349602014. Test_MSE: 8.669353694304747e-05\n",
      "Epoch: 979 Iteration: 92100. Train_MSE: 0.0004793578991666436. Test_MSE: 8.66366022619763e-05\n",
      "Epoch: 980 Iteration: 92200. Train_MSE: 0.00015489627548959106. Test_MSE: 8.657642780078763e-05\n",
      "Epoch: 981 Iteration: 92300. Train_MSE: 0.0001388344244332984. Test_MSE: 8.651925228877763e-05\n",
      "Epoch: 982 Iteration: 92400. Train_MSE: 0.00016968176350928843. Test_MSE: 8.645675051425857e-05\n",
      "Epoch: 984 Iteration: 92500. Train_MSE: 0.00015681581862736493. Test_MSE: 8.639241276112837e-05\n",
      "Epoch: 985 Iteration: 92600. Train_MSE: 0.00010122238745680079. Test_MSE: 8.632348011034743e-05\n",
      "Epoch: 986 Iteration: 92700. Train_MSE: 0.00019400562450755388. Test_MSE: 8.625958900939547e-05\n",
      "Epoch: 987 Iteration: 92800. Train_MSE: 0.0002550267381593585. Test_MSE: 8.620223000175595e-05\n",
      "Epoch: 988 Iteration: 92900. Train_MSE: 0.0005039709503762424. Test_MSE: 8.614437937366185e-05\n",
      "Epoch: 989 Iteration: 93000. Train_MSE: 0.00024184490030165762. Test_MSE: 8.608443914351921e-05\n",
      "Epoch: 990 Iteration: 93100. Train_MSE: 0.0002665171923581511. Test_MSE: 8.602213338967772e-05\n",
      "Epoch: 991 Iteration: 93200. Train_MSE: 4.67447389382869e-05. Test_MSE: 8.595252062633307e-05\n",
      "Epoch: 992 Iteration: 93300. Train_MSE: 0.00016735270037315786. Test_MSE: 8.588356486297564e-05\n",
      "Epoch: 993 Iteration: 93400. Train_MSE: 7.342080789385363e-05. Test_MSE: 8.582619549329689e-05\n",
      "Epoch: 994 Iteration: 93500. Train_MSE: 0.00016759807476773858. Test_MSE: 8.576441654646108e-05\n",
      "Epoch: 995 Iteration: 93600. Train_MSE: 0.0002992320223711431. Test_MSE: 8.570770912013247e-05\n",
      "Epoch: 996 Iteration: 93700. Train_MSE: 0.0006153309950605035. Test_MSE: 8.565033373641218e-05\n",
      "Epoch: 997 Iteration: 93800. Train_MSE: 0.0002377555356360972. Test_MSE: 8.559260223574699e-05\n",
      "Epoch: 998 Iteration: 93900. Train_MSE: 0.00026602097204886377. Test_MSE: 8.553386471752212e-05\n"
     ]
    }
   ],
   "source": [
    "# Training the model\n",
    "seq_dim = 1\n",
    "\n",
    "n_iter =0\n",
    "num_samples = len(X_train)\n",
    "test_samples = len(X_test)\n",
    "batch_size = 100\n",
    "num_epochs = 1000\n",
    "feat_dim = X_train.shape[1]\n",
    "\n",
    "X_train = X_train.type(torch.FloatTensor)\n",
    "y_train = y_train.type(torch.FloatTensor)\n",
    "X_test = X_test.type(torch.FloatTensor)\n",
    "y_test = y_test.type(torch.FloatTensor)\n",
    "\n",
    "for epoch in range(num_epochs):\n",
    "    for i in range(0, int(num_samples/batch_size -1)):\n",
    "        \n",
    "        \n",
    "        features = Variable(X_train[i*batch_size:(i+1)*batch_size, :]).view(-1, seq_dim, feat_dim)\n",
    "        Kt_value = Variable(y_train[i*batch_size:(i+1)*batch_size])\n",
    "        \n",
    "        #print(\"Kt_value={}\".format(Kt_value))\n",
    "        \n",
    "        optimizer.zero_grad()\n",
    "        \n",
    "        outputs = model(features)\n",
    "        #print(\"outputs ={}\".format(outputs))\n",
    "        \n",
    "        loss = criterion(outputs, Kt_value)\n",
    "        \n",
    "        train_loss.append(loss.data[0])\n",
    "        train_iter.append(n_iter)\n",
    "\n",
    "        #print(\"loss = {}\".format(loss))\n",
    "        loss.backward()\n",
    "        \n",
    "        optimizer.step()\n",
    "        \n",
    "        \n",
    "            \n",
    "        if n_iter%100 == 0:\n",
    "            for i in range(0,int(test_samples/batch_size -1)):\n",
    "                features = Variable(X_test[i*batch_size:(i+1)*batch_size, :]).view(-1, seq_dim, feat_dim)\n",
    "                Kt_test = Variable(y_test[i*batch_size:(i+1)*batch_size])\n",
    "                \n",
    "                outputs = model(features)\n",
    "                \n",
    "                mse = np.sqrt(np.mean((Kt_test.data.numpy() - outputs.data.numpy().squeeze())**2)/num_samples)\n",
    "                \n",
    "                test_iter.append(n_iter)\n",
    "                test_loss.append(mse)\n",
    "                \n",
    "            print('Epoch: {} Iteration: {}. Train_MSE: {}. Test_MSE: {}'.format(epoch, n_iter, loss.data[0], mse))\n",
    "        n_iter += 1         "
   ]
  },
  {
   "cell_type": "code",
   "execution_count": 78,
   "metadata": {},
   "outputs": [
    {
     "name": "stdout",
     "output_type": "stream",
     "text": [
      "36660\n"
     ]
    },
    {
     "data": {
      "text/plain": [
       "[<matplotlib.lines.Line2D at 0xffd0588>]"
      ]
     },
     "execution_count": 78,
     "metadata": {},
     "output_type": "execute_result"
    },
    {
     "data": {
      "image/png": "[encoded data removed]",
      "text/plain": [
       "<Figure size 432x288 with 1 Axes>"
      ]
     },
     "metadata": {},
     "output_type": "display_data"
    }
   ],
   "source": [
    "print(len(test_loss))\n",
    "#plt.plot(test_loss)\n",
    "plt.plot(train_loss,'-')\n",
    "#plt.ylim([0.000,0.99])\n"
   ]
  },
  {
   "cell_type": "code",
   "execution_count": 79,
   "metadata": {},
   "outputs": [
    {
     "data": {
      "text/plain": [
       "[<matplotlib.lines.Line2D at 0xcd968d0>]"
      ]
     },
     "execution_count": 79,
     "metadata": {},
     "output_type": "execute_result"
    },
    {
     "data": {
      "image/png": "[encoded data removed]",
      "text/plain": [
       "<Figure size 432x288 with 1 Axes>"
      ]
     },
     "metadata": {},
     "output_type": "display_data"
    }
   ],
   "source": [
    "plt.plot(test_loss,'r')"
   ]
  },
  {
   "cell_type": "markdown",
   "metadata": {
    "collapsed": true
   },
   "source": [
    "#### Demornamization"
   ]
  },
  {
   "cell_type": "code",
   "execution_count": 80,
   "metadata": {},
   "outputs": [],
   "source": [
    "rmse = np.sqrt(mse)"
   ]
  },
  {
   "cell_type": "code",
   "execution_count": 81,
   "metadata": {},
   "outputs": [],
   "source": [
    "rmse_denorm = (rmse * (df_new_test['Kt'].max() - df_new_test['Kt'].min()))+ df_new_test['Kt'].mean()"
   ]
  },
  {
   "cell_type": "code",
   "execution_count": 82,
   "metadata": {},
   "outputs": [
    {
     "data": {
      "text/plain": [
       "9.769484181106005"
      ]
     },
     "execution_count": 82,
     "metadata": {},
     "output_type": "execute_result"
    }
   ],
   "source": [
    "rmse_denorm"
   ]
  },
  {
   "cell_type": "code",
   "execution_count": 83,
   "metadata": {},
   "outputs": [
    {
     "data": {
      "text/plain": [
       "count    3915.000000\n",
       "mean        3.727410\n",
       "std        18.112833\n",
       "min        -0.025284\n",
       "25%         0.000251\n",
       "50%         0.270952\n",
       "75%         1.258475\n",
       "max       653.281210\n",
       "Name: Kt, dtype: float64"
      ]
     },
     "execution_count": 83,
     "metadata": {},
     "output_type": "execute_result"
    }
   ],
   "source": [
    "df_new_test['Kt'].describe()"
   ]
  },
  {
   "cell_type": "markdown",
   "metadata": {
    "collapsed": true
   },
   "source": [
    "### Saving train and test losses to a csv"
   ]
  },
  {
   "cell_type": "code",
   "execution_count": 84,
   "metadata": {},
   "outputs": [],
   "source": [
    "df_trainLoss = pd.DataFrame(data={'Train Loss':train_loss, 'iteration': train_iter}, columns=['Train Loss','iteration'])\n",
    "df_trainLoss.to_csv('RNN Paper Results/Exp1_PennState_TrainLoss.csv')\n",
    "df_testLoss = pd.DataFrame(data={'Test Loss':test_loss, 'iteration': test_iter}, columns=['Test Loss','iteration'])\n",
    "df_testLoss.to_csv('RNN Paper Results/Exp1_PenState_TestLoss.csv')"
   ]
  },
  {
   "cell_type": "code",
   "execution_count": null,
   "metadata": {},
   "outputs": [],
   "source": []
  }
 ],
 "metadata": {
  "anaconda-cloud": {},
  "kernelspec": {
   "display_name": "Python 3",
   "language": "python",
   "name": "python3"
  },
  "language_info": {
   "codemirror_mode": {
    "name": "ipython",
    "version": 3
   },
   "file_extension": ".py",
   "mimetype": "text/x-python",
   "name": "python",
   "nbconvert_exporter": "python",
   "pygments_lexer": "ipython3",
   "version": "3.6.1"
  }
 },
 "nbformat": 4,
 "nbformat_minor": 2
}
