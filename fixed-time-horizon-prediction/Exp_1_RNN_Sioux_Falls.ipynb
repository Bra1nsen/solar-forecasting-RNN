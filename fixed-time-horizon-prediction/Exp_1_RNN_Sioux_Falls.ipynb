{
 "cells": [
  {
   "cell_type": "code",
   "execution_count": 1,
   "metadata": {},
   "outputs": [],
   "source": [
    "import numpy as np\n",
    "import pandas as pd\n",
    "import datetime\n",
    "import glob\n",
    "import os.path\n",
    "from pandas.compat import StringIO"
   ]
  },
  {
   "cell_type": "markdown",
   "metadata": {},
   "source": [
    "### NREL Bird Model implementation: for obtaining clear sky GHI"
   ]
  },
  {
   "cell_type": "code",
   "execution_count": 2,
   "metadata": {},
   "outputs": [],
   "source": [
    "import itertools\n",
    "import matplotlib.pyplot as plt\n",
    "import pandas as pd\n",
    "import seaborn as sns"
   ]
  },
  {
   "cell_type": "code",
   "execution_count": 3,
   "metadata": {},
   "outputs": [],
   "source": [
    "%matplotlib inline\n",
    "sns.set_color_codes()"
   ]
  },
  {
   "cell_type": "code",
   "execution_count": 4,
   "metadata": {},
   "outputs": [],
   "source": [
    "import pvlib\n",
    "from pvlib import clearsky, atmosphere\n",
    "from pvlib.location import Location"
   ]
  },
  {
   "cell_type": "code",
   "execution_count": 5,
   "metadata": {},
   "outputs": [],
   "source": [
    "sif = Location(43.544,-96.73, 'US/Central', 448.086, 'Sioux Falls')"
   ]
  },
  {
   "cell_type": "code",
   "execution_count": 6,
   "metadata": {},
   "outputs": [],
   "source": [
    "times2009 = pd.DatetimeIndex(start='2009-01-01', end='2010-01-01', freq='1min',\n",
    "                        tz=sif.tz)   # 12 months of 2009 - For testing\n",
    "times2010and2011 = pd.DatetimeIndex(start='2010-01-01', end='2012-01-01', freq='1min',\n",
    "                        tz=sif.tz)   # 24 months of 2010 and 2011 - For training"
   ]
  },
  {
   "cell_type": "code",
   "execution_count": 7,
   "metadata": {},
   "outputs": [],
   "source": [
    "cs_2009 = sif.get_clearsky(times2009) \n",
    "cs_2010and2011 = sif.get_clearsky(times2010and2011) # ineichen with climatology table by default\n",
    "#cs_2011 = bvl.get_clearsky(times2011) "
   ]
  },
  {
   "cell_type": "code",
   "execution_count": 8,
   "metadata": {},
   "outputs": [],
   "source": [
    "cs_2009.drop(['dni','dhi'],axis=1, inplace=True) #updating the same dataframe by dropping two columns\n",
    "cs_2010and2011.drop(['dni','dhi'],axis=1, inplace=True) #updating the same dataframe by dropping two columns\n",
    "#cs_2011.drop(['dni','dhi'],axis=1, inplace=True) #updating the same dataframe by dropping two columns"
   ]
  },
  {
   "cell_type": "code",
   "execution_count": 9,
   "metadata": {},
   "outputs": [],
   "source": [
    "cs_2009.reset_index(inplace=True)\n",
    "cs_2010and2011.reset_index(inplace=True)\n",
    "#cs_2011.reset_index(inplace=True)"
   ]
  },
  {
   "cell_type": "code",
   "execution_count": 10,
   "metadata": {},
   "outputs": [],
   "source": [
    "cs_2009['index']=cs_2009['index'].apply(lambda x:x.to_datetime())\n",
    "cs_2009['year'] = cs_2009['index'].apply(lambda x:x.year)\n",
    "cs_2009['month'] = cs_2009['index'].apply(lambda x:x.month)\n",
    "cs_2009['day'] = cs_2009['index'].apply(lambda x:x.day)\n",
    "cs_2009['hour'] = cs_2009['index'].apply(lambda x:x.hour)\n",
    "cs_2009['min'] = cs_2009['index'].apply(lambda x:x.minute)"
   ]
  },
  {
   "cell_type": "code",
   "execution_count": 11,
   "metadata": {},
   "outputs": [],
   "source": [
    "cs_2010and2011['index']=cs_2010and2011['index'].apply(lambda x:x.to_datetime())\n",
    "cs_2010and2011['year'] = cs_2010and2011['index'].apply(lambda x:x.year)\n",
    "cs_2010and2011['month'] = cs_2010and2011['index'].apply(lambda x:x.month)\n",
    "cs_2010and2011['day'] = cs_2010and2011['index'].apply(lambda x:x.day)\n",
    "cs_2010and2011['hour'] = cs_2010and2011['index'].apply(lambda x:x.hour)\n",
    "cs_2010and2011['min'] = cs_2010and2011['index'].apply(lambda x:x.minute)"
   ]
  },
  {
   "cell_type": "code",
   "execution_count": 12,
   "metadata": {},
   "outputs": [
    {
     "name": "stdout",
     "output_type": "stream",
     "text": [
      "(525601, 7)\n",
      "(1051201, 7)\n"
     ]
    }
   ],
   "source": [
    "print(cs_2009.shape)\n",
    "print(cs_2010and2011.shape)\n",
    "#print(cs_2011.shape)"
   ]
  },
  {
   "cell_type": "code",
   "execution_count": 13,
   "metadata": {},
   "outputs": [],
   "source": [
    "cs_2009.drop(cs_2009.index[-1], inplace=True)\n",
    "cs_2010and2011.drop(cs_2010and2011.index[-1], inplace=True)\n",
    "#cs_2011.drop(cs_2011.index[-1], inplace=True)"
   ]
  },
  {
   "cell_type": "code",
   "execution_count": 14,
   "metadata": {},
   "outputs": [
    {
     "name": "stdout",
     "output_type": "stream",
     "text": [
      "(525600, 7)\n",
      "(1051200, 7)\n"
     ]
    }
   ],
   "source": [
    "print(cs_2009.shape)\n",
    "print(cs_2010and2011.shape)\n",
    "#print(cs_2011.shape)"
   ]
  },
  {
   "cell_type": "code",
   "execution_count": 15,
   "metadata": {},
   "outputs": [
    {
     "data": {
      "text/html": [
       "<div>\n",
       "<style scoped>\n",
       "    .dataframe tbody tr th:only-of-type {\n",
       "        vertical-align: middle;\n",
       "    }\n",
       "\n",
       "    .dataframe tbody tr th {\n",
       "        vertical-align: top;\n",
       "    }\n",
       "\n",
       "    .dataframe thead th {\n",
       "        text-align: right;\n",
       "    }\n",
       "</style>\n",
       "<table border=\"1\" class=\"dataframe\">\n",
       "  <thead>\n",
       "    <tr style=\"text-align: right;\">\n",
       "      <th></th>\n",
       "      <th>index</th>\n",
       "      <th>ghi</th>\n",
       "      <th>year</th>\n",
       "      <th>month</th>\n",
       "      <th>day</th>\n",
       "      <th>hour</th>\n",
       "      <th>min</th>\n",
       "    </tr>\n",
       "  </thead>\n",
       "  <tbody>\n",
       "    <tr>\n",
       "      <th>0</th>\n",
       "      <td>2010-01-01 00:00:00-06:00</td>\n",
       "      <td>0.0</td>\n",
       "      <td>2010</td>\n",
       "      <td>1</td>\n",
       "      <td>1</td>\n",
       "      <td>0</td>\n",
       "      <td>0</td>\n",
       "    </tr>\n",
       "    <tr>\n",
       "      <th>1</th>\n",
       "      <td>2010-01-01 00:01:00-06:00</td>\n",
       "      <td>0.0</td>\n",
       "      <td>2010</td>\n",
       "      <td>1</td>\n",
       "      <td>1</td>\n",
       "      <td>0</td>\n",
       "      <td>1</td>\n",
       "    </tr>\n",
       "    <tr>\n",
       "      <th>2</th>\n",
       "      <td>2010-01-01 00:02:00-06:00</td>\n",
       "      <td>0.0</td>\n",
       "      <td>2010</td>\n",
       "      <td>1</td>\n",
       "      <td>1</td>\n",
       "      <td>0</td>\n",
       "      <td>2</td>\n",
       "    </tr>\n",
       "    <tr>\n",
       "      <th>3</th>\n",
       "      <td>2010-01-01 00:03:00-06:00</td>\n",
       "      <td>0.0</td>\n",
       "      <td>2010</td>\n",
       "      <td>1</td>\n",
       "      <td>1</td>\n",
       "      <td>0</td>\n",
       "      <td>3</td>\n",
       "    </tr>\n",
       "    <tr>\n",
       "      <th>4</th>\n",
       "      <td>2010-01-01 00:04:00-06:00</td>\n",
       "      <td>0.0</td>\n",
       "      <td>2010</td>\n",
       "      <td>1</td>\n",
       "      <td>1</td>\n",
       "      <td>0</td>\n",
       "      <td>4</td>\n",
       "    </tr>\n",
       "  </tbody>\n",
       "</table>\n",
       "</div>"
      ],
      "text/plain": [
       "                      index  ghi  year  month  day  hour  min\n",
       "0 2010-01-01 00:00:00-06:00  0.0  2010      1    1     0    0\n",
       "1 2010-01-01 00:01:00-06:00  0.0  2010      1    1     0    1\n",
       "2 2010-01-01 00:02:00-06:00  0.0  2010      1    1     0    2\n",
       "3 2010-01-01 00:03:00-06:00  0.0  2010      1    1     0    3\n",
       "4 2010-01-01 00:04:00-06:00  0.0  2010      1    1     0    4"
      ]
     },
     "execution_count": 15,
     "metadata": {},
     "output_type": "execute_result"
    }
   ],
   "source": [
    "cs_2010and2011.head()"
   ]
  },
  {
   "cell_type": "markdown",
   "metadata": {},
   "source": [
    "### Import files from each year in a separate dataframe"
   ]
  },
  {
   "cell_type": "markdown",
   "metadata": {
    "collapsed": true
   },
   "source": [
    "\n",
    "- year            integer\t year, i.e., 1995\n",
    "- jday            integer\t Julian day (1 through 365 [or 366])\n",
    "- month           integer\t number of the month (1-12)\n",
    "- day             integer\t day of the month(1-31)\n",
    "- hour            integer\t hour of the day (0-23)\n",
    "- min             integer\t minute of the hour (0-59)\n",
    "- dt              real\t decimal time (hour.decimalminutes, e.g., 23.5 = 2330)\n",
    "- zen             real\t solar zenith angle (degrees)\n",
    "- dw_solar        real\t downwelling global solar (Watts m^-2)\n",
    "- uw_solar        real\t upwelling global solar (Watts m^-2)\n",
    "- direct_n        real\t direct-normal solar (Watts m^-2)\n",
    "- diffuse         real\t downwelling diffuse solar (Watts m^-2)\n",
    "- dw_ir           real\t downwelling thermal infrared (Watts m^-2)\n",
    "- dw_casetemp     real\t downwelling IR case temp. (K)\n",
    "- dw_dometemp     real\t downwelling IR dome temp. (K)\n",
    "- uw_ir           real\t upwelling thermal infrared (Watts m^-2)\n",
    "- uw_casetemp     real\t upwelling IR case temp. (K)\n",
    "- uw_dometemp     real\t upwelling IR dome temp. (K)\n",
    "- uvb             real\t global UVB (milliWatts m^-2)\n",
    "- par             real\t photosynthetically active radiation (Watts m^-2)\n",
    "- netsolar        real\t net solar (dw_solar - uw_solar) (Watts m^-2)\n",
    "- netir           real\t net infrared (dw_ir - uw_ir) (Watts m^-2)\n",
    "- totalnet        real\t net radiation (netsolar+netir) (Watts m^-2)\n",
    "- temp            real\t 10-meter air temperature (?C)\n",
    "- rh              real\t relative humidity (%)\n",
    "- windspd         real\t wind speed (ms^-1)\n",
    "- winddir         real\t wind direction (degrees, clockwise from north)\n",
    "- pressure        real\t station pressure (mb)\n"
   ]
  },
  {
   "cell_type": "code",
   "execution_count": 16,
   "metadata": {},
   "outputs": [],
   "source": [
    "cols = ['year', 'jday', 'month', 'day','hour','min','dt','zen','dw_solar','dw_solar_QC','uw_solar',\n",
    "       'uw_solar_QC', 'direct_n','direct_n_QC','diffuse', 'diffuse_QC', 'dw_ir', 'dw_ir_QC', 'dw_casetemp',\n",
    "       'dw_casetemp_QC', 'dw_dometemp','dw_dometemp_QC','uw_ir', 'uw_ir_QC', 'uw_casetemp','uw_casetemp_QC',\n",
    "       'uw_dometemp','uw_dometemp_QC','uvb','uvb_QC','par','par_QC','netsolar','netsolar_QC','netir','netir_QC',\n",
    "       'totalnet','totalnet_QC','temp','temp_QC','rh','rh_QC','windspd','windspd_QC','winddir','winddir_QC',\n",
    "       'pressure','pressure_QC']"
   ]
  },
  {
   "cell_type": "code",
   "execution_count": 17,
   "metadata": {},
   "outputs": [
    {
     "data": {
      "text/plain": [
       "(1049906, 48)"
      ]
     },
     "execution_count": 17,
     "metadata": {},
     "output_type": "execute_result"
    }
   ],
   "source": [
    "path = r'.\\\\data\\\\Sioux_Falls\\\\Exp_1_train'\n",
    "all_files = glob.glob(path + \"/*.dat\")\n",
    "all_files.sort()\n",
    "\n",
    "df_big_train = pd.concat([pd.read_csv(f, skipinitialspace = True, quotechar = '\"',skiprows=(2),delimiter=' ', \n",
    "                 index_col=False,header=None, names=cols) for f in all_files],ignore_index=True)\n",
    "df_big_train.shape"
   ]
  },
  {
   "cell_type": "code",
   "execution_count": 18,
   "metadata": {},
   "outputs": [
    {
     "data": {
      "text/plain": [
       "(524982, 48)"
      ]
     },
     "execution_count": 18,
     "metadata": {},
     "output_type": "execute_result"
    }
   ],
   "source": [
    "path = r'.\\\\data\\\\Sioux_Falls\\\\Exp_1_test'\n",
    "all_files = glob.glob(path + \"/*.dat\")\n",
    "all_files.sort()\n",
    "\n",
    "df_big_test = pd.concat((pd.read_csv(f, skipinitialspace = True, quotechar = '\"',skiprows=(2),delimiter=' ', \n",
    "                 index_col=False,header=None, names=cols) for f in all_files),ignore_index=True)\n",
    "df_big_test.shape"
   ]
  },
  {
   "cell_type": "code",
   "execution_count": 19,
   "metadata": {},
   "outputs": [
    {
     "data": {
      "text/plain": [
       "(585, 48)"
      ]
     },
     "execution_count": 19,
     "metadata": {},
     "output_type": "execute_result"
    }
   ],
   "source": [
    "df_big_test[df_big_test['dw_solar']==-9999.9].shape"
   ]
  },
  {
   "cell_type": "markdown",
   "metadata": {},
   "source": [
    "### Merging Clear Sky GHI And the big dataframe"
   ]
  },
  {
   "cell_type": "code",
   "execution_count": 20,
   "metadata": {},
   "outputs": [
    {
     "data": {
      "text/plain": [
       "(1049906, 50)"
      ]
     },
     "execution_count": 20,
     "metadata": {},
     "output_type": "execute_result"
    }
   ],
   "source": [
    "df_train = pd.merge(df_big_train, cs_2010and2011, on=['year','month','day','hour','min'])\n",
    "df_train.shape"
   ]
  },
  {
   "cell_type": "code",
   "execution_count": 21,
   "metadata": {},
   "outputs": [
    {
     "data": {
      "text/plain": [
       "(524982, 50)"
      ]
     },
     "execution_count": 21,
     "metadata": {},
     "output_type": "execute_result"
    }
   ],
   "source": [
    "df_test = pd.merge(df_big_test, cs_2009, on=['year','month','day','hour','min'])\n",
    "df_test.shape"
   ]
  },
  {
   "cell_type": "code",
   "execution_count": 22,
   "metadata": {},
   "outputs": [],
   "source": [
    "df_train.drop(['index'],axis=1, inplace=True) #updating the same dataframe by dropping the index columns from clear sky model\n",
    "df_test.drop(['index'], axis=1, inplace=True)"
   ]
  },
  {
   "cell_type": "code",
   "execution_count": 23,
   "metadata": {},
   "outputs": [
    {
     "data": {
      "text/plain": [
       "(1049906, 49)"
      ]
     },
     "execution_count": 23,
     "metadata": {},
     "output_type": "execute_result"
    }
   ],
   "source": [
    "df_train.shape"
   ]
  },
  {
   "cell_type": "markdown",
   "metadata": {},
   "source": [
    "### Managing missing values"
   ]
  },
  {
   "cell_type": "code",
   "execution_count": 24,
   "metadata": {},
   "outputs": [],
   "source": [
    "# Resetting index\n",
    "df_train.reset_index(drop=True, inplace=True)\n",
    "df_test.reset_index(drop=True, inplace=True)"
   ]
  },
  {
   "cell_type": "code",
   "execution_count": 25,
   "metadata": {},
   "outputs": [],
   "source": [
    "# Dropping rows with two or more -9999.9 values in columns"
   ]
  },
  {
   "cell_type": "code",
   "execution_count": 26,
   "metadata": {},
   "outputs": [
    {
     "data": {
      "text/plain": [
       "(1048493, 49)"
      ]
     },
     "execution_count": 26,
     "metadata": {},
     "output_type": "execute_result"
    }
   ],
   "source": [
    "# Step1: Get indices of all rows with 2 or more -999\n",
    "missing_data_indices = np.where((df_train <=-9999.9).apply(sum, axis=1)>=2)[0]\n",
    "# Step2: Drop those indices\n",
    "df_train.drop(missing_data_indices, axis=0, inplace=True)\n",
    "# Checking that the rows are dropped\n",
    "df_train.shape"
   ]
  },
  {
   "cell_type": "code",
   "execution_count": 27,
   "metadata": {},
   "outputs": [
    {
     "data": {
      "text/plain": [
       "(524310, 49)"
      ]
     },
     "execution_count": 27,
     "metadata": {},
     "output_type": "execute_result"
    }
   ],
   "source": [
    "missing_data_indices_test = np.where((df_test <= -9999.9).apply(sum, axis=1)>=2)[0]\n",
    "df_test.drop(missing_data_indices_test, axis=0, inplace=True)\n",
    "df_test.shape"
   ]
  },
  {
   "cell_type": "code",
   "execution_count": 28,
   "metadata": {},
   "outputs": [],
   "source": [
    "# For the rows with only one cell as -9999.9, replacing this cell with the mean of the column"
   ]
  },
  {
   "cell_type": "markdown",
   "metadata": {},
   "source": [
    "#### First resetting index after dropping rows in the previous part of the code"
   ]
  },
  {
   "cell_type": "code",
   "execution_count": 29,
   "metadata": {},
   "outputs": [],
   "source": [
    "# 2nd time - Reseting Index\n",
    "df_train.reset_index(drop=True, inplace=True)\n",
    "df_test.reset_index(drop=True, inplace=True)"
   ]
  },
  {
   "cell_type": "code",
   "execution_count": 30,
   "metadata": {},
   "outputs": [],
   "source": [
    "one_miss_train_idx = np.where((df_train <=-9999.9).apply(sum, axis=1)==1)[0]"
   ]
  },
  {
   "cell_type": "code",
   "execution_count": 31,
   "metadata": {},
   "outputs": [
    {
     "data": {
      "text/plain": [
       "6872"
      ]
     },
     "execution_count": 31,
     "metadata": {},
     "output_type": "execute_result"
    }
   ],
   "source": [
    "len(one_miss_train_idx)"
   ]
  },
  {
   "cell_type": "code",
   "execution_count": 32,
   "metadata": {},
   "outputs": [
    {
     "data": {
      "text/plain": [
       "(1048493, 49)"
      ]
     },
     "execution_count": 32,
     "metadata": {},
     "output_type": "execute_result"
    }
   ],
   "source": [
    "df_train.shape"
   ]
  },
  {
   "cell_type": "code",
   "execution_count": 33,
   "metadata": {},
   "outputs": [
    {
     "name": "stderr",
     "output_type": "stream",
     "text": [
      "C:\\Users\\s269596\\AppData\\Local\\Continuum\\Anaconda3\\lib\\site-packages\\pandas\\core\\indexing.py:194: SettingWithCopyWarning: \n",
      "A value is trying to be set on a copy of a slice from a DataFrame\n",
      "\n",
      "See the caveats in the documentation: http://pandas.pydata.org/pandas-docs/stable/indexing.html#indexing-view-versus-copy\n",
      "  self._setitem_with_indexer(indexer, value)\n"
     ]
    }
   ],
   "source": [
    "col_names = df_train.columns\n",
    "from collections import defaultdict\n",
    "stats = defaultdict(int)\n",
    "total_single_missing_values = 0\n",
    "for name in col_names:\n",
    "    col_mean = df_train[~(df_train[name] == -9999.9)][name].mean()\n",
    "    missing_indices = np.where((df_train[name] == -9999.9))\n",
    "    stats[name] = len(missing_indices[0])\n",
    "    df_train[name].loc[missing_indices] = col_mean\n",
    "    total_single_missing_values += sum(df_train[name] == -9999.9)\n",
    "    "
   ]
  },
  {
   "cell_type": "code",
   "execution_count": 34,
   "metadata": {},
   "outputs": [],
   "source": [
    "df_col_min = df_train.apply(min, axis=0)\n",
    "df_col_max = df_train.apply(max, axis =0)\n",
    "#print(df_col_min, df_col_max)"
   ]
  },
  {
   "cell_type": "code",
   "execution_count": 35,
   "metadata": {},
   "outputs": [],
   "source": [
    "train = np.where((df_train <=-9999.9).apply(sum, axis=1)==1)[0]"
   ]
  },
  {
   "cell_type": "code",
   "execution_count": 36,
   "metadata": {},
   "outputs": [
    {
     "data": {
      "text/plain": [
       "0"
      ]
     },
     "execution_count": 36,
     "metadata": {},
     "output_type": "execute_result"
    }
   ],
   "source": [
    "len(train)"
   ]
  },
  {
   "cell_type": "code",
   "execution_count": 37,
   "metadata": {},
   "outputs": [],
   "source": [
    "# doing the same thing on test dataset"
   ]
  },
  {
   "cell_type": "code",
   "execution_count": 38,
   "metadata": {},
   "outputs": [
    {
     "data": {
      "text/plain": [
       "1576"
      ]
     },
     "execution_count": 38,
     "metadata": {},
     "output_type": "execute_result"
    }
   ],
   "source": [
    "one_miss_test_idx = np.where((df_test <=-9999.9).apply(sum, axis=1)==1)[0]\n",
    "len(one_miss_test_idx)"
   ]
  },
  {
   "cell_type": "code",
   "execution_count": 39,
   "metadata": {},
   "outputs": [
    {
     "name": "stderr",
     "output_type": "stream",
     "text": [
      "C:\\Users\\s269596\\AppData\\Local\\Continuum\\Anaconda3\\lib\\site-packages\\pandas\\core\\indexing.py:194: SettingWithCopyWarning: \n",
      "A value is trying to be set on a copy of a slice from a DataFrame\n",
      "\n",
      "See the caveats in the documentation: http://pandas.pydata.org/pandas-docs/stable/indexing.html#indexing-view-versus-copy\n",
      "  self._setitem_with_indexer(indexer, value)\n"
     ]
    }
   ],
   "source": [
    "col_names_test = df_test.columns\n",
    "from collections import defaultdict\n",
    "stats_test = defaultdict(int)\n",
    "total_single_missing_values_test = 0\n",
    "for name in col_names_test:\n",
    "    col_mean = df_test[~(df_test[name] == -9999.9)][name].mean()\n",
    "    missing_indices = np.where((df_test[name] == -9999.9))\n",
    "    stats_test[name] = len(missing_indices[0])\n",
    "    df_test[name].loc[missing_indices] = col_mean\n",
    "    total_single_missing_values_test += sum(df_test[name] == -9999.9)\n",
    "    "
   ]
  },
  {
   "cell_type": "code",
   "execution_count": 40,
   "metadata": {},
   "outputs": [],
   "source": [
    "test = np.where((df_test <=-9999.9).apply(sum, axis=1)==1)[0]"
   ]
  },
  {
   "cell_type": "code",
   "execution_count": 41,
   "metadata": {},
   "outputs": [
    {
     "data": {
      "text/plain": [
       "0"
      ]
     },
     "execution_count": 41,
     "metadata": {},
     "output_type": "execute_result"
    }
   ],
   "source": [
    "len(test)"
   ]
  },
  {
   "cell_type": "code",
   "execution_count": 42,
   "metadata": {},
   "outputs": [
    {
     "data": {
      "text/plain": [
       "(1048493, 49)"
      ]
     },
     "execution_count": 42,
     "metadata": {},
     "output_type": "execute_result"
    }
   ],
   "source": [
    "df_train.shape"
   ]
  },
  {
   "cell_type": "code",
   "execution_count": 43,
   "metadata": {},
   "outputs": [
    {
     "data": {
      "text/plain": [
       "(524310, 49)"
      ]
     },
     "execution_count": 43,
     "metadata": {},
     "output_type": "execute_result"
    }
   ],
   "source": [
    "df_test.shape"
   ]
  },
  {
   "cell_type": "markdown",
   "metadata": {},
   "source": [
    "### Exploratory Data Analysis"
   ]
  },
  {
   "cell_type": "code",
   "execution_count": 44,
   "metadata": {},
   "outputs": [],
   "source": [
    "dw_solar_everyday = df_test.groupby(['jday'])['dw_solar'].mean()\n",
    "ghi_everyday = df_test.groupby(['jday'])['ghi'].mean()\n",
    "j_day = df_test['jday'].unique()"
   ]
  },
  {
   "cell_type": "code",
   "execution_count": 45,
   "metadata": {},
   "outputs": [
    {
     "data": {
      "image/png": "[encoded data removed]",
      "text/plain": [
       "<Figure size 432x288 with 1 Axes>"
      ]
     },
     "metadata": {},
     "output_type": "display_data"
    }
   ],
   "source": [
    "fig = plt.figure()\n",
    "\n",
    "axes1 = fig.add_axes([0.1,0.1,0.8,0.8])\n",
    "#axes2 = fig.add_axes([0.1,0.1,0.8,0.8])\n",
    "\n",
    "axes1.scatter(j_day,dw_solar_everyday,label='Observed dw_solar',color='red')\n",
    "axes1.scatter(j_day, ghi_everyday, label='Clear Sky GHI',color='green')\n",
    "\n",
    "axes1.set_xlabel('Days')\n",
    "axes1.set_ylabel('Solar Irradiance (Watts /m^2)')\n",
    "axes1.set_title('Solar Irradiance - Test Year 2009')\n",
    "axes1.legend(loc='best')\n",
    "\n",
    "fig.savefig('Figure2.png', bbox_inches = 'tight')"
   ]
  },
  {
   "cell_type": "code",
   "execution_count": 46,
   "metadata": {},
   "outputs": [
    {
     "name": "stderr",
     "output_type": "stream",
     "text": [
      "C:\\Users\\s269596\\AppData\\Local\\Continuum\\Anaconda3\\lib\\site-packages\\matplotlib\\axes\\_axes.py:6462: UserWarning: The 'normed' kwarg is deprecated, and has been replaced by the 'density' kwarg.\n",
      "  warnings.warn(\"The 'normed' kwarg is deprecated, and has been \"\n"
     ]
    },
    {
     "data": {
      "image/png": "[encoded data removed]",
      "text/plain": [
       "<Figure size 432x432 with 3 Axes>"
      ]
     },
     "metadata": {},
     "output_type": "display_data"
    }
   ],
   "source": [
    "sns.jointplot(x=dw_solar_everyday,y=ghi_everyday,kind='reg')\n",
    "#plt.title('observed dw_solar vs clear sky ghi')\n",
    "plt.xlabel('Observed global downwelling solar (Watts/m^2)')\n",
    "plt.ylabel('Clear Sky GHI (Watts/m^2)')\n",
    "plt.savefig('Figure2.png', bbox_inches='tight')"
   ]
  },
  {
   "cell_type": "markdown",
   "metadata": {},
   "source": [
    "### making the Kt (clear sky index at time t) column by first removing rows with ghi==0"
   ]
  },
  {
   "cell_type": "code",
   "execution_count": 47,
   "metadata": {},
   "outputs": [],
   "source": [
    "df_train = df_train[df_train['ghi']!=0]\n",
    "df_test = df_test[df_test['ghi']!=0]\n",
    "df_train['Kt'] = df_train['dw_solar']/df_train['ghi']\n",
    "df_test['Kt'] = df_test['dw_solar']/df_test['ghi']"
   ]
  },
  {
   "cell_type": "code",
   "execution_count": 48,
   "metadata": {},
   "outputs": [],
   "source": [
    "df_train.reset_index(inplace=True)\n",
    "df_test.reset_index(inplace=True)"
   ]
  },
  {
   "cell_type": "code",
   "execution_count": 49,
   "metadata": {},
   "outputs": [
    {
     "name": "stdout",
     "output_type": "stream",
     "text": [
      "test Kt max: 16815.23562858055\n",
      "test Kt min: -59.82928662131299\n",
      "test Kt mean: 2.5854594971725517\n",
      "\n",
      "\n",
      "train Kt max: 35403.71260380253\n",
      "train Kt min: -1080.8061639132102\n",
      "train Kt mean: 2.849421609595172\n"
     ]
    }
   ],
   "source": [
    "print(\"test Kt max: \"+str(df_test['Kt'].max()))\n",
    "print(\"test Kt min: \"+str(df_test['Kt'].min()))\n",
    "print(\"test Kt mean: \"+str(df_test['Kt'].mean()))\n",
    "print(\"\\n\")\n",
    "print(\"train Kt max: \"+str(df_train['Kt'].max()))\n",
    "print(\"train Kt min: \"+str(df_train['Kt'].min()))\n",
    "print(\"train Kt mean: \"+str(df_train['Kt'].mean()))"
   ]
  },
  {
   "cell_type": "code",
   "execution_count": 50,
   "metadata": {},
   "outputs": [
    {
     "data": {
      "text/plain": [
       "[<matplotlib.lines.Line2D at 0xba43d30>]"
      ]
     },
     "execution_count": 50,
     "metadata": {},
     "output_type": "execute_result"
    },
    {
     "data": {
      "image/png": "[encoded data removed]",
      "text/plain": [
       "<Figure size 432x288 with 1 Axes>"
      ]
     },
     "metadata": {},
     "output_type": "display_data"
    }
   ],
   "source": [
    "plt.plot(df_train['Kt'])"
   ]
  },
  {
   "cell_type": "code",
   "execution_count": 51,
   "metadata": {},
   "outputs": [
    {
     "data": {
      "text/plain": [
       "[<matplotlib.lines.Line2D at 0xa36b4a8>]"
      ]
     },
     "execution_count": 51,
     "metadata": {},
     "output_type": "execute_result"
    },
    {
     "data": {
      "image/png": "[encoded data removed]",
      "text/plain": [
       "<Figure size 432x288 with 1 Axes>"
      ]
     },
     "metadata": {},
     "output_type": "display_data"
    }
   ],
   "source": [
    "plt.plot(df_test['Kt'])"
   ]
  },
  {
   "cell_type": "code",
   "execution_count": 52,
   "metadata": {},
   "outputs": [],
   "source": [
    "df_train= df_train[df_train['Kt']< 5000]\n",
    "df_train= df_train[df_train['Kt']> -1000]\n",
    "df_test= df_test[df_test['Kt']< 5000]\n",
    "df_test= df_test[df_test['Kt']> -1000]"
   ]
  },
  {
   "cell_type": "markdown",
   "metadata": {},
   "source": [
    "#### Group the data (train dataframe)"
   ]
  },
  {
   "cell_type": "code",
   "execution_count": 53,
   "metadata": {},
   "outputs": [],
   "source": [
    "zen = df_train.groupby(['year','month','day','hour'])['zen'].mean()\n",
    "dw_solar = df_train.groupby(['year','month','day','hour'])['dw_solar'].mean()\n",
    "uw_solar = df_train.groupby(['year','month','day','hour'])['uw_solar'].mean()\n",
    "direct_n = df_train.groupby(['year','month','day','hour'])['direct_n'].mean()\n",
    "diffuse = df_train.groupby(['year','month','day','hour'])['diffuse'].mean()\n",
    "dw_ir = df_train.groupby(['year','month','day','hour'])['dw_ir'].mean()\n",
    "dw_casetemp = df_train.groupby(['year','month','day','hour'])['dw_casetemp'].mean()\n",
    "dw_dometemp = df_train.groupby(['year','month','day','hour'])['dw_dometemp'].mean()\n",
    "uw_ir = df_train.groupby(['year','month','day','hour'])['uw_ir'].mean()\n",
    "uw_casetemp = df_train.groupby(['year','month','day','hour'])['uw_casetemp'].mean()\n",
    "uw_dometemp = df_train.groupby(['year','month','day','hour'])['uw_dometemp'].mean()\n",
    "uvb = df_train.groupby(['year','month','day','hour'])['uvb'].mean()\n",
    "par = df_train.groupby(['year','month','day','hour'])['par'].mean()\n",
    "netsolar = df_train.groupby(['year','month','day','hour'])['netsolar'].mean()\n",
    "netir = df_train.groupby(['year','month','day','hour'])['netir'].mean()\n",
    "totalnet = df_train.groupby(['year','month','day','hour'])['totalnet'].mean()\n",
    "temp = df_train.groupby(['year','month','day','hour'])['temp'].mean()\n",
    "rh = df_train.groupby(['year','month','day','hour'])['rh'].mean()\n",
    "windspd = df_train.groupby(['year','month','day','hour'])['windspd'].mean()\n",
    "winddir = df_train.groupby(['year','month','day','hour'])['winddir'].mean()\n",
    "pressure = df_train.groupby(['year','month','day','hour'])['pressure'].mean()\n",
    "ghi = df_train.groupby(['year','month','day','hour'])['ghi'].mean()\n",
    "Kt = df_train.groupby(['year','month','day','hour'])['Kt'].mean()"
   ]
  },
  {
   "cell_type": "code",
   "execution_count": 54,
   "metadata": {},
   "outputs": [],
   "source": [
    "df_new_train = pd.concat([zen,dw_solar,uw_solar,direct_n,diffuse,dw_ir,dw_casetemp,dw_dometemp,uw_ir,uw_casetemp,uw_dometemp,\n",
    "                    uvb,par,netsolar,netir,totalnet,temp,rh,windspd,winddir,pressure,ghi,Kt], axis=1)"
   ]
  },
  {
   "cell_type": "code",
   "execution_count": 55,
   "metadata": {},
   "outputs": [
    {
     "data": {
      "text/html": [
       "<div>\n",
       "<style scoped>\n",
       "    .dataframe tbody tr th:only-of-type {\n",
       "        vertical-align: middle;\n",
       "    }\n",
       "\n",
       "    .dataframe tbody tr th {\n",
       "        vertical-align: top;\n",
       "    }\n",
       "\n",
       "    .dataframe thead th {\n",
       "        text-align: right;\n",
       "    }\n",
       "</style>\n",
       "<table border=\"1\" class=\"dataframe\">\n",
       "  <thead>\n",
       "    <tr style=\"text-align: right;\">\n",
       "      <th></th>\n",
       "      <th></th>\n",
       "      <th></th>\n",
       "      <th></th>\n",
       "      <th>zen</th>\n",
       "      <th>dw_solar</th>\n",
       "      <th>uw_solar</th>\n",
       "      <th>direct_n</th>\n",
       "      <th>diffuse</th>\n",
       "      <th>dw_ir</th>\n",
       "      <th>dw_casetemp</th>\n",
       "      <th>dw_dometemp</th>\n",
       "      <th>uw_ir</th>\n",
       "      <th>uw_casetemp</th>\n",
       "      <th>...</th>\n",
       "      <th>netsolar</th>\n",
       "      <th>netir</th>\n",
       "      <th>totalnet</th>\n",
       "      <th>temp</th>\n",
       "      <th>rh</th>\n",
       "      <th>windspd</th>\n",
       "      <th>winddir</th>\n",
       "      <th>pressure</th>\n",
       "      <th>ghi</th>\n",
       "      <th>Kt</th>\n",
       "    </tr>\n",
       "    <tr>\n",
       "      <th>year</th>\n",
       "      <th>month</th>\n",
       "      <th>day</th>\n",
       "      <th>hour</th>\n",
       "      <th></th>\n",
       "      <th></th>\n",
       "      <th></th>\n",
       "      <th></th>\n",
       "      <th></th>\n",
       "      <th></th>\n",
       "      <th></th>\n",
       "      <th></th>\n",
       "      <th></th>\n",
       "      <th></th>\n",
       "      <th></th>\n",
       "      <th></th>\n",
       "      <th></th>\n",
       "      <th></th>\n",
       "      <th></th>\n",
       "      <th></th>\n",
       "      <th></th>\n",
       "      <th></th>\n",
       "      <th></th>\n",
       "      <th></th>\n",
       "      <th></th>\n",
       "    </tr>\n",
       "  </thead>\n",
       "  <tbody>\n",
       "    <tr>\n",
       "      <th rowspan=\"5\" valign=\"top\">2010.0</th>\n",
       "      <th rowspan=\"5\" valign=\"top\">1.0</th>\n",
       "      <th rowspan=\"5\" valign=\"top\">1.0</th>\n",
       "      <th>8.0</th>\n",
       "      <td>147.640000</td>\n",
       "      <td>-3.319298</td>\n",
       "      <td>-0.385965</td>\n",
       "      <td>2.254386</td>\n",
       "      <td>0.217544</td>\n",
       "      <td>240.949123</td>\n",
       "      <td>257.463158</td>\n",
       "      <td>257.122807</td>\n",
       "      <td>241.624561</td>\n",
       "      <td>255.159649</td>\n",
       "      <td>...</td>\n",
       "      <td>0.0</td>\n",
       "      <td>-1.271930</td>\n",
       "      <td>-1.271930</td>\n",
       "      <td>-17.843860</td>\n",
       "      <td>86.363158</td>\n",
       "      <td>3.459649</td>\n",
       "      <td>322.194737</td>\n",
       "      <td>971.714035</td>\n",
       "      <td>56.746103</td>\n",
       "      <td>-0.069423</td>\n",
       "    </tr>\n",
       "    <tr>\n",
       "      <th>9.0</th>\n",
       "      <td>137.909167</td>\n",
       "      <td>-3.186667</td>\n",
       "      <td>-0.033333</td>\n",
       "      <td>1.803333</td>\n",
       "      <td>0.180000</td>\n",
       "      <td>245.716667</td>\n",
       "      <td>258.640000</td>\n",
       "      <td>258.251667</td>\n",
       "      <td>245.268333</td>\n",
       "      <td>256.210000</td>\n",
       "      <td>...</td>\n",
       "      <td>0.0</td>\n",
       "      <td>-0.618333</td>\n",
       "      <td>-0.618333</td>\n",
       "      <td>-16.991667</td>\n",
       "      <td>84.353333</td>\n",
       "      <td>3.388333</td>\n",
       "      <td>340.455000</td>\n",
       "      <td>972.018333</td>\n",
       "      <td>173.258555</td>\n",
       "      <td>-0.019518</td>\n",
       "    </tr>\n",
       "    <tr>\n",
       "      <th>10.0</th>\n",
       "      <td>127.232667</td>\n",
       "      <td>-3.213333</td>\n",
       "      <td>0.013333</td>\n",
       "      <td>1.315000</td>\n",
       "      <td>0.186667</td>\n",
       "      <td>234.545000</td>\n",
       "      <td>258.533333</td>\n",
       "      <td>258.103333</td>\n",
       "      <td>243.210000</td>\n",
       "      <td>256.148333</td>\n",
       "      <td>...</td>\n",
       "      <td>0.0</td>\n",
       "      <td>-8.660000</td>\n",
       "      <td>-8.660000</td>\n",
       "      <td>-17.196667</td>\n",
       "      <td>84.298333</td>\n",
       "      <td>3.696667</td>\n",
       "      <td>342.185000</td>\n",
       "      <td>972.093333</td>\n",
       "      <td>291.141970</td>\n",
       "      <td>-0.011144</td>\n",
       "    </tr>\n",
       "    <tr>\n",
       "      <th>11.0</th>\n",
       "      <td>116.433167</td>\n",
       "      <td>-3.265000</td>\n",
       "      <td>0.000000</td>\n",
       "      <td>1.536667</td>\n",
       "      <td>0.241667</td>\n",
       "      <td>225.940000</td>\n",
       "      <td>258.170000</td>\n",
       "      <td>257.753333</td>\n",
       "      <td>240.096667</td>\n",
       "      <td>255.845000</td>\n",
       "      <td>...</td>\n",
       "      <td>0.0</td>\n",
       "      <td>-14.153333</td>\n",
       "      <td>-14.153333</td>\n",
       "      <td>-17.428333</td>\n",
       "      <td>84.266667</td>\n",
       "      <td>3.226667</td>\n",
       "      <td>335.816667</td>\n",
       "      <td>972.341667</td>\n",
       "      <td>369.552873</td>\n",
       "      <td>-0.008872</td>\n",
       "    </tr>\n",
       "    <tr>\n",
       "      <th>12.0</th>\n",
       "      <td>105.860667</td>\n",
       "      <td>-3.126667</td>\n",
       "      <td>-0.001667</td>\n",
       "      <td>1.645000</td>\n",
       "      <td>0.226667</td>\n",
       "      <td>240.656667</td>\n",
       "      <td>258.306667</td>\n",
       "      <td>257.915000</td>\n",
       "      <td>243.390000</td>\n",
       "      <td>255.910000</td>\n",
       "      <td>...</td>\n",
       "      <td>0.0</td>\n",
       "      <td>-2.736667</td>\n",
       "      <td>-2.736667</td>\n",
       "      <td>-17.298333</td>\n",
       "      <td>84.818333</td>\n",
       "      <td>3.295000</td>\n",
       "      <td>331.678333</td>\n",
       "      <td>972.923333</td>\n",
       "      <td>397.404717</td>\n",
       "      <td>-0.007868</td>\n",
       "    </tr>\n",
       "  </tbody>\n",
       "</table>\n",
       "<p>5 rows × 23 columns</p>\n",
       "</div>"
      ],
      "text/plain": [
       "                              zen  dw_solar  uw_solar  direct_n   diffuse  \\\n",
       "year   month day hour                                                       \n",
       "2010.0 1.0   1.0 8.0   147.640000 -3.319298 -0.385965  2.254386  0.217544   \n",
       "                 9.0   137.909167 -3.186667 -0.033333  1.803333  0.180000   \n",
       "                 10.0  127.232667 -3.213333  0.013333  1.315000  0.186667   \n",
       "                 11.0  116.433167 -3.265000  0.000000  1.536667  0.241667   \n",
       "                 12.0  105.860667 -3.126667 -0.001667  1.645000  0.226667   \n",
       "\n",
       "                            dw_ir  dw_casetemp  dw_dometemp       uw_ir  \\\n",
       "year   month day hour                                                     \n",
       "2010.0 1.0   1.0 8.0   240.949123   257.463158   257.122807  241.624561   \n",
       "                 9.0   245.716667   258.640000   258.251667  245.268333   \n",
       "                 10.0  234.545000   258.533333   258.103333  243.210000   \n",
       "                 11.0  225.940000   258.170000   257.753333  240.096667   \n",
       "                 12.0  240.656667   258.306667   257.915000  243.390000   \n",
       "\n",
       "                       uw_casetemp    ...     netsolar      netir   totalnet  \\\n",
       "year   month day hour                 ...                                      \n",
       "2010.0 1.0   1.0 8.0    255.159649    ...          0.0  -1.271930  -1.271930   \n",
       "                 9.0    256.210000    ...          0.0  -0.618333  -0.618333   \n",
       "                 10.0   256.148333    ...          0.0  -8.660000  -8.660000   \n",
       "                 11.0   255.845000    ...          0.0 -14.153333 -14.153333   \n",
       "                 12.0   255.910000    ...          0.0  -2.736667  -2.736667   \n",
       "\n",
       "                            temp         rh   windspd     winddir    pressure  \\\n",
       "year   month day hour                                                           \n",
       "2010.0 1.0   1.0 8.0  -17.843860  86.363158  3.459649  322.194737  971.714035   \n",
       "                 9.0  -16.991667  84.353333  3.388333  340.455000  972.018333   \n",
       "                 10.0 -17.196667  84.298333  3.696667  342.185000  972.093333   \n",
       "                 11.0 -17.428333  84.266667  3.226667  335.816667  972.341667   \n",
       "                 12.0 -17.298333  84.818333  3.295000  331.678333  972.923333   \n",
       "\n",
       "                              ghi        Kt  \n",
       "year   month day hour                        \n",
       "2010.0 1.0   1.0 8.0    56.746103 -0.069423  \n",
       "                 9.0   173.258555 -0.019518  \n",
       "                 10.0  291.141970 -0.011144  \n",
       "                 11.0  369.552873 -0.008872  \n",
       "                 12.0  397.404717 -0.007868  \n",
       "\n",
       "[5 rows x 23 columns]"
      ]
     },
     "execution_count": 55,
     "metadata": {},
     "output_type": "execute_result"
    }
   ],
   "source": [
    "df_new_train.head()"
   ]
  },
  {
   "cell_type": "markdown",
   "metadata": {},
   "source": [
    "#### Groupdata - test dataframe"
   ]
  },
  {
   "cell_type": "code",
   "execution_count": 56,
   "metadata": {},
   "outputs": [],
   "source": [
    "test_zen = df_test.groupby(['month','day','hour'])['zen'].mean()\n",
    "test_dw_solar = df_test.groupby(['month','day','hour'])['dw_solar'].mean()\n",
    "test_uw_solar = df_test.groupby(['month','day','hour'])['uw_solar'].mean()\n",
    "test_direct_n = df_test.groupby(['month','day','hour'])['direct_n'].mean()\n",
    "test_diffuse = df_test.groupby(['month','day','hour'])['diffuse'].mean()\n",
    "test_dw_ir = df_test.groupby(['month','day','hour'])['dw_ir'].mean()\n",
    "test_dw_casetemp = df_test.groupby(['month','day','hour'])['dw_casetemp'].mean()\n",
    "test_dw_dometemp = df_test.groupby(['month','day','hour'])['dw_dometemp'].mean()\n",
    "test_uw_ir = df_test.groupby(['month','day','hour'])['uw_ir'].mean()\n",
    "test_uw_casetemp = df_test.groupby(['month','day','hour'])['uw_casetemp'].mean()\n",
    "test_uw_dometemp = df_test.groupby(['month','day','hour'])['uw_dometemp'].mean()\n",
    "test_uvb = df_test.groupby(['month','day','hour'])['uvb'].mean()\n",
    "test_par = df_test.groupby(['month','day','hour'])['par'].mean()\n",
    "test_netsolar = df_test.groupby(['month','day','hour'])['netsolar'].mean()\n",
    "test_netir = df_test.groupby(['month','day','hour'])['netir'].mean()\n",
    "test_totalnet = df_test.groupby(['month','day','hour'])['totalnet'].mean()\n",
    "test_temp = df_test.groupby(['month','day','hour'])['temp'].mean()\n",
    "test_rh = df_test.groupby(['month','day','hour'])['rh'].mean()\n",
    "test_windspd = df_test.groupby(['month','day','hour'])['windspd'].mean()\n",
    "test_winddir = df_test.groupby(['month','day','hour'])['winddir'].mean()\n",
    "test_pressure = df_test.groupby(['month','day','hour'])['pressure'].mean()\n",
    "test_ghi = df_test.groupby(['month','day','hour'])['ghi'].mean()\n",
    "test_Kt = df_test.groupby(['month','day','hour'])['Kt'].mean()"
   ]
  },
  {
   "cell_type": "code",
   "execution_count": 57,
   "metadata": {},
   "outputs": [],
   "source": [
    "df_new_test = pd.concat([test_zen,test_dw_solar,test_uw_solar,test_direct_n,test_diffuse,test_dw_ir,\n",
    "                         test_dw_casetemp,test_dw_dometemp,test_uw_ir,test_uw_casetemp,test_uw_dometemp,\n",
    "                    test_uvb,test_par,test_netsolar,test_netir,test_totalnet,test_temp,test_rh,\n",
    "                         test_windspd,test_winddir,test_pressure,test_ghi,test_Kt], axis=1)"
   ]
  },
  {
   "cell_type": "code",
   "execution_count": 58,
   "metadata": {},
   "outputs": [
    {
     "data": {
      "text/html": [
       "<div>\n",
       "<style scoped>\n",
       "    .dataframe tbody tr th:only-of-type {\n",
       "        vertical-align: middle;\n",
       "    }\n",
       "\n",
       "    .dataframe tbody tr th {\n",
       "        vertical-align: top;\n",
       "    }\n",
       "\n",
       "    .dataframe thead th {\n",
       "        text-align: right;\n",
       "    }\n",
       "</style>\n",
       "<table border=\"1\" class=\"dataframe\">\n",
       "  <thead>\n",
       "    <tr style=\"text-align: right;\">\n",
       "      <th></th>\n",
       "      <th>zen</th>\n",
       "      <th>dw_solar</th>\n",
       "      <th>uw_solar</th>\n",
       "      <th>direct_n</th>\n",
       "      <th>diffuse</th>\n",
       "      <th>dw_ir</th>\n",
       "      <th>dw_casetemp</th>\n",
       "      <th>dw_dometemp</th>\n",
       "      <th>uw_ir</th>\n",
       "      <th>uw_casetemp</th>\n",
       "      <th>...</th>\n",
       "      <th>netsolar</th>\n",
       "      <th>netir</th>\n",
       "      <th>totalnet</th>\n",
       "      <th>temp</th>\n",
       "      <th>rh</th>\n",
       "      <th>windspd</th>\n",
       "      <th>winddir</th>\n",
       "      <th>pressure</th>\n",
       "      <th>ghi</th>\n",
       "      <th>Kt</th>\n",
       "    </tr>\n",
       "    <tr>\n",
       "      <th>hour</th>\n",
       "      <th></th>\n",
       "      <th></th>\n",
       "      <th></th>\n",
       "      <th></th>\n",
       "      <th></th>\n",
       "      <th></th>\n",
       "      <th></th>\n",
       "      <th></th>\n",
       "      <th></th>\n",
       "      <th></th>\n",
       "      <th></th>\n",
       "      <th></th>\n",
       "      <th></th>\n",
       "      <th></th>\n",
       "      <th></th>\n",
       "      <th></th>\n",
       "      <th></th>\n",
       "      <th></th>\n",
       "      <th></th>\n",
       "      <th></th>\n",
       "      <th></th>\n",
       "    </tr>\n",
       "  </thead>\n",
       "  <tbody>\n",
       "    <tr>\n",
       "      <th>7.0</th>\n",
       "      <td>145.536667</td>\n",
       "      <td>-5.036111</td>\n",
       "      <td>-0.005556</td>\n",
       "      <td>1.050000</td>\n",
       "      <td>-1.691667</td>\n",
       "      <td>225.650000</td>\n",
       "      <td>271.297222</td>\n",
       "      <td>270.644444</td>\n",
       "      <td>290.319444</td>\n",
       "      <td>268.880556</td>\n",
       "      <td>...</td>\n",
       "      <td>0.000000</td>\n",
       "      <td>-64.661111</td>\n",
       "      <td>-64.661111</td>\n",
       "      <td>-4.211111</td>\n",
       "      <td>89.900000</td>\n",
       "      <td>3.958333</td>\n",
       "      <td>150.894444</td>\n",
       "      <td>952.938889</td>\n",
       "      <td>38.153234</td>\n",
       "      <td>-0.171464</td>\n",
       "    </tr>\n",
       "    <tr>\n",
       "      <th>8.0</th>\n",
       "      <td>140.396000</td>\n",
       "      <td>-4.896667</td>\n",
       "      <td>-0.068333</td>\n",
       "      <td>1.795000</td>\n",
       "      <td>-1.573333</td>\n",
       "      <td>236.036667</td>\n",
       "      <td>270.815000</td>\n",
       "      <td>270.221667</td>\n",
       "      <td>288.866667</td>\n",
       "      <td>268.450000</td>\n",
       "      <td>...</td>\n",
       "      <td>0.000000</td>\n",
       "      <td>-52.828333</td>\n",
       "      <td>-52.828333</td>\n",
       "      <td>-4.593333</td>\n",
       "      <td>91.183333</td>\n",
       "      <td>3.235000</td>\n",
       "      <td>148.135000</td>\n",
       "      <td>952.245000</td>\n",
       "      <td>148.814364</td>\n",
       "      <td>-0.037425</td>\n",
       "    </tr>\n",
       "    <tr>\n",
       "      <th>9.0</th>\n",
       "      <td>131.753500</td>\n",
       "      <td>-4.581667</td>\n",
       "      <td>-0.096667</td>\n",
       "      <td>3.088333</td>\n",
       "      <td>-1.426667</td>\n",
       "      <td>247.976667</td>\n",
       "      <td>270.580000</td>\n",
       "      <td>269.986667</td>\n",
       "      <td>288.435000</td>\n",
       "      <td>268.101667</td>\n",
       "      <td>...</td>\n",
       "      <td>0.000000</td>\n",
       "      <td>-40.468333</td>\n",
       "      <td>-40.468333</td>\n",
       "      <td>-4.898333</td>\n",
       "      <td>92.058333</td>\n",
       "      <td>2.476667</td>\n",
       "      <td>131.661667</td>\n",
       "      <td>951.585000</td>\n",
       "      <td>314.244805</td>\n",
       "      <td>-0.015046</td>\n",
       "    </tr>\n",
       "    <tr>\n",
       "      <th>10.0</th>\n",
       "      <td>121.700500</td>\n",
       "      <td>-4.665000</td>\n",
       "      <td>-0.340000</td>\n",
       "      <td>3.340000</td>\n",
       "      <td>-1.415000</td>\n",
       "      <td>241.571667</td>\n",
       "      <td>270.898333</td>\n",
       "      <td>270.323333</td>\n",
       "      <td>287.598333</td>\n",
       "      <td>268.296667</td>\n",
       "      <td>...</td>\n",
       "      <td>0.000000</td>\n",
       "      <td>-46.030000</td>\n",
       "      <td>-46.030000</td>\n",
       "      <td>-4.451667</td>\n",
       "      <td>91.293333</td>\n",
       "      <td>2.421667</td>\n",
       "      <td>145.975000</td>\n",
       "      <td>950.940000</td>\n",
       "      <td>454.239484</td>\n",
       "      <td>-0.010324</td>\n",
       "    </tr>\n",
       "    <tr>\n",
       "      <th>11.0</th>\n",
       "      <td>111.024500</td>\n",
       "      <td>-4.480000</td>\n",
       "      <td>-0.051667</td>\n",
       "      <td>4.360000</td>\n",
       "      <td>-1.233333</td>\n",
       "      <td>271.590000</td>\n",
       "      <td>271.455000</td>\n",
       "      <td>270.916667</td>\n",
       "      <td>294.383333</td>\n",
       "      <td>268.693333</td>\n",
       "      <td>...</td>\n",
       "      <td>0.000000</td>\n",
       "      <td>-22.785000</td>\n",
       "      <td>-22.785000</td>\n",
       "      <td>-4.213333</td>\n",
       "      <td>91.341667</td>\n",
       "      <td>2.233333</td>\n",
       "      <td>118.871667</td>\n",
       "      <td>950.326667</td>\n",
       "      <td>548.885814</td>\n",
       "      <td>-0.008169</td>\n",
       "    </tr>\n",
       "    <tr>\n",
       "      <th>12.0</th>\n",
       "      <td>100.208500</td>\n",
       "      <td>-4.666667</td>\n",
       "      <td>-0.300000</td>\n",
       "      <td>3.253333</td>\n",
       "      <td>-1.396667</td>\n",
       "      <td>240.323333</td>\n",
       "      <td>271.436667</td>\n",
       "      <td>270.723333</td>\n",
       "      <td>287.046667</td>\n",
       "      <td>268.766667</td>\n",
       "      <td>...</td>\n",
       "      <td>0.000000</td>\n",
       "      <td>-46.735000</td>\n",
       "      <td>-46.735000</td>\n",
       "      <td>-4.025000</td>\n",
       "      <td>91.908333</td>\n",
       "      <td>2.181667</td>\n",
       "      <td>99.051667</td>\n",
       "      <td>949.630000</td>\n",
       "      <td>589.040966</td>\n",
       "      <td>-0.007920</td>\n",
       "    </tr>\n",
       "    <tr>\n",
       "      <th>13.0</th>\n",
       "      <td>89.412833</td>\n",
       "      <td>6.941667</td>\n",
       "      <td>2.568333</td>\n",
       "      <td>37.210000</td>\n",
       "      <td>9.313333</td>\n",
       "      <td>229.436667</td>\n",
       "      <td>270.868333</td>\n",
       "      <td>270.236667</td>\n",
       "      <td>288.171667</td>\n",
       "      <td>268.686667</td>\n",
       "      <td>...</td>\n",
       "      <td>9.796667</td>\n",
       "      <td>-58.736667</td>\n",
       "      <td>-48.943333</td>\n",
       "      <td>-4.318333</td>\n",
       "      <td>94.170000</td>\n",
       "      <td>3.183333</td>\n",
       "      <td>115.316667</td>\n",
       "      <td>948.886667</td>\n",
       "      <td>571.239451</td>\n",
       "      <td>0.012708</td>\n",
       "    </tr>\n",
       "    <tr>\n",
       "      <th>14.0</th>\n",
       "      <td>79.509000</td>\n",
       "      <td>66.015000</td>\n",
       "      <td>14.283333</td>\n",
       "      <td>39.245000</td>\n",
       "      <td>70.763333</td>\n",
       "      <td>269.898333</td>\n",
       "      <td>272.405000</td>\n",
       "      <td>272.001667</td>\n",
       "      <td>301.948333</td>\n",
       "      <td>269.031667</td>\n",
       "      <td>...</td>\n",
       "      <td>61.178333</td>\n",
       "      <td>-32.058333</td>\n",
       "      <td>29.125000</td>\n",
       "      <td>-3.945000</td>\n",
       "      <td>94.998333</td>\n",
       "      <td>2.643333</td>\n",
       "      <td>128.601667</td>\n",
       "      <td>948.573333</td>\n",
       "      <td>497.007676</td>\n",
       "      <td>0.135205</td>\n",
       "    </tr>\n",
       "    <tr>\n",
       "      <th>15.0</th>\n",
       "      <td>70.543833</td>\n",
       "      <td>184.720000</td>\n",
       "      <td>39.195000</td>\n",
       "      <td>60.050000</td>\n",
       "      <td>178.240000</td>\n",
       "      <td>284.471667</td>\n",
       "      <td>275.201667</td>\n",
       "      <td>274.968333</td>\n",
       "      <td>316.086667</td>\n",
       "      <td>271.068333</td>\n",
       "      <td>...</td>\n",
       "      <td>160.998333</td>\n",
       "      <td>-31.616667</td>\n",
       "      <td>129.378333</td>\n",
       "      <td>-2.130000</td>\n",
       "      <td>93.173333</td>\n",
       "      <td>2.938333</td>\n",
       "      <td>140.046667</td>\n",
       "      <td>947.636667</td>\n",
       "      <td>373.110606</td>\n",
       "      <td>0.519083</td>\n",
       "    </tr>\n",
       "    <tr>\n",
       "      <th>16.0</th>\n",
       "      <td>63.113167</td>\n",
       "      <td>392.156667</td>\n",
       "      <td>84.996667</td>\n",
       "      <td>374.610000</td>\n",
       "      <td>232.673333</td>\n",
       "      <td>275.468333</td>\n",
       "      <td>278.751667</td>\n",
       "      <td>278.428333</td>\n",
       "      <td>335.985000</td>\n",
       "      <td>273.831667</td>\n",
       "      <td>...</td>\n",
       "      <td>325.068333</td>\n",
       "      <td>-60.511667</td>\n",
       "      <td>264.566667</td>\n",
       "      <td>0.220000</td>\n",
       "      <td>86.426667</td>\n",
       "      <td>2.755000</td>\n",
       "      <td>146.100000</td>\n",
       "      <td>946.630000</td>\n",
       "      <td>213.855930</td>\n",
       "      <td>2.104288</td>\n",
       "    </tr>\n",
       "    <tr>\n",
       "      <th>17.0</th>\n",
       "      <td>57.950847</td>\n",
       "      <td>600.271186</td>\n",
       "      <td>128.689831</td>\n",
       "      <td>738.779661</td>\n",
       "      <td>221.118644</td>\n",
       "      <td>273.759322</td>\n",
       "      <td>284.210169</td>\n",
       "      <td>283.540678</td>\n",
       "      <td>361.523729</td>\n",
       "      <td>277.961017</td>\n",
       "      <td>...</td>\n",
       "      <td>484.508475</td>\n",
       "      <td>-87.757627</td>\n",
       "      <td>396.744068</td>\n",
       "      <td>3.664407</td>\n",
       "      <td>71.598305</td>\n",
       "      <td>3.384746</td>\n",
       "      <td>126.791525</td>\n",
       "      <td>945.572881</td>\n",
       "      <td>62.208640</td>\n",
       "      <td>13.667905</td>\n",
       "    </tr>\n",
       "  </tbody>\n",
       "</table>\n",
       "<p>11 rows × 23 columns</p>\n",
       "</div>"
      ],
      "text/plain": [
       "             zen    dw_solar    uw_solar    direct_n     diffuse       dw_ir  \\\n",
       "hour                                                                           \n",
       "7.0   145.536667   -5.036111   -0.005556    1.050000   -1.691667  225.650000   \n",
       "8.0   140.396000   -4.896667   -0.068333    1.795000   -1.573333  236.036667   \n",
       "9.0   131.753500   -4.581667   -0.096667    3.088333   -1.426667  247.976667   \n",
       "10.0  121.700500   -4.665000   -0.340000    3.340000   -1.415000  241.571667   \n",
       "11.0  111.024500   -4.480000   -0.051667    4.360000   -1.233333  271.590000   \n",
       "12.0  100.208500   -4.666667   -0.300000    3.253333   -1.396667  240.323333   \n",
       "13.0   89.412833    6.941667    2.568333   37.210000    9.313333  229.436667   \n",
       "14.0   79.509000   66.015000   14.283333   39.245000   70.763333  269.898333   \n",
       "15.0   70.543833  184.720000   39.195000   60.050000  178.240000  284.471667   \n",
       "16.0   63.113167  392.156667   84.996667  374.610000  232.673333  275.468333   \n",
       "17.0   57.950847  600.271186  128.689831  738.779661  221.118644  273.759322   \n",
       "\n",
       "      dw_casetemp  dw_dometemp       uw_ir  uw_casetemp    ...      \\\n",
       "hour                                                       ...       \n",
       "7.0    271.297222   270.644444  290.319444   268.880556    ...       \n",
       "8.0    270.815000   270.221667  288.866667   268.450000    ...       \n",
       "9.0    270.580000   269.986667  288.435000   268.101667    ...       \n",
       "10.0   270.898333   270.323333  287.598333   268.296667    ...       \n",
       "11.0   271.455000   270.916667  294.383333   268.693333    ...       \n",
       "12.0   271.436667   270.723333  287.046667   268.766667    ...       \n",
       "13.0   270.868333   270.236667  288.171667   268.686667    ...       \n",
       "14.0   272.405000   272.001667  301.948333   269.031667    ...       \n",
       "15.0   275.201667   274.968333  316.086667   271.068333    ...       \n",
       "16.0   278.751667   278.428333  335.985000   273.831667    ...       \n",
       "17.0   284.210169   283.540678  361.523729   277.961017    ...       \n",
       "\n",
       "        netsolar      netir    totalnet      temp         rh   windspd  \\\n",
       "hour                                                                     \n",
       "7.0     0.000000 -64.661111  -64.661111 -4.211111  89.900000  3.958333   \n",
       "8.0     0.000000 -52.828333  -52.828333 -4.593333  91.183333  3.235000   \n",
       "9.0     0.000000 -40.468333  -40.468333 -4.898333  92.058333  2.476667   \n",
       "10.0    0.000000 -46.030000  -46.030000 -4.451667  91.293333  2.421667   \n",
       "11.0    0.000000 -22.785000  -22.785000 -4.213333  91.341667  2.233333   \n",
       "12.0    0.000000 -46.735000  -46.735000 -4.025000  91.908333  2.181667   \n",
       "13.0    9.796667 -58.736667  -48.943333 -4.318333  94.170000  3.183333   \n",
       "14.0   61.178333 -32.058333   29.125000 -3.945000  94.998333  2.643333   \n",
       "15.0  160.998333 -31.616667  129.378333 -2.130000  93.173333  2.938333   \n",
       "16.0  325.068333 -60.511667  264.566667  0.220000  86.426667  2.755000   \n",
       "17.0  484.508475 -87.757627  396.744068  3.664407  71.598305  3.384746   \n",
       "\n",
       "         winddir    pressure         ghi         Kt  \n",
       "hour                                                 \n",
       "7.0   150.894444  952.938889   38.153234  -0.171464  \n",
       "8.0   148.135000  952.245000  148.814364  -0.037425  \n",
       "9.0   131.661667  951.585000  314.244805  -0.015046  \n",
       "10.0  145.975000  950.940000  454.239484  -0.010324  \n",
       "11.0  118.871667  950.326667  548.885814  -0.008169  \n",
       "12.0   99.051667  949.630000  589.040966  -0.007920  \n",
       "13.0  115.316667  948.886667  571.239451   0.012708  \n",
       "14.0  128.601667  948.573333  497.007676   0.135205  \n",
       "15.0  140.046667  947.636667  373.110606   0.519083  \n",
       "16.0  146.100000  946.630000  213.855930   2.104288  \n",
       "17.0  126.791525  945.572881   62.208640  13.667905  \n",
       "\n",
       "[11 rows x 23 columns]"
      ]
     },
     "execution_count": 58,
     "metadata": {},
     "output_type": "execute_result"
    }
   ],
   "source": [
    "df_new_test.loc[2].xs(17,level='day')"
   ]
  },
  {
   "cell_type": "markdown",
   "metadata": {},
   "source": [
    "### Shifting Kt values to make 1 hour ahead forecast"
   ]
  },
  {
   "cell_type": "markdown",
   "metadata": {},
   "source": [
    "#### Train dataset"
   ]
  },
  {
   "cell_type": "code",
   "execution_count": 59,
   "metadata": {},
   "outputs": [],
   "source": [
    "levels_index= []\n",
    "for m in df_new_train.index.levels:\n",
    "    levels_index.append(m)"
   ]
  },
  {
   "cell_type": "code",
   "execution_count": 60,
   "metadata": {
    "scrolled": true
   },
   "outputs": [],
   "source": [
    "for i in levels_index[0]:\n",
    "    for j in levels_index[1]:\n",
    "        df_new_train.loc[i].loc[j]['Kt'] = df_new_train.loc[i].loc[j]['Kt'].shift(-1)"
   ]
  },
  {
   "cell_type": "code",
   "execution_count": 61,
   "metadata": {},
   "outputs": [],
   "source": [
    "df_new_train = df_new_train[~(df_new_train['Kt'].isnull())]"
   ]
  },
  {
   "cell_type": "markdown",
   "metadata": {},
   "source": [
    "#### Test dataset"
   ]
  },
  {
   "cell_type": "code",
   "execution_count": 62,
   "metadata": {},
   "outputs": [],
   "source": [
    "levels_index2= []\n",
    "for m in df_new_test.index.levels:\n",
    "    levels_index2.append(m)"
   ]
  },
  {
   "cell_type": "code",
   "execution_count": 63,
   "metadata": {},
   "outputs": [],
   "source": [
    "for i in levels_index2[0]:\n",
    "    for j in levels_index2[1]:\n",
    "        df_new_test.loc[i].loc[j]['Kt'] = df_new_test.loc[i].loc[j]['Kt'].shift(-1)"
   ]
  },
  {
   "cell_type": "code",
   "execution_count": 64,
   "metadata": {},
   "outputs": [],
   "source": [
    "df_new_test = df_new_test[~(df_new_test['Kt'].isnull())]"
   ]
  },
  {
   "cell_type": "code",
   "execution_count": 65,
   "metadata": {},
   "outputs": [
    {
     "data": {
      "text/html": [
       "<div>\n",
       "<style scoped>\n",
       "    .dataframe tbody tr th:only-of-type {\n",
       "        vertical-align: middle;\n",
       "    }\n",
       "\n",
       "    .dataframe tbody tr th {\n",
       "        vertical-align: top;\n",
       "    }\n",
       "\n",
       "    .dataframe thead th {\n",
       "        text-align: right;\n",
       "    }\n",
       "</style>\n",
       "<table border=\"1\" class=\"dataframe\">\n",
       "  <thead>\n",
       "    <tr style=\"text-align: right;\">\n",
       "      <th></th>\n",
       "      <th></th>\n",
       "      <th></th>\n",
       "      <th>zen</th>\n",
       "      <th>dw_solar</th>\n",
       "      <th>uw_solar</th>\n",
       "      <th>direct_n</th>\n",
       "      <th>diffuse</th>\n",
       "      <th>dw_ir</th>\n",
       "      <th>dw_casetemp</th>\n",
       "      <th>dw_dometemp</th>\n",
       "      <th>uw_ir</th>\n",
       "      <th>uw_casetemp</th>\n",
       "      <th>...</th>\n",
       "      <th>netsolar</th>\n",
       "      <th>netir</th>\n",
       "      <th>totalnet</th>\n",
       "      <th>temp</th>\n",
       "      <th>rh</th>\n",
       "      <th>windspd</th>\n",
       "      <th>winddir</th>\n",
       "      <th>pressure</th>\n",
       "      <th>ghi</th>\n",
       "      <th>Kt</th>\n",
       "    </tr>\n",
       "    <tr>\n",
       "      <th>month</th>\n",
       "      <th>day</th>\n",
       "      <th>hour</th>\n",
       "      <th></th>\n",
       "      <th></th>\n",
       "      <th></th>\n",
       "      <th></th>\n",
       "      <th></th>\n",
       "      <th></th>\n",
       "      <th></th>\n",
       "      <th></th>\n",
       "      <th></th>\n",
       "      <th></th>\n",
       "      <th></th>\n",
       "      <th></th>\n",
       "      <th></th>\n",
       "      <th></th>\n",
       "      <th></th>\n",
       "      <th></th>\n",
       "      <th></th>\n",
       "      <th></th>\n",
       "      <th></th>\n",
       "      <th></th>\n",
       "      <th></th>\n",
       "    </tr>\n",
       "  </thead>\n",
       "  <tbody>\n",
       "    <tr>\n",
       "      <th>2.0</th>\n",
       "      <th>18.0</th>\n",
       "      <th>17.0</th>\n",
       "      <td>57.5765</td>\n",
       "      <td>566.591667</td>\n",
       "      <td>116.545</td>\n",
       "      <td>929.813333</td>\n",
       "      <td>71.201667</td>\n",
       "      <td>193.94</td>\n",
       "      <td>271.468333</td>\n",
       "      <td>270.183333</td>\n",
       "      <td>306.486667</td>\n",
       "      <td>266.746667</td>\n",
       "      <td>...</td>\n",
       "      <td>453.206667</td>\n",
       "      <td>-112.551667</td>\n",
       "      <td>340.67</td>\n",
       "      <td>-7.156667</td>\n",
       "      <td>56.335</td>\n",
       "      <td>9.213333</td>\n",
       "      <td>342.223333</td>\n",
       "      <td>957.198333</td>\n",
       "      <td>64.16627</td>\n",
       "      <td>2382.577671</td>\n",
       "    </tr>\n",
       "  </tbody>\n",
       "</table>\n",
       "<p>1 rows × 23 columns</p>\n",
       "</div>"
      ],
      "text/plain": [
       "                     zen    dw_solar  uw_solar    direct_n    diffuse   dw_ir  \\\n",
       "month day  hour                                                                 \n",
       "2.0   18.0 17.0  57.5765  566.591667   116.545  929.813333  71.201667  193.94   \n",
       "\n",
       "                 dw_casetemp  dw_dometemp       uw_ir  uw_casetemp  \\\n",
       "month day  hour                                                      \n",
       "2.0   18.0 17.0   271.468333   270.183333  306.486667   266.746667   \n",
       "\n",
       "                    ...         netsolar       netir  totalnet      temp  \\\n",
       "month day  hour     ...                                                    \n",
       "2.0   18.0 17.0     ...       453.206667 -112.551667    340.67 -7.156667   \n",
       "\n",
       "                     rh   windspd     winddir    pressure       ghi  \\\n",
       "month day  hour                                                       \n",
       "2.0   18.0 17.0  56.335  9.213333  342.223333  957.198333  64.16627   \n",
       "\n",
       "                          Kt  \n",
       "month day  hour               \n",
       "2.0   18.0 17.0  2382.577671  \n",
       "\n",
       "[1 rows x 23 columns]"
      ]
     },
     "execution_count": 65,
     "metadata": {},
     "output_type": "execute_result"
    }
   ],
   "source": [
    "df_new_test[df_new_test['Kt']==df_new_test['Kt'].max()]"
   ]
  },
  {
   "cell_type": "markdown",
   "metadata": {},
   "source": [
    "### Normalize train and test dataframe"
   ]
  },
  {
   "cell_type": "code",
   "execution_count": 66,
   "metadata": {},
   "outputs": [],
   "source": [
    "train_norm = (df_new_train - df_new_train.mean()) / (df_new_train.max() - df_new_train.min())\n",
    "test_norm =  (df_new_test - df_new_test.mean()) / (df_new_test.max() - df_new_test.min())"
   ]
  },
  {
   "cell_type": "code",
   "execution_count": 67,
   "metadata": {},
   "outputs": [],
   "source": [
    "train_norm.reset_index(inplace=True,drop=True)\n",
    "test_norm.reset_index(inplace=True,drop=True)"
   ]
  },
  {
   "cell_type": "markdown",
   "metadata": {
    "collapsed": true
   },
   "source": [
    "### Making train and test sets with train_norm and test_norm"
   ]
  },
  {
   "cell_type": "markdown",
   "metadata": {
    "collapsed": true
   },
   "source": [
    "#### finding the gcf (greatest common factor) of train and test dataset's length and chop off the extra rows to make it divisible with the batchsize"
   ]
  },
  {
   "cell_type": "code",
   "execution_count": 68,
   "metadata": {},
   "outputs": [
    {
     "name": "stderr",
     "output_type": "stream",
     "text": [
      "C:\\Users\\s269596\\AppData\\Local\\Continuum\\Anaconda3\\lib\\site-packages\\ipykernel_launcher.py:2: DeprecationWarning: fractions.gcd() is deprecated. Use math.gcd() instead.\n",
      "  \n"
     ]
    },
    {
     "data": {
      "text/plain": [
       "1"
      ]
     },
     "execution_count": 68,
     "metadata": {},
     "output_type": "execute_result"
    }
   ],
   "source": [
    "from fractions import gcd\n",
    "gcd(train_norm.shape[0],test_norm.shape[0])"
   ]
  },
  {
   "cell_type": "code",
   "execution_count": 69,
   "metadata": {},
   "outputs": [],
   "source": [
    "import math\n",
    "def roundup(x):\n",
    "    return int(math.ceil(x / 100.0)) * 100"
   ]
  },
  {
   "cell_type": "code",
   "execution_count": 70,
   "metadata": {},
   "outputs": [],
   "source": [
    "train_lim = roundup(train_norm.shape[0])\n",
    "test_lim = roundup(test_norm.shape[0])\n",
    "\n",
    "train_random = train_norm.sample(train_lim-train_norm.shape[0])\n",
    "test_random = test_norm.sample(test_lim-test_norm.shape[0])\n",
    "\n",
    "train_norm = train_norm.append(train_random)\n",
    "test_norm = test_norm.append(test_random)"
   ]
  },
  {
   "cell_type": "code",
   "execution_count": 71,
   "metadata": {},
   "outputs": [],
   "source": [
    "X1 = train_norm.drop('Kt',axis=1)\n",
    "y1 = train_norm['Kt']\n",
    "\n",
    "X2 = test_norm.drop('Kt',axis=1)\n",
    "y2 = test_norm['Kt']"
   ]
  },
  {
   "cell_type": "code",
   "execution_count": 72,
   "metadata": {
    "scrolled": true
   },
   "outputs": [
    {
     "name": "stdout",
     "output_type": "stream",
     "text": [
      "X1_train shape is (9600, 22)\n",
      "y1_train shape is (9600,)\n",
      "X2_test shape is (4500, 22)\n",
      "y2_test shape is (4500,)\n"
     ]
    }
   ],
   "source": [
    "print(\"X1_train shape is {}\".format(X1.shape))\n",
    "print(\"y1_train shape is {}\".format(y1.shape))\n",
    "print(\"X2_test shape is {}\".format(X2.shape))\n",
    "print(\"y2_test shape is {}\".format(y2.shape))"
   ]
  },
  {
   "cell_type": "code",
   "execution_count": 73,
   "metadata": {},
   "outputs": [],
   "source": [
    "X_train = np.array(X1)\n",
    "y_train  = np.array(y1)\n",
    "X_test = np.array(X2)\n",
    "y_test = np.array(y2)"
   ]
  },
  {
   "cell_type": "markdown",
   "metadata": {},
   "source": [
    "### start of RNN"
   ]
  },
  {
   "cell_type": "code",
   "execution_count": 74,
   "metadata": {},
   "outputs": [],
   "source": [
    "import torch\n",
    "import torch.nn as nn\n",
    "import torchvision.transforms as transforms\n",
    "import torchvision.datasets as dsets\n",
    "from torch.autograd import Variable"
   ]
  },
  {
   "cell_type": "code",
   "execution_count": 75,
   "metadata": {},
   "outputs": [],
   "source": [
    "class RNNModel(nn.Module):\n",
    "    def __init__(self, input_dim, hidden_dim, layer_dim, output_dim):\n",
    "        super(RNNModel, self).__init__()\n",
    "        #Hidden Dimension\n",
    "        self.hidden_dim = hidden_dim\n",
    "        \n",
    "        # Number of hidden layers\n",
    "        self.layer_dim = layer_dim\n",
    "        \n",
    "        #Building the RNN\n",
    "        self.rnn = nn.RNN(input_dim, hidden_dim, layer_dim, batch_first=True, nonlinearity='relu')\n",
    "        \n",
    "        # Readout layer\n",
    "        self.fc = nn.Linear(hidden_dim, output_dim)\n",
    "        \n",
    "    def forward(self, x):\n",
    "        # Initializing the hidden state with zeros\n",
    "        # (layer_dim, batch_size, hidden_dim)\n",
    "        h0 = Variable(torch.zeros(self.layer_dim, x.size(0), self.hidden_dim))\n",
    "        \n",
    "        #One time step (the last one perhaps?)\n",
    "        out, hn = self.rnn(x, h0)\n",
    "        \n",
    "        # Indexing hidden state of the last time step\n",
    "        # out.size() --> ??\n",
    "        #out[:,-1,:] --> is it going to be 100,100\n",
    "        out = self.fc(out[:,-1,:])\n",
    "        # out.size() --> 100,1\n",
    "        return out\n",
    "        "
   ]
  },
  {
   "cell_type": "code",
   "execution_count": 76,
   "metadata": {},
   "outputs": [],
   "source": [
    "# Instantiating Model Class\n",
    "input_dim = 22\n",
    "hidden_dim = 15\n",
    "layer_dim = 1\n",
    "output_dim = 1\n",
    "batch_size = 100\n",
    "\n",
    "model = RNNModel(input_dim, hidden_dim, layer_dim, output_dim)\n",
    "\n",
    "# Instantiating Loss Class\n",
    "criterion = nn.MSELoss()\n",
    "\n",
    "# Instantiate Optimizer Class\n",
    "learning_rate = 0.001\n",
    "optimizer = torch.optim.SGD(model.parameters(), lr=learning_rate)\n",
    "\n",
    "# converting numpy array to torch tensor\n",
    "X_train = torch.from_numpy(X_train)\n",
    "y_train = torch.from_numpy(y_train)\n",
    "X_test = torch.from_numpy(X_test)\n",
    "y_test = torch.from_numpy(y_test)\n",
    "\n",
    "# initializing lists to store losses over epochs:\n",
    "train_loss = []\n",
    "test_loss = []\n",
    "train_iter = []\n",
    "test_iter = []"
   ]
  },
  {
   "cell_type": "code",
   "execution_count": 77,
   "metadata": {
    "scrolled": true
   },
   "outputs": [
    {
     "name": "stdout",
     "output_type": "stream",
     "text": [
      "Epoch: 1 Iteration: 100. Train_MSE: 0.052252646535634995. Test_MSE: 0.0018477092542767708\n",
      "Epoch: 2 Iteration: 200. Train_MSE: 0.027763137593865395. Test_MSE: 0.0011385973112716468\n",
      "Epoch: 3 Iteration: 300. Train_MSE: 0.010347426868975163. Test_MSE: 0.0007095602160455708\n",
      "Epoch: 4 Iteration: 400. Train_MSE: 0.01433667540550232. Test_MSE: 0.0004574013971920029\n",
      "Epoch: 5 Iteration: 500. Train_MSE: 0.006544806994497776. Test_MSE: 0.00032817472761559037\n",
      "Epoch: 6 Iteration: 600. Train_MSE: 0.0038624608423560858. Test_MSE: 0.00027853543742052797\n",
      "Epoch: 7 Iteration: 700. Train_MSE: 0.0030486576724797487. Test_MSE: 0.0002694218783193861\n",
      "Epoch: 8 Iteration: 800. Train_MSE: 0.0014516778755933046. Test_MSE: 0.00027403886381348417\n",
      "Epoch: 9 Iteration: 900. Train_MSE: 0.000693789916113019. Test_MSE: 0.0002794819994955784\n",
      "Epoch: 10 Iteration: 1000. Train_MSE: 0.0009710873709991574. Test_MSE: 0.00028467685795046554\n",
      "Epoch: 11 Iteration: 1100. Train_MSE: 0.002551464829593897. Test_MSE: 0.000289764280421301\n",
      "Epoch: 12 Iteration: 1200. Train_MSE: 0.0021729799918830395. Test_MSE: 0.0002923496874020531\n",
      "Epoch: 13 Iteration: 1300. Train_MSE: 0.002828632015734911. Test_MSE: 0.0002934385256888255\n",
      "Epoch: 14 Iteration: 1400. Train_MSE: 0.002916770288720727. Test_MSE: 0.0002919463606902007\n",
      "Epoch: 15 Iteration: 1500. Train_MSE: 0.004116058815270662. Test_MSE: 0.0002893243869235772\n",
      "Epoch: 16 Iteration: 1600. Train_MSE: 0.0022435630671679974. Test_MSE: 0.00028717147471899146\n",
      "Epoch: 17 Iteration: 1700. Train_MSE: 0.001675860257819295. Test_MSE: 0.0002850486001581176\n",
      "Epoch: 18 Iteration: 1800. Train_MSE: 0.0008878692169673741. Test_MSE: 0.00028200781119253965\n",
      "Epoch: 19 Iteration: 1900. Train_MSE: 0.0005896757356822491. Test_MSE: 0.00027798820580468374\n",
      "Epoch: 21 Iteration: 2000. Train_MSE: 0.0015172665007412434. Test_MSE: 0.0002765289918258732\n",
      "Epoch: 22 Iteration: 2100. Train_MSE: 0.0016446798108518124. Test_MSE: 0.0002760463422939814\n",
      "Epoch: 23 Iteration: 2200. Train_MSE: 0.002192713087424636. Test_MSE: 0.0002735746941896012\n",
      "Epoch: 24 Iteration: 2300. Train_MSE: 0.011509153991937637. Test_MSE: 0.00027134732054734904\n",
      "Epoch: 25 Iteration: 2400. Train_MSE: 0.0033063034061342478. Test_MSE: 0.00026859065107648166\n",
      "Epoch: 26 Iteration: 2500. Train_MSE: 0.0021501132287085056. Test_MSE: 0.0002660306485449907\n",
      "Epoch: 27 Iteration: 2600. Train_MSE: 0.002169898711144924. Test_MSE: 0.0002634143873655541\n",
      "Epoch: 28 Iteration: 2700. Train_MSE: 0.000919307756703347. Test_MSE: 0.00026128083121279284\n",
      "Epoch: 29 Iteration: 2800. Train_MSE: 0.0006170937558636069. Test_MSE: 0.00025755743680411583\n",
      "Epoch: 30 Iteration: 2900. Train_MSE: 0.0006842398433946073. Test_MSE: 0.000255852139473938\n",
      "Epoch: 31 Iteration: 3000. Train_MSE: 0.0016533422749489546. Test_MSE: 0.00025589508930162037\n",
      "Epoch: 32 Iteration: 3100. Train_MSE: 0.0015544539783149958. Test_MSE: 0.00025503362484074576\n",
      "Epoch: 33 Iteration: 3200. Train_MSE: 0.001998084830120206. Test_MSE: 0.00025398647864500426\n",
      "Epoch: 34 Iteration: 3300. Train_MSE: 0.0021379992831498384. Test_MSE: 0.0002515645465095954\n",
      "Epoch: 35 Iteration: 3400. Train_MSE: 0.003292463719844818. Test_MSE: 0.00024876886566799656\n",
      "Epoch: 36 Iteration: 3500. Train_MSE: 0.0015756364446133375. Test_MSE: 0.0002468404771844129\n",
      "Epoch: 37 Iteration: 3600. Train_MSE: 0.0012122447369620204. Test_MSE: 0.00024517936071603874\n",
      "Epoch: 38 Iteration: 3700. Train_MSE: 0.0006627035909332335. Test_MSE: 0.0002427816691463067\n",
      "Epoch: 39 Iteration: 3800. Train_MSE: 0.0004524046089500189. Test_MSE: 0.00023960803553963795\n",
      "Epoch: 41 Iteration: 3900. Train_MSE: 0.001230666064657271. Test_MSE: 0.0002386949336273668\n",
      "Epoch: 42 Iteration: 4000. Train_MSE: 0.0010948796989396214. Test_MSE: 0.000238661807288385\n",
      "Epoch: 43 Iteration: 4100. Train_MSE: 0.001612493651919067. Test_MSE: 0.00023680613446735765\n",
      "Epoch: 44 Iteration: 4200. Train_MSE: 0.010893319733440876. Test_MSE: 0.00023528233562117656\n",
      "Epoch: 45 Iteration: 4300. Train_MSE: 0.0025984360836446285. Test_MSE: 0.0002333422986977923\n",
      "Epoch: 46 Iteration: 4400. Train_MSE: 0.001522150938399136. Test_MSE: 0.0002315848535306118\n",
      "Epoch: 47 Iteration: 4500. Train_MSE: 0.0016750459326431155. Test_MSE: 0.00022978429896490223\n",
      "Epoch: 48 Iteration: 4600. Train_MSE: 0.0006554147112183273. Test_MSE: 0.00022838445768855927\n",
      "Epoch: 49 Iteration: 4700. Train_MSE: 0.0004846024967264384. Test_MSE: 0.000225421201370776\n",
      "Epoch: 50 Iteration: 4800. Train_MSE: 0.0005565507453866303. Test_MSE: 0.00022426712233566083\n",
      "Epoch: 51 Iteration: 4900. Train_MSE: 0.0012100869789719582. Test_MSE: 0.00022459644328127153\n",
      "Epoch: 52 Iteration: 5000. Train_MSE: 0.0011475689243525267. Test_MSE: 0.00022410794515103909\n",
      "Epoch: 53 Iteration: 5100. Train_MSE: 0.0015097246505320072. Test_MSE: 0.00022346219334261387\n",
      "Epoch: 54 Iteration: 5200. Train_MSE: 0.0016323025338351727. Test_MSE: 0.00022165199354844307\n",
      "Epoch: 55 Iteration: 5300. Train_MSE: 0.002734697423875332. Test_MSE: 0.00021953174693327749\n",
      "Epoch: 56 Iteration: 5400. Train_MSE: 0.0011734007857739925. Test_MSE: 0.0002182442712152873\n",
      "Epoch: 57 Iteration: 5500. Train_MSE: 0.0009163666400127113. Test_MSE: 0.00021717465529627763\n",
      "Epoch: 58 Iteration: 5600. Train_MSE: 0.0005158812273293734. Test_MSE: 0.0002153426452556028\n",
      "Epoch: 59 Iteration: 5700. Train_MSE: 0.00036697505856864154. Test_MSE: 0.00021272142625698313\n",
      "Epoch: 61 Iteration: 5800. Train_MSE: 0.0010402621701359749. Test_MSE: 0.00021212363106602017\n",
      "Epoch: 62 Iteration: 5900. Train_MSE: 0.0007671270286664367. Test_MSE: 0.0002123459536390769\n",
      "Epoch: 63 Iteration: 6000. Train_MSE: 0.00123188819270581. Test_MSE: 0.00021086022374968043\n",
      "Epoch: 64 Iteration: 6100. Train_MSE: 0.010464143939316273. Test_MSE: 0.00020975305811266854\n",
      "Epoch: 65 Iteration: 6200. Train_MSE: 0.002152932807803154. Test_MSE: 0.0002083157272943047\n",
      "Epoch: 66 Iteration: 6300. Train_MSE: 0.0011320107150822878. Test_MSE: 0.00020706008880232672\n",
      "Epoch: 67 Iteration: 6400. Train_MSE: 0.001344962976872921. Test_MSE: 0.00020576963783139614\n",
      "Epoch: 68 Iteration: 6500. Train_MSE: 0.0004888481344096363. Test_MSE: 0.00020480971751249657\n",
      "Epoch: 69 Iteration: 6600. Train_MSE: 0.00039494605152867734. Test_MSE: 0.00020227781463922687\n",
      "Epoch: 70 Iteration: 6700. Train_MSE: 0.00046436101547442377. Test_MSE: 0.00020140386855459035\n",
      "Epoch: 71 Iteration: 6800. Train_MSE: 0.000926563807297498. Test_MSE: 0.0002018372629306823\n",
      "Epoch: 72 Iteration: 6900. Train_MSE: 0.000869413313921541. Test_MSE: 0.00020151781450110113\n",
      "Epoch: 73 Iteration: 7000. Train_MSE: 0.0011783509980887175. Test_MSE: 0.0002010754091931756\n",
      "Epoch: 74 Iteration: 7100. Train_MSE: 0.0012883683666586876. Test_MSE: 0.00019963241177374942\n",
      "Epoch: 75 Iteration: 7200. Train_MSE: 0.00234427978284657. Test_MSE: 0.00019794594998360994\n",
      "Epoch: 76 Iteration: 7300. Train_MSE: 0.0009092558757402003. Test_MSE: 0.00019708432928411965\n",
      "Epoch: 77 Iteration: 7400. Train_MSE: 0.000715063710231334. Test_MSE: 0.00019639622266391353\n",
      "Epoch: 78 Iteration: 7500. Train_MSE: 0.00041410644189454615. Test_MSE: 0.0001949278575541972\n",
      "Epoch: 79 Iteration: 7600. Train_MSE: 0.00030812370823696256. Test_MSE: 0.00019264427347622382\n",
      "Epoch: 81 Iteration: 7700. Train_MSE: 0.0009113719570450485. Test_MSE: 0.00019220515045387487\n",
      "Epoch: 82 Iteration: 7800. Train_MSE: 0.0005597157287411392. Test_MSE: 0.00019254338055247537\n",
      "Epoch: 83 Iteration: 7900. Train_MSE: 0.0009684014949016273. Test_MSE: 0.00019128163962015617\n",
      "Epoch: 84 Iteration: 8000. Train_MSE: 0.01015504915267229. Test_MSE: 0.00019043097128802167\n",
      "Epoch: 85 Iteration: 8100. Train_MSE: 0.001853585708886385. Test_MSE: 0.0001893257782386545\n",
      "Epoch: 86 Iteration: 8200. Train_MSE: 0.0008749706903472543. Test_MSE: 0.0001884028286099696\n",
      "Epoch: 87 Iteration: 8300. Train_MSE: 0.0011143276933580637. Test_MSE: 0.00018745719066078453\n",
      "Epoch: 88 Iteration: 8400. Train_MSE: 0.0003788026806432754. Test_MSE: 0.00018678607639995582\n",
      "Epoch: 89 Iteration: 8500. Train_MSE: 0.00032934031332843006. Test_MSE: 0.00018454331540323997\n",
      "Epoch: 90 Iteration: 8600. Train_MSE: 0.00039970423677004874. Test_MSE: 0.00018383464562609468\n",
      "Epoch: 91 Iteration: 8700. Train_MSE: 0.0007436546147800982. Test_MSE: 0.00018428482292929564\n",
      "Epoch: 92 Iteration: 8800. Train_MSE: 0.0006733537302352488. Test_MSE: 0.00018403864369192707\n",
      "Epoch: 93 Iteration: 8900. Train_MSE: 0.0009431242942810059. Test_MSE: 0.00018370338674570145\n",
      "Epoch: 94 Iteration: 9000. Train_MSE: 0.001047885394655168. Test_MSE: 0.00018250682942338233\n"
     ]
    },
    {
     "name": "stdout",
     "output_type": "stream",
     "text": [
      "Epoch: 95 Iteration: 9100. Train_MSE: 0.002063416177406907. Test_MSE: 0.00018111734095469615\n",
      "Epoch: 96 Iteration: 9200. Train_MSE: 0.0007277397671714425. Test_MSE: 0.0001805410853939828\n",
      "Epoch: 97 Iteration: 9300. Train_MSE: 0.0005727705429308116. Test_MSE: 0.00018010854222937151\n",
      "Epoch: 98 Iteration: 9400. Train_MSE: 0.000340766622684896. Test_MSE: 0.00017890032059088588\n",
      "Epoch: 99 Iteration: 9500. Train_MSE: 0.0002643617335706949. Test_MSE: 0.00017686063541588957\n",
      "Epoch: 101 Iteration: 9600. Train_MSE: 0.0008220250019803643. Test_MSE: 0.00017650770063344857\n",
      "Epoch: 102 Iteration: 9700. Train_MSE: 0.00042297347681596875. Test_MSE: 0.00017688909651547447\n",
      "Epoch: 103 Iteration: 9800. Train_MSE: 0.000779922294896096. Test_MSE: 0.00017577721663710987\n",
      "Epoch: 104 Iteration: 9900. Train_MSE: 0.009928803890943527. Test_MSE: 0.0001750947170354167\n",
      "Epoch: 105 Iteration: 10000. Train_MSE: 0.0016444697976112366. Test_MSE: 0.00017422514408063067\n",
      "Epoch: 106 Iteration: 10100. Train_MSE: 0.0006981285405345261. Test_MSE: 0.00017353816514431285\n",
      "Epoch: 107 Iteration: 10200. Train_MSE: 0.000947299471590668. Test_MSE: 0.00017284675453558838\n",
      "Epoch: 108 Iteration: 10300. Train_MSE: 0.00030391200562007725. Test_MSE: 0.0001723845578100251\n",
      "Epoch: 109 Iteration: 10400. Train_MSE: 0.0002791433362290263. Test_MSE: 0.00017037401671771\n",
      "Epoch: 110 Iteration: 10500. Train_MSE: 0.00035351005499251187. Test_MSE: 0.00016978401105032035\n",
      "Epoch: 111 Iteration: 10600. Train_MSE: 0.0006239758222363889. Test_MSE: 0.0001702163148675497\n",
      "Epoch: 112 Iteration: 10700. Train_MSE: 0.0005324428202584386. Test_MSE: 0.00016999956475435187\n",
      "Epoch: 113 Iteration: 10800. Train_MSE: 0.0007707906770519912. Test_MSE: 0.00016972108406968964\n",
      "Epoch: 114 Iteration: 10900. Train_MSE: 0.0008761791978031397. Test_MSE: 0.0001686998110980594\n",
      "Epoch: 115 Iteration: 11000. Train_MSE: 0.0018585360376164317. Test_MSE: 0.0001675271565588885\n",
      "Epoch: 116 Iteration: 11100. Train_MSE: 0.0005987577023915946. Test_MSE: 0.00016715190424577135\n",
      "Epoch: 117 Iteration: 11200. Train_MSE: 0.00046809788909740746. Test_MSE: 0.00016689905428142444\n",
      "Epoch: 118 Iteration: 11300. Train_MSE: 0.00028674950590357184. Test_MSE: 0.00016588660568130287\n",
      "Epoch: 119 Iteration: 11400. Train_MSE: 0.00023002196394372731. Test_MSE: 0.00016404511340020986\n",
      "Epoch: 121 Iteration: 11500. Train_MSE: 0.0007580590900033712. Test_MSE: 0.0001637453709814576\n",
      "Epoch: 122 Iteration: 11600. Train_MSE: 0.0003303365083411336. Test_MSE: 0.00016413075777690632\n",
      "Epoch: 123 Iteration: 11700. Train_MSE: 0.0006417789845727384. Test_MSE: 0.00016312830792414293\n",
      "Epoch: 124 Iteration: 11800. Train_MSE: 0.009759433567523956. Test_MSE: 0.0001625558690386987\n",
      "Epoch: 125 Iteration: 11900. Train_MSE: 0.0014940161490812898. Test_MSE: 0.0001618492648915673\n",
      "Epoch: 126 Iteration: 12000. Train_MSE: 0.0005721224588342011. Test_MSE: 0.00016132670745436578\n",
      "Epoch: 127 Iteration: 12100. Train_MSE: 0.0008235052810050547. Test_MSE: 0.00016081776941565543\n",
      "Epoch: 128 Iteration: 12200. Train_MSE: 0.0002516425447538495. Test_MSE: 0.00016050345356048896\n",
      "Epoch: 129 Iteration: 12300. Train_MSE: 0.00023955195501912385. Test_MSE: 0.00015868485342459274\n",
      "Epoch: 130 Iteration: 12400. Train_MSE: 0.0003199531929567456. Test_MSE: 0.0001581854742721231\n",
      "Epoch: 131 Iteration: 12500. Train_MSE: 0.0005441601388156414. Test_MSE: 0.00015858388086857704\n",
      "Epoch: 132 Iteration: 12600. Train_MSE: 0.00042989279609173536. Test_MSE: 0.00015837298041832524\n",
      "Epoch: 133 Iteration: 12700. Train_MSE: 0.000641693128272891. Test_MSE: 0.00015811842514418007\n",
      "Epoch: 134 Iteration: 12800. Train_MSE: 0.0007516233599744737. Test_MSE: 0.00015722578110492075\n",
      "Epoch: 135 Iteration: 12900. Train_MSE: 0.001704762107692659. Test_MSE: 0.000156214259512984\n",
      "Epoch: 136 Iteration: 13000. Train_MSE: 0.0005033924826420844. Test_MSE: 0.00015597956911728882\n",
      "Epoch: 137 Iteration: 13100. Train_MSE: 0.0003899406874552369. Test_MSE: 0.00015585301245430147\n",
      "Epoch: 138 Iteration: 13200. Train_MSE: 0.0002461901749484241. Test_MSE: 0.00015499685529535062\n",
      "Epoch: 139 Iteration: 13300. Train_MSE: 0.00020247575594112277. Test_MSE: 0.00015332945295889726\n",
      "Epoch: 141 Iteration: 13400. Train_MSE: 0.0007104905089363456. Test_MSE: 0.0001530695307404904\n",
      "Epoch: 142 Iteration: 13500. Train_MSE: 0.0002658974553924054. Test_MSE: 0.00015344273504219557\n",
      "Epoch: 143 Iteration: 13600. Train_MSE: 0.0005382851231843233. Test_MSE: 0.00015252831408609855\n",
      "Epoch: 144 Iteration: 13700. Train_MSE: 0.009630807675421238. Test_MSE: 0.0001520357623258837\n",
      "Epoch: 145 Iteration: 13800. Train_MSE: 0.0013839197345077991. Test_MSE: 0.00015144958191538798\n",
      "Epoch: 146 Iteration: 13900. Train_MSE: 0.000479956332128495. Test_MSE: 0.00015104715498202048\n",
      "Epoch: 147 Iteration: 14000. Train_MSE: 0.0007300337310880423. Test_MSE: 0.00015067670913843364\n",
      "Epoch: 148 Iteration: 14100. Train_MSE: 0.0002143060992239043. Test_MSE: 0.00015047202792944597\n",
      "Epoch: 149 Iteration: 14200. Train_MSE: 0.00020771946583408862. Test_MSE: 0.00014882440378479158\n",
      "Epoch: 150 Iteration: 14300. Train_MSE: 0.0002947357133962214. Test_MSE: 0.00014840234176676138\n",
      "Epoch: 151 Iteration: 14400. Train_MSE: 0.0004897962789982557. Test_MSE: 0.000148766651987884\n",
      "Epoch: 152 Iteration: 14500. Train_MSE: 0.00035435735480859876. Test_MSE: 0.00014855673726088469\n",
      "Epoch: 153 Iteration: 14600. Train_MSE: 0.0005434785853140056. Test_MSE: 0.00014831807037868954\n",
      "Epoch: 154 Iteration: 14700. Train_MSE: 0.0006602135254070163. Test_MSE: 0.00014752715433873106\n",
      "Epoch: 155 Iteration: 14800. Train_MSE: 0.0015871968353167176. Test_MSE: 0.00014664108450525783\n",
      "Epoch: 156 Iteration: 14900. Train_MSE: 0.00043217107304371893. Test_MSE: 0.0001465032020281703\n",
      "Epoch: 157 Iteration: 15000. Train_MSE: 0.00033049925696104765. Test_MSE: 0.00014646584568286063\n",
      "Epoch: 158 Iteration: 15100. Train_MSE: 0.00021538970759138465. Test_MSE: 0.00014573817693698882\n",
      "Epoch: 159 Iteration: 15200. Train_MSE: 0.00018022162839770317. Test_MSE: 0.0001442279203281698\n",
      "Epoch: 161 Iteration: 15300. Train_MSE: 0.0006732908077538013. Test_MSE: 0.0001440006586024616\n",
      "Epoch: 162 Iteration: 15400. Train_MSE: 0.0002200218295911327. Test_MSE: 0.00014434939017474136\n",
      "Epoch: 163 Iteration: 15500. Train_MSE: 0.00045959374983794987. Test_MSE: 0.0001435089626781987\n",
      "Epoch: 164 Iteration: 15600. Train_MSE: 0.009532175958156586. Test_MSE: 0.0001430726617953178\n",
      "Epoch: 165 Iteration: 15700. Train_MSE: 0.0013019308680668473. Test_MSE: 0.00014257374149919254\n",
      "Epoch: 166 Iteration: 15800. Train_MSE: 0.0004111889284104109. Test_MSE: 0.00014225601572729065\n",
      "Epoch: 167 Iteration: 15900. Train_MSE: 0.0006582101341336966. Test_MSE: 0.00014198650383706482\n",
      "Epoch: 168 Iteration: 16000. Train_MSE: 0.00018696475308388472. Test_MSE: 0.00014186304818737512\n",
      "Epoch: 169 Iteration: 16100. Train_MSE: 0.00018200337945017964. Test_MSE: 0.0001403685977753476\n",
      "Epoch: 170 Iteration: 16200. Train_MSE: 0.00027499403222464025. Test_MSE: 0.00014001079581290422\n",
      "Epoch: 171 Iteration: 16300. Train_MSE: 0.0004513846361078322. Test_MSE: 0.0001403399508067077\n",
      "Epoch: 172 Iteration: 16400. Train_MSE: 0.00029815404559485614. Test_MSE: 0.0001401244548173063\n",
      "Epoch: 173 Iteration: 16500. Train_MSE: 0.0004673560615628958. Test_MSE: 0.00013988990924869384\n",
      "Epoch: 174 Iteration: 16600. Train_MSE: 0.0005924181896261871. Test_MSE: 0.0001391772684408076\n",
      "Epoch: 175 Iteration: 16700. Train_MSE: 0.001495943171903491. Test_MSE: 0.00013839031838948964\n",
      "Epoch: 176 Iteration: 16800. Train_MSE: 0.0003778671962209046. Test_MSE: 0.0001383230435727306\n",
      "Epoch: 177 Iteration: 16900. Train_MSE: 0.000284231617115438. Test_MSE: 0.00013835181233973245\n",
      "Epoch: 178 Iteration: 17000. Train_MSE: 0.00019182539836037904. Test_MSE: 0.00013773024547047766\n",
      "Epoch: 179 Iteration: 17100. Train_MSE: 0.00016206597501877695. Test_MSE: 0.0001363618494935218\n",
      "Epoch: 181 Iteration: 17200. Train_MSE: 0.000642704195342958. Test_MSE: 0.0001361659971685143\n",
      "Epoch: 182 Iteration: 17300. Train_MSE: 0.0001869273983174935. Test_MSE: 0.00013648980908137593\n",
      "Epoch: 183 Iteration: 17400. Train_MSE: 0.0003989509423263371. Test_MSE: 0.00013571624904148906\n",
      "Epoch: 184 Iteration: 17500. Train_MSE: 0.009455516003072262. Test_MSE: 0.00013532697356232718\n",
      "Epoch: 185 Iteration: 17600. Train_MSE: 0.0012399074621498585. Test_MSE: 0.00013489575720662106\n"
     ]
    },
    {
     "name": "stdout",
     "output_type": "stream",
     "text": [
      "Epoch: 186 Iteration: 17700. Train_MSE: 0.00035868215491063893. Test_MSE: 0.00013464187658743568\n",
      "Epoch: 187 Iteration: 17800. Train_MSE: 0.0006018590647727251. Test_MSE: 0.00013445547509253382\n",
      "Epoch: 188 Iteration: 17900. Train_MSE: 0.00016659084940329194. Test_MSE: 0.00013439619000444323\n",
      "Epoch: 189 Iteration: 18000. Train_MSE: 0.00016110781871248037. Test_MSE: 0.00013304182271406363\n",
      "Epoch: 190 Iteration: 18100. Train_MSE: 0.00025923395878635347. Test_MSE: 0.0001327455213739952\n",
      "Epoch: 191 Iteration: 18200. Train_MSE: 0.0004230492631904781. Test_MSE: 0.00013304682440777731\n",
      "Epoch: 192 Iteration: 18300. Train_MSE: 0.00025587089476175606. Test_MSE: 0.00013283122775006707\n",
      "Epoch: 193 Iteration: 18400. Train_MSE: 0.00040770231862552464. Test_MSE: 0.00013260342690205\n",
      "Epoch: 194 Iteration: 18500. Train_MSE: 0.0005416242638602853. Test_MSE: 0.00013195786391030428\n",
      "Epoch: 195 Iteration: 18600. Train_MSE: 0.0014243349432945251. Test_MSE: 0.00013125312709301364\n",
      "Epoch: 196 Iteration: 18700. Train_MSE: 0.0003356719680596143. Test_MSE: 0.00013123563517305556\n",
      "Epoch: 197 Iteration: 18800. Train_MSE: 0.0002476120716892183. Test_MSE: 0.00013131290772206244\n",
      "Epoch: 198 Iteration: 18900. Train_MSE: 0.00017358014883939177. Test_MSE: 0.0001307824464942137\n",
      "Epoch: 199 Iteration: 19000. Train_MSE: 0.00014712262782268226. Test_MSE: 0.00012954410985507582\n",
      "Epoch: 201 Iteration: 19100. Train_MSE: 0.0006168557447381318. Test_MSE: 0.00012937729512846043\n",
      "Epoch: 202 Iteration: 19200. Train_MSE: 0.0001626908779144287. Test_MSE: 0.00012968006522915405\n",
      "Epoch: 203 Iteration: 19300. Train_MSE: 0.0003515665594022721. Test_MSE: 0.0001289683588722397\n",
      "Epoch: 204 Iteration: 19400. Train_MSE: 0.009395113214850426. Test_MSE: 0.00012861610850550928\n",
      "Epoch: 205 Iteration: 19500. Train_MSE: 0.0011923402780666947. Test_MSE: 0.00012823859633305181\n",
      "Epoch: 206 Iteration: 19600. Train_MSE: 0.0003181514621246606. Test_MSE: 0.0001280345744511653\n",
      "Epoch: 207 Iteration: 19700. Train_MSE: 0.0005573674570769072. Test_MSE: 0.0001279109670110027\n",
      "Epoch: 208 Iteration: 19800. Train_MSE: 0.00015100368182174861. Test_MSE: 0.00012790165800878297\n",
      "Epoch: 209 Iteration: 19900. Train_MSE: 0.0001441134954802692. Test_MSE: 0.00012667703605714786\n",
      "Epoch: 210 Iteration: 20000. Train_MSE: 0.0002464201534166932. Test_MSE: 0.00012643785409995073\n",
      "Epoch: 211 Iteration: 20100. Train_MSE: 0.0004018202889710665. Test_MSE: 0.00012671822250934073\n",
      "Epoch: 212 Iteration: 20200. Train_MSE: 0.00022383900068234652. Test_MSE: 0.00012650618317055937\n",
      "Epoch: 213 Iteration: 20300. Train_MSE: 0.0003603958757594228. Test_MSE: 0.00012628545791352759\n",
      "Epoch: 214 Iteration: 20400. Train_MSE: 0.0005032147164456546. Test_MSE: 0.0001257000151477826\n",
      "Epoch: 215 Iteration: 20500. Train_MSE: 0.0013674768852069974. Test_MSE: 0.000125065905770293\n",
      "Epoch: 216 Iteration: 20600. Train_MSE: 0.0003026009362656623. Test_MSE: 0.00012508629635414202\n",
      "Epoch: 217 Iteration: 20700. Train_MSE: 0.00021832110360264778. Test_MSE: 0.00012519989559020474\n",
      "Epoch: 218 Iteration: 20800. Train_MSE: 0.0001593038614373654. Test_MSE: 0.00012474683431045624\n",
      "Epoch: 219 Iteration: 20900. Train_MSE: 0.00013481860514730215. Test_MSE: 0.00012362722852901113\n",
      "Epoch: 221 Iteration: 21000. Train_MSE: 0.0005942873540334404. Test_MSE: 0.000123489261513072\n",
      "Epoch: 222 Iteration: 21100. Train_MSE: 0.00014472781913354993. Test_MSE: 0.0001237692487248684\n",
      "Epoch: 223 Iteration: 21200. Train_MSE: 0.00031416252022609115. Test_MSE: 0.00012311253946179198\n",
      "Epoch: 224 Iteration: 21300. Train_MSE: 0.009346937760710716. Test_MSE: 0.0001227885588494689\n",
      "Epoch: 225 Iteration: 21400. Train_MSE: 0.001155331265181303. Test_MSE: 0.0001224510828138839\n",
      "Epoch: 226 Iteration: 21500. Train_MSE: 0.00028643308905884624. Test_MSE: 0.00012228170112330933\n",
      "Epoch: 227 Iteration: 21600. Train_MSE: 0.0005218472797423601. Test_MSE: 0.0001222048269161174\n",
      "Epoch: 228 Iteration: 21700. Train_MSE: 0.00013869140821043402. Test_MSE: 0.00012223123210674018\n",
      "Epoch: 229 Iteration: 21800. Train_MSE: 0.0001303051394643262. Test_MSE: 0.00012111822763035838\n",
      "Epoch: 230 Iteration: 21900. Train_MSE: 0.00023560566478408873. Test_MSE: 0.0001209241609217188\n",
      "Epoch: 231 Iteration: 22000. Train_MSE: 0.00038539644447155297. Test_MSE: 0.00012118303301347685\n",
      "Epoch: 232 Iteration: 22100. Train_MSE: 0.00019950234855059534. Test_MSE: 0.00012097261907350396\n",
      "Epoch: 233 Iteration: 22200. Train_MSE: 0.0003225375839974731. Test_MSE: 0.0001207544576032094\n",
      "Epoch: 234 Iteration: 22300. Train_MSE: 0.00047385256038978696. Test_MSE: 0.00012021616106353561\n",
      "Epoch: 235 Iteration: 22400. Train_MSE: 0.0013218196108937263. Test_MSE: 0.00011963795202789786\n",
      "Epoch: 236 Iteration: 22500. Train_MSE: 0.0002762244548648596. Test_MSE: 0.00011967909109604851\n",
      "Epoch: 237 Iteration: 22600. Train_MSE: 0.00019455357687547803. Test_MSE: 0.00011981217205098741\n",
      "Epoch: 238 Iteration: 22700. Train_MSE: 0.00014807897969149053. Test_MSE: 0.00011941928169948388\n",
      "Epoch: 239 Iteration: 22800. Train_MSE: 0.00012461008736863732. Test_MSE: 0.0001184024655268622\n",
      "Epoch: 241 Iteration: 22900. Train_MSE: 0.0005742245120927691. Test_MSE: 0.00011828574699123068\n",
      "Epoch: 242 Iteration: 23000. Train_MSE: 0.00013129452418070287. Test_MSE: 0.00011854147457098928\n",
      "Epoch: 243 Iteration: 23100. Train_MSE: 0.0002842548710759729. Test_MSE: 0.00011793509752034792\n",
      "Epoch: 244 Iteration: 23200. Train_MSE: 0.009308208711445332. Test_MSE: 0.00011763757279783676\n",
      "Epoch: 245 Iteration: 23300. Train_MSE: 0.0011261829640716314. Test_MSE: 0.00011733476572364282\n",
      "Epoch: 246 Iteration: 23400. Train_MSE: 0.00026143659488298. Test_MSE: 0.00011719311599925733\n",
      "Epoch: 247 Iteration: 23500. Train_MSE: 0.0004931830917485058. Test_MSE: 0.00011715455862984279\n",
      "Epoch: 248 Iteration: 23600. Train_MSE: 0.00012878916459158063. Test_MSE: 0.00011721039510507283\n",
      "Epoch: 249 Iteration: 23700. Train_MSE: 0.00011902411642950028. Test_MSE: 0.00011620095312613182\n",
      "Epoch: 250 Iteration: 23800. Train_MSE: 0.00022638618247583508. Test_MSE: 0.00011605217262960708\n",
      "Epoch: 251 Iteration: 23900. Train_MSE: 0.00037231811438687146. Test_MSE: 0.00011629880051643624\n",
      "Epoch: 252 Iteration: 24000. Train_MSE: 0.00018089752120431513. Test_MSE: 0.00011609561383820788\n",
      "Epoch: 253 Iteration: 24100. Train_MSE: 0.0002919570542871952. Test_MSE: 0.0001158849030707775\n",
      "Epoch: 254 Iteration: 24200. Train_MSE: 0.0004512336163315922. Test_MSE: 0.00011539104550798492\n",
      "Epoch: 255 Iteration: 24300. Train_MSE: 0.0012848048936575651. Test_MSE: 0.00011486309381862774\n",
      "Epoch: 256 Iteration: 24400. Train_MSE: 0.0002550148346927017. Test_MSE: 0.00011492158031296853\n",
      "Epoch: 257 Iteration: 24500. Train_MSE: 0.00017504242714494467. Test_MSE: 0.00011507190822576105\n",
      "Epoch: 258 Iteration: 24600. Train_MSE: 0.00013915712770540267. Test_MSE: 0.00011473215318392561\n",
      "Epoch: 259 Iteration: 24700. Train_MSE: 0.0001161178297479637. Test_MSE: 0.00011381003211228112\n",
      "Epoch: 261 Iteration: 24800. Train_MSE: 0.0005559883429668844. Test_MSE: 0.00011371530196411978\n",
      "Epoch: 262 Iteration: 24900. Train_MSE: 0.00012107935617677867. Test_MSE: 0.00011395147751371967\n",
      "Epoch: 263 Iteration: 25000. Train_MSE: 0.00026007008273154497. Test_MSE: 0.00011339245104396726\n",
      "Epoch: 264 Iteration: 25100. Train_MSE: 0.009276765398681164. Test_MSE: 0.00011311690359910558\n",
      "Epoch: 265 Iteration: 25200. Train_MSE: 0.001102937269024551. Test_MSE: 0.00011284107285807482\n",
      "Epoch: 266 Iteration: 25300. Train_MSE: 0.00024146458599716425. Test_MSE: 0.00011271983964559231\n",
      "Epoch: 267 Iteration: 25400. Train_MSE: 0.0004698218544945121. Test_MSE: 0.000112710600685388\n",
      "Epoch: 268 Iteration: 25500. Train_MSE: 0.0001205460139317438. Test_MSE: 0.00011278688347197344\n",
      "Epoch: 269 Iteration: 25600. Train_MSE: 0.00010981687228195369. Test_MSE: 0.00011186906981632288\n",
      "Epoch: 270 Iteration: 25700. Train_MSE: 0.00021805941651109606. Test_MSE: 0.00011175716208341098\n",
      "Epoch: 271 Iteration: 25800. Train_MSE: 0.00036118095158599317. Test_MSE: 0.00011198755252620613\n",
      "Epoch: 272 Iteration: 25900. Train_MSE: 0.0001665964227868244. Test_MSE: 0.00011178868612275585\n",
      "Epoch: 273 Iteration: 26000. Train_MSE: 0.00026703570620156825. Test_MSE: 0.00011158406556858568\n",
      "Epoch: 274 Iteration: 26100. Train_MSE: 0.0004336558922659606. Test_MSE: 0.0001111281657192856\n",
      "Epoch: 275 Iteration: 26200. Train_MSE: 0.0012545419158414006. Test_MSE: 0.00011064314164727437\n"
     ]
    },
    {
     "name": "stdout",
     "output_type": "stream",
     "text": [
      "Epoch: 276 Iteration: 26300. Train_MSE: 0.00023779345792718232. Test_MSE: 0.00011071192570269362\n",
      "Epoch: 277 Iteration: 26400. Train_MSE: 0.0001588613959029317. Test_MSE: 0.00011087136265319764\n",
      "Epoch: 278 Iteration: 26500. Train_MSE: 0.00013201562978792936. Test_MSE: 0.00011057572335867511\n",
      "Epoch: 279 Iteration: 26600. Train_MSE: 0.00010901068162638694. Test_MSE: 0.00010973510133001646\n",
      "Epoch: 281 Iteration: 26700. Train_MSE: 0.0005392248276621103. Test_MSE: 0.00010965709992145\n",
      "Epoch: 282 Iteration: 26800. Train_MSE: 0.00011317108146613464. Test_MSE: 0.00010987556712234237\n",
      "Epoch: 283 Iteration: 26900. Train_MSE: 0.00024032793589867651. Test_MSE: 0.00010936015668787167\n",
      "Epoch: 284 Iteration: 27000. Train_MSE: 0.009251076728105545. Test_MSE: 0.00010910392635298912\n",
      "Epoch: 285 Iteration: 27100. Train_MSE: 0.0010842288611456752. Test_MSE: 0.00010885059174066919\n",
      "Epoch: 286 Iteration: 27200. Train_MSE: 0.00022517639445140958. Test_MSE: 0.00010874636690019984\n",
      "Epoch: 287 Iteration: 27300. Train_MSE: 0.0004505993565544486. Test_MSE: 0.00010876115177615535\n",
      "Epoch: 288 Iteration: 27400. Train_MSE: 0.00011372598237358034. Test_MSE: 0.00010885410793198313\n",
      "Epoch: 289 Iteration: 27500. Train_MSE: 0.00010229744657408446. Test_MSE: 0.00010801927117636763\n",
      "Epoch: 290 Iteration: 27600. Train_MSE: 0.00021066110639367253. Test_MSE: 0.00010794134288552087\n",
      "Epoch: 291 Iteration: 27700. Train_MSE: 0.00035154554643668234. Test_MSE: 0.00010816140119353363\n",
      "Epoch: 292 Iteration: 27800. Train_MSE: 0.00015555607387796044. Test_MSE: 0.00010797070990701806\n",
      "Epoch: 293 Iteration: 27900. Train_MSE: 0.0002465717261657119. Test_MSE: 0.00010777393941392183\n",
      "Epoch: 294 Iteration: 28000. Train_MSE: 0.00041988727753050625. Test_MSE: 0.00010735390744839145\n",
      "Epoch: 295 Iteration: 28100. Train_MSE: 0.0012295690830796957. Test_MSE: 0.00010690859587095559\n",
      "Epoch: 296 Iteration: 28200. Train_MSE: 0.00022360750881489366. Test_MSE: 0.00010698543097244756\n",
      "Epoch: 297 Iteration: 28300. Train_MSE: 0.0001453406730433926. Test_MSE: 0.00010715270826810524\n",
      "Epoch: 298 Iteration: 28400. Train_MSE: 0.0001262963196495548. Test_MSE: 0.00010689598672176986\n",
      "Epoch: 299 Iteration: 28500. Train_MSE: 0.00010301629663445055. Test_MSE: 0.00010613168346780055\n",
      "Epoch: 301 Iteration: 28600. Train_MSE: 0.0005235354765318334. Test_MSE: 0.0001060728125773438\n",
      "Epoch: 302 Iteration: 28700. Train_MSE: 0.00010702399595174938. Test_MSE: 0.00010627543576285482\n",
      "Epoch: 303 Iteration: 28800. Train_MSE: 0.0002240413596155122. Test_MSE: 0.00010580035171738456\n",
      "Epoch: 304 Iteration: 28900. Train_MSE: 0.009229929186403751. Test_MSE: 0.00010556262894988253\n",
      "Epoch: 305 Iteration: 29000. Train_MSE: 0.0010689864866435528. Test_MSE: 0.00010533019461689997\n",
      "Epoch: 306 Iteration: 29100. Train_MSE: 0.00021192144777160138. Test_MSE: 0.00010523829930373045\n",
      "Epoch: 307 Iteration: 29200. Train_MSE: 0.00043460517190396786. Test_MSE: 0.00010527125708896791\n",
      "Epoch: 308 Iteration: 29300. Train_MSE: 0.00010803701297845691. Test_MSE: 0.00010537649881471339\n",
      "Epoch: 309 Iteration: 29400. Train_MSE: 9.619912452762946e-05. Test_MSE: 0.00010461669965600744\n",
      "Epoch: 310 Iteration: 29500. Train_MSE: 0.00020401380606926978. Test_MSE: 0.00010456848983559584\n",
      "Epoch: 311 Iteration: 29600. Train_MSE: 0.0003430211218073964. Test_MSE: 0.00010477976936212964\n",
      "Epoch: 312 Iteration: 29700. Train_MSE: 0.00014698591257911175. Test_MSE: 0.0001045979017009536\n",
      "Epoch: 313 Iteration: 29800. Train_MSE: 0.00022971947328187525. Test_MSE: 0.00010441055990461056\n",
      "Epoch: 314 Iteration: 29900. Train_MSE: 0.00040897566941566765. Test_MSE: 0.00010402417269961836\n",
      "Epoch: 315 Iteration: 30000. Train_MSE: 0.0012087522773072124. Test_MSE: 0.00010361444693441132\n",
      "Epoch: 316 Iteration: 30100. Train_MSE: 0.00021171418484300375. Test_MSE: 0.0001036970741550579\n",
      "Epoch: 317 Iteration: 30200. Train_MSE: 0.00013395620044320822. Test_MSE: 0.00010386880455371967\n",
      "Epoch: 318 Iteration: 30300. Train_MSE: 0.00012169240653747693. Test_MSE: 0.0001036463598673035\n",
      "Epoch: 319 Iteration: 30400. Train_MSE: 9.79148389887996e-05. Test_MSE: 0.00010295086883209382\n",
      "Epoch: 321 Iteration: 30500. Train_MSE: 0.0005087130703032017. Test_MSE: 0.00010290915531415923\n",
      "Epoch: 322 Iteration: 30600. Train_MSE: 0.00010214725625701249. Test_MSE: 0.00010309913713619426\n",
      "Epoch: 323 Iteration: 30700. Train_MSE: 0.00021051800285931677. Test_MSE: 0.00010266233143648202\n",
      "Epoch: 324 Iteration: 30800. Train_MSE: 0.009212413802742958. Test_MSE: 0.00010244187624679271\n",
      "Epoch: 325 Iteration: 30900. Train_MSE: 0.0010564919793978333. Test_MSE: 0.00010222843393449928\n",
      "Epoch: 326 Iteration: 31000. Train_MSE: 0.00020100796245969832. Test_MSE: 0.00010214910398929928\n",
      "Epoch: 327 Iteration: 31100. Train_MSE: 0.00042113728704862297. Test_MSE: 0.0001021976356264041\n",
      "Epoch: 328 Iteration: 31200. Train_MSE: 0.00010315029794583097. Test_MSE: 0.00010231227310201945\n",
      "Epoch: 329 Iteration: 31300. Train_MSE: 9.128754027187824e-05. Test_MSE: 0.00010162020762325445\n",
      "Epoch: 330 Iteration: 31400. Train_MSE: 0.0001980537927011028. Test_MSE: 0.00010159708804560509\n",
      "Epoch: 331 Iteration: 31500. Train_MSE: 0.0003352438798174262. Test_MSE: 0.00010179981589073756\n",
      "Epoch: 332 Iteration: 31600. Train_MSE: 0.0001403385540470481. Test_MSE: 0.0001016275686818186\n",
      "Epoch: 333 Iteration: 31700. Train_MSE: 0.0002157363633159548. Test_MSE: 0.00010144929158820768\n",
      "Epoch: 334 Iteration: 31800. Train_MSE: 0.00040023267501965165. Test_MSE: 0.0001010923115315044\n",
      "Epoch: 335 Iteration: 31900. Train_MSE: 0.0011912259506061673. Test_MSE: 0.00010071406593067047\n",
      "Epoch: 336 Iteration: 32000. Train_MSE: 0.0002017461520154029. Test_MSE: 0.00010079915339501922\n",
      "Epoch: 337 Iteration: 32100. Train_MSE: 0.00012415039236657321. Test_MSE: 0.00010097203315084139\n",
      "Epoch: 338 Iteration: 32200. Train_MSE: 0.00011797173647210002. Test_MSE: 0.00010077643583362723\n",
      "Epoch: 339 Iteration: 32300. Train_MSE: 9.354433859698474e-05. Test_MSE: 0.00010014136238410158\n",
      "Epoch: 341 Iteration: 32400. Train_MSE: 0.0004946764674969018. Test_MSE: 0.00010011277993753244\n",
      "Epoch: 342 Iteration: 32500. Train_MSE: 9.82195051619783e-05. Test_MSE: 0.00010028975248108069\n",
      "Epoch: 343 Iteration: 32600. Train_MSE: 0.00019917306781280786. Test_MSE: 9.988724802038731e-05\n",
      "Epoch: 344 Iteration: 32700. Train_MSE: 0.009197689592838287. Test_MSE: 9.968104110395265e-05\n",
      "Epoch: 345 Iteration: 32800. Train_MSE: 0.0010460985358804464. Test_MSE: 9.948162562888676e-05\n",
      "Epoch: 346 Iteration: 32900. Train_MSE: 0.00019192096078768373. Test_MSE: 9.941079681175363e-05\n",
      "Epoch: 347 Iteration: 33000. Train_MSE: 0.0004096510529052466. Test_MSE: 9.946891315673856e-05\n",
      "Epoch: 348 Iteration: 33100. Train_MSE: 9.891544323181733e-05. Test_MSE: 9.958767736788965e-05\n",
      "Epoch: 349 Iteration: 33200. Train_MSE: 8.730041736271232e-05. Test_MSE: 9.89539627523823e-05\n",
      "Epoch: 350 Iteration: 33300. Train_MSE: 0.0001926230761455372. Test_MSE: 9.895048539585607e-05\n",
      "Epoch: 351 Iteration: 33400. Train_MSE: 0.00032809621188789606. Test_MSE: 9.914426508774148e-05\n",
      "Epoch: 352 Iteration: 33500. Train_MSE: 0.0001351537212030962. Test_MSE: 9.898007731839243e-05\n",
      "Epoch: 353 Iteration: 33600. Train_MSE: 0.0002040322870016098. Test_MSE: 9.880969535225402e-05\n",
      "Epoch: 354 Iteration: 33700. Train_MSE: 0.00039316341280937195. Test_MSE: 9.847840664169399e-05\n",
      "Epoch: 355 Iteration: 33800. Train_MSE: 0.0011763391084969044. Test_MSE: 9.81273099522823e-05\n",
      "Epoch: 356 Iteration: 33900. Train_MSE: 0.00019335102115292102. Test_MSE: 9.821312979253908e-05\n",
      "Epoch: 357 Iteration: 34000. Train_MSE: 0.00011569693015189841. Test_MSE: 9.838404801244652e-05\n",
      "Epoch: 358 Iteration: 34100. Train_MSE: 0.00011486542643979192. Test_MSE: 9.82112776913396e-05\n",
      "Epoch: 359 Iteration: 34200. Train_MSE: 8.982243161881343e-05. Test_MSE: 9.762948244902285e-05\n",
      "Epoch: 361 Iteration: 34300. Train_MSE: 0.00048140782746486366. Test_MSE: 9.761199827113164e-05\n",
      "Epoch: 362 Iteration: 34400. Train_MSE: 9.502514149062335e-05. Test_MSE: 9.77759175994086e-05\n",
      "Epoch: 363 Iteration: 34500. Train_MSE: 0.00018956171697936952. Test_MSE: 9.740397422749661e-05\n",
      "Epoch: 364 Iteration: 34600. Train_MSE: 0.009185184724628925. Test_MSE: 9.721153593744067e-05\n",
      "Epoch: 365 Iteration: 34700. Train_MSE: 0.0010374051053076982. Test_MSE: 9.702684401090833e-05\n",
      "Epoch: 366 Iteration: 34800. Train_MSE: 0.00018434165394864976. Test_MSE: 9.696395775295764e-05\n"
     ]
    },
    {
     "name": "stdout",
     "output_type": "stream",
     "text": [
      "Epoch: 367 Iteration: 34900. Train_MSE: 0.0003998764732386917. Test_MSE: 9.703123780515246e-05\n",
      "Epoch: 368 Iteration: 35000. Train_MSE: 9.52219997998327e-05. Test_MSE: 9.715423017485448e-05\n",
      "Epoch: 369 Iteration: 35100. Train_MSE: 8.408512076130137e-05. Test_MSE: 9.6574880218844e-05\n",
      "Epoch: 370 Iteration: 35200. Train_MSE: 0.00018759073282126337. Test_MSE: 9.658935462865338e-05\n",
      "Epoch: 371 Iteration: 35300. Train_MSE: 0.0003214786993339658. Test_MSE: 9.677662794829704e-05\n",
      "Epoch: 372 Iteration: 35400. Train_MSE: 0.00013112039596308023. Test_MSE: 9.662134836516626e-05\n",
      "Epoch: 373 Iteration: 35500. Train_MSE: 0.0001941333757713437. Test_MSE: 9.645929354143551e-05\n",
      "Epoch: 374 Iteration: 35600. Train_MSE: 0.0003874105168506503. Test_MSE: 9.615170340522877e-05\n",
      "Epoch: 375 Iteration: 35700. Train_MSE: 0.0011636296985670924. Test_MSE: 9.582609111803516e-05\n",
      "Epoch: 376 Iteration: 35800. Train_MSE: 0.00018624711083248258. Test_MSE: 9.591233823850278e-05\n",
      "Epoch: 377 Iteration: 35900. Train_MSE: 0.00010842797928489745. Test_MSE: 9.608130300201335e-05\n",
      "Epoch: 378 Iteration: 36000. Train_MSE: 0.00011229368101339787. Test_MSE: 9.592807404964721e-05\n",
      "Epoch: 379 Iteration: 36100. Train_MSE: 8.664638880873099e-05. Test_MSE: 9.539371764002626e-05\n",
      "Epoch: 381 Iteration: 36200. Train_MSE: 0.0004687907639890909. Test_MSE: 9.53871706561979e-05\n",
      "Epoch: 382 Iteration: 36300. Train_MSE: 9.243649401469156e-05. Test_MSE: 9.55413980041585e-05\n",
      "Epoch: 383 Iteration: 36400. Train_MSE: 0.00018135645950678736. Test_MSE: 9.51984179421617e-05\n",
      "Epoch: 384 Iteration: 36500. Train_MSE: 0.009174448437988758. Test_MSE: 9.501878667220046e-05\n",
      "Epoch: 385 Iteration: 36600. Train_MSE: 0.0010300478897988796. Test_MSE: 9.484663461030087e-05\n",
      "Epoch: 386 Iteration: 36700. Train_MSE: 0.00017803272930905223. Test_MSE: 9.479040978572748e-05\n",
      "Epoch: 387 Iteration: 36800. Train_MSE: 0.00039151764940470457. Test_MSE: 9.486469637430382e-05\n",
      "Epoch: 388 Iteration: 36900. Train_MSE: 9.195211168844253e-05. Test_MSE: 9.498924928872188e-05\n",
      "Epoch: 389 Iteration: 37000. Train_MSE: 8.148734195856377e-05. Test_MSE: 9.445664285961052e-05\n",
      "Epoch: 390 Iteration: 37100. Train_MSE: 0.00018284378165844828. Test_MSE: 9.448607401356614e-05\n",
      "Epoch: 391 Iteration: 37200. Train_MSE: 0.00031524000223726034. Test_MSE: 9.46666200444297e-05\n",
      "Epoch: 392 Iteration: 37300. Train_MSE: 0.00012793084897566587. Test_MSE: 9.451921269955283e-05\n",
      "Epoch: 393 Iteration: 37400. Train_MSE: 0.0001858005707617849. Test_MSE: 9.436561178923576e-05\n",
      "Epoch: 394 Iteration: 37500. Train_MSE: 0.00038282907917164266. Test_MSE: 9.408033786269826e-05\n",
      "Epoch: 395 Iteration: 37600. Train_MSE: 0.001152644632384181. Test_MSE: 9.377787207473944e-05\n",
      "Epoch: 396 Iteration: 37700. Train_MSE: 0.00018018120317719877. Test_MSE: 9.386365957693809e-05\n",
      "Epoch: 397 Iteration: 37800. Train_MSE: 0.00010213875793851912. Test_MSE: 9.402979698519467e-05\n",
      "Epoch: 398 Iteration: 37900. Train_MSE: 0.00011015011841664091. Test_MSE: 9.389421295802397e-05\n",
      "Epoch: 399 Iteration: 38000. Train_MSE: 8.391601295443252e-05. Test_MSE: 9.340263810305107e-05\n",
      "Epoch: 401 Iteration: 38100. Train_MSE: 0.0004565306880977005. Test_MSE: 9.34036077763468e-05\n",
      "Epoch: 402 Iteration: 38200. Train_MSE: 9.030695218825713e-05. Test_MSE: 9.354740559308706e-05\n",
      "Epoch: 403 Iteration: 38300. Train_MSE: 0.0001743043540045619. Test_MSE: 9.323013979343547e-05\n",
      "Epoch: 404 Iteration: 38400. Train_MSE: 0.00916523952037096. Test_MSE: 9.306175634297567e-05\n",
      "Epoch: 405 Iteration: 38500. Train_MSE: 0.00102378916926682. Test_MSE: 9.29010386482014e-05\n",
      "Epoch: 406 Iteration: 38600. Train_MSE: 0.00017271132674068213. Test_MSE: 9.28506721197126e-05\n",
      "Epoch: 407 Iteration: 38700. Train_MSE: 0.0003843056329060346. Test_MSE: 9.293011834850769e-05\n",
      "Epoch: 408 Iteration: 38800. Train_MSE: 8.906261791707948e-05. Test_MSE: 9.305523262134433e-05\n",
      "Epoch: 409 Iteration: 38900. Train_MSE: 7.932121661724523e-05. Test_MSE: 9.256542509186421e-05\n",
      "Epoch: 410 Iteration: 39000. Train_MSE: 0.0001783970947144553. Test_MSE: 9.26080862659124e-05\n",
      "Epoch: 411 Iteration: 39100. Train_MSE: 0.0003092385595664382. Test_MSE: 9.278292555795818e-05\n",
      "Epoch: 412 Iteration: 39200. Train_MSE: 0.00012538918235804886. Test_MSE: 9.264354929098128e-05\n",
      "Epoch: 413 Iteration: 39300. Train_MSE: 0.00017876207130029798. Test_MSE: 9.249799401725935e-05\n",
      "Epoch: 414 Iteration: 39400. Train_MSE: 0.0003790234331972897. Test_MSE: 9.223282642579978e-05\n",
      "Epoch: 415 Iteration: 39500. Train_MSE: 0.0011430918239057064. Test_MSE: 9.19510864121235e-05\n",
      "Epoch: 416 Iteration: 39600. Train_MSE: 0.00017497522640042007. Test_MSE: 9.203531563576974e-05\n",
      "Epoch: 417 Iteration: 39700. Train_MSE: 9.667756239650771e-05. Test_MSE: 9.219755479207286e-05\n",
      "Epoch: 418 Iteration: 39800. Train_MSE: 0.00010833567648660392. Test_MSE: 9.207578184087163e-05\n",
      "Epoch: 419 Iteration: 39900. Train_MSE: 8.153192902682349e-05. Test_MSE: 9.162208129525365e-05\n",
      "Epoch: 421 Iteration: 40000. Train_MSE: 0.0004448196559678763. Test_MSE: 9.163023727915356e-05\n",
      "Epoch: 422 Iteration: 40100. Train_MSE: 8.851456368574873e-05. Test_MSE: 9.176497065360316e-05\n",
      "Epoch: 423 Iteration: 40200. Train_MSE: 0.00016817399591673166. Test_MSE: 9.147137099454823e-05\n",
      "Epoch: 424 Iteration: 40300. Train_MSE: 0.009157232940196991. Test_MSE: 9.131311643259357e-05\n",
      "Epoch: 425 Iteration: 40400. Train_MSE: 0.0010184072889387608. Test_MSE: 9.116185377809122e-05\n",
      "Epoch: 426 Iteration: 40500. Train_MSE: 0.00016821375174913555. Test_MSE: 9.111540871010283e-05\n",
      "Epoch: 427 Iteration: 40600. Train_MSE: 0.00037797659751959145. Test_MSE: 9.119730574837826e-05\n",
      "Epoch: 428 Iteration: 40700. Train_MSE: 8.646384230814874e-05. Test_MSE: 9.132065680443458e-05\n",
      "Epoch: 429 Iteration: 40800. Train_MSE: 7.752143574180081e-05. Test_MSE: 9.086860747467481e-05\n",
      "Epoch: 430 Iteration: 40900. Train_MSE: 0.00017424406541977078. Test_MSE: 9.092082641142393e-05\n",
      "Epoch: 431 Iteration: 41000. Train_MSE: 0.0003034674737136811. Test_MSE: 9.108902801605807e-05\n",
      "Epoch: 432 Iteration: 41100. Train_MSE: 0.00012334855273365974. Test_MSE: 9.095727225399684e-05\n",
      "Epoch: 433 Iteration: 41200. Train_MSE: 0.000172788932104595. Test_MSE: 9.081921681741721e-05\n",
      "Epoch: 434 Iteration: 41300. Train_MSE: 0.0003758345847018063. Test_MSE: 9.057242436964752e-05\n",
      "Epoch: 435 Iteration: 41400. Train_MSE: 0.0011347845429554582. Test_MSE: 9.030970997594963e-05\n",
      "Epoch: 436 Iteration: 41500. Train_MSE: 0.00017046876018866897. Test_MSE: 9.039226991672584e-05\n",
      "Epoch: 437 Iteration: 41600. Train_MSE: 9.190751006826758e-05. Test_MSE: 9.055012502369832e-05\n",
      "Epoch: 438 Iteration: 41700. Train_MSE: 0.00010680364357540384. Test_MSE: 9.044041044145415e-05\n",
      "Epoch: 439 Iteration: 41800. Train_MSE: 7.945294782985002e-05. Test_MSE: 9.002070537266298e-05\n",
      "Epoch: 441 Iteration: 41900. Train_MSE: 0.0004335840931162238. Test_MSE: 9.003377119403796e-05\n",
      "Epoch: 442 Iteration: 42000. Train_MSE: 8.700622856849805e-05. Test_MSE: 9.015890750676876e-05\n",
      "Epoch: 443 Iteration: 42100. Train_MSE: 0.00016281813441310078. Test_MSE: 8.988633814173831e-05\n",
      "Epoch: 444 Iteration: 42200. Train_MSE: 0.009150278754532337. Test_MSE: 8.97365345100128e-05\n",
      "Epoch: 445 Iteration: 42300. Train_MSE: 0.0010137673234567046. Test_MSE: 8.959350623483946e-05\n",
      "Epoch: 446 Iteration: 42400. Train_MSE: 0.00016436543955933303. Test_MSE: 8.955056420871798e-05\n",
      "Epoch: 447 Iteration: 42500. Train_MSE: 0.0003724304842762649. Test_MSE: 8.963440682432448e-05\n",
      "Epoch: 448 Iteration: 42600. Train_MSE: 8.414298645220697e-05. Test_MSE: 8.975529949764684e-05\n",
      "Epoch: 449 Iteration: 42700. Train_MSE: 7.605648715980351e-05. Test_MSE: 8.933705881665805e-05\n",
      "Epoch: 450 Iteration: 42800. Train_MSE: 0.00017032265895977616. Test_MSE: 8.939686612183816e-05\n",
      "Epoch: 451 Iteration: 42900. Train_MSE: 0.0002978379197884351. Test_MSE: 8.955826144184109e-05\n",
      "Epoch: 452 Iteration: 43000. Train_MSE: 0.00012171275011496618. Test_MSE: 8.9432293165925e-05\n",
      "Epoch: 453 Iteration: 43100. Train_MSE: 0.0001677044783718884. Test_MSE: 8.929875925295341e-05\n",
      "Epoch: 454 Iteration: 43200. Train_MSE: 0.00037313587381504476. Test_MSE: 8.906487185176383e-05\n",
      "Epoch: 455 Iteration: 43300. Train_MSE: 0.0011275234865024686. Test_MSE: 8.88158073617022e-05\n",
      "Epoch: 456 Iteration: 43400. Train_MSE: 0.00016654316277708858. Test_MSE: 8.889201321502622e-05\n",
      "Epoch: 457 Iteration: 43500. Train_MSE: 8.771584543865174e-05. Test_MSE: 8.904015209837795e-05\n",
      "Epoch: 458 Iteration: 43600. Train_MSE: 0.00010549111902946606. Test_MSE: 8.893682848373153e-05\n"
     ]
    },
    {
     "name": "stdout",
     "output_type": "stream",
     "text": [
      "Epoch: 459 Iteration: 43700. Train_MSE: 7.762752647977322e-05. Test_MSE: 8.854490267727773e-05\n",
      "Epoch: 461 Iteration: 43800. Train_MSE: 0.00042280505294911563. Test_MSE: 8.855805358338322e-05\n",
      "Epoch: 462 Iteration: 43900. Train_MSE: 8.569503552280366e-05. Test_MSE: 8.86656952030889e-05\n",
      "Epoch: 463 Iteration: 44000. Train_MSE: 0.00015807891031727195. Test_MSE: 8.840738374972081e-05\n",
      "Epoch: 464 Iteration: 44100. Train_MSE: 0.009144093841314316. Test_MSE: 8.826099942571173e-05\n",
      "Epoch: 465 Iteration: 44200. Train_MSE: 0.001009712927043438. Test_MSE: 8.812142052850001e-05\n",
      "Epoch: 466 Iteration: 44300. Train_MSE: 0.00016109996067825705. Test_MSE: 8.807695622021246e-05\n",
      "Epoch: 467 Iteration: 44400. Train_MSE: 0.0003675805637612939. Test_MSE: 8.815703772843086e-05\n",
      "Epoch: 468 Iteration: 44500. Train_MSE: 8.207270730054006e-05. Test_MSE: 8.82701185297019e-05\n",
      "Epoch: 469 Iteration: 44600. Train_MSE: 7.483555964427069e-05. Test_MSE: 8.787842330990227e-05\n",
      "Epoch: 470 Iteration: 44700. Train_MSE: 0.00016664758732076734. Test_MSE: 8.793902009889234e-05\n",
      "Epoch: 471 Iteration: 44800. Train_MSE: 0.0002924028958659619. Test_MSE: 8.809002641864294e-05\n",
      "Epoch: 472 Iteration: 44900. Train_MSE: 0.00012036611587973312. Test_MSE: 8.796646609359332e-05\n",
      "Epoch: 473 Iteration: 45000. Train_MSE: 0.00016335930558852851. Test_MSE: 8.783639442996267e-05\n",
      "Epoch: 474 Iteration: 45100. Train_MSE: 0.0003708011354319751. Test_MSE: 8.761560667695406e-05\n",
      "Epoch: 475 Iteration: 45200. Train_MSE: 0.0011211421806365252. Test_MSE: 8.738060114632594e-05\n",
      "Epoch: 476 Iteration: 45300. Train_MSE: 0.00016314085223712027. Test_MSE: 8.745307880015288e-05\n",
      "Epoch: 477 Iteration: 45400. Train_MSE: 8.395823533646762e-05. Test_MSE: 8.759495135206087e-05\n",
      "Epoch: 478 Iteration: 45500. Train_MSE: 0.00010432935232529417. Test_MSE: 8.749988704851545e-05\n",
      "Epoch: 479 Iteration: 45600. Train_MSE: 7.60018519940786e-05. Test_MSE: 8.713499002825008e-05\n",
      "Epoch: 481 Iteration: 45700. Train_MSE: 0.00041252310620620847. Test_MSE: 8.715114967199075e-05\n",
      "Epoch: 482 Iteration: 45800. Train_MSE: 8.45546746859327e-05. Test_MSE: 8.725256173574625e-05\n",
      "Epoch: 483 Iteration: 45900. Train_MSE: 0.0001538725773571059. Test_MSE: 8.701324846144214e-05\n",
      "Epoch: 484 Iteration: 46000. Train_MSE: 0.00913861021399498. Test_MSE: 8.687568669796967e-05\n",
      "Epoch: 485 Iteration: 46100. Train_MSE: 0.0010061534121632576. Test_MSE: 8.674384400880942e-05\n",
      "Epoch: 486 Iteration: 46200. Train_MSE: 0.0001582887052791193. Test_MSE: 8.670328443551864e-05\n",
      "Epoch: 487 Iteration: 46300. Train_MSE: 0.0003632669395301491. Test_MSE: 8.67847252233853e-05\n",
      "Epoch: 488 Iteration: 46400. Train_MSE: 8.01900023361668e-05. Test_MSE: 8.689537912374401e-05\n",
      "Epoch: 489 Iteration: 46500. Train_MSE: 7.383892079815269e-05. Test_MSE: 8.653173864268543e-05\n",
      "Epoch: 490 Iteration: 46600. Train_MSE: 0.00016317478730343282. Test_MSE: 8.659827539181265e-05\n",
      "Epoch: 491 Iteration: 46700. Train_MSE: 0.0002871766628231853. Test_MSE: 8.674425029512936e-05\n",
      "Epoch: 492 Iteration: 46800. Train_MSE: 0.00011926275328733027. Test_MSE: 8.662698172693176e-05\n",
      "Epoch: 493 Iteration: 46900. Train_MSE: 0.00015962567704264075. Test_MSE: 8.650407400085667e-05\n",
      "Epoch: 494 Iteration: 47000. Train_MSE: 0.0003687682328745723. Test_MSE: 8.62975536297097e-05\n",
      "Epoch: 495 Iteration: 47100. Train_MSE: 0.001115478458814323. Test_MSE: 8.607734894322738e-05\n",
      "Epoch: 496 Iteration: 47200. Train_MSE: 0.00016011312254704535. Test_MSE: 8.614783063846582e-05\n",
      "Epoch: 497 Iteration: 47300. Train_MSE: 8.063001587288454e-05. Test_MSE: 8.628438758861705e-05\n",
      "Epoch: 498 Iteration: 47400. Train_MSE: 0.00010333274258300662. Test_MSE: 8.619675016843282e-05\n",
      "Epoch: 499 Iteration: 47500. Train_MSE: 7.456271123373881e-05. Test_MSE: 8.585622195754518e-05\n",
      "Epoch: 501 Iteration: 47600. Train_MSE: 0.00040261412505060434. Test_MSE: 8.587481106370183e-05\n",
      "Epoch: 502 Iteration: 47700. Train_MSE: 8.355646423297003e-05. Test_MSE: 8.596724226285673e-05\n",
      "Epoch: 503 Iteration: 47800. Train_MSE: 0.0001501298538642004. Test_MSE: 8.574267572604835e-05\n",
      "Epoch: 504 Iteration: 47900. Train_MSE: 0.009133761748671532. Test_MSE: 8.561066400632977e-05\n",
      "Epoch: 505 Iteration: 48000. Train_MSE: 0.0010030324338003993. Test_MSE: 8.54840963147852e-05\n",
      "Epoch: 506 Iteration: 48100. Train_MSE: 0.0001558423537062481. Test_MSE: 8.544481037609822e-05\n",
      "Epoch: 507 Iteration: 48200. Train_MSE: 0.00035934068728238344. Test_MSE: 8.552448524898111e-05\n",
      "Epoch: 508 Iteration: 48300. Train_MSE: 7.849263056414202e-05. Test_MSE: 8.562943033531726e-05\n",
      "Epoch: 509 Iteration: 48400. Train_MSE: 7.301834557438269e-05. Test_MSE: 8.528912521321706e-05\n",
      "Epoch: 510 Iteration: 48500. Train_MSE: 0.00015988259110599756. Test_MSE: 8.535790922155046e-05\n",
      "Epoch: 511 Iteration: 48600. Train_MSE: 0.0002820791560225189. Test_MSE: 8.549677835864315e-05\n",
      "Epoch: 512 Iteration: 48700. Train_MSE: 0.00011833730241050944. Test_MSE: 8.538401015830269e-05\n",
      "Epoch: 513 Iteration: 48800. Train_MSE: 0.00015639941557310522. Test_MSE: 8.526552414468712e-05\n",
      "Epoch: 514 Iteration: 48900. Train_MSE: 0.0003669872530736029. Test_MSE: 8.506989173442924e-05\n",
      "Epoch: 515 Iteration: 49000. Train_MSE: 0.001110429991967976. Test_MSE: 8.48612386708967e-05\n",
      "Epoch: 516 Iteration: 49100. Train_MSE: 0.0001574088237248361. Test_MSE: 8.492770538630721e-05\n",
      "Epoch: 517 Iteration: 49200. Train_MSE: 7.768982322886586e-05. Test_MSE: 8.505748464472218e-05\n",
      "Epoch: 518 Iteration: 49300. Train_MSE: 0.00010246641613775864. Test_MSE: 8.497450440934413e-05\n",
      "Epoch: 519 Iteration: 49400. Train_MSE: 7.327742787310854e-05. Test_MSE: 8.465478410955091e-05\n",
      "Epoch: 521 Iteration: 49500. Train_MSE: 0.0003930744423996657. Test_MSE: 8.467336397232931e-05\n",
      "Epoch: 522 Iteration: 49600. Train_MSE: 8.266296208603308e-05. Test_MSE: 8.475841851957921e-05\n",
      "Epoch: 523 Iteration: 49700. Train_MSE: 0.00014678979641757905. Test_MSE: 8.454755354974237e-05\n",
      "Epoch: 524 Iteration: 49800. Train_MSE: 0.009129437617957592. Test_MSE: 8.442113368316558e-05\n",
      "Epoch: 525 Iteration: 49900. Train_MSE: 0.0010002873605117202. Test_MSE: 8.429982438890229e-05\n",
      "Epoch: 526 Iteration: 50000. Train_MSE: 0.0001537140633445233. Test_MSE: 8.42622484824264e-05\n",
      "Epoch: 527 Iteration: 50100. Train_MSE: 0.00035583964199759066. Test_MSE: 8.43409466931738e-05\n",
      "Epoch: 528 Iteration: 50200. Train_MSE: 7.694715895922855e-05. Test_MSE: 8.444179794602147e-05\n",
      "Epoch: 529 Iteration: 50300. Train_MSE: 7.235442171804607e-05. Test_MSE: 8.412333702016981e-05\n",
      "Epoch: 530 Iteration: 50400. Train_MSE: 0.00015675929898861796. Test_MSE: 8.419470731937365e-05\n",
      "Epoch: 531 Iteration: 50500. Train_MSE: 0.0002770856663119048. Test_MSE: 8.432805038028001e-05\n",
      "Epoch: 532 Iteration: 50600. Train_MSE: 0.00011754438310163096. Test_MSE: 8.4219845870387e-05\n",
      "Epoch: 533 Iteration: 50700. Train_MSE: 0.00015360923134721816. Test_MSE: 8.410596484059484e-05\n",
      "Epoch: 534 Iteration: 50800. Train_MSE: 0.0003653978055808693. Test_MSE: 8.392029182360968e-05\n",
      "Epoch: 535 Iteration: 50900. Train_MSE: 0.0011058741947636008. Test_MSE: 8.372239870362136e-05\n",
      "Epoch: 536 Iteration: 51000. Train_MSE: 0.0001549718581372872. Test_MSE: 8.378565305566219e-05\n",
      "Epoch: 537 Iteration: 51100. Train_MSE: 7.50830804463476e-05. Test_MSE: 8.391012192441077e-05\n",
      "Epoch: 538 Iteration: 51200. Train_MSE: 0.0001016994719975628. Test_MSE: 8.383366370528e-05\n",
      "Epoch: 539 Iteration: 51300. Train_MSE: 7.212962373159826e-05. Test_MSE: 8.35346301525521e-05\n",
      "Epoch: 541 Iteration: 51400. Train_MSE: 0.0003838899719994515. Test_MSE: 8.355660667823984e-05\n",
      "Epoch: 542 Iteration: 51500. Train_MSE: 8.185644401237369e-05. Test_MSE: 8.36370064700685e-05\n",
      "Epoch: 543 Iteration: 51600. Train_MSE: 0.0001437889877706766. Test_MSE: 8.344033990537028e-05\n",
      "Epoch: 544 Iteration: 51700. Train_MSE: 0.009125497192144394. Test_MSE: 8.332113203191448e-05\n",
      "Epoch: 545 Iteration: 51800. Train_MSE: 0.0009978500893339515. Test_MSE: 8.320662671172774e-05\n",
      "Epoch: 546 Iteration: 51900. Train_MSE: 0.0001518546196166426. Test_MSE: 8.317250727242289e-05\n",
      "Epoch: 547 Iteration: 52000. Train_MSE: 0.00035270233638584614. Test_MSE: 8.325187601910234e-05\n",
      "Epoch: 548 Iteration: 52100. Train_MSE: 7.552911847596988e-05. Test_MSE: 8.335051692730389e-05\n",
      "Epoch: 549 Iteration: 52200. Train_MSE: 7.180597458500415e-05. Test_MSE: 8.305426555911306e-05\n",
      "Epoch: 550 Iteration: 52300. Train_MSE: 0.00015372419147752225. Test_MSE: 8.313234775477726e-05\n",
      "Epoch: 551 Iteration: 52400. Train_MSE: 0.000272186502115801. Test_MSE: 8.326540778632883e-05\n"
     ]
    },
    {
     "name": "stdout",
     "output_type": "stream",
     "text": [
      "Epoch: 552 Iteration: 52500. Train_MSE: 0.00011685288336593658. Test_MSE: 8.316508022608605e-05\n",
      "Epoch: 553 Iteration: 52600. Train_MSE: 0.00015118523151613772. Test_MSE: 8.305955818432571e-05\n",
      "Epoch: 554 Iteration: 52700. Train_MSE: 0.00036396674113348126. Test_MSE: 8.288788693208951e-05\n",
      "Epoch: 555 Iteration: 52800. Train_MSE: 0.0011017665965482593. Test_MSE: 8.270368107644238e-05\n",
      "Epoch: 556 Iteration: 52900. Train_MSE: 0.00015278447244782. Test_MSE: 8.276834581384511e-05\n",
      "Epoch: 557 Iteration: 53000. Train_MSE: 7.275765528902411e-05. Test_MSE: 8.28909500565372e-05\n",
      "Epoch: 558 Iteration: 53100. Train_MSE: 0.00010100848885485902. Test_MSE: 8.282155852551875e-05\n",
      "Epoch: 559 Iteration: 53200. Train_MSE: 7.108172576408833e-05. Test_MSE: 8.254197664979803e-05\n",
      "Epoch: 561 Iteration: 53300. Train_MSE: 0.00037501577753573656. Test_MSE: 8.256787082313791e-05\n",
      "Epoch: 562 Iteration: 53400. Train_MSE: 8.112430805340409e-05. Test_MSE: 8.264509657026096e-05\n",
      "Epoch: 563 Iteration: 53500. Train_MSE: 0.00014106584421824664. Test_MSE: 8.246223713052027e-05\n",
      "Epoch: 564 Iteration: 53600. Train_MSE: 0.009121847338974476. Test_MSE: 8.235054571650556e-05\n",
      "Epoch: 565 Iteration: 53700. Train_MSE: 0.0009956704452633858. Test_MSE: 8.224300176411982e-05\n",
      "Epoch: 566 Iteration: 53800. Train_MSE: 0.0001502233208157122. Test_MSE: 8.22120686526078e-05\n",
      "Epoch: 567 Iteration: 53900. Train_MSE: 0.00034987262915819883. Test_MSE: 8.229208742111698e-05\n",
      "Epoch: 568 Iteration: 54000. Train_MSE: 7.423923671012744e-05. Test_MSE: 8.238898891587162e-05\n",
      "Epoch: 569 Iteration: 54100. Train_MSE: 7.135592750273645e-05. Test_MSE: 8.211044483806124e-05\n",
      "Epoch: 570 Iteration: 54200. Train_MSE: 0.00015080739103723317. Test_MSE: 8.218983866187155e-05\n",
      "Epoch: 571 Iteration: 54300. Train_MSE: 0.0002673950220923871. Test_MSE: 8.23174156993533e-05\n",
      "Epoch: 572 Iteration: 54400. Train_MSE: 0.00011622310557868332. Test_MSE: 8.222083544481539e-05\n",
      "Epoch: 573 Iteration: 54500. Train_MSE: 0.0001490674476372078. Test_MSE: 8.21194716730946e-05\n",
      "Epoch: 574 Iteration: 54600. Train_MSE: 0.0003626583202276379. Test_MSE: 8.19569474981359e-05\n",
      "Epoch: 575 Iteration: 54700. Train_MSE: 0.0010980430524796247. Test_MSE: 8.178245207351028e-05\n",
      "Epoch: 576 Iteration: 54800. Train_MSE: 0.00015081673336680979. Test_MSE: 8.184444614468218e-05\n",
      "Epoch: 577 Iteration: 54900. Train_MSE: 7.068082777550444e-05. Test_MSE: 8.196134927925242e-05\n",
      "Epoch: 578 Iteration: 55000. Train_MSE: 0.00010035129525931552. Test_MSE: 8.189521442858543e-05\n",
      "Epoch: 579 Iteration: 55100. Train_MSE: 7.011653360677883e-05. Test_MSE: 8.163124409154463e-05\n",
      "Epoch: 581 Iteration: 55200. Train_MSE: 0.0003664557298179716. Test_MSE: 8.165690265286522e-05\n",
      "Epoch: 582 Iteration: 55300. Train_MSE: 8.044046262511984e-05. Test_MSE: 8.172773746372505e-05\n",
      "Epoch: 583 Iteration: 55400. Train_MSE: 0.0001385761279379949. Test_MSE: 8.155497272968448e-05\n",
      "Epoch: 584 Iteration: 55500. Train_MSE: 0.009118488989770412. Test_MSE: 8.144735537682689e-05\n",
      "Epoch: 585 Iteration: 55600. Train_MSE: 0.0009937187423929572. Test_MSE: 8.134361620368074e-05\n",
      "Epoch: 586 Iteration: 55700. Train_MSE: 0.00014878693036735058. Test_MSE: 8.13135014017378e-05\n",
      "Epoch: 587 Iteration: 55800. Train_MSE: 0.0003473093674983829. Test_MSE: 8.139128876543137e-05\n",
      "Epoch: 588 Iteration: 55900. Train_MSE: 7.305970939341933e-05. Test_MSE: 8.148420631469228e-05\n",
      "Epoch: 589 Iteration: 56000. Train_MSE: 7.099106733221561e-05. Test_MSE: 8.122146168464806e-05\n",
      "Epoch: 590 Iteration: 56100. Train_MSE: 0.00014805978571530432. Test_MSE: 8.130136938957313e-05\n",
      "Epoch: 591 Iteration: 56200. Train_MSE: 0.0002627304056659341. Test_MSE: 8.142368327615662e-05\n",
      "Epoch: 592 Iteration: 56300. Train_MSE: 0.00011566004832275212. Test_MSE: 8.133017006212361e-05\n",
      "Epoch: 593 Iteration: 56400. Train_MSE: 0.0001472124713473022. Test_MSE: 8.123242070792592e-05\n",
      "Epoch: 594 Iteration: 56500. Train_MSE: 0.0003614642773754895. Test_MSE: 8.10774200057817e-05\n",
      "Epoch: 595 Iteration: 56600. Train_MSE: 0.0010946629336103797. Test_MSE: 8.09109714837711e-05\n",
      "Epoch: 596 Iteration: 56700. Train_MSE: 0.00014901529357302934. Test_MSE: 8.096975296223225e-05\n",
      "Epoch: 597 Iteration: 56800. Train_MSE: 6.881525041535497e-05. Test_MSE: 8.108115912217284e-05\n",
      "Epoch: 598 Iteration: 56900. Train_MSE: 9.973766282200813e-05. Test_MSE: 8.101837051539621e-05\n",
      "Epoch: 599 Iteration: 57000. Train_MSE: 6.922681495780125e-05. Test_MSE: 8.07685296682701e-05\n",
      "Epoch: 601 Iteration: 57100. Train_MSE: 0.00035819760523736477. Test_MSE: 8.07943402595866e-05\n",
      "Epoch: 602 Iteration: 57200. Train_MSE: 7.978970825206488e-05. Test_MSE: 8.08599882842376e-05\n",
      "Epoch: 603 Iteration: 57300. Train_MSE: 0.0001362988114124164. Test_MSE: 8.06968481836925e-05\n",
      "Epoch: 604 Iteration: 57400. Train_MSE: 0.0091154295951128. Test_MSE: 8.059411783213533e-05\n",
      "Epoch: 605 Iteration: 57500. Train_MSE: 0.0009919777512550354. Test_MSE: 8.049493326270119e-05\n",
      "Epoch: 606 Iteration: 57600. Train_MSE: 0.00014748638204764575. Test_MSE: 8.046646942302451e-05\n",
      "Epoch: 607 Iteration: 57700. Train_MSE: 0.0003449500654824078. Test_MSE: 8.05431222669546e-05\n",
      "Epoch: 608 Iteration: 57800. Train_MSE: 7.197283412097022e-05. Test_MSE: 8.063194620637502e-05\n",
      "Epoch: 609 Iteration: 57900. Train_MSE: 7.067692058626562e-05. Test_MSE: 8.038377064731946e-05\n",
      "Epoch: 610 Iteration: 58000. Train_MSE: 0.00014544479199685156. Test_MSE: 8.046421354514117e-05\n",
      "Epoch: 611 Iteration: 58100. Train_MSE: 0.0002581832814030349. Test_MSE: 8.058180697195706e-05\n",
      "Epoch: 612 Iteration: 58200. Train_MSE: 0.00011514570360304788. Test_MSE: 8.049167538130074e-05\n",
      "Epoch: 613 Iteration: 58300. Train_MSE: 0.0001455862948205322. Test_MSE: 8.039787941761604e-05\n",
      "Epoch: 614 Iteration: 58400. Train_MSE: 0.00036036790697835386. Test_MSE: 8.02506029142159e-05\n",
      "Epoch: 615 Iteration: 58500. Train_MSE: 0.001091571757569909. Test_MSE: 8.009193261270178e-05\n",
      "Epoch: 616 Iteration: 58600. Train_MSE: 0.00014737952733412385. Test_MSE: 8.014855355650531e-05\n",
      "Epoch: 617 Iteration: 58700. Train_MSE: 6.714613118674606e-05. Test_MSE: 8.025557047198477e-05\n",
      "Epoch: 618 Iteration: 58800. Train_MSE: 9.916141425492242e-05. Test_MSE: 8.019638837993237e-05\n",
      "Epoch: 619 Iteration: 58900. Train_MSE: 6.840637070126832e-05. Test_MSE: 7.996025988935368e-05\n",
      "Epoch: 621 Iteration: 59000. Train_MSE: 0.00035022886004298925. Test_MSE: 7.998671031965703e-05\n",
      "Epoch: 622 Iteration: 59100. Train_MSE: 7.918453047750518e-05. Test_MSE: 8.00476617924424e-05\n",
      "Epoch: 623 Iteration: 59200. Train_MSE: 0.0001342021132586524. Test_MSE: 7.989370655626757e-05\n",
      "Epoch: 624 Iteration: 59300. Train_MSE: 0.009112557396292686. Test_MSE: 7.979503812583229e-05\n",
      "Epoch: 625 Iteration: 59400. Train_MSE: 0.0009903964819386601. Test_MSE: 7.969996111150536e-05\n",
      "Epoch: 626 Iteration: 59500. Train_MSE: 0.0001463484368287027. Test_MSE: 7.967288514778212e-05\n",
      "Epoch: 627 Iteration: 59600. Train_MSE: 0.0003428068303037435. Test_MSE: 7.974822657700276e-05\n",
      "Epoch: 628 Iteration: 59700. Train_MSE: 7.098099013091996e-05. Test_MSE: 7.983395716252821e-05\n",
      "Epoch: 629 Iteration: 59800. Train_MSE: 7.04253907315433e-05. Test_MSE: 7.959924106276275e-05\n",
      "Epoch: 630 Iteration: 59900. Train_MSE: 0.00014289859973359853. Test_MSE: 7.968031905446125e-05\n",
      "Epoch: 631 Iteration: 60000. Train_MSE: 0.00025378615828230977. Test_MSE: 7.97942925106774e-05\n",
      "Epoch: 632 Iteration: 60100. Train_MSE: 0.00011466106661828235. Test_MSE: 7.970774669056492e-05\n",
      "Epoch: 633 Iteration: 60200. Train_MSE: 0.00014414414181374013. Test_MSE: 7.961785599742823e-05\n",
      "Epoch: 634 Iteration: 60300. Train_MSE: 0.00035933515755459666. Test_MSE: 7.947791004028536e-05\n",
      "Epoch: 635 Iteration: 60400. Train_MSE: 0.0010887286625802517. Test_MSE: 7.932674725230228e-05\n",
      "Epoch: 636 Iteration: 60500. Train_MSE: 0.0001458875776734203. Test_MSE: 7.938129793143517e-05\n",
      "Epoch: 637 Iteration: 60600. Train_MSE: 6.564010982401669e-05. Test_MSE: 7.948403438841485e-05\n",
      "Epoch: 638 Iteration: 60700. Train_MSE: 9.863052400760353e-05. Test_MSE: 7.942722122748041e-05\n",
      "Epoch: 639 Iteration: 60800. Train_MSE: 6.76469353493303e-05. Test_MSE: 7.920278833964331e-05\n",
      "Epoch: 641 Iteration: 60900. Train_MSE: 0.0003425432078074664. Test_MSE: 7.922892246777158e-05\n",
      "Epoch: 642 Iteration: 61000. Train_MSE: 7.861120684538037e-05. Test_MSE: 7.928542365706239e-05\n",
      "Epoch: 643 Iteration: 61100. Train_MSE: 0.00013226621376816183. Test_MSE: 7.913974487266263e-05\n"
     ]
    },
    {
     "name": "stdout",
     "output_type": "stream",
     "text": [
      "Epoch: 644 Iteration: 61200. Train_MSE: 0.009109865874052048. Test_MSE: 7.904491520160477e-05\n",
      "Epoch: 645 Iteration: 61300. Train_MSE: 0.0009889655048027635. Test_MSE: 7.895353791154957e-05\n",
      "Epoch: 646 Iteration: 61400. Train_MSE: 0.00014532601926475763. Test_MSE: 7.892775191966184e-05\n",
      "Epoch: 647 Iteration: 61500. Train_MSE: 0.000340847996994853. Test_MSE: 7.900152308798479e-05\n",
      "Epoch: 648 Iteration: 61600. Train_MSE: 7.007241947576404e-05. Test_MSE: 7.908376254343943e-05\n",
      "Epoch: 649 Iteration: 61700. Train_MSE: 7.01980316080153e-05. Test_MSE: 7.886086061588226e-05\n",
      "Epoch: 650 Iteration: 61800. Train_MSE: 0.0001404427021043375. Test_MSE: 7.894181848670902e-05\n",
      "Epoch: 651 Iteration: 61900. Train_MSE: 0.0002495083899702877. Test_MSE: 7.905138229566977e-05\n",
      "Epoch: 652 Iteration: 62000. Train_MSE: 0.00011419465590734035. Test_MSE: 7.896764787411259e-05\n",
      "Epoch: 653 Iteration: 62100. Train_MSE: 0.00014286302030086517. Test_MSE: 7.888099977991961e-05\n",
      "Epoch: 654 Iteration: 62200. Train_MSE: 0.0003583685611374676. Test_MSE: 7.874716995313659e-05\n",
      "Epoch: 655 Iteration: 62300. Train_MSE: 0.0010861116461455822. Test_MSE: 7.860265589217216e-05\n",
      "Epoch: 656 Iteration: 62400. Train_MSE: 0.00014450449089054018. Test_MSE: 7.865463252713909e-05\n",
      "Epoch: 657 Iteration: 62500. Train_MSE: 6.427993503166363e-05. Test_MSE: 7.87525956505036e-05\n",
      "Epoch: 658 Iteration: 62600. Train_MSE: 9.812790813157335e-05. Test_MSE: 7.86977993820477e-05\n",
      "Epoch: 659 Iteration: 62700. Train_MSE: 6.693229806842282e-05. Test_MSE: 7.848397294215718e-05\n",
      "Epoch: 661 Iteration: 62800. Train_MSE: 0.00033511975198052824. Test_MSE: 7.850956922275521e-05\n",
      "Epoch: 662 Iteration: 62900. Train_MSE: 7.803645712556317e-05. Test_MSE: 7.85616942704215e-05\n",
      "Epoch: 663 Iteration: 63000. Train_MSE: 0.0001304628822254017. Test_MSE: 7.842288614618153e-05\n",
      "Epoch: 664 Iteration: 63100. Train_MSE: 0.009107367135584354. Test_MSE: 7.833100335132953e-05\n",
      "Epoch: 665 Iteration: 63200. Train_MSE: 0.0009876793483272195. Test_MSE: 7.824254111179064e-05\n",
      "Epoch: 666 Iteration: 63300. Train_MSE: 0.00014438849757425487. Test_MSE: 7.821731044767794e-05\n",
      "Epoch: 667 Iteration: 63400. Train_MSE: 0.00033904530573636293. Test_MSE: 7.828893877030159e-05\n",
      "Epoch: 668 Iteration: 63500. Train_MSE: 6.922430475242436e-05. Test_MSE: 7.836723312549505e-05\n",
      "Epoch: 669 Iteration: 63600. Train_MSE: 6.999373727012426e-05. Test_MSE: 7.815496789925641e-05\n",
      "Epoch: 670 Iteration: 63700. Train_MSE: 0.00013809555093757808. Test_MSE: 7.823496089956641e-05\n",
      "Epoch: 671 Iteration: 63800. Train_MSE: 0.00024533813120797276. Test_MSE: 7.834036409305619e-05\n",
      "Epoch: 672 Iteration: 63900. Train_MSE: 0.00011373076267773286. Test_MSE: 7.825887845229197e-05\n",
      "Epoch: 673 Iteration: 64000. Train_MSE: 0.0001417167077306658. Test_MSE: 7.817520408077913e-05\n",
      "Epoch: 674 Iteration: 64100. Train_MSE: 0.0003574523434508592. Test_MSE: 7.804718038227489e-05\n",
      "Epoch: 675 Iteration: 64200. Train_MSE: 0.0010836857836693525. Test_MSE: 7.79089755936998e-05\n",
      "Epoch: 676 Iteration: 64300. Train_MSE: 0.00014322288916446269. Test_MSE: 7.795928806836136e-05\n",
      "Epoch: 677 Iteration: 64400. Train_MSE: 6.304569251369685e-05. Test_MSE: 7.805345340375571e-05\n",
      "Epoch: 678 Iteration: 64500. Train_MSE: 9.762337140273303e-05. Test_MSE: 7.80008842644894e-05\n",
      "Epoch: 679 Iteration: 64600. Train_MSE: 6.623547233175486e-05. Test_MSE: 7.779707714475283e-05\n",
      "Epoch: 681 Iteration: 64700. Train_MSE: 0.00032793934224173427. Test_MSE: 7.782240996552782e-05\n",
      "Epoch: 682 Iteration: 64800. Train_MSE: 7.746068877168e-05. Test_MSE: 7.787061524678574e-05\n",
      "Epoch: 683 Iteration: 64900. Train_MSE: 0.00012878655979875475. Test_MSE: 7.773868502719332e-05\n",
      "Epoch: 684 Iteration: 65000. Train_MSE: 0.009105002507567406. Test_MSE: 7.765013119033007e-05\n",
      "Epoch: 685 Iteration: 65100. Train_MSE: 0.0009865118190646172. Test_MSE: 7.756489384775615e-05\n",
      "Epoch: 686 Iteration: 65200. Train_MSE: 0.00014353706501424313. Test_MSE: 7.754104324752292e-05\n",
      "Epoch: 687 Iteration: 65300. Train_MSE: 0.00033738306956365705. Test_MSE: 7.761124496411716e-05\n",
      "Epoch: 688 Iteration: 65400. Train_MSE: 6.842930451966822e-05. Test_MSE: 7.768621752207658e-05\n",
      "Epoch: 689 Iteration: 65500. Train_MSE: 6.981911428738385e-05. Test_MSE: 7.748402079376826e-05\n",
      "Epoch: 690 Iteration: 65600. Train_MSE: 0.00013583494001068175. Test_MSE: 7.756373593639028e-05\n",
      "Epoch: 691 Iteration: 65700. Train_MSE: 0.00024127452343236655. Test_MSE: 7.76655709322937e-05\n",
      "Epoch: 692 Iteration: 65800. Train_MSE: 0.00011328398977639154. Test_MSE: 7.758661736018656e-05\n",
      "Epoch: 693 Iteration: 65900. Train_MSE: 0.00014069191820453852. Test_MSE: 7.750543693880099e-05\n",
      "Epoch: 694 Iteration: 66000. Train_MSE: 0.0003565800143405795. Test_MSE: 7.738204971889365e-05\n",
      "Epoch: 695 Iteration: 66100. Train_MSE: 0.0010814294219017029. Test_MSE: 7.724881171260366e-05\n",
      "Epoch: 696 Iteration: 66200. Train_MSE: 0.00014202325837686658. Test_MSE: 7.729554847962379e-05\n",
      "Epoch: 697 Iteration: 66300. Train_MSE: 6.192034197738394e-05. Test_MSE: 7.738400612944378e-05\n",
      "Epoch: 698 Iteration: 66400. Train_MSE: 9.711329767014831e-05. Test_MSE: 7.733230991410997e-05\n",
      "Epoch: 699 Iteration: 66500. Train_MSE: 6.557389860972762e-05. Test_MSE: 7.713765050183316e-05\n",
      "Epoch: 701 Iteration: 66600. Train_MSE: 0.0003210044524166733. Test_MSE: 7.716131147316204e-05\n",
      "Epoch: 702 Iteration: 66700. Train_MSE: 7.69014295656234e-05. Test_MSE: 7.720465308942361e-05\n",
      "Epoch: 703 Iteration: 66800. Train_MSE: 0.00012723436520900577. Test_MSE: 7.707829667735184e-05\n",
      "Epoch: 704 Iteration: 66900. Train_MSE: 0.009102758020162582. Test_MSE: 7.699170273035342e-05\n",
      "Epoch: 705 Iteration: 67000. Train_MSE: 0.0009854334639385343. Test_MSE: 7.69079751662701e-05\n",
      "Epoch: 706 Iteration: 67100. Train_MSE: 0.00014275450666900724. Test_MSE: 7.688337859465136e-05\n",
      "Epoch: 707 Iteration: 67200. Train_MSE: 0.0003358407411724329. Test_MSE: 7.69505853463825e-05\n",
      "Epoch: 708 Iteration: 67300. Train_MSE: 6.76879717502743e-05. Test_MSE: 7.70210324933256e-05\n",
      "Epoch: 709 Iteration: 67400. Train_MSE: 6.963626219658181e-05. Test_MSE: 7.68279027006928e-05\n",
      "Epoch: 710 Iteration: 67500. Train_MSE: 0.00013366273196879774. Test_MSE: 7.690518867278987e-05\n",
      "Epoch: 711 Iteration: 67600. Train_MSE: 0.00023733636771794409. Test_MSE: 7.700195711470627e-05\n",
      "Epoch: 712 Iteration: 67700. Train_MSE: 0.00011284446372883394. Test_MSE: 7.692458855455516e-05\n",
      "Epoch: 713 Iteration: 67800. Train_MSE: 0.00013976075570099056. Test_MSE: 7.684561584917062e-05\n",
      "Epoch: 714 Iteration: 67900. Train_MSE: 0.0003557408635970205. Test_MSE: 7.6727279733302e-05\n",
      "Epoch: 715 Iteration: 68000. Train_MSE: 0.0010793122928589582. Test_MSE: 7.659943089083732e-05\n",
      "Epoch: 716 Iteration: 68100. Train_MSE: 0.00014090722834225744. Test_MSE: 7.664496416558227e-05\n",
      "Epoch: 717 Iteration: 68200. Train_MSE: 6.0892532928846776e-05. Test_MSE: 7.67304974251061e-05\n",
      "Epoch: 718 Iteration: 68300. Train_MSE: 9.66128209256567e-05. Test_MSE: 7.668077976365049e-05\n",
      "Epoch: 719 Iteration: 68400. Train_MSE: 6.494666013168171e-05. Test_MSE: 7.649441052294897e-05\n",
      "Epoch: 721 Iteration: 68500. Train_MSE: 0.0003143105423077941. Test_MSE: 7.651777267006366e-05\n",
      "Epoch: 722 Iteration: 68600. Train_MSE: 7.634423673152924e-05. Test_MSE: 7.655801867945431e-05\n",
      "Epoch: 723 Iteration: 68700. Train_MSE: 0.00012577824236359447. Test_MSE: 7.643748231869445e-05\n",
      "Epoch: 724 Iteration: 68800. Train_MSE: 0.00910061877220869. Test_MSE: 7.635366069806515e-05\n",
      "Epoch: 725 Iteration: 68900. Train_MSE: 0.000984451500698924. Test_MSE: 7.627281253912796e-05\n",
      "Epoch: 726 Iteration: 69000. Train_MSE: 0.0001420389162376523. Test_MSE: 7.624924363441383e-05\n",
      "Epoch: 727 Iteration: 69100. Train_MSE: 0.0003344060096424073. Test_MSE: 7.631533293157889e-05\n",
      "Epoch: 728 Iteration: 69200. Train_MSE: 6.700189260300249e-05. Test_MSE: 7.638330243469093e-05\n",
      "Epoch: 729 Iteration: 69300. Train_MSE: 6.948068039491773e-05. Test_MSE: 7.619831429707657e-05\n",
      "Epoch: 730 Iteration: 69400. Train_MSE: 0.0001315629342570901. Test_MSE: 7.627514518131726e-05\n",
      "Epoch: 731 Iteration: 69500. Train_MSE: 0.00023350943229161203. Test_MSE: 7.636888370158795e-05\n",
      "Epoch: 732 Iteration: 69600. Train_MSE: 0.00011241056927246973. Test_MSE: 7.629327972439672e-05\n",
      "Epoch: 733 Iteration: 69700. Train_MSE: 0.00013890345871914178. Test_MSE: 7.621619116867573e-05\n",
      "Epoch: 734 Iteration: 69800. Train_MSE: 0.000354935007635504. Test_MSE: 7.610172156341069e-05\n",
      "Epoch: 735 Iteration: 69900. Train_MSE: 0.001077331486158073. Test_MSE: 7.597830917357548e-05\n"
     ]
    },
    {
     "name": "stdout",
     "output_type": "stream",
     "text": [
      "Epoch: 736 Iteration: 70000. Train_MSE: 0.0001398595341015607. Test_MSE: 7.602180682147188e-05\n",
      "Epoch: 737 Iteration: 70100. Train_MSE: 5.995349056320265e-05. Test_MSE: 7.610358889046685e-05\n",
      "Epoch: 738 Iteration: 70200. Train_MSE: 9.612314170226455e-05. Test_MSE: 7.605470708726263e-05\n",
      "Epoch: 739 Iteration: 70300. Train_MSE: 6.434879469452426e-05. Test_MSE: 7.587539333835416e-05\n",
      "Epoch: 741 Iteration: 70400. Train_MSE: 0.0003078352892771363. Test_MSE: 7.589785506558868e-05\n",
      "Epoch: 742 Iteration: 70500. Train_MSE: 7.578476652270183e-05. Test_MSE: 7.593497125898557e-05\n",
      "Epoch: 743 Iteration: 70600. Train_MSE: 0.00012440468708518893. Test_MSE: 7.581934735652248e-05\n",
      "Epoch: 744 Iteration: 70700. Train_MSE: 0.009098593145608902. Test_MSE: 7.573752104706235e-05\n",
      "Epoch: 745 Iteration: 70800. Train_MSE: 0.000983559526503086. Test_MSE: 7.565859652910266e-05\n",
      "Epoch: 746 Iteration: 70900. Train_MSE: 0.00014137676043901592. Test_MSE: 7.563525709332858e-05\n",
      "Epoch: 747 Iteration: 71000. Train_MSE: 0.00033307087142020464. Test_MSE: 7.569960719906771e-05\n",
      "Epoch: 748 Iteration: 71100. Train_MSE: 6.636600301135331e-05. Test_MSE: 7.576465541666658e-05\n",
      "Epoch: 749 Iteration: 71200. Train_MSE: 6.934531847946346e-05. Test_MSE: 7.558665900426781e-05\n",
      "Epoch: 750 Iteration: 71300. Train_MSE: 0.00012953636178281158. Test_MSE: 7.566250076063816e-05\n",
      "Epoch: 751 Iteration: 71400. Train_MSE: 0.0002298067120136693. Test_MSE: 7.57531480089884e-05\n",
      "Epoch: 752 Iteration: 71500. Train_MSE: 0.00011198283027624711. Test_MSE: 7.56796028774753e-05\n",
      "Epoch: 753 Iteration: 71600. Train_MSE: 0.00013809994561597705. Test_MSE: 7.560504139046303e-05\n",
      "Epoch: 754 Iteration: 71700. Train_MSE: 0.000354156392859295. Test_MSE: 7.549498864096932e-05\n",
      "Epoch: 755 Iteration: 71800. Train_MSE: 0.0010754599934443831. Test_MSE: 7.537617612508872e-05\n",
      "Epoch: 756 Iteration: 71900. Train_MSE: 0.00013888532703276724. Test_MSE: 7.541865182882567e-05\n",
      "Epoch: 757 Iteration: 72000. Train_MSE: 5.909576066187583e-05. Test_MSE: 7.549785729907708e-05\n",
      "Epoch: 758 Iteration: 72100. Train_MSE: 9.5647425041534e-05. Test_MSE: 7.545063982458275e-05\n",
      "Epoch: 759 Iteration: 72200. Train_MSE: 6.378014222718775e-05. Test_MSE: 7.527813834201618e-05\n",
      "Epoch: 761 Iteration: 72300. Train_MSE: 0.00030158564914017916. Test_MSE: 7.530037310405991e-05\n",
      "Epoch: 762 Iteration: 72400. Train_MSE: 7.523532985942438e-05. Test_MSE: 7.533492902335394e-05\n",
      "Epoch: 763 Iteration: 72500. Train_MSE: 0.00012311160389799625. Test_MSE: 7.522383879720691e-05\n",
      "Epoch: 764 Iteration: 72600. Train_MSE: 0.009096642956137657. Test_MSE: 7.514450839856608e-05\n",
      "Epoch: 765 Iteration: 72700. Train_MSE: 0.0009827393805608153. Test_MSE: 7.50678505195498e-05\n",
      "Epoch: 766 Iteration: 72800. Train_MSE: 0.00014077108062338084. Test_MSE: 7.504535245191996e-05\n",
      "Epoch: 767 Iteration: 72900. Train_MSE: 0.0003318265953566879. Test_MSE: 7.510865145389404e-05\n",
      "Epoch: 768 Iteration: 73000. Train_MSE: 6.577684689546004e-05. Test_MSE: 7.517136026544558e-05\n",
      "Epoch: 769 Iteration: 73100. Train_MSE: 6.923111504875124e-05. Test_MSE: 7.499998237859872e-05\n",
      "Epoch: 770 Iteration: 73200. Train_MSE: 0.00012758129741996527. Test_MSE: 7.507558393508995e-05\n",
      "Epoch: 771 Iteration: 73300. Train_MSE: 0.00022625515703111887. Test_MSE: 7.516362914149217e-05\n",
      "Epoch: 772 Iteration: 73400. Train_MSE: 0.00011156030814163387. Test_MSE: 7.509189368124488e-05\n",
      "Epoch: 773 Iteration: 73500. Train_MSE: 0.000137351467856206. Test_MSE: 7.50193369647155e-05\n",
      "Epoch: 774 Iteration: 73600. Train_MSE: 0.00035339678288437426. Test_MSE: 7.491287544643636e-05\n",
      "Epoch: 775 Iteration: 73700. Train_MSE: 0.0010736801195889711. Test_MSE: 7.479791092226097e-05\n",
      "Epoch: 776 Iteration: 73800. Train_MSE: 0.00013796794519294053. Test_MSE: 7.483907169551288e-05\n",
      "Epoch: 777 Iteration: 73900. Train_MSE: 5.831012822454795e-05. Test_MSE: 7.491563234619556e-05\n",
      "Epoch: 778 Iteration: 74000. Train_MSE: 9.517827129457146e-05. Test_MSE: 7.486960918120936e-05\n",
      "Epoch: 779 Iteration: 74100. Train_MSE: 6.323379784589633e-05. Test_MSE: 7.470321062361971e-05\n",
      "Epoch: 781 Iteration: 74200. Train_MSE: 0.00029554401407949626. Test_MSE: 7.472514735993853e-05\n",
      "Epoch: 782 Iteration: 74300. Train_MSE: 7.469215779565275e-05. Test_MSE: 7.47570138947849e-05\n",
      "Epoch: 783 Iteration: 74400. Train_MSE: 0.00012189405970275402. Test_MSE: 7.465049808249551e-05\n",
      "Epoch: 784 Iteration: 74500. Train_MSE: 0.009094773791730404. Test_MSE: 7.457312911926058e-05\n",
      "Epoch: 785 Iteration: 74600. Train_MSE: 0.000981984194368124. Test_MSE: 7.44984165341952e-05\n",
      "Epoch: 786 Iteration: 74700. Train_MSE: 0.00014020311937201768. Test_MSE: 7.447645117724592e-05\n",
      "Epoch: 787 Iteration: 74800. Train_MSE: 0.0003306604048702866. Test_MSE: 7.453863183737097e-05\n",
      "Epoch: 788 Iteration: 74900. Train_MSE: 6.521755130961537e-05. Test_MSE: 7.459888112354315e-05\n",
      "Epoch: 789 Iteration: 75000. Train_MSE: 6.91377354087308e-05. Test_MSE: 7.443353962942034e-05\n",
      "Epoch: 790 Iteration: 75100. Train_MSE: 0.00012568382953759283. Test_MSE: 7.450817231553048e-05\n",
      "Epoch: 791 Iteration: 75200. Train_MSE: 0.00022283468570094556. Test_MSE: 7.45933387281878e-05\n",
      "Epoch: 792 Iteration: 75300. Train_MSE: 0.00011113987420685589. Test_MSE: 7.452283918862755e-05\n",
      "Epoch: 793 Iteration: 75400. Train_MSE: 0.0001366601063637063. Test_MSE: 7.445194204689075e-05\n",
      "Epoch: 794 Iteration: 75500. Train_MSE: 0.0003526608634274453. Test_MSE: 7.434883493940521e-05\n",
      "Epoch: 795 Iteration: 75600. Train_MSE: 0.0010720008285716176. Test_MSE: 7.423750443034958e-05\n",
      "Epoch: 796 Iteration: 75700. Train_MSE: 0.00013708826736547053. Test_MSE: 7.427744009031351e-05\n",
      "Epoch: 797 Iteration: 75800. Train_MSE: 5.7585191825637594e-05. Test_MSE: 7.435127126622065e-05\n",
      "Epoch: 798 Iteration: 75900. Train_MSE: 9.471174416830763e-05. Test_MSE: 7.430625258834267e-05\n",
      "Epoch: 799 Iteration: 76000. Train_MSE: 6.270727317314595e-05. Test_MSE: 7.414566865785713e-05\n",
      "Epoch: 801 Iteration: 76100. Train_MSE: 0.00028969469713047147. Test_MSE: 7.416705241909674e-05\n",
      "Epoch: 802 Iteration: 76200. Train_MSE: 7.416402513626963e-05. Test_MSE: 7.419648237630815e-05\n",
      "Epoch: 803 Iteration: 76300. Train_MSE: 0.00012074459664290771. Test_MSE: 7.409387902228763e-05\n",
      "Epoch: 804 Iteration: 76400. Train_MSE: 0.009092972613871098. Test_MSE: 7.401852398389297e-05\n",
      "Epoch: 805 Iteration: 76500. Train_MSE: 0.0009812862845137715. Test_MSE: 7.394557515784649e-05\n",
      "Epoch: 806 Iteration: 76600. Train_MSE: 0.00013967252743896097. Test_MSE: 7.392411451500645e-05\n",
      "Epoch: 807 Iteration: 76700. Train_MSE: 0.00032955940696410835. Test_MSE: 7.398501533375929e-05\n",
      "Epoch: 808 Iteration: 76800. Train_MSE: 6.469505024142563e-05. Test_MSE: 7.404315354948169e-05\n",
      "Epoch: 809 Iteration: 76900. Train_MSE: 6.90462184138596e-05. Test_MSE: 7.388370064782738e-05\n",
      "Epoch: 810 Iteration: 77000. Train_MSE: 0.00012383931607473642. Test_MSE: 7.395802224426746e-05\n",
      "Epoch: 811 Iteration: 77100. Train_MSE: 0.00021951876988168806. Test_MSE: 7.404087342572404e-05\n",
      "Epoch: 812 Iteration: 77200. Train_MSE: 0.00011072191409766674. Test_MSE: 7.397206561780508e-05\n",
      "Epoch: 813 Iteration: 77300. Train_MSE: 0.000136009999550879. Test_MSE: 7.39032296403303e-05\n",
      "Epoch: 814 Iteration: 77400. Train_MSE: 0.00035194039810448885. Test_MSE: 7.380340471397662e-05\n",
      "Epoch: 815 Iteration: 77500. Train_MSE: 0.0010703977895900607. Test_MSE: 7.369581400390029e-05\n",
      "Epoch: 816 Iteration: 77600. Train_MSE: 0.00013626010331790894. Test_MSE: 7.373465026567396e-05\n",
      "Epoch: 817 Iteration: 77700. Train_MSE: 5.6940076319733635e-05. Test_MSE: 7.38062621025003e-05\n",
      "Epoch: 818 Iteration: 77800. Train_MSE: 9.425054304301739e-05. Test_MSE: 7.376239041063442e-05\n",
      "Epoch: 819 Iteration: 77900. Train_MSE: 6.21986691839993e-05. Test_MSE: 7.360753441219683e-05\n",
      "Epoch: 821 Iteration: 78000. Train_MSE: 0.00028404276235960424. Test_MSE: 7.362873219670651e-05\n",
      "Epoch: 822 Iteration: 78100. Train_MSE: 7.36373767722398e-05. Test_MSE: 7.365641705111154e-05\n",
      "Epoch: 823 Iteration: 78200. Train_MSE: 0.00011965629528276622. Test_MSE: 7.355793152606072e-05\n",
      "Epoch: 824 Iteration: 78300. Train_MSE: 0.009091243147850037. Test_MSE: 7.348473174444661e-05\n",
      "Epoch: 825 Iteration: 78400. Train_MSE: 0.0009806434391066432. Test_MSE: 7.341398835179264e-05\n",
      "Epoch: 826 Iteration: 78500. Train_MSE: 0.00013917240721639246. Test_MSE: 7.339334556742603e-05\n",
      "Epoch: 827 Iteration: 78600. Train_MSE: 0.00032852147705852985. Test_MSE: 7.345338119439295e-05\n",
      "Epoch: 828 Iteration: 78700. Train_MSE: 6.420164572773501e-05. Test_MSE: 7.350983658195496e-05\n"
     ]
    },
    {
     "name": "stdout",
     "output_type": "stream",
     "text": [
      "Epoch: 829 Iteration: 78800. Train_MSE: 6.896227569086477e-05. Test_MSE: 7.33558551756173e-05\n",
      "Epoch: 830 Iteration: 78900. Train_MSE: 0.00012205578968860209. Test_MSE: 7.342983111360843e-05\n",
      "Epoch: 831 Iteration: 79000. Train_MSE: 0.00021630871924571693. Test_MSE: 7.351100679753208e-05\n",
      "Epoch: 832 Iteration: 79100. Train_MSE: 0.00011031425674445927. Test_MSE: 7.344388260729296e-05\n",
      "Epoch: 833 Iteration: 79200. Train_MSE: 0.0001353980478597805. Test_MSE: 7.337705336429231e-05\n",
      "Epoch: 834 Iteration: 79300. Train_MSE: 0.0003512359398882836. Test_MSE: 7.32806100001162e-05\n",
      "Epoch: 835 Iteration: 79400. Train_MSE: 0.001068870653398335. Test_MSE: 7.317644801567915e-05\n",
      "Epoch: 836 Iteration: 79500. Train_MSE: 0.00013546527770813555. Test_MSE: 7.321452199453848e-05\n",
      "Epoch: 837 Iteration: 79600. Train_MSE: 5.630803934764117e-05. Test_MSE: 7.328407469019187e-05\n",
      "Epoch: 838 Iteration: 79700. Train_MSE: 9.378204413224012e-05. Test_MSE: 7.324126910670322e-05\n",
      "Epoch: 839 Iteration: 79800. Train_MSE: 6.170829146867618e-05. Test_MSE: 7.309120159626747e-05\n",
      "Epoch: 841 Iteration: 79900. Train_MSE: 0.0002785662072710693. Test_MSE: 7.311183120802656e-05\n",
      "Epoch: 842 Iteration: 80000. Train_MSE: 7.312482921406627e-05. Test_MSE: 7.313717544762592e-05\n",
      "Epoch: 843 Iteration: 80100. Train_MSE: 0.00011862350947922096. Test_MSE: 7.304210671533048e-05\n",
      "Epoch: 844 Iteration: 80200. Train_MSE: 0.009089545346796513. Test_MSE: 7.297077581644533e-05\n",
      "Epoch: 845 Iteration: 80300. Train_MSE: 0.0009800423868000507. Test_MSE: 7.290170134384147e-05\n",
      "Epoch: 846 Iteration: 80400. Train_MSE: 0.0001387058146065101. Test_MSE: 7.288170640364751e-05\n",
      "Epoch: 847 Iteration: 80500. Train_MSE: 0.00032753736013546586. Test_MSE: 7.294079156947963e-05\n",
      "Epoch: 848 Iteration: 80600. Train_MSE: 6.374276563292369e-05. Test_MSE: 7.299543962774962e-05\n",
      "Epoch: 849 Iteration: 80700. Train_MSE: 6.888505595270544e-05. Test_MSE: 7.28464757604372e-05\n",
      "Epoch: 850 Iteration: 80800. Train_MSE: 0.00012032658560201526. Test_MSE: 7.292013435688747e-05\n",
      "Epoch: 851 Iteration: 80900. Train_MSE: 0.0002131950604962185. Test_MSE: 7.299940582914748e-05\n",
      "Epoch: 852 Iteration: 81000. Train_MSE: 0.0001099050568882376. Test_MSE: 7.293370730620636e-05\n",
      "Epoch: 853 Iteration: 81100. Train_MSE: 0.0001348205260001123. Test_MSE: 7.286867502710113e-05\n",
      "Epoch: 854 Iteration: 81200. Train_MSE: 0.00035052496241405606. Test_MSE: 7.277514057284408e-05\n",
      "Epoch: 855 Iteration: 81300. Train_MSE: 0.0010674191871657968. Test_MSE: 7.267388865637203e-05\n",
      "Epoch: 856 Iteration: 81400. Train_MSE: 0.0001347014185739681. Test_MSE: 7.271094890478676e-05\n",
      "Epoch: 857 Iteration: 81500. Train_MSE: 5.571304791374132e-05. Test_MSE: 7.277846530650248e-05\n",
      "Epoch: 858 Iteration: 81600. Train_MSE: 9.330993634648621e-05. Test_MSE: 7.273660475719677e-05\n",
      "Epoch: 859 Iteration: 81700. Train_MSE: 6.123126513557509e-05. Test_MSE: 7.259109299989953e-05\n",
      "Epoch: 861 Iteration: 81800. Train_MSE: 0.0002732602006290108. Test_MSE: 7.261107663418057e-05\n",
      "Epoch: 862 Iteration: 81900. Train_MSE: 7.26143189240247e-05. Test_MSE: 7.263438088185197e-05\n",
      "Epoch: 863 Iteration: 82000. Train_MSE: 0.00011764394002966583. Test_MSE: 7.254265742849243e-05\n",
      "Epoch: 864 Iteration: 82100. Train_MSE: 0.009087914600968361. Test_MSE: 7.24730468071419e-05\n",
      "Epoch: 865 Iteration: 82200. Train_MSE: 0.0009794904617592692. Test_MSE: 7.240574020395532e-05\n",
      "Epoch: 866 Iteration: 82300. Train_MSE: 0.00013825851783622056. Test_MSE: 7.238623649170931e-05\n",
      "Epoch: 867 Iteration: 82400. Train_MSE: 0.00032660309807397425. Test_MSE: 7.244446509607106e-05\n",
      "Epoch: 868 Iteration: 82500. Train_MSE: 6.33109375485219e-05. Test_MSE: 7.249734154948578e-05\n",
      "Epoch: 869 Iteration: 82600. Train_MSE: 6.881586159579456e-05. Test_MSE: 7.235314248879816e-05\n",
      "Epoch: 870 Iteration: 82700. Train_MSE: 0.00011864606494782493. Test_MSE: 7.242614385945991e-05\n",
      "Epoch: 871 Iteration: 82800. Train_MSE: 0.00021018418192397803. Test_MSE: 7.250357468499525e-05\n",
      "Epoch: 872 Iteration: 82900. Train_MSE: 0.00010949742136290297. Test_MSE: 7.243918945260392e-05\n",
      "Epoch: 873 Iteration: 83000. Train_MSE: 0.00013426999794319272. Test_MSE: 7.237551663441697e-05\n",
      "Epoch: 874 Iteration: 83100. Train_MSE: 0.0003497743746265769. Test_MSE: 7.228473864844185e-05\n",
      "Epoch: 875 Iteration: 83200. Train_MSE: 0.001066027907654643. Test_MSE: 7.218650521090924e-05\n",
      "Epoch: 876 Iteration: 83300. Train_MSE: 0.00013396360736805946. Test_MSE: 7.222284223178795e-05\n",
      "Epoch: 877 Iteration: 83400. Train_MSE: 5.515673183253966e-05. Test_MSE: 7.228840309577552e-05\n",
      "Epoch: 878 Iteration: 83500. Train_MSE: 9.283748659072444e-05. Test_MSE: 7.224764597661793e-05\n",
      "Epoch: 879 Iteration: 83600. Train_MSE: 6.0775637393817306e-05. Test_MSE: 7.210637948284789e-05\n",
      "Epoch: 881 Iteration: 83700. Train_MSE: 0.0002681324549484998. Test_MSE: 7.212606658049935e-05\n",
      "Epoch: 882 Iteration: 83800. Train_MSE: 7.21178439562209e-05. Test_MSE: 7.214780731406441e-05\n",
      "Epoch: 883 Iteration: 83900. Train_MSE: 0.00011671214451780543. Test_MSE: 7.205930361076639e-05\n",
      "Epoch: 884 Iteration: 84000. Train_MSE: 0.009086324833333492. Test_MSE: 7.199152333635504e-05\n",
      "Epoch: 885 Iteration: 84100. Train_MSE: 0.000978975323960185. Test_MSE: 7.192573664859816e-05\n",
      "Epoch: 886 Iteration: 84200. Train_MSE: 0.0001378266024403274. Test_MSE: 7.19068669090161e-05\n",
      "Epoch: 887 Iteration: 84300. Train_MSE: 0.0003257066127844155. Test_MSE: 7.196429593263897e-05\n",
      "Epoch: 888 Iteration: 84400. Train_MSE: 6.290261808317155e-05. Test_MSE: 7.20157963476956e-05\n",
      "Epoch: 889 Iteration: 84500. Train_MSE: 6.875285907881334e-05. Test_MSE: 7.187574552474731e-05\n",
      "Epoch: 890 Iteration: 84600. Train_MSE: 0.0001169921742985025. Test_MSE: 7.194813573218405e-05\n",
      "Epoch: 891 Iteration: 84700. Train_MSE: 0.00020720178144983947. Test_MSE: 7.202363385647341e-05\n",
      "Epoch: 892 Iteration: 84800. Train_MSE: 0.0001090863806894049. Test_MSE: 7.196035167232079e-05\n",
      "Epoch: 893 Iteration: 84900. Train_MSE: 0.00013373949332162738. Test_MSE: 7.189824714959096e-05\n",
      "Epoch: 894 Iteration: 85000. Train_MSE: 0.0003490343224257231. Test_MSE: 7.181007969024676e-05\n",
      "Epoch: 895 Iteration: 85100. Train_MSE: 0.0010646878508850932. Test_MSE: 7.171461766190702e-05\n",
      "Epoch: 896 Iteration: 85200. Train_MSE: 0.0001332577085122466. Test_MSE: 7.175035917492594e-05\n",
      "Epoch: 897 Iteration: 85300. Train_MSE: 5.463800334837288e-05. Test_MSE: 7.181447018611792e-05\n",
      "Epoch: 898 Iteration: 85400. Train_MSE: 9.236204641638324e-05. Test_MSE: 7.17748140601386e-05\n",
      "Epoch: 899 Iteration: 85500. Train_MSE: 6.033989120624028e-05. Test_MSE: 7.163803478202663e-05\n",
      "Epoch: 901 Iteration: 85600. Train_MSE: 0.0002631794777698815. Test_MSE: 7.165753853474301e-05\n",
      "Epoch: 902 Iteration: 85700. Train_MSE: 7.162362453527749e-05. Test_MSE: 7.167791725960914e-05\n",
      "Epoch: 903 Iteration: 85800. Train_MSE: 0.00011582128354348242. Test_MSE: 7.15924850718994e-05\n",
      "Epoch: 904 Iteration: 85900. Train_MSE: 0.009084765799343586. Test_MSE: 7.152639494530463e-05\n",
      "Epoch: 905 Iteration: 86000. Train_MSE: 0.0009784933645278215. Test_MSE: 7.146232775727427e-05\n",
      "Epoch: 906 Iteration: 86100. Train_MSE: 0.00013741417205892503. Test_MSE: 7.14441126955916e-05\n",
      "Epoch: 907 Iteration: 86200. Train_MSE: 0.000324846914736554. Test_MSE: 7.150022269379063e-05\n",
      "Epoch: 908 Iteration: 86300. Train_MSE: 6.251157174119726e-05. Test_MSE: 7.154953873015818e-05\n",
      "Epoch: 909 Iteration: 86400. Train_MSE: 6.869760545669124e-05. Test_MSE: 7.141385625556302e-05\n",
      "Epoch: 910 Iteration: 86500. Train_MSE: 0.00011542601714609191. Test_MSE: 7.148494626250268e-05\n",
      "Epoch: 911 Iteration: 86600. Train_MSE: 0.00020430957374628633. Test_MSE: 7.155807869139523e-05\n",
      "Epoch: 912 Iteration: 86700. Train_MSE: 0.00010867955279536545. Test_MSE: 7.149607526938015e-05\n",
      "Epoch: 913 Iteration: 86800. Train_MSE: 0.00013322742597665638. Test_MSE: 7.143533100033955e-05\n",
      "Epoch: 914 Iteration: 86900. Train_MSE: 0.0003483124019112438. Test_MSE: 7.13494304193272e-05\n",
      "Epoch: 915 Iteration: 87000. Train_MSE: 0.00106338900513947. Test_MSE: 7.125640661038699e-05\n",
      "Epoch: 916 Iteration: 87100. Train_MSE: 0.00013256806414574385. Test_MSE: 7.129091340091591e-05\n",
      "Epoch: 917 Iteration: 87200. Train_MSE: 5.41531371709425e-05. Test_MSE: 7.1352720675544e-05\n",
      "Epoch: 918 Iteration: 87300. Train_MSE: 9.189405682263896e-05. Test_MSE: 7.131357298874503e-05\n",
      "Epoch: 919 Iteration: 87400. Train_MSE: 5.989477358525619e-05. Test_MSE: 7.118066437650851e-05\n",
      "Epoch: 921 Iteration: 87500. Train_MSE: 0.00025838802685029805. Test_MSE: 7.119935666810628e-05\n"
     ]
    },
    {
     "name": "stdout",
     "output_type": "stream",
     "text": [
      "Epoch: 922 Iteration: 87600. Train_MSE: 7.113027095329016e-05. Test_MSE: 7.121763699067834e-05\n",
      "Epoch: 923 Iteration: 87700. Train_MSE: 0.00011497240484459326. Test_MSE: 7.113471525335151e-05\n",
      "Epoch: 924 Iteration: 87800. Train_MSE: 0.009083273820579052. Test_MSE: 7.106984174915839e-05\n",
      "Epoch: 925 Iteration: 87900. Train_MSE: 0.0009780535474419594. Test_MSE: 7.100671820735474e-05\n",
      "Epoch: 926 Iteration: 88000. Train_MSE: 0.00013701344141736627. Test_MSE: 7.098856774134506e-05\n",
      "Epoch: 927 Iteration: 88100. Train_MSE: 0.00032401448697783053. Test_MSE: 7.104393870306594e-05\n",
      "Epoch: 928 Iteration: 88200. Train_MSE: 6.214267341420054e-05. Test_MSE: 7.109184152317436e-05\n",
      "Epoch: 929 Iteration: 88300. Train_MSE: 6.86475686961785e-05. Test_MSE: 7.095992481460563e-05\n",
      "Epoch: 930 Iteration: 88400. Train_MSE: 0.00011391657608328387. Test_MSE: 7.103045546263506e-05\n",
      "Epoch: 931 Iteration: 88500. Train_MSE: 0.0002014867204707116. Test_MSE: 7.110196345053837e-05\n",
      "Epoch: 932 Iteration: 88600. Train_MSE: 0.00010827206278918311. Test_MSE: 7.104090886444339e-05\n",
      "Epoch: 933 Iteration: 88700. Train_MSE: 0.0001327373320236802. Test_MSE: 7.09815529082669e-05\n",
      "Epoch: 934 Iteration: 88800. Train_MSE: 0.00034760174457915127. Test_MSE: 7.089787132100441e-05\n",
      "Epoch: 935 Iteration: 88900. Train_MSE: 0.001062112278304994. Test_MSE: 7.080731294551298e-05\n",
      "Epoch: 936 Iteration: 89000. Train_MSE: 0.00013190349272917956. Test_MSE: 7.084118526727081e-05\n",
      "Epoch: 937 Iteration: 89100. Train_MSE: 5.369783684727736e-05. Test_MSE: 7.090158072252145e-05\n",
      "Epoch: 938 Iteration: 89200. Train_MSE: 9.142306953435764e-05. Test_MSE: 7.086325335476339e-05\n",
      "Epoch: 939 Iteration: 89300. Train_MSE: 5.945845987298526e-05. Test_MSE: 7.073387575264713e-05\n",
      "Epoch: 941 Iteration: 89400. Train_MSE: 0.00025373752578161657. Test_MSE: 7.075234329319341e-05\n",
      "Epoch: 942 Iteration: 89500. Train_MSE: 7.064980309223756e-05. Test_MSE: 7.076935487726809e-05\n",
      "Epoch: 943 Iteration: 89600. Train_MSE: 0.00011416125198593363. Test_MSE: 7.068918551465882e-05\n",
      "Epoch: 944 Iteration: 89700. Train_MSE: 0.00908181443810463. Test_MSE: 7.062577004369143e-05\n",
      "Epoch: 945 Iteration: 89800. Train_MSE: 0.0009776410879567266. Test_MSE: 7.056389529141463e-05\n",
      "Epoch: 946 Iteration: 89900. Train_MSE: 0.00013662705896422267. Test_MSE: 7.054615464028566e-05\n",
      "Epoch: 947 Iteration: 90000. Train_MSE: 0.0003232159069739282. Test_MSE: 7.060083663770578e-05\n",
      "Epoch: 948 Iteration: 90100. Train_MSE: 6.178919284138829e-05. Test_MSE: 7.064747897972005e-05\n",
      "Epoch: 949 Iteration: 90200. Train_MSE: 6.858217238914222e-05. Test_MSE: 7.05190247849278e-05\n",
      "Epoch: 950 Iteration: 90300. Train_MSE: 0.00011244376946706325. Test_MSE: 7.058899474788729e-05\n",
      "Epoch: 951 Iteration: 90400. Train_MSE: 0.00019875196448992938. Test_MSE: 7.065883374657669e-05\n",
      "Epoch: 952 Iteration: 90500. Train_MSE: 0.00010786694474518299. Test_MSE: 7.059867346704662e-05\n",
      "Epoch: 953 Iteration: 90600. Train_MSE: 0.00013226740702521056. Test_MSE: 7.054037708932831e-05\n",
      "Epoch: 954 Iteration: 90700. Train_MSE: 0.0003469035727903247. Test_MSE: 7.045859722497075e-05\n",
      "Epoch: 955 Iteration: 90800. Train_MSE: 0.0010608836309984326. Test_MSE: 7.037001808414993e-05\n",
      "Epoch: 956 Iteration: 90900. Train_MSE: 0.00013126317935530096. Test_MSE: 7.04031911315181e-05\n",
      "Epoch: 957 Iteration: 91000. Train_MSE: 5.327065082383342e-05. Test_MSE: 7.046200437343495e-05\n",
      "Epoch: 958 Iteration: 91100. Train_MSE: 9.094593406189233e-05. Test_MSE: 7.042439560104075e-05\n",
      "Epoch: 959 Iteration: 91200. Train_MSE: 5.9027777751907706e-05. Test_MSE: 7.029832888270927e-05\n",
      "Epoch: 961 Iteration: 91300. Train_MSE: 0.0002492253843229264. Test_MSE: 7.031642308258979e-05\n",
      "Epoch: 962 Iteration: 91400. Train_MSE: 7.016751624178141e-05. Test_MSE: 7.033230085514581e-05\n",
      "Epoch: 963 Iteration: 91500. Train_MSE: 0.00011337434989400208. Test_MSE: 7.025462379732263e-05\n",
      "Epoch: 964 Iteration: 91600. Train_MSE: 0.009080379270017147. Test_MSE: 7.019251905835268e-05\n",
      "Epoch: 965 Iteration: 91700. Train_MSE: 0.000977253308519721. Test_MSE: 7.013179666363873e-05\n",
      "Epoch: 966 Iteration: 91800. Train_MSE: 0.00013625778956338763. Test_MSE: 7.01143952824255e-05\n",
      "Epoch: 967 Iteration: 91900. Train_MSE: 0.00032244951580651104. Test_MSE: 7.016827421098562e-05\n",
      "Epoch: 968 Iteration: 92000. Train_MSE: 6.145613588159904e-05. Test_MSE: 7.021340664868993e-05\n",
      "Epoch: 969 Iteration: 92100. Train_MSE: 6.850883073639125e-05. Test_MSE: 7.008822563463002e-05\n",
      "Epoch: 970 Iteration: 92200. Train_MSE: 0.00011101867130491883. Test_MSE: 7.015756385275496e-05\n",
      "Epoch: 971 Iteration: 92300. Train_MSE: 0.0001960983354365453. Test_MSE: 7.022566802708004e-05\n",
      "Epoch: 972 Iteration: 92400. Train_MSE: 0.00010746737098088488. Test_MSE: 7.016642715542857e-05\n",
      "Epoch: 973 Iteration: 92500. Train_MSE: 0.00013181587564758956. Test_MSE: 7.01093659111977e-05\n",
      "Epoch: 974 Iteration: 92600. Train_MSE: 0.0003462086897343397. Test_MSE: 7.002965585201608e-05\n",
      "Epoch: 975 Iteration: 92700. Train_MSE: 0.0010597059736028314. Test_MSE: 6.994321003254693e-05\n",
      "Epoch: 976 Iteration: 92800. Train_MSE: 0.00013064021186437458. Test_MSE: 6.997552397226592e-05\n",
      "Epoch: 977 Iteration: 92900. Train_MSE: 5.286897430778481e-05. Test_MSE: 7.003267532936419e-05\n",
      "Epoch: 978 Iteration: 93000. Train_MSE: 9.046454215422273e-05. Test_MSE: 6.999552075052995e-05\n",
      "Epoch: 979 Iteration: 93100. Train_MSE: 5.860300734639168e-05. Test_MSE: 6.987257440558561e-05\n",
      "Epoch: 981 Iteration: 93200. Train_MSE: 0.000244855327764526. Test_MSE: 6.989012275071405e-05\n",
      "Epoch: 982 Iteration: 93300. Train_MSE: 6.96907372912392e-05. Test_MSE: 6.990446291915157e-05\n",
      "Epoch: 983 Iteration: 93400. Train_MSE: 0.00011262047337368131. Test_MSE: 6.982905870692369e-05\n",
      "Epoch: 984 Iteration: 93500. Train_MSE: 0.009078994393348694. Test_MSE: 6.976815305178948e-05\n",
      "Epoch: 985 Iteration: 93600. Train_MSE: 0.0009768960298970342. Test_MSE: 6.970879518237931e-05\n",
      "Epoch: 986 Iteration: 93700. Train_MSE: 0.0001358951412839815. Test_MSE: 6.969180475488522e-05\n",
      "Epoch: 987 Iteration: 93800. Train_MSE: 0.00032171185011975467. Test_MSE: 6.974500767159255e-05\n",
      "Epoch: 988 Iteration: 93900. Train_MSE: 6.113765994086862e-05. Test_MSE: 6.978897217235658e-05\n",
      "Epoch: 989 Iteration: 94000. Train_MSE: 6.843535811640322e-05. Test_MSE: 6.966684170219546e-05\n",
      "Epoch: 990 Iteration: 94100. Train_MSE: 0.00010963073145831004. Test_MSE: 6.97355636932651e-05\n",
      "Epoch: 991 Iteration: 94200. Train_MSE: 0.0001935269683599472. Test_MSE: 6.980227990404277e-05\n",
      "Epoch: 992 Iteration: 94300. Train_MSE: 0.00010707208275562152. Test_MSE: 6.97440894122219e-05\n",
      "Epoch: 993 Iteration: 94400. Train_MSE: 0.0001313768298132345. Test_MSE: 6.968842248589519e-05\n",
      "Epoch: 994 Iteration: 94500. Train_MSE: 0.0003455266996752471. Test_MSE: 6.961078092324521e-05\n",
      "Epoch: 995 Iteration: 94600. Train_MSE: 0.0010585655691102147. Test_MSE: 6.952654504350977e-05\n",
      "Epoch: 996 Iteration: 94700. Train_MSE: 0.00013003050116822124. Test_MSE: 6.95584941270123e-05\n",
      "Epoch: 997 Iteration: 94800. Train_MSE: 5.2481278544291854e-05. Test_MSE: 6.961462150897222e-05\n",
      "Epoch: 998 Iteration: 94900. Train_MSE: 8.998441626317799e-05. Test_MSE: 6.95784255796706e-05\n",
      "Epoch: 999 Iteration: 95000. Train_MSE: 5.8182296925224364e-05. Test_MSE: 6.945873743307025e-05\n"
     ]
    }
   ],
   "source": [
    "# Training the model\n",
    "seq_dim = 1\n",
    "\n",
    "n_iter =0\n",
    "num_samples = len(X_train)\n",
    "test_samples = len(X_test)\n",
    "batch_size = 100\n",
    "num_epochs = 1000\n",
    "feat_dim = X_train.shape[1]\n",
    "\n",
    "X_train = X_train.type(torch.FloatTensor)\n",
    "y_train = y_train.type(torch.FloatTensor)\n",
    "X_test = X_test.type(torch.FloatTensor)\n",
    "y_test = y_test.type(torch.FloatTensor)\n",
    "\n",
    "for epoch in range(num_epochs):\n",
    "    for i in range(0, int(num_samples/batch_size -1)):\n",
    "        \n",
    "        \n",
    "        features = Variable(X_train[i*batch_size:(i+1)*batch_size, :]).view(-1, seq_dim, feat_dim)\n",
    "        Kt_value = Variable(y_train[i*batch_size:(i+1)*batch_size])\n",
    "        \n",
    "        #print(\"Kt_value={}\".format(Kt_value))\n",
    "        \n",
    "        optimizer.zero_grad()\n",
    "        \n",
    "        outputs = model(features)\n",
    "        #print(\"outputs ={}\".format(outputs))\n",
    "        \n",
    "        loss = criterion(outputs, Kt_value)\n",
    "        \n",
    "        train_loss.append(loss.data[0])\n",
    "        train_iter.append(n_iter)\n",
    "\n",
    "        #print(\"loss = {}\".format(loss))\n",
    "        loss.backward()\n",
    "        \n",
    "        optimizer.step()\n",
    "        \n",
    "        n_iter += 1  \n",
    "            \n",
    "        if n_iter%100 == 0:\n",
    "            for i in range(0,int(test_samples/batch_size -1)):\n",
    "                features = Variable(X_test[i*batch_size:(i+1)*batch_size, :]).view(-1, seq_dim, feat_dim)\n",
    "                Kt_test = Variable(y_test[i*batch_size:(i+1)*batch_size])\n",
    "                \n",
    "                outputs = model(features)\n",
    "                \n",
    "                mse = np.sqrt(np.mean((Kt_test.data.numpy() - outputs.data.numpy().squeeze())**2)/num_samples)\n",
    "                \n",
    "                test_iter.append(n_iter)\n",
    "                test_loss.append(mse)\n",
    "                \n",
    "            print('Epoch: {} Iteration: {}. Train_MSE: {}. Test_MSE: {}'.format(epoch, n_iter, loss.data[0], mse))\n",
    "               "
   ]
  },
  {
   "cell_type": "code",
   "execution_count": 78,
   "metadata": {},
   "outputs": [
    {
     "name": "stdout",
     "output_type": "stream",
     "text": [
      "41800\n"
     ]
    },
    {
     "data": {
      "text/plain": [
       "[<matplotlib.lines.Line2D at 0xfef4b70>]"
      ]
     },
     "execution_count": 78,
     "metadata": {},
     "output_type": "execute_result"
    },
    {
     "data": {
      "image/png": "[encoded data removed]",
      "text/plain": [
       "<Figure size 432x288 with 1 Axes>"
      ]
     },
     "metadata": {},
     "output_type": "display_data"
    }
   ],
   "source": [
    "print(len(test_loss))\n",
    "#plt.plot(test_loss)\n",
    "plt.plot(train_loss,'-')\n",
    "#plt.ylim([0.000,0.99])\n"
   ]
  },
  {
   "cell_type": "code",
   "execution_count": 79,
   "metadata": {},
   "outputs": [
    {
     "data": {
      "text/plain": [
       "[<matplotlib.lines.Line2D at 0xbaa7438>]"
      ]
     },
     "execution_count": 79,
     "metadata": {},
     "output_type": "execute_result"
    },
    {
     "data": {
      "image/png": "[encoded data removed]",
      "text/plain": [
       "<Figure size 432x288 with 1 Axes>"
      ]
     },
     "metadata": {},
     "output_type": "display_data"
    }
   ],
   "source": [
    "plt.plot(test_loss,'r')"
   ]
  },
  {
   "cell_type": "markdown",
   "metadata": {
    "collapsed": true
   },
   "source": [
    "#### Demornamization"
   ]
  },
  {
   "cell_type": "code",
   "execution_count": 80,
   "metadata": {},
   "outputs": [],
   "source": [
    "rmse = np.sqrt(mse)"
   ]
  },
  {
   "cell_type": "code",
   "execution_count": 81,
   "metadata": {},
   "outputs": [],
   "source": [
    "rmse_denorm = (rmse * (df_new_test['Kt'].max() - df_new_test['Kt'].min()))+ df_new_test['Kt'].mean()"
   ]
  },
  {
   "cell_type": "code",
   "execution_count": 82,
   "metadata": {},
   "outputs": [
    {
     "data": {
      "text/plain": [
       "26.80224850350189"
      ]
     },
     "execution_count": 82,
     "metadata": {},
     "output_type": "execute_result"
    }
   ],
   "source": [
    "rmse_denorm"
   ]
  },
  {
   "cell_type": "code",
   "execution_count": 83,
   "metadata": {},
   "outputs": [
    {
     "data": {
      "text/plain": [
       "count    4440.000000\n",
       "mean        6.944326\n",
       "std        53.755166\n",
       "min        -0.127833\n",
       "25%        -0.002593\n",
       "50%         0.102688\n",
       "75%         1.168942\n",
       "max      2382.577671\n",
       "Name: Kt, dtype: float64"
      ]
     },
     "execution_count": 83,
     "metadata": {},
     "output_type": "execute_result"
    }
   ],
   "source": [
    "df_new_test['Kt'].describe()"
   ]
  },
  {
   "cell_type": "markdown",
   "metadata": {
    "collapsed": true
   },
   "source": [
    "### Saving train and test losses to a csv"
   ]
  },
  {
   "cell_type": "code",
   "execution_count": 84,
   "metadata": {},
   "outputs": [],
   "source": [
    "df_trainLoss = pd.DataFrame(data={'Train Loss':train_loss, 'iteration':train_iter}, columns=['Train Loss','iteration'])\n",
    "df_trainLoss.to_csv('RNN Paper Results/Exp1_SiouxFalls_TrainLoss.csv')\n",
    "df_testLoss = pd.DataFrame(data={'Test Loss':test_loss, 'iteration':test_iter}, columns=['Test Loss','iteration'])\n",
    "df_testLoss.to_csv('RNN Paper Results/Exp1_SiouxFalls_TestLoss.csv')"
   ]
  },
  {
   "cell_type": "code",
   "execution_count": null,
   "metadata": {},
   "outputs": [],
   "source": []
  }
 ],
 "metadata": {
  "anaconda-cloud": {},
  "kernelspec": {
   "display_name": "Python 3",
   "language": "python",
   "name": "python3"
  },
  "language_info": {
   "codemirror_mode": {
    "name": "ipython",
    "version": 3
   },
   "file_extension": ".py",
   "mimetype": "text/x-python",
   "name": "python",
   "nbconvert_exporter": "python",
   "pygments_lexer": "ipython3",
   "version": "3.6.1"
  }
 },
 "nbformat": 4,
 "nbformat_minor": 2
}
