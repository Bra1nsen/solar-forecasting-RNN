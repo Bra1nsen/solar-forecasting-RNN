{
 "cells": [
  {
   "cell_type": "code",
   "execution_count": 1,
   "metadata": {},
   "outputs": [],
   "source": [
    "import numpy as np\n",
    "import pandas as pd\n",
    "import datetime\n",
    "import glob\n",
    "import os.path\n",
    "from pandas.compat import StringIO"
   ]
  },
  {
   "cell_type": "markdown",
   "metadata": {},
   "source": [
    "### NREL Bird Model implementation: for obtaining clear sky GHI"
   ]
  },
  {
   "cell_type": "code",
   "execution_count": 2,
   "metadata": {},
   "outputs": [],
   "source": [
    "import itertools\n",
    "import matplotlib.pyplot as plt\n",
    "import pandas as pd\n",
    "import seaborn as sns"
   ]
  },
  {
   "cell_type": "code",
   "execution_count": 3,
   "metadata": {},
   "outputs": [],
   "source": [
    "%matplotlib inline\n",
    "sns.set_color_codes()"
   ]
  },
  {
   "cell_type": "code",
   "execution_count": 4,
   "metadata": {},
   "outputs": [],
   "source": [
    "import pvlib\n",
    "from pvlib import clearsky, atmosphere\n",
    "from pvlib.location import Location"
   ]
  },
  {
   "cell_type": "code",
   "execution_count": 5,
   "metadata": {},
   "outputs": [],
   "source": [
    "bvl = Location(40.1134,-88.3695, 'US/Central', 217.932, 'Bondville')"
   ]
  },
  {
   "cell_type": "code",
   "execution_count": 6,
   "metadata": {},
   "outputs": [],
   "source": [
    "times2009 = pd.DatetimeIndex(start='2009-01-01', end='2010-01-01', freq='1min',\n",
    "                        tz=bvl.tz)   # 12 months of 2009 - For testing\n",
    "times2010and2011 = pd.DatetimeIndex(start='2010-01-01', end='2012-01-01', freq='1min',\n",
    "                        tz=bvl.tz)   # 24 months of 2010 and 2011 - For training"
   ]
  },
  {
   "cell_type": "code",
   "execution_count": 7,
   "metadata": {},
   "outputs": [],
   "source": [
    "cs_2009 = bvl.get_clearsky(times2009) \n",
    "cs_2010and2011 = bvl.get_clearsky(times2010and2011) # ineichen with climatology table by default\n",
    "#cs_2011 = bvl.get_clearsky(times2011) "
   ]
  },
  {
   "cell_type": "code",
   "execution_count": 8,
   "metadata": {},
   "outputs": [],
   "source": [
    "cs_2009.drop(['dni','dhi'],axis=1, inplace=True) #updating the same dataframe by dropping two columns\n",
    "cs_2010and2011.drop(['dni','dhi'],axis=1, inplace=True) #updating the same dataframe by dropping two columns\n",
    "#cs_2011.drop(['dni','dhi'],axis=1, inplace=True) #updating the same dataframe by dropping two columns"
   ]
  },
  {
   "cell_type": "code",
   "execution_count": 9,
   "metadata": {},
   "outputs": [],
   "source": [
    "cs_2009.reset_index(inplace=True)\n",
    "cs_2010and2011.reset_index(inplace=True)\n",
    "#cs_2011.reset_index(inplace=True)"
   ]
  },
  {
   "cell_type": "code",
   "execution_count": 10,
   "metadata": {},
   "outputs": [],
   "source": [
    "cs_2009['index']=cs_2009['index'].apply(lambda x:x.to_datetime())\n",
    "cs_2009['year'] = cs_2009['index'].apply(lambda x:x.year)\n",
    "cs_2009['month'] = cs_2009['index'].apply(lambda x:x.month)\n",
    "cs_2009['day'] = cs_2009['index'].apply(lambda x:x.day)\n",
    "cs_2009['hour'] = cs_2009['index'].apply(lambda x:x.hour)\n",
    "cs_2009['min'] = cs_2009['index'].apply(lambda x:x.minute)"
   ]
  },
  {
   "cell_type": "code",
   "execution_count": 11,
   "metadata": {},
   "outputs": [],
   "source": [
    "cs_2010and2011['index']=cs_2010and2011['index'].apply(lambda x:x.to_datetime())\n",
    "cs_2010and2011['year'] = cs_2010and2011['index'].apply(lambda x:x.year)\n",
    "cs_2010and2011['month'] = cs_2010and2011['index'].apply(lambda x:x.month)\n",
    "cs_2010and2011['day'] = cs_2010and2011['index'].apply(lambda x:x.day)\n",
    "cs_2010and2011['hour'] = cs_2010and2011['index'].apply(lambda x:x.hour)\n",
    "cs_2010and2011['min'] = cs_2010and2011['index'].apply(lambda x:x.minute)"
   ]
  },
  {
   "cell_type": "code",
   "execution_count": 12,
   "metadata": {},
   "outputs": [
    {
     "name": "stdout",
     "output_type": "stream",
     "text": [
      "(525601, 7)\n",
      "(1051201, 7)\n"
     ]
    }
   ],
   "source": [
    "print(cs_2009.shape)\n",
    "print(cs_2010and2011.shape)\n",
    "#print(cs_2011.shape)"
   ]
  },
  {
   "cell_type": "code",
   "execution_count": 13,
   "metadata": {},
   "outputs": [],
   "source": [
    "cs_2009.drop(cs_2009.index[-1], inplace=True)\n",
    "cs_2010and2011.drop(cs_2010and2011.index[-1], inplace=True)\n",
    "#cs_2011.drop(cs_2011.index[-1], inplace=True)"
   ]
  },
  {
   "cell_type": "code",
   "execution_count": 14,
   "metadata": {},
   "outputs": [
    {
     "name": "stdout",
     "output_type": "stream",
     "text": [
      "(525600, 7)\n",
      "(1051200, 7)\n"
     ]
    }
   ],
   "source": [
    "print(cs_2009.shape)\n",
    "print(cs_2010and2011.shape)\n",
    "#print(cs_2011.shape)"
   ]
  },
  {
   "cell_type": "code",
   "execution_count": 15,
   "metadata": {},
   "outputs": [
    {
     "data": {
      "text/html": [
       "<div>\n",
       "<style scoped>\n",
       "    .dataframe tbody tr th:only-of-type {\n",
       "        vertical-align: middle;\n",
       "    }\n",
       "\n",
       "    .dataframe tbody tr th {\n",
       "        vertical-align: top;\n",
       "    }\n",
       "\n",
       "    .dataframe thead th {\n",
       "        text-align: right;\n",
       "    }\n",
       "</style>\n",
       "<table border=\"1\" class=\"dataframe\">\n",
       "  <thead>\n",
       "    <tr style=\"text-align: right;\">\n",
       "      <th></th>\n",
       "      <th>index</th>\n",
       "      <th>ghi</th>\n",
       "      <th>year</th>\n",
       "      <th>month</th>\n",
       "      <th>day</th>\n",
       "      <th>hour</th>\n",
       "      <th>min</th>\n",
       "    </tr>\n",
       "  </thead>\n",
       "  <tbody>\n",
       "    <tr>\n",
       "      <th>0</th>\n",
       "      <td>2010-01-01 00:00:00-06:00</td>\n",
       "      <td>0.0</td>\n",
       "      <td>2010</td>\n",
       "      <td>1</td>\n",
       "      <td>1</td>\n",
       "      <td>0</td>\n",
       "      <td>0</td>\n",
       "    </tr>\n",
       "    <tr>\n",
       "      <th>1</th>\n",
       "      <td>2010-01-01 00:01:00-06:00</td>\n",
       "      <td>0.0</td>\n",
       "      <td>2010</td>\n",
       "      <td>1</td>\n",
       "      <td>1</td>\n",
       "      <td>0</td>\n",
       "      <td>1</td>\n",
       "    </tr>\n",
       "    <tr>\n",
       "      <th>2</th>\n",
       "      <td>2010-01-01 00:02:00-06:00</td>\n",
       "      <td>0.0</td>\n",
       "      <td>2010</td>\n",
       "      <td>1</td>\n",
       "      <td>1</td>\n",
       "      <td>0</td>\n",
       "      <td>2</td>\n",
       "    </tr>\n",
       "    <tr>\n",
       "      <th>3</th>\n",
       "      <td>2010-01-01 00:03:00-06:00</td>\n",
       "      <td>0.0</td>\n",
       "      <td>2010</td>\n",
       "      <td>1</td>\n",
       "      <td>1</td>\n",
       "      <td>0</td>\n",
       "      <td>3</td>\n",
       "    </tr>\n",
       "    <tr>\n",
       "      <th>4</th>\n",
       "      <td>2010-01-01 00:04:00-06:00</td>\n",
       "      <td>0.0</td>\n",
       "      <td>2010</td>\n",
       "      <td>1</td>\n",
       "      <td>1</td>\n",
       "      <td>0</td>\n",
       "      <td>4</td>\n",
       "    </tr>\n",
       "  </tbody>\n",
       "</table>\n",
       "</div>"
      ],
      "text/plain": [
       "                      index  ghi  year  month  day  hour  min\n",
       "0 2010-01-01 00:00:00-06:00  0.0  2010      1    1     0    0\n",
       "1 2010-01-01 00:01:00-06:00  0.0  2010      1    1     0    1\n",
       "2 2010-01-01 00:02:00-06:00  0.0  2010      1    1     0    2\n",
       "3 2010-01-01 00:03:00-06:00  0.0  2010      1    1     0    3\n",
       "4 2010-01-01 00:04:00-06:00  0.0  2010      1    1     0    4"
      ]
     },
     "execution_count": 15,
     "metadata": {},
     "output_type": "execute_result"
    }
   ],
   "source": [
    "cs_2010and2011.head()"
   ]
  },
  {
   "cell_type": "markdown",
   "metadata": {},
   "source": [
    "### Import files from each year in a separate dataframe"
   ]
  },
  {
   "cell_type": "markdown",
   "metadata": {
    "collapsed": true
   },
   "source": [
    "\n",
    "- year            integer\t year, i.e., 1995\n",
    "- jday            integer\t Julian day (1 through 365 [or 366])\n",
    "- month           integer\t number of the month (1-12)\n",
    "- day             integer\t day of the month(1-31)\n",
    "- hour            integer\t hour of the day (0-23)\n",
    "- min             integer\t minute of the hour (0-59)\n",
    "- dt              real\t decimal time (hour.decimalminutes, e.g., 23.5 = 2330)\n",
    "- zen             real\t solar zenith angle (degrees)\n",
    "- dw_solar        real\t downwelling global solar (Watts m^-2)\n",
    "- uw_solar        real\t upwelling global solar (Watts m^-2)\n",
    "- direct_n        real\t direct-normal solar (Watts m^-2)\n",
    "- diffuse         real\t downwelling diffuse solar (Watts m^-2)\n",
    "- dw_ir           real\t downwelling thermal infrared (Watts m^-2)\n",
    "- dw_casetemp     real\t downwelling IR case temp. (K)\n",
    "- dw_dometemp     real\t downwelling IR dome temp. (K)\n",
    "- uw_ir           real\t upwelling thermal infrared (Watts m^-2)\n",
    "- uw_casetemp     real\t upwelling IR case temp. (K)\n",
    "- uw_dometemp     real\t upwelling IR dome temp. (K)\n",
    "- uvb             real\t global UVB (milliWatts m^-2)\n",
    "- par             real\t photosynthetically active radiation (Watts m^-2)\n",
    "- netsolar        real\t net solar (dw_solar - uw_solar) (Watts m^-2)\n",
    "- netir           real\t net infrared (dw_ir - uw_ir) (Watts m^-2)\n",
    "- totalnet        real\t net radiation (netsolar+netir) (Watts m^-2)\n",
    "- temp            real\t 10-meter air temperature (?C)\n",
    "- rh              real\t relative humidity (%)\n",
    "- windspd         real\t wind speed (ms^-1)\n",
    "- winddir         real\t wind direction (degrees, clockwise from north)\n",
    "- pressure        real\t station pressure (mb)\n"
   ]
  },
  {
   "cell_type": "code",
   "execution_count": 16,
   "metadata": {},
   "outputs": [],
   "source": [
    "cols = ['year', 'jday', 'month', 'day','hour','min','dt','zen','dw_solar','dw_solar_QC','uw_solar',\n",
    "       'uw_solar_QC', 'direct_n','direct_n_QC','diffuse', 'diffuse_QC', 'dw_ir', 'dw_ir_QC', 'dw_casetemp',\n",
    "       'dw_casetemp_QC', 'dw_dometemp','dw_dometemp_QC','uw_ir', 'uw_ir_QC', 'uw_casetemp','uw_casetemp_QC',\n",
    "       'uw_dometemp','uw_dometemp_QC','uvb','uvb_QC','par','par_QC','netsolar','netsolar_QC','netir','netir_QC',\n",
    "       'totalnet','totalnet_QC','temp','temp_QC','rh','rh_QC','windspd','windspd_QC','winddir','winddir_QC',\n",
    "       'pressure','pressure_QC']"
   ]
  },
  {
   "cell_type": "code",
   "execution_count": 17,
   "metadata": {},
   "outputs": [
    {
     "data": {
      "text/plain": [
       "(1050402, 48)"
      ]
     },
     "execution_count": 17,
     "metadata": {},
     "output_type": "execute_result"
    }
   ],
   "source": [
    "path = r'.\\\\data\\\\Bondville\\\\Exp_1_train'\n",
    "all_files = glob.glob(path + \"/*.dat\")\n",
    "all_files.sort()\n",
    "\n",
    "df_big_train = pd.concat([pd.read_csv(f, skipinitialspace = True, quotechar = '\"',skiprows=(2),delimiter=' ', \n",
    "                 index_col=False,header=None, names=cols) for f in all_files],ignore_index=True)\n",
    "df_big_train.shape"
   ]
  },
  {
   "cell_type": "code",
   "execution_count": 18,
   "metadata": {},
   "outputs": [
    {
     "data": {
      "text/plain": [
       "(524936, 48)"
      ]
     },
     "execution_count": 18,
     "metadata": {},
     "output_type": "execute_result"
    }
   ],
   "source": [
    "path = r'.\\\\data\\\\Bondville\\\\Exp_1_test'\n",
    "all_files = glob.glob(path + \"/*.dat\")\n",
    "all_files.sort()\n",
    "\n",
    "df_big_test = pd.concat((pd.read_csv(f, skipinitialspace = True, quotechar = '\"',skiprows=(2),delimiter=' ', \n",
    "                 index_col=False,header=None, names=cols) for f in all_files),ignore_index=True)\n",
    "df_big_test.shape"
   ]
  },
  {
   "cell_type": "code",
   "execution_count": 19,
   "metadata": {},
   "outputs": [
    {
     "data": {
      "text/plain": [
       "(19, 48)"
      ]
     },
     "execution_count": 19,
     "metadata": {},
     "output_type": "execute_result"
    }
   ],
   "source": [
    "df_big_test[df_big_test['dw_solar']==-9999.9].shape"
   ]
  },
  {
   "cell_type": "markdown",
   "metadata": {},
   "source": [
    "### Merging Clear Sky GHI And the big dataframe"
   ]
  },
  {
   "cell_type": "code",
   "execution_count": 20,
   "metadata": {},
   "outputs": [
    {
     "data": {
      "text/plain": [
       "(1050402, 50)"
      ]
     },
     "execution_count": 20,
     "metadata": {},
     "output_type": "execute_result"
    }
   ],
   "source": [
    "df_train = pd.merge(df_big_train, cs_2010and2011, on=['year','month','day','hour','min'])\n",
    "df_train.shape"
   ]
  },
  {
   "cell_type": "code",
   "execution_count": 21,
   "metadata": {},
   "outputs": [
    {
     "data": {
      "text/plain": [
       "(524936, 50)"
      ]
     },
     "execution_count": 21,
     "metadata": {},
     "output_type": "execute_result"
    }
   ],
   "source": [
    "df_test = pd.merge(df_big_test, cs_2009, on=['year','month','day','hour','min'])\n",
    "df_test.shape"
   ]
  },
  {
   "cell_type": "code",
   "execution_count": 22,
   "metadata": {},
   "outputs": [],
   "source": [
    "df_train.drop(['index'],axis=1, inplace=True) #updating the same dataframe by dropping the index columns from clear sky model\n",
    "df_test.drop(['index'], axis=1, inplace=True)"
   ]
  },
  {
   "cell_type": "code",
   "execution_count": 23,
   "metadata": {},
   "outputs": [
    {
     "data": {
      "text/plain": [
       "(1050402, 49)"
      ]
     },
     "execution_count": 23,
     "metadata": {},
     "output_type": "execute_result"
    }
   ],
   "source": [
    "df_train.shape"
   ]
  },
  {
   "cell_type": "markdown",
   "metadata": {},
   "source": [
    "### Managing missing values"
   ]
  },
  {
   "cell_type": "code",
   "execution_count": 24,
   "metadata": {},
   "outputs": [],
   "source": [
    "# Resetting index\n",
    "df_train.reset_index(drop=True, inplace=True)\n",
    "df_test.reset_index(drop=True, inplace=True)"
   ]
  },
  {
   "cell_type": "code",
   "execution_count": 25,
   "metadata": {},
   "outputs": [],
   "source": [
    "# Dropping rows with two or more -9999.9 values in columns"
   ]
  },
  {
   "cell_type": "code",
   "execution_count": 26,
   "metadata": {},
   "outputs": [
    {
     "data": {
      "text/plain": [
       "(1046527, 49)"
      ]
     },
     "execution_count": 26,
     "metadata": {},
     "output_type": "execute_result"
    }
   ],
   "source": [
    "# Step1: Get indices of all rows with 2 or more -999\n",
    "missing_data_indices = np.where((df_train <=-9999.9).apply(sum, axis=1)>=2)[0]\n",
    "# Step2: Drop those indices\n",
    "df_train.drop(missing_data_indices, axis=0, inplace=True)\n",
    "# Checking that the rows are dropped\n",
    "df_train.shape"
   ]
  },
  {
   "cell_type": "code",
   "execution_count": 27,
   "metadata": {},
   "outputs": [
    {
     "data": {
      "text/plain": [
       "(516826, 49)"
      ]
     },
     "execution_count": 27,
     "metadata": {},
     "output_type": "execute_result"
    }
   ],
   "source": [
    "missing_data_indices_test = np.where((df_test <= -9999.9).apply(sum, axis=1)>=2)[0]\n",
    "df_test.drop(missing_data_indices_test, axis=0, inplace=True)\n",
    "df_test.shape"
   ]
  },
  {
   "cell_type": "code",
   "execution_count": 28,
   "metadata": {},
   "outputs": [],
   "source": [
    "# For the rows with only one cell as -9999.9, replacing this cell with the mean of the column"
   ]
  },
  {
   "cell_type": "markdown",
   "metadata": {},
   "source": [
    "#### First resetting index after dropping rows in the previous part of the code"
   ]
  },
  {
   "cell_type": "code",
   "execution_count": 29,
   "metadata": {},
   "outputs": [],
   "source": [
    "# 2nd time - Reseting Index\n",
    "df_train.reset_index(drop=True, inplace=True)\n",
    "df_test.reset_index(drop=True, inplace=True)"
   ]
  },
  {
   "cell_type": "code",
   "execution_count": 30,
   "metadata": {},
   "outputs": [],
   "source": [
    "one_miss_train_idx = np.where((df_train <=-9999.9).apply(sum, axis=1)==1)[0]"
   ]
  },
  {
   "cell_type": "code",
   "execution_count": 31,
   "metadata": {},
   "outputs": [
    {
     "data": {
      "text/plain": [
       "24739"
      ]
     },
     "execution_count": 31,
     "metadata": {},
     "output_type": "execute_result"
    }
   ],
   "source": [
    "len(one_miss_train_idx)"
   ]
  },
  {
   "cell_type": "code",
   "execution_count": 32,
   "metadata": {},
   "outputs": [
    {
     "data": {
      "text/plain": [
       "(1046527, 49)"
      ]
     },
     "execution_count": 32,
     "metadata": {},
     "output_type": "execute_result"
    }
   ],
   "source": [
    "df_train.shape"
   ]
  },
  {
   "cell_type": "code",
   "execution_count": 33,
   "metadata": {},
   "outputs": [
    {
     "name": "stderr",
     "output_type": "stream",
     "text": [
      "C:\\Users\\s269596\\AppData\\Local\\Continuum\\Anaconda3\\lib\\site-packages\\pandas\\core\\indexing.py:194: SettingWithCopyWarning: \n",
      "A value is trying to be set on a copy of a slice from a DataFrame\n",
      "\n",
      "See the caveats in the documentation: http://pandas.pydata.org/pandas-docs/stable/indexing.html#indexing-view-versus-copy\n",
      "  self._setitem_with_indexer(indexer, value)\n"
     ]
    }
   ],
   "source": [
    "col_names = df_train.columns\n",
    "from collections import defaultdict\n",
    "stats = defaultdict(int)\n",
    "total_single_missing_values = 0\n",
    "for name in col_names:\n",
    "    col_mean = df_train[~(df_train[name] == -9999.9)][name].mean()\n",
    "    missing_indices = np.where((df_train[name] == -9999.9))\n",
    "    stats[name] = len(missing_indices[0])\n",
    "    df_train[name].loc[missing_indices] = col_mean\n",
    "    total_single_missing_values += sum(df_train[name] == -9999.9)\n",
    "    "
   ]
  },
  {
   "cell_type": "code",
   "execution_count": 34,
   "metadata": {},
   "outputs": [],
   "source": [
    "df_col_min = df_train.apply(min, axis=0)\n",
    "df_col_max = df_train.apply(max, axis =0)\n",
    "#print(df_col_min, df_col_max)"
   ]
  },
  {
   "cell_type": "code",
   "execution_count": 35,
   "metadata": {},
   "outputs": [],
   "source": [
    "train = np.where((df_train <=-9999.9).apply(sum, axis=1)==1)[0]"
   ]
  },
  {
   "cell_type": "code",
   "execution_count": 36,
   "metadata": {},
   "outputs": [
    {
     "data": {
      "text/plain": [
       "0"
      ]
     },
     "execution_count": 36,
     "metadata": {},
     "output_type": "execute_result"
    }
   ],
   "source": [
    "len(train)"
   ]
  },
  {
   "cell_type": "code",
   "execution_count": 37,
   "metadata": {},
   "outputs": [],
   "source": [
    "# doing the same thing on test dataset"
   ]
  },
  {
   "cell_type": "code",
   "execution_count": 38,
   "metadata": {},
   "outputs": [
    {
     "data": {
      "text/plain": [
       "15271"
      ]
     },
     "execution_count": 38,
     "metadata": {},
     "output_type": "execute_result"
    }
   ],
   "source": [
    "one_miss_test_idx = np.where((df_test <=-9999.9).apply(sum, axis=1)==1)[0]\n",
    "len(one_miss_test_idx)"
   ]
  },
  {
   "cell_type": "code",
   "execution_count": 39,
   "metadata": {},
   "outputs": [
    {
     "name": "stderr",
     "output_type": "stream",
     "text": [
      "C:\\Users\\s269596\\AppData\\Local\\Continuum\\Anaconda3\\lib\\site-packages\\pandas\\core\\indexing.py:194: SettingWithCopyWarning: \n",
      "A value is trying to be set on a copy of a slice from a DataFrame\n",
      "\n",
      "See the caveats in the documentation: http://pandas.pydata.org/pandas-docs/stable/indexing.html#indexing-view-versus-copy\n",
      "  self._setitem_with_indexer(indexer, value)\n"
     ]
    }
   ],
   "source": [
    "col_names_test = df_test.columns\n",
    "from collections import defaultdict\n",
    "stats_test = defaultdict(int)\n",
    "total_single_missing_values_test = 0\n",
    "for name in col_names_test:\n",
    "    col_mean = df_test[~(df_test[name] == -9999.9)][name].mean()\n",
    "    missing_indices = np.where((df_test[name] == -9999.9))\n",
    "    stats_test[name] = len(missing_indices[0])\n",
    "    df_test[name].loc[missing_indices] = col_mean\n",
    "    total_single_missing_values_test += sum(df_test[name] == -9999.9)\n",
    "    "
   ]
  },
  {
   "cell_type": "code",
   "execution_count": 40,
   "metadata": {},
   "outputs": [],
   "source": [
    "test = np.where((df_test <=-9999.9).apply(sum, axis=1)==1)[0]"
   ]
  },
  {
   "cell_type": "code",
   "execution_count": 41,
   "metadata": {},
   "outputs": [
    {
     "data": {
      "text/plain": [
       "0"
      ]
     },
     "execution_count": 41,
     "metadata": {},
     "output_type": "execute_result"
    }
   ],
   "source": [
    "len(test)"
   ]
  },
  {
   "cell_type": "code",
   "execution_count": 42,
   "metadata": {},
   "outputs": [
    {
     "data": {
      "text/plain": [
       "(1046527, 49)"
      ]
     },
     "execution_count": 42,
     "metadata": {},
     "output_type": "execute_result"
    }
   ],
   "source": [
    "df_train.shape"
   ]
  },
  {
   "cell_type": "code",
   "execution_count": 43,
   "metadata": {},
   "outputs": [
    {
     "data": {
      "text/plain": [
       "(516826, 49)"
      ]
     },
     "execution_count": 43,
     "metadata": {},
     "output_type": "execute_result"
    }
   ],
   "source": [
    "df_test.shape"
   ]
  },
  {
   "cell_type": "markdown",
   "metadata": {},
   "source": [
    "### Exploratory Data Analysis"
   ]
  },
  {
   "cell_type": "code",
   "execution_count": 44,
   "metadata": {},
   "outputs": [],
   "source": [
    "dw_solar_everyday = df_test.groupby(['jday'])['dw_solar'].mean()\n",
    "ghi_everyday = df_test.groupby(['jday'])['ghi'].mean()\n",
    "j_day = df_test['jday'].unique()"
   ]
  },
  {
   "cell_type": "code",
   "execution_count": 45,
   "metadata": {},
   "outputs": [
    {
     "data": {
      "image/png": "[encoded data removed]",
      "text/plain": [
       "<Figure size 432x288 with 1 Axes>"
      ]
     },
     "metadata": {},
     "output_type": "display_data"
    }
   ],
   "source": [
    "fig = plt.figure()\n",
    "\n",
    "axes1 = fig.add_axes([0.1,0.1,0.8,0.8])\n",
    "#axes2 = fig.add_axes([0.1,0.1,0.8,0.8])\n",
    "\n",
    "axes1.scatter(j_day,dw_solar_everyday,label='Observed dw_solar',color='red')\n",
    "axes1.scatter(j_day, ghi_everyday, label='Clear Sky GHI',color='green')\n",
    "\n",
    "axes1.set_xlabel('Days')\n",
    "axes1.set_ylabel('Solar Irradiance (Watts /m^2)')\n",
    "axes1.set_title('Solar Irradiance - Test Year 2009')\n",
    "axes1.legend(loc='best')\n",
    "\n",
    "fig.savefig('Figure2a.png', bbox_inches = 'tight')"
   ]
  },
  {
   "cell_type": "code",
   "execution_count": 46,
   "metadata": {},
   "outputs": [
    {
     "name": "stderr",
     "output_type": "stream",
     "text": [
      "C:\\Users\\s269596\\AppData\\Local\\Continuum\\Anaconda3\\lib\\site-packages\\matplotlib\\axes\\_axes.py:6462: UserWarning: The 'normed' kwarg is deprecated, and has been replaced by the 'density' kwarg.\n",
      "  warnings.warn(\"The 'normed' kwarg is deprecated, and has been \"\n"
     ]
    },
    {
     "data": {
      "image/png": "[encoded data removed]",
      "text/plain": [
       "<Figure size 432x432 with 3 Axes>"
      ]
     },
     "metadata": {},
     "output_type": "display_data"
    }
   ],
   "source": [
    "sns.jointplot(x=dw_solar_everyday,y=ghi_everyday,kind='reg')\n",
    "#plt.title('observed dw_solar vs clear sky ghi')\n",
    "plt.xlabel('Observed global downwelling solar (Watts/m^2)')\n",
    "plt.ylabel('Clear Sky GHI (Watts/m^2)')\n",
    "plt.savefig('Figure3a.png', bbox_inches='tight')"
   ]
  },
  {
   "cell_type": "markdown",
   "metadata": {},
   "source": [
    "### making the Kt (clear sky index at time t) column by first removing rows with ghi==0"
   ]
  },
  {
   "cell_type": "code",
   "execution_count": 47,
   "metadata": {},
   "outputs": [],
   "source": [
    "df_train = df_train[df_train['ghi']!=0]\n",
    "df_test = df_test[df_test['ghi']!=0]\n",
    "df_train['Kt'] = df_train['dw_solar']/df_train['ghi']\n",
    "df_test['Kt'] = df_test['dw_solar']/df_test['ghi']"
   ]
  },
  {
   "cell_type": "code",
   "execution_count": 48,
   "metadata": {},
   "outputs": [],
   "source": [
    "df_train.reset_index(inplace=True)\n",
    "df_test.reset_index(inplace=True)"
   ]
  },
  {
   "cell_type": "code",
   "execution_count": 49,
   "metadata": {},
   "outputs": [
    {
     "name": "stdout",
     "output_type": "stream",
     "text": [
      "test Kt max: 44687.07900300023\n",
      "test Kt min: -869.1104944675631\n",
      "test Kt mean: 2.7894944379552764\n",
      "\n",
      "\n",
      "train Kt max: 13966.236460411343\n",
      "train Kt min: -1176.7698469370364\n",
      "train Kt mean: 2.447186234312092\n"
     ]
    }
   ],
   "source": [
    "print(\"test Kt max: \"+str(df_test['Kt'].max()))\n",
    "print(\"test Kt min: \"+str(df_test['Kt'].min()))\n",
    "print(\"test Kt mean: \"+str(df_test['Kt'].mean()))\n",
    "print(\"\\n\")\n",
    "print(\"train Kt max: \"+str(df_train['Kt'].max()))\n",
    "print(\"train Kt min: \"+str(df_train['Kt'].min()))\n",
    "print(\"train Kt mean: \"+str(df_train['Kt'].mean()))"
   ]
  },
  {
   "cell_type": "code",
   "execution_count": 50,
   "metadata": {},
   "outputs": [
    {
     "data": {
      "text/plain": [
       "[<matplotlib.lines.Line2D at 0xaad3c88>]"
      ]
     },
     "execution_count": 50,
     "metadata": {},
     "output_type": "execute_result"
    },
    {
     "data": {
      "image/png": "[encoded data removed]",
      "text/plain": [
       "<Figure size 432x288 with 1 Axes>"
      ]
     },
     "metadata": {},
     "output_type": "display_data"
    }
   ],
   "source": [
    "plt.plot(df_train['Kt'])"
   ]
  },
  {
   "cell_type": "code",
   "execution_count": 51,
   "metadata": {},
   "outputs": [
    {
     "data": {
      "text/plain": [
       "[<matplotlib.lines.Line2D at 0xaadec50>]"
      ]
     },
     "execution_count": 51,
     "metadata": {},
     "output_type": "execute_result"
    },
    {
     "data": {
      "image/png": "[encoded data removed]",
      "text/plain": [
       "<Figure size 432x288 with 1 Axes>"
      ]
     },
     "metadata": {},
     "output_type": "display_data"
    }
   ],
   "source": [
    "plt.plot(df_test['Kt'])"
   ]
  },
  {
   "cell_type": "code",
   "execution_count": 52,
   "metadata": {},
   "outputs": [],
   "source": [
    "df_train= df_train[df_train['Kt']< 5000]\n",
    "df_train= df_train[df_train['Kt']> -1000]\n",
    "df_test= df_test[df_test['Kt']< 5000]\n",
    "df_test= df_test[df_test['Kt']> -1000]"
   ]
  },
  {
   "cell_type": "markdown",
   "metadata": {},
   "source": [
    "#### Group the data (train dataframe)"
   ]
  },
  {
   "cell_type": "code",
   "execution_count": 53,
   "metadata": {},
   "outputs": [],
   "source": [
    "zen = df_train.groupby(['year','month','day','hour'])['zen'].mean()\n",
    "dw_solar = df_train.groupby(['year','month','day','hour'])['dw_solar'].mean()\n",
    "uw_solar = df_train.groupby(['year','month','day','hour'])['uw_solar'].mean()\n",
    "direct_n = df_train.groupby(['year','month','day','hour'])['direct_n'].mean()\n",
    "diffuse = df_train.groupby(['year','month','day','hour'])['diffuse'].mean()\n",
    "dw_ir = df_train.groupby(['year','month','day','hour'])['dw_ir'].mean()\n",
    "dw_casetemp = df_train.groupby(['year','month','day','hour'])['dw_casetemp'].mean()\n",
    "dw_dometemp = df_train.groupby(['year','month','day','hour'])['dw_dometemp'].mean()\n",
    "uw_ir = df_train.groupby(['year','month','day','hour'])['uw_ir'].mean()\n",
    "uw_casetemp = df_train.groupby(['year','month','day','hour'])['uw_casetemp'].mean()\n",
    "uw_dometemp = df_train.groupby(['year','month','day','hour'])['uw_dometemp'].mean()\n",
    "uvb = df_train.groupby(['year','month','day','hour'])['uvb'].mean()\n",
    "par = df_train.groupby(['year','month','day','hour'])['par'].mean()\n",
    "netsolar = df_train.groupby(['year','month','day','hour'])['netsolar'].mean()\n",
    "netir = df_train.groupby(['year','month','day','hour'])['netir'].mean()\n",
    "totalnet = df_train.groupby(['year','month','day','hour'])['totalnet'].mean()\n",
    "temp = df_train.groupby(['year','month','day','hour'])['temp'].mean()\n",
    "rh = df_train.groupby(['year','month','day','hour'])['rh'].mean()\n",
    "windspd = df_train.groupby(['year','month','day','hour'])['windspd'].mean()\n",
    "winddir = df_train.groupby(['year','month','day','hour'])['winddir'].mean()\n",
    "pressure = df_train.groupby(['year','month','day','hour'])['pressure'].mean()\n",
    "ghi = df_train.groupby(['year','month','day','hour'])['ghi'].mean()\n",
    "Kt = df_train.groupby(['year','month','day','hour'])['Kt'].mean()"
   ]
  },
  {
   "cell_type": "code",
   "execution_count": 54,
   "metadata": {},
   "outputs": [],
   "source": [
    "df_new_train = pd.concat([zen,dw_solar,uw_solar,direct_n,diffuse,dw_ir,dw_casetemp,dw_dometemp,uw_ir,uw_casetemp,uw_dometemp,\n",
    "                    uvb,par,netsolar,netir,totalnet,temp,rh,windspd,winddir,pressure,ghi,Kt], axis=1)"
   ]
  },
  {
   "cell_type": "code",
   "execution_count": 55,
   "metadata": {},
   "outputs": [
    {
     "data": {
      "text/html": [
       "<div>\n",
       "<style scoped>\n",
       "    .dataframe tbody tr th:only-of-type {\n",
       "        vertical-align: middle;\n",
       "    }\n",
       "\n",
       "    .dataframe tbody tr th {\n",
       "        vertical-align: top;\n",
       "    }\n",
       "\n",
       "    .dataframe thead th {\n",
       "        text-align: right;\n",
       "    }\n",
       "</style>\n",
       "<table border=\"1\" class=\"dataframe\">\n",
       "  <thead>\n",
       "    <tr style=\"text-align: right;\">\n",
       "      <th></th>\n",
       "      <th></th>\n",
       "      <th></th>\n",
       "      <th></th>\n",
       "      <th>zen</th>\n",
       "      <th>dw_solar</th>\n",
       "      <th>uw_solar</th>\n",
       "      <th>direct_n</th>\n",
       "      <th>diffuse</th>\n",
       "      <th>dw_ir</th>\n",
       "      <th>dw_casetemp</th>\n",
       "      <th>dw_dometemp</th>\n",
       "      <th>uw_ir</th>\n",
       "      <th>uw_casetemp</th>\n",
       "      <th>...</th>\n",
       "      <th>netsolar</th>\n",
       "      <th>netir</th>\n",
       "      <th>totalnet</th>\n",
       "      <th>temp</th>\n",
       "      <th>rh</th>\n",
       "      <th>windspd</th>\n",
       "      <th>winddir</th>\n",
       "      <th>pressure</th>\n",
       "      <th>ghi</th>\n",
       "      <th>Kt</th>\n",
       "    </tr>\n",
       "    <tr>\n",
       "      <th>year</th>\n",
       "      <th>month</th>\n",
       "      <th>day</th>\n",
       "      <th>hour</th>\n",
       "      <th></th>\n",
       "      <th></th>\n",
       "      <th></th>\n",
       "      <th></th>\n",
       "      <th></th>\n",
       "      <th></th>\n",
       "      <th></th>\n",
       "      <th></th>\n",
       "      <th></th>\n",
       "      <th></th>\n",
       "      <th></th>\n",
       "      <th></th>\n",
       "      <th></th>\n",
       "      <th></th>\n",
       "      <th></th>\n",
       "      <th></th>\n",
       "      <th></th>\n",
       "      <th></th>\n",
       "      <th></th>\n",
       "      <th></th>\n",
       "      <th></th>\n",
       "    </tr>\n",
       "  </thead>\n",
       "  <tbody>\n",
       "    <tr>\n",
       "      <th rowspan=\"5\" valign=\"top\">2010.0</th>\n",
       "      <th rowspan=\"5\" valign=\"top\">1.0</th>\n",
       "      <th rowspan=\"5\" valign=\"top\">1.0</th>\n",
       "      <th>7.0</th>\n",
       "      <td>152.659762</td>\n",
       "      <td>-4.019048</td>\n",
       "      <td>0.026190</td>\n",
       "      <td>1.554762</td>\n",
       "      <td>-0.202381</td>\n",
       "      <td>182.345238</td>\n",
       "      <td>261.159524</td>\n",
       "      <td>260.650000</td>\n",
       "      <td>253.014286</td>\n",
       "      <td>259.557143</td>\n",
       "      <td>...</td>\n",
       "      <td>0.0</td>\n",
       "      <td>-70.657143</td>\n",
       "      <td>-70.657143</td>\n",
       "      <td>-13.607143</td>\n",
       "      <td>83.883333</td>\n",
       "      <td>5.145238</td>\n",
       "      <td>293.504762</td>\n",
       "      <td>999.397619</td>\n",
       "      <td>61.060726</td>\n",
       "      <td>-0.069829</td>\n",
       "    </tr>\n",
       "    <tr>\n",
       "      <th>8.0</th>\n",
       "      <td>143.730167</td>\n",
       "      <td>-3.900000</td>\n",
       "      <td>0.030000</td>\n",
       "      <td>1.731667</td>\n",
       "      <td>-0.200000</td>\n",
       "      <td>181.795000</td>\n",
       "      <td>260.780000</td>\n",
       "      <td>260.283333</td>\n",
       "      <td>251.493333</td>\n",
       "      <td>259.196667</td>\n",
       "      <td>...</td>\n",
       "      <td>0.0</td>\n",
       "      <td>-69.693333</td>\n",
       "      <td>-69.693333</td>\n",
       "      <td>-13.956667</td>\n",
       "      <td>84.893333</td>\n",
       "      <td>4.805000</td>\n",
       "      <td>296.086667</td>\n",
       "      <td>999.803333</td>\n",
       "      <td>166.338212</td>\n",
       "      <td>-0.025197</td>\n",
       "    </tr>\n",
       "    <tr>\n",
       "      <th>9.0</th>\n",
       "      <td>132.476167</td>\n",
       "      <td>-3.825000</td>\n",
       "      <td>0.011667</td>\n",
       "      <td>1.841667</td>\n",
       "      <td>-0.200000</td>\n",
       "      <td>181.033333</td>\n",
       "      <td>260.256667</td>\n",
       "      <td>259.761667</td>\n",
       "      <td>249.923333</td>\n",
       "      <td>258.665000</td>\n",
       "      <td>...</td>\n",
       "      <td>0.0</td>\n",
       "      <td>-68.890000</td>\n",
       "      <td>-68.890000</td>\n",
       "      <td>-14.476667</td>\n",
       "      <td>85.781667</td>\n",
       "      <td>4.898333</td>\n",
       "      <td>295.981667</td>\n",
       "      <td>999.783333</td>\n",
       "      <td>306.455432</td>\n",
       "      <td>-0.012680</td>\n",
       "    </tr>\n",
       "    <tr>\n",
       "      <th>10.0</th>\n",
       "      <td>121.024000</td>\n",
       "      <td>-3.793333</td>\n",
       "      <td>-0.003333</td>\n",
       "      <td>1.783333</td>\n",
       "      <td>-0.210000</td>\n",
       "      <td>183.566667</td>\n",
       "      <td>259.941667</td>\n",
       "      <td>259.446667</td>\n",
       "      <td>249.775000</td>\n",
       "      <td>258.315000</td>\n",
       "      <td>...</td>\n",
       "      <td>0.0</td>\n",
       "      <td>-66.203333</td>\n",
       "      <td>-66.203333</td>\n",
       "      <td>-14.826667</td>\n",
       "      <td>85.966667</td>\n",
       "      <td>5.083333</td>\n",
       "      <td>298.381667</td>\n",
       "      <td>999.968333</td>\n",
       "      <td>411.028556</td>\n",
       "      <td>-0.009267</td>\n",
       "    </tr>\n",
       "    <tr>\n",
       "      <th>11.0</th>\n",
       "      <td>109.724667</td>\n",
       "      <td>-3.703333</td>\n",
       "      <td>0.006667</td>\n",
       "      <td>1.758333</td>\n",
       "      <td>-0.210000</td>\n",
       "      <td>191.770000</td>\n",
       "      <td>259.800000</td>\n",
       "      <td>259.353333</td>\n",
       "      <td>250.373333</td>\n",
       "      <td>258.070000</td>\n",
       "      <td>...</td>\n",
       "      <td>0.0</td>\n",
       "      <td>-58.600000</td>\n",
       "      <td>-58.600000</td>\n",
       "      <td>-15.123333</td>\n",
       "      <td>86.431667</td>\n",
       "      <td>4.973333</td>\n",
       "      <td>299.090000</td>\n",
       "      <td>1000.193333</td>\n",
       "      <td>465.002071</td>\n",
       "      <td>-0.007967</td>\n",
       "    </tr>\n",
       "  </tbody>\n",
       "</table>\n",
       "<p>5 rows × 23 columns</p>\n",
       "</div>"
      ],
      "text/plain": [
       "                              zen  dw_solar  uw_solar  direct_n   diffuse  \\\n",
       "year   month day hour                                                       \n",
       "2010.0 1.0   1.0 7.0   152.659762 -4.019048  0.026190  1.554762 -0.202381   \n",
       "                 8.0   143.730167 -3.900000  0.030000  1.731667 -0.200000   \n",
       "                 9.0   132.476167 -3.825000  0.011667  1.841667 -0.200000   \n",
       "                 10.0  121.024000 -3.793333 -0.003333  1.783333 -0.210000   \n",
       "                 11.0  109.724667 -3.703333  0.006667  1.758333 -0.210000   \n",
       "\n",
       "                            dw_ir  dw_casetemp  dw_dometemp       uw_ir  \\\n",
       "year   month day hour                                                     \n",
       "2010.0 1.0   1.0 7.0   182.345238   261.159524   260.650000  253.014286   \n",
       "                 8.0   181.795000   260.780000   260.283333  251.493333   \n",
       "                 9.0   181.033333   260.256667   259.761667  249.923333   \n",
       "                 10.0  183.566667   259.941667   259.446667  249.775000   \n",
       "                 11.0  191.770000   259.800000   259.353333  250.373333   \n",
       "\n",
       "                       uw_casetemp    ...     netsolar      netir   totalnet  \\\n",
       "year   month day hour                 ...                                      \n",
       "2010.0 1.0   1.0 7.0    259.557143    ...          0.0 -70.657143 -70.657143   \n",
       "                 8.0    259.196667    ...          0.0 -69.693333 -69.693333   \n",
       "                 9.0    258.665000    ...          0.0 -68.890000 -68.890000   \n",
       "                 10.0   258.315000    ...          0.0 -66.203333 -66.203333   \n",
       "                 11.0   258.070000    ...          0.0 -58.600000 -58.600000   \n",
       "\n",
       "                            temp         rh   windspd     winddir  \\\n",
       "year   month day hour                                               \n",
       "2010.0 1.0   1.0 7.0  -13.607143  83.883333  5.145238  293.504762   \n",
       "                 8.0  -13.956667  84.893333  4.805000  296.086667   \n",
       "                 9.0  -14.476667  85.781667  4.898333  295.981667   \n",
       "                 10.0 -14.826667  85.966667  5.083333  298.381667   \n",
       "                 11.0 -15.123333  86.431667  4.973333  299.090000   \n",
       "\n",
       "                          pressure         ghi        Kt  \n",
       "year   month day hour                                     \n",
       "2010.0 1.0   1.0 7.0    999.397619   61.060726 -0.069829  \n",
       "                 8.0    999.803333  166.338212 -0.025197  \n",
       "                 9.0    999.783333  306.455432 -0.012680  \n",
       "                 10.0   999.968333  411.028556 -0.009267  \n",
       "                 11.0  1000.193333  465.002071 -0.007967  \n",
       "\n",
       "[5 rows x 23 columns]"
      ]
     },
     "execution_count": 55,
     "metadata": {},
     "output_type": "execute_result"
    }
   ],
   "source": [
    "df_new_train.head()"
   ]
  },
  {
   "cell_type": "markdown",
   "metadata": {},
   "source": [
    "#### Groupdata - test dataframe"
   ]
  },
  {
   "cell_type": "code",
   "execution_count": 56,
   "metadata": {},
   "outputs": [],
   "source": [
    "test_zen = df_test.groupby(['month','day','hour'])['zen'].mean()\n",
    "test_dw_solar = df_test.groupby(['month','day','hour'])['dw_solar'].mean()\n",
    "test_uw_solar = df_test.groupby(['month','day','hour'])['uw_solar'].mean()\n",
    "test_direct_n = df_test.groupby(['month','day','hour'])['direct_n'].mean()\n",
    "test_diffuse = df_test.groupby(['month','day','hour'])['diffuse'].mean()\n",
    "test_dw_ir = df_test.groupby(['month','day','hour'])['dw_ir'].mean()\n",
    "test_dw_casetemp = df_test.groupby(['month','day','hour'])['dw_casetemp'].mean()\n",
    "test_dw_dometemp = df_test.groupby(['month','day','hour'])['dw_dometemp'].mean()\n",
    "test_uw_ir = df_test.groupby(['month','day','hour'])['uw_ir'].mean()\n",
    "test_uw_casetemp = df_test.groupby(['month','day','hour'])['uw_casetemp'].mean()\n",
    "test_uw_dometemp = df_test.groupby(['month','day','hour'])['uw_dometemp'].mean()\n",
    "test_uvb = df_test.groupby(['month','day','hour'])['uvb'].mean()\n",
    "test_par = df_test.groupby(['month','day','hour'])['par'].mean()\n",
    "test_netsolar = df_test.groupby(['month','day','hour'])['netsolar'].mean()\n",
    "test_netir = df_test.groupby(['month','day','hour'])['netir'].mean()\n",
    "test_totalnet = df_test.groupby(['month','day','hour'])['totalnet'].mean()\n",
    "test_temp = df_test.groupby(['month','day','hour'])['temp'].mean()\n",
    "test_rh = df_test.groupby(['month','day','hour'])['rh'].mean()\n",
    "test_windspd = df_test.groupby(['month','day','hour'])['windspd'].mean()\n",
    "test_winddir = df_test.groupby(['month','day','hour'])['winddir'].mean()\n",
    "test_pressure = df_test.groupby(['month','day','hour'])['pressure'].mean()\n",
    "test_ghi = df_test.groupby(['month','day','hour'])['ghi'].mean()\n",
    "test_Kt = df_test.groupby(['month','day','hour'])['Kt'].mean()"
   ]
  },
  {
   "cell_type": "code",
   "execution_count": 57,
   "metadata": {},
   "outputs": [],
   "source": [
    "df_new_test = pd.concat([test_zen,test_dw_solar,test_uw_solar,test_direct_n,test_diffuse,test_dw_ir,\n",
    "                         test_dw_casetemp,test_dw_dometemp,test_uw_ir,test_uw_casetemp,test_uw_dometemp,\n",
    "                    test_uvb,test_par,test_netsolar,test_netir,test_totalnet,test_temp,test_rh,\n",
    "                         test_windspd,test_winddir,test_pressure,test_ghi,test_Kt], axis=1)"
   ]
  },
  {
   "cell_type": "code",
   "execution_count": 58,
   "metadata": {},
   "outputs": [
    {
     "data": {
      "text/html": [
       "<div>\n",
       "<style scoped>\n",
       "    .dataframe tbody tr th:only-of-type {\n",
       "        vertical-align: middle;\n",
       "    }\n",
       "\n",
       "    .dataframe tbody tr th {\n",
       "        vertical-align: top;\n",
       "    }\n",
       "\n",
       "    .dataframe thead th {\n",
       "        text-align: right;\n",
       "    }\n",
       "</style>\n",
       "<table border=\"1\" class=\"dataframe\">\n",
       "  <thead>\n",
       "    <tr style=\"text-align: right;\">\n",
       "      <th></th>\n",
       "      <th>zen</th>\n",
       "      <th>dw_solar</th>\n",
       "      <th>uw_solar</th>\n",
       "      <th>direct_n</th>\n",
       "      <th>diffuse</th>\n",
       "      <th>dw_ir</th>\n",
       "      <th>dw_casetemp</th>\n",
       "      <th>dw_dometemp</th>\n",
       "      <th>uw_ir</th>\n",
       "      <th>uw_casetemp</th>\n",
       "      <th>...</th>\n",
       "      <th>netsolar</th>\n",
       "      <th>netir</th>\n",
       "      <th>totalnet</th>\n",
       "      <th>temp</th>\n",
       "      <th>rh</th>\n",
       "      <th>windspd</th>\n",
       "      <th>winddir</th>\n",
       "      <th>pressure</th>\n",
       "      <th>ghi</th>\n",
       "      <th>Kt</th>\n",
       "    </tr>\n",
       "    <tr>\n",
       "      <th>hour</th>\n",
       "      <th></th>\n",
       "      <th></th>\n",
       "      <th></th>\n",
       "      <th></th>\n",
       "      <th></th>\n",
       "      <th></th>\n",
       "      <th></th>\n",
       "      <th></th>\n",
       "      <th></th>\n",
       "      <th></th>\n",
       "      <th></th>\n",
       "      <th></th>\n",
       "      <th></th>\n",
       "      <th></th>\n",
       "      <th></th>\n",
       "      <th></th>\n",
       "      <th></th>\n",
       "      <th></th>\n",
       "      <th></th>\n",
       "      <th></th>\n",
       "      <th></th>\n",
       "    </tr>\n",
       "  </thead>\n",
       "  <tbody>\n",
       "    <tr>\n",
       "      <th>6.0</th>\n",
       "      <td>150.182143</td>\n",
       "      <td>-4.521429</td>\n",
       "      <td>-0.471429</td>\n",
       "      <td>1.007143</td>\n",
       "      <td>0.421429</td>\n",
       "      <td>216.700000</td>\n",
       "      <td>272.085714</td>\n",
       "      <td>271.642857</td>\n",
       "      <td>286.392857</td>\n",
       "      <td>270.300000</td>\n",
       "      <td>...</td>\n",
       "      <td>0.000000</td>\n",
       "      <td>-69.692857</td>\n",
       "      <td>-69.692857</td>\n",
       "      <td>-2.271429</td>\n",
       "      <td>89.750000</td>\n",
       "      <td>2.871429</td>\n",
       "      <td>174.300000</td>\n",
       "      <td>998.471429</td>\n",
       "      <td>37.874247</td>\n",
       "      <td>-0.120932</td>\n",
       "    </tr>\n",
       "    <tr>\n",
       "      <th>7.0</th>\n",
       "      <td>146.446833</td>\n",
       "      <td>-4.301667</td>\n",
       "      <td>-0.345000</td>\n",
       "      <td>0.326667</td>\n",
       "      <td>0.518333</td>\n",
       "      <td>216.170000</td>\n",
       "      <td>271.606667</td>\n",
       "      <td>271.146667</td>\n",
       "      <td>284.053333</td>\n",
       "      <td>269.938333</td>\n",
       "      <td>...</td>\n",
       "      <td>0.000000</td>\n",
       "      <td>-67.881667</td>\n",
       "      <td>-67.881667</td>\n",
       "      <td>-2.773333</td>\n",
       "      <td>92.965000</td>\n",
       "      <td>3.066667</td>\n",
       "      <td>146.796667</td>\n",
       "      <td>997.966667</td>\n",
       "      <td>108.318844</td>\n",
       "      <td>-0.050473</td>\n",
       "    </tr>\n",
       "    <tr>\n",
       "      <th>8.0</th>\n",
       "      <td>137.938333</td>\n",
       "      <td>-4.831667</td>\n",
       "      <td>-0.351667</td>\n",
       "      <td>1.045000</td>\n",
       "      <td>0.490000</td>\n",
       "      <td>216.516667</td>\n",
       "      <td>271.153333</td>\n",
       "      <td>270.733333</td>\n",
       "      <td>288.993333</td>\n",
       "      <td>269.398333</td>\n",
       "      <td>...</td>\n",
       "      <td>0.000000</td>\n",
       "      <td>-72.466667</td>\n",
       "      <td>-72.466667</td>\n",
       "      <td>-3.256667</td>\n",
       "      <td>94.690000</td>\n",
       "      <td>3.873333</td>\n",
       "      <td>152.585000</td>\n",
       "      <td>996.900000</td>\n",
       "      <td>284.228645</td>\n",
       "      <td>-0.017408</td>\n",
       "    </tr>\n",
       "    <tr>\n",
       "      <th>9.0</th>\n",
       "      <td>127.563000</td>\n",
       "      <td>-5.281667</td>\n",
       "      <td>-0.308333</td>\n",
       "      <td>0.951667</td>\n",
       "      <td>0.436667</td>\n",
       "      <td>223.628333</td>\n",
       "      <td>271.841667</td>\n",
       "      <td>271.390000</td>\n",
       "      <td>294.260000</td>\n",
       "      <td>269.860000</td>\n",
       "      <td>...</td>\n",
       "      <td>0.000000</td>\n",
       "      <td>-70.631667</td>\n",
       "      <td>-70.631667</td>\n",
       "      <td>-2.865000</td>\n",
       "      <td>91.560000</td>\n",
       "      <td>4.900000</td>\n",
       "      <td>164.426667</td>\n",
       "      <td>995.828333</td>\n",
       "      <td>448.178675</td>\n",
       "      <td>-0.011885</td>\n",
       "    </tr>\n",
       "    <tr>\n",
       "      <th>10.0</th>\n",
       "      <td>116.367333</td>\n",
       "      <td>-5.035000</td>\n",
       "      <td>-0.243333</td>\n",
       "      <td>0.833333</td>\n",
       "      <td>0.373333</td>\n",
       "      <td>236.190000</td>\n",
       "      <td>272.423333</td>\n",
       "      <td>271.983333</td>\n",
       "      <td>296.791667</td>\n",
       "      <td>270.326667</td>\n",
       "      <td>...</td>\n",
       "      <td>0.000000</td>\n",
       "      <td>-60.611667</td>\n",
       "      <td>-60.611667</td>\n",
       "      <td>-2.485000</td>\n",
       "      <td>89.688333</td>\n",
       "      <td>4.981667</td>\n",
       "      <td>173.578333</td>\n",
       "      <td>995.345000</td>\n",
       "      <td>570.306262</td>\n",
       "      <td>-0.008854</td>\n",
       "    </tr>\n",
       "    <tr>\n",
       "      <th>11.0</th>\n",
       "      <td>104.909333</td>\n",
       "      <td>-5.066667</td>\n",
       "      <td>-0.135000</td>\n",
       "      <td>0.480000</td>\n",
       "      <td>0.401667</td>\n",
       "      <td>233.243333</td>\n",
       "      <td>272.581667</td>\n",
       "      <td>272.093333</td>\n",
       "      <td>297.226667</td>\n",
       "      <td>270.480000</td>\n",
       "      <td>...</td>\n",
       "      <td>0.000000</td>\n",
       "      <td>-63.985000</td>\n",
       "      <td>-63.985000</td>\n",
       "      <td>-2.386667</td>\n",
       "      <td>92.431667</td>\n",
       "      <td>5.595000</td>\n",
       "      <td>167.585000</td>\n",
       "      <td>994.613333</td>\n",
       "      <td>638.422279</td>\n",
       "      <td>-0.007937</td>\n",
       "    </tr>\n",
       "    <tr>\n",
       "      <th>12.0</th>\n",
       "      <td>93.430833</td>\n",
       "      <td>-2.668333</td>\n",
       "      <td>0.580000</td>\n",
       "      <td>1.250000</td>\n",
       "      <td>3.091667</td>\n",
       "      <td>238.826667</td>\n",
       "      <td>272.686667</td>\n",
       "      <td>272.196667</td>\n",
       "      <td>298.433333</td>\n",
       "      <td>270.543333</td>\n",
       "      <td>...</td>\n",
       "      <td>2.351667</td>\n",
       "      <td>-59.603333</td>\n",
       "      <td>-57.251667</td>\n",
       "      <td>-2.320000</td>\n",
       "      <td>92.493333</td>\n",
       "      <td>6.421667</td>\n",
       "      <td>167.895000</td>\n",
       "      <td>993.798333</td>\n",
       "      <td>646.734117</td>\n",
       "      <td>-0.004067</td>\n",
       "    </tr>\n",
       "    <tr>\n",
       "      <th>13.0</th>\n",
       "      <td>82.473333</td>\n",
       "      <td>50.488333</td>\n",
       "      <td>14.828333</td>\n",
       "      <td>7.531667</td>\n",
       "      <td>57.045000</td>\n",
       "      <td>245.631667</td>\n",
       "      <td>273.396667</td>\n",
       "      <td>272.983333</td>\n",
       "      <td>302.830000</td>\n",
       "      <td>271.061667</td>\n",
       "      <td>...</td>\n",
       "      <td>43.403333</td>\n",
       "      <td>-57.188333</td>\n",
       "      <td>-13.786667</td>\n",
       "      <td>-1.801667</td>\n",
       "      <td>91.796667</td>\n",
       "      <td>6.791667</td>\n",
       "      <td>167.960000</td>\n",
       "      <td>993.278333</td>\n",
       "      <td>594.568596</td>\n",
       "      <td>0.086837</td>\n",
       "    </tr>\n",
       "    <tr>\n",
       "      <th>14.0</th>\n",
       "      <td>72.405000</td>\n",
       "      <td>136.151667</td>\n",
       "      <td>36.918333</td>\n",
       "      <td>13.550000</td>\n",
       "      <td>140.373333</td>\n",
       "      <td>286.001667</td>\n",
       "      <td>275.108333</td>\n",
       "      <td>274.810000</td>\n",
       "      <td>312.523333</td>\n",
       "      <td>272.315000</td>\n",
       "      <td>...</td>\n",
       "      <td>107.461667</td>\n",
       "      <td>-26.526667</td>\n",
       "      <td>80.938333</td>\n",
       "      <td>-0.561667</td>\n",
       "      <td>101.838333</td>\n",
       "      <td>7.736667</td>\n",
       "      <td>175.430000</td>\n",
       "      <td>992.623333</td>\n",
       "      <td>486.293072</td>\n",
       "      <td>0.287014</td>\n",
       "    </tr>\n",
       "    <tr>\n",
       "      <th>15.0</th>\n",
       "      <td>63.572667</td>\n",
       "      <td>249.433333</td>\n",
       "      <td>63.790000</td>\n",
       "      <td>22.685000</td>\n",
       "      <td>249.351667</td>\n",
       "      <td>287.831667</td>\n",
       "      <td>277.000000</td>\n",
       "      <td>276.723333</td>\n",
       "      <td>322.285000</td>\n",
       "      <td>273.716667</td>\n",
       "      <td>...</td>\n",
       "      <td>195.410000</td>\n",
       "      <td>-34.446667</td>\n",
       "      <td>160.953333</td>\n",
       "      <td>0.821667</td>\n",
       "      <td>109.766667</td>\n",
       "      <td>8.668333</td>\n",
       "      <td>182.706667</td>\n",
       "      <td>991.760000</td>\n",
       "      <td>332.051692</td>\n",
       "      <td>0.774799</td>\n",
       "    </tr>\n",
       "    <tr>\n",
       "      <th>16.0</th>\n",
       "      <td>56.723667</td>\n",
       "      <td>288.480000</td>\n",
       "      <td>73.990000</td>\n",
       "      <td>45.445000</td>\n",
       "      <td>272.428333</td>\n",
       "      <td>299.576667</td>\n",
       "      <td>278.595000</td>\n",
       "      <td>278.275000</td>\n",
       "      <td>331.316667</td>\n",
       "      <td>274.995000</td>\n",
       "      <td>...</td>\n",
       "      <td>222.996667</td>\n",
       "      <td>-31.736667</td>\n",
       "      <td>191.260000</td>\n",
       "      <td>1.906667</td>\n",
       "      <td>107.371667</td>\n",
       "      <td>9.136667</td>\n",
       "      <td>179.690000</td>\n",
       "      <td>990.573333</td>\n",
       "      <td>153.597510</td>\n",
       "      <td>2.067046</td>\n",
       "    </tr>\n",
       "    <tr>\n",
       "      <th>17.0</th>\n",
       "      <td>53.264194</td>\n",
       "      <td>314.187097</td>\n",
       "      <td>79.038710</td>\n",
       "      <td>4.867742</td>\n",
       "      <td>319.570968</td>\n",
       "      <td>309.864516</td>\n",
       "      <td>279.222581</td>\n",
       "      <td>278.980645</td>\n",
       "      <td>336.116129</td>\n",
       "      <td>275.416129</td>\n",
       "      <td>...</td>\n",
       "      <td>243.445161</td>\n",
       "      <td>-26.254839</td>\n",
       "      <td>217.200000</td>\n",
       "      <td>2.474194</td>\n",
       "      <td>111.645161</td>\n",
       "      <td>9.616129</td>\n",
       "      <td>176.358065</td>\n",
       "      <td>989.632258</td>\n",
       "      <td>45.373147</td>\n",
       "      <td>7.893298</td>\n",
       "    </tr>\n",
       "  </tbody>\n",
       "</table>\n",
       "<p>12 rows × 23 columns</p>\n",
       "</div>"
      ],
      "text/plain": [
       "             zen    dw_solar   uw_solar   direct_n     diffuse       dw_ir  \\\n",
       "hour                                                                         \n",
       "6.0   150.182143   -4.521429  -0.471429   1.007143    0.421429  216.700000   \n",
       "7.0   146.446833   -4.301667  -0.345000   0.326667    0.518333  216.170000   \n",
       "8.0   137.938333   -4.831667  -0.351667   1.045000    0.490000  216.516667   \n",
       "9.0   127.563000   -5.281667  -0.308333   0.951667    0.436667  223.628333   \n",
       "10.0  116.367333   -5.035000  -0.243333   0.833333    0.373333  236.190000   \n",
       "11.0  104.909333   -5.066667  -0.135000   0.480000    0.401667  233.243333   \n",
       "12.0   93.430833   -2.668333   0.580000   1.250000    3.091667  238.826667   \n",
       "13.0   82.473333   50.488333  14.828333   7.531667   57.045000  245.631667   \n",
       "14.0   72.405000  136.151667  36.918333  13.550000  140.373333  286.001667   \n",
       "15.0   63.572667  249.433333  63.790000  22.685000  249.351667  287.831667   \n",
       "16.0   56.723667  288.480000  73.990000  45.445000  272.428333  299.576667   \n",
       "17.0   53.264194  314.187097  79.038710   4.867742  319.570968  309.864516   \n",
       "\n",
       "      dw_casetemp  dw_dometemp       uw_ir  uw_casetemp    ...       netsolar  \\\n",
       "hour                                                       ...                  \n",
       "6.0    272.085714   271.642857  286.392857   270.300000    ...       0.000000   \n",
       "7.0    271.606667   271.146667  284.053333   269.938333    ...       0.000000   \n",
       "8.0    271.153333   270.733333  288.993333   269.398333    ...       0.000000   \n",
       "9.0    271.841667   271.390000  294.260000   269.860000    ...       0.000000   \n",
       "10.0   272.423333   271.983333  296.791667   270.326667    ...       0.000000   \n",
       "11.0   272.581667   272.093333  297.226667   270.480000    ...       0.000000   \n",
       "12.0   272.686667   272.196667  298.433333   270.543333    ...       2.351667   \n",
       "13.0   273.396667   272.983333  302.830000   271.061667    ...      43.403333   \n",
       "14.0   275.108333   274.810000  312.523333   272.315000    ...     107.461667   \n",
       "15.0   277.000000   276.723333  322.285000   273.716667    ...     195.410000   \n",
       "16.0   278.595000   278.275000  331.316667   274.995000    ...     222.996667   \n",
       "17.0   279.222581   278.980645  336.116129   275.416129    ...     243.445161   \n",
       "\n",
       "          netir    totalnet      temp          rh   windspd     winddir  \\\n",
       "hour                                                                      \n",
       "6.0  -69.692857  -69.692857 -2.271429   89.750000  2.871429  174.300000   \n",
       "7.0  -67.881667  -67.881667 -2.773333   92.965000  3.066667  146.796667   \n",
       "8.0  -72.466667  -72.466667 -3.256667   94.690000  3.873333  152.585000   \n",
       "9.0  -70.631667  -70.631667 -2.865000   91.560000  4.900000  164.426667   \n",
       "10.0 -60.611667  -60.611667 -2.485000   89.688333  4.981667  173.578333   \n",
       "11.0 -63.985000  -63.985000 -2.386667   92.431667  5.595000  167.585000   \n",
       "12.0 -59.603333  -57.251667 -2.320000   92.493333  6.421667  167.895000   \n",
       "13.0 -57.188333  -13.786667 -1.801667   91.796667  6.791667  167.960000   \n",
       "14.0 -26.526667   80.938333 -0.561667  101.838333  7.736667  175.430000   \n",
       "15.0 -34.446667  160.953333  0.821667  109.766667  8.668333  182.706667   \n",
       "16.0 -31.736667  191.260000  1.906667  107.371667  9.136667  179.690000   \n",
       "17.0 -26.254839  217.200000  2.474194  111.645161  9.616129  176.358065   \n",
       "\n",
       "        pressure         ghi        Kt  \n",
       "hour                                    \n",
       "6.0   998.471429   37.874247 -0.120932  \n",
       "7.0   997.966667  108.318844 -0.050473  \n",
       "8.0   996.900000  284.228645 -0.017408  \n",
       "9.0   995.828333  448.178675 -0.011885  \n",
       "10.0  995.345000  570.306262 -0.008854  \n",
       "11.0  994.613333  638.422279 -0.007937  \n",
       "12.0  993.798333  646.734117 -0.004067  \n",
       "13.0  993.278333  594.568596  0.086837  \n",
       "14.0  992.623333  486.293072  0.287014  \n",
       "15.0  991.760000  332.051692  0.774799  \n",
       "16.0  990.573333  153.597510  2.067046  \n",
       "17.0  989.632258   45.373147  7.893298  \n",
       "\n",
       "[12 rows x 23 columns]"
      ]
     },
     "execution_count": 58,
     "metadata": {},
     "output_type": "execute_result"
    }
   ],
   "source": [
    "df_new_test.loc[2].xs(17,level='day')"
   ]
  },
  {
   "cell_type": "markdown",
   "metadata": {},
   "source": [
    "### Shifting Kt values to make 1 hour ahead forecast"
   ]
  },
  {
   "cell_type": "markdown",
   "metadata": {},
   "source": [
    "#### Train dataset"
   ]
  },
  {
   "cell_type": "code",
   "execution_count": 59,
   "metadata": {},
   "outputs": [],
   "source": [
    "levels_index= []\n",
    "for m in df_new_train.index.levels:\n",
    "    levels_index.append(m)"
   ]
  },
  {
   "cell_type": "code",
   "execution_count": 60,
   "metadata": {
    "scrolled": true
   },
   "outputs": [],
   "source": [
    "for i in levels_index[0]:\n",
    "    for j in levels_index[1]:\n",
    "        df_new_train.loc[i].loc[j]['Kt'] = df_new_train.loc[i].loc[j]['Kt'].shift(-2)"
   ]
  },
  {
   "cell_type": "code",
   "execution_count": 61,
   "metadata": {},
   "outputs": [],
   "source": [
    "df_new_train = df_new_train[~(df_new_train['Kt'].isnull())]"
   ]
  },
  {
   "cell_type": "markdown",
   "metadata": {},
   "source": [
    "#### Test dataset"
   ]
  },
  {
   "cell_type": "code",
   "execution_count": 62,
   "metadata": {},
   "outputs": [],
   "source": [
    "levels_index2= []\n",
    "for m in df_new_test.index.levels:\n",
    "    levels_index2.append(m)"
   ]
  },
  {
   "cell_type": "code",
   "execution_count": 63,
   "metadata": {},
   "outputs": [],
   "source": [
    "for i in levels_index2[0]:\n",
    "    for j in levels_index2[1]:\n",
    "        df_new_test.loc[i].loc[j]['Kt'] = df_new_test.loc[i].loc[j]['Kt'].shift(-2)"
   ]
  },
  {
   "cell_type": "code",
   "execution_count": 64,
   "metadata": {},
   "outputs": [],
   "source": [
    "df_new_test = df_new_test[~(df_new_test['Kt'].isnull())]"
   ]
  },
  {
   "cell_type": "code",
   "execution_count": 65,
   "metadata": {},
   "outputs": [
    {
     "data": {
      "text/html": [
       "<div>\n",
       "<style scoped>\n",
       "    .dataframe tbody tr th:only-of-type {\n",
       "        vertical-align: middle;\n",
       "    }\n",
       "\n",
       "    .dataframe tbody tr th {\n",
       "        vertical-align: top;\n",
       "    }\n",
       "\n",
       "    .dataframe thead th {\n",
       "        text-align: right;\n",
       "    }\n",
       "</style>\n",
       "<table border=\"1\" class=\"dataframe\">\n",
       "  <thead>\n",
       "    <tr style=\"text-align: right;\">\n",
       "      <th></th>\n",
       "      <th></th>\n",
       "      <th></th>\n",
       "      <th>zen</th>\n",
       "      <th>dw_solar</th>\n",
       "      <th>uw_solar</th>\n",
       "      <th>direct_n</th>\n",
       "      <th>diffuse</th>\n",
       "      <th>dw_ir</th>\n",
       "      <th>dw_casetemp</th>\n",
       "      <th>dw_dometemp</th>\n",
       "      <th>uw_ir</th>\n",
       "      <th>uw_casetemp</th>\n",
       "      <th>...</th>\n",
       "      <th>netsolar</th>\n",
       "      <th>netir</th>\n",
       "      <th>totalnet</th>\n",
       "      <th>temp</th>\n",
       "      <th>rh</th>\n",
       "      <th>windspd</th>\n",
       "      <th>winddir</th>\n",
       "      <th>pressure</th>\n",
       "      <th>ghi</th>\n",
       "      <th>Kt</th>\n",
       "    </tr>\n",
       "    <tr>\n",
       "      <th>month</th>\n",
       "      <th>day</th>\n",
       "      <th>hour</th>\n",
       "      <th></th>\n",
       "      <th></th>\n",
       "      <th></th>\n",
       "      <th></th>\n",
       "      <th></th>\n",
       "      <th></th>\n",
       "      <th></th>\n",
       "      <th></th>\n",
       "      <th></th>\n",
       "      <th></th>\n",
       "      <th></th>\n",
       "      <th></th>\n",
       "      <th></th>\n",
       "      <th></th>\n",
       "      <th></th>\n",
       "      <th></th>\n",
       "      <th></th>\n",
       "      <th></th>\n",
       "      <th></th>\n",
       "      <th></th>\n",
       "      <th></th>\n",
       "    </tr>\n",
       "  </thead>\n",
       "  <tbody>\n",
       "    <tr>\n",
       "      <th>8.0</th>\n",
       "      <th>5.0</th>\n",
       "      <th>18.0</th>\n",
       "      <td>24.3985</td>\n",
       "      <td>903.236667</td>\n",
       "      <td>170.488333</td>\n",
       "      <td>609.081667</td>\n",
       "      <td>346.083333</td>\n",
       "      <td>382.34</td>\n",
       "      <td>304.0</td>\n",
       "      <td>303.905</td>\n",
       "      <td>482.805</td>\n",
       "      <td>300.676667</td>\n",
       "      <td>...</td>\n",
       "      <td>729.176667</td>\n",
       "      <td>-100.458333</td>\n",
       "      <td>628.715</td>\n",
       "      <td>25.17</td>\n",
       "      <td>68.681667</td>\n",
       "      <td>2.18</td>\n",
       "      <td>141.071667</td>\n",
       "      <td>992.59</td>\n",
       "      <td>201.959502</td>\n",
       "      <td>1146.230573</td>\n",
       "    </tr>\n",
       "  </tbody>\n",
       "</table>\n",
       "<p>1 rows × 23 columns</p>\n",
       "</div>"
      ],
      "text/plain": [
       "                    zen    dw_solar    uw_solar    direct_n     diffuse  \\\n",
       "month day hour                                                            \n",
       "8.0   5.0 18.0  24.3985  903.236667  170.488333  609.081667  346.083333   \n",
       "\n",
       "                 dw_ir  dw_casetemp  dw_dometemp    uw_ir  uw_casetemp  \\\n",
       "month day hour                                                           \n",
       "8.0   5.0 18.0  382.34        304.0      303.905  482.805   300.676667   \n",
       "\n",
       "                   ...         netsolar       netir  totalnet   temp  \\\n",
       "month day hour     ...                                                 \n",
       "8.0   5.0 18.0     ...       729.176667 -100.458333   628.715  25.17   \n",
       "\n",
       "                       rh  windspd     winddir  pressure         ghi  \\\n",
       "month day hour                                                         \n",
       "8.0   5.0 18.0  68.681667     2.18  141.071667    992.59  201.959502   \n",
       "\n",
       "                         Kt  \n",
       "month day hour               \n",
       "8.0   5.0 18.0  1146.230573  \n",
       "\n",
       "[1 rows x 23 columns]"
      ]
     },
     "execution_count": 65,
     "metadata": {},
     "output_type": "execute_result"
    }
   ],
   "source": [
    "df_new_test[df_new_test['Kt']==df_new_test['Kt'].max()]"
   ]
  },
  {
   "cell_type": "markdown",
   "metadata": {},
   "source": [
    "### Normalize train and test dataframe"
   ]
  },
  {
   "cell_type": "code",
   "execution_count": 66,
   "metadata": {},
   "outputs": [],
   "source": [
    "train_norm = (df_new_train - df_new_train.mean()) / (df_new_train.max() - df_new_train.min())\n",
    "test_norm =  (df_new_test - df_new_test.mean()) / (df_new_test.max() - df_new_test.min())"
   ]
  },
  {
   "cell_type": "code",
   "execution_count": 67,
   "metadata": {},
   "outputs": [],
   "source": [
    "train_norm.reset_index(inplace=True,drop=True)\n",
    "test_norm.reset_index(inplace=True,drop=True)"
   ]
  },
  {
   "cell_type": "markdown",
   "metadata": {
    "collapsed": true
   },
   "source": [
    "### Making train and test sets with train_norm and test_norm"
   ]
  },
  {
   "cell_type": "markdown",
   "metadata": {
    "collapsed": true
   },
   "source": [
    "#### finding the gcf (greatest common factor) of train and test dataset's length and chop off the extra rows to make it divisible with the batchsize"
   ]
  },
  {
   "cell_type": "code",
   "execution_count": 68,
   "metadata": {},
   "outputs": [
    {
     "name": "stderr",
     "output_type": "stream",
     "text": [
      "C:\\Users\\s269596\\AppData\\Local\\Continuum\\Anaconda3\\lib\\site-packages\\ipykernel_launcher.py:2: DeprecationWarning: fractions.gcd() is deprecated. Use math.gcd() instead.\n",
      "  \n"
     ]
    },
    {
     "data": {
      "text/plain": [
       "1"
      ]
     },
     "execution_count": 68,
     "metadata": {},
     "output_type": "execute_result"
    }
   ],
   "source": [
    "from fractions import gcd\n",
    "gcd(train_norm.shape[0],test_norm.shape[0])"
   ]
  },
  {
   "cell_type": "code",
   "execution_count": 69,
   "metadata": {},
   "outputs": [],
   "source": [
    "import math\n",
    "def roundup(x):\n",
    "    return int(math.ceil(x / 100.0)) * 100"
   ]
  },
  {
   "cell_type": "code",
   "execution_count": 70,
   "metadata": {},
   "outputs": [],
   "source": [
    "train_lim = roundup(train_norm.shape[0])\n",
    "test_lim = roundup(test_norm.shape[0])\n",
    "\n",
    "train_random = train_norm.sample(train_lim-train_norm.shape[0])\n",
    "test_random = test_norm.sample(test_lim-test_norm.shape[0])\n",
    "\n",
    "train_norm = train_norm.append(train_random)\n",
    "test_norm = test_norm.append(test_random)"
   ]
  },
  {
   "cell_type": "code",
   "execution_count": 71,
   "metadata": {},
   "outputs": [],
   "source": [
    "X1 = train_norm.drop('Kt',axis=1)\n",
    "y1 = train_norm['Kt']\n",
    "\n",
    "X2 = test_norm.drop('Kt',axis=1)\n",
    "y2 = test_norm['Kt']"
   ]
  },
  {
   "cell_type": "code",
   "execution_count": 72,
   "metadata": {
    "scrolled": true
   },
   "outputs": [
    {
     "name": "stdout",
     "output_type": "stream",
     "text": [
      "X1_train shape is (9600, 22)\n",
      "y1_train shape is (9600,)\n",
      "X2_test shape is (4100, 22)\n",
      "y2_test shape is (4100,)\n"
     ]
    }
   ],
   "source": [
    "print(\"X1_train shape is {}\".format(X1.shape))\n",
    "print(\"y1_train shape is {}\".format(y1.shape))\n",
    "print(\"X2_test shape is {}\".format(X2.shape))\n",
    "print(\"y2_test shape is {}\".format(y2.shape))"
   ]
  },
  {
   "cell_type": "code",
   "execution_count": 73,
   "metadata": {},
   "outputs": [],
   "source": [
    "X_train = np.array(X1)\n",
    "y_train  = np.array(y1)\n",
    "X_test = np.array(X2)\n",
    "y_test = np.array(y2)"
   ]
  },
  {
   "cell_type": "markdown",
   "metadata": {},
   "source": [
    "### start of RNN"
   ]
  },
  {
   "cell_type": "code",
   "execution_count": 74,
   "metadata": {},
   "outputs": [],
   "source": [
    "import torch\n",
    "import torch.nn as nn\n",
    "import torchvision.transforms as transforms\n",
    "import torchvision.datasets as dsets\n",
    "from torch.autograd import Variable"
   ]
  },
  {
   "cell_type": "code",
   "execution_count": 75,
   "metadata": {},
   "outputs": [],
   "source": [
    "class RNNModel(nn.Module):\n",
    "    def __init__(self, input_dim, hidden_dim, layer_dim, output_dim):\n",
    "        super(RNNModel, self).__init__()\n",
    "        #Hidden Dimension\n",
    "        self.hidden_dim = hidden_dim\n",
    "        \n",
    "        # Number of hidden layers\n",
    "        self.layer_dim = layer_dim\n",
    "        \n",
    "        #Building the RNN\n",
    "        self.rnn = nn.RNN(input_dim, hidden_dim, layer_dim, batch_first=True, nonlinearity='relu')\n",
    "        \n",
    "        # Readout layer\n",
    "        self.fc = nn.Linear(hidden_dim, output_dim)\n",
    "        \n",
    "    def forward(self, x):\n",
    "        # Initializing the hidden state with zeros\n",
    "        # (layer_dim, batch_size, hidden_dim)\n",
    "        h0 = Variable(torch.zeros(self.layer_dim, x.size(0), self.hidden_dim))\n",
    "        \n",
    "        #One time step (the last one perhaps?)\n",
    "        out, hn = self.rnn(x, h0)\n",
    "        \n",
    "        # Indexing hidden state of the last time step\n",
    "        # out.size() --> ??\n",
    "        #out[:,-1,:] --> is it going to be 100,100\n",
    "        out = self.fc(out[:,-1,:])\n",
    "        # out.size() --> 100,1\n",
    "        return out\n",
    "        "
   ]
  },
  {
   "cell_type": "code",
   "execution_count": 76,
   "metadata": {},
   "outputs": [],
   "source": [
    "# Instantiating Model Class\n",
    "input_dim = 22\n",
    "hidden_dim = 15\n",
    "layer_dim = 1\n",
    "output_dim = 1\n",
    "batch_size = 100\n",
    "\n",
    "model = RNNModel(input_dim, hidden_dim, layer_dim, output_dim)\n",
    "\n",
    "# Instantiating Loss Class\n",
    "criterion = nn.MSELoss()\n",
    "\n",
    "# Instantiate Optimizer Class\n",
    "learning_rate = 0.001\n",
    "optimizer = torch.optim.SGD(model.parameters(), lr=learning_rate)\n",
    "\n",
    "# converting numpy array to torch tensor\n",
    "X_train = torch.from_numpy(X_train)\n",
    "y_train = torch.from_numpy(y_train)\n",
    "X_test = torch.from_numpy(X_test)\n",
    "y_test = torch.from_numpy(y_test)\n",
    "\n",
    "# initializing lists to store losses over epochs:\n",
    "train_loss = []\n",
    "test_loss = []\n",
    "train_iter = []\n",
    "test_iter = []"
   ]
  },
  {
   "cell_type": "code",
   "execution_count": 77,
   "metadata": {
    "scrolled": true
   },
   "outputs": [
    {
     "name": "stdout",
     "output_type": "stream",
     "text": [
      "Epoch: 0 Iteration: 0. Train_MSE: 0.003014477202668786. Test_MSE: 0.00043477852058157983\n",
      "Epoch: 2 Iteration: 200. Train_MSE: 0.004386840853840113. Test_MSE: 0.00036709572612368793\n",
      "Epoch: 4 Iteration: 400. Train_MSE: 0.003066215431317687. Test_MSE: 0.0003605415669057718\n",
      "Epoch: 6 Iteration: 600. Train_MSE: 0.0017822093795984983. Test_MSE: 0.0003600953492064432\n",
      "Epoch: 8 Iteration: 800. Train_MSE: 0.00207426305860281. Test_MSE: 0.0003561617319794113\n",
      "Epoch: 10 Iteration: 1000. Train_MSE: 0.002230407204478979. Test_MSE: 0.0003476258395019613\n",
      "Epoch: 12 Iteration: 1200. Train_MSE: 0.002361592836678028. Test_MSE: 0.00034094246726485176\n",
      "Epoch: 14 Iteration: 1400. Train_MSE: 0.002364522311836481. Test_MSE: 0.0003348758525612563\n",
      "Epoch: 16 Iteration: 1600. Train_MSE: 0.0012210470158606768. Test_MSE: 0.00032842937346032385\n",
      "Epoch: 18 Iteration: 1800. Train_MSE: 0.0017839764477685094. Test_MSE: 0.0003223764149041517\n",
      "Epoch: 21 Iteration: 2000. Train_MSE: 0.0020191252697259188. Test_MSE: 0.00031637173431459245\n",
      "Epoch: 23 Iteration: 2200. Train_MSE: 0.0013153713662177324. Test_MSE: 0.0003115950608143553\n",
      "Epoch: 25 Iteration: 2400. Train_MSE: 0.0013169359881430864. Test_MSE: 0.0003073509994829285\n",
      "Epoch: 27 Iteration: 2600. Train_MSE: 0.0039107403717935085. Test_MSE: 0.0003033633253598889\n",
      "Epoch: 29 Iteration: 2800. Train_MSE: 0.0015834323130548. Test_MSE: 0.00029964910398802097\n",
      "Epoch: 31 Iteration: 3000. Train_MSE: 0.0010893784929066896. Test_MSE: 0.0002963299113396649\n",
      "Epoch: 33 Iteration: 3200. Train_MSE: 0.0020225902553647757. Test_MSE: 0.0002929915147784804\n",
      "Epoch: 35 Iteration: 3400. Train_MSE: 0.003434755140915513. Test_MSE: 0.00029003515261632774\n",
      "Epoch: 37 Iteration: 3600. Train_MSE: 0.0008371029980480671. Test_MSE: 0.00028752267902984246\n",
      "Epoch: 40 Iteration: 3800. Train_MSE: 0.0021206773817539215. Test_MSE: 0.0002850626493751435\n",
      "Epoch: 42 Iteration: 4000. Train_MSE: 0.0012005496537312865. Test_MSE: 0.0002827612558821958\n",
      "Epoch: 44 Iteration: 4200. Train_MSE: 0.0015359168173745275. Test_MSE: 0.0002803073083195569\n",
      "Epoch: 46 Iteration: 4400. Train_MSE: 0.0005546695319935679. Test_MSE: 0.0002784519318302464\n",
      "Epoch: 48 Iteration: 4600. Train_MSE: 0.0009585462976247072. Test_MSE: 0.00027651522167492155\n",
      "Epoch: 50 Iteration: 4800. Train_MSE: 0.0009964904747903347. Test_MSE: 0.00027499820274898897\n",
      "Epoch: 52 Iteration: 5000. Train_MSE: 0.0013425083598122. Test_MSE: 0.00027259180682507564\n",
      "Epoch: 54 Iteration: 5200. Train_MSE: 0.000995708629488945. Test_MSE: 0.0002704601081524755\n",
      "Epoch: 56 Iteration: 5400. Train_MSE: 0.0007389651727862656. Test_MSE: 0.00026942210336775696\n",
      "Epoch: 58 Iteration: 5600. Train_MSE: 0.001171767944470048. Test_MSE: 0.00026777696251693785\n",
      "Epoch: 61 Iteration: 5800. Train_MSE: 0.0010103308595716953. Test_MSE: 0.0002663597967807979\n",
      "Epoch: 63 Iteration: 6000. Train_MSE: 0.0007723983144387603. Test_MSE: 0.0002646327144933488\n",
      "Epoch: 65 Iteration: 6200. Train_MSE: 0.0007861359626986086. Test_MSE: 0.0002630047725878294\n",
      "Epoch: 67 Iteration: 6400. Train_MSE: 0.003771392395719886. Test_MSE: 0.0002620114618523\n",
      "Epoch: 69 Iteration: 6600. Train_MSE: 0.0008284391951747239. Test_MSE: 0.0002604444341210526\n",
      "Epoch: 71 Iteration: 6800. Train_MSE: 0.0006420391146093607. Test_MSE: 0.00025912422187159223\n",
      "Epoch: 73 Iteration: 7000. Train_MSE: 0.0014610935468226671. Test_MSE: 0.000257081257460287\n",
      "Epoch: 75 Iteration: 7200. Train_MSE: 0.0035580613184720278. Test_MSE: 0.00025591303723173655\n",
      "Epoch: 77 Iteration: 7400. Train_MSE: 0.0005273711867630482. Test_MSE: 0.0002552852133101534\n",
      "Epoch: 80 Iteration: 7600. Train_MSE: 0.00126516236923635. Test_MSE: 0.00025358848639997326\n",
      "Epoch: 82 Iteration: 7800. Train_MSE: 0.000737281865440309. Test_MSE: 0.0002521401872665316\n",
      "Epoch: 84 Iteration: 8000. Train_MSE: 0.0012609566329047084. Test_MSE: 0.0002505799788570361\n",
      "Epoch: 86 Iteration: 8200. Train_MSE: 0.0004932305891998112. Test_MSE: 0.0002499016398940088\n",
      "Epoch: 88 Iteration: 8400. Train_MSE: 0.0006831980426795781. Test_MSE: 0.00024870162305584275\n",
      "Epoch: 90 Iteration: 8600. Train_MSE: 0.0007130982703529298. Test_MSE: 0.0002475117726561942\n",
      "Epoch: 92 Iteration: 8800. Train_MSE: 0.0009678774513304234. Test_MSE: 0.0002453387929759211\n",
      "Epoch: 94 Iteration: 9000. Train_MSE: 0.000686570827383548. Test_MSE: 0.00024383397762362186\n",
      "Epoch: 96 Iteration: 9200. Train_MSE: 0.0006678100908175111. Test_MSE: 0.0002436534794806128\n",
      "Epoch: 98 Iteration: 9400. Train_MSE: 0.0009251667652279139. Test_MSE: 0.00024230260182376854\n",
      "Epoch: 101 Iteration: 9600. Train_MSE: 0.0007142897229641676. Test_MSE: 0.00024100061352536653\n",
      "Epoch: 103 Iteration: 9800. Train_MSE: 0.000611158786341548. Test_MSE: 0.00023963021440665433\n",
      "Epoch: 105 Iteration: 10000. Train_MSE: 0.000656632415484637. Test_MSE: 0.00023846586394306833\n",
      "Epoch: 107 Iteration: 10200. Train_MSE: 0.0037245897110551596. Test_MSE: 0.00023794328998681316\n",
      "Epoch: 109 Iteration: 10400. Train_MSE: 0.0006046669441275299. Test_MSE: 0.0002364650035104805\n",
      "Epoch: 111 Iteration: 10600. Train_MSE: 0.0004589994205161929. Test_MSE: 0.00023520931701108484\n",
      "Epoch: 113 Iteration: 10800. Train_MSE: 0.0012208562111482024. Test_MSE: 0.00023352615800274504\n",
      "Epoch: 115 Iteration: 11000. Train_MSE: 0.0035637172404676676. Test_MSE: 0.0002327439515207991\n",
      "Epoch: 117 Iteration: 11200. Train_MSE: 0.0004371996328700334. Test_MSE: 0.00023246070501726354\n",
      "Epoch: 120 Iteration: 11400. Train_MSE: 0.0009845560416579247. Test_MSE: 0.0002307954240906552\n",
      "Epoch: 122 Iteration: 11600. Train_MSE: 0.0005664598429575562. Test_MSE: 0.00022957599862543783\n",
      "Epoch: 124 Iteration: 11800. Train_MSE: 0.0011116296518594027. Test_MSE: 0.00022833527102610214\n",
      "Epoch: 126 Iteration: 12000. Train_MSE: 0.00045534915989264846. Test_MSE: 0.00022795062572915521\n",
      "Epoch: 128 Iteration: 12200. Train_MSE: 0.0005512065254151821. Test_MSE: 0.00022695564010116837\n",
      "Epoch: 130 Iteration: 12400. Train_MSE: 0.000584968423936516. Test_MSE: 0.00022586426766086685\n",
      "Epoch: 132 Iteration: 12600. Train_MSE: 0.0007514673634432256. Test_MSE: 0.00022393899579080143\n",
      "Epoch: 134 Iteration: 12800. Train_MSE: 0.0005616085254587233. Test_MSE: 0.0002227812460920609\n",
      "Epoch: 136 Iteration: 13000. Train_MSE: 0.0006174279842525721. Test_MSE: 0.0002228278356550722\n",
      "Epoch: 138 Iteration: 13200. Train_MSE: 0.0007679768605157733. Test_MSE: 0.00022164484693037165\n",
      "Epoch: 141 Iteration: 13400. Train_MSE: 0.0005805891123600304. Test_MSE: 0.00022047073290972427\n",
      "Epoch: 143 Iteration: 13600. Train_MSE: 0.0005186137277632952. Test_MSE: 0.00021933784334669817\n",
      "Epoch: 145 Iteration: 13800. Train_MSE: 0.0005893992492929101. Test_MSE: 0.00021840998447132616\n",
      "Epoch: 147 Iteration: 14000. Train_MSE: 0.0036833800841122866. Test_MSE: 0.00021806250712111492\n",
      "Epoch: 149 Iteration: 14200. Train_MSE: 0.0005035631475038826. Test_MSE: 0.0002167340514396534\n",
      "Epoch: 151 Iteration: 14400. Train_MSE: 0.000357722194166854. Test_MSE: 0.00021564487635199753\n",
      "Epoch: 153 Iteration: 14600. Train_MSE: 0.0010741211008280516. Test_MSE: 0.0002143077223861394\n",
      "Epoch: 155 Iteration: 14800. Train_MSE: 0.00351944868452847. Test_MSE: 0.00021372113785716928\n",
      "Epoch: 157 Iteration: 15000. Train_MSE: 0.0003995517618022859. Test_MSE: 0.00021357224206559506\n",
      "Epoch: 160 Iteration: 15200. Train_MSE: 0.0008379195351153612. Test_MSE: 0.00021206265307053624\n",
      "Epoch: 162 Iteration: 15400. Train_MSE: 0.0004724494065158069. Test_MSE: 0.0002110969103823336\n",
      "Epoch: 164 Iteration: 15600. Train_MSE: 0.0010027706157416105. Test_MSE: 0.00021008862213020994\n",
      "Epoch: 166 Iteration: 15800. Train_MSE: 0.0004165588761679828. Test_MSE: 0.000209818384624129\n",
      "Epoch: 168 Iteration: 16000. Train_MSE: 0.00046378251863643527. Test_MSE: 0.00020897488785129502\n",
      "Epoch: 170 Iteration: 16200. Train_MSE: 0.0005068730097264051. Test_MSE: 0.00020806502949699077\n",
      "Epoch: 172 Iteration: 16400. Train_MSE: 0.0006072197575122118. Test_MSE: 0.00020644161295542112\n",
      "Epoch: 174 Iteration: 16600. Train_MSE: 0.0004919819766655564. Test_MSE: 0.00020555312240894404\n",
      "Epoch: 176 Iteration: 16800. Train_MSE: 0.0005716890445910394. Test_MSE: 0.00020567531624951808\n",
      "Epoch: 178 Iteration: 17000. Train_MSE: 0.0006541252369061112. Test_MSE: 0.00020467811264231355\n",
      "Epoch: 181 Iteration: 17200. Train_MSE: 0.0005024181446060538. Test_MSE: 0.00020369935712940635\n",
      "Epoch: 183 Iteration: 17400. Train_MSE: 0.000454365013865754. Test_MSE: 0.0002027803823417597\n"
     ]
    },
    {
     "name": "stdout",
     "output_type": "stream",
     "text": [
      "Epoch: 185 Iteration: 17600. Train_MSE: 0.0005426138523034751. Test_MSE: 0.00020202143248690315\n",
      "Epoch: 187 Iteration: 17800. Train_MSE: 0.003650691593065858. Test_MSE: 0.00020178212351939652\n",
      "Epoch: 189 Iteration: 18000. Train_MSE: 0.000443875091150403. Test_MSE: 0.00020064160818246375\n",
      "Epoch: 191 Iteration: 18200. Train_MSE: 0.0002933972573373467. Test_MSE: 0.00019974744413793987\n",
      "Epoch: 193 Iteration: 18400. Train_MSE: 0.0009730558376759291. Test_MSE: 0.00019870896984905284\n",
      "Epoch: 195 Iteration: 18600. Train_MSE: 0.0034597229678183794. Test_MSE: 0.0001982531404439916\n",
      "Epoch: 197 Iteration: 18800. Train_MSE: 0.00037943021743558347. Test_MSE: 0.00019818822373565462\n",
      "Epoch: 200 Iteration: 19000. Train_MSE: 0.0007358342409133911. Test_MSE: 0.0001968781806197731\n",
      "Epoch: 202 Iteration: 19200. Train_MSE: 0.0004081617807969451. Test_MSE: 0.0001961484743968021\n",
      "Epoch: 204 Iteration: 19400. Train_MSE: 0.0009236788027919829. Test_MSE: 0.00019532634517155267\n",
      "Epoch: 206 Iteration: 19600. Train_MSE: 0.0003835046663880348. Test_MSE: 0.00019512615435086393\n",
      "Epoch: 208 Iteration: 19800. Train_MSE: 0.0003960388421546668. Test_MSE: 0.00019442296272348899\n",
      "Epoch: 210 Iteration: 20000. Train_MSE: 0.0004522150265984237. Test_MSE: 0.00019369839082731944\n",
      "Epoch: 212 Iteration: 20200. Train_MSE: 0.0005070131737738848. Test_MSE: 0.00019234741744810957\n",
      "Epoch: 214 Iteration: 20400. Train_MSE: 0.000446480349637568. Test_MSE: 0.00019166747810994263\n",
      "Epoch: 216 Iteration: 20600. Train_MSE: 0.0005382453091442585. Test_MSE: 0.00019182732367398767\n",
      "Epoch: 218 Iteration: 20800. Train_MSE: 0.0005674015847034752. Test_MSE: 0.00019100526080783833\n",
      "Epoch: 221 Iteration: 21000. Train_MSE: 0.00044992018956691027. Test_MSE: 0.00019020846365874793\n",
      "Epoch: 223 Iteration: 21200. Train_MSE: 0.00040737370727583766. Test_MSE: 0.00018947102330391162\n",
      "Epoch: 225 Iteration: 21400. Train_MSE: 0.0005110602942295372. Test_MSE: 0.00018884563198578942\n",
      "Epoch: 227 Iteration: 21600. Train_MSE: 0.003626501653343439. Test_MSE: 0.0001886883698217261\n",
      "Epoch: 229 Iteration: 21800. Train_MSE: 0.0004031157004646957. Test_MSE: 0.00018773130796782462\n",
      "Epoch: 231 Iteration: 22000. Train_MSE: 0.00025045478832907975. Test_MSE: 0.00018701678977076162\n",
      "Epoch: 233 Iteration: 22200. Train_MSE: 0.0008999721612781286. Test_MSE: 0.00018621977650280425\n",
      "Epoch: 235 Iteration: 22400. Train_MSE: 0.0034056329168379307. Test_MSE: 0.00018586552968551058\n",
      "Epoch: 237 Iteration: 22600. Train_MSE: 0.00036245532101020217. Test_MSE: 0.00018586579066101326\n",
      "Epoch: 240 Iteration: 22800. Train_MSE: 0.0006569685647264123. Test_MSE: 0.00018474680171502071\n",
      "Epoch: 242 Iteration: 23000. Train_MSE: 0.00036102489684708416. Test_MSE: 0.00018420556195609\n",
      "Epoch: 244 Iteration: 23200. Train_MSE: 0.0008665548521094024. Test_MSE: 0.00018353275769883047\n",
      "Epoch: 246 Iteration: 23400. Train_MSE: 0.00035703848698176444. Test_MSE: 0.0001833787011973376\n",
      "Epoch: 248 Iteration: 23600. Train_MSE: 0.00034230490564368665. Test_MSE: 0.00018279267456024084\n",
      "Epoch: 250 Iteration: 23800. Train_MSE: 0.0004116835771128535. Test_MSE: 0.00018222231606571213\n",
      "Epoch: 252 Iteration: 24000. Train_MSE: 0.0004354169359430671. Test_MSE: 0.00018109328600270268\n",
      "Epoch: 254 Iteration: 24200. Train_MSE: 0.0004142009129282087. Test_MSE: 0.0001805668928798454\n",
      "Epoch: 256 Iteration: 24400. Train_MSE: 0.0005131162470206618. Test_MSE: 0.00018074053156060446\n",
      "Epoch: 258 Iteration: 24600. Train_MSE: 0.000499830930493772. Test_MSE: 0.00018006040370754616\n",
      "Epoch: 261 Iteration: 24800. Train_MSE: 0.0004110559821128845. Test_MSE: 0.00017940723748713098\n",
      "Epoch: 263 Iteration: 25000. Train_MSE: 0.0003717654326464981. Test_MSE: 0.00017880828000771542\n",
      "Epoch: 265 Iteration: 25200. Train_MSE: 0.0004893235745839775. Test_MSE: 0.00017827902577683715\n",
      "Epoch: 267 Iteration: 25400. Train_MSE: 0.0036081732250750065. Test_MSE: 0.00017817001539717454\n",
      "Epoch: 269 Iteration: 25600. Train_MSE: 0.0003721550165209919. Test_MSE: 0.00017735713504168376\n",
      "Epoch: 271 Iteration: 25800. Train_MSE: 0.000219332316191867. Test_MSE: 0.0001767750102515658\n",
      "Epoch: 273 Iteration: 26000. Train_MSE: 0.0008454358321614563. Test_MSE: 0.0001761533531071251\n",
      "Epoch: 275 Iteration: 26200. Train_MSE: 0.003358607180416584. Test_MSE: 0.0001758617933646687\n",
      "Epoch: 277 Iteration: 26400. Train_MSE: 0.00034872686956077814. Test_MSE: 0.00017589849097392676\n",
      "Epoch: 280 Iteration: 26600. Train_MSE: 0.0005929035833105445. Test_MSE: 0.00017492799582113173\n",
      "Epoch: 282 Iteration: 26800. Train_MSE: 0.00032316319993697107. Test_MSE: 0.00017451616355996185\n",
      "Epoch: 284 Iteration: 27000. Train_MSE: 0.0008238942245952785. Test_MSE: 0.00017394733705458949\n",
      "Epoch: 286 Iteration: 27200. Train_MSE: 0.00033596769208088517. Test_MSE: 0.00017381237032637655\n",
      "Epoch: 288 Iteration: 27400. Train_MSE: 0.00029811818967573345. Test_MSE: 0.00017331288769210579\n",
      "Epoch: 290 Iteration: 27600. Train_MSE: 0.00037919238093309104. Test_MSE: 0.00017285256001901692\n",
      "Epoch: 292 Iteration: 27800. Train_MSE: 0.00038279383443295956. Test_MSE: 0.00017188995648857136\n",
      "Epoch: 294 Iteration: 28000. Train_MSE: 0.00039006746374070644. Test_MSE: 0.00017147295819091373\n",
      "Epoch: 296 Iteration: 28200. Train_MSE: 0.0004940131912007928. Test_MSE: 0.0001716349281139191\n",
      "Epoch: 298 Iteration: 28400. Train_MSE: 0.0004452375287655741. Test_MSE: 0.0001710586474549802\n",
      "Epoch: 301 Iteration: 28600. Train_MSE: 0.00038039960782043636. Test_MSE: 0.0001705012947207443\n",
      "Epoch: 303 Iteration: 28800. Train_MSE: 0.000344254047377035. Test_MSE: 0.00016999531146503206\n",
      "Epoch: 305 Iteration: 29000. Train_MSE: 0.0004731729859486222. Test_MSE: 0.0001695260291959281\n",
      "Epoch: 307 Iteration: 29200. Train_MSE: 0.0035945477429777384. Test_MSE: 0.00016943849570306573\n",
      "Epoch: 309 Iteration: 29400. Train_MSE: 0.00034710229374468327. Test_MSE: 0.00016873791360555275\n",
      "Epoch: 311 Iteration: 29600. Train_MSE: 0.000195659973542206. Test_MSE: 0.00016825155713810641\n",
      "Epoch: 313 Iteration: 29800. Train_MSE: 0.0008031467441469431. Test_MSE: 0.00016775520678740313\n",
      "Epoch: 315 Iteration: 30000. Train_MSE: 0.0033178480807691813. Test_MSE: 0.00016750295984031008\n",
      "Epoch: 317 Iteration: 30200. Train_MSE: 0.000337200821377337. Test_MSE: 0.0001675538557626257\n",
      "Epoch: 320 Iteration: 30400. Train_MSE: 0.0005388515419326723. Test_MSE: 0.00016669976081966722\n",
      "Epoch: 322 Iteration: 30600. Train_MSE: 0.00029196517425589263. Test_MSE: 0.0001663776068839166\n",
      "Epoch: 324 Iteration: 30800. Train_MSE: 0.000790810736361891. Test_MSE: 0.00016588541777411692\n",
      "Epoch: 326 Iteration: 31000. Train_MSE: 0.00031826517079025507. Test_MSE: 0.00016575488805443392\n",
      "Epoch: 328 Iteration: 31200. Train_MSE: 0.00026177382096648216. Test_MSE: 0.00016532218656856875\n",
      "Epoch: 330 Iteration: 31400. Train_MSE: 0.00035232622758485377. Test_MSE: 0.00016494613607777404\n",
      "Epoch: 332 Iteration: 31600. Train_MSE: 0.0003426145703997463. Test_MSE: 0.00016411338494053853\n",
      "Epoch: 334 Iteration: 31800. Train_MSE: 0.0003710249438881874. Test_MSE: 0.00016377741629026158\n",
      "Epoch: 336 Iteration: 32000. Train_MSE: 0.0004777761932928115. Test_MSE: 0.0001639278953974697\n",
      "Epoch: 338 Iteration: 32200. Train_MSE: 0.0004003439098596573. Test_MSE: 0.00016343757585444318\n",
      "Epoch: 341 Iteration: 32400. Train_MSE: 0.0003556623705662787. Test_MSE: 0.00016295670182242552\n",
      "Epoch: 343 Iteration: 32600. Train_MSE: 0.00032211196958087385. Test_MSE: 0.00016252910424376183\n",
      "Epoch: 345 Iteration: 32800. Train_MSE: 0.00045970961218699813. Test_MSE: 0.00016211166516961827\n",
      "Epoch: 347 Iteration: 33000. Train_MSE: 0.003584229154512286. Test_MSE: 0.00016204719938175017\n",
      "Epoch: 349 Iteration: 33200. Train_MSE: 0.0003259861550759524. Test_MSE: 0.00016144003968957584\n",
      "Epoch: 351 Iteration: 33400. Train_MSE: 0.00017729161481838673. Test_MSE: 0.0001610277506502114\n",
      "Epoch: 353 Iteration: 33600. Train_MSE: 0.0007661987910978496. Test_MSE: 0.00016063018228558223\n",
      "Epoch: 355 Iteration: 33800. Train_MSE: 0.0032823679503053427. Test_MSE: 0.0001604104863996643\n",
      "Epoch: 357 Iteration: 34000. Train_MSE: 0.0003281881217844784. Test_MSE: 0.00016047518462170202\n",
      "Epoch: 360 Iteration: 34200. Train_MSE: 0.0004929825663566589. Test_MSE: 0.00015971650470810714\n",
      "Epoch: 362 Iteration: 34400. Train_MSE: 0.00026624335441738367. Test_MSE: 0.00015946366638034507\n",
      "Epoch: 364 Iteration: 34600. Train_MSE: 0.0007645647856406868. Test_MSE: 0.0001590378240118089\n"
     ]
    },
    {
     "name": "stdout",
     "output_type": "stream",
     "text": [
      "Epoch: 366 Iteration: 34800. Train_MSE: 0.0003035461122635752. Test_MSE: 0.00015891483801617887\n",
      "Epoch: 368 Iteration: 35000. Train_MSE: 0.00023158983094617724. Test_MSE: 0.000158540842647926\n",
      "Epoch: 370 Iteration: 35200. Train_MSE: 0.0003292987239547074. Test_MSE: 0.000158228178054087\n",
      "Epoch: 372 Iteration: 35400. Train_MSE: 0.0003114611026830971. Test_MSE: 0.00015749836294957857\n",
      "Epoch: 374 Iteration: 35600. Train_MSE: 0.00035578940878622234. Test_MSE: 0.0001572258823361059\n",
      "Epoch: 376 Iteration: 35800. Train_MSE: 0.00046435330295935273. Test_MSE: 0.0001573655193187588\n",
      "Epoch: 378 Iteration: 36000. Train_MSE: 0.0003626819234341383. Test_MSE: 0.00015694447785142578\n",
      "Epoch: 381 Iteration: 36200. Train_MSE: 0.0003351863124407828. Test_MSE: 0.00015651868663117192\n",
      "Epoch: 383 Iteration: 36400. Train_MSE: 0.0003038130817003548. Test_MSE: 0.00015614888308113542\n",
      "Epoch: 385 Iteration: 36600. Train_MSE: 0.00044844139483757317. Test_MSE: 0.00015576940488916258\n",
      "Epoch: 387 Iteration: 36800. Train_MSE: 0.003575886134058237. Test_MSE: 0.00015571970454594108\n",
      "Epoch: 389 Iteration: 37000. Train_MSE: 0.00030762498499825597. Test_MSE: 0.00015518774040612158\n",
      "Epoch: 391 Iteration: 37200. Train_MSE: 0.00016278514522127807. Test_MSE: 0.00015483188646087318\n",
      "Epoch: 393 Iteration: 37400. Train_MSE: 0.0007347261416725814. Test_MSE: 0.00015450916600348542\n",
      "Epoch: 395 Iteration: 37600. Train_MSE: 0.0032506913412362337. Test_MSE: 0.0001543122451909069\n",
      "Epoch: 397 Iteration: 37800. Train_MSE: 0.0003203360829502344. Test_MSE: 0.00015438475700759355\n",
      "Epoch: 400 Iteration: 38000. Train_MSE: 0.0004541309317573905. Test_MSE: 0.00015370175493611813\n",
      "Epoch: 402 Iteration: 38200. Train_MSE: 0.0002447041042614728. Test_MSE: 0.00015349849547045174\n",
      "Epoch: 404 Iteration: 38400. Train_MSE: 0.0007431184640154243. Test_MSE: 0.00015312093275227957\n",
      "Epoch: 406 Iteration: 38600. Train_MSE: 0.00029122692649252713. Test_MSE: 0.0001529996402797348\n",
      "Epoch: 408 Iteration: 38800. Train_MSE: 0.00020624909666366875. Test_MSE: 0.00015267097178293555\n",
      "Epoch: 410 Iteration: 39000. Train_MSE: 0.00030957465060055256. Test_MSE: 0.0001524059333310527\n",
      "Epoch: 412 Iteration: 39200. Train_MSE: 0.00028596934862434864. Test_MSE: 0.0001517556561907668\n",
      "Epoch: 414 Iteration: 39400. Train_MSE: 0.0003431103832554072. Test_MSE: 0.00015153211178937142\n",
      "Epoch: 416 Iteration: 39600. Train_MSE: 0.0004532876191660762. Test_MSE: 0.0001516591557400711\n",
      "Epoch: 418 Iteration: 39800. Train_MSE: 0.0003304783604107797. Test_MSE: 0.00015129163618125127\n",
      "Epoch: 421 Iteration: 40000. Train_MSE: 0.00031737476820126176. Test_MSE: 0.00015090675415124356\n",
      "Epoch: 423 Iteration: 40200. Train_MSE: 0.00028828310314565897. Test_MSE: 0.00015058028229490572\n",
      "Epoch: 425 Iteration: 40400. Train_MSE: 0.0004387158842291683. Test_MSE: 0.0001502275044392176\n",
      "Epoch: 427 Iteration: 40600. Train_MSE: 0.0035673407837748528. Test_MSE: 0.00015018562934743495\n",
      "Epoch: 429 Iteration: 40800. Train_MSE: 0.00029151610215194523. Test_MSE: 0.00014971317949514303\n",
      "Epoch: 431 Iteration: 41000. Train_MSE: 0.00015096311108209193. Test_MSE: 0.00014939894371979406\n",
      "Epoch: 433 Iteration: 41200. Train_MSE: 0.0007080241339281201. Test_MSE: 0.00014913687209638896\n",
      "Epoch: 435 Iteration: 41400. Train_MSE: 0.0032222685404121876. Test_MSE: 0.00014895813300191371\n",
      "Epoch: 437 Iteration: 41600. Train_MSE: 0.00031323765870183706. Test_MSE: 0.00014903777083623493\n",
      "Epoch: 440 Iteration: 41800. Train_MSE: 0.0004203811986371875. Test_MSE: 0.000148418035193019\n",
      "Epoch: 442 Iteration: 42000. Train_MSE: 0.00022649409947916865. Test_MSE: 0.00014825370048355519\n",
      "Epoch: 444 Iteration: 42200. Train_MSE: 0.0007248754845932126. Test_MSE: 0.0001479177661207985\n",
      "Epoch: 446 Iteration: 42400. Train_MSE: 0.0002813748433254659. Test_MSE: 0.0001477998546113147\n",
      "Epoch: 448 Iteration: 42600. Train_MSE: 0.00018511980306357145. Test_MSE: 0.0001475118645179532\n",
      "Epoch: 450 Iteration: 42800. Train_MSE: 0.0002925302542280406. Test_MSE: 0.00014728463211458417\n",
      "Epoch: 452 Iteration: 43000. Train_MSE: 0.000264914269791916. Test_MSE: 0.00014669903761333546\n",
      "Epoch: 454 Iteration: 43200. Train_MSE: 0.0003324110875837505. Test_MSE: 0.00014651663660056167\n",
      "Epoch: 456 Iteration: 43400. Train_MSE: 0.00044390230323188007. Test_MSE: 0.00014663453588849022\n",
      "Epoch: 458 Iteration: 43600. Train_MSE: 0.0003028341743629426. Test_MSE: 0.00014631790480465338\n",
      "Epoch: 461 Iteration: 43800. Train_MSE: 0.0003017825656570494. Test_MSE: 0.00014596739100135482\n",
      "Epoch: 463 Iteration: 44000. Train_MSE: 0.0002752503496594727. Test_MSE: 0.00014568136073592696\n",
      "Epoch: 465 Iteration: 44200. Train_MSE: 0.00043047082726843655. Test_MSE: 0.00014535783568566654\n",
      "Epoch: 467 Iteration: 44400. Train_MSE: 0.0035606950987130404. Test_MSE: 0.00014533016696614834\n",
      "Epoch: 469 Iteration: 44600. Train_MSE: 0.0002768360136542469. Test_MSE: 0.00014491177734626105\n",
      "Epoch: 471 Iteration: 44800. Train_MSE: 0.00014113768702372909. Test_MSE: 0.00014463229557246918\n",
      "Epoch: 473 Iteration: 45000. Train_MSE: 0.0006854334496892989. Test_MSE: 0.0001444213413948289\n",
      "Epoch: 475 Iteration: 45200. Train_MSE: 0.0031962778884917498. Test_MSE: 0.0001442591839640772\n",
      "Epoch: 477 Iteration: 45400. Train_MSE: 0.0003072976542171091. Test_MSE: 0.00014434468561420983\n",
      "Epoch: 480 Iteration: 45600. Train_MSE: 0.0003906083002220839. Test_MSE: 0.00014377830386527366\n",
      "Epoch: 482 Iteration: 45800. Train_MSE: 0.0002112538495566696. Test_MSE: 0.00014364358823585368\n",
      "Epoch: 484 Iteration: 46000. Train_MSE: 0.0007094035972841084. Test_MSE: 0.00014334320877456468\n",
      "Epoch: 486 Iteration: 46200. Train_MSE: 0.00027374751516617835. Test_MSE: 0.0001432271457529773\n",
      "Epoch: 488 Iteration: 46400. Train_MSE: 0.0001677013497101143. Test_MSE: 0.0001429747695474775\n",
      "Epoch: 490 Iteration: 46600. Train_MSE: 0.0002773737069219351. Test_MSE: 0.00014277903319052053\n",
      "Epoch: 492 Iteration: 46800. Train_MSE: 0.0002474733046256006. Test_MSE: 0.0001422485033244779\n",
      "Epoch: 494 Iteration: 47000. Train_MSE: 0.0003231377631891519. Test_MSE: 0.00014210198542451925\n",
      "Epoch: 496 Iteration: 47200. Train_MSE: 0.0004366719804238528. Test_MSE: 0.00014221380259626967\n",
      "Epoch: 498 Iteration: 47400. Train_MSE: 0.00027910276548936963. Test_MSE: 0.00014194063837945757\n",
      "Epoch: 501 Iteration: 47600. Train_MSE: 0.00028846540953963995. Test_MSE: 0.0001416172322593129\n",
      "Epoch: 503 Iteration: 47800. Train_MSE: 0.00026383931981399655. Test_MSE: 0.00014136344555608138\n",
      "Epoch: 505 Iteration: 48000. Train_MSE: 0.00042321678483858705. Test_MSE: 0.00014106006974080992\n",
      "Epoch: 507 Iteration: 48200. Train_MSE: 0.0035556084476411343. Test_MSE: 0.00014104130606357076\n",
      "Epoch: 509 Iteration: 48400. Train_MSE: 0.00026342360069975257. Test_MSE: 0.00014066688623803482\n",
      "Epoch: 511 Iteration: 48600. Train_MSE: 0.0001329197402810678. Test_MSE: 0.00014041437218952294\n",
      "Epoch: 513 Iteration: 48800. Train_MSE: 0.0006657863268628716. Test_MSE: 0.00014024440423870708\n",
      "Epoch: 515 Iteration: 49000. Train_MSE: 0.00317241158336401. Test_MSE: 0.00014009392393802325\n",
      "Epoch: 517 Iteration: 49200. Train_MSE: 0.000301860534818843. Test_MSE: 0.0001401836638140485\n",
      "Epoch: 520 Iteration: 49400. Train_MSE: 0.0003646856057457626. Test_MSE: 0.00013965920821881053\n",
      "Epoch: 522 Iteration: 49600. Train_MSE: 0.00019809012883342803. Test_MSE: 0.0001395464140364477\n",
      "Epoch: 524 Iteration: 49800. Train_MSE: 0.0006957396981306374. Test_MSE: 0.00013927389538449792\n",
      "Epoch: 526 Iteration: 50000. Train_MSE: 0.0002674441784620285. Test_MSE: 0.00013915807660749055\n",
      "Epoch: 528 Iteration: 50200. Train_MSE: 0.0001533211616333574. Test_MSE: 0.0001389363289880188\n",
      "Epoch: 530 Iteration: 50400. Train_MSE: 0.00026389153208583593. Test_MSE: 0.00013876360573983364\n",
      "Epoch: 532 Iteration: 50600. Train_MSE: 0.0002327112597413361. Test_MSE: 0.00013827586978899136\n",
      "Epoch: 534 Iteration: 50800. Train_MSE: 0.00031498834141530097. Test_MSE: 0.00013815641110388334\n",
      "Epoch: 536 Iteration: 51000. Train_MSE: 0.0004306727205403149. Test_MSE: 0.00013825901419276614\n",
      "Epoch: 538 Iteration: 51200. Train_MSE: 0.0002584360772743821. Test_MSE: 0.00013801975558096983\n",
      "Epoch: 541 Iteration: 51400. Train_MSE: 0.0002766952966339886. Test_MSE: 0.00013771527683851924\n",
      "Epoch: 543 Iteration: 51600. Train_MSE: 0.00025410926900804043. Test_MSE: 0.00013748559600467708\n",
      "Epoch: 545 Iteration: 51800. Train_MSE: 0.00041670529753901064. Test_MSE: 0.0001371982290833027\n"
     ]
    },
    {
     "name": "stdout",
     "output_type": "stream",
     "text": [
      "Epoch: 547 Iteration: 52000. Train_MSE: 0.0035528549924492836. Test_MSE: 0.00013718625206656824\n",
      "Epoch: 549 Iteration: 52200. Train_MSE: 0.0002511153288651258. Test_MSE: 0.00013684680918986812\n",
      "Epoch: 551 Iteration: 52400. Train_MSE: 0.00012580069596879184. Test_MSE: 0.00013661389298185787\n",
      "Epoch: 553 Iteration: 52600. Train_MSE: 0.0006487768259830773. Test_MSE: 0.00013647612053275352\n",
      "Epoch: 555 Iteration: 52800. Train_MSE: 0.00314994715154171. Test_MSE: 0.00013633316670149875\n",
      "Epoch: 557 Iteration: 53000. Train_MSE: 0.00029700304730795324. Test_MSE: 0.00013642609706429726\n",
      "Epoch: 560 Iteration: 53200. Train_MSE: 0.0003417095576878637. Test_MSE: 0.00013593747324463416\n",
      "Epoch: 562 Iteration: 53400. Train_MSE: 0.00018661684589460492. Test_MSE: 0.00013584095028115598\n",
      "Epoch: 564 Iteration: 53600. Train_MSE: 0.0006838106201030314. Test_MSE: 0.00013559198090335858\n",
      "Epoch: 566 Iteration: 53800. Train_MSE: 0.000261971348663792. Test_MSE: 0.00013547426759170746\n",
      "Epoch: 568 Iteration: 54000. Train_MSE: 0.00014120429113972932. Test_MSE: 0.00013527650834713203\n",
      "Epoch: 570 Iteration: 54200. Train_MSE: 0.00025168576394207776. Test_MSE: 0.0001351202879998701\n",
      "Epoch: 572 Iteration: 54400. Train_MSE: 0.00022011110559105873. Test_MSE: 0.00013466730082045198\n",
      "Epoch: 574 Iteration: 54600. Train_MSE: 0.0003077841829508543. Test_MSE: 0.0001345702723144387\n",
      "Epoch: 576 Iteration: 54800. Train_MSE: 0.0004255693347658962. Test_MSE: 0.00013466347370242644\n",
      "Epoch: 578 Iteration: 55000. Train_MSE: 0.0002401743840891868. Test_MSE: 0.00013445251004972136\n",
      "Epoch: 581 Iteration: 55200. Train_MSE: 0.00026616762625053525. Test_MSE: 0.00013416009266758989\n",
      "Epoch: 583 Iteration: 55400. Train_MSE: 0.0002455156354699284. Test_MSE: 0.00013394864741381415\n",
      "Epoch: 585 Iteration: 55600. Train_MSE: 0.0004108943394385278. Test_MSE: 0.0001336730230526246\n",
      "Epoch: 587 Iteration: 55800. Train_MSE: 0.00355077744461596. Test_MSE: 0.00013366449525575242\n",
      "Epoch: 589 Iteration: 56000. Train_MSE: 0.0002396632917225361. Test_MSE: 0.00013335255054005416\n",
      "Epoch: 591 Iteration: 56200. Train_MSE: 0.00011967412137892097. Test_MSE: 0.000133132604381804\n",
      "Epoch: 593 Iteration: 56400. Train_MSE: 0.0006338107632473111. Test_MSE: 0.00013302111894295806\n",
      "Epoch: 595 Iteration: 56600. Train_MSE: 0.0031247895676642656. Test_MSE: 0.00013288430417760283\n",
      "Epoch: 597 Iteration: 56800. Train_MSE: 0.0002926049055531621. Test_MSE: 0.0001329780716755258\n",
      "Epoch: 600 Iteration: 57000. Train_MSE: 0.00032092840410768986. Test_MSE: 0.00013251743021134378\n",
      "Epoch: 602 Iteration: 57200. Train_MSE: 0.00017654694966040552. Test_MSE: 0.00013243117737002803\n",
      "Epoch: 604 Iteration: 57400. Train_MSE: 0.000673186790663749. Test_MSE: 0.0001322001130672252\n",
      "Epoch: 606 Iteration: 57600. Train_MSE: 0.0002570324868429452. Test_MSE: 0.00013208034662106594\n",
      "Epoch: 608 Iteration: 57800. Train_MSE: 0.00013098615454509854. Test_MSE: 0.00013190460431237224\n",
      "Epoch: 610 Iteration: 58000. Train_MSE: 0.0002405139384791255. Test_MSE: 0.00013176187908379695\n",
      "Epoch: 612 Iteration: 58200. Train_MSE: 0.00020929791207890958. Test_MSE: 0.00013133820309879125\n",
      "Epoch: 614 Iteration: 58400. Train_MSE: 0.0003012824454344809. Test_MSE: 0.00013126045464262662\n",
      "Epoch: 616 Iteration: 58600. Train_MSE: 0.0004210863262414932. Test_MSE: 0.00013134565862059222\n",
      "Epoch: 618 Iteration: 58800. Train_MSE: 0.00022396797430701554. Test_MSE: 0.0001311595421573376\n",
      "Epoch: 621 Iteration: 59000. Train_MSE: 0.0002564483438618481. Test_MSE: 0.0001308781368302272\n",
      "Epoch: 623 Iteration: 59200. Train_MSE: 0.0002377138880547136. Test_MSE: 0.00013068443008308375\n",
      "Epoch: 625 Iteration: 59400. Train_MSE: 0.0004056946490891278. Test_MSE: 0.00013041973105296675\n",
      "Epoch: 627 Iteration: 59600. Train_MSE: 0.0035492880269885063. Test_MSE: 0.00013041664519959525\n",
      "Epoch: 629 Iteration: 59800. Train_MSE: 0.00022923681535758078. Test_MSE: 0.0001301313911164894\n",
      "Epoch: 631 Iteration: 60000. Train_MSE: 0.00011439430818427354. Test_MSE: 0.00012992261799890886\n",
      "Epoch: 633 Iteration: 60200. Train_MSE: 0.0006204742821864784. Test_MSE: 0.0001298341918717759\n",
      "Epoch: 635 Iteration: 60400. Train_MSE: 0.003101547947153449. Test_MSE: 0.00012970198016886146\n",
      "Epoch: 637 Iteration: 60600. Train_MSE: 0.0002888360759243369. Test_MSE: 0.00012979683207999613\n",
      "Epoch: 640 Iteration: 60800. Train_MSE: 0.0003023566969204694. Test_MSE: 0.00012936137168319497\n",
      "Epoch: 642 Iteration: 61000. Train_MSE: 0.00016772732487879694. Test_MSE: 0.00012928330203685958\n",
      "Epoch: 644 Iteration: 61200. Train_MSE: 0.0006636910839006305. Test_MSE: 0.00012906686226706046\n",
      "Epoch: 646 Iteration: 61400. Train_MSE: 0.0002528247714508325. Test_MSE: 0.00012894384470069512\n",
      "Epoch: 648 Iteration: 61600. Train_MSE: 0.00012259642244316638. Test_MSE: 0.00012878571593391303\n",
      "Epoch: 650 Iteration: 61800. Train_MSE: 0.00023029811563901603. Test_MSE: 0.0001286534694840142\n",
      "Epoch: 652 Iteration: 62000. Train_MSE: 0.00019983842503279448. Test_MSE: 0.00012825460008212343\n",
      "Epoch: 654 Iteration: 62200. Train_MSE: 0.00029542925767600536. Test_MSE: 0.00012819239410025979\n",
      "Epoch: 656 Iteration: 62400. Train_MSE: 0.0004171114123892039. Test_MSE: 0.00012826931373184224\n",
      "Epoch: 658 Iteration: 62600. Train_MSE: 0.0002095146046485752. Test_MSE: 0.00012810453081893872\n",
      "Epoch: 661 Iteration: 62800. Train_MSE: 0.0002475735091138631. Test_MSE: 0.00012783000756787883\n",
      "Epoch: 663 Iteration: 63000. Train_MSE: 0.00023076345678418875. Test_MSE: 0.0001276494170938807\n",
      "Epoch: 665 Iteration: 63200. Train_MSE: 0.00040090526454150677. Test_MSE: 0.00012739254196926056\n",
      "Epoch: 667 Iteration: 63400. Train_MSE: 0.0035480731166899204. Test_MSE: 0.0001273917090471723\n",
      "Epoch: 669 Iteration: 63600. Train_MSE: 0.00021965548512525856. Test_MSE: 0.00012712807137169624\n",
      "Epoch: 671 Iteration: 63800. Train_MSE: 0.00010982465755660087. Test_MSE: 0.00012693052265469587\n",
      "Epoch: 673 Iteration: 64000. Train_MSE: 0.0006083822809159756. Test_MSE: 0.00012686432791934857\n",
      "Epoch: 675 Iteration: 64200. Train_MSE: 0.0030800532549619675. Test_MSE: 0.0001267367684916672\n",
      "Epoch: 677 Iteration: 64400. Train_MSE: 0.00028536460013128817. Test_MSE: 0.0001268333539105731\n",
      "Epoch: 680 Iteration: 64600. Train_MSE: 0.0002855487400665879. Test_MSE: 0.00012642079903516477\n",
      "Epoch: 682 Iteration: 64800. Train_MSE: 0.00015989090024959296. Test_MSE: 0.00012635080421228442\n",
      "Epoch: 684 Iteration: 65000. Train_MSE: 0.0006552139529958367. Test_MSE: 0.0001261509508944073\n",
      "Epoch: 686 Iteration: 65200. Train_MSE: 0.00024925978505052626. Test_MSE: 0.00012602662059082613\n",
      "Epoch: 688 Iteration: 65400. Train_MSE: 0.00011536040983628482. Test_MSE: 0.0001258869905508626\n",
      "Epoch: 690 Iteration: 65600. Train_MSE: 0.0002209785598097369. Test_MSE: 0.00012576497259967346\n",
      "Epoch: 692 Iteration: 65800. Train_MSE: 0.00019148559658788145. Test_MSE: 0.00012538898282519096\n",
      "Epoch: 694 Iteration: 66000. Train_MSE: 0.00029018305940553546. Test_MSE: 0.0001253416274052814\n",
      "Epoch: 696 Iteration: 66200. Train_MSE: 0.00041356158908456564. Test_MSE: 0.00012541197999461527\n",
      "Epoch: 698 Iteration: 66400. Train_MSE: 0.00019666460866574198. Test_MSE: 0.00012526833119059895\n",
      "Epoch: 701 Iteration: 66600. Train_MSE: 0.00023944515851326287. Test_MSE: 0.000125000688119372\n",
      "Epoch: 703 Iteration: 66800. Train_MSE: 0.00022458084276877344. Test_MSE: 0.00012483236163403716\n",
      "Epoch: 705 Iteration: 67000. Train_MSE: 0.0003966779913753271. Test_MSE: 0.00012458331163853548\n",
      "Epoch: 707 Iteration: 67200. Train_MSE: 0.00354692991822958. Test_MSE: 0.00012458663931107366\n",
      "Epoch: 709 Iteration: 67400. Train_MSE: 0.00021085154730826616. Test_MSE: 0.00012434302193504003\n",
      "Epoch: 711 Iteration: 67600. Train_MSE: 0.00010583426046650857. Test_MSE: 0.00012415316581589002\n",
      "Epoch: 713 Iteration: 67800. Train_MSE: 0.0005973658990114927. Test_MSE: 0.00012410513120231223\n",
      "Epoch: 715 Iteration: 68000. Train_MSE: 0.003060045186430216. Test_MSE: 0.00012398010642745744\n",
      "Epoch: 717 Iteration: 68200. Train_MSE: 0.00028208119329065084. Test_MSE: 0.0001240780802721397\n",
      "Epoch: 720 Iteration: 68400. Train_MSE: 0.00027052333462052047. Test_MSE: 0.00012368535771606261\n",
      "Epoch: 722 Iteration: 68600. Train_MSE: 0.00015291049203369766. Test_MSE: 0.00012362115292975518\n",
      "Epoch: 724 Iteration: 68800. Train_MSE: 0.0006475074333138764. Test_MSE: 0.0001234349881703452\n",
      "Epoch: 726 Iteration: 69000. Train_MSE: 0.00024614075664430857. Test_MSE: 0.0001233083496698798\n"
     ]
    },
    {
     "name": "stdout",
     "output_type": "stream",
     "text": [
      "Epoch: 728 Iteration: 69200. Train_MSE: 0.00010911999561358243. Test_MSE: 0.00012318548794628697\n",
      "Epoch: 730 Iteration: 69400. Train_MSE: 0.00021242383809294552. Test_MSE: 0.00012307176598583738\n",
      "Epoch: 732 Iteration: 69600. Train_MSE: 0.00018408335745334625. Test_MSE: 0.00012271578821299915\n",
      "Epoch: 734 Iteration: 69800. Train_MSE: 0.00028543570078909397. Test_MSE: 0.00012268175903348827\n",
      "Epoch: 736 Iteration: 70000. Train_MSE: 0.00041037629125639796. Test_MSE: 0.00012274630699712013\n",
      "Epoch: 738 Iteration: 70200. Train_MSE: 0.00018506840569898486. Test_MSE: 0.00012262139872716351\n",
      "Epoch: 741 Iteration: 70400. Train_MSE: 0.0002319767518201843. Test_MSE: 0.00012235919600368745\n",
      "Epoch: 743 Iteration: 70600. Train_MSE: 0.00021902962180320174. Test_MSE: 0.00012220180031096418\n",
      "Epoch: 745 Iteration: 70800. Train_MSE: 0.00039285593084059656. Test_MSE: 0.00012195900595929441\n",
      "Epoch: 747 Iteration: 71000. Train_MSE: 0.0035461466759443283. Test_MSE: 0.00012196577955839673\n",
      "Epoch: 749 Iteration: 71200. Train_MSE: 0.0002026456786552444. Test_MSE: 0.0001217406697159026\n",
      "Epoch: 751 Iteration: 71400. Train_MSE: 0.00010234067303827032. Test_MSE: 0.00012155796604635721\n",
      "Epoch: 753 Iteration: 71600. Train_MSE: 0.0005872743204236031. Test_MSE: 0.00012152692432112162\n",
      "Epoch: 755 Iteration: 71800. Train_MSE: 0.0030414878856390715. Test_MSE: 0.00012140455092293564\n",
      "Epoch: 757 Iteration: 72000. Train_MSE: 0.00027894965023733675. Test_MSE: 0.00012150448927597077\n",
      "Epoch: 760 Iteration: 72200. Train_MSE: 0.0002567544870544225. Test_MSE: 0.00012112965351168849\n",
      "Epoch: 762 Iteration: 72400. Train_MSE: 0.0001465956593165174. Test_MSE: 0.00012107001556195922\n",
      "Epoch: 764 Iteration: 72600. Train_MSE: 0.0006405109306797385. Test_MSE: 0.00012089653616227895\n",
      "Epoch: 766 Iteration: 72800. Train_MSE: 0.0002434463967802003. Test_MSE: 0.00012076820229972277\n",
      "Epoch: 768 Iteration: 73000. Train_MSE: 0.00010355378617532551. Test_MSE: 0.00012066003506617201\n",
      "Epoch: 770 Iteration: 73200. Train_MSE: 0.0002044870489044115. Test_MSE: 0.00012055373860110012\n",
      "Epoch: 772 Iteration: 73400. Train_MSE: 0.00017744921206030995. Test_MSE: 0.00012021568191459761\n",
      "Epoch: 774 Iteration: 73600. Train_MSE: 0.0002813976025208831. Test_MSE: 0.00012019344982566351\n",
      "Epoch: 776 Iteration: 73800. Train_MSE: 0.00040749486652202904. Test_MSE: 0.00012025222414922453\n",
      "Epoch: 778 Iteration: 74000. Train_MSE: 0.00017451017629355192. Test_MSE: 0.00012014424213511957\n",
      "Epoch: 781 Iteration: 74200. Train_MSE: 0.00022505498782265931. Test_MSE: 0.00011988716035727699\n",
      "Epoch: 783 Iteration: 74400. Train_MSE: 0.0002140783763024956. Test_MSE: 0.00011974032695866861\n",
      "Epoch: 785 Iteration: 74600. Train_MSE: 0.000389349355828017. Test_MSE: 0.00011950467071878804\n",
      "Epoch: 787 Iteration: 74800. Train_MSE: 0.0035466060508042574. Test_MSE: 0.00011951530597081452\n",
      "Epoch: 789 Iteration: 75000. Train_MSE: 0.00019498038454912603. Test_MSE: 0.00011930785237115925\n",
      "Epoch: 791 Iteration: 75200. Train_MSE: 9.928031067829579e-05. Test_MSE: 0.00011913057271468533\n",
      "Epoch: 793 Iteration: 75400. Train_MSE: 0.0005780926439911127. Test_MSE: 0.00011911306312196325\n",
      "Epoch: 795 Iteration: 75600. Train_MSE: 0.0030243429355323315. Test_MSE: 0.00011899051300257057\n",
      "Epoch: 797 Iteration: 75800. Train_MSE: 0.0002760248025879264. Test_MSE: 0.00011908919324853207\n",
      "Epoch: 800 Iteration: 76000. Train_MSE: 0.0002441935648676008. Test_MSE: 0.00011872916491552027\n",
      "Epoch: 802 Iteration: 76200. Train_MSE: 0.00014100573025643826. Test_MSE: 0.00011867096469310585\n",
      "Epoch: 804 Iteration: 76400. Train_MSE: 0.0006341918488033116. Test_MSE: 0.00011850502518373494\n",
      "Epoch: 806 Iteration: 76600. Train_MSE: 0.0002411210589343682. Test_MSE: 0.00011837199211893718\n",
      "Epoch: 808 Iteration: 76800. Train_MSE: 9.869461791822687e-05. Test_MSE: 0.0001182755522687983\n",
      "Epoch: 810 Iteration: 77000. Train_MSE: 0.00019713750225491822. Test_MSE: 0.00011817342198791005\n",
      "Epoch: 812 Iteration: 77200. Train_MSE: 0.00017152349755633622. Test_MSE: 0.00011784931083789392\n",
      "Epoch: 814 Iteration: 77400. Train_MSE: 0.00027777624200098217. Test_MSE: 0.00011783431876176886\n",
      "Epoch: 816 Iteration: 77600. Train_MSE: 0.00040492601692676544. Test_MSE: 0.00011788446495414142\n",
      "Epoch: 818 Iteration: 77800. Train_MSE: 0.000165001634741202. Test_MSE: 0.00011778936969119077\n",
      "Epoch: 821 Iteration: 78000. Train_MSE: 0.00021860886772628874. Test_MSE: 0.00011753367584910808\n",
      "Epoch: 823 Iteration: 78200. Train_MSE: 0.00020960815891157836. Test_MSE: 0.00011739170444313643\n",
      "Epoch: 825 Iteration: 78400. Train_MSE: 0.0003861405421048403. Test_MSE: 0.00011715884772136815\n",
      "Epoch: 827 Iteration: 78600. Train_MSE: 0.003547247964888811. Test_MSE: 0.00011717031040505938\n",
      "Epoch: 829 Iteration: 78800. Train_MSE: 0.00018781813560053706. Test_MSE: 0.00011697560302331036\n",
      "Epoch: 831 Iteration: 79000. Train_MSE: 9.65722429100424e-05. Test_MSE: 0.00011680231066636107\n",
      "Epoch: 833 Iteration: 79200. Train_MSE: 0.0005696138250641525. Test_MSE: 0.00011679793710201449\n",
      "Epoch: 835 Iteration: 79400. Train_MSE: 0.0030082636512815952. Test_MSE: 0.00011667701521687379\n",
      "Epoch: 837 Iteration: 79600. Train_MSE: 0.00027329789008945227. Test_MSE: 0.00011677752064245857\n",
      "Epoch: 840 Iteration: 79800. Train_MSE: 0.0002326702669961378. Test_MSE: 0.00011643157253964479\n",
      "Epoch: 842 Iteration: 80000. Train_MSE: 0.00013593827316071838. Test_MSE: 0.00011637559684402338\n",
      "Epoch: 844 Iteration: 80200. Train_MSE: 0.0006283629918470979. Test_MSE: 0.00011621858843092819\n",
      "Epoch: 846 Iteration: 80400. Train_MSE: 0.00023904634872451425. Test_MSE: 0.00011608290898313814\n",
      "Epoch: 848 Iteration: 80600. Train_MSE: 9.451393998460844e-05. Test_MSE: 0.00011599860779823134\n",
      "Epoch: 850 Iteration: 80800. Train_MSE: 0.0001902500371215865. Test_MSE: 0.00011589946067634256\n",
      "Epoch: 852 Iteration: 81000. Train_MSE: 0.00016624586714897305. Test_MSE: 0.00011558842864664793\n",
      "Epoch: 854 Iteration: 81200. Train_MSE: 0.00027441210113465786. Test_MSE: 0.00011558226491105131\n",
      "Epoch: 856 Iteration: 81400. Train_MSE: 0.00040267250733450055. Test_MSE: 0.00011562666269292067\n",
      "Epoch: 858 Iteration: 81600. Train_MSE: 0.00015641491336282343. Test_MSE: 0.00011554511160650287\n",
      "Epoch: 861 Iteration: 81800. Train_MSE: 0.0002127590705640614. Test_MSE: 0.00011529092887690179\n",
      "Epoch: 863 Iteration: 82000. Train_MSE: 0.0002055130898952484. Test_MSE: 0.00011515481459695544\n",
      "Epoch: 865 Iteration: 82200. Train_MSE: 0.0003832065558526665. Test_MSE: 0.00011492541196648499\n",
      "Epoch: 867 Iteration: 82400. Train_MSE: 0.003547960426658392. Test_MSE: 0.00011493877229250919\n",
      "Epoch: 869 Iteration: 82600. Train_MSE: 0.00018113810801878572. Test_MSE: 0.00011475602452147534\n",
      "Epoch: 871 Iteration: 82800. Train_MSE: 9.41490288823843e-05. Test_MSE: 0.00011458514979306245\n",
      "Epoch: 873 Iteration: 83000. Train_MSE: 0.0005617118440568447. Test_MSE: 0.00011459198226669313\n",
      "Epoch: 875 Iteration: 83200. Train_MSE: 0.002993182046338916. Test_MSE: 0.00011447130568039409\n",
      "Epoch: 877 Iteration: 83400. Train_MSE: 0.0002708244719542563. Test_MSE: 0.00011457266773651333\n",
      "Epoch: 880 Iteration: 83600. Train_MSE: 0.0002221025206381455. Test_MSE: 0.00011423964815388064\n",
      "Epoch: 882 Iteration: 83800. Train_MSE: 0.00013135767949279398. Test_MSE: 0.00011418461576639578\n",
      "Epoch: 884 Iteration: 84000. Train_MSE: 0.0006230365252122283. Test_MSE: 0.00011403566370840384\n",
      "Epoch: 886 Iteration: 84200. Train_MSE: 0.000237189611652866. Test_MSE: 0.0001138972042293605\n",
      "Epoch: 888 Iteration: 84400. Train_MSE: 9.086745558306575e-05. Test_MSE: 0.00011382453547089878\n",
      "Epoch: 890 Iteration: 84600. Train_MSE: 0.0001838023163145408. Test_MSE: 0.00011372953084447659\n",
      "Epoch: 892 Iteration: 84800. Train_MSE: 0.0001614797511138022. Test_MSE: 0.00011343109788263138\n",
      "Epoch: 894 Iteration: 85000. Train_MSE: 0.00027130558737553656. Test_MSE: 0.00011343345649722856\n",
      "Epoch: 896 Iteration: 85200. Train_MSE: 0.00040064382483251393. Test_MSE: 0.00011347240329595945\n",
      "Epoch: 898 Iteration: 85400. Train_MSE: 0.00014854369510430843. Test_MSE: 0.00011340406051337026\n",
      "Epoch: 901 Iteration: 85600. Train_MSE: 0.00020726598449982703. Test_MSE: 0.00011315200079724762\n",
      "Epoch: 903 Iteration: 85800. Train_MSE: 0.0002017860097112134. Test_MSE: 0.00011302200155959241\n",
      "Epoch: 905 Iteration: 86000. Train_MSE: 0.0003803481813520193. Test_MSE: 0.00011279691577921548\n",
      "Epoch: 907 Iteration: 86200. Train_MSE: 0.0035488170105963945. Test_MSE: 0.00011281288633904795\n"
     ]
    },
    {
     "name": "stdout",
     "output_type": "stream",
     "text": [
      "Epoch: 909 Iteration: 86400. Train_MSE: 0.0001749241928337142. Test_MSE: 0.0001126429900032378\n",
      "Epoch: 911 Iteration: 86600. Train_MSE: 9.194156882585958e-05. Test_MSE: 0.0001124755594015487\n",
      "Epoch: 913 Iteration: 86800. Train_MSE: 0.0005542532890103757. Test_MSE: 0.00011249296350164502\n",
      "Epoch: 915 Iteration: 87000. Train_MSE: 0.0029788773972541094. Test_MSE: 0.00011237214048376817\n",
      "Epoch: 917 Iteration: 87200. Train_MSE: 0.0002685431099962443. Test_MSE: 0.00011247326830122926\n",
      "Epoch: 920 Iteration: 87400. Train_MSE: 0.00021243715309537947. Test_MSE: 0.00011215107578342248\n",
      "Epoch: 922 Iteration: 87600. Train_MSE: 0.00012721138773486018. Test_MSE: 0.00011209595446968472\n",
      "Epoch: 924 Iteration: 87800. Train_MSE: 0.0006184277008287609. Test_MSE: 0.0001119539926171645\n",
      "Epoch: 926 Iteration: 88000. Train_MSE: 0.0002354812022531405. Test_MSE: 0.0001118121182718872\n",
      "Epoch: 928 Iteration: 88200. Train_MSE: 8.767643157625571e-05. Test_MSE: 0.00011174935259330426\n",
      "Epoch: 930 Iteration: 88400. Train_MSE: 0.00017778387700673193. Test_MSE: 0.00011165662108240941\n",
      "Epoch: 932 Iteration: 88600. Train_MSE: 0.00015718245413154364. Test_MSE: 0.00011136894309328986\n",
      "Epoch: 934 Iteration: 88800. Train_MSE: 0.0002683374041225761. Test_MSE: 0.00011137762306617049\n",
      "Epoch: 936 Iteration: 89000. Train_MSE: 0.0003988263779319823. Test_MSE: 0.00011141044841119911\n",
      "Epoch: 938 Iteration: 89200. Train_MSE: 0.00014127398026175797. Test_MSE: 0.00011135322827354002\n",
      "Epoch: 941 Iteration: 89400. Train_MSE: 0.00020203806343488395. Test_MSE: 0.00011110170715558803\n",
      "Epoch: 943 Iteration: 89600. Train_MSE: 0.00019838594016619027. Test_MSE: 0.00011097604698216026\n",
      "Epoch: 945 Iteration: 89800. Train_MSE: 0.00037767470348626375. Test_MSE: 0.00011075343430565447\n",
      "Epoch: 947 Iteration: 90000. Train_MSE: 0.003549800021573901. Test_MSE: 0.0001107704110811581\n",
      "Epoch: 949 Iteration: 90200. Train_MSE: 0.00016907161625567824. Test_MSE: 0.00011061113695922878\n",
      "Epoch: 951 Iteration: 90400. Train_MSE: 8.995604002848268e-05. Test_MSE: 0.00011044514500723986\n",
      "Epoch: 953 Iteration: 90600. Train_MSE: 0.0005472936318255961. Test_MSE: 0.00011047166134109646\n",
      "Epoch: 955 Iteration: 90800. Train_MSE: 0.0029652530793100595. Test_MSE: 0.00011035128319628114\n",
      "Epoch: 957 Iteration: 91000. Train_MSE: 0.0002664166095200926. Test_MSE: 0.00011045295407527406\n",
      "Epoch: 960 Iteration: 91200. Train_MSE: 0.00020348478574305773. Test_MSE: 0.0001101419692688685\n",
      "Epoch: 962 Iteration: 91400. Train_MSE: 0.00012344602146185935. Test_MSE: 0.00011008731529998658\n",
      "Epoch: 964 Iteration: 91600. Train_MSE: 0.0006142263300716877. Test_MSE: 0.00010995160066746731\n",
      "Epoch: 966 Iteration: 91800. Train_MSE: 0.00023395154858008027. Test_MSE: 0.00010980645587685074\n",
      "Epoch: 968 Iteration: 92000. Train_MSE: 8.486653678119183e-05. Test_MSE: 0.00010975273283096428\n",
      "Epoch: 970 Iteration: 92200. Train_MSE: 0.0001721159933367744. Test_MSE: 0.00010966133668528385\n",
      "Epoch: 972 Iteration: 92400. Train_MSE: 0.00015324207197409123. Test_MSE: 0.00010938278564614381\n",
      "Epoch: 974 Iteration: 92600. Train_MSE: 0.0002655656717251986. Test_MSE: 0.00010939728706140261\n",
      "Epoch: 976 Iteration: 92800. Train_MSE: 0.00039718818152323365. Test_MSE: 0.00010942457679618559\n",
      "Epoch: 978 Iteration: 93000. Train_MSE: 0.00013453868450596929. Test_MSE: 0.00010937797682122847\n",
      "Epoch: 981 Iteration: 93200. Train_MSE: 0.00019704998703673482. Test_MSE: 0.00010912695223392693\n",
      "Epoch: 983 Iteration: 93400. Train_MSE: 0.00019529661221895367. Test_MSE: 0.00010900536720937103\n",
      "Epoch: 985 Iteration: 93600. Train_MSE: 0.0003750771575141698. Test_MSE: 0.00010878542067951795\n",
      "Epoch: 987 Iteration: 93800. Train_MSE: 0.0035507730208337307. Test_MSE: 0.00010880365885836941\n",
      "Epoch: 989 Iteration: 94000. Train_MSE: 0.0001635314110899344. Test_MSE: 0.00010865406145796168\n",
      "Epoch: 991 Iteration: 94200. Train_MSE: 8.816764602670446e-05. Test_MSE: 0.00010848957763978823\n",
      "Epoch: 993 Iteration: 94400. Train_MSE: 0.0005407168064266443. Test_MSE: 0.00010852497361035552\n",
      "Epoch: 995 Iteration: 94600. Train_MSE: 0.00295230932533741. Test_MSE: 0.0001084045591817115\n",
      "Epoch: 997 Iteration: 94800. Train_MSE: 0.0002644174383021891. Test_MSE: 0.00010850638823648126\n"
     ]
    }
   ],
   "source": [
    "# Training the model\n",
    "seq_dim = 1\n",
    "\n",
    "n_iter =0\n",
    "num_samples = len(X_train)\n",
    "test_samples = len(X_test)\n",
    "batch_size = 100\n",
    "num_epochs = 1000\n",
    "feat_dim = X_train.shape[1]\n",
    "\n",
    "X_train = X_train.type(torch.FloatTensor)\n",
    "y_train = y_train.type(torch.FloatTensor)\n",
    "X_test = X_test.type(torch.FloatTensor)\n",
    "y_test = y_test.type(torch.FloatTensor)\n",
    "\n",
    "for epoch in range(num_epochs):\n",
    "    for i in range(0, int(num_samples/batch_size -1)):\n",
    "        \n",
    "        \n",
    "        features = Variable(X_train[i*batch_size:(i+1)*batch_size, :]).view(-1, seq_dim, feat_dim)\n",
    "        Kt_value = Variable(y_train[i*batch_size:(i+1)*batch_size])\n",
    "        \n",
    "        #print(\"Kt_value={}\".format(Kt_value))\n",
    "        \n",
    "        optimizer.zero_grad()\n",
    "        \n",
    "        outputs = model(features)\n",
    "        #print(\"outputs ={}\".format(outputs))\n",
    "        \n",
    "        loss = criterion(outputs, Kt_value)\n",
    "        \n",
    "        train_loss.append(loss.data[0])\n",
    "        train_iter.append(n_iter)\n",
    "\n",
    "        #print(\"loss = {}\".format(loss))\n",
    "        loss.backward()\n",
    "        \n",
    "        optimizer.step()\n",
    "        \n",
    "         \n",
    "            \n",
    "        if n_iter%200 == 0:\n",
    "            for i in range(0,int(test_samples/batch_size -1)):\n",
    "                features = Variable(X_test[i*batch_size:(i+1)*batch_size, :]).view(-1, seq_dim, feat_dim)\n",
    "                Kt_test = Variable(y_test[i*batch_size:(i+1)*batch_size])\n",
    "                \n",
    "                outputs = model(features)\n",
    "                \n",
    "                mse = np.sqrt(np.mean((Kt_test.data.numpy() - outputs.data.numpy().squeeze())**2)/num_samples)\n",
    "                \n",
    "                test_iter.append(n_iter)\n",
    "                test_loss.append(mse)\n",
    "                \n",
    "            print('Epoch: {} Iteration: {}. Train_MSE: {}. Test_MSE: {}'.format(epoch, n_iter, loss.data[0], mse))\n",
    "        \n",
    "        n_iter += 1 \n",
    "               "
   ]
  },
  {
   "cell_type": "code",
   "execution_count": 78,
   "metadata": {},
   "outputs": [
    {
     "name": "stdout",
     "output_type": "stream",
     "text": [
      "19000\n"
     ]
    },
    {
     "data": {
      "text/plain": [
       "[<matplotlib.lines.Line2D at 0x169cb3c8>]"
      ]
     },
     "execution_count": 78,
     "metadata": {},
     "output_type": "execute_result"
    },
    {
     "data": {
      "image/png": "[encoded data removed]",
      "text/plain": [
       "<Figure size 432x288 with 1 Axes>"
      ]
     },
     "metadata": {},
     "output_type": "display_data"
    }
   ],
   "source": [
    "print(len(test_loss))\n",
    "#plt.plot(test_loss)\n",
    "plt.plot(train_loss,'-')\n",
    "#plt.ylim([0.000,0.99])\n"
   ]
  },
  {
   "cell_type": "code",
   "execution_count": 79,
   "metadata": {},
   "outputs": [
    {
     "data": {
      "text/plain": [
       "[<matplotlib.lines.Line2D at 0xcf19940>]"
      ]
     },
     "execution_count": 79,
     "metadata": {},
     "output_type": "execute_result"
    },
    {
     "data": {
      "image/png": "[encoded data removed]",
      "text/plain": [
       "<Figure size 432x288 with 1 Axes>"
      ]
     },
     "metadata": {},
     "output_type": "display_data"
    }
   ],
   "source": [
    "plt.plot(test_loss,'r')"
   ]
  },
  {
   "cell_type": "markdown",
   "metadata": {
    "collapsed": true
   },
   "source": [
    "#### Demornamization"
   ]
  },
  {
   "cell_type": "code",
   "execution_count": 80,
   "metadata": {},
   "outputs": [],
   "source": [
    "rmse = np.sqrt(mse)"
   ]
  },
  {
   "cell_type": "code",
   "execution_count": 81,
   "metadata": {},
   "outputs": [],
   "source": [
    "rmse_denorm = (rmse * (df_new_test['Kt'].max() - df_new_test['Kt'].min()))+ df_new_test['Kt'].mean()"
   ]
  },
  {
   "cell_type": "code",
   "execution_count": 82,
   "metadata": {},
   "outputs": [
    {
     "data": {
      "text/plain": [
       "17.810984861107954"
      ]
     },
     "execution_count": 82,
     "metadata": {},
     "output_type": "execute_result"
    }
   ],
   "source": [
    "rmse_denorm"
   ]
  },
  {
   "cell_type": "code",
   "execution_count": 83,
   "metadata": {},
   "outputs": [
    {
     "data": {
      "text/plain": [
       "count    4001.000000\n",
       "mean        5.870793\n",
       "std        30.554212\n",
       "min        -0.030773\n",
       "25%        -0.007258\n",
       "50%         0.166769\n",
       "75%         1.241848\n",
       "max      1146.230573\n",
       "Name: Kt, dtype: float64"
      ]
     },
     "execution_count": 83,
     "metadata": {},
     "output_type": "execute_result"
    }
   ],
   "source": [
    "df_new_test['Kt'].describe()"
   ]
  },
  {
   "cell_type": "markdown",
   "metadata": {
    "collapsed": true
   },
   "source": [
    "### Saving train and test losses to a csv"
   ]
  },
  {
   "cell_type": "code",
   "execution_count": 84,
   "metadata": {},
   "outputs": [],
   "source": [
    "df_trainLoss = pd.DataFrame(data={'Train Loss':train_loss, 'iteration':train_iter}, columns=['Train Loss','iteration'])\n",
    "df_trainLoss.to_csv('RNN Paper Results/Exp1_Bondville_TrainLoss.csv')\n",
    "df_testLoss = pd.DataFrame(data={'Test Loss':test_loss,'iteration':test_iter}, columns=['Test Loss','iteration'])\n",
    "df_testLoss.to_csv('RNN Paper Results/Exp1_Bondville_TestLoss.csv')"
   ]
  },
  {
   "cell_type": "code",
   "execution_count": null,
   "metadata": {},
   "outputs": [],
   "source": []
  }
 ],
 "metadata": {
  "anaconda-cloud": {},
  "kernelspec": {
   "display_name": "Python 3",
   "language": "python",
   "name": "python3"
  },
  "language_info": {
   "codemirror_mode": {
    "name": "ipython",
    "version": 3
   },
   "file_extension": ".py",
   "mimetype": "text/x-python",
   "name": "python",
   "nbconvert_exporter": "python",
   "pygments_lexer": "ipython3",
   "version": "3.6.1"
  }
 },
 "nbformat": 4,
 "nbformat_minor": 2
}
