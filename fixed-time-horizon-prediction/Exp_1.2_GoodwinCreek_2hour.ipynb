{
 "cells": [
  {
   "cell_type": "code",
   "execution_count": 1,
   "metadata": {},
   "outputs": [],
   "source": [
    "import numpy as np\n",
    "import pandas as pd\n",
    "import datetime\n",
    "import glob\n",
    "import os.path\n",
    "from pandas.compat import StringIO"
   ]
  },
  {
   "cell_type": "markdown",
   "metadata": {},
   "source": [
    "### NREL Bird Model implementation: for obtaining clear sky GHI"
   ]
  },
  {
   "cell_type": "code",
   "execution_count": 2,
   "metadata": {},
   "outputs": [],
   "source": [
    "import itertools\n",
    "import matplotlib.pyplot as plt\n",
    "import pandas as pd\n",
    "import seaborn as sns"
   ]
  },
  {
   "cell_type": "code",
   "execution_count": 3,
   "metadata": {},
   "outputs": [],
   "source": [
    "%matplotlib inline\n",
    "sns.set_color_codes()"
   ]
  },
  {
   "cell_type": "code",
   "execution_count": 4,
   "metadata": {},
   "outputs": [],
   "source": [
    "import pvlib\n",
    "from pvlib import clearsky, atmosphere\n",
    "from pvlib.location import Location"
   ]
  },
  {
   "cell_type": "code",
   "execution_count": 5,
   "metadata": {},
   "outputs": [],
   "source": [
    "gwc = Location(34.2487,-89.8925, 'US/Central', 98, 'Goodwin Creek')"
   ]
  },
  {
   "cell_type": "code",
   "execution_count": 6,
   "metadata": {},
   "outputs": [],
   "source": [
    "times2009 = pd.DatetimeIndex(start='2009-01-01', end='2010-01-01', freq='1min',\n",
    "                        tz=gwc.tz)   # 12 months of 2009 - For testing\n",
    "times2010and2011 = pd.DatetimeIndex(start='2010-01-01', end='2012-01-01', freq='1min',\n",
    "                        tz=gwc.tz)   # 24 months of 2010 and 2011 - For training"
   ]
  },
  {
   "cell_type": "code",
   "execution_count": 7,
   "metadata": {},
   "outputs": [],
   "source": [
    "cs_2009 = gwc.get_clearsky(times2009) \n",
    "cs_2010and2011 = gwc.get_clearsky(times2010and2011) # ineichen with climatology table by default\n",
    "#cs_2011 = bvl.get_clearsky(times2011) "
   ]
  },
  {
   "cell_type": "code",
   "execution_count": 8,
   "metadata": {},
   "outputs": [],
   "source": [
    "cs_2009.drop(['dni','dhi'],axis=1, inplace=True) #updating the same dataframe by dropping two columns\n",
    "cs_2010and2011.drop(['dni','dhi'],axis=1, inplace=True) #updating the same dataframe by dropping two columns\n",
    "#cs_2011.drop(['dni','dhi'],axis=1, inplace=True) #updating the same dataframe by dropping two columns"
   ]
  },
  {
   "cell_type": "code",
   "execution_count": 9,
   "metadata": {},
   "outputs": [],
   "source": [
    "cs_2009.reset_index(inplace=True)\n",
    "cs_2010and2011.reset_index(inplace=True)\n",
    "#cs_2011.reset_index(inplace=True)"
   ]
  },
  {
   "cell_type": "code",
   "execution_count": 10,
   "metadata": {},
   "outputs": [],
   "source": [
    "cs_2009['index']=cs_2009['index'].apply(lambda x:x.to_datetime())\n",
    "cs_2009['year'] = cs_2009['index'].apply(lambda x:x.year)\n",
    "cs_2009['month'] = cs_2009['index'].apply(lambda x:x.month)\n",
    "cs_2009['day'] = cs_2009['index'].apply(lambda x:x.day)\n",
    "cs_2009['hour'] = cs_2009['index'].apply(lambda x:x.hour)\n",
    "cs_2009['min'] = cs_2009['index'].apply(lambda x:x.minute)"
   ]
  },
  {
   "cell_type": "code",
   "execution_count": 11,
   "metadata": {},
   "outputs": [],
   "source": [
    "cs_2010and2011['index']=cs_2010and2011['index'].apply(lambda x:x.to_datetime())\n",
    "cs_2010and2011['year'] = cs_2010and2011['index'].apply(lambda x:x.year)\n",
    "cs_2010and2011['month'] = cs_2010and2011['index'].apply(lambda x:x.month)\n",
    "cs_2010and2011['day'] = cs_2010and2011['index'].apply(lambda x:x.day)\n",
    "cs_2010and2011['hour'] = cs_2010and2011['index'].apply(lambda x:x.hour)\n",
    "cs_2010and2011['min'] = cs_2010and2011['index'].apply(lambda x:x.minute)"
   ]
  },
  {
   "cell_type": "code",
   "execution_count": 12,
   "metadata": {},
   "outputs": [
    {
     "name": "stdout",
     "output_type": "stream",
     "text": [
      "(525601, 7)\n",
      "(1051201, 7)\n"
     ]
    }
   ],
   "source": [
    "print(cs_2009.shape)\n",
    "print(cs_2010and2011.shape)\n",
    "#print(cs_2011.shape)"
   ]
  },
  {
   "cell_type": "code",
   "execution_count": 13,
   "metadata": {},
   "outputs": [],
   "source": [
    "cs_2009.drop(cs_2009.index[-1], inplace=True)\n",
    "cs_2010and2011.drop(cs_2010and2011.index[-1], inplace=True)\n",
    "#cs_2011.drop(cs_2011.index[-1], inplace=True)"
   ]
  },
  {
   "cell_type": "code",
   "execution_count": 14,
   "metadata": {},
   "outputs": [
    {
     "name": "stdout",
     "output_type": "stream",
     "text": [
      "(525600, 7)\n",
      "(1051200, 7)\n"
     ]
    }
   ],
   "source": [
    "print(cs_2009.shape)\n",
    "print(cs_2010and2011.shape)\n",
    "#print(cs_2011.shape)"
   ]
  },
  {
   "cell_type": "code",
   "execution_count": 15,
   "metadata": {},
   "outputs": [
    {
     "data": {
      "text/html": [
       "<div>\n",
       "<style scoped>\n",
       "    .dataframe tbody tr th:only-of-type {\n",
       "        vertical-align: middle;\n",
       "    }\n",
       "\n",
       "    .dataframe tbody tr th {\n",
       "        vertical-align: top;\n",
       "    }\n",
       "\n",
       "    .dataframe thead th {\n",
       "        text-align: right;\n",
       "    }\n",
       "</style>\n",
       "<table border=\"1\" class=\"dataframe\">\n",
       "  <thead>\n",
       "    <tr style=\"text-align: right;\">\n",
       "      <th></th>\n",
       "      <th>index</th>\n",
       "      <th>ghi</th>\n",
       "      <th>year</th>\n",
       "      <th>month</th>\n",
       "      <th>day</th>\n",
       "      <th>hour</th>\n",
       "      <th>min</th>\n",
       "    </tr>\n",
       "  </thead>\n",
       "  <tbody>\n",
       "    <tr>\n",
       "      <th>0</th>\n",
       "      <td>2010-01-01 00:00:00-06:00</td>\n",
       "      <td>0.0</td>\n",
       "      <td>2010</td>\n",
       "      <td>1</td>\n",
       "      <td>1</td>\n",
       "      <td>0</td>\n",
       "      <td>0</td>\n",
       "    </tr>\n",
       "    <tr>\n",
       "      <th>1</th>\n",
       "      <td>2010-01-01 00:01:00-06:00</td>\n",
       "      <td>0.0</td>\n",
       "      <td>2010</td>\n",
       "      <td>1</td>\n",
       "      <td>1</td>\n",
       "      <td>0</td>\n",
       "      <td>1</td>\n",
       "    </tr>\n",
       "    <tr>\n",
       "      <th>2</th>\n",
       "      <td>2010-01-01 00:02:00-06:00</td>\n",
       "      <td>0.0</td>\n",
       "      <td>2010</td>\n",
       "      <td>1</td>\n",
       "      <td>1</td>\n",
       "      <td>0</td>\n",
       "      <td>2</td>\n",
       "    </tr>\n",
       "    <tr>\n",
       "      <th>3</th>\n",
       "      <td>2010-01-01 00:03:00-06:00</td>\n",
       "      <td>0.0</td>\n",
       "      <td>2010</td>\n",
       "      <td>1</td>\n",
       "      <td>1</td>\n",
       "      <td>0</td>\n",
       "      <td>3</td>\n",
       "    </tr>\n",
       "    <tr>\n",
       "      <th>4</th>\n",
       "      <td>2010-01-01 00:04:00-06:00</td>\n",
       "      <td>0.0</td>\n",
       "      <td>2010</td>\n",
       "      <td>1</td>\n",
       "      <td>1</td>\n",
       "      <td>0</td>\n",
       "      <td>4</td>\n",
       "    </tr>\n",
       "  </tbody>\n",
       "</table>\n",
       "</div>"
      ],
      "text/plain": [
       "                      index  ghi  year  month  day  hour  min\n",
       "0 2010-01-01 00:00:00-06:00  0.0  2010      1    1     0    0\n",
       "1 2010-01-01 00:01:00-06:00  0.0  2010      1    1     0    1\n",
       "2 2010-01-01 00:02:00-06:00  0.0  2010      1    1     0    2\n",
       "3 2010-01-01 00:03:00-06:00  0.0  2010      1    1     0    3\n",
       "4 2010-01-01 00:04:00-06:00  0.0  2010      1    1     0    4"
      ]
     },
     "execution_count": 15,
     "metadata": {},
     "output_type": "execute_result"
    }
   ],
   "source": [
    "cs_2010and2011.head()"
   ]
  },
  {
   "cell_type": "markdown",
   "metadata": {},
   "source": [
    "### Import files from each year in a separate dataframe"
   ]
  },
  {
   "cell_type": "markdown",
   "metadata": {
    "collapsed": true
   },
   "source": [
    "\n",
    "- year            integer\t year, i.e., 1995\n",
    "- jday            integer\t Julian day (1 through 365 [or 366])\n",
    "- month           integer\t number of the month (1-12)\n",
    "- day             integer\t day of the month(1-31)\n",
    "- hour            integer\t hour of the day (0-23)\n",
    "- min             integer\t minute of the hour (0-59)\n",
    "- dt              real\t decimal time (hour.decimalminutes, e.g., 23.5 = 2330)\n",
    "- zen             real\t solar zenith angle (degrees)\n",
    "- dw_solar        real\t downwelling global solar (Watts m^-2)\n",
    "- uw_solar        real\t upwelling global solar (Watts m^-2)\n",
    "- direct_n        real\t direct-normal solar (Watts m^-2)\n",
    "- diffuse         real\t downwelling diffuse solar (Watts m^-2)\n",
    "- dw_ir           real\t downwelling thermal infrared (Watts m^-2)\n",
    "- dw_casetemp     real\t downwelling IR case temp. (K)\n",
    "- dw_dometemp     real\t downwelling IR dome temp. (K)\n",
    "- uw_ir           real\t upwelling thermal infrared (Watts m^-2)\n",
    "- uw_casetemp     real\t upwelling IR case temp. (K)\n",
    "- uw_dometemp     real\t upwelling IR dome temp. (K)\n",
    "- uvb             real\t global UVB (milliWatts m^-2)\n",
    "- par             real\t photosynthetically active radiation (Watts m^-2)\n",
    "- netsolar        real\t net solar (dw_solar - uw_solar) (Watts m^-2)\n",
    "- netir           real\t net infrared (dw_ir - uw_ir) (Watts m^-2)\n",
    "- totalnet        real\t net radiation (netsolar+netir) (Watts m^-2)\n",
    "- temp            real\t 10-meter air temperature (?C)\n",
    "- rh              real\t relative humidity (%)\n",
    "- windspd         real\t wind speed (ms^-1)\n",
    "- winddir         real\t wind direction (degrees, clockwise from north)\n",
    "- pressure        real\t station pressure (mb)\n"
   ]
  },
  {
   "cell_type": "code",
   "execution_count": 16,
   "metadata": {},
   "outputs": [],
   "source": [
    "cols = ['year', 'jday', 'month', 'day','hour','min','dt','zen','dw_solar','dw_solar_QC','uw_solar',\n",
    "       'uw_solar_QC', 'direct_n','direct_n_QC','diffuse', 'diffuse_QC', 'dw_ir', 'dw_ir_QC', 'dw_casetemp',\n",
    "       'dw_casetemp_QC', 'dw_dometemp','dw_dometemp_QC','uw_ir', 'uw_ir_QC', 'uw_casetemp','uw_casetemp_QC',\n",
    "       'uw_dometemp','uw_dometemp_QC','uvb','uvb_QC','par','par_QC','netsolar','netsolar_QC','netir','netir_QC',\n",
    "       'totalnet','totalnet_QC','temp','temp_QC','rh','rh_QC','windspd','windspd_QC','winddir','winddir_QC',\n",
    "       'pressure','pressure_QC']"
   ]
  },
  {
   "cell_type": "code",
   "execution_count": 17,
   "metadata": {},
   "outputs": [
    {
     "data": {
      "text/plain": [
       "(1029728, 48)"
      ]
     },
     "execution_count": 17,
     "metadata": {},
     "output_type": "execute_result"
    }
   ],
   "source": [
    "path = r'.\\\\data\\\\Goodwin_Creek\\\\Exp_1_train'\n",
    "all_files = glob.glob(path + \"/*.dat\")\n",
    "all_files.sort()\n",
    "\n",
    "df_big_train = pd.concat([pd.read_csv(f, skipinitialspace = True, quotechar = '\"',skiprows=(2),delimiter=' ', \n",
    "                 index_col=False,header=None, names=cols) for f in all_files],ignore_index=True)\n",
    "df_big_train.shape"
   ]
  },
  {
   "cell_type": "code",
   "execution_count": 18,
   "metadata": {},
   "outputs": [
    {
     "data": {
      "text/plain": [
       "(513149, 48)"
      ]
     },
     "execution_count": 18,
     "metadata": {},
     "output_type": "execute_result"
    }
   ],
   "source": [
    "path = r'.\\\\data\\\\Goodwin_Creek\\\\Exp_1_test'\n",
    "all_files = glob.glob(path + \"/*.dat\")\n",
    "all_files.sort()\n",
    "\n",
    "df_big_test = pd.concat((pd.read_csv(f, skipinitialspace = True, quotechar = '\"',skiprows=(2),delimiter=' ', \n",
    "                 index_col=False,header=None, names=cols) for f in all_files),ignore_index=True)\n",
    "df_big_test.shape"
   ]
  },
  {
   "cell_type": "code",
   "execution_count": 19,
   "metadata": {},
   "outputs": [
    {
     "data": {
      "text/plain": [
       "(1155, 48)"
      ]
     },
     "execution_count": 19,
     "metadata": {},
     "output_type": "execute_result"
    }
   ],
   "source": [
    "df_big_test[df_big_test['dw_solar']==-9999.9].shape"
   ]
  },
  {
   "cell_type": "markdown",
   "metadata": {},
   "source": [
    "### Merging Clear Sky GHI And the big dataframe"
   ]
  },
  {
   "cell_type": "code",
   "execution_count": 20,
   "metadata": {},
   "outputs": [
    {
     "data": {
      "text/plain": [
       "(1029728, 50)"
      ]
     },
     "execution_count": 20,
     "metadata": {},
     "output_type": "execute_result"
    }
   ],
   "source": [
    "df_train = pd.merge(df_big_train, cs_2010and2011, on=['year','month','day','hour','min'])\n",
    "df_train.shape"
   ]
  },
  {
   "cell_type": "code",
   "execution_count": 21,
   "metadata": {},
   "outputs": [
    {
     "data": {
      "text/plain": [
       "(513149, 50)"
      ]
     },
     "execution_count": 21,
     "metadata": {},
     "output_type": "execute_result"
    }
   ],
   "source": [
    "df_test = pd.merge(df_big_test, cs_2009, on=['year','month','day','hour','min'])\n",
    "df_test.shape"
   ]
  },
  {
   "cell_type": "code",
   "execution_count": 22,
   "metadata": {},
   "outputs": [],
   "source": [
    "df_train.drop(['index'],axis=1, inplace=True) #updating the same dataframe by dropping the index columns from clear sky model\n",
    "df_test.drop(['index'], axis=1, inplace=True)"
   ]
  },
  {
   "cell_type": "code",
   "execution_count": 23,
   "metadata": {},
   "outputs": [
    {
     "data": {
      "text/plain": [
       "(1029728, 49)"
      ]
     },
     "execution_count": 23,
     "metadata": {},
     "output_type": "execute_result"
    }
   ],
   "source": [
    "df_train.shape"
   ]
  },
  {
   "cell_type": "markdown",
   "metadata": {},
   "source": [
    "### Managing missing values"
   ]
  },
  {
   "cell_type": "code",
   "execution_count": 24,
   "metadata": {},
   "outputs": [],
   "source": [
    "# Resetting index\n",
    "df_train.reset_index(drop=True, inplace=True)\n",
    "df_test.reset_index(drop=True, inplace=True)"
   ]
  },
  {
   "cell_type": "code",
   "execution_count": 25,
   "metadata": {},
   "outputs": [],
   "source": [
    "# Dropping rows with two or more -9999.9 values in columns"
   ]
  },
  {
   "cell_type": "code",
   "execution_count": 26,
   "metadata": {},
   "outputs": [
    {
     "data": {
      "text/plain": [
       "(987521, 49)"
      ]
     },
     "execution_count": 26,
     "metadata": {},
     "output_type": "execute_result"
    }
   ],
   "source": [
    "# Step1: Get indices of all rows with 2 or more -999\n",
    "missing_data_indices = np.where((df_train <=-9999.9).apply(sum, axis=1)>=2)[0]\n",
    "# Step2: Drop those indices\n",
    "df_train.drop(missing_data_indices, axis=0, inplace=True)\n",
    "# Checking that the rows are dropped\n",
    "df_train.shape"
   ]
  },
  {
   "cell_type": "code",
   "execution_count": 27,
   "metadata": {},
   "outputs": [
    {
     "data": {
      "text/plain": [
       "(496347, 49)"
      ]
     },
     "execution_count": 27,
     "metadata": {},
     "output_type": "execute_result"
    }
   ],
   "source": [
    "missing_data_indices_test = np.where((df_test <= -9999.9).apply(sum, axis=1)>=2)[0]\n",
    "df_test.drop(missing_data_indices_test, axis=0, inplace=True)\n",
    "df_test.shape"
   ]
  },
  {
   "cell_type": "code",
   "execution_count": 28,
   "metadata": {},
   "outputs": [],
   "source": [
    "# For the rows with only one cell as -9999.9, replacing this cell with the mean of the column"
   ]
  },
  {
   "cell_type": "markdown",
   "metadata": {},
   "source": [
    "#### First resetting index after dropping rows in the previous part of the code"
   ]
  },
  {
   "cell_type": "code",
   "execution_count": 29,
   "metadata": {},
   "outputs": [],
   "source": [
    "# 2nd time - Reseting Index\n",
    "df_train.reset_index(drop=True, inplace=True)\n",
    "df_test.reset_index(drop=True, inplace=True)"
   ]
  },
  {
   "cell_type": "code",
   "execution_count": 30,
   "metadata": {},
   "outputs": [],
   "source": [
    "one_miss_train_idx = np.where((df_train <=-9999.9).apply(sum, axis=1)==1)[0]"
   ]
  },
  {
   "cell_type": "code",
   "execution_count": 31,
   "metadata": {},
   "outputs": [
    {
     "data": {
      "text/plain": [
       "2007"
      ]
     },
     "execution_count": 31,
     "metadata": {},
     "output_type": "execute_result"
    }
   ],
   "source": [
    "len(one_miss_train_idx)"
   ]
  },
  {
   "cell_type": "code",
   "execution_count": 32,
   "metadata": {},
   "outputs": [
    {
     "data": {
      "text/plain": [
       "(987521, 49)"
      ]
     },
     "execution_count": 32,
     "metadata": {},
     "output_type": "execute_result"
    }
   ],
   "source": [
    "df_train.shape"
   ]
  },
  {
   "cell_type": "code",
   "execution_count": 33,
   "metadata": {},
   "outputs": [
    {
     "name": "stderr",
     "output_type": "stream",
     "text": [
      "C:\\Users\\s269596\\AppData\\Local\\Continuum\\Anaconda3\\lib\\site-packages\\pandas\\core\\indexing.py:194: SettingWithCopyWarning: \n",
      "A value is trying to be set on a copy of a slice from a DataFrame\n",
      "\n",
      "See the caveats in the documentation: http://pandas.pydata.org/pandas-docs/stable/indexing.html#indexing-view-versus-copy\n",
      "  self._setitem_with_indexer(indexer, value)\n"
     ]
    }
   ],
   "source": [
    "col_names = df_train.columns\n",
    "from collections import defaultdict\n",
    "stats = defaultdict(int)\n",
    "total_single_missing_values = 0\n",
    "for name in col_names:\n",
    "    col_mean = df_train[~(df_train[name] == -9999.9)][name].mean()\n",
    "    missing_indices = np.where((df_train[name] == -9999.9))\n",
    "    stats[name] = len(missing_indices[0])\n",
    "    df_train[name].loc[missing_indices] = col_mean\n",
    "    total_single_missing_values += sum(df_train[name] == -9999.9)\n",
    "    "
   ]
  },
  {
   "cell_type": "code",
   "execution_count": 34,
   "metadata": {},
   "outputs": [],
   "source": [
    "df_col_min = df_train.apply(min, axis=0)\n",
    "df_col_max = df_train.apply(max, axis =0)\n",
    "#print(df_col_min, df_col_max)"
   ]
  },
  {
   "cell_type": "code",
   "execution_count": 35,
   "metadata": {},
   "outputs": [],
   "source": [
    "train = np.where((df_train <=-9999.9).apply(sum, axis=1)==1)[0]"
   ]
  },
  {
   "cell_type": "code",
   "execution_count": 36,
   "metadata": {},
   "outputs": [
    {
     "data": {
      "text/plain": [
       "0"
      ]
     },
     "execution_count": 36,
     "metadata": {},
     "output_type": "execute_result"
    }
   ],
   "source": [
    "len(train)"
   ]
  },
  {
   "cell_type": "code",
   "execution_count": 37,
   "metadata": {},
   "outputs": [],
   "source": [
    "# doing the same thing on test dataset"
   ]
  },
  {
   "cell_type": "code",
   "execution_count": 38,
   "metadata": {},
   "outputs": [
    {
     "data": {
      "text/plain": [
       "2206"
      ]
     },
     "execution_count": 38,
     "metadata": {},
     "output_type": "execute_result"
    }
   ],
   "source": [
    "one_miss_test_idx = np.where((df_test <=-9999.9).apply(sum, axis=1)==1)[0]\n",
    "len(one_miss_test_idx)"
   ]
  },
  {
   "cell_type": "code",
   "execution_count": 39,
   "metadata": {},
   "outputs": [
    {
     "name": "stderr",
     "output_type": "stream",
     "text": [
      "C:\\Users\\s269596\\AppData\\Local\\Continuum\\Anaconda3\\lib\\site-packages\\pandas\\core\\indexing.py:194: SettingWithCopyWarning: \n",
      "A value is trying to be set on a copy of a slice from a DataFrame\n",
      "\n",
      "See the caveats in the documentation: http://pandas.pydata.org/pandas-docs/stable/indexing.html#indexing-view-versus-copy\n",
      "  self._setitem_with_indexer(indexer, value)\n"
     ]
    }
   ],
   "source": [
    "col_names_test = df_test.columns\n",
    "from collections import defaultdict\n",
    "stats_test = defaultdict(int)\n",
    "total_single_missing_values_test = 0\n",
    "for name in col_names_test:\n",
    "    col_mean = df_test[~(df_test[name] == -9999.9)][name].mean()\n",
    "    missing_indices = np.where((df_test[name] == -9999.9))\n",
    "    stats_test[name] = len(missing_indices[0])\n",
    "    df_test[name].loc[missing_indices] = col_mean\n",
    "    total_single_missing_values_test += sum(df_test[name] == -9999.9)\n",
    "    "
   ]
  },
  {
   "cell_type": "code",
   "execution_count": 40,
   "metadata": {},
   "outputs": [],
   "source": [
    "test = np.where((df_test <=-9999.9).apply(sum, axis=1)==1)[0]"
   ]
  },
  {
   "cell_type": "code",
   "execution_count": 41,
   "metadata": {},
   "outputs": [
    {
     "data": {
      "text/plain": [
       "0"
      ]
     },
     "execution_count": 41,
     "metadata": {},
     "output_type": "execute_result"
    }
   ],
   "source": [
    "len(test)"
   ]
  },
  {
   "cell_type": "code",
   "execution_count": 42,
   "metadata": {},
   "outputs": [
    {
     "data": {
      "text/plain": [
       "(987521, 49)"
      ]
     },
     "execution_count": 42,
     "metadata": {},
     "output_type": "execute_result"
    }
   ],
   "source": [
    "df_train.shape"
   ]
  },
  {
   "cell_type": "code",
   "execution_count": 43,
   "metadata": {},
   "outputs": [
    {
     "data": {
      "text/plain": [
       "(496347, 49)"
      ]
     },
     "execution_count": 43,
     "metadata": {},
     "output_type": "execute_result"
    }
   ],
   "source": [
    "df_test.shape"
   ]
  },
  {
   "cell_type": "markdown",
   "metadata": {},
   "source": [
    "### Exploratory Data Analysis"
   ]
  },
  {
   "cell_type": "code",
   "execution_count": 44,
   "metadata": {},
   "outputs": [],
   "source": [
    "dw_solar_everyday = df_test.groupby(['jday'])['dw_solar'].mean()\n",
    "ghi_everyday = df_test.groupby(['jday'])['ghi'].mean()\n",
    "j_day = df_test['jday'].unique()"
   ]
  },
  {
   "cell_type": "code",
   "execution_count": 45,
   "metadata": {},
   "outputs": [
    {
     "data": {
      "image/png": "[encoded data removed]",
      "text/plain": [
       "<Figure size 432x288 with 1 Axes>"
      ]
     },
     "metadata": {},
     "output_type": "display_data"
    }
   ],
   "source": [
    "fig = plt.figure()\n",
    "\n",
    "axes1 = fig.add_axes([0.1,0.1,0.8,0.8])\n",
    "#axes2 = fig.add_axes([0.1,0.1,0.8,0.8])\n",
    "\n",
    "axes1.scatter(j_day,dw_solar_everyday,label='Observed dw_solar',color='red')\n",
    "axes1.scatter(j_day, ghi_everyday, label='Clear Sky GHI',color='green')\n",
    "\n",
    "axes1.set_xlabel('Days')\n",
    "axes1.set_ylabel('Solar Irradiance (Watts /m^2)')\n",
    "axes1.set_title('Solar Irradiance - Test Year 2009')\n",
    "axes1.legend(loc='best')\n",
    "\n",
    "fig.savefig('Figure2a.png', bbox_inches = 'tight')"
   ]
  },
  {
   "cell_type": "code",
   "execution_count": 46,
   "metadata": {},
   "outputs": [
    {
     "name": "stderr",
     "output_type": "stream",
     "text": [
      "C:\\Users\\s269596\\AppData\\Local\\Continuum\\Anaconda3\\lib\\site-packages\\matplotlib\\axes\\_axes.py:6462: UserWarning: The 'normed' kwarg is deprecated, and has been replaced by the 'density' kwarg.\n",
      "  warnings.warn(\"The 'normed' kwarg is deprecated, and has been \"\n"
     ]
    },
    {
     "data": {
      "image/png": "[encoded data removed]",
      "text/plain": [
       "<Figure size 432x432 with 3 Axes>"
      ]
     },
     "metadata": {},
     "output_type": "display_data"
    }
   ],
   "source": [
    "sns.jointplot(x=dw_solar_everyday,y=ghi_everyday,kind='reg')\n",
    "#plt.title('observed dw_solar vs clear sky ghi')\n",
    "plt.xlabel('Observed global downwelling solar (Watts/m^2)')\n",
    "plt.ylabel('Clear Sky GHI (Watts/m^2)')\n",
    "plt.savefig('Figure3a.png', bbox_inches='tight')"
   ]
  },
  {
   "cell_type": "markdown",
   "metadata": {},
   "source": [
    "### making the Kt (clear sky index at time t) column by first removing rows with ghi==0"
   ]
  },
  {
   "cell_type": "code",
   "execution_count": 47,
   "metadata": {},
   "outputs": [],
   "source": [
    "df_train = df_train[df_train['ghi']!=0]\n",
    "df_test = df_test[df_test['ghi']!=0]\n",
    "df_train['Kt'] = df_train['dw_solar']/df_train['ghi']\n",
    "df_test['Kt'] = df_test['dw_solar']/df_test['ghi']"
   ]
  },
  {
   "cell_type": "code",
   "execution_count": 48,
   "metadata": {},
   "outputs": [],
   "source": [
    "df_train.reset_index(inplace=True)\n",
    "df_test.reset_index(inplace=True)"
   ]
  },
  {
   "cell_type": "code",
   "execution_count": 49,
   "metadata": {},
   "outputs": [
    {
     "name": "stdout",
     "output_type": "stream",
     "text": [
      "test Kt max: 16565.62428392545\n",
      "test Kt min: -858.197482511317\n",
      "test Kt mean: 2.3067127385087867\n",
      "\n",
      "\n",
      "train Kt max: 154389.83695910865\n",
      "train Kt min: -244.67261793490562\n",
      "train Kt mean: 3.284695720674705\n"
     ]
    }
   ],
   "source": [
    "print(\"test Kt max: \"+str(df_test['Kt'].max()))\n",
    "print(\"test Kt min: \"+str(df_test['Kt'].min()))\n",
    "print(\"test Kt mean: \"+str(df_test['Kt'].mean()))\n",
    "print(\"\\n\")\n",
    "print(\"train Kt max: \"+str(df_train['Kt'].max()))\n",
    "print(\"train Kt min: \"+str(df_train['Kt'].min()))\n",
    "print(\"train Kt mean: \"+str(df_train['Kt'].mean()))"
   ]
  },
  {
   "cell_type": "code",
   "execution_count": 50,
   "metadata": {},
   "outputs": [
    {
     "data": {
      "text/plain": [
       "[<matplotlib.lines.Line2D at 0xb8c0080>]"
      ]
     },
     "execution_count": 50,
     "metadata": {},
     "output_type": "execute_result"
    },
    {
     "data": {
      "image/png": "[encoded data removed]",
      "text/plain": [
       "<Figure size 432x288 with 1 Axes>"
      ]
     },
     "metadata": {},
     "output_type": "display_data"
    }
   ],
   "source": [
    "plt.plot(df_train['Kt'])"
   ]
  },
  {
   "cell_type": "code",
   "execution_count": 51,
   "metadata": {},
   "outputs": [
    {
     "data": {
      "text/plain": [
       "[<matplotlib.lines.Line2D at 0xebc8d30>]"
      ]
     },
     "execution_count": 51,
     "metadata": {},
     "output_type": "execute_result"
    },
    {
     "data": {
      "image/png": "[encoded data removed]",
      "text/plain": [
       "<Figure size 432x288 with 1 Axes>"
      ]
     },
     "metadata": {},
     "output_type": "display_data"
    }
   ],
   "source": [
    "plt.plot(df_test['Kt'])"
   ]
  },
  {
   "cell_type": "code",
   "execution_count": 52,
   "metadata": {},
   "outputs": [],
   "source": [
    "df_train= df_train[df_train['Kt']< 5000]\n",
    "df_train= df_train[df_train['Kt']> -1000]\n",
    "df_test= df_test[df_test['Kt']< 5000]\n",
    "df_test= df_test[df_test['Kt']> -1000]"
   ]
  },
  {
   "cell_type": "markdown",
   "metadata": {},
   "source": [
    "#### Group the data (train dataframe)"
   ]
  },
  {
   "cell_type": "code",
   "execution_count": 53,
   "metadata": {},
   "outputs": [],
   "source": [
    "zen = df_train.groupby(['year','month','day','hour'])['zen'].mean()\n",
    "dw_solar = df_train.groupby(['year','month','day','hour'])['dw_solar'].mean()\n",
    "uw_solar = df_train.groupby(['year','month','day','hour'])['uw_solar'].mean()\n",
    "direct_n = df_train.groupby(['year','month','day','hour'])['direct_n'].mean()\n",
    "diffuse = df_train.groupby(['year','month','day','hour'])['diffuse'].mean()\n",
    "dw_ir = df_train.groupby(['year','month','day','hour'])['dw_ir'].mean()\n",
    "dw_casetemp = df_train.groupby(['year','month','day','hour'])['dw_casetemp'].mean()\n",
    "dw_dometemp = df_train.groupby(['year','month','day','hour'])['dw_dometemp'].mean()\n",
    "uw_ir = df_train.groupby(['year','month','day','hour'])['uw_ir'].mean()\n",
    "uw_casetemp = df_train.groupby(['year','month','day','hour'])['uw_casetemp'].mean()\n",
    "uw_dometemp = df_train.groupby(['year','month','day','hour'])['uw_dometemp'].mean()\n",
    "uvb = df_train.groupby(['year','month','day','hour'])['uvb'].mean()\n",
    "par = df_train.groupby(['year','month','day','hour'])['par'].mean()\n",
    "netsolar = df_train.groupby(['year','month','day','hour'])['netsolar'].mean()\n",
    "netir = df_train.groupby(['year','month','day','hour'])['netir'].mean()\n",
    "totalnet = df_train.groupby(['year','month','day','hour'])['totalnet'].mean()\n",
    "temp = df_train.groupby(['year','month','day','hour'])['temp'].mean()\n",
    "rh = df_train.groupby(['year','month','day','hour'])['rh'].mean()\n",
    "windspd = df_train.groupby(['year','month','day','hour'])['windspd'].mean()\n",
    "winddir = df_train.groupby(['year','month','day','hour'])['winddir'].mean()\n",
    "pressure = df_train.groupby(['year','month','day','hour'])['pressure'].mean()\n",
    "ghi = df_train.groupby(['year','month','day','hour'])['ghi'].mean()\n",
    "Kt = df_train.groupby(['year','month','day','hour'])['Kt'].mean()"
   ]
  },
  {
   "cell_type": "code",
   "execution_count": 54,
   "metadata": {},
   "outputs": [],
   "source": [
    "df_new_train = pd.concat([zen,dw_solar,uw_solar,direct_n,diffuse,dw_ir,dw_casetemp,dw_dometemp,uw_ir,uw_casetemp,uw_dometemp,\n",
    "                    uvb,par,netsolar,netir,totalnet,temp,rh,windspd,winddir,pressure,ghi,Kt], axis=1)"
   ]
  },
  {
   "cell_type": "code",
   "execution_count": 55,
   "metadata": {},
   "outputs": [
    {
     "data": {
      "text/html": [
       "<div>\n",
       "<style scoped>\n",
       "    .dataframe tbody tr th:only-of-type {\n",
       "        vertical-align: middle;\n",
       "    }\n",
       "\n",
       "    .dataframe tbody tr th {\n",
       "        vertical-align: top;\n",
       "    }\n",
       "\n",
       "    .dataframe thead th {\n",
       "        text-align: right;\n",
       "    }\n",
       "</style>\n",
       "<table border=\"1\" class=\"dataframe\">\n",
       "  <thead>\n",
       "    <tr style=\"text-align: right;\">\n",
       "      <th></th>\n",
       "      <th></th>\n",
       "      <th></th>\n",
       "      <th></th>\n",
       "      <th>zen</th>\n",
       "      <th>dw_solar</th>\n",
       "      <th>uw_solar</th>\n",
       "      <th>direct_n</th>\n",
       "      <th>diffuse</th>\n",
       "      <th>dw_ir</th>\n",
       "      <th>dw_casetemp</th>\n",
       "      <th>dw_dometemp</th>\n",
       "      <th>uw_ir</th>\n",
       "      <th>uw_casetemp</th>\n",
       "      <th>...</th>\n",
       "      <th>netsolar</th>\n",
       "      <th>netir</th>\n",
       "      <th>totalnet</th>\n",
       "      <th>temp</th>\n",
       "      <th>rh</th>\n",
       "      <th>windspd</th>\n",
       "      <th>winddir</th>\n",
       "      <th>pressure</th>\n",
       "      <th>ghi</th>\n",
       "      <th>Kt</th>\n",
       "    </tr>\n",
       "    <tr>\n",
       "      <th>year</th>\n",
       "      <th>month</th>\n",
       "      <th>day</th>\n",
       "      <th>hour</th>\n",
       "      <th></th>\n",
       "      <th></th>\n",
       "      <th></th>\n",
       "      <th></th>\n",
       "      <th></th>\n",
       "      <th></th>\n",
       "      <th></th>\n",
       "      <th></th>\n",
       "      <th></th>\n",
       "      <th></th>\n",
       "      <th></th>\n",
       "      <th></th>\n",
       "      <th></th>\n",
       "      <th></th>\n",
       "      <th></th>\n",
       "      <th></th>\n",
       "      <th></th>\n",
       "      <th></th>\n",
       "      <th></th>\n",
       "      <th></th>\n",
       "      <th></th>\n",
       "    </tr>\n",
       "  </thead>\n",
       "  <tbody>\n",
       "    <tr>\n",
       "      <th rowspan=\"5\" valign=\"top\">2010.0</th>\n",
       "      <th rowspan=\"5\" valign=\"top\">1.0</th>\n",
       "      <th rowspan=\"5\" valign=\"top\">1.0</th>\n",
       "      <th>7.0</th>\n",
       "      <td>157.281154</td>\n",
       "      <td>-4.348077</td>\n",
       "      <td>0.090385</td>\n",
       "      <td>0.150000</td>\n",
       "      <td>-1.123077</td>\n",
       "      <td>320.623077</td>\n",
       "      <td>280.961538</td>\n",
       "      <td>280.546154</td>\n",
       "      <td>335.715385</td>\n",
       "      <td>277.776923</td>\n",
       "      <td>...</td>\n",
       "      <td>0.0</td>\n",
       "      <td>-15.086538</td>\n",
       "      <td>-15.086538</td>\n",
       "      <td>5.005769</td>\n",
       "      <td>79.425000</td>\n",
       "      <td>2.300000</td>\n",
       "      <td>69.582692</td>\n",
       "      <td>1013.025000</td>\n",
       "      <td>58.673464</td>\n",
       "      <td>-0.092544</td>\n",
       "    </tr>\n",
       "    <tr>\n",
       "      <th>8.0</th>\n",
       "      <td>146.229333</td>\n",
       "      <td>-4.288333</td>\n",
       "      <td>0.113333</td>\n",
       "      <td>0.156667</td>\n",
       "      <td>-1.106667</td>\n",
       "      <td>322.270000</td>\n",
       "      <td>280.761667</td>\n",
       "      <td>280.345000</td>\n",
       "      <td>334.833333</td>\n",
       "      <td>277.581667</td>\n",
       "      <td>...</td>\n",
       "      <td>0.0</td>\n",
       "      <td>-12.571667</td>\n",
       "      <td>-12.571667</td>\n",
       "      <td>4.783333</td>\n",
       "      <td>75.178333</td>\n",
       "      <td>2.541667</td>\n",
       "      <td>84.746667</td>\n",
       "      <td>1013.470000</td>\n",
       "      <td>199.226885</td>\n",
       "      <td>-0.022905</td>\n",
       "    </tr>\n",
       "    <tr>\n",
       "      <th>9.0</th>\n",
       "      <td>133.906167</td>\n",
       "      <td>-4.328333</td>\n",
       "      <td>0.178333</td>\n",
       "      <td>0.701667</td>\n",
       "      <td>-1.108333</td>\n",
       "      <td>318.151667</td>\n",
       "      <td>280.491667</td>\n",
       "      <td>280.046667</td>\n",
       "      <td>333.480000</td>\n",
       "      <td>277.301667</td>\n",
       "      <td>...</td>\n",
       "      <td>0.0</td>\n",
       "      <td>-15.333333</td>\n",
       "      <td>-15.333333</td>\n",
       "      <td>4.445000</td>\n",
       "      <td>76.843333</td>\n",
       "      <td>2.831667</td>\n",
       "      <td>159.561667</td>\n",
       "      <td>1013.861667</td>\n",
       "      <td>357.002941</td>\n",
       "      <td>-0.012248</td>\n",
       "    </tr>\n",
       "    <tr>\n",
       "      <th>10.0</th>\n",
       "      <td>121.558667</td>\n",
       "      <td>-4.560000</td>\n",
       "      <td>0.316667</td>\n",
       "      <td>-0.558333</td>\n",
       "      <td>-1.170000</td>\n",
       "      <td>300.935000</td>\n",
       "      <td>279.631667</td>\n",
       "      <td>279.101667</td>\n",
       "      <td>328.243333</td>\n",
       "      <td>276.451667</td>\n",
       "      <td>...</td>\n",
       "      <td>0.0</td>\n",
       "      <td>-27.313333</td>\n",
       "      <td>-27.313333</td>\n",
       "      <td>3.465000</td>\n",
       "      <td>78.943333</td>\n",
       "      <td>3.700000</td>\n",
       "      <td>133.698333</td>\n",
       "      <td>1014.648333</td>\n",
       "      <td>475.457844</td>\n",
       "      <td>-0.009625</td>\n",
       "    </tr>\n",
       "    <tr>\n",
       "      <th>11.0</th>\n",
       "      <td>109.427167</td>\n",
       "      <td>-4.868333</td>\n",
       "      <td>0.553333</td>\n",
       "      <td>-0.383333</td>\n",
       "      <td>-1.276667</td>\n",
       "      <td>241.326667</td>\n",
       "      <td>277.370000</td>\n",
       "      <td>276.700000</td>\n",
       "      <td>314.453333</td>\n",
       "      <td>274.423333</td>\n",
       "      <td>...</td>\n",
       "      <td>0.0</td>\n",
       "      <td>-73.125000</td>\n",
       "      <td>-73.125000</td>\n",
       "      <td>1.351667</td>\n",
       "      <td>75.265000</td>\n",
       "      <td>3.646667</td>\n",
       "      <td>135.245000</td>\n",
       "      <td>1015.618333</td>\n",
       "      <td>539.708973</td>\n",
       "      <td>-0.009017</td>\n",
       "    </tr>\n",
       "  </tbody>\n",
       "</table>\n",
       "<p>5 rows × 23 columns</p>\n",
       "</div>"
      ],
      "text/plain": [
       "                              zen  dw_solar  uw_solar  direct_n   diffuse  \\\n",
       "year   month day hour                                                       \n",
       "2010.0 1.0   1.0 7.0   157.281154 -4.348077  0.090385  0.150000 -1.123077   \n",
       "                 8.0   146.229333 -4.288333  0.113333  0.156667 -1.106667   \n",
       "                 9.0   133.906167 -4.328333  0.178333  0.701667 -1.108333   \n",
       "                 10.0  121.558667 -4.560000  0.316667 -0.558333 -1.170000   \n",
       "                 11.0  109.427167 -4.868333  0.553333 -0.383333 -1.276667   \n",
       "\n",
       "                            dw_ir  dw_casetemp  dw_dometemp       uw_ir  \\\n",
       "year   month day hour                                                     \n",
       "2010.0 1.0   1.0 7.0   320.623077   280.961538   280.546154  335.715385   \n",
       "                 8.0   322.270000   280.761667   280.345000  334.833333   \n",
       "                 9.0   318.151667   280.491667   280.046667  333.480000   \n",
       "                 10.0  300.935000   279.631667   279.101667  328.243333   \n",
       "                 11.0  241.326667   277.370000   276.700000  314.453333   \n",
       "\n",
       "                       uw_casetemp    ...     netsolar      netir   totalnet  \\\n",
       "year   month day hour                 ...                                      \n",
       "2010.0 1.0   1.0 7.0    277.776923    ...          0.0 -15.086538 -15.086538   \n",
       "                 8.0    277.581667    ...          0.0 -12.571667 -12.571667   \n",
       "                 9.0    277.301667    ...          0.0 -15.333333 -15.333333   \n",
       "                 10.0   276.451667    ...          0.0 -27.313333 -27.313333   \n",
       "                 11.0   274.423333    ...          0.0 -73.125000 -73.125000   \n",
       "\n",
       "                           temp         rh   windspd     winddir     pressure  \\\n",
       "year   month day hour                                                           \n",
       "2010.0 1.0   1.0 7.0   5.005769  79.425000  2.300000   69.582692  1013.025000   \n",
       "                 8.0   4.783333  75.178333  2.541667   84.746667  1013.470000   \n",
       "                 9.0   4.445000  76.843333  2.831667  159.561667  1013.861667   \n",
       "                 10.0  3.465000  78.943333  3.700000  133.698333  1014.648333   \n",
       "                 11.0  1.351667  75.265000  3.646667  135.245000  1015.618333   \n",
       "\n",
       "                              ghi        Kt  \n",
       "year   month day hour                        \n",
       "2010.0 1.0   1.0 7.0    58.673464 -0.092544  \n",
       "                 8.0   199.226885 -0.022905  \n",
       "                 9.0   357.002941 -0.012248  \n",
       "                 10.0  475.457844 -0.009625  \n",
       "                 11.0  539.708973 -0.009017  \n",
       "\n",
       "[5 rows x 23 columns]"
      ]
     },
     "execution_count": 55,
     "metadata": {},
     "output_type": "execute_result"
    }
   ],
   "source": [
    "df_new_train.head()"
   ]
  },
  {
   "cell_type": "markdown",
   "metadata": {},
   "source": [
    "#### Groupdata - test dataframe"
   ]
  },
  {
   "cell_type": "code",
   "execution_count": 56,
   "metadata": {},
   "outputs": [],
   "source": [
    "test_zen = df_test.groupby(['month','day','hour'])['zen'].mean()\n",
    "test_dw_solar = df_test.groupby(['month','day','hour'])['dw_solar'].mean()\n",
    "test_uw_solar = df_test.groupby(['month','day','hour'])['uw_solar'].mean()\n",
    "test_direct_n = df_test.groupby(['month','day','hour'])['direct_n'].mean()\n",
    "test_diffuse = df_test.groupby(['month','day','hour'])['diffuse'].mean()\n",
    "test_dw_ir = df_test.groupby(['month','day','hour'])['dw_ir'].mean()\n",
    "test_dw_casetemp = df_test.groupby(['month','day','hour'])['dw_casetemp'].mean()\n",
    "test_dw_dometemp = df_test.groupby(['month','day','hour'])['dw_dometemp'].mean()\n",
    "test_uw_ir = df_test.groupby(['month','day','hour'])['uw_ir'].mean()\n",
    "test_uw_casetemp = df_test.groupby(['month','day','hour'])['uw_casetemp'].mean()\n",
    "test_uw_dometemp = df_test.groupby(['month','day','hour'])['uw_dometemp'].mean()\n",
    "test_uvb = df_test.groupby(['month','day','hour'])['uvb'].mean()\n",
    "test_par = df_test.groupby(['month','day','hour'])['par'].mean()\n",
    "test_netsolar = df_test.groupby(['month','day','hour'])['netsolar'].mean()\n",
    "test_netir = df_test.groupby(['month','day','hour'])['netir'].mean()\n",
    "test_totalnet = df_test.groupby(['month','day','hour'])['totalnet'].mean()\n",
    "test_temp = df_test.groupby(['month','day','hour'])['temp'].mean()\n",
    "test_rh = df_test.groupby(['month','day','hour'])['rh'].mean()\n",
    "test_windspd = df_test.groupby(['month','day','hour'])['windspd'].mean()\n",
    "test_winddir = df_test.groupby(['month','day','hour'])['winddir'].mean()\n",
    "test_pressure = df_test.groupby(['month','day','hour'])['pressure'].mean()\n",
    "test_ghi = df_test.groupby(['month','day','hour'])['ghi'].mean()\n",
    "test_Kt = df_test.groupby(['month','day','hour'])['Kt'].mean()"
   ]
  },
  {
   "cell_type": "code",
   "execution_count": 57,
   "metadata": {},
   "outputs": [],
   "source": [
    "df_new_test = pd.concat([test_zen,test_dw_solar,test_uw_solar,test_direct_n,test_diffuse,test_dw_ir,\n",
    "                         test_dw_casetemp,test_dw_dometemp,test_uw_ir,test_uw_casetemp,test_uw_dometemp,\n",
    "                    test_uvb,test_par,test_netsolar,test_netir,test_totalnet,test_temp,test_rh,\n",
    "                         test_windspd,test_winddir,test_pressure,test_ghi,test_Kt], axis=1)"
   ]
  },
  {
   "cell_type": "code",
   "execution_count": 58,
   "metadata": {},
   "outputs": [
    {
     "data": {
      "text/html": [
       "<div>\n",
       "<style scoped>\n",
       "    .dataframe tbody tr th:only-of-type {\n",
       "        vertical-align: middle;\n",
       "    }\n",
       "\n",
       "    .dataframe tbody tr th {\n",
       "        vertical-align: top;\n",
       "    }\n",
       "\n",
       "    .dataframe thead th {\n",
       "        text-align: right;\n",
       "    }\n",
       "</style>\n",
       "<table border=\"1\" class=\"dataframe\">\n",
       "  <thead>\n",
       "    <tr style=\"text-align: right;\">\n",
       "      <th></th>\n",
       "      <th>zen</th>\n",
       "      <th>dw_solar</th>\n",
       "      <th>uw_solar</th>\n",
       "      <th>direct_n</th>\n",
       "      <th>diffuse</th>\n",
       "      <th>dw_ir</th>\n",
       "      <th>dw_casetemp</th>\n",
       "      <th>dw_dometemp</th>\n",
       "      <th>uw_ir</th>\n",
       "      <th>uw_casetemp</th>\n",
       "      <th>...</th>\n",
       "      <th>netsolar</th>\n",
       "      <th>netir</th>\n",
       "      <th>totalnet</th>\n",
       "      <th>temp</th>\n",
       "      <th>rh</th>\n",
       "      <th>windspd</th>\n",
       "      <th>winddir</th>\n",
       "      <th>pressure</th>\n",
       "      <th>ghi</th>\n",
       "      <th>Kt</th>\n",
       "    </tr>\n",
       "    <tr>\n",
       "      <th>hour</th>\n",
       "      <th></th>\n",
       "      <th></th>\n",
       "      <th></th>\n",
       "      <th></th>\n",
       "      <th></th>\n",
       "      <th></th>\n",
       "      <th></th>\n",
       "      <th></th>\n",
       "      <th></th>\n",
       "      <th></th>\n",
       "      <th></th>\n",
       "      <th></th>\n",
       "      <th></th>\n",
       "      <th></th>\n",
       "      <th></th>\n",
       "      <th></th>\n",
       "      <th></th>\n",
       "      <th></th>\n",
       "      <th></th>\n",
       "      <th></th>\n",
       "      <th></th>\n",
       "    </tr>\n",
       "  </thead>\n",
       "  <tbody>\n",
       "    <tr>\n",
       "      <th>6.0</th>\n",
       "      <td>156.063125</td>\n",
       "      <td>-5.293750</td>\n",
       "      <td>-0.418750</td>\n",
       "      <td>1.537500</td>\n",
       "      <td>-0.381250</td>\n",
       "      <td>234.900000</td>\n",
       "      <td>272.150000</td>\n",
       "      <td>271.862500</td>\n",
       "      <td>291.925000</td>\n",
       "      <td>272.281250</td>\n",
       "      <td>...</td>\n",
       "      <td>0.000000</td>\n",
       "      <td>-57.043750</td>\n",
       "      <td>-57.043750</td>\n",
       "      <td>0.593750</td>\n",
       "      <td>61.012500</td>\n",
       "      <td>1.137500</td>\n",
       "      <td>116.625000</td>\n",
       "      <td>1013.318750</td>\n",
       "      <td>30.663084</td>\n",
       "      <td>-0.182511</td>\n",
       "    </tr>\n",
       "    <tr>\n",
       "      <th>7.0</th>\n",
       "      <td>151.636833</td>\n",
       "      <td>-5.338333</td>\n",
       "      <td>-0.555000</td>\n",
       "      <td>1.555000</td>\n",
       "      <td>-0.473333</td>\n",
       "      <td>235.656667</td>\n",
       "      <td>272.565000</td>\n",
       "      <td>272.235000</td>\n",
       "      <td>291.751667</td>\n",
       "      <td>271.600000</td>\n",
       "      <td>...</td>\n",
       "      <td>0.000000</td>\n",
       "      <td>-56.091667</td>\n",
       "      <td>-56.091667</td>\n",
       "      <td>0.088333</td>\n",
       "      <td>63.146667</td>\n",
       "      <td>0.618333</td>\n",
       "      <td>112.858333</td>\n",
       "      <td>1013.015000</td>\n",
       "      <td>115.766684</td>\n",
       "      <td>-0.058923</td>\n",
       "    </tr>\n",
       "    <tr>\n",
       "      <th>8.0</th>\n",
       "      <td>141.881000</td>\n",
       "      <td>-5.150000</td>\n",
       "      <td>-0.876667</td>\n",
       "      <td>0.881667</td>\n",
       "      <td>-0.500000</td>\n",
       "      <td>236.418333</td>\n",
       "      <td>272.275000</td>\n",
       "      <td>271.936667</td>\n",
       "      <td>291.446667</td>\n",
       "      <td>271.781667</td>\n",
       "      <td>...</td>\n",
       "      <td>0.000000</td>\n",
       "      <td>-55.028333</td>\n",
       "      <td>-55.028333</td>\n",
       "      <td>0.830000</td>\n",
       "      <td>57.490000</td>\n",
       "      <td>1.448333</td>\n",
       "      <td>132.271667</td>\n",
       "      <td>1011.976667</td>\n",
       "      <td>310.197139</td>\n",
       "      <td>-0.017190</td>\n",
       "    </tr>\n",
       "    <tr>\n",
       "      <th>9.0</th>\n",
       "      <td>130.346167</td>\n",
       "      <td>-5.693333</td>\n",
       "      <td>-0.785000</td>\n",
       "      <td>2.293333</td>\n",
       "      <td>-0.325000</td>\n",
       "      <td>242.050000</td>\n",
       "      <td>272.941667</td>\n",
       "      <td>272.681667</td>\n",
       "      <td>295.341667</td>\n",
       "      <td>273.095000</td>\n",
       "      <td>...</td>\n",
       "      <td>0.000000</td>\n",
       "      <td>-53.295000</td>\n",
       "      <td>-53.295000</td>\n",
       "      <td>1.676667</td>\n",
       "      <td>53.623333</td>\n",
       "      <td>2.033333</td>\n",
       "      <td>137.526667</td>\n",
       "      <td>1011.566667</td>\n",
       "      <td>491.373002</td>\n",
       "      <td>-0.011644</td>\n",
       "    </tr>\n",
       "    <tr>\n",
       "      <th>10.0</th>\n",
       "      <td>118.142333</td>\n",
       "      <td>-5.468333</td>\n",
       "      <td>-0.343333</td>\n",
       "      <td>2.310000</td>\n",
       "      <td>-0.261667</td>\n",
       "      <td>293.071667</td>\n",
       "      <td>275.710000</td>\n",
       "      <td>275.516667</td>\n",
       "      <td>308.071667</td>\n",
       "      <td>273.635000</td>\n",
       "      <td>...</td>\n",
       "      <td>0.000000</td>\n",
       "      <td>-16.146667</td>\n",
       "      <td>-16.146667</td>\n",
       "      <td>1.591667</td>\n",
       "      <td>56.341667</td>\n",
       "      <td>1.473333</td>\n",
       "      <td>151.643333</td>\n",
       "      <td>1011.851667</td>\n",
       "      <td>628.392880</td>\n",
       "      <td>-0.008778</td>\n",
       "    </tr>\n",
       "    <tr>\n",
       "      <th>11.0</th>\n",
       "      <td>105.758667</td>\n",
       "      <td>-4.468333</td>\n",
       "      <td>-0.058333</td>\n",
       "      <td>1.616667</td>\n",
       "      <td>-0.338333</td>\n",
       "      <td>321.446667</td>\n",
       "      <td>277.086667</td>\n",
       "      <td>276.876667</td>\n",
       "      <td>315.970000</td>\n",
       "      <td>273.856667</td>\n",
       "      <td>...</td>\n",
       "      <td>0.000000</td>\n",
       "      <td>0.000000</td>\n",
       "      <td>0.000000</td>\n",
       "      <td>1.773333</td>\n",
       "      <td>59.400000</td>\n",
       "      <td>0.791667</td>\n",
       "      <td>162.733333</td>\n",
       "      <td>1012.278333</td>\n",
       "      <td>707.999345</td>\n",
       "      <td>-0.006309</td>\n",
       "    </tr>\n",
       "    <tr>\n",
       "      <th>12.0</th>\n",
       "      <td>93.360000</td>\n",
       "      <td>-5.085000</td>\n",
       "      <td>0.435000</td>\n",
       "      <td>0.523333</td>\n",
       "      <td>0.573333</td>\n",
       "      <td>324.706667</td>\n",
       "      <td>277.511667</td>\n",
       "      <td>277.048333</td>\n",
       "      <td>318.663333</td>\n",
       "      <td>274.298333</td>\n",
       "      <td>...</td>\n",
       "      <td>0.543333</td>\n",
       "      <td>0.000000</td>\n",
       "      <td>0.543333</td>\n",
       "      <td>2.150000</td>\n",
       "      <td>62.286667</td>\n",
       "      <td>1.993333</td>\n",
       "      <td>152.851667</td>\n",
       "      <td>1012.153333</td>\n",
       "      <td>723.565963</td>\n",
       "      <td>-0.007017</td>\n",
       "    </tr>\n",
       "    <tr>\n",
       "      <th>13.0</th>\n",
       "      <td>81.477500</td>\n",
       "      <td>10.581667</td>\n",
       "      <td>3.041667</td>\n",
       "      <td>0.323333</td>\n",
       "      <td>15.745000</td>\n",
       "      <td>326.311667</td>\n",
       "      <td>277.568333</td>\n",
       "      <td>277.051667</td>\n",
       "      <td>320.978333</td>\n",
       "      <td>274.485000</td>\n",
       "      <td>...</td>\n",
       "      <td>12.793333</td>\n",
       "      <td>0.000000</td>\n",
       "      <td>12.793333</td>\n",
       "      <td>2.198333</td>\n",
       "      <td>71.641667</td>\n",
       "      <td>2.133333</td>\n",
       "      <td>160.955000</td>\n",
       "      <td>1012.345000</td>\n",
       "      <td>673.851495</td>\n",
       "      <td>0.015885</td>\n",
       "    </tr>\n",
       "    <tr>\n",
       "      <th>14.0</th>\n",
       "      <td>70.368167</td>\n",
       "      <td>44.298333</td>\n",
       "      <td>7.703333</td>\n",
       "      <td>1.603333</td>\n",
       "      <td>47.981667</td>\n",
       "      <td>327.441667</td>\n",
       "      <td>277.428333</td>\n",
       "      <td>276.891667</td>\n",
       "      <td>323.908333</td>\n",
       "      <td>274.638333</td>\n",
       "      <td>...</td>\n",
       "      <td>40.848333</td>\n",
       "      <td>-0.015000</td>\n",
       "      <td>40.835000</td>\n",
       "      <td>2.188333</td>\n",
       "      <td>82.856667</td>\n",
       "      <td>2.678333</td>\n",
       "      <td>166.960000</td>\n",
       "      <td>1012.361667</td>\n",
       "      <td>562.891372</td>\n",
       "      <td>0.082049</td>\n",
       "    </tr>\n",
       "    <tr>\n",
       "      <th>15.0</th>\n",
       "      <td>60.402833</td>\n",
       "      <td>56.543333</td>\n",
       "      <td>8.775000</td>\n",
       "      <td>0.658333</td>\n",
       "      <td>59.681667</td>\n",
       "      <td>331.398333</td>\n",
       "      <td>278.208333</td>\n",
       "      <td>277.673333</td>\n",
       "      <td>327.438333</td>\n",
       "      <td>275.178333</td>\n",
       "      <td>...</td>\n",
       "      <td>51.280000</td>\n",
       "      <td>0.000000</td>\n",
       "      <td>51.280000</td>\n",
       "      <td>2.543333</td>\n",
       "      <td>89.940000</td>\n",
       "      <td>2.470000</td>\n",
       "      <td>150.240000</td>\n",
       "      <td>1012.115000</td>\n",
       "      <td>400.469352</td>\n",
       "      <td>0.149594</td>\n",
       "    </tr>\n",
       "    <tr>\n",
       "      <th>16.0</th>\n",
       "      <td>52.384000</td>\n",
       "      <td>187.235000</td>\n",
       "      <td>29.745000</td>\n",
       "      <td>2.215000</td>\n",
       "      <td>185.133333</td>\n",
       "      <td>335.448333</td>\n",
       "      <td>279.595000</td>\n",
       "      <td>279.348333</td>\n",
       "      <td>337.640000</td>\n",
       "      <td>276.196667</td>\n",
       "      <td>...</td>\n",
       "      <td>156.750000</td>\n",
       "      <td>-2.490000</td>\n",
       "      <td>154.268333</td>\n",
       "      <td>3.485000</td>\n",
       "      <td>91.268333</td>\n",
       "      <td>3.808333</td>\n",
       "      <td>153.068333</td>\n",
       "      <td>1011.073333</td>\n",
       "      <td>205.793937</td>\n",
       "      <td>1.063090</td>\n",
       "    </tr>\n",
       "    <tr>\n",
       "      <th>17.0</th>\n",
       "      <td>47.737500</td>\n",
       "      <td>163.261364</td>\n",
       "      <td>27.654545</td>\n",
       "      <td>0.834091</td>\n",
       "      <td>162.845455</td>\n",
       "      <td>339.390909</td>\n",
       "      <td>281.243182</td>\n",
       "      <td>280.965909</td>\n",
       "      <td>342.279545</td>\n",
       "      <td>277.679545</td>\n",
       "      <td>...</td>\n",
       "      <td>135.852273</td>\n",
       "      <td>-3.006818</td>\n",
       "      <td>132.838636</td>\n",
       "      <td>4.775000</td>\n",
       "      <td>86.770455</td>\n",
       "      <td>4.115909</td>\n",
       "      <td>165.429545</td>\n",
       "      <td>1010.206818</td>\n",
       "      <td>55.699158</td>\n",
       "      <td>3.182868</td>\n",
       "    </tr>\n",
       "  </tbody>\n",
       "</table>\n",
       "<p>12 rows × 23 columns</p>\n",
       "</div>"
      ],
      "text/plain": [
       "             zen    dw_solar   uw_solar  direct_n     diffuse       dw_ir  \\\n",
       "hour                                                                        \n",
       "6.0   156.063125   -5.293750  -0.418750  1.537500   -0.381250  234.900000   \n",
       "7.0   151.636833   -5.338333  -0.555000  1.555000   -0.473333  235.656667   \n",
       "8.0   141.881000   -5.150000  -0.876667  0.881667   -0.500000  236.418333   \n",
       "9.0   130.346167   -5.693333  -0.785000  2.293333   -0.325000  242.050000   \n",
       "10.0  118.142333   -5.468333  -0.343333  2.310000   -0.261667  293.071667   \n",
       "11.0  105.758667   -4.468333  -0.058333  1.616667   -0.338333  321.446667   \n",
       "12.0   93.360000   -5.085000   0.435000  0.523333    0.573333  324.706667   \n",
       "13.0   81.477500   10.581667   3.041667  0.323333   15.745000  326.311667   \n",
       "14.0   70.368167   44.298333   7.703333  1.603333   47.981667  327.441667   \n",
       "15.0   60.402833   56.543333   8.775000  0.658333   59.681667  331.398333   \n",
       "16.0   52.384000  187.235000  29.745000  2.215000  185.133333  335.448333   \n",
       "17.0   47.737500  163.261364  27.654545  0.834091  162.845455  339.390909   \n",
       "\n",
       "      dw_casetemp  dw_dometemp       uw_ir  uw_casetemp    ...       netsolar  \\\n",
       "hour                                                       ...                  \n",
       "6.0    272.150000   271.862500  291.925000   272.281250    ...       0.000000   \n",
       "7.0    272.565000   272.235000  291.751667   271.600000    ...       0.000000   \n",
       "8.0    272.275000   271.936667  291.446667   271.781667    ...       0.000000   \n",
       "9.0    272.941667   272.681667  295.341667   273.095000    ...       0.000000   \n",
       "10.0   275.710000   275.516667  308.071667   273.635000    ...       0.000000   \n",
       "11.0   277.086667   276.876667  315.970000   273.856667    ...       0.000000   \n",
       "12.0   277.511667   277.048333  318.663333   274.298333    ...       0.543333   \n",
       "13.0   277.568333   277.051667  320.978333   274.485000    ...      12.793333   \n",
       "14.0   277.428333   276.891667  323.908333   274.638333    ...      40.848333   \n",
       "15.0   278.208333   277.673333  327.438333   275.178333    ...      51.280000   \n",
       "16.0   279.595000   279.348333  337.640000   276.196667    ...     156.750000   \n",
       "17.0   281.243182   280.965909  342.279545   277.679545    ...     135.852273   \n",
       "\n",
       "          netir    totalnet      temp         rh   windspd     winddir  \\\n",
       "hour                                                                     \n",
       "6.0  -57.043750  -57.043750  0.593750  61.012500  1.137500  116.625000   \n",
       "7.0  -56.091667  -56.091667  0.088333  63.146667  0.618333  112.858333   \n",
       "8.0  -55.028333  -55.028333  0.830000  57.490000  1.448333  132.271667   \n",
       "9.0  -53.295000  -53.295000  1.676667  53.623333  2.033333  137.526667   \n",
       "10.0 -16.146667  -16.146667  1.591667  56.341667  1.473333  151.643333   \n",
       "11.0   0.000000    0.000000  1.773333  59.400000  0.791667  162.733333   \n",
       "12.0   0.000000    0.543333  2.150000  62.286667  1.993333  152.851667   \n",
       "13.0   0.000000   12.793333  2.198333  71.641667  2.133333  160.955000   \n",
       "14.0  -0.015000   40.835000  2.188333  82.856667  2.678333  166.960000   \n",
       "15.0   0.000000   51.280000  2.543333  89.940000  2.470000  150.240000   \n",
       "16.0  -2.490000  154.268333  3.485000  91.268333  3.808333  153.068333   \n",
       "17.0  -3.006818  132.838636  4.775000  86.770455  4.115909  165.429545   \n",
       "\n",
       "         pressure         ghi        Kt  \n",
       "hour                                     \n",
       "6.0   1013.318750   30.663084 -0.182511  \n",
       "7.0   1013.015000  115.766684 -0.058923  \n",
       "8.0   1011.976667  310.197139 -0.017190  \n",
       "9.0   1011.566667  491.373002 -0.011644  \n",
       "10.0  1011.851667  628.392880 -0.008778  \n",
       "11.0  1012.278333  707.999345 -0.006309  \n",
       "12.0  1012.153333  723.565963 -0.007017  \n",
       "13.0  1012.345000  673.851495  0.015885  \n",
       "14.0  1012.361667  562.891372  0.082049  \n",
       "15.0  1012.115000  400.469352  0.149594  \n",
       "16.0  1011.073333  205.793937  1.063090  \n",
       "17.0  1010.206818   55.699158  3.182868  \n",
       "\n",
       "[12 rows x 23 columns]"
      ]
     },
     "execution_count": 58,
     "metadata": {},
     "output_type": "execute_result"
    }
   ],
   "source": [
    "df_new_test.loc[2].xs(17,level='day')"
   ]
  },
  {
   "cell_type": "markdown",
   "metadata": {},
   "source": [
    "### Shifting Kt values to make 1 hour ahead forecast"
   ]
  },
  {
   "cell_type": "markdown",
   "metadata": {},
   "source": [
    "#### Train dataset"
   ]
  },
  {
   "cell_type": "code",
   "execution_count": 59,
   "metadata": {},
   "outputs": [],
   "source": [
    "levels_index= []\n",
    "for m in df_new_train.index.levels:\n",
    "    levels_index.append(m)"
   ]
  },
  {
   "cell_type": "code",
   "execution_count": 60,
   "metadata": {
    "scrolled": true
   },
   "outputs": [],
   "source": [
    "for i in levels_index[0]:\n",
    "    for j in levels_index[1]:\n",
    "        df_new_train.loc[i].loc[j]['Kt'] = df_new_train.loc[i].loc[j]['Kt'].shift(-2)"
   ]
  },
  {
   "cell_type": "code",
   "execution_count": 61,
   "metadata": {},
   "outputs": [],
   "source": [
    "df_new_train = df_new_train[~(df_new_train['Kt'].isnull())]"
   ]
  },
  {
   "cell_type": "markdown",
   "metadata": {},
   "source": [
    "#### Test dataset"
   ]
  },
  {
   "cell_type": "code",
   "execution_count": 62,
   "metadata": {},
   "outputs": [],
   "source": [
    "levels_index2= []\n",
    "for m in df_new_test.index.levels:\n",
    "    levels_index2.append(m)"
   ]
  },
  {
   "cell_type": "code",
   "execution_count": 63,
   "metadata": {},
   "outputs": [],
   "source": [
    "for i in levels_index2[0]:\n",
    "    for j in levels_index2[1]:\n",
    "        df_new_test.loc[i].loc[j]['Kt'] = df_new_test.loc[i].loc[j]['Kt'].shift(-2)"
   ]
  },
  {
   "cell_type": "code",
   "execution_count": 64,
   "metadata": {},
   "outputs": [],
   "source": [
    "df_new_test = df_new_test[~(df_new_test['Kt'].isnull())]"
   ]
  },
  {
   "cell_type": "code",
   "execution_count": 65,
   "metadata": {},
   "outputs": [
    {
     "data": {
      "text/html": [
       "<div>\n",
       "<style scoped>\n",
       "    .dataframe tbody tr th:only-of-type {\n",
       "        vertical-align: middle;\n",
       "    }\n",
       "\n",
       "    .dataframe tbody tr th {\n",
       "        vertical-align: top;\n",
       "    }\n",
       "\n",
       "    .dataframe thead th {\n",
       "        text-align: right;\n",
       "    }\n",
       "</style>\n",
       "<table border=\"1\" class=\"dataframe\">\n",
       "  <thead>\n",
       "    <tr style=\"text-align: right;\">\n",
       "      <th></th>\n",
       "      <th></th>\n",
       "      <th></th>\n",
       "      <th>zen</th>\n",
       "      <th>dw_solar</th>\n",
       "      <th>uw_solar</th>\n",
       "      <th>direct_n</th>\n",
       "      <th>diffuse</th>\n",
       "      <th>dw_ir</th>\n",
       "      <th>dw_casetemp</th>\n",
       "      <th>dw_dometemp</th>\n",
       "      <th>uw_ir</th>\n",
       "      <th>uw_casetemp</th>\n",
       "      <th>...</th>\n",
       "      <th>netsolar</th>\n",
       "      <th>netir</th>\n",
       "      <th>totalnet</th>\n",
       "      <th>temp</th>\n",
       "      <th>rh</th>\n",
       "      <th>windspd</th>\n",
       "      <th>winddir</th>\n",
       "      <th>pressure</th>\n",
       "      <th>ghi</th>\n",
       "      <th>Kt</th>\n",
       "    </tr>\n",
       "    <tr>\n",
       "      <th>month</th>\n",
       "      <th>day</th>\n",
       "      <th>hour</th>\n",
       "      <th></th>\n",
       "      <th></th>\n",
       "      <th></th>\n",
       "      <th></th>\n",
       "      <th></th>\n",
       "      <th></th>\n",
       "      <th></th>\n",
       "      <th></th>\n",
       "      <th></th>\n",
       "      <th></th>\n",
       "      <th></th>\n",
       "      <th></th>\n",
       "      <th></th>\n",
       "      <th></th>\n",
       "      <th></th>\n",
       "      <th></th>\n",
       "      <th></th>\n",
       "      <th></th>\n",
       "      <th></th>\n",
       "      <th></th>\n",
       "      <th></th>\n",
       "    </tr>\n",
       "  </thead>\n",
       "  <tbody>\n",
       "    <tr>\n",
       "      <th>7.0</th>\n",
       "      <th>31.0</th>\n",
       "      <th>18.0</th>\n",
       "      <td>17.352667</td>\n",
       "      <td>804.265</td>\n",
       "      <td>143.933333</td>\n",
       "      <td>474.62</td>\n",
       "      <td>338.386667</td>\n",
       "      <td>422.245</td>\n",
       "      <td>308.041667</td>\n",
       "      <td>307.96</td>\n",
       "      <td>482.356667</td>\n",
       "      <td>303.85</td>\n",
       "      <td>...</td>\n",
       "      <td>646.77</td>\n",
       "      <td>-60.106667</td>\n",
       "      <td>586.668333</td>\n",
       "      <td>28.04</td>\n",
       "      <td>64.46</td>\n",
       "      <td>1.555</td>\n",
       "      <td>260.845</td>\n",
       "      <td>1005.741667</td>\n",
       "      <td>213.182009</td>\n",
       "      <td>1801.872849</td>\n",
       "    </tr>\n",
       "  </tbody>\n",
       "</table>\n",
       "<p>1 rows × 23 columns</p>\n",
       "</div>"
      ],
      "text/plain": [
       "                       zen  dw_solar    uw_solar  direct_n     diffuse  \\\n",
       "month day  hour                                                          \n",
       "7.0   31.0 18.0  17.352667   804.265  143.933333    474.62  338.386667   \n",
       "\n",
       "                   dw_ir  dw_casetemp  dw_dometemp       uw_ir  uw_casetemp  \\\n",
       "month day  hour                                                               \n",
       "7.0   31.0 18.0  422.245   308.041667       307.96  482.356667       303.85   \n",
       "\n",
       "                    ...       netsolar      netir    totalnet   temp     rh  \\\n",
       "month day  hour     ...                                                       \n",
       "7.0   31.0 18.0     ...         646.77 -60.106667  586.668333  28.04  64.46   \n",
       "\n",
       "                 windspd  winddir     pressure         ghi           Kt  \n",
       "month day  hour                                                          \n",
       "7.0   31.0 18.0    1.555  260.845  1005.741667  213.182009  1801.872849  \n",
       "\n",
       "[1 rows x 23 columns]"
      ]
     },
     "execution_count": 65,
     "metadata": {},
     "output_type": "execute_result"
    }
   ],
   "source": [
    "df_new_test[df_new_test['Kt']==df_new_test['Kt'].max()]"
   ]
  },
  {
   "cell_type": "markdown",
   "metadata": {},
   "source": [
    "### Normalize train and test dataframe"
   ]
  },
  {
   "cell_type": "code",
   "execution_count": 66,
   "metadata": {},
   "outputs": [],
   "source": [
    "train_norm = (df_new_train - df_new_train.mean()) / (df_new_train.max() - df_new_train.min())\n",
    "test_norm =  (df_new_test - df_new_test.mean()) / (df_new_test.max() - df_new_test.min())"
   ]
  },
  {
   "cell_type": "code",
   "execution_count": 67,
   "metadata": {},
   "outputs": [],
   "source": [
    "train_norm.reset_index(inplace=True,drop=True)\n",
    "test_norm.reset_index(inplace=True,drop=True)"
   ]
  },
  {
   "cell_type": "markdown",
   "metadata": {
    "collapsed": true
   },
   "source": [
    "### Making train and test sets with train_norm and test_norm"
   ]
  },
  {
   "cell_type": "markdown",
   "metadata": {
    "collapsed": true
   },
   "source": [
    "#### finding the gcf (greatest common factor) of train and test dataset's length and chop off the extra rows to make it divisible with the batchsize"
   ]
  },
  {
   "cell_type": "code",
   "execution_count": 68,
   "metadata": {},
   "outputs": [
    {
     "name": "stderr",
     "output_type": "stream",
     "text": [
      "C:\\Users\\s269596\\AppData\\Local\\Continuum\\Anaconda3\\lib\\site-packages\\ipykernel_launcher.py:2: DeprecationWarning: fractions.gcd() is deprecated. Use math.gcd() instead.\n",
      "  \n"
     ]
    },
    {
     "data": {
      "text/plain": [
       "1"
      ]
     },
     "execution_count": 68,
     "metadata": {},
     "output_type": "execute_result"
    }
   ],
   "source": [
    "from fractions import gcd\n",
    "gcd(train_norm.shape[0],test_norm.shape[0])"
   ]
  },
  {
   "cell_type": "code",
   "execution_count": 69,
   "metadata": {},
   "outputs": [],
   "source": [
    "import math\n",
    "def roundup(x):\n",
    "    return int(math.ceil(x / 100.0)) * 100"
   ]
  },
  {
   "cell_type": "code",
   "execution_count": 70,
   "metadata": {},
   "outputs": [],
   "source": [
    "train_lim = roundup(train_norm.shape[0])\n",
    "test_lim = roundup(test_norm.shape[0])\n",
    "\n",
    "train_random = train_norm.sample(train_lim-train_norm.shape[0])\n",
    "test_random = test_norm.sample(test_lim-test_norm.shape[0])\n",
    "\n",
    "train_norm = train_norm.append(train_random)\n",
    "test_norm = test_norm.append(test_random)"
   ]
  },
  {
   "cell_type": "code",
   "execution_count": 71,
   "metadata": {},
   "outputs": [],
   "source": [
    "X1 = train_norm.drop('Kt',axis=1)\n",
    "y1 = train_norm['Kt']\n",
    "\n",
    "X2 = test_norm.drop('Kt',axis=1)\n",
    "y2 = test_norm['Kt']"
   ]
  },
  {
   "cell_type": "code",
   "execution_count": 72,
   "metadata": {
    "scrolled": true
   },
   "outputs": [
    {
     "name": "stdout",
     "output_type": "stream",
     "text": [
      "X1_train shape is (9000, 22)\n",
      "y1_train shape is (9000,)\n",
      "X2_test shape is (3900, 22)\n",
      "y2_test shape is (3900,)\n"
     ]
    }
   ],
   "source": [
    "print(\"X1_train shape is {}\".format(X1.shape))\n",
    "print(\"y1_train shape is {}\".format(y1.shape))\n",
    "print(\"X2_test shape is {}\".format(X2.shape))\n",
    "print(\"y2_test shape is {}\".format(y2.shape))"
   ]
  },
  {
   "cell_type": "code",
   "execution_count": 73,
   "metadata": {},
   "outputs": [],
   "source": [
    "X_train = np.array(X1)\n",
    "y_train  = np.array(y1)\n",
    "X_test = np.array(X2)\n",
    "y_test = np.array(y2)"
   ]
  },
  {
   "cell_type": "markdown",
   "metadata": {},
   "source": [
    "### start of RNN"
   ]
  },
  {
   "cell_type": "code",
   "execution_count": 74,
   "metadata": {},
   "outputs": [],
   "source": [
    "import torch\n",
    "import torch.nn as nn\n",
    "import torchvision.transforms as transforms\n",
    "import torchvision.datasets as dsets\n",
    "from torch.autograd import Variable"
   ]
  },
  {
   "cell_type": "code",
   "execution_count": 75,
   "metadata": {},
   "outputs": [],
   "source": [
    "class RNNModel(nn.Module):\n",
    "    def __init__(self, input_dim, hidden_dim, layer_dim, output_dim):\n",
    "        super(RNNModel, self).__init__()\n",
    "        #Hidden Dimension\n",
    "        self.hidden_dim = hidden_dim\n",
    "        \n",
    "        # Number of hidden layers\n",
    "        self.layer_dim = layer_dim\n",
    "        \n",
    "        #Building the RNN\n",
    "        self.rnn = nn.RNN(input_dim, hidden_dim, layer_dim, batch_first=True, nonlinearity='relu')\n",
    "        \n",
    "        # Readout layer\n",
    "        self.fc = nn.Linear(hidden_dim, output_dim)\n",
    "        \n",
    "    def forward(self, x):\n",
    "        # Initializing the hidden state with zeros\n",
    "        # (layer_dim, batch_size, hidden_dim)\n",
    "        h0 = Variable(torch.zeros(self.layer_dim, x.size(0), self.hidden_dim))\n",
    "        \n",
    "        #One time step (the last one perhaps?)\n",
    "        out, hn = self.rnn(x, h0)\n",
    "        \n",
    "        # Indexing hidden state of the last time step\n",
    "        # out.size() --> ??\n",
    "        #out[:,-1,:] --> is it going to be 100,100\n",
    "        out = self.fc(out[:,-1,:])\n",
    "        # out.size() --> 100,1\n",
    "        return out\n",
    "        "
   ]
  },
  {
   "cell_type": "code",
   "execution_count": 76,
   "metadata": {},
   "outputs": [],
   "source": [
    "# Instantiating Model Class\n",
    "input_dim = 22\n",
    "hidden_dim = 15\n",
    "layer_dim = 1\n",
    "output_dim = 1\n",
    "batch_size = 100\n",
    "\n",
    "model = RNNModel(input_dim, hidden_dim, layer_dim, output_dim)\n",
    "\n",
    "# Instantiating Loss Class\n",
    "criterion = nn.MSELoss()\n",
    "\n",
    "# Instantiate Optimizer Class\n",
    "learning_rate = 0.001\n",
    "optimizer = torch.optim.SGD(model.parameters(), lr=learning_rate)\n",
    "\n",
    "# converting numpy array to torch tensor\n",
    "X_train = torch.from_numpy(X_train)\n",
    "y_train = torch.from_numpy(y_train)\n",
    "X_test = torch.from_numpy(X_test)\n",
    "y_test = torch.from_numpy(y_test)\n",
    "\n",
    "# initializing lists to store losses over epochs:\n",
    "train_loss = []\n",
    "test_loss = []\n",
    "train_iter = []\n",
    "test_iter = []"
   ]
  },
  {
   "cell_type": "code",
   "execution_count": 77,
   "metadata": {
    "scrolled": true
   },
   "outputs": [
    {
     "name": "stdout",
     "output_type": "stream",
     "text": [
      "Epoch: 0 Iteration: 0. Train_MSE: 0.07102621346712112. Test_MSE: 0.002616565671594597\n",
      "Epoch: 1 Iteration: 100. Train_MSE: 0.04818740859627724. Test_MSE: 0.0017127833451811853\n",
      "Epoch: 2 Iteration: 200. Train_MSE: 0.032102301716804504. Test_MSE: 0.0010895137739285131\n",
      "Epoch: 3 Iteration: 300. Train_MSE: 0.015069985762238503. Test_MSE: 0.0006701087734201043\n",
      "Epoch: 4 Iteration: 400. Train_MSE: 0.001872098888270557. Test_MSE: 0.00042209753473087755\n",
      "Epoch: 5 Iteration: 500. Train_MSE: 0.003314315341413021. Test_MSE: 0.0002986154289320017\n",
      "Epoch: 6 Iteration: 600. Train_MSE: 0.007565425243228674. Test_MSE: 0.00027366245757225345\n",
      "Epoch: 7 Iteration: 700. Train_MSE: 0.0017244565533474088. Test_MSE: 0.00030086124995269887\n",
      "Epoch: 8 Iteration: 800. Train_MSE: 0.0004533612809609622. Test_MSE: 0.00033080792318494696\n",
      "Epoch: 10 Iteration: 900. Train_MSE: 0.0023514230269938707. Test_MSE: 0.00035154160463967196\n",
      "Epoch: 11 Iteration: 1000. Train_MSE: 0.0044293953105807304. Test_MSE: 0.00037339692407983225\n",
      "Epoch: 12 Iteration: 1100. Train_MSE: 0.003608967876061797. Test_MSE: 0.0003912210387469892\n",
      "Epoch: 13 Iteration: 1200. Train_MSE: 0.0005701781483367085. Test_MSE: 0.00039324139187611073\n",
      "Epoch: 14 Iteration: 1300. Train_MSE: 0.0010083867236971855. Test_MSE: 0.00039287478881694664\n",
      "Epoch: 15 Iteration: 1400. Train_MSE: 0.0028091459535062313. Test_MSE: 0.00039635923103968553\n",
      "Epoch: 16 Iteration: 1500. Train_MSE: 0.001920151524245739. Test_MSE: 0.00039971476463845554\n",
      "Epoch: 17 Iteration: 1600. Train_MSE: 0.0006401970167644322. Test_MSE: 0.0003956040479848542\n",
      "Epoch: 19 Iteration: 1700. Train_MSE: 0.0014413599856197834. Test_MSE: 0.0003875558203438552\n",
      "Epoch: 20 Iteration: 1800. Train_MSE: 0.0022299436386674643. Test_MSE: 0.00038694096518842203\n",
      "Epoch: 21 Iteration: 1900. Train_MSE: 0.0016140778316184878. Test_MSE: 0.00038876492977413636\n",
      "Epoch: 22 Iteration: 2000. Train_MSE: 0.0012325349962338805. Test_MSE: 0.0003816465010603325\n",
      "Epoch: 23 Iteration: 2100. Train_MSE: 0.0010695158271118999. Test_MSE: 0.000375128914829625\n",
      "Epoch: 24 Iteration: 2200. Train_MSE: 0.0018752493197098374. Test_MSE: 0.0003730981427060384\n",
      "Epoch: 25 Iteration: 2300. Train_MSE: 0.0014407822163775563. Test_MSE: 0.00037293585528344603\n",
      "Epoch: 26 Iteration: 2400. Train_MSE: 0.00043363674194552004. Test_MSE: 0.0003679264647131213\n",
      "Epoch: 28 Iteration: 2500. Train_MSE: 0.0006601743516512215. Test_MSE: 0.0003609885554708832\n",
      "Epoch: 29 Iteration: 2600. Train_MSE: 0.002052027964964509. Test_MSE: 0.000358776481432988\n",
      "Epoch: 30 Iteration: 2700. Train_MSE: 0.0014215355040505528. Test_MSE: 0.0003598309118032179\n",
      "Epoch: 31 Iteration: 2800. Train_MSE: 0.0008599397260695696. Test_MSE: 0.0003547212122437017\n",
      "Epoch: 32 Iteration: 2900. Train_MSE: 0.00045770886936224997. Test_MSE: 0.00034907151324406184\n",
      "Epoch: 33 Iteration: 3000. Train_MSE: 0.0015887366607785225. Test_MSE: 0.0003471599753202232\n",
      "Epoch: 34 Iteration: 3100. Train_MSE: 0.0016259914264082909. Test_MSE: 0.0003470239325583537\n",
      "Epoch: 35 Iteration: 3200. Train_MSE: 0.0002332744188606739. Test_MSE: 0.0003434724834452564\n",
      "Epoch: 37 Iteration: 3300. Train_MSE: 0.0011399490758776665. Test_MSE: 0.0003384915300987705\n",
      "Epoch: 38 Iteration: 3400. Train_MSE: 0.0018335336353629827. Test_MSE: 0.00033600919488899233\n",
      "Epoch: 39 Iteration: 3500. Train_MSE: 0.0018240265781059861. Test_MSE: 0.0003372393755991921\n",
      "Epoch: 40 Iteration: 3600. Train_MSE: 0.00025576248299330473. Test_MSE: 0.0003338247367555408\n",
      "Epoch: 41 Iteration: 3700. Train_MSE: 0.0005192547105252743. Test_MSE: 0.00032945581151947264\n",
      "Epoch: 42 Iteration: 3800. Train_MSE: 0.0021124589256942272. Test_MSE: 0.00032775768995742054\n",
      "Epoch: 43 Iteration: 3900. Train_MSE: 0.0009881570003926754. Test_MSE: 0.0003278437424821244\n",
      "Epoch: 44 Iteration: 4000. Train_MSE: 0.0005815416807308793. Test_MSE: 0.00032520799704383\n",
      "Epoch: 46 Iteration: 4100. Train_MSE: 0.0006175626185722649. Test_MSE: 0.00032210211828452806\n",
      "Epoch: 47 Iteration: 4200. Train_MSE: 0.0008044940768741071. Test_MSE: 0.0003194928737944514\n",
      "Epoch: 48 Iteration: 4300. Train_MSE: 0.0014393961755558848. Test_MSE: 0.00032044283538331704\n",
      "Epoch: 49 Iteration: 4400. Train_MSE: 0.0007242759456858039. Test_MSE: 0.0003180044659904182\n",
      "Epoch: 50 Iteration: 4500. Train_MSE: 0.00034258130472153425. Test_MSE: 0.00031489355872170086\n",
      "Epoch: 51 Iteration: 4600. Train_MSE: 0.0012142352061346173. Test_MSE: 0.0003135139787797188\n",
      "Epoch: 52 Iteration: 4700. Train_MSE: 0.0006440460565499961. Test_MSE: 0.0003134720988663905\n",
      "Epoch: 53 Iteration: 4800. Train_MSE: 0.00028478604508563876. Test_MSE: 0.00031189854844134\n",
      "Epoch: 55 Iteration: 4900. Train_MSE: 0.0007957136840559542. Test_MSE: 0.0003096498797610492\n",
      "Epoch: 56 Iteration: 5000. Train_MSE: 0.00349333044141531. Test_MSE: 0.0003072294961847591\n",
      "Epoch: 57 Iteration: 5100. Train_MSE: 0.0006226516561582685. Test_MSE: 0.00030780630210678733\n",
      "Epoch: 58 Iteration: 5200. Train_MSE: 0.001488480600528419. Test_MSE: 0.000306453530656783\n",
      "Epoch: 59 Iteration: 5300. Train_MSE: 0.0006176016759127378. Test_MSE: 0.0003038629373478297\n",
      "Epoch: 60 Iteration: 5400. Train_MSE: 0.0012090046657249331. Test_MSE: 0.0003024636018194962\n",
      "Epoch: 61 Iteration: 5500. Train_MSE: 0.0009699916117824614. Test_MSE: 0.00030262942272357094\n",
      "Epoch: 62 Iteration: 5600. Train_MSE: 0.0006060784799046814. Test_MSE: 0.00030150716596989794\n",
      "Epoch: 64 Iteration: 5700. Train_MSE: 0.0007580694509670138. Test_MSE: 0.0003001753689653357\n",
      "Epoch: 65 Iteration: 5800. Train_MSE: 0.002006145194172859. Test_MSE: 0.0002979624412435585\n",
      "Epoch: 66 Iteration: 5900. Train_MSE: 0.0007198739913292229. Test_MSE: 0.000298117055066631\n",
      "Epoch: 67 Iteration: 6000. Train_MSE: 0.0006208755075931549. Test_MSE: 0.0002973840384710902\n",
      "Epoch: 68 Iteration: 6100. Train_MSE: 0.0005322492215782404. Test_MSE: 0.00029519335880687204\n",
      "Epoch: 69 Iteration: 6200. Train_MSE: 0.0007017983007244766. Test_MSE: 0.00029404085300998743\n",
      "Epoch: 70 Iteration: 6300. Train_MSE: 0.008544504642486572. Test_MSE: 0.0002939333863125462\n",
      "Epoch: 71 Iteration: 6400. Train_MSE: 0.000846377806738019. Test_MSE: 0.00029322837875502016\n",
      "Epoch: 73 Iteration: 6500. Train_MSE: 0.00029486120911315084. Test_MSE: 0.0002924974942864172\n",
      "Epoch: 74 Iteration: 6600. Train_MSE: 0.0005307464743964374. Test_MSE: 0.00029030930594510035\n",
      "Epoch: 75 Iteration: 6700. Train_MSE: 0.01316571794450283. Test_MSE: 0.0002902219629493129\n",
      "Epoch: 76 Iteration: 6800. Train_MSE: 0.0007554935873486102. Test_MSE: 0.0002899766381015293\n",
      "Epoch: 77 Iteration: 6900. Train_MSE: 0.0008643235778436065. Test_MSE: 0.0002878516734496557\n",
      "Epoch: 78 Iteration: 7000. Train_MSE: 0.0007870603585615754. Test_MSE: 0.0002870312676938508\n",
      "Epoch: 79 Iteration: 7100. Train_MSE: 0.001295192982070148. Test_MSE: 0.00028696359476692527\n",
      "Epoch: 80 Iteration: 7200. Train_MSE: 0.0005922724376432598. Test_MSE: 0.000286562954246255\n",
      "Epoch: 82 Iteration: 7300. Train_MSE: 0.0009477842831984162. Test_MSE: 0.00028585000676606436\n",
      "Epoch: 83 Iteration: 7400. Train_MSE: 0.0007081324001774192. Test_MSE: 0.0002838594702457034\n",
      "Epoch: 84 Iteration: 7500. Train_MSE: 0.0014495992800220847. Test_MSE: 0.00028388195738451757\n",
      "Epoch: 85 Iteration: 7600. Train_MSE: 0.0004179048410151154. Test_MSE: 0.0002838581031889452\n",
      "Epoch: 86 Iteration: 7700. Train_MSE: 0.0003096265427302569. Test_MSE: 0.0002819436644377193\n",
      "Epoch: 87 Iteration: 7800. Train_MSE: 0.0004005471128039062. Test_MSE: 0.0002812207197177176\n",
      "Epoch: 88 Iteration: 7900. Train_MSE: 0.0013357080752030015. Test_MSE: 0.0002810317505457886\n",
      "Epoch: 89 Iteration: 8000. Train_MSE: 0.0002966810716316104. Test_MSE: 0.00028075032740901924\n",
      "Epoch: 91 Iteration: 8100. Train_MSE: 0.0005872498732060194. Test_MSE: 0.00028039538630238083\n",
      "Epoch: 92 Iteration: 8200. Train_MSE: 0.0008076991070993245. Test_MSE: 0.00027853510145984514\n",
      "Epoch: 93 Iteration: 8300. Train_MSE: 0.0010569870937615633. Test_MSE: 0.0002783146703345253\n",
      "Epoch: 94 Iteration: 8400. Train_MSE: 0.0006355616496875882. Test_MSE: 0.0002785433675713286\n",
      "Epoch: 95 Iteration: 8500. Train_MSE: 0.001533408765681088. Test_MSE: 0.0002767362630447465\n",
      "Epoch: 96 Iteration: 8600. Train_MSE: 0.0006976796430535614. Test_MSE: 0.0002761602654910329\n",
      "Epoch: 97 Iteration: 8700. Train_MSE: 0.0009095440036617219. Test_MSE: 0.0002758205918577466\n",
      "Epoch: 98 Iteration: 8800. Train_MSE: 0.0005327793769538403. Test_MSE: 0.00027560250700113455\n",
      "Epoch: 100 Iteration: 8900. Train_MSE: 0.0007809080998413265. Test_MSE: 0.0002754630904865886\n"
     ]
    },
    {
     "name": "stdout",
     "output_type": "stream",
     "text": [
      "Epoch: 101 Iteration: 9000. Train_MSE: 0.00027039804263040423. Test_MSE: 0.0002738220768785274\n",
      "Epoch: 102 Iteration: 9100. Train_MSE: 0.0007372400723397732. Test_MSE: 0.000273459988002357\n",
      "Epoch: 103 Iteration: 9200. Train_MSE: 0.0005497653619386256. Test_MSE: 0.00027373653760794976\n",
      "Epoch: 104 Iteration: 9300. Train_MSE: 0.000511855585500598. Test_MSE: 0.0002721888599591102\n",
      "Epoch: 105 Iteration: 9400. Train_MSE: 0.0005754136363975704. Test_MSE: 0.00027162687531975344\n",
      "Epoch: 106 Iteration: 9500. Train_MSE: 0.0010389707749709487. Test_MSE: 0.0002712090164594662\n",
      "Epoch: 107 Iteration: 9600. Train_MSE: 0.0005902088014408946. Test_MSE: 0.00027107776665497593\n",
      "Epoch: 108 Iteration: 9700. Train_MSE: 0.000554964761249721. Test_MSE: 0.0002707857240461164\n",
      "Epoch: 110 Iteration: 9800. Train_MSE: 0.0005419874214567244. Test_MSE: 0.00026942382198095\n",
      "Epoch: 111 Iteration: 9900. Train_MSE: 0.0008617540588602424. Test_MSE: 0.00026901384077881064\n",
      "Epoch: 112 Iteration: 10000. Train_MSE: 0.0010139583609998226. Test_MSE: 0.0002692944760168529\n",
      "Epoch: 113 Iteration: 10100. Train_MSE: 0.00033736974000930786. Test_MSE: 0.0002679357959387593\n",
      "Epoch: 114 Iteration: 10200. Train_MSE: 0.0005416656495071948. Test_MSE: 0.0002674989104485493\n",
      "Epoch: 115 Iteration: 10300. Train_MSE: 0.0008909296011552215. Test_MSE: 0.0002669668216511023\n",
      "Epoch: 116 Iteration: 10400. Train_MSE: 0.00039618604932911694. Test_MSE: 0.0002667734287314579\n",
      "Epoch: 117 Iteration: 10500. Train_MSE: 0.0010714492527768016. Test_MSE: 0.00026650605880161854\n",
      "Epoch: 119 Iteration: 10600. Train_MSE: 0.0006193164153955877. Test_MSE: 0.0002653993328940377\n",
      "Epoch: 120 Iteration: 10700. Train_MSE: 0.0004583821864798665. Test_MSE: 0.0002648564698375886\n",
      "Epoch: 121 Iteration: 10800. Train_MSE: 0.0005190403899177909. Test_MSE: 0.00026517412865470236\n",
      "Epoch: 122 Iteration: 10900. Train_MSE: 0.00042784298420883715. Test_MSE: 0.0002639383619667742\n",
      "Epoch: 123 Iteration: 11000. Train_MSE: 0.00034639108343981206. Test_MSE: 0.0002635926183450335\n",
      "Epoch: 124 Iteration: 11100. Train_MSE: 0.0006778863025829196. Test_MSE: 0.0002630513866110862\n",
      "Epoch: 125 Iteration: 11200. Train_MSE: 0.0005331965512596071. Test_MSE: 0.00026290655673153726\n",
      "Epoch: 126 Iteration: 11300. Train_MSE: 0.0004485942190513015. Test_MSE: 0.0002624060101551282\n",
      "Epoch: 128 Iteration: 11400. Train_MSE: 0.00033739354694262147. Test_MSE: 0.0002617530878317075\n",
      "Epoch: 129 Iteration: 11500. Train_MSE: 0.0006231768638826907. Test_MSE: 0.0002610358313293963\n",
      "Epoch: 130 Iteration: 11600. Train_MSE: 0.000529537268448621. Test_MSE: 0.00026131423110375084\n",
      "Epoch: 131 Iteration: 11700. Train_MSE: 0.0004714626702480018. Test_MSE: 0.00026032104574472126\n",
      "Epoch: 132 Iteration: 11800. Train_MSE: 0.00028400844894349575. Test_MSE: 0.00025987288952129833\n",
      "Epoch: 133 Iteration: 11900. Train_MSE: 0.000671841436997056. Test_MSE: 0.0002593646680711133\n",
      "Epoch: 134 Iteration: 12000. Train_MSE: 0.0005988713819533587. Test_MSE: 0.00025922179530049903\n",
      "Epoch: 135 Iteration: 12100. Train_MSE: 0.00035622130963020027. Test_MSE: 0.00025867840662361627\n",
      "Epoch: 137 Iteration: 12200. Train_MSE: 0.000676696770824492. Test_MSE: 0.0002582476859195859\n",
      "Epoch: 138 Iteration: 12300. Train_MSE: 0.001184051507152617. Test_MSE: 0.00025738751207892417\n",
      "Epoch: 139 Iteration: 12400. Train_MSE: 0.0007940036011859775. Test_MSE: 0.00025769155176704394\n",
      "Epoch: 140 Iteration: 12500. Train_MSE: 0.00035506609128788114. Test_MSE: 0.00025684394429099157\n",
      "Epoch: 141 Iteration: 12600. Train_MSE: 0.00047071967856027186. Test_MSE: 0.00025637188801956086\n",
      "Epoch: 142 Iteration: 12700. Train_MSE: 0.0015030945651233196. Test_MSE: 0.00025589442427602024\n",
      "Epoch: 143 Iteration: 12800. Train_MSE: 0.0004463530203793198. Test_MSE: 0.0002557667958268407\n",
      "Epoch: 144 Iteration: 12900. Train_MSE: 0.0003251680755056441. Test_MSE: 0.00025514130853626193\n",
      "Epoch: 146 Iteration: 13000. Train_MSE: 0.00047068591811694205. Test_MSE: 0.00025499666548822037\n",
      "Epoch: 147 Iteration: 13100. Train_MSE: 0.0005241403123363853. Test_MSE: 0.0002540074863920548\n",
      "Epoch: 148 Iteration: 13200. Train_MSE: 0.0006728190346620977. Test_MSE: 0.00025419510962900924\n",
      "Epoch: 149 Iteration: 13300. Train_MSE: 0.0005010644672438502. Test_MSE: 0.00025341028799260375\n",
      "Epoch: 150 Iteration: 13400. Train_MSE: 0.00026448024436831474. Test_MSE: 0.00025305423672996355\n",
      "Epoch: 151 Iteration: 13500. Train_MSE: 0.0006231562583707273. Test_MSE: 0.0002526436109036494\n",
      "Epoch: 152 Iteration: 13600. Train_MSE: 0.00036010946496389806. Test_MSE: 0.00025242222012695283\n",
      "Epoch: 153 Iteration: 13700. Train_MSE: 0.00024104351177811623. Test_MSE: 0.0002519690757453507\n",
      "Epoch: 155 Iteration: 13800. Train_MSE: 0.0005099886911921203. Test_MSE: 0.0002518355415960703\n",
      "Epoch: 156 Iteration: 13900. Train_MSE: 0.0034859669394791126. Test_MSE: 0.0002508512616884116\n",
      "Epoch: 157 Iteration: 14000. Train_MSE: 0.0002554072707425803. Test_MSE: 0.0002508980263882798\n",
      "Epoch: 158 Iteration: 14100. Train_MSE: 0.0013662789715453982. Test_MSE: 0.0002503658272769063\n",
      "Epoch: 159 Iteration: 14200. Train_MSE: 0.0005821635131724179. Test_MSE: 0.0002499140912209517\n",
      "Epoch: 160 Iteration: 14300. Train_MSE: 0.000851030636113137. Test_MSE: 0.0002494418067432291\n",
      "Epoch: 161 Iteration: 14400. Train_MSE: 0.0005065402947366238. Test_MSE: 0.00024931817750790947\n",
      "Epoch: 162 Iteration: 14500. Train_MSE: 0.0005214883130975068. Test_MSE: 0.0002488826788138729\n",
      "Epoch: 164 Iteration: 14600. Train_MSE: 0.0004803059855476022. Test_MSE: 0.0002488966979800278\n",
      "Epoch: 165 Iteration: 14700. Train_MSE: 0.001875470858067274. Test_MSE: 0.000247953822465583\n",
      "Epoch: 166 Iteration: 14800. Train_MSE: 0.0003781262494158. Test_MSE: 0.00024782206549198393\n",
      "Epoch: 167 Iteration: 14900. Train_MSE: 0.0005137142725288868. Test_MSE: 0.0002474569414611172\n",
      "Epoch: 168 Iteration: 15000. Train_MSE: 0.0005379862850531936. Test_MSE: 0.00024693166591566233\n",
      "Epoch: 169 Iteration: 15100. Train_MSE: 0.0004083254316356033. Test_MSE: 0.00024653230192935147\n",
      "Epoch: 170 Iteration: 15200. Train_MSE: 0.008584882132709026. Test_MSE: 0.00024629989068804514\n",
      "Epoch: 171 Iteration: 15300. Train_MSE: 0.0005954820662736893. Test_MSE: 0.00024596608694327\n",
      "Epoch: 173 Iteration: 15400. Train_MSE: 0.00023299730673898011. Test_MSE: 0.0002460584285069019\n",
      "Epoch: 174 Iteration: 15500. Train_MSE: 0.0003495560958981514. Test_MSE: 0.0002450945681427414\n",
      "Epoch: 175 Iteration: 15600. Train_MSE: 0.013281464576721191. Test_MSE: 0.0002448599470519642\n",
      "Epoch: 176 Iteration: 15700. Train_MSE: 0.000590726500377059. Test_MSE: 0.00024468409130918114\n",
      "Epoch: 177 Iteration: 15800. Train_MSE: 0.0006889399373903871. Test_MSE: 0.00024397729337479913\n",
      "Epoch: 178 Iteration: 15900. Train_MSE: 0.0004717077245004475. Test_MSE: 0.0002436966037239296\n",
      "Epoch: 179 Iteration: 16000. Train_MSE: 0.0011989549966529012. Test_MSE: 0.00024352475475834668\n",
      "Epoch: 180 Iteration: 16100. Train_MSE: 0.00042781635420396924. Test_MSE: 0.0002432602798839302\n",
      "Epoch: 182 Iteration: 16200. Train_MSE: 0.0007579992525279522. Test_MSE: 0.00024321533070770484\n",
      "Epoch: 183 Iteration: 16300. Train_MSE: 0.0005341307260096073. Test_MSE: 0.000242301183812199\n",
      "Epoch: 184 Iteration: 16400. Train_MSE: 0.001310031278990209. Test_MSE: 0.00024215653639860955\n",
      "Epoch: 185 Iteration: 16500. Train_MSE: 0.0003543188504409045. Test_MSE: 0.00024205493118724822\n",
      "Epoch: 186 Iteration: 16600. Train_MSE: 0.0002572369121480733. Test_MSE: 0.00024129536794586132\n",
      "Epoch: 187 Iteration: 16700. Train_MSE: 0.00027454219525679946. Test_MSE: 0.00024102420717756528\n",
      "Epoch: 188 Iteration: 16800. Train_MSE: 0.0011360832722857594. Test_MSE: 0.00024081430480969734\n",
      "Epoch: 189 Iteration: 16900. Train_MSE: 0.00020876486087217927. Test_MSE: 0.00024057815744413252\n",
      "Epoch: 191 Iteration: 17000. Train_MSE: 0.0005087875761091709. Test_MSE: 0.00024061648987591335\n",
      "Epoch: 192 Iteration: 17100. Train_MSE: 0.0005835791816934943. Test_MSE: 0.00023970339980437525\n",
      "Epoch: 193 Iteration: 17200. Train_MSE: 0.0009877291740849614. Test_MSE: 0.00023944958691042735\n",
      "Epoch: 194 Iteration: 17300. Train_MSE: 0.000471111765364185. Test_MSE: 0.0002394765143019782\n",
      "Epoch: 195 Iteration: 17400. Train_MSE: 0.0013012283015996218. Test_MSE: 0.0002386403387621595\n",
      "Epoch: 196 Iteration: 17500. Train_MSE: 0.00047359836753457785. Test_MSE: 0.0002384244587491155\n"
     ]
    },
    {
     "name": "stdout",
     "output_type": "stream",
     "text": [
      "Epoch: 197 Iteration: 17600. Train_MSE: 0.0007237786194309592. Test_MSE: 0.0002381522288813406\n",
      "Epoch: 198 Iteration: 17700. Train_MSE: 0.0004133535549044609. Test_MSE: 0.0002379265009284767\n",
      "Epoch: 200 Iteration: 17800. Train_MSE: 0.0007750818622298539. Test_MSE: 0.00023800919034853215\n",
      "Epoch: 201 Iteration: 17900. Train_MSE: 0.00017503215349279344. Test_MSE: 0.00023717441349410833\n",
      "Epoch: 202 Iteration: 18000. Train_MSE: 0.0006250643637031317. Test_MSE: 0.00023685871425823825\n",
      "Epoch: 203 Iteration: 18100. Train_MSE: 0.00039197865407913923. Test_MSE: 0.00023691862834323074\n",
      "Epoch: 204 Iteration: 18200. Train_MSE: 0.0004452329012565315. Test_MSE: 0.0002361434483365631\n",
      "Epoch: 205 Iteration: 18300. Train_MSE: 0.00041164804133586586. Test_MSE: 0.00023590976708761795\n",
      "Epoch: 206 Iteration: 18400. Train_MSE: 0.0008791125728748739. Test_MSE: 0.00023560830863826398\n",
      "Epoch: 207 Iteration: 18500. Train_MSE: 0.00043885334162041545. Test_MSE: 0.00023544330202728288\n",
      "Epoch: 208 Iteration: 18600. Train_MSE: 0.000495817163027823. Test_MSE: 0.00023537351906848745\n",
      "Epoch: 210 Iteration: 18700. Train_MSE: 0.0003930033999495208. Test_MSE: 0.0002346747273315747\n",
      "Epoch: 211 Iteration: 18800. Train_MSE: 0.0006640934152528644. Test_MSE: 0.00023434568427115038\n",
      "Epoch: 212 Iteration: 18900. Train_MSE: 0.0009312587208114564. Test_MSE: 0.00023441675264602963\n",
      "Epoch: 213 Iteration: 19000. Train_MSE: 0.00029345080838538706. Test_MSE: 0.0002336806175873814\n",
      "Epoch: 214 Iteration: 19100. Train_MSE: 0.00037721951957792044. Test_MSE: 0.00023350062177337702\n",
      "Epoch: 215 Iteration: 19200. Train_MSE: 0.0007587569416500628. Test_MSE: 0.00023314510946496905\n",
      "Epoch: 216 Iteration: 19300. Train_MSE: 0.0003113826969638467. Test_MSE: 0.0002329506103647694\n",
      "Epoch: 217 Iteration: 19400. Train_MSE: 0.0009880973957479. Test_MSE: 0.0002328532998912872\n",
      "Epoch: 219 Iteration: 19500. Train_MSE: 0.00045290670823305845. Test_MSE: 0.00023227662100929497\n",
      "Epoch: 220 Iteration: 19600. Train_MSE: 0.00033532732049934566. Test_MSE: 0.00023188075222145224\n",
      "Epoch: 221 Iteration: 19700. Train_MSE: 0.00040002475725486875. Test_MSE: 0.00023198576808815927\n",
      "Epoch: 222 Iteration: 19800. Train_MSE: 0.0002989170025102794. Test_MSE: 0.00023127507675988542\n",
      "Epoch: 223 Iteration: 19900. Train_MSE: 0.000271965516731143. Test_MSE: 0.00023113485464073183\n",
      "Epoch: 224 Iteration: 20000. Train_MSE: 0.0005515358061529696. Test_MSE: 0.00023076747935841128\n",
      "Epoch: 225 Iteration: 20100. Train_MSE: 0.0003780866099987179. Test_MSE: 0.00023060592226973732\n",
      "Epoch: 226 Iteration: 20200. Train_MSE: 0.0004311750817578286. Test_MSE: 0.00023033587280971388\n",
      "Epoch: 228 Iteration: 20300. Train_MSE: 0.00026261209859512746. Test_MSE: 0.00023000735712677022\n",
      "Epoch: 229 Iteration: 20400. Train_MSE: 0.0004813634732272476. Test_MSE: 0.00022950838304642727\n",
      "Epoch: 230 Iteration: 20500. Train_MSE: 0.00041411840356886387. Test_MSE: 0.00022960632948679832\n",
      "Epoch: 231 Iteration: 20600. Train_MSE: 0.0003880726872012019. Test_MSE: 0.00022900078119993833\n",
      "Epoch: 232 Iteration: 20700. Train_MSE: 0.00023137536481954157. Test_MSE: 0.00022878878786042944\n",
      "Epoch: 233 Iteration: 20800. Train_MSE: 0.0005755365127697587. Test_MSE: 0.0002284456122704408\n",
      "Epoch: 234 Iteration: 20900. Train_MSE: 0.0004842574126087129. Test_MSE: 0.00022830219339896047\n",
      "Epoch: 235 Iteration: 21000. Train_MSE: 0.00035214555100537837. Test_MSE: 0.0002279724422130707\n",
      "Epoch: 237 Iteration: 21100. Train_MSE: 0.0005222692270763218. Test_MSE: 0.00022777190054895028\n",
      "Epoch: 238 Iteration: 21200. Train_MSE: 0.0010838733287528157. Test_MSE: 0.00022718514177968353\n",
      "Epoch: 239 Iteration: 21300. Train_MSE: 0.0006280384259298444. Test_MSE: 0.00022731240813384605\n",
      "Epoch: 240 Iteration: 21400. Train_MSE: 0.00032471827580593526. Test_MSE: 0.00022676449989764334\n",
      "Epoch: 241 Iteration: 21500. Train_MSE: 0.0003797941899392754. Test_MSE: 0.00022652417702406232\n",
      "Epoch: 242 Iteration: 21600. Train_MSE: 0.0014219399308785796. Test_MSE: 0.00022620572959503675\n",
      "Epoch: 243 Iteration: 21700. Train_MSE: 0.00033563305623829365. Test_MSE: 0.00022607422138193055\n",
      "Epoch: 244 Iteration: 21800. Train_MSE: 0.00025183457182720304. Test_MSE: 0.00022566778061648815\n",
      "Epoch: 246 Iteration: 21900. Train_MSE: 0.000368267297744751. Test_MSE: 0.00022563833826034187\n",
      "Epoch: 247 Iteration: 22000. Train_MSE: 0.00044567190343514085. Test_MSE: 0.0002249643338860532\n",
      "Epoch: 248 Iteration: 22100. Train_MSE: 0.000541536370292306. Test_MSE: 0.00022502801846107672\n",
      "Epoch: 249 Iteration: 22200. Train_MSE: 0.0004378034791443497. Test_MSE: 0.00022449872065839944\n",
      "Epoch: 250 Iteration: 22300. Train_MSE: 0.00022063589130993932. Test_MSE: 0.00022432025900948445\n",
      "Epoch: 251 Iteration: 22400. Train_MSE: 0.0005131697980687022. Test_MSE: 0.00022404667465558364\n",
      "Epoch: 252 Iteration: 22500. Train_MSE: 0.00030548765789717436. Test_MSE: 0.00022385508295154658\n",
      "Epoch: 253 Iteration: 22600. Train_MSE: 0.0002209044760093093. Test_MSE: 0.00022354137549399143\n",
      "Epoch: 255 Iteration: 22700. Train_MSE: 0.00038872554432600737. Test_MSE: 0.000223512571748544\n",
      "Epoch: 256 Iteration: 22800. Train_MSE: 0.003383349161595106. Test_MSE: 0.00022283534477054244\n",
      "Epoch: 257 Iteration: 22900. Train_MSE: 0.00020244518236722797. Test_MSE: 0.0002228139532382397\n",
      "Epoch: 258 Iteration: 23000. Train_MSE: 0.001219945726916194. Test_MSE: 0.00022244075125925168\n",
      "Epoch: 259 Iteration: 23100. Train_MSE: 0.0004907760885544121. Test_MSE: 0.00022218224575061966\n",
      "Epoch: 260 Iteration: 23200. Train_MSE: 0.000744212418794632. Test_MSE: 0.00022186939411000776\n",
      "Epoch: 261 Iteration: 23300. Train_MSE: 0.0004384499916341156. Test_MSE: 0.00022174415903053452\n",
      "Epoch: 262 Iteration: 23400. Train_MSE: 0.0004387332883197814. Test_MSE: 0.00022143047667632143\n",
      "Epoch: 264 Iteration: 23500. Train_MSE: 0.00035979304811917245. Test_MSE: 0.00022149038856564767\n",
      "Epoch: 265 Iteration: 23600. Train_MSE: 0.0018095186678692698. Test_MSE: 0.0002208472813661075\n",
      "Epoch: 266 Iteration: 23700. Train_MSE: 0.0003202637890353799. Test_MSE: 0.00022070386264287658\n",
      "Epoch: 267 Iteration: 23800. Train_MSE: 0.0004383689956739545. Test_MSE: 0.00022043836206624975\n",
      "Epoch: 268 Iteration: 23900. Train_MSE: 0.00047177658416330814. Test_MSE: 0.000220110816284179\n",
      "Epoch: 269 Iteration: 24000. Train_MSE: 0.0003240156511310488. Test_MSE: 0.00021984803409554906\n",
      "Epoch: 270 Iteration: 24100. Train_MSE: 0.008503091521561146. Test_MSE: 0.000219648569593756\n",
      "Epoch: 271 Iteration: 24200. Train_MSE: 0.0004736226692330092. Test_MSE: 0.00021940436552899412\n",
      "Epoch: 273 Iteration: 24300. Train_MSE: 0.0001987572613870725. Test_MSE: 0.0002195014433232026\n",
      "Epoch: 274 Iteration: 24400. Train_MSE: 0.0002920868282672018. Test_MSE: 0.00021884957332840983\n",
      "Epoch: 275 Iteration: 24500. Train_MSE: 0.01323779858648777. Test_MSE: 0.00021863204123410743\n",
      "Epoch: 276 Iteration: 24600. Train_MSE: 0.0004835741128772497. Test_MSE: 0.0002184937175974154\n",
      "Epoch: 277 Iteration: 24700. Train_MSE: 0.0005629307124763727. Test_MSE: 0.00021802659637264754\n",
      "Epoch: 278 Iteration: 24800. Train_MSE: 0.00034639344085007906. Test_MSE: 0.00021784187521172848\n",
      "Epoch: 279 Iteration: 24900. Train_MSE: 0.0011466305004432797. Test_MSE: 0.0002176985635706157\n",
      "Epoch: 280 Iteration: 25000. Train_MSE: 0.00036536221159622073. Test_MSE: 0.00021748544121518037\n",
      "Epoch: 282 Iteration: 25100. Train_MSE: 0.0006338685052469373. Test_MSE: 0.0002174808912987314\n",
      "Epoch: 283 Iteration: 25200. Train_MSE: 0.00044095568591728806. Test_MSE: 0.00021685826082371557\n",
      "Epoch: 284 Iteration: 25300. Train_MSE: 0.0012615942396223545. Test_MSE: 0.00021671924523357575\n",
      "Epoch: 285 Iteration: 25400. Train_MSE: 0.0003026063786819577. Test_MSE: 0.00021662034587587506\n",
      "Epoch: 286 Iteration: 25500. Train_MSE: 0.0002160574367735535. Test_MSE: 0.00021610412454960569\n",
      "Epoch: 287 Iteration: 25600. Train_MSE: 0.00022814450494479388. Test_MSE: 0.00021592257367924873\n",
      "Epoch: 288 Iteration: 25700. Train_MSE: 0.0010568612487986684. Test_MSE: 0.00021576129918977394\n",
      "Epoch: 289 Iteration: 25800. Train_MSE: 0.00018349070160184056. Test_MSE: 0.00021556667896441024\n",
      "Epoch: 291 Iteration: 25900. Train_MSE: 0.0004332654061727226. Test_MSE: 0.00021561709960273625\n",
      "Epoch: 292 Iteration: 26000. Train_MSE: 0.00046511783148162067. Test_MSE: 0.00021498771772332292\n",
      "Epoch: 293 Iteration: 26100. Train_MSE: 0.0009411562932655215. Test_MSE: 0.00021477641479766883\n"
     ]
    },
    {
     "name": "stdout",
     "output_type": "stream",
     "text": [
      "Epoch: 294 Iteration: 26200. Train_MSE: 0.00040216362685896456. Test_MSE: 0.00021476980493773164\n",
      "Epoch: 295 Iteration: 26300. Train_MSE: 0.0011077290400862694. Test_MSE: 0.00021418591927481722\n",
      "Epoch: 296 Iteration: 26400. Train_MSE: 0.00037953307037241757. Test_MSE: 0.00021404185944881685\n",
      "Epoch: 297 Iteration: 26500. Train_MSE: 0.0006625734968110919. Test_MSE: 0.00021384258947727334\n",
      "Epoch: 298 Iteration: 26600. Train_MSE: 0.0003597511094994843. Test_MSE: 0.0002136495210500817\n",
      "Epoch: 300 Iteration: 26700. Train_MSE: 0.0007128105498850346. Test_MSE: 0.00021372562549293\n",
      "Epoch: 301 Iteration: 26800. Train_MSE: 0.000139163137646392. Test_MSE: 0.00021314589632918238\n",
      "Epoch: 302 Iteration: 26900. Train_MSE: 0.0005733567522838712. Test_MSE: 0.0002128932460692584\n",
      "Epoch: 303 Iteration: 27000. Train_MSE: 0.00032864109380170703. Test_MSE: 0.00021291043997922023\n",
      "Epoch: 304 Iteration: 27100. Train_MSE: 0.0003847041225526482. Test_MSE: 0.0002123595672103405\n",
      "Epoch: 305 Iteration: 27200. Train_MSE: 0.00033134117256850004. Test_MSE: 0.00021219662865966184\n",
      "Epoch: 306 Iteration: 27300. Train_MSE: 0.0008276158478111029. Test_MSE: 0.00021197781455954524\n",
      "Epoch: 307 Iteration: 27400. Train_MSE: 0.0003435242979321629. Test_MSE: 0.00021183411548504356\n",
      "Epoch: 308 Iteration: 27500. Train_MSE: 0.00041425571544095874. Test_MSE: 0.0002117895965367393\n",
      "Epoch: 310 Iteration: 27600. Train_MSE: 0.0003185522509738803. Test_MSE: 0.00021130457952066092\n",
      "Epoch: 311 Iteration: 27700. Train_MSE: 0.0005849468871019781. Test_MSE: 0.0002110448831189439\n",
      "Epoch: 312 Iteration: 27800. Train_MSE: 0.0009053330286405981. Test_MSE: 0.0002110707461039282\n",
      "Epoch: 313 Iteration: 27900. Train_MSE: 0.00024917165865190327. Test_MSE: 0.00021053747006904205\n",
      "Epoch: 314 Iteration: 28000. Train_MSE: 0.0002825675474014133. Test_MSE: 0.00021041163013931188\n",
      "Epoch: 315 Iteration: 28100. Train_MSE: 0.0007094357861205935. Test_MSE: 0.00021015562351264208\n",
      "Epoch: 316 Iteration: 28200. Train_MSE: 0.0002751787251327187. Test_MSE: 0.00020999356966229537\n",
      "Epoch: 317 Iteration: 28300. Train_MSE: 0.0008519722614437342. Test_MSE: 0.00020992434599256205\n",
      "Epoch: 319 Iteration: 28400. Train_MSE: 0.00035759914317168295. Test_MSE: 0.00020952077867111572\n",
      "Epoch: 320 Iteration: 28500. Train_MSE: 0.00028791461954824626. Test_MSE: 0.0002092161664578902\n",
      "Epoch: 321 Iteration: 28600. Train_MSE: 0.00033996798447333276. Test_MSE: 0.00020926782357984968\n",
      "Epoch: 322 Iteration: 28700. Train_MSE: 0.00023227682686410844. Test_MSE: 0.000208747911962709\n",
      "Epoch: 323 Iteration: 28800. Train_MSE: 0.0002347471017856151. Test_MSE: 0.00020865061219720396\n",
      "Epoch: 324 Iteration: 28900. Train_MSE: 0.0004957691417075694. Test_MSE: 0.00020838168819856134\n",
      "Epoch: 325 Iteration: 29000. Train_MSE: 0.00029961601831018925. Test_MSE: 0.00020824425812179608\n",
      "Epoch: 326 Iteration: 29100. Train_MSE: 0.0003886246995534748. Test_MSE: 0.00020804749440153376\n",
      "Epoch: 328 Iteration: 29200. Train_MSE: 0.00021746530546806753. Test_MSE: 0.00020781874900987379\n",
      "Epoch: 329 Iteration: 29300. Train_MSE: 0.00042345680412836373. Test_MSE: 0.00020743900650334898\n",
      "Epoch: 330 Iteration: 29400. Train_MSE: 0.0003543123311828822. Test_MSE: 0.00020748899428387832\n",
      "Epoch: 331 Iteration: 29500. Train_MSE: 0.000332761206664145. Test_MSE: 0.00020703644403603923\n",
      "Epoch: 332 Iteration: 29600. Train_MSE: 0.0001983305555768311. Test_MSE: 0.00020688642122229807\n",
      "Epoch: 333 Iteration: 29700. Train_MSE: 0.0005308105610311031. Test_MSE: 0.00020663400498252107\n",
      "Epoch: 334 Iteration: 29800. Train_MSE: 0.0004247943579684943. Test_MSE: 0.0002065156594061313\n",
      "Epoch: 335 Iteration: 29900. Train_MSE: 0.00032286590430885553. Test_MSE: 0.0002062665912889951\n",
      "Epoch: 337 Iteration: 30000. Train_MSE: 0.00042963336454704404. Test_MSE: 0.00020613052781395767\n",
      "Epoch: 338 Iteration: 30100. Train_MSE: 0.0010297701228410006. Test_MSE: 0.0002056845555496159\n",
      "Epoch: 339 Iteration: 30200. Train_MSE: 0.0005380993825383484. Test_MSE: 0.00020575904044564837\n",
      "Epoch: 340 Iteration: 30300. Train_MSE: 0.00028295646188780665. Test_MSE: 0.00020534154710966974\n",
      "Epoch: 341 Iteration: 30400. Train_MSE: 0.0003111552505288273. Test_MSE: 0.00020516983572646958\n",
      "Epoch: 342 Iteration: 30500. Train_MSE: 0.0013815666316077113. Test_MSE: 0.00020493768116509398\n",
      "Epoch: 343 Iteration: 30600. Train_MSE: 0.0002773101150523871. Test_MSE: 0.00020482772565748943\n",
      "Epoch: 344 Iteration: 30700. Train_MSE: 0.00020748504903167486. Test_MSE: 0.00020451772848207916\n",
      "Epoch: 346 Iteration: 30800. Train_MSE: 0.00029899587389081717. Test_MSE: 0.0002045089844629869\n",
      "Epoch: 347 Iteration: 30900. Train_MSE: 0.00039717816980555654. Test_MSE: 0.00020399693387174178\n",
      "Epoch: 348 Iteration: 31000. Train_MSE: 0.0004690956266131252. Test_MSE: 0.00020402693157193323\n",
      "Epoch: 349 Iteration: 31100. Train_MSE: 0.00039185237255878747. Test_MSE: 0.0002036193782707715\n",
      "Epoch: 350 Iteration: 31200. Train_MSE: 0.00018963502952829003. Test_MSE: 0.0002034931376645116\n",
      "Epoch: 351 Iteration: 31300. Train_MSE: 0.0004597464867401868. Test_MSE: 0.00020329488523411566\n",
      "Epoch: 352 Iteration: 31400. Train_MSE: 0.0002735803718678653. Test_MSE: 0.00020313779319921753\n",
      "Epoch: 353 Iteration: 31500. Train_MSE: 0.0002021980326389894. Test_MSE: 0.000202892531699178\n",
      "Epoch: 355 Iteration: 31600. Train_MSE: 0.0003085499338340014. Test_MSE: 0.00020288574187627225\n",
      "Epoch: 356 Iteration: 31700. Train_MSE: 0.0033024856820702553. Test_MSE: 0.00020236752271515437\n",
      "Epoch: 357 Iteration: 31800. Train_MSE: 0.00017702339391689748. Test_MSE: 0.0002023353211906952\n",
      "Epoch: 358 Iteration: 31900. Train_MSE: 0.00111039774492383. Test_MSE: 0.00020204558061843585\n",
      "Epoch: 359 Iteration: 32000. Train_MSE: 0.0004138619697187096. Test_MSE: 0.0002018545575232327\n",
      "Epoch: 360 Iteration: 32100. Train_MSE: 0.0006828800542280078. Test_MSE: 0.00020162735874498585\n",
      "Epoch: 361 Iteration: 32200. Train_MSE: 0.0004009041585959494. Test_MSE: 0.0002015191514134166\n",
      "Epoch: 362 Iteration: 32300. Train_MSE: 0.0003759853425435722. Test_MSE: 0.0002012721344134075\n",
      "Epoch: 364 Iteration: 32400. Train_MSE: 0.0002832354512065649. Test_MSE: 0.0002013306163755733\n",
      "Epoch: 365 Iteration: 32500. Train_MSE: 0.0017715075518935919. Test_MSE: 0.0002008448314248369\n",
      "Epoch: 366 Iteration: 32600. Train_MSE: 0.0002898494421970099. Test_MSE: 0.00020071557300152632\n",
      "Epoch: 367 Iteration: 32700. Train_MSE: 0.00038311496609821916. Test_MSE: 0.00020050887327887785\n",
      "Epoch: 368 Iteration: 32800. Train_MSE: 0.00041395824518986046. Test_MSE: 0.00020025865623949182\n",
      "Epoch: 369 Iteration: 32900. Train_MSE: 0.0002789265417959541. Test_MSE: 0.00020006997590227003\n",
      "Epoch: 370 Iteration: 33000. Train_MSE: 0.008443611674010754. Test_MSE: 0.00019990330491763837\n",
      "Epoch: 371 Iteration: 33100. Train_MSE: 0.00039103065500967205. Test_MSE: 0.00019971323638412177\n",
      "Epoch: 373 Iteration: 33200. Train_MSE: 0.00017680201563052833. Test_MSE: 0.00019979494075115316\n",
      "Epoch: 374 Iteration: 33300. Train_MSE: 0.0002536402316763997. Test_MSE: 0.00019930684060320925\n",
      "Epoch: 375 Iteration: 33400. Train_MSE: 0.013207676820456982. Test_MSE: 0.0001991161133859099\n",
      "Epoch: 376 Iteration: 33500. Train_MSE: 0.00040653126779943705. Test_MSE: 0.00019900804367466821\n",
      "Epoch: 377 Iteration: 33600. Train_MSE: 0.00046975977602414787. Test_MSE: 0.00019864824946798135\n",
      "Epoch: 378 Iteration: 33700. Train_MSE: 0.00027345711714588106. Test_MSE: 0.0001985160866065649\n",
      "Epoch: 379 Iteration: 33800. Train_MSE: 0.0011095310328528285. Test_MSE: 0.00019840180620382184\n",
      "Epoch: 380 Iteration: 33900. Train_MSE: 0.0003209649003110826. Test_MSE: 0.00019822651408864727\n",
      "Epoch: 382 Iteration: 34000. Train_MSE: 0.0005424206610769033. Test_MSE: 0.00019822872454921693\n",
      "Epoch: 383 Iteration: 34100. Train_MSE: 0.0003766365407500416. Test_MSE: 0.0001977605844738422\n",
      "Epoch: 384 Iteration: 34200. Train_MSE: 0.0012328692246228456. Test_MSE: 0.000197642120442974\n",
      "Epoch: 385 Iteration: 34300. Train_MSE: 0.0002620440791361034. Test_MSE: 0.00019755630929736226\n",
      "Epoch: 386 Iteration: 34400. Train_MSE: 0.00018478529818821698. Test_MSE: 0.00019715502173815584\n",
      "Epoch: 387 Iteration: 34500. Train_MSE: 0.00019795693515334278. Test_MSE: 0.00019702156998638914\n",
      "Epoch: 388 Iteration: 34600. Train_MSE: 0.0010109766153618693. Test_MSE: 0.00019689658468354817\n",
      "Epoch: 389 Iteration: 34700. Train_MSE: 0.00016666828014422208. Test_MSE: 0.00019673432615389944\n"
     ]
    },
    {
     "name": "stdout",
     "output_type": "stream",
     "text": [
      "Epoch: 391 Iteration: 34800. Train_MSE: 0.00037406408227980137. Test_MSE: 0.0001967783071506456\n",
      "Epoch: 392 Iteration: 34900. Train_MSE: 0.00038693618262186646. Test_MSE: 0.00019630072845282568\n",
      "Epoch: 393 Iteration: 35000. Train_MSE: 0.0009137842571362853. Test_MSE: 0.00019612638617285565\n",
      "Epoch: 394 Iteration: 35100. Train_MSE: 0.0003540042380336672. Test_MSE: 0.0001961124284672935\n",
      "Epoch: 395 Iteration: 35200. Train_MSE: 0.000957963929977268. Test_MSE: 0.00019565362082629218\n",
      "Epoch: 396 Iteration: 35300. Train_MSE: 0.0003190386341884732. Test_MSE: 0.000195547432801098\n",
      "Epoch: 397 Iteration: 35400. Train_MSE: 0.0006254275795072317. Test_MSE: 0.00019539721956250076\n",
      "Epoch: 398 Iteration: 35500. Train_MSE: 0.00032055587507784367. Test_MSE: 0.0001952334747448042\n",
      "Epoch: 400 Iteration: 35600. Train_MSE: 0.0006533071864396334. Test_MSE: 0.0001952971098054992\n",
      "Epoch: 401 Iteration: 35700. Train_MSE: 0.00011803409142885357. Test_MSE: 0.00019485500351938868\n",
      "Epoch: 402 Iteration: 35800. Train_MSE: 0.0005423419061116874. Test_MSE: 0.0001946492241121529\n",
      "Epoch: 403 Iteration: 35900. Train_MSE: 0.0002860765380319208. Test_MSE: 0.00019465404189907825\n",
      "Epoch: 404 Iteration: 36000. Train_MSE: 0.00033440557308495045. Test_MSE: 0.00019421797275899182\n",
      "Epoch: 405 Iteration: 36100. Train_MSE: 0.0002786064869724214. Test_MSE: 0.00019409259826633332\n",
      "Epoch: 406 Iteration: 36200. Train_MSE: 0.0008000516681931913. Test_MSE: 0.00019392748508054283\n",
      "Epoch: 407 Iteration: 36300. Train_MSE: 0.00028126436518505216. Test_MSE: 0.00019380602735267607\n",
      "Epoch: 408 Iteration: 36400. Train_MSE: 0.00034668456646613777. Test_MSE: 0.0001937696411089479\n",
      "Epoch: 410 Iteration: 36500. Train_MSE: 0.00026919078663922846. Test_MSE: 0.00019340076228371335\n",
      "Epoch: 411 Iteration: 36600. Train_MSE: 0.0005336840404197574. Test_MSE: 0.00019319097333394048\n",
      "Epoch: 412 Iteration: 36700. Train_MSE: 0.0008890041499398649. Test_MSE: 0.0001932034013927826\n",
      "Epoch: 413 Iteration: 36800. Train_MSE: 0.00021296275372151285. Test_MSE: 0.00019277831789042398\n",
      "Epoch: 414 Iteration: 36900. Train_MSE: 0.00022373493993654847. Test_MSE: 0.00019268152991860628\n",
      "Epoch: 415 Iteration: 37000. Train_MSE: 0.0006790924235247076. Test_MSE: 0.0001924882699666223\n",
      "Epoch: 416 Iteration: 37100. Train_MSE: 0.0002518232213333249. Test_MSE: 0.00019235391730624413\n",
      "Epoch: 417 Iteration: 37200. Train_MSE: 0.000730337924323976. Test_MSE: 0.0001922973298609076\n",
      "Epoch: 419 Iteration: 37300. Train_MSE: 0.00029421132057905197. Test_MSE: 0.00019198832310745434\n",
      "Epoch: 420 Iteration: 37400. Train_MSE: 0.0002579071733634919. Test_MSE: 0.00019174509178943158\n",
      "Epoch: 421 Iteration: 37500. Train_MSE: 0.0003017550625372678. Test_MSE: 0.00019177771413455476\n",
      "Epoch: 422 Iteration: 37600. Train_MSE: 0.00019006650836672634. Test_MSE: 0.00019136196044947757\n",
      "Epoch: 423 Iteration: 37700. Train_MSE: 0.0002092345239361748. Test_MSE: 0.00019128677203032485\n",
      "Epoch: 424 Iteration: 37800. Train_MSE: 0.0004602277767844498. Test_MSE: 0.00019108089846950658\n",
      "Epoch: 425 Iteration: 37900. Train_MSE: 0.00025064105284400284. Test_MSE: 0.00019096616495465133\n",
      "Epoch: 426 Iteration: 38000. Train_MSE: 0.0003462102613411844. Test_MSE: 0.0001908093963803468\n",
      "Epoch: 428 Iteration: 38100. Train_MSE: 0.00018802825070451945. Test_MSE: 0.0001906357740927671\n",
      "Epoch: 429 Iteration: 38200. Train_MSE: 0.0003876116534229368. Test_MSE: 0.00019033232703777737\n",
      "Epoch: 430 Iteration: 38300. Train_MSE: 0.00031280601979233325. Test_MSE: 0.00019036498763884695\n",
      "Epoch: 431 Iteration: 38400. Train_MSE: 0.00029125018045306206. Test_MSE: 0.00018999884268722534\n",
      "Epoch: 432 Iteration: 38500. Train_MSE: 0.00017466496501583606. Test_MSE: 0.00018988138617736044\n",
      "Epoch: 433 Iteration: 38600. Train_MSE: 0.0005005747661925852. Test_MSE: 0.00018968786461532542\n",
      "Epoch: 434 Iteration: 38700. Train_MSE: 0.0003805097076110542. Test_MSE: 0.00018959193801555005\n",
      "Epoch: 435 Iteration: 38800. Train_MSE: 0.00029007659759372473. Test_MSE: 0.00018938988238235318\n",
      "Epoch: 437 Iteration: 38900. Train_MSE: 0.00036601375904865563. Test_MSE: 0.00018928915806804296\n",
      "Epoch: 438 Iteration: 39000. Train_MSE: 0.0009918877622112632. Test_MSE: 0.00018893168580426715\n",
      "Epoch: 439 Iteration: 39100. Train_MSE: 0.0004726083134301007. Test_MSE: 0.00018898555936136042\n",
      "Epoch: 440 Iteration: 39200. Train_MSE: 0.0002449513121973723. Test_MSE: 0.00018864490314542974\n",
      "Epoch: 441 Iteration: 39300. Train_MSE: 0.00025898555759340525. Test_MSE: 0.00018850968968270703\n",
      "Epoch: 442 Iteration: 39400. Train_MSE: 0.001354826963506639. Test_MSE: 0.00018833362968972368\n",
      "Epoch: 443 Iteration: 39500. Train_MSE: 0.00023937644436955452. Test_MSE: 0.00018824322313961122\n",
      "Epoch: 444 Iteration: 39600. Train_MSE: 0.00017626857152208686. Test_MSE: 0.00018799073422745783\n",
      "Epoch: 446 Iteration: 39700. Train_MSE: 0.0002508718171156943. Test_MSE: 0.0001879912846808352\n",
      "Epoch: 447 Iteration: 39800. Train_MSE: 0.0003663465322460979. Test_MSE: 0.00018757856846851454\n",
      "Epoch: 448 Iteration: 39900. Train_MSE: 0.0004165355348959565. Test_MSE: 0.00018759767747034177\n",
      "Epoch: 449 Iteration: 40000. Train_MSE: 0.0003541227779351175. Test_MSE: 0.00018726347624987072\n",
      "Epoch: 450 Iteration: 40100. Train_MSE: 0.00016618431254755706. Test_MSE: 0.00018716425971452815\n",
      "Epoch: 451 Iteration: 40200. Train_MSE: 0.000425001751864329. Test_MSE: 0.0001870153189258079\n",
      "Epoch: 452 Iteration: 40300. Train_MSE: 0.00025138602359220386. Test_MSE: 0.00018688448091717732\n",
      "Epoch: 453 Iteration: 40400. Train_MSE: 0.00018524577899370342. Test_MSE: 0.000186682595551092\n",
      "Epoch: 455 Iteration: 40500. Train_MSE: 0.00025079853367060423. Test_MSE: 0.000186685600933882\n",
      "Epoch: 456 Iteration: 40600. Train_MSE: 0.0032346430234611034. Test_MSE: 0.00018626581648477816\n",
      "Epoch: 457 Iteration: 40700. Train_MSE: 0.00016073169535957277. Test_MSE: 0.0001862351978627052\n",
      "Epoch: 458 Iteration: 40800. Train_MSE: 0.0010282156290486455. Test_MSE: 0.0001859976565773732\n",
      "Epoch: 459 Iteration: 40900. Train_MSE: 0.0003517404547892511. Test_MSE: 0.00018584347430037362\n",
      "Epoch: 460 Iteration: 41000. Train_MSE: 0.0006413646624423563. Test_MSE: 0.00018567043332828642\n",
      "Epoch: 461 Iteration: 41100. Train_MSE: 0.0003718351072166115. Test_MSE: 0.00018557740505470573\n",
      "Epoch: 462 Iteration: 41200. Train_MSE: 0.00032743532210588455. Test_MSE: 0.000185373494360659\n",
      "Epoch: 464 Iteration: 41300. Train_MSE: 0.0002296316233696416. Test_MSE: 0.0001854272332589453\n",
      "Epoch: 465 Iteration: 41400. Train_MSE: 0.0017450357554480433. Test_MSE: 0.0001850396275621866\n",
      "Epoch: 466 Iteration: 41500. Train_MSE: 0.00026749935932457447. Test_MSE: 0.00018492429348018129\n",
      "Epoch: 467 Iteration: 41600. Train_MSE: 0.00034161354415118694. Test_MSE: 0.00018475587881926624\n",
      "Epoch: 468 Iteration: 41700. Train_MSE: 0.00036657508462667465. Test_MSE: 0.00018454865109020422\n",
      "Epoch: 469 Iteration: 41800. Train_MSE: 0.0002485490695107728. Test_MSE: 0.00018440790027653996\n",
      "Epoch: 470 Iteration: 41900. Train_MSE: 0.008403634652495384. Test_MSE: 0.00018426478685181058\n",
      "Epoch: 471 Iteration: 42000. Train_MSE: 0.0003303496923763305. Test_MSE: 0.0001841112523168775\n",
      "Epoch: 473 Iteration: 42100. Train_MSE: 0.00016108494310174137. Test_MSE: 0.00018418055621861795\n",
      "Epoch: 474 Iteration: 42200. Train_MSE: 0.00022480259940493852. Test_MSE: 0.00018379520385335523\n",
      "Epoch: 475 Iteration: 42300. Train_MSE: 0.013185902498662472. Test_MSE: 0.00018362485549407447\n",
      "Epoch: 476 Iteration: 42400. Train_MSE: 0.0003480628947727382. Test_MSE: 0.00018353893048343893\n",
      "Epoch: 477 Iteration: 42500. Train_MSE: 0.00039993374957703054. Test_MSE: 0.00018324044339092618\n",
      "Epoch: 478 Iteration: 42600. Train_MSE: 0.0002251017722301185. Test_MSE: 0.00018314253467227603\n",
      "Epoch: 479 Iteration: 42700. Train_MSE: 0.0010832251282408834. Test_MSE: 0.00018304920215054968\n",
      "Epoch: 480 Iteration: 42800. Train_MSE: 0.0002849925949703902. Test_MSE: 0.00018290034036287542\n",
      "Epoch: 482 Iteration: 42900. Train_MSE: 0.0004730269720312208. Test_MSE: 0.00018290348745455398\n",
      "Epoch: 483 Iteration: 43000. Train_MSE: 0.0003283376863691956. Test_MSE: 0.0001825317737957416\n",
      "Epoch: 484 Iteration: 43100. Train_MSE: 0.0012106825597584248. Test_MSE: 0.00018242915962844275\n",
      "Epoch: 485 Iteration: 43200. Train_MSE: 0.0002302552165929228. Test_MSE: 0.0001823546327114678\n",
      "Epoch: 486 Iteration: 43300. Train_MSE: 0.0001612122869119048. Test_MSE: 0.0001820207715997933\n"
     ]
    },
    {
     "name": "stdout",
     "output_type": "stream",
     "text": [
      "Epoch: 487 Iteration: 43400. Train_MSE: 0.00017507215670775622. Test_MSE: 0.000181918331365943\n",
      "Epoch: 488 Iteration: 43500. Train_MSE: 0.0009807791793718934. Test_MSE: 0.00018181912377679535\n",
      "Epoch: 489 Iteration: 43600. Train_MSE: 0.00015361847181338817. Test_MSE: 0.00018168086834689207\n",
      "Epoch: 491 Iteration: 43700. Train_MSE: 0.0003273342445027083. Test_MSE: 0.00018171867863545356\n",
      "Epoch: 492 Iteration: 43800. Train_MSE: 0.0003314425121061504. Test_MSE: 0.00018133640478084896\n",
      "Epoch: 493 Iteration: 43900. Train_MSE: 0.0008989410707727075. Test_MSE: 0.0001811882060947146\n",
      "Epoch: 494 Iteration: 44000. Train_MSE: 0.0003163327928632498. Test_MSE: 0.0001811729993751487\n",
      "Epoch: 495 Iteration: 44100. Train_MSE: 0.0008406923734582961. Test_MSE: 0.00018078921396493403\n",
      "Epoch: 496 Iteration: 44200. Train_MSE: 0.0002758572227321565. Test_MSE: 0.00018070649495008164\n",
      "Epoch: 497 Iteration: 44300. Train_MSE: 0.0005983827286399901. Test_MSE: 0.00018058958430062998\n",
      "Epoch: 498 Iteration: 44400. Train_MSE: 0.0002881203545257449. Test_MSE: 0.0001804473224091621\n",
      "Epoch: 500 Iteration: 44500. Train_MSE: 0.0006008204072713852. Test_MSE: 0.00018049951812738562\n",
      "Epoch: 501 Iteration: 44600. Train_MSE: 0.00010400432802271098. Test_MSE: 0.00018014402692650554\n",
      "Epoch: 502 Iteration: 44700. Train_MSE: 0.0005210242816247046. Test_MSE: 0.00017997075269275928\n",
      "Epoch: 503 Iteration: 44800. Train_MSE: 0.00025349861243739724. Test_MSE: 0.00017997121088247488\n",
      "Epoch: 504 Iteration: 44900. Train_MSE: 0.000293188524665311. Test_MSE: 0.00017960486168903998\n",
      "Epoch: 505 Iteration: 45000. Train_MSE: 0.00023974390933290124. Test_MSE: 0.00017950303339010673\n",
      "Epoch: 506 Iteration: 45100. Train_MSE: 0.0007818948943167925. Test_MSE: 0.00017937472026166156\n",
      "Epoch: 507 Iteration: 45200. Train_MSE: 0.00023769040126353502. Test_MSE: 0.00017927033508560516\n",
      "Epoch: 508 Iteration: 45300. Train_MSE: 0.00029307001386769116. Test_MSE: 0.00017923709616040034\n",
      "Epoch: 510 Iteration: 45400. Train_MSE: 0.00023287738440558314. Test_MSE: 0.0001789409751302128\n",
      "Epoch: 511 Iteration: 45500. Train_MSE: 0.0004955615731887519. Test_MSE: 0.00017876518715334425\n",
      "Epoch: 512 Iteration: 45600. Train_MSE: 0.0008761920034885406. Test_MSE: 0.0001787720519572491\n",
      "Epoch: 513 Iteration: 45700. Train_MSE: 0.00018391115008853376. Test_MSE: 0.00017841368066137415\n",
      "Epoch: 514 Iteration: 45800. Train_MSE: 0.00018473068485036492. Test_MSE: 0.00017833415735624331\n",
      "Epoch: 515 Iteration: 45900. Train_MSE: 0.0006567458040080965. Test_MSE: 0.0001781829535012752\n",
      "Epoch: 516 Iteration: 46000. Train_MSE: 0.0002342910156585276. Test_MSE: 0.0001780686173665476\n",
      "Epoch: 517 Iteration: 46100. Train_MSE: 0.0006286637508310378. Test_MSE: 0.0001780190059115787\n",
      "Epoch: 519 Iteration: 46200. Train_MSE: 0.00024965425836853683. Test_MSE: 0.00017776923112936764\n",
      "Epoch: 520 Iteration: 46300. Train_MSE: 0.0002355823526158929. Test_MSE: 0.00017756723521782488\n",
      "Epoch: 521 Iteration: 46400. Train_MSE: 0.0002726050151977688. Test_MSE: 0.00017759069913621543\n",
      "Epoch: 522 Iteration: 46500. Train_MSE: 0.00016080739442259073. Test_MSE: 0.0001772391440077312\n",
      "Epoch: 523 Iteration: 46600. Train_MSE: 0.0001900868519442156. Test_MSE: 0.00017717657938775145\n",
      "Epoch: 524 Iteration: 46700. Train_MSE: 0.00043218093924224377. Test_MSE: 0.00017701242130938022\n",
      "Epoch: 525 Iteration: 46800. Train_MSE: 0.00021626042143907398. Test_MSE: 0.00017691385334780518\n",
      "Epoch: 526 Iteration: 46900. Train_MSE: 0.00030818258528597653. Test_MSE: 0.00017678108173401164\n",
      "Epoch: 528 Iteration: 47000. Train_MSE: 0.00016809170483611524. Test_MSE: 0.0001766409517662503\n",
      "Epoch: 529 Iteration: 47100. Train_MSE: 0.0003615347668528557. Test_MSE: 0.0001763872089594364\n",
      "Epoch: 530 Iteration: 47200. Train_MSE: 0.00028087786631658673. Test_MSE: 0.00017641106813071495\n",
      "Epoch: 531 Iteration: 47300. Train_MSE: 0.0002590295043773949. Test_MSE: 0.00017609895734676138\n",
      "Epoch: 532 Iteration: 47400. Train_MSE: 0.00015729079314041883. Test_MSE: 0.000176000263650516\n",
      "Epoch: 533 Iteration: 47500. Train_MSE: 0.0004787820507772267. Test_MSE: 0.0001758458668511267\n",
      "Epoch: 534 Iteration: 47600. Train_MSE: 0.00034365549799986184. Test_MSE: 0.0001757653105537947\n",
      "Epoch: 535 Iteration: 47700. Train_MSE: 0.00025963434018194675. Test_MSE: 0.0001755927338479436\n",
      "Epoch: 537 Iteration: 47800. Train_MSE: 0.00031915391446091235. Test_MSE: 0.00017551242986181938\n",
      "Epoch: 538 Iteration: 47900. Train_MSE: 0.0009630867862142622. Test_MSE: 0.00017521298538326853\n",
      "Epoch: 539 Iteration: 48000. Train_MSE: 0.00041970296297222376. Test_MSE: 0.00017525564160532868\n",
      "Epoch: 540 Iteration: 48100. Train_MSE: 0.00021281019144225866. Test_MSE: 0.00017496382539532887\n",
      "Epoch: 541 Iteration: 48200. Train_MSE: 0.00021841874695383012. Test_MSE: 0.00017484976078168063\n",
      "Epoch: 542 Iteration: 48300. Train_MSE: 0.0013353235553950071. Test_MSE: 0.00017471105249488377\n",
      "Epoch: 543 Iteration: 48400. Train_MSE: 0.00021175736037548631. Test_MSE: 0.00017463452802557702\n",
      "Epoch: 544 Iteration: 48500. Train_MSE: 0.0001528817811049521. Test_MSE: 0.00017441998448914026\n",
      "Epoch: 546 Iteration: 48600. Train_MSE: 0.00021643178479280323. Test_MSE: 0.00017442510147374604\n",
      "Epoch: 547 Iteration: 48700. Train_MSE: 0.0003446172922849655. Test_MSE: 0.00017407909807620926\n",
      "Epoch: 548 Iteration: 48800. Train_MSE: 0.000374192459275946. Test_MSE: 0.0001740930669511905\n",
      "Epoch: 549 Iteration: 48900. Train_MSE: 0.00032237693085335195. Test_MSE: 0.00017380686203070732\n",
      "Epoch: 550 Iteration: 49000. Train_MSE: 0.00014772186113987118. Test_MSE: 0.00017372294969532289\n",
      "Epoch: 551 Iteration: 49100. Train_MSE: 0.00040005959453992546. Test_MSE: 0.0001736076786360904\n",
      "Epoch: 552 Iteration: 49200. Train_MSE: 0.00023339735344052315. Test_MSE: 0.00017349506161084153\n",
      "Epoch: 553 Iteration: 49300. Train_MSE: 0.00017018472135532647. Test_MSE: 0.00017332250996455358\n",
      "Epoch: 555 Iteration: 49400. Train_MSE: 0.00020813895389437675. Test_MSE: 0.0001733299914471883\n",
      "Epoch: 556 Iteration: 49500. Train_MSE: 0.003169635310769081. Test_MSE: 0.00017297654443726806\n",
      "Epoch: 557 Iteration: 49600. Train_MSE: 0.00014837674098089337. Test_MSE: 0.00017294880850322232\n",
      "Epoch: 558 Iteration: 49700. Train_MSE: 0.0009650072315707803. Test_MSE: 0.00017274580909514188\n",
      "Epoch: 559 Iteration: 49800. Train_MSE: 0.00030265384702943265. Test_MSE: 0.0001726132317266231\n",
      "Epoch: 560 Iteration: 49900. Train_MSE: 0.0006108916713856161. Test_MSE: 0.00017247699019256306\n",
      "Epoch: 561 Iteration: 50000. Train_MSE: 0.00034776132088154554. Test_MSE: 0.00017239471901699634\n",
      "Epoch: 562 Iteration: 50100. Train_MSE: 0.0002889260358642787. Test_MSE: 0.0001722210555311204\n",
      "Epoch: 564 Iteration: 50200. Train_MSE: 0.0001905683020595461. Test_MSE: 0.00017226988704430396\n",
      "Epoch: 565 Iteration: 50300. Train_MSE: 0.0017275420250371099. Test_MSE: 0.00017194824738112597\n",
      "Epoch: 566 Iteration: 50400. Train_MSE: 0.0002499959373380989. Test_MSE: 0.00017184524108421775\n",
      "Epoch: 567 Iteration: 50500. Train_MSE: 0.0003084331110585481. Test_MSE: 0.00017170315457818212\n",
      "Epoch: 568 Iteration: 50600. Train_MSE: 0.00032765569631010294. Test_MSE: 0.00017152231494185156\n",
      "Epoch: 569 Iteration: 50700. Train_MSE: 0.00022582737437915057. Test_MSE: 0.00017141435534082845\n",
      "Epoch: 570 Iteration: 50800. Train_MSE: 0.00837279949337244. Test_MSE: 0.000171287298574032\n",
      "Epoch: 571 Iteration: 50900. Train_MSE: 0.00028379782452248037. Test_MSE: 0.00017115926895463766\n",
      "Epoch: 573 Iteration: 51000. Train_MSE: 0.0001488858397351578. Test_MSE: 0.00017121874409400652\n",
      "Epoch: 574 Iteration: 51100. Train_MSE: 0.00020185517496429384. Test_MSE: 0.0001709018434457618\n",
      "Epoch: 575 Iteration: 51200. Train_MSE: 0.013175193220376968. Test_MSE: 0.0001707478173621407\n",
      "Epoch: 576 Iteration: 51300. Train_MSE: 0.0003022942109964788. Test_MSE: 0.0001706782788634809\n",
      "Epoch: 577 Iteration: 51400. Train_MSE: 0.0003462779859546572. Test_MSE: 0.0001704187985335605\n",
      "Epoch: 578 Iteration: 51500. Train_MSE: 0.00019046863599214703. Test_MSE: 0.00017034491141950284\n",
      "Epoch: 579 Iteration: 51600. Train_MSE: 0.001063944073393941. Test_MSE: 0.0001702672698022433\n",
      "Epoch: 580 Iteration: 51700. Train_MSE: 0.00025461334735155106. Test_MSE: 0.0001701380829740649\n",
      "Epoch: 582 Iteration: 51800. Train_MSE: 0.0004182131960988045. Test_MSE: 0.0001701407914034362\n",
      "Epoch: 583 Iteration: 51900. Train_MSE: 0.000290616910206154. Test_MSE: 0.00016983396098399394\n"
     ]
    },
    {
     "name": "stdout",
     "output_type": "stream",
     "text": [
      "Epoch: 584 Iteration: 52000. Train_MSE: 0.0011918277014046907. Test_MSE: 0.0001697457319844509\n",
      "Epoch: 585 Iteration: 52100. Train_MSE: 0.00020420076907612383. Test_MSE: 0.00016968087133226298\n",
      "Epoch: 586 Iteration: 52200. Train_MSE: 0.0001427690003765747. Test_MSE: 0.00016939044739549557\n",
      "Epoch: 587 Iteration: 52300. Train_MSE: 0.00015577532758470625. Test_MSE: 0.0001693099615527244\n",
      "Epoch: 588 Iteration: 52400. Train_MSE: 0.0009606513194739819. Test_MSE: 0.00016922986737652476\n",
      "Epoch: 589 Iteration: 52500. Train_MSE: 0.0001423556386725977. Test_MSE: 0.00016911004221053795\n",
      "Epoch: 591 Iteration: 52600. Train_MSE: 0.00028939370531588793. Test_MSE: 0.00016914318732569057\n",
      "Epoch: 592 Iteration: 52700. Train_MSE: 0.0002892641059588641. Test_MSE: 0.00016882538834331922\n",
      "Epoch: 593 Iteration: 52800. Train_MSE: 0.0008895839564502239. Test_MSE: 0.0001686982314685773\n",
      "Epoch: 594 Iteration: 52900. Train_MSE: 0.00028481296612881124. Test_MSE: 0.00016868570412957815\n",
      "Epoch: 595 Iteration: 53000. Train_MSE: 0.0007460699998773634. Test_MSE: 0.00016835158921179387\n",
      "Epoch: 596 Iteration: 53100. Train_MSE: 0.0002429495070828125. Test_MSE: 0.00016828705594186413\n",
      "Epoch: 597 Iteration: 53200. Train_MSE: 0.0005787329864688218. Test_MSE: 0.0001681941798968902\n",
      "Epoch: 598 Iteration: 53300. Train_MSE: 0.0002596976701170206. Test_MSE: 0.00016806980676737013\n",
      "Epoch: 600 Iteration: 53400. Train_MSE: 0.0005543080624192953. Test_MSE: 0.00016811765125585978\n",
      "Epoch: 601 Iteration: 53500. Train_MSE: 9.395305824000388e-05. Test_MSE: 0.00016782030225852144\n",
      "Epoch: 602 Iteration: 53600. Train_MSE: 0.0005047028535045683. Test_MSE: 0.00016767189288532502\n",
      "Epoch: 603 Iteration: 53700. Train_MSE: 0.00022748396440874785. Test_MSE: 0.0001676731175565518\n",
      "Epoch: 604 Iteration: 53800. Train_MSE: 0.000258986052358523. Test_MSE: 0.00016735324191623438\n",
      "Epoch: 605 Iteration: 53900. Train_MSE: 0.00021022389410063624. Test_MSE: 0.00016726973626115475\n",
      "Epoch: 606 Iteration: 54000. Train_MSE: 0.0007696933462284505. Test_MSE: 0.0001671678320832433\n",
      "Epoch: 607 Iteration: 54100. Train_MSE: 0.00020546599989756942. Test_MSE: 0.00016707813712237173\n",
      "Epoch: 608 Iteration: 54200. Train_MSE: 0.0002500944829080254. Test_MSE: 0.00016704920891405465\n",
      "Epoch: 610 Iteration: 54300. Train_MSE: 0.00020398087508510798. Test_MSE: 0.0001668027918572921\n",
      "Epoch: 611 Iteration: 54400. Train_MSE: 0.000466005876660347. Test_MSE: 0.00016665263228633916\n",
      "Epoch: 612 Iteration: 54500. Train_MSE: 0.0008655400015413761. Test_MSE: 0.00016665952063057459\n",
      "Epoch: 613 Iteration: 54600. Train_MSE: 0.00016057034372352064. Test_MSE: 0.00016634589967323628\n",
      "Epoch: 614 Iteration: 54700. Train_MSE: 0.00015747727593407035. Test_MSE: 0.0001662807727518782\n",
      "Epoch: 615 Iteration: 54800. Train_MSE: 0.0006396358949132264. Test_MSE: 0.00016615942418108517\n",
      "Epoch: 616 Iteration: 54900. Train_MSE: 0.000220165413338691. Test_MSE: 0.00016606156097005316\n",
      "Epoch: 617 Iteration: 55000. Train_MSE: 0.0005440691020339727. Test_MSE: 0.0001660190454143145\n",
      "Epoch: 619 Iteration: 55100. Train_MSE: 0.00021717225899919868. Test_MSE: 0.00016581038023557123\n",
      "Epoch: 620 Iteration: 55200. Train_MSE: 0.00021868280600756407. Test_MSE: 0.00016563871590096865\n",
      "Epoch: 621 Iteration: 55300. Train_MSE: 0.00024933251552283764. Test_MSE: 0.00016565999456661287\n",
      "Epoch: 622 Iteration: 55400. Train_MSE: 0.00013949911226518452. Test_MSE: 0.00016535298512991282\n",
      "Epoch: 623 Iteration: 55500. Train_MSE: 0.00017513410421088338. Test_MSE: 0.00016530177775682037\n",
      "Epoch: 624 Iteration: 55600. Train_MSE: 0.0004073999880347401. Test_MSE: 0.00016516902046700882\n",
      "Epoch: 625 Iteration: 55700. Train_MSE: 0.0001908010453917086. Test_MSE: 0.00016508535020374153\n",
      "Epoch: 626 Iteration: 55800. Train_MSE: 0.0002748061087913811. Test_MSE: 0.0001649710122569005\n",
      "Epoch: 628 Iteration: 55900. Train_MSE: 0.00015392077330034226. Test_MSE: 0.0001648565263552774\n",
      "Epoch: 629 Iteration: 56000. Train_MSE: 0.00034189841244369745. Test_MSE: 0.00016464026477995563\n",
      "Epoch: 630 Iteration: 56100. Train_MSE: 0.0002551489742472768. Test_MSE: 0.00016466274769329645\n",
      "Epoch: 631 Iteration: 56200. Train_MSE: 0.00023269973462447524. Test_MSE: 0.0001643894942220749\n",
      "Epoch: 632 Iteration: 56300. Train_MSE: 0.0001438628532923758. Test_MSE: 0.00016430627821418958\n",
      "Epoch: 633 Iteration: 56400. Train_MSE: 0.0004598363593686372. Test_MSE: 0.00016418210633992232\n",
      "Epoch: 634 Iteration: 56500. Train_MSE: 0.00031298116664402187. Test_MSE: 0.00016411604686283692\n",
      "Epoch: 635 Iteration: 56600. Train_MSE: 0.00023270081146620214. Test_MSE: 0.0001639659561422174\n",
      "Epoch: 637 Iteration: 56700. Train_MSE: 0.000283511501038447. Test_MSE: 0.00016390297126362\n",
      "Epoch: 638 Iteration: 56800. Train_MSE: 0.0009408307960256934. Test_MSE: 0.00016364597273751003\n",
      "Epoch: 639 Iteration: 56900. Train_MSE: 0.0003762285050470382. Test_MSE: 0.00016368593387373488\n",
      "Epoch: 640 Iteration: 57000. Train_MSE: 0.00018607062520459294. Test_MSE: 0.00016342931132389522\n",
      "Epoch: 641 Iteration: 57100. Train_MSE: 0.00018586110672913492. Test_MSE: 0.00016333183673468782\n",
      "Epoch: 642 Iteration: 57200. Train_MSE: 0.0013203526614233851. Test_MSE: 0.00016322194664987168\n",
      "Epoch: 643 Iteration: 57300. Train_MSE: 0.00019110986613668501. Test_MSE: 0.0001631587835666023\n",
      "Epoch: 644 Iteration: 57400. Train_MSE: 0.0001347177749266848. Test_MSE: 0.00016297197500340544\n",
      "Epoch: 646 Iteration: 57500. Train_MSE: 0.00019042026542592794. Test_MSE: 0.0001629841081936941\n",
      "Epoch: 647 Iteration: 57600. Train_MSE: 0.0003286823339294642. Test_MSE: 0.0001626856204865348\n",
      "Epoch: 648 Iteration: 57700. Train_MSE: 0.0003403696755412966. Test_MSE: 0.00016270157127756002\n",
      "Epoch: 649 Iteration: 57800. Train_MSE: 0.0002956017560791224. Test_MSE: 0.00016244990312776252\n",
      "Epoch: 650 Iteration: 57900. Train_MSE: 0.00013253795623313636. Test_MSE: 0.00016237909132299573\n",
      "Epoch: 651 Iteration: 58000. Train_MSE: 0.0003812535142060369. Test_MSE: 0.00016229021181508126\n",
      "Epoch: 652 Iteration: 58100. Train_MSE: 0.000219223671592772. Test_MSE: 0.00016219383707514345\n",
      "Epoch: 653 Iteration: 58200. Train_MSE: 0.00015731446910649538. Test_MSE: 0.00016204368215836886\n",
      "Epoch: 655 Iteration: 58300. Train_MSE: 0.00017582591681275517. Test_MSE: 0.00016205763585625812\n",
      "Epoch: 656 Iteration: 58400. Train_MSE: 0.0031165278051048517. Test_MSE: 0.00016175137105149442\n",
      "Epoch: 657 Iteration: 58500. Train_MSE: 0.00013865710934624076. Test_MSE: 0.00016173063785503792\n",
      "Epoch: 658 Iteration: 58600. Train_MSE: 0.0009146157535724342. Test_MSE: 0.0001615540030106399\n",
      "Epoch: 659 Iteration: 58700. Train_MSE: 0.00026331478147767484. Test_MSE: 0.00016143883659045365\n",
      "Epoch: 660 Iteration: 58800. Train_MSE: 0.0005872343899682164. Test_MSE: 0.00016133124001738462\n",
      "Epoch: 661 Iteration: 58900. Train_MSE: 0.000328907830407843. Test_MSE: 0.00016126078924437643\n",
      "Epoch: 662 Iteration: 59000. Train_MSE: 0.0002582253946457058. Test_MSE: 0.0001611106478814798\n",
      "Epoch: 664 Iteration: 59100. Train_MSE: 0.00016051992133725435. Test_MSE: 0.0001611597908760031\n",
      "Epoch: 665 Iteration: 59200. Train_MSE: 0.0017136301612481475. Test_MSE: 0.00016088588917528195\n",
      "Epoch: 666 Iteration: 59300. Train_MSE: 0.0002371928858337924. Test_MSE: 0.00016079527428577997\n",
      "Epoch: 667 Iteration: 59400. Train_MSE: 0.0002821047091856599. Test_MSE: 0.0001606742508270583\n",
      "Epoch: 668 Iteration: 59500. Train_MSE: 0.00029510821332223713. Test_MSE: 0.00016051337216799096\n",
      "Epoch: 669 Iteration: 59600. Train_MSE: 0.00020797003526240587. Test_MSE: 0.0001604316024792664\n",
      "Epoch: 670 Iteration: 59700. Train_MSE: 0.00834645889699459. Test_MSE: 0.00016031888737488235\n",
      "Epoch: 671 Iteration: 59800. Train_MSE: 0.0002473504573572427. Test_MSE: 0.00016021193137129847\n",
      "Epoch: 673 Iteration: 59900. Train_MSE: 0.00013875504373572767. Test_MSE: 0.00016026829608864774\n",
      "Epoch: 674 Iteration: 60000. Train_MSE: 0.00018370502220932394. Test_MSE: 0.0001600011902211021\n",
      "Epoch: 675 Iteration: 60100. Train_MSE: 0.013159551657736301. Test_MSE: 0.0001598614722928058\n",
      "Epoch: 676 Iteration: 60200. Train_MSE: 0.00026560804690234363. Test_MSE: 0.00015980705340318287\n",
      "Epoch: 677 Iteration: 60300. Train_MSE: 0.00030405877623707056. Test_MSE: 0.00015957580292796868\n",
      "Epoch: 678 Iteration: 60400. Train_MSE: 0.00016471062554046512. Test_MSE: 0.0001595223356396852\n",
      "Epoch: 679 Iteration: 60500. Train_MSE: 0.0010485830716788769. Test_MSE: 0.0001594589390922044\n"
     ]
    },
    {
     "name": "stdout",
     "output_type": "stream",
     "text": [
      "Epoch: 680 Iteration: 60600. Train_MSE: 0.0002291351556777954. Test_MSE: 0.00015934663183585554\n",
      "Epoch: 682 Iteration: 60700. Train_MSE: 0.00037424280890263617. Test_MSE: 0.0001593520552788226\n",
      "Epoch: 683 Iteration: 60800. Train_MSE: 0.0002602623717393726. Test_MSE: 0.00015909210076710018\n",
      "Epoch: 684 Iteration: 60900. Train_MSE: 0.0011749276891350746. Test_MSE: 0.00015901756188881863\n",
      "Epoch: 685 Iteration: 61000. Train_MSE: 0.00018273830937687308. Test_MSE: 0.0001589627371260972\n",
      "Epoch: 686 Iteration: 61100. Train_MSE: 0.00012805509322788566. Test_MSE: 0.00015870338276557336\n",
      "Epoch: 687 Iteration: 61200. Train_MSE: 0.0001399282191414386. Test_MSE: 0.00015864141198389744\n",
      "Epoch: 688 Iteration: 61300. Train_MSE: 0.0009448184864595532. Test_MSE: 0.0001585779538487158\n",
      "Epoch: 689 Iteration: 61400. Train_MSE: 0.0001333133695879951. Test_MSE: 0.00015847426111702056\n",
      "Epoch: 691 Iteration: 61500. Train_MSE: 0.00025812923558987677. Test_MSE: 0.0001585072943054425\n",
      "Epoch: 692 Iteration: 61600. Train_MSE: 0.0002562007284723222. Test_MSE: 0.00015823613275922602\n",
      "Epoch: 693 Iteration: 61700. Train_MSE: 0.0008829624857753515. Test_MSE: 0.00015812659722449682\n",
      "Epoch: 694 Iteration: 61800. Train_MSE: 0.0002584495523478836. Test_MSE: 0.00015811889233243836\n",
      "Epoch: 695 Iteration: 61900. Train_MSE: 0.0006675221957266331. Test_MSE: 0.00015781959368343283\n",
      "Epoch: 696 Iteration: 62000. Train_MSE: 0.00021770212333649397. Test_MSE: 0.000157770020043904\n",
      "Epoch: 697 Iteration: 62100. Train_MSE: 0.0005639006849378347. Test_MSE: 0.00015769730162160697\n",
      "Epoch: 698 Iteration: 62200. Train_MSE: 0.00023607017647009343. Test_MSE: 0.00015758705810050964\n",
      "Epoch: 700 Iteration: 62300. Train_MSE: 0.0005130691570229828. Test_MSE: 0.0001576326582255723\n",
      "Epoch: 701 Iteration: 62400. Train_MSE: 8.647044887766242e-05. Test_MSE: 0.00015737723522226302\n",
      "Epoch: 702 Iteration: 62500. Train_MSE: 0.0004912498407065868. Test_MSE: 0.00015724870235961846\n",
      "Epoch: 703 Iteration: 62600. Train_MSE: 0.0002065184962702915. Test_MSE: 0.00015725227027975122\n",
      "Epoch: 704 Iteration: 62700. Train_MSE: 0.00023036902712192386. Test_MSE: 0.00015696489620416716\n",
      "Epoch: 705 Iteration: 62800. Train_MSE: 0.0001870363048510626. Test_MSE: 0.00015689581862998828\n",
      "Epoch: 706 Iteration: 62900. Train_MSE: 0.0007614756468683481. Test_MSE: 0.00015681492072955273\n",
      "Epoch: 707 Iteration: 63000. Train_MSE: 0.00018081249436363578. Test_MSE: 0.00015673821576534024\n",
      "Epoch: 708 Iteration: 63100. Train_MSE: 0.00021571434626821429. Test_MSE: 0.00015671367256492\n",
      "Epoch: 710 Iteration: 63200. Train_MSE: 0.00018103748152498156. Test_MSE: 0.0001565035155793287\n",
      "Epoch: 711 Iteration: 63300. Train_MSE: 0.0004426214727573097. Test_MSE: 0.0001563741611605963\n",
      "Epoch: 712 Iteration: 63400. Train_MSE: 0.0008577824919484556. Test_MSE: 0.00015638316687775755\n",
      "Epoch: 713 Iteration: 63500. Train_MSE: 0.00014168974303174764. Test_MSE: 0.0001561013036155614\n",
      "Epoch: 714 Iteration: 63600. Train_MSE: 0.00013778269931208342. Test_MSE: 0.00015604822078341994\n",
      "Epoch: 715 Iteration: 63700. Train_MSE: 0.0006259672227315605. Test_MSE: 0.0001559504924539488\n",
      "Epoch: 716 Iteration: 63800. Train_MSE: 0.00020919731468893588. Test_MSE: 0.00015586684770630825\n",
      "Epoch: 717 Iteration: 63900. Train_MSE: 0.00047405422083102167. Test_MSE: 0.00015583080092993723\n",
      "Epoch: 719 Iteration: 64000. Train_MSE: 0.00019234584760852158. Test_MSE: 0.0001556527115652509\n",
      "Epoch: 720 Iteration: 64100. Train_MSE: 0.00020588908228091896. Test_MSE: 0.00015550533329147331\n",
      "Epoch: 721 Iteration: 64200. Train_MSE: 0.0002305889647686854. Test_MSE: 0.00015552698994696535\n",
      "Epoch: 722 Iteration: 64300. Train_MSE: 0.00012322395923547447. Test_MSE: 0.00015525130002308444\n",
      "Epoch: 723 Iteration: 64400. Train_MSE: 0.000162245036335662. Test_MSE: 0.00015520972980754037\n",
      "Epoch: 724 Iteration: 64500. Train_MSE: 0.000385704857762903. Test_MSE: 0.0001551008351456882\n",
      "Epoch: 725 Iteration: 64600. Train_MSE: 0.0001707470219116658. Test_MSE: 0.00015503010307396084\n",
      "Epoch: 726 Iteration: 64700. Train_MSE: 0.00024578699958510697. Test_MSE: 0.00015492993751868442\n",
      "Epoch: 728 Iteration: 64800. Train_MSE: 0.00014331881538964808. Test_MSE: 0.00015483515828819533\n",
      "Epoch: 729 Iteration: 64900. Train_MSE: 0.0003263502148911357. Test_MSE: 0.0001546470827338702\n",
      "Epoch: 730 Iteration: 65000. Train_MSE: 0.00023386241809930652. Test_MSE: 0.00015467050080128817\n",
      "Epoch: 731 Iteration: 65100. Train_MSE: 0.00021078057761769742. Test_MSE: 0.00015442484755161373\n",
      "Epoch: 732 Iteration: 65200. Train_MSE: 0.00013293459778651595. Test_MSE: 0.00015435405711476023\n",
      "Epoch: 733 Iteration: 65300. Train_MSE: 0.0004438958421815187. Test_MSE: 0.00015425283936871062\n",
      "Epoch: 734 Iteration: 65400. Train_MSE: 0.0002879776293411851. Test_MSE: 0.0001541992879771031\n",
      "Epoch: 735 Iteration: 65500. Train_MSE: 0.0002093712246278301. Test_MSE: 0.00015406573735774303\n",
      "Epoch: 737 Iteration: 65600. Train_MSE: 0.0002548474876675755. Test_MSE: 0.00015401674013189223\n",
      "Epoch: 738 Iteration: 65700. Train_MSE: 0.0009225734975188971. Test_MSE: 0.00015379119704020522\n",
      "Epoch: 739 Iteration: 65800. Train_MSE: 0.0003397763066459447. Test_MSE: 0.00015383099589616096\n",
      "Epoch: 740 Iteration: 65900. Train_MSE: 0.0001637718960409984. Test_MSE: 0.00015360002214429746\n",
      "Epoch: 741 Iteration: 66000. Train_MSE: 0.00015973769768606871. Test_MSE: 0.00015351582871563223\n",
      "Epoch: 742 Iteration: 66100. Train_MSE: 0.0013082544319331646. Test_MSE: 0.0001534282063153525\n",
      "Epoch: 743 Iteration: 66200. Train_MSE: 0.00017490211757831275. Test_MSE: 0.0001533766124385881\n",
      "Epoch: 744 Iteration: 66300. Train_MSE: 0.00012040557339787483. Test_MSE: 0.00015321000751845751\n",
      "Epoch: 746 Iteration: 66400. Train_MSE: 0.0001702223380561918. Test_MSE: 0.00015322894434219335\n",
      "Epoch: 747 Iteration: 66500. Train_MSE: 0.000316133868182078. Test_MSE: 0.0001529652432981401\n",
      "Epoch: 748 Iteration: 66600. Train_MSE: 0.00031275805667974055. Test_MSE: 0.00015298404131651555\n",
      "Epoch: 749 Iteration: 66700. Train_MSE: 0.0002724686055444181. Test_MSE: 0.0001527575556248509\n",
      "Epoch: 750 Iteration: 66800. Train_MSE: 0.00011991556675639004. Test_MSE: 0.00015269701022974756\n",
      "Epoch: 751 Iteration: 66900. Train_MSE: 0.0003667860582936555. Test_MSE: 0.00015262869713111938\n",
      "Epoch: 752 Iteration: 67000. Train_MSE: 0.00020800535276066512. Test_MSE: 0.0001525454091170148\n",
      "Epoch: 753 Iteration: 67100. Train_MSE: 0.00014612676750402898. Test_MSE: 0.00015241206953811422\n",
      "Epoch: 755 Iteration: 67200. Train_MSE: 0.0001506982371211052. Test_MSE: 0.00015243204423274752\n",
      "Epoch: 756 Iteration: 67300. Train_MSE: 0.0030699807684868574. Test_MSE: 0.00015216070884060222\n",
      "Epoch: 757 Iteration: 67400. Train_MSE: 0.00013075233437120914. Test_MSE: 0.00015214625130392516\n",
      "Epoch: 758 Iteration: 67500. Train_MSE: 0.0008741833153180778. Test_MSE: 0.0001519893456962195\n",
      "Epoch: 759 Iteration: 67600. Train_MSE: 0.00023142281861510128. Test_MSE: 0.00015188725469497932\n",
      "Epoch: 760 Iteration: 67700. Train_MSE: 0.0005682779010385275. Test_MSE: 0.00015180153083033769\n",
      "Epoch: 761 Iteration: 67800. Train_MSE: 0.0003127200179733336. Test_MSE: 0.00015174060397618754\n",
      "Epoch: 762 Iteration: 67900. Train_MSE: 0.00023304465867113322. Test_MSE: 0.00015160834826873345\n",
      "Epoch: 764 Iteration: 68000. Train_MSE: 0.00013717461843043566. Test_MSE: 0.00015165858735995689\n",
      "Epoch: 765 Iteration: 68100. Train_MSE: 0.0017047039000317454. Test_MSE: 0.00015142032244430282\n",
      "Epoch: 766 Iteration: 68200. Train_MSE: 0.0002258223103126511. Test_MSE: 0.0001513392326902278\n",
      "Epoch: 767 Iteration: 68300. Train_MSE: 0.0002609754737932235. Test_MSE: 0.00015123464479504565\n",
      "Epoch: 768 Iteration: 68400. Train_MSE: 0.0002678582677617669. Test_MSE: 0.00015108869297717907\n",
      "Epoch: 769 Iteration: 68500. Train_MSE: 0.0001931382284965366. Test_MSE: 0.00015102761237655596\n",
      "Epoch: 770 Iteration: 68600. Train_MSE: 0.008324628695845604. Test_MSE: 0.00015092609747546784\n",
      "Epoch: 771 Iteration: 68700. Train_MSE: 0.00021815398940816522. Test_MSE: 0.00015083565755683685\n",
      "Epoch: 773 Iteration: 68800. Train_MSE: 0.0001302216696785763. Test_MSE: 0.00015089056880577588\n",
      "Epoch: 774 Iteration: 68900. Train_MSE: 0.00016883434727787971. Test_MSE: 0.00015066087167849197\n",
      "Epoch: 775 Iteration: 69000. Train_MSE: 0.013136166147887707. Test_MSE: 0.0001505317167634737\n",
      "Epoch: 776 Iteration: 69100. Train_MSE: 0.00023615563986822963. Test_MSE: 0.00015048944988673013\n"
     ]
    },
    {
     "name": "stdout",
     "output_type": "stream",
     "text": [
      "Epoch: 777 Iteration: 69200. Train_MSE: 0.0002703395439311862. Test_MSE: 0.00015027857197966743\n",
      "Epoch: 778 Iteration: 69300. Train_MSE: 0.000144889549119398. Test_MSE: 0.00015024097996017087\n",
      "Epoch: 779 Iteration: 69400. Train_MSE: 0.0010355138219892979. Test_MSE: 0.00015018902863348676\n",
      "Epoch: 780 Iteration: 69500. Train_MSE: 0.0002074610092677176. Test_MSE: 0.00015008988213797937\n",
      "Epoch: 782 Iteration: 69600. Train_MSE: 0.00033813592744991183. Test_MSE: 0.00015009784836875044\n",
      "Epoch: 783 Iteration: 69700. Train_MSE: 0.00023551312915515155. Test_MSE: 0.00014987354423870602\n",
      "Epoch: 784 Iteration: 69800. Train_MSE: 0.0011605990584939718. Test_MSE: 0.0001498102629440649\n",
      "Epoch: 785 Iteration: 69900. Train_MSE: 0.00016508260159753263. Test_MSE: 0.00014976307997315198\n",
      "Epoch: 786 Iteration: 70000. Train_MSE: 0.00011614998220466077. Test_MSE: 0.00014952649844526697\n",
      "Epoch: 787 Iteration: 70100. Train_MSE: 0.00012649722339119762. Test_MSE: 0.00014947915018712372\n",
      "Epoch: 788 Iteration: 70200. Train_MSE: 0.0009329357999376953. Test_MSE: 0.00014942893578067927\n",
      "Epoch: 789 Iteration: 70300. Train_MSE: 0.00012536979920696467. Test_MSE: 0.0001493380168391606\n",
      "Epoch: 791 Iteration: 70400. Train_MSE: 0.00023156471434049308. Test_MSE: 0.00014937133856088194\n",
      "Epoch: 792 Iteration: 70500. Train_MSE: 0.00022996401821728796. Test_MSE: 0.00014913569679662423\n",
      "Epoch: 793 Iteration: 70600. Train_MSE: 0.0008791531436145306. Test_MSE: 0.00014904041690041815\n",
      "Epoch: 794 Iteration: 70700. Train_MSE: 0.0002355387550778687. Test_MSE: 0.00014903679884929117\n",
      "Epoch: 795 Iteration: 70800. Train_MSE: 0.000601945910602808. Test_MSE: 0.0001487634932787354\n",
      "Epoch: 796 Iteration: 70900. Train_MSE: 0.00019686443556565791. Test_MSE: 0.00014872588793966127\n",
      "Epoch: 797 Iteration: 71000. Train_MSE: 0.000552540528587997. Test_MSE: 0.00014866944306341173\n",
      "Epoch: 798 Iteration: 71100. Train_MSE: 0.00021574411948677152. Test_MSE: 0.0001485722916073319\n",
      "Epoch: 800 Iteration: 71200. Train_MSE: 0.00047666707541793585. Test_MSE: 0.00014861820440073908\n",
      "Epoch: 801 Iteration: 71300. Train_MSE: 8.069354225881398e-05. Test_MSE: 0.00014839604384260575\n",
      "Epoch: 802 Iteration: 71400. Train_MSE: 0.00048080741544254124. Test_MSE: 0.00014828430445723809\n",
      "Epoch: 803 Iteration: 71500. Train_MSE: 0.00018857068789657205. Test_MSE: 0.00014829226410164765\n",
      "Epoch: 804 Iteration: 71600. Train_MSE: 0.00020627342746593058. Test_MSE: 0.00014802977945500425\n",
      "Epoch: 805 Iteration: 71700. Train_MSE: 0.0001679600536590442. Test_MSE: 0.0001479729433870048\n",
      "Epoch: 806 Iteration: 71800. Train_MSE: 0.0007557193166576326. Test_MSE: 0.00014790954856223573\n",
      "Epoch: 807 Iteration: 71900. Train_MSE: 0.00016144987603183836. Test_MSE: 0.0001478440650604375\n",
      "Epoch: 808 Iteration: 72000. Train_MSE: 0.00018785141583066434. Test_MSE: 0.0001478238423033155\n",
      "Epoch: 810 Iteration: 72100. Train_MSE: 0.0001618934766156599. Test_MSE: 0.00014764256704622242\n",
      "Epoch: 811 Iteration: 72200. Train_MSE: 0.0004237012180965394. Test_MSE: 0.00014753036109539799\n",
      "Epoch: 812 Iteration: 72300. Train_MSE: 0.0008514787186868489. Test_MSE: 0.0001475431942742763\n",
      "Epoch: 813 Iteration: 72400. Train_MSE: 0.00012618987238965929. Test_MSE: 0.00014728583522150793\n",
      "Epoch: 814 Iteration: 72500. Train_MSE: 0.00012318372318986803. Test_MSE: 0.00014724302642499422\n",
      "Epoch: 815 Iteration: 72600. Train_MSE: 0.0006148596876300871. Test_MSE: 0.0001471642933823019\n",
      "Epoch: 816 Iteration: 72700. Train_MSE: 0.00020050765306223184. Test_MSE: 0.0001470928392073751\n",
      "Epoch: 817 Iteration: 72800. Train_MSE: 0.00041575287468731403. Test_MSE: 0.00014706242603731314\n",
      "Epoch: 819 Iteration: 72900. Train_MSE: 0.00017253329860977829. Test_MSE: 0.00014690859283952333\n",
      "Epoch: 820 Iteration: 73000. Train_MSE: 0.00019547404372133315. Test_MSE: 0.00014678066915887848\n",
      "Epoch: 821 Iteration: 73100. Train_MSE: 0.0002149759093299508. Test_MSE: 0.00014680469225122027\n",
      "Epoch: 822 Iteration: 73200. Train_MSE: 0.00011039273522328585. Test_MSE: 0.00014655327942410474\n",
      "Epoch: 823 Iteration: 73300. Train_MSE: 0.00015077136049512774. Test_MSE: 0.00014651990168290216\n",
      "Epoch: 824 Iteration: 73400. Train_MSE: 0.0003680535010062158. Test_MSE: 0.00014643011920650675\n",
      "Epoch: 825 Iteration: 73500. Train_MSE: 0.00015481789887417108. Test_MSE: 0.00014637002190189677\n",
      "Epoch: 826 Iteration: 73600. Train_MSE: 0.0002206710196333006. Test_MSE: 0.00014628065035833673\n",
      "Epoch: 828 Iteration: 73700. Train_MSE: 0.00013496428437065333. Test_MSE: 0.00014620175294935664\n",
      "Epoch: 829 Iteration: 73800. Train_MSE: 0.0003135902516078204. Test_MSE: 0.00014603627397808362\n",
      "Epoch: 830 Iteration: 73900. Train_MSE: 0.0002164015604648739. Test_MSE: 0.00014606147667892445\n",
      "Epoch: 831 Iteration: 74000. Train_MSE: 0.00019240727124270052. Test_MSE: 0.00014583751677433446\n",
      "Epoch: 832 Iteration: 74100. Train_MSE: 0.00012380009866319597. Test_MSE: 0.00014577653740741416\n",
      "Epoch: 833 Iteration: 74200. Train_MSE: 0.00043053284753113985. Test_MSE: 0.00014569387125282926\n",
      "Epoch: 834 Iteration: 74300. Train_MSE: 0.000266832736087963. Test_MSE: 0.00014565030592758092\n",
      "Epoch: 835 Iteration: 74400. Train_MSE: 0.0001889664854388684. Test_MSE: 0.00014552990907759582\n",
      "Epoch: 837 Iteration: 74500. Train_MSE: 0.00023159034026321024. Test_MSE: 0.00014549230144238597\n",
      "Epoch: 838 Iteration: 74600. Train_MSE: 0.0009074379340745509. Test_MSE: 0.0001452922269838242\n",
      "Epoch: 839 Iteration: 74700. Train_MSE: 0.0003088846569880843. Test_MSE: 0.00014533283464231094\n",
      "Epoch: 840 Iteration: 74800. Train_MSE: 0.00014506859588436782. Test_MSE: 0.00014512251336384928\n",
      "Epoch: 841 Iteration: 74900. Train_MSE: 0.00013857544399797916. Test_MSE: 0.0001450487212981273\n",
      "Epoch: 842 Iteration: 75000. Train_MSE: 0.0012984737986698747. Test_MSE: 0.00014497856090503223\n",
      "Epoch: 843 Iteration: 75100. Train_MSE: 0.00016207416774705052. Test_MSE: 0.0001449364093216789\n",
      "Epoch: 844 Iteration: 75200. Train_MSE: 0.000108825319330208. Test_MSE: 0.00014478609083244732\n",
      "Epoch: 846 Iteration: 75300. Train_MSE: 0.00015444324526470155. Test_MSE: 0.00014481027733004637\n",
      "Epoch: 847 Iteration: 75400. Train_MSE: 0.000306187488604337. Test_MSE: 0.00014457492944275381\n",
      "Epoch: 848 Iteration: 75500. Train_MSE: 0.0002895650395657867. Test_MSE: 0.00014459618805183453\n",
      "Epoch: 849 Iteration: 75600. Train_MSE: 0.0002521602436900139. Test_MSE: 0.00014439030323533196\n",
      "Epoch: 850 Iteration: 75700. Train_MSE: 0.00010934110468951985. Test_MSE: 0.00014433764073815583\n",
      "Epoch: 851 Iteration: 75800. Train_MSE: 0.00035561557160690427. Test_MSE: 0.00014428545208965493\n",
      "Epoch: 852 Iteration: 75900. Train_MSE: 0.00019919105398003012. Test_MSE: 0.00014421286863072413\n",
      "Epoch: 853 Iteration: 76000. Train_MSE: 0.0001363328192383051. Test_MSE: 0.00014409353738923788\n",
      "Epoch: 855 Iteration: 76100. Train_MSE: 0.00013094085443299264. Test_MSE: 0.00014411764377905123\n",
      "Epoch: 856 Iteration: 76200. Train_MSE: 0.003030716674402356. Test_MSE: 0.00014387504394319111\n",
      "Epoch: 857 Iteration: 76300. Train_MSE: 0.0001244164741365239. Test_MSE: 0.0001438657947048146\n",
      "Epoch: 858 Iteration: 76400. Train_MSE: 0.0008407182758674026. Test_MSE: 0.00014372502162463943\n",
      "Epoch: 859 Iteration: 76500. Train_MSE: 0.00020540348486974835. Test_MSE: 0.00014363314879588162\n",
      "Epoch: 860 Iteration: 76600. Train_MSE: 0.000552079698536545. Test_MSE: 0.00014356453220082502\n",
      "Epoch: 861 Iteration: 76700. Train_MSE: 0.00029867739067412913. Test_MSE: 0.0001435108568878827\n",
      "Epoch: 862 Iteration: 76800. Train_MSE: 0.00021176075097173452. Test_MSE: 0.00014339365892270133\n",
      "Epoch: 864 Iteration: 76900. Train_MSE: 0.0001183714994112961. Test_MSE: 0.00014344356260629582\n",
      "Epoch: 865 Iteration: 77000. Train_MSE: 0.0016986194532364607. Test_MSE: 0.00014323477368325435\n",
      "Epoch: 866 Iteration: 77100. Train_MSE: 0.00021588263916783035. Test_MSE: 0.00014316164058657984\n",
      "Epoch: 867 Iteration: 77200. Train_MSE: 0.00024367874721065164. Test_MSE: 0.00014307037789398154\n",
      "Epoch: 868 Iteration: 77300. Train_MSE: 0.0002449823368806392. Test_MSE: 0.00014293650801975463\n",
      "Epoch: 869 Iteration: 77400. Train_MSE: 0.00018059383728541434. Test_MSE: 0.00014289163809309057\n",
      "Epoch: 870 Iteration: 77500. Train_MSE: 0.008309886790812016. Test_MSE: 0.00014279865729101632\n",
      "Epoch: 871 Iteration: 77600. Train_MSE: 0.00019442314805928618. Test_MSE: 0.00014272178881374003\n",
      "Epoch: 873 Iteration: 77700. Train_MSE: 0.00012299444642849267. Test_MSE: 0.00014277407339380346\n"
     ]
    },
    {
     "name": "stdout",
     "output_type": "stream",
     "text": [
      "Epoch: 874 Iteration: 77800. Train_MSE: 0.00015666353283450007. Test_MSE: 0.00014257571865762664\n",
      "Epoch: 875 Iteration: 77900. Train_MSE: 0.0131159583106637. Test_MSE: 0.00014245547002392534\n",
      "Epoch: 876 Iteration: 78000. Train_MSE: 0.0002111602370860055. Test_MSE: 0.00014242301647882997\n",
      "Epoch: 877 Iteration: 78100. Train_MSE: 0.00024273259623441845. Test_MSE: 0.0001422292821990323\n",
      "Epoch: 878 Iteration: 78200. Train_MSE: 0.0001292571978410706. Test_MSE: 0.00014220403136425857\n",
      "Epoch: 879 Iteration: 78300. Train_MSE: 0.0010250372579321265. Test_MSE: 0.0001421605339336587\n",
      "Epoch: 880 Iteration: 78400. Train_MSE: 0.00018905433535110205. Test_MSE: 0.00014207232122536904\n",
      "Epoch: 882 Iteration: 78500. Train_MSE: 0.0003080404130741954. Test_MSE: 0.00014208107269791085\n",
      "Epoch: 883 Iteration: 78600. Train_MSE: 0.0002146053739124909. Test_MSE: 0.00014188656954165898\n",
      "Epoch: 884 Iteration: 78700. Train_MSE: 0.0011481449473649263. Test_MSE: 0.0001418316949200183\n",
      "Epoch: 885 Iteration: 78800. Train_MSE: 0.00015032495139166713. Test_MSE: 0.00014179099682754933\n",
      "Epoch: 886 Iteration: 78900. Train_MSE: 0.00010644680151017383. Test_MSE: 0.0001415739407035003\n",
      "Epoch: 887 Iteration: 79000. Train_MSE: 0.00011581159924389794. Test_MSE: 0.00014153789225187973\n",
      "Epoch: 888 Iteration: 79100. Train_MSE: 0.000923352490644902. Test_MSE: 0.00014149762957944362\n",
      "Epoch: 889 Iteration: 79200. Train_MSE: 0.00011884392006322742. Test_MSE: 0.00014141720704603862\n",
      "Epoch: 891 Iteration: 79300. Train_MSE: 0.00020927382865920663. Test_MSE: 0.00014144928552766453\n",
      "Epoch: 892 Iteration: 79400. Train_MSE: 0.00020887261780444533. Test_MSE: 0.00014124363298241083\n",
      "Epoch: 893 Iteration: 79500. Train_MSE: 0.000875507656019181. Test_MSE: 0.00014115932596848462\n",
      "Epoch: 894 Iteration: 79600. Train_MSE: 0.00021574391575995833. Test_MSE: 0.00014115874752579255\n",
      "Epoch: 895 Iteration: 79700. Train_MSE: 0.0005465527647174895. Test_MSE: 0.0001409080070871831\n",
      "Epoch: 896 Iteration: 79800. Train_MSE: 0.00017987278988584876. Test_MSE: 0.00014087942066804153\n",
      "Epoch: 897 Iteration: 79900. Train_MSE: 0.0005436715437099338. Test_MSE: 0.00014083546246561505\n",
      "Epoch: 898 Iteration: 80000. Train_MSE: 0.00019893224816769361. Test_MSE: 0.00014074818265243224\n",
      "Epoch: 900 Iteration: 80100. Train_MSE: 0.00044490929576568305. Test_MSE: 0.00014079198435876502\n",
      "Epoch: 901 Iteration: 80200. Train_MSE: 7.625994476256892e-05. Test_MSE: 0.00014059750913164403\n",
      "Epoch: 902 Iteration: 80300. Train_MSE: 0.0004726024635601789. Test_MSE: 0.00014049873494009475\n",
      "Epoch: 903 Iteration: 80400. Train_MSE: 0.0001734239049255848. Test_MSE: 0.00014050867762345089\n",
      "Epoch: 904 Iteration: 80500. Train_MSE: 0.00018598644237499684. Test_MSE: 0.00014026811236927364\n",
      "Epoch: 905 Iteration: 80600. Train_MSE: 0.00015183906361926347. Test_MSE: 0.00014022014581924674\n",
      "Epoch: 906 Iteration: 80700. Train_MSE: 0.0007514269091188908. Test_MSE: 0.00014016993659136435\n",
      "Epoch: 907 Iteration: 80800. Train_MSE: 0.00014611409278586507. Test_MSE: 0.0001401130510536946\n",
      "Epoch: 908 Iteration: 80900. Train_MSE: 0.00016534223686903715. Test_MSE: 0.00014009514587800813\n",
      "Epoch: 910 Iteration: 81000. Train_MSE: 0.00014586206816602498. Test_MSE: 0.00013993779582110362\n",
      "Epoch: 911 Iteration: 81100. Train_MSE: 0.0004080096259713173. Test_MSE: 0.00013983914533033688\n",
      "Epoch: 912 Iteration: 81200. Train_MSE: 0.0008466175058856606. Test_MSE: 0.00013985344731728071\n",
      "Epoch: 913 Iteration: 81300. Train_MSE: 0.00011316765449009836. Test_MSE: 0.00013961777516249265\n",
      "Epoch: 914 Iteration: 81400. Train_MSE: 0.00011190273653483018. Test_MSE: 0.00013958213083409933\n",
      "Epoch: 915 Iteration: 81500. Train_MSE: 0.0006055153789930046. Test_MSE: 0.00013951813351921154\n",
      "Epoch: 916 Iteration: 81600. Train_MSE: 0.00019352664821781218. Test_MSE: 0.00013945622858469752\n",
      "Epoch: 917 Iteration: 81700. Train_MSE: 0.000367422093404457. Test_MSE: 0.00013942968120158315\n",
      "Epoch: 919 Iteration: 81800. Train_MSE: 0.00015604030340909958. Test_MSE: 0.00013929626480652219\n",
      "Epoch: 920 Iteration: 81900. Train_MSE: 0.00018643909425009042. Test_MSE: 0.00013918440497837114\n",
      "Epoch: 921 Iteration: 82000. Train_MSE: 0.00020217010751366615. Test_MSE: 0.00013920875169299058\n",
      "Epoch: 922 Iteration: 82100. Train_MSE: 0.000100050623586867. Test_MSE: 0.00013897925185140208\n",
      "Epoch: 923 Iteration: 82200. Train_MSE: 0.00014093529898673296. Test_MSE: 0.00013895190353063836\n",
      "Epoch: 924 Iteration: 82300. Train_MSE: 0.0003525330394040793. Test_MSE: 0.00013887792963551468\n",
      "Epoch: 925 Iteration: 82400. Train_MSE: 0.00014190160436555743. Test_MSE: 0.00013882665263686321\n",
      "Epoch: 926 Iteration: 82500. Train_MSE: 0.00019921688362956047. Test_MSE: 0.00013874648819733288\n",
      "Epoch: 928 Iteration: 82600. Train_MSE: 0.00012780536781065166. Test_MSE: 0.0001386808810719808\n",
      "Epoch: 929 Iteration: 82700. Train_MSE: 0.00030332893948070705. Test_MSE: 0.0001385344309126551\n",
      "Epoch: 930 Iteration: 82800. Train_MSE: 0.0002016889920923859. Test_MSE: 0.000138560163780053\n",
      "Epoch: 931 Iteration: 82900. Train_MSE: 0.00017689004016574472. Test_MSE: 0.0001383555867349457\n",
      "Epoch: 932 Iteration: 83000. Train_MSE: 0.00011607592750806361. Test_MSE: 0.00013830247351421222\n",
      "Epoch: 933 Iteration: 83100. Train_MSE: 0.00041949551086872816. Test_MSE: 0.00013823506493195506\n",
      "Epoch: 934 Iteration: 83200. Train_MSE: 0.0002487622550688684. Test_MSE: 0.00013819932136700878\n",
      "Epoch: 935 Iteration: 83300. Train_MSE: 0.00017137372924480587. Test_MSE: 0.00013809006808413027\n",
      "Epoch: 937 Iteration: 83400. Train_MSE: 0.00021239154739305377. Test_MSE: 0.00013806140763614923\n",
      "Epoch: 938 Iteration: 83500. Train_MSE: 0.0008951124036684632. Test_MSE: 0.0001378827824923676\n",
      "Epoch: 939 Iteration: 83600. Train_MSE: 0.0002826204872690141. Test_MSE: 0.0001379229046639063\n",
      "Epoch: 940 Iteration: 83700. Train_MSE: 0.00012950778182130307. Test_MSE: 0.0001377310463198138\n",
      "Epoch: 941 Iteration: 83800. Train_MSE: 0.00012119000894017518. Test_MSE: 0.00013766574805261972\n",
      "Epoch: 942 Iteration: 83900. Train_MSE: 0.0012909045908600092. Test_MSE: 0.000137610012781041\n",
      "Epoch: 943 Iteration: 84000. Train_MSE: 0.00015189274563454092. Test_MSE: 0.00013757547601253163\n",
      "Epoch: 944 Iteration: 84100. Train_MSE: 9.928983490681276e-05. Test_MSE: 0.0001374395362076485\n",
      "Epoch: 946 Iteration: 84200. Train_MSE: 0.00014189067587722093. Test_MSE: 0.00013746767352493144\n",
      "Epoch: 947 Iteration: 84300. Train_MSE: 0.00029841886134818196. Test_MSE: 0.00013725645003811231\n",
      "Epoch: 948 Iteration: 84400. Train_MSE: 0.0002706355298869312. Test_MSE: 0.00013727933664861778\n",
      "Epoch: 949 Iteration: 84500. Train_MSE: 0.00023429523571394384. Test_MSE: 0.00013709194993617694\n",
      "Epoch: 950 Iteration: 84600. Train_MSE: 0.00010039989865617827. Test_MSE: 0.00013704585664749814\n",
      "Epoch: 951 Iteration: 84700. Train_MSE: 0.0003461386659182608. Test_MSE: 0.00013700702362863106\n",
      "Epoch: 952 Iteration: 84800. Train_MSE: 0.00019243134011048824. Test_MSE: 0.00013694321611393555\n",
      "Epoch: 953 Iteration: 84900. Train_MSE: 0.000127893261378631. Test_MSE: 0.00013683606168889717\n",
      "Epoch: 955 Iteration: 85000. Train_MSE: 0.0001153556804638356. Test_MSE: 0.00013686355517660722\n",
      "Epoch: 956 Iteration: 85100. Train_MSE: 0.0029973448254168034. Test_MSE: 0.00013664573610118713\n",
      "Epoch: 957 Iteration: 85200. Train_MSE: 0.0001193546995637007. Test_MSE: 0.00013664070713768252\n",
      "Epoch: 958 Iteration: 85300. Train_MSE: 0.0008123635780066252. Test_MSE: 0.00013651441947134138\n",
      "Epoch: 959 Iteration: 85400. Train_MSE: 0.0001839831966208294. Test_MSE: 0.00013643146243994458\n",
      "Epoch: 960 Iteration: 85500. Train_MSE: 0.0005375164328143001. Test_MSE: 0.0001363773390273605\n",
      "Epoch: 961 Iteration: 85600. Train_MSE: 0.00028647214639931917. Test_MSE: 0.00013632971138897995\n",
      "Epoch: 962 Iteration: 85700. Train_MSE: 0.00019419321324676275. Test_MSE: 0.00013622562922264154\n",
      "Epoch: 964 Iteration: 85800. Train_MSE: 0.00010333243699278682. Test_MSE: 0.0001362751560264716\n",
      "Epoch: 965 Iteration: 85900. Train_MSE: 0.0016917305765673518. Test_MSE: 0.00013609167365928758\n",
      "Epoch: 966 Iteration: 86000. Train_MSE: 0.00020764610962942243. Test_MSE: 0.00013602524965532293\n",
      "Epoch: 967 Iteration: 86100. Train_MSE: 0.00022933514264877886. Test_MSE: 0.0001359457168514172\n",
      "Epoch: 968 Iteration: 86200. Train_MSE: 0.00022551346046384424. Test_MSE: 0.00013582234837301093\n",
      "Epoch: 969 Iteration: 86300. Train_MSE: 0.000169850216479972. Test_MSE: 0.00013579099459607772\n"
     ]
    },
    {
     "name": "stdout",
     "output_type": "stream",
     "text": [
      "Epoch: 970 Iteration: 86400. Train_MSE: 0.008298207074403763. Test_MSE: 0.00013570554008543491\n",
      "Epoch: 971 Iteration: 86500. Train_MSE: 0.0001750295195961371. Test_MSE: 0.00013564063756372688\n",
      "Epoch: 973 Iteration: 86600. Train_MSE: 0.00011672219989122823. Test_MSE: 0.0001356910273064918\n",
      "Epoch: 974 Iteration: 86700. Train_MSE: 0.000146513368235901. Test_MSE: 0.0001355193059871635\n",
      "Epoch: 975 Iteration: 86800. Train_MSE: 0.013096796348690987. Test_MSE: 0.00013540686344920482\n",
      "Epoch: 976 Iteration: 86900. Train_MSE: 0.00018971574900206178. Test_MSE: 0.00013538334978053783\n",
      "Epoch: 977 Iteration: 87000. Train_MSE: 0.00021997712610755116. Test_MSE: 0.00013520466054886567\n",
      "Epoch: 978 Iteration: 87100. Train_MSE: 0.00011683462798828259. Test_MSE: 0.00013518989067916117\n",
      "Epoch: 979 Iteration: 87200. Train_MSE: 0.001015855697914958. Test_MSE: 0.00013515409545484253\n",
      "Epoch: 980 Iteration: 87300. Train_MSE: 0.00017377789481543005. Test_MSE: 0.0001350754861392037\n",
      "Epoch: 982 Iteration: 87400. Train_MSE: 0.0002826914715114981. Test_MSE: 0.00013508526543185934\n",
      "Epoch: 983 Iteration: 87500. Train_MSE: 0.0001970294106286019. Test_MSE: 0.00013491587706460868\n",
      "Epoch: 984 Iteration: 87600. Train_MSE: 0.001135471393354237. Test_MSE: 0.00013486819488319225\n",
      "Epoch: 985 Iteration: 87700. Train_MSE: 0.00013773899991065264. Test_MSE: 0.00013483314768138497\n",
      "Epoch: 986 Iteration: 87800. Train_MSE: 9.826833411352709e-05. Test_MSE: 0.00013463285134055565\n",
      "Epoch: 987 Iteration: 87900. Train_MSE: 0.00010706187458708882. Test_MSE: 0.00013460614546552423\n",
      "Epoch: 988 Iteration: 88000. Train_MSE: 0.000915048411116004. Test_MSE: 0.0001345742740445551\n",
      "Epoch: 989 Iteration: 88100. Train_MSE: 0.00011366663238732144. Test_MSE: 0.00013450277916343258\n",
      "Epoch: 991 Iteration: 88200. Train_MSE: 0.00019032973796129227. Test_MSE: 0.00013453388031995294\n",
      "Epoch: 992 Iteration: 88300. Train_MSE: 0.00019141427765134722. Test_MSE: 0.00013435353179163035\n",
      "Epoch: 993 Iteration: 88400. Train_MSE: 0.0008722788188606501. Test_MSE: 0.00013427867431174055\n",
      "Epoch: 994 Iteration: 88500. Train_MSE: 0.00019901266205124557. Test_MSE: 0.00013428055874992683\n",
      "Epoch: 995 Iteration: 88600. Train_MSE: 0.0004995433264411986. Test_MSE: 0.0001340491289356079\n",
      "Epoch: 996 Iteration: 88700. Train_MSE: 0.00016622502880636603. Test_MSE: 0.00013402788634796315\n",
      "Epoch: 997 Iteration: 88800. Train_MSE: 0.0005369008285924792. Test_MSE: 0.0001339943207808915\n",
      "Epoch: 998 Iteration: 88900. Train_MSE: 0.00018483407620806247. Test_MSE: 0.0001339151453711189\n"
     ]
    }
   ],
   "source": [
    "# Training the model\n",
    "seq_dim = 1\n",
    "\n",
    "n_iter =0\n",
    "num_samples = len(X_train)\n",
    "test_samples = len(X_test)\n",
    "batch_size = 100\n",
    "num_epochs = 1000\n",
    "feat_dim = X_train.shape[1]\n",
    "\n",
    "X_train = X_train.type(torch.FloatTensor)\n",
    "y_train = y_train.type(torch.FloatTensor)\n",
    "X_test = X_test.type(torch.FloatTensor)\n",
    "y_test = y_test.type(torch.FloatTensor)\n",
    "\n",
    "for epoch in range(num_epochs):\n",
    "    for i in range(0, int(num_samples/batch_size -1)):\n",
    "        \n",
    "        \n",
    "        features = Variable(X_train[i*batch_size:(i+1)*batch_size, :]).view(-1, seq_dim, feat_dim)\n",
    "        Kt_value = Variable(y_train[i*batch_size:(i+1)*batch_size])\n",
    "        \n",
    "        #print(\"Kt_value={}\".format(Kt_value))\n",
    "        \n",
    "        optimizer.zero_grad()\n",
    "        \n",
    "        outputs = model(features)\n",
    "        #print(\"outputs ={}\".format(outputs))\n",
    "        \n",
    "        loss = criterion(outputs, Kt_value)\n",
    "        \n",
    "        train_loss.append(loss.data[0])\n",
    "        train_iter.append(n_iter)\n",
    "\n",
    "        #print(\"loss = {}\".format(loss))\n",
    "        loss.backward()\n",
    "        \n",
    "        optimizer.step()\n",
    "        \n",
    "       \n",
    "            \n",
    "        if n_iter%100 == 0:\n",
    "            for i in range(0,int(test_samples/batch_size -1)):\n",
    "                features = Variable(X_test[i*batch_size:(i+1)*batch_size, :]).view(-1, seq_dim, feat_dim)\n",
    "                Kt_test = Variable(y_test[i*batch_size:(i+1)*batch_size])\n",
    "                \n",
    "                outputs = model(features)\n",
    "                \n",
    "                mse = np.sqrt(np.mean((Kt_test.data.numpy() - outputs.data.numpy().squeeze())**2)/num_samples)\n",
    "                \n",
    "                test_iter.append(n_iter)\n",
    "                test_loss.append(mse)\n",
    "                \n",
    "            print('Epoch: {} Iteration: {}. Train_MSE: {}. Test_MSE: {}'.format(epoch, n_iter, loss.data[0], mse))\n",
    "        n_iter += 1       "
   ]
  },
  {
   "cell_type": "code",
   "execution_count": 78,
   "metadata": {},
   "outputs": [
    {
     "name": "stdout",
     "output_type": "stream",
     "text": [
      "33820\n"
     ]
    },
    {
     "data": {
      "text/plain": [
       "[<matplotlib.lines.Line2D at 0x12330b70>]"
      ]
     },
     "execution_count": 78,
     "metadata": {},
     "output_type": "execute_result"
    },
    {
     "data": {
      "image/png": "[encoded data removed]",
      "text/plain": [
       "<Figure size 432x288 with 1 Axes>"
      ]
     },
     "metadata": {},
     "output_type": "display_data"
    }
   ],
   "source": [
    "print(len(test_loss))\n",
    "#plt.plot(test_loss)\n",
    "plt.plot(train_loss,'-')\n",
    "#plt.ylim([0.000,0.99])\n"
   ]
  },
  {
   "cell_type": "code",
   "execution_count": 79,
   "metadata": {},
   "outputs": [
    {
     "data": {
      "text/plain": [
       "[<matplotlib.lines.Line2D at 0xc2e3898>]"
      ]
     },
     "execution_count": 79,
     "metadata": {},
     "output_type": "execute_result"
    },
    {
     "data": {
      "image/png": "[encoded data removed]",
      "text/plain": [
       "<Figure size 432x288 with 1 Axes>"
      ]
     },
     "metadata": {},
     "output_type": "display_data"
    }
   ],
   "source": [
    "plt.plot(test_loss,'r')"
   ]
  },
  {
   "cell_type": "markdown",
   "metadata": {
    "collapsed": true
   },
   "source": [
    "#### Demornamization"
   ]
  },
  {
   "cell_type": "code",
   "execution_count": 80,
   "metadata": {},
   "outputs": [],
   "source": [
    "rmse = np.sqrt(mse)"
   ]
  },
  {
   "cell_type": "code",
   "execution_count": 81,
   "metadata": {},
   "outputs": [],
   "source": [
    "rmse_denorm = (rmse * (df_new_test['Kt'].max() - df_new_test['Kt'].min()))+ df_new_test['Kt'].mean()"
   ]
  },
  {
   "cell_type": "code",
   "execution_count": 82,
   "metadata": {},
   "outputs": [
    {
     "data": {
      "text/plain": [
       "26.801033625268513"
      ]
     },
     "execution_count": 82,
     "metadata": {},
     "output_type": "execute_result"
    }
   ],
   "source": [
    "rmse_denorm"
   ]
  },
  {
   "cell_type": "code",
   "execution_count": 83,
   "metadata": {},
   "outputs": [
    {
     "data": {
      "text/plain": [
       "count    3846.000000\n",
       "mean        5.949008\n",
       "std        38.282310\n",
       "min        -0.038391\n",
       "25%        -0.007695\n",
       "50%         0.195282\n",
       "75%         1.414407\n",
       "max      1801.872849\n",
       "Name: Kt, dtype: float64"
      ]
     },
     "execution_count": 83,
     "metadata": {},
     "output_type": "execute_result"
    }
   ],
   "source": [
    "df_new_test['Kt'].describe()"
   ]
  },
  {
   "cell_type": "markdown",
   "metadata": {
    "collapsed": true
   },
   "source": [
    "### Saving train and test losses to a csv"
   ]
  },
  {
   "cell_type": "code",
   "execution_count": 84,
   "metadata": {},
   "outputs": [],
   "source": [
    "df_trainLoss = pd.DataFrame(data={'Train Loss':train_loss,'iteration':train_iter}, columns=['Train Loss','iteration'])\n",
    "df_trainLoss.to_csv('RNN Paper Results/Exp1_GoodwinCreek_TrainLoss.csv')\n",
    "df_testLoss = pd.DataFrame(data={'Test Loss':test_loss,'iteration':test_iter}, columns=['Test Loss','iteration'])\n",
    "df_testLoss.to_csv('RNN Paper Results/Exp1_GoodwinCreek_TestLoss.csv')"
   ]
  },
  {
   "cell_type": "code",
   "execution_count": null,
   "metadata": {},
   "outputs": [],
   "source": []
  }
 ],
 "metadata": {
  "anaconda-cloud": {},
  "kernelspec": {
   "display_name": "Python 3",
   "language": "python",
   "name": "python3"
  },
  "language_info": {
   "codemirror_mode": {
    "name": "ipython",
    "version": 3
   },
   "file_extension": ".py",
   "mimetype": "text/x-python",
   "name": "python",
   "nbconvert_exporter": "python",
   "pygments_lexer": "ipython3",
   "version": "3.6.1"
  }
 },
 "nbformat": 4,
 "nbformat_minor": 2
}
