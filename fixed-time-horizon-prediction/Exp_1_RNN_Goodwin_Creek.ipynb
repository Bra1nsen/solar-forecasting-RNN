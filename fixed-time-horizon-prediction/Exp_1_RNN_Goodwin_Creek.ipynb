{
 "cells": [
  {
   "cell_type": "code",
   "execution_count": 1,
   "metadata": {},
   "outputs": [],
   "source": [
    "import numpy as np\n",
    "import pandas as pd\n",
    "import datetime\n",
    "import glob\n",
    "import os.path\n",
    "from pandas.compat import StringIO"
   ]
  },
  {
   "cell_type": "markdown",
   "metadata": {},
   "source": [
    "### NREL Bird Model implementation: for obtaining clear sky GHI"
   ]
  },
  {
   "cell_type": "code",
   "execution_count": 2,
   "metadata": {},
   "outputs": [],
   "source": [
    "import itertools\n",
    "import matplotlib.pyplot as plt\n",
    "import pandas as pd\n",
    "import seaborn as sns"
   ]
  },
  {
   "cell_type": "code",
   "execution_count": 3,
   "metadata": {},
   "outputs": [],
   "source": [
    "%matplotlib inline\n",
    "sns.set_color_codes()"
   ]
  },
  {
   "cell_type": "code",
   "execution_count": 4,
   "metadata": {},
   "outputs": [],
   "source": [
    "import pvlib\n",
    "from pvlib import clearsky, atmosphere\n",
    "from pvlib.location import Location"
   ]
  },
  {
   "cell_type": "code",
   "execution_count": 5,
   "metadata": {},
   "outputs": [],
   "source": [
    "gwc = Location(34.2487,-89.8925, 'US/Central', 98, 'Goodwin Creek')"
   ]
  },
  {
   "cell_type": "code",
   "execution_count": 6,
   "metadata": {},
   "outputs": [],
   "source": [
    "times2009 = pd.DatetimeIndex(start='2009-01-01', end='2010-01-01', freq='1min',\n",
    "                        tz=gwc.tz)   # 12 months of 2009 - For testing\n",
    "times2010and2011 = pd.DatetimeIndex(start='2010-01-01', end='2012-01-01', freq='1min',\n",
    "                        tz=gwc.tz)   # 24 months of 2010 and 2011 - For training"
   ]
  },
  {
   "cell_type": "code",
   "execution_count": 7,
   "metadata": {},
   "outputs": [],
   "source": [
    "cs_2009 = gwc.get_clearsky(times2009) \n",
    "cs_2010and2011 = gwc.get_clearsky(times2010and2011) # ineichen with climatology table by default\n",
    "#cs_2011 = bvl.get_clearsky(times2011) "
   ]
  },
  {
   "cell_type": "code",
   "execution_count": 8,
   "metadata": {},
   "outputs": [],
   "source": [
    "cs_2009.drop(['dni','dhi'],axis=1, inplace=True) #updating the same dataframe by dropping two columns\n",
    "cs_2010and2011.drop(['dni','dhi'],axis=1, inplace=True) #updating the same dataframe by dropping two columns\n",
    "#cs_2011.drop(['dni','dhi'],axis=1, inplace=True) #updating the same dataframe by dropping two columns"
   ]
  },
  {
   "cell_type": "code",
   "execution_count": 9,
   "metadata": {},
   "outputs": [],
   "source": [
    "cs_2009.reset_index(inplace=True)\n",
    "cs_2010and2011.reset_index(inplace=True)\n",
    "#cs_2011.reset_index(inplace=True)"
   ]
  },
  {
   "cell_type": "code",
   "execution_count": 10,
   "metadata": {},
   "outputs": [],
   "source": [
    "cs_2009['index']=cs_2009['index'].apply(lambda x:x.to_datetime())\n",
    "cs_2009['year'] = cs_2009['index'].apply(lambda x:x.year)\n",
    "cs_2009['month'] = cs_2009['index'].apply(lambda x:x.month)\n",
    "cs_2009['day'] = cs_2009['index'].apply(lambda x:x.day)\n",
    "cs_2009['hour'] = cs_2009['index'].apply(lambda x:x.hour)\n",
    "cs_2009['min'] = cs_2009['index'].apply(lambda x:x.minute)"
   ]
  },
  {
   "cell_type": "code",
   "execution_count": 11,
   "metadata": {},
   "outputs": [],
   "source": [
    "cs_2010and2011['index']=cs_2010and2011['index'].apply(lambda x:x.to_datetime())\n",
    "cs_2010and2011['year'] = cs_2010and2011['index'].apply(lambda x:x.year)\n",
    "cs_2010and2011['month'] = cs_2010and2011['index'].apply(lambda x:x.month)\n",
    "cs_2010and2011['day'] = cs_2010and2011['index'].apply(lambda x:x.day)\n",
    "cs_2010and2011['hour'] = cs_2010and2011['index'].apply(lambda x:x.hour)\n",
    "cs_2010and2011['min'] = cs_2010and2011['index'].apply(lambda x:x.minute)"
   ]
  },
  {
   "cell_type": "code",
   "execution_count": 12,
   "metadata": {},
   "outputs": [
    {
     "name": "stdout",
     "output_type": "stream",
     "text": [
      "(525601, 7)\n",
      "(1051201, 7)\n"
     ]
    }
   ],
   "source": [
    "print(cs_2009.shape)\n",
    "print(cs_2010and2011.shape)\n",
    "#print(cs_2011.shape)"
   ]
  },
  {
   "cell_type": "code",
   "execution_count": 13,
   "metadata": {},
   "outputs": [],
   "source": [
    "cs_2009.drop(cs_2009.index[-1], inplace=True)\n",
    "cs_2010and2011.drop(cs_2010and2011.index[-1], inplace=True)\n",
    "#cs_2011.drop(cs_2011.index[-1], inplace=True)"
   ]
  },
  {
   "cell_type": "code",
   "execution_count": 14,
   "metadata": {},
   "outputs": [
    {
     "name": "stdout",
     "output_type": "stream",
     "text": [
      "(525600, 7)\n",
      "(1051200, 7)\n"
     ]
    }
   ],
   "source": [
    "print(cs_2009.shape)\n",
    "print(cs_2010and2011.shape)\n",
    "#print(cs_2011.shape)"
   ]
  },
  {
   "cell_type": "code",
   "execution_count": 15,
   "metadata": {},
   "outputs": [
    {
     "data": {
      "text/html": [
       "<div>\n",
       "<style scoped>\n",
       "    .dataframe tbody tr th:only-of-type {\n",
       "        vertical-align: middle;\n",
       "    }\n",
       "\n",
       "    .dataframe tbody tr th {\n",
       "        vertical-align: top;\n",
       "    }\n",
       "\n",
       "    .dataframe thead th {\n",
       "        text-align: right;\n",
       "    }\n",
       "</style>\n",
       "<table border=\"1\" class=\"dataframe\">\n",
       "  <thead>\n",
       "    <tr style=\"text-align: right;\">\n",
       "      <th></th>\n",
       "      <th>index</th>\n",
       "      <th>ghi</th>\n",
       "      <th>year</th>\n",
       "      <th>month</th>\n",
       "      <th>day</th>\n",
       "      <th>hour</th>\n",
       "      <th>min</th>\n",
       "    </tr>\n",
       "  </thead>\n",
       "  <tbody>\n",
       "    <tr>\n",
       "      <th>0</th>\n",
       "      <td>2010-01-01 00:00:00-06:00</td>\n",
       "      <td>0.0</td>\n",
       "      <td>2010</td>\n",
       "      <td>1</td>\n",
       "      <td>1</td>\n",
       "      <td>0</td>\n",
       "      <td>0</td>\n",
       "    </tr>\n",
       "    <tr>\n",
       "      <th>1</th>\n",
       "      <td>2010-01-01 00:01:00-06:00</td>\n",
       "      <td>0.0</td>\n",
       "      <td>2010</td>\n",
       "      <td>1</td>\n",
       "      <td>1</td>\n",
       "      <td>0</td>\n",
       "      <td>1</td>\n",
       "    </tr>\n",
       "    <tr>\n",
       "      <th>2</th>\n",
       "      <td>2010-01-01 00:02:00-06:00</td>\n",
       "      <td>0.0</td>\n",
       "      <td>2010</td>\n",
       "      <td>1</td>\n",
       "      <td>1</td>\n",
       "      <td>0</td>\n",
       "      <td>2</td>\n",
       "    </tr>\n",
       "    <tr>\n",
       "      <th>3</th>\n",
       "      <td>2010-01-01 00:03:00-06:00</td>\n",
       "      <td>0.0</td>\n",
       "      <td>2010</td>\n",
       "      <td>1</td>\n",
       "      <td>1</td>\n",
       "      <td>0</td>\n",
       "      <td>3</td>\n",
       "    </tr>\n",
       "    <tr>\n",
       "      <th>4</th>\n",
       "      <td>2010-01-01 00:04:00-06:00</td>\n",
       "      <td>0.0</td>\n",
       "      <td>2010</td>\n",
       "      <td>1</td>\n",
       "      <td>1</td>\n",
       "      <td>0</td>\n",
       "      <td>4</td>\n",
       "    </tr>\n",
       "  </tbody>\n",
       "</table>\n",
       "</div>"
      ],
      "text/plain": [
       "                      index  ghi  year  month  day  hour  min\n",
       "0 2010-01-01 00:00:00-06:00  0.0  2010      1    1     0    0\n",
       "1 2010-01-01 00:01:00-06:00  0.0  2010      1    1     0    1\n",
       "2 2010-01-01 00:02:00-06:00  0.0  2010      1    1     0    2\n",
       "3 2010-01-01 00:03:00-06:00  0.0  2010      1    1     0    3\n",
       "4 2010-01-01 00:04:00-06:00  0.0  2010      1    1     0    4"
      ]
     },
     "execution_count": 15,
     "metadata": {},
     "output_type": "execute_result"
    }
   ],
   "source": [
    "cs_2010and2011.head()"
   ]
  },
  {
   "cell_type": "markdown",
   "metadata": {},
   "source": [
    "### Import files from each year in a separate dataframe"
   ]
  },
  {
   "cell_type": "markdown",
   "metadata": {
    "collapsed": true
   },
   "source": [
    "\n",
    "- year            integer\t year, i.e., 1995\n",
    "- jday            integer\t Julian day (1 through 365 [or 366])\n",
    "- month           integer\t number of the month (1-12)\n",
    "- day             integer\t day of the month(1-31)\n",
    "- hour            integer\t hour of the day (0-23)\n",
    "- min             integer\t minute of the hour (0-59)\n",
    "- dt              real\t decimal time (hour.decimalminutes, e.g., 23.5 = 2330)\n",
    "- zen             real\t solar zenith angle (degrees)\n",
    "- dw_solar        real\t downwelling global solar (Watts m^-2)\n",
    "- uw_solar        real\t upwelling global solar (Watts m^-2)\n",
    "- direct_n        real\t direct-normal solar (Watts m^-2)\n",
    "- diffuse         real\t downwelling diffuse solar (Watts m^-2)\n",
    "- dw_ir           real\t downwelling thermal infrared (Watts m^-2)\n",
    "- dw_casetemp     real\t downwelling IR case temp. (K)\n",
    "- dw_dometemp     real\t downwelling IR dome temp. (K)\n",
    "- uw_ir           real\t upwelling thermal infrared (Watts m^-2)\n",
    "- uw_casetemp     real\t upwelling IR case temp. (K)\n",
    "- uw_dometemp     real\t upwelling IR dome temp. (K)\n",
    "- uvb             real\t global UVB (milliWatts m^-2)\n",
    "- par             real\t photosynthetically active radiation (Watts m^-2)\n",
    "- netsolar        real\t net solar (dw_solar - uw_solar) (Watts m^-2)\n",
    "- netir           real\t net infrared (dw_ir - uw_ir) (Watts m^-2)\n",
    "- totalnet        real\t net radiation (netsolar+netir) (Watts m^-2)\n",
    "- temp            real\t 10-meter air temperature (?C)\n",
    "- rh              real\t relative humidity (%)\n",
    "- windspd         real\t wind speed (ms^-1)\n",
    "- winddir         real\t wind direction (degrees, clockwise from north)\n",
    "- pressure        real\t station pressure (mb)\n"
   ]
  },
  {
   "cell_type": "code",
   "execution_count": 16,
   "metadata": {},
   "outputs": [],
   "source": [
    "cols = ['year', 'jday', 'month', 'day','hour','min','dt','zen','dw_solar','dw_solar_QC','uw_solar',\n",
    "       'uw_solar_QC', 'direct_n','direct_n_QC','diffuse', 'diffuse_QC', 'dw_ir', 'dw_ir_QC', 'dw_casetemp',\n",
    "       'dw_casetemp_QC', 'dw_dometemp','dw_dometemp_QC','uw_ir', 'uw_ir_QC', 'uw_casetemp','uw_casetemp_QC',\n",
    "       'uw_dometemp','uw_dometemp_QC','uvb','uvb_QC','par','par_QC','netsolar','netsolar_QC','netir','netir_QC',\n",
    "       'totalnet','totalnet_QC','temp','temp_QC','rh','rh_QC','windspd','windspd_QC','winddir','winddir_QC',\n",
    "       'pressure','pressure_QC']"
   ]
  },
  {
   "cell_type": "code",
   "execution_count": 17,
   "metadata": {},
   "outputs": [
    {
     "data": {
      "text/plain": [
       "(1029728, 48)"
      ]
     },
     "execution_count": 17,
     "metadata": {},
     "output_type": "execute_result"
    }
   ],
   "source": [
    "path = r'.\\\\data\\\\Goodwin_Creek\\\\Exp_1_train'\n",
    "all_files = glob.glob(path + \"/*.dat\")\n",
    "all_files.sort()\n",
    "\n",
    "df_big_train = pd.concat([pd.read_csv(f, skipinitialspace = True, quotechar = '\"',skiprows=(2),delimiter=' ', \n",
    "                 index_col=False,header=None, names=cols) for f in all_files],ignore_index=True)\n",
    "df_big_train.shape"
   ]
  },
  {
   "cell_type": "code",
   "execution_count": 18,
   "metadata": {},
   "outputs": [
    {
     "data": {
      "text/plain": [
       "(513149, 48)"
      ]
     },
     "execution_count": 18,
     "metadata": {},
     "output_type": "execute_result"
    }
   ],
   "source": [
    "path = r'.\\\\data\\\\Goodwin_Creek\\\\Exp_1_test'\n",
    "all_files = glob.glob(path + \"/*.dat\")\n",
    "all_files.sort()\n",
    "\n",
    "df_big_test = pd.concat((pd.read_csv(f, skipinitialspace = True, quotechar = '\"',skiprows=(2),delimiter=' ', \n",
    "                 index_col=False,header=None, names=cols) for f in all_files),ignore_index=True)\n",
    "df_big_test.shape"
   ]
  },
  {
   "cell_type": "code",
   "execution_count": 19,
   "metadata": {},
   "outputs": [
    {
     "data": {
      "text/plain": [
       "(1155, 48)"
      ]
     },
     "execution_count": 19,
     "metadata": {},
     "output_type": "execute_result"
    }
   ],
   "source": [
    "df_big_test[df_big_test['dw_solar']==-9999.9].shape"
   ]
  },
  {
   "cell_type": "markdown",
   "metadata": {},
   "source": [
    "### Merging Clear Sky GHI And the big dataframe"
   ]
  },
  {
   "cell_type": "code",
   "execution_count": 20,
   "metadata": {},
   "outputs": [
    {
     "data": {
      "text/plain": [
       "(1029728, 50)"
      ]
     },
     "execution_count": 20,
     "metadata": {},
     "output_type": "execute_result"
    }
   ],
   "source": [
    "df_train = pd.merge(df_big_train, cs_2010and2011, on=['year','month','day','hour','min'])\n",
    "df_train.shape"
   ]
  },
  {
   "cell_type": "code",
   "execution_count": 21,
   "metadata": {},
   "outputs": [
    {
     "data": {
      "text/plain": [
       "(513149, 50)"
      ]
     },
     "execution_count": 21,
     "metadata": {},
     "output_type": "execute_result"
    }
   ],
   "source": [
    "df_test = pd.merge(df_big_test, cs_2009, on=['year','month','day','hour','min'])\n",
    "df_test.shape"
   ]
  },
  {
   "cell_type": "code",
   "execution_count": 22,
   "metadata": {},
   "outputs": [],
   "source": [
    "df_train.drop(['index'],axis=1, inplace=True) #updating the same dataframe by dropping the index columns from clear sky model\n",
    "df_test.drop(['index'], axis=1, inplace=True)"
   ]
  },
  {
   "cell_type": "code",
   "execution_count": 23,
   "metadata": {},
   "outputs": [
    {
     "data": {
      "text/plain": [
       "(1029728, 49)"
      ]
     },
     "execution_count": 23,
     "metadata": {},
     "output_type": "execute_result"
    }
   ],
   "source": [
    "df_train.shape"
   ]
  },
  {
   "cell_type": "markdown",
   "metadata": {},
   "source": [
    "### Managing missing values"
   ]
  },
  {
   "cell_type": "code",
   "execution_count": 24,
   "metadata": {},
   "outputs": [],
   "source": [
    "# Resetting index\n",
    "df_train.reset_index(drop=True, inplace=True)\n",
    "df_test.reset_index(drop=True, inplace=True)"
   ]
  },
  {
   "cell_type": "code",
   "execution_count": 25,
   "metadata": {},
   "outputs": [],
   "source": [
    "# Dropping rows with two or more -9999.9 values in columns"
   ]
  },
  {
   "cell_type": "code",
   "execution_count": 26,
   "metadata": {},
   "outputs": [
    {
     "data": {
      "text/plain": [
       "(987521, 49)"
      ]
     },
     "execution_count": 26,
     "metadata": {},
     "output_type": "execute_result"
    }
   ],
   "source": [
    "# Step1: Get indices of all rows with 2 or more -999\n",
    "missing_data_indices = np.where((df_train <=-9999.9).apply(sum, axis=1)>=2)[0]\n",
    "# Step2: Drop those indices\n",
    "df_train.drop(missing_data_indices, axis=0, inplace=True)\n",
    "# Checking that the rows are dropped\n",
    "df_train.shape"
   ]
  },
  {
   "cell_type": "code",
   "execution_count": 27,
   "metadata": {},
   "outputs": [
    {
     "data": {
      "text/plain": [
       "(496347, 49)"
      ]
     },
     "execution_count": 27,
     "metadata": {},
     "output_type": "execute_result"
    }
   ],
   "source": [
    "missing_data_indices_test = np.where((df_test <= -9999.9).apply(sum, axis=1)>=2)[0]\n",
    "df_test.drop(missing_data_indices_test, axis=0, inplace=True)\n",
    "df_test.shape"
   ]
  },
  {
   "cell_type": "code",
   "execution_count": 28,
   "metadata": {},
   "outputs": [],
   "source": [
    "# For the rows with only one cell as -9999.9, replacing this cell with the mean of the column"
   ]
  },
  {
   "cell_type": "markdown",
   "metadata": {},
   "source": [
    "#### First resetting index after dropping rows in the previous part of the code"
   ]
  },
  {
   "cell_type": "code",
   "execution_count": 29,
   "metadata": {},
   "outputs": [],
   "source": [
    "# 2nd time - Reseting Index\n",
    "df_train.reset_index(drop=True, inplace=True)\n",
    "df_test.reset_index(drop=True, inplace=True)"
   ]
  },
  {
   "cell_type": "code",
   "execution_count": 30,
   "metadata": {},
   "outputs": [],
   "source": [
    "one_miss_train_idx = np.where((df_train <=-9999.9).apply(sum, axis=1)==1)[0]"
   ]
  },
  {
   "cell_type": "code",
   "execution_count": 31,
   "metadata": {},
   "outputs": [
    {
     "data": {
      "text/plain": [
       "2007"
      ]
     },
     "execution_count": 31,
     "metadata": {},
     "output_type": "execute_result"
    }
   ],
   "source": [
    "len(one_miss_train_idx)"
   ]
  },
  {
   "cell_type": "code",
   "execution_count": 32,
   "metadata": {},
   "outputs": [
    {
     "data": {
      "text/plain": [
       "(987521, 49)"
      ]
     },
     "execution_count": 32,
     "metadata": {},
     "output_type": "execute_result"
    }
   ],
   "source": [
    "df_train.shape"
   ]
  },
  {
   "cell_type": "code",
   "execution_count": 33,
   "metadata": {},
   "outputs": [
    {
     "name": "stderr",
     "output_type": "stream",
     "text": [
      "C:\\Users\\s269596\\AppData\\Local\\Continuum\\Anaconda3\\lib\\site-packages\\pandas\\core\\indexing.py:194: SettingWithCopyWarning: \n",
      "A value is trying to be set on a copy of a slice from a DataFrame\n",
      "\n",
      "See the caveats in the documentation: http://pandas.pydata.org/pandas-docs/stable/indexing.html#indexing-view-versus-copy\n",
      "  self._setitem_with_indexer(indexer, value)\n"
     ]
    }
   ],
   "source": [
    "col_names = df_train.columns\n",
    "from collections import defaultdict\n",
    "stats = defaultdict(int)\n",
    "total_single_missing_values = 0\n",
    "for name in col_names:\n",
    "    col_mean = df_train[~(df_train[name] == -9999.9)][name].mean()\n",
    "    missing_indices = np.where((df_train[name] == -9999.9))\n",
    "    stats[name] = len(missing_indices[0])\n",
    "    df_train[name].loc[missing_indices] = col_mean\n",
    "    total_single_missing_values += sum(df_train[name] == -9999.9)\n",
    "    "
   ]
  },
  {
   "cell_type": "code",
   "execution_count": 34,
   "metadata": {},
   "outputs": [],
   "source": [
    "df_col_min = df_train.apply(min, axis=0)\n",
    "df_col_max = df_train.apply(max, axis =0)\n",
    "#print(df_col_min, df_col_max)"
   ]
  },
  {
   "cell_type": "code",
   "execution_count": 35,
   "metadata": {},
   "outputs": [],
   "source": [
    "train = np.where((df_train <=-9999.9).apply(sum, axis=1)==1)[0]"
   ]
  },
  {
   "cell_type": "code",
   "execution_count": 36,
   "metadata": {},
   "outputs": [
    {
     "data": {
      "text/plain": [
       "0"
      ]
     },
     "execution_count": 36,
     "metadata": {},
     "output_type": "execute_result"
    }
   ],
   "source": [
    "len(train)"
   ]
  },
  {
   "cell_type": "code",
   "execution_count": 37,
   "metadata": {},
   "outputs": [],
   "source": [
    "# doing the same thing on test dataset"
   ]
  },
  {
   "cell_type": "code",
   "execution_count": 38,
   "metadata": {},
   "outputs": [
    {
     "data": {
      "text/plain": [
       "2206"
      ]
     },
     "execution_count": 38,
     "metadata": {},
     "output_type": "execute_result"
    }
   ],
   "source": [
    "one_miss_test_idx = np.where((df_test <=-9999.9).apply(sum, axis=1)==1)[0]\n",
    "len(one_miss_test_idx)"
   ]
  },
  {
   "cell_type": "code",
   "execution_count": 39,
   "metadata": {},
   "outputs": [
    {
     "name": "stderr",
     "output_type": "stream",
     "text": [
      "C:\\Users\\s269596\\AppData\\Local\\Continuum\\Anaconda3\\lib\\site-packages\\pandas\\core\\indexing.py:194: SettingWithCopyWarning: \n",
      "A value is trying to be set on a copy of a slice from a DataFrame\n",
      "\n",
      "See the caveats in the documentation: http://pandas.pydata.org/pandas-docs/stable/indexing.html#indexing-view-versus-copy\n",
      "  self._setitem_with_indexer(indexer, value)\n"
     ]
    }
   ],
   "source": [
    "col_names_test = df_test.columns\n",
    "from collections import defaultdict\n",
    "stats_test = defaultdict(int)\n",
    "total_single_missing_values_test = 0\n",
    "for name in col_names_test:\n",
    "    col_mean = df_test[~(df_test[name] == -9999.9)][name].mean()\n",
    "    missing_indices = np.where((df_test[name] == -9999.9))\n",
    "    stats_test[name] = len(missing_indices[0])\n",
    "    df_test[name].loc[missing_indices] = col_mean\n",
    "    total_single_missing_values_test += sum(df_test[name] == -9999.9)\n",
    "    "
   ]
  },
  {
   "cell_type": "code",
   "execution_count": 40,
   "metadata": {},
   "outputs": [],
   "source": [
    "test = np.where((df_test <=-9999.9).apply(sum, axis=1)==1)[0]"
   ]
  },
  {
   "cell_type": "code",
   "execution_count": 41,
   "metadata": {},
   "outputs": [
    {
     "data": {
      "text/plain": [
       "0"
      ]
     },
     "execution_count": 41,
     "metadata": {},
     "output_type": "execute_result"
    }
   ],
   "source": [
    "len(test)"
   ]
  },
  {
   "cell_type": "code",
   "execution_count": 42,
   "metadata": {},
   "outputs": [
    {
     "data": {
      "text/plain": [
       "(987521, 49)"
      ]
     },
     "execution_count": 42,
     "metadata": {},
     "output_type": "execute_result"
    }
   ],
   "source": [
    "df_train.shape"
   ]
  },
  {
   "cell_type": "code",
   "execution_count": 43,
   "metadata": {},
   "outputs": [
    {
     "data": {
      "text/plain": [
       "(496347, 49)"
      ]
     },
     "execution_count": 43,
     "metadata": {},
     "output_type": "execute_result"
    }
   ],
   "source": [
    "df_test.shape"
   ]
  },
  {
   "cell_type": "markdown",
   "metadata": {},
   "source": [
    "### Exploratory Data Analysis"
   ]
  },
  {
   "cell_type": "code",
   "execution_count": 44,
   "metadata": {},
   "outputs": [],
   "source": [
    "dw_solar_everyday = df_test.groupby(['jday'])['dw_solar'].mean()\n",
    "ghi_everyday = df_test.groupby(['jday'])['ghi'].mean()\n",
    "j_day = df_test['jday'].unique()"
   ]
  },
  {
   "cell_type": "code",
   "execution_count": 45,
   "metadata": {},
   "outputs": [
    {
     "data": {
      "image/png": "[encoded data removed]",
      "text/plain": [
       "<Figure size 432x288 with 1 Axes>"
      ]
     },
     "metadata": {},
     "output_type": "display_data"
    }
   ],
   "source": [
    "fig = plt.figure()\n",
    "\n",
    "axes1 = fig.add_axes([0.1,0.1,0.8,0.8])\n",
    "#axes2 = fig.add_axes([0.1,0.1,0.8,0.8])\n",
    "\n",
    "axes1.scatter(j_day,dw_solar_everyday,label='Observed dw_solar',color='red')\n",
    "axes1.scatter(j_day, ghi_everyday, label='Clear Sky GHI',color='green')\n",
    "\n",
    "axes1.set_xlabel('Days')\n",
    "axes1.set_ylabel('Solar Irradiance (Watts /m^2)')\n",
    "axes1.set_title('Solar Irradiance - Test Year 2009')\n",
    "axes1.legend(loc='best')\n",
    "\n",
    "fig.savefig('Figure2.png', bbox_inches = 'tight')"
   ]
  },
  {
   "cell_type": "code",
   "execution_count": 46,
   "metadata": {},
   "outputs": [
    {
     "name": "stderr",
     "output_type": "stream",
     "text": [
      "C:\\Users\\s269596\\AppData\\Local\\Continuum\\Anaconda3\\lib\\site-packages\\matplotlib\\axes\\_axes.py:6462: UserWarning: The 'normed' kwarg is deprecated, and has been replaced by the 'density' kwarg.\n",
      "  warnings.warn(\"The 'normed' kwarg is deprecated, and has been \"\n"
     ]
    },
    {
     "data": {
      "image/png": "[encoded data removed]",
      "text/plain": [
       "<Figure size 432x432 with 3 Axes>"
      ]
     },
     "metadata": {},
     "output_type": "display_data"
    }
   ],
   "source": [
    "sns.jointplot(x=dw_solar_everyday,y=ghi_everyday,kind='reg')\n",
    "#plt.title('observed dw_solar vs clear sky ghi')\n",
    "plt.xlabel('Observed global downwelling solar (Watts/m^2)')\n",
    "plt.ylabel('Clear Sky GHI (Watts/m^2)')\n",
    "plt.savefig('Figure3.png', bbox_inches='tight')"
   ]
  },
  {
   "cell_type": "markdown",
   "metadata": {},
   "source": [
    "### making the Kt (clear sky index at time t) column by first removing rows with ghi==0"
   ]
  },
  {
   "cell_type": "code",
   "execution_count": 47,
   "metadata": {},
   "outputs": [],
   "source": [
    "df_train = df_train[df_train['ghi']!=0]\n",
    "df_test = df_test[df_test['ghi']!=0]\n",
    "df_train['Kt'] = df_train['dw_solar']/df_train['ghi']\n",
    "df_test['Kt'] = df_test['dw_solar']/df_test['ghi']"
   ]
  },
  {
   "cell_type": "code",
   "execution_count": 48,
   "metadata": {},
   "outputs": [],
   "source": [
    "df_train.reset_index(inplace=True)\n",
    "df_test.reset_index(inplace=True)"
   ]
  },
  {
   "cell_type": "code",
   "execution_count": 49,
   "metadata": {},
   "outputs": [
    {
     "name": "stdout",
     "output_type": "stream",
     "text": [
      "test Kt max: 16565.62428392545\n",
      "test Kt min: -858.197482511317\n",
      "test Kt mean: 2.3067127385087867\n",
      "\n",
      "\n",
      "train Kt max: 154389.83695910865\n",
      "train Kt min: -244.67261793490562\n",
      "train Kt mean: 3.284695720674705\n"
     ]
    }
   ],
   "source": [
    "print(\"test Kt max: \"+str(df_test['Kt'].max()))\n",
    "print(\"test Kt min: \"+str(df_test['Kt'].min()))\n",
    "print(\"test Kt mean: \"+str(df_test['Kt'].mean()))\n",
    "print(\"\\n\")\n",
    "print(\"train Kt max: \"+str(df_train['Kt'].max()))\n",
    "print(\"train Kt min: \"+str(df_train['Kt'].min()))\n",
    "print(\"train Kt mean: \"+str(df_train['Kt'].mean()))"
   ]
  },
  {
   "cell_type": "code",
   "execution_count": 50,
   "metadata": {},
   "outputs": [
    {
     "data": {
      "text/plain": [
       "[<matplotlib.lines.Line2D at 0xb17d048>]"
      ]
     },
     "execution_count": 50,
     "metadata": {},
     "output_type": "execute_result"
    },
    {
     "data": {
      "image/png": "[encoded data removed]",
      "text/plain": [
       "<Figure size 432x288 with 1 Axes>"
      ]
     },
     "metadata": {},
     "output_type": "display_data"
    }
   ],
   "source": [
    "plt.plot(df_train['Kt'])"
   ]
  },
  {
   "cell_type": "code",
   "execution_count": 51,
   "metadata": {},
   "outputs": [
    {
     "data": {
      "text/plain": [
       "[<matplotlib.lines.Line2D at 0x12276cc0>]"
      ]
     },
     "execution_count": 51,
     "metadata": {},
     "output_type": "execute_result"
    },
    {
     "data": {
      "image/png": "[encoded data removed]",
      "text/plain": [
       "<Figure size 432x288 with 1 Axes>"
      ]
     },
     "metadata": {},
     "output_type": "display_data"
    }
   ],
   "source": [
    "plt.plot(df_test['Kt'])"
   ]
  },
  {
   "cell_type": "code",
   "execution_count": 52,
   "metadata": {},
   "outputs": [],
   "source": [
    "df_train= df_train[df_train['Kt']< 5000]\n",
    "df_train= df_train[df_train['Kt']> -1000]\n",
    "df_test= df_test[df_test['Kt']< 5000]\n",
    "df_test= df_test[df_test['Kt']> -1000]"
   ]
  },
  {
   "cell_type": "markdown",
   "metadata": {},
   "source": [
    "#### Group the data (train dataframe)"
   ]
  },
  {
   "cell_type": "code",
   "execution_count": 53,
   "metadata": {},
   "outputs": [],
   "source": [
    "zen = df_train.groupby(['year','month','day','hour'])['zen'].mean()\n",
    "dw_solar = df_train.groupby(['year','month','day','hour'])['dw_solar'].mean()\n",
    "uw_solar = df_train.groupby(['year','month','day','hour'])['uw_solar'].mean()\n",
    "direct_n = df_train.groupby(['year','month','day','hour'])['direct_n'].mean()\n",
    "diffuse = df_train.groupby(['year','month','day','hour'])['diffuse'].mean()\n",
    "dw_ir = df_train.groupby(['year','month','day','hour'])['dw_ir'].mean()\n",
    "dw_casetemp = df_train.groupby(['year','month','day','hour'])['dw_casetemp'].mean()\n",
    "dw_dometemp = df_train.groupby(['year','month','day','hour'])['dw_dometemp'].mean()\n",
    "uw_ir = df_train.groupby(['year','month','day','hour'])['uw_ir'].mean()\n",
    "uw_casetemp = df_train.groupby(['year','month','day','hour'])['uw_casetemp'].mean()\n",
    "uw_dometemp = df_train.groupby(['year','month','day','hour'])['uw_dometemp'].mean()\n",
    "uvb = df_train.groupby(['year','month','day','hour'])['uvb'].mean()\n",
    "par = df_train.groupby(['year','month','day','hour'])['par'].mean()\n",
    "netsolar = df_train.groupby(['year','month','day','hour'])['netsolar'].mean()\n",
    "netir = df_train.groupby(['year','month','day','hour'])['netir'].mean()\n",
    "totalnet = df_train.groupby(['year','month','day','hour'])['totalnet'].mean()\n",
    "temp = df_train.groupby(['year','month','day','hour'])['temp'].mean()\n",
    "rh = df_train.groupby(['year','month','day','hour'])['rh'].mean()\n",
    "windspd = df_train.groupby(['year','month','day','hour'])['windspd'].mean()\n",
    "winddir = df_train.groupby(['year','month','day','hour'])['winddir'].mean()\n",
    "pressure = df_train.groupby(['year','month','day','hour'])['pressure'].mean()\n",
    "ghi = df_train.groupby(['year','month','day','hour'])['ghi'].mean()\n",
    "Kt = df_train.groupby(['year','month','day','hour'])['Kt'].mean()"
   ]
  },
  {
   "cell_type": "code",
   "execution_count": 54,
   "metadata": {},
   "outputs": [],
   "source": [
    "df_new_train = pd.concat([zen,dw_solar,uw_solar,direct_n,diffuse,dw_ir,dw_casetemp,dw_dometemp,uw_ir,uw_casetemp,uw_dometemp,\n",
    "                    uvb,par,netsolar,netir,totalnet,temp,rh,windspd,winddir,pressure,ghi,Kt], axis=1)"
   ]
  },
  {
   "cell_type": "code",
   "execution_count": 55,
   "metadata": {},
   "outputs": [
    {
     "data": {
      "text/html": [
       "<div>\n",
       "<style scoped>\n",
       "    .dataframe tbody tr th:only-of-type {\n",
       "        vertical-align: middle;\n",
       "    }\n",
       "\n",
       "    .dataframe tbody tr th {\n",
       "        vertical-align: top;\n",
       "    }\n",
       "\n",
       "    .dataframe thead th {\n",
       "        text-align: right;\n",
       "    }\n",
       "</style>\n",
       "<table border=\"1\" class=\"dataframe\">\n",
       "  <thead>\n",
       "    <tr style=\"text-align: right;\">\n",
       "      <th></th>\n",
       "      <th></th>\n",
       "      <th></th>\n",
       "      <th></th>\n",
       "      <th>zen</th>\n",
       "      <th>dw_solar</th>\n",
       "      <th>uw_solar</th>\n",
       "      <th>direct_n</th>\n",
       "      <th>diffuse</th>\n",
       "      <th>dw_ir</th>\n",
       "      <th>dw_casetemp</th>\n",
       "      <th>dw_dometemp</th>\n",
       "      <th>uw_ir</th>\n",
       "      <th>uw_casetemp</th>\n",
       "      <th>...</th>\n",
       "      <th>netsolar</th>\n",
       "      <th>netir</th>\n",
       "      <th>totalnet</th>\n",
       "      <th>temp</th>\n",
       "      <th>rh</th>\n",
       "      <th>windspd</th>\n",
       "      <th>winddir</th>\n",
       "      <th>pressure</th>\n",
       "      <th>ghi</th>\n",
       "      <th>Kt</th>\n",
       "    </tr>\n",
       "    <tr>\n",
       "      <th>year</th>\n",
       "      <th>month</th>\n",
       "      <th>day</th>\n",
       "      <th>hour</th>\n",
       "      <th></th>\n",
       "      <th></th>\n",
       "      <th></th>\n",
       "      <th></th>\n",
       "      <th></th>\n",
       "      <th></th>\n",
       "      <th></th>\n",
       "      <th></th>\n",
       "      <th></th>\n",
       "      <th></th>\n",
       "      <th></th>\n",
       "      <th></th>\n",
       "      <th></th>\n",
       "      <th></th>\n",
       "      <th></th>\n",
       "      <th></th>\n",
       "      <th></th>\n",
       "      <th></th>\n",
       "      <th></th>\n",
       "      <th></th>\n",
       "      <th></th>\n",
       "    </tr>\n",
       "  </thead>\n",
       "  <tbody>\n",
       "    <tr>\n",
       "      <th rowspan=\"5\" valign=\"top\">2010.0</th>\n",
       "      <th rowspan=\"5\" valign=\"top\">1.0</th>\n",
       "      <th rowspan=\"5\" valign=\"top\">1.0</th>\n",
       "      <th>7.0</th>\n",
       "      <td>157.281154</td>\n",
       "      <td>-4.348077</td>\n",
       "      <td>0.090385</td>\n",
       "      <td>0.150000</td>\n",
       "      <td>-1.123077</td>\n",
       "      <td>320.623077</td>\n",
       "      <td>280.961538</td>\n",
       "      <td>280.546154</td>\n",
       "      <td>335.715385</td>\n",
       "      <td>277.776923</td>\n",
       "      <td>...</td>\n",
       "      <td>0.0</td>\n",
       "      <td>-15.086538</td>\n",
       "      <td>-15.086538</td>\n",
       "      <td>5.005769</td>\n",
       "      <td>79.425000</td>\n",
       "      <td>2.300000</td>\n",
       "      <td>69.582692</td>\n",
       "      <td>1013.025000</td>\n",
       "      <td>58.673464</td>\n",
       "      <td>-0.092544</td>\n",
       "    </tr>\n",
       "    <tr>\n",
       "      <th>8.0</th>\n",
       "      <td>146.229333</td>\n",
       "      <td>-4.288333</td>\n",
       "      <td>0.113333</td>\n",
       "      <td>0.156667</td>\n",
       "      <td>-1.106667</td>\n",
       "      <td>322.270000</td>\n",
       "      <td>280.761667</td>\n",
       "      <td>280.345000</td>\n",
       "      <td>334.833333</td>\n",
       "      <td>277.581667</td>\n",
       "      <td>...</td>\n",
       "      <td>0.0</td>\n",
       "      <td>-12.571667</td>\n",
       "      <td>-12.571667</td>\n",
       "      <td>4.783333</td>\n",
       "      <td>75.178333</td>\n",
       "      <td>2.541667</td>\n",
       "      <td>84.746667</td>\n",
       "      <td>1013.470000</td>\n",
       "      <td>199.226885</td>\n",
       "      <td>-0.022905</td>\n",
       "    </tr>\n",
       "    <tr>\n",
       "      <th>9.0</th>\n",
       "      <td>133.906167</td>\n",
       "      <td>-4.328333</td>\n",
       "      <td>0.178333</td>\n",
       "      <td>0.701667</td>\n",
       "      <td>-1.108333</td>\n",
       "      <td>318.151667</td>\n",
       "      <td>280.491667</td>\n",
       "      <td>280.046667</td>\n",
       "      <td>333.480000</td>\n",
       "      <td>277.301667</td>\n",
       "      <td>...</td>\n",
       "      <td>0.0</td>\n",
       "      <td>-15.333333</td>\n",
       "      <td>-15.333333</td>\n",
       "      <td>4.445000</td>\n",
       "      <td>76.843333</td>\n",
       "      <td>2.831667</td>\n",
       "      <td>159.561667</td>\n",
       "      <td>1013.861667</td>\n",
       "      <td>357.002941</td>\n",
       "      <td>-0.012248</td>\n",
       "    </tr>\n",
       "    <tr>\n",
       "      <th>10.0</th>\n",
       "      <td>121.558667</td>\n",
       "      <td>-4.560000</td>\n",
       "      <td>0.316667</td>\n",
       "      <td>-0.558333</td>\n",
       "      <td>-1.170000</td>\n",
       "      <td>300.935000</td>\n",
       "      <td>279.631667</td>\n",
       "      <td>279.101667</td>\n",
       "      <td>328.243333</td>\n",
       "      <td>276.451667</td>\n",
       "      <td>...</td>\n",
       "      <td>0.0</td>\n",
       "      <td>-27.313333</td>\n",
       "      <td>-27.313333</td>\n",
       "      <td>3.465000</td>\n",
       "      <td>78.943333</td>\n",
       "      <td>3.700000</td>\n",
       "      <td>133.698333</td>\n",
       "      <td>1014.648333</td>\n",
       "      <td>475.457844</td>\n",
       "      <td>-0.009625</td>\n",
       "    </tr>\n",
       "    <tr>\n",
       "      <th>11.0</th>\n",
       "      <td>109.427167</td>\n",
       "      <td>-4.868333</td>\n",
       "      <td>0.553333</td>\n",
       "      <td>-0.383333</td>\n",
       "      <td>-1.276667</td>\n",
       "      <td>241.326667</td>\n",
       "      <td>277.370000</td>\n",
       "      <td>276.700000</td>\n",
       "      <td>314.453333</td>\n",
       "      <td>274.423333</td>\n",
       "      <td>...</td>\n",
       "      <td>0.0</td>\n",
       "      <td>-73.125000</td>\n",
       "      <td>-73.125000</td>\n",
       "      <td>1.351667</td>\n",
       "      <td>75.265000</td>\n",
       "      <td>3.646667</td>\n",
       "      <td>135.245000</td>\n",
       "      <td>1015.618333</td>\n",
       "      <td>539.708973</td>\n",
       "      <td>-0.009017</td>\n",
       "    </tr>\n",
       "  </tbody>\n",
       "</table>\n",
       "<p>5 rows × 23 columns</p>\n",
       "</div>"
      ],
      "text/plain": [
       "                              zen  dw_solar  uw_solar  direct_n   diffuse  \\\n",
       "year   month day hour                                                       \n",
       "2010.0 1.0   1.0 7.0   157.281154 -4.348077  0.090385  0.150000 -1.123077   \n",
       "                 8.0   146.229333 -4.288333  0.113333  0.156667 -1.106667   \n",
       "                 9.0   133.906167 -4.328333  0.178333  0.701667 -1.108333   \n",
       "                 10.0  121.558667 -4.560000  0.316667 -0.558333 -1.170000   \n",
       "                 11.0  109.427167 -4.868333  0.553333 -0.383333 -1.276667   \n",
       "\n",
       "                            dw_ir  dw_casetemp  dw_dometemp       uw_ir  \\\n",
       "year   month day hour                                                     \n",
       "2010.0 1.0   1.0 7.0   320.623077   280.961538   280.546154  335.715385   \n",
       "                 8.0   322.270000   280.761667   280.345000  334.833333   \n",
       "                 9.0   318.151667   280.491667   280.046667  333.480000   \n",
       "                 10.0  300.935000   279.631667   279.101667  328.243333   \n",
       "                 11.0  241.326667   277.370000   276.700000  314.453333   \n",
       "\n",
       "                       uw_casetemp    ...     netsolar      netir   totalnet  \\\n",
       "year   month day hour                 ...                                      \n",
       "2010.0 1.0   1.0 7.0    277.776923    ...          0.0 -15.086538 -15.086538   \n",
       "                 8.0    277.581667    ...          0.0 -12.571667 -12.571667   \n",
       "                 9.0    277.301667    ...          0.0 -15.333333 -15.333333   \n",
       "                 10.0   276.451667    ...          0.0 -27.313333 -27.313333   \n",
       "                 11.0   274.423333    ...          0.0 -73.125000 -73.125000   \n",
       "\n",
       "                           temp         rh   windspd     winddir     pressure  \\\n",
       "year   month day hour                                                           \n",
       "2010.0 1.0   1.0 7.0   5.005769  79.425000  2.300000   69.582692  1013.025000   \n",
       "                 8.0   4.783333  75.178333  2.541667   84.746667  1013.470000   \n",
       "                 9.0   4.445000  76.843333  2.831667  159.561667  1013.861667   \n",
       "                 10.0  3.465000  78.943333  3.700000  133.698333  1014.648333   \n",
       "                 11.0  1.351667  75.265000  3.646667  135.245000  1015.618333   \n",
       "\n",
       "                              ghi        Kt  \n",
       "year   month day hour                        \n",
       "2010.0 1.0   1.0 7.0    58.673464 -0.092544  \n",
       "                 8.0   199.226885 -0.022905  \n",
       "                 9.0   357.002941 -0.012248  \n",
       "                 10.0  475.457844 -0.009625  \n",
       "                 11.0  539.708973 -0.009017  \n",
       "\n",
       "[5 rows x 23 columns]"
      ]
     },
     "execution_count": 55,
     "metadata": {},
     "output_type": "execute_result"
    }
   ],
   "source": [
    "df_new_train.head()"
   ]
  },
  {
   "cell_type": "markdown",
   "metadata": {},
   "source": [
    "#### Groupdata - test dataframe"
   ]
  },
  {
   "cell_type": "code",
   "execution_count": 56,
   "metadata": {},
   "outputs": [],
   "source": [
    "test_zen = df_test.groupby(['month','day','hour'])['zen'].mean()\n",
    "test_dw_solar = df_test.groupby(['month','day','hour'])['dw_solar'].mean()\n",
    "test_uw_solar = df_test.groupby(['month','day','hour'])['uw_solar'].mean()\n",
    "test_direct_n = df_test.groupby(['month','day','hour'])['direct_n'].mean()\n",
    "test_diffuse = df_test.groupby(['month','day','hour'])['diffuse'].mean()\n",
    "test_dw_ir = df_test.groupby(['month','day','hour'])['dw_ir'].mean()\n",
    "test_dw_casetemp = df_test.groupby(['month','day','hour'])['dw_casetemp'].mean()\n",
    "test_dw_dometemp = df_test.groupby(['month','day','hour'])['dw_dometemp'].mean()\n",
    "test_uw_ir = df_test.groupby(['month','day','hour'])['uw_ir'].mean()\n",
    "test_uw_casetemp = df_test.groupby(['month','day','hour'])['uw_casetemp'].mean()\n",
    "test_uw_dometemp = df_test.groupby(['month','day','hour'])['uw_dometemp'].mean()\n",
    "test_uvb = df_test.groupby(['month','day','hour'])['uvb'].mean()\n",
    "test_par = df_test.groupby(['month','day','hour'])['par'].mean()\n",
    "test_netsolar = df_test.groupby(['month','day','hour'])['netsolar'].mean()\n",
    "test_netir = df_test.groupby(['month','day','hour'])['netir'].mean()\n",
    "test_totalnet = df_test.groupby(['month','day','hour'])['totalnet'].mean()\n",
    "test_temp = df_test.groupby(['month','day','hour'])['temp'].mean()\n",
    "test_rh = df_test.groupby(['month','day','hour'])['rh'].mean()\n",
    "test_windspd = df_test.groupby(['month','day','hour'])['windspd'].mean()\n",
    "test_winddir = df_test.groupby(['month','day','hour'])['winddir'].mean()\n",
    "test_pressure = df_test.groupby(['month','day','hour'])['pressure'].mean()\n",
    "test_ghi = df_test.groupby(['month','day','hour'])['ghi'].mean()\n",
    "test_Kt = df_test.groupby(['month','day','hour'])['Kt'].mean()"
   ]
  },
  {
   "cell_type": "code",
   "execution_count": 57,
   "metadata": {},
   "outputs": [],
   "source": [
    "df_new_test = pd.concat([test_zen,test_dw_solar,test_uw_solar,test_direct_n,test_diffuse,test_dw_ir,\n",
    "                         test_dw_casetemp,test_dw_dometemp,test_uw_ir,test_uw_casetemp,test_uw_dometemp,\n",
    "                    test_uvb,test_par,test_netsolar,test_netir,test_totalnet,test_temp,test_rh,\n",
    "                         test_windspd,test_winddir,test_pressure,test_ghi,test_Kt], axis=1)"
   ]
  },
  {
   "cell_type": "code",
   "execution_count": 58,
   "metadata": {},
   "outputs": [
    {
     "data": {
      "text/html": [
       "<div>\n",
       "<style scoped>\n",
       "    .dataframe tbody tr th:only-of-type {\n",
       "        vertical-align: middle;\n",
       "    }\n",
       "\n",
       "    .dataframe tbody tr th {\n",
       "        vertical-align: top;\n",
       "    }\n",
       "\n",
       "    .dataframe thead th {\n",
       "        text-align: right;\n",
       "    }\n",
       "</style>\n",
       "<table border=\"1\" class=\"dataframe\">\n",
       "  <thead>\n",
       "    <tr style=\"text-align: right;\">\n",
       "      <th></th>\n",
       "      <th>zen</th>\n",
       "      <th>dw_solar</th>\n",
       "      <th>uw_solar</th>\n",
       "      <th>direct_n</th>\n",
       "      <th>diffuse</th>\n",
       "      <th>dw_ir</th>\n",
       "      <th>dw_casetemp</th>\n",
       "      <th>dw_dometemp</th>\n",
       "      <th>uw_ir</th>\n",
       "      <th>uw_casetemp</th>\n",
       "      <th>...</th>\n",
       "      <th>netsolar</th>\n",
       "      <th>netir</th>\n",
       "      <th>totalnet</th>\n",
       "      <th>temp</th>\n",
       "      <th>rh</th>\n",
       "      <th>windspd</th>\n",
       "      <th>winddir</th>\n",
       "      <th>pressure</th>\n",
       "      <th>ghi</th>\n",
       "      <th>Kt</th>\n",
       "    </tr>\n",
       "    <tr>\n",
       "      <th>hour</th>\n",
       "      <th></th>\n",
       "      <th></th>\n",
       "      <th></th>\n",
       "      <th></th>\n",
       "      <th></th>\n",
       "      <th></th>\n",
       "      <th></th>\n",
       "      <th></th>\n",
       "      <th></th>\n",
       "      <th></th>\n",
       "      <th></th>\n",
       "      <th></th>\n",
       "      <th></th>\n",
       "      <th></th>\n",
       "      <th></th>\n",
       "      <th></th>\n",
       "      <th></th>\n",
       "      <th></th>\n",
       "      <th></th>\n",
       "      <th></th>\n",
       "      <th></th>\n",
       "    </tr>\n",
       "  </thead>\n",
       "  <tbody>\n",
       "    <tr>\n",
       "      <th>6.0</th>\n",
       "      <td>156.063125</td>\n",
       "      <td>-5.293750</td>\n",
       "      <td>-0.418750</td>\n",
       "      <td>1.537500</td>\n",
       "      <td>-0.381250</td>\n",
       "      <td>234.900000</td>\n",
       "      <td>272.150000</td>\n",
       "      <td>271.862500</td>\n",
       "      <td>291.925000</td>\n",
       "      <td>272.281250</td>\n",
       "      <td>...</td>\n",
       "      <td>0.000000</td>\n",
       "      <td>-57.043750</td>\n",
       "      <td>-57.043750</td>\n",
       "      <td>0.593750</td>\n",
       "      <td>61.012500</td>\n",
       "      <td>1.137500</td>\n",
       "      <td>116.625000</td>\n",
       "      <td>1013.318750</td>\n",
       "      <td>30.663084</td>\n",
       "      <td>-0.182511</td>\n",
       "    </tr>\n",
       "    <tr>\n",
       "      <th>7.0</th>\n",
       "      <td>151.636833</td>\n",
       "      <td>-5.338333</td>\n",
       "      <td>-0.555000</td>\n",
       "      <td>1.555000</td>\n",
       "      <td>-0.473333</td>\n",
       "      <td>235.656667</td>\n",
       "      <td>272.565000</td>\n",
       "      <td>272.235000</td>\n",
       "      <td>291.751667</td>\n",
       "      <td>271.600000</td>\n",
       "      <td>...</td>\n",
       "      <td>0.000000</td>\n",
       "      <td>-56.091667</td>\n",
       "      <td>-56.091667</td>\n",
       "      <td>0.088333</td>\n",
       "      <td>63.146667</td>\n",
       "      <td>0.618333</td>\n",
       "      <td>112.858333</td>\n",
       "      <td>1013.015000</td>\n",
       "      <td>115.766684</td>\n",
       "      <td>-0.058923</td>\n",
       "    </tr>\n",
       "    <tr>\n",
       "      <th>8.0</th>\n",
       "      <td>141.881000</td>\n",
       "      <td>-5.150000</td>\n",
       "      <td>-0.876667</td>\n",
       "      <td>0.881667</td>\n",
       "      <td>-0.500000</td>\n",
       "      <td>236.418333</td>\n",
       "      <td>272.275000</td>\n",
       "      <td>271.936667</td>\n",
       "      <td>291.446667</td>\n",
       "      <td>271.781667</td>\n",
       "      <td>...</td>\n",
       "      <td>0.000000</td>\n",
       "      <td>-55.028333</td>\n",
       "      <td>-55.028333</td>\n",
       "      <td>0.830000</td>\n",
       "      <td>57.490000</td>\n",
       "      <td>1.448333</td>\n",
       "      <td>132.271667</td>\n",
       "      <td>1011.976667</td>\n",
       "      <td>310.197139</td>\n",
       "      <td>-0.017190</td>\n",
       "    </tr>\n",
       "    <tr>\n",
       "      <th>9.0</th>\n",
       "      <td>130.346167</td>\n",
       "      <td>-5.693333</td>\n",
       "      <td>-0.785000</td>\n",
       "      <td>2.293333</td>\n",
       "      <td>-0.325000</td>\n",
       "      <td>242.050000</td>\n",
       "      <td>272.941667</td>\n",
       "      <td>272.681667</td>\n",
       "      <td>295.341667</td>\n",
       "      <td>273.095000</td>\n",
       "      <td>...</td>\n",
       "      <td>0.000000</td>\n",
       "      <td>-53.295000</td>\n",
       "      <td>-53.295000</td>\n",
       "      <td>1.676667</td>\n",
       "      <td>53.623333</td>\n",
       "      <td>2.033333</td>\n",
       "      <td>137.526667</td>\n",
       "      <td>1011.566667</td>\n",
       "      <td>491.373002</td>\n",
       "      <td>-0.011644</td>\n",
       "    </tr>\n",
       "    <tr>\n",
       "      <th>10.0</th>\n",
       "      <td>118.142333</td>\n",
       "      <td>-5.468333</td>\n",
       "      <td>-0.343333</td>\n",
       "      <td>2.310000</td>\n",
       "      <td>-0.261667</td>\n",
       "      <td>293.071667</td>\n",
       "      <td>275.710000</td>\n",
       "      <td>275.516667</td>\n",
       "      <td>308.071667</td>\n",
       "      <td>273.635000</td>\n",
       "      <td>...</td>\n",
       "      <td>0.000000</td>\n",
       "      <td>-16.146667</td>\n",
       "      <td>-16.146667</td>\n",
       "      <td>1.591667</td>\n",
       "      <td>56.341667</td>\n",
       "      <td>1.473333</td>\n",
       "      <td>151.643333</td>\n",
       "      <td>1011.851667</td>\n",
       "      <td>628.392880</td>\n",
       "      <td>-0.008778</td>\n",
       "    </tr>\n",
       "    <tr>\n",
       "      <th>11.0</th>\n",
       "      <td>105.758667</td>\n",
       "      <td>-4.468333</td>\n",
       "      <td>-0.058333</td>\n",
       "      <td>1.616667</td>\n",
       "      <td>-0.338333</td>\n",
       "      <td>321.446667</td>\n",
       "      <td>277.086667</td>\n",
       "      <td>276.876667</td>\n",
       "      <td>315.970000</td>\n",
       "      <td>273.856667</td>\n",
       "      <td>...</td>\n",
       "      <td>0.000000</td>\n",
       "      <td>0.000000</td>\n",
       "      <td>0.000000</td>\n",
       "      <td>1.773333</td>\n",
       "      <td>59.400000</td>\n",
       "      <td>0.791667</td>\n",
       "      <td>162.733333</td>\n",
       "      <td>1012.278333</td>\n",
       "      <td>707.999345</td>\n",
       "      <td>-0.006309</td>\n",
       "    </tr>\n",
       "    <tr>\n",
       "      <th>12.0</th>\n",
       "      <td>93.360000</td>\n",
       "      <td>-5.085000</td>\n",
       "      <td>0.435000</td>\n",
       "      <td>0.523333</td>\n",
       "      <td>0.573333</td>\n",
       "      <td>324.706667</td>\n",
       "      <td>277.511667</td>\n",
       "      <td>277.048333</td>\n",
       "      <td>318.663333</td>\n",
       "      <td>274.298333</td>\n",
       "      <td>...</td>\n",
       "      <td>0.543333</td>\n",
       "      <td>0.000000</td>\n",
       "      <td>0.543333</td>\n",
       "      <td>2.150000</td>\n",
       "      <td>62.286667</td>\n",
       "      <td>1.993333</td>\n",
       "      <td>152.851667</td>\n",
       "      <td>1012.153333</td>\n",
       "      <td>723.565963</td>\n",
       "      <td>-0.007017</td>\n",
       "    </tr>\n",
       "    <tr>\n",
       "      <th>13.0</th>\n",
       "      <td>81.477500</td>\n",
       "      <td>10.581667</td>\n",
       "      <td>3.041667</td>\n",
       "      <td>0.323333</td>\n",
       "      <td>15.745000</td>\n",
       "      <td>326.311667</td>\n",
       "      <td>277.568333</td>\n",
       "      <td>277.051667</td>\n",
       "      <td>320.978333</td>\n",
       "      <td>274.485000</td>\n",
       "      <td>...</td>\n",
       "      <td>12.793333</td>\n",
       "      <td>0.000000</td>\n",
       "      <td>12.793333</td>\n",
       "      <td>2.198333</td>\n",
       "      <td>71.641667</td>\n",
       "      <td>2.133333</td>\n",
       "      <td>160.955000</td>\n",
       "      <td>1012.345000</td>\n",
       "      <td>673.851495</td>\n",
       "      <td>0.015885</td>\n",
       "    </tr>\n",
       "    <tr>\n",
       "      <th>14.0</th>\n",
       "      <td>70.368167</td>\n",
       "      <td>44.298333</td>\n",
       "      <td>7.703333</td>\n",
       "      <td>1.603333</td>\n",
       "      <td>47.981667</td>\n",
       "      <td>327.441667</td>\n",
       "      <td>277.428333</td>\n",
       "      <td>276.891667</td>\n",
       "      <td>323.908333</td>\n",
       "      <td>274.638333</td>\n",
       "      <td>...</td>\n",
       "      <td>40.848333</td>\n",
       "      <td>-0.015000</td>\n",
       "      <td>40.835000</td>\n",
       "      <td>2.188333</td>\n",
       "      <td>82.856667</td>\n",
       "      <td>2.678333</td>\n",
       "      <td>166.960000</td>\n",
       "      <td>1012.361667</td>\n",
       "      <td>562.891372</td>\n",
       "      <td>0.082049</td>\n",
       "    </tr>\n",
       "    <tr>\n",
       "      <th>15.0</th>\n",
       "      <td>60.402833</td>\n",
       "      <td>56.543333</td>\n",
       "      <td>8.775000</td>\n",
       "      <td>0.658333</td>\n",
       "      <td>59.681667</td>\n",
       "      <td>331.398333</td>\n",
       "      <td>278.208333</td>\n",
       "      <td>277.673333</td>\n",
       "      <td>327.438333</td>\n",
       "      <td>275.178333</td>\n",
       "      <td>...</td>\n",
       "      <td>51.280000</td>\n",
       "      <td>0.000000</td>\n",
       "      <td>51.280000</td>\n",
       "      <td>2.543333</td>\n",
       "      <td>89.940000</td>\n",
       "      <td>2.470000</td>\n",
       "      <td>150.240000</td>\n",
       "      <td>1012.115000</td>\n",
       "      <td>400.469352</td>\n",
       "      <td>0.149594</td>\n",
       "    </tr>\n",
       "    <tr>\n",
       "      <th>16.0</th>\n",
       "      <td>52.384000</td>\n",
       "      <td>187.235000</td>\n",
       "      <td>29.745000</td>\n",
       "      <td>2.215000</td>\n",
       "      <td>185.133333</td>\n",
       "      <td>335.448333</td>\n",
       "      <td>279.595000</td>\n",
       "      <td>279.348333</td>\n",
       "      <td>337.640000</td>\n",
       "      <td>276.196667</td>\n",
       "      <td>...</td>\n",
       "      <td>156.750000</td>\n",
       "      <td>-2.490000</td>\n",
       "      <td>154.268333</td>\n",
       "      <td>3.485000</td>\n",
       "      <td>91.268333</td>\n",
       "      <td>3.808333</td>\n",
       "      <td>153.068333</td>\n",
       "      <td>1011.073333</td>\n",
       "      <td>205.793937</td>\n",
       "      <td>1.063090</td>\n",
       "    </tr>\n",
       "    <tr>\n",
       "      <th>17.0</th>\n",
       "      <td>47.737500</td>\n",
       "      <td>163.261364</td>\n",
       "      <td>27.654545</td>\n",
       "      <td>0.834091</td>\n",
       "      <td>162.845455</td>\n",
       "      <td>339.390909</td>\n",
       "      <td>281.243182</td>\n",
       "      <td>280.965909</td>\n",
       "      <td>342.279545</td>\n",
       "      <td>277.679545</td>\n",
       "      <td>...</td>\n",
       "      <td>135.852273</td>\n",
       "      <td>-3.006818</td>\n",
       "      <td>132.838636</td>\n",
       "      <td>4.775000</td>\n",
       "      <td>86.770455</td>\n",
       "      <td>4.115909</td>\n",
       "      <td>165.429545</td>\n",
       "      <td>1010.206818</td>\n",
       "      <td>55.699158</td>\n",
       "      <td>3.182868</td>\n",
       "    </tr>\n",
       "  </tbody>\n",
       "</table>\n",
       "<p>12 rows × 23 columns</p>\n",
       "</div>"
      ],
      "text/plain": [
       "             zen    dw_solar   uw_solar  direct_n     diffuse       dw_ir  \\\n",
       "hour                                                                        \n",
       "6.0   156.063125   -5.293750  -0.418750  1.537500   -0.381250  234.900000   \n",
       "7.0   151.636833   -5.338333  -0.555000  1.555000   -0.473333  235.656667   \n",
       "8.0   141.881000   -5.150000  -0.876667  0.881667   -0.500000  236.418333   \n",
       "9.0   130.346167   -5.693333  -0.785000  2.293333   -0.325000  242.050000   \n",
       "10.0  118.142333   -5.468333  -0.343333  2.310000   -0.261667  293.071667   \n",
       "11.0  105.758667   -4.468333  -0.058333  1.616667   -0.338333  321.446667   \n",
       "12.0   93.360000   -5.085000   0.435000  0.523333    0.573333  324.706667   \n",
       "13.0   81.477500   10.581667   3.041667  0.323333   15.745000  326.311667   \n",
       "14.0   70.368167   44.298333   7.703333  1.603333   47.981667  327.441667   \n",
       "15.0   60.402833   56.543333   8.775000  0.658333   59.681667  331.398333   \n",
       "16.0   52.384000  187.235000  29.745000  2.215000  185.133333  335.448333   \n",
       "17.0   47.737500  163.261364  27.654545  0.834091  162.845455  339.390909   \n",
       "\n",
       "      dw_casetemp  dw_dometemp       uw_ir  uw_casetemp    ...       netsolar  \\\n",
       "hour                                                       ...                  \n",
       "6.0    272.150000   271.862500  291.925000   272.281250    ...       0.000000   \n",
       "7.0    272.565000   272.235000  291.751667   271.600000    ...       0.000000   \n",
       "8.0    272.275000   271.936667  291.446667   271.781667    ...       0.000000   \n",
       "9.0    272.941667   272.681667  295.341667   273.095000    ...       0.000000   \n",
       "10.0   275.710000   275.516667  308.071667   273.635000    ...       0.000000   \n",
       "11.0   277.086667   276.876667  315.970000   273.856667    ...       0.000000   \n",
       "12.0   277.511667   277.048333  318.663333   274.298333    ...       0.543333   \n",
       "13.0   277.568333   277.051667  320.978333   274.485000    ...      12.793333   \n",
       "14.0   277.428333   276.891667  323.908333   274.638333    ...      40.848333   \n",
       "15.0   278.208333   277.673333  327.438333   275.178333    ...      51.280000   \n",
       "16.0   279.595000   279.348333  337.640000   276.196667    ...     156.750000   \n",
       "17.0   281.243182   280.965909  342.279545   277.679545    ...     135.852273   \n",
       "\n",
       "          netir    totalnet      temp         rh   windspd     winddir  \\\n",
       "hour                                                                     \n",
       "6.0  -57.043750  -57.043750  0.593750  61.012500  1.137500  116.625000   \n",
       "7.0  -56.091667  -56.091667  0.088333  63.146667  0.618333  112.858333   \n",
       "8.0  -55.028333  -55.028333  0.830000  57.490000  1.448333  132.271667   \n",
       "9.0  -53.295000  -53.295000  1.676667  53.623333  2.033333  137.526667   \n",
       "10.0 -16.146667  -16.146667  1.591667  56.341667  1.473333  151.643333   \n",
       "11.0   0.000000    0.000000  1.773333  59.400000  0.791667  162.733333   \n",
       "12.0   0.000000    0.543333  2.150000  62.286667  1.993333  152.851667   \n",
       "13.0   0.000000   12.793333  2.198333  71.641667  2.133333  160.955000   \n",
       "14.0  -0.015000   40.835000  2.188333  82.856667  2.678333  166.960000   \n",
       "15.0   0.000000   51.280000  2.543333  89.940000  2.470000  150.240000   \n",
       "16.0  -2.490000  154.268333  3.485000  91.268333  3.808333  153.068333   \n",
       "17.0  -3.006818  132.838636  4.775000  86.770455  4.115909  165.429545   \n",
       "\n",
       "         pressure         ghi        Kt  \n",
       "hour                                     \n",
       "6.0   1013.318750   30.663084 -0.182511  \n",
       "7.0   1013.015000  115.766684 -0.058923  \n",
       "8.0   1011.976667  310.197139 -0.017190  \n",
       "9.0   1011.566667  491.373002 -0.011644  \n",
       "10.0  1011.851667  628.392880 -0.008778  \n",
       "11.0  1012.278333  707.999345 -0.006309  \n",
       "12.0  1012.153333  723.565963 -0.007017  \n",
       "13.0  1012.345000  673.851495  0.015885  \n",
       "14.0  1012.361667  562.891372  0.082049  \n",
       "15.0  1012.115000  400.469352  0.149594  \n",
       "16.0  1011.073333  205.793937  1.063090  \n",
       "17.0  1010.206818   55.699158  3.182868  \n",
       "\n",
       "[12 rows x 23 columns]"
      ]
     },
     "execution_count": 58,
     "metadata": {},
     "output_type": "execute_result"
    }
   ],
   "source": [
    "df_new_test.loc[2].xs(17,level='day')"
   ]
  },
  {
   "cell_type": "markdown",
   "metadata": {},
   "source": [
    "### Shifting Kt values to make 1 hour ahead forecast"
   ]
  },
  {
   "cell_type": "markdown",
   "metadata": {},
   "source": [
    "#### Train dataset"
   ]
  },
  {
   "cell_type": "code",
   "execution_count": 59,
   "metadata": {},
   "outputs": [],
   "source": [
    "levels_index= []\n",
    "for m in df_new_train.index.levels:\n",
    "    levels_index.append(m)"
   ]
  },
  {
   "cell_type": "code",
   "execution_count": 60,
   "metadata": {
    "scrolled": true
   },
   "outputs": [],
   "source": [
    "for i in levels_index[0]:\n",
    "    for j in levels_index[1]:\n",
    "        df_new_train.loc[i].loc[j]['Kt'] = df_new_train.loc[i].loc[j]['Kt'].shift(-1)"
   ]
  },
  {
   "cell_type": "code",
   "execution_count": 61,
   "metadata": {},
   "outputs": [],
   "source": [
    "df_new_train = df_new_train[~(df_new_train['Kt'].isnull())]"
   ]
  },
  {
   "cell_type": "markdown",
   "metadata": {},
   "source": [
    "#### Test dataset"
   ]
  },
  {
   "cell_type": "code",
   "execution_count": 62,
   "metadata": {},
   "outputs": [],
   "source": [
    "levels_index2= []\n",
    "for m in df_new_test.index.levels:\n",
    "    levels_index2.append(m)"
   ]
  },
  {
   "cell_type": "code",
   "execution_count": 63,
   "metadata": {},
   "outputs": [],
   "source": [
    "for i in levels_index2[0]:\n",
    "    for j in levels_index2[1]:\n",
    "        df_new_test.loc[i].loc[j]['Kt'] = df_new_test.loc[i].loc[j]['Kt'].shift(-1)"
   ]
  },
  {
   "cell_type": "code",
   "execution_count": 64,
   "metadata": {},
   "outputs": [],
   "source": [
    "df_new_test = df_new_test[~(df_new_test['Kt'].isnull())]"
   ]
  },
  {
   "cell_type": "code",
   "execution_count": 65,
   "metadata": {},
   "outputs": [
    {
     "data": {
      "text/html": [
       "<div>\n",
       "<style scoped>\n",
       "    .dataframe tbody tr th:only-of-type {\n",
       "        vertical-align: middle;\n",
       "    }\n",
       "\n",
       "    .dataframe tbody tr th {\n",
       "        vertical-align: top;\n",
       "    }\n",
       "\n",
       "    .dataframe thead th {\n",
       "        text-align: right;\n",
       "    }\n",
       "</style>\n",
       "<table border=\"1\" class=\"dataframe\">\n",
       "  <thead>\n",
       "    <tr style=\"text-align: right;\">\n",
       "      <th></th>\n",
       "      <th></th>\n",
       "      <th></th>\n",
       "      <th>zen</th>\n",
       "      <th>dw_solar</th>\n",
       "      <th>uw_solar</th>\n",
       "      <th>direct_n</th>\n",
       "      <th>diffuse</th>\n",
       "      <th>dw_ir</th>\n",
       "      <th>dw_casetemp</th>\n",
       "      <th>dw_dometemp</th>\n",
       "      <th>uw_ir</th>\n",
       "      <th>uw_casetemp</th>\n",
       "      <th>...</th>\n",
       "      <th>netsolar</th>\n",
       "      <th>netir</th>\n",
       "      <th>totalnet</th>\n",
       "      <th>temp</th>\n",
       "      <th>rh</th>\n",
       "      <th>windspd</th>\n",
       "      <th>winddir</th>\n",
       "      <th>pressure</th>\n",
       "      <th>ghi</th>\n",
       "      <th>Kt</th>\n",
       "    </tr>\n",
       "    <tr>\n",
       "      <th>month</th>\n",
       "      <th>day</th>\n",
       "      <th>hour</th>\n",
       "      <th></th>\n",
       "      <th></th>\n",
       "      <th></th>\n",
       "      <th></th>\n",
       "      <th></th>\n",
       "      <th></th>\n",
       "      <th></th>\n",
       "      <th></th>\n",
       "      <th></th>\n",
       "      <th></th>\n",
       "      <th></th>\n",
       "      <th></th>\n",
       "      <th></th>\n",
       "      <th></th>\n",
       "      <th></th>\n",
       "      <th></th>\n",
       "      <th></th>\n",
       "      <th></th>\n",
       "      <th></th>\n",
       "      <th></th>\n",
       "      <th></th>\n",
       "    </tr>\n",
       "  </thead>\n",
       "  <tbody>\n",
       "    <tr>\n",
       "      <th>7.0</th>\n",
       "      <th>31.0</th>\n",
       "      <th>19.0</th>\n",
       "      <td>24.717</td>\n",
       "      <td>619.511667</td>\n",
       "      <td>113.963333</td>\n",
       "      <td>292.741667</td>\n",
       "      <td>347.925</td>\n",
       "      <td>421.721667</td>\n",
       "      <td>308.51</td>\n",
       "      <td>308.396667</td>\n",
       "      <td>479.341667</td>\n",
       "      <td>304.19</td>\n",
       "      <td>...</td>\n",
       "      <td>500.905</td>\n",
       "      <td>-57.635</td>\n",
       "      <td>443.276667</td>\n",
       "      <td>28.41</td>\n",
       "      <td>62.248333</td>\n",
       "      <td>1.366667</td>\n",
       "      <td>291.705</td>\n",
       "      <td>1005.448333</td>\n",
       "      <td>45.154656</td>\n",
       "      <td>1801.872849</td>\n",
       "    </tr>\n",
       "  </tbody>\n",
       "</table>\n",
       "<p>1 rows × 23 columns</p>\n",
       "</div>"
      ],
      "text/plain": [
       "                    zen    dw_solar    uw_solar    direct_n  diffuse  \\\n",
       "month day  hour                                                        \n",
       "7.0   31.0 19.0  24.717  619.511667  113.963333  292.741667  347.925   \n",
       "\n",
       "                      dw_ir  dw_casetemp  dw_dometemp       uw_ir  \\\n",
       "month day  hour                                                     \n",
       "7.0   31.0 19.0  421.721667       308.51   308.396667  479.341667   \n",
       "\n",
       "                 uw_casetemp     ...       netsolar   netir    totalnet  \\\n",
       "month day  hour                  ...                                      \n",
       "7.0   31.0 19.0       304.19     ...        500.905 -57.635  443.276667   \n",
       "\n",
       "                  temp         rh   windspd  winddir     pressure        ghi  \\\n",
       "month day  hour                                                                \n",
       "7.0   31.0 19.0  28.41  62.248333  1.366667  291.705  1005.448333  45.154656   \n",
       "\n",
       "                          Kt  \n",
       "month day  hour               \n",
       "7.0   31.0 19.0  1801.872849  \n",
       "\n",
       "[1 rows x 23 columns]"
      ]
     },
     "execution_count": 65,
     "metadata": {},
     "output_type": "execute_result"
    }
   ],
   "source": [
    "df_new_test[df_new_test['Kt']==df_new_test['Kt'].max()]"
   ]
  },
  {
   "cell_type": "markdown",
   "metadata": {},
   "source": [
    "### Normalize train and test dataframe"
   ]
  },
  {
   "cell_type": "code",
   "execution_count": 66,
   "metadata": {},
   "outputs": [],
   "source": [
    "train_norm = (df_new_train - df_new_train.mean()) / (df_new_train.max() - df_new_train.min())\n",
    "test_norm =  (df_new_test - df_new_test.mean()) / (df_new_test.max() - df_new_test.min())"
   ]
  },
  {
   "cell_type": "code",
   "execution_count": 67,
   "metadata": {},
   "outputs": [],
   "source": [
    "train_norm.reset_index(inplace=True,drop=True)\n",
    "test_norm.reset_index(inplace=True,drop=True)"
   ]
  },
  {
   "cell_type": "markdown",
   "metadata": {
    "collapsed": true
   },
   "source": [
    "### Making train and test sets with train_norm and test_norm"
   ]
  },
  {
   "cell_type": "markdown",
   "metadata": {
    "collapsed": true
   },
   "source": [
    "#### finding the gcf (greatest common factor) of train and test dataset's length and chop off the extra rows to make it divisible with the batchsize"
   ]
  },
  {
   "cell_type": "code",
   "execution_count": 68,
   "metadata": {},
   "outputs": [
    {
     "name": "stderr",
     "output_type": "stream",
     "text": [
      "C:\\Users\\s269596\\AppData\\Local\\Continuum\\Anaconda3\\lib\\site-packages\\ipykernel_launcher.py:2: DeprecationWarning: fractions.gcd() is deprecated. Use math.gcd() instead.\n",
      "  \n"
     ]
    },
    {
     "data": {
      "text/plain": [
       "1"
      ]
     },
     "execution_count": 68,
     "metadata": {},
     "output_type": "execute_result"
    }
   ],
   "source": [
    "from fractions import gcd\n",
    "gcd(train_norm.shape[0],test_norm.shape[0])"
   ]
  },
  {
   "cell_type": "code",
   "execution_count": 69,
   "metadata": {},
   "outputs": [],
   "source": [
    "import math\n",
    "def roundup(x):\n",
    "    return int(math.ceil(x / 100.0)) * 100"
   ]
  },
  {
   "cell_type": "code",
   "execution_count": 70,
   "metadata": {},
   "outputs": [],
   "source": [
    "train_lim = roundup(train_norm.shape[0])\n",
    "test_lim = roundup(test_norm.shape[0])\n",
    "\n",
    "train_random = train_norm.sample(train_lim-train_norm.shape[0])\n",
    "test_random = test_norm.sample(test_lim-test_norm.shape[0])\n",
    "\n",
    "train_norm = train_norm.append(train_random)\n",
    "test_norm = test_norm.append(test_random)"
   ]
  },
  {
   "cell_type": "code",
   "execution_count": 71,
   "metadata": {},
   "outputs": [],
   "source": [
    "X1 = train_norm.drop('Kt',axis=1)\n",
    "y1 = train_norm['Kt']\n",
    "\n",
    "X2 = test_norm.drop('Kt',axis=1)\n",
    "y2 = test_norm['Kt']"
   ]
  },
  {
   "cell_type": "code",
   "execution_count": 72,
   "metadata": {
    "scrolled": true
   },
   "outputs": [
    {
     "name": "stdout",
     "output_type": "stream",
     "text": [
      "X1_train shape is (9000, 22)\n",
      "y1_train shape is (9000,)\n",
      "X2_test shape is (4300, 22)\n",
      "y2_test shape is (4300,)\n"
     ]
    }
   ],
   "source": [
    "print(\"X1_train shape is {}\".format(X1.shape))\n",
    "print(\"y1_train shape is {}\".format(y1.shape))\n",
    "print(\"X2_test shape is {}\".format(X2.shape))\n",
    "print(\"y2_test shape is {}\".format(y2.shape))"
   ]
  },
  {
   "cell_type": "code",
   "execution_count": 73,
   "metadata": {},
   "outputs": [],
   "source": [
    "X_train = np.array(X1)\n",
    "y_train  = np.array(y1)\n",
    "X_test = np.array(X2)\n",
    "y_test = np.array(y2)"
   ]
  },
  {
   "cell_type": "markdown",
   "metadata": {},
   "source": [
    "### start of RNN"
   ]
  },
  {
   "cell_type": "code",
   "execution_count": 74,
   "metadata": {},
   "outputs": [],
   "source": [
    "import torch\n",
    "import torch.nn as nn\n",
    "import torchvision.transforms as transforms\n",
    "import torchvision.datasets as dsets\n",
    "from torch.autograd import Variable"
   ]
  },
  {
   "cell_type": "code",
   "execution_count": 75,
   "metadata": {},
   "outputs": [],
   "source": [
    "class RNNModel(nn.Module):\n",
    "    def __init__(self, input_dim, hidden_dim, layer_dim, output_dim):\n",
    "        super(RNNModel, self).__init__()\n",
    "        #Hidden Dimension\n",
    "        self.hidden_dim = hidden_dim\n",
    "        \n",
    "        # Number of hidden layers\n",
    "        self.layer_dim = layer_dim\n",
    "        \n",
    "        #Building the RNN\n",
    "        self.rnn = nn.RNN(input_dim, hidden_dim, layer_dim, batch_first=True, nonlinearity='relu')\n",
    "        \n",
    "        # Readout layer\n",
    "        self.fc = nn.Linear(hidden_dim, output_dim)\n",
    "        \n",
    "    def forward(self, x):\n",
    "        # Initializing the hidden state with zeros\n",
    "        # (layer_dim, batch_size, hidden_dim)\n",
    "        h0 = Variable(torch.zeros(self.layer_dim, x.size(0), self.hidden_dim))\n",
    "        \n",
    "        #One time step (the last one perhaps?)\n",
    "        out, hn = self.rnn(x, h0)\n",
    "        \n",
    "        # Indexing hidden state of the last time step\n",
    "        # out.size() --> ??\n",
    "        #out[:,-1,:] --> is it going to be 100,100\n",
    "        out = self.fc(out[:,-1,:])\n",
    "        # out.size() --> 100,1\n",
    "        return out\n",
    "        "
   ]
  },
  {
   "cell_type": "code",
   "execution_count": 76,
   "metadata": {},
   "outputs": [],
   "source": [
    "# Instantiating Model Class\n",
    "input_dim = 22\n",
    "hidden_dim = 15\n",
    "layer_dim = 1\n",
    "output_dim = 1\n",
    "batch_size = 100\n",
    "\n",
    "model = RNNModel(input_dim, hidden_dim, layer_dim, output_dim)\n",
    "\n",
    "# Instantiating Loss Class\n",
    "criterion = nn.MSELoss()\n",
    "\n",
    "# Instantiate Optimizer Class\n",
    "learning_rate = 0.001\n",
    "optimizer = torch.optim.SGD(model.parameters(), lr=learning_rate)\n",
    "\n",
    "# converting numpy array to torch tensor\n",
    "X_train = torch.from_numpy(X_train)\n",
    "y_train = torch.from_numpy(y_train)\n",
    "X_test = torch.from_numpy(X_test)\n",
    "y_test = torch.from_numpy(y_test)\n",
    "\n",
    "# initializing lists to store losses over epochs:\n",
    "train_loss = []\n",
    "test_loss = []\n",
    "train_iter = []\n",
    "test_iter = []"
   ]
  },
  {
   "cell_type": "code",
   "execution_count": 77,
   "metadata": {
    "scrolled": true
   },
   "outputs": [
    {
     "name": "stdout",
     "output_type": "stream",
     "text": [
      "Epoch: 1 Iteration: 100. Train_MSE: 0.015558886341750622. Test_MSE: 0.0025503040942971653\n",
      "Epoch: 2 Iteration: 200. Train_MSE: 0.004604177549481392. Test_MSE: 0.0020506100860697225\n",
      "Epoch: 3 Iteration: 300. Train_MSE: 0.0032947715371847153. Test_MSE: 0.0017051522417383647\n",
      "Epoch: 4 Iteration: 400. Train_MSE: 0.011328373104333878. Test_MSE: 0.0014336881187855186\n",
      "Epoch: 5 Iteration: 500. Train_MSE: 0.002388679888099432. Test_MSE: 0.001236024412817214\n",
      "Epoch: 6 Iteration: 600. Train_MSE: 0.0007716209511272609. Test_MSE: 0.001116978564283721\n",
      "Epoch: 7 Iteration: 700. Train_MSE: 0.0011255486169829965. Test_MSE: 0.001036727939696899\n",
      "Epoch: 8 Iteration: 800. Train_MSE: 0.006541411858052015. Test_MSE: 0.0009643539664770516\n",
      "Epoch: 10 Iteration: 900. Train_MSE: 0.0016913466388359666. Test_MSE: 0.0008938629658557895\n",
      "Epoch: 11 Iteration: 1000. Train_MSE: 0.0010945528047159314. Test_MSE: 0.000864773612551133\n",
      "Epoch: 12 Iteration: 1100. Train_MSE: 0.001325509394519031. Test_MSE: 0.0008475916630837387\n",
      "Epoch: 13 Iteration: 1200. Train_MSE: 0.00499088317155838. Test_MSE: 0.0008195420966831146\n",
      "Epoch: 14 Iteration: 1300. Train_MSE: 0.0012502808822318912. Test_MSE: 0.000789639541039516\n",
      "Epoch: 15 Iteration: 1400. Train_MSE: 0.0018785340944305062. Test_MSE: 0.00077856463282153\n",
      "Epoch: 16 Iteration: 1500. Train_MSE: 0.0012798559619113803. Test_MSE: 0.0007736817318428178\n",
      "Epoch: 17 Iteration: 1600. Train_MSE: 0.002960616024211049. Test_MSE: 0.0007595177447390017\n",
      "Epoch: 19 Iteration: 1700. Train_MSE: 0.0014976868405938148. Test_MSE: 0.0007304006166239755\n",
      "Epoch: 20 Iteration: 1800. Train_MSE: 0.0011273921700194478. Test_MSE: 0.0007249747420803838\n",
      "Epoch: 21 Iteration: 1900. Train_MSE: 0.001032331376336515. Test_MSE: 0.0007244798845044878\n",
      "Epoch: 22 Iteration: 2000. Train_MSE: 0.0025383708998560905. Test_MSE: 0.0007143075425272141\n",
      "Epoch: 23 Iteration: 2100. Train_MSE: 0.00122454937081784. Test_MSE: 0.0006953996762621382\n",
      "Epoch: 24 Iteration: 2200. Train_MSE: 0.0006897720159031451. Test_MSE: 0.0006901804039188575\n",
      "Epoch: 25 Iteration: 2300. Train_MSE: 0.0007432717247866094. Test_MSE: 0.0006895476997716145\n",
      "Epoch: 26 Iteration: 2400. Train_MSE: 0.0012310941237956285. Test_MSE: 0.0006822095207578043\n",
      "Epoch: 28 Iteration: 2500. Train_MSE: 0.0008049879688769579. Test_MSE: 0.0006598330819041421\n",
      "Epoch: 29 Iteration: 2600. Train_MSE: 0.0014985372545197606. Test_MSE: 0.0006552114863261707\n",
      "Epoch: 30 Iteration: 2700. Train_MSE: 0.0010624034330248833. Test_MSE: 0.0006559396715195382\n",
      "Epoch: 31 Iteration: 2800. Train_MSE: 0.0015431479550898075. Test_MSE: 0.0006497733158995041\n",
      "Epoch: 32 Iteration: 2900. Train_MSE: 0.0016115104081109166. Test_MSE: 0.0006343963355789229\n",
      "Epoch: 33 Iteration: 3000. Train_MSE: 0.0014043196570128202. Test_MSE: 0.0006299624733572259\n",
      "Epoch: 34 Iteration: 3100. Train_MSE: 0.0006364044384099543. Test_MSE: 0.0006296110758117011\n",
      "Epoch: 35 Iteration: 3200. Train_MSE: 0.00168648362159729. Test_MSE: 0.0006240726584860652\n",
      "Epoch: 37 Iteration: 3300. Train_MSE: 0.0017637324053794146. Test_MSE: 0.000606304228051678\n",
      "Epoch: 38 Iteration: 3400. Train_MSE: 0.0007741882000118494. Test_MSE: 0.0006018766328536525\n",
      "Epoch: 39 Iteration: 3500. Train_MSE: 0.0010036296444013715. Test_MSE: 0.0006025782975444527\n",
      "Epoch: 40 Iteration: 3600. Train_MSE: 0.0012842569267377257. Test_MSE: 0.000598294743125085\n",
      "Epoch: 41 Iteration: 3700. Train_MSE: 0.0009219128405675292. Test_MSE: 0.0005858115661356615\n",
      "Epoch: 42 Iteration: 3800. Train_MSE: 0.0008632889366708696. Test_MSE: 0.0005822112001180112\n",
      "Epoch: 43 Iteration: 3900. Train_MSE: 0.0005782795487903059. Test_MSE: 0.0005818606867411539\n",
      "Epoch: 44 Iteration: 4000. Train_MSE: 0.0012043133610859513. Test_MSE: 0.0005774070633981517\n",
      "Epoch: 46 Iteration: 4100. Train_MSE: 0.0020835809409618378. Test_MSE: 0.0005638424124400776\n",
      "Epoch: 47 Iteration: 4200. Train_MSE: 0.002791895531117916. Test_MSE: 0.0005589034051037414\n",
      "Epoch: 48 Iteration: 4300. Train_MSE: 0.0006601981585845351. Test_MSE: 0.0005594240555573135\n",
      "Epoch: 49 Iteration: 4400. Train_MSE: 0.0015604713698849082. Test_MSE: 0.0005572249643346194\n",
      "Epoch: 50 Iteration: 4500. Train_MSE: 0.002172840991988778. Test_MSE: 0.0005457769498341085\n",
      "Epoch: 51 Iteration: 4600. Train_MSE: 0.0008259561145678163. Test_MSE: 0.0005430454419920413\n",
      "Epoch: 52 Iteration: 4700. Train_MSE: 0.0014403548557311296. Test_MSE: 0.0005428698643701365\n",
      "Epoch: 53 Iteration: 4800. Train_MSE: 0.0009219893254339695. Test_MSE: 0.000539597853980088\n",
      "Epoch: 55 Iteration: 4900. Train_MSE: 0.002839997410774231. Test_MSE: 0.0005289076253208527\n",
      "Epoch: 56 Iteration: 5000. Train_MSE: 0.0016895298613235354. Test_MSE: 0.0005239260512453308\n",
      "Epoch: 57 Iteration: 5100. Train_MSE: 0.0006252311286516488. Test_MSE: 0.0005240207484135189\n",
      "Epoch: 58 Iteration: 5200. Train_MSE: 0.0009561079787090421. Test_MSE: 0.0005232670666264087\n",
      "Epoch: 59 Iteration: 5300. Train_MSE: 0.0012216352624818683. Test_MSE: 0.0005135726234511359\n",
      "Epoch: 60 Iteration: 5400. Train_MSE: 0.0008105009910650551. Test_MSE: 0.0005108657618127922\n",
      "Epoch: 61 Iteration: 5500. Train_MSE: 0.007728679105639458. Test_MSE: 0.0005105100462362896\n",
      "Epoch: 62 Iteration: 5600. Train_MSE: 0.0010505398968234658. Test_MSE: 0.000508498493666985\n",
      "Epoch: 64 Iteration: 5700. Train_MSE: 0.002378086792305112. Test_MSE: 0.0005002540722679169\n",
      "Epoch: 65 Iteration: 5800. Train_MSE: 0.0004910534480586648. Test_MSE: 0.0004947643628032292\n",
      "Epoch: 66 Iteration: 5900. Train_MSE: 0.013115502893924713. Test_MSE: 0.0004945149139185629\n",
      "Epoch: 67 Iteration: 6000. Train_MSE: 0.000471468607429415. Test_MSE: 0.0004942568599144686\n",
      "Epoch: 68 Iteration: 6100. Train_MSE: 0.001684844377450645. Test_MSE: 0.00048644281368699063\n",
      "Epoch: 69 Iteration: 6200. Train_MSE: 0.0004363102780189365. Test_MSE: 0.00048412135150084656\n",
      "Epoch: 70 Iteration: 6300. Train_MSE: 0.0011899222154170275. Test_MSE: 0.0004836491107151808\n",
      "Epoch: 71 Iteration: 6400. Train_MSE: 0.00033142033498734236. Test_MSE: 0.000482295460553898\n",
      "Epoch: 73 Iteration: 6500. Train_MSE: 0.0010176058858633041. Test_MSE: 0.00047589959096310853\n",
      "Epoch: 74 Iteration: 6600. Train_MSE: 0.0007050561835058033. Test_MSE: 0.00046997439120168043\n",
      "Epoch: 75 Iteration: 6700. Train_MSE: 0.0016538500785827637. Test_MSE: 0.00047002915848669345\n",
      "Epoch: 76 Iteration: 6800. Train_MSE: 0.0003542100021149963. Test_MSE: 0.0004700431657774756\n",
      "Epoch: 77 Iteration: 6900. Train_MSE: 0.0018622128991410136. Test_MSE: 0.0004636033880784169\n",
      "Epoch: 78 Iteration: 7000. Train_MSE: 0.0005620373995043337. Test_MSE: 0.00046124314254340694\n",
      "Epoch: 79 Iteration: 7100. Train_MSE: 0.000940892321523279. Test_MSE: 0.0004607686628872755\n",
      "Epoch: 80 Iteration: 7200. Train_MSE: 0.00043270879541523755. Test_MSE: 0.0004595919092955187\n",
      "Epoch: 82 Iteration: 7300. Train_MSE: 0.0018275593174621463. Test_MSE: 0.00045459340405188233\n",
      "Epoch: 83 Iteration: 7400. Train_MSE: 0.0004049254348501563. Test_MSE: 0.0004491579203492796\n",
      "Epoch: 84 Iteration: 7500. Train_MSE: 0.0005957306711934507. Test_MSE: 0.000448968977411996\n",
      "Epoch: 85 Iteration: 7600. Train_MSE: 0.00046982194180600345. Test_MSE: 0.00044926136673924564\n",
      "Epoch: 86 Iteration: 7700. Train_MSE: 0.0018139092717319727. Test_MSE: 0.0004445258428749062\n",
      "Epoch: 87 Iteration: 7800. Train_MSE: 0.0008489580359309912. Test_MSE: 0.0004417778414889063\n",
      "Epoch: 88 Iteration: 7900. Train_MSE: 0.0005791077273897827. Test_MSE: 0.00044112619937506856\n",
      "Epoch: 89 Iteration: 8000. Train_MSE: 0.0002706671366468072. Test_MSE: 0.00044045117155024684\n",
      "Epoch: 91 Iteration: 8100. Train_MSE: 0.002325597917661071. Test_MSE: 0.0004366086809758285\n",
      "Epoch: 92 Iteration: 8200. Train_MSE: 0.0005566838663071394. Test_MSE: 0.00043117124929580654\n",
      "Epoch: 93 Iteration: 8300. Train_MSE: 0.0004883635556325316. Test_MSE: 0.0004308199889771486\n",
      "Epoch: 94 Iteration: 8400. Train_MSE: 0.00047097555943764746. Test_MSE: 0.0004313853044781707\n",
      "Epoch: 95 Iteration: 8500. Train_MSE: 0.0014417286729440093. Test_MSE: 0.0004277141217633859\n",
      "Epoch: 96 Iteration: 8600. Train_MSE: 0.0007263406296260655. Test_MSE: 0.00042465926990645767\n",
      "Epoch: 97 Iteration: 8700. Train_MSE: 0.0010498439660295844. Test_MSE: 0.000424196135031516\n",
      "Epoch: 98 Iteration: 8800. Train_MSE: 0.00040213725878857076. Test_MSE: 0.0004236970818295858\n",
      "Epoch: 99 Iteration: 8900. Train_MSE: 0.000895331206265837. Test_MSE: 0.0004208563478474793\n",
      "Epoch: 101 Iteration: 9000. Train_MSE: 0.0005598215502686799. Test_MSE: 0.0004155657269015303\n"
     ]
    },
    {
     "name": "stdout",
     "output_type": "stream",
     "text": [
      "Epoch: 102 Iteration: 9100. Train_MSE: 0.00043001066660508513. Test_MSE: 0.0004150601612288223\n",
      "Epoch: 103 Iteration: 9200. Train_MSE: 0.0010319550056010485. Test_MSE: 0.00041553217136354416\n",
      "Epoch: 104 Iteration: 9300. Train_MSE: 0.0010595557978376746. Test_MSE: 0.00041281883874733294\n",
      "Epoch: 105 Iteration: 9400. Train_MSE: 0.0005688960663974285. Test_MSE: 0.000410193553242442\n",
      "Epoch: 106 Iteration: 9500. Train_MSE: 0.0005015544011257589. Test_MSE: 0.00040952120228146896\n",
      "Epoch: 107 Iteration: 9600. Train_MSE: 0.0003941172326449305. Test_MSE: 0.0004089018268505511\n",
      "Epoch: 108 Iteration: 9700. Train_MSE: 0.00118448946159333. Test_MSE: 0.0004066909406562546\n",
      "Epoch: 110 Iteration: 9800. Train_MSE: 0.0007390262908302248. Test_MSE: 0.0004016393608556996\n",
      "Epoch: 111 Iteration: 9900. Train_MSE: 0.00033009768230840564. Test_MSE: 0.0004012300768139955\n",
      "Epoch: 112 Iteration: 10000. Train_MSE: 0.00039372974424622953. Test_MSE: 0.000401645495975243\n",
      "Epoch: 113 Iteration: 10100. Train_MSE: 0.0014142919098958373. Test_MSE: 0.00039969342220983617\n",
      "Epoch: 114 Iteration: 10200. Train_MSE: 0.0006002135924063623. Test_MSE: 0.0003971722232720063\n",
      "Epoch: 115 Iteration: 10300. Train_MSE: 0.0005945044686086476. Test_MSE: 0.0003964910040772585\n",
      "Epoch: 116 Iteration: 10400. Train_MSE: 0.00039149634540081024. Test_MSE: 0.0003960728076476793\n",
      "Epoch: 117 Iteration: 10500. Train_MSE: 0.0009550662362016737. Test_MSE: 0.0003944731779500564\n",
      "Epoch: 119 Iteration: 10600. Train_MSE: 0.0006631864816881716. Test_MSE: 0.0003896057553817249\n",
      "Epoch: 120 Iteration: 10700. Train_MSE: 0.0003415147075429559. Test_MSE: 0.0003890497180434068\n",
      "Epoch: 121 Iteration: 10800. Train_MSE: 0.0003456953854765743. Test_MSE: 0.00038931245295391846\n",
      "Epoch: 122 Iteration: 10900. Train_MSE: 0.0009590565459802747. Test_MSE: 0.00038799008158514045\n",
      "Epoch: 123 Iteration: 11000. Train_MSE: 0.0006582781788893044. Test_MSE: 0.0003855865770919346\n",
      "Epoch: 124 Iteration: 11100. Train_MSE: 0.0003141926135867834. Test_MSE: 0.00038486243577561153\n",
      "Epoch: 125 Iteration: 11200. Train_MSE: 0.000252658617682755. Test_MSE: 0.00038450140118503814\n",
      "Epoch: 126 Iteration: 11300. Train_MSE: 0.0005996021209284663. Test_MSE: 0.0003833725835685718\n",
      "Epoch: 128 Iteration: 11400. Train_MSE: 0.00040931932744570076. Test_MSE: 0.000379076968402025\n",
      "Epoch: 129 Iteration: 11500. Train_MSE: 0.0008881560643203557. Test_MSE: 0.00037822282538166856\n",
      "Epoch: 130 Iteration: 11600. Train_MSE: 0.0004453579313121736. Test_MSE: 0.000378404159020462\n",
      "Epoch: 131 Iteration: 11700. Train_MSE: 0.0006555519066751003. Test_MSE: 0.00037747335291907474\n",
      "Epoch: 132 Iteration: 11800. Train_MSE: 0.0006995217991061509. Test_MSE: 0.00037527579482422076\n",
      "Epoch: 133 Iteration: 11900. Train_MSE: 0.0011176897678524256. Test_MSE: 0.00037465794568518584\n",
      "Epoch: 134 Iteration: 12000. Train_MSE: 0.00020355134620331228. Test_MSE: 0.00037420707238992467\n",
      "Epoch: 135 Iteration: 12100. Train_MSE: 0.0008015824714675546. Test_MSE: 0.000373040968718938\n",
      "Epoch: 137 Iteration: 12200. Train_MSE: 0.0006521125906147063. Test_MSE: 0.0003695102523882691\n",
      "Epoch: 138 Iteration: 12300. Train_MSE: 0.00033547673956491053. Test_MSE: 0.00036854438520258717\n",
      "Epoch: 139 Iteration: 12400. Train_MSE: 0.0003074527776334435. Test_MSE: 0.00036856233720489396\n",
      "Epoch: 140 Iteration: 12500. Train_MSE: 0.0006416152464225888. Test_MSE: 0.0003678702802103092\n",
      "Epoch: 141 Iteration: 12600. Train_MSE: 0.000471352890599519. Test_MSE: 0.00036585394802046787\n",
      "Epoch: 142 Iteration: 12700. Train_MSE: 0.0004483116790652275. Test_MSE: 0.00036546919904324016\n",
      "Epoch: 143 Iteration: 12800. Train_MSE: 0.0002009318268392235. Test_MSE: 0.00036495353148456355\n",
      "Epoch: 144 Iteration: 12900. Train_MSE: 0.0006358346436172724. Test_MSE: 0.0003636960461017714\n",
      "Epoch: 146 Iteration: 13000. Train_MSE: 0.0008459676755592227. Test_MSE: 0.0003609251267983009\n",
      "Epoch: 147 Iteration: 13100. Train_MSE: 0.002630246337503195. Test_MSE: 0.00035978331411343483\n",
      "Epoch: 148 Iteration: 13200. Train_MSE: 0.00020428474817890674. Test_MSE: 0.00035971969090237057\n",
      "Epoch: 149 Iteration: 13300. Train_MSE: 0.0009207376861013472. Test_MSE: 0.0003594928821088757\n",
      "Epoch: 150 Iteration: 13400. Train_MSE: 0.001111193560063839. Test_MSE: 0.00035722391669140176\n",
      "Epoch: 151 Iteration: 13500. Train_MSE: 0.0005462515400722623. Test_MSE: 0.0003570245437609012\n",
      "Epoch: 152 Iteration: 13600. Train_MSE: 0.0009879079880192876. Test_MSE: 0.0003565923287453294\n",
      "Epoch: 153 Iteration: 13700. Train_MSE: 0.00042989221401512623. Test_MSE: 0.00035546063363237713\n",
      "Epoch: 155 Iteration: 13800. Train_MSE: 0.0010956370970234275. Test_MSE: 0.0003531453071991589\n",
      "Epoch: 156 Iteration: 13900. Train_MSE: 0.0015388971660286188. Test_MSE: 0.00035205228193541994\n",
      "Epoch: 157 Iteration: 14000. Train_MSE: 0.00021991634275764227. Test_MSE: 0.0003517524697533867\n",
      "Epoch: 158 Iteration: 14100. Train_MSE: 0.0004825383657589555. Test_MSE: 0.00035182376560755367\n",
      "Epoch: 159 Iteration: 14200. Train_MSE: 0.0008195133996196091. Test_MSE: 0.00034953841585042206\n",
      "Epoch: 160 Iteration: 14300. Train_MSE: 0.0004781255847774446. Test_MSE: 0.00034944152058390376\n",
      "Epoch: 161 Iteration: 14400. Train_MSE: 0.007520279381424189. Test_MSE: 0.00034895165502861995\n",
      "Epoch: 162 Iteration: 14500. Train_MSE: 0.0005478909588418901. Test_MSE: 0.0003481323740309159\n",
      "Epoch: 164 Iteration: 14600. Train_MSE: 0.001237064483575523. Test_MSE: 0.0003462335464949879\n",
      "Epoch: 165 Iteration: 14700. Train_MSE: 0.0003003898309543729. Test_MSE: 0.0003449176805475669\n",
      "Epoch: 166 Iteration: 14800. Train_MSE: 0.012986727990210056. Test_MSE: 0.00034446120653040086\n",
      "Epoch: 167 Iteration: 14900. Train_MSE: 0.0002762521617114544. Test_MSE: 0.00034455175007804407\n",
      "Epoch: 168 Iteration: 15000. Train_MSE: 0.0008803072851151228. Test_MSE: 0.00034253338147996243\n",
      "Epoch: 169 Iteration: 15100. Train_MSE: 0.0002870160387828946. Test_MSE: 0.0003425756921371281\n",
      "Epoch: 170 Iteration: 15200. Train_MSE: 0.0010312579106539488. Test_MSE: 0.00034213223732036153\n",
      "Epoch: 171 Iteration: 15300. Train_MSE: 0.00024085157201625407. Test_MSE: 0.0003413727945060146\n",
      "Epoch: 173 Iteration: 15400. Train_MSE: 0.0006225559045560658. Test_MSE: 0.0003398549644707498\n",
      "Epoch: 174 Iteration: 15500. Train_MSE: 0.00048577794223092496. Test_MSE: 0.0003382107908958865\n",
      "Epoch: 175 Iteration: 15600. Train_MSE: 0.0014742356725037098. Test_MSE: 0.0003380177490865617\n",
      "Epoch: 176 Iteration: 15700. Train_MSE: 0.00024384286371059716. Test_MSE: 0.00033802968828175304\n",
      "Epoch: 177 Iteration: 15800. Train_MSE: 0.0009662368684075773. Test_MSE: 0.0003362502286138943\n",
      "Epoch: 178 Iteration: 15900. Train_MSE: 0.0003801234415732324. Test_MSE: 0.0003361849989762169\n",
      "Epoch: 179 Iteration: 16000. Train_MSE: 0.0007581631070934236. Test_MSE: 0.0003357718212255422\n",
      "Epoch: 180 Iteration: 16100. Train_MSE: 0.0002753943845164031. Test_MSE: 0.00033498805541508906\n",
      "Epoch: 182 Iteration: 16200. Train_MSE: 0.0009034517570398748. Test_MSE: 0.0003337755231874851\n",
      "Epoch: 183 Iteration: 16300. Train_MSE: 0.0003422306617721915. Test_MSE: 0.0003321990784179523\n",
      "Epoch: 184 Iteration: 16400. Train_MSE: 0.00041743332985788584. Test_MSE: 0.0003319086326815037\n",
      "Epoch: 185 Iteration: 16500. Train_MSE: 0.00034292603959329426. Test_MSE: 0.00033195974010006093\n",
      "Epoch: 186 Iteration: 16600. Train_MSE: 0.001193184987641871. Test_MSE: 0.00033067370012822473\n",
      "Epoch: 187 Iteration: 16700. Train_MSE: 0.0005973574589006603. Test_MSE: 0.00033026465262589287\n",
      "Epoch: 188 Iteration: 16800. Train_MSE: 0.0004637721576727927. Test_MSE: 0.00032984645100552883\n",
      "Epoch: 189 Iteration: 16900. Train_MSE: 0.00019151576270814985. Test_MSE: 0.0003291945972116338\n",
      "Epoch: 191 Iteration: 17000. Train_MSE: 0.001387257594615221. Test_MSE: 0.00032821720694080613\n",
      "Epoch: 192 Iteration: 17100. Train_MSE: 0.0004419218748807907. Test_MSE: 0.0003265588720089453\n",
      "Epoch: 193 Iteration: 17200. Train_MSE: 0.00037967669777572155. Test_MSE: 0.00032622296387835087\n",
      "Epoch: 194 Iteration: 17300. Train_MSE: 0.0002965448366012424. Test_MSE: 0.00032632471205859423\n",
      "Epoch: 195 Iteration: 17400. Train_MSE: 0.0008484999998472631. Test_MSE: 0.0003252883816297681\n",
      "Epoch: 196 Iteration: 17500. Train_MSE: 0.00048214069101959467. Test_MSE: 0.00032462907873642206\n",
      "Epoch: 197 Iteration: 17600. Train_MSE: 0.0009830098133534193. Test_MSE: 0.0003243694207464627\n"
     ]
    },
    {
     "name": "stdout",
     "output_type": "stream",
     "text": [
      "Epoch: 198 Iteration: 17700. Train_MSE: 0.0002553980448283255. Test_MSE: 0.00032377984468076273\n",
      "Epoch: 199 Iteration: 17800. Train_MSE: 0.0005457081133499742. Test_MSE: 0.00032290412284985767\n",
      "Epoch: 201 Iteration: 17900. Train_MSE: 0.00039624591590836644. Test_MSE: 0.00032123888584373246\n",
      "Epoch: 202 Iteration: 18000. Train_MSE: 0.00032918472425080836. Test_MSE: 0.0003209180061300533\n",
      "Epoch: 203 Iteration: 18100. Train_MSE: 0.0009265848202630877. Test_MSE: 0.00032096329720289864\n",
      "Epoch: 204 Iteration: 18200. Train_MSE: 0.0006347605376504362. Test_MSE: 0.00032015121889831166\n",
      "Epoch: 205 Iteration: 18300. Train_MSE: 0.0004490908468142152. Test_MSE: 0.00031964948643733933\n",
      "Epoch: 206 Iteration: 18400. Train_MSE: 0.000367744272807613. Test_MSE: 0.00031930047629650886\n",
      "Epoch: 207 Iteration: 18500. Train_MSE: 0.0002766929683275521. Test_MSE: 0.00031864117521194975\n",
      "Epoch: 208 Iteration: 18600. Train_MSE: 0.0006758247036486864. Test_MSE: 0.0003179200019719799\n",
      "Epoch: 210 Iteration: 18700. Train_MSE: 0.0004895093152299523. Test_MSE: 0.00031617474704590356\n",
      "Epoch: 211 Iteration: 18800. Train_MSE: 0.00023732733097858727. Test_MSE: 0.00031593124285441007\n",
      "Epoch: 212 Iteration: 18900. Train_MSE: 0.00026804933440871537. Test_MSE: 0.0003159632480842364\n",
      "Epoch: 213 Iteration: 19000. Train_MSE: 0.0010262955911457539. Test_MSE: 0.0003153788849146934\n",
      "Epoch: 214 Iteration: 19100. Train_MSE: 0.00042283826041966677. Test_MSE: 0.0003148183163166237\n",
      "Epoch: 215 Iteration: 19200. Train_MSE: 0.00044027346302755177. Test_MSE: 0.0003144891787658712\n",
      "Epoch: 216 Iteration: 19300. Train_MSE: 0.0003006180049851537. Test_MSE: 0.0003139165348719772\n",
      "Epoch: 217 Iteration: 19400. Train_MSE: 0.0006013232632540166. Test_MSE: 0.00031337103795672094\n",
      "Epoch: 219 Iteration: 19500. Train_MSE: 0.0004421708290465176. Test_MSE: 0.0003115741106552705\n",
      "Epoch: 220 Iteration: 19600. Train_MSE: 0.00026431435253471136. Test_MSE: 0.0003112882828921769\n",
      "Epoch: 221 Iteration: 19700. Train_MSE: 0.00025338935665786266. Test_MSE: 0.0003112369708038462\n",
      "Epoch: 222 Iteration: 19800. Train_MSE: 0.000636990531347692. Test_MSE: 0.000310784665805583\n",
      "Epoch: 223 Iteration: 19900. Train_MSE: 0.0004647382302209735. Test_MSE: 0.000310236393019284\n",
      "Epoch: 224 Iteration: 20000. Train_MSE: 0.00027820561081171036. Test_MSE: 0.0003099160375640475\n",
      "Epoch: 225 Iteration: 20100. Train_MSE: 0.00020560117263812572. Test_MSE: 0.0003094131028428117\n",
      "Epoch: 226 Iteration: 20200. Train_MSE: 0.0004259295528754592. Test_MSE: 0.00030897538680699633\n",
      "Epoch: 228 Iteration: 20300. Train_MSE: 0.0002871043689083308. Test_MSE: 0.00030734866438363745\n",
      "Epoch: 229 Iteration: 20400. Train_MSE: 0.0008174284012056887. Test_MSE: 0.0003069160327984617\n",
      "Epoch: 230 Iteration: 20500. Train_MSE: 0.000367784989066422. Test_MSE: 0.0003068087439908086\n",
      "Epoch: 231 Iteration: 20600. Train_MSE: 0.00042454630602151155. Test_MSE: 0.0003064673853821697\n",
      "Epoch: 232 Iteration: 20700. Train_MSE: 0.0004737310518976301. Test_MSE: 0.0003059375685757077\n",
      "Epoch: 233 Iteration: 20800. Train_MSE: 0.0010895752348005772. Test_MSE: 0.0003057167556581467\n",
      "Epoch: 234 Iteration: 20900. Train_MSE: 0.0001600353280082345. Test_MSE: 0.0003051674629773178\n",
      "Epoch: 235 Iteration: 21000. Train_MSE: 0.0005720597109757364. Test_MSE: 0.0003046093239982184\n",
      "Epoch: 237 Iteration: 21100. Train_MSE: 0.0004236828535795212. Test_MSE: 0.0003033002227606215\n",
      "Epoch: 238 Iteration: 21200. Train_MSE: 0.00028319511329755187. Test_MSE: 0.0003028084060261026\n",
      "Epoch: 239 Iteration: 21300. Train_MSE: 0.00021166959777474403. Test_MSE: 0.0003026003566577048\n",
      "Epoch: 240 Iteration: 21400. Train_MSE: 0.00045170297380536795. Test_MSE: 0.0003023430964428346\n",
      "Epoch: 241 Iteration: 21500. Train_MSE: 0.0003381503338459879. Test_MSE: 0.00030179220659932825\n",
      "Epoch: 242 Iteration: 21600. Train_MSE: 0.000380262965336442. Test_MSE: 0.00030174804609626077\n",
      "Epoch: 243 Iteration: 21700. Train_MSE: 0.0001548917352920398. Test_MSE: 0.0003011696122723988\n",
      "Epoch: 244 Iteration: 21800. Train_MSE: 0.0004296501283533871. Test_MSE: 0.00030045980033651163\n",
      "Epoch: 246 Iteration: 21900. Train_MSE: 0.0005486888694576919. Test_MSE: 0.0002994460626632957\n",
      "Epoch: 247 Iteration: 22000. Train_MSE: 0.0026116573717445135. Test_MSE: 0.0002988903958860682\n",
      "Epoch: 248 Iteration: 22100. Train_MSE: 0.00014508601452689618. Test_MSE: 0.0002986608755240342\n",
      "Epoch: 249 Iteration: 22200. Train_MSE: 0.000754525070078671. Test_MSE: 0.00029862857526189417\n",
      "Epoch: 250 Iteration: 22300. Train_MSE: 0.0008377868216484785. Test_MSE: 0.0002978170962099648\n",
      "Epoch: 251 Iteration: 22400. Train_MSE: 0.0004889349220320582. Test_MSE: 0.0002978810116014291\n",
      "Epoch: 252 Iteration: 22500. Train_MSE: 0.0009206688264384866. Test_MSE: 0.00029737921036857376\n",
      "Epoch: 253 Iteration: 22600. Train_MSE: 0.00028742715949192643. Test_MSE: 0.0002966743471373597\n",
      "Epoch: 255 Iteration: 22700. Train_MSE: 0.0006751383189111948. Test_MSE: 0.0002958085479981672\n",
      "Epoch: 256 Iteration: 22800. Train_MSE: 0.0015086248749867082. Test_MSE: 0.00029534121042457465\n",
      "Epoch: 257 Iteration: 22900. Train_MSE: 0.00015190230624284595. Test_MSE: 0.0002949670791368275\n",
      "Epoch: 258 Iteration: 23000. Train_MSE: 0.0003577978059183806. Test_MSE: 0.00029506548959516016\n",
      "Epoch: 259 Iteration: 23100. Train_MSE: 0.0006739870295859873. Test_MSE: 0.00029408652271158847\n",
      "Epoch: 260 Iteration: 23200. Train_MSE: 0.000375371309928596. Test_MSE: 0.0002942913607910941\n",
      "Epoch: 261 Iteration: 23300. Train_MSE: 0.007506833877414465. Test_MSE: 0.00029378423179576\n",
      "Epoch: 262 Iteration: 23400. Train_MSE: 0.0003804675943683833. Test_MSE: 0.00029322064793814266\n",
      "Epoch: 264 Iteration: 23500. Train_MSE: 0.000883976579643786. Test_MSE: 0.00029249030800560064\n",
      "Epoch: 265 Iteration: 23600. Train_MSE: 0.00023832778970245272. Test_MSE: 0.00029191512037397745\n",
      "Epoch: 266 Iteration: 23700. Train_MSE: 0.01304368581622839. Test_MSE: 0.00029145289032708727\n",
      "Epoch: 267 Iteration: 23800. Train_MSE: 0.00020440240041352808. Test_MSE: 0.00029152955990101044\n",
      "Epoch: 268 Iteration: 23900. Train_MSE: 0.0005946083110757172. Test_MSE: 0.000290606999363229\n",
      "Epoch: 269 Iteration: 24000. Train_MSE: 0.0002342587395105511. Test_MSE: 0.0002909324997180452\n",
      "Epoch: 270 Iteration: 24100. Train_MSE: 0.0010243227006867528. Test_MSE: 0.0002905011677280932\n",
      "Epoch: 271 Iteration: 24200. Train_MSE: 0.00020495661010500044. Test_MSE: 0.00028991556446103127\n",
      "Epoch: 273 Iteration: 24300. Train_MSE: 0.0004860283515881747. Test_MSE: 0.00028933233012025573\n",
      "Epoch: 274 Iteration: 24400. Train_MSE: 0.0003998639003839344. Test_MSE: 0.0002885349303056252\n",
      "Epoch: 275 Iteration: 24500. Train_MSE: 0.0014554281951859593. Test_MSE: 0.00028830564556706274\n",
      "Epoch: 276 Iteration: 24600. Train_MSE: 0.00019861385226249695. Test_MSE: 0.00028827447343400753\n",
      "Epoch: 277 Iteration: 24700. Train_MSE: 0.0006802510470151901. Test_MSE: 0.00028742779025982696\n",
      "Epoch: 278 Iteration: 24800. Train_MSE: 0.00028960464987903833. Test_MSE: 0.0002876888225820753\n",
      "Epoch: 279 Iteration: 24900. Train_MSE: 0.0007398599991574883. Test_MSE: 0.0002872971288814958\n",
      "Epoch: 280 Iteration: 25000. Train_MSE: 0.0002183912874897942. Test_MSE: 0.00028666136195393385\n",
      "Epoch: 282 Iteration: 25100. Train_MSE: 0.0006266660057008266. Test_MSE: 0.0002862162158356939\n",
      "Epoch: 283 Iteration: 25200. Train_MSE: 0.00031767311156727374. Test_MSE: 0.0002854483470503944\n",
      "Epoch: 284 Iteration: 25300. Train_MSE: 0.00039575964910909534. Test_MSE: 0.0002851664290578244\n",
      "Epoch: 285 Iteration: 25400. Train_MSE: 0.00028534428565762937. Test_MSE: 0.00028514093582191705\n",
      "Epoch: 286 Iteration: 25500. Train_MSE: 0.0009373857756145298. Test_MSE: 0.0002845543701432334\n",
      "Epoch: 287 Iteration: 25600. Train_MSE: 0.0004862592031713575. Test_MSE: 0.0002845674842339598\n",
      "Epoch: 288 Iteration: 25700. Train_MSE: 0.00045724763185717165. Test_MSE: 0.0002842064441969255\n",
      "Epoch: 289 Iteration: 25800. Train_MSE: 0.0001556469069328159. Test_MSE: 0.00028362453602360995\n",
      "Epoch: 291 Iteration: 25900. Train_MSE: 0.001074550673365593. Test_MSE: 0.00028326041046000954\n",
      "Epoch: 292 Iteration: 26000. Train_MSE: 0.0003614170418586582. Test_MSE: 0.0002824451591044179\n",
      "Epoch: 293 Iteration: 26100. Train_MSE: 0.00036115673719905317. Test_MSE: 0.000282146613395501\n",
      "Epoch: 294 Iteration: 26200. Train_MSE: 0.00022738194093108177. Test_MSE: 0.00028213610321377693\n"
     ]
    },
    {
     "name": "stdout",
     "output_type": "stream",
     "text": [
      "Epoch: 295 Iteration: 26300. Train_MSE: 0.0006333405035547912. Test_MSE: 0.0002816649549417134\n",
      "Epoch: 296 Iteration: 26400. Train_MSE: 0.000384985440177843. Test_MSE: 0.0002814995014422419\n",
      "Epoch: 297 Iteration: 26500. Train_MSE: 0.000963825557846576. Test_MSE: 0.0002812817498229387\n",
      "Epoch: 298 Iteration: 26600. Train_MSE: 0.00022119197819847614. Test_MSE: 0.0002807295361562431\n",
      "Epoch: 299 Iteration: 26700. Train_MSE: 0.0003975551517214626. Test_MSE: 0.0002803304949592045\n",
      "Epoch: 301 Iteration: 26800. Train_MSE: 0.0003215462202206254. Test_MSE: 0.0002795040137591434\n",
      "Epoch: 302 Iteration: 26900. Train_MSE: 0.00029381713829934597. Test_MSE: 0.00027925194819484155\n",
      "Epoch: 303 Iteration: 27000. Train_MSE: 0.0008772643050178885. Test_MSE: 0.0002792029717562172\n",
      "Epoch: 304 Iteration: 27100. Train_MSE: 0.0004649359034374356. Test_MSE: 0.0002788214976540091\n",
      "Epoch: 305 Iteration: 27200. Train_MSE: 0.00037919002352282405. Test_MSE: 0.0002787662627253942\n",
      "Epoch: 306 Iteration: 27300. Train_MSE: 0.0003141138586215675. Test_MSE: 0.0002785032421286788\n",
      "Epoch: 307 Iteration: 27400. Train_MSE: 0.00021983800979796797. Test_MSE: 0.00027788901699046467\n",
      "Epoch: 308 Iteration: 27500. Train_MSE: 0.0004799718444701284. Test_MSE: 0.0002775564689451404\n",
      "Epoch: 310 Iteration: 27600. Train_MSE: 0.0003725171845871955. Test_MSE: 0.00027662704193442354\n",
      "Epoch: 311 Iteration: 27700. Train_MSE: 0.00020771566778421402. Test_MSE: 0.0002764426298030627\n",
      "Epoch: 312 Iteration: 27800. Train_MSE: 0.00022774268290959299. Test_MSE: 0.00027640002328566625\n",
      "Epoch: 313 Iteration: 27900. Train_MSE: 0.0008250938262790442. Test_MSE: 0.00027613418671682184\n",
      "Epoch: 314 Iteration: 28000. Train_MSE: 0.00033410906326025724. Test_MSE: 0.000276021564174525\n",
      "Epoch: 315 Iteration: 28100. Train_MSE: 0.0003890183288604021. Test_MSE: 0.00027578834859107014\n",
      "Epoch: 316 Iteration: 28200. Train_MSE: 0.00026608441839925945. Test_MSE: 0.00027523061185849633\n",
      "Epoch: 317 Iteration: 28300. Train_MSE: 0.0004535245825536549. Test_MSE: 0.0002749752404818933\n",
      "Epoch: 319 Iteration: 28400. Train_MSE: 0.0003406538744457066. Test_MSE: 0.0002739845184760831\n",
      "Epoch: 320 Iteration: 28500. Train_MSE: 0.0002364237589063123. Test_MSE: 0.00027378222802210063\n",
      "Epoch: 321 Iteration: 28600. Train_MSE: 0.00021929232752881944. Test_MSE: 0.0002736812335005738\n",
      "Epoch: 322 Iteration: 28700. Train_MSE: 0.00048431678442284465. Test_MSE: 0.0002734547848006729\n",
      "Epoch: 323 Iteration: 28800. Train_MSE: 0.0003578845353331417. Test_MSE: 0.0002733437674569652\n",
      "Epoch: 324 Iteration: 28900. Train_MSE: 0.0002669133828021586. Test_MSE: 0.00027314057624801594\n",
      "Epoch: 325 Iteration: 29000. Train_MSE: 0.00018081406597048044. Test_MSE: 0.0002726483333900891\n",
      "Epoch: 326 Iteration: 29100. Train_MSE: 0.0003408344055060297. Test_MSE: 0.0002724217976760341\n",
      "Epoch: 328 Iteration: 29200. Train_MSE: 0.00023084439453668892. Test_MSE: 0.0002715250076521787\n",
      "Epoch: 329 Iteration: 29300. Train_MSE: 0.000796944135800004. Test_MSE: 0.0002712222512143076\n",
      "Epoch: 330 Iteration: 29400. Train_MSE: 0.0003252887399867177. Test_MSE: 0.00027107236264335444\n",
      "Epoch: 331 Iteration: 29500. Train_MSE: 0.0003248135035391897. Test_MSE: 0.0002709007859290594\n",
      "Epoch: 332 Iteration: 29600. Train_MSE: 0.00037695985520258546. Test_MSE: 0.00027078215332501806\n",
      "Epoch: 333 Iteration: 29700. Train_MSE: 0.0010883631184697151. Test_MSE: 0.000270675941654132\n",
      "Epoch: 334 Iteration: 29800. Train_MSE: 0.00014294436550699174. Test_MSE: 0.0002701462081000821\n",
      "Epoch: 335 Iteration: 29900. Train_MSE: 0.0004578260995913297. Test_MSE: 0.00026979135185116546\n",
      "Epoch: 337 Iteration: 30000. Train_MSE: 0.0003219973004888743. Test_MSE: 0.0002691051952935276\n",
      "Epoch: 338 Iteration: 30100. Train_MSE: 0.0002680003526620567. Test_MSE: 0.00026876355968765873\n",
      "Epoch: 339 Iteration: 30200. Train_MSE: 0.00017655959527473897. Test_MSE: 0.00026853168755115893\n",
      "Epoch: 340 Iteration: 30300. Train_MSE: 0.00034861848689615726. Test_MSE: 0.0002684038875545102\n",
      "Epoch: 341 Iteration: 30400. Train_MSE: 0.00028461095644161105. Test_MSE: 0.0002682428403759426\n",
      "Epoch: 342 Iteration: 30500. Train_MSE: 0.00034922047052532434. Test_MSE: 0.0002682932028633096\n",
      "Epoch: 343 Iteration: 30600. Train_MSE: 0.000139736250275746. Test_MSE: 0.00026773458790353997\n",
      "Epoch: 344 Iteration: 30700. Train_MSE: 0.00032530282624065876. Test_MSE: 0.0002672305238355453\n",
      "Epoch: 346 Iteration: 30800. Train_MSE: 0.00041210572817362845. Test_MSE: 0.00026672710753000256\n",
      "Epoch: 347 Iteration: 30900. Train_MSE: 0.002608979120850563. Test_MSE: 0.00026635379547920143\n",
      "Epoch: 348 Iteration: 31000. Train_MSE: 0.00012364557187538594. Test_MSE: 0.00026611646986673547\n",
      "Epoch: 349 Iteration: 31100. Train_MSE: 0.0006824504816904664. Test_MSE: 0.0002661465921464257\n",
      "Epoch: 350 Iteration: 31200. Train_MSE: 0.0006899309810250998. Test_MSE: 0.00026575334902014354\n",
      "Epoch: 351 Iteration: 31300. Train_MSE: 0.0004639419203158468. Test_MSE: 0.00026589599588951055\n",
      "Epoch: 352 Iteration: 31400. Train_MSE: 0.0009110900573432446. Test_MSE: 0.00026540581497041843\n",
      "Epoch: 353 Iteration: 31500. Train_MSE: 0.00022278372489381582. Test_MSE: 0.0002648803627061078\n",
      "Epoch: 355 Iteration: 31600. Train_MSE: 0.0004976765485480428. Test_MSE: 0.0002644577500686887\n",
      "Epoch: 356 Iteration: 31700. Train_MSE: 0.0014975758967921138. Test_MSE: 0.00026417861132850914\n",
      "Epoch: 357 Iteration: 31800. Train_MSE: 0.00012421411520335823. Test_MSE: 0.00026382476196703565\n",
      "Epoch: 358 Iteration: 31900. Train_MSE: 0.0003009888459928334. Test_MSE: 0.00026393759009295644\n",
      "Epoch: 359 Iteration: 32000. Train_MSE: 0.0005621237796731293. Test_MSE: 0.0002633595702010823\n",
      "Epoch: 360 Iteration: 32100. Train_MSE: 0.00032165381708182395. Test_MSE: 0.00026364895932965484\n",
      "Epoch: 361 Iteration: 32200. Train_MSE: 0.007535281125456095. Test_MSE: 0.00026316463232690436\n",
      "Epoch: 362 Iteration: 32300. Train_MSE: 0.00029495370108634233. Test_MSE: 0.00026272144989219516\n",
      "Epoch: 364 Iteration: 32400. Train_MSE: 0.0006931417156010866. Test_MSE: 0.00026236715130072954\n",
      "Epoch: 365 Iteration: 32500. Train_MSE: 0.0002020800457103178. Test_MSE: 0.00026201516289883547\n",
      "Epoch: 366 Iteration: 32600. Train_MSE: 0.01311684399843216. Test_MSE: 0.0002615913209194714\n",
      "Epoch: 367 Iteration: 32700. Train_MSE: 0.00016561687516514212. Test_MSE: 0.0002616753434447678\n",
      "Epoch: 368 Iteration: 32800. Train_MSE: 0.0004464088997337967. Test_MSE: 0.0002610986813899076\n",
      "Epoch: 369 Iteration: 32900. Train_MSE: 0.00020338190370239317. Test_MSE: 0.00026150147175105\n",
      "Epoch: 370 Iteration: 33000. Train_MSE: 0.001035187509842217. Test_MSE: 0.00026109325661670646\n",
      "Epoch: 371 Iteration: 33100. Train_MSE: 0.00018177142192143947. Test_MSE: 0.0002605998244513731\n",
      "Epoch: 373 Iteration: 33200. Train_MSE: 0.0004012421995867044. Test_MSE: 0.0002603201265006265\n",
      "Epoch: 374 Iteration: 33300. Train_MSE: 0.0003438662097323686. Test_MSE: 0.0002597847613199161\n",
      "Epoch: 375 Iteration: 33400. Train_MSE: 0.0014600950526073575. Test_MSE: 0.00025957451937678707\n",
      "Epoch: 376 Iteration: 33500. Train_MSE: 0.000168052691151388. Test_MSE: 0.00025954191494901153\n",
      "Epoch: 377 Iteration: 33600. Train_MSE: 0.0005323703517206013. Test_MSE: 0.00025899258044477465\n",
      "Epoch: 378 Iteration: 33700. Train_MSE: 0.00023557549866382033. Test_MSE: 0.00025934483072290616\n",
      "Epoch: 379 Iteration: 33800. Train_MSE: 0.000741761177778244. Test_MSE: 0.0002589758737537545\n",
      "Epoch: 380 Iteration: 33900. Train_MSE: 0.0001852674613473937. Test_MSE: 0.0002584205058323784\n",
      "Epoch: 382 Iteration: 34000. Train_MSE: 0.0004915107856504619. Test_MSE: 0.0002582339615217669\n",
      "Epoch: 383 Iteration: 34100. Train_MSE: 0.0002983098092954606. Test_MSE: 0.00025772503019654296\n",
      "Epoch: 384 Iteration: 34200. Train_MSE: 0.00039332115557044744. Test_MSE: 0.0002574785958993892\n",
      "Epoch: 385 Iteration: 34300. Train_MSE: 0.0002479554386809468. Test_MSE: 0.00025744242248477354\n",
      "Epoch: 386 Iteration: 34400. Train_MSE: 0.0007754857069812715. Test_MSE: 0.0002570777542566315\n",
      "Epoch: 387 Iteration: 34500. Train_MSE: 0.00041602380224503577. Test_MSE: 0.000257229876370181\n",
      "Epoch: 388 Iteration: 34600. Train_MSE: 0.00046221993397921324. Test_MSE: 0.000256898555487403\n",
      "Epoch: 389 Iteration: 34700. Train_MSE: 0.00013318279525265098. Test_MSE: 0.0002563711312056049\n",
      "Epoch: 391 Iteration: 34800. Train_MSE: 0.0008922144770622253. Test_MSE: 0.0002562218942911894\n"
     ]
    },
    {
     "name": "stdout",
     "output_type": "stream",
     "text": [
      "Epoch: 392 Iteration: 34900. Train_MSE: 0.0003042116295546293. Test_MSE: 0.00025568541003048614\n",
      "Epoch: 393 Iteration: 35000. Train_MSE: 0.00035538733936846256. Test_MSE: 0.00025542496833603915\n",
      "Epoch: 394 Iteration: 35100. Train_MSE: 0.00018732622265815735. Test_MSE: 0.0002553892384459676\n",
      "Epoch: 395 Iteration: 35200. Train_MSE: 0.0005115021485835314. Test_MSE: 0.00025510153321862034\n",
      "Epoch: 396 Iteration: 35300. Train_MSE: 0.00033169297967106104. Test_MSE: 0.00025510529806983817\n",
      "Epoch: 397 Iteration: 35400. Train_MSE: 0.0009520008461549878. Test_MSE: 0.000254905620900705\n",
      "Epoch: 398 Iteration: 35500. Train_MSE: 0.0002084491279674694. Test_MSE: 0.00025438700557241966\n",
      "Epoch: 399 Iteration: 35600. Train_MSE: 0.00031422849860973656. Test_MSE: 0.00025417026320340033\n",
      "Epoch: 401 Iteration: 35700. Train_MSE: 0.00027733546448871493. Test_MSE: 0.00025362788381405723\n",
      "Epoch: 402 Iteration: 35800. Train_MSE: 0.0002737735921982676. Test_MSE: 0.00025342002441921646\n",
      "Epoch: 403 Iteration: 35900. Train_MSE: 0.000848416006192565. Test_MSE: 0.0002533523593670293\n",
      "Epoch: 404 Iteration: 36000. Train_MSE: 0.0003711465687956661. Test_MSE: 0.0002531196052234098\n",
      "Epoch: 405 Iteration: 36100. Train_MSE: 0.0003304388665128499. Test_MSE: 0.00025321562131976245\n",
      "Epoch: 406 Iteration: 36200. Train_MSE: 0.0002821647794917226. Test_MSE: 0.00025298634601892995\n",
      "Epoch: 407 Iteration: 36300. Train_MSE: 0.00018789817113429308. Test_MSE: 0.000252398608511157\n",
      "Epoch: 408 Iteration: 36400. Train_MSE: 0.0003692776372190565. Test_MSE: 0.000252218739257119\n",
      "Epoch: 410 Iteration: 36500. Train_MSE: 0.00030264005181379616. Test_MSE: 0.0002515735951743456\n",
      "Epoch: 411 Iteration: 36600. Train_MSE: 0.00019197625806555152. Test_MSE: 0.0002514195041254364\n",
      "Epoch: 412 Iteration: 36700. Train_MSE: 0.0002069926995318383. Test_MSE: 0.0002513620815772881\n",
      "Epoch: 413 Iteration: 36800. Train_MSE: 0.0006813050713390112. Test_MSE: 0.0002512015015217259\n",
      "Epoch: 414 Iteration: 36900. Train_MSE: 0.00028012934490107. Test_MSE: 0.00025123745370506854\n",
      "Epoch: 415 Iteration: 37000. Train_MSE: 0.0003637098125182092. Test_MSE: 0.0002510397109465641\n",
      "Epoch: 416 Iteration: 37100. Train_MSE: 0.00024162832414731383. Test_MSE: 0.0002504962720953469\n",
      "Epoch: 417 Iteration: 37200. Train_MSE: 0.00036736155743710697. Test_MSE: 0.00025035666956938304\n",
      "Epoch: 419 Iteration: 37300. Train_MSE: 0.00028404014301486313. Test_MSE: 0.0002496612811423664\n",
      "Epoch: 420 Iteration: 37400. Train_MSE: 0.0002232580300187692. Test_MSE: 0.0002494926981426921\n",
      "Epoch: 421 Iteration: 37500. Train_MSE: 0.00020149895863141865. Test_MSE: 0.0002493861072604428\n",
      "Epoch: 422 Iteration: 37600. Train_MSE: 0.00039113895036280155. Test_MSE: 0.000249240083410017\n",
      "Epoch: 423 Iteration: 37700. Train_MSE: 0.00028892685077153146. Test_MSE: 0.00024927391854115297\n",
      "Epoch: 424 Iteration: 37800. Train_MSE: 0.00026108612655662. Test_MSE: 0.00024911287515497785\n",
      "Epoch: 425 Iteration: 37900. Train_MSE: 0.00016506522661074996. Test_MSE: 0.0002486303417204241\n",
      "Epoch: 426 Iteration: 38000. Train_MSE: 0.0002877436054404825. Test_MSE: 0.0002484904196729187\n",
      "Epoch: 428 Iteration: 38100. Train_MSE: 0.00019786815391853452. Test_MSE: 0.00024786876243529176\n",
      "Epoch: 429 Iteration: 38200. Train_MSE: 0.0007899358170107007. Test_MSE: 0.00024761439956167666\n",
      "Epoch: 430 Iteration: 38300. Train_MSE: 0.00029335106955841184. Test_MSE: 0.00024746005161752077\n",
      "Epoch: 431 Iteration: 38400. Train_MSE: 0.0002698127063922584. Test_MSE: 0.00024735542174353576\n",
      "Epoch: 432 Iteration: 38500. Train_MSE: 0.00032129063038155437. Test_MSE: 0.0002473763381864347\n",
      "Epoch: 433 Iteration: 38600. Train_MSE: 0.0010894923470914364. Test_MSE: 0.00024731138685007016\n",
      "Epoch: 434 Iteration: 38700. Train_MSE: 0.00013155573105905205. Test_MSE: 0.0002467919338606229\n",
      "Epoch: 435 Iteration: 38800. Train_MSE: 0.00038378871977329254. Test_MSE: 0.00024652603193382766\n",
      "Epoch: 437 Iteration: 38900. Train_MSE: 0.0002616194833535701. Test_MSE: 0.0002460827404499609\n",
      "Epoch: 438 Iteration: 39000. Train_MSE: 0.0002613407850731164. Test_MSE: 0.0002457971666365234\n",
      "Epoch: 439 Iteration: 39100. Train_MSE: 0.0001579747477080673. Test_MSE: 0.00024556874764771256\n",
      "Epoch: 440 Iteration: 39200. Train_MSE: 0.0002835082123056054. Test_MSE: 0.0002454913708335289\n",
      "Epoch: 441 Iteration: 39300. Train_MSE: 0.0002564215974416584. Test_MSE: 0.000245471545274227\n",
      "Epoch: 442 Iteration: 39400. Train_MSE: 0.0003316194051876664. Test_MSE: 0.00024555862090347544\n",
      "Epoch: 443 Iteration: 39500. Train_MSE: 0.00013254795339889824. Test_MSE: 0.00024501046884088917\n",
      "Epoch: 444 Iteration: 39600. Train_MSE: 0.0002624213811941445. Test_MSE: 0.00024460168853329754\n",
      "Epoch: 446 Iteration: 39700. Train_MSE: 0.00033109751529991627. Test_MSE: 0.0002443035562223667\n",
      "Epoch: 447 Iteration: 39800. Train_MSE: 0.0026070738676935434. Test_MSE: 0.00024399600779057503\n",
      "Epoch: 448 Iteration: 39900. Train_MSE: 0.00011252915282966569. Test_MSE: 0.00024376736028317684\n",
      "Epoch: 449 Iteration: 40000. Train_MSE: 0.0006419880664907396. Test_MSE: 0.0002438219427686962\n",
      "Epoch: 450 Iteration: 40100. Train_MSE: 0.0005895884241908789. Test_MSE: 0.0002435852860788691\n",
      "Epoch: 451 Iteration: 40200. Train_MSE: 0.000450486404588446. Test_MSE: 0.0002437573709623261\n",
      "Epoch: 452 Iteration: 40300. Train_MSE: 0.0009115886641666293. Test_MSE: 0.00024327060864518806\n",
      "Epoch: 453 Iteration: 40400. Train_MSE: 0.00018535676645115018. Test_MSE: 0.0002428304431833048\n",
      "Epoch: 455 Iteration: 40500. Train_MSE: 0.0003971830883529037. Test_MSE: 0.00024259224606725286\n",
      "Epoch: 456 Iteration: 40600. Train_MSE: 0.001490590162575245. Test_MSE: 0.00024237675059820274\n",
      "Epoch: 457 Iteration: 40700. Train_MSE: 0.00010913946607615799. Test_MSE: 0.00024204133072444956\n",
      "Epoch: 458 Iteration: 40800. Train_MSE: 0.0002676748554222286. Test_MSE: 0.0002421612636692755\n",
      "Epoch: 459 Iteration: 40900. Train_MSE: 0.0004737662384286523. Test_MSE: 0.00024173950572403758\n",
      "Epoch: 460 Iteration: 41000. Train_MSE: 0.00028673524502664804. Test_MSE: 0.00024205851153565148\n",
      "Epoch: 461 Iteration: 41100. Train_MSE: 0.00755675183609128. Test_MSE: 0.0002415852861499296\n",
      "Epoch: 462 Iteration: 41200. Train_MSE: 0.00024414854124188423. Test_MSE: 0.00024120463503756262\n",
      "Epoch: 464 Iteration: 41300. Train_MSE: 0.0005657908041030169. Test_MSE: 0.00024101556664261266\n",
      "Epoch: 465 Iteration: 41400. Train_MSE: 0.0001797119330149144. Test_MSE: 0.00024074585035332833\n",
      "Epoch: 466 Iteration: 41500. Train_MSE: 0.013173257000744343. Test_MSE: 0.00024034862646591174\n",
      "Epoch: 467 Iteration: 41600. Train_MSE: 0.0001409774413332343. Test_MSE: 0.00024044074489671597\n",
      "Epoch: 468 Iteration: 41700. Train_MSE: 0.00035506952553987503. Test_MSE: 0.0002400045651485892\n",
      "Epoch: 469 Iteration: 41800. Train_MSE: 0.0001843941572587937. Test_MSE: 0.00024044003208292922\n",
      "Epoch: 470 Iteration: 41900. Train_MSE: 0.0010451903799548745. Test_MSE: 0.00024005023677925032\n",
      "Epoch: 471 Iteration: 42000. Train_MSE: 0.000164885597769171. Test_MSE: 0.00023961555946219788\n",
      "Epoch: 473 Iteration: 42100. Train_MSE: 0.0003404249146115035. Test_MSE: 0.00023947805369023653\n",
      "Epoch: 474 Iteration: 42200. Train_MSE: 0.0003058775619138032. Test_MSE: 0.00023905452430665478\n",
      "Epoch: 475 Iteration: 42300. Train_MSE: 0.0014672671677544713. Test_MSE: 0.00023887088850226026\n",
      "Epoch: 476 Iteration: 42400. Train_MSE: 0.00014681098400615156. Test_MSE: 0.00023884978231827105\n",
      "Epoch: 477 Iteration: 42500. Train_MSE: 0.00043918713345192373. Test_MSE: 0.00023843233874140592\n",
      "Epoch: 478 Iteration: 42600. Train_MSE: 0.00020105578005313873. Test_MSE: 0.00023882732025738544\n",
      "Epoch: 479 Iteration: 42700. Train_MSE: 0.00074615771882236. Test_MSE: 0.00023847641307014867\n",
      "Epoch: 480 Iteration: 42800. Train_MSE: 0.00016280272393487394. Test_MSE: 0.0002379739166672457\n",
      "Epoch: 482 Iteration: 42900. Train_MSE: 0.00040895899292081594. Test_MSE: 0.00023791278679072346\n",
      "Epoch: 483 Iteration: 43000. Train_MSE: 0.00028277916135266423. Test_MSE: 0.00023751756423806152\n",
      "Epoch: 484 Iteration: 43100. Train_MSE: 0.00039417107473127544. Test_MSE: 0.00023730315657960395\n",
      "Epoch: 485 Iteration: 43200. Train_MSE: 0.0002192749088862911. Test_MSE: 0.00023727343396627725\n",
      "Epoch: 486 Iteration: 43300. Train_MSE: 0.0006582231144420803. Test_MSE: 0.00023700603559414818\n",
      "Epoch: 487 Iteration: 43400. Train_MSE: 0.00036716353497467935. Test_MSE: 0.00023722700963476424\n"
     ]
    },
    {
     "name": "stdout",
     "output_type": "stream",
     "text": [
      "Epoch: 488 Iteration: 43500. Train_MSE: 0.00046811430365778506. Test_MSE: 0.0002369146290825015\n",
      "Epoch: 489 Iteration: 43600. Train_MSE: 0.00011839758371934295. Test_MSE: 0.00023642714178030095\n",
      "Epoch: 491 Iteration: 43700. Train_MSE: 0.0007665763841941953. Test_MSE: 0.00023638451849622197\n",
      "Epoch: 492 Iteration: 43800. Train_MSE: 0.0002632264222484082. Test_MSE: 0.00023597603407185324\n",
      "Epoch: 493 Iteration: 43900. Train_MSE: 0.00035376398591324687. Test_MSE: 0.00023574705648253316\n",
      "Epoch: 494 Iteration: 44000. Train_MSE: 0.0001618632668396458. Test_MSE: 0.00023571143055916107\n",
      "Epoch: 495 Iteration: 44100. Train_MSE: 0.0004308614879846573. Test_MSE: 0.0002355091784894534\n",
      "Epoch: 496 Iteration: 44200. Train_MSE: 0.00029846024699509144. Test_MSE: 0.00023559646353766357\n",
      "Epoch: 497 Iteration: 44300. Train_MSE: 0.0009442149894312024. Test_MSE: 0.00023540758892402817\n",
      "Epoch: 498 Iteration: 44400. Train_MSE: 0.0002017119841184467. Test_MSE: 0.00023491663017372887\n",
      "Epoch: 499 Iteration: 44500. Train_MSE: 0.00026183752925135195. Test_MSE: 0.00023479696321352143\n",
      "Epoch: 501 Iteration: 44600. Train_MSE: 0.0002485664444975555. Test_MSE: 0.00023438883007712244\n",
      "Epoch: 502 Iteration: 44700. Train_MSE: 0.0002618933795019984. Test_MSE: 0.00023421103539244552\n",
      "Epoch: 503 Iteration: 44800. Train_MSE: 0.0008304677321575582. Test_MSE: 0.00023414486275364637\n",
      "Epoch: 504 Iteration: 44900. Train_MSE: 0.0003091110847890377. Test_MSE: 0.00023398440760288709\n",
      "Epoch: 505 Iteration: 45000. Train_MSE: 0.0002949036716017872. Test_MSE: 0.00023415377063578546\n",
      "Epoch: 506 Iteration: 45100. Train_MSE: 0.0002609466901049018. Test_MSE: 0.00023394596990341967\n",
      "Epoch: 507 Iteration: 45200. Train_MSE: 0.00016879168106243014. Test_MSE: 0.00023338629767725443\n",
      "Epoch: 508 Iteration: 45300. Train_MSE: 0.00029690947849303484. Test_MSE: 0.00023329850453384998\n",
      "Epoch: 510 Iteration: 45400. Train_MSE: 0.0002576933184172958. Test_MSE: 0.0002328012227458726\n",
      "Epoch: 511 Iteration: 45500. Train_MSE: 0.0001826294173952192. Test_MSE: 0.00023267542981340633\n",
      "Epoch: 512 Iteration: 45600. Train_MSE: 0.0001945191470440477. Test_MSE: 0.00023262922776259796\n",
      "Epoch: 513 Iteration: 45700. Train_MSE: 0.0005732484860345721. Test_MSE: 0.00023252789582998106\n",
      "Epoch: 514 Iteration: 45800. Train_MSE: 0.0002438713563606143. Test_MSE: 0.00023264660325646657\n",
      "Epoch: 515 Iteration: 45900. Train_MSE: 0.00034781041904352605. Test_MSE: 0.00023247607963242\n",
      "Epoch: 516 Iteration: 46000. Train_MSE: 0.0002224605850642547. Test_MSE: 0.00023195535713839332\n",
      "Epoch: 517 Iteration: 46100. Train_MSE: 0.00030692043947055936. Test_MSE: 0.0002318894472549026\n",
      "Epoch: 519 Iteration: 46200. Train_MSE: 0.000246719631832093. Test_MSE: 0.00023135216234968975\n",
      "Epoch: 520 Iteration: 46300. Train_MSE: 0.0002161688171327114. Test_MSE: 0.00023121032262585274\n",
      "Epoch: 521 Iteration: 46400. Train_MSE: 0.00019056902965530753. Test_MSE: 0.00023111826796544307\n",
      "Epoch: 522 Iteration: 46500. Train_MSE: 0.0003281587269157171. Test_MSE: 0.0002310219703768866\n",
      "Epoch: 523 Iteration: 46600. Train_MSE: 0.0002427708968752995. Test_MSE: 0.0002311348406499426\n",
      "Epoch: 524 Iteration: 46700. Train_MSE: 0.0002583599998615682. Test_MSE: 0.00023100493463898124\n",
      "Epoch: 525 Iteration: 46800. Train_MSE: 0.00015502261521760374. Test_MSE: 0.00023054102226478004\n",
      "Epoch: 526 Iteration: 46900. Train_MSE: 0.0002496607485227287. Test_MSE: 0.0002304606134856122\n",
      "Epoch: 528 Iteration: 47000. Train_MSE: 0.00017780219786800444. Test_MSE: 0.00022999147651814618\n",
      "Epoch: 529 Iteration: 47100. Train_MSE: 0.0007874522125348449. Test_MSE: 0.00022977000385060207\n",
      "Epoch: 530 Iteration: 47200. Train_MSE: 0.00026962856645695865. Test_MSE: 0.00022963108065563123\n",
      "Epoch: 531 Iteration: 47300. Train_MSE: 0.00023510986648034304. Test_MSE: 0.00022957201847534963\n",
      "Epoch: 532 Iteration: 47400. Train_MSE: 0.0002824690891429782. Test_MSE: 0.00022966960689649535\n",
      "Epoch: 533 Iteration: 47500. Train_MSE: 0.0010921097127720714. Test_MSE: 0.00022963648119621525\n",
      "Epoch: 534 Iteration: 47600. Train_MSE: 0.0001231314381584525. Test_MSE: 0.00022913553517972423\n",
      "Epoch: 535 Iteration: 47700. Train_MSE: 0.00033115301630459726. Test_MSE: 0.00022893104024333217\n",
      "Epoch: 537 Iteration: 47800. Train_MSE: 0.0002234857383882627. Test_MSE: 0.00022862660341003708\n",
      "Epoch: 538 Iteration: 47900. Train_MSE: 0.00025808988721109927. Test_MSE: 0.00022837650180587517\n",
      "Epoch: 539 Iteration: 48000. Train_MSE: 0.00014674295380245894. Test_MSE: 0.00022816489219151847\n",
      "Epoch: 540 Iteration: 48100. Train_MSE: 0.0002366251719649881. Test_MSE: 0.00022812287983841752\n",
      "Epoch: 541 Iteration: 48200. Train_MSE: 0.00023817269538994879. Test_MSE: 0.00022818436492961862\n",
      "Epoch: 542 Iteration: 48300. Train_MSE: 0.00032077234936878085. Test_MSE: 0.000228299459657323\n",
      "Epoch: 543 Iteration: 48400. Train_MSE: 0.00012795577640645206. Test_MSE: 0.00022776777617946082\n",
      "Epoch: 544 Iteration: 48500. Train_MSE: 0.0002202880714321509. Test_MSE: 0.00022742660045091666\n",
      "Epoch: 546 Iteration: 48600. Train_MSE: 0.0002763198863249272. Test_MSE: 0.0002272512065170403\n",
      "Epoch: 547 Iteration: 48700. Train_MSE: 0.0026051392778754234. Test_MSE: 0.00022698314233514656\n",
      "Epoch: 548 Iteration: 48800. Train_MSE: 0.00010552455933066085. Test_MSE: 0.00022677497394049152\n",
      "Epoch: 549 Iteration: 48900. Train_MSE: 0.0006169589469209313. Test_MSE: 0.0002268514433232817\n",
      "Epoch: 550 Iteration: 49000. Train_MSE: 0.0005169257055968046. Test_MSE: 0.00022670710867081801\n",
      "Epoch: 551 Iteration: 49100. Train_MSE: 0.00044287630589678884. Test_MSE: 0.00022690440145694957\n",
      "Epoch: 552 Iteration: 49200. Train_MSE: 0.0009142623748630285. Test_MSE: 0.00022643036004520894\n",
      "Epoch: 553 Iteration: 49300. Train_MSE: 0.0001614151697140187. Test_MSE: 0.000226054953112872\n",
      "Epoch: 555 Iteration: 49400. Train_MSE: 0.0003323498822283. Test_MSE: 0.0002259303348681893\n",
      "Epoch: 556 Iteration: 49500. Train_MSE: 0.001485251821577549. Test_MSE: 0.00022575393601693514\n",
      "Epoch: 557 Iteration: 49600. Train_MSE: 0.00010043117072200403. Test_MSE: 0.0002254445706210487\n",
      "Epoch: 558 Iteration: 49700. Train_MSE: 0.00024546365602873266. Test_MSE: 0.0002255776142559206\n",
      "Epoch: 559 Iteration: 49800. Train_MSE: 0.0004033902660012245. Test_MSE: 0.00022525063629683613\n",
      "Epoch: 560 Iteration: 49900. Train_MSE: 0.0002622917527332902. Test_MSE: 0.00022559317486141035\n",
      "Epoch: 561 Iteration: 50000. Train_MSE: 0.0075696296989917755. Test_MSE: 0.00022513670483791708\n",
      "Epoch: 562 Iteration: 50100. Train_MSE: 0.00021024365560151637. Test_MSE: 0.0002248050866729701\n",
      "Epoch: 564 Iteration: 50200. Train_MSE: 0.0004721588338725269. Test_MSE: 0.00022471819334404084\n",
      "Epoch: 565 Iteration: 50300. Train_MSE: 0.00016562313248869032. Test_MSE: 0.0002244942840736736\n",
      "Epoch: 566 Iteration: 50400. Train_MSE: 0.013210620731115341. Test_MSE: 0.0002241248468344752\n",
      "Epoch: 567 Iteration: 50500. Train_MSE: 0.0001252941437996924. Test_MSE: 0.00022422936330768827\n",
      "Epoch: 568 Iteration: 50600. Train_MSE: 0.00029298654408194125. Test_MSE: 0.00022387592722654124\n",
      "Epoch: 569 Iteration: 50700. Train_MSE: 0.0001722643501125276. Test_MSE: 0.00022433236796570572\n",
      "Epoch: 570 Iteration: 50800. Train_MSE: 0.0010522925294935703. Test_MSE: 0.00022395963146328818\n",
      "Epoch: 571 Iteration: 50900. Train_MSE: 0.00015127158258110285. Test_MSE: 0.00022356987901264066\n",
      "Epoch: 573 Iteration: 51000. Train_MSE: 0.0002935068914666772. Test_MSE: 0.00022351612359131364\n",
      "Epoch: 574 Iteration: 51100. Train_MSE: 0.00027853267965838313. Test_MSE: 0.00022315517467859424\n",
      "Epoch: 575 Iteration: 51200. Train_MSE: 0.0014730223920196295. Test_MSE: 0.00022299778955007295\n",
      "Epoch: 576 Iteration: 51300. Train_MSE: 0.000131713502923958. Test_MSE: 0.00022298934237997554\n",
      "Epoch: 577 Iteration: 51400. Train_MSE: 0.00037625987897627056. Test_MSE: 0.0002226462546111834\n",
      "Epoch: 578 Iteration: 51500. Train_MSE: 0.00017741821648087353. Test_MSE: 0.0002230643913483214\n",
      "Epoch: 579 Iteration: 51600. Train_MSE: 0.0007498353952541947. Test_MSE: 0.0002227298692594614\n",
      "Epoch: 580 Iteration: 51700. Train_MSE: 0.00014667026698589325. Test_MSE: 0.0002222691120573641\n",
      "Epoch: 582 Iteration: 51800. Train_MSE: 0.00035127386217936873. Test_MSE: 0.00022228340583832493\n",
      "Epoch: 583 Iteration: 51900. Train_MSE: 0.000269550655502826. Test_MSE: 0.00022195323585579992\n",
      "Epoch: 584 Iteration: 52000. Train_MSE: 0.0003951205580960959. Test_MSE: 0.00022176733066452584\n"
     ]
    },
    {
     "name": "stdout",
     "output_type": "stream",
     "text": [
      "Epoch: 585 Iteration: 52100. Train_MSE: 0.00019744347082450986. Test_MSE: 0.00022174719233369758\n",
      "Epoch: 586 Iteration: 52200. Train_MSE: 0.0005693503189831972. Test_MSE: 0.0002215327683015881\n",
      "Epoch: 587 Iteration: 52300. Train_MSE: 0.0003314116329420358. Test_MSE: 0.00022179523111539424\n",
      "Epoch: 588 Iteration: 52400. Train_MSE: 0.000472930638352409. Test_MSE: 0.00022149773224223958\n",
      "Epoch: 589 Iteration: 52500. Train_MSE: 0.00010819979797815904. Test_MSE: 0.00022104482300116694\n",
      "Epoch: 591 Iteration: 52600. Train_MSE: 0.0006743062403984368. Test_MSE: 0.00022106737311152028\n",
      "Epoch: 592 Iteration: 52700. Train_MSE: 0.00023339044128078967. Test_MSE: 0.0002207355087522281\n",
      "Epoch: 593 Iteration: 52800. Train_MSE: 0.0003536935255397111. Test_MSE: 0.0002205333937356195\n",
      "Epoch: 594 Iteration: 52900. Train_MSE: 0.00014483340783044696. Test_MSE: 0.00022050361045510564\n",
      "Epoch: 595 Iteration: 53000. Train_MSE: 0.0003706763673108071. Test_MSE: 0.00022034908635597874\n",
      "Epoch: 596 Iteration: 53100. Train_MSE: 0.00027593609411269426. Test_MSE: 0.0002204883139819181\n",
      "Epoch: 597 Iteration: 53200. Train_MSE: 0.0009399351547472179. Test_MSE: 0.0002203078880458606\n",
      "Epoch: 598 Iteration: 53300. Train_MSE: 0.00019719111151061952. Test_MSE: 0.0002198426652214073\n",
      "Epoch: 599 Iteration: 53400. Train_MSE: 0.00022571247245650738. Test_MSE: 0.00021978633562096627\n",
      "Epoch: 601 Iteration: 53500. Train_MSE: 0.0002285648661199957. Test_MSE: 0.00021945985012752545\n",
      "Epoch: 602 Iteration: 53600. Train_MSE: 0.00025452024419791996. Test_MSE: 0.00021930653698541135\n",
      "Epoch: 603 Iteration: 53700. Train_MSE: 0.0008187926723621786. Test_MSE: 0.00021924793100159775\n",
      "Epoch: 604 Iteration: 53800. Train_MSE: 0.0002646705543156713. Test_MSE: 0.0002191297718197741\n",
      "Epoch: 605 Iteration: 53900. Train_MSE: 0.00026787968818098307. Test_MSE: 0.00021934465786066108\n",
      "Epoch: 606 Iteration: 54000. Train_MSE: 0.0002463582204654813. Test_MSE: 0.00021915238618125117\n",
      "Epoch: 607 Iteration: 54100. Train_MSE: 0.0001569431769894436. Test_MSE: 0.00021861566712360781\n",
      "Epoch: 608 Iteration: 54200. Train_MSE: 0.0002456309739500284. Test_MSE: 0.000218585933218409\n",
      "Epoch: 610 Iteration: 54300. Train_MSE: 0.00022734356753062457. Test_MSE: 0.00021817777790576515\n",
      "Epoch: 611 Iteration: 54400. Train_MSE: 0.00017641257727518678. Test_MSE: 0.00021807019793728446\n",
      "Epoch: 612 Iteration: 54500. Train_MSE: 0.0001866822858573869. Test_MSE: 0.00021803414570301119\n",
      "Epoch: 613 Iteration: 54600. Train_MSE: 0.0004898636834695935. Test_MSE: 0.0002179624313436941\n",
      "Epoch: 614 Iteration: 54700. Train_MSE: 0.00021794233180116862. Test_MSE: 0.00021812725980712455\n",
      "Epoch: 615 Iteration: 54800. Train_MSE: 0.0003367880708537996. Test_MSE: 0.00021797264590611923\n",
      "Epoch: 616 Iteration: 54900. Train_MSE: 0.00020787831454072148. Test_MSE: 0.00021747124099748676\n",
      "Epoch: 617 Iteration: 55000. Train_MSE: 0.0002633287222124636. Test_MSE: 0.00021745228114621124\n",
      "Epoch: 619 Iteration: 55100. Train_MSE: 0.00021954985277261585. Test_MSE: 0.00021701419767384284\n",
      "Epoch: 620 Iteration: 55200. Train_MSE: 0.00021242478396743536. Test_MSE: 0.0002168898418330258\n",
      "Epoch: 621 Iteration: 55300. Train_MSE: 0.00018305184494238347. Test_MSE: 0.00021681138779776327\n",
      "Epoch: 622 Iteration: 55400. Train_MSE: 0.0002820631780195981. Test_MSE: 0.00021674431922984018\n",
      "Epoch: 623 Iteration: 55500. Train_MSE: 0.0002110029454343021. Test_MSE: 0.00021690127725896026\n",
      "Epoch: 624 Iteration: 55600. Train_MSE: 0.0002562933077570051. Test_MSE: 0.00021679152000245972\n",
      "Epoch: 625 Iteration: 55700. Train_MSE: 0.00014859187649562955. Test_MSE: 0.00021634514823654788\n",
      "Epoch: 626 Iteration: 55800. Train_MSE: 0.0002205575437983498. Test_MSE: 0.0002163034414673301\n",
      "Epoch: 628 Iteration: 55900. Train_MSE: 0.0001640998525545001. Test_MSE: 0.00021593155937703538\n",
      "Epoch: 629 Iteration: 56000. Train_MSE: 0.0007862177444621921. Test_MSE: 0.00021573084209664705\n",
      "Epoch: 630 Iteration: 56100. Train_MSE: 0.0002520967391319573. Test_MSE: 0.0002156056635589922\n",
      "Epoch: 631 Iteration: 56200. Train_MSE: 0.0002093919028993696. Test_MSE: 0.00021557482446230486\n",
      "Epoch: 632 Iteration: 56300. Train_MSE: 0.0002541749272495508. Test_MSE: 0.00021571290607329434\n",
      "Epoch: 633 Iteration: 56400. Train_MSE: 0.0010948902927339077. Test_MSE: 0.00021569803445754826\n",
      "Epoch: 634 Iteration: 56500. Train_MSE: 0.0001169809402199462. Test_MSE: 0.00021521293794108333\n",
      "Epoch: 635 Iteration: 56600. Train_MSE: 0.0002911645860876888. Test_MSE: 0.00021504962754962683\n",
      "Epoch: 637 Iteration: 56700. Train_MSE: 0.00019805310876108706. Test_MSE: 0.00021483259792234917\n",
      "Epoch: 638 Iteration: 56800. Train_MSE: 0.000256382510997355. Test_MSE: 0.00021460465802718013\n",
      "Epoch: 639 Iteration: 56900. Train_MSE: 0.0001397057785652578. Test_MSE: 0.00021440827150916923\n",
      "Epoch: 640 Iteration: 57000. Train_MSE: 0.00020085257710888982. Test_MSE: 0.00021438552627121935\n",
      "Epoch: 641 Iteration: 57100. Train_MSE: 0.00022436288418248296. Test_MSE: 0.0002144899564919105\n",
      "Epoch: 642 Iteration: 57200. Train_MSE: 0.00031369205680675805. Test_MSE: 0.00021461783497964086\n",
      "Epoch: 643 Iteration: 57300. Train_MSE: 0.00012468335626181215. Test_MSE: 0.00021409857517551303\n",
      "Epoch: 644 Iteration: 57400. Train_MSE: 0.0001904192176880315. Test_MSE: 0.000213803729591312\n",
      "Epoch: 646 Iteration: 57500. Train_MSE: 0.00023655877157580107. Test_MSE: 0.0002137019677685255\n",
      "Epoch: 647 Iteration: 57600. Train_MSE: 0.002602203516289592. Test_MSE: 0.00021345661885888013\n",
      "Epoch: 648 Iteration: 57700. Train_MSE: 0.00010125667904503644. Test_MSE: 0.00021326457327839742\n",
      "Epoch: 649 Iteration: 57800. Train_MSE: 0.0006000398425385356. Test_MSE: 0.00021335030356018768\n",
      "Epoch: 650 Iteration: 57900. Train_MSE: 0.00046141690108925104. Test_MSE: 0.00021325826532207176\n",
      "Epoch: 651 Iteration: 58000. Train_MSE: 0.00043859670404344797. Test_MSE: 0.00021346606435699084\n",
      "Epoch: 652 Iteration: 58100. Train_MSE: 0.000916775839868933. Test_MSE: 0.0002130007611453327\n",
      "Epoch: 653 Iteration: 58200. Train_MSE: 0.00014502597332466394. Test_MSE: 0.0002126718035351346\n",
      "Epoch: 655 Iteration: 58300. Train_MSE: 0.0002873290504794568. Test_MSE: 0.0002126163194110564\n",
      "Epoch: 656 Iteration: 58400. Train_MSE: 0.0014805819373577833. Test_MSE: 0.00021246003138531365\n",
      "Epoch: 657 Iteration: 58500. Train_MSE: 9.553223208058625e-05. Test_MSE: 0.00021216994271272216\n",
      "Epoch: 658 Iteration: 58600. Train_MSE: 0.00022900583280716091. Test_MSE: 0.00021230663655989117\n",
      "Epoch: 659 Iteration: 58700. Train_MSE: 0.0003494511474855244. Test_MSE: 0.0002120367066146162\n",
      "Epoch: 660 Iteration: 58800. Train_MSE: 0.0002443709527142346. Test_MSE: 0.0002123860694599154\n",
      "Epoch: 661 Iteration: 58900. Train_MSE: 0.007574944291263819. Test_MSE: 0.00021194130577864204\n",
      "Epoch: 662 Iteration: 59000. Train_MSE: 0.00018536038987804204. Test_MSE: 0.00021164583078614173\n",
      "Epoch: 664 Iteration: 59100. Train_MSE: 0.00040116949821822345. Test_MSE: 0.00021162182595036789\n",
      "Epoch: 665 Iteration: 59200. Train_MSE: 0.0001565236016176641. Test_MSE: 0.0002114249094939473\n",
      "Epoch: 666 Iteration: 59300. Train_MSE: 0.013232159428298473. Test_MSE: 0.00021107741817850942\n",
      "Epoch: 667 Iteration: 59400. Train_MSE: 0.00011491137411212549. Test_MSE: 0.00021118893546439484\n",
      "Epoch: 668 Iteration: 59500. Train_MSE: 0.0002487128658685833. Test_MSE: 0.00021088832754998256\n",
      "Epoch: 669 Iteration: 59600. Train_MSE: 0.000164623255841434. Test_MSE: 0.0002113487186659197\n",
      "Epoch: 670 Iteration: 59700. Train_MSE: 0.0010565518168732524. Test_MSE: 0.00021098959189064345\n",
      "Epoch: 671 Iteration: 59800. Train_MSE: 0.00014031761384103447. Test_MSE: 0.00021063415921782397\n",
      "Epoch: 673 Iteration: 59900. Train_MSE: 0.0002573633682914078. Test_MSE: 0.0002106318179500026\n",
      "Epoch: 674 Iteration: 60000. Train_MSE: 0.00025857004220597446. Test_MSE: 0.00021031049497767542\n",
      "Epoch: 675 Iteration: 60100. Train_MSE: 0.0014764510560780764. Test_MSE: 0.00021017358759157015\n",
      "Epoch: 676 Iteration: 60200. Train_MSE: 0.00012034460087306798. Test_MSE: 0.00021017321063095403\n",
      "Epoch: 677 Iteration: 60300. Train_MSE: 0.00033093590172939. Test_MSE: 0.0002098772340458347\n",
      "Epoch: 678 Iteration: 60400. Train_MSE: 0.0001606585137778893. Test_MSE: 0.00021030146131446818\n",
      "Epoch: 679 Iteration: 60500. Train_MSE: 0.000751911720726639. Test_MSE: 0.000209979963919101\n",
      "Epoch: 680 Iteration: 60600. Train_MSE: 0.00013485414092428982. Test_MSE: 0.0002095523389729014\n",
      "Epoch: 682 Iteration: 60700. Train_MSE: 0.00030648100073449314. Test_MSE: 0.00020961256814670137\n"
     ]
    },
    {
     "name": "stdout",
     "output_type": "stream",
     "text": [
      "Epoch: 683 Iteration: 60800. Train_MSE: 0.00025866119540296495. Test_MSE: 0.00020932502948953595\n",
      "Epoch: 684 Iteration: 60900. Train_MSE: 0.00039565935730934143. Test_MSE: 0.000209162316655757\n",
      "Epoch: 685 Iteration: 61000. Train_MSE: 0.00018120399909093976. Test_MSE: 0.00020914819299056936\n",
      "Epoch: 686 Iteration: 61100. Train_MSE: 0.0004985567065887153. Test_MSE: 0.00020896536508150428\n",
      "Epoch: 687 Iteration: 61200. Train_MSE: 0.00030392734333872795. Test_MSE: 0.000209249897646587\n",
      "Epoch: 688 Iteration: 61300. Train_MSE: 0.00047625438310205936. Test_MSE: 0.00020896418897095153\n",
      "Epoch: 689 Iteration: 61400. Train_MSE: 0.00010124627442564815. Test_MSE: 0.00020854065278969064\n",
      "Epoch: 691 Iteration: 61500. Train_MSE: 0.000603470194619149. Test_MSE: 0.00020860254599914252\n",
      "Epoch: 692 Iteration: 61600. Train_MSE: 0.00021086847118567675. Test_MSE: 0.0002083211962944433\n",
      "Epoch: 693 Iteration: 61700. Train_MSE: 0.00035382178612053394. Test_MSE: 0.00020814098230362502\n",
      "Epoch: 694 Iteration: 61800. Train_MSE: 0.0001327067584497854. Test_MSE: 0.00020811723358059387\n",
      "Epoch: 695 Iteration: 61900. Train_MSE: 0.0003252121387049556. Test_MSE: 0.00020799125089067811\n",
      "Epoch: 696 Iteration: 62000. Train_MSE: 0.00025854079285636544. Test_MSE: 0.0002081628563877138\n",
      "Epoch: 697 Iteration: 62100. Train_MSE: 0.0009374682558700442. Test_MSE: 0.00020798832792661155\n",
      "Epoch: 698 Iteration: 62200. Train_MSE: 0.00019336715922690928. Test_MSE: 0.00020754655026336232\n",
      "Epoch: 699 Iteration: 62300. Train_MSE: 0.00019847089424729347. Test_MSE: 0.000207531257061253\n",
      "Epoch: 701 Iteration: 62400. Train_MSE: 0.00021395132353063673. Test_MSE: 0.00020725856372471864\n",
      "Epoch: 702 Iteration: 62500. Train_MSE: 0.0002496358356438577. Test_MSE: 0.0002071241042725431\n",
      "Epoch: 703 Iteration: 62600. Train_MSE: 0.0008103451109491289. Test_MSE: 0.0002070726229231072\n",
      "Epoch: 704 Iteration: 62700. Train_MSE: 0.00023097549274098128. Test_MSE: 0.00020697899618581341\n",
      "Epoch: 705 Iteration: 62800. Train_MSE: 0.0002464170684106648. Test_MSE: 0.00020722000627486134\n",
      "Epoch: 706 Iteration: 62900. Train_MSE: 0.0002358216734137386. Test_MSE: 0.00020703884939025672\n",
      "Epoch: 707 Iteration: 63000. Train_MSE: 0.0001491167495260015. Test_MSE: 0.00020652423234571805\n",
      "Epoch: 708 Iteration: 63100. Train_MSE: 0.00020769292314071208. Test_MSE: 0.00020653307110443835\n",
      "Epoch: 710 Iteration: 63200. Train_MSE: 0.00020550120098050684. Test_MSE: 0.0002061865966534203\n",
      "Epoch: 711 Iteration: 63300. Train_MSE: 0.00017170865612570196. Test_MSE: 0.00020609375989755414\n",
      "Epoch: 712 Iteration: 63400. Train_MSE: 0.0001811089605325833. Test_MSE: 0.0002060675625798763\n",
      "Epoch: 713 Iteration: 63500. Train_MSE: 0.0004228376492392272. Test_MSE: 0.00020601128867674972\n",
      "Epoch: 714 Iteration: 63600. Train_MSE: 0.00019871402764692903. Test_MSE: 0.00020620154263258843\n",
      "Epoch: 715 Iteration: 63700. Train_MSE: 0.0003285711572971195. Test_MSE: 0.0002060562085898544\n",
      "Epoch: 716 Iteration: 63800. Train_MSE: 0.00019628775771707296. Test_MSE: 0.00020557213658490547\n",
      "Epoch: 717 Iteration: 63900. Train_MSE: 0.00022951545543037355. Test_MSE: 0.00020558084324963065\n",
      "Epoch: 719 Iteration: 64000. Train_MSE: 0.00019931429415009916. Test_MSE: 0.0002052088020285266\n",
      "Epoch: 720 Iteration: 64100. Train_MSE: 0.00021050049690529704. Test_MSE: 0.0002050943484903024\n",
      "Epoch: 721 Iteration: 64200. Train_MSE: 0.00017716189904604107. Test_MSE: 0.00020502531605424997\n",
      "Epoch: 722 Iteration: 64300. Train_MSE: 0.0002472373307682574. Test_MSE: 0.0002049725581866945\n",
      "Epoch: 723 Iteration: 64400. Train_MSE: 0.00018685482791624963. Test_MSE: 0.0002051517408688045\n",
      "Epoch: 724 Iteration: 64500. Train_MSE: 0.0002549502532929182. Test_MSE: 0.00020505347589426162\n",
      "Epoch: 725 Iteration: 64600. Train_MSE: 0.00014422310050576925. Test_MSE: 0.0002046212684585322\n",
      "Epoch: 726 Iteration: 64700. Train_MSE: 0.00019740467541851103. Test_MSE: 0.00020460144974598321\n",
      "Epoch: 728 Iteration: 64800. Train_MSE: 0.00015327337314374745. Test_MSE: 0.0002042941167337054\n",
      "Epoch: 729 Iteration: 64900. Train_MSE: 0.0007853430579416454. Test_MSE: 0.00020410555454621106\n",
      "Epoch: 730 Iteration: 65000. Train_MSE: 0.0002392026799498126. Test_MSE: 0.00020399115573672502\n",
      "Epoch: 731 Iteration: 65100. Train_MSE: 0.00018935710249934345. Test_MSE: 0.00020397529474710065\n",
      "Epoch: 732 Iteration: 65200. Train_MSE: 0.00023164313461165875. Test_MSE: 0.00020413419769588356\n",
      "Epoch: 733 Iteration: 65300. Train_MSE: 0.0010971113806590438. Test_MSE: 0.0002041290967211312\n",
      "Epoch: 734 Iteration: 65400. Train_MSE: 0.00011236689169891179. Test_MSE: 0.0002036582601440534\n",
      "Epoch: 735 Iteration: 65500. Train_MSE: 0.0002594989782664925. Test_MSE: 0.00020352123144320455\n",
      "Epoch: 737 Iteration: 65600. Train_MSE: 0.00018042938609141856. Test_MSE: 0.00020335983003438087\n",
      "Epoch: 738 Iteration: 65700. Train_MSE: 0.0002553938247729093. Test_MSE: 0.00020314548990992318\n",
      "Epoch: 739 Iteration: 65800. Train_MSE: 0.0001350526581518352. Test_MSE: 0.0002029609671213519\n",
      "Epoch: 740 Iteration: 65900. Train_MSE: 0.00017327061505056918. Test_MSE: 0.0002029489533512147\n",
      "Epoch: 741 Iteration: 66000. Train_MSE: 0.00021303164248820394. Test_MSE: 0.0002030798236980957\n",
      "Epoch: 742 Iteration: 66100. Train_MSE: 0.0003087577351834625. Test_MSE: 0.00020321344231700878\n",
      "Epoch: 743 Iteration: 66200. Train_MSE: 0.00012231477012392133. Test_MSE: 0.00020270617538162687\n",
      "Epoch: 744 Iteration: 66300. Train_MSE: 0.0001683636219240725. Test_MSE: 0.00020244405069181522\n",
      "Epoch: 746 Iteration: 66400. Train_MSE: 0.00020733078417833894. Test_MSE: 0.0002023882791951987\n",
      "Epoch: 747 Iteration: 66500. Train_MSE: 0.0025985809043049812. Test_MSE: 0.00020215752126132795\n",
      "Epoch: 748 Iteration: 66600. Train_MSE: 9.864952153293416e-05. Test_MSE: 0.00020197789973620204\n",
      "Epoch: 749 Iteration: 66700. Train_MSE: 0.0005881658871658146. Test_MSE: 0.00020206534594536927\n",
      "Epoch: 750 Iteration: 66800. Train_MSE: 0.0004181941330898553. Test_MSE: 0.000202005147699948\n",
      "Epoch: 751 Iteration: 66900. Train_MSE: 0.0004357293655630201. Test_MSE: 0.00020221461975177083\n",
      "Epoch: 752 Iteration: 67000. Train_MSE: 0.0009185480885207653. Test_MSE: 0.0002017575396506906\n",
      "Epoch: 753 Iteration: 67100. Train_MSE: 0.00013294025848153979. Test_MSE: 0.00020146277074455625\n",
      "Epoch: 755 Iteration: 67200. Train_MSE: 0.0002546528121456504. Test_MSE: 0.00020144927106727678\n",
      "Epoch: 756 Iteration: 67300. Train_MSE: 0.0014762590872123837. Test_MSE: 0.00020130497186575895\n",
      "Epoch: 757 Iteration: 67400. Train_MSE: 9.262165986001492e-05. Test_MSE: 0.00020103033143012674\n",
      "Epoch: 758 Iteration: 67500. Train_MSE: 0.00021590148389805108. Test_MSE: 0.00020116628391660699\n",
      "Epoch: 759 Iteration: 67600. Train_MSE: 0.00030624851933680475. Test_MSE: 0.0002009338973057985\n",
      "Epoch: 760 Iteration: 67700. Train_MSE: 0.00023051496827974916. Test_MSE: 0.00020128183840607142\n",
      "Epoch: 761 Iteration: 67800. Train_MSE: 0.007574986666440964. Test_MSE: 0.00020084720627620975\n",
      "Epoch: 762 Iteration: 67900. Train_MSE: 0.00016669607430230826. Test_MSE: 0.00020057842830657876\n",
      "Epoch: 764 Iteration: 68000. Train_MSE: 0.0003458215214777738. Test_MSE: 0.00020059290549018162\n",
      "Epoch: 765 Iteration: 68100. Train_MSE: 0.00015032746887300164. Test_MSE: 0.00020041332579238876\n",
      "Epoch: 766 Iteration: 68200. Train_MSE: 0.013241796754300594. Test_MSE: 0.0002000828979150377\n",
      "Epoch: 767 Iteration: 68300. Train_MSE: 0.00010725639731390402. Test_MSE: 0.00020019653366460752\n",
      "Epoch: 768 Iteration: 68400. Train_MSE: 0.000216097294469364. Test_MSE: 0.0001999306819650375\n",
      "Epoch: 769 Iteration: 68500. Train_MSE: 0.0001595408102730289. Test_MSE: 0.00020038645040056533\n",
      "Epoch: 770 Iteration: 68600. Train_MSE: 0.00105838174931705. Test_MSE: 0.00020003730753012276\n",
      "Epoch: 771 Iteration: 68700. Train_MSE: 0.0001314433029619977. Test_MSE: 0.00019970744765626108\n",
      "Epoch: 773 Iteration: 68800. Train_MSE: 0.00022910608095116913. Test_MSE: 0.00019973473821737614\n",
      "Epoch: 774 Iteration: 68900. Train_MSE: 0.00024271079746540636. Test_MSE: 0.00019943904695286484\n",
      "Epoch: 775 Iteration: 69000. Train_MSE: 0.0014778850600123405. Test_MSE: 0.00019931754072151914\n",
      "Epoch: 776 Iteration: 69100. Train_MSE: 0.00011160713620483875. Test_MSE: 0.0001993207368546902\n",
      "Epoch: 777 Iteration: 69200. Train_MSE: 0.0002968641056213528. Test_MSE: 0.00019905559995149922\n",
      "Epoch: 778 Iteration: 69300. Train_MSE: 0.00014861120143905282. Test_MSE: 0.0001994762471304316\n"
     ]
    },
    {
     "name": "stdout",
     "output_type": "stream",
     "text": [
      "Epoch: 779 Iteration: 69400. Train_MSE: 0.0007524489774368703. Test_MSE: 0.00019916361950282572\n",
      "Epoch: 780 Iteration: 69500. Train_MSE: 0.00012589170364663005. Test_MSE: 0.00019876044396446963\n",
      "Epoch: 782 Iteration: 69600. Train_MSE: 0.00027216083253733814. Test_MSE: 0.00019884522319668594\n",
      "Epoch: 783 Iteration: 69700. Train_MSE: 0.00024923161254264414. Test_MSE: 0.00019858533000664702\n",
      "Epoch: 784 Iteration: 69800. Train_MSE: 0.0003954858402721584. Test_MSE: 0.00019843932304635834\n",
      "Epoch: 785 Iteration: 69900. Train_MSE: 0.00016818962467368692. Test_MSE: 0.00019842691328605578\n",
      "Epoch: 786 Iteration: 70000. Train_MSE: 0.0004422384372446686. Test_MSE: 0.00019826209053732733\n",
      "Epoch: 787 Iteration: 70100. Train_MSE: 0.0002821585221681744. Test_MSE: 0.00019855546294690135\n",
      "Epoch: 788 Iteration: 70200. Train_MSE: 0.0004780630406457931. Test_MSE: 0.00019827655744588237\n",
      "Epoch: 789 Iteration: 70300. Train_MSE: 9.605797822587192e-05. Test_MSE: 0.0001978749247005347\n",
      "Epoch: 791 Iteration: 70400. Train_MSE: 0.0005457918159663677. Test_MSE: 0.000197956113625178\n",
      "Epoch: 792 Iteration: 70500. Train_MSE: 0.0001939880894497037. Test_MSE: 0.00019770758907980215\n",
      "Epoch: 793 Iteration: 70600. Train_MSE: 0.000353965355316177. Test_MSE: 0.0001975426163249061\n",
      "Epoch: 794 Iteration: 70700. Train_MSE: 0.00012389382754918188. Test_MSE: 0.000197520351964483\n",
      "Epoch: 795 Iteration: 70800. Train_MSE: 0.00029031350277364254. Test_MSE: 0.00019740679742906108\n",
      "Epoch: 796 Iteration: 70900. Train_MSE: 0.000244645110797137. Test_MSE: 0.0001975930292787608\n",
      "Epoch: 797 Iteration: 71000. Train_MSE: 0.0009359038667753339. Test_MSE: 0.00019741834583265872\n",
      "Epoch: 798 Iteration: 71100. Train_MSE: 0.00018972629914060235. Test_MSE: 0.00019699176952652566\n",
      "Epoch: 799 Iteration: 71200. Train_MSE: 0.00017724427743814886. Test_MSE: 0.0001969981469250102\n",
      "Epoch: 801 Iteration: 71300. Train_MSE: 0.00020271776884328574. Test_MSE: 0.0001967568191586931\n",
      "Epoch: 802 Iteration: 71400. Train_MSE: 0.00024610149557702243. Test_MSE: 0.0001966326934298011\n",
      "Epoch: 803 Iteration: 71500. Train_MSE: 0.0008043096167966723. Test_MSE: 0.0001965821575748269\n",
      "Epoch: 804 Iteration: 71600. Train_MSE: 0.0002047283633146435. Test_MSE: 0.0001964966570202008\n",
      "Epoch: 805 Iteration: 71700. Train_MSE: 0.00022845593048259616. Test_MSE: 0.00019674503468989306\n",
      "Epoch: 806 Iteration: 71800. Train_MSE: 0.00022799002181272954. Test_MSE: 0.0001965654108524004\n",
      "Epoch: 807 Iteration: 71900. Train_MSE: 0.00014350085984915495. Test_MSE: 0.00019606323468081778\n",
      "Epoch: 808 Iteration: 72000. Train_MSE: 0.00017881870735436678. Test_MSE: 0.0001960906861047089\n",
      "Epoch: 810 Iteration: 72100. Train_MSE: 0.00018918908608611673. Test_MSE: 0.00019578034938310982\n",
      "Epoch: 811 Iteration: 72200. Train_MSE: 0.00016783391765784472. Test_MSE: 0.00019569260644468844\n",
      "Epoch: 812 Iteration: 72300. Train_MSE: 0.00017674805712886155. Test_MSE: 0.00019566817317062888\n",
      "Epoch: 813 Iteration: 72400. Train_MSE: 0.0003699499648064375. Test_MSE: 0.000195617363344797\n",
      "Epoch: 814 Iteration: 72500. Train_MSE: 0.00018386280862614512. Test_MSE: 0.00019582125015585149\n",
      "Epoch: 815 Iteration: 72600. Train_MSE: 0.00032207227195613086. Test_MSE: 0.0001956812040789279\n",
      "Epoch: 816 Iteration: 72700. Train_MSE: 0.00018716564227361232. Test_MSE: 0.0001952106322764582\n",
      "Epoch: 817 Iteration: 72800. Train_MSE: 0.00020325201330706477. Test_MSE: 0.00019523529672653157\n",
      "Epoch: 819 Iteration: 72900. Train_MSE: 0.0001834863069234416. Test_MSE: 0.00019491002715568188\n",
      "Epoch: 820 Iteration: 73000. Train_MSE: 0.00020935684733558446. Test_MSE: 0.00019480142517144653\n",
      "Epoch: 821 Iteration: 73100. Train_MSE: 0.0001721446169540286. Test_MSE: 0.0001947385746581675\n",
      "Epoch: 822 Iteration: 73200. Train_MSE: 0.0002210170350736007. Test_MSE: 0.00019469471421991797\n",
      "Epoch: 823 Iteration: 73300. Train_MSE: 0.0001685106981312856. Test_MSE: 0.0001948859022988379\n",
      "Epoch: 824 Iteration: 73400. Train_MSE: 0.00025382827152498066. Test_MSE: 0.00019479564818702878\n",
      "Epoch: 825 Iteration: 73500. Train_MSE: 0.00014078181993681937. Test_MSE: 0.00019437602662404903\n",
      "Epoch: 826 Iteration: 73600. Train_MSE: 0.00017861436936073005. Test_MSE: 0.0001943692138111935\n",
      "Epoch: 828 Iteration: 73700. Train_MSE: 0.0001446992828277871. Test_MSE: 0.0001941094750324877\n",
      "Epoch: 829 Iteration: 73800. Train_MSE: 0.0007844482315704226. Test_MSE: 0.000193929235957453\n",
      "Epoch: 830 Iteration: 73900. Train_MSE: 0.00022924203949514776. Test_MSE: 0.00019382403021818003\n",
      "Epoch: 831 Iteration: 74000. Train_MSE: 0.0001734555553412065. Test_MSE: 0.00019381855779092354\n",
      "Epoch: 832 Iteration: 74100. Train_MSE: 0.00021326581190805882. Test_MSE: 0.00019398711438484617\n",
      "Epoch: 833 Iteration: 74200. Train_MSE: 0.001098809763789177. Test_MSE: 0.00019398679765520043\n",
      "Epoch: 834 Iteration: 74300. Train_MSE: 0.00010881828347919509. Test_MSE: 0.0001935264178802957\n",
      "Epoch: 835 Iteration: 74400. Train_MSE: 0.00023378783953376114. Test_MSE: 0.0001934053269284547\n",
      "Epoch: 837 Iteration: 74500. Train_MSE: 0.00016724306624382734. Test_MSE: 0.0001932836247343626\n",
      "Epoch: 838 Iteration: 74600. Train_MSE: 0.00025441686739213765. Test_MSE: 0.00019307794591374557\n",
      "Epoch: 839 Iteration: 74700. Train_MSE: 0.00013185915304347873. Test_MSE: 0.00019290328930750934\n",
      "Epoch: 840 Iteration: 74800. Train_MSE: 0.00015183966024778783. Test_MSE: 0.0001928975979719204\n",
      "Epoch: 841 Iteration: 74900. Train_MSE: 0.00020314601715654135. Test_MSE: 0.00019304219300805188\n",
      "Epoch: 842 Iteration: 75000. Train_MSE: 0.00030496538965962827. Test_MSE: 0.00019317672820503\n",
      "Epoch: 843 Iteration: 75100. Train_MSE: 0.000120454904390499. Test_MSE: 0.00019267907959652597\n",
      "Epoch: 844 Iteration: 75200. Train_MSE: 0.0001513674360467121. Test_MSE: 0.0001924406283189612\n",
      "Epoch: 846 Iteration: 75300. Train_MSE: 0.00018484995234757662. Test_MSE: 0.0001924183786287693\n",
      "Epoch: 847 Iteration: 75400. Train_MSE: 0.002594593446701765. Test_MSE: 0.00019219741417467567\n",
      "Epoch: 848 Iteration: 75500. Train_MSE: 9.701549424789846e-05. Test_MSE: 0.00019202940847557381\n",
      "Epoch: 849 Iteration: 75600. Train_MSE: 0.0005795353790745139. Test_MSE: 0.0001921163332834808\n",
      "Epoch: 850 Iteration: 75700. Train_MSE: 0.00038402958307415247. Test_MSE: 0.00019207849897335153\n",
      "Epoch: 851 Iteration: 75800. Train_MSE: 0.0004332538810558617. Test_MSE: 0.00019228824035343647\n",
      "Epoch: 852 Iteration: 75900. Train_MSE: 0.0009196285391226411. Test_MSE: 0.00019183742167065435\n",
      "Epoch: 853 Iteration: 76000. Train_MSE: 0.0001235774834640324. Test_MSE: 0.00019156836754294804\n",
      "Epoch: 855 Iteration: 76100. Train_MSE: 0.00022944167722016573. Test_MSE: 0.00019158344962520943\n",
      "Epoch: 856 Iteration: 76200. Train_MSE: 0.0014724618522450328. Test_MSE: 0.00019144516821435542\n",
      "Epoch: 857 Iteration: 76300. Train_MSE: 9.070303349290043e-05. Test_MSE: 0.00019118198968324016\n",
      "Epoch: 858 Iteration: 76400. Train_MSE: 0.000204811614821665. Test_MSE: 0.0001913134636258328\n",
      "Epoch: 859 Iteration: 76500. Train_MSE: 0.00027178938034921885. Test_MSE: 0.00019110429378583303\n",
      "Epoch: 860 Iteration: 76600. Train_MSE: 0.00021924432076048106. Test_MSE: 0.0001914456833984986\n",
      "Epoch: 861 Iteration: 76700. Train_MSE: 0.007571579422801733. Test_MSE: 0.0001910157911074141\n",
      "Epoch: 862 Iteration: 76800. Train_MSE: 0.00015204877126961946. Test_MSE: 0.00019076394601139657\n",
      "Epoch: 864 Iteration: 76900. Train_MSE: 0.0003024976176675409. Test_MSE: 0.0001907998885468805\n",
      "Epoch: 865 Iteration: 77000. Train_MSE: 0.00014563871081918478. Test_MSE: 0.0001906274450667317\n",
      "Epoch: 866 Iteration: 77100. Train_MSE: 0.013243306428194046. Test_MSE: 0.00019030729902391887\n",
      "Epoch: 867 Iteration: 77200. Train_MSE: 0.00010126516281161457. Test_MSE: 0.00019041868494586782\n",
      "Epoch: 868 Iteration: 77300. Train_MSE: 0.0001913380838232115. Test_MSE: 0.0001901734715819106\n",
      "Epoch: 869 Iteration: 77400. Train_MSE: 0.00015581124171148986. Test_MSE: 0.00019061963309346288\n",
      "Epoch: 870 Iteration: 77500. Train_MSE: 0.001058506197296083. Test_MSE: 0.00019027534231846042\n",
      "Epoch: 871 Iteration: 77600. Train_MSE: 0.00012393906945362687. Test_MSE: 0.000189962152777063\n",
      "Epoch: 873 Iteration: 77700. Train_MSE: 0.00020618067355826497. Test_MSE: 0.0001900036507446262\n",
      "Epoch: 874 Iteration: 77800. Train_MSE: 0.0002297638129675761. Test_MSE: 0.00018972326957165082\n",
      "Epoch: 875 Iteration: 77900. Train_MSE: 0.0014777358155697584. Test_MSE: 0.00018961174800762994\n",
      "Epoch: 876 Iteration: 78000. Train_MSE: 0.00010480814671609551. Test_MSE: 0.00018961433176705727\n"
     ]
    },
    {
     "name": "stdout",
     "output_type": "stream",
     "text": [
      "Epoch: 877 Iteration: 78100. Train_MSE: 0.0002703899226617068. Test_MSE: 0.00018936789754214414\n",
      "Epoch: 878 Iteration: 78200. Train_MSE: 0.00013971808948554099. Test_MSE: 0.00018977971292046322\n",
      "Epoch: 879 Iteration: 78300. Train_MSE: 0.0007518571801483631. Test_MSE: 0.00018947178013051808\n",
      "Epoch: 880 Iteration: 78400. Train_MSE: 0.00011889231245731935. Test_MSE: 0.0001890850430291968\n",
      "Epoch: 882 Iteration: 78500. Train_MSE: 0.0002455465728417039. Test_MSE: 0.00018918132067022737\n",
      "Epoch: 883 Iteration: 78600. Train_MSE: 0.00024045236932579428. Test_MSE: 0.00018893949054921068\n",
      "Epoch: 884 Iteration: 78700. Train_MSE: 0.0003947921795770526. Test_MSE: 0.00018880492480924092\n",
      "Epoch: 885 Iteration: 78800. Train_MSE: 0.00015703897224739194. Test_MSE: 0.0001887912394297934\n",
      "Epoch: 886 Iteration: 78900. Train_MSE: 0.00039720526547171175. Test_MSE: 0.0001886356205010521\n",
      "Epoch: 887 Iteration: 79000. Train_MSE: 0.00026464558322913945. Test_MSE: 0.00018893174571033556\n",
      "Epoch: 888 Iteration: 79100. Train_MSE: 0.0004782141768373549. Test_MSE: 0.00018865602800295628\n",
      "Epoch: 889 Iteration: 79200. Train_MSE: 9.173872967949137e-05. Test_MSE: 0.00018827004564496698\n",
      "Epoch: 891 Iteration: 79300. Train_MSE: 0.0004972531460225582. Test_MSE: 0.00018835940065853562\n",
      "Epoch: 892 Iteration: 79400. Train_MSE: 0.00018075163825415075. Test_MSE: 0.00018813276655878287\n",
      "Epoch: 893 Iteration: 79500. Train_MSE: 0.0003537980082910508. Test_MSE: 0.0001879783486003258\n",
      "Epoch: 894 Iteration: 79600. Train_MSE: 0.00011721000919351354. Test_MSE: 0.0001879556825097333\n",
      "Epoch: 895 Iteration: 79700. Train_MSE: 0.00026254585827700794. Test_MSE: 0.00018785010078653224\n",
      "Epoch: 896 Iteration: 79800. Train_MSE: 0.00023297112784348428. Test_MSE: 0.0001880477405963431\n",
      "Epoch: 897 Iteration: 79900. Train_MSE: 0.0009347552550025284. Test_MSE: 0.00018787210832669913\n",
      "Epoch: 898 Iteration: 80000. Train_MSE: 0.00018607982201501727. Test_MSE: 0.00018745825858097702\n",
      "Epoch: 899 Iteration: 80100. Train_MSE: 0.00016030883125495166. Test_MSE: 0.00018747927720350413\n",
      "Epoch: 901 Iteration: 80200. Train_MSE: 0.00019370204245205969. Test_MSE: 0.00018726142992169317\n",
      "Epoch: 902 Iteration: 80300. Train_MSE: 0.0002433917106827721. Test_MSE: 0.00018714635921108488\n",
      "Epoch: 903 Iteration: 80400. Train_MSE: 0.0007998815854080021. Test_MSE: 0.0001870982042334822\n",
      "Epoch: 904 Iteration: 80500. Train_MSE: 0.00018403161084279418. Test_MSE: 0.0001870209990684067\n",
      "Epoch: 905 Iteration: 80600. Train_MSE: 0.00021339236991479993. Test_MSE: 0.00018727798985989632\n",
      "Epoch: 906 Iteration: 80700. Train_MSE: 0.00022227481531444937. Test_MSE: 0.00018710249055485037\n",
      "Epoch: 907 Iteration: 80800. Train_MSE: 0.00013933533045928925. Test_MSE: 0.00018661364900320667\n",
      "Epoch: 908 Iteration: 80900. Train_MSE: 0.0001569796004332602. Test_MSE: 0.00018665569218865541\n",
      "Epoch: 910 Iteration: 81000. Train_MSE: 0.00017667628708295524. Test_MSE: 0.00018637464677794305\n",
      "Epoch: 911 Iteration: 81100. Train_MSE: 0.000164477969519794. Test_MSE: 0.0001862942255781174\n",
      "Epoch: 912 Iteration: 81200. Train_MSE: 0.00017309773829765618. Test_MSE: 0.00018627471377955244\n",
      "Epoch: 913 Iteration: 81300. Train_MSE: 0.0003278138174209744. Test_MSE: 0.00018622851266274302\n",
      "Epoch: 914 Iteration: 81400. Train_MSE: 0.00017204161849804223. Test_MSE: 0.00018644319606384943\n",
      "Epoch: 915 Iteration: 81500. Train_MSE: 0.0003167401591781527. Test_MSE: 0.00018630849358912022\n",
      "Epoch: 916 Iteration: 81600. Train_MSE: 0.00017934157222043723. Test_MSE: 0.00018585047784705868\n",
      "Epoch: 917 Iteration: 81700. Train_MSE: 0.0001821757323341444. Test_MSE: 0.00018588610919753203\n",
      "Epoch: 919 Iteration: 81800. Train_MSE: 0.00017065122665371746. Test_MSE: 0.0001855964935893862\n",
      "Epoch: 920 Iteration: 81900. Train_MSE: 0.00020851526642218232. Test_MSE: 0.00018549277676981255\n",
      "Epoch: 921 Iteration: 82000. Train_MSE: 0.00016777031123638153. Test_MSE: 0.0001854362231052339\n",
      "Epoch: 922 Iteration: 82100. Train_MSE: 0.000200085953110829. Test_MSE: 0.0001853984035179723\n",
      "Epoch: 923 Iteration: 82200. Train_MSE: 0.00015359497047029436. Test_MSE: 0.00018559667653708889\n",
      "Epoch: 924 Iteration: 82300. Train_MSE: 0.00025264197029173374. Test_MSE: 0.00018551132491791185\n",
      "Epoch: 925 Iteration: 82400. Train_MSE: 0.00013806449715048075. Test_MSE: 0.0001851006612854342\n",
      "Epoch: 926 Iteration: 82500. Train_MSE: 0.00016298131959047168. Test_MSE: 0.00018510074863677464\n",
      "Epoch: 928 Iteration: 82600. Train_MSE: 0.00013758230488747358. Test_MSE: 0.00018487458018768397\n",
      "Epoch: 929 Iteration: 82700. Train_MSE: 0.0007836039294488728. Test_MSE: 0.00018469917830859028\n",
      "Epoch: 930 Iteration: 82800. Train_MSE: 0.0002212025283370167. Test_MSE: 0.00018460013385829976\n",
      "Epoch: 931 Iteration: 82900. Train_MSE: 0.00016014209541026503. Test_MSE: 0.00018460023896411799\n",
      "Epoch: 932 Iteration: 83000. Train_MSE: 0.00019796665583271533. Test_MSE: 0.00018477623354093184\n",
      "Epoch: 933 Iteration: 83100. Train_MSE: 0.001100056106224656. Test_MSE: 0.00018478038996892857\n",
      "Epoch: 934 Iteration: 83200. Train_MSE: 0.00010592229955364019. Test_MSE: 0.00018432979636316506\n",
      "Epoch: 935 Iteration: 83300. Train_MSE: 0.0002123816084349528. Test_MSE: 0.00018422075861569735\n",
      "Epoch: 937 Iteration: 83400. Train_MSE: 0.00015643573715351522. Test_MSE: 0.00018412914932298993\n",
      "Epoch: 938 Iteration: 83500. Train_MSE: 0.00025335271493531764. Test_MSE: 0.00018393067448351706\n",
      "Epoch: 939 Iteration: 83600. Train_MSE: 0.0001294494140893221. Test_MSE: 0.0001837648598750958\n",
      "Epoch: 940 Iteration: 83700. Train_MSE: 0.00013432835112325847. Test_MSE: 0.00018376310893888527\n",
      "Epoch: 941 Iteration: 83800. Train_MSE: 0.00019430910469964147. Test_MSE: 0.00018391758466470898\n",
      "Epoch: 942 Iteration: 83900. Train_MSE: 0.0003018027055077255. Test_MSE: 0.00018405336053579078\n",
      "Epoch: 943 Iteration: 84000. Train_MSE: 0.00011886733409482986. Test_MSE: 0.0001835633310747749\n",
      "Epoch: 944 Iteration: 84100. Train_MSE: 0.00013775361003354192. Test_MSE: 0.00018334267404631873\n",
      "Epoch: 946 Iteration: 84200. Train_MSE: 0.00016695752856321633. Test_MSE: 0.0001833439439625481\n",
      "Epoch: 947 Iteration: 84300. Train_MSE: 0.002590419724583626. Test_MSE: 0.00018312993592577636\n",
      "Epoch: 948 Iteration: 84400. Train_MSE: 9.598708129487932e-05. Test_MSE: 0.0001829716582035032\n",
      "Epoch: 949 Iteration: 84500. Train_MSE: 0.0005732262507081032. Test_MSE: 0.00018305928919522732\n",
      "Epoch: 950 Iteration: 84600. Train_MSE: 0.0003562177298590541. Test_MSE: 0.00018303816936103025\n",
      "Epoch: 951 Iteration: 84700. Train_MSE: 0.0004312677774578333. Test_MSE: 0.00018324872876434242\n",
      "Epoch: 952 Iteration: 84800. Train_MSE: 0.0009201125940307975. Test_MSE: 0.00018280285978699873\n",
      "Epoch: 953 Iteration: 84900. Train_MSE: 0.00011615354742389172. Test_MSE: 0.0001825542010545223\n",
      "Epoch: 955 Iteration: 85000. Train_MSE: 0.00020899309311062098. Test_MSE: 0.00018258950157604446\n",
      "Epoch: 956 Iteration: 85100. Train_MSE: 0.0014690384268760681. Test_MSE: 0.00018245776732328224\n",
      "Epoch: 957 Iteration: 85200. Train_MSE: 8.955932571552694e-05. Test_MSE: 0.00018220607310573728\n",
      "Epoch: 958 Iteration: 85300. Train_MSE: 0.00019553185848053545. Test_MSE: 0.00018233957647382758\n",
      "Epoch: 959 Iteration: 85400. Train_MSE: 0.0002437429502606392. Test_MSE: 0.00018215380718013488\n",
      "Epoch: 960 Iteration: 85500. Train_MSE: 0.00020938973466400057. Test_MSE: 0.00018249629377186416\n",
      "Epoch: 961 Iteration: 85600. Train_MSE: 0.007566017564386129. Test_MSE: 0.0001820750471499712\n",
      "Epoch: 962 Iteration: 85700. Train_MSE: 0.00014016329078003764. Test_MSE: 0.0001818421457552026\n",
      "Epoch: 964 Iteration: 85800. Train_MSE: 0.00026755203725770116. Test_MSE: 0.00018190012795119375\n",
      "Epoch: 965 Iteration: 85900. Train_MSE: 0.00014202165766619146. Test_MSE: 0.0001817397293897689\n",
      "Epoch: 966 Iteration: 86000. Train_MSE: 0.013239245861768723. Test_MSE: 0.00018143358602751538\n",
      "Epoch: 967 Iteration: 86100. Train_MSE: 9.6087773272302e-05. Test_MSE: 0.00018155022035470393\n",
      "Epoch: 968 Iteration: 86200. Train_MSE: 0.00017153378576040268. Test_MSE: 0.00018132699766764624\n",
      "Epoch: 969 Iteration: 86300. Train_MSE: 0.00015294244803953916. Test_MSE: 0.0001817719325034201\n",
      "Epoch: 970 Iteration: 86400. Train_MSE: 0.0010573803447186947. Test_MSE: 0.00018143766753460588\n",
      "Epoch: 971 Iteration: 86500. Train_MSE: 0.00011742244532797486. Test_MSE: 0.00018114382281660604\n",
      "Epoch: 973 Iteration: 86600. Train_MSE: 0.0001868050021585077. Test_MSE: 0.0001812008506167624\n",
      "Epoch: 974 Iteration: 86700. Train_MSE: 0.00021882705914322287. Test_MSE: 0.00018093854369753947\n"
     ]
    },
    {
     "name": "stdout",
     "output_type": "stream",
     "text": [
      "Epoch: 975 Iteration: 86800. Train_MSE: 0.0014764608349651098. Test_MSE: 0.0001808412305360992\n",
      "Epoch: 976 Iteration: 86900. Train_MSE: 9.935961861629039e-05. Test_MSE: 0.0001808494738381976\n",
      "Epoch: 977 Iteration: 87000. Train_MSE: 0.0002483181597199291. Test_MSE: 0.000180623532165035\n",
      "Epoch: 978 Iteration: 87100. Train_MSE: 0.0001329137885477394. Test_MSE: 0.00018103479531350334\n",
      "Epoch: 979 Iteration: 87200. Train_MSE: 0.0007504434906877577. Test_MSE: 0.00018073720031533275\n",
      "Epoch: 980 Iteration: 87300. Train_MSE: 0.00011309063847875223. Test_MSE: 0.00018036997761541974\n",
      "Epoch: 982 Iteration: 87400. Train_MSE: 0.0002237101289210841. Test_MSE: 0.00018047927235285172\n",
      "Epoch: 983 Iteration: 87500. Train_MSE: 0.00023237681307364255. Test_MSE: 0.00018025728883014022\n",
      "Epoch: 984 Iteration: 87600. Train_MSE: 0.0003937310248147696. Test_MSE: 0.00018013851589626417\n",
      "Epoch: 985 Iteration: 87700. Train_MSE: 0.00014741138147655874. Test_MSE: 0.0001801297194400407\n",
      "Epoch: 986 Iteration: 87800. Train_MSE: 0.00035914365435019135. Test_MSE: 0.00017998766001902107\n",
      "Epoch: 987 Iteration: 87900. Train_MSE: 0.000250212469836697. Test_MSE: 0.00018029125442321656\n",
      "Epoch: 988 Iteration: 88000. Train_MSE: 0.00047756702406331897. Test_MSE: 0.00018002332010634922\n",
      "Epoch: 989 Iteration: 88100. Train_MSE: 8.816095942165703e-05. Test_MSE: 0.00017965596119205035\n",
      "Epoch: 991 Iteration: 88200. Train_MSE: 0.00045639582094736397. Test_MSE: 0.0001797549954145589\n",
      "Epoch: 992 Iteration: 88300. Train_MSE: 0.00016986153787001967. Test_MSE: 0.00017955095607533696\n",
      "Epoch: 993 Iteration: 88400. Train_MSE: 0.00035340694012120366. Test_MSE: 0.0001794099704591756\n",
      "Epoch: 994 Iteration: 88500. Train_MSE: 0.0001120680826716125. Test_MSE: 0.00017939061119791056\n",
      "Epoch: 995 Iteration: 88600. Train_MSE: 0.0002390881272731349. Test_MSE: 0.00017929400898781227\n",
      "Epoch: 996 Iteration: 88700. Train_MSE: 0.00022271960915531963. Test_MSE: 0.00017950239385413515\n",
      "Epoch: 997 Iteration: 88800. Train_MSE: 0.0009338147356174886. Test_MSE: 0.00017932854473189848\n",
      "Epoch: 998 Iteration: 88900. Train_MSE: 0.00018257343617733568. Test_MSE: 0.0001789282251258521\n",
      "Epoch: 999 Iteration: 89000. Train_MSE: 0.0001459860213799402. Test_MSE: 0.00017896077152937227\n"
     ]
    }
   ],
   "source": [
    "# Training the model\n",
    "seq_dim = 1\n",
    "\n",
    "n_iter =0\n",
    "num_samples = len(X_train)\n",
    "test_samples = len(X_test)\n",
    "batch_size = 100\n",
    "num_epochs = 1000\n",
    "feat_dim = X_train.shape[1]\n",
    "\n",
    "X_train = X_train.type(torch.FloatTensor)\n",
    "y_train = y_train.type(torch.FloatTensor)\n",
    "X_test = X_test.type(torch.FloatTensor)\n",
    "y_test = y_test.type(torch.FloatTensor)\n",
    "\n",
    "for epoch in range(num_epochs):\n",
    "    for i in range(0, int(num_samples/batch_size -1)):\n",
    "        \n",
    "        \n",
    "        features = Variable(X_train[i*batch_size:(i+1)*batch_size, :]).view(-1, seq_dim, feat_dim)\n",
    "        Kt_value = Variable(y_train[i*batch_size:(i+1)*batch_size])\n",
    "        \n",
    "        #print(\"Kt_value={}\".format(Kt_value))\n",
    "        \n",
    "        optimizer.zero_grad()\n",
    "        \n",
    "        outputs = model(features)\n",
    "        #print(\"outputs ={}\".format(outputs))\n",
    "        \n",
    "        loss = criterion(outputs, Kt_value)\n",
    "        \n",
    "        train_loss.append(loss.data[0])\n",
    "        train_iter.append(n_iter)\n",
    "\n",
    "        #print(\"loss = {}\".format(loss))\n",
    "        loss.backward()\n",
    "        \n",
    "        optimizer.step()\n",
    "        \n",
    "        n_iter += 1  \n",
    "            \n",
    "        if n_iter%100 == 0:\n",
    "            for i in range(0,int(test_samples/batch_size -1)):\n",
    "                features = Variable(X_test[i*batch_size:(i+1)*batch_size, :]).view(-1, seq_dim, feat_dim)\n",
    "                Kt_test = Variable(y_test[i*batch_size:(i+1)*batch_size])\n",
    "                \n",
    "                outputs = model(features)\n",
    "                \n",
    "                mse = np.sqrt(np.mean((Kt_test.data.numpy() - outputs.data.numpy().squeeze())**2)/num_samples)\n",
    "                \n",
    "                test_iter.append(n_iter)\n",
    "                test_loss.append(mse)\n",
    "                \n",
    "            print('Epoch: {} Iteration: {}. Train_MSE: {}. Test_MSE: {}'.format(epoch, n_iter, loss.data[0], mse))\n",
    "               "
   ]
  },
  {
   "cell_type": "code",
   "execution_count": 78,
   "metadata": {},
   "outputs": [
    {
     "name": "stdout",
     "output_type": "stream",
     "text": [
      "37380\n"
     ]
    },
    {
     "data": {
      "text/plain": [
       "[<matplotlib.lines.Line2D at 0x170c7b70>]"
      ]
     },
     "execution_count": 78,
     "metadata": {},
     "output_type": "execute_result"
    },
    {
     "data": {
      "image/png": "[encoded data removed]",
      "text/plain": [
       "<Figure size 432x288 with 1 Axes>"
      ]
     },
     "metadata": {},
     "output_type": "display_data"
    }
   ],
   "source": [
    "print(len(test_loss))\n",
    "#plt.plot(test_loss)\n",
    "plt.plot(train_loss,'-')\n",
    "#plt.ylim([0.000,0.99])\n"
   ]
  },
  {
   "cell_type": "code",
   "execution_count": 79,
   "metadata": {},
   "outputs": [
    {
     "data": {
      "text/plain": [
       "[<matplotlib.lines.Line2D at 0xe080eb8>]"
      ]
     },
     "execution_count": 79,
     "metadata": {},
     "output_type": "execute_result"
    },
    {
     "data": {
      "image/png": "[encoded data removed]",
      "text/plain": [
       "<Figure size 432x288 with 1 Axes>"
      ]
     },
     "metadata": {},
     "output_type": "display_data"
    }
   ],
   "source": [
    "plt.plot(test_loss,'r')"
   ]
  },
  {
   "cell_type": "markdown",
   "metadata": {
    "collapsed": true
   },
   "source": [
    "#### Demornamization"
   ]
  },
  {
   "cell_type": "code",
   "execution_count": 80,
   "metadata": {},
   "outputs": [],
   "source": [
    "rmse = np.sqrt(mse)"
   ]
  },
  {
   "cell_type": "code",
   "execution_count": 81,
   "metadata": {},
   "outputs": [],
   "source": [
    "rmse_denorm = (rmse * (df_new_test['Kt'].max() - df_new_test['Kt'].min()))+ df_new_test['Kt'].mean()"
   ]
  },
  {
   "cell_type": "code",
   "execution_count": 82,
   "metadata": {},
   "outputs": [
    {
     "data": {
      "text/plain": [
       "29.548728001081535"
      ]
     },
     "execution_count": 82,
     "metadata": {},
     "output_type": "execute_result"
    }
   ],
   "source": [
    "rmse_denorm"
   ]
  },
  {
   "cell_type": "code",
   "execution_count": 83,
   "metadata": {},
   "outputs": [
    {
     "data": {
      "text/plain": [
       "count    4202.000000\n",
       "mean        5.440156\n",
       "std        36.662539\n",
       "min        -0.283893\n",
       "25%        -0.009338\n",
       "50%         0.105658\n",
       "75%         1.152612\n",
       "max      1801.872849\n",
       "Name: Kt, dtype: float64"
      ]
     },
     "execution_count": 83,
     "metadata": {},
     "output_type": "execute_result"
    }
   ],
   "source": [
    "df_new_test['Kt'].describe()"
   ]
  },
  {
   "cell_type": "markdown",
   "metadata": {
    "collapsed": true
   },
   "source": [
    "### Saving train and test losses to a csv"
   ]
  },
  {
   "cell_type": "code",
   "execution_count": 84,
   "metadata": {},
   "outputs": [],
   "source": [
    "df_trainLoss = pd.DataFrame(data={'Train Loss':train_loss}, columns=['Train Loss'])\n",
    "df_trainLoss.to_csv('RNN Paper Results/Exp1_GoodwinCreek_TrainLoss.csv')\n",
    "df_testLoss = pd.DataFrame(data={'Test Loss':test_loss}, columns=['Test Loss'])\n",
    "df_testLoss.to_csv('RNN Paper Results/Exp1_GoodwinCreek_TestLoss.csv')"
   ]
  },
  {
   "cell_type": "code",
   "execution_count": null,
   "metadata": {},
   "outputs": [],
   "source": []
  }
 ],
 "metadata": {
  "anaconda-cloud": {},
  "kernelspec": {
   "display_name": "Python 3",
   "language": "python",
   "name": "python3"
  },
  "language_info": {
   "codemirror_mode": {
    "name": "ipython",
    "version": 3
   },
   "file_extension": ".py",
   "mimetype": "text/x-python",
   "name": "python",
   "nbconvert_exporter": "python",
   "pygments_lexer": "ipython3",
   "version": "3.6.1"
  }
 },
 "nbformat": 4,
 "nbformat_minor": 2
}
