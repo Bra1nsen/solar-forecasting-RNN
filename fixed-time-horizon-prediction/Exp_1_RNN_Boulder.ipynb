{
 "cells": [
  {
   "cell_type": "markdown",
   "metadata": {},
   "source": [
    "### Experiment 4 summary:\n",
    "1. import bird model ghi values\n",
    "2. import actual data\n",
    "3. merge the two based on the common timestamps\n",
    "4. drop all rows if 'ghi' value is 0\n",
    "5. ** DO NOT drop all rows with dw_solar < 0 **\n",
    "6. Manage missing values: Drop any row if it has -9999.9\n",
    "7. Make Kt column ('dw_solar'/'ghi') \n",
    "8. Group the data into hourly format (by finding mean)\n",
    "9. assign hierarchical index\n",
    "10. get the subdataframes for each day and shift the Kt values\n",
    "11. drop the year, month, day, hour and minute columns\n",
    "12. feed the data into RNN alrogithm\n",
    "    - RNN seq_lenth = 1\n",
    "    - learning rate = 0.001\n",
    "    - single RNN layer\n",
    "    - num of epochs = 5000\n",
    "\n",
    "** in this experiment we are not giving Kt as one of the features. We are using hierarchical index to make sub dataframe for every day and then shift the Kt values one cell up to make it as one hour forecast. **"
   ]
  },
  {
   "cell_type": "markdown",
   "metadata": {},
   "source": [
    "### NOTE\n",
    "** the test['Kt'].max() values after grouping into hourly data is 7279.907547 = this is a outlier. The reason might be having a dw_solar reading with QC=2 value. Still haven't checked that. But the second highest value of 'Kt' parameter in the testset is 672 (which is way lower) **"
   ]
  },
  {
   "cell_type": "code",
   "execution_count": 1,
   "metadata": {},
   "outputs": [],
   "source": [
    "import numpy as np\n",
    "import pandas as pd\n",
    "import datetime\n",
    "import glob\n",
    "import os.path\n",
    "from pandas.compat import StringIO"
   ]
  },
  {
   "cell_type": "markdown",
   "metadata": {},
   "source": [
    "### NREL Bird Model implementation: for obtaining clear sky GHI"
   ]
  },
  {
   "cell_type": "code",
   "execution_count": 2,
   "metadata": {},
   "outputs": [],
   "source": [
    "import itertools\n",
    "import matplotlib.pyplot as plt\n",
    "import pandas as pd\n",
    "import seaborn as sns"
   ]
  },
  {
   "cell_type": "code",
   "execution_count": 3,
   "metadata": {},
   "outputs": [],
   "source": [
    "%matplotlib inline\n",
    "sns.set_color_codes()"
   ]
  },
  {
   "cell_type": "code",
   "execution_count": 4,
   "metadata": {},
   "outputs": [],
   "source": [
    "import pvlib\n",
    "from pvlib import clearsky, atmosphere\n",
    "from pvlib.location import Location"
   ]
  },
  {
   "cell_type": "code",
   "execution_count": 5,
   "metadata": {},
   "outputs": [],
   "source": [
    "bod = Location(40.0150,-105.2705, 'US/Mountain', 1655.064, 'Boulder')"
   ]
  },
  {
   "cell_type": "code",
   "execution_count": 6,
   "metadata": {},
   "outputs": [],
   "source": [
    "times2009 = pd.DatetimeIndex(start='2009-01-01', end='2010-01-01', freq='1min',\n",
    "                        tz=bod.tz)   # 12 months of 2009 - For testing\n",
    "times2010and2011 = pd.DatetimeIndex(start='2010-01-01', end='2012-01-01', freq='1min',\n",
    "                        tz=bod.tz)   # 24 months of 2010 and 2011 - For training\n",
    "#times2011 = pd.DatetimeIndex(start='2011-01-01', end='2012-01-01', freq='1min',\n",
    "                       # tz=bod.tz)   # 12 months of 2011  - For training"
   ]
  },
  {
   "cell_type": "code",
   "execution_count": 7,
   "metadata": {},
   "outputs": [],
   "source": [
    "cs_2009 = bod.get_clearsky(times2009) \n",
    "cs_2010and2011 = bod.get_clearsky(times2010and2011) # ineichen with climatology table by default\n",
    "#cs_2011 = bod.get_clearsky(times2011) "
   ]
  },
  {
   "cell_type": "code",
   "execution_count": 8,
   "metadata": {},
   "outputs": [],
   "source": [
    "cs_2009.drop(['dni','dhi'],axis=1, inplace=True) #updating the same dataframe by dropping two columns\n",
    "cs_2010and2011.drop(['dni','dhi'],axis=1, inplace=True) #updating the same dataframe by dropping two columns\n",
    "#cs_2011.drop(['dni','dhi'],axis=1, inplace=True) #updating the same dataframe by dropping two columns"
   ]
  },
  {
   "cell_type": "code",
   "execution_count": 9,
   "metadata": {},
   "outputs": [],
   "source": [
    "cs_2009.reset_index(inplace=True)\n",
    "cs_2010and2011.reset_index(inplace=True)\n",
    "#cs_2011.reset_index(inplace=True)"
   ]
  },
  {
   "cell_type": "code",
   "execution_count": 10,
   "metadata": {},
   "outputs": [],
   "source": [
    "cs_2009['index']=cs_2009['index'].apply(lambda x:x.to_datetime())\n",
    "cs_2009['year'] = cs_2009['index'].apply(lambda x:x.year)\n",
    "cs_2009['month'] = cs_2009['index'].apply(lambda x:x.month)\n",
    "cs_2009['day'] = cs_2009['index'].apply(lambda x:x.day)\n",
    "cs_2009['hour'] = cs_2009['index'].apply(lambda x:x.hour)\n",
    "cs_2009['min'] = cs_2009['index'].apply(lambda x:x.minute)"
   ]
  },
  {
   "cell_type": "code",
   "execution_count": 11,
   "metadata": {},
   "outputs": [],
   "source": [
    "cs_2010and2011['index']=cs_2010and2011['index'].apply(lambda x:x.to_datetime())\n",
    "cs_2010and2011['year'] = cs_2010and2011['index'].apply(lambda x:x.year)\n",
    "cs_2010and2011['month'] = cs_2010and2011['index'].apply(lambda x:x.month)\n",
    "cs_2010and2011['day'] = cs_2010and2011['index'].apply(lambda x:x.day)\n",
    "cs_2010and2011['hour'] = cs_2010and2011['index'].apply(lambda x:x.hour)\n",
    "cs_2010and2011['min'] = cs_2010and2011['index'].apply(lambda x:x.minute)"
   ]
  },
  {
   "cell_type": "code",
   "execution_count": 12,
   "metadata": {},
   "outputs": [
    {
     "name": "stdout",
     "output_type": "stream",
     "text": [
      "(525601, 7)\n",
      "(1051201, 7)\n"
     ]
    }
   ],
   "source": [
    "print(cs_2009.shape)\n",
    "print(cs_2010and2011.shape)\n",
    "#print(cs_2011.shape)"
   ]
  },
  {
   "cell_type": "code",
   "execution_count": 13,
   "metadata": {},
   "outputs": [],
   "source": [
    "cs_2009.drop(cs_2009.index[-1], inplace=True)\n",
    "cs_2010and2011.drop(cs_2010and2011.index[-1], inplace=True)\n",
    "#cs_2011.drop(cs_2011.index[-1], inplace=True)"
   ]
  },
  {
   "cell_type": "code",
   "execution_count": 14,
   "metadata": {},
   "outputs": [
    {
     "name": "stdout",
     "output_type": "stream",
     "text": [
      "(525600, 7)\n",
      "(1051200, 7)\n"
     ]
    }
   ],
   "source": [
    "print(cs_2009.shape)\n",
    "print(cs_2010and2011.shape)\n",
    "#print(cs_2011.shape)"
   ]
  },
  {
   "cell_type": "code",
   "execution_count": 15,
   "metadata": {},
   "outputs": [
    {
     "data": {
      "text/html": [
       "<div>\n",
       "<style scoped>\n",
       "    .dataframe tbody tr th:only-of-type {\n",
       "        vertical-align: middle;\n",
       "    }\n",
       "\n",
       "    .dataframe tbody tr th {\n",
       "        vertical-align: top;\n",
       "    }\n",
       "\n",
       "    .dataframe thead th {\n",
       "        text-align: right;\n",
       "    }\n",
       "</style>\n",
       "<table border=\"1\" class=\"dataframe\">\n",
       "  <thead>\n",
       "    <tr style=\"text-align: right;\">\n",
       "      <th></th>\n",
       "      <th>index</th>\n",
       "      <th>ghi</th>\n",
       "      <th>year</th>\n",
       "      <th>month</th>\n",
       "      <th>day</th>\n",
       "      <th>hour</th>\n",
       "      <th>min</th>\n",
       "    </tr>\n",
       "  </thead>\n",
       "  <tbody>\n",
       "    <tr>\n",
       "      <th>0</th>\n",
       "      <td>2010-01-01 00:00:00-07:00</td>\n",
       "      <td>0.0</td>\n",
       "      <td>2010</td>\n",
       "      <td>1</td>\n",
       "      <td>1</td>\n",
       "      <td>0</td>\n",
       "      <td>0</td>\n",
       "    </tr>\n",
       "    <tr>\n",
       "      <th>1</th>\n",
       "      <td>2010-01-01 00:01:00-07:00</td>\n",
       "      <td>0.0</td>\n",
       "      <td>2010</td>\n",
       "      <td>1</td>\n",
       "      <td>1</td>\n",
       "      <td>0</td>\n",
       "      <td>1</td>\n",
       "    </tr>\n",
       "    <tr>\n",
       "      <th>2</th>\n",
       "      <td>2010-01-01 00:02:00-07:00</td>\n",
       "      <td>0.0</td>\n",
       "      <td>2010</td>\n",
       "      <td>1</td>\n",
       "      <td>1</td>\n",
       "      <td>0</td>\n",
       "      <td>2</td>\n",
       "    </tr>\n",
       "    <tr>\n",
       "      <th>3</th>\n",
       "      <td>2010-01-01 00:03:00-07:00</td>\n",
       "      <td>0.0</td>\n",
       "      <td>2010</td>\n",
       "      <td>1</td>\n",
       "      <td>1</td>\n",
       "      <td>0</td>\n",
       "      <td>3</td>\n",
       "    </tr>\n",
       "    <tr>\n",
       "      <th>4</th>\n",
       "      <td>2010-01-01 00:04:00-07:00</td>\n",
       "      <td>0.0</td>\n",
       "      <td>2010</td>\n",
       "      <td>1</td>\n",
       "      <td>1</td>\n",
       "      <td>0</td>\n",
       "      <td>4</td>\n",
       "    </tr>\n",
       "  </tbody>\n",
       "</table>\n",
       "</div>"
      ],
      "text/plain": [
       "                      index  ghi  year  month  day  hour  min\n",
       "0 2010-01-01 00:00:00-07:00  0.0  2010      1    1     0    0\n",
       "1 2010-01-01 00:01:00-07:00  0.0  2010      1    1     0    1\n",
       "2 2010-01-01 00:02:00-07:00  0.0  2010      1    1     0    2\n",
       "3 2010-01-01 00:03:00-07:00  0.0  2010      1    1     0    3\n",
       "4 2010-01-01 00:04:00-07:00  0.0  2010      1    1     0    4"
      ]
     },
     "execution_count": 15,
     "metadata": {},
     "output_type": "execute_result"
    }
   ],
   "source": [
    "cs_2010and2011.head()"
   ]
  },
  {
   "cell_type": "markdown",
   "metadata": {},
   "source": [
    "### Import files from each year in a separate dataframe"
   ]
  },
  {
   "cell_type": "markdown",
   "metadata": {
    "collapsed": true
   },
   "source": [
    "\n",
    "- year            integer\t year, i.e., 1995\n",
    "- jday            integer\t Julian day (1 through 365 [or 366])\n",
    "- month           integer\t number of the month (1-12)\n",
    "- day             integer\t day of the month(1-31)\n",
    "- hour            integer\t hour of the day (0-23)\n",
    "- min             integer\t minute of the hour (0-59)\n",
    "- dt              real\t decimal time (hour.decimalminutes, e.g., 23.5 = 2330)\n",
    "- zen             real\t solar zenith angle (degrees)\n",
    "- dw_solar        real\t downwelling global solar (Watts m^-2)\n",
    "- uw_solar        real\t upwelling global solar (Watts m^-2)\n",
    "- direct_n        real\t direct-normal solar (Watts m^-2)\n",
    "- diffuse         real\t downwelling diffuse solar (Watts m^-2)\n",
    "- dw_ir           real\t downwelling thermal infrared (Watts m^-2)\n",
    "- dw_casetemp     real\t downwelling IR case temp. (K)\n",
    "- dw_dometemp     real\t downwelling IR dome temp. (K)\n",
    "- uw_ir           real\t upwelling thermal infrared (Watts m^-2)\n",
    "- uw_casetemp     real\t upwelling IR case temp. (K)\n",
    "- uw_dometemp     real\t upwelling IR dome temp. (K)\n",
    "- uvb             real\t global UVB (milliWatts m^-2)\n",
    "- par             real\t photosynthetically active radiation (Watts m^-2)\n",
    "- netsolar        real\t net solar (dw_solar - uw_solar) (Watts m^-2)\n",
    "- netir           real\t net infrared (dw_ir - uw_ir) (Watts m^-2)\n",
    "- totalnet        real\t net radiation (netsolar+netir) (Watts m^-2)\n",
    "- temp            real\t 10-meter air temperature (?C)\n",
    "- rh              real\t relative humidity (%)\n",
    "- windspd         real\t wind speed (ms^-1)\n",
    "- winddir         real\t wind direction (degrees, clockwise from north)\n",
    "- pressure        real\t station pressure (mb)\n"
   ]
  },
  {
   "cell_type": "code",
   "execution_count": 16,
   "metadata": {},
   "outputs": [],
   "source": [
    "cols = ['year', 'jday', 'month', 'day','hour','min','dt','zen','dw_solar','dw_solar_QC','uw_solar',\n",
    "       'uw_solar_QC', 'direct_n','direct_n_QC','diffuse', 'diffuse_QC', 'dw_ir', 'dw_ir_QC', 'dw_casetemp',\n",
    "       'dw_casetemp_QC', 'dw_dometemp','dw_dometemp_QC','uw_ir', 'uw_ir_QC', 'uw_casetemp','uw_casetemp_QC',\n",
    "       'uw_dometemp','uw_dometemp_QC','uvb','uvb_QC','par','par_QC','netsolar','netsolar_QC','netir','netir_QC',\n",
    "       'totalnet','totalnet_QC','temp','temp_QC','rh','rh_QC','windspd','windspd_QC','winddir','winddir_QC',\n",
    "       'pressure','pressure_QC']"
   ]
  },
  {
   "cell_type": "code",
   "execution_count": 17,
   "metadata": {},
   "outputs": [
    {
     "data": {
      "text/plain": [
       "(1050018, 48)"
      ]
     },
     "execution_count": 17,
     "metadata": {},
     "output_type": "execute_result"
    }
   ],
   "source": [
    "path = r'.\\\\data\\\\Boulder\\\\Exp_1_train'\n",
    "all_files = glob.glob(path + \"/*.dat\")\n",
    "all_files.sort()\n",
    "\n",
    "df_big_train = pd.concat([pd.read_csv(f, skipinitialspace = True, quotechar = '\"',skiprows=(2),delimiter=' ', \n",
    "                 index_col=False,header=None, names=cols) for f in all_files],ignore_index=True)\n",
    "df_big_train.shape"
   ]
  },
  {
   "cell_type": "code",
   "execution_count": 18,
   "metadata": {},
   "outputs": [
    {
     "data": {
      "text/plain": [
       "(525132, 48)"
      ]
     },
     "execution_count": 18,
     "metadata": {},
     "output_type": "execute_result"
    }
   ],
   "source": [
    "path = r'.\\\\data\\\\Boulder\\\\Exp_1_test'\n",
    "all_files = glob.glob(path + \"/*.dat\")\n",
    "all_files.sort()\n",
    "\n",
    "df_big_test = pd.concat((pd.read_csv(f, skipinitialspace = True, quotechar = '\"',skiprows=(2),delimiter=' ', \n",
    "                 index_col=False,header=None, names=cols) for f in all_files),ignore_index=True)\n",
    "df_big_test.shape"
   ]
  },
  {
   "cell_type": "code",
   "execution_count": 19,
   "metadata": {},
   "outputs": [
    {
     "data": {
      "text/plain": [
       "(3702, 48)"
      ]
     },
     "execution_count": 19,
     "metadata": {},
     "output_type": "execute_result"
    }
   ],
   "source": [
    "df_big_test[df_big_test['dw_solar']==-9999.9].shape"
   ]
  },
  {
   "cell_type": "markdown",
   "metadata": {},
   "source": [
    "### Merging Clear Sky GHI And the big dataframe"
   ]
  },
  {
   "cell_type": "code",
   "execution_count": 24,
   "metadata": {},
   "outputs": [
    {
     "data": {
      "text/plain": [
       "(1050018, 50)"
      ]
     },
     "execution_count": 24,
     "metadata": {},
     "output_type": "execute_result"
    }
   ],
   "source": [
    "df_train = pd.merge(df_big_train, cs_2010and2011, on=['year','month','day','hour','min'])\n",
    "df_train.shape"
   ]
  },
  {
   "cell_type": "code",
   "execution_count": 25,
   "metadata": {},
   "outputs": [
    {
     "data": {
      "text/plain": [
       "(525132, 50)"
      ]
     },
     "execution_count": 25,
     "metadata": {},
     "output_type": "execute_result"
    }
   ],
   "source": [
    "df_test = pd.merge(df_big_test, cs_2009, on=['year','month','day','hour','min'])\n",
    "df_test.shape"
   ]
  },
  {
   "cell_type": "code",
   "execution_count": 26,
   "metadata": {},
   "outputs": [],
   "source": [
    "df_train.drop(['index'],axis=1, inplace=True) #updating the same dataframe by dropping the index columns from clear sky model\n",
    "df_test.drop(['index'], axis=1, inplace=True)"
   ]
  },
  {
   "cell_type": "code",
   "execution_count": 27,
   "metadata": {},
   "outputs": [
    {
     "data": {
      "text/plain": [
       "(1050018, 49)"
      ]
     },
     "execution_count": 27,
     "metadata": {},
     "output_type": "execute_result"
    }
   ],
   "source": [
    "df_train.shape"
   ]
  },
  {
   "cell_type": "markdown",
   "metadata": {},
   "source": [
    "### Managing missing values"
   ]
  },
  {
   "cell_type": "code",
   "execution_count": 28,
   "metadata": {},
   "outputs": [],
   "source": [
    "# Resetting index\n",
    "df_train.reset_index(drop=True, inplace=True)\n",
    "df_test.reset_index(drop=True, inplace=True)"
   ]
  },
  {
   "cell_type": "code",
   "execution_count": 29,
   "metadata": {},
   "outputs": [],
   "source": [
    "# Dropping rows with two or more -9999.9 values in columns"
   ]
  },
  {
   "cell_type": "code",
   "execution_count": 30,
   "metadata": {},
   "outputs": [
    {
     "data": {
      "text/plain": [
       "(1034397, 49)"
      ]
     },
     "execution_count": 30,
     "metadata": {},
     "output_type": "execute_result"
    }
   ],
   "source": [
    "# Step1: Get indices of all rows with 2 or more -999\n",
    "missing_data_indices = np.where((df_train <=-9999.9).apply(sum, axis=1)>=2)[0]\n",
    "# Step2: Drop those indices\n",
    "df_train.drop(missing_data_indices, axis=0, inplace=True)\n",
    "# Checking that the rows are dropped\n",
    "df_train.shape"
   ]
  },
  {
   "cell_type": "code",
   "execution_count": 31,
   "metadata": {},
   "outputs": [
    {
     "data": {
      "text/plain": [
       "(505639, 49)"
      ]
     },
     "execution_count": 31,
     "metadata": {},
     "output_type": "execute_result"
    }
   ],
   "source": [
    "missing_data_indices_test = np.where((df_test <= -9999.9).apply(sum, axis=1)>=2)[0]\n",
    "df_test.drop(missing_data_indices_test, axis=0, inplace=True)\n",
    "df_test.shape"
   ]
  },
  {
   "cell_type": "code",
   "execution_count": 32,
   "metadata": {},
   "outputs": [],
   "source": [
    "# For the rows with only one cell as -9999.9, replacing this cell with the mean of the column"
   ]
  },
  {
   "cell_type": "markdown",
   "metadata": {},
   "source": [
    "#### First resetting index after dropping rows in the previous part of the code"
   ]
  },
  {
   "cell_type": "code",
   "execution_count": 33,
   "metadata": {},
   "outputs": [],
   "source": [
    "# 2nd time - Reseting Index\n",
    "df_train.reset_index(drop=True, inplace=True)\n",
    "df_test.reset_index(drop=True, inplace=True)"
   ]
  },
  {
   "cell_type": "code",
   "execution_count": 34,
   "metadata": {},
   "outputs": [],
   "source": [
    "one_miss_train_idx = np.where((df_train <=-9999.9).apply(sum, axis=1)==1)[0]"
   ]
  },
  {
   "cell_type": "code",
   "execution_count": 35,
   "metadata": {},
   "outputs": [
    {
     "data": {
      "text/plain": [
       "10058"
      ]
     },
     "execution_count": 35,
     "metadata": {},
     "output_type": "execute_result"
    }
   ],
   "source": [
    "len(one_miss_train_idx)"
   ]
  },
  {
   "cell_type": "code",
   "execution_count": 36,
   "metadata": {},
   "outputs": [
    {
     "data": {
      "text/plain": [
       "(1034397, 49)"
      ]
     },
     "execution_count": 36,
     "metadata": {},
     "output_type": "execute_result"
    }
   ],
   "source": [
    "df_train.shape"
   ]
  },
  {
   "cell_type": "code",
   "execution_count": 37,
   "metadata": {},
   "outputs": [
    {
     "name": "stderr",
     "output_type": "stream",
     "text": [
      "C:\\Users\\s269596\\AppData\\Local\\Continuum\\Anaconda3\\lib\\site-packages\\pandas\\core\\indexing.py:194: SettingWithCopyWarning: \n",
      "A value is trying to be set on a copy of a slice from a DataFrame\n",
      "\n",
      "See the caveats in the documentation: http://pandas.pydata.org/pandas-docs/stable/indexing.html#indexing-view-versus-copy\n",
      "  self._setitem_with_indexer(indexer, value)\n"
     ]
    }
   ],
   "source": [
    "col_names = df_train.columns\n",
    "from collections import defaultdict\n",
    "stats = defaultdict(int)\n",
    "total_single_missing_values = 0\n",
    "for name in col_names:\n",
    "    col_mean = df_train[~(df_train[name] == -9999.9)][name].mean()\n",
    "    missing_indices = np.where((df_train[name] == -9999.9))\n",
    "    stats[name] = len(missing_indices[0])\n",
    "    df_train[name].loc[missing_indices] = col_mean\n",
    "    total_single_missing_values += sum(df_train[name] == -9999.9)\n",
    "    "
   ]
  },
  {
   "cell_type": "code",
   "execution_count": 38,
   "metadata": {},
   "outputs": [],
   "source": [
    "df_col_min = df_train.apply(min, axis=0)\n",
    "df_col_max = df_train.apply(max, axis =0)\n",
    "#print(df_col_min, df_col_max)"
   ]
  },
  {
   "cell_type": "code",
   "execution_count": 39,
   "metadata": {},
   "outputs": [],
   "source": [
    "train = np.where((df_train <=-9999.9).apply(sum, axis=1)==1)[0]"
   ]
  },
  {
   "cell_type": "code",
   "execution_count": 40,
   "metadata": {},
   "outputs": [
    {
     "data": {
      "text/plain": [
       "0"
      ]
     },
     "execution_count": 40,
     "metadata": {},
     "output_type": "execute_result"
    }
   ],
   "source": [
    "len(train)"
   ]
  },
  {
   "cell_type": "code",
   "execution_count": 41,
   "metadata": {},
   "outputs": [],
   "source": [
    "# doing the same thing on test dataset"
   ]
  },
  {
   "cell_type": "code",
   "execution_count": 42,
   "metadata": {},
   "outputs": [
    {
     "data": {
      "text/plain": [
       "6657"
      ]
     },
     "execution_count": 42,
     "metadata": {},
     "output_type": "execute_result"
    }
   ],
   "source": [
    "one_miss_test_idx = np.where((df_test <=-9999.9).apply(sum, axis=1)==1)[0]\n",
    "len(one_miss_test_idx)"
   ]
  },
  {
   "cell_type": "code",
   "execution_count": 43,
   "metadata": {},
   "outputs": [
    {
     "name": "stderr",
     "output_type": "stream",
     "text": [
      "C:\\Users\\s269596\\AppData\\Local\\Continuum\\Anaconda3\\lib\\site-packages\\pandas\\core\\indexing.py:194: SettingWithCopyWarning: \n",
      "A value is trying to be set on a copy of a slice from a DataFrame\n",
      "\n",
      "See the caveats in the documentation: http://pandas.pydata.org/pandas-docs/stable/indexing.html#indexing-view-versus-copy\n",
      "  self._setitem_with_indexer(indexer, value)\n"
     ]
    }
   ],
   "source": [
    "col_names_test = df_test.columns\n",
    "from collections import defaultdict\n",
    "stats_test = defaultdict(int)\n",
    "total_single_missing_values_test = 0\n",
    "for name in col_names_test:\n",
    "    col_mean = df_test[~(df_test[name] == -9999.9)][name].mean()\n",
    "    missing_indices = np.where((df_test[name] == -9999.9))\n",
    "    stats_test[name] = len(missing_indices[0])\n",
    "    df_test[name].loc[missing_indices] = col_mean\n",
    "    total_single_missing_values_test += sum(df_test[name] == -9999.9)\n",
    "    "
   ]
  },
  {
   "cell_type": "code",
   "execution_count": 44,
   "metadata": {},
   "outputs": [],
   "source": [
    "test = np.where((df_test <=-9999.9).apply(sum, axis=1)==1)[0]"
   ]
  },
  {
   "cell_type": "code",
   "execution_count": 45,
   "metadata": {},
   "outputs": [
    {
     "data": {
      "text/plain": [
       "0"
      ]
     },
     "execution_count": 45,
     "metadata": {},
     "output_type": "execute_result"
    }
   ],
   "source": [
    "len(test)"
   ]
  },
  {
   "cell_type": "code",
   "execution_count": 46,
   "metadata": {},
   "outputs": [
    {
     "data": {
      "text/plain": [
       "(1034397, 49)"
      ]
     },
     "execution_count": 46,
     "metadata": {},
     "output_type": "execute_result"
    }
   ],
   "source": [
    "df_train.shape"
   ]
  },
  {
   "cell_type": "code",
   "execution_count": 47,
   "metadata": {},
   "outputs": [
    {
     "data": {
      "text/plain": [
       "(505639, 49)"
      ]
     },
     "execution_count": 47,
     "metadata": {},
     "output_type": "execute_result"
    }
   ],
   "source": [
    "df_test.shape"
   ]
  },
  {
   "cell_type": "markdown",
   "metadata": {},
   "source": [
    "### Exploratory Data Analysis"
   ]
  },
  {
   "cell_type": "code",
   "execution_count": 48,
   "metadata": {},
   "outputs": [],
   "source": [
    "dw_solar_everyday = df_test.groupby(['jday'])['dw_solar'].mean()\n",
    "ghi_everyday = df_test.groupby(['jday'])['ghi'].mean()\n",
    "j_day = df_test['jday'].unique()"
   ]
  },
  {
   "cell_type": "code",
   "execution_count": 49,
   "metadata": {},
   "outputs": [
    {
     "data": {
      "image/png": "[encoded data removed]",
      "text/plain": [
       "<Figure size 432x288 with 1 Axes>"
      ]
     },
     "metadata": {},
     "output_type": "display_data"
    }
   ],
   "source": [
    "fig = plt.figure()\n",
    "\n",
    "axes1 = fig.add_axes([0.1,0.1,0.8,0.8])\n",
    "#axes2 = fig.add_axes([0.1,0.1,0.8,0.8])\n",
    "\n",
    "axes1.scatter(j_day,dw_solar_everyday,label='Observed dw_solar',color='red')\n",
    "axes1.scatter(j_day, ghi_everyday, label='Clear Sky GHI',color='green')\n",
    "\n",
    "axes1.set_xlabel('Days')\n",
    "axes1.set_ylabel('Solar Irradiance (Watts /m^2)')\n",
    "axes1.set_title('Solar Irradiance - Test Year 2009')\n",
    "axes1.legend(loc='best')\n",
    "\n",
    "fig.savefig('Figure2.png', bbox_inches = 'tight')"
   ]
  },
  {
   "cell_type": "code",
   "execution_count": 50,
   "metadata": {},
   "outputs": [
    {
     "name": "stderr",
     "output_type": "stream",
     "text": [
      "C:\\Users\\s269596\\AppData\\Local\\Continuum\\Anaconda3\\lib\\site-packages\\matplotlib\\axes\\_axes.py:6462: UserWarning: The 'normed' kwarg is deprecated, and has been replaced by the 'density' kwarg.\n",
      "  warnings.warn(\"The 'normed' kwarg is deprecated, and has been \"\n"
     ]
    },
    {
     "data": {
      "image/png": "[encoded data removed]",
      "text/plain": [
       "<Figure size 432x432 with 3 Axes>"
      ]
     },
     "metadata": {},
     "output_type": "display_data"
    }
   ],
   "source": [
    "sns.jointplot(x=dw_solar_everyday,y=ghi_everyday,kind='reg')\n",
    "#plt.title('observed dw_solar vs clear sky ghi')\n",
    "plt.xlabel('Observed global downwelling solar (Watts/m^2)')\n",
    "plt.ylabel('Clear Sky GHI (Watts/m^2)')\n",
    "plt.savefig('Figure3.png', bbox_inches='tight')"
   ]
  },
  {
   "cell_type": "markdown",
   "metadata": {},
   "source": [
    "### making the Kt (clear sky index at time t) column by first removing rows with ghi==0"
   ]
  },
  {
   "cell_type": "code",
   "execution_count": 51,
   "metadata": {},
   "outputs": [],
   "source": [
    "df_train = df_train[df_train['ghi']!=0]\n",
    "df_test = df_test[df_test['ghi']!=0]\n",
    "df_train['Kt'] = df_train['dw_solar']/df_train['ghi']\n",
    "df_test['Kt'] = df_test['dw_solar']/df_test['ghi']"
   ]
  },
  {
   "cell_type": "code",
   "execution_count": 52,
   "metadata": {},
   "outputs": [],
   "source": [
    "df_train.reset_index(inplace=True)\n",
    "df_test.reset_index(inplace=True)"
   ]
  },
  {
   "cell_type": "code",
   "execution_count": 53,
   "metadata": {},
   "outputs": [
    {
     "name": "stdout",
     "output_type": "stream",
     "text": [
      "test Kt max: 18622.003582590547\n",
      "test Kt min: -1997.8414616673917\n",
      "test Kt mean: 3.2082558853348537\n",
      "\n",
      "\n",
      "train Kt max: 275783.5110086593\n",
      "train Kt min: -1561.168664736838\n",
      "train Kt mean: 3.977201231349393\n"
     ]
    }
   ],
   "source": [
    "print(\"test Kt max: \"+str(df_test['Kt'].max()))\n",
    "print(\"test Kt min: \"+str(df_test['Kt'].min()))\n",
    "print(\"test Kt mean: \"+str(df_test['Kt'].mean()))\n",
    "print(\"\\n\")\n",
    "print(\"train Kt max: \"+str(df_train['Kt'].max()))\n",
    "print(\"train Kt min: \"+str(df_train['Kt'].min()))\n",
    "print(\"train Kt mean: \"+str(df_train['Kt'].mean()))"
   ]
  },
  {
   "cell_type": "code",
   "execution_count": 54,
   "metadata": {},
   "outputs": [
    {
     "data": {
      "text/plain": [
       "[<matplotlib.lines.Line2D at 0xb8daac8>]"
      ]
     },
     "execution_count": 54,
     "metadata": {},
     "output_type": "execute_result"
    },
    {
     "data": {
      "image/png": "[encoded data removed]",
      "text/plain": [
       "<Figure size 432x288 with 1 Axes>"
      ]
     },
     "metadata": {},
     "output_type": "display_data"
    }
   ],
   "source": [
    "plt.plot(df_train['Kt'])"
   ]
  },
  {
   "cell_type": "code",
   "execution_count": 55,
   "metadata": {},
   "outputs": [
    {
     "data": {
      "text/plain": [
       "[<matplotlib.lines.Line2D at 0xc11cda0>]"
      ]
     },
     "execution_count": 55,
     "metadata": {},
     "output_type": "execute_result"
    },
    {
     "data": {
      "image/png": "[encoded data removed]",
      "text/plain": [
       "<Figure size 432x288 with 1 Axes>"
      ]
     },
     "metadata": {},
     "output_type": "display_data"
    }
   ],
   "source": [
    "plt.plot(df_test['Kt'])"
   ]
  },
  {
   "cell_type": "code",
   "execution_count": 56,
   "metadata": {},
   "outputs": [],
   "source": [
    "df_train= df_train[df_train['Kt']< 5000]\n",
    "df_train= df_train[df_train['Kt']> -1000]\n",
    "df_test= df_test[df_test['Kt']< 5000]\n",
    "df_test= df_test[df_test['Kt']> -1000]"
   ]
  },
  {
   "cell_type": "code",
   "execution_count": 57,
   "metadata": {},
   "outputs": [
    {
     "data": {
      "text/html": [
       "<div>\n",
       "<style scoped>\n",
       "    .dataframe tbody tr th:only-of-type {\n",
       "        vertical-align: middle;\n",
       "    }\n",
       "\n",
       "    .dataframe tbody tr th {\n",
       "        vertical-align: top;\n",
       "    }\n",
       "\n",
       "    .dataframe thead th {\n",
       "        text-align: right;\n",
       "    }\n",
       "</style>\n",
       "<table border=\"1\" class=\"dataframe\">\n",
       "  <thead>\n",
       "    <tr style=\"text-align: right;\">\n",
       "      <th></th>\n",
       "      <th>index</th>\n",
       "      <th>year</th>\n",
       "      <th>jday</th>\n",
       "      <th>month</th>\n",
       "      <th>day</th>\n",
       "      <th>hour</th>\n",
       "      <th>min</th>\n",
       "      <th>dt</th>\n",
       "      <th>zen</th>\n",
       "      <th>dw_solar</th>\n",
       "      <th>...</th>\n",
       "      <th>rh</th>\n",
       "      <th>rh_QC</th>\n",
       "      <th>windspd</th>\n",
       "      <th>windspd_QC</th>\n",
       "      <th>winddir</th>\n",
       "      <th>winddir_QC</th>\n",
       "      <th>pressure</th>\n",
       "      <th>pressure_QC</th>\n",
       "      <th>ghi</th>\n",
       "      <th>Kt</th>\n",
       "    </tr>\n",
       "  </thead>\n",
       "  <tbody>\n",
       "    <tr>\n",
       "      <th>0</th>\n",
       "      <td>446</td>\n",
       "      <td>2010.0</td>\n",
       "      <td>1.0</td>\n",
       "      <td>1.0</td>\n",
       "      <td>1.0</td>\n",
       "      <td>7.0</td>\n",
       "      <td>26.0</td>\n",
       "      <td>7.433</td>\n",
       "      <td>162.31</td>\n",
       "      <td>-2.2</td>\n",
       "      <td>...</td>\n",
       "      <td>57.4</td>\n",
       "      <td>0.0</td>\n",
       "      <td>2.3</td>\n",
       "      <td>0.0</td>\n",
       "      <td>16.5</td>\n",
       "      <td>0.0</td>\n",
       "      <td>830.6</td>\n",
       "      <td>0.0</td>\n",
       "      <td>4.162896</td>\n",
       "      <td>-0.528478</td>\n",
       "    </tr>\n",
       "    <tr>\n",
       "      <th>1</th>\n",
       "      <td>447</td>\n",
       "      <td>2010.0</td>\n",
       "      <td>1.0</td>\n",
       "      <td>1.0</td>\n",
       "      <td>1.0</td>\n",
       "      <td>7.0</td>\n",
       "      <td>27.0</td>\n",
       "      <td>7.450</td>\n",
       "      <td>162.25</td>\n",
       "      <td>-2.2</td>\n",
       "      <td>...</td>\n",
       "      <td>58.5</td>\n",
       "      <td>0.0</td>\n",
       "      <td>2.6</td>\n",
       "      <td>0.0</td>\n",
       "      <td>13.7</td>\n",
       "      <td>0.0</td>\n",
       "      <td>830.6</td>\n",
       "      <td>0.0</td>\n",
       "      <td>8.593390</td>\n",
       "      <td>-0.256011</td>\n",
       "    </tr>\n",
       "    <tr>\n",
       "      <th>2</th>\n",
       "      <td>448</td>\n",
       "      <td>2010.0</td>\n",
       "      <td>1.0</td>\n",
       "      <td>1.0</td>\n",
       "      <td>1.0</td>\n",
       "      <td>7.0</td>\n",
       "      <td>28.0</td>\n",
       "      <td>7.467</td>\n",
       "      <td>162.19</td>\n",
       "      <td>-2.0</td>\n",
       "      <td>...</td>\n",
       "      <td>59.1</td>\n",
       "      <td>0.0</td>\n",
       "      <td>2.4</td>\n",
       "      <td>0.0</td>\n",
       "      <td>13.1</td>\n",
       "      <td>0.0</td>\n",
       "      <td>830.6</td>\n",
       "      <td>0.0</td>\n",
       "      <td>11.478161</td>\n",
       "      <td>-0.174244</td>\n",
       "    </tr>\n",
       "    <tr>\n",
       "      <th>3</th>\n",
       "      <td>449</td>\n",
       "      <td>2010.0</td>\n",
       "      <td>1.0</td>\n",
       "      <td>1.0</td>\n",
       "      <td>1.0</td>\n",
       "      <td>7.0</td>\n",
       "      <td>29.0</td>\n",
       "      <td>7.483</td>\n",
       "      <td>162.14</td>\n",
       "      <td>-1.8</td>\n",
       "      <td>...</td>\n",
       "      <td>59.7</td>\n",
       "      <td>0.0</td>\n",
       "      <td>2.7</td>\n",
       "      <td>0.0</td>\n",
       "      <td>14.5</td>\n",
       "      <td>0.0</td>\n",
       "      <td>830.6</td>\n",
       "      <td>0.0</td>\n",
       "      <td>13.503592</td>\n",
       "      <td>-0.133298</td>\n",
       "    </tr>\n",
       "    <tr>\n",
       "      <th>4</th>\n",
       "      <td>450</td>\n",
       "      <td>2010.0</td>\n",
       "      <td>1.0</td>\n",
       "      <td>1.0</td>\n",
       "      <td>1.0</td>\n",
       "      <td>7.0</td>\n",
       "      <td>30.0</td>\n",
       "      <td>7.500</td>\n",
       "      <td>162.07</td>\n",
       "      <td>-1.8</td>\n",
       "      <td>...</td>\n",
       "      <td>60.2</td>\n",
       "      <td>0.0</td>\n",
       "      <td>2.8</td>\n",
       "      <td>0.0</td>\n",
       "      <td>20.6</td>\n",
       "      <td>0.0</td>\n",
       "      <td>830.6</td>\n",
       "      <td>0.0</td>\n",
       "      <td>15.052006</td>\n",
       "      <td>-0.119585</td>\n",
       "    </tr>\n",
       "  </tbody>\n",
       "</table>\n",
       "<p>5 rows × 51 columns</p>\n",
       "</div>"
      ],
      "text/plain": [
       "   index    year  jday  month  day  hour   min     dt     zen  dw_solar  \\\n",
       "0    446  2010.0   1.0    1.0  1.0   7.0  26.0  7.433  162.31      -2.2   \n",
       "1    447  2010.0   1.0    1.0  1.0   7.0  27.0  7.450  162.25      -2.2   \n",
       "2    448  2010.0   1.0    1.0  1.0   7.0  28.0  7.467  162.19      -2.0   \n",
       "3    449  2010.0   1.0    1.0  1.0   7.0  29.0  7.483  162.14      -1.8   \n",
       "4    450  2010.0   1.0    1.0  1.0   7.0  30.0  7.500  162.07      -1.8   \n",
       "\n",
       "     ...       rh  rh_QC  windspd  windspd_QC  winddir  winddir_QC  pressure  \\\n",
       "0    ...     57.4    0.0      2.3         0.0     16.5         0.0     830.6   \n",
       "1    ...     58.5    0.0      2.6         0.0     13.7         0.0     830.6   \n",
       "2    ...     59.1    0.0      2.4         0.0     13.1         0.0     830.6   \n",
       "3    ...     59.7    0.0      2.7         0.0     14.5         0.0     830.6   \n",
       "4    ...     60.2    0.0      2.8         0.0     20.6         0.0     830.6   \n",
       "\n",
       "   pressure_QC        ghi        Kt  \n",
       "0          0.0   4.162896 -0.528478  \n",
       "1          0.0   8.593390 -0.256011  \n",
       "2          0.0  11.478161 -0.174244  \n",
       "3          0.0  13.503592 -0.133298  \n",
       "4          0.0  15.052006 -0.119585  \n",
       "\n",
       "[5 rows x 51 columns]"
      ]
     },
     "execution_count": 57,
     "metadata": {},
     "output_type": "execute_result"
    }
   ],
   "source": [
    "df_train.head()"
   ]
  },
  {
   "cell_type": "markdown",
   "metadata": {},
   "source": [
    "#### Group the data (train dataframe)"
   ]
  },
  {
   "cell_type": "code",
   "execution_count": 58,
   "metadata": {},
   "outputs": [],
   "source": [
    "zen = df_train.groupby(['year','month','day','hour'])['zen'].mean()\n",
    "dw_solar = df_train.groupby(['year','month','day','hour'])['dw_solar'].mean()\n",
    "uw_solar = df_train.groupby(['year','month','day','hour'])['uw_solar'].mean()\n",
    "direct_n = df_train.groupby(['year','month','day','hour'])['direct_n'].mean()\n",
    "diffuse = df_train.groupby(['year','month','day','hour'])['diffuse'].mean()\n",
    "dw_ir = df_train.groupby(['year','month','day','hour'])['dw_ir'].mean()\n",
    "dw_casetemp = df_train.groupby(['year','month','day','hour'])['dw_casetemp'].mean()\n",
    "dw_dometemp = df_train.groupby(['year','month','day','hour'])['dw_dometemp'].mean()\n",
    "uw_ir = df_train.groupby(['year','month','day','hour'])['uw_ir'].mean()\n",
    "uw_casetemp = df_train.groupby(['year','month','day','hour'])['uw_casetemp'].mean()\n",
    "uw_dometemp = df_train.groupby(['year','month','day','hour'])['uw_dometemp'].mean()\n",
    "uvb = df_train.groupby(['year','month','day','hour'])['uvb'].mean()\n",
    "par = df_train.groupby(['year','month','day','hour'])['par'].mean()\n",
    "netsolar = df_train.groupby(['year','month','day','hour'])['netsolar'].mean()\n",
    "netir = df_train.groupby(['year','month','day','hour'])['netir'].mean()\n",
    "totalnet = df_train.groupby(['year','month','day','hour'])['totalnet'].mean()\n",
    "temp = df_train.groupby(['year','month','day','hour'])['temp'].mean()\n",
    "rh = df_train.groupby(['year','month','day','hour'])['rh'].mean()\n",
    "windspd = df_train.groupby(['year','month','day','hour'])['windspd'].mean()\n",
    "winddir = df_train.groupby(['year','month','day','hour'])['winddir'].mean()\n",
    "pressure = df_train.groupby(['year','month','day','hour'])['pressure'].mean()\n",
    "ghi = df_train.groupby(['year','month','day','hour'])['ghi'].mean()\n",
    "Kt = df_train.groupby(['year','month','day','hour'])['Kt'].mean()"
   ]
  },
  {
   "cell_type": "code",
   "execution_count": 59,
   "metadata": {},
   "outputs": [],
   "source": [
    "df_new_train = pd.concat([zen,dw_solar,uw_solar,direct_n,diffuse,dw_ir,dw_casetemp,dw_dometemp,uw_ir,uw_casetemp,uw_dometemp,\n",
    "                    uvb,par,netsolar,netir,totalnet,temp,rh,windspd,winddir,pressure,ghi,Kt], axis=1)"
   ]
  },
  {
   "cell_type": "code",
   "execution_count": 60,
   "metadata": {},
   "outputs": [
    {
     "data": {
      "text/html": [
       "<div>\n",
       "<style scoped>\n",
       "    .dataframe tbody tr th:only-of-type {\n",
       "        vertical-align: middle;\n",
       "    }\n",
       "\n",
       "    .dataframe tbody tr th {\n",
       "        vertical-align: top;\n",
       "    }\n",
       "\n",
       "    .dataframe thead th {\n",
       "        text-align: right;\n",
       "    }\n",
       "</style>\n",
       "<table border=\"1\" class=\"dataframe\">\n",
       "  <thead>\n",
       "    <tr style=\"text-align: right;\">\n",
       "      <th></th>\n",
       "      <th></th>\n",
       "      <th></th>\n",
       "      <th></th>\n",
       "      <th>zen</th>\n",
       "      <th>dw_solar</th>\n",
       "      <th>uw_solar</th>\n",
       "      <th>direct_n</th>\n",
       "      <th>diffuse</th>\n",
       "      <th>dw_ir</th>\n",
       "      <th>dw_casetemp</th>\n",
       "      <th>dw_dometemp</th>\n",
       "      <th>uw_ir</th>\n",
       "      <th>uw_casetemp</th>\n",
       "      <th>...</th>\n",
       "      <th>netsolar</th>\n",
       "      <th>netir</th>\n",
       "      <th>totalnet</th>\n",
       "      <th>temp</th>\n",
       "      <th>rh</th>\n",
       "      <th>windspd</th>\n",
       "      <th>winddir</th>\n",
       "      <th>pressure</th>\n",
       "      <th>ghi</th>\n",
       "      <th>Kt</th>\n",
       "    </tr>\n",
       "    <tr>\n",
       "      <th>year</th>\n",
       "      <th>month</th>\n",
       "      <th>day</th>\n",
       "      <th>hour</th>\n",
       "      <th></th>\n",
       "      <th></th>\n",
       "      <th></th>\n",
       "      <th></th>\n",
       "      <th></th>\n",
       "      <th></th>\n",
       "      <th></th>\n",
       "      <th></th>\n",
       "      <th></th>\n",
       "      <th></th>\n",
       "      <th></th>\n",
       "      <th></th>\n",
       "      <th></th>\n",
       "      <th></th>\n",
       "      <th></th>\n",
       "      <th></th>\n",
       "      <th></th>\n",
       "      <th></th>\n",
       "      <th></th>\n",
       "      <th></th>\n",
       "      <th></th>\n",
       "    </tr>\n",
       "  </thead>\n",
       "  <tbody>\n",
       "    <tr>\n",
       "      <th rowspan=\"5\" valign=\"top\">2010.0</th>\n",
       "      <th rowspan=\"5\" valign=\"top\">1.0</th>\n",
       "      <th rowspan=\"5\" valign=\"top\">1.0</th>\n",
       "      <th>7.0</th>\n",
       "      <td>161.031471</td>\n",
       "      <td>-2.950000</td>\n",
       "      <td>-0.711765</td>\n",
       "      <td>1.138235</td>\n",
       "      <td>0.538235</td>\n",
       "      <td>224.085294</td>\n",
       "      <td>270.364706</td>\n",
       "      <td>269.979412</td>\n",
       "      <td>268.744118</td>\n",
       "      <td>268.611765</td>\n",
       "      <td>...</td>\n",
       "      <td>0.0</td>\n",
       "      <td>-44.652941</td>\n",
       "      <td>-44.652941</td>\n",
       "      <td>-3.211765</td>\n",
       "      <td>56.261765</td>\n",
       "      <td>2.835294</td>\n",
       "      <td>107.311765</td>\n",
       "      <td>830.647059</td>\n",
       "      <td>33.080713</td>\n",
       "      <td>-0.116856</td>\n",
       "    </tr>\n",
       "    <tr>\n",
       "      <th>8.0</th>\n",
       "      <td>155.139333</td>\n",
       "      <td>-3.753333</td>\n",
       "      <td>-0.936667</td>\n",
       "      <td>1.285000</td>\n",
       "      <td>0.513333</td>\n",
       "      <td>223.563333</td>\n",
       "      <td>270.761667</td>\n",
       "      <td>270.405000</td>\n",
       "      <td>275.378333</td>\n",
       "      <td>269.453333</td>\n",
       "      <td>...</td>\n",
       "      <td>0.0</td>\n",
       "      <td>-51.813333</td>\n",
       "      <td>-51.813333</td>\n",
       "      <td>-2.645000</td>\n",
       "      <td>53.351667</td>\n",
       "      <td>3.866667</td>\n",
       "      <td>147.821667</td>\n",
       "      <td>830.728333</td>\n",
       "      <td>143.676328</td>\n",
       "      <td>-0.030061</td>\n",
       "    </tr>\n",
       "    <tr>\n",
       "      <th>9.0</th>\n",
       "      <td>145.065667</td>\n",
       "      <td>-3.293333</td>\n",
       "      <td>-0.251667</td>\n",
       "      <td>1.255000</td>\n",
       "      <td>0.488333</td>\n",
       "      <td>212.618333</td>\n",
       "      <td>270.150000</td>\n",
       "      <td>269.700000</td>\n",
       "      <td>273.045000</td>\n",
       "      <td>268.510000</td>\n",
       "      <td>...</td>\n",
       "      <td>0.0</td>\n",
       "      <td>-60.421667</td>\n",
       "      <td>-60.421667</td>\n",
       "      <td>-3.716667</td>\n",
       "      <td>59.238333</td>\n",
       "      <td>3.315000</td>\n",
       "      <td>63.578333</td>\n",
       "      <td>831.020000</td>\n",
       "      <td>299.581054</td>\n",
       "      <td>-0.011214</td>\n",
       "    </tr>\n",
       "    <tr>\n",
       "      <th>10.0</th>\n",
       "      <td>133.892500</td>\n",
       "      <td>-3.641667</td>\n",
       "      <td>-0.710000</td>\n",
       "      <td>1.795000</td>\n",
       "      <td>0.406667</td>\n",
       "      <td>215.475000</td>\n",
       "      <td>269.760000</td>\n",
       "      <td>269.403333</td>\n",
       "      <td>270.496667</td>\n",
       "      <td>267.760000</td>\n",
       "      <td>...</td>\n",
       "      <td>0.0</td>\n",
       "      <td>-55.031667</td>\n",
       "      <td>-55.031667</td>\n",
       "      <td>-3.923333</td>\n",
       "      <td>60.121667</td>\n",
       "      <td>3.076667</td>\n",
       "      <td>71.128333</td>\n",
       "      <td>831.073333</td>\n",
       "      <td>419.749575</td>\n",
       "      <td>-0.008772</td>\n",
       "    </tr>\n",
       "    <tr>\n",
       "      <th>11.0</th>\n",
       "      <td>122.454000</td>\n",
       "      <td>-3.126667</td>\n",
       "      <td>-0.471667</td>\n",
       "      <td>1.275000</td>\n",
       "      <td>0.456667</td>\n",
       "      <td>216.165000</td>\n",
       "      <td>269.116667</td>\n",
       "      <td>268.663333</td>\n",
       "      <td>269.205000</td>\n",
       "      <td>267.470000</td>\n",
       "      <td>...</td>\n",
       "      <td>0.0</td>\n",
       "      <td>-53.050000</td>\n",
       "      <td>-53.050000</td>\n",
       "      <td>-4.565000</td>\n",
       "      <td>61.175000</td>\n",
       "      <td>3.535000</td>\n",
       "      <td>184.166667</td>\n",
       "      <td>831.015000</td>\n",
       "      <td>486.001859</td>\n",
       "      <td>-0.006431</td>\n",
       "    </tr>\n",
       "  </tbody>\n",
       "</table>\n",
       "<p>5 rows × 23 columns</p>\n",
       "</div>"
      ],
      "text/plain": [
       "                              zen  dw_solar  uw_solar  direct_n   diffuse  \\\n",
       "year   month day hour                                                       \n",
       "2010.0 1.0   1.0 7.0   161.031471 -2.950000 -0.711765  1.138235  0.538235   \n",
       "                 8.0   155.139333 -3.753333 -0.936667  1.285000  0.513333   \n",
       "                 9.0   145.065667 -3.293333 -0.251667  1.255000  0.488333   \n",
       "                 10.0  133.892500 -3.641667 -0.710000  1.795000  0.406667   \n",
       "                 11.0  122.454000 -3.126667 -0.471667  1.275000  0.456667   \n",
       "\n",
       "                            dw_ir  dw_casetemp  dw_dometemp       uw_ir  \\\n",
       "year   month day hour                                                     \n",
       "2010.0 1.0   1.0 7.0   224.085294   270.364706   269.979412  268.744118   \n",
       "                 8.0   223.563333   270.761667   270.405000  275.378333   \n",
       "                 9.0   212.618333   270.150000   269.700000  273.045000   \n",
       "                 10.0  215.475000   269.760000   269.403333  270.496667   \n",
       "                 11.0  216.165000   269.116667   268.663333  269.205000   \n",
       "\n",
       "                       uw_casetemp    ...     netsolar      netir   totalnet  \\\n",
       "year   month day hour                 ...                                      \n",
       "2010.0 1.0   1.0 7.0    268.611765    ...          0.0 -44.652941 -44.652941   \n",
       "                 8.0    269.453333    ...          0.0 -51.813333 -51.813333   \n",
       "                 9.0    268.510000    ...          0.0 -60.421667 -60.421667   \n",
       "                 10.0   267.760000    ...          0.0 -55.031667 -55.031667   \n",
       "                 11.0   267.470000    ...          0.0 -53.050000 -53.050000   \n",
       "\n",
       "                           temp         rh   windspd     winddir    pressure  \\\n",
       "year   month day hour                                                          \n",
       "2010.0 1.0   1.0 7.0  -3.211765  56.261765  2.835294  107.311765  830.647059   \n",
       "                 8.0  -2.645000  53.351667  3.866667  147.821667  830.728333   \n",
       "                 9.0  -3.716667  59.238333  3.315000   63.578333  831.020000   \n",
       "                 10.0 -3.923333  60.121667  3.076667   71.128333  831.073333   \n",
       "                 11.0 -4.565000  61.175000  3.535000  184.166667  831.015000   \n",
       "\n",
       "                              ghi        Kt  \n",
       "year   month day hour                        \n",
       "2010.0 1.0   1.0 7.0    33.080713 -0.116856  \n",
       "                 8.0   143.676328 -0.030061  \n",
       "                 9.0   299.581054 -0.011214  \n",
       "                 10.0  419.749575 -0.008772  \n",
       "                 11.0  486.001859 -0.006431  \n",
       "\n",
       "[5 rows x 23 columns]"
      ]
     },
     "execution_count": 60,
     "metadata": {},
     "output_type": "execute_result"
    }
   ],
   "source": [
    "df_new_train.head()"
   ]
  },
  {
   "cell_type": "markdown",
   "metadata": {},
   "source": [
    "#### Groupdata - test dataframe"
   ]
  },
  {
   "cell_type": "code",
   "execution_count": 61,
   "metadata": {},
   "outputs": [],
   "source": [
    "test_zen = df_test.groupby(['month','day','hour'])['zen'].mean()\n",
    "test_dw_solar = df_test.groupby(['month','day','hour'])['dw_solar'].mean()\n",
    "test_uw_solar = df_test.groupby(['month','day','hour'])['uw_solar'].mean()\n",
    "test_direct_n = df_test.groupby(['month','day','hour'])['direct_n'].mean()\n",
    "test_diffuse = df_test.groupby(['month','day','hour'])['diffuse'].mean()\n",
    "test_dw_ir = df_test.groupby(['month','day','hour'])['dw_ir'].mean()\n",
    "test_dw_casetemp = df_test.groupby(['month','day','hour'])['dw_casetemp'].mean()\n",
    "test_dw_dometemp = df_test.groupby(['month','day','hour'])['dw_dometemp'].mean()\n",
    "test_uw_ir = df_test.groupby(['month','day','hour'])['uw_ir'].mean()\n",
    "test_uw_casetemp = df_test.groupby(['month','day','hour'])['uw_casetemp'].mean()\n",
    "test_uw_dometemp = df_test.groupby(['month','day','hour'])['uw_dometemp'].mean()\n",
    "test_uvb = df_test.groupby(['month','day','hour'])['uvb'].mean()\n",
    "test_par = df_test.groupby(['month','day','hour'])['par'].mean()\n",
    "test_netsolar = df_test.groupby(['month','day','hour'])['netsolar'].mean()\n",
    "test_netir = df_test.groupby(['month','day','hour'])['netir'].mean()\n",
    "test_totalnet = df_test.groupby(['month','day','hour'])['totalnet'].mean()\n",
    "test_temp = df_test.groupby(['month','day','hour'])['temp'].mean()\n",
    "test_rh = df_test.groupby(['month','day','hour'])['rh'].mean()\n",
    "test_windspd = df_test.groupby(['month','day','hour'])['windspd'].mean()\n",
    "test_winddir = df_test.groupby(['month','day','hour'])['winddir'].mean()\n",
    "test_pressure = df_test.groupby(['month','day','hour'])['pressure'].mean()\n",
    "test_ghi = df_test.groupby(['month','day','hour'])['ghi'].mean()\n",
    "test_Kt = df_test.groupby(['month','day','hour'])['Kt'].mean()"
   ]
  },
  {
   "cell_type": "code",
   "execution_count": 62,
   "metadata": {},
   "outputs": [],
   "source": [
    "df_new_test = pd.concat([test_zen,test_dw_solar,test_uw_solar,test_direct_n,test_diffuse,test_dw_ir,\n",
    "                         test_dw_casetemp,test_dw_dometemp,test_uw_ir,test_uw_casetemp,test_uw_dometemp,\n",
    "                    test_uvb,test_par,test_netsolar,test_netir,test_totalnet,test_temp,test_rh,\n",
    "                         test_windspd,test_winddir,test_pressure,test_ghi,test_Kt], axis=1)"
   ]
  },
  {
   "cell_type": "code",
   "execution_count": 63,
   "metadata": {},
   "outputs": [
    {
     "data": {
      "text/html": [
       "<div>\n",
       "<style scoped>\n",
       "    .dataframe tbody tr th:only-of-type {\n",
       "        vertical-align: middle;\n",
       "    }\n",
       "\n",
       "    .dataframe tbody tr th {\n",
       "        vertical-align: top;\n",
       "    }\n",
       "\n",
       "    .dataframe thead th {\n",
       "        text-align: right;\n",
       "    }\n",
       "</style>\n",
       "<table border=\"1\" class=\"dataframe\">\n",
       "  <thead>\n",
       "    <tr style=\"text-align: right;\">\n",
       "      <th></th>\n",
       "      <th>zen</th>\n",
       "      <th>dw_solar</th>\n",
       "      <th>uw_solar</th>\n",
       "      <th>direct_n</th>\n",
       "      <th>diffuse</th>\n",
       "      <th>dw_ir</th>\n",
       "      <th>dw_casetemp</th>\n",
       "      <th>dw_dometemp</th>\n",
       "      <th>uw_ir</th>\n",
       "      <th>uw_casetemp</th>\n",
       "      <th>...</th>\n",
       "      <th>netsolar</th>\n",
       "      <th>netir</th>\n",
       "      <th>totalnet</th>\n",
       "      <th>temp</th>\n",
       "      <th>rh</th>\n",
       "      <th>windspd</th>\n",
       "      <th>winddir</th>\n",
       "      <th>pressure</th>\n",
       "      <th>ghi</th>\n",
       "      <th>Kt</th>\n",
       "    </tr>\n",
       "    <tr>\n",
       "      <th>hour</th>\n",
       "      <th></th>\n",
       "      <th></th>\n",
       "      <th></th>\n",
       "      <th></th>\n",
       "      <th></th>\n",
       "      <th></th>\n",
       "      <th></th>\n",
       "      <th></th>\n",
       "      <th></th>\n",
       "      <th></th>\n",
       "      <th></th>\n",
       "      <th></th>\n",
       "      <th></th>\n",
       "      <th></th>\n",
       "      <th></th>\n",
       "      <th></th>\n",
       "      <th></th>\n",
       "      <th></th>\n",
       "      <th></th>\n",
       "      <th></th>\n",
       "      <th></th>\n",
       "    </tr>\n",
       "  </thead>\n",
       "  <tbody>\n",
       "    <tr>\n",
       "      <th>6.0</th>\n",
       "      <td>151.473333</td>\n",
       "      <td>-3.300000</td>\n",
       "      <td>-0.233333</td>\n",
       "      <td>-3.483333</td>\n",
       "      <td>-0.116667</td>\n",
       "      <td>233.200000</td>\n",
       "      <td>280.250000</td>\n",
       "      <td>279.550000</td>\n",
       "      <td>309.550000</td>\n",
       "      <td>279.016667</td>\n",
       "      <td>...</td>\n",
       "      <td>0.000000</td>\n",
       "      <td>-76.316667</td>\n",
       "      <td>-76.316667</td>\n",
       "      <td>6.783333</td>\n",
       "      <td>37.650000</td>\n",
       "      <td>3.866667</td>\n",
       "      <td>253.666667</td>\n",
       "      <td>820.400000</td>\n",
       "      <td>11.691876</td>\n",
       "      <td>-0.326406</td>\n",
       "    </tr>\n",
       "    <tr>\n",
       "      <th>7.0</th>\n",
       "      <td>151.355333</td>\n",
       "      <td>-3.783333</td>\n",
       "      <td>-1.331667</td>\n",
       "      <td>2.156667</td>\n",
       "      <td>-0.118333</td>\n",
       "      <td>232.493333</td>\n",
       "      <td>279.143333</td>\n",
       "      <td>278.730000</td>\n",
       "      <td>301.550000</td>\n",
       "      <td>278.228333</td>\n",
       "      <td>...</td>\n",
       "      <td>0.000000</td>\n",
       "      <td>-69.071667</td>\n",
       "      <td>-69.071667</td>\n",
       "      <td>6.888333</td>\n",
       "      <td>36.541667</td>\n",
       "      <td>2.335000</td>\n",
       "      <td>236.583333</td>\n",
       "      <td>819.853333</td>\n",
       "      <td>85.439689</td>\n",
       "      <td>-0.067258</td>\n",
       "    </tr>\n",
       "    <tr>\n",
       "      <th>8.0</th>\n",
       "      <td>147.215333</td>\n",
       "      <td>-3.510000</td>\n",
       "      <td>-1.576667</td>\n",
       "      <td>1.040000</td>\n",
       "      <td>-0.085000</td>\n",
       "      <td>228.316667</td>\n",
       "      <td>278.118333</td>\n",
       "      <td>277.690000</td>\n",
       "      <td>292.126667</td>\n",
       "      <td>276.498333</td>\n",
       "      <td>...</td>\n",
       "      <td>0.000000</td>\n",
       "      <td>-63.806667</td>\n",
       "      <td>-63.806667</td>\n",
       "      <td>5.211667</td>\n",
       "      <td>41.668333</td>\n",
       "      <td>1.003333</td>\n",
       "      <td>183.796667</td>\n",
       "      <td>819.033333</td>\n",
       "      <td>276.176482</td>\n",
       "      <td>-0.013317</td>\n",
       "    </tr>\n",
       "    <tr>\n",
       "      <th>9.0</th>\n",
       "      <td>139.073167</td>\n",
       "      <td>-4.836667</td>\n",
       "      <td>-1.441667</td>\n",
       "      <td>3.286667</td>\n",
       "      <td>0.153333</td>\n",
       "      <td>228.880000</td>\n",
       "      <td>278.088333</td>\n",
       "      <td>277.798333</td>\n",
       "      <td>301.906667</td>\n",
       "      <td>276.206667</td>\n",
       "      <td>...</td>\n",
       "      <td>0.000000</td>\n",
       "      <td>-73.030000</td>\n",
       "      <td>-73.030000</td>\n",
       "      <td>5.850000</td>\n",
       "      <td>36.901667</td>\n",
       "      <td>2.431667</td>\n",
       "      <td>154.540000</td>\n",
       "      <td>817.888333</td>\n",
       "      <td>459.734986</td>\n",
       "      <td>-0.010574</td>\n",
       "    </tr>\n",
       "    <tr>\n",
       "      <th>10.0</th>\n",
       "      <td>128.876667</td>\n",
       "      <td>-4.575000</td>\n",
       "      <td>-0.933333</td>\n",
       "      <td>0.893333</td>\n",
       "      <td>-0.031667</td>\n",
       "      <td>230.783333</td>\n",
       "      <td>278.736667</td>\n",
       "      <td>278.345000</td>\n",
       "      <td>308.195000</td>\n",
       "      <td>277.050000</td>\n",
       "      <td>...</td>\n",
       "      <td>0.000000</td>\n",
       "      <td>-77.415000</td>\n",
       "      <td>-77.415000</td>\n",
       "      <td>5.566667</td>\n",
       "      <td>34.063333</td>\n",
       "      <td>3.446667</td>\n",
       "      <td>180.726667</td>\n",
       "      <td>816.726667</td>\n",
       "      <td>599.596511</td>\n",
       "      <td>-0.007646</td>\n",
       "    </tr>\n",
       "    <tr>\n",
       "      <th>11.0</th>\n",
       "      <td>117.762500</td>\n",
       "      <td>-4.770000</td>\n",
       "      <td>-1.326667</td>\n",
       "      <td>2.743333</td>\n",
       "      <td>0.120000</td>\n",
       "      <td>241.015000</td>\n",
       "      <td>279.501667</td>\n",
       "      <td>279.201667</td>\n",
       "      <td>304.923333</td>\n",
       "      <td>277.420000</td>\n",
       "      <td>...</td>\n",
       "      <td>0.000000</td>\n",
       "      <td>-63.898333</td>\n",
       "      <td>-63.898333</td>\n",
       "      <td>6.798333</td>\n",
       "      <td>28.861667</td>\n",
       "      <td>1.726667</td>\n",
       "      <td>144.958333</td>\n",
       "      <td>816.071667</td>\n",
       "      <td>681.707415</td>\n",
       "      <td>-0.006993</td>\n",
       "    </tr>\n",
       "    <tr>\n",
       "      <th>12.0</th>\n",
       "      <td>106.328333</td>\n",
       "      <td>-4.698333</td>\n",
       "      <td>-1.208333</td>\n",
       "      <td>1.531667</td>\n",
       "      <td>0.030000</td>\n",
       "      <td>229.035000</td>\n",
       "      <td>280.325000</td>\n",
       "      <td>279.935000</td>\n",
       "      <td>312.165000</td>\n",
       "      <td>278.568333</td>\n",
       "      <td>...</td>\n",
       "      <td>0.000000</td>\n",
       "      <td>-83.126667</td>\n",
       "      <td>-83.126667</td>\n",
       "      <td>7.463333</td>\n",
       "      <td>28.286667</td>\n",
       "      <td>3.046667</td>\n",
       "      <td>217.635000</td>\n",
       "      <td>815.656667</td>\n",
       "      <td>699.157260</td>\n",
       "      <td>-0.006720</td>\n",
       "    </tr>\n",
       "    <tr>\n",
       "      <th>13.0</th>\n",
       "      <td>94.871333</td>\n",
       "      <td>-3.521667</td>\n",
       "      <td>0.295000</td>\n",
       "      <td>18.040000</td>\n",
       "      <td>1.958333</td>\n",
       "      <td>227.543333</td>\n",
       "      <td>280.648333</td>\n",
       "      <td>280.078333</td>\n",
       "      <td>324.303333</td>\n",
       "      <td>279.133333</td>\n",
       "      <td>...</td>\n",
       "      <td>1.470000</td>\n",
       "      <td>-96.761667</td>\n",
       "      <td>-95.290000</td>\n",
       "      <td>7.078333</td>\n",
       "      <td>32.360000</td>\n",
       "      <td>10.041667</td>\n",
       "      <td>249.865000</td>\n",
       "      <td>815.330000</td>\n",
       "      <td>650.549614</td>\n",
       "      <td>-0.005250</td>\n",
       "    </tr>\n",
       "    <tr>\n",
       "      <th>14.0</th>\n",
       "      <td>83.779333</td>\n",
       "      <td>78.048333</td>\n",
       "      <td>23.100000</td>\n",
       "      <td>542.223333</td>\n",
       "      <td>32.271667</td>\n",
       "      <td>230.468333</td>\n",
       "      <td>281.270000</td>\n",
       "      <td>280.663333</td>\n",
       "      <td>329.951667</td>\n",
       "      <td>278.816667</td>\n",
       "      <td>...</td>\n",
       "      <td>75.555000</td>\n",
       "      <td>-99.493333</td>\n",
       "      <td>-23.943333</td>\n",
       "      <td>6.751667</td>\n",
       "      <td>36.701667</td>\n",
       "      <td>9.171667</td>\n",
       "      <td>242.581667</td>\n",
       "      <td>815.920000</td>\n",
       "      <td>539.852805</td>\n",
       "      <td>0.152844</td>\n",
       "    </tr>\n",
       "    <tr>\n",
       "      <th>15.0</th>\n",
       "      <td>73.632167</td>\n",
       "      <td>268.235000</td>\n",
       "      <td>56.083333</td>\n",
       "      <td>839.303333</td>\n",
       "      <td>49.900000</td>\n",
       "      <td>229.556667</td>\n",
       "      <td>284.176667</td>\n",
       "      <td>283.490000</td>\n",
       "      <td>349.180000</td>\n",
       "      <td>280.603333</td>\n",
       "      <td>...</td>\n",
       "      <td>232.223333</td>\n",
       "      <td>-119.618333</td>\n",
       "      <td>112.601667</td>\n",
       "      <td>8.125000</td>\n",
       "      <td>34.693333</td>\n",
       "      <td>7.085000</td>\n",
       "      <td>223.708333</td>\n",
       "      <td>815.900000</td>\n",
       "      <td>376.947686</td>\n",
       "      <td>0.748434</td>\n",
       "    </tr>\n",
       "    <tr>\n",
       "      <th>16.0</th>\n",
       "      <td>64.618000</td>\n",
       "      <td>455.048333</td>\n",
       "      <td>80.918333</td>\n",
       "      <td>950.301667</td>\n",
       "      <td>60.190000</td>\n",
       "      <td>225.805000</td>\n",
       "      <td>285.555000</td>\n",
       "      <td>284.541667</td>\n",
       "      <td>364.461667</td>\n",
       "      <td>281.606667</td>\n",
       "      <td>...</td>\n",
       "      <td>386.976667</td>\n",
       "      <td>-138.648333</td>\n",
       "      <td>248.321667</td>\n",
       "      <td>8.815000</td>\n",
       "      <td>26.081667</td>\n",
       "      <td>10.761667</td>\n",
       "      <td>257.903333</td>\n",
       "      <td>815.588333</td>\n",
       "      <td>182.049631</td>\n",
       "      <td>2.903754</td>\n",
       "    </tr>\n",
       "    <tr>\n",
       "      <th>17.0</th>\n",
       "      <td>58.554737</td>\n",
       "      <td>579.668421</td>\n",
       "      <td>96.150000</td>\n",
       "      <td>999.321053</td>\n",
       "      <td>64.242105</td>\n",
       "      <td>219.452632</td>\n",
       "      <td>284.897368</td>\n",
       "      <td>283.692105</td>\n",
       "      <td>367.189474</td>\n",
       "      <td>280.934211</td>\n",
       "      <td>...</td>\n",
       "      <td>489.452632</td>\n",
       "      <td>-147.736842</td>\n",
       "      <td>341.721053</td>\n",
       "      <td>8.086842</td>\n",
       "      <td>25.373684</td>\n",
       "      <td>15.331579</td>\n",
       "      <td>255.897368</td>\n",
       "      <td>814.931579</td>\n",
       "      <td>39.993730</td>\n",
       "      <td>24.850513</td>\n",
       "    </tr>\n",
       "  </tbody>\n",
       "</table>\n",
       "<p>12 rows × 23 columns</p>\n",
       "</div>"
      ],
      "text/plain": [
       "             zen    dw_solar   uw_solar    direct_n    diffuse       dw_ir  \\\n",
       "hour                                                                         \n",
       "6.0   151.473333   -3.300000  -0.233333   -3.483333  -0.116667  233.200000   \n",
       "7.0   151.355333   -3.783333  -1.331667    2.156667  -0.118333  232.493333   \n",
       "8.0   147.215333   -3.510000  -1.576667    1.040000  -0.085000  228.316667   \n",
       "9.0   139.073167   -4.836667  -1.441667    3.286667   0.153333  228.880000   \n",
       "10.0  128.876667   -4.575000  -0.933333    0.893333  -0.031667  230.783333   \n",
       "11.0  117.762500   -4.770000  -1.326667    2.743333   0.120000  241.015000   \n",
       "12.0  106.328333   -4.698333  -1.208333    1.531667   0.030000  229.035000   \n",
       "13.0   94.871333   -3.521667   0.295000   18.040000   1.958333  227.543333   \n",
       "14.0   83.779333   78.048333  23.100000  542.223333  32.271667  230.468333   \n",
       "15.0   73.632167  268.235000  56.083333  839.303333  49.900000  229.556667   \n",
       "16.0   64.618000  455.048333  80.918333  950.301667  60.190000  225.805000   \n",
       "17.0   58.554737  579.668421  96.150000  999.321053  64.242105  219.452632   \n",
       "\n",
       "      dw_casetemp  dw_dometemp       uw_ir  uw_casetemp    ...      \\\n",
       "hour                                                       ...       \n",
       "6.0    280.250000   279.550000  309.550000   279.016667    ...       \n",
       "7.0    279.143333   278.730000  301.550000   278.228333    ...       \n",
       "8.0    278.118333   277.690000  292.126667   276.498333    ...       \n",
       "9.0    278.088333   277.798333  301.906667   276.206667    ...       \n",
       "10.0   278.736667   278.345000  308.195000   277.050000    ...       \n",
       "11.0   279.501667   279.201667  304.923333   277.420000    ...       \n",
       "12.0   280.325000   279.935000  312.165000   278.568333    ...       \n",
       "13.0   280.648333   280.078333  324.303333   279.133333    ...       \n",
       "14.0   281.270000   280.663333  329.951667   278.816667    ...       \n",
       "15.0   284.176667   283.490000  349.180000   280.603333    ...       \n",
       "16.0   285.555000   284.541667  364.461667   281.606667    ...       \n",
       "17.0   284.897368   283.692105  367.189474   280.934211    ...       \n",
       "\n",
       "        netsolar       netir    totalnet      temp         rh    windspd  \\\n",
       "hour                                                                       \n",
       "6.0     0.000000  -76.316667  -76.316667  6.783333  37.650000   3.866667   \n",
       "7.0     0.000000  -69.071667  -69.071667  6.888333  36.541667   2.335000   \n",
       "8.0     0.000000  -63.806667  -63.806667  5.211667  41.668333   1.003333   \n",
       "9.0     0.000000  -73.030000  -73.030000  5.850000  36.901667   2.431667   \n",
       "10.0    0.000000  -77.415000  -77.415000  5.566667  34.063333   3.446667   \n",
       "11.0    0.000000  -63.898333  -63.898333  6.798333  28.861667   1.726667   \n",
       "12.0    0.000000  -83.126667  -83.126667  7.463333  28.286667   3.046667   \n",
       "13.0    1.470000  -96.761667  -95.290000  7.078333  32.360000  10.041667   \n",
       "14.0   75.555000  -99.493333  -23.943333  6.751667  36.701667   9.171667   \n",
       "15.0  232.223333 -119.618333  112.601667  8.125000  34.693333   7.085000   \n",
       "16.0  386.976667 -138.648333  248.321667  8.815000  26.081667  10.761667   \n",
       "17.0  489.452632 -147.736842  341.721053  8.086842  25.373684  15.331579   \n",
       "\n",
       "         winddir    pressure         ghi         Kt  \n",
       "hour                                                 \n",
       "6.0   253.666667  820.400000   11.691876  -0.326406  \n",
       "7.0   236.583333  819.853333   85.439689  -0.067258  \n",
       "8.0   183.796667  819.033333  276.176482  -0.013317  \n",
       "9.0   154.540000  817.888333  459.734986  -0.010574  \n",
       "10.0  180.726667  816.726667  599.596511  -0.007646  \n",
       "11.0  144.958333  816.071667  681.707415  -0.006993  \n",
       "12.0  217.635000  815.656667  699.157260  -0.006720  \n",
       "13.0  249.865000  815.330000  650.549614  -0.005250  \n",
       "14.0  242.581667  815.920000  539.852805   0.152844  \n",
       "15.0  223.708333  815.900000  376.947686   0.748434  \n",
       "16.0  257.903333  815.588333  182.049631   2.903754  \n",
       "17.0  255.897368  814.931579   39.993730  24.850513  \n",
       "\n",
       "[12 rows x 23 columns]"
      ]
     },
     "execution_count": 63,
     "metadata": {},
     "output_type": "execute_result"
    }
   ],
   "source": [
    "df_new_test.loc[2].xs(17,level='day')"
   ]
  },
  {
   "cell_type": "markdown",
   "metadata": {},
   "source": [
    "### Shifting Kt values to make 1 hour ahead forecast"
   ]
  },
  {
   "cell_type": "markdown",
   "metadata": {},
   "source": [
    "#### Train dataset"
   ]
  },
  {
   "cell_type": "code",
   "execution_count": 64,
   "metadata": {},
   "outputs": [],
   "source": [
    "levels_index= []\n",
    "for m in df_new_train.index.levels:\n",
    "    levels_index.append(m)"
   ]
  },
  {
   "cell_type": "code",
   "execution_count": 65,
   "metadata": {
    "scrolled": true
   },
   "outputs": [],
   "source": [
    "for i in levels_index[0]:\n",
    "    for j in levels_index[1]:\n",
    "        df_new_train.loc[i].loc[j]['Kt'] = df_new_train.loc[i].loc[j]['Kt'].shift(-1)"
   ]
  },
  {
   "cell_type": "code",
   "execution_count": 66,
   "metadata": {},
   "outputs": [],
   "source": [
    "df_new_train = df_new_train[~(df_new_train['Kt'].isnull())]"
   ]
  },
  {
   "cell_type": "markdown",
   "metadata": {},
   "source": [
    "#### Test dataset"
   ]
  },
  {
   "cell_type": "code",
   "execution_count": 67,
   "metadata": {},
   "outputs": [],
   "source": [
    "levels_index2= []\n",
    "for m in df_new_test.index.levels:\n",
    "    levels_index2.append(m)"
   ]
  },
  {
   "cell_type": "code",
   "execution_count": 68,
   "metadata": {},
   "outputs": [],
   "source": [
    "for i in levels_index2[0]:\n",
    "    for j in levels_index2[1]:\n",
    "        df_new_test.loc[i].loc[j]['Kt'] = df_new_test.loc[i].loc[j]['Kt'].shift(-1)"
   ]
  },
  {
   "cell_type": "code",
   "execution_count": 69,
   "metadata": {},
   "outputs": [],
   "source": [
    "df_new_test = df_new_test[~(df_new_test['Kt'].isnull())]"
   ]
  },
  {
   "cell_type": "code",
   "execution_count": 70,
   "metadata": {},
   "outputs": [
    {
     "data": {
      "text/html": [
       "<div>\n",
       "<style scoped>\n",
       "    .dataframe tbody tr th:only-of-type {\n",
       "        vertical-align: middle;\n",
       "    }\n",
       "\n",
       "    .dataframe tbody tr th {\n",
       "        vertical-align: top;\n",
       "    }\n",
       "\n",
       "    .dataframe thead th {\n",
       "        text-align: right;\n",
       "    }\n",
       "</style>\n",
       "<table border=\"1\" class=\"dataframe\">\n",
       "  <thead>\n",
       "    <tr style=\"text-align: right;\">\n",
       "      <th></th>\n",
       "      <th></th>\n",
       "      <th></th>\n",
       "      <th>zen</th>\n",
       "      <th>dw_solar</th>\n",
       "      <th>uw_solar</th>\n",
       "      <th>direct_n</th>\n",
       "      <th>diffuse</th>\n",
       "      <th>dw_ir</th>\n",
       "      <th>dw_casetemp</th>\n",
       "      <th>dw_dometemp</th>\n",
       "      <th>uw_ir</th>\n",
       "      <th>uw_casetemp</th>\n",
       "      <th>...</th>\n",
       "      <th>netsolar</th>\n",
       "      <th>netir</th>\n",
       "      <th>totalnet</th>\n",
       "      <th>temp</th>\n",
       "      <th>rh</th>\n",
       "      <th>windspd</th>\n",
       "      <th>winddir</th>\n",
       "      <th>pressure</th>\n",
       "      <th>ghi</th>\n",
       "      <th>Kt</th>\n",
       "    </tr>\n",
       "    <tr>\n",
       "      <th>month</th>\n",
       "      <th>day</th>\n",
       "      <th>hour</th>\n",
       "      <th></th>\n",
       "      <th></th>\n",
       "      <th></th>\n",
       "      <th></th>\n",
       "      <th></th>\n",
       "      <th></th>\n",
       "      <th></th>\n",
       "      <th></th>\n",
       "      <th></th>\n",
       "      <th></th>\n",
       "      <th></th>\n",
       "      <th></th>\n",
       "      <th></th>\n",
       "      <th></th>\n",
       "      <th></th>\n",
       "      <th></th>\n",
       "      <th></th>\n",
       "      <th></th>\n",
       "      <th></th>\n",
       "      <th></th>\n",
       "      <th></th>\n",
       "    </tr>\n",
       "  </thead>\n",
       "  <tbody>\n",
       "    <tr>\n",
       "      <th>3.0</th>\n",
       "      <th>11.0</th>\n",
       "      <th>18.0</th>\n",
       "      <td>44.765833</td>\n",
       "      <td>815.241667</td>\n",
       "      <td>123.763333</td>\n",
       "      <td>1004.053333</td>\n",
       "      <td>79.721667</td>\n",
       "      <td>199.776667</td>\n",
       "      <td>277.12</td>\n",
       "      <td>276.648333</td>\n",
       "      <td>392.78</td>\n",
       "      <td>273.916667</td>\n",
       "      <td>...</td>\n",
       "      <td>668.746667</td>\n",
       "      <td>-193.015</td>\n",
       "      <td>475.741667</td>\n",
       "      <td>-1.26</td>\n",
       "      <td>50.875</td>\n",
       "      <td>2.656667</td>\n",
       "      <td>94.016667</td>\n",
       "      <td>833.296667</td>\n",
       "      <td>75.221941</td>\n",
       "      <td>1026.823214</td>\n",
       "    </tr>\n",
       "  </tbody>\n",
       "</table>\n",
       "<p>1 rows × 23 columns</p>\n",
       "</div>"
      ],
      "text/plain": [
       "                       zen    dw_solar    uw_solar     direct_n    diffuse  \\\n",
       "month day  hour                                                              \n",
       "3.0   11.0 18.0  44.765833  815.241667  123.763333  1004.053333  79.721667   \n",
       "\n",
       "                      dw_ir  dw_casetemp  dw_dometemp   uw_ir  uw_casetemp  \\\n",
       "month day  hour                                                              \n",
       "3.0   11.0 18.0  199.776667       277.12   276.648333  392.78   273.916667   \n",
       "\n",
       "                    ...         netsolar    netir    totalnet  temp      rh  \\\n",
       "month day  hour     ...                                                       \n",
       "3.0   11.0 18.0     ...       668.746667 -193.015  475.741667 -1.26  50.875   \n",
       "\n",
       "                  windspd    winddir    pressure        ghi           Kt  \n",
       "month day  hour                                                           \n",
       "3.0   11.0 18.0  2.656667  94.016667  833.296667  75.221941  1026.823214  \n",
       "\n",
       "[1 rows x 23 columns]"
      ]
     },
     "execution_count": 70,
     "metadata": {},
     "output_type": "execute_result"
    }
   ],
   "source": [
    "df_new_test[df_new_test['Kt']==df_new_test['Kt'].max()]"
   ]
  },
  {
   "cell_type": "markdown",
   "metadata": {},
   "source": [
    "### Normalize train and test dataframe"
   ]
  },
  {
   "cell_type": "code",
   "execution_count": 71,
   "metadata": {},
   "outputs": [],
   "source": [
    "train_norm = (df_new_train - df_new_train.mean()) / (df_new_train.max() - df_new_train.min())\n",
    "test_norm =  (df_new_test - df_new_test.mean()) / (df_new_test.max() - df_new_test.min())"
   ]
  },
  {
   "cell_type": "code",
   "execution_count": 72,
   "metadata": {},
   "outputs": [],
   "source": [
    "train_norm.reset_index(inplace=True,drop=True)\n",
    "test_norm.reset_index(inplace=True,drop=True)"
   ]
  },
  {
   "cell_type": "markdown",
   "metadata": {
    "collapsed": true
   },
   "source": [
    "### Making train and test sets with train_norm and test_norm"
   ]
  },
  {
   "cell_type": "markdown",
   "metadata": {
    "collapsed": true
   },
   "source": [
    "#### finding the gcf (greatest common factor) of train and test dataset's length and chop off the extra rows to make it divisible with the batchsize"
   ]
  },
  {
   "cell_type": "code",
   "execution_count": 73,
   "metadata": {},
   "outputs": [
    {
     "name": "stderr",
     "output_type": "stream",
     "text": [
      "C:\\Users\\s269596\\AppData\\Local\\Continuum\\Anaconda3\\lib\\site-packages\\ipykernel_launcher.py:2: DeprecationWarning: fractions.gcd() is deprecated. Use math.gcd() instead.\n",
      "  \n"
     ]
    },
    {
     "data": {
      "text/plain": [
       "1"
      ]
     },
     "execution_count": 73,
     "metadata": {},
     "output_type": "execute_result"
    }
   ],
   "source": [
    "from fractions import gcd\n",
    "gcd(train_norm.shape[0],test_norm.shape[0])"
   ]
  },
  {
   "cell_type": "code",
   "execution_count": 74,
   "metadata": {},
   "outputs": [],
   "source": [
    "import math\n",
    "def roundup(x):\n",
    "    return int(math.ceil(x / 100.0)) * 100"
   ]
  },
  {
   "cell_type": "code",
   "execution_count": 75,
   "metadata": {},
   "outputs": [],
   "source": [
    "train_lim = roundup(train_norm.shape[0])\n",
    "test_lim = roundup(test_norm.shape[0])\n",
    "\n",
    "train_random = train_norm.sample(train_lim-train_norm.shape[0])\n",
    "test_random = test_norm.sample(test_lim-test_norm.shape[0])\n",
    "\n",
    "train_norm = train_norm.append(train_random)\n",
    "test_norm = test_norm.append(test_random)"
   ]
  },
  {
   "cell_type": "code",
   "execution_count": 94,
   "metadata": {},
   "outputs": [
    {
     "data": {
      "text/html": [
       "<div>\n",
       "<style scoped>\n",
       "    .dataframe tbody tr th:only-of-type {\n",
       "        vertical-align: middle;\n",
       "    }\n",
       "\n",
       "    .dataframe tbody tr th {\n",
       "        vertical-align: top;\n",
       "    }\n",
       "\n",
       "    .dataframe thead th {\n",
       "        text-align: right;\n",
       "    }\n",
       "</style>\n",
       "<table border=\"1\" class=\"dataframe\">\n",
       "  <thead>\n",
       "    <tr style=\"text-align: right;\">\n",
       "      <th></th>\n",
       "      <th></th>\n",
       "      <th></th>\n",
       "      <th></th>\n",
       "      <th>zen</th>\n",
       "      <th>dw_solar</th>\n",
       "      <th>uw_solar</th>\n",
       "      <th>direct_n</th>\n",
       "      <th>diffuse</th>\n",
       "      <th>dw_ir</th>\n",
       "      <th>dw_casetemp</th>\n",
       "      <th>dw_dometemp</th>\n",
       "      <th>uw_ir</th>\n",
       "      <th>uw_casetemp</th>\n",
       "      <th>...</th>\n",
       "      <th>netsolar</th>\n",
       "      <th>netir</th>\n",
       "      <th>totalnet</th>\n",
       "      <th>temp</th>\n",
       "      <th>rh</th>\n",
       "      <th>windspd</th>\n",
       "      <th>winddir</th>\n",
       "      <th>pressure</th>\n",
       "      <th>ghi</th>\n",
       "      <th>Kt</th>\n",
       "    </tr>\n",
       "    <tr>\n",
       "      <th>year</th>\n",
       "      <th>month</th>\n",
       "      <th>day</th>\n",
       "      <th>hour</th>\n",
       "      <th></th>\n",
       "      <th></th>\n",
       "      <th></th>\n",
       "      <th></th>\n",
       "      <th></th>\n",
       "      <th></th>\n",
       "      <th></th>\n",
       "      <th></th>\n",
       "      <th></th>\n",
       "      <th></th>\n",
       "      <th></th>\n",
       "      <th></th>\n",
       "      <th></th>\n",
       "      <th></th>\n",
       "      <th></th>\n",
       "      <th></th>\n",
       "      <th></th>\n",
       "      <th></th>\n",
       "      <th></th>\n",
       "      <th></th>\n",
       "      <th></th>\n",
       "    </tr>\n",
       "  </thead>\n",
       "  <tbody>\n",
       "    <tr>\n",
       "      <th rowspan=\"5\" valign=\"top\">2010.0</th>\n",
       "      <th rowspan=\"5\" valign=\"top\">1.0</th>\n",
       "      <th rowspan=\"5\" valign=\"top\">1.0</th>\n",
       "      <th>7.0</th>\n",
       "      <td>161.031471</td>\n",
       "      <td>-2.950000</td>\n",
       "      <td>-0.711765</td>\n",
       "      <td>1.138235</td>\n",
       "      <td>0.538235</td>\n",
       "      <td>224.085294</td>\n",
       "      <td>270.364706</td>\n",
       "      <td>269.979412</td>\n",
       "      <td>268.744118</td>\n",
       "      <td>268.611765</td>\n",
       "      <td>...</td>\n",
       "      <td>0.0</td>\n",
       "      <td>-44.652941</td>\n",
       "      <td>-44.652941</td>\n",
       "      <td>-3.211765</td>\n",
       "      <td>56.261765</td>\n",
       "      <td>2.835294</td>\n",
       "      <td>107.311765</td>\n",
       "      <td>830.647059</td>\n",
       "      <td>33.080713</td>\n",
       "      <td>-0.030061</td>\n",
       "    </tr>\n",
       "    <tr>\n",
       "      <th>8.0</th>\n",
       "      <td>155.139333</td>\n",
       "      <td>-3.753333</td>\n",
       "      <td>-0.936667</td>\n",
       "      <td>1.285000</td>\n",
       "      <td>0.513333</td>\n",
       "      <td>223.563333</td>\n",
       "      <td>270.761667</td>\n",
       "      <td>270.405000</td>\n",
       "      <td>275.378333</td>\n",
       "      <td>269.453333</td>\n",
       "      <td>...</td>\n",
       "      <td>0.0</td>\n",
       "      <td>-51.813333</td>\n",
       "      <td>-51.813333</td>\n",
       "      <td>-2.645000</td>\n",
       "      <td>53.351667</td>\n",
       "      <td>3.866667</td>\n",
       "      <td>147.821667</td>\n",
       "      <td>830.728333</td>\n",
       "      <td>143.676328</td>\n",
       "      <td>-0.011214</td>\n",
       "    </tr>\n",
       "    <tr>\n",
       "      <th>9.0</th>\n",
       "      <td>145.065667</td>\n",
       "      <td>-3.293333</td>\n",
       "      <td>-0.251667</td>\n",
       "      <td>1.255000</td>\n",
       "      <td>0.488333</td>\n",
       "      <td>212.618333</td>\n",
       "      <td>270.150000</td>\n",
       "      <td>269.700000</td>\n",
       "      <td>273.045000</td>\n",
       "      <td>268.510000</td>\n",
       "      <td>...</td>\n",
       "      <td>0.0</td>\n",
       "      <td>-60.421667</td>\n",
       "      <td>-60.421667</td>\n",
       "      <td>-3.716667</td>\n",
       "      <td>59.238333</td>\n",
       "      <td>3.315000</td>\n",
       "      <td>63.578333</td>\n",
       "      <td>831.020000</td>\n",
       "      <td>299.581054</td>\n",
       "      <td>-0.008772</td>\n",
       "    </tr>\n",
       "    <tr>\n",
       "      <th>10.0</th>\n",
       "      <td>133.892500</td>\n",
       "      <td>-3.641667</td>\n",
       "      <td>-0.710000</td>\n",
       "      <td>1.795000</td>\n",
       "      <td>0.406667</td>\n",
       "      <td>215.475000</td>\n",
       "      <td>269.760000</td>\n",
       "      <td>269.403333</td>\n",
       "      <td>270.496667</td>\n",
       "      <td>267.760000</td>\n",
       "      <td>...</td>\n",
       "      <td>0.0</td>\n",
       "      <td>-55.031667</td>\n",
       "      <td>-55.031667</td>\n",
       "      <td>-3.923333</td>\n",
       "      <td>60.121667</td>\n",
       "      <td>3.076667</td>\n",
       "      <td>71.128333</td>\n",
       "      <td>831.073333</td>\n",
       "      <td>419.749575</td>\n",
       "      <td>-0.006431</td>\n",
       "    </tr>\n",
       "    <tr>\n",
       "      <th>11.0</th>\n",
       "      <td>122.454000</td>\n",
       "      <td>-3.126667</td>\n",
       "      <td>-0.471667</td>\n",
       "      <td>1.275000</td>\n",
       "      <td>0.456667</td>\n",
       "      <td>216.165000</td>\n",
       "      <td>269.116667</td>\n",
       "      <td>268.663333</td>\n",
       "      <td>269.205000</td>\n",
       "      <td>267.470000</td>\n",
       "      <td>...</td>\n",
       "      <td>0.0</td>\n",
       "      <td>-53.050000</td>\n",
       "      <td>-53.050000</td>\n",
       "      <td>-4.565000</td>\n",
       "      <td>61.175000</td>\n",
       "      <td>3.535000</td>\n",
       "      <td>184.166667</td>\n",
       "      <td>831.015000</td>\n",
       "      <td>486.001859</td>\n",
       "      <td>-0.007064</td>\n",
       "    </tr>\n",
       "  </tbody>\n",
       "</table>\n",
       "<p>5 rows × 23 columns</p>\n",
       "</div>"
      ],
      "text/plain": [
       "                              zen  dw_solar  uw_solar  direct_n   diffuse  \\\n",
       "year   month day hour                                                       \n",
       "2010.0 1.0   1.0 7.0   161.031471 -2.950000 -0.711765  1.138235  0.538235   \n",
       "                 8.0   155.139333 -3.753333 -0.936667  1.285000  0.513333   \n",
       "                 9.0   145.065667 -3.293333 -0.251667  1.255000  0.488333   \n",
       "                 10.0  133.892500 -3.641667 -0.710000  1.795000  0.406667   \n",
       "                 11.0  122.454000 -3.126667 -0.471667  1.275000  0.456667   \n",
       "\n",
       "                            dw_ir  dw_casetemp  dw_dometemp       uw_ir  \\\n",
       "year   month day hour                                                     \n",
       "2010.0 1.0   1.0 7.0   224.085294   270.364706   269.979412  268.744118   \n",
       "                 8.0   223.563333   270.761667   270.405000  275.378333   \n",
       "                 9.0   212.618333   270.150000   269.700000  273.045000   \n",
       "                 10.0  215.475000   269.760000   269.403333  270.496667   \n",
       "                 11.0  216.165000   269.116667   268.663333  269.205000   \n",
       "\n",
       "                       uw_casetemp    ...     netsolar      netir   totalnet  \\\n",
       "year   month day hour                 ...                                      \n",
       "2010.0 1.0   1.0 7.0    268.611765    ...          0.0 -44.652941 -44.652941   \n",
       "                 8.0    269.453333    ...          0.0 -51.813333 -51.813333   \n",
       "                 9.0    268.510000    ...          0.0 -60.421667 -60.421667   \n",
       "                 10.0   267.760000    ...          0.0 -55.031667 -55.031667   \n",
       "                 11.0   267.470000    ...          0.0 -53.050000 -53.050000   \n",
       "\n",
       "                           temp         rh   windspd     winddir    pressure  \\\n",
       "year   month day hour                                                          \n",
       "2010.0 1.0   1.0 7.0  -3.211765  56.261765  2.835294  107.311765  830.647059   \n",
       "                 8.0  -2.645000  53.351667  3.866667  147.821667  830.728333   \n",
       "                 9.0  -3.716667  59.238333  3.315000   63.578333  831.020000   \n",
       "                 10.0 -3.923333  60.121667  3.076667   71.128333  831.073333   \n",
       "                 11.0 -4.565000  61.175000  3.535000  184.166667  831.015000   \n",
       "\n",
       "                              ghi        Kt  \n",
       "year   month day hour                        \n",
       "2010.0 1.0   1.0 7.0    33.080713 -0.030061  \n",
       "                 8.0   143.676328 -0.011214  \n",
       "                 9.0   299.581054 -0.008772  \n",
       "                 10.0  419.749575 -0.006431  \n",
       "                 11.0  486.001859 -0.007064  \n",
       "\n",
       "[5 rows x 23 columns]"
      ]
     },
     "execution_count": 94,
     "metadata": {},
     "output_type": "execute_result"
    }
   ],
   "source": [
    "df_new_train.head()"
   ]
  },
  {
   "cell_type": "code",
   "execution_count": 77,
   "metadata": {},
   "outputs": [],
   "source": [
    "X1 = train_norm.drop('Kt',axis=1)\n",
    "y1 = train_norm['Kt']\n",
    "\n",
    "X2 = test_norm.drop('Kt',axis=1)\n",
    "y2 = test_norm['Kt']"
   ]
  },
  {
   "cell_type": "code",
   "execution_count": 78,
   "metadata": {
    "scrolled": true
   },
   "outputs": [
    {
     "name": "stdout",
     "output_type": "stream",
     "text": [
      "X1_train shape is (9400, 22)\n",
      "y1_train shape is (9400,)\n",
      "X2_test shape is (4300, 22)\n",
      "y2_test shape is (4300,)\n"
     ]
    }
   ],
   "source": [
    "print(\"X1_train shape is {}\".format(X1.shape))\n",
    "print(\"y1_train shape is {}\".format(y1.shape))\n",
    "print(\"X2_test shape is {}\".format(X2.shape))\n",
    "print(\"y2_test shape is {}\".format(y2.shape))"
   ]
  },
  {
   "cell_type": "code",
   "execution_count": 79,
   "metadata": {},
   "outputs": [],
   "source": [
    "X_train = np.array(X1)\n",
    "y_train  = np.array(y1)\n",
    "X_test = np.array(X2)\n",
    "y_test = np.array(y2)"
   ]
  },
  {
   "cell_type": "markdown",
   "metadata": {},
   "source": [
    "### start of RNN"
   ]
  },
  {
   "cell_type": "code",
   "execution_count": 80,
   "metadata": {},
   "outputs": [],
   "source": [
    "import torch\n",
    "import torch.nn as nn\n",
    "import torchvision.transforms as transforms\n",
    "import torchvision.datasets as dsets\n",
    "from torch.autograd import Variable"
   ]
  },
  {
   "cell_type": "code",
   "execution_count": 81,
   "metadata": {},
   "outputs": [],
   "source": [
    "class RNNModel(nn.Module):\n",
    "    def __init__(self, input_dim, hidden_dim, layer_dim, output_dim):\n",
    "        super(RNNModel, self).__init__()\n",
    "        #Hidden Dimension\n",
    "        self.hidden_dim = hidden_dim\n",
    "        \n",
    "        # Number of hidden layers\n",
    "        self.layer_dim = layer_dim\n",
    "        \n",
    "        #Building the RNN\n",
    "        self.rnn = nn.RNN(input_dim, hidden_dim, layer_dim, batch_first=True, nonlinearity='relu')\n",
    "        \n",
    "        # Readout layer\n",
    "        self.fc = nn.Linear(hidden_dim, output_dim)\n",
    "        \n",
    "    def forward(self, x):\n",
    "        # Initializing the hidden state with zeros\n",
    "        # (layer_dim, batch_size, hidden_dim)\n",
    "        h0 = Variable(torch.zeros(self.layer_dim, x.size(0), self.hidden_dim))\n",
    "        \n",
    "        #One time step (the last one perhaps?)\n",
    "        out, hn = self.rnn(x, h0)\n",
    "        \n",
    "        # Indexing hidden state of the last time step\n",
    "        # out.size() --> ??\n",
    "        #out[:,-1,:] --> is it going to be 100,100\n",
    "        out = self.fc(out[:,-1,:])\n",
    "        # out.size() --> 100,1\n",
    "        return out\n",
    "        "
   ]
  },
  {
   "cell_type": "code",
   "execution_count": 82,
   "metadata": {},
   "outputs": [],
   "source": [
    "# Instantiating Model Class\n",
    "input_dim = 22\n",
    "hidden_dim = 15\n",
    "layer_dim = 1\n",
    "output_dim = 1\n",
    "batch_size = 100\n",
    "\n",
    "model = RNNModel(input_dim, hidden_dim, layer_dim, output_dim)\n",
    "\n",
    "# Instantiating Loss Class\n",
    "criterion = nn.MSELoss()\n",
    "\n",
    "# Instantiate Optimizer Class\n",
    "learning_rate = 0.001\n",
    "optimizer = torch.optim.SGD(model.parameters(), lr=learning_rate)\n",
    "\n",
    "# converting numpy array to torch tensor\n",
    "X_train = torch.from_numpy(X_train)\n",
    "y_train = torch.from_numpy(y_train)\n",
    "X_test = torch.from_numpy(X_test)\n",
    "y_test = torch.from_numpy(y_test)\n",
    "\n",
    "# initializing lists to store losses over epochs:\n",
    "train_loss = []\n",
    "test_loss = []\n",
    "train_iter = []\n",
    "test_iter = []"
   ]
  },
  {
   "cell_type": "code",
   "execution_count": 83,
   "metadata": {
    "scrolled": true
   },
   "outputs": [
    {
     "name": "stdout",
     "output_type": "stream",
     "text": [
      "Epoch: 2 Iteration: 200. Train_MSE: 0.0022665311116725206. Test_MSE: 0.0004758805569397013\n",
      "Epoch: 4 Iteration: 400. Train_MSE: 0.0013853006530553102. Test_MSE: 0.00048329754716710133\n",
      "Epoch: 6 Iteration: 600. Train_MSE: 0.0012469941284507513. Test_MSE: 0.0004873524110060406\n",
      "Epoch: 8 Iteration: 800. Train_MSE: 0.0015557525912299752. Test_MSE: 0.00048470089958382563\n",
      "Epoch: 10 Iteration: 1000. Train_MSE: 0.0015303556574508548. Test_MSE: 0.00048251811680206604\n",
      "Epoch: 12 Iteration: 1200. Train_MSE: 0.0008829520083963871. Test_MSE: 0.00047851106365711575\n",
      "Epoch: 15 Iteration: 1400. Train_MSE: 0.001470720861107111. Test_MSE: 0.0004732242015260288\n",
      "Epoch: 17 Iteration: 1600. Train_MSE: 0.0015222637448459864. Test_MSE: 0.00046849833108920827\n",
      "Epoch: 19 Iteration: 1800. Train_MSE: 0.0010090837022289634. Test_MSE: 0.0004645333733951604\n",
      "Epoch: 21 Iteration: 2000. Train_MSE: 0.001195061020553112. Test_MSE: 0.0004598670414216901\n",
      "Epoch: 23 Iteration: 2200. Train_MSE: 0.0014515140792354941. Test_MSE: 0.0004547470609750545\n",
      "Epoch: 25 Iteration: 2400. Train_MSE: 0.001378286979161203. Test_MSE: 0.00045181403957944544\n",
      "Epoch: 27 Iteration: 2600. Train_MSE: 0.001071914448402822. Test_MSE: 0.0004480647134193848\n",
      "Epoch: 30 Iteration: 2800. Train_MSE: 0.0012694784672930837. Test_MSE: 0.0004431467026654335\n",
      "Epoch: 32 Iteration: 3000. Train_MSE: 0.0010378042934462428. Test_MSE: 0.0004401986357003079\n",
      "Epoch: 34 Iteration: 3200. Train_MSE: 0.001078316243365407. Test_MSE: 0.00043692600548235754\n",
      "Epoch: 36 Iteration: 3400. Train_MSE: 0.0017385934479534626. Test_MSE: 0.0004329946439931\n",
      "Epoch: 38 Iteration: 3600. Train_MSE: 0.0028041473124176264. Test_MSE: 0.0004297962866106247\n",
      "Epoch: 40 Iteration: 3800. Train_MSE: 0.0010446470696479082. Test_MSE: 0.00042691555687276853\n",
      "Epoch: 43 Iteration: 4000. Train_MSE: 0.001399958855472505. Test_MSE: 0.00042402067414870165\n",
      "Epoch: 45 Iteration: 4200. Train_MSE: 0.0009298547520302236. Test_MSE: 0.00042017976035050073\n",
      "Epoch: 47 Iteration: 4400. Train_MSE: 0.0014316121814772487. Test_MSE: 0.0004179397662039523\n",
      "Epoch: 49 Iteration: 4600. Train_MSE: 0.001526016741991043. Test_MSE: 0.0004151715889419868\n",
      "Epoch: 51 Iteration: 4800. Train_MSE: 0.0011759854387491941. Test_MSE: 0.0004114277213032706\n",
      "Epoch: 53 Iteration: 5000. Train_MSE: 0.0010830375831574202. Test_MSE: 0.00040970563532794407\n",
      "Epoch: 55 Iteration: 5200. Train_MSE: 0.0007747013005428016. Test_MSE: 0.00040704584926827526\n",
      "Epoch: 58 Iteration: 5400. Train_MSE: 0.002027740003541112. Test_MSE: 0.00040385367594202167\n",
      "Epoch: 60 Iteration: 5600. Train_MSE: 0.0010744587052613497. Test_MSE: 0.00040174105325996485\n",
      "Epoch: 62 Iteration: 5800. Train_MSE: 0.0007987567223608494. Test_MSE: 0.00039974046403309037\n",
      "Epoch: 64 Iteration: 6000. Train_MSE: 0.001305467914789915. Test_MSE: 0.00039686057207648825\n",
      "Epoch: 66 Iteration: 6200. Train_MSE: 0.0008515482186339796. Test_MSE: 0.00039407963360777213\n",
      "Epoch: 68 Iteration: 6400. Train_MSE: 0.0012186446692794561. Test_MSE: 0.0003927233131118448\n",
      "Epoch: 70 Iteration: 6600. Train_MSE: 0.0012112840777263045. Test_MSE: 0.00039045134702093536\n",
      "Epoch: 73 Iteration: 6800. Train_MSE: 0.0007395263528451324. Test_MSE: 0.0003874639272907604\n",
      "Epoch: 75 Iteration: 7000. Train_MSE: 0.0011908197775483131. Test_MSE: 0.00038602841925630915\n",
      "Epoch: 77 Iteration: 7200. Train_MSE: 0.0010534238535910845. Test_MSE: 0.0003840820793353528\n",
      "Epoch: 79 Iteration: 7400. Train_MSE: 0.00110770168248564. Test_MSE: 0.0003812509924181228\n",
      "Epoch: 81 Iteration: 7600. Train_MSE: 0.001119974534958601. Test_MSE: 0.0003796642513025868\n",
      "Epoch: 83 Iteration: 7800. Train_MSE: 0.0008070841431617737. Test_MSE: 0.0003777803286535123\n",
      "Epoch: 86 Iteration: 8000. Train_MSE: 0.0007611180189996958. Test_MSE: 0.00037582397922282523\n",
      "Epoch: 88 Iteration: 8200. Train_MSE: 0.002168352948501706. Test_MSE: 0.00037333724192721693\n",
      "Epoch: 90 Iteration: 8400. Train_MSE: 0.0024653656873852015. Test_MSE: 0.0003720922841730548\n",
      "Epoch: 92 Iteration: 8600. Train_MSE: 0.0007470936980098486. Test_MSE: 0.00037010376129100245\n",
      "Epoch: 94 Iteration: 8800. Train_MSE: 0.0010412746341899037. Test_MSE: 0.00036738339894337995\n",
      "Epoch: 96 Iteration: 9000. Train_MSE: 0.0007955101318657398. Test_MSE: 0.00036656901594278476\n",
      "Epoch: 98 Iteration: 9200. Train_MSE: 0.0006292394828051329. Test_MSE: 0.000364633351228354\n",
      "Epoch: 101 Iteration: 9400. Train_MSE: 0.0009425417520105839. Test_MSE: 0.00036209040570231877\n",
      "Epoch: 103 Iteration: 9600. Train_MSE: 0.0009257920901291072. Test_MSE: 0.0003610240764534801\n",
      "Epoch: 105 Iteration: 9800. Train_MSE: 0.0007407761295326054. Test_MSE: 0.0003597040252120651\n",
      "Epoch: 107 Iteration: 10000. Train_MSE: 0.0028876790311187506. Test_MSE: 0.0003574629848581251\n",
      "Epoch: 109 Iteration: 10200. Train_MSE: 0.003112366423010826. Test_MSE: 0.0003555451293064192\n",
      "Epoch: 111 Iteration: 10400. Train_MSE: 0.0009373597567901015. Test_MSE: 0.00035470648264902496\n",
      "Epoch: 113 Iteration: 10600. Train_MSE: 0.0009276830242015421. Test_MSE: 0.0003531167451012711\n",
      "Epoch: 116 Iteration: 10800. Train_MSE: 0.00046941585605964065. Test_MSE: 0.00035068478841381544\n",
      "Epoch: 118 Iteration: 11000. Train_MSE: 0.0008800935465842485. Test_MSE: 0.0003499474378493468\n",
      "Epoch: 120 Iteration: 11200. Train_MSE: 0.0005493790376931429. Test_MSE: 0.0003484173366080371\n",
      "Epoch: 122 Iteration: 11400. Train_MSE: 0.0009024508763104677. Test_MSE: 0.0003459618502525777\n",
      "Epoch: 124 Iteration: 11600. Train_MSE: 0.0008519704570062459. Test_MSE: 0.0003451924019264994\n",
      "Epoch: 126 Iteration: 11800. Train_MSE: 0.0009367833263240755. Test_MSE: 0.0003437942261648335\n",
      "Epoch: 129 Iteration: 12000. Train_MSE: 0.0007207894814200699. Test_MSE: 0.0003421381902817136\n",
      "Epoch: 131 Iteration: 12200. Train_MSE: 0.0021662795916199684. Test_MSE: 0.0003404073639404364\n",
      "Epoch: 133 Iteration: 12400. Train_MSE: 0.009110613726079464. Test_MSE: 0.00033957513323962756\n",
      "Epoch: 135 Iteration: 12600. Train_MSE: 0.0008581144502386451. Test_MSE: 0.0003379685829872528\n",
      "Epoch: 137 Iteration: 12800. Train_MSE: 0.0006765857106074691. Test_MSE: 0.0003356752999500421\n",
      "Epoch: 139 Iteration: 13000. Train_MSE: 0.0006826106691733003. Test_MSE: 0.0003352803875762902\n",
      "Epoch: 141 Iteration: 13200. Train_MSE: 0.0004688453918788582. Test_MSE: 0.0003337156969582701\n",
      "Epoch: 144 Iteration: 13400. Train_MSE: 0.0007793797412887216. Test_MSE: 0.00033154172672680626\n",
      "Epoch: 146 Iteration: 13600. Train_MSE: 0.000747901969589293. Test_MSE: 0.0003309405009369977\n",
      "Epoch: 148 Iteration: 13800. Train_MSE: 0.011114438995718956. Test_MSE: 0.0003299512752687935\n",
      "Epoch: 150 Iteration: 14000. Train_MSE: 0.0006796258967369795. Test_MSE: 0.0003280219268668106\n",
      "Epoch: 152 Iteration: 14200. Train_MSE: 0.004087960813194513. Test_MSE: 0.0003266209838283272\n",
      "Epoch: 154 Iteration: 14400. Train_MSE: 0.011206060647964478. Test_MSE: 0.00032605318957296657\n",
      "Epoch: 156 Iteration: 14600. Train_MSE: 0.0008344344678334892. Test_MSE: 0.0003246156153120705\n",
      "Epoch: 159 Iteration: 14800. Train_MSE: 0.0006169505068100989. Test_MSE: 0.000322588317705078\n",
      "Epoch: 161 Iteration: 15000. Train_MSE: 0.0009406022727489471. Test_MSE: 0.00032216795580968004\n",
      "Epoch: 163 Iteration: 15200. Train_MSE: 0.004636220633983612. Test_MSE: 0.0003210789810777547\n",
      "Epoch: 165 Iteration: 15400. Train_MSE: 0.0010683477157726884. Test_MSE: 0.00031868123522810584\n",
      "Epoch: 167 Iteration: 15600. Train_MSE: 0.0006858233246020973. Test_MSE: 0.0003183311094887572\n",
      "Epoch: 169 Iteration: 15800. Train_MSE: 0.0021149558015167713. Test_MSE: 0.0003171672065300038\n",
      "Epoch: 172 Iteration: 16000. Train_MSE: 0.0006266087875701487. Test_MSE: 0.00031557608795217644\n",
      "Epoch: 174 Iteration: 16200. Train_MSE: 0.0009959450690075755. Test_MSE: 0.00031434813407542816\n",
      "Epoch: 176 Iteration: 16400. Train_MSE: 0.0006469865329563618. Test_MSE: 0.0003137125672988386\n",
      "Epoch: 178 Iteration: 16600. Train_MSE: 0.0005890403408557177. Test_MSE: 0.00031228436365996707\n",
      "Epoch: 180 Iteration: 16800. Train_MSE: 0.0005425842246040702. Test_MSE: 0.0003104357016661367\n",
      "Epoch: 182 Iteration: 17000. Train_MSE: 0.0007684229058213532. Test_MSE: 0.00031023342163313057\n",
      "Epoch: 184 Iteration: 17200. Train_MSE: 0.0011601164005696774. Test_MSE: 0.0003090767706099942\n",
      "Epoch: 187 Iteration: 17400. Train_MSE: 0.002239962574094534. Test_MSE: 0.0003071296216097461\n",
      "Epoch: 189 Iteration: 17600. Train_MSE: 0.0006710703019052744. Test_MSE: 0.00030665122140642907\n"
     ]
    },
    {
     "name": "stdout",
     "output_type": "stream",
     "text": [
      "Epoch: 191 Iteration: 17800. Train_MSE: 0.0005244762869551778. Test_MSE: 0.0003058307902814137\n",
      "Epoch: 193 Iteration: 18000. Train_MSE: 0.0006711764144711196. Test_MSE: 0.00030407162032309107\n",
      "Epoch: 195 Iteration: 18200. Train_MSE: 0.002515346510335803. Test_MSE: 0.0003031109595392716\n",
      "Epoch: 197 Iteration: 18400. Train_MSE: 0.000518552609719336. Test_MSE: 0.00030249829273620816\n",
      "Epoch: 199 Iteration: 18600. Train_MSE: 0.0006288933800533414. Test_MSE: 0.00030128028951644653\n",
      "Epoch: 202 Iteration: 18800. Train_MSE: 0.0005897278897464275. Test_MSE: 0.0002995836674212437\n",
      "Epoch: 204 Iteration: 19000. Train_MSE: 0.0007885417435318232. Test_MSE: 0.000299303710222433\n",
      "Epoch: 206 Iteration: 19200. Train_MSE: 0.00042799607035703957. Test_MSE: 0.00029835253081570725\n",
      "Epoch: 208 Iteration: 19400. Train_MSE: 0.0005792034207843244. Test_MSE: 0.0002963060749145437\n",
      "Epoch: 210 Iteration: 19600. Train_MSE: 0.0005205718334764242. Test_MSE: 0.00029612764343043304\n",
      "Epoch: 212 Iteration: 19800. Train_MSE: 0.00041425772360526025. Test_MSE: 0.0002950953535497969\n",
      "Epoch: 215 Iteration: 20000. Train_MSE: 0.0005283962818793952. Test_MSE: 0.0002936158448530355\n",
      "Epoch: 217 Iteration: 20200. Train_MSE: 0.0008478852105326951. Test_MSE: 0.0002926986185356203\n",
      "Epoch: 219 Iteration: 20400. Train_MSE: 0.0005204079207032919. Test_MSE: 0.0002921724742816531\n",
      "Epoch: 221 Iteration: 20600. Train_MSE: 0.000507754331920296. Test_MSE: 0.0002908214438296096\n",
      "Epoch: 223 Iteration: 20800. Train_MSE: 0.0004333551914896816. Test_MSE: 0.0002893236973565976\n",
      "Epoch: 225 Iteration: 21000. Train_MSE: 0.0007374293636530638. Test_MSE: 0.00028923814887286666\n",
      "Epoch: 227 Iteration: 21200. Train_MSE: 0.0004350905364844948. Test_MSE: 0.00028824248945525055\n",
      "Epoch: 230 Iteration: 21400. Train_MSE: 0.0003929268859792501. Test_MSE: 0.00028655834239405784\n",
      "Epoch: 232 Iteration: 21600. Train_MSE: 0.0004934990429319441. Test_MSE: 0.00028618634659915857\n",
      "Epoch: 234 Iteration: 21800. Train_MSE: 0.0005005169659852982. Test_MSE: 0.00028543021621453085\n",
      "Epoch: 236 Iteration: 22000. Train_MSE: 0.0005639956798404455. Test_MSE: 0.0002840037004042612\n",
      "Epoch: 238 Iteration: 22200. Train_MSE: 0.0013403763296082616. Test_MSE: 0.00028329859047787506\n",
      "Epoch: 240 Iteration: 22400. Train_MSE: 0.000472171523142606. Test_MSE: 0.0002826260670290928\n",
      "Epoch: 243 Iteration: 22600. Train_MSE: 0.0006715641939081252. Test_MSE: 0.0002816820807046579\n",
      "Epoch: 245 Iteration: 22800. Train_MSE: 0.00035466867848299444. Test_MSE: 0.000280135640602234\n",
      "Epoch: 247 Iteration: 23000. Train_MSE: 0.0006447979249060154. Test_MSE: 0.00027996673214817253\n",
      "Epoch: 249 Iteration: 23200. Train_MSE: 0.000613485521171242. Test_MSE: 0.0002790317248424447\n",
      "Epoch: 251 Iteration: 23400. Train_MSE: 0.0005584428436122835. Test_MSE: 0.0002773172430461184\n",
      "Epoch: 253 Iteration: 23600. Train_MSE: 0.0005194660043343902. Test_MSE: 0.00027728998877668743\n",
      "Epoch: 255 Iteration: 23800. Train_MSE: 0.00041756630525924265. Test_MSE: 0.0002763636377452358\n",
      "Epoch: 258 Iteration: 24000. Train_MSE: 0.0007557188509963453. Test_MSE: 0.00027495558626301433\n",
      "Epoch: 260 Iteration: 24200. Train_MSE: 0.0005096193635836244. Test_MSE: 0.0002743534783033785\n",
      "Epoch: 262 Iteration: 24400. Train_MSE: 0.0004964670515619218. Test_MSE: 0.00027394191191190275\n",
      "Epoch: 264 Iteration: 24600. Train_MSE: 0.0005202091997489333. Test_MSE: 0.0002725896428428158\n",
      "Epoch: 266 Iteration: 24800. Train_MSE: 0.0003486275381874293. Test_MSE: 0.00027139958130833173\n",
      "Epoch: 268 Iteration: 25000. Train_MSE: 0.0006809068727307022. Test_MSE: 0.00027137767688220225\n",
      "Epoch: 270 Iteration: 25200. Train_MSE: 0.0004949046415276825. Test_MSE: 0.000270458870841674\n",
      "Epoch: 273 Iteration: 25400. Train_MSE: 0.0003180113562848419. Test_MSE: 0.0002690094651755942\n",
      "Epoch: 275 Iteration: 25600. Train_MSE: 0.0006173797883093357. Test_MSE: 0.0002688306408928421\n",
      "Epoch: 277 Iteration: 25800. Train_MSE: 0.0005865946877747774. Test_MSE: 0.0002681659614262668\n",
      "Epoch: 279 Iteration: 26000. Train_MSE: 0.0004644423315767199. Test_MSE: 0.00026668260619962345\n",
      "Epoch: 281 Iteration: 26200. Train_MSE: 0.0005699865287169814. Test_MSE: 0.00026630730827734476\n",
      "Epoch: 283 Iteration: 26400. Train_MSE: 0.00045330473221838474. Test_MSE: 0.0002656614782233953\n",
      "Epoch: 286 Iteration: 26600. Train_MSE: 0.00039743230445310473. Test_MSE: 0.00026474222398293083\n",
      "Epoch: 288 Iteration: 26800. Train_MSE: 0.00148832518607378. Test_MSE: 0.0002635596069572855\n",
      "Epoch: 290 Iteration: 27000. Train_MSE: 0.0021927813068032265. Test_MSE: 0.0002634120882393926\n",
      "Epoch: 292 Iteration: 27200. Train_MSE: 0.00037255213828757405. Test_MSE: 0.00026247114353739835\n",
      "Epoch: 294 Iteration: 27400. Train_MSE: 0.000552718120161444. Test_MSE: 0.0002609911056397733\n",
      "Epoch: 296 Iteration: 27600. Train_MSE: 0.00047196607920341194. Test_MSE: 0.0002610560833735048\n",
      "Epoch: 298 Iteration: 27800. Train_MSE: 0.0002865866699721664. Test_MSE: 0.00026021899537794494\n",
      "Epoch: 301 Iteration: 28000. Train_MSE: 0.00039011333137750626. Test_MSE: 0.00025888874935642514\n",
      "Epoch: 303 Iteration: 28200. Train_MSE: 0.0006418245029635727. Test_MSE: 0.0002585735351005296\n",
      "Epoch: 305 Iteration: 28400. Train_MSE: 0.0004664798907469958. Test_MSE: 0.00025813362033298443\n",
      "Epoch: 307 Iteration: 28600. Train_MSE: 0.0022967278491705656. Test_MSE: 0.00025695983254497184\n",
      "Epoch: 309 Iteration: 28800. Train_MSE: 0.0029526492580771446. Test_MSE: 0.00025594958430446294\n",
      "Epoch: 311 Iteration: 29000. Train_MSE: 0.000594856683164835. Test_MSE: 0.0002559438020037737\n",
      "Epoch: 313 Iteration: 29200. Train_MSE: 0.0004737835843116045. Test_MSE: 0.0002551993829661324\n",
      "Epoch: 316 Iteration: 29400. Train_MSE: 0.00027936685364693403. Test_MSE: 0.00025381547375102854\n",
      "Epoch: 318 Iteration: 29600. Train_MSE: 0.000467973412014544. Test_MSE: 0.00025377151897499646\n",
      "Epoch: 320 Iteration: 29800. Train_MSE: 0.00027570148813538253. Test_MSE: 0.0002531289687614597\n",
      "Epoch: 322 Iteration: 30000. Train_MSE: 0.0004033349687233567. Test_MSE: 0.0002517020664460633\n",
      "Epoch: 324 Iteration: 30200. Train_MSE: 0.0005938870599493384. Test_MSE: 0.00025157545874236476\n",
      "Epoch: 326 Iteration: 30400. Train_MSE: 0.000599283492192626. Test_MSE: 0.0002510246320551827\n",
      "Epoch: 329 Iteration: 30600. Train_MSE: 0.0003669543075375259. Test_MSE: 0.0002501049109737336\n",
      "Epoch: 331 Iteration: 30800. Train_MSE: 0.0017204498872160912. Test_MSE: 0.00024921037175031313\n",
      "Epoch: 333 Iteration: 31000. Train_MSE: 0.008777633309364319. Test_MSE: 0.00024907758754236166\n",
      "Epoch: 335 Iteration: 31200. Train_MSE: 0.00041859920020215213. Test_MSE: 0.0002482087858012782\n",
      "Epoch: 337 Iteration: 31400. Train_MSE: 0.0003464565670583397. Test_MSE: 0.0002468767322681583\n",
      "Epoch: 339 Iteration: 31600. Train_MSE: 0.0004074738535564393. Test_MSE: 0.00024698519058448225\n",
      "Epoch: 341 Iteration: 31800. Train_MSE: 0.0003037653223145753. Test_MSE: 0.0002462353025489699\n",
      "Epoch: 344 Iteration: 32000. Train_MSE: 0.000491094309836626. Test_MSE: 0.00024503389750058847\n",
      "Epoch: 346 Iteration: 32200. Train_MSE: 0.00044609728502109647. Test_MSE: 0.00024483574159280577\n",
      "Epoch: 348 Iteration: 32400. Train_MSE: 0.011148597113788128. Test_MSE: 0.00024453017931493667\n",
      "Epoch: 350 Iteration: 32600. Train_MSE: 0.0004118646611459553. Test_MSE: 0.00024339357429950742\n",
      "Epoch: 352 Iteration: 32800. Train_MSE: 0.003790105227380991. Test_MSE: 0.00024269654691680027\n",
      "Epoch: 354 Iteration: 33000. Train_MSE: 0.011101272888481617. Test_MSE: 0.0002426751647434155\n",
      "Epoch: 356 Iteration: 33200. Train_MSE: 0.0004942538216710091. Test_MSE: 0.00024188712438458316\n",
      "Epoch: 359 Iteration: 33400. Train_MSE: 0.00035506568383425474. Test_MSE: 0.00024065487967190417\n",
      "Epoch: 361 Iteration: 33600. Train_MSE: 0.0005223139887675643. Test_MSE: 0.00024065880362605932\n",
      "Epoch: 363 Iteration: 33800. Train_MSE: 0.004255602136254311. Test_MSE: 0.0002401914803444919\n",
      "Epoch: 365 Iteration: 34000. Train_MSE: 0.0005610916414298117. Test_MSE: 0.00023873722291617417\n",
      "Epoch: 367 Iteration: 34200. Train_MSE: 0.00046297957305796444. Test_MSE: 0.00023876691978306846\n",
      "Epoch: 369 Iteration: 34400. Train_MSE: 0.0020051856990903616. Test_MSE: 0.00023825833393706881\n",
      "Epoch: 372 Iteration: 34600. Train_MSE: 0.00032016128534451127. Test_MSE: 0.0002373262421199679\n",
      "Epoch: 374 Iteration: 34800. Train_MSE: 0.0008423354593105614. Test_MSE: 0.0002366427577522388\n"
     ]
    },
    {
     "name": "stdout",
     "output_type": "stream",
     "text": [
      "Epoch: 376 Iteration: 35000. Train_MSE: 0.00037763852742500603. Test_MSE: 0.00023648267742490015\n",
      "Epoch: 378 Iteration: 35200. Train_MSE: 0.0003109891258645803. Test_MSE: 0.00023568193226295266\n",
      "Epoch: 380 Iteration: 35400. Train_MSE: 0.0002954426745418459. Test_MSE: 0.00023458306207476803\n",
      "Epoch: 382 Iteration: 35600. Train_MSE: 0.00047930952860042453. Test_MSE: 0.00023471596004918967\n",
      "Epoch: 384 Iteration: 35800. Train_MSE: 0.000740390329156071. Test_MSE: 0.00023417245272701445\n",
      "Epoch: 387 Iteration: 36000. Train_MSE: 0.0018943487666547298. Test_MSE: 0.0002330308208816669\n",
      "Epoch: 389 Iteration: 36200. Train_MSE: 0.00041098546353168786. Test_MSE: 0.00023281868588157187\n",
      "Epoch: 391 Iteration: 36400. Train_MSE: 0.0002990940702147782. Test_MSE: 0.0002325286898575487\n",
      "Epoch: 393 Iteration: 36600. Train_MSE: 0.0003465164336375892. Test_MSE: 0.00023148363279727592\n",
      "Epoch: 395 Iteration: 36800. Train_MSE: 0.002119992859661579. Test_MSE: 0.00023103697668385483\n",
      "Epoch: 397 Iteration: 37000. Train_MSE: 0.0002874051278922707. Test_MSE: 0.00023086276356345427\n",
      "Epoch: 399 Iteration: 37200. Train_MSE: 0.00037581101059913635. Test_MSE: 0.00023019083562493173\n",
      "Epoch: 402 Iteration: 37400. Train_MSE: 0.00036409313906915486. Test_MSE: 0.00022909933267020865\n",
      "Epoch: 404 Iteration: 37600. Train_MSE: 0.0006255425396375358. Test_MSE: 0.00022912972465924993\n",
      "Epoch: 406 Iteration: 37800. Train_MSE: 0.00024124873743858188. Test_MSE: 0.00022868350749854005\n",
      "Epoch: 408 Iteration: 38000. Train_MSE: 0.00041117510409094393. Test_MSE: 0.00022743654137122698\n",
      "Epoch: 410 Iteration: 38200. Train_MSE: 0.0003076626162510365. Test_MSE: 0.00022750632583583494\n",
      "Epoch: 412 Iteration: 38400. Train_MSE: 0.0002443669072818011. Test_MSE: 0.0002270013857037196\n",
      "Epoch: 415 Iteration: 38600. Train_MSE: 0.00030333735048770905. Test_MSE: 0.00022612868540535517\n",
      "Epoch: 417 Iteration: 38800. Train_MSE: 0.0006929260562174022. Test_MSE: 0.00022557220850256659\n",
      "Epoch: 419 Iteration: 39000. Train_MSE: 0.0003278300864621997. Test_MSE: 0.00022541246633646603\n",
      "Epoch: 421 Iteration: 39200. Train_MSE: 0.00029370636912062764. Test_MSE: 0.00022463741334807143\n",
      "Epoch: 423 Iteration: 39400. Train_MSE: 0.00023400397913064808. Test_MSE: 0.00022374148948161758\n",
      "Epoch: 425 Iteration: 39600. Train_MSE: 0.0005421342793852091. Test_MSE: 0.00022386896413730258\n",
      "Epoch: 427 Iteration: 39800. Train_MSE: 0.00026414633612148464. Test_MSE: 0.00022336685582851758\n",
      "Epoch: 430 Iteration: 40000. Train_MSE: 0.0002445298887323588. Test_MSE: 0.00022231742677198557\n",
      "Epoch: 432 Iteration: 40200. Train_MSE: 0.0003180423809681088. Test_MSE: 0.0002221429400786946\n",
      "Epoch: 434 Iteration: 40400. Train_MSE: 0.0003119783359579742. Test_MSE: 0.00022183588336951738\n",
      "Epoch: 436 Iteration: 40600. Train_MSE: 0.0002957835095003247. Test_MSE: 0.00022096946767759265\n",
      "Epoch: 438 Iteration: 40800. Train_MSE: 0.0009635158348828554. Test_MSE: 0.00022062978078430756\n",
      "Epoch: 440 Iteration: 41000. Train_MSE: 0.0002895637007895857. Test_MSE: 0.00022034515731463413\n",
      "Epoch: 443 Iteration: 41200. Train_MSE: 0.0004386223154142499. Test_MSE: 0.0002198297120967395\n",
      "Epoch: 445 Iteration: 41400. Train_MSE: 0.0002347114495933056. Test_MSE: 0.00021876702372175555\n",
      "Epoch: 447 Iteration: 41600. Train_MSE: 0.0004823537601623684. Test_MSE: 0.00021880407245037736\n",
      "Epoch: 449 Iteration: 41800. Train_MSE: 0.0003465379122644663. Test_MSE: 0.00021833482508956098\n",
      "Epoch: 451 Iteration: 42000. Train_MSE: 0.00043130700942128897. Test_MSE: 0.0002172615829942992\n",
      "Epoch: 453 Iteration: 42200. Train_MSE: 0.0003683821123559028. Test_MSE: 0.0002173977779895614\n",
      "Epoch: 455 Iteration: 42400. Train_MSE: 0.0002707931271288544. Test_MSE: 0.0002169049132548493\n",
      "Epoch: 458 Iteration: 42600. Train_MSE: 0.0004076457116752863. Test_MSE: 0.00021605251524372827\n",
      "Epoch: 460 Iteration: 42800. Train_MSE: 0.0003811022615991533. Test_MSE: 0.00021564978810559627\n",
      "Epoch: 462 Iteration: 43000. Train_MSE: 0.00042771970038302243. Test_MSE: 0.00021552577702424542\n",
      "Epoch: 464 Iteration: 43200. Train_MSE: 0.0002840715169440955. Test_MSE: 0.00021472324391855018\n",
      "Epoch: 466 Iteration: 43400. Train_MSE: 0.00026604783488437533. Test_MSE: 0.00021398666995504564\n",
      "Epoch: 468 Iteration: 43600. Train_MSE: 0.0005668946541845798. Test_MSE: 0.0002141311510421282\n",
      "Epoch: 470 Iteration: 43800. Train_MSE: 0.0002813641040120274. Test_MSE: 0.00021365538674070694\n",
      "Epoch: 473 Iteration: 44000. Train_MSE: 0.00023839750792831182. Test_MSE: 0.00021270918093668615\n",
      "Epoch: 475 Iteration: 44200. Train_MSE: 0.0004436044837348163. Test_MSE: 0.00021265788739280252\n",
      "Epoch: 477 Iteration: 44400. Train_MSE: 0.0004078885540366173. Test_MSE: 0.00021235308089868503\n",
      "Epoch: 479 Iteration: 44600. Train_MSE: 0.000271360797341913. Test_MSE: 0.00021141988728156063\n",
      "Epoch: 481 Iteration: 44800. Train_MSE: 0.00044536739005707204. Test_MSE: 0.00021127203531577538\n",
      "Epoch: 483 Iteration: 45000. Train_MSE: 0.0003391553182154894. Test_MSE: 0.00021096107314178147\n",
      "Epoch: 486 Iteration: 45200. Train_MSE: 0.0002610505325719714. Test_MSE: 0.0002104245476484867\n",
      "Epoch: 488 Iteration: 45400. Train_MSE: 0.0012610646663233638. Test_MSE: 0.0002096140716479579\n",
      "Epoch: 490 Iteration: 45600. Train_MSE: 0.0021178009919822216. Test_MSE: 0.00020961204804862467\n",
      "Epoch: 492 Iteration: 45800. Train_MSE: 0.00023818266345188022. Test_MSE: 0.0002090995592254075\n",
      "Epoch: 494 Iteration: 46000. Train_MSE: 0.00043322984129190445. Test_MSE: 0.00020815359449304505\n",
      "Epoch: 496 Iteration: 46200. Train_MSE: 0.00038550939643755555. Test_MSE: 0.00020831540929235949\n",
      "Epoch: 498 Iteration: 46400. Train_MSE: 0.00017805093375500292. Test_MSE: 0.00020784522132408177\n",
      "Epoch: 501 Iteration: 46600. Train_MSE: 0.00022452206758316606. Test_MSE: 0.000207018837540888\n",
      "Epoch: 503 Iteration: 46800. Train_MSE: 0.0005333327571861446. Test_MSE: 0.00020678863552616702\n",
      "Epoch: 505 Iteration: 47000. Train_MSE: 0.0003857272968161851. Test_MSE: 0.00020658785354271255\n",
      "Epoch: 507 Iteration: 47200. Train_MSE: 0.0020747575908899307. Test_MSE: 0.00020590424758108668\n",
      "Epoch: 509 Iteration: 47400. Train_MSE: 0.002977746771648526. Test_MSE: 0.0002052276654550135\n",
      "Epoch: 511 Iteration: 47600. Train_MSE: 0.0004959543002769351. Test_MSE: 0.0002053566289717309\n",
      "Epoch: 513 Iteration: 47800. Train_MSE: 0.00030881722341291606. Test_MSE: 0.00020496895120022902\n",
      "Epoch: 516 Iteration: 48000. Train_MSE: 0.00022954880842007697. Test_MSE: 0.000204012901773608\n",
      "Epoch: 518 Iteration: 48200. Train_MSE: 0.0003467573842499405. Test_MSE: 0.00020403023991019212\n",
      "Epoch: 520 Iteration: 48400. Train_MSE: 0.0001885357196442783. Test_MSE: 0.00020371355814304584\n",
      "Epoch: 522 Iteration: 48600. Train_MSE: 0.00024328933795914054. Test_MSE: 0.00020280422031695772\n",
      "Epoch: 524 Iteration: 48800. Train_MSE: 0.0005099503323435783. Test_MSE: 0.0002028049302174913\n",
      "Epoch: 526 Iteration: 49000. Train_MSE: 0.0004598403465934098. Test_MSE: 0.00020252678719450372\n",
      "Epoch: 529 Iteration: 49200. Train_MSE: 0.00022731169883627445. Test_MSE: 0.00020196706785907402\n",
      "Epoch: 531 Iteration: 49400. Train_MSE: 0.0015591196715831757. Test_MSE: 0.00020133128311557456\n",
      "Epoch: 533 Iteration: 49600. Train_MSE: 0.008706741034984589. Test_MSE: 0.00020133072949256144\n",
      "Epoch: 535 Iteration: 49800. Train_MSE: 0.00026890207664109766. Test_MSE: 0.00020082113515629044\n",
      "Epoch: 537 Iteration: 50000. Train_MSE: 0.00026463979156687856. Test_MSE: 0.0001999458128883618\n",
      "Epoch: 539 Iteration: 50200. Train_MSE: 0.00032391215790994465. Test_MSE: 0.0002001108067042688\n",
      "Epoch: 541 Iteration: 50400. Train_MSE: 0.00023921536921989173. Test_MSE: 0.00019968163534657383\n",
      "Epoch: 544 Iteration: 50600. Train_MSE: 0.0003796951787080616. Test_MSE: 0.00019891637860777145\n",
      "Epoch: 546 Iteration: 50800. Train_MSE: 0.0003446977643761784. Test_MSE: 0.00019874913140321466\n",
      "Epoch: 548 Iteration: 51000. Train_MSE: 0.01123859267681837. Test_MSE: 0.0001986666043740852\n",
      "Epoch: 550 Iteration: 51200. Train_MSE: 0.00029593706130981445. Test_MSE: 0.0001979295005736949\n",
      "Epoch: 552 Iteration: 51400. Train_MSE: 0.00365405878983438. Test_MSE: 0.00019750344320209137\n",
      "Epoch: 554 Iteration: 51600. Train_MSE: 0.01108180359005928. Test_MSE: 0.0001976082672975587\n",
      "Epoch: 556 Iteration: 51800. Train_MSE: 0.0003416914842091501. Test_MSE: 0.00019711286240424778\n",
      "Epoch: 559 Iteration: 52000. Train_MSE: 0.00025628728326410055. Test_MSE: 0.0001962256375420966\n"
     ]
    },
    {
     "name": "stdout",
     "output_type": "stream",
     "text": [
      "Epoch: 561 Iteration: 52200. Train_MSE: 0.0003823031729552895. Test_MSE: 0.0001962718553038181\n",
      "Epoch: 563 Iteration: 52400. Train_MSE: 0.004138375166803598. Test_MSE: 0.0001960623959696018\n",
      "Epoch: 565 Iteration: 52600. Train_MSE: 0.00041552435141056776. Test_MSE: 0.00019509885267889678\n",
      "Epoch: 567 Iteration: 52800. Train_MSE: 0.00038007981493137777. Test_MSE: 0.00019520321537990247\n",
      "Epoch: 569 Iteration: 53000. Train_MSE: 0.001976546598598361. Test_MSE: 0.00019492609049793767\n",
      "Epoch: 572 Iteration: 53200. Train_MSE: 0.00020537880482152104. Test_MSE: 0.00019432510873014215\n",
      "Epoch: 574 Iteration: 53400. Train_MSE: 0.0008028798620216548. Test_MSE: 0.00019382183146829856\n",
      "Epoch: 576 Iteration: 53600. Train_MSE: 0.00028499570908024907. Test_MSE: 0.0001937689176356984\n",
      "Epoch: 578 Iteration: 53800. Train_MSE: 0.00019556704501155764. Test_MSE: 0.00019329242574109133\n",
      "Epoch: 580 Iteration: 54000. Train_MSE: 0.00022340011491905898. Test_MSE: 0.00019255821722507916\n",
      "Epoch: 582 Iteration: 54200. Train_MSE: 0.0003759496321436018. Test_MSE: 0.00019273323044858475\n",
      "Epoch: 584 Iteration: 54400. Train_MSE: 0.0005351909785531461. Test_MSE: 0.00019244279941028517\n",
      "Epoch: 587 Iteration: 54600. Train_MSE: 0.0017635737312957644. Test_MSE: 0.00019167634447312475\n",
      "Epoch: 589 Iteration: 54800. Train_MSE: 0.0003195157623849809. Test_MSE: 0.00019148544992131461\n",
      "Epoch: 591 Iteration: 55000. Train_MSE: 0.00021099265723023564. Test_MSE: 0.0001913911445310072\n",
      "Epoch: 593 Iteration: 55200. Train_MSE: 0.00022813559917267412. Test_MSE: 0.00019069506453182523\n",
      "Epoch: 595 Iteration: 55400. Train_MSE: 0.0019621949177235365. Test_MSE: 0.00019044547345941766\n",
      "Epoch: 597 Iteration: 55600. Train_MSE: 0.00021181894408073276. Test_MSE: 0.0001904041019588518\n",
      "Epoch: 599 Iteration: 55800. Train_MSE: 0.00026133807841688395. Test_MSE: 0.0001899804556113272\n",
      "Epoch: 602 Iteration: 56000. Train_MSE: 0.0003033639513887465. Test_MSE: 0.00018915492747201352\n",
      "Epoch: 604 Iteration: 56200. Train_MSE: 0.0005708368262276053. Test_MSE: 0.0001892222221157974\n",
      "Epoch: 606 Iteration: 56400. Train_MSE: 0.00015961624740157276. Test_MSE: 0.00018900134646192507\n",
      "Epoch: 608 Iteration: 56600. Train_MSE: 0.00035315274726599455. Test_MSE: 0.00018815604740436156\n",
      "Epoch: 610 Iteration: 56800. Train_MSE: 0.00024347934231627733. Test_MSE: 0.00018828630310473355\n",
      "Epoch: 612 Iteration: 57000. Train_MSE: 0.00018544522754382342. Test_MSE: 0.0001879895866514209\n",
      "Epoch: 615 Iteration: 57200. Train_MSE: 0.00020523702551145107. Test_MSE: 0.0001874189889020276\n",
      "Epoch: 617 Iteration: 57400. Train_MSE: 0.0006435625837184489. Test_MSE: 0.00018699026015137995\n",
      "Epoch: 619 Iteration: 57600. Train_MSE: 0.0002532640064600855. Test_MSE: 0.00018693334224108128\n",
      "Epoch: 621 Iteration: 57800. Train_MSE: 0.00019160691590514034. Test_MSE: 0.00018645949915547212\n",
      "Epoch: 623 Iteration: 58000. Train_MSE: 0.00017058741650544107. Test_MSE: 0.00018586304987938863\n",
      "Epoch: 625 Iteration: 58200. Train_MSE: 0.0004765736812260002. Test_MSE: 0.00018603381006622192\n",
      "Epoch: 627 Iteration: 58400. Train_MSE: 0.00018837886455003172. Test_MSE: 0.00018575797328572807\n",
      "Epoch: 630 Iteration: 58600. Train_MSE: 0.00021544260380323976. Test_MSE: 0.0001850190593572711\n",
      "Epoch: 632 Iteration: 58800. Train_MSE: 0.0002595831756480038. Test_MSE: 0.0001848788486559376\n",
      "Epoch: 634 Iteration: 59000. Train_MSE: 0.00023672590032219887. Test_MSE: 0.00018476351847978624\n",
      "Epoch: 636 Iteration: 59200. Train_MSE: 0.00019358153804205358. Test_MSE: 0.0001841871291616347\n",
      "Epoch: 638 Iteration: 59400. Train_MSE: 0.0008407325949519873. Test_MSE: 0.0001840137719724781\n",
      "Epoch: 640 Iteration: 59600. Train_MSE: 0.00022187959984876215. Test_MSE: 0.00018388357947726763\n",
      "Epoch: 643 Iteration: 59800. Train_MSE: 0.00032537613878957927. Test_MSE: 0.00018357635713980774\n",
      "Epoch: 645 Iteration: 60000. Train_MSE: 0.0001946683187270537. Test_MSE: 0.00018275114196822378\n",
      "Epoch: 647 Iteration: 60200. Train_MSE: 0.0004421782505232841. Test_MSE: 0.00018281876153629598\n",
      "Epoch: 649 Iteration: 60400. Train_MSE: 0.00022778272978030145. Test_MSE: 0.00018258380641768282\n",
      "Epoch: 651 Iteration: 60600. Train_MSE: 0.00038765399949625134. Test_MSE: 0.00018185442643274435\n",
      "Epoch: 653 Iteration: 60800. Train_MSE: 0.00031645424314774573. Test_MSE: 0.0001820368561912487\n",
      "Epoch: 655 Iteration: 61000. Train_MSE: 0.00020763816428370774. Test_MSE: 0.0001817297233825921\n",
      "Epoch: 658 Iteration: 61200. Train_MSE: 0.000265024253167212. Test_MSE: 0.00018115669622802315\n",
      "Epoch: 660 Iteration: 61400. Train_MSE: 0.00034288185997866094. Test_MSE: 0.00018082714658218104\n",
      "Epoch: 662 Iteration: 61600. Train_MSE: 0.00040412918315269053. Test_MSE: 0.0001807957332425711\n",
      "Epoch: 664 Iteration: 61800. Train_MSE: 0.00018019223352894187. Test_MSE: 0.00018028307604586066\n",
      "Epoch: 666 Iteration: 62000. Train_MSE: 0.00025078977341763675. Test_MSE: 0.00017977485564626925\n",
      "Epoch: 668 Iteration: 62200. Train_MSE: 0.0005327580729499459. Test_MSE: 0.0001799594623537904\n",
      "Epoch: 670 Iteration: 62400. Train_MSE: 0.00018850882770493627. Test_MSE: 0.00017969631301432355\n",
      "Epoch: 673 Iteration: 62600. Train_MSE: 0.00021789703168906271. Test_MSE: 0.00017900148282362944\n",
      "Epoch: 675 Iteration: 62800. Train_MSE: 0.0003661743539851159. Test_MSE: 0.00017896649663416106\n",
      "Epoch: 677 Iteration: 63000. Train_MSE: 0.00032286776695400476. Test_MSE: 0.00017882768672788335\n",
      "Epoch: 679 Iteration: 63200. Train_MSE: 0.00018936002743430436. Test_MSE: 0.00017819236944427842\n",
      "Epoch: 681 Iteration: 63400. Train_MSE: 0.0004073228337801993. Test_MSE: 0.00017815715484761167\n",
      "Epoch: 683 Iteration: 63600. Train_MSE: 0.0002903631830122322. Test_MSE: 0.00017798461307414718\n",
      "Epoch: 686 Iteration: 63800. Train_MSE: 0.0001902719377540052. Test_MSE: 0.00017764391565162248\n",
      "Epoch: 688 Iteration: 64000. Train_MSE: 0.0011652261018753052. Test_MSE: 0.0001770130165907797\n",
      "Epoch: 690 Iteration: 64200. Train_MSE: 0.0020922452677041292. Test_MSE: 0.00017703729257139276\n",
      "Epoch: 692 Iteration: 64400. Train_MSE: 0.00017019471852108836. Test_MSE: 0.00017675570166881117\n",
      "Epoch: 694 Iteration: 64600. Train_MSE: 0.00038996338844299316. Test_MSE: 0.00017609928456493177\n",
      "Epoch: 696 Iteration: 64800. Train_MSE: 0.000352561502950266. Test_MSE: 0.00017629159538422285\n",
      "Epoch: 698 Iteration: 65000. Train_MSE: 0.00013618296361528337. Test_MSE: 0.000175987366863459\n",
      "Epoch: 701 Iteration: 65200. Train_MSE: 0.0001537469361210242. Test_MSE: 0.00017541766186965753\n",
      "Epoch: 703 Iteration: 65400. Train_MSE: 0.0004788979422301054. Test_MSE: 0.0001752183487791596\n",
      "Epoch: 705 Iteration: 65600. Train_MSE: 0.0003555331495590508. Test_MSE: 0.0001751162379868036\n",
      "Epoch: 707 Iteration: 65800. Train_MSE: 0.0019596365746110678. Test_MSE: 0.00017469665313503755\n",
      "Epoch: 709 Iteration: 66000. Train_MSE: 0.0030036824755370617. Test_MSE: 0.00017421068548973556\n",
      "Epoch: 711 Iteration: 66200. Train_MSE: 0.00045684256474487484. Test_MSE: 0.00017438124425821734\n",
      "Epoch: 713 Iteration: 66400. Train_MSE: 0.00022236416407395154. Test_MSE: 0.00017417977644242907\n",
      "Epoch: 716 Iteration: 66600. Train_MSE: 0.00020919216331094503. Test_MSE: 0.00017344654448453255\n",
      "Epoch: 718 Iteration: 66800. Train_MSE: 0.0002992639201693237. Test_MSE: 0.00017346045859177158\n",
      "Epoch: 720 Iteration: 67000. Train_MSE: 0.00015493972750846297. Test_MSE: 0.0001732983913275499\n",
      "Epoch: 722 Iteration: 67200. Train_MSE: 0.0001746482157614082. Test_MSE: 0.0001726722532822029\n",
      "Epoch: 724 Iteration: 67400. Train_MSE: 0.0004681843565776944. Test_MSE: 0.0001727393104304395\n",
      "Epoch: 726 Iteration: 67600. Train_MSE: 0.00039360366645269096. Test_MSE: 0.00017257122848055465\n",
      "Epoch: 729 Iteration: 67800. Train_MSE: 0.00015977455768734217. Test_MSE: 0.00017219819346914943\n",
      "Epoch: 731 Iteration: 68000. Train_MSE: 0.0014948936877772212. Test_MSE: 0.00017168500300301318\n",
      "Epoch: 733 Iteration: 68200. Train_MSE: 0.008684471249580383. Test_MSE: 0.00017172038189243653\n",
      "Epoch: 735 Iteration: 68400. Train_MSE: 0.00019613801850937307. Test_MSE: 0.00017140570103205366\n",
      "Epoch: 737 Iteration: 68600. Train_MSE: 0.0002392571186646819. Test_MSE: 0.0001707842356134317\n",
      "Epoch: 739 Iteration: 68800. Train_MSE: 0.00028498214669525623. Test_MSE: 0.0001709664801393582\n",
      "Epoch: 741 Iteration: 69000. Train_MSE: 0.00021046608162578195. Test_MSE: 0.00017068723589677888\n",
      "Epoch: 744 Iteration: 69200. Train_MSE: 0.00032606013701297343. Test_MSE: 0.00017014733553494013\n"
     ]
    },
    {
     "name": "stdout",
     "output_type": "stream",
     "text": [
      "Epoch: 746 Iteration: 69400. Train_MSE: 0.00030243073706515133. Test_MSE: 0.00016998710927312454\n",
      "Epoch: 748 Iteration: 69600. Train_MSE: 0.0112951984629035. Test_MSE: 0.00017000157060653606\n",
      "Epoch: 750 Iteration: 69800. Train_MSE: 0.00023195697576738894. Test_MSE: 0.00016947778288924762\n",
      "Epoch: 752 Iteration: 70000. Train_MSE: 0.003590972162783146. Test_MSE: 0.00016920448081417298\n",
      "Epoch: 754 Iteration: 70200. Train_MSE: 0.011074689216911793. Test_MSE: 0.00016936093203281886\n",
      "Epoch: 756 Iteration: 70400. Train_MSE: 0.00025547502445988357. Test_MSE: 0.00016900957414184954\n",
      "Epoch: 759 Iteration: 70600. Train_MSE: 0.00021062401356175542. Test_MSE: 0.00016830206398575187\n",
      "Epoch: 761 Iteration: 70800. Train_MSE: 0.00032152843778021634. Test_MSE: 0.00016834779122544026\n",
      "Epoch: 763 Iteration: 71000. Train_MSE: 0.00408405065536499. Test_MSE: 0.0001682657547726942\n",
      "Epoch: 765 Iteration: 71200. Train_MSE: 0.0003626347752287984. Test_MSE: 0.00016756546989824903\n",
      "Epoch: 767 Iteration: 71400. Train_MSE: 0.0003368993930052966. Test_MSE: 0.00016771076757489989\n",
      "Epoch: 769 Iteration: 71600. Train_MSE: 0.0019633660558611155. Test_MSE: 0.0001675290380029386\n",
      "Epoch: 772 Iteration: 71800. Train_MSE: 0.00014803383965045214. Test_MSE: 0.00016709975911957754\n",
      "Epoch: 774 Iteration: 72000. Train_MSE: 0.0007861296180635691. Test_MSE: 0.00016668785727905425\n",
      "Epoch: 776 Iteration: 72200. Train_MSE: 0.0002455778303556144. Test_MSE: 0.00016666152577263503\n",
      "Epoch: 778 Iteration: 72400. Train_MSE: 0.00013606126594822854. Test_MSE: 0.00016636162896567662\n",
      "Epoch: 780 Iteration: 72600. Train_MSE: 0.00019605678971856833. Test_MSE: 0.00016583171217828235\n",
      "Epoch: 782 Iteration: 72800. Train_MSE: 0.0003259860095568001. Test_MSE: 0.00016602108108521035\n",
      "Epoch: 784 Iteration: 73000. Train_MSE: 0.0004249077755957842. Test_MSE: 0.000165853237806499\n",
      "Epoch: 787 Iteration: 73200. Train_MSE: 0.0017031326424330473. Test_MSE: 0.00016528985070283987\n",
      "Epoch: 789 Iteration: 73400. Train_MSE: 0.00027794940979219973. Test_MSE: 0.0001651055689939657\n",
      "Epoch: 791 Iteration: 73600. Train_MSE: 0.00017028868023771793. Test_MSE: 0.00016510584090586949\n",
      "Epoch: 793 Iteration: 73800. Train_MSE: 0.00017148713232018054. Test_MSE: 0.00016459857457759987\n",
      "Epoch: 795 Iteration: 74000. Train_MSE: 0.0018918588757514954. Test_MSE: 0.00016446846859104802\n",
      "Epoch: 797 Iteration: 74200. Train_MSE: 0.00017843670502770692. Test_MSE: 0.00016448584333492622\n",
      "Epoch: 799 Iteration: 74400. Train_MSE: 0.00019696496019605547. Test_MSE: 0.00016418339622456125\n",
      "Epoch: 802 Iteration: 74600. Train_MSE: 0.00027691686409525573. Test_MSE: 0.00016350374667722258\n",
      "Epoch: 804 Iteration: 74800. Train_MSE: 0.000539864762686193. Test_MSE: 0.00016357153396365608\n",
      "Epoch: 806 Iteration: 75000. Train_MSE: 0.00011625000479398295. Test_MSE: 0.0001634717980571778\n",
      "Epoch: 808 Iteration: 75200. Train_MSE: 0.00032494630431756377. Test_MSE: 0.00016285011385013646\n",
      "Epoch: 810 Iteration: 75400. Train_MSE: 0.00021750891755800694. Test_MSE: 0.00016302159039673038\n",
      "Epoch: 812 Iteration: 75600. Train_MSE: 0.0001581071992404759. Test_MSE: 0.00016281214189737346\n",
      "Epoch: 815 Iteration: 75800. Train_MSE: 0.00015576805162709206. Test_MSE: 0.0001623990120711156\n",
      "Epoch: 817 Iteration: 76000. Train_MSE: 0.0006178051116876304. Test_MSE: 0.00016203922700530762\n",
      "Epoch: 819 Iteration: 76200. Train_MSE: 0.00021976818970870227. Test_MSE: 0.0001620115093165122\n",
      "Epoch: 821 Iteration: 76400. Train_MSE: 0.00013637490337714553. Test_MSE: 0.00016170238561220417\n",
      "Epoch: 823 Iteration: 76600. Train_MSE: 0.00014227117935661227. Test_MSE: 0.00016127173673171743\n",
      "Epoch: 825 Iteration: 76800. Train_MSE: 0.00044680587598122656. Test_MSE: 0.00016145304008376897\n",
      "Epoch: 827 Iteration: 77000. Train_MSE: 0.000146925201988779. Test_MSE: 0.0001612852326111234\n",
      "Epoch: 830 Iteration: 77200. Train_MSE: 0.00020954704086761922. Test_MSE: 0.0001607104270963158\n",
      "Epoch: 832 Iteration: 77400. Train_MSE: 0.00023415066243615001. Test_MSE: 0.0001605747606168012\n",
      "Epoch: 834 Iteration: 77600. Train_MSE: 0.0002004296111408621. Test_MSE: 0.00016054760488571173\n",
      "Epoch: 836 Iteration: 77800. Train_MSE: 0.00014329914120025933. Test_MSE: 0.00016012896139105032\n",
      "Epoch: 838 Iteration: 78000. Train_MSE: 0.0007895316230133176. Test_MSE: 0.00016005731266214166\n",
      "Epoch: 840 Iteration: 78200. Train_MSE: 0.00018938635184895247. Test_MSE: 0.00015998775578924577\n",
      "Epoch: 843 Iteration: 78400. Train_MSE: 0.0002564211608842015. Test_MSE: 0.00015977747437480563\n",
      "Epoch: 845 Iteration: 78600. Train_MSE: 0.0001745613117236644. Test_MSE: 0.00015908338604582562\n",
      "Epoch: 847 Iteration: 78800. Train_MSE: 0.0004257599648553878. Test_MSE: 0.0001591412957517885\n",
      "Epoch: 849 Iteration: 79000. Train_MSE: 0.0001647864846745506. Test_MSE: 0.00015903130574044245\n",
      "Epoch: 851 Iteration: 79200. Train_MSE: 0.0003655672771856189. Test_MSE: 0.0001584940077107597\n",
      "Epoch: 853 Iteration: 79400. Train_MSE: 0.0002931819180957973. Test_MSE: 0.00015870140995485606\n",
      "Epoch: 855 Iteration: 79600. Train_MSE: 0.00017606810433790088. Test_MSE: 0.0001584704176580371\n",
      "Epoch: 858 Iteration: 79800. Train_MSE: 0.0001935594918904826. Test_MSE: 0.00015804294170449585\n",
      "Epoch: 860 Iteration: 80000. Train_MSE: 0.00032657745759934187. Test_MSE: 0.00015775469248346588\n",
      "Epoch: 862 Iteration: 80200. Train_MSE: 0.0003916638088412583. Test_MSE: 0.00015774869651307167\n",
      "Epoch: 864 Iteration: 80400. Train_MSE: 0.0001253272930625826. Test_MSE: 0.00015740089841009722\n",
      "Epoch: 866 Iteration: 80600. Train_MSE: 0.00024337219656445086. Test_MSE: 0.00015702732564443436\n",
      "Epoch: 868 Iteration: 80800. Train_MSE: 0.0005166747141629457. Test_MSE: 0.000157226132388136\n",
      "Epoch: 870 Iteration: 81000. Train_MSE: 0.00014096350059844553. Test_MSE: 0.000157072249976202\n",
      "Epoch: 873 Iteration: 81200. Train_MSE: 0.0002055259537883103. Test_MSE: 0.0001565174716183567\n",
      "Epoch: 875 Iteration: 81400. Train_MSE: 0.00032091260072775185. Test_MSE: 0.00015647837352275384\n",
      "Epoch: 877 Iteration: 81600. Train_MSE: 0.0002801505324896425. Test_MSE: 0.0001564193839302782\n",
      "Epoch: 879 Iteration: 81800. Train_MSE: 0.00014810054562985897. Test_MSE: 0.0001559564416413498\n",
      "Epoch: 881 Iteration: 82000. Train_MSE: 0.00038983512786217034. Test_MSE: 0.00015599835492745442\n",
      "Epoch: 883 Iteration: 82200. Train_MSE: 0.00026194556267000735. Test_MSE: 0.0001558808144009559\n",
      "Epoch: 886 Iteration: 82400. Train_MSE: 0.0001502663508290425. Test_MSE: 0.0001556438309016413\n",
      "Epoch: 888 Iteration: 82600. Train_MSE: 0.001114090089686215. Test_MSE: 0.0001551195501213309\n",
      "Epoch: 890 Iteration: 82800. Train_MSE: 0.002077720360830426. Test_MSE: 0.00015514088565944472\n",
      "Epoch: 892 Iteration: 83000. Train_MSE: 0.00013055952149443328. Test_MSE: 0.00015499187474127222\n",
      "Epoch: 894 Iteration: 83200. Train_MSE: 0.0003682039678096771. Test_MSE: 0.00015450737326617835\n",
      "Epoch: 896 Iteration: 83400. Train_MSE: 0.0003343287971802056. Test_MSE: 0.0001547203047885776\n",
      "Epoch: 898 Iteration: 83600. Train_MSE: 0.00011776180326705799. Test_MSE: 0.0001544902140363989\n",
      "Epoch: 901 Iteration: 83800. Train_MSE: 0.0001189679533126764. Test_MSE: 0.00015406417430380493\n",
      "Epoch: 903 Iteration: 84000. Train_MSE: 0.00044391912524588406. Test_MSE: 0.00015388493980590567\n",
      "Epoch: 905 Iteration: 84200. Train_MSE: 0.0003408292250242084. Test_MSE: 0.0001538184089791526\n",
      "Epoch: 907 Iteration: 84400. Train_MSE: 0.00188720494043082. Test_MSE: 0.00015355265776302276\n",
      "Epoch: 909 Iteration: 84600. Train_MSE: 0.003013778943568468. Test_MSE: 0.00015318493002301203\n",
      "Epoch: 911 Iteration: 84800. Train_MSE: 0.0004344870103523135. Test_MSE: 0.00015336751115252936\n",
      "Epoch: 913 Iteration: 85000. Train_MSE: 0.00016992651217151433. Test_MSE: 0.0001532645289069707\n",
      "Epoch: 916 Iteration: 85200. Train_MSE: 0.00019776307453867048. Test_MSE: 0.00015266189403929478\n",
      "Epoch: 918 Iteration: 85400. Train_MSE: 0.0002773302257992327. Test_MSE: 0.00015266653834210557\n",
      "Epoch: 920 Iteration: 85600. Train_MSE: 0.0001386674994137138. Test_MSE: 0.00015258635357833368\n",
      "Epoch: 922 Iteration: 85800. Train_MSE: 0.0001396291481796652. Test_MSE: 0.00015213774675420477\n",
      "Epoch: 924 Iteration: 86000. Train_MSE: 0.00044322735629975796. Test_MSE: 0.0001522581006320255\n",
      "Epoch: 926 Iteration: 86200. Train_MSE: 0.00035727847716771066. Test_MSE: 0.00015213496882013165\n",
      "Epoch: 929 Iteration: 86400. Train_MSE: 0.0001240665587829426. Test_MSE: 0.00015187217889823897\n"
     ]
    },
    {
     "name": "stdout",
     "output_type": "stream",
     "text": [
      "Epoch: 931 Iteration: 86600. Train_MSE: 0.0014606601325795054. Test_MSE: 0.00015144055277460596\n",
      "Epoch: 933 Iteration: 86800. Train_MSE: 0.0086682653054595. Test_MSE: 0.00015148401190796215\n",
      "Epoch: 935 Iteration: 87000. Train_MSE: 0.00015442231961060315. Test_MSE: 0.00015128614746655886\n",
      "Epoch: 937 Iteration: 87200. Train_MSE: 0.00022715610975865275. Test_MSE: 0.00015082655576142238\n",
      "Epoch: 939 Iteration: 87400. Train_MSE: 0.0002638073929119855. Test_MSE: 0.00015102246482342853\n",
      "Epoch: 941 Iteration: 87600. Train_MSE: 0.0001949236320797354. Test_MSE: 0.00015082034594439446\n",
      "Epoch: 944 Iteration: 87800. Train_MSE: 0.00029768754029646516. Test_MSE: 0.0001504243501019305\n",
      "Epoch: 946 Iteration: 88000. Train_MSE: 0.00028017471777275205. Test_MSE: 0.00015027627155031974\n",
      "Epoch: 948 Iteration: 88200. Train_MSE: 0.011318212375044823. Test_MSE: 0.00015034025620724604\n",
      "Epoch: 950 Iteration: 88400. Train_MSE: 0.0001922106894198805. Test_MSE: 0.00014995306360894947\n",
      "Epoch: 952 Iteration: 88600. Train_MSE: 0.003555474802851677. Test_MSE: 0.0001497893998337435\n",
      "Epoch: 954 Iteration: 88800. Train_MSE: 0.011056162416934967. Test_MSE: 0.00014996912132309037\n",
      "Epoch: 956 Iteration: 89000. Train_MSE: 0.00020164874149486423. Test_MSE: 0.00014969757606228513\n",
      "Epoch: 959 Iteration: 89200. Train_MSE: 0.000185378739843145. Test_MSE: 0.00014911200448961592\n",
      "Epoch: 961 Iteration: 89400. Train_MSE: 0.0002909506729338318. Test_MSE: 0.0001491515441641506\n",
      "Epoch: 963 Iteration: 89600. Train_MSE: 0.004066746681928635. Test_MSE: 0.00014915075015201594\n",
      "Epoch: 965 Iteration: 89800. Train_MSE: 0.00033785004052333534. Test_MSE: 0.00014862300098899677\n",
      "Epoch: 967 Iteration: 90000. Train_MSE: 0.0003092059923801571. Test_MSE: 0.0001488096501560687\n",
      "Epoch: 969 Iteration: 90200. Train_MSE: 0.0019523869268596172. Test_MSE: 0.00014867270364541193\n",
      "Epoch: 972 Iteration: 90400. Train_MSE: 0.00011487324809422716. Test_MSE: 0.00014835515369996166\n",
      "Epoch: 974 Iteration: 90600. Train_MSE: 0.0007757403654977679. Test_MSE: 0.0001480130935650912\n",
      "Epoch: 976 Iteration: 90800. Train_MSE: 0.00022456380247604102. Test_MSE: 0.0001479939941106889\n",
      "Epoch: 978 Iteration: 91000. Train_MSE: 0.00010250458581140265. Test_MSE: 0.00014780800643001332\n",
      "Epoch: 980 Iteration: 91200. Train_MSE: 0.00018250690482091159. Test_MSE: 0.00014741866796083775\n",
      "Epoch: 982 Iteration: 91400. Train_MSE: 0.0002960415731649846. Test_MSE: 0.00014761861214210688\n",
      "Epoch: 984 Iteration: 91600. Train_MSE: 0.0003603565273806453. Test_MSE: 0.00014751874738527302\n",
      "Epoch: 987 Iteration: 91800. Train_MSE: 0.0016673882491886616. Test_MSE: 0.00014709071757323665\n",
      "Epoch: 989 Iteration: 92000. Train_MSE: 0.00025391721283085644. Test_MSE: 0.00014691514080941817\n",
      "Epoch: 991 Iteration: 92200. Train_MSE: 0.00014966094749979675. Test_MSE: 0.00014696486277082348\n",
      "Epoch: 993 Iteration: 92400. Train_MSE: 0.0001394931023241952. Test_MSE: 0.0001465824098016543\n",
      "Epoch: 995 Iteration: 92600. Train_MSE: 0.001854764181189239. Test_MSE: 0.00014654645001901644\n",
      "Epoch: 997 Iteration: 92800. Train_MSE: 0.00016129827417898923. Test_MSE: 0.00014659238973107258\n",
      "Epoch: 999 Iteration: 93000. Train_MSE: 0.00015641783829778433. Test_MSE: 0.00014636515947178566\n"
     ]
    }
   ],
   "source": [
    "# Training the model\n",
    "seq_dim = 1\n",
    "\n",
    "n_iter =0\n",
    "num_samples = len(X_train)\n",
    "test_samples = len(X_test)\n",
    "batch_size = 100\n",
    "num_epochs = 1000\n",
    "feat_dim = X_train.shape[1]\n",
    "\n",
    "X_train = X_train.type(torch.FloatTensor)\n",
    "y_train = y_train.type(torch.FloatTensor)\n",
    "X_test = X_test.type(torch.FloatTensor)\n",
    "y_test = y_test.type(torch.FloatTensor)\n",
    "\n",
    "for epoch in range(num_epochs):\n",
    "    for i in range(0, int(num_samples/batch_size -1)):\n",
    "        \n",
    "        \n",
    "        features = Variable(X_train[i*batch_size:(i+1)*batch_size, :]).view(-1, seq_dim, feat_dim)\n",
    "        Kt_value = Variable(y_train[i*batch_size:(i+1)*batch_size])\n",
    "        \n",
    "        #print(\"Kt_value={}\".format(Kt_value))\n",
    "        \n",
    "        optimizer.zero_grad()\n",
    "        \n",
    "        outputs = model(features)\n",
    "        #print(\"outputs ={}\".format(outputs))\n",
    "        \n",
    "        loss = criterion(outputs, Kt_value)\n",
    "        \n",
    "        train_loss.append(loss.data[0])\n",
    "        train_iter.append(n_iter)\n",
    "\n",
    "        #print(\"loss = {}\".format(loss))\n",
    "        loss.backward()\n",
    "        \n",
    "        optimizer.step()\n",
    "        \n",
    "        n_iter += 1  \n",
    "            \n",
    "        if n_iter%200 == 0:\n",
    "            for i in range(0,int(test_samples/batch_size -1)):\n",
    "                features = Variable(X_test[i*batch_size:(i+1)*batch_size, :]).view(-1, seq_dim, feat_dim)\n",
    "                Kt_test = Variable(y_test[i*batch_size:(i+1)*batch_size])\n",
    "                \n",
    "                outputs = model(features)\n",
    "                \n",
    "                mse = np.sqrt(np.mean((Kt_test.data.numpy() - outputs.data.numpy().squeeze())**2)/num_samples)\n",
    "                \n",
    "                test_iter.append(n_iter)\n",
    "                test_loss.append(mse)\n",
    "                \n",
    "            print('Epoch: {} Iteration: {}. Train_MSE: {}. Test_MSE: {}'.format(epoch, n_iter, loss.data[0], mse))\n",
    "               "
   ]
  },
  {
   "cell_type": "code",
   "execution_count": 84,
   "metadata": {},
   "outputs": [
    {
     "name": "stdout",
     "output_type": "stream",
     "text": [
      "93000\n"
     ]
    },
    {
     "data": {
      "text/plain": [
       "Text(0.5,1,'train_loss')"
      ]
     },
     "execution_count": 84,
     "metadata": {},
     "output_type": "execute_result"
    },
    {
     "data": {
      "image/png": "[encoded data removed]",
      "text/plain": [
       "<Figure size 432x288 with 1 Axes>"
      ]
     },
     "metadata": {},
     "output_type": "display_data"
    }
   ],
   "source": [
    "print(len(train_loss))\n",
    "plt.plot(train_loss,'-')\n",
    "plt.title('train_loss')\n"
   ]
  },
  {
   "cell_type": "code",
   "execution_count": 85,
   "metadata": {},
   "outputs": [
    {
     "name": "stdout",
     "output_type": "stream",
     "text": [
      "19530\n"
     ]
    },
    {
     "data": {
      "text/plain": [
       "Text(0.5,1,'test_loss')"
      ]
     },
     "execution_count": 85,
     "metadata": {},
     "output_type": "execute_result"
    },
    {
     "data": {
      "image/png": "[encoded data removed]",
      "text/plain": [
       "<Figure size 432x288 with 1 Axes>"
      ]
     },
     "metadata": {},
     "output_type": "display_data"
    }
   ],
   "source": [
    "print(len(test_loss))\n",
    "plt.plot(test_loss,'r')\n",
    "plt.title('test_loss')\n"
   ]
  },
  {
   "cell_type": "markdown",
   "metadata": {
    "collapsed": true
   },
   "source": [
    "#### Demornamization"
   ]
  },
  {
   "cell_type": "code",
   "execution_count": 86,
   "metadata": {},
   "outputs": [],
   "source": [
    "# normalized this way:\n",
    "#test_norm =  (df_new_test - df_new_test.mean()) / (df_new_test.max() - df_new_test.min())"
   ]
  },
  {
   "cell_type": "code",
   "execution_count": 87,
   "metadata": {},
   "outputs": [],
   "source": [
    "rmse = np.sqrt(mse)"
   ]
  },
  {
   "cell_type": "code",
   "execution_count": 88,
   "metadata": {},
   "outputs": [],
   "source": [
    "rmse_denorm = (rmse * (df_new_test['Kt'].max() - df_new_test['Kt'].min()))+ df_new_test['Kt'].mean()"
   ]
  },
  {
   "cell_type": "code",
   "execution_count": 89,
   "metadata": {},
   "outputs": [
    {
     "data": {
      "text/plain": [
       "20.074817306405894"
      ]
     },
     "execution_count": 89,
     "metadata": {},
     "output_type": "execute_result"
    }
   ],
   "source": [
    "rmse_denorm"
   ]
  },
  {
   "cell_type": "code",
   "execution_count": 90,
   "metadata": {},
   "outputs": [],
   "source": [
    "#df_new_test['Kt'].sort_values()"
   ]
  },
  {
   "cell_type": "code",
   "execution_count": 91,
   "metadata": {},
   "outputs": [
    {
     "data": {
      "text/plain": [
       "count    4228.000000\n",
       "mean        7.648923\n",
       "std        39.416136\n",
       "min        -0.267460\n",
       "25%        -0.007315\n",
       "50%         0.016496\n",
       "75%         0.905913\n",
       "max      1026.823214\n",
       "Name: Kt, dtype: float64"
      ]
     },
     "execution_count": 91,
     "metadata": {},
     "output_type": "execute_result"
    }
   ],
   "source": [
    "df_new_test['Kt'].describe()"
   ]
  },
  {
   "cell_type": "markdown",
   "metadata": {
    "collapsed": true
   },
   "source": [
    "### Saving train and test losses to a csv"
   ]
  },
  {
   "cell_type": "code",
   "execution_count": 93,
   "metadata": {},
   "outputs": [],
   "source": [
    "df_trainLoss = pd.DataFrame(data={'Train Loss':train_loss}, columns=['Train Loss'])\n",
    "df_trainLoss.to_csv('RNN Paper Results/Exp1_Boulder_1000Epoch_TrainLoss.csv')\n",
    "df_testLoss = pd.DataFrame(data={'Test Loss':test_loss}, columns=['Test Loss'])\n",
    "df_testLoss.to_csv('RNN Paper Results/Exp1_Boulder_1000EpochTestLoss.csv')"
   ]
  },
  {
   "cell_type": "code",
   "execution_count": null,
   "metadata": {},
   "outputs": [],
   "source": []
  },
  {
   "cell_type": "code",
   "execution_count": null,
   "metadata": {},
   "outputs": [],
   "source": []
  },
  {
   "cell_type": "code",
   "execution_count": null,
   "metadata": {},
   "outputs": [],
   "source": []
  }
 ],
 "metadata": {
  "anaconda-cloud": {},
  "kernelspec": {
   "display_name": "Python 3",
   "language": "python",
   "name": "python3"
  },
  "language_info": {
   "codemirror_mode": {
    "name": "ipython",
    "version": 3
   },
   "file_extension": ".py",
   "mimetype": "text/x-python",
   "name": "python",
   "nbconvert_exporter": "python",
   "pygments_lexer": "ipython3",
   "version": "3.6.1"
  }
 },
 "nbformat": 4,
 "nbformat_minor": 2
}
