{
 "cells": [
  {
   "cell_type": "markdown",
   "metadata": {},
   "source": [
    "### Experiment 1 Bondville summary:\n",
    "1. import bird model ghi values\n",
    "2. import actual data\n",
    "3. merge the two based on the common timestamps\n",
    "4. drop all rows if 'ghi' value is 0\n",
    "5. Drop all rows with dw_solar < 0\n",
    "6. Manage missing values: Drop any row if it has -9999.9\n",
    "7. Make Kt column ('dw_solar'/'ghi') \n",
    "8. Group the data into hourly format (by finding mean)\n",
    "9. assign hierarchical index\n",
    "10. get the subdataframes for each day and shift the Kt values\n",
    "11. drop the year, month, day, hour and minute columns\n",
    "12. feed the data into RNN alrogithm\n",
    "    - RNN seq_lenth = 1\n",
    "    - learning rate = 0.001\n",
    "    - single RNN layer\n",
    "    - num of epochs = 1000\n",
    "\n",
    "** in this experiment we are not giving Kt as one of the features. We are using hierarchical index to make sub dataframe for every day and then shift the Kt values one cell up to make it as one hour forecast. **"
   ]
  },
  {
   "cell_type": "markdown",
   "metadata": {},
   "source": [
    "### NOTE\n",
    "** the test['Kt'].max() values after grouping into hourly data is 7279.907547 = this is a outlier. The reason might be having a dw_solar reading with QC=2 value. Still haven't checked that. But the second highest value of 'Kt' parameter in the testset is 672 (which is way lower) **"
   ]
  },
  {
   "cell_type": "code",
   "execution_count": 44,
   "metadata": {},
   "outputs": [],
   "source": [
    "import numpy as np\n",
    "import pandas as pd\n",
    "import datetime\n",
    "import glob\n",
    "import os.path\n",
    "from pandas.compat import StringIO"
   ]
  },
  {
   "cell_type": "markdown",
   "metadata": {},
   "source": [
    "### NREL Bird Model implementation: for obtaining clear sky GHI"
   ]
  },
  {
   "cell_type": "code",
   "execution_count": 45,
   "metadata": {},
   "outputs": [],
   "source": [
    "import itertools\n",
    "import matplotlib.pyplot as plt\n",
    "import pandas as pd\n",
    "import seaborn as sns"
   ]
  },
  {
   "cell_type": "code",
   "execution_count": 46,
   "metadata": {},
   "outputs": [],
   "source": [
    "%matplotlib inline\n",
    "sns.set_color_codes()"
   ]
  },
  {
   "cell_type": "code",
   "execution_count": 47,
   "metadata": {},
   "outputs": [],
   "source": [
    "import pvlib\n",
    "from pvlib import clearsky, atmosphere\n",
    "from pvlib.location import Location"
   ]
  },
  {
   "cell_type": "code",
   "execution_count": 48,
   "metadata": {},
   "outputs": [],
   "source": [
    "bvl = Location(40.1134,-88.3695, 'US/Central', 217.932, 'Bondville')"
   ]
  },
  {
   "cell_type": "code",
   "execution_count": 109,
   "metadata": {},
   "outputs": [],
   "source": [
    "times2009 = pd.DatetimeIndex(start='2009-01-01', end='2010-01-01', freq='1min',\n",
    "                        tz=bvl.tz)   # 12 months of 2009 - For testing\n",
    "times2010and2011 = pd.DatetimeIndex(start='2010-01-01', end='2012-01-01', freq='1min',\n",
    "                        tz=bvl.tz)   # 24 months of 2010 and 2011 - For training"
   ]
  },
  {
   "cell_type": "code",
   "execution_count": 111,
   "metadata": {},
   "outputs": [],
   "source": [
    "cs_2009 = bvl.get_clearsky(times2009) \n",
    "cs_2010and2011 = bvl.get_clearsky(times2010and2011) # ineichen with climatology table by default\n",
    "#cs_2011 = bvl.get_clearsky(times2011) "
   ]
  },
  {
   "cell_type": "code",
   "execution_count": 112,
   "metadata": {},
   "outputs": [],
   "source": [
    "cs_2009.drop(['dni','dhi'],axis=1, inplace=True) #updating the same dataframe by dropping two columns\n",
    "cs_2010and2011.drop(['dni','dhi'],axis=1, inplace=True) #updating the same dataframe by dropping two columns\n",
    "#cs_2011.drop(['dni','dhi'],axis=1, inplace=True) #updating the same dataframe by dropping two columns"
   ]
  },
  {
   "cell_type": "code",
   "execution_count": 113,
   "metadata": {},
   "outputs": [],
   "source": [
    "cs_2009.reset_index(inplace=True)\n",
    "cs_2010and2011.reset_index(inplace=True)\n",
    "#cs_2011.reset_index(inplace=True)"
   ]
  },
  {
   "cell_type": "code",
   "execution_count": 114,
   "metadata": {},
   "outputs": [],
   "source": [
    "cs_2009['index']=cs_2009['index'].apply(lambda x:x.to_datetime())\n",
    "cs_2009['year'] = cs_2009['index'].apply(lambda x:x.year)\n",
    "cs_2009['month'] = cs_2009['index'].apply(lambda x:x.month)\n",
    "cs_2009['day'] = cs_2009['index'].apply(lambda x:x.day)\n",
    "cs_2009['hour'] = cs_2009['index'].apply(lambda x:x.hour)\n",
    "cs_2009['min'] = cs_2009['index'].apply(lambda x:x.minute)"
   ]
  },
  {
   "cell_type": "code",
   "execution_count": 115,
   "metadata": {},
   "outputs": [],
   "source": [
    "cs_2010and2011['index']=cs_2010and2011['index'].apply(lambda x:x.to_datetime())\n",
    "cs_2010and2011['year'] = cs_2010and2011['index'].apply(lambda x:x.year)\n",
    "cs_2010and2011['month'] = cs_2010and2011['index'].apply(lambda x:x.month)\n",
    "cs_2010and2011['day'] = cs_2010and2011['index'].apply(lambda x:x.day)\n",
    "cs_2010and2011['hour'] = cs_2010and2011['index'].apply(lambda x:x.hour)\n",
    "cs_2010and2011['min'] = cs_2010and2011['index'].apply(lambda x:x.minute)"
   ]
  },
  {
   "cell_type": "code",
   "execution_count": 116,
   "metadata": {},
   "outputs": [
    {
     "name": "stdout",
     "output_type": "stream",
     "text": [
      "(525601, 7)\n",
      "(1051201, 7)\n"
     ]
    }
   ],
   "source": [
    "print(cs_2009.shape)\n",
    "print(cs_2010and2011.shape)\n",
    "#print(cs_2011.shape)"
   ]
  },
  {
   "cell_type": "code",
   "execution_count": 117,
   "metadata": {},
   "outputs": [],
   "source": [
    "cs_2009.drop(cs_2009.index[-1], inplace=True)\n",
    "cs_2010and2011.drop(cs_2010and2011.index[-1], inplace=True)\n",
    "#cs_2011.drop(cs_2011.index[-1], inplace=True)"
   ]
  },
  {
   "cell_type": "code",
   "execution_count": 118,
   "metadata": {},
   "outputs": [
    {
     "name": "stdout",
     "output_type": "stream",
     "text": [
      "(525600, 7)\n",
      "(1051200, 7)\n"
     ]
    }
   ],
   "source": [
    "print(cs_2009.shape)\n",
    "print(cs_2010and2011.shape)\n",
    "#print(cs_2011.shape)"
   ]
  },
  {
   "cell_type": "code",
   "execution_count": 119,
   "metadata": {},
   "outputs": [
    {
     "data": {
      "text/html": [
       "<div>\n",
       "<table border=\"1\" class=\"dataframe\">\n",
       "  <thead>\n",
       "    <tr style=\"text-align: right;\">\n",
       "      <th></th>\n",
       "      <th>index</th>\n",
       "      <th>ghi</th>\n",
       "      <th>year</th>\n",
       "      <th>month</th>\n",
       "      <th>day</th>\n",
       "      <th>hour</th>\n",
       "      <th>min</th>\n",
       "    </tr>\n",
       "  </thead>\n",
       "  <tbody>\n",
       "    <tr>\n",
       "      <th>0</th>\n",
       "      <td>2010-01-01 00:00:00-06:00</td>\n",
       "      <td>0.0</td>\n",
       "      <td>2010</td>\n",
       "      <td>1</td>\n",
       "      <td>1</td>\n",
       "      <td>0</td>\n",
       "      <td>0</td>\n",
       "    </tr>\n",
       "    <tr>\n",
       "      <th>1</th>\n",
       "      <td>2010-01-01 00:01:00-06:00</td>\n",
       "      <td>0.0</td>\n",
       "      <td>2010</td>\n",
       "      <td>1</td>\n",
       "      <td>1</td>\n",
       "      <td>0</td>\n",
       "      <td>1</td>\n",
       "    </tr>\n",
       "    <tr>\n",
       "      <th>2</th>\n",
       "      <td>2010-01-01 00:02:00-06:00</td>\n",
       "      <td>0.0</td>\n",
       "      <td>2010</td>\n",
       "      <td>1</td>\n",
       "      <td>1</td>\n",
       "      <td>0</td>\n",
       "      <td>2</td>\n",
       "    </tr>\n",
       "    <tr>\n",
       "      <th>3</th>\n",
       "      <td>2010-01-01 00:03:00-06:00</td>\n",
       "      <td>0.0</td>\n",
       "      <td>2010</td>\n",
       "      <td>1</td>\n",
       "      <td>1</td>\n",
       "      <td>0</td>\n",
       "      <td>3</td>\n",
       "    </tr>\n",
       "    <tr>\n",
       "      <th>4</th>\n",
       "      <td>2010-01-01 00:04:00-06:00</td>\n",
       "      <td>0.0</td>\n",
       "      <td>2010</td>\n",
       "      <td>1</td>\n",
       "      <td>1</td>\n",
       "      <td>0</td>\n",
       "      <td>4</td>\n",
       "    </tr>\n",
       "  </tbody>\n",
       "</table>\n",
       "</div>"
      ],
      "text/plain": [
       "                      index  ghi  year  month  day  hour  min\n",
       "0 2010-01-01 00:00:00-06:00  0.0  2010      1    1     0    0\n",
       "1 2010-01-01 00:01:00-06:00  0.0  2010      1    1     0    1\n",
       "2 2010-01-01 00:02:00-06:00  0.0  2010      1    1     0    2\n",
       "3 2010-01-01 00:03:00-06:00  0.0  2010      1    1     0    3\n",
       "4 2010-01-01 00:04:00-06:00  0.0  2010      1    1     0    4"
      ]
     },
     "execution_count": 119,
     "metadata": {},
     "output_type": "execute_result"
    }
   ],
   "source": [
    "cs_2010and2011.head()"
   ]
  },
  {
   "cell_type": "code",
   "execution_count": 93,
   "metadata": {},
   "outputs": [
    {
     "data": {
      "text/html": [
       "<div>\n",
       "<table border=\"1\" class=\"dataframe\">\n",
       "  <thead>\n",
       "    <tr style=\"text-align: right;\">\n",
       "      <th></th>\n",
       "      <th>index</th>\n",
       "      <th>ghi</th>\n",
       "      <th>year</th>\n",
       "      <th>month</th>\n",
       "      <th>day</th>\n",
       "      <th>hour</th>\n",
       "      <th>min</th>\n",
       "    </tr>\n",
       "  </thead>\n",
       "  <tbody>\n",
       "    <tr>\n",
       "      <th>0</th>\n",
       "      <td>2009-01-01 00:00:00-06:00</td>\n",
       "      <td>0.0</td>\n",
       "      <td>2009</td>\n",
       "      <td>1</td>\n",
       "      <td>1</td>\n",
       "      <td>0</td>\n",
       "      <td>0</td>\n",
       "    </tr>\n",
       "    <tr>\n",
       "      <th>1</th>\n",
       "      <td>2009-01-01 00:01:00-06:00</td>\n",
       "      <td>0.0</td>\n",
       "      <td>2009</td>\n",
       "      <td>1</td>\n",
       "      <td>1</td>\n",
       "      <td>0</td>\n",
       "      <td>1</td>\n",
       "    </tr>\n",
       "    <tr>\n",
       "      <th>2</th>\n",
       "      <td>2009-01-01 00:02:00-06:00</td>\n",
       "      <td>0.0</td>\n",
       "      <td>2009</td>\n",
       "      <td>1</td>\n",
       "      <td>1</td>\n",
       "      <td>0</td>\n",
       "      <td>2</td>\n",
       "    </tr>\n",
       "    <tr>\n",
       "      <th>3</th>\n",
       "      <td>2009-01-01 00:03:00-06:00</td>\n",
       "      <td>0.0</td>\n",
       "      <td>2009</td>\n",
       "      <td>1</td>\n",
       "      <td>1</td>\n",
       "      <td>0</td>\n",
       "      <td>3</td>\n",
       "    </tr>\n",
       "    <tr>\n",
       "      <th>4</th>\n",
       "      <td>2009-01-01 00:04:00-06:00</td>\n",
       "      <td>0.0</td>\n",
       "      <td>2009</td>\n",
       "      <td>1</td>\n",
       "      <td>1</td>\n",
       "      <td>0</td>\n",
       "      <td>4</td>\n",
       "    </tr>\n",
       "  </tbody>\n",
       "</table>\n",
       "</div>"
      ],
      "text/plain": [
       "                      index  ghi  year  month  day  hour  min\n",
       "0 2009-01-01 00:00:00-06:00  0.0  2009      1    1     0    0\n",
       "1 2009-01-01 00:01:00-06:00  0.0  2009      1    1     0    1\n",
       "2 2009-01-01 00:02:00-06:00  0.0  2009      1    1     0    2\n",
       "3 2009-01-01 00:03:00-06:00  0.0  2009      1    1     0    3\n",
       "4 2009-01-01 00:04:00-06:00  0.0  2009      1    1     0    4"
      ]
     },
     "execution_count": 93,
     "metadata": {},
     "output_type": "execute_result"
    }
   ],
   "source": [
    "cs_2009.head()"
   ]
  },
  {
   "cell_type": "markdown",
   "metadata": {},
   "source": [
    "### Import files from each year in a separate dataframe"
   ]
  },
  {
   "cell_type": "markdown",
   "metadata": {
    "collapsed": true
   },
   "source": [
    "\n",
    "- year            integer\t year, i.e., 1995\n",
    "- jday            integer\t Julian day (1 through 365 [or 366])\n",
    "- month           integer\t number of the month (1-12)\n",
    "- day             integer\t day of the month(1-31)\n",
    "- hour            integer\t hour of the day (0-23)\n",
    "- min             integer\t minute of the hour (0-59)\n",
    "- dt              real\t decimal time (hour.decimalminutes, e.g., 23.5 = 2330)\n",
    "- zen             real\t solar zenith angle (degrees)\n",
    "- dw_solar        real\t downwelling global solar (Watts m^-2)\n",
    "- uw_solar        real\t upwelling global solar (Watts m^-2)\n",
    "- direct_n        real\t direct-normal solar (Watts m^-2)\n",
    "- diffuse         real\t downwelling diffuse solar (Watts m^-2)\n",
    "- dw_ir           real\t downwelling thermal infrared (Watts m^-2)\n",
    "- dw_casetemp     real\t downwelling IR case temp. (K)\n",
    "- dw_dometemp     real\t downwelling IR dome temp. (K)\n",
    "- uw_ir           real\t upwelling thermal infrared (Watts m^-2)\n",
    "- uw_casetemp     real\t upwelling IR case temp. (K)\n",
    "- uw_dometemp     real\t upwelling IR dome temp. (K)\n",
    "- uvb             real\t global UVB (milliWatts m^-2)\n",
    "- par             real\t photosynthetically active radiation (Watts m^-2)\n",
    "- netsolar        real\t net solar (dw_solar - uw_solar) (Watts m^-2)\n",
    "- netir           real\t net infrared (dw_ir - uw_ir) (Watts m^-2)\n",
    "- totalnet        real\t net radiation (netsolar+netir) (Watts m^-2)\n",
    "- temp            real\t 10-meter air temperature (?C)\n",
    "- rh              real\t relative humidity (%)\n",
    "- windspd         real\t wind speed (ms^-1)\n",
    "- winddir         real\t wind direction (degrees, clockwise from north)\n",
    "- pressure        real\t station pressure (mb)\n"
   ]
  },
  {
   "cell_type": "code",
   "execution_count": 120,
   "metadata": {},
   "outputs": [],
   "source": [
    "cols = ['year', 'jday', 'month', 'day','hour','min','dt','zen','dw_solar','dw_solar_QC','uw_solar',\n",
    "       'uw_solar_QC', 'direct_n','direct_n_QC','diffuse', 'diffuse_QC', 'dw_ir', 'dw_ir_QC', 'dw_casetemp',\n",
    "       'dw_casetemp_QC', 'dw_dometemp','dw_dometemp_QC','uw_ir', 'uw_ir_QC', 'uw_casetemp','uw_casetemp_QC',\n",
    "       'uw_dometemp','uw_dometemp_QC','uvb','uvb_QC','par','par_QC','netsolar','netsolar_QC','netir','netir_QC',\n",
    "       'totalnet','totalnet_QC','temp','temp_QC','rh','rh_QC','windspd','windspd_QC','winddir','winddir_QC',\n",
    "       'pressure','pressure_QC']"
   ]
  },
  {
   "cell_type": "code",
   "execution_count": 60,
   "metadata": {},
   "outputs": [
    {
     "data": {
      "text/plain": [
       "(1050402, 48)"
      ]
     },
     "execution_count": 60,
     "metadata": {},
     "output_type": "execute_result"
    }
   ],
   "source": [
    "path = r'.\\\\data\\\\Bondville\\\\Exp_1_train'\n",
    "all_files = glob.glob(path + \"/*.dat\")\n",
    "all_files.sort()\n",
    "\n",
    "df_big_train = pd.concat([pd.read_csv(f, skipinitialspace = True, quotechar = '\"',skiprows=(2),delimiter=' ', \n",
    "                 index_col=False,header=None, names=cols) for f in all_files],ignore_index=True)\n",
    "df_big_train.shape"
   ]
  },
  {
   "cell_type": "code",
   "execution_count": 61,
   "metadata": {},
   "outputs": [
    {
     "data": {
      "text/html": [
       "<div>\n",
       "<table border=\"1\" class=\"dataframe\">\n",
       "  <thead>\n",
       "    <tr style=\"text-align: right;\">\n",
       "      <th></th>\n",
       "      <th>year</th>\n",
       "      <th>jday</th>\n",
       "      <th>month</th>\n",
       "      <th>day</th>\n",
       "      <th>hour</th>\n",
       "      <th>min</th>\n",
       "      <th>dt</th>\n",
       "      <th>zen</th>\n",
       "      <th>dw_solar</th>\n",
       "      <th>dw_solar_QC</th>\n",
       "      <th>...</th>\n",
       "      <th>temp</th>\n",
       "      <th>temp_QC</th>\n",
       "      <th>rh</th>\n",
       "      <th>rh_QC</th>\n",
       "      <th>windspd</th>\n",
       "      <th>windspd_QC</th>\n",
       "      <th>winddir</th>\n",
       "      <th>winddir_QC</th>\n",
       "      <th>pressure</th>\n",
       "      <th>pressure_QC</th>\n",
       "    </tr>\n",
       "  </thead>\n",
       "  <tbody>\n",
       "    <tr>\n",
       "      <th>0</th>\n",
       "      <td>2010</td>\n",
       "      <td>1</td>\n",
       "      <td>1</td>\n",
       "      <td>1</td>\n",
       "      <td>0</td>\n",
       "      <td>0</td>\n",
       "      <td>0.000</td>\n",
       "      <td>105.07</td>\n",
       "      <td>-4.1</td>\n",
       "      <td>0</td>\n",
       "      <td>...</td>\n",
       "      <td>-8.9</td>\n",
       "      <td>0</td>\n",
       "      <td>75.9</td>\n",
       "      <td>0</td>\n",
       "      <td>6.4</td>\n",
       "      <td>0</td>\n",
       "      <td>304.1</td>\n",
       "      <td>0</td>\n",
       "      <td>996.1</td>\n",
       "      <td>0</td>\n",
       "    </tr>\n",
       "    <tr>\n",
       "      <th>1</th>\n",
       "      <td>2010</td>\n",
       "      <td>1</td>\n",
       "      <td>1</td>\n",
       "      <td>1</td>\n",
       "      <td>0</td>\n",
       "      <td>1</td>\n",
       "      <td>0.017</td>\n",
       "      <td>105.25</td>\n",
       "      <td>-4.1</td>\n",
       "      <td>0</td>\n",
       "      <td>...</td>\n",
       "      <td>-8.9</td>\n",
       "      <td>0</td>\n",
       "      <td>75.7</td>\n",
       "      <td>0</td>\n",
       "      <td>6.5</td>\n",
       "      <td>0</td>\n",
       "      <td>302.6</td>\n",
       "      <td>0</td>\n",
       "      <td>996.1</td>\n",
       "      <td>0</td>\n",
       "    </tr>\n",
       "    <tr>\n",
       "      <th>2</th>\n",
       "      <td>2010</td>\n",
       "      <td>1</td>\n",
       "      <td>1</td>\n",
       "      <td>1</td>\n",
       "      <td>0</td>\n",
       "      <td>2</td>\n",
       "      <td>0.033</td>\n",
       "      <td>105.44</td>\n",
       "      <td>-4.1</td>\n",
       "      <td>0</td>\n",
       "      <td>...</td>\n",
       "      <td>-8.9</td>\n",
       "      <td>0</td>\n",
       "      <td>75.7</td>\n",
       "      <td>0</td>\n",
       "      <td>6.6</td>\n",
       "      <td>0</td>\n",
       "      <td>301.5</td>\n",
       "      <td>0</td>\n",
       "      <td>996.2</td>\n",
       "      <td>0</td>\n",
       "    </tr>\n",
       "    <tr>\n",
       "      <th>3</th>\n",
       "      <td>2010</td>\n",
       "      <td>1</td>\n",
       "      <td>1</td>\n",
       "      <td>1</td>\n",
       "      <td>0</td>\n",
       "      <td>3</td>\n",
       "      <td>0.050</td>\n",
       "      <td>105.62</td>\n",
       "      <td>-4.1</td>\n",
       "      <td>0</td>\n",
       "      <td>...</td>\n",
       "      <td>-8.9</td>\n",
       "      <td>0</td>\n",
       "      <td>75.6</td>\n",
       "      <td>0</td>\n",
       "      <td>6.9</td>\n",
       "      <td>0</td>\n",
       "      <td>301.4</td>\n",
       "      <td>0</td>\n",
       "      <td>996.2</td>\n",
       "      <td>0</td>\n",
       "    </tr>\n",
       "    <tr>\n",
       "      <th>4</th>\n",
       "      <td>2010</td>\n",
       "      <td>1</td>\n",
       "      <td>1</td>\n",
       "      <td>1</td>\n",
       "      <td>0</td>\n",
       "      <td>4</td>\n",
       "      <td>0.067</td>\n",
       "      <td>105.80</td>\n",
       "      <td>-4.1</td>\n",
       "      <td>0</td>\n",
       "      <td>...</td>\n",
       "      <td>-8.9</td>\n",
       "      <td>0</td>\n",
       "      <td>75.8</td>\n",
       "      <td>0</td>\n",
       "      <td>6.7</td>\n",
       "      <td>0</td>\n",
       "      <td>302.8</td>\n",
       "      <td>0</td>\n",
       "      <td>996.2</td>\n",
       "      <td>0</td>\n",
       "    </tr>\n",
       "  </tbody>\n",
       "</table>\n",
       "<p>5 rows × 48 columns</p>\n",
       "</div>"
      ],
      "text/plain": [
       "   year  jday  month  day  hour  min     dt     zen  dw_solar  dw_solar_QC  \\\n",
       "0  2010     1      1    1     0    0  0.000  105.07      -4.1            0   \n",
       "1  2010     1      1    1     0    1  0.017  105.25      -4.1            0   \n",
       "2  2010     1      1    1     0    2  0.033  105.44      -4.1            0   \n",
       "3  2010     1      1    1     0    3  0.050  105.62      -4.1            0   \n",
       "4  2010     1      1    1     0    4  0.067  105.80      -4.1            0   \n",
       "\n",
       "      ...       temp  temp_QC    rh  rh_QC  windspd  windspd_QC  winddir  \\\n",
       "0     ...       -8.9        0  75.9      0      6.4           0    304.1   \n",
       "1     ...       -8.9        0  75.7      0      6.5           0    302.6   \n",
       "2     ...       -8.9        0  75.7      0      6.6           0    301.5   \n",
       "3     ...       -8.9        0  75.6      0      6.9           0    301.4   \n",
       "4     ...       -8.9        0  75.8      0      6.7           0    302.8   \n",
       "\n",
       "   winddir_QC  pressure  pressure_QC  \n",
       "0           0     996.1            0  \n",
       "1           0     996.1            0  \n",
       "2           0     996.2            0  \n",
       "3           0     996.2            0  \n",
       "4           0     996.2            0  \n",
       "\n",
       "[5 rows x 48 columns]"
      ]
     },
     "execution_count": 61,
     "metadata": {},
     "output_type": "execute_result"
    }
   ],
   "source": [
    "df_big_train.head()"
   ]
  },
  {
   "cell_type": "code",
   "execution_count": 121,
   "metadata": {},
   "outputs": [
    {
     "data": {
      "text/plain": [
       "(524936, 48)"
      ]
     },
     "execution_count": 121,
     "metadata": {},
     "output_type": "execute_result"
    }
   ],
   "source": [
    "path = r'.\\\\data\\\\Bondville\\\\Exp_1_test'\n",
    "all_files = glob.glob(path + \"/*.dat\")\n",
    "all_files.sort()\n",
    "\n",
    "df_big_test = pd.concat((pd.read_csv(f, skipinitialspace = True, quotechar = '\"',skiprows=(2),delimiter=' ', \n",
    "                 index_col=False,header=None, names=cols) for f in all_files),ignore_index=True)\n",
    "df_big_test.shape"
   ]
  },
  {
   "cell_type": "code",
   "execution_count": 122,
   "metadata": {},
   "outputs": [
    {
     "data": {
      "text/plain": [
       "(19, 48)"
      ]
     },
     "execution_count": 122,
     "metadata": {},
     "output_type": "execute_result"
    }
   ],
   "source": [
    "df_big_test[df_big_test['dw_solar']==-9999.9].shape"
   ]
  },
  {
   "cell_type": "markdown",
   "metadata": {},
   "source": [
    "### Merging Clear Sky GHI And the big dataframe"
   ]
  },
  {
   "cell_type": "code",
   "execution_count": 123,
   "metadata": {},
   "outputs": [
    {
     "data": {
      "text/plain": [
       "(1050402, 50)"
      ]
     },
     "execution_count": 123,
     "metadata": {},
     "output_type": "execute_result"
    }
   ],
   "source": [
    "df_train = pd.merge(df_big_train, cs_2010and2011, on=['year','month','day','hour','min'])\n",
    "df_train.shape"
   ]
  },
  {
   "cell_type": "code",
   "execution_count": 102,
   "metadata": {},
   "outputs": [
    {
     "data": {
      "text/html": [
       "<div>\n",
       "<table border=\"1\" class=\"dataframe\">\n",
       "  <thead>\n",
       "    <tr style=\"text-align: right;\">\n",
       "      <th></th>\n",
       "      <th>year</th>\n",
       "      <th>jday</th>\n",
       "      <th>month</th>\n",
       "      <th>day</th>\n",
       "      <th>hour</th>\n",
       "      <th>min</th>\n",
       "      <th>dt</th>\n",
       "      <th>zen</th>\n",
       "      <th>dw_solar</th>\n",
       "      <th>dw_solar_QC</th>\n",
       "      <th>...</th>\n",
       "      <th>temp</th>\n",
       "      <th>temp_QC</th>\n",
       "      <th>rh</th>\n",
       "      <th>rh_QC</th>\n",
       "      <th>windspd</th>\n",
       "      <th>windspd_QC</th>\n",
       "      <th>winddir</th>\n",
       "      <th>winddir_QC</th>\n",
       "      <th>pressure</th>\n",
       "      <th>pressure_QC</th>\n",
       "    </tr>\n",
       "  </thead>\n",
       "  <tbody>\n",
       "    <tr>\n",
       "      <th>0</th>\n",
       "      <td>2016</td>\n",
       "      <td>1</td>\n",
       "      <td>1</td>\n",
       "      <td>1</td>\n",
       "      <td>0</td>\n",
       "      <td>0</td>\n",
       "      <td>0.000</td>\n",
       "      <td>105.13</td>\n",
       "      <td>-3.4</td>\n",
       "      <td>0</td>\n",
       "      <td>...</td>\n",
       "      <td>-2.2</td>\n",
       "      <td>0</td>\n",
       "      <td>76.5</td>\n",
       "      <td>0</td>\n",
       "      <td>6.8</td>\n",
       "      <td>0</td>\n",
       "      <td>270.0</td>\n",
       "      <td>0</td>\n",
       "      <td>1001.5</td>\n",
       "      <td>0</td>\n",
       "    </tr>\n",
       "    <tr>\n",
       "      <th>1</th>\n",
       "      <td>2016</td>\n",
       "      <td>1</td>\n",
       "      <td>1</td>\n",
       "      <td>1</td>\n",
       "      <td>0</td>\n",
       "      <td>1</td>\n",
       "      <td>0.017</td>\n",
       "      <td>105.32</td>\n",
       "      <td>-3.6</td>\n",
       "      <td>0</td>\n",
       "      <td>...</td>\n",
       "      <td>-2.2</td>\n",
       "      <td>0</td>\n",
       "      <td>76.1</td>\n",
       "      <td>0</td>\n",
       "      <td>6.4</td>\n",
       "      <td>0</td>\n",
       "      <td>268.2</td>\n",
       "      <td>0</td>\n",
       "      <td>1001.5</td>\n",
       "      <td>0</td>\n",
       "    </tr>\n",
       "    <tr>\n",
       "      <th>2</th>\n",
       "      <td>2016</td>\n",
       "      <td>1</td>\n",
       "      <td>1</td>\n",
       "      <td>1</td>\n",
       "      <td>0</td>\n",
       "      <td>2</td>\n",
       "      <td>0.033</td>\n",
       "      <td>105.50</td>\n",
       "      <td>-3.6</td>\n",
       "      <td>0</td>\n",
       "      <td>...</td>\n",
       "      <td>-2.2</td>\n",
       "      <td>0</td>\n",
       "      <td>77.3</td>\n",
       "      <td>0</td>\n",
       "      <td>6.0</td>\n",
       "      <td>0</td>\n",
       "      <td>272.1</td>\n",
       "      <td>0</td>\n",
       "      <td>1001.5</td>\n",
       "      <td>0</td>\n",
       "    </tr>\n",
       "    <tr>\n",
       "      <th>3</th>\n",
       "      <td>2016</td>\n",
       "      <td>1</td>\n",
       "      <td>1</td>\n",
       "      <td>1</td>\n",
       "      <td>0</td>\n",
       "      <td>3</td>\n",
       "      <td>0.050</td>\n",
       "      <td>105.68</td>\n",
       "      <td>-3.7</td>\n",
       "      <td>0</td>\n",
       "      <td>...</td>\n",
       "      <td>-2.2</td>\n",
       "      <td>0</td>\n",
       "      <td>76.7</td>\n",
       "      <td>0</td>\n",
       "      <td>6.6</td>\n",
       "      <td>0</td>\n",
       "      <td>273.9</td>\n",
       "      <td>0</td>\n",
       "      <td>1001.5</td>\n",
       "      <td>0</td>\n",
       "    </tr>\n",
       "    <tr>\n",
       "      <th>4</th>\n",
       "      <td>2016</td>\n",
       "      <td>1</td>\n",
       "      <td>1</td>\n",
       "      <td>1</td>\n",
       "      <td>0</td>\n",
       "      <td>4</td>\n",
       "      <td>0.067</td>\n",
       "      <td>105.86</td>\n",
       "      <td>-3.8</td>\n",
       "      <td>0</td>\n",
       "      <td>...</td>\n",
       "      <td>-2.2</td>\n",
       "      <td>0</td>\n",
       "      <td>77.0</td>\n",
       "      <td>0</td>\n",
       "      <td>6.0</td>\n",
       "      <td>0</td>\n",
       "      <td>278.4</td>\n",
       "      <td>0</td>\n",
       "      <td>1001.5</td>\n",
       "      <td>0</td>\n",
       "    </tr>\n",
       "  </tbody>\n",
       "</table>\n",
       "<p>5 rows × 48 columns</p>\n",
       "</div>"
      ],
      "text/plain": [
       "   year  jday  month  day  hour  min     dt     zen  dw_solar  dw_solar_QC  \\\n",
       "0  2016     1      1    1     0    0  0.000  105.13      -3.4            0   \n",
       "1  2016     1      1    1     0    1  0.017  105.32      -3.6            0   \n",
       "2  2016     1      1    1     0    2  0.033  105.50      -3.6            0   \n",
       "3  2016     1      1    1     0    3  0.050  105.68      -3.7            0   \n",
       "4  2016     1      1    1     0    4  0.067  105.86      -3.8            0   \n",
       "\n",
       "      ...       temp  temp_QC    rh  rh_QC  windspd  windspd_QC  winddir  \\\n",
       "0     ...       -2.2        0  76.5      0      6.8           0    270.0   \n",
       "1     ...       -2.2        0  76.1      0      6.4           0    268.2   \n",
       "2     ...       -2.2        0  77.3      0      6.0           0    272.1   \n",
       "3     ...       -2.2        0  76.7      0      6.6           0    273.9   \n",
       "4     ...       -2.2        0  77.0      0      6.0           0    278.4   \n",
       "\n",
       "   winddir_QC  pressure  pressure_QC  \n",
       "0           0    1001.5            0  \n",
       "1           0    1001.5            0  \n",
       "2           0    1001.5            0  \n",
       "3           0    1001.5            0  \n",
       "4           0    1001.5            0  \n",
       "\n",
       "[5 rows x 48 columns]"
      ]
     },
     "execution_count": 102,
     "metadata": {},
     "output_type": "execute_result"
    }
   ],
   "source": [
    "df_big_test.head()"
   ]
  },
  {
   "cell_type": "code",
   "execution_count": 107,
   "metadata": {},
   "outputs": [
    {
     "data": {
      "text/html": [
       "<div>\n",
       "<table border=\"1\" class=\"dataframe\">\n",
       "  <thead>\n",
       "    <tr style=\"text-align: right;\">\n",
       "      <th></th>\n",
       "      <th>index</th>\n",
       "      <th>ghi</th>\n",
       "      <th>year</th>\n",
       "      <th>month</th>\n",
       "      <th>day</th>\n",
       "      <th>hour</th>\n",
       "      <th>min</th>\n",
       "    </tr>\n",
       "  </thead>\n",
       "  <tbody>\n",
       "    <tr>\n",
       "      <th>0</th>\n",
       "      <td>2009-01-01 00:00:00-06:00</td>\n",
       "      <td>0.0</td>\n",
       "      <td>2009</td>\n",
       "      <td>1</td>\n",
       "      <td>1</td>\n",
       "      <td>0</td>\n",
       "      <td>0</td>\n",
       "    </tr>\n",
       "    <tr>\n",
       "      <th>1</th>\n",
       "      <td>2009-01-01 00:01:00-06:00</td>\n",
       "      <td>0.0</td>\n",
       "      <td>2009</td>\n",
       "      <td>1</td>\n",
       "      <td>1</td>\n",
       "      <td>0</td>\n",
       "      <td>1</td>\n",
       "    </tr>\n",
       "    <tr>\n",
       "      <th>2</th>\n",
       "      <td>2009-01-01 00:02:00-06:00</td>\n",
       "      <td>0.0</td>\n",
       "      <td>2009</td>\n",
       "      <td>1</td>\n",
       "      <td>1</td>\n",
       "      <td>0</td>\n",
       "      <td>2</td>\n",
       "    </tr>\n",
       "    <tr>\n",
       "      <th>3</th>\n",
       "      <td>2009-01-01 00:03:00-06:00</td>\n",
       "      <td>0.0</td>\n",
       "      <td>2009</td>\n",
       "      <td>1</td>\n",
       "      <td>1</td>\n",
       "      <td>0</td>\n",
       "      <td>3</td>\n",
       "    </tr>\n",
       "    <tr>\n",
       "      <th>4</th>\n",
       "      <td>2009-01-01 00:04:00-06:00</td>\n",
       "      <td>0.0</td>\n",
       "      <td>2009</td>\n",
       "      <td>1</td>\n",
       "      <td>1</td>\n",
       "      <td>0</td>\n",
       "      <td>4</td>\n",
       "    </tr>\n",
       "  </tbody>\n",
       "</table>\n",
       "</div>"
      ],
      "text/plain": [
       "                      index  ghi  year  month  day  hour  min\n",
       "0 2009-01-01 00:00:00-06:00  0.0  2009      1    1     0    0\n",
       "1 2009-01-01 00:01:00-06:00  0.0  2009      1    1     0    1\n",
       "2 2009-01-01 00:02:00-06:00  0.0  2009      1    1     0    2\n",
       "3 2009-01-01 00:03:00-06:00  0.0  2009      1    1     0    3\n",
       "4 2009-01-01 00:04:00-06:00  0.0  2009      1    1     0    4"
      ]
     },
     "execution_count": 107,
     "metadata": {},
     "output_type": "execute_result"
    }
   ],
   "source": [
    "cs_2009.head()"
   ]
  },
  {
   "cell_type": "code",
   "execution_count": 126,
   "metadata": {},
   "outputs": [
    {
     "data": {
      "text/plain": [
       "(524936, 50)"
      ]
     },
     "execution_count": 126,
     "metadata": {},
     "output_type": "execute_result"
    }
   ],
   "source": [
    "df_test = pd.merge(df_big_test, cs_2009, on=['year','month','day','hour','min'])\n",
    "df_test.shape"
   ]
  },
  {
   "cell_type": "code",
   "execution_count": 127,
   "metadata": {},
   "outputs": [],
   "source": [
    "df_train.drop(['index'],axis=1, inplace=True) #updating the same dataframe by dropping the index columns from clear sky model\n",
    "df_test.drop(['index'], axis=1, inplace=True)"
   ]
  },
  {
   "cell_type": "code",
   "execution_count": 128,
   "metadata": {},
   "outputs": [
    {
     "data": {
      "text/plain": [
       "(1050402, 49)"
      ]
     },
     "execution_count": 128,
     "metadata": {},
     "output_type": "execute_result"
    }
   ],
   "source": [
    "df_train.shape"
   ]
  },
  {
   "cell_type": "markdown",
   "metadata": {},
   "source": [
    "### Managing missing values"
   ]
  },
  {
   "cell_type": "code",
   "execution_count": 129,
   "metadata": {},
   "outputs": [],
   "source": [
    "# Resetting index\n",
    "df_train.reset_index(drop=True, inplace=True)\n",
    "df_test.reset_index(drop=True, inplace=True)"
   ]
  },
  {
   "cell_type": "code",
   "execution_count": 130,
   "metadata": {},
   "outputs": [],
   "source": [
    "# Dropping rows with two or more -9999.9 values in columns"
   ]
  },
  {
   "cell_type": "code",
   "execution_count": 131,
   "metadata": {},
   "outputs": [
    {
     "data": {
      "text/plain": [
       "(1046527, 49)"
      ]
     },
     "execution_count": 131,
     "metadata": {},
     "output_type": "execute_result"
    }
   ],
   "source": [
    "# Step1: Get indices of all rows with 2 or more -999\n",
    "missing_data_indices = np.where((df_train <=-9999.9).apply(sum, axis=1)>=2)[0]\n",
    "# Step2: Drop those indices\n",
    "df_train.drop(missing_data_indices, axis=0, inplace=True)\n",
    "# Checking that the rows are dropped\n",
    "df_train.shape"
   ]
  },
  {
   "cell_type": "code",
   "execution_count": 132,
   "metadata": {},
   "outputs": [
    {
     "data": {
      "text/plain": [
       "(516826, 49)"
      ]
     },
     "execution_count": 132,
     "metadata": {},
     "output_type": "execute_result"
    }
   ],
   "source": [
    "missing_data_indices_test = np.where((df_test <= -9999.9).apply(sum, axis=1)>=2)[0]\n",
    "df_test.drop(missing_data_indices_test, axis=0, inplace=True)\n",
    "df_test.shape"
   ]
  },
  {
   "cell_type": "code",
   "execution_count": 133,
   "metadata": {},
   "outputs": [],
   "source": [
    "# For the rows with only one cell as -9999.9, replacing this cell with the mean of the column"
   ]
  },
  {
   "cell_type": "markdown",
   "metadata": {},
   "source": [
    "#### First resetting index after dropping rows in the previous part of the code"
   ]
  },
  {
   "cell_type": "code",
   "execution_count": 134,
   "metadata": {},
   "outputs": [],
   "source": [
    "# 2nd time - Reseting Index\n",
    "df_train.reset_index(drop=True, inplace=True)\n",
    "df_test.reset_index(drop=True, inplace=True)"
   ]
  },
  {
   "cell_type": "code",
   "execution_count": 135,
   "metadata": {},
   "outputs": [],
   "source": [
    "one_miss_train_idx = np.where((df_train <=-9999.9).apply(sum, axis=1)==1)[0]"
   ]
  },
  {
   "cell_type": "code",
   "execution_count": 136,
   "metadata": {},
   "outputs": [
    {
     "data": {
      "text/plain": [
       "24739"
      ]
     },
     "execution_count": 136,
     "metadata": {},
     "output_type": "execute_result"
    }
   ],
   "source": [
    "len(one_miss_train_idx)"
   ]
  },
  {
   "cell_type": "code",
   "execution_count": 137,
   "metadata": {},
   "outputs": [
    {
     "data": {
      "text/plain": [
       "(1046527, 49)"
      ]
     },
     "execution_count": 137,
     "metadata": {},
     "output_type": "execute_result"
    }
   ],
   "source": [
    "df_train.shape"
   ]
  },
  {
   "cell_type": "code",
   "execution_count": 138,
   "metadata": {},
   "outputs": [
    {
     "name": "stderr",
     "output_type": "stream",
     "text": [
      "C:\\Program Files\\Anaconda3\\lib\\site-packages\\pandas\\core\\indexing.py:132: SettingWithCopyWarning: \n",
      "A value is trying to be set on a copy of a slice from a DataFrame\n",
      "\n",
      "See the caveats in the documentation: http://pandas.pydata.org/pandas-docs/stable/indexing.html#indexing-view-versus-copy\n",
      "  self._setitem_with_indexer(indexer, value)\n"
     ]
    }
   ],
   "source": [
    "col_names = df_train.columns\n",
    "from collections import defaultdict\n",
    "stats = defaultdict(int)\n",
    "total_single_missing_values = 0\n",
    "for name in col_names:\n",
    "    col_mean = df_train[~(df_train[name] == -9999.9)][name].mean()\n",
    "    missing_indices = np.where((df_train[name] == -9999.9))\n",
    "    stats[name] = len(missing_indices[0])\n",
    "    df_train[name].loc[missing_indices] = col_mean\n",
    "    total_single_missing_values += sum(df_train[name] == -9999.9)\n",
    "    "
   ]
  },
  {
   "cell_type": "code",
   "execution_count": 139,
   "metadata": {},
   "outputs": [],
   "source": [
    "df_col_min = df_train.apply(min, axis=0)\n",
    "df_col_max = df_train.apply(max, axis =0)\n",
    "#print(df_col_min, df_col_max)"
   ]
  },
  {
   "cell_type": "code",
   "execution_count": 140,
   "metadata": {},
   "outputs": [],
   "source": [
    "train = np.where((df_train <=-9999.9).apply(sum, axis=1)==1)[0]"
   ]
  },
  {
   "cell_type": "code",
   "execution_count": 141,
   "metadata": {},
   "outputs": [
    {
     "data": {
      "text/plain": [
       "0"
      ]
     },
     "execution_count": 141,
     "metadata": {},
     "output_type": "execute_result"
    }
   ],
   "source": [
    "len(train)"
   ]
  },
  {
   "cell_type": "code",
   "execution_count": 142,
   "metadata": {},
   "outputs": [],
   "source": [
    "# doing the same thing on test dataset"
   ]
  },
  {
   "cell_type": "code",
   "execution_count": 143,
   "metadata": {},
   "outputs": [
    {
     "data": {
      "text/plain": [
       "15271"
      ]
     },
     "execution_count": 143,
     "metadata": {},
     "output_type": "execute_result"
    }
   ],
   "source": [
    "one_miss_test_idx = np.where((df_test <=-9999.9).apply(sum, axis=1)==1)[0]\n",
    "len(one_miss_test_idx)"
   ]
  },
  {
   "cell_type": "code",
   "execution_count": 144,
   "metadata": {},
   "outputs": [
    {
     "name": "stderr",
     "output_type": "stream",
     "text": [
      "C:\\Program Files\\Anaconda3\\lib\\site-packages\\pandas\\core\\indexing.py:132: SettingWithCopyWarning: \n",
      "A value is trying to be set on a copy of a slice from a DataFrame\n",
      "\n",
      "See the caveats in the documentation: http://pandas.pydata.org/pandas-docs/stable/indexing.html#indexing-view-versus-copy\n",
      "  self._setitem_with_indexer(indexer, value)\n"
     ]
    }
   ],
   "source": [
    "col_names_test = df_test.columns\n",
    "from collections import defaultdict\n",
    "stats_test = defaultdict(int)\n",
    "total_single_missing_values_test = 0\n",
    "for name in col_names_test:\n",
    "    col_mean = df_test[~(df_test[name] == -9999.9)][name].mean()\n",
    "    missing_indices = np.where((df_test[name] == -9999.9))\n",
    "    stats_test[name] = len(missing_indices[0])\n",
    "    df_test[name].loc[missing_indices] = col_mean\n",
    "    total_single_missing_values_test += sum(df_test[name] == -9999.9)\n",
    "    "
   ]
  },
  {
   "cell_type": "code",
   "execution_count": 145,
   "metadata": {},
   "outputs": [],
   "source": [
    "test = np.where((df_test <=-9999.9).apply(sum, axis=1)==1)[0]"
   ]
  },
  {
   "cell_type": "code",
   "execution_count": 146,
   "metadata": {},
   "outputs": [
    {
     "data": {
      "text/plain": [
       "0"
      ]
     },
     "execution_count": 146,
     "metadata": {},
     "output_type": "execute_result"
    }
   ],
   "source": [
    "len(test)"
   ]
  },
  {
   "cell_type": "code",
   "execution_count": 147,
   "metadata": {},
   "outputs": [
    {
     "data": {
      "text/plain": [
       "(1046527, 49)"
      ]
     },
     "execution_count": 147,
     "metadata": {},
     "output_type": "execute_result"
    }
   ],
   "source": [
    "df_train.shape"
   ]
  },
  {
   "cell_type": "code",
   "execution_count": 148,
   "metadata": {},
   "outputs": [
    {
     "data": {
      "text/plain": [
       "(516826, 49)"
      ]
     },
     "execution_count": 148,
     "metadata": {},
     "output_type": "execute_result"
    }
   ],
   "source": [
    "df_test.shape"
   ]
  },
  {
   "cell_type": "markdown",
   "metadata": {},
   "source": [
    "### Exploratory Data Analysis"
   ]
  },
  {
   "cell_type": "code",
   "execution_count": 149,
   "metadata": {},
   "outputs": [],
   "source": [
    "dw_solar_everyday = df_test.groupby(['jday'])['dw_solar'].mean()\n",
    "ghi_everyday = df_test.groupby(['jday'])['ghi'].mean()\n",
    "j_day = df_test['jday'].unique()"
   ]
  },
  {
   "cell_type": "code",
   "execution_count": 150,
   "metadata": {},
   "outputs": [
    {
     "data": {
      "image/png": "[encoded data removed]",
      "text/plain": [
       "<matplotlib.figure.Figure at 0x23b08f4aa90>"
      ]
     },
     "metadata": {},
     "output_type": "display_data"
    }
   ],
   "source": [
    "fig = plt.figure()\n",
    "\n",
    "axes1 = fig.add_axes([0.1,0.1,0.8,0.8])\n",
    "#axes2 = fig.add_axes([0.1,0.1,0.8,0.8])\n",
    "\n",
    "axes1.scatter(j_day,dw_solar_everyday,label='Observed dw_solar',color='red')\n",
    "axes1.scatter(j_day, ghi_everyday, label='Clear Sky GHI',color='green')\n",
    "\n",
    "axes1.set_xlabel('Days')\n",
    "axes1.set_ylabel('Solar Irradiance (Watts /m^2)')\n",
    "axes1.set_title('Solar Irradiance - Test Year 2009')\n",
    "axes1.legend(loc='best')\n",
    "\n",
    "fig.savefig('Figure2.png', bbox_inches = 'tight')"
   ]
  },
  {
   "cell_type": "code",
   "execution_count": 151,
   "metadata": {},
   "outputs": [
    {
     "name": "stderr",
     "output_type": "stream",
     "text": [
      "C:\\Program Files\\Anaconda3\\lib\\site-packages\\statsmodels\\nonparametric\\kdetools.py:20: VisibleDeprecationWarning: using a non-integer number instead of an integer will result in an error in the future\n",
      "  y = X[:m/2+1] + np.r_[0,X[m/2+1:],0]*1j\n"
     ]
    },
    {
     "data": {
      "image/png": "[encoded data removed]",
      "text/plain": [
       "<matplotlib.figure.Figure at 0x23b08f4a080>"
      ]
     },
     "metadata": {},
     "output_type": "display_data"
    }
   ],
   "source": [
    "sns.jointplot(x=dw_solar_everyday,y=ghi_everyday,kind='reg')\n",
    "#plt.title('observed dw_solar vs clear sky ghi')\n",
    "plt.xlabel('Observed global downwelling solar (Watts/m^2)')\n",
    "plt.ylabel('Clear Sky GHI (Watts/m^2)')\n",
    "plt.savefig('Figure 3', bbox_inches='tight')"
   ]
  },
  {
   "cell_type": "markdown",
   "metadata": {},
   "source": [
    "### making the Kt (clear sky index at time t) column by first removing rows with ghi==0"
   ]
  },
  {
   "cell_type": "code",
   "execution_count": 152,
   "metadata": {},
   "outputs": [],
   "source": [
    "df_train = df_train[df_train['ghi']!=0]\n",
    "df_test = df_test[df_test['ghi']!=0]\n",
    "df_train['Kt'] = df_train['dw_solar']/df_train['ghi']\n",
    "df_test['Kt'] = df_test['dw_solar']/df_test['ghi']"
   ]
  },
  {
   "cell_type": "code",
   "execution_count": 153,
   "metadata": {},
   "outputs": [],
   "source": [
    "df_train.reset_index(inplace=True)\n",
    "df_test.reset_index(inplace=True)"
   ]
  },
  {
   "cell_type": "code",
   "execution_count": 154,
   "metadata": {},
   "outputs": [
    {
     "name": "stdout",
     "output_type": "stream",
     "text": [
      "test Kt max: 44687.079003\n",
      "test Kt min: -869.110494468\n",
      "test Kt mean: 2.789494437955276\n",
      "\n",
      "\n",
      "train Kt max: 13966.2364604\n",
      "train Kt min: -1176.76984694\n",
      "train Kt mean: 2.4471862343120523\n"
     ]
    }
   ],
   "source": [
    "print(\"test Kt max: \"+str(df_test['Kt'].max()))\n",
    "print(\"test Kt min: \"+str(df_test['Kt'].min()))\n",
    "print(\"test Kt mean: \"+str(df_test['Kt'].mean()))\n",
    "print(\"\\n\")\n",
    "print(\"train Kt max: \"+str(df_train['Kt'].max()))\n",
    "print(\"train Kt min: \"+str(df_train['Kt'].min()))\n",
    "print(\"train Kt mean: \"+str(df_train['Kt'].mean()))"
   ]
  },
  {
   "cell_type": "code",
   "execution_count": 155,
   "metadata": {},
   "outputs": [
    {
     "data": {
      "text/plain": [
       "[<matplotlib.lines.Line2D at 0x23b04598278>]"
      ]
     },
     "execution_count": 155,
     "metadata": {},
     "output_type": "execute_result"
    },
    {
     "data": {
      "image/png": "[encoded data removed]",
      "text/plain": [
       "<matplotlib.figure.Figure at 0x23b047920f0>"
      ]
     },
     "metadata": {},
     "output_type": "display_data"
    }
   ],
   "source": [
    "plt.plot(df_train['Kt'])"
   ]
  },
  {
   "cell_type": "code",
   "execution_count": 156,
   "metadata": {},
   "outputs": [
    {
     "data": {
      "text/plain": [
       "[<matplotlib.lines.Line2D at 0x23b051ab630>]"
      ]
     },
     "execution_count": 156,
     "metadata": {},
     "output_type": "execute_result"
    },
    {
     "data": {
      "image/png": "[encoded data removed]",
      "text/plain": [
       "<matplotlib.figure.Figure at 0x23b0467d630>"
      ]
     },
     "metadata": {},
     "output_type": "display_data"
    }
   ],
   "source": [
    "plt.plot(df_test['Kt'])"
   ]
  },
  {
   "cell_type": "code",
   "execution_count": 157,
   "metadata": {},
   "outputs": [],
   "source": [
    "df_train= df_train[df_train['Kt']< 5000]\n",
    "df_train= df_train[df_train['Kt']> -1000]\n",
    "df_test= df_test[df_test['Kt']< 5000]\n",
    "df_test= df_test[df_test['Kt']> -1000]"
   ]
  },
  {
   "cell_type": "markdown",
   "metadata": {},
   "source": [
    "#### Group the data (train dataframe)"
   ]
  },
  {
   "cell_type": "code",
   "execution_count": 158,
   "metadata": {},
   "outputs": [],
   "source": [
    "zen = df_train.groupby(['year','month','day','hour'])['zen'].mean()\n",
    "dw_solar = df_train.groupby(['year','month','day','hour'])['dw_solar'].mean()\n",
    "uw_solar = df_train.groupby(['year','month','day','hour'])['uw_solar'].mean()\n",
    "direct_n = df_train.groupby(['year','month','day','hour'])['direct_n'].mean()\n",
    "diffuse = df_train.groupby(['year','month','day','hour'])['diffuse'].mean()\n",
    "dw_ir = df_train.groupby(['year','month','day','hour'])['dw_ir'].mean()\n",
    "dw_casetemp = df_train.groupby(['year','month','day','hour'])['dw_casetemp'].mean()\n",
    "dw_dometemp = df_train.groupby(['year','month','day','hour'])['dw_dometemp'].mean()\n",
    "uw_ir = df_train.groupby(['year','month','day','hour'])['uw_ir'].mean()\n",
    "uw_casetemp = df_train.groupby(['year','month','day','hour'])['uw_casetemp'].mean()\n",
    "uw_dometemp = df_train.groupby(['year','month','day','hour'])['uw_dometemp'].mean()\n",
    "uvb = df_train.groupby(['year','month','day','hour'])['uvb'].mean()\n",
    "par = df_train.groupby(['year','month','day','hour'])['par'].mean()\n",
    "netsolar = df_train.groupby(['year','month','day','hour'])['netsolar'].mean()\n",
    "netir = df_train.groupby(['year','month','day','hour'])['netir'].mean()\n",
    "totalnet = df_train.groupby(['year','month','day','hour'])['totalnet'].mean()\n",
    "temp = df_train.groupby(['year','month','day','hour'])['temp'].mean()\n",
    "rh = df_train.groupby(['year','month','day','hour'])['rh'].mean()\n",
    "windspd = df_train.groupby(['year','month','day','hour'])['windspd'].mean()\n",
    "winddir = df_train.groupby(['year','month','day','hour'])['winddir'].mean()\n",
    "pressure = df_train.groupby(['year','month','day','hour'])['pressure'].mean()\n",
    "ghi = df_train.groupby(['year','month','day','hour'])['ghi'].mean()\n",
    "Kt = df_train.groupby(['year','month','day','hour'])['Kt'].mean()"
   ]
  },
  {
   "cell_type": "code",
   "execution_count": 159,
   "metadata": {},
   "outputs": [],
   "source": [
    "df_new_train = pd.concat([zen,dw_solar,uw_solar,direct_n,diffuse,dw_ir,dw_casetemp,dw_dometemp,uw_ir,uw_casetemp,uw_dometemp,\n",
    "                    uvb,par,netsolar,netir,totalnet,temp,rh,windspd,winddir,pressure,ghi,Kt], axis=1)"
   ]
  },
  {
   "cell_type": "code",
   "execution_count": 160,
   "metadata": {},
   "outputs": [
    {
     "data": {
      "text/html": [
       "<div>\n",
       "<table border=\"1\" class=\"dataframe\">\n",
       "  <thead>\n",
       "    <tr style=\"text-align: right;\">\n",
       "      <th></th>\n",
       "      <th></th>\n",
       "      <th></th>\n",
       "      <th></th>\n",
       "      <th>zen</th>\n",
       "      <th>dw_solar</th>\n",
       "      <th>uw_solar</th>\n",
       "      <th>direct_n</th>\n",
       "      <th>diffuse</th>\n",
       "      <th>dw_ir</th>\n",
       "      <th>dw_casetemp</th>\n",
       "      <th>dw_dometemp</th>\n",
       "      <th>uw_ir</th>\n",
       "      <th>uw_casetemp</th>\n",
       "      <th>...</th>\n",
       "      <th>netsolar</th>\n",
       "      <th>netir</th>\n",
       "      <th>totalnet</th>\n",
       "      <th>temp</th>\n",
       "      <th>rh</th>\n",
       "      <th>windspd</th>\n",
       "      <th>winddir</th>\n",
       "      <th>pressure</th>\n",
       "      <th>ghi</th>\n",
       "      <th>Kt</th>\n",
       "    </tr>\n",
       "    <tr>\n",
       "      <th>year</th>\n",
       "      <th>month</th>\n",
       "      <th>day</th>\n",
       "      <th>hour</th>\n",
       "      <th></th>\n",
       "      <th></th>\n",
       "      <th></th>\n",
       "      <th></th>\n",
       "      <th></th>\n",
       "      <th></th>\n",
       "      <th></th>\n",
       "      <th></th>\n",
       "      <th></th>\n",
       "      <th></th>\n",
       "      <th></th>\n",
       "      <th></th>\n",
       "      <th></th>\n",
       "      <th></th>\n",
       "      <th></th>\n",
       "      <th></th>\n",
       "      <th></th>\n",
       "      <th></th>\n",
       "      <th></th>\n",
       "      <th></th>\n",
       "      <th></th>\n",
       "    </tr>\n",
       "  </thead>\n",
       "  <tbody>\n",
       "    <tr>\n",
       "      <th rowspan=\"5\" valign=\"top\">2010.0</th>\n",
       "      <th rowspan=\"5\" valign=\"top\">1.0</th>\n",
       "      <th rowspan=\"5\" valign=\"top\">1.0</th>\n",
       "      <th>7.0</th>\n",
       "      <td>152.659762</td>\n",
       "      <td>-4.019048</td>\n",
       "      <td>0.026190</td>\n",
       "      <td>1.554762</td>\n",
       "      <td>-0.202381</td>\n",
       "      <td>182.345238</td>\n",
       "      <td>261.159524</td>\n",
       "      <td>260.650000</td>\n",
       "      <td>253.014286</td>\n",
       "      <td>259.557143</td>\n",
       "      <td>...</td>\n",
       "      <td>0.0</td>\n",
       "      <td>-70.657143</td>\n",
       "      <td>-70.657143</td>\n",
       "      <td>-13.607143</td>\n",
       "      <td>83.883333</td>\n",
       "      <td>5.145238</td>\n",
       "      <td>293.504762</td>\n",
       "      <td>999.397619</td>\n",
       "      <td>61.060726</td>\n",
       "      <td>-0.069829</td>\n",
       "    </tr>\n",
       "    <tr>\n",
       "      <th>8.0</th>\n",
       "      <td>143.730167</td>\n",
       "      <td>-3.900000</td>\n",
       "      <td>0.030000</td>\n",
       "      <td>1.731667</td>\n",
       "      <td>-0.200000</td>\n",
       "      <td>181.795000</td>\n",
       "      <td>260.780000</td>\n",
       "      <td>260.283333</td>\n",
       "      <td>251.493333</td>\n",
       "      <td>259.196667</td>\n",
       "      <td>...</td>\n",
       "      <td>0.0</td>\n",
       "      <td>-69.693333</td>\n",
       "      <td>-69.693333</td>\n",
       "      <td>-13.956667</td>\n",
       "      <td>84.893333</td>\n",
       "      <td>4.805000</td>\n",
       "      <td>296.086667</td>\n",
       "      <td>999.803333</td>\n",
       "      <td>166.338212</td>\n",
       "      <td>-0.025197</td>\n",
       "    </tr>\n",
       "    <tr>\n",
       "      <th>9.0</th>\n",
       "      <td>132.476167</td>\n",
       "      <td>-3.825000</td>\n",
       "      <td>0.011667</td>\n",
       "      <td>1.841667</td>\n",
       "      <td>-0.200000</td>\n",
       "      <td>181.033333</td>\n",
       "      <td>260.256667</td>\n",
       "      <td>259.761667</td>\n",
       "      <td>249.923333</td>\n",
       "      <td>258.665000</td>\n",
       "      <td>...</td>\n",
       "      <td>0.0</td>\n",
       "      <td>-68.890000</td>\n",
       "      <td>-68.890000</td>\n",
       "      <td>-14.476667</td>\n",
       "      <td>85.781667</td>\n",
       "      <td>4.898333</td>\n",
       "      <td>295.981667</td>\n",
       "      <td>999.783333</td>\n",
       "      <td>306.455432</td>\n",
       "      <td>-0.012680</td>\n",
       "    </tr>\n",
       "    <tr>\n",
       "      <th>10.0</th>\n",
       "      <td>121.024000</td>\n",
       "      <td>-3.793333</td>\n",
       "      <td>-0.003333</td>\n",
       "      <td>1.783333</td>\n",
       "      <td>-0.210000</td>\n",
       "      <td>183.566667</td>\n",
       "      <td>259.941667</td>\n",
       "      <td>259.446667</td>\n",
       "      <td>249.775000</td>\n",
       "      <td>258.315000</td>\n",
       "      <td>...</td>\n",
       "      <td>0.0</td>\n",
       "      <td>-66.203333</td>\n",
       "      <td>-66.203333</td>\n",
       "      <td>-14.826667</td>\n",
       "      <td>85.966667</td>\n",
       "      <td>5.083333</td>\n",
       "      <td>298.381667</td>\n",
       "      <td>999.968333</td>\n",
       "      <td>411.028556</td>\n",
       "      <td>-0.009267</td>\n",
       "    </tr>\n",
       "    <tr>\n",
       "      <th>11.0</th>\n",
       "      <td>109.724667</td>\n",
       "      <td>-3.703333</td>\n",
       "      <td>0.006667</td>\n",
       "      <td>1.758333</td>\n",
       "      <td>-0.210000</td>\n",
       "      <td>191.770000</td>\n",
       "      <td>259.800000</td>\n",
       "      <td>259.353333</td>\n",
       "      <td>250.373333</td>\n",
       "      <td>258.070000</td>\n",
       "      <td>...</td>\n",
       "      <td>0.0</td>\n",
       "      <td>-58.600000</td>\n",
       "      <td>-58.600000</td>\n",
       "      <td>-15.123333</td>\n",
       "      <td>86.431667</td>\n",
       "      <td>4.973333</td>\n",
       "      <td>299.090000</td>\n",
       "      <td>1000.193333</td>\n",
       "      <td>465.002071</td>\n",
       "      <td>-0.007967</td>\n",
       "    </tr>\n",
       "  </tbody>\n",
       "</table>\n",
       "<p>5 rows × 23 columns</p>\n",
       "</div>"
      ],
      "text/plain": [
       "                              zen  dw_solar  uw_solar  direct_n   diffuse  \\\n",
       "year   month day hour                                                       \n",
       "2010.0 1.0   1.0 7.0   152.659762 -4.019048  0.026190  1.554762 -0.202381   \n",
       "                 8.0   143.730167 -3.900000  0.030000  1.731667 -0.200000   \n",
       "                 9.0   132.476167 -3.825000  0.011667  1.841667 -0.200000   \n",
       "                 10.0  121.024000 -3.793333 -0.003333  1.783333 -0.210000   \n",
       "                 11.0  109.724667 -3.703333  0.006667  1.758333 -0.210000   \n",
       "\n",
       "                            dw_ir  dw_casetemp  dw_dometemp       uw_ir  \\\n",
       "year   month day hour                                                     \n",
       "2010.0 1.0   1.0 7.0   182.345238   261.159524   260.650000  253.014286   \n",
       "                 8.0   181.795000   260.780000   260.283333  251.493333   \n",
       "                 9.0   181.033333   260.256667   259.761667  249.923333   \n",
       "                 10.0  183.566667   259.941667   259.446667  249.775000   \n",
       "                 11.0  191.770000   259.800000   259.353333  250.373333   \n",
       "\n",
       "                       uw_casetemp    ...     netsolar      netir   totalnet  \\\n",
       "year   month day hour                 ...                                      \n",
       "2010.0 1.0   1.0 7.0    259.557143    ...          0.0 -70.657143 -70.657143   \n",
       "                 8.0    259.196667    ...          0.0 -69.693333 -69.693333   \n",
       "                 9.0    258.665000    ...          0.0 -68.890000 -68.890000   \n",
       "                 10.0   258.315000    ...          0.0 -66.203333 -66.203333   \n",
       "                 11.0   258.070000    ...          0.0 -58.600000 -58.600000   \n",
       "\n",
       "                            temp         rh   windspd     winddir  \\\n",
       "year   month day hour                                               \n",
       "2010.0 1.0   1.0 7.0  -13.607143  83.883333  5.145238  293.504762   \n",
       "                 8.0  -13.956667  84.893333  4.805000  296.086667   \n",
       "                 9.0  -14.476667  85.781667  4.898333  295.981667   \n",
       "                 10.0 -14.826667  85.966667  5.083333  298.381667   \n",
       "                 11.0 -15.123333  86.431667  4.973333  299.090000   \n",
       "\n",
       "                          pressure         ghi        Kt  \n",
       "year   month day hour                                     \n",
       "2010.0 1.0   1.0 7.0    999.397619   61.060726 -0.069829  \n",
       "                 8.0    999.803333  166.338212 -0.025197  \n",
       "                 9.0    999.783333  306.455432 -0.012680  \n",
       "                 10.0   999.968333  411.028556 -0.009267  \n",
       "                 11.0  1000.193333  465.002071 -0.007967  \n",
       "\n",
       "[5 rows x 23 columns]"
      ]
     },
     "execution_count": 160,
     "metadata": {},
     "output_type": "execute_result"
    }
   ],
   "source": [
    "df_new_train.head()"
   ]
  },
  {
   "cell_type": "markdown",
   "metadata": {},
   "source": [
    "#### Groupdata - test dataframe"
   ]
  },
  {
   "cell_type": "code",
   "execution_count": 161,
   "metadata": {},
   "outputs": [],
   "source": [
    "test_zen = df_test.groupby(['month','day','hour'])['zen'].mean()\n",
    "test_dw_solar = df_test.groupby(['month','day','hour'])['dw_solar'].mean()\n",
    "test_uw_solar = df_test.groupby(['month','day','hour'])['uw_solar'].mean()\n",
    "test_direct_n = df_test.groupby(['month','day','hour'])['direct_n'].mean()\n",
    "test_diffuse = df_test.groupby(['month','day','hour'])['diffuse'].mean()\n",
    "test_dw_ir = df_test.groupby(['month','day','hour'])['dw_ir'].mean()\n",
    "test_dw_casetemp = df_test.groupby(['month','day','hour'])['dw_casetemp'].mean()\n",
    "test_dw_dometemp = df_test.groupby(['month','day','hour'])['dw_dometemp'].mean()\n",
    "test_uw_ir = df_test.groupby(['month','day','hour'])['uw_ir'].mean()\n",
    "test_uw_casetemp = df_test.groupby(['month','day','hour'])['uw_casetemp'].mean()\n",
    "test_uw_dometemp = df_test.groupby(['month','day','hour'])['uw_dometemp'].mean()\n",
    "test_uvb = df_test.groupby(['month','day','hour'])['uvb'].mean()\n",
    "test_par = df_test.groupby(['month','day','hour'])['par'].mean()\n",
    "test_netsolar = df_test.groupby(['month','day','hour'])['netsolar'].mean()\n",
    "test_netir = df_test.groupby(['month','day','hour'])['netir'].mean()\n",
    "test_totalnet = df_test.groupby(['month','day','hour'])['totalnet'].mean()\n",
    "test_temp = df_test.groupby(['month','day','hour'])['temp'].mean()\n",
    "test_rh = df_test.groupby(['month','day','hour'])['rh'].mean()\n",
    "test_windspd = df_test.groupby(['month','day','hour'])['windspd'].mean()\n",
    "test_winddir = df_test.groupby(['month','day','hour'])['winddir'].mean()\n",
    "test_pressure = df_test.groupby(['month','day','hour'])['pressure'].mean()\n",
    "test_ghi = df_test.groupby(['month','day','hour'])['ghi'].mean()\n",
    "test_Kt = df_test.groupby(['month','day','hour'])['Kt'].mean()"
   ]
  },
  {
   "cell_type": "code",
   "execution_count": 162,
   "metadata": {},
   "outputs": [],
   "source": [
    "df_new_test = pd.concat([test_zen,test_dw_solar,test_uw_solar,test_direct_n,test_diffuse,test_dw_ir,\n",
    "                         test_dw_casetemp,test_dw_dometemp,test_uw_ir,test_uw_casetemp,test_uw_dometemp,\n",
    "                    test_uvb,test_par,test_netsolar,test_netir,test_totalnet,test_temp,test_rh,\n",
    "                         test_windspd,test_winddir,test_pressure,test_ghi,test_Kt], axis=1)"
   ]
  },
  {
   "cell_type": "code",
   "execution_count": 163,
   "metadata": {},
   "outputs": [
    {
     "data": {
      "text/html": [
       "<div>\n",
       "<table border=\"1\" class=\"dataframe\">\n",
       "  <thead>\n",
       "    <tr style=\"text-align: right;\">\n",
       "      <th></th>\n",
       "      <th>zen</th>\n",
       "      <th>dw_solar</th>\n",
       "      <th>uw_solar</th>\n",
       "      <th>direct_n</th>\n",
       "      <th>diffuse</th>\n",
       "      <th>dw_ir</th>\n",
       "      <th>dw_casetemp</th>\n",
       "      <th>dw_dometemp</th>\n",
       "      <th>uw_ir</th>\n",
       "      <th>uw_casetemp</th>\n",
       "      <th>...</th>\n",
       "      <th>netsolar</th>\n",
       "      <th>netir</th>\n",
       "      <th>totalnet</th>\n",
       "      <th>temp</th>\n",
       "      <th>rh</th>\n",
       "      <th>windspd</th>\n",
       "      <th>winddir</th>\n",
       "      <th>pressure</th>\n",
       "      <th>ghi</th>\n",
       "      <th>Kt</th>\n",
       "    </tr>\n",
       "    <tr>\n",
       "      <th>hour</th>\n",
       "      <th></th>\n",
       "      <th></th>\n",
       "      <th></th>\n",
       "      <th></th>\n",
       "      <th></th>\n",
       "      <th></th>\n",
       "      <th></th>\n",
       "      <th></th>\n",
       "      <th></th>\n",
       "      <th></th>\n",
       "      <th></th>\n",
       "      <th></th>\n",
       "      <th></th>\n",
       "      <th></th>\n",
       "      <th></th>\n",
       "      <th></th>\n",
       "      <th></th>\n",
       "      <th></th>\n",
       "      <th></th>\n",
       "      <th></th>\n",
       "      <th></th>\n",
       "    </tr>\n",
       "  </thead>\n",
       "  <tbody>\n",
       "    <tr>\n",
       "      <th>6.0</th>\n",
       "      <td>150.182143</td>\n",
       "      <td>-4.521429</td>\n",
       "      <td>-0.471429</td>\n",
       "      <td>1.007143</td>\n",
       "      <td>0.421429</td>\n",
       "      <td>216.700000</td>\n",
       "      <td>272.085714</td>\n",
       "      <td>271.642857</td>\n",
       "      <td>286.392857</td>\n",
       "      <td>270.300000</td>\n",
       "      <td>...</td>\n",
       "      <td>0.000000</td>\n",
       "      <td>-69.692857</td>\n",
       "      <td>-69.692857</td>\n",
       "      <td>-2.271429</td>\n",
       "      <td>89.750000</td>\n",
       "      <td>2.871429</td>\n",
       "      <td>174.300000</td>\n",
       "      <td>998.471429</td>\n",
       "      <td>37.874247</td>\n",
       "      <td>-0.120932</td>\n",
       "    </tr>\n",
       "    <tr>\n",
       "      <th>7.0</th>\n",
       "      <td>146.446833</td>\n",
       "      <td>-4.301667</td>\n",
       "      <td>-0.345000</td>\n",
       "      <td>0.326667</td>\n",
       "      <td>0.518333</td>\n",
       "      <td>216.170000</td>\n",
       "      <td>271.606667</td>\n",
       "      <td>271.146667</td>\n",
       "      <td>284.053333</td>\n",
       "      <td>269.938333</td>\n",
       "      <td>...</td>\n",
       "      <td>0.000000</td>\n",
       "      <td>-67.881667</td>\n",
       "      <td>-67.881667</td>\n",
       "      <td>-2.773333</td>\n",
       "      <td>92.965000</td>\n",
       "      <td>3.066667</td>\n",
       "      <td>146.796667</td>\n",
       "      <td>997.966667</td>\n",
       "      <td>108.318844</td>\n",
       "      <td>-0.050473</td>\n",
       "    </tr>\n",
       "    <tr>\n",
       "      <th>8.0</th>\n",
       "      <td>137.938333</td>\n",
       "      <td>-4.831667</td>\n",
       "      <td>-0.351667</td>\n",
       "      <td>1.045000</td>\n",
       "      <td>0.490000</td>\n",
       "      <td>216.516667</td>\n",
       "      <td>271.153333</td>\n",
       "      <td>270.733333</td>\n",
       "      <td>288.993333</td>\n",
       "      <td>269.398333</td>\n",
       "      <td>...</td>\n",
       "      <td>0.000000</td>\n",
       "      <td>-72.466667</td>\n",
       "      <td>-72.466667</td>\n",
       "      <td>-3.256667</td>\n",
       "      <td>94.690000</td>\n",
       "      <td>3.873333</td>\n",
       "      <td>152.585000</td>\n",
       "      <td>996.900000</td>\n",
       "      <td>284.228645</td>\n",
       "      <td>-0.017408</td>\n",
       "    </tr>\n",
       "    <tr>\n",
       "      <th>9.0</th>\n",
       "      <td>127.563000</td>\n",
       "      <td>-5.281667</td>\n",
       "      <td>-0.308333</td>\n",
       "      <td>0.951667</td>\n",
       "      <td>0.436667</td>\n",
       "      <td>223.628333</td>\n",
       "      <td>271.841667</td>\n",
       "      <td>271.390000</td>\n",
       "      <td>294.260000</td>\n",
       "      <td>269.860000</td>\n",
       "      <td>...</td>\n",
       "      <td>0.000000</td>\n",
       "      <td>-70.631667</td>\n",
       "      <td>-70.631667</td>\n",
       "      <td>-2.865000</td>\n",
       "      <td>91.560000</td>\n",
       "      <td>4.900000</td>\n",
       "      <td>164.426667</td>\n",
       "      <td>995.828333</td>\n",
       "      <td>448.178675</td>\n",
       "      <td>-0.011885</td>\n",
       "    </tr>\n",
       "    <tr>\n",
       "      <th>10.0</th>\n",
       "      <td>116.367333</td>\n",
       "      <td>-5.035000</td>\n",
       "      <td>-0.243333</td>\n",
       "      <td>0.833333</td>\n",
       "      <td>0.373333</td>\n",
       "      <td>236.190000</td>\n",
       "      <td>272.423333</td>\n",
       "      <td>271.983333</td>\n",
       "      <td>296.791667</td>\n",
       "      <td>270.326667</td>\n",
       "      <td>...</td>\n",
       "      <td>0.000000</td>\n",
       "      <td>-60.611667</td>\n",
       "      <td>-60.611667</td>\n",
       "      <td>-2.485000</td>\n",
       "      <td>89.688333</td>\n",
       "      <td>4.981667</td>\n",
       "      <td>173.578333</td>\n",
       "      <td>995.345000</td>\n",
       "      <td>570.306262</td>\n",
       "      <td>-0.008854</td>\n",
       "    </tr>\n",
       "    <tr>\n",
       "      <th>11.0</th>\n",
       "      <td>104.909333</td>\n",
       "      <td>-5.066667</td>\n",
       "      <td>-0.135000</td>\n",
       "      <td>0.480000</td>\n",
       "      <td>0.401667</td>\n",
       "      <td>233.243333</td>\n",
       "      <td>272.581667</td>\n",
       "      <td>272.093333</td>\n",
       "      <td>297.226667</td>\n",
       "      <td>270.480000</td>\n",
       "      <td>...</td>\n",
       "      <td>0.000000</td>\n",
       "      <td>-63.985000</td>\n",
       "      <td>-63.985000</td>\n",
       "      <td>-2.386667</td>\n",
       "      <td>92.431667</td>\n",
       "      <td>5.595000</td>\n",
       "      <td>167.585000</td>\n",
       "      <td>994.613333</td>\n",
       "      <td>638.422279</td>\n",
       "      <td>-0.007937</td>\n",
       "    </tr>\n",
       "    <tr>\n",
       "      <th>12.0</th>\n",
       "      <td>93.430833</td>\n",
       "      <td>-2.668333</td>\n",
       "      <td>0.580000</td>\n",
       "      <td>1.250000</td>\n",
       "      <td>3.091667</td>\n",
       "      <td>238.826667</td>\n",
       "      <td>272.686667</td>\n",
       "      <td>272.196667</td>\n",
       "      <td>298.433333</td>\n",
       "      <td>270.543333</td>\n",
       "      <td>...</td>\n",
       "      <td>2.351667</td>\n",
       "      <td>-59.603333</td>\n",
       "      <td>-57.251667</td>\n",
       "      <td>-2.320000</td>\n",
       "      <td>92.493333</td>\n",
       "      <td>6.421667</td>\n",
       "      <td>167.895000</td>\n",
       "      <td>993.798333</td>\n",
       "      <td>646.734117</td>\n",
       "      <td>-0.004067</td>\n",
       "    </tr>\n",
       "    <tr>\n",
       "      <th>13.0</th>\n",
       "      <td>82.473333</td>\n",
       "      <td>50.488333</td>\n",
       "      <td>14.828333</td>\n",
       "      <td>7.531667</td>\n",
       "      <td>57.045000</td>\n",
       "      <td>245.631667</td>\n",
       "      <td>273.396667</td>\n",
       "      <td>272.983333</td>\n",
       "      <td>302.830000</td>\n",
       "      <td>271.061667</td>\n",
       "      <td>...</td>\n",
       "      <td>43.403333</td>\n",
       "      <td>-57.188333</td>\n",
       "      <td>-13.786667</td>\n",
       "      <td>-1.801667</td>\n",
       "      <td>91.796667</td>\n",
       "      <td>6.791667</td>\n",
       "      <td>167.960000</td>\n",
       "      <td>993.278333</td>\n",
       "      <td>594.568596</td>\n",
       "      <td>0.086837</td>\n",
       "    </tr>\n",
       "    <tr>\n",
       "      <th>14.0</th>\n",
       "      <td>72.405000</td>\n",
       "      <td>136.151667</td>\n",
       "      <td>36.918333</td>\n",
       "      <td>13.550000</td>\n",
       "      <td>140.373333</td>\n",
       "      <td>286.001667</td>\n",
       "      <td>275.108333</td>\n",
       "      <td>274.810000</td>\n",
       "      <td>312.523333</td>\n",
       "      <td>272.315000</td>\n",
       "      <td>...</td>\n",
       "      <td>107.461667</td>\n",
       "      <td>-26.526667</td>\n",
       "      <td>80.938333</td>\n",
       "      <td>-0.561667</td>\n",
       "      <td>101.838333</td>\n",
       "      <td>7.736667</td>\n",
       "      <td>175.430000</td>\n",
       "      <td>992.623333</td>\n",
       "      <td>486.293072</td>\n",
       "      <td>0.287014</td>\n",
       "    </tr>\n",
       "    <tr>\n",
       "      <th>15.0</th>\n",
       "      <td>63.572667</td>\n",
       "      <td>249.433333</td>\n",
       "      <td>63.790000</td>\n",
       "      <td>22.685000</td>\n",
       "      <td>249.351667</td>\n",
       "      <td>287.831667</td>\n",
       "      <td>277.000000</td>\n",
       "      <td>276.723333</td>\n",
       "      <td>322.285000</td>\n",
       "      <td>273.716667</td>\n",
       "      <td>...</td>\n",
       "      <td>195.410000</td>\n",
       "      <td>-34.446667</td>\n",
       "      <td>160.953333</td>\n",
       "      <td>0.821667</td>\n",
       "      <td>109.766667</td>\n",
       "      <td>8.668333</td>\n",
       "      <td>182.706667</td>\n",
       "      <td>991.760000</td>\n",
       "      <td>332.051692</td>\n",
       "      <td>0.774799</td>\n",
       "    </tr>\n",
       "    <tr>\n",
       "      <th>16.0</th>\n",
       "      <td>56.723667</td>\n",
       "      <td>288.480000</td>\n",
       "      <td>73.990000</td>\n",
       "      <td>45.445000</td>\n",
       "      <td>272.428333</td>\n",
       "      <td>299.576667</td>\n",
       "      <td>278.595000</td>\n",
       "      <td>278.275000</td>\n",
       "      <td>331.316667</td>\n",
       "      <td>274.995000</td>\n",
       "      <td>...</td>\n",
       "      <td>222.996667</td>\n",
       "      <td>-31.736667</td>\n",
       "      <td>191.260000</td>\n",
       "      <td>1.906667</td>\n",
       "      <td>107.371667</td>\n",
       "      <td>9.136667</td>\n",
       "      <td>179.690000</td>\n",
       "      <td>990.573333</td>\n",
       "      <td>153.597510</td>\n",
       "      <td>2.067046</td>\n",
       "    </tr>\n",
       "    <tr>\n",
       "      <th>17.0</th>\n",
       "      <td>53.264194</td>\n",
       "      <td>314.187097</td>\n",
       "      <td>79.038710</td>\n",
       "      <td>4.867742</td>\n",
       "      <td>319.570968</td>\n",
       "      <td>309.864516</td>\n",
       "      <td>279.222581</td>\n",
       "      <td>278.980645</td>\n",
       "      <td>336.116129</td>\n",
       "      <td>275.416129</td>\n",
       "      <td>...</td>\n",
       "      <td>243.445161</td>\n",
       "      <td>-26.254839</td>\n",
       "      <td>217.200000</td>\n",
       "      <td>2.474194</td>\n",
       "      <td>111.645161</td>\n",
       "      <td>9.616129</td>\n",
       "      <td>176.358065</td>\n",
       "      <td>989.632258</td>\n",
       "      <td>45.373147</td>\n",
       "      <td>7.893298</td>\n",
       "    </tr>\n",
       "  </tbody>\n",
       "</table>\n",
       "<p>12 rows × 23 columns</p>\n",
       "</div>"
      ],
      "text/plain": [
       "             zen    dw_solar   uw_solar   direct_n     diffuse       dw_ir  \\\n",
       "hour                                                                         \n",
       "6.0   150.182143   -4.521429  -0.471429   1.007143    0.421429  216.700000   \n",
       "7.0   146.446833   -4.301667  -0.345000   0.326667    0.518333  216.170000   \n",
       "8.0   137.938333   -4.831667  -0.351667   1.045000    0.490000  216.516667   \n",
       "9.0   127.563000   -5.281667  -0.308333   0.951667    0.436667  223.628333   \n",
       "10.0  116.367333   -5.035000  -0.243333   0.833333    0.373333  236.190000   \n",
       "11.0  104.909333   -5.066667  -0.135000   0.480000    0.401667  233.243333   \n",
       "12.0   93.430833   -2.668333   0.580000   1.250000    3.091667  238.826667   \n",
       "13.0   82.473333   50.488333  14.828333   7.531667   57.045000  245.631667   \n",
       "14.0   72.405000  136.151667  36.918333  13.550000  140.373333  286.001667   \n",
       "15.0   63.572667  249.433333  63.790000  22.685000  249.351667  287.831667   \n",
       "16.0   56.723667  288.480000  73.990000  45.445000  272.428333  299.576667   \n",
       "17.0   53.264194  314.187097  79.038710   4.867742  319.570968  309.864516   \n",
       "\n",
       "      dw_casetemp  dw_dometemp       uw_ir  uw_casetemp    ...       netsolar  \\\n",
       "hour                                                       ...                  \n",
       "6.0    272.085714   271.642857  286.392857   270.300000    ...       0.000000   \n",
       "7.0    271.606667   271.146667  284.053333   269.938333    ...       0.000000   \n",
       "8.0    271.153333   270.733333  288.993333   269.398333    ...       0.000000   \n",
       "9.0    271.841667   271.390000  294.260000   269.860000    ...       0.000000   \n",
       "10.0   272.423333   271.983333  296.791667   270.326667    ...       0.000000   \n",
       "11.0   272.581667   272.093333  297.226667   270.480000    ...       0.000000   \n",
       "12.0   272.686667   272.196667  298.433333   270.543333    ...       2.351667   \n",
       "13.0   273.396667   272.983333  302.830000   271.061667    ...      43.403333   \n",
       "14.0   275.108333   274.810000  312.523333   272.315000    ...     107.461667   \n",
       "15.0   277.000000   276.723333  322.285000   273.716667    ...     195.410000   \n",
       "16.0   278.595000   278.275000  331.316667   274.995000    ...     222.996667   \n",
       "17.0   279.222581   278.980645  336.116129   275.416129    ...     243.445161   \n",
       "\n",
       "          netir    totalnet      temp          rh   windspd     winddir  \\\n",
       "hour                                                                      \n",
       "6.0  -69.692857  -69.692857 -2.271429   89.750000  2.871429  174.300000   \n",
       "7.0  -67.881667  -67.881667 -2.773333   92.965000  3.066667  146.796667   \n",
       "8.0  -72.466667  -72.466667 -3.256667   94.690000  3.873333  152.585000   \n",
       "9.0  -70.631667  -70.631667 -2.865000   91.560000  4.900000  164.426667   \n",
       "10.0 -60.611667  -60.611667 -2.485000   89.688333  4.981667  173.578333   \n",
       "11.0 -63.985000  -63.985000 -2.386667   92.431667  5.595000  167.585000   \n",
       "12.0 -59.603333  -57.251667 -2.320000   92.493333  6.421667  167.895000   \n",
       "13.0 -57.188333  -13.786667 -1.801667   91.796667  6.791667  167.960000   \n",
       "14.0 -26.526667   80.938333 -0.561667  101.838333  7.736667  175.430000   \n",
       "15.0 -34.446667  160.953333  0.821667  109.766667  8.668333  182.706667   \n",
       "16.0 -31.736667  191.260000  1.906667  107.371667  9.136667  179.690000   \n",
       "17.0 -26.254839  217.200000  2.474194  111.645161  9.616129  176.358065   \n",
       "\n",
       "        pressure         ghi        Kt  \n",
       "hour                                    \n",
       "6.0   998.471429   37.874247 -0.120932  \n",
       "7.0   997.966667  108.318844 -0.050473  \n",
       "8.0   996.900000  284.228645 -0.017408  \n",
       "9.0   995.828333  448.178675 -0.011885  \n",
       "10.0  995.345000  570.306262 -0.008854  \n",
       "11.0  994.613333  638.422279 -0.007937  \n",
       "12.0  993.798333  646.734117 -0.004067  \n",
       "13.0  993.278333  594.568596  0.086837  \n",
       "14.0  992.623333  486.293072  0.287014  \n",
       "15.0  991.760000  332.051692  0.774799  \n",
       "16.0  990.573333  153.597510  2.067046  \n",
       "17.0  989.632258   45.373147  7.893298  \n",
       "\n",
       "[12 rows x 23 columns]"
      ]
     },
     "execution_count": 163,
     "metadata": {},
     "output_type": "execute_result"
    }
   ],
   "source": [
    "df_new_test.loc[2].xs(17,level='day')"
   ]
  },
  {
   "cell_type": "markdown",
   "metadata": {},
   "source": [
    "### Shifting Kt values to make 1 hour ahead forecast"
   ]
  },
  {
   "cell_type": "markdown",
   "metadata": {},
   "source": [
    "#### Train dataset"
   ]
  },
  {
   "cell_type": "code",
   "execution_count": 164,
   "metadata": {},
   "outputs": [],
   "source": [
    "levels_index= []\n",
    "for m in df_new_train.index.levels:\n",
    "    levels_index.append(m)"
   ]
  },
  {
   "cell_type": "code",
   "execution_count": 165,
   "metadata": {
    "scrolled": true
   },
   "outputs": [],
   "source": [
    "for i in levels_index[0]:\n",
    "    for j in levels_index[1]:\n",
    "        df_new_train.loc[i].loc[j]['Kt'] = df_new_train.loc[i].loc[j]['Kt'].shift(-1)"
   ]
  },
  {
   "cell_type": "code",
   "execution_count": 166,
   "metadata": {},
   "outputs": [],
   "source": [
    "df_new_train = df_new_train[~(df_new_train['Kt'].isnull())]"
   ]
  },
  {
   "cell_type": "markdown",
   "metadata": {},
   "source": [
    "#### Test dataset"
   ]
  },
  {
   "cell_type": "code",
   "execution_count": 167,
   "metadata": {},
   "outputs": [],
   "source": [
    "levels_index2= []\n",
    "for m in df_new_test.index.levels:\n",
    "    levels_index2.append(m)"
   ]
  },
  {
   "cell_type": "code",
   "execution_count": 168,
   "metadata": {},
   "outputs": [],
   "source": [
    "for i in levels_index2[0]:\n",
    "    for j in levels_index2[1]:\n",
    "        df_new_test.loc[i].loc[j]['Kt'] = df_new_test.loc[i].loc[j]['Kt'].shift(-1)"
   ]
  },
  {
   "cell_type": "code",
   "execution_count": 169,
   "metadata": {},
   "outputs": [],
   "source": [
    "df_new_test = df_new_test[~(df_new_test['Kt'].isnull())]"
   ]
  },
  {
   "cell_type": "code",
   "execution_count": 170,
   "metadata": {},
   "outputs": [
    {
     "data": {
      "text/html": [
       "<div>\n",
       "<table border=\"1\" class=\"dataframe\">\n",
       "  <thead>\n",
       "    <tr style=\"text-align: right;\">\n",
       "      <th></th>\n",
       "      <th></th>\n",
       "      <th></th>\n",
       "      <th>zen</th>\n",
       "      <th>dw_solar</th>\n",
       "      <th>uw_solar</th>\n",
       "      <th>direct_n</th>\n",
       "      <th>diffuse</th>\n",
       "      <th>dw_ir</th>\n",
       "      <th>dw_casetemp</th>\n",
       "      <th>dw_dometemp</th>\n",
       "      <th>uw_ir</th>\n",
       "      <th>uw_casetemp</th>\n",
       "      <th>...</th>\n",
       "      <th>netsolar</th>\n",
       "      <th>netir</th>\n",
       "      <th>totalnet</th>\n",
       "      <th>temp</th>\n",
       "      <th>rh</th>\n",
       "      <th>windspd</th>\n",
       "      <th>winddir</th>\n",
       "      <th>pressure</th>\n",
       "      <th>ghi</th>\n",
       "      <th>Kt</th>\n",
       "    </tr>\n",
       "    <tr>\n",
       "      <th>month</th>\n",
       "      <th>day</th>\n",
       "      <th>hour</th>\n",
       "      <th></th>\n",
       "      <th></th>\n",
       "      <th></th>\n",
       "      <th></th>\n",
       "      <th></th>\n",
       "      <th></th>\n",
       "      <th></th>\n",
       "      <th></th>\n",
       "      <th></th>\n",
       "      <th></th>\n",
       "      <th></th>\n",
       "      <th></th>\n",
       "      <th></th>\n",
       "      <th></th>\n",
       "      <th></th>\n",
       "      <th></th>\n",
       "      <th></th>\n",
       "      <th></th>\n",
       "      <th></th>\n",
       "      <th></th>\n",
       "      <th></th>\n",
       "    </tr>\n",
       "  </thead>\n",
       "  <tbody>\n",
       "    <tr>\n",
       "      <th>8.0</th>\n",
       "      <th>5.0</th>\n",
       "      <th>19.0</th>\n",
       "      <td>30.434833</td>\n",
       "      <td>800.548333</td>\n",
       "      <td>153.193333</td>\n",
       "      <td>601.871667</td>\n",
       "      <td>280.84</td>\n",
       "      <td>384.561667</td>\n",
       "      <td>304.885</td>\n",
       "      <td>304.643333</td>\n",
       "      <td>482.225</td>\n",
       "      <td>302.208333</td>\n",
       "      <td>...</td>\n",
       "      <td>645.503333</td>\n",
       "      <td>-97.671667</td>\n",
       "      <td>547.838333</td>\n",
       "      <td>26.02</td>\n",
       "      <td>63.08</td>\n",
       "      <td>2.26</td>\n",
       "      <td>103.323333</td>\n",
       "      <td>992.138333</td>\n",
       "      <td>44.570245</td>\n",
       "      <td>1146.230573</td>\n",
       "    </tr>\n",
       "  </tbody>\n",
       "</table>\n",
       "<p>1 rows × 23 columns</p>\n",
       "</div>"
      ],
      "text/plain": [
       "                      zen    dw_solar    uw_solar    direct_n  diffuse  \\\n",
       "month day hour                                                           \n",
       "8.0   5.0 19.0  30.434833  800.548333  153.193333  601.871667   280.84   \n",
       "\n",
       "                     dw_ir  dw_casetemp  dw_dometemp    uw_ir  uw_casetemp  \\\n",
       "month day hour                                                               \n",
       "8.0   5.0 19.0  384.561667      304.885   304.643333  482.225   302.208333   \n",
       "\n",
       "                   ...         netsolar      netir    totalnet   temp     rh  \\\n",
       "month day hour     ...                                                         \n",
       "8.0   5.0 19.0     ...       645.503333 -97.671667  547.838333  26.02  63.08   \n",
       "\n",
       "                windspd     winddir    pressure        ghi           Kt  \n",
       "month day hour                                                           \n",
       "8.0   5.0 19.0     2.26  103.323333  992.138333  44.570245  1146.230573  \n",
       "\n",
       "[1 rows x 23 columns]"
      ]
     },
     "execution_count": 170,
     "metadata": {},
     "output_type": "execute_result"
    }
   ],
   "source": [
    "df_new_test[df_new_test['Kt']==df_new_test['Kt'].max()]"
   ]
  },
  {
   "cell_type": "markdown",
   "metadata": {},
   "source": [
    "### Normalize train and test dataframe"
   ]
  },
  {
   "cell_type": "code",
   "execution_count": 171,
   "metadata": {},
   "outputs": [],
   "source": [
    "train_norm = (df_new_train - df_new_train.mean()) / (df_new_train.max() - df_new_train.min())\n",
    "test_norm =  (df_new_test - df_new_test.mean()) / (df_new_test.max() - df_new_test.min())"
   ]
  },
  {
   "cell_type": "code",
   "execution_count": 172,
   "metadata": {},
   "outputs": [],
   "source": [
    "train_norm.reset_index(inplace=True,drop=True)\n",
    "test_norm.reset_index(inplace=True,drop=True)"
   ]
  },
  {
   "cell_type": "markdown",
   "metadata": {
    "collapsed": true
   },
   "source": [
    "### Making train and test sets with train_norm and test_norm"
   ]
  },
  {
   "cell_type": "markdown",
   "metadata": {
    "collapsed": true
   },
   "source": [
    "#### finding the gcf (greatest common factor) of train and test dataset's length and chop off the extra rows to make it divisible with the batchsize"
   ]
  },
  {
   "cell_type": "code",
   "execution_count": 173,
   "metadata": {},
   "outputs": [
    {
     "name": "stderr",
     "output_type": "stream",
     "text": [
      "C:\\Program Files\\Anaconda3\\lib\\site-packages\\ipykernel\\__main__.py:2: DeprecationWarning: fractions.gcd() is deprecated. Use math.gcd() instead.\n",
      "  from ipykernel import kernelapp as app\n"
     ]
    },
    {
     "data": {
      "text/plain": [
       "2"
      ]
     },
     "execution_count": 173,
     "metadata": {},
     "output_type": "execute_result"
    }
   ],
   "source": [
    "from fractions import gcd\n",
    "gcd(train_norm.shape[0],test_norm.shape[0])"
   ]
  },
  {
   "cell_type": "code",
   "execution_count": 174,
   "metadata": {},
   "outputs": [],
   "source": [
    "import math\n",
    "def roundup(x):\n",
    "    return int(math.ceil(x / 100.0)) * 100"
   ]
  },
  {
   "cell_type": "code",
   "execution_count": 175,
   "metadata": {},
   "outputs": [],
   "source": [
    "train_lim = roundup(train_norm.shape[0])\n",
    "test_lim = roundup(test_norm.shape[0])\n",
    "\n",
    "train_random = train_norm.sample(train_lim-train_norm.shape[0])\n",
    "test_random = test_norm.sample(test_lim-test_norm.shape[0])\n",
    "\n",
    "train_norm = train_norm.append(train_random)\n",
    "test_norm = test_norm.append(test_random)"
   ]
  },
  {
   "cell_type": "code",
   "execution_count": 176,
   "metadata": {},
   "outputs": [],
   "source": [
    "X1 = train_norm.drop('Kt',axis=1)\n",
    "y1 = train_norm['Kt']\n",
    "\n",
    "X2 = test_norm.drop('Kt',axis=1)\n",
    "y2 = test_norm['Kt']"
   ]
  },
  {
   "cell_type": "code",
   "execution_count": 177,
   "metadata": {
    "scrolled": true
   },
   "outputs": [
    {
     "name": "stdout",
     "output_type": "stream",
     "text": [
      "X1_train shape is (9600, 22)\n",
      "y1_train shape is (9600,)\n",
      "X2_test shape is (4400, 22)\n",
      "y2_test shape is (4400,)\n"
     ]
    }
   ],
   "source": [
    "print(\"X1_train shape is {}\".format(X1.shape))\n",
    "print(\"y1_train shape is {}\".format(y1.shape))\n",
    "print(\"X2_test shape is {}\".format(X2.shape))\n",
    "print(\"y2_test shape is {}\".format(y2.shape))"
   ]
  },
  {
   "cell_type": "code",
   "execution_count": 178,
   "metadata": {},
   "outputs": [],
   "source": [
    "X_train = np.array(X1)\n",
    "y_train  = np.array(y1)\n",
    "X_test = np.array(X2)\n",
    "y_test = np.array(y2)"
   ]
  },
  {
   "cell_type": "markdown",
   "metadata": {},
   "source": [
    "### start of RNN"
   ]
  },
  {
   "cell_type": "code",
   "execution_count": 179,
   "metadata": {},
   "outputs": [],
   "source": [
    "import torch\n",
    "import torch.nn as nn\n",
    "import torchvision.transforms as transforms\n",
    "import torchvision.datasets as dsets\n",
    "from torch.autograd import Variable"
   ]
  },
  {
   "cell_type": "code",
   "execution_count": 180,
   "metadata": {},
   "outputs": [],
   "source": [
    "class RNNModel(nn.Module):\n",
    "    def __init__(self, input_dim, hidden_dim, layer_dim, output_dim):\n",
    "        super(RNNModel, self).__init__()\n",
    "        #Hidden Dimension\n",
    "        self.hidden_dim = hidden_dim\n",
    "        \n",
    "        # Number of hidden layers\n",
    "        self.layer_dim = layer_dim\n",
    "        \n",
    "        #Building the RNN\n",
    "        self.rnn = nn.RNN(input_dim, hidden_dim, layer_dim, batch_first=True, nonlinearity='relu')\n",
    "        \n",
    "        # Readout layer\n",
    "        self.fc = nn.Linear(hidden_dim, output_dim)\n",
    "        \n",
    "    def forward(self, x):\n",
    "        # Initializing the hidden state with zeros\n",
    "        # (layer_dim, batch_size, hidden_dim)\n",
    "        h0 = Variable(torch.zeros(self.layer_dim, x.size(0), self.hidden_dim))\n",
    "        \n",
    "        #One time step (the last one perhaps?)\n",
    "        out, hn = self.rnn(x, h0)\n",
    "        \n",
    "        # Indexing hidden state of the last time step\n",
    "        # out.size() --> ??\n",
    "        #out[:,-1,:] --> is it going to be 100,100\n",
    "        out = self.fc(out[:,-1,:])\n",
    "        # out.size() --> 100,1\n",
    "        return out\n",
    "        "
   ]
  },
  {
   "cell_type": "code",
   "execution_count": 181,
   "metadata": {},
   "outputs": [],
   "source": [
    "# Instantiating Model Class\n",
    "input_dim = 22\n",
    "hidden_dim = 15\n",
    "layer_dim = 1\n",
    "output_dim = 1\n",
    "batch_size = 100\n",
    "\n",
    "model = RNNModel(input_dim, hidden_dim, layer_dim, output_dim)\n",
    "\n",
    "# Instantiating Loss Class\n",
    "criterion = nn.MSELoss()\n",
    "\n",
    "# Instantiate Optimizer Class\n",
    "learning_rate = 0.001\n",
    "optimizer = torch.optim.SGD(model.parameters(), lr=learning_rate)\n",
    "\n",
    "# converting numpy array to torch tensor\n",
    "X_train = torch.from_numpy(X_train)\n",
    "y_train = torch.from_numpy(y_train)\n",
    "X_test = torch.from_numpy(X_test)\n",
    "y_test = torch.from_numpy(y_test)\n",
    "\n",
    "# initializing lists to store losses over epochs:\n",
    "train_loss = []\n",
    "test_loss = []\n",
    "train_iter = []\n",
    "test_iter = []"
   ]
  },
  {
   "cell_type": "code",
   "execution_count": 188,
   "metadata": {
    "scrolled": true
   },
   "outputs": [
    {
     "name": "stdout",
     "output_type": "stream",
     "text": [
      "Epoch: 1 Iteration: 100. Train_MSE: 0.009215903468430042. Test_MSE: 0.00529575115069747\n",
      "Epoch: 2 Iteration: 200. Train_MSE: 0.0061593265272676945. Test_MSE: 0.004371232353150845\n",
      "Epoch: 3 Iteration: 300. Train_MSE: 0.0027144080959260464. Test_MSE: 0.003831080161035061\n",
      "Epoch: 4 Iteration: 400. Train_MSE: 0.0037528714165091515. Test_MSE: 0.0034912065602838993\n",
      "Epoch: 5 Iteration: 500. Train_MSE: 0.0038438993506133556. Test_MSE: 0.003262390149757266\n",
      "Epoch: 6 Iteration: 600. Train_MSE: 0.013666358776390553. Test_MSE: 0.0030873597133904696\n",
      "Epoch: 7 Iteration: 700. Train_MSE: 0.003519519465044141. Test_MSE: 0.0029423863161355257\n",
      "Epoch: 8 Iteration: 800. Train_MSE: 0.0021539567969739437. Test_MSE: 0.0028148391284048557\n",
      "Epoch: 9 Iteration: 900. Train_MSE: 0.0038854663725942373. Test_MSE: 0.002696497831493616\n",
      "Epoch: 10 Iteration: 1000. Train_MSE: 0.003347498131915927. Test_MSE: 0.002590596443042159\n",
      "Epoch: 11 Iteration: 1100. Train_MSE: 0.0016097460174933076. Test_MSE: 0.002499358495697379\n",
      "Epoch: 12 Iteration: 1200. Train_MSE: 0.001478787511587143. Test_MSE: 0.0024178409948945045\n",
      "Epoch: 13 Iteration: 1300. Train_MSE: 0.005909610539674759. Test_MSE: 0.002342446707189083\n",
      "Epoch: 14 Iteration: 1400. Train_MSE: 0.002041962230578065. Test_MSE: 0.0022704279981553555\n",
      "Epoch: 15 Iteration: 1500. Train_MSE: 0.0032672984525561333. Test_MSE: 0.002201232360675931\n",
      "Epoch: 16 Iteration: 1600. Train_MSE: 0.0014488236047327518. Test_MSE: 0.00213678739964962\n",
      "Epoch: 17 Iteration: 1700. Train_MSE: 0.001070733997039497. Test_MSE: 0.0020780100021511316\n",
      "Epoch: 18 Iteration: 1800. Train_MSE: 0.0014801662182435393. Test_MSE: 0.002022120403125882\n",
      "Epoch: 19 Iteration: 1900. Train_MSE: 0.001216000528074801. Test_MSE: 0.00196811999194324\n",
      "Epoch: 21 Iteration: 2000. Train_MSE: 0.0015646411338821054. Test_MSE: 0.0019170403247699142\n",
      "Epoch: 22 Iteration: 2100. Train_MSE: 0.001973925158381462. Test_MSE: 0.0018703859532251954\n",
      "Epoch: 23 Iteration: 2200. Train_MSE: 0.0010979383951053023. Test_MSE: 0.0018262603553012013\n",
      "Epoch: 24 Iteration: 2300. Train_MSE: 0.0025699574034661055. Test_MSE: 0.0017834381433203816\n",
      "Epoch: 25 Iteration: 2400. Train_MSE: 0.0020880349911749363. Test_MSE: 0.0017411266453564167\n",
      "Epoch: 26 Iteration: 2500. Train_MSE: 0.011824551038444042. Test_MSE: 0.001702168257907033\n",
      "Epoch: 27 Iteration: 2600. Train_MSE: 0.0029722703620791435. Test_MSE: 0.0016660388791933656\n",
      "Epoch: 28 Iteration: 2700. Train_MSE: 0.0013518482446670532. Test_MSE: 0.0016325169708579779\n",
      "Epoch: 29 Iteration: 2800. Train_MSE: 0.0017881094245240092. Test_MSE: 0.0015992788830772042\n",
      "Epoch: 30 Iteration: 2900. Train_MSE: 0.0015011749928817153. Test_MSE: 0.0015673484886065125\n",
      "Epoch: 31 Iteration: 3000. Train_MSE: 0.0008187620551325381. Test_MSE: 0.0015381422126665711\n",
      "Epoch: 32 Iteration: 3100. Train_MSE: 0.0009277431527152658. Test_MSE: 0.0015107091749086976\n",
      "Epoch: 33 Iteration: 3200. Train_MSE: 0.005306551232933998. Test_MSE: 0.0014845018740743399\n",
      "Epoch: 34 Iteration: 3300. Train_MSE: 0.0012990743853151798. Test_MSE: 0.0014589527854695916\n",
      "Epoch: 35 Iteration: 3400. Train_MSE: 0.0017996510723605752. Test_MSE: 0.0014339493354782462\n",
      "Epoch: 36 Iteration: 3500. Train_MSE: 0.0008639426669105887. Test_MSE: 0.0014104117872193456\n",
      "Epoch: 37 Iteration: 3600. Train_MSE: 0.0008239051094278693. Test_MSE: 0.0013888073153793812\n",
      "Epoch: 38 Iteration: 3700. Train_MSE: 0.0008436978096142411. Test_MSE: 0.0013680739793926477\n",
      "Epoch: 39 Iteration: 3800. Train_MSE: 0.0006429171771742404. Test_MSE: 0.001347732380963862\n",
      "Epoch: 41 Iteration: 3900. Train_MSE: 0.0008333298028446734. Test_MSE: 0.0013282581930980086\n",
      "Epoch: 42 Iteration: 4000. Train_MSE: 0.0013595032505691051. Test_MSE: 0.001310168532654643\n",
      "Epoch: 43 Iteration: 4100. Train_MSE: 0.0007292324444279075. Test_MSE: 0.0012929006479680538\n",
      "Epoch: 44 Iteration: 4200. Train_MSE: 0.0018181272316724062. Test_MSE: 0.0012759279925376177\n",
      "Epoch: 45 Iteration: 4300. Train_MSE: 0.0013197866501286626. Test_MSE: 0.0012587964301928878\n",
      "Epoch: 46 Iteration: 4400. Train_MSE: 0.010764692910015583. Test_MSE: 0.0012428879272192717\n",
      "Epoch: 47 Iteration: 4500. Train_MSE: 0.002806546166539192. Test_MSE: 0.0012280514929443598\n",
      "Epoch: 48 Iteration: 4600. Train_MSE: 0.0011033982736989856. Test_MSE: 0.0012141064507886767\n",
      "Epoch: 49 Iteration: 4700. Train_MSE: 0.00105660455301404. Test_MSE: 0.0012000466231256723\n",
      "Epoch: 50 Iteration: 4800. Train_MSE: 0.000854359706863761. Test_MSE: 0.0011864763218909502\n",
      "Epoch: 51 Iteration: 4900. Train_MSE: 0.0005297217867337167. Test_MSE: 0.0011738929897546768\n",
      "Epoch: 52 Iteration: 5000. Train_MSE: 0.0006982508348301053. Test_MSE: 0.0011618933640420437\n",
      "Epoch: 53 Iteration: 5100. Train_MSE: 0.005080935545265675. Test_MSE: 0.0011502668494358659\n",
      "Epoch: 54 Iteration: 5200. Train_MSE: 0.0009702856768853962. Test_MSE: 0.001138819381594658\n",
      "Epoch: 55 Iteration: 5300. Train_MSE: 0.0012094647390767932. Test_MSE: 0.0011274921707808971\n",
      "Epoch: 56 Iteration: 5400. Train_MSE: 0.0006412257789634168. Test_MSE: 0.0011167360935360193\n",
      "Epoch: 57 Iteration: 5500. Train_MSE: 0.0006904439069330692. Test_MSE: 0.0011067792074754834\n",
      "Epoch: 58 Iteration: 5600. Train_MSE: 0.0005635120905935764. Test_MSE: 0.0010971293086186051\n",
      "Epoch: 59 Iteration: 5700. Train_MSE: 0.00042672231211327016. Test_MSE: 0.0010876171290874481\n",
      "Epoch: 61 Iteration: 5800. Train_MSE: 0.0005270502297207713. Test_MSE: 0.001078435336239636\n",
      "Epoch: 62 Iteration: 5900. Train_MSE: 0.0010363742476329207. Test_MSE: 0.001069764606654644\n",
      "Epoch: 63 Iteration: 6000. Train_MSE: 0.0005691892583854496. Test_MSE: 0.001061448478139937\n",
      "Epoch: 64 Iteration: 6100. Train_MSE: 0.001516483025625348. Test_MSE: 0.001053216285072267\n",
      "Epoch: 65 Iteration: 6200. Train_MSE: 0.0010415608994662762. Test_MSE: 0.0010448044631630182\n",
      "Epoch: 66 Iteration: 6300. Train_MSE: 0.010314728133380413. Test_MSE: 0.0010369367664679885\n",
      "Epoch: 67 Iteration: 6400. Train_MSE: 0.002756477566435933. Test_MSE: 0.001029555220156908\n",
      "Epoch: 68 Iteration: 6500. Train_MSE: 0.000978649128228426. Test_MSE: 0.0010225363075733185\n",
      "Epoch: 69 Iteration: 6600. Train_MSE: 0.0006935420678928494. Test_MSE: 0.001015400979667902\n",
      "Epoch: 70 Iteration: 6700. Train_MSE: 0.0005479879910126328. Test_MSE: 0.001008498715236783\n",
      "Epoch: 71 Iteration: 6800. Train_MSE: 0.0003789989568758756. Test_MSE: 0.0010020231129601598\n",
      "Epoch: 72 Iteration: 6900. Train_MSE: 0.0005633337423205376. Test_MSE: 0.0009957958245649934\n",
      "Epoch: 73 Iteration: 7000. Train_MSE: 0.004997127689421177. Test_MSE: 0.0009897325653582811\n",
      "Epoch: 74 Iteration: 7100. Train_MSE: 0.0007966920966282487. Test_MSE: 0.0009837555699050426\n",
      "Epoch: 75 Iteration: 7200. Train_MSE: 0.0009227722184732556. Test_MSE: 0.0009777829982340336\n",
      "Epoch: 76 Iteration: 7300. Train_MSE: 0.0005283975624479353. Test_MSE: 0.000972046225797385\n",
      "Epoch: 77 Iteration: 7400. Train_MSE: 0.0005963462754152715. Test_MSE: 0.0009667135891504586\n",
      "Epoch: 78 Iteration: 7500. Train_MSE: 0.0004160054086241871. Test_MSE: 0.0009615024318918586\n",
      "Epoch: 79 Iteration: 7600. Train_MSE: 0.00033153739059343934. Test_MSE: 0.0009563472704030573\n",
      "Epoch: 81 Iteration: 7700. Train_MSE: 0.0003782568091992289. Test_MSE: 0.0009513484546914697\n",
      "Epoch: 82 Iteration: 7800. Train_MSE: 0.0008398671634495258. Test_MSE: 0.0009465563925914466\n",
      "Epoch: 83 Iteration: 7900. Train_MSE: 0.000478638568893075. Test_MSE: 0.0009419600828550756\n",
      "Epoch: 84 Iteration: 8000. Train_MSE: 0.0013714422238990664. Test_MSE: 0.0009373952052555978\n",
      "Epoch: 85 Iteration: 8100. Train_MSE: 0.000917217112146318. Test_MSE: 0.0009326791041530669\n",
      "Epoch: 86 Iteration: 8200. Train_MSE: 0.010098746046423912. Test_MSE: 0.0009282449027523398\n",
      "Epoch: 87 Iteration: 8300. Train_MSE: 0.002745197154581547. Test_MSE: 0.0009240720537491143\n",
      "Epoch: 88 Iteration: 8400. Train_MSE: 0.0009010823559947312. Test_MSE: 0.0009200641652569175\n",
      "Epoch: 89 Iteration: 8500. Train_MSE: 0.000493774889037013. Test_MSE: 0.0009159813052974641\n",
      "Epoch: 90 Iteration: 8600. Train_MSE: 0.00038289400981739163. Test_MSE: 0.000912049668841064\n",
      "Epoch: 91 Iteration: 8700. Train_MSE: 0.00028966052923351526. Test_MSE: 0.0009083243785426021\n",
      "Epoch: 92 Iteration: 8800. Train_MSE: 0.0004742439487017691. Test_MSE: 0.0009047235944308341\n",
      "Epoch: 93 Iteration: 8900. Train_MSE: 0.004969752859324217. Test_MSE: 0.0009012027294375002\n"
     ]
    },
    {
     "name": "stdout",
     "output_type": "stream",
     "text": [
      "Epoch: 94 Iteration: 9000. Train_MSE: 0.0006923566106706858. Test_MSE: 0.0008977365796454251\n",
      "Epoch: 95 Iteration: 9100. Train_MSE: 0.0007616707589477301. Test_MSE: 0.0008942426065914333\n",
      "Epoch: 96 Iteration: 9200. Train_MSE: 0.00045754536404274404. Test_MSE: 0.0008908663294278085\n",
      "Epoch: 97 Iteration: 9300. Train_MSE: 0.0005233740666881204. Test_MSE: 0.0008877204963937402\n",
      "Epoch: 98 Iteration: 9400. Train_MSE: 0.0003299737290944904. Test_MSE: 0.0008846363052725792\n",
      "Epoch: 99 Iteration: 9500. Train_MSE: 0.0002837417705450207. Test_MSE: 0.0008815937326289713\n",
      "Epoch: 101 Iteration: 9600. Train_MSE: 0.0002986669715028256. Test_MSE: 0.00087863759836182\n",
      "Epoch: 102 Iteration: 9700. Train_MSE: 0.000711488479282707. Test_MSE: 0.0008757598116062582\n",
      "Epoch: 103 Iteration: 9800. Train_MSE: 0.0004194417269900441. Test_MSE: 0.0008730074041523039\n",
      "Epoch: 104 Iteration: 9900. Train_MSE: 0.001285469508729875. Test_MSE: 0.0008702652412466705\n",
      "Epoch: 105 Iteration: 10000. Train_MSE: 0.0008505376172251999. Test_MSE: 0.0008674014243297279\n",
      "Epoch: 106 Iteration: 10100. Train_MSE: 0.009987580589950085. Test_MSE: 0.0008646982023492455\n",
      "Epoch: 107 Iteration: 10200. Train_MSE: 0.0027505052275955677. Test_MSE: 0.0008621622109785676\n",
      "Epoch: 108 Iteration: 10300. Train_MSE: 0.0008466864237561822. Test_MSE: 0.0008597088162787259\n",
      "Epoch: 109 Iteration: 10400. Train_MSE: 0.0003741755790542811. Test_MSE: 0.0008572065271437168\n",
      "Epoch: 110 Iteration: 10500. Train_MSE: 0.0002856895443983376. Test_MSE: 0.0008548033074475825\n",
      "Epoch: 111 Iteration: 10600. Train_MSE: 0.0002347475237911567. Test_MSE: 0.000852503115311265\n",
      "Epoch: 112 Iteration: 10700. Train_MSE: 0.0004112995811738074. Test_MSE: 0.000850271200761199\n",
      "Epoch: 113 Iteration: 10800. Train_MSE: 0.004968963097780943. Test_MSE: 0.0008480736869387329\n",
      "Epoch: 114 Iteration: 10900. Train_MSE: 0.0006259375950321555. Test_MSE: 0.0008459056261926889\n",
      "Epoch: 115 Iteration: 11000. Train_MSE: 0.0006629907875321805. Test_MSE: 0.0008436967036686838\n",
      "Epoch: 116 Iteration: 11100. Train_MSE: 0.0004082437662873417. Test_MSE: 0.0008415478514507413\n",
      "Epoch: 117 Iteration: 11200. Train_MSE: 0.0004642972780857235. Test_MSE: 0.0008395485929213464\n",
      "Epoch: 118 Iteration: 11300. Train_MSE: 0.0002765084500424564. Test_MSE: 0.0008375964243896306\n",
      "Epoch: 119 Iteration: 11400. Train_MSE: 0.0002577662526164204. Test_MSE: 0.0008356720791198313\n",
      "Epoch: 121 Iteration: 11500. Train_MSE: 0.0002533401420805603. Test_MSE: 0.0008337976760230958\n",
      "Epoch: 122 Iteration: 11600. Train_MSE: 0.0006236551562324166. Test_MSE: 0.0008319479529745877\n",
      "Epoch: 123 Iteration: 11700. Train_MSE: 0.00037847808562219143. Test_MSE: 0.000830200791824609\n",
      "Epoch: 124 Iteration: 11800. Train_MSE: 0.0012329928576946259. Test_MSE: 0.0008284541545435786\n",
      "Epoch: 125 Iteration: 11900. Train_MSE: 0.0008117649122141302. Test_MSE: 0.0008266064687632024\n",
      "Epoch: 126 Iteration: 12000. Train_MSE: 0.009926196187734604. Test_MSE: 0.000824859132990241\n",
      "Epoch: 127 Iteration: 12100. Train_MSE: 0.002751651918515563. Test_MSE: 0.0008232196560129523\n",
      "Epoch: 128 Iteration: 12200. Train_MSE: 0.0008082841522991657. Test_MSE: 0.0008216244750656188\n",
      "Epoch: 129 Iteration: 12300. Train_MSE: 0.0002982946753036231. Test_MSE: 0.0008199993171729147\n",
      "Epoch: 130 Iteration: 12400. Train_MSE: 0.00022574063041247427. Test_MSE: 0.0008184436592273414\n",
      "Epoch: 131 Iteration: 12500. Train_MSE: 0.00019823721959255636. Test_MSE: 0.0008169448119588196\n",
      "Epoch: 132 Iteration: 12600. Train_MSE: 0.0003658593923319131. Test_MSE: 0.0008154867682605982\n",
      "Epoch: 133 Iteration: 12700. Train_MSE: 0.00498023210093379. Test_MSE: 0.0008140499121509492\n",
      "Epoch: 134 Iteration: 12800. Train_MSE: 0.0005813757888972759. Test_MSE: 0.0008126330212689936\n",
      "Epoch: 135 Iteration: 12900. Train_MSE: 0.0005985205061733723. Test_MSE: 0.0008111835340969265\n",
      "Epoch: 136 Iteration: 13000. Train_MSE: 0.00037351492210291326. Test_MSE: 0.0008097601821646094\n",
      "Epoch: 137 Iteration: 13100. Train_MSE: 0.0004155915230512619. Test_MSE: 0.0008084347937256098\n",
      "Epoch: 138 Iteration: 13200. Train_MSE: 0.00024176473380066454. Test_MSE: 0.0008071435149759054\n",
      "Epoch: 139 Iteration: 13300. Train_MSE: 0.00024235794262494892. Test_MSE: 0.0008058715029619634\n",
      "Epoch: 141 Iteration: 13400. Train_MSE: 0.00022652809275314212. Test_MSE: 0.0008046324946917593\n",
      "Epoch: 142 Iteration: 13500. Train_MSE: 0.0005607893108390272. Test_MSE: 0.0008033975609578192\n",
      "Epoch: 143 Iteration: 13600. Train_MSE: 0.0003493071417324245. Test_MSE: 0.0008022414986044168\n",
      "Epoch: 144 Iteration: 13700. Train_MSE: 0.0011996744433417916. Test_MSE: 0.000801079673692584\n",
      "Epoch: 145 Iteration: 13800. Train_MSE: 0.0007883657235652208. Test_MSE: 0.0007998310029506683\n",
      "Epoch: 146 Iteration: 13900. Train_MSE: 0.009889921173453331. Test_MSE: 0.0007986503187566996\n",
      "Epoch: 147 Iteration: 14000. Train_MSE: 0.0027522712480276823. Test_MSE: 0.0007975473417900503\n",
      "Epoch: 148 Iteration: 14100. Train_MSE: 0.0007797720027156174. Test_MSE: 0.0007964686374180019\n",
      "Epoch: 149 Iteration: 14200. Train_MSE: 0.00024744521942920983. Test_MSE: 0.0007953723543323576\n",
      "Epoch: 150 Iteration: 14300. Train_MSE: 0.0001870860724011436. Test_MSE: 0.0007943244418129325\n",
      "Epoch: 151 Iteration: 14400. Train_MSE: 0.0001729238429106772. Test_MSE: 0.0007933060405775905\n",
      "Epoch: 152 Iteration: 14500. Train_MSE: 0.0003325130674056709. Test_MSE: 0.0007923115626908839\n",
      "Epoch: 153 Iteration: 14600. Train_MSE: 0.00499523151665926. Test_MSE: 0.0007913255831226707\n",
      "Epoch: 154 Iteration: 14700. Train_MSE: 0.0005507426685653627. Test_MSE: 0.0007903480436652899\n",
      "Epoch: 155 Iteration: 14800. Train_MSE: 0.0005549369961954653. Test_MSE: 0.0007893446600064635\n",
      "Epoch: 156 Iteration: 14900. Train_MSE: 0.0003483891487121582. Test_MSE: 0.0007883480284363031\n",
      "Epoch: 157 Iteration: 15000. Train_MSE: 0.0003773951902985573. Test_MSE: 0.0007874213624745607\n",
      "Epoch: 158 Iteration: 15100. Train_MSE: 0.0002182494499720633. Test_MSE: 0.0007865209481678903\n",
      "Epoch: 159 Iteration: 15200. Train_MSE: 0.00023150471679400653. Test_MSE: 0.0007856296724639833\n",
      "Epoch: 161 Iteration: 15300. Train_MSE: 0.0002095435920637101. Test_MSE: 0.0007847597589716315\n",
      "Epoch: 162 Iteration: 15400. Train_MSE: 0.0005138319102115929. Test_MSE: 0.0007838812889531255\n",
      "Epoch: 163 Iteration: 15500. Train_MSE: 0.0003277731593698263. Test_MSE: 0.0007830712711438537\n",
      "Epoch: 164 Iteration: 15600. Train_MSE: 0.0011771614663302898. Test_MSE: 0.0007822453626431525\n",
      "Epoch: 165 Iteration: 15700. Train_MSE: 0.0007734163082204759. Test_MSE: 0.0007813423289917409\n",
      "Epoch: 166 Iteration: 15800. Train_MSE: 0.009868103079497814. Test_MSE: 0.0007804889464750886\n",
      "Epoch: 167 Iteration: 15900. Train_MSE: 0.0027546437922865152. Test_MSE: 0.0007796959835104644\n",
      "Epoch: 168 Iteration: 16000. Train_MSE: 0.0007572179893031716. Test_MSE: 0.000778916641138494\n",
      "Epoch: 169 Iteration: 16100. Train_MSE: 0.00021233709412626922. Test_MSE: 0.0007781292661093175\n",
      "Epoch: 170 Iteration: 16200. Train_MSE: 0.0001611408224562183. Test_MSE: 0.0007773770485073328\n",
      "Epoch: 171 Iteration: 16300. Train_MSE: 0.00015499872097279876. Test_MSE: 0.0007766428170725703\n",
      "Epoch: 172 Iteration: 16400. Train_MSE: 0.00030741645605303347. Test_MSE: 0.0007759263971820474\n",
      "Epoch: 173 Iteration: 16500. Train_MSE: 0.005010259337723255. Test_MSE: 0.0007752102101221681\n",
      "Epoch: 174 Iteration: 16600. Train_MSE: 0.0005284400540404022. Test_MSE: 0.0007744954782538116\n",
      "Epoch: 175 Iteration: 16700. Train_MSE: 0.0005243437481112778. Test_MSE: 0.0007737601990811527\n",
      "Epoch: 176 Iteration: 16800. Train_MSE: 0.00032936889328993857. Test_MSE: 0.0007730202632956207\n",
      "Epoch: 177 Iteration: 16900. Train_MSE: 0.00034651655005291104. Test_MSE: 0.0007723346934653819\n",
      "Epoch: 178 Iteration: 17000. Train_MSE: 0.00020176812540739775. Test_MSE: 0.0007716743857599795\n",
      "Epoch: 179 Iteration: 17100. Train_MSE: 0.00022378120047505945. Test_MSE: 0.0007710196659900248\n",
      "Epoch: 181 Iteration: 17200. Train_MSE: 0.00019817771681118757. Test_MSE: 0.0007703803130425513\n",
      "Epoch: 182 Iteration: 17300. Train_MSE: 0.0004770132072735578. Test_MSE: 0.0007697271648794413\n",
      "Epoch: 183 Iteration: 17400. Train_MSE: 0.0003112482081633061. Test_MSE: 0.0007691338541917503\n",
      "Epoch: 184 Iteration: 17500. Train_MSE: 0.0011613800888881087. Test_MSE: 0.0007685199961997569\n",
      "Epoch: 185 Iteration: 17600. Train_MSE: 0.0007634112262167037. Test_MSE: 0.0007678374531678855\n"
     ]
    },
    {
     "name": "stdout",
     "output_type": "stream",
     "text": [
      "Epoch: 186 Iteration: 17700. Train_MSE: 0.009854169562458992. Test_MSE: 0.000767191406339407\n",
      "Epoch: 187 Iteration: 17800. Train_MSE: 0.002756658708676696. Test_MSE: 0.0007665946613997221\n",
      "Epoch: 188 Iteration: 17900. Train_MSE: 0.0007388571393676102. Test_MSE: 0.0007660060655325651\n",
      "Epoch: 189 Iteration: 18000. Train_MSE: 0.00018746600835584104. Test_MSE: 0.0007654139772057533\n",
      "Epoch: 190 Iteration: 18100. Train_MSE: 0.00014324524090625346. Test_MSE: 0.0007648473838344216\n",
      "Epoch: 191 Iteration: 18200. Train_MSE: 0.00014211289817467332. Test_MSE: 0.0007642901036888361\n",
      "Epoch: 192 Iteration: 18300. Train_MSE: 0.0002880804822780192. Test_MSE: 0.0007637492963112891\n",
      "Epoch: 193 Iteration: 18400. Train_MSE: 0.005023715551942587. Test_MSE: 0.000763204472605139\n",
      "Epoch: 194 Iteration: 18500. Train_MSE: 0.000511879101395607. Test_MSE: 0.0007626563892699778\n",
      "Epoch: 195 Iteration: 18600. Train_MSE: 0.0005023300182074308. Test_MSE: 0.0007620945107191801\n",
      "Epoch: 196 Iteration: 18700. Train_MSE: 0.000314953998895362. Test_MSE: 0.0007615197682753205\n",
      "Epoch: 197 Iteration: 18800. Train_MSE: 0.00032155553344637156. Test_MSE: 0.0007609879830852151\n",
      "Epoch: 198 Iteration: 18900. Train_MSE: 0.00018949560762848705. Test_MSE: 0.0007604783168062568\n",
      "Epoch: 199 Iteration: 19000. Train_MSE: 0.0002181295130867511. Test_MSE: 0.000759971619118005\n",
      "Epoch: 201 Iteration: 19100. Train_MSE: 0.00019033979333471507. Test_MSE: 0.0007594751077704132\n",
      "Epoch: 202 Iteration: 19200. Train_MSE: 0.0004470458661671728. Test_MSE: 0.0007589641609229147\n",
      "Epoch: 203 Iteration: 19300. Train_MSE: 0.00029778966563753784. Test_MSE: 0.000758508627768606\n",
      "Epoch: 204 Iteration: 19400. Train_MSE: 0.0011503249406814575. Test_MSE: 0.000758028996642679\n",
      "Epoch: 205 Iteration: 19500. Train_MSE: 0.0007564516272395849. Test_MSE: 0.0007574871997348964\n",
      "Epoch: 206 Iteration: 19600. Train_MSE: 0.009843412786722183. Test_MSE: 0.0007569750305265188\n",
      "Epoch: 207 Iteration: 19700. Train_MSE: 0.002758478745818138. Test_MSE: 0.0007565045962110162\n",
      "Epoch: 208 Iteration: 19800. Train_MSE: 0.0007237386889755726. Test_MSE: 0.0007560382364317775\n",
      "Epoch: 209 Iteration: 19900. Train_MSE: 0.00016931124264374375. Test_MSE: 0.000755571702029556\n",
      "Epoch: 210 Iteration: 20000. Train_MSE: 0.00013032743299845606. Test_MSE: 0.0007551223388873041\n",
      "Epoch: 211 Iteration: 20100. Train_MSE: 0.00013228713942226022. Test_MSE: 0.0007546781562268734\n",
      "Epoch: 212 Iteration: 20200. Train_MSE: 0.00027280571521259844. Test_MSE: 0.000754247943405062\n",
      "Epoch: 213 Iteration: 20300. Train_MSE: 0.005035099573433399. Test_MSE: 0.0007538109202869236\n",
      "Epoch: 214 Iteration: 20400. Train_MSE: 0.0004991206806153059. Test_MSE: 0.0007533666794188321\n",
      "Epoch: 215 Iteration: 20500. Train_MSE: 0.0004861954948864877. Test_MSE: 0.0007529156282544136\n",
      "Epoch: 216 Iteration: 20600. Train_MSE: 0.0003038091817870736. Test_MSE: 0.0007524496177211404\n",
      "Epoch: 217 Iteration: 20700. Train_MSE: 0.0003010189684573561. Test_MSE: 0.0007520178332924843\n",
      "Epoch: 218 Iteration: 20800. Train_MSE: 0.00017970149929169565. Test_MSE: 0.0007516073528677225\n",
      "Epoch: 219 Iteration: 20900. Train_MSE: 0.00021333432232495397. Test_MSE: 0.0007511964067816734\n",
      "Epoch: 221 Iteration: 21000. Train_MSE: 0.0001847188686951995. Test_MSE: 0.0007507925038225949\n",
      "Epoch: 222 Iteration: 21100. Train_MSE: 0.00042205481440760195. Test_MSE: 0.0007503753295168281\n",
      "Epoch: 223 Iteration: 21200. Train_MSE: 0.00028640907839871943. Test_MSE: 0.0007500084466300905\n",
      "Epoch: 224 Iteration: 21300. Train_MSE: 0.001142098568379879. Test_MSE: 0.0007496140897274017\n",
      "Epoch: 225 Iteration: 21400. Train_MSE: 0.0007513884920626879. Test_MSE: 0.0007491657743230462\n",
      "Epoch: 226 Iteration: 21500. Train_MSE: 0.009834152646362782. Test_MSE: 0.0007487413240596652\n",
      "Epoch: 227 Iteration: 21600. Train_MSE: 0.0027596650179475546. Test_MSE: 0.0007483523222617805\n",
      "Epoch: 228 Iteration: 21700. Train_MSE: 0.0007108282879926264. Test_MSE: 0.0007479664054699242\n",
      "Epoch: 229 Iteration: 21800. Train_MSE: 0.0001556541828904301. Test_MSE: 0.0007475835736840963\n",
      "Epoch: 230 Iteration: 21900. Train_MSE: 0.00012066980707459152. Test_MSE: 0.000747211801353842\n",
      "Epoch: 231 Iteration: 22000. Train_MSE: 0.00012462714221328497. Test_MSE: 0.0007468444528058171\n",
      "Epoch: 232 Iteration: 22100. Train_MSE: 0.00026045338017866015. Test_MSE: 0.0007464868249371648\n",
      "Epoch: 233 Iteration: 22200. Train_MSE: 0.005043981596827507. Test_MSE: 0.0007461158675141633\n",
      "Epoch: 234 Iteration: 22300. Train_MSE: 0.0004888877156190574. Test_MSE: 0.0007457368192262948\n",
      "Epoch: 235 Iteration: 22400. Train_MSE: 0.0004740927251987159. Test_MSE: 0.0007453571888618171\n",
      "Epoch: 236 Iteration: 22500. Train_MSE: 0.00029525821446441114. Test_MSE: 0.0007449596305377781\n",
      "Epoch: 237 Iteration: 22600. Train_MSE: 0.00028414593543857336. Test_MSE: 0.0007445902447216213\n",
      "Epoch: 238 Iteration: 22700. Train_MSE: 0.0001717328414088115. Test_MSE: 0.000744241289794445\n",
      "Epoch: 239 Iteration: 22800. Train_MSE: 0.00020879752992186695. Test_MSE: 0.000743889540899545\n",
      "Epoch: 241 Iteration: 22900. Train_MSE: 0.0001804923958843574. Test_MSE: 0.000743542390409857\n",
      "Epoch: 242 Iteration: 23000. Train_MSE: 0.0004006843955721706. Test_MSE: 0.00074318319093436\n",
      "Epoch: 243 Iteration: 23100. Train_MSE: 0.00027656613383442163. Test_MSE: 0.0007428699173033237\n",
      "Epoch: 244 Iteration: 23200. Train_MSE: 0.0011358291376382113. Test_MSE: 0.0007425266085192561\n",
      "Epoch: 245 Iteration: 23300. Train_MSE: 0.0007475951570086181. Test_MSE: 0.0007421355112455785\n",
      "Epoch: 246 Iteration: 23400. Train_MSE: 0.00982428528368473. Test_MSE: 0.0007417650776915252\n",
      "Epoch: 247 Iteration: 23500. Train_MSE: 0.0027598103042691946. Test_MSE: 0.0007414258434437215\n",
      "Epoch: 248 Iteration: 23600. Train_MSE: 0.0006997686577960849. Test_MSE: 0.0007410879479721189\n",
      "Epoch: 249 Iteration: 23700. Train_MSE: 0.00014491978799924254. Test_MSE: 0.0007407550001516938\n",
      "Epoch: 250 Iteration: 23800. Train_MSE: 0.00011330191045999527. Test_MSE: 0.000740429968573153\n",
      "Epoch: 251 Iteration: 23900. Train_MSE: 0.00011852593161165714. Test_MSE: 0.0007401075563393533\n",
      "Epoch: 252 Iteration: 24000. Train_MSE: 0.0002502454735804349. Test_MSE: 0.0007397965528070927\n",
      "Epoch: 253 Iteration: 24100. Train_MSE: 0.00504877045750618. Test_MSE: 0.00073947140481323\n",
      "Epoch: 254 Iteration: 24200. Train_MSE: 0.00048040185356512666. Test_MSE: 0.000739136477932334\n",
      "Epoch: 255 Iteration: 24300. Train_MSE: 0.00046468869550153613. Test_MSE: 0.0007388049270957708\n",
      "Epoch: 256 Iteration: 24400. Train_MSE: 0.0002885392459575087. Test_MSE: 0.0007384541677311063\n",
      "Epoch: 257 Iteration: 24500. Train_MSE: 0.00027004568255506456. Test_MSE: 0.0007381279719993472\n",
      "Epoch: 258 Iteration: 24600. Train_MSE: 0.00016524076636414975. Test_MSE: 0.0007378233131021261\n",
      "Epoch: 259 Iteration: 24700. Train_MSE: 0.00020484307606238872. Test_MSE: 0.0007375138229690492\n",
      "Epoch: 261 Iteration: 24800. Train_MSE: 0.00017703465709928423. Test_MSE: 0.0007372079417109489\n",
      "Epoch: 262 Iteration: 24900. Train_MSE: 0.0003819654230028391. Test_MSE: 0.0007368911174125969\n",
      "Epoch: 263 Iteration: 25000. Train_MSE: 0.00026771449483931065. Test_MSE: 0.0007366177742369473\n",
      "Epoch: 264 Iteration: 25100. Train_MSE: 0.0011307260720059276. Test_MSE: 0.0007363135227933526\n",
      "Epoch: 265 Iteration: 25200. Train_MSE: 0.0007444125949405134. Test_MSE: 0.0007359656738117337\n",
      "Epoch: 266 Iteration: 25300. Train_MSE: 0.009814782068133354. Test_MSE: 0.0007356359274126589\n",
      "Epoch: 267 Iteration: 25400. Train_MSE: 0.0027590799145400524. Test_MSE: 0.000735333829652518\n",
      "Epoch: 268 Iteration: 25500. Train_MSE: 0.0006900951266288757. Test_MSE: 0.0007350322557613254\n",
      "Epoch: 269 Iteration: 25600. Train_MSE: 0.00013635151844937354. Test_MSE: 0.0007347372593358159\n",
      "Epoch: 270 Iteration: 25700. Train_MSE: 0.00010757661220850423. Test_MSE: 0.0007344471523538232\n",
      "Epoch: 271 Iteration: 25800. Train_MSE: 0.00011360443022567779. Test_MSE: 0.0007341594318859279\n",
      "Epoch: 272 Iteration: 25900. Train_MSE: 0.00024143661721609533. Test_MSE: 0.0007338825962506235\n",
      "Epoch: 273 Iteration: 26000. Train_MSE: 0.005052476655691862. Test_MSE: 0.0007335903355851769\n",
      "Epoch: 274 Iteration: 26100. Train_MSE: 0.00047313555842265487. Test_MSE: 0.0007332860841415823\n",
      "Epoch: 275 Iteration: 26200. Train_MSE: 0.0004571842437144369. Test_MSE: 0.0007329883519560099\n",
      "Epoch: 276 Iteration: 26300. Train_MSE: 0.00028290628688409925. Test_MSE: 0.0007326702470891178\n"
     ]
    },
    {
     "name": "stdout",
     "output_type": "stream",
     "text": [
      "Epoch: 277 Iteration: 26400. Train_MSE: 0.0002578779822215438. Test_MSE: 0.0007323733880184591\n",
      "Epoch: 278 Iteration: 26500. Train_MSE: 0.00015972153050825. Test_MSE: 0.000732098356820643\n",
      "Epoch: 279 Iteration: 26600. Train_MSE: 0.0002001359680434689. Test_MSE: 0.0007318176212720573\n",
      "Epoch: 281 Iteration: 26700. Train_MSE: 0.00017402213416062295. Test_MSE: 0.0007315385737456381\n",
      "Epoch: 282 Iteration: 26800. Train_MSE: 0.0003655084583442658. Test_MSE: 0.000731250736862421\n",
      "Epoch: 283 Iteration: 26900. Train_MSE: 0.00025958704645745456. Test_MSE: 0.0007310044602490962\n",
      "Epoch: 284 Iteration: 27000. Train_MSE: 0.0011263490887358785. Test_MSE: 0.000730725412722677\n",
      "Epoch: 285 Iteration: 27100. Train_MSE: 0.0007415580912493169. Test_MSE: 0.000730405910871923\n",
      "Epoch: 286 Iteration: 27200. Train_MSE: 0.009805514477193356. Test_MSE: 0.0007301025907509029\n",
      "Epoch: 287 Iteration: 27300. Train_MSE: 0.0027576740831136703. Test_MSE: 0.000729825347661972\n",
      "Epoch: 288 Iteration: 27400. Train_MSE: 0.0006814138032495975. Test_MSE: 0.000729549617972225\n",
      "Epoch: 289 Iteration: 27500. Train_MSE: 0.0001293093664571643. Test_MSE: 0.0007292816299013793\n",
      "Epoch: 290 Iteration: 27600. Train_MSE: 0.00010299403220415115. Test_MSE: 0.0007290162029676139\n",
      "Epoch: 291 Iteration: 27700. Train_MSE: 0.00010947785631287843. Test_MSE: 0.0007287535117939115\n",
      "Epoch: 292 Iteration: 27800. Train_MSE: 0.0002337597543373704. Test_MSE: 0.0007285005995072424\n",
      "Epoch: 293 Iteration: 27900. Train_MSE: 0.005055037327110767. Test_MSE: 0.0007282314472831786\n",
      "Epoch: 294 Iteration: 28000. Train_MSE: 0.00046672241296619177. Test_MSE: 0.0007279484998434782\n",
      "Epoch: 295 Iteration: 28100. Train_MSE: 0.00045107080950401723. Test_MSE: 0.0007276756223291159\n",
      "Epoch: 296 Iteration: 28200. Train_MSE: 0.0002781513030640781. Test_MSE: 0.0007273821393027902\n",
      "Epoch: 297 Iteration: 28300. Train_MSE: 0.00024732519523240626. Test_MSE: 0.0007271076901815832\n",
      "Epoch: 298 Iteration: 28400. Train_MSE: 0.00015490078658331186. Test_MSE: 0.0007268557674251497\n",
      "Epoch: 299 Iteration: 28500. Train_MSE: 0.00019547589181456715. Test_MSE: 0.0007265973836183548\n",
      "Epoch: 301 Iteration: 28600. Train_MSE: 0.0001713466044748202. Test_MSE: 0.0007263392908498645\n",
      "Epoch: 302 Iteration: 28700. Train_MSE: 0.00035088000004179776. Test_MSE: 0.0007260735146701336\n",
      "Epoch: 303 Iteration: 28800. Train_MSE: 0.00025208143051713705. Test_MSE: 0.0007258474943228066\n",
      "Epoch: 304 Iteration: 28900. Train_MSE: 0.0011224629124626517. Test_MSE: 0.0007255866075865924\n",
      "Epoch: 305 Iteration: 29000. Train_MSE: 0.0007389389211311936. Test_MSE: 0.0007252884097397327\n",
      "Epoch: 306 Iteration: 29100. Train_MSE: 0.009795953519642353. Test_MSE: 0.0007250051130540669\n",
      "Epoch: 307 Iteration: 29200. Train_MSE: 0.0027556088753044605. Test_MSE: 0.0007247461471706629\n",
      "Epoch: 308 Iteration: 29300. Train_MSE: 0.0006736713112331927. Test_MSE: 0.0007244882290251553\n",
      "Epoch: 309 Iteration: 29400. Train_MSE: 0.0001234496885444969. Test_MSE: 0.0007242388091981411\n",
      "Epoch: 310 Iteration: 29500. Train_MSE: 9.921597666107118e-05. Test_MSE: 0.0007239877013489604\n",
      "Epoch: 311 Iteration: 29600. Train_MSE: 0.0001058354537235573. Test_MSE: 0.0007237390382215381\n",
      "Epoch: 312 Iteration: 29700. Train_MSE: 0.00022698772954754531. Test_MSE: 0.0007235002121888101\n",
      "Epoch: 313 Iteration: 29800. Train_MSE: 0.005055833607912064. Test_MSE: 0.0007232440984807909\n",
      "Epoch: 314 Iteration: 29900. Train_MSE: 0.00046096876030787826. Test_MSE: 0.0007229732000268996\n",
      "Epoch: 315 Iteration: 30000. Train_MSE: 0.00044607254676520824. Test_MSE: 0.0007227151654660702\n",
      "Epoch: 316 Iteration: 30100. Train_MSE: 0.0002742748474702239. Test_MSE: 0.0007224365253932774\n",
      "Epoch: 317 Iteration: 30200. Train_MSE: 0.0002380987862125039. Test_MSE: 0.0007221722044050694\n",
      "Epoch: 318 Iteration: 30300. Train_MSE: 0.00015066569903865457. Test_MSE: 0.0007219325634650886\n",
      "Epoch: 319 Iteration: 30400. Train_MSE: 0.00019114738097414374. Test_MSE: 0.000721686112228781\n",
      "Epoch: 321 Iteration: 30500. Train_MSE: 0.00016903439245652407. Test_MSE: 0.0007214397774077952\n",
      "Epoch: 322 Iteration: 30600. Train_MSE: 0.0003375773085281253. Test_MSE: 0.0007211870397441089\n",
      "Epoch: 323 Iteration: 30700. Train_MSE: 0.00024508475326001644. Test_MSE: 0.0007209712639451027\n",
      "Epoch: 324 Iteration: 30800. Train_MSE: 0.0011190116638317704. Test_MSE: 0.0007207215530797839\n",
      "Epoch: 325 Iteration: 30900. Train_MSE: 0.0007365496712736785. Test_MSE: 0.0007204390713013709\n",
      "Epoch: 326 Iteration: 31000. Train_MSE: 0.00978524424135685. Test_MSE: 0.0007201701519079506\n",
      "Epoch: 327 Iteration: 31100. Train_MSE: 0.002752882894128561. Test_MSE: 0.000719924399163574\n",
      "Epoch: 328 Iteration: 31200. Train_MSE: 0.0006664480315521359. Test_MSE: 0.0007196790538728237\n",
      "Epoch: 329 Iteration: 31300. Train_MSE: 0.00011823824024759233. Test_MSE: 0.0007194428471848369\n",
      "Epoch: 330 Iteration: 31400. Train_MSE: 9.604670776752755e-05. Test_MSE: 0.0007192064076662064\n",
      "Epoch: 331 Iteration: 31500. Train_MSE: 0.00010251247294945642. Test_MSE: 0.0007189721800386906\n",
      "Epoch: 332 Iteration: 31600. Train_MSE: 0.0002209466474596411. Test_MSE: 0.0007187469745986164\n",
      "Epoch: 333 Iteration: 31700. Train_MSE: 0.005055366083979607. Test_MSE: 0.0007185048889368773\n",
      "Epoch: 334 Iteration: 31800. Train_MSE: 0.00045578618301078677. Test_MSE: 0.0007182473782449961\n",
      "Epoch: 335 Iteration: 31900. Train_MSE: 0.0004418989410623908. Test_MSE: 0.0007180050597526133\n",
      "Epoch: 336 Iteration: 32000. Train_MSE: 0.00027087319176644087. Test_MSE: 0.0007177427760325372\n",
      "Epoch: 337 Iteration: 32100. Train_MSE: 0.0002300400665262714. Test_MSE: 0.000717493356205523\n",
      "Epoch: 338 Iteration: 32200. Train_MSE: 0.00014677358558401465. Test_MSE: 0.0007172683253884315\n",
      "Epoch: 339 Iteration: 32300. Train_MSE: 0.00018720794469118118. Test_MSE: 0.0007170360186137259\n",
      "Epoch: 341 Iteration: 32400. Train_MSE: 0.00016714056255295873. Test_MSE: 0.0007168033043853939\n",
      "Epoch: 342 Iteration: 32500. Train_MSE: 0.00032539936364628375. Test_MSE: 0.0007165654096752405\n",
      "Epoch: 343 Iteration: 32600. Train_MSE: 0.00023826389224268496. Test_MSE: 0.0007163629052229226\n",
      "Epoch: 344 Iteration: 32700. Train_MSE: 0.0011158054694533348. Test_MSE: 0.0007161256507970393\n",
      "Epoch: 345 Iteration: 32800. Train_MSE: 0.0007340190350078046. Test_MSE: 0.0007158579537644982\n",
      "Epoch: 346 Iteration: 32900. Train_MSE: 0.009774942882359028. Test_MSE: 0.0007156024221330881\n",
      "Epoch: 347 Iteration: 33000. Train_MSE: 0.0027498421259224415. Test_MSE: 0.0007153688347898424\n",
      "Epoch: 348 Iteration: 33100. Train_MSE: 0.0006598483305424452. Test_MSE: 0.000715135654900223\n",
      "Epoch: 349 Iteration: 33200. Train_MSE: 0.000113858055556193. Test_MSE: 0.0007149119046516716\n",
      "Epoch: 350 Iteration: 33300. Train_MSE: 9.335103095509112e-05. Test_MSE: 0.0007146866992115974\n",
      "Epoch: 351 Iteration: 33400. Train_MSE: 9.954425331670791e-05. Test_MSE: 0.0007144635892473161\n",
      "Epoch: 352 Iteration: 33500. Train_MSE: 0.00021541675960179418. Test_MSE: 0.0007142495596781373\n",
      "Epoch: 353 Iteration: 33600. Train_MSE: 0.005054542329162359. Test_MSE: 0.0007140182424336672\n",
      "Epoch: 354 Iteration: 33700. Train_MSE: 0.0004509850114118308. Test_MSE: 0.0007137707434594631\n",
      "Epoch: 355 Iteration: 33800. Train_MSE: 0.00043819882557727396. Test_MSE: 0.0007135398336686194\n",
      "Epoch: 356 Iteration: 33900. Train_MSE: 0.00026776091544888914. Test_MSE: 0.0007132890168577433\n",
      "Epoch: 357 Iteration: 34000. Train_MSE: 0.00022260718105826527. Test_MSE: 0.000713049725163728\n",
      "Epoch: 358 Iteration: 34100. Train_MSE: 0.00014328924589790404. Test_MSE: 0.0007128348806872964\n",
      "Epoch: 359 Iteration: 34200. Train_MSE: 0.00018338153313379735. Test_MSE: 0.0007126127602532506\n",
      "Epoch: 361 Iteration: 34300. Train_MSE: 0.0001651978527661413. Test_MSE: 0.0007123893592506647\n",
      "Epoch: 362 Iteration: 34400. Train_MSE: 0.00031430204398930073. Test_MSE: 0.0007121618837118149\n",
      "Epoch: 363 Iteration: 34500. Train_MSE: 0.00023176296963356435. Test_MSE: 0.0007119688089005649\n",
      "Epoch: 364 Iteration: 34600. Train_MSE: 0.001112675410695374. Test_MSE: 0.0007117405184544623\n",
      "Epoch: 365 Iteration: 34700. Train_MSE: 0.0007314448012039065. Test_MSE: 0.0007114837062545121\n",
      "Epoch: 366 Iteration: 34800. Train_MSE: 0.009764821268618107. Test_MSE: 0.0007112383027561009\n",
      "Epoch: 367 Iteration: 34900. Train_MSE: 0.0027465051971375942. Test_MSE: 0.0007110141450539231\n",
      "Epoch: 368 Iteration: 35000. Train_MSE: 0.0006537086446769536. Test_MSE: 0.0007107914425432682\n"
     ]
    },
    {
     "name": "stdout",
     "output_type": "stream",
     "text": [
      "Epoch: 369 Iteration: 35100. Train_MSE: 0.00011012948380084708. Test_MSE: 0.0007105788099579513\n",
      "Epoch: 370 Iteration: 35200. Train_MSE: 9.102088370127603e-05. Test_MSE: 0.0007103634416125715\n",
      "Epoch: 371 Iteration: 35300. Train_MSE: 9.68578751781024e-05. Test_MSE: 0.0007101506926119328\n",
      "Epoch: 372 Iteration: 35400. Train_MSE: 0.0002103388833347708. Test_MSE: 0.0007099470240063965\n",
      "Epoch: 373 Iteration: 35500. Train_MSE: 0.005053441505879164. Test_MSE: 0.000709726067725569\n",
      "Epoch: 374 Iteration: 35600. Train_MSE: 0.00044647775939665735. Test_MSE: 0.0007094877655617893\n",
      "Epoch: 375 Iteration: 35700. Train_MSE: 0.0004348660004325211. Test_MSE: 0.0007092677406035364\n",
      "Epoch: 376 Iteration: 35800. Train_MSE: 0.0002648313529789448. Test_MSE: 0.0007090286817401648\n",
      "Epoch: 377 Iteration: 35900. Train_MSE: 0.00021574206766672432. Test_MSE: 0.0007088001584634185\n",
      "Epoch: 378 Iteration: 36000. Train_MSE: 0.00014007072604727. Test_MSE: 0.0007085956749506295\n",
      "Epoch: 379 Iteration: 36100. Train_MSE: 0.0001796148717403412. Test_MSE: 0.0007083836244419217\n",
      "Epoch: 381 Iteration: 36200. Train_MSE: 0.00016330670041497797. Test_MSE: 0.0007081695948727429\n",
      "Epoch: 382 Iteration: 36300. Train_MSE: 0.000304137181956321. Test_MSE: 0.0007079524220898747\n",
      "Epoch: 383 Iteration: 36400. Train_MSE: 0.00022558167984243482. Test_MSE: 0.00070776860229671\n",
      "Epoch: 384 Iteration: 36500. Train_MSE: 0.0011097090318799019. Test_MSE: 0.0007075488683767617\n",
      "Epoch: 385 Iteration: 36600. Train_MSE: 0.0007288995548151433. Test_MSE: 0.0007073021843098104\n",
      "Epoch: 386 Iteration: 36700. Train_MSE: 0.009754765778779984. Test_MSE: 0.0007070665014907718\n",
      "Epoch: 387 Iteration: 36800. Train_MSE: 0.002742951503023505. Test_MSE: 0.0007068513077683747\n",
      "Epoch: 388 Iteration: 36900. Train_MSE: 0.0006481052841991186. Test_MSE: 0.0007066369289532304\n",
      "Epoch: 389 Iteration: 37000. Train_MSE: 0.00010692092473618686. Test_MSE: 0.0007064328528940678\n",
      "Epoch: 390 Iteration: 37100. Train_MSE: 8.897345833247527e-05. Test_MSE: 0.0007062249351292849\n",
      "Epoch: 391 Iteration: 37200. Train_MSE: 9.438283450435847e-05. Test_MSE: 0.0007060196367092431\n",
      "Epoch: 392 Iteration: 37300. Train_MSE: 0.000205644202651456. Test_MSE: 0.0007058236515149474\n",
      "Epoch: 393 Iteration: 37400. Train_MSE: 0.005052000749856234. Test_MSE: 0.0007056103204376996\n",
      "Epoch: 394 Iteration: 37500. Train_MSE: 0.0004422362253535539. Test_MSE: 0.0007053787121549249\n",
      "Epoch: 395 Iteration: 37600. Train_MSE: 0.00043185774120502174. Test_MSE: 0.0007051666616462171\n",
      "Epoch: 396 Iteration: 37700. Train_MSE: 0.0002621122694108635. Test_MSE: 0.0007049357518553734\n",
      "Epoch: 397 Iteration: 37800. Train_MSE: 0.00020938181842211634. Test_MSE: 0.0007047146209515631\n",
      "Epoch: 398 Iteration: 37900. Train_MSE: 0.00013708618644159287. Test_MSE: 0.0007045178208500147\n",
      "Epoch: 399 Iteration: 38000. Train_MSE: 0.0001757150748744607. Test_MSE: 0.0007043130462989211\n",
      "Epoch: 401 Iteration: 38100. Train_MSE: 0.00016121758380904794. Test_MSE: 0.0007041061180643737\n",
      "Epoch: 402 Iteration: 38200. Train_MSE: 0.000294785073492676. Test_MSE: 0.0007038968615233898\n",
      "Epoch: 403 Iteration: 38300. Train_MSE: 0.00021965723135508597. Test_MSE: 0.000703719793818891\n",
      "Epoch: 404 Iteration: 38400. Train_MSE: 0.0011068192543461919. Test_MSE: 0.0007035067537799478\n",
      "Epoch: 405 Iteration: 38500. Train_MSE: 0.0007262060535140336. Test_MSE: 0.0007032683352008462\n",
      "Epoch: 406 Iteration: 38600. Train_MSE: 0.009744723327457905. Test_MSE: 0.0007030405104160309\n",
      "Epoch: 407 Iteration: 38700. Train_MSE: 0.0027392334304749966. Test_MSE: 0.0007028329418972135\n",
      "Epoch: 408 Iteration: 38800. Train_MSE: 0.000642819912172854. Test_MSE: 0.0007026270031929016\n",
      "Epoch: 409 Iteration: 38900. Train_MSE: 0.00010413411655463278. Test_MSE: 0.0007024315418675542\n",
      "Epoch: 410 Iteration: 39000. Train_MSE: 8.71306037879549e-05. Test_MSE: 0.0007022317149676383\n",
      "Epoch: 411 Iteration: 39100. Train_MSE: 9.202711225952953e-05. Test_MSE: 0.0007020344492048025\n",
      "Epoch: 412 Iteration: 39200. Train_MSE: 0.00020124689035583287. Test_MSE: 0.0007018462056294084\n",
      "Epoch: 413 Iteration: 39300. Train_MSE: 0.005050343926995993. Test_MSE: 0.0007016403833404183\n",
      "Epoch: 414 Iteration: 39400. Train_MSE: 0.00043821640429086983. Test_MSE: 0.0007014154689386487\n",
      "Epoch: 415 Iteration: 39500. Train_MSE: 0.00042905620648525655. Test_MSE: 0.0007012108690105379\n",
      "Epoch: 416 Iteration: 39600. Train_MSE: 0.0002595333498902619. Test_MSE: 0.000700987468007952\n",
      "Epoch: 417 Iteration: 39700. Train_MSE: 0.00020353162835817784. Test_MSE: 0.0007007734384387732\n",
      "Epoch: 418 Iteration: 39800. Train_MSE: 0.00013427282101474702. Test_MSE: 0.0007005840889178216\n",
      "Epoch: 419 Iteration: 39900. Train_MSE: 0.00017172987281810492. Test_MSE: 0.0007003861828707159\n",
      "Epoch: 421 Iteration: 40000. Train_MSE: 0.00015906016051303595. Test_MSE: 0.0007001854246482253\n",
      "Epoch: 422 Iteration: 40100. Train_MSE: 0.0002860993845388293. Test_MSE: 0.0006999834440648556\n",
      "Epoch: 423 Iteration: 40200. Train_MSE: 0.00021392275812104344. Test_MSE: 0.0006998135359026492\n",
      "Epoch: 424 Iteration: 40300. Train_MSE: 0.0011040386743843555. Test_MSE: 0.0006996068987064064\n",
      "Epoch: 425 Iteration: 40400. Train_MSE: 0.0007234821678139269. Test_MSE: 0.0006993752904236317\n",
      "Epoch: 426 Iteration: 40500. Train_MSE: 0.00973481498658657. Test_MSE: 0.0006991535192355514\n",
      "Epoch: 427 Iteration: 40600. Train_MSE: 0.002735468093305826. Test_MSE: 0.0006989517714828253\n",
      "Epoch: 428 Iteration: 40700. Train_MSE: 0.0006379475235007703. Test_MSE: 0.000698752177413553\n",
      "Epoch: 429 Iteration: 40800. Train_MSE: 0.00010161152749788016. Test_MSE: 0.0006985635845921934\n",
      "Epoch: 430 Iteration: 40900. Train_MSE: 8.54619502206333e-05. Test_MSE: 0.000698369462043047\n",
      "Epoch: 431 Iteration: 41000. Train_MSE: 8.984828309621662e-05. Test_MSE: 0.000698178424499929\n",
      "Epoch: 432 Iteration: 41100. Train_MSE: 0.00019713034271262586. Test_MSE: 0.000697996758390218\n",
      "Epoch: 433 Iteration: 41200. Train_MSE: 0.005048523657023907. Test_MSE: 0.0006977974553592503\n",
      "Epoch: 434 Iteration: 41300. Train_MSE: 0.0004343878827057779. Test_MSE: 0.0006975788855925202\n",
      "Epoch: 435 Iteration: 41400. Train_MSE: 0.00042637460865080357. Test_MSE: 0.0006973814452067018\n",
      "Epoch: 436 Iteration: 41500. Train_MSE: 0.0002571313816588372. Test_MSE: 0.0006971656112000346\n",
      "Epoch: 437 Iteration: 41600. Train_MSE: 0.00019817482098005712. Test_MSE: 0.0006969587411731482\n",
      "Epoch: 438 Iteration: 41700. Train_MSE: 0.0001316140842391178. Test_MSE: 0.0006967766676098108\n",
      "Epoch: 439 Iteration: 41800. Train_MSE: 0.00016792526002973318. Test_MSE: 0.0006965859793126583\n",
      "Epoch: 441 Iteration: 41900. Train_MSE: 0.00015688093844801188. Test_MSE: 0.0006963921478018165\n",
      "Epoch: 442 Iteration: 42000. Train_MSE: 0.0002780024951789528. Test_MSE: 0.0006961979088373482\n",
      "Epoch: 443 Iteration: 42100. Train_MSE: 0.0002084567240672186. Test_MSE: 0.0006960355094633996\n",
      "Epoch: 444 Iteration: 42200. Train_MSE: 0.0011013722978532314. Test_MSE: 0.0006958359736017883\n",
      "Epoch: 445 Iteration: 42300. Train_MSE: 0.0007208080496639013. Test_MSE: 0.0006956123397685587\n",
      "Epoch: 446 Iteration: 42400. Train_MSE: 0.009724975563585758. Test_MSE: 0.0006953983101993799\n",
      "Epoch: 447 Iteration: 42500. Train_MSE: 0.0027316727209836245. Test_MSE: 0.0006952038966119289\n",
      "Epoch: 448 Iteration: 42600. Train_MSE: 0.0006334513309411705. Test_MSE: 0.0006950118113309145\n",
      "Epoch: 449 Iteration: 42700. Train_MSE: 9.9320022854954e-05. Test_MSE: 0.0006948308437131345\n",
      "Epoch: 450 Iteration: 42800. Train_MSE: 8.388077549170703e-05. Test_MSE: 0.0006946448120288551\n",
      "Epoch: 451 Iteration: 42900. Train_MSE: 8.772326691541821e-05. Test_MSE: 0.0006944620399735868\n",
      "Epoch: 452 Iteration: 43000. Train_MSE: 0.00019329963834024966. Test_MSE: 0.0006942889303900301\n",
      "Epoch: 453 Iteration: 43100. Train_MSE: 0.005046649370342493. Test_MSE: 0.0006940982420928776\n",
      "Epoch: 454 Iteration: 43200. Train_MSE: 0.0004306713817641139. Test_MSE: 0.0006938877049833536\n",
      "Epoch: 455 Iteration: 43300. Train_MSE: 0.00042389429290778935. Test_MSE: 0.0006936992867849767\n",
      "Epoch: 456 Iteration: 43400. Train_MSE: 0.0002549560449551791. Test_MSE: 0.000693493930157274\n",
      "Epoch: 457 Iteration: 43500. Train_MSE: 0.0001932247105287388. Test_MSE: 0.0006932966061867774\n",
      "Epoch: 458 Iteration: 43600. Train_MSE: 0.0001291607622988522. Test_MSE: 0.0006931236130185425\n",
      "Epoch: 459 Iteration: 43700. Train_MSE: 0.00016426075308118016. Test_MSE: 0.0006929413648322225\n"
     ]
    },
    {
     "name": "stdout",
     "output_type": "stream",
     "text": [
      "Epoch: 461 Iteration: 43800. Train_MSE: 0.0001545988052384928. Test_MSE: 0.0006927559152245522\n",
      "Epoch: 462 Iteration: 43900. Train_MSE: 0.0002703844802454114. Test_MSE: 0.0006925704074092209\n",
      "Epoch: 463 Iteration: 44000. Train_MSE: 0.0002032625925494358. Test_MSE: 0.0006924162153154612\n",
      "Epoch: 464 Iteration: 44100. Train_MSE: 0.0010986983543261886. Test_MSE: 0.0006922247703187168\n",
      "Epoch: 465 Iteration: 44200. Train_MSE: 0.0007182139670476317. Test_MSE: 0.0006920103332959116\n",
      "Epoch: 466 Iteration: 44300. Train_MSE: 0.009715414606034756. Test_MSE: 0.0006918054423294961\n",
      "Epoch: 467 Iteration: 44400. Train_MSE: 0.0027279744390398264. Test_MSE: 0.0006916198180988431\n",
      "Epoch: 468 Iteration: 44500. Train_MSE: 0.0006292675388976932. Test_MSE: 0.0006914368132129312\n",
      "Epoch: 469 Iteration: 44600. Train_MSE: 9.723983384901658e-05. Test_MSE: 0.0006912645767442882\n",
      "Epoch: 470 Iteration: 44700. Train_MSE: 8.240318129537627e-05. Test_MSE: 0.000691085762809962\n",
      "Epoch: 471 Iteration: 44800. Train_MSE: 8.571112266508862e-05. Test_MSE: 0.0006909100920893252\n",
      "Epoch: 472 Iteration: 44900. Train_MSE: 0.00018966797506436706. Test_MSE: 0.0006907441420480609\n",
      "Epoch: 473 Iteration: 45000. Train_MSE: 0.0050448463298380375. Test_MSE: 0.0006905602640472353\n",
      "Epoch: 474 Iteration: 45100. Train_MSE: 0.00042706954991444945. Test_MSE: 0.0006903563626110554\n",
      "Epoch: 475 Iteration: 45200. Train_MSE: 0.000421610806370154. Test_MSE: 0.0006901752203702927\n",
      "Epoch: 476 Iteration: 45300. Train_MSE: 0.0002529216289985925. Test_MSE: 0.0006899770814925432\n",
      "Epoch: 477 Iteration: 45400. Train_MSE: 0.00018863115110434592. Test_MSE: 0.0006897863931953907\n",
      "Epoch: 478 Iteration: 45500. Train_MSE: 0.00012682570377364755. Test_MSE: 0.0006896202685311437\n",
      "Epoch: 479 Iteration: 45600. Train_MSE: 0.00016075398889370263. Test_MSE: 0.0006894450052641332\n",
      "Epoch: 481 Iteration: 45700. Train_MSE: 0.00015234151214826852. Test_MSE: 0.000689266191329807\n",
      "Epoch: 482 Iteration: 45800. Train_MSE: 0.00026322982739657164. Test_MSE: 0.0006890880758874118\n",
      "Epoch: 483 Iteration: 45900. Train_MSE: 0.0001983045949600637. Test_MSE: 0.0006889404612593353\n",
      "Epoch: 484 Iteration: 46000. Train_MSE: 0.0010959240607917309. Test_MSE: 0.0006887555937282741\n",
      "Epoch: 485 Iteration: 46100. Train_MSE: 0.0007156974170356989. Test_MSE: 0.0006885481998324394\n",
      "Epoch: 486 Iteration: 46200. Train_MSE: 0.009706095792353153. Test_MSE: 0.0006883502937853336\n",
      "Epoch: 487 Iteration: 46300. Train_MSE: 0.0027243131771683693. Test_MSE: 0.0006881709559820592\n",
      "Epoch: 488 Iteration: 46400. Train_MSE: 0.000625385029707104. Test_MSE: 0.0006879948196001351\n",
      "Epoch: 489 Iteration: 46500. Train_MSE: 9.531326941214502e-05. Test_MSE: 0.0006878294516354799\n",
      "Epoch: 490 Iteration: 46600. Train_MSE: 8.100933337118477e-05. Test_MSE: 0.0006876571569591761\n",
      "Epoch: 491 Iteration: 46700. Train_MSE: 8.382491796510294e-05. Test_MSE: 0.000687488354742527\n",
      "Epoch: 492 Iteration: 46800. Train_MSE: 0.00018623503274284303. Test_MSE: 0.0006873290985822678\n",
      "Epoch: 493 Iteration: 46900. Train_MSE: 0.0050429655238986015. Test_MSE: 0.0006871519144624472\n",
      "Epoch: 494 Iteration: 47000. Train_MSE: 0.0004236313980072737. Test_MSE: 0.0006869546486996114\n",
      "Epoch: 495 Iteration: 47100. Train_MSE: 0.00041945575503632426. Test_MSE: 0.0006867804913781583\n",
      "Epoch: 496 Iteration: 47200. Train_MSE: 0.0002510276099201292. Test_MSE: 0.000686590326949954\n",
      "Epoch: 497 Iteration: 47300. Train_MSE: 0.00018435769015923142. Test_MSE: 0.0006864069146104157\n",
      "Epoch: 498 Iteration: 47400. Train_MSE: 0.00012458954006433487. Test_MSE: 0.0006862474838271737\n",
      "Epoch: 499 Iteration: 47500. Train_MSE: 0.0001573955814819783. Test_MSE: 0.0006860786816105247\n",
      "Epoch: 501 Iteration: 47600. Train_MSE: 0.00015009738854132593. Test_MSE: 0.0006859059794805944\n",
      "Epoch: 502 Iteration: 47700. Train_MSE: 0.000256432598689571. Test_MSE: 0.0006857346161268651\n",
      "Epoch: 503 Iteration: 47800. Train_MSE: 0.00019358639838173985. Test_MSE: 0.0006855931133031845\n",
      "Epoch: 504 Iteration: 47900. Train_MSE: 0.001093217870220542. Test_MSE: 0.0006854142411611974\n",
      "Epoch: 505 Iteration: 48000. Train_MSE: 0.0007132478640414774. Test_MSE: 0.0006852139485999942\n",
      "Epoch: 506 Iteration: 48100. Train_MSE: 0.009696989320218563. Test_MSE: 0.0006850229110568762\n",
      "Epoch: 507 Iteration: 48200. Train_MSE: 0.0027207080274820328. Test_MSE: 0.0006848500343039632\n",
      "Epoch: 508 Iteration: 48300. Train_MSE: 0.0006217350019142032. Test_MSE: 0.0006846801843494177\n",
      "Epoch: 509 Iteration: 48400. Train_MSE: 9.353058703709394e-05. Test_MSE: 0.0006845209863968194\n",
      "Epoch: 510 Iteration: 48500. Train_MSE: 7.961393566802144e-05. Test_MSE: 0.0006843547453172505\n",
      "Epoch: 511 Iteration: 48600. Train_MSE: 8.202135359169915e-05. Test_MSE: 0.0006841919384896755\n",
      "Epoch: 512 Iteration: 48700. Train_MSE: 0.00018292902677785605. Test_MSE: 0.0006840385030955076\n",
      "Epoch: 513 Iteration: 48800. Train_MSE: 0.005040986463427544. Test_MSE: 0.000683867372572422\n",
      "Epoch: 514 Iteration: 48900. Train_MSE: 0.00042036359081976116. Test_MSE: 0.0006836758693680167\n",
      "Epoch: 515 Iteration: 49000. Train_MSE: 0.00041743647307157516. Test_MSE: 0.0006835078238509595\n",
      "Epoch: 516 Iteration: 49100. Train_MSE: 0.0002492045168764889. Test_MSE: 0.000683323887642473\n",
      "Epoch: 517 Iteration: 49200. Train_MSE: 0.00018032225489150733. Test_MSE: 0.0006831465871073306\n",
      "Epoch: 518 Iteration: 49300. Train_MSE: 0.00012245816469658166. Test_MSE: 0.0006829933845438063\n",
      "Epoch: 519 Iteration: 49400. Train_MSE: 0.00015417906979564577. Test_MSE: 0.000682830810546875\n",
      "Epoch: 521 Iteration: 49500. Train_MSE: 0.000147680111695081. Test_MSE: 0.0006826643366366625\n",
      "Epoch: 522 Iteration: 49600. Train_MSE: 0.0002500085101928562. Test_MSE: 0.000682499201502651\n",
      "Epoch: 523 Iteration: 49700. Train_MSE: 0.00018906757759395987. Test_MSE: 0.0006823635194450617\n",
      "Epoch: 524 Iteration: 49800. Train_MSE: 0.0010906215757131577. Test_MSE: 0.0006821902934461832\n",
      "Epoch: 525 Iteration: 49900. Train_MSE: 0.0007108590216375887. Test_MSE: 0.0006819963455200195\n",
      "Epoch: 526 Iteration: 50000. Train_MSE: 0.009687972255051136. Test_MSE: 0.000681811710819602\n",
      "Epoch: 527 Iteration: 50100. Train_MSE: 0.002717100316658616. Test_MSE: 0.0006816448294557631\n",
      "Epoch: 528 Iteration: 50200. Train_MSE: 0.0006183043587952852. Test_MSE: 0.0006814810913056135\n",
      "Epoch: 529 Iteration: 50300. Train_MSE: 9.192567085847259e-05. Test_MSE: 0.0006813277723267674\n",
      "Epoch: 530 Iteration: 50400. Train_MSE: 7.82986098784022e-05. Test_MSE: 0.0006811672355979681\n",
      "Epoch: 531 Iteration: 50500. Train_MSE: 8.028965385165066e-05. Test_MSE: 0.0006810101331211627\n",
      "Epoch: 532 Iteration: 50600. Train_MSE: 0.00017972385103348643. Test_MSE: 0.000680862576700747\n",
      "Epoch: 533 Iteration: 50700. Train_MSE: 0.0050390190444886684. Test_MSE: 0.0006806971505284309\n",
      "Epoch: 534 Iteration: 50800. Train_MSE: 0.00041726339259184897. Test_MSE: 0.0006805112352594733\n",
      "Epoch: 535 Iteration: 50900. Train_MSE: 0.00041551858885213733. Test_MSE: 0.0006803491851314902\n",
      "Epoch: 536 Iteration: 51000. Train_MSE: 0.0002474594220984727. Test_MSE: 0.000680171768181026\n",
      "Epoch: 537 Iteration: 51100. Train_MSE: 0.00017652084352448583. Test_MSE: 0.0006800005212426186\n",
      "Epoch: 538 Iteration: 51200. Train_MSE: 0.00012041759327985346. Test_MSE: 0.0006798530812375247\n",
      "Epoch: 539 Iteration: 51300. Train_MSE: 0.0001510882721049711. Test_MSE: 0.0006796963862143457\n",
      "Epoch: 541 Iteration: 51400. Train_MSE: 0.0001451015123166144. Test_MSE: 0.0006795353256165981\n",
      "Epoch: 542 Iteration: 51500. Train_MSE: 0.00024397013476118445. Test_MSE: 0.0006793761858716607\n",
      "Epoch: 543 Iteration: 51600. Train_MSE: 0.00018473614181857556. Test_MSE: 0.0006792459753341973\n",
      "Epoch: 544 Iteration: 51700. Train_MSE: 0.0010881231864914298. Test_MSE: 0.0006790782790631056\n",
      "Epoch: 545 Iteration: 51800. Train_MSE: 0.0007085312972776592. Test_MSE: 0.0006788902101106942\n",
      "Epoch: 546 Iteration: 51900. Train_MSE: 0.009679180569946766. Test_MSE: 0.0006787115707993507\n",
      "Epoch: 547 Iteration: 52000. Train_MSE: 0.0027134695556014776. Test_MSE: 0.0006785496370866895\n",
      "Epoch: 548 Iteration: 52100. Train_MSE: 0.0006150978151708841. Test_MSE: 0.0006783914868719876\n",
      "Epoch: 549 Iteration: 52200. Train_MSE: 9.04287735465914e-05. Test_MSE: 0.0006782435812056065\n",
      "Epoch: 550 Iteration: 52300. Train_MSE: 7.706091128056869e-05. Test_MSE: 0.0006780879921279848\n",
      "Epoch: 551 Iteration: 52400. Train_MSE: 7.864309736760333e-05. Test_MSE: 0.0006779359537176788\n"
     ]
    },
    {
     "name": "stdout",
     "output_type": "stream",
     "text": [
      "Epoch: 552 Iteration: 52500. Train_MSE: 0.00017667053907644004. Test_MSE: 0.000677793228533119\n",
      "Epoch: 553 Iteration: 52600. Train_MSE: 0.005037065129727125. Test_MSE: 0.0006776329246349633\n",
      "Epoch: 554 Iteration: 52700. Train_MSE: 0.00041427568066865206. Test_MSE: 0.0006774517241865396\n",
      "Epoch: 555 Iteration: 52800. Train_MSE: 0.0004136764910072088. Test_MSE: 0.0006772944470867515\n",
      "Epoch: 556 Iteration: 52900. Train_MSE: 0.0002457935188431293. Test_MSE: 0.0006771222106181085\n",
      "Epoch: 557 Iteration: 53000. Train_MSE: 0.00017290317919105291. Test_MSE: 0.0006769562023691833\n",
      "Epoch: 558 Iteration: 53100. Train_MSE: 0.0001184601424029097. Test_MSE: 0.0006768137100152671\n",
      "Epoch: 559 Iteration: 53200. Train_MSE: 0.00014809893036726862. Test_MSE: 0.0006766620790585876\n",
      "Epoch: 561 Iteration: 53300. Train_MSE: 0.0001425700611434877. Test_MSE: 0.0006765059661120176\n",
      "Epoch: 562 Iteration: 53400. Train_MSE: 0.00023826291726436466. Test_MSE: 0.0006763517740182579\n",
      "Epoch: 563 Iteration: 53500. Train_MSE: 0.00018056563567370176. Test_MSE: 0.0006762263947166502\n",
      "Epoch: 564 Iteration: 53600. Train_MSE: 0.0010857133893296123. Test_MSE: 0.0006760637043043971\n",
      "Epoch: 565 Iteration: 53700. Train_MSE: 0.0007062479271553457. Test_MSE: 0.0006758809904567897\n",
      "Epoch: 566 Iteration: 53800. Train_MSE: 0.009670648723840714. Test_MSE: 0.0006757075898349285\n",
      "Epoch: 567 Iteration: 53900. Train_MSE: 0.0027099046856164932. Test_MSE: 0.000675551185850054\n",
      "Epoch: 568 Iteration: 54000. Train_MSE: 0.0006120553589425981. Test_MSE: 0.0006753986235707998\n",
      "Epoch: 569 Iteration: 54100. Train_MSE: 8.903510024538264e-05. Test_MSE: 0.0006752561894245446\n",
      "Epoch: 570 Iteration: 54200. Train_MSE: 7.589707820443437e-05. Test_MSE: 0.0006751060136593878\n",
      "Epoch: 571 Iteration: 54300. Train_MSE: 7.708045450272039e-05. Test_MSE: 0.0006749597960151732\n",
      "Epoch: 572 Iteration: 54400. Train_MSE: 0.00017374154413118958. Test_MSE: 0.0006748228333890438\n",
      "Epoch: 573 Iteration: 54500. Train_MSE: 0.005035174544900656. Test_MSE: 0.0006746682920493186\n",
      "Epoch: 574 Iteration: 54600. Train_MSE: 0.000411452550906688. Test_MSE: 0.0006744930287823081\n",
      "Epoch: 575 Iteration: 54700. Train_MSE: 0.00041193270590156317. Test_MSE: 0.0006743419799022377\n",
      "Epoch: 576 Iteration: 54800. Train_MSE: 0.0002442275872454047. Test_MSE: 0.0006741760298609734\n",
      "Epoch: 577 Iteration: 54900. Train_MSE: 0.0001694828097242862. Test_MSE: 0.0006740163080394268\n",
      "Epoch: 578 Iteration: 55000. Train_MSE: 0.00011654778063530102. Test_MSE: 0.0006738799274899065\n",
      "Epoch: 579 Iteration: 55100. Train_MSE: 0.00014521167031489313. Test_MSE: 0.0006737339426763356\n",
      "Epoch: 581 Iteration: 55200. Train_MSE: 0.00014014997577760369. Test_MSE: 0.0006735834176652133\n",
      "Epoch: 582 Iteration: 55300. Train_MSE: 0.00023284433700609952. Test_MSE: 0.0006734354537911713\n",
      "Epoch: 583 Iteration: 55400. Train_MSE: 0.00017658507567830384. Test_MSE: 0.0006733160698786378\n",
      "Epoch: 584 Iteration: 55500. Train_MSE: 0.001083390205167234. Test_MSE: 0.0006731589674018323\n",
      "Epoch: 585 Iteration: 55600. Train_MSE: 0.0007040667696855962. Test_MSE: 0.0006729824817739427\n",
      "Epoch: 586 Iteration: 55700. Train_MSE: 0.009662335738539696. Test_MSE: 0.0006728153093717992\n",
      "Epoch: 587 Iteration: 55800. Train_MSE: 0.0027064308524131775. Test_MSE: 0.0006726647261530161\n",
      "Epoch: 588 Iteration: 55900. Train_MSE: 0.0006091753602959216. Test_MSE: 0.0006725179846398532\n",
      "Epoch: 589 Iteration: 56000. Train_MSE: 8.772130968281999e-05. Test_MSE: 0.0006723811384290457\n",
      "Epoch: 590 Iteration: 56100. Train_MSE: 7.480845670215786e-05. Test_MSE: 0.0006722366088069975\n",
      "Epoch: 591 Iteration: 56200. Train_MSE: 7.560836820630357e-05. Test_MSE: 0.000672095688059926\n",
      "Epoch: 592 Iteration: 56300. Train_MSE: 0.00017094551003538072. Test_MSE: 0.0006719639059156179\n",
      "Epoch: 593 Iteration: 56400. Train_MSE: 0.005033333785831928. Test_MSE: 0.0006718146614730358\n",
      "Epoch: 594 Iteration: 56500. Train_MSE: 0.00040886111673898995. Test_MSE: 0.0006716444622725248\n",
      "Epoch: 595 Iteration: 56600. Train_MSE: 0.0004102886014152318. Test_MSE: 0.000671498361043632\n",
      "Epoch: 596 Iteration: 56700. Train_MSE: 0.0002427800209261477. Test_MSE: 0.0006713388138450682\n",
      "Epoch: 597 Iteration: 56800. Train_MSE: 0.0001662467111600563. Test_MSE: 0.0006711851456202567\n",
      "Epoch: 598 Iteration: 56900. Train_MSE: 0.00011471157631604001. Test_MSE: 0.000671054411213845\n",
      "Epoch: 599 Iteration: 57000. Train_MSE: 0.00014244331396184862. Test_MSE: 0.000670914479997009\n",
      "Epoch: 601 Iteration: 57100. Train_MSE: 0.00013781596499029547. Test_MSE: 0.0006707696011289954\n",
      "Epoch: 602 Iteration: 57200. Train_MSE: 0.00022773418459109962. Test_MSE: 0.0006706275162287056\n",
      "Epoch: 603 Iteration: 57300. Train_MSE: 0.0001727796479826793. Test_MSE: 0.0006705135456286371\n",
      "Epoch: 604 Iteration: 57400. Train_MSE: 0.0010811802931129932. Test_MSE: 0.0006703618564642966\n",
      "Epoch: 605 Iteration: 57500. Train_MSE: 0.0007019899785518646. Test_MSE: 0.0006701913080178201\n",
      "Epoch: 606 Iteration: 57600. Train_MSE: 0.009654276072978973. Test_MSE: 0.0006700304802507162\n",
      "Epoch: 607 Iteration: 57700. Train_MSE: 0.0027030271012336016. Test_MSE: 0.0006698850193060935\n",
      "Epoch: 608 Iteration: 57800. Train_MSE: 0.0006064627668820322. Test_MSE: 0.0006697438075207174\n",
      "Epoch: 609 Iteration: 57900. Train_MSE: 8.646812057122588e-05. Test_MSE: 0.000669612258207053\n",
      "Epoch: 610 Iteration: 58000. Train_MSE: 7.378449663519859e-05. Test_MSE: 0.0006694727926515043\n",
      "Epoch: 611 Iteration: 58100. Train_MSE: 7.419621397275478e-05. Test_MSE: 0.000669337110593915\n",
      "Epoch: 612 Iteration: 58200. Train_MSE: 0.00016827121726237237. Test_MSE: 0.0006692105089314282\n",
      "Epoch: 613 Iteration: 58300. Train_MSE: 0.0050315274856984615. Test_MSE: 0.0006690666195936501\n",
      "Epoch: 614 Iteration: 58400. Train_MSE: 0.0004062637744937092. Test_MSE: 0.0006689017754979432\n",
      "Epoch: 615 Iteration: 58500. Train_MSE: 0.0004087687411811203. Test_MSE: 0.0006687616696581244\n",
      "Epoch: 616 Iteration: 58600. Train_MSE: 0.00024147909425664693. Test_MSE: 0.0006686074193567038\n",
      "Epoch: 617 Iteration: 58700. Train_MSE: 0.00016319756105076522. Test_MSE: 0.0006684587569907308\n",
      "Epoch: 618 Iteration: 58800. Train_MSE: 0.00011293228453723714. Test_MSE: 0.0006683329120278358\n",
      "Epoch: 619 Iteration: 58900. Train_MSE: 0.00013979454524815083. Test_MSE: 0.000668197637423873\n",
      "Epoch: 621 Iteration: 59000. Train_MSE: 0.0001355512795271352. Test_MSE: 0.0006680575897917151\n",
      "Epoch: 622 Iteration: 59100. Train_MSE: 0.00022289270418696105. Test_MSE: 0.0006679206853732467\n",
      "Epoch: 623 Iteration: 59200. Train_MSE: 0.00016914709703996778. Test_MSE: 0.0006678111967630684\n",
      "Epoch: 624 Iteration: 59300. Train_MSE: 0.0010790996020659804. Test_MSE: 0.0006676639313809574\n",
      "Epoch: 625 Iteration: 59400. Train_MSE: 0.0007000509067438543. Test_MSE: 0.0006674986216239631\n",
      "Epoch: 626 Iteration: 59500. Train_MSE: 0.009646461345255375. Test_MSE: 0.0006673429161310196\n",
      "Epoch: 627 Iteration: 59600. Train_MSE: 0.00269970647059381. Test_MSE: 0.0006672023446299136\n",
      "Epoch: 628 Iteration: 59700. Train_MSE: 0.0006038728752173483. Test_MSE: 0.0006670656148344278\n",
      "Epoch: 629 Iteration: 59800. Train_MSE: 8.52705052238889e-05. Test_MSE: 0.0006669384893029928\n",
      "Epoch: 630 Iteration: 59900. Train_MSE: 7.279922283487394e-05. Test_MSE: 0.0006668030400760472\n",
      "Epoch: 631 Iteration: 60000. Train_MSE: 7.284218008862808e-05. Test_MSE: 0.0006666710833087564\n",
      "Epoch: 632 Iteration: 60100. Train_MSE: 0.0001657100801821798. Test_MSE: 0.0006665480323135853\n",
      "Epoch: 633 Iteration: 60200. Train_MSE: 0.00502976356074214. Test_MSE: 0.0006664077518507838\n",
      "Epoch: 634 Iteration: 60300. Train_MSE: 0.00040379876736551523. Test_MSE: 0.0006662461091764271\n",
      "Epoch: 635 Iteration: 60400. Train_MSE: 0.00040731296758167446. Test_MSE: 0.000666109612211585\n",
      "Epoch: 636 Iteration: 60500. Train_MSE: 0.00024020459386520088. Test_MSE: 0.0006659587961621583\n",
      "Epoch: 637 Iteration: 60600. Train_MSE: 0.000160303883603774. Test_MSE: 0.0006658134516328573\n",
      "Epoch: 638 Iteration: 60700. Train_MSE: 0.00011121491115773097. Test_MSE: 0.0006656910991296172\n",
      "Epoch: 639 Iteration: 60800. Train_MSE: 0.0001372437400277704. Test_MSE: 0.000665559433400631\n",
      "Epoch: 641 Iteration: 60900. Train_MSE: 0.00013333313108887523. Test_MSE: 0.0006654227618128061\n",
      "Epoch: 642 Iteration: 61000. Train_MSE: 0.00021830755576957017. Test_MSE: 0.0006652893498539925\n",
      "Epoch: 643 Iteration: 61100. Train_MSE: 0.00016566824342589825. Test_MSE: 0.0006651832954958081\n"
     ]
    },
    {
     "name": "stdout",
     "output_type": "stream",
     "text": [
      "Epoch: 644 Iteration: 61200. Train_MSE: 0.0010770998196676373. Test_MSE: 0.000665039464365691\n",
      "Epoch: 645 Iteration: 61300. Train_MSE: 0.0006980226025916636. Test_MSE: 0.0006648778216913342\n",
      "Epoch: 646 Iteration: 61400. Train_MSE: 0.009638851508498192. Test_MSE: 0.0006647256668657064\n",
      "Epoch: 647 Iteration: 61500. Train_MSE: 0.0026963907293975353. Test_MSE: 0.0006645885296165943\n",
      "Epoch: 648 Iteration: 61600. Train_MSE: 0.0006014234386384487. Test_MSE: 0.0006644558743573725\n",
      "Epoch: 649 Iteration: 61700. Train_MSE: 8.413449540967122e-05. Test_MSE: 0.0006643327651545405\n",
      "Epoch: 650 Iteration: 61800. Train_MSE: 7.185893628047779e-05. Test_MSE: 0.0006642014486715198\n",
      "Epoch: 651 Iteration: 61900. Train_MSE: 7.153882324928418e-05. Test_MSE: 0.0006640739156864583\n",
      "Epoch: 652 Iteration: 62000. Train_MSE: 0.0001632421772228554. Test_MSE: 0.0006639553466811776\n",
      "Epoch: 653 Iteration: 62100. Train_MSE: 0.005028051324188709. Test_MSE: 0.0006638194900006056\n",
      "Epoch: 654 Iteration: 62200. Train_MSE: 0.00040139301563613117. Test_MSE: 0.0006636622129008174\n",
      "Epoch: 655 Iteration: 62300. Train_MSE: 0.00040589840500615537. Test_MSE: 0.0006635301397182047\n",
      "Epoch: 656 Iteration: 62400. Train_MSE: 0.00023890439479146153. Test_MSE: 0.0006633842131122947\n",
      "Epoch: 657 Iteration: 62500. Train_MSE: 0.0001574865891598165. Test_MSE: 0.0006632436416111887\n",
      "Epoch: 658 Iteration: 62600. Train_MSE: 0.00010957159975077957. Test_MSE: 0.000663125654682517\n",
      "Epoch: 659 Iteration: 62700. Train_MSE: 0.00013476672756951302. Test_MSE: 0.0006629984127357602\n",
      "Epoch: 661 Iteration: 62800. Train_MSE: 0.0001311688538407907. Test_MSE: 0.0006628662231378257\n",
      "Epoch: 662 Iteration: 62900. Train_MSE: 0.00021395724616013467. Test_MSE: 0.000662737525999546\n",
      "Epoch: 663 Iteration: 63000. Train_MSE: 0.00016232460620813072. Test_MSE: 0.0006626357208006084\n",
      "Epoch: 664 Iteration: 63100. Train_MSE: 0.0010751555673778057. Test_MSE: 0.000662496080622077\n",
      "Epoch: 665 Iteration: 63200. Train_MSE: 0.000696005648933351. Test_MSE: 0.0006623387453146279\n",
      "Epoch: 666 Iteration: 63300. Train_MSE: 0.009631460532546043. Test_MSE: 0.0006621907814405859\n",
      "Epoch: 667 Iteration: 63400. Train_MSE: 0.002693112241104245. Test_MSE: 0.0006620579515583813\n",
      "Epoch: 668 Iteration: 63500. Train_MSE: 0.0005991049692966044. Test_MSE: 0.0006619296036660671\n",
      "Epoch: 669 Iteration: 63600. Train_MSE: 8.301297202706337e-05. Test_MSE: 0.0006618104525841773\n",
      "Epoch: 670 Iteration: 63700. Train_MSE: 7.095999171724543e-05. Test_MSE: 0.0006616832688450813\n",
      "Epoch: 671 Iteration: 63800. Train_MSE: 7.022494537523016e-05. Test_MSE: 0.000661559693980962\n",
      "Epoch: 672 Iteration: 63900. Train_MSE: 0.00016090201097540557. Test_MSE: 0.0006614448502659798\n",
      "Epoch: 673 Iteration: 64000. Train_MSE: 0.005026423837989569. Test_MSE: 0.0006613124860450625\n",
      "Epoch: 674 Iteration: 64100. Train_MSE: 0.00039907274185679853. Test_MSE: 0.0006611587014049292\n",
      "Epoch: 675 Iteration: 64200. Train_MSE: 0.000404516322305426. Test_MSE: 0.0006610300624743104\n",
      "Epoch: 676 Iteration: 64300. Train_MSE: 0.0002376366755925119. Test_MSE: 0.0006608876283280551\n",
      "Epoch: 677 Iteration: 64400. Train_MSE: 0.00015473207167815417. Test_MSE: 0.0006607506657019258\n",
      "Epoch: 678 Iteration: 64500. Train_MSE: 0.00010798977746162564. Test_MSE: 0.000660636113025248\n",
      "Epoch: 679 Iteration: 64600. Train_MSE: 0.0001323208853136748. Test_MSE: 0.0006605121889151633\n",
      "Epoch: 681 Iteration: 64700. Train_MSE: 0.00012906035408377647. Test_MSE: 0.0006603830261155963\n",
      "Epoch: 682 Iteration: 64800. Train_MSE: 0.0002098363038385287. Test_MSE: 0.0006602573557756841\n",
      "Epoch: 683 Iteration: 64900. Train_MSE: 0.00015911318769212812. Test_MSE: 0.0006601586937904358\n",
      "Epoch: 684 Iteration: 65000. Train_MSE: 0.0010732825612649322. Test_MSE: 0.0006600214983336627\n",
      "Epoch: 685 Iteration: 65100. Train_MSE: 0.0006938674487173557. Test_MSE: 0.0006598670152015984\n",
      "Epoch: 686 Iteration: 65200. Train_MSE: 0.009624099358916283. Test_MSE: 0.000659722019918263\n",
      "Epoch: 687 Iteration: 65300. Train_MSE: 0.0026898838113993406. Test_MSE: 0.0006595921004191041\n",
      "Epoch: 688 Iteration: 65400. Train_MSE: 0.0005969137419015169. Test_MSE: 0.0006594671285711229\n",
      "Epoch: 689 Iteration: 65500. Train_MSE: 8.192512177629396e-05. Test_MSE: 0.000659351353533566\n",
      "Epoch: 690 Iteration: 65600. Train_MSE: 7.010763511061668e-05. Test_MSE: 0.0006592273130081594\n",
      "Epoch: 691 Iteration: 65700. Train_MSE: 6.898817082401365e-05. Test_MSE: 0.0006591072306036949\n",
      "Epoch: 692 Iteration: 65800. Train_MSE: 0.00015867881302256137. Test_MSE: 0.0006589958211407065\n",
      "Epoch: 693 Iteration: 65900. Train_MSE: 0.005024817772209644. Test_MSE: 0.0006588667747564614\n",
      "Epoch: 694 Iteration: 66000. Train_MSE: 0.0003968569217249751. Test_MSE: 0.0006587164243683219\n",
      "Epoch: 695 Iteration: 66100. Train_MSE: 0.00040329116745851934. Test_MSE: 0.0006585916271433234\n",
      "Epoch: 696 Iteration: 66200. Train_MSE: 0.00023640405561309308. Test_MSE: 0.0006584531511180103\n",
      "Epoch: 697 Iteration: 66300. Train_MSE: 0.00015210323908831924. Test_MSE: 0.0006583197391591966\n",
      "Epoch: 698 Iteration: 66400. Train_MSE: 0.00010646969894878566. Test_MSE: 0.000658209144603461\n",
      "Epoch: 699 Iteration: 66500. Train_MSE: 0.00012996258737985045. Test_MSE: 0.0006580890621989965\n",
      "Epoch: 701 Iteration: 66600. Train_MSE: 0.00012701458763331175. Test_MSE: 0.0006579637411050498\n",
      "Epoch: 702 Iteration: 66700. Train_MSE: 0.00020592304645106196. Test_MSE: 0.0006578424945473671\n",
      "Epoch: 703 Iteration: 66800. Train_MSE: 0.00015603560314048082. Test_MSE: 0.0006577477906830609\n",
      "Epoch: 704 Iteration: 66900. Train_MSE: 0.0010715079260990024. Test_MSE: 0.0006576146115548909\n",
      "Epoch: 705 Iteration: 67000. Train_MSE: 0.0006917773862369359. Test_MSE: 0.0006574647850356996\n",
      "Epoch: 706 Iteration: 67100. Train_MSE: 0.009616886265575886. Test_MSE: 0.0006573240389116108\n",
      "Epoch: 707 Iteration: 67200. Train_MSE: 0.002686732914298773. Test_MSE: 0.0006571983685716987\n",
      "Epoch: 708 Iteration: 67300. Train_MSE: 0.0005948287434875965. Test_MSE: 0.0006570774712599814\n",
      "Epoch: 709 Iteration: 67400. Train_MSE: 8.09052653494291e-05. Test_MSE: 0.0006569658289663494\n",
      "Epoch: 710 Iteration: 67500. Train_MSE: 6.9301066105254e-05. Test_MSE: 0.000656845688354224\n",
      "Epoch: 711 Iteration: 67600. Train_MSE: 6.779874820495024e-05. Test_MSE: 0.0006567294476553798\n",
      "Epoch: 712 Iteration: 67700. Train_MSE: 0.0001565379643579945. Test_MSE: 0.0006566220545209944\n",
      "Epoch: 713 Iteration: 67800. Train_MSE: 0.005023295991122723. Test_MSE: 0.000656497199088335\n",
      "Epoch: 714 Iteration: 67900. Train_MSE: 0.00039471895433962345. Test_MSE: 0.0006563509232364595\n",
      "Epoch: 715 Iteration: 68000. Train_MSE: 0.00040212576277554035. Test_MSE: 0.0006562304915860295\n",
      "Epoch: 716 Iteration: 68100. Train_MSE: 0.00023519288515672088. Test_MSE: 0.0006560966721735895\n",
      "Epoch: 717 Iteration: 68200. Train_MSE: 0.00014957392704673111. Test_MSE: 0.0006559676839970052\n",
      "Epoch: 718 Iteration: 68300. Train_MSE: 0.00010500921052880585. Test_MSE: 0.000655860872939229\n",
      "Epoch: 719 Iteration: 68400. Train_MSE: 0.00012768700253218412. Test_MSE: 0.0006557443994097412\n",
      "Epoch: 721 Iteration: 68500. Train_MSE: 0.00012503218022175133. Test_MSE: 0.000655622745398432\n",
      "Epoch: 722 Iteration: 68600. Train_MSE: 0.0002021916734520346. Test_MSE: 0.0006555049913004041\n",
      "Epoch: 723 Iteration: 68700. Train_MSE: 0.0001530769222881645. Test_MSE: 0.0006554136634804308\n",
      "Epoch: 724 Iteration: 68800. Train_MSE: 0.001069787424057722. Test_MSE: 0.0006552838021889329\n",
      "Epoch: 725 Iteration: 68900. Train_MSE: 0.0006897441926412284. Test_MSE: 0.0006551375263370574\n",
      "Epoch: 726 Iteration: 69000. Train_MSE: 0.009609803557395935. Test_MSE: 0.0006550002144649625\n",
      "Epoch: 727 Iteration: 69100. Train_MSE: 0.0026836441829800606. Test_MSE: 0.0006548779783770442\n",
      "Epoch: 728 Iteration: 69200. Train_MSE: 0.000592844735365361. Test_MSE: 0.0006547608645632863\n",
      "Epoch: 729 Iteration: 69300. Train_MSE: 7.99370463937521e-05. Test_MSE: 0.00065465277293697\n",
      "Epoch: 730 Iteration: 69400. Train_MSE: 6.852715159766376e-05. Test_MSE: 0.0006545362994074821\n",
      "Epoch: 731 Iteration: 69500. Train_MSE: 6.664267857559025e-05. Test_MSE: 0.0006544235511682928\n",
      "Epoch: 732 Iteration: 69600. Train_MSE: 0.00015447341138496995. Test_MSE: 0.0006543197087012231\n",
      "Epoch: 733 Iteration: 69700. Train_MSE: 0.005021839868277311. Test_MSE: 0.0006541985203512013\n",
      "Epoch: 734 Iteration: 69800. Train_MSE: 0.00039265488157980144. Test_MSE: 0.0006540559115819633\n"
     ]
    },
    {
     "name": "stdout",
     "output_type": "stream",
     "text": [
      "Epoch: 735 Iteration: 69900. Train_MSE: 0.00040099964826367795. Test_MSE: 0.0006539392052218318\n",
      "Epoch: 736 Iteration: 70000. Train_MSE: 0.00023398787016049027. Test_MSE: 0.0006538088200613856\n",
      "Epoch: 737 Iteration: 70100. Train_MSE: 0.00014714228746015579. Test_MSE: 0.0006536837317980826\n",
      "Epoch: 738 Iteration: 70200. Train_MSE: 0.00010360073065385222. Test_MSE: 0.0006535808206535876\n",
      "Epoch: 739 Iteration: 70300. Train_MSE: 0.000125491336802952. Test_MSE: 0.0006534683052450418\n",
      "Epoch: 741 Iteration: 70400. Train_MSE: 0.00012308942677918822. Test_MSE: 0.000653350492939353\n",
      "Epoch: 742 Iteration: 70500. Train_MSE: 0.00019864144269376993. Test_MSE: 0.0006532368715852499\n",
      "Epoch: 743 Iteration: 70600. Train_MSE: 0.00015023394371382892. Test_MSE: 0.0006531495018862188\n",
      "Epoch: 744 Iteration: 70700. Train_MSE: 0.0010681124404072762. Test_MSE: 0.0006530226673930883\n",
      "Epoch: 745 Iteration: 70800. Train_MSE: 0.0006877745618112385. Test_MSE: 0.0006528804660774767\n",
      "Epoch: 746 Iteration: 70900. Train_MSE: 0.00960286520421505. Test_MSE: 0.0006527462392114103\n",
      "Epoch: 747 Iteration: 71000. Train_MSE: 0.0026806334499269724. Test_MSE: 0.0006526276702061296\n",
      "Epoch: 748 Iteration: 71100. Train_MSE: 0.0005909599713049829. Test_MSE: 0.0006525145145133138\n",
      "Epoch: 749 Iteration: 71200. Train_MSE: 7.900639320723712e-05. Test_MSE: 0.0006524092750623822\n",
      "Epoch: 750 Iteration: 71300. Train_MSE: 6.779029354220256e-05. Test_MSE: 0.0006522961775772274\n",
      "Epoch: 751 Iteration: 71400. Train_MSE: 6.55330513836816e-05. Test_MSE: 0.0006521865143440664\n",
      "Epoch: 752 Iteration: 71500. Train_MSE: 0.00015248742420226336. Test_MSE: 0.0006520859897136688\n",
      "Epoch: 753 Iteration: 71600. Train_MSE: 0.005020421929657459. Test_MSE: 0.0006519682356156409\n",
      "Epoch: 754 Iteration: 71700. Train_MSE: 0.00039066895260475576. Test_MSE: 0.0006518280133605003\n",
      "Epoch: 755 Iteration: 71800. Train_MSE: 0.00039990857476368546. Test_MSE: 0.0006517147412523627\n",
      "Epoch: 756 Iteration: 71900. Train_MSE: 0.00023278607113752514. Test_MSE: 0.0006515870336443186\n",
      "Epoch: 757 Iteration: 72000. Train_MSE: 0.00014480215031653643. Test_MSE: 0.0006514653796330094\n",
      "Epoch: 758 Iteration: 72100. Train_MSE: 0.0001022504802676849. Test_MSE: 0.0006513657281175256\n",
      "Epoch: 759 Iteration: 72200. Train_MSE: 0.00012337221414782107. Test_MSE: 0.0006512555992230773\n",
      "Epoch: 761 Iteration: 72300. Train_MSE: 0.00012117021105950698. Test_MSE: 0.0006511412793770432\n",
      "Epoch: 762 Iteration: 72400. Train_MSE: 0.00019526801770552993. Test_MSE: 0.0006510305101983249\n",
      "Epoch: 763 Iteration: 72500. Train_MSE: 0.00014750228729099035. Test_MSE: 0.0006509464583359659\n",
      "Epoch: 764 Iteration: 72600. Train_MSE: 0.001066459808498621. Test_MSE: 0.0006508229416795075\n",
      "Epoch: 765 Iteration: 72700. Train_MSE: 0.0006858581909909844. Test_MSE: 0.0006506843492388725\n",
      "Epoch: 766 Iteration: 72800. Train_MSE: 0.009595971554517746. Test_MSE: 0.0006505537312477827\n",
      "Epoch: 767 Iteration: 72900. Train_MSE: 0.0026776876766234636. Test_MSE: 0.0006504377815872431\n",
      "Epoch: 768 Iteration: 73000. Train_MSE: 0.0005891613545827568. Test_MSE: 0.0006503282929770648\n",
      "Epoch: 769 Iteration: 73100. Train_MSE: 7.810216629877687e-05. Test_MSE: 0.000650226604193449\n",
      "Epoch: 770 Iteration: 73200. Train_MSE: 6.708797445753589e-05. Test_MSE: 0.0006501171155832708\n",
      "Epoch: 771 Iteration: 73300. Train_MSE: 6.446655606850982e-05. Test_MSE: 0.0006500107701867819\n",
      "Epoch: 772 Iteration: 73400. Train_MSE: 0.00015057370183058083. Test_MSE: 0.0006499139126390219\n",
      "Epoch: 773 Iteration: 73500. Train_MSE: 0.005019154399633408. Test_MSE: 0.0006497989525087178\n",
      "Epoch: 774 Iteration: 73600. Train_MSE: 0.0003887549682985991. Test_MSE: 0.0006496632122434676\n",
      "Epoch: 775 Iteration: 73700. Train_MSE: 0.00039885417209006846. Test_MSE: 0.0006495527341030538\n",
      "Epoch: 776 Iteration: 73800. Train_MSE: 0.00023161774151958525. Test_MSE: 0.0006494299741461873\n",
      "Epoch: 777 Iteration: 73900. Train_MSE: 0.00014252655091695487. Test_MSE: 0.0006493110558949411\n",
      "Epoch: 778 Iteration: 74000. Train_MSE: 0.0001009400439215824. Test_MSE: 0.0006492150132544339\n",
      "Epoch: 779 Iteration: 74100. Train_MSE: 0.00012133816198911518. Test_MSE: 0.000649108667857945\n",
      "Epoch: 781 Iteration: 74200. Train_MSE: 0.00011931699555134401. Test_MSE: 0.0006489967927336693\n",
      "Epoch: 782 Iteration: 74300. Train_MSE: 0.00019202868861611933. Test_MSE: 0.0006488905055448413\n",
      "Epoch: 783 Iteration: 74400. Train_MSE: 0.00014480433310382068. Test_MSE: 0.0006488088984042406\n",
      "Epoch: 784 Iteration: 74500. Train_MSE: 0.0010648464085534215. Test_MSE: 0.0006486894562840462\n",
      "Epoch: 785 Iteration: 74600. Train_MSE: 0.0006839865236543119. Test_MSE: 0.0006485532503575087\n",
      "Epoch: 786 Iteration: 74700. Train_MSE: 0.009589245542883873. Test_MSE: 0.00064842589199543\n",
      "Epoch: 787 Iteration: 74800. Train_MSE: 0.0026748240925371647. Test_MSE: 0.0006483130273409188\n",
      "Epoch: 788 Iteration: 74900. Train_MSE: 0.0005874363123439252. Test_MSE: 0.0006482069147750735\n",
      "Epoch: 789 Iteration: 75000. Train_MSE: 7.722228474449366e-05. Test_MSE: 0.0006481083109974861\n",
      "Epoch: 790 Iteration: 75100. Train_MSE: 6.642128573730588e-05. Test_MSE: 0.0006480010342784226\n",
      "Epoch: 791 Iteration: 75200. Train_MSE: 6.34380558039993e-05. Test_MSE: 0.0006478987052105367\n",
      "Epoch: 792 Iteration: 75300. Train_MSE: 0.00014871580060571432. Test_MSE: 0.0006478038267232478\n",
      "Epoch: 793 Iteration: 75400. Train_MSE: 0.0050179846584796906. Test_MSE: 0.000647692708298564\n",
      "Epoch: 794 Iteration: 75500. Train_MSE: 0.00038690862129442394. Test_MSE: 0.0006475584814324975\n",
      "Epoch: 795 Iteration: 75600. Train_MSE: 0.00039782290696166456. Test_MSE: 0.0006474507972598076\n",
      "Epoch: 796 Iteration: 75700. Train_MSE: 0.0002304778463440016. Test_MSE: 0.0006473307148553431\n",
      "Epoch: 797 Iteration: 75800. Train_MSE: 0.0001403104397468269. Test_MSE: 0.0006472146487794816\n",
      "Epoch: 798 Iteration: 75900. Train_MSE: 9.966819197870791e-05. Test_MSE: 0.0006471208180300891\n",
      "Epoch: 799 Iteration: 76000. Train_MSE: 0.00011937402450712398. Test_MSE: 0.000647018023300916\n",
      "Epoch: 801 Iteration: 76100. Train_MSE: 0.00011751362035283819. Test_MSE: 0.0006469089421443641\n",
      "Epoch: 802 Iteration: 76200. Train_MSE: 0.00018893020751420408. Test_MSE: 0.0006468046340160072\n",
      "Epoch: 803 Iteration: 76300. Train_MSE: 0.00014218113210517913. Test_MSE: 0.000646726752165705\n",
      "Epoch: 804 Iteration: 76400. Train_MSE: 0.0010632763151079416. Test_MSE: 0.0006466092308983207\n",
      "Epoch: 805 Iteration: 76500. Train_MSE: 0.000682165555190295. Test_MSE: 0.0006464759353548288\n",
      "Epoch: 806 Iteration: 76600. Train_MSE: 0.009582593105733395. Test_MSE: 0.0006463513127528131\n",
      "Epoch: 807 Iteration: 76700. Train_MSE: 0.0026720205787569284. Test_MSE: 0.0006462414166890085\n",
      "Epoch: 808 Iteration: 76800. Train_MSE: 0.0005857775686308742. Test_MSE: 0.0006461371667683125\n",
      "Epoch: 809 Iteration: 76900. Train_MSE: 7.637654198333621e-05. Test_MSE: 0.0006460424629040062\n",
      "Epoch: 810 Iteration: 77000. Train_MSE: 6.579294131370261e-05. Test_MSE: 0.0006459378637373447\n",
      "Epoch: 811 Iteration: 77100. Train_MSE: 6.24466993031092e-05. Test_MSE: 0.0006458375137299299\n",
      "Epoch: 812 Iteration: 77200. Train_MSE: 0.00014693311823066324. Test_MSE: 0.0006457464187406003\n",
      "Epoch: 813 Iteration: 77300. Train_MSE: 0.0050168209709227085. Test_MSE: 0.0006456372211687267\n",
      "Epoch: 814 Iteration: 77400. Train_MSE: 0.00038502138340845704. Test_MSE: 0.0006455059046857059\n",
      "Epoch: 815 Iteration: 77500. Train_MSE: 0.0003968342498410493. Test_MSE: 0.0006454024114646018\n",
      "Epoch: 816 Iteration: 77600. Train_MSE: 0.0002294074947712943. Test_MSE: 0.0006452846573665738\n",
      "Epoch: 817 Iteration: 77700. Train_MSE: 0.00013817555736750364. Test_MSE: 0.0006451718509197235\n",
      "Epoch: 818 Iteration: 77800. Train_MSE: 9.844473242992535e-05. Test_MSE: 0.0006450811633840203\n",
      "Epoch: 819 Iteration: 77900. Train_MSE: 0.00011747916141757742. Test_MSE: 0.0006449815700761974\n",
      "Epoch: 821 Iteration: 78000. Train_MSE: 0.00011577040277188644. Test_MSE: 0.0006448757485486567\n",
      "Epoch: 822 Iteration: 78100. Train_MSE: 0.00018597255984786898. Test_MSE: 0.0006447747000493109\n",
      "Epoch: 823 Iteration: 78200. Train_MSE: 0.00013966359256301075. Test_MSE: 0.0006446991465054452\n",
      "Epoch: 824 Iteration: 78300. Train_MSE: 0.0010617519728839397. Test_MSE: 0.0006445856997743249\n",
      "Epoch: 825 Iteration: 78400. Train_MSE: 0.0006804315489716828. Test_MSE: 0.000644455780275166\n",
      "Epoch: 826 Iteration: 78500. Train_MSE: 0.009575980715453625. Test_MSE: 0.0006443336023949087\n"
     ]
    },
    {
     "name": "stdout",
     "output_type": "stream",
     "text": [
      "Epoch: 827 Iteration: 78600. Train_MSE: 0.0026692866813391447. Test_MSE: 0.0006442267331294715\n",
      "Epoch: 828 Iteration: 78700. Train_MSE: 0.0005842018290422857. Test_MSE: 0.0006441258592531085\n",
      "Epoch: 829 Iteration: 78800. Train_MSE: 7.555199408670887e-05. Test_MSE: 0.0006440334254875779\n",
      "Epoch: 830 Iteration: 78900. Train_MSE: 6.51939699309878e-05. Test_MSE: 0.0006439329590648413\n",
      "Epoch: 831 Iteration: 79000. Train_MSE: 6.14919772488065e-05. Test_MSE: 0.000643835635855794\n",
      "Epoch: 832 Iteration: 79100. Train_MSE: 0.00014520456898026168. Test_MSE: 0.0006437466945499182\n",
      "Epoch: 833 Iteration: 79200. Train_MSE: 0.005015681963413954. Test_MSE: 0.0006436404655687511\n",
      "Epoch: 834 Iteration: 79300. Train_MSE: 0.00038319395389407873. Test_MSE: 0.0006435122922994196\n",
      "Epoch: 835 Iteration: 79400. Train_MSE: 0.00039588246727362275. Test_MSE: 0.0006434108945541084\n",
      "Epoch: 836 Iteration: 79500. Train_MSE: 0.0002283106732647866. Test_MSE: 0.0006432961672544479\n",
      "Epoch: 837 Iteration: 79600. Train_MSE: 0.00013608808512799442. Test_MSE: 0.000643186504021287\n",
      "Epoch: 838 Iteration: 79700. Train_MSE: 9.725685958983377e-05. Test_MSE: 0.0006430992507375777\n",
      "Epoch: 839 Iteration: 79800. Train_MSE: 0.00011565082968445495. Test_MSE: 0.0006430021021515131\n",
      "Epoch: 841 Iteration: 79900. Train_MSE: 0.00011408363207010552. Test_MSE: 0.0006429002969525754\n",
      "Epoch: 842 Iteration: 80000. Train_MSE: 0.00018314487533643842. Test_MSE: 0.0006428025662899017\n",
      "Epoch: 843 Iteration: 80100. Train_MSE: 0.0001372598926536739. Test_MSE: 0.00064273044699803\n",
      "Epoch: 844 Iteration: 80200. Train_MSE: 0.0010602674447000027. Test_MSE: 0.0006426192703656852\n",
      "Epoch: 845 Iteration: 80300. Train_MSE: 0.0006787635502405465. Test_MSE: 0.0006424930761568248\n",
      "Epoch: 846 Iteration: 80400. Train_MSE: 0.009569448418915272. Test_MSE: 0.0006423743907362223\n",
      "Epoch: 847 Iteration: 80500. Train_MSE: 0.0026666352059692144. Test_MSE: 0.0006422711303457618\n",
      "Epoch: 848 Iteration: 80600. Train_MSE: 0.0005826979177072644. Test_MSE: 0.0006421739235520363\n",
      "Epoch: 849 Iteration: 80700. Train_MSE: 7.473496225429699e-05. Test_MSE: 0.0006420848658308387\n",
      "Epoch: 850 Iteration: 80800. Train_MSE: 6.462170858867466e-05. Test_MSE: 0.0006419869605451822\n",
      "Epoch: 851 Iteration: 80900. Train_MSE: 6.057148493709974e-05. Test_MSE: 0.0006418933626264334\n",
      "Epoch: 852 Iteration: 81000. Train_MSE: 0.0001435008889529854. Test_MSE: 0.0006418079719878733\n",
      "Epoch: 853 Iteration: 81100. Train_MSE: 0.005014565773308277. Test_MSE: 0.000641705293674022\n",
      "Epoch: 854 Iteration: 81200. Train_MSE: 0.0003814225783571601. Test_MSE: 0.0006415806128643453\n",
      "Epoch: 855 Iteration: 81300. Train_MSE: 0.0003949948004446924. Test_MSE: 0.0006414828822016716\n",
      "Epoch: 856 Iteration: 81400. Train_MSE: 0.00022726420138496906. Test_MSE: 0.0006413721130229533\n",
      "Epoch: 857 Iteration: 81500. Train_MSE: 0.00013408929225988686. Test_MSE: 0.0006412661168724298\n",
      "Epoch: 858 Iteration: 81600. Train_MSE: 9.609186236048117e-05. Test_MSE: 0.0006411821232177317\n",
      "Epoch: 859 Iteration: 81700. Train_MSE: 0.00011389922292437404. Test_MSE: 0.0006410882924683392\n",
      "Epoch: 861 Iteration: 81800. Train_MSE: 0.00011243432527408004. Test_MSE: 0.0006409887573681772\n",
      "Epoch: 862 Iteration: 81900. Train_MSE: 0.00018043589079752564. Test_MSE: 0.0006408946355804801\n",
      "Epoch: 863 Iteration: 82000. Train_MSE: 0.00013496197061613202. Test_MSE: 0.0006408257759176195\n",
      "Epoch: 864 Iteration: 82100. Train_MSE: 0.0010588424047455192. Test_MSE: 0.0006407178589142859\n",
      "Epoch: 865 Iteration: 82200. Train_MSE: 0.0006771633634343743. Test_MSE: 0.0006405951571650803\n",
      "Epoch: 866 Iteration: 82300. Train_MSE: 0.009563121013343334. Test_MSE: 0.0006404796149581671\n",
      "Epoch: 867 Iteration: 82400. Train_MSE: 0.002664025640115142. Test_MSE: 0.0006403792067430913\n",
      "Epoch: 868 Iteration: 82500. Train_MSE: 0.0005812637391500175. Test_MSE: 0.0006402849685400724\n",
      "Epoch: 869 Iteration: 82600. Train_MSE: 7.392784027615562e-05. Test_MSE: 0.0006401989376172423\n",
      "Epoch: 870 Iteration: 82700. Train_MSE: 6.407329783542082e-05. Test_MSE: 0.000640103651676327\n",
      "Epoch: 871 Iteration: 82800. Train_MSE: 5.96592653892003e-05. Test_MSE: 0.0006400127313099802\n",
      "Epoch: 872 Iteration: 82900. Train_MSE: 0.00014185630425345153. Test_MSE: 0.0006399298436008394\n",
      "Epoch: 873 Iteration: 83000. Train_MSE: 0.0050135119818151. Test_MSE: 0.0006398296100087464\n",
      "Epoch: 874 Iteration: 83100. Train_MSE: 0.00037971121491864324. Test_MSE: 0.0006397076067514718\n",
      "Epoch: 875 Iteration: 83200. Train_MSE: 0.00039408207521773875. Test_MSE: 0.000639612611848861\n",
      "Epoch: 876 Iteration: 83300. Train_MSE: 0.00022625098063144833. Test_MSE: 0.0006395044038072228\n",
      "Epoch: 877 Iteration: 83400. Train_MSE: 0.00013215737999416888. Test_MSE: 0.0006394010852091014\n",
      "Epoch: 878 Iteration: 83500. Train_MSE: 9.49573441175744e-05. Test_MSE: 0.0006393193616531789\n",
      "Epoch: 879 Iteration: 83600. Train_MSE: 0.00011220794840482995. Test_MSE: 0.0006392282084561884\n",
      "Epoch: 881 Iteration: 83700. Train_MSE: 0.00011082842684118077. Test_MSE: 0.0006391312344931066\n",
      "Epoch: 882 Iteration: 83800. Train_MSE: 0.0001778671721694991. Test_MSE: 0.0006390396156348288\n",
      "Epoch: 883 Iteration: 83900. Train_MSE: 0.0001327511272393167. Test_MSE: 0.0006389729678630829\n",
      "Epoch: 884 Iteration: 84000. Train_MSE: 0.0010574633488431573. Test_MSE: 0.0006388669135048985\n",
      "Epoch: 885 Iteration: 84100. Train_MSE: 0.0006756114307790995. Test_MSE: 0.0006387464236468077\n",
      "Epoch: 886 Iteration: 84200. Train_MSE: 0.009556835517287254. Test_MSE: 0.0006386330933310091\n",
      "Epoch: 887 Iteration: 84300. Train_MSE: 0.002661357866600156. Test_MSE: 0.0006385347805917263\n",
      "Epoch: 888 Iteration: 84400. Train_MSE: 0.0005798966740258038. Test_MSE: 0.0006384428706951439\n",
      "Epoch: 889 Iteration: 84500. Train_MSE: 7.31423933757469e-05. Test_MSE: 0.0006383592262864113\n",
      "Epoch: 890 Iteration: 84600. Train_MSE: 6.353135540848598e-05. Test_MSE: 0.0006382663850672543\n",
      "Epoch: 891 Iteration: 84700. Train_MSE: 5.877714647795074e-05. Test_MSE: 0.0006381776765920222\n",
      "Epoch: 892 Iteration: 84800. Train_MSE: 0.00014026559074409306. Test_MSE: 0.000638097058981657\n",
      "Epoch: 893 Iteration: 84900. Train_MSE: 0.005012493580579758. Test_MSE: 0.0006379989208653569\n",
      "Epoch: 894 Iteration: 85000. Train_MSE: 0.0003780566621571779. Test_MSE: 0.0006378791877068579\n",
      "Epoch: 895 Iteration: 85100. Train_MSE: 0.0003930651000700891. Test_MSE: 0.0006377861718647182\n",
      "Epoch: 896 Iteration: 85200. Train_MSE: 0.00022527282999362797. Test_MSE: 0.0006376802339218557\n",
      "Epoch: 897 Iteration: 85300. Train_MSE: 0.000130282060126774. Test_MSE: 0.0006375793018378317\n",
      "Epoch: 898 Iteration: 85400. Train_MSE: 9.386450255988166e-05. Test_MSE: 0.0006374999065883458\n",
      "Epoch: 899 Iteration: 85500. Train_MSE: 0.00011057196388719603. Test_MSE: 0.0006374107324518263\n",
      "Epoch: 901 Iteration: 85600. Train_MSE: 0.00010926212416961789. Test_MSE: 0.0006373157375492156\n",
      "Epoch: 902 Iteration: 85700. Train_MSE: 0.0001754054392222315. Test_MSE: 0.0006372260395437479\n",
      "Epoch: 903 Iteration: 85800. Train_MSE: 0.00013062222569715232. Test_MSE: 0.000637161370832473\n",
      "Epoch: 904 Iteration: 85900. Train_MSE: 0.0010561262024566531. Test_MSE: 0.0006370573537424207\n",
      "Epoch: 905 Iteration: 86000. Train_MSE: 0.0006741010583937168. Test_MSE: 0.0006369390175677836\n",
      "Epoch: 906 Iteration: 86100. Train_MSE: 0.009550641290843487. Test_MSE: 0.0006368275498971343\n",
      "Epoch: 907 Iteration: 86200. Train_MSE: 0.002658738987520337. Test_MSE: 0.0006367311580106616\n",
      "Epoch: 908 Iteration: 86300. Train_MSE: 0.0005785595858469605. Test_MSE: 0.0006366410525515676\n",
      "Epoch: 909 Iteration: 86400. Train_MSE: 7.237483077915385e-05. Test_MSE: 0.0006365592707879841\n",
      "Epoch: 910 Iteration: 86500. Train_MSE: 6.300929089775309e-05. Test_MSE: 0.0006364682922139764\n",
      "Epoch: 911 Iteration: 86600. Train_MSE: 5.792232695966959e-05. Test_MSE: 0.0006363815627992153\n",
      "Epoch: 912 Iteration: 86700. Train_MSE: 0.0001387175143463537. Test_MSE: 0.0006363025750033557\n",
      "Epoch: 913 Iteration: 86800. Train_MSE: 0.005011501256376505. Test_MSE: 0.000636206183116883\n",
      "Epoch: 914 Iteration: 86900. Train_MSE: 0.0003764556022360921. Test_MSE: 0.0006360881961882114\n",
      "Epoch: 915 Iteration: 87000. Train_MSE: 0.00039191459654830396. Test_MSE: 0.0006359968683682382\n",
      "Epoch: 916 Iteration: 87100. Train_MSE: 0.00022432481637224555. Test_MSE: 0.0006358927930705249\n",
      "Epoch: 917 Iteration: 87200. Train_MSE: 0.00012846579193137586. Test_MSE: 0.000635793840046972\n"
     ]
    },
    {
     "name": "stdout",
     "output_type": "stream",
     "text": [
      "Epoch: 918 Iteration: 87300. Train_MSE: 9.280457015847787e-05. Test_MSE: 0.0006357164238579571\n",
      "Epoch: 919 Iteration: 87400. Train_MSE: 0.00010899025073740631. Test_MSE: 0.0006356294034048915\n",
      "Epoch: 921 Iteration: 87500. Train_MSE: 0.00010772120003821328. Test_MSE: 0.0006355361547321081\n",
      "Epoch: 922 Iteration: 87600. Train_MSE: 0.00017305446090176702. Test_MSE: 0.0006354487268254161\n",
      "Epoch: 923 Iteration: 87700. Train_MSE: 0.0001285634789383039. Test_MSE: 0.0006353860371746123\n",
      "Epoch: 924 Iteration: 87800. Train_MSE: 0.0010547521524131298. Test_MSE: 0.0006352838245220482\n",
      "Epoch: 925 Iteration: 87900. Train_MSE: 0.0006726133287884295. Test_MSE: 0.0006351673509925604\n",
      "Epoch: 926 Iteration: 88000. Train_MSE: 0.009544490836560726. Test_MSE: 0.0006350578623823822\n",
      "Epoch: 927 Iteration: 88100. Train_MSE: 0.002656170167028904. Test_MSE: 0.0006349632749333978\n",
      "Epoch: 928 Iteration: 88200. Train_MSE: 0.0005772770964540541. Test_MSE: 0.0006348754977807403\n",
      "Epoch: 929 Iteration: 88300. Train_MSE: 7.163217378547415e-05. Test_MSE: 0.0006347956950776279\n",
      "Epoch: 930 Iteration: 88400. Train_MSE: 6.250929436646402e-05. Test_MSE: 0.0006347069866023958\n",
      "Epoch: 931 Iteration: 88500. Train_MSE: 5.7092798670055345e-05. Test_MSE: 0.0006346226437017322\n",
      "Epoch: 932 Iteration: 88600. Train_MSE: 0.00013715583190787584. Test_MSE: 0.0006345462170429528\n",
      "Epoch: 933 Iteration: 88700. Train_MSE: 0.005010547582060099. Test_MSE: 0.0006344522698782384\n",
      "Epoch: 934 Iteration: 88800. Train_MSE: 0.0003748830349650234. Test_MSE: 0.000634336203802377\n",
      "Epoch: 935 Iteration: 88900. Train_MSE: 0.0003907419741153717. Test_MSE: 0.0006342470296658576\n",
      "Epoch: 936 Iteration: 89000. Train_MSE: 0.00022340375289786607. Test_MSE: 0.0006341453990899026\n",
      "Epoch: 937 Iteration: 89100. Train_MSE: 0.00012672401499003172. Test_MSE: 0.0006340484833344817\n",
      "Epoch: 938 Iteration: 89200. Train_MSE: 9.177738684229553e-05. Test_MSE: 0.000633973628282547\n",
      "Epoch: 939 Iteration: 89300. Train_MSE: 0.000107454092358239. Test_MSE: 0.0006338890525512397\n",
      "Epoch: 941 Iteration: 89400. Train_MSE: 0.00010623786511132494. Test_MSE: 0.0006337984232231975\n",
      "Epoch: 942 Iteration: 89500. Train_MSE: 0.00017079738609027117. Test_MSE: 0.0006337131489999592\n",
      "Epoch: 943 Iteration: 89600. Train_MSE: 0.00012658997729886323. Test_MSE: 0.0006336532533168793\n",
      "Epoch: 944 Iteration: 89700. Train_MSE: 0.0010533707682043314. Test_MSE: 0.0006335533107630908\n",
      "Epoch: 945 Iteration: 89800. Train_MSE: 0.0006710638990625739. Test_MSE: 0.0006334390491247177\n",
      "Epoch: 946 Iteration: 89900. Train_MSE: 0.009538416750729084. Test_MSE: 0.0006333317724056542\n",
      "Epoch: 947 Iteration: 90000. Train_MSE: 0.002653655596077442. Test_MSE: 0.0006332396878860891\n",
      "Epoch: 948 Iteration: 90100. Train_MSE: 0.0005760389030911028. Test_MSE: 0.0006331545882858336\n",
      "Epoch: 949 Iteration: 90200. Train_MSE: 7.090854342095554e-05. Test_MSE: 0.0006330774049274623\n",
      "Epoch: 950 Iteration: 90300. Train_MSE: 6.201882206369191e-05. Test_MSE: 0.0006329907337203622\n",
      "Epoch: 951 Iteration: 90400. Train_MSE: 5.6288758059963584e-05. Test_MSE: 0.0006329083116725087\n",
      "Epoch: 952 Iteration: 90500. Train_MSE: 0.0001356677385047078. Test_MSE: 0.0006328339222818613\n",
      "Epoch: 953 Iteration: 90600. Train_MSE: 0.005009602755308151. Test_MSE: 0.0006327416631393135\n",
      "Epoch: 954 Iteration: 90700. Train_MSE: 0.0003733462071977556. Test_MSE: 0.0006326275179162621\n",
      "Epoch: 955 Iteration: 90800. Train_MSE: 0.0003895694680977613. Test_MSE: 0.0006325403228402138\n",
      "Epoch: 956 Iteration: 90900. Train_MSE: 0.00022251822520047426. Test_MSE: 0.000632440613117069\n",
      "Epoch: 957 Iteration: 91000. Train_MSE: 0.00012503672041930258. Test_MSE: 0.0006323459092527628\n",
      "Epoch: 958 Iteration: 91100. Train_MSE: 9.078163566300645e-05. Test_MSE: 0.0006322732078842819\n",
      "Epoch: 959 Iteration: 91200. Train_MSE: 0.00010595969069981948. Test_MSE: 0.0006321907858364284\n",
      "Epoch: 961 Iteration: 91300. Train_MSE: 0.00010475254384800792. Test_MSE: 0.0006321023683995008\n",
      "Epoch: 962 Iteration: 91400. Train_MSE: 0.0001686363248154521. Test_MSE: 0.0006320196553133428\n",
      "Epoch: 963 Iteration: 91500. Train_MSE: 0.00012461158621590585. Test_MSE: 0.0006319622043520212\n",
      "Epoch: 964 Iteration: 91600. Train_MSE: 0.001052028383128345. Test_MSE: 0.0006318645318970084\n",
      "Epoch: 965 Iteration: 91700. Train_MSE: 0.0006695602787658572. Test_MSE: 0.0006317527149803936\n",
      "Epoch: 966 Iteration: 91800. Train_MSE: 0.009532437659800053. Test_MSE: 0.0006316476501524448\n",
      "Epoch: 967 Iteration: 91900. Train_MSE: 0.0026511987671256065. Test_MSE: 0.0006315580103546381\n",
      "Epoch: 968 Iteration: 92000. Train_MSE: 0.0005748430849052966. Test_MSE: 0.0006314754718914628\n",
      "Epoch: 969 Iteration: 92100. Train_MSE: 7.020100019872189e-05. Test_MSE: 0.0006314008496701717\n",
      "Epoch: 970 Iteration: 92200. Train_MSE: 6.154562288429588e-05. Test_MSE: 0.000631316564977169\n",
      "Epoch: 971 Iteration: 92300. Train_MSE: 5.550854984903708e-05. Test_MSE: 0.0006312367622740567\n",
      "Epoch: 972 Iteration: 92400. Train_MSE: 0.00013423318159766495. Test_MSE: 0.0006311647011898458\n",
      "Epoch: 973 Iteration: 92500. Train_MSE: 0.00500869145616889. Test_MSE: 0.0006310750031843781\n",
      "Epoch: 974 Iteration: 92600. Train_MSE: 0.0003718483494594693. Test_MSE: 0.0006309633608907461\n",
      "Epoch: 975 Iteration: 92700. Train_MSE: 0.00038843846414238214. Test_MSE: 0.0006308789015747607\n",
      "Epoch: 976 Iteration: 92800. Train_MSE: 0.0002216915600001812. Test_MSE: 0.0006307816947810352\n",
      "Epoch: 977 Iteration: 92900. Train_MSE: 0.0001234063965966925. Test_MSE: 0.0006306898430921137\n",
      "Epoch: 978 Iteration: 93000. Train_MSE: 8.980705752037466e-05. Test_MSE: 0.0006306197610683739\n",
      "Epoch: 979 Iteration: 93100. Train_MSE: 0.00010450885747559369. Test_MSE: 0.000630539667326957\n",
      "Epoch: 981 Iteration: 93200. Train_MSE: 0.00010330072836950421. Test_MSE: 0.0006304532871581614\n",
      "Epoch: 982 Iteration: 93300. Train_MSE: 0.0001665539457462728. Test_MSE: 0.0006303729023784399\n",
      "Epoch: 983 Iteration: 93400. Train_MSE: 0.00012270781735423952. Test_MSE: 0.000630317663308233\n",
      "Epoch: 984 Iteration: 93500. Train_MSE: 0.0010507218539714813. Test_MSE: 0.0006302222027443349\n",
      "Epoch: 985 Iteration: 93600. Train_MSE: 0.0006681284285150468. Test_MSE: 0.0006301128887571394\n",
      "Epoch: 986 Iteration: 93700. Train_MSE: 0.009526558220386505. Test_MSE: 0.000630010268650949\n",
      "Epoch: 987 Iteration: 93800. Train_MSE: 0.0026488250587135553. Test_MSE: 0.0006299227825365961\n",
      "Epoch: 988 Iteration: 93900. Train_MSE: 0.000573695928324014. Test_MSE: 0.0006298428634181619\n",
      "Epoch: 989 Iteration: 94000. Train_MSE: 6.950367969693616e-05. Test_MSE: 0.0006297708605416119\n",
      "Epoch: 990 Iteration: 94100. Train_MSE: 6.108716479502618e-05. Test_MSE: 0.0006296888459473848\n",
      "Epoch: 991 Iteration: 94200. Train_MSE: 5.474821591633372e-05. Test_MSE: 0.000629611371550709\n",
      "Epoch: 992 Iteration: 94300. Train_MSE: 0.0001328523940173909. Test_MSE: 0.0006295418716035783\n",
      "Epoch: 993 Iteration: 94400. Train_MSE: 0.005007818806916475. Test_MSE: 0.0006294545019045472\n",
      "Epoch: 994 Iteration: 94500. Train_MSE: 0.00037039228482171893. Test_MSE: 0.0006293449550867081\n",
      "Epoch: 995 Iteration: 94600. Train_MSE: 0.000387347157811746. Test_MSE: 0.0006292627658694983\n",
      "Epoch: 996 Iteration: 94700. Train_MSE: 0.00022088045079726726. Test_MSE: 0.0006291678873822093\n",
      "Epoch: 997 Iteration: 94800. Train_MSE: 0.00012182581122033298. Test_MSE: 0.0006290782475844026\n",
      "Epoch: 998 Iteration: 94900. Train_MSE: 8.885021088644862e-05. Test_MSE: 0.0006290105520747602\n",
      "Epoch: 999 Iteration: 95000. Train_MSE: 0.00010309459321433678. Test_MSE: 0.0006289327284321189\n"
     ]
    }
   ],
   "source": [
    "# Training the model\n",
    "seq_dim = 1\n",
    "\n",
    "n_iter =0\n",
    "num_samples = len(X_train)\n",
    "test_samples = len(X_test)\n",
    "batch_size = 100\n",
    "num_epochs = 1000\n",
    "feat_dim = X_train.shape[1]\n",
    "\n",
    "X_train = X_train.type(torch.FloatTensor)\n",
    "y_train = y_train.type(torch.FloatTensor)\n",
    "X_test = X_test.type(torch.FloatTensor)\n",
    "y_test = y_test.type(torch.FloatTensor)\n",
    "\n",
    "for epoch in range(num_epochs):\n",
    "    for i in range(0, int(num_samples/batch_size -1)):\n",
    "        \n",
    "        \n",
    "        features = Variable(X_train[i*batch_size:(i+1)*batch_size, :]).view(-1, seq_dim, feat_dim)\n",
    "        Kt_value = Variable(y_train[i*batch_size:(i+1)*batch_size])\n",
    "        \n",
    "               \n",
    "        optimizer.zero_grad()\n",
    "        \n",
    "        outputs = model(features)\n",
    "        \n",
    "        \n",
    "        loss = criterion(outputs, Kt_value)\n",
    "        \n",
    "        train_loss.append(loss.data[0])\n",
    "        train_iter.append(n_iter)\n",
    "\n",
    "        #print(\"loss = {}\".format(loss))\n",
    "        loss.backward()\n",
    "        \n",
    "        optimizer.step()\n",
    "        \n",
    "        n_iter += 1  \n",
    "        test_batch_mse =list()    \n",
    "        if n_iter%100 == 0:\n",
    "            for i in range(0,int(test_samples/batch_size -1)):\n",
    "                features = Variable(X_test[i*batch_size:(i+1)*batch_size, :]).view(-1, seq_dim, feat_dim)\n",
    "                Kt_test = Variable(y_test[i*batch_size:(i+1)*batch_size])\n",
    "                \n",
    "                outputs = model(features)\n",
    "                \n",
    "                #mse_old = np.sqrt(np.mean((Kt_test.data.numpy() - outputs.data.numpy().squeeze())**2)/num_samples)\n",
    "                test_batch_mse.append(np.mean((Kt_test.data.numpy() - outputs.data.numpy().squeeze())**2))\n",
    "            test_iter.append(n_iter)\n",
    "            test_loss.append(np.mean(test_batch_mse))\n",
    "            \n",
    "            print('Epoch: {} Iteration: {}. Train_MSE: {}. Test_MSE: {}'.format(epoch, n_iter, loss.data[0], test_loss[-1]))\n",
    "               "
   ]
  },
  {
   "cell_type": "code",
   "execution_count": 189,
   "metadata": {},
   "outputs": [
    {
     "name": "stdout",
     "output_type": "stream",
     "text": [
      "950\n"
     ]
    },
    {
     "data": {
      "text/plain": [
       "[<matplotlib.lines.Line2D at 0x23b077f4e48>]"
      ]
     },
     "execution_count": 189,
     "metadata": {},
     "output_type": "execute_result"
    },
    {
     "data": {
      "image/png": "[encoded data removed]",
      "text/plain": [
       "<matplotlib.figure.Figure at 0x23b04d23518>"
      ]
     },
     "metadata": {},
     "output_type": "display_data"
    }
   ],
   "source": [
    "print(len(test_loss))\n",
    "#plt.plot(test_loss)\n",
    "plt.plot(train_loss,'-')\n",
    "#plt.ylim([0.000,0.99])\n"
   ]
  },
  {
   "cell_type": "code",
   "execution_count": 190,
   "metadata": {},
   "outputs": [
    {
     "data": {
      "text/plain": [
       "[<matplotlib.lines.Line2D at 0x23b0782a7f0>]"
      ]
     },
     "execution_count": 190,
     "metadata": {},
     "output_type": "execute_result"
    },
    {
     "data": {
      "image/png": "[encoded data removed]",
      "text/plain": [
       "<matplotlib.figure.Figure at 0x23b078104a8>"
      ]
     },
     "metadata": {},
     "output_type": "display_data"
    }
   ],
   "source": [
    "plt.plot(test_loss,'r')"
   ]
  },
  {
   "cell_type": "markdown",
   "metadata": {
    "collapsed": true
   },
   "source": [
    "#### Demornamization"
   ]
  },
  {
   "cell_type": "code",
   "execution_count": 191,
   "metadata": {},
   "outputs": [],
   "source": [
    "rmse = np.sqrt(test_loss[-1])"
   ]
  },
  {
   "cell_type": "code",
   "execution_count": 192,
   "metadata": {},
   "outputs": [],
   "source": [
    "rmse_denorm = (rmse * (df_new_test['Kt'].max() - df_new_test['Kt'].min()))+ df_new_test['Kt'].mean()"
   ]
  },
  {
   "cell_type": "code",
   "execution_count": 193,
   "metadata": {},
   "outputs": [
    {
     "data": {
      "text/plain": [
       "34.131595733546838"
      ]
     },
     "execution_count": 193,
     "metadata": {},
     "output_type": "execute_result"
    }
   ],
   "source": [
    "rmse_denorm"
   ]
  },
  {
   "cell_type": "code",
   "execution_count": 194,
   "metadata": {},
   "outputs": [
    {
     "data": {
      "text/plain": [
       "count    4362.000000\n",
       "mean        5.380703\n",
       "std        29.307744\n",
       "min        -0.203877\n",
       "25%        -0.008714\n",
       "50%         0.102974\n",
       "75%         1.071525\n",
       "max      1146.230573\n",
       "Name: Kt, dtype: float64"
      ]
     },
     "execution_count": 194,
     "metadata": {},
     "output_type": "execute_result"
    }
   ],
   "source": [
    "df_new_test['Kt'].describe()"
   ]
  },
  {
   "cell_type": "markdown",
   "metadata": {
    "collapsed": true
   },
   "source": [
    "### Saving train and test losses to a csv"
   ]
  },
  {
   "cell_type": "code",
   "execution_count": 195,
   "metadata": {},
   "outputs": [],
   "source": [
    "df_trainLoss = pd.DataFrame(data={'Train Loss':train_loss}, columns=['Train Loss'])\n",
    "df_trainLoss.to_csv('RNN Paper Results/Exp1_Bondville_1000Epoch_TrainLoss.csv')\n",
    "df_testLoss = pd.DataFrame(data={'Test Loss':test_loss}, columns=['Test Loss'])\n",
    "df_testLoss.to_csv('RNN Paper Results/Exp1_Bondville_1000EpochTestLoss.csv')"
   ]
  },
  {
   "cell_type": "code",
   "execution_count": null,
   "metadata": {},
   "outputs": [],
   "source": []
  }
 ],
 "metadata": {
  "anaconda-cloud": {},
  "kernelspec": {
   "display_name": "Python [default]",
   "language": "python",
   "name": "python3"
  },
  "language_info": {
   "codemirror_mode": {
    "name": "ipython",
    "version": 3
   },
   "file_extension": ".py",
   "mimetype": "text/x-python",
   "name": "python",
   "nbconvert_exporter": "python",
   "pygments_lexer": "ipython3",
   "version": "3.5.2"
  }
 },
 "nbformat": 4,
 "nbformat_minor": 2
}
