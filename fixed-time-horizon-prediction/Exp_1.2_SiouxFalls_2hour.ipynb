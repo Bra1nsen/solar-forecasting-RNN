{
 "cells": [
  {
   "cell_type": "code",
   "execution_count": 1,
   "metadata": {},
   "outputs": [],
   "source": [
    "import numpy as np\n",
    "import pandas as pd\n",
    "import datetime\n",
    "import glob\n",
    "import os.path\n",
    "from pandas.compat import StringIO"
   ]
  },
  {
   "cell_type": "markdown",
   "metadata": {},
   "source": [
    "### NREL Bird Model implementation: for obtaining clear sky GHI"
   ]
  },
  {
   "cell_type": "code",
   "execution_count": 2,
   "metadata": {},
   "outputs": [],
   "source": [
    "import itertools\n",
    "import matplotlib.pyplot as plt\n",
    "import pandas as pd\n",
    "import seaborn as sns"
   ]
  },
  {
   "cell_type": "code",
   "execution_count": 3,
   "metadata": {},
   "outputs": [],
   "source": [
    "%matplotlib inline\n",
    "sns.set_color_codes()"
   ]
  },
  {
   "cell_type": "code",
   "execution_count": 4,
   "metadata": {},
   "outputs": [],
   "source": [
    "import pvlib\n",
    "from pvlib import clearsky, atmosphere\n",
    "from pvlib.location import Location"
   ]
  },
  {
   "cell_type": "code",
   "execution_count": 5,
   "metadata": {},
   "outputs": [],
   "source": [
    "sif = Location(43.544,-96.73, 'US/Central', 448.086, 'Sioux Falls')"
   ]
  },
  {
   "cell_type": "code",
   "execution_count": 6,
   "metadata": {},
   "outputs": [],
   "source": [
    "times2009 = pd.DatetimeIndex(start='2009-01-01', end='2010-01-01', freq='1min',\n",
    "                        tz=sif.tz)   # 12 months of 2009 - For testing\n",
    "times2010and2011 = pd.DatetimeIndex(start='2010-01-01', end='2012-01-01', freq='1min',\n",
    "                        tz=sif.tz)   # 24 months of 2010 and 2011 - For training"
   ]
  },
  {
   "cell_type": "code",
   "execution_count": 7,
   "metadata": {},
   "outputs": [],
   "source": [
    "cs_2009 = sif.get_clearsky(times2009) \n",
    "cs_2010and2011 = sif.get_clearsky(times2010and2011) # ineichen with climatology table by default\n",
    "#cs_2011 = bvl.get_clearsky(times2011) "
   ]
  },
  {
   "cell_type": "code",
   "execution_count": 8,
   "metadata": {},
   "outputs": [],
   "source": [
    "cs_2009.drop(['dni','dhi'],axis=1, inplace=True) #updating the same dataframe by dropping two columns\n",
    "cs_2010and2011.drop(['dni','dhi'],axis=1, inplace=True) #updating the same dataframe by dropping two columns\n",
    "#cs_2011.drop(['dni','dhi'],axis=1, inplace=True) #updating the same dataframe by dropping two columns"
   ]
  },
  {
   "cell_type": "code",
   "execution_count": 9,
   "metadata": {},
   "outputs": [],
   "source": [
    "cs_2009.reset_index(inplace=True)\n",
    "cs_2010and2011.reset_index(inplace=True)\n",
    "#cs_2011.reset_index(inplace=True)"
   ]
  },
  {
   "cell_type": "code",
   "execution_count": 10,
   "metadata": {},
   "outputs": [],
   "source": [
    "cs_2009['index']=cs_2009['index'].apply(lambda x:x.to_datetime())\n",
    "cs_2009['year'] = cs_2009['index'].apply(lambda x:x.year)\n",
    "cs_2009['month'] = cs_2009['index'].apply(lambda x:x.month)\n",
    "cs_2009['day'] = cs_2009['index'].apply(lambda x:x.day)\n",
    "cs_2009['hour'] = cs_2009['index'].apply(lambda x:x.hour)\n",
    "cs_2009['min'] = cs_2009['index'].apply(lambda x:x.minute)"
   ]
  },
  {
   "cell_type": "code",
   "execution_count": 11,
   "metadata": {},
   "outputs": [],
   "source": [
    "cs_2010and2011['index']=cs_2010and2011['index'].apply(lambda x:x.to_datetime())\n",
    "cs_2010and2011['year'] = cs_2010and2011['index'].apply(lambda x:x.year)\n",
    "cs_2010and2011['month'] = cs_2010and2011['index'].apply(lambda x:x.month)\n",
    "cs_2010and2011['day'] = cs_2010and2011['index'].apply(lambda x:x.day)\n",
    "cs_2010and2011['hour'] = cs_2010and2011['index'].apply(lambda x:x.hour)\n",
    "cs_2010and2011['min'] = cs_2010and2011['index'].apply(lambda x:x.minute)"
   ]
  },
  {
   "cell_type": "code",
   "execution_count": 12,
   "metadata": {},
   "outputs": [
    {
     "name": "stdout",
     "output_type": "stream",
     "text": [
      "(525601, 7)\n",
      "(1051201, 7)\n"
     ]
    }
   ],
   "source": [
    "print(cs_2009.shape)\n",
    "print(cs_2010and2011.shape)\n",
    "#print(cs_2011.shape)"
   ]
  },
  {
   "cell_type": "code",
   "execution_count": 13,
   "metadata": {},
   "outputs": [],
   "source": [
    "cs_2009.drop(cs_2009.index[-1], inplace=True)\n",
    "cs_2010and2011.drop(cs_2010and2011.index[-1], inplace=True)\n",
    "#cs_2011.drop(cs_2011.index[-1], inplace=True)"
   ]
  },
  {
   "cell_type": "code",
   "execution_count": 14,
   "metadata": {},
   "outputs": [
    {
     "name": "stdout",
     "output_type": "stream",
     "text": [
      "(525600, 7)\n",
      "(1051200, 7)\n"
     ]
    }
   ],
   "source": [
    "print(cs_2009.shape)\n",
    "print(cs_2010and2011.shape)\n",
    "#print(cs_2011.shape)"
   ]
  },
  {
   "cell_type": "code",
   "execution_count": 15,
   "metadata": {},
   "outputs": [
    {
     "data": {
      "text/html": [
       "<div>\n",
       "<style scoped>\n",
       "    .dataframe tbody tr th:only-of-type {\n",
       "        vertical-align: middle;\n",
       "    }\n",
       "\n",
       "    .dataframe tbody tr th {\n",
       "        vertical-align: top;\n",
       "    }\n",
       "\n",
       "    .dataframe thead th {\n",
       "        text-align: right;\n",
       "    }\n",
       "</style>\n",
       "<table border=\"1\" class=\"dataframe\">\n",
       "  <thead>\n",
       "    <tr style=\"text-align: right;\">\n",
       "      <th></th>\n",
       "      <th>index</th>\n",
       "      <th>ghi</th>\n",
       "      <th>year</th>\n",
       "      <th>month</th>\n",
       "      <th>day</th>\n",
       "      <th>hour</th>\n",
       "      <th>min</th>\n",
       "    </tr>\n",
       "  </thead>\n",
       "  <tbody>\n",
       "    <tr>\n",
       "      <th>0</th>\n",
       "      <td>2010-01-01 00:00:00-06:00</td>\n",
       "      <td>0.0</td>\n",
       "      <td>2010</td>\n",
       "      <td>1</td>\n",
       "      <td>1</td>\n",
       "      <td>0</td>\n",
       "      <td>0</td>\n",
       "    </tr>\n",
       "    <tr>\n",
       "      <th>1</th>\n",
       "      <td>2010-01-01 00:01:00-06:00</td>\n",
       "      <td>0.0</td>\n",
       "      <td>2010</td>\n",
       "      <td>1</td>\n",
       "      <td>1</td>\n",
       "      <td>0</td>\n",
       "      <td>1</td>\n",
       "    </tr>\n",
       "    <tr>\n",
       "      <th>2</th>\n",
       "      <td>2010-01-01 00:02:00-06:00</td>\n",
       "      <td>0.0</td>\n",
       "      <td>2010</td>\n",
       "      <td>1</td>\n",
       "      <td>1</td>\n",
       "      <td>0</td>\n",
       "      <td>2</td>\n",
       "    </tr>\n",
       "    <tr>\n",
       "      <th>3</th>\n",
       "      <td>2010-01-01 00:03:00-06:00</td>\n",
       "      <td>0.0</td>\n",
       "      <td>2010</td>\n",
       "      <td>1</td>\n",
       "      <td>1</td>\n",
       "      <td>0</td>\n",
       "      <td>3</td>\n",
       "    </tr>\n",
       "    <tr>\n",
       "      <th>4</th>\n",
       "      <td>2010-01-01 00:04:00-06:00</td>\n",
       "      <td>0.0</td>\n",
       "      <td>2010</td>\n",
       "      <td>1</td>\n",
       "      <td>1</td>\n",
       "      <td>0</td>\n",
       "      <td>4</td>\n",
       "    </tr>\n",
       "  </tbody>\n",
       "</table>\n",
       "</div>"
      ],
      "text/plain": [
       "                      index  ghi  year  month  day  hour  min\n",
       "0 2010-01-01 00:00:00-06:00  0.0  2010      1    1     0    0\n",
       "1 2010-01-01 00:01:00-06:00  0.0  2010      1    1     0    1\n",
       "2 2010-01-01 00:02:00-06:00  0.0  2010      1    1     0    2\n",
       "3 2010-01-01 00:03:00-06:00  0.0  2010      1    1     0    3\n",
       "4 2010-01-01 00:04:00-06:00  0.0  2010      1    1     0    4"
      ]
     },
     "execution_count": 15,
     "metadata": {},
     "output_type": "execute_result"
    }
   ],
   "source": [
    "cs_2010and2011.head()"
   ]
  },
  {
   "cell_type": "markdown",
   "metadata": {},
   "source": [
    "### Import files from each year in a separate dataframe"
   ]
  },
  {
   "cell_type": "markdown",
   "metadata": {
    "collapsed": true
   },
   "source": [
    "\n",
    "- year            integer\t year, i.e., 1995\n",
    "- jday            integer\t Julian day (1 through 365 [or 366])\n",
    "- month           integer\t number of the month (1-12)\n",
    "- day             integer\t day of the month(1-31)\n",
    "- hour            integer\t hour of the day (0-23)\n",
    "- min             integer\t minute of the hour (0-59)\n",
    "- dt              real\t decimal time (hour.decimalminutes, e.g., 23.5 = 2330)\n",
    "- zen             real\t solar zenith angle (degrees)\n",
    "- dw_solar        real\t downwelling global solar (Watts m^-2)\n",
    "- uw_solar        real\t upwelling global solar (Watts m^-2)\n",
    "- direct_n        real\t direct-normal solar (Watts m^-2)\n",
    "- diffuse         real\t downwelling diffuse solar (Watts m^-2)\n",
    "- dw_ir           real\t downwelling thermal infrared (Watts m^-2)\n",
    "- dw_casetemp     real\t downwelling IR case temp. (K)\n",
    "- dw_dometemp     real\t downwelling IR dome temp. (K)\n",
    "- uw_ir           real\t upwelling thermal infrared (Watts m^-2)\n",
    "- uw_casetemp     real\t upwelling IR case temp. (K)\n",
    "- uw_dometemp     real\t upwelling IR dome temp. (K)\n",
    "- uvb             real\t global UVB (milliWatts m^-2)\n",
    "- par             real\t photosynthetically active radiation (Watts m^-2)\n",
    "- netsolar        real\t net solar (dw_solar - uw_solar) (Watts m^-2)\n",
    "- netir           real\t net infrared (dw_ir - uw_ir) (Watts m^-2)\n",
    "- totalnet        real\t net radiation (netsolar+netir) (Watts m^-2)\n",
    "- temp            real\t 10-meter air temperature (?C)\n",
    "- rh              real\t relative humidity (%)\n",
    "- windspd         real\t wind speed (ms^-1)\n",
    "- winddir         real\t wind direction (degrees, clockwise from north)\n",
    "- pressure        real\t station pressure (mb)\n"
   ]
  },
  {
   "cell_type": "code",
   "execution_count": 16,
   "metadata": {},
   "outputs": [],
   "source": [
    "cols = ['year', 'jday', 'month', 'day','hour','min','dt','zen','dw_solar','dw_solar_QC','uw_solar',\n",
    "       'uw_solar_QC', 'direct_n','direct_n_QC','diffuse', 'diffuse_QC', 'dw_ir', 'dw_ir_QC', 'dw_casetemp',\n",
    "       'dw_casetemp_QC', 'dw_dometemp','dw_dometemp_QC','uw_ir', 'uw_ir_QC', 'uw_casetemp','uw_casetemp_QC',\n",
    "       'uw_dometemp','uw_dometemp_QC','uvb','uvb_QC','par','par_QC','netsolar','netsolar_QC','netir','netir_QC',\n",
    "       'totalnet','totalnet_QC','temp','temp_QC','rh','rh_QC','windspd','windspd_QC','winddir','winddir_QC',\n",
    "       'pressure','pressure_QC']"
   ]
  },
  {
   "cell_type": "code",
   "execution_count": 17,
   "metadata": {},
   "outputs": [
    {
     "data": {
      "text/plain": [
       "(1049906, 48)"
      ]
     },
     "execution_count": 17,
     "metadata": {},
     "output_type": "execute_result"
    }
   ],
   "source": [
    "path = r'.\\\\data\\\\Sioux_Falls\\\\Exp_1_train'\n",
    "all_files = glob.glob(path + \"/*.dat\")\n",
    "all_files.sort()\n",
    "\n",
    "df_big_train = pd.concat([pd.read_csv(f, skipinitialspace = True, quotechar = '\"',skiprows=(2),delimiter=' ', \n",
    "                 index_col=False,header=None, names=cols) for f in all_files],ignore_index=True)\n",
    "df_big_train.shape"
   ]
  },
  {
   "cell_type": "code",
   "execution_count": 18,
   "metadata": {},
   "outputs": [
    {
     "data": {
      "text/plain": [
       "(524982, 48)"
      ]
     },
     "execution_count": 18,
     "metadata": {},
     "output_type": "execute_result"
    }
   ],
   "source": [
    "path = r'.\\\\data\\\\Sioux_Falls\\\\Exp_1_test'\n",
    "all_files = glob.glob(path + \"/*.dat\")\n",
    "all_files.sort()\n",
    "\n",
    "df_big_test = pd.concat((pd.read_csv(f, skipinitialspace = True, quotechar = '\"',skiprows=(2),delimiter=' ', \n",
    "                 index_col=False,header=None, names=cols) for f in all_files),ignore_index=True)\n",
    "df_big_test.shape"
   ]
  },
  {
   "cell_type": "code",
   "execution_count": 19,
   "metadata": {},
   "outputs": [
    {
     "data": {
      "text/plain": [
       "(585, 48)"
      ]
     },
     "execution_count": 19,
     "metadata": {},
     "output_type": "execute_result"
    }
   ],
   "source": [
    "df_big_test[df_big_test['dw_solar']==-9999.9].shape"
   ]
  },
  {
   "cell_type": "markdown",
   "metadata": {},
   "source": [
    "### Merging Clear Sky GHI And the big dataframe"
   ]
  },
  {
   "cell_type": "code",
   "execution_count": 20,
   "metadata": {},
   "outputs": [
    {
     "data": {
      "text/plain": [
       "(1049906, 50)"
      ]
     },
     "execution_count": 20,
     "metadata": {},
     "output_type": "execute_result"
    }
   ],
   "source": [
    "df_train = pd.merge(df_big_train, cs_2010and2011, on=['year','month','day','hour','min'])\n",
    "df_train.shape"
   ]
  },
  {
   "cell_type": "code",
   "execution_count": 21,
   "metadata": {},
   "outputs": [
    {
     "data": {
      "text/plain": [
       "(524982, 50)"
      ]
     },
     "execution_count": 21,
     "metadata": {},
     "output_type": "execute_result"
    }
   ],
   "source": [
    "df_test = pd.merge(df_big_test, cs_2009, on=['year','month','day','hour','min'])\n",
    "df_test.shape"
   ]
  },
  {
   "cell_type": "code",
   "execution_count": 22,
   "metadata": {},
   "outputs": [],
   "source": [
    "df_train.drop(['index'],axis=1, inplace=True) #updating the same dataframe by dropping the index columns from clear sky model\n",
    "df_test.drop(['index'], axis=1, inplace=True)"
   ]
  },
  {
   "cell_type": "code",
   "execution_count": 23,
   "metadata": {},
   "outputs": [
    {
     "data": {
      "text/plain": [
       "(1049906, 49)"
      ]
     },
     "execution_count": 23,
     "metadata": {},
     "output_type": "execute_result"
    }
   ],
   "source": [
    "df_train.shape"
   ]
  },
  {
   "cell_type": "markdown",
   "metadata": {},
   "source": [
    "### Managing missing values"
   ]
  },
  {
   "cell_type": "code",
   "execution_count": 24,
   "metadata": {},
   "outputs": [],
   "source": [
    "# Resetting index\n",
    "df_train.reset_index(drop=True, inplace=True)\n",
    "df_test.reset_index(drop=True, inplace=True)"
   ]
  },
  {
   "cell_type": "code",
   "execution_count": 25,
   "metadata": {},
   "outputs": [],
   "source": [
    "# Dropping rows with two or more -9999.9 values in columns"
   ]
  },
  {
   "cell_type": "code",
   "execution_count": 26,
   "metadata": {},
   "outputs": [
    {
     "data": {
      "text/plain": [
       "(1048493, 49)"
      ]
     },
     "execution_count": 26,
     "metadata": {},
     "output_type": "execute_result"
    }
   ],
   "source": [
    "# Step1: Get indices of all rows with 2 or more -999\n",
    "missing_data_indices = np.where((df_train <=-9999.9).apply(sum, axis=1)>=2)[0]\n",
    "# Step2: Drop those indices\n",
    "df_train.drop(missing_data_indices, axis=0, inplace=True)\n",
    "# Checking that the rows are dropped\n",
    "df_train.shape"
   ]
  },
  {
   "cell_type": "code",
   "execution_count": 27,
   "metadata": {},
   "outputs": [
    {
     "data": {
      "text/plain": [
       "(524310, 49)"
      ]
     },
     "execution_count": 27,
     "metadata": {},
     "output_type": "execute_result"
    }
   ],
   "source": [
    "missing_data_indices_test = np.where((df_test <= -9999.9).apply(sum, axis=1)>=2)[0]\n",
    "df_test.drop(missing_data_indices_test, axis=0, inplace=True)\n",
    "df_test.shape"
   ]
  },
  {
   "cell_type": "code",
   "execution_count": 28,
   "metadata": {},
   "outputs": [],
   "source": [
    "# For the rows with only one cell as -9999.9, replacing this cell with the mean of the column"
   ]
  },
  {
   "cell_type": "markdown",
   "metadata": {},
   "source": [
    "#### First resetting index after dropping rows in the previous part of the code"
   ]
  },
  {
   "cell_type": "code",
   "execution_count": 29,
   "metadata": {},
   "outputs": [],
   "source": [
    "# 2nd time - Reseting Index\n",
    "df_train.reset_index(drop=True, inplace=True)\n",
    "df_test.reset_index(drop=True, inplace=True)"
   ]
  },
  {
   "cell_type": "code",
   "execution_count": 30,
   "metadata": {},
   "outputs": [],
   "source": [
    "one_miss_train_idx = np.where((df_train <=-9999.9).apply(sum, axis=1)==1)[0]"
   ]
  },
  {
   "cell_type": "code",
   "execution_count": 31,
   "metadata": {},
   "outputs": [
    {
     "data": {
      "text/plain": [
       "6872"
      ]
     },
     "execution_count": 31,
     "metadata": {},
     "output_type": "execute_result"
    }
   ],
   "source": [
    "len(one_miss_train_idx)"
   ]
  },
  {
   "cell_type": "code",
   "execution_count": 32,
   "metadata": {},
   "outputs": [
    {
     "data": {
      "text/plain": [
       "(1048493, 49)"
      ]
     },
     "execution_count": 32,
     "metadata": {},
     "output_type": "execute_result"
    }
   ],
   "source": [
    "df_train.shape"
   ]
  },
  {
   "cell_type": "code",
   "execution_count": 33,
   "metadata": {},
   "outputs": [
    {
     "name": "stderr",
     "output_type": "stream",
     "text": [
      "C:\\Users\\s269596\\AppData\\Local\\Continuum\\Anaconda3\\lib\\site-packages\\pandas\\core\\indexing.py:194: SettingWithCopyWarning: \n",
      "A value is trying to be set on a copy of a slice from a DataFrame\n",
      "\n",
      "See the caveats in the documentation: http://pandas.pydata.org/pandas-docs/stable/indexing.html#indexing-view-versus-copy\n",
      "  self._setitem_with_indexer(indexer, value)\n"
     ]
    }
   ],
   "source": [
    "col_names = df_train.columns\n",
    "from collections import defaultdict\n",
    "stats = defaultdict(int)\n",
    "total_single_missing_values = 0\n",
    "for name in col_names:\n",
    "    col_mean = df_train[~(df_train[name] == -9999.9)][name].mean()\n",
    "    missing_indices = np.where((df_train[name] == -9999.9))\n",
    "    stats[name] = len(missing_indices[0])\n",
    "    df_train[name].loc[missing_indices] = col_mean\n",
    "    total_single_missing_values += sum(df_train[name] == -9999.9)\n",
    "    "
   ]
  },
  {
   "cell_type": "code",
   "execution_count": 34,
   "metadata": {},
   "outputs": [],
   "source": [
    "df_col_min = df_train.apply(min, axis=0)\n",
    "df_col_max = df_train.apply(max, axis =0)\n",
    "#print(df_col_min, df_col_max)"
   ]
  },
  {
   "cell_type": "code",
   "execution_count": 35,
   "metadata": {},
   "outputs": [],
   "source": [
    "train = np.where((df_train <=-9999.9).apply(sum, axis=1)==1)[0]"
   ]
  },
  {
   "cell_type": "code",
   "execution_count": 36,
   "metadata": {},
   "outputs": [
    {
     "data": {
      "text/plain": [
       "0"
      ]
     },
     "execution_count": 36,
     "metadata": {},
     "output_type": "execute_result"
    }
   ],
   "source": [
    "len(train)"
   ]
  },
  {
   "cell_type": "code",
   "execution_count": 37,
   "metadata": {},
   "outputs": [],
   "source": [
    "# doing the same thing on test dataset"
   ]
  },
  {
   "cell_type": "code",
   "execution_count": 38,
   "metadata": {},
   "outputs": [
    {
     "data": {
      "text/plain": [
       "1576"
      ]
     },
     "execution_count": 38,
     "metadata": {},
     "output_type": "execute_result"
    }
   ],
   "source": [
    "one_miss_test_idx = np.where((df_test <=-9999.9).apply(sum, axis=1)==1)[0]\n",
    "len(one_miss_test_idx)"
   ]
  },
  {
   "cell_type": "code",
   "execution_count": 39,
   "metadata": {},
   "outputs": [
    {
     "name": "stderr",
     "output_type": "stream",
     "text": [
      "C:\\Users\\s269596\\AppData\\Local\\Continuum\\Anaconda3\\lib\\site-packages\\pandas\\core\\indexing.py:194: SettingWithCopyWarning: \n",
      "A value is trying to be set on a copy of a slice from a DataFrame\n",
      "\n",
      "See the caveats in the documentation: http://pandas.pydata.org/pandas-docs/stable/indexing.html#indexing-view-versus-copy\n",
      "  self._setitem_with_indexer(indexer, value)\n"
     ]
    }
   ],
   "source": [
    "col_names_test = df_test.columns\n",
    "from collections import defaultdict\n",
    "stats_test = defaultdict(int)\n",
    "total_single_missing_values_test = 0\n",
    "for name in col_names_test:\n",
    "    col_mean = df_test[~(df_test[name] == -9999.9)][name].mean()\n",
    "    missing_indices = np.where((df_test[name] == -9999.9))\n",
    "    stats_test[name] = len(missing_indices[0])\n",
    "    df_test[name].loc[missing_indices] = col_mean\n",
    "    total_single_missing_values_test += sum(df_test[name] == -9999.9)\n",
    "    "
   ]
  },
  {
   "cell_type": "code",
   "execution_count": 40,
   "metadata": {},
   "outputs": [],
   "source": [
    "test = np.where((df_test <=-9999.9).apply(sum, axis=1)==1)[0]"
   ]
  },
  {
   "cell_type": "code",
   "execution_count": 41,
   "metadata": {},
   "outputs": [
    {
     "data": {
      "text/plain": [
       "0"
      ]
     },
     "execution_count": 41,
     "metadata": {},
     "output_type": "execute_result"
    }
   ],
   "source": [
    "len(test)"
   ]
  },
  {
   "cell_type": "code",
   "execution_count": 42,
   "metadata": {},
   "outputs": [
    {
     "data": {
      "text/plain": [
       "(1048493, 49)"
      ]
     },
     "execution_count": 42,
     "metadata": {},
     "output_type": "execute_result"
    }
   ],
   "source": [
    "df_train.shape"
   ]
  },
  {
   "cell_type": "code",
   "execution_count": 43,
   "metadata": {},
   "outputs": [
    {
     "data": {
      "text/plain": [
       "(524310, 49)"
      ]
     },
     "execution_count": 43,
     "metadata": {},
     "output_type": "execute_result"
    }
   ],
   "source": [
    "df_test.shape"
   ]
  },
  {
   "cell_type": "markdown",
   "metadata": {},
   "source": [
    "### Exploratory Data Analysis"
   ]
  },
  {
   "cell_type": "code",
   "execution_count": 44,
   "metadata": {},
   "outputs": [],
   "source": [
    "dw_solar_everyday = df_test.groupby(['jday'])['dw_solar'].mean()\n",
    "ghi_everyday = df_test.groupby(['jday'])['ghi'].mean()\n",
    "j_day = df_test['jday'].unique()"
   ]
  },
  {
   "cell_type": "code",
   "execution_count": 45,
   "metadata": {},
   "outputs": [
    {
     "data": {
      "image/png": "[encoded data removed]",
      "text/plain": [
       "<Figure size 432x288 with 1 Axes>"
      ]
     },
     "metadata": {},
     "output_type": "display_data"
    }
   ],
   "source": [
    "fig = plt.figure()\n",
    "\n",
    "axes1 = fig.add_axes([0.1,0.1,0.8,0.8])\n",
    "#axes2 = fig.add_axes([0.1,0.1,0.8,0.8])\n",
    "\n",
    "axes1.scatter(j_day,dw_solar_everyday,label='Observed dw_solar',color='red')\n",
    "axes1.scatter(j_day, ghi_everyday, label='Clear Sky GHI',color='green')\n",
    "\n",
    "axes1.set_xlabel('Days')\n",
    "axes1.set_ylabel('Solar Irradiance (Watts /m^2)')\n",
    "axes1.set_title('Solar Irradiance - Test Year 2009')\n",
    "axes1.legend(loc='best')\n",
    "\n",
    "fig.savefig('Figure2a.png', bbox_inches = 'tight')"
   ]
  },
  {
   "cell_type": "code",
   "execution_count": 46,
   "metadata": {},
   "outputs": [
    {
     "name": "stderr",
     "output_type": "stream",
     "text": [
      "C:\\Users\\s269596\\AppData\\Local\\Continuum\\Anaconda3\\lib\\site-packages\\matplotlib\\axes\\_axes.py:6462: UserWarning: The 'normed' kwarg is deprecated, and has been replaced by the 'density' kwarg.\n",
      "  warnings.warn(\"The 'normed' kwarg is deprecated, and has been \"\n"
     ]
    },
    {
     "data": {
      "image/png": "[encoded data removed]",
      "text/plain": [
       "<Figure size 432x432 with 3 Axes>"
      ]
     },
     "metadata": {},
     "output_type": "display_data"
    }
   ],
   "source": [
    "sns.jointplot(x=dw_solar_everyday,y=ghi_everyday,kind='reg')\n",
    "#plt.title('observed dw_solar vs clear sky ghi')\n",
    "plt.xlabel('Observed global downwelling solar (Watts/m^2)')\n",
    "plt.ylabel('Clear Sky GHI (Watts/m^2)')\n",
    "plt.savefig('Figure3a.png', bbox_inches='tight')"
   ]
  },
  {
   "cell_type": "markdown",
   "metadata": {},
   "source": [
    "### making the Kt (clear sky index at time t) column by first removing rows with ghi==0"
   ]
  },
  {
   "cell_type": "code",
   "execution_count": 47,
   "metadata": {},
   "outputs": [],
   "source": [
    "df_train = df_train[df_train['ghi']!=0]\n",
    "df_test = df_test[df_test['ghi']!=0]\n",
    "df_train['Kt'] = df_train['dw_solar']/df_train['ghi']\n",
    "df_test['Kt'] = df_test['dw_solar']/df_test['ghi']"
   ]
  },
  {
   "cell_type": "code",
   "execution_count": 48,
   "metadata": {},
   "outputs": [],
   "source": [
    "df_train.reset_index(inplace=True)\n",
    "df_test.reset_index(inplace=True)"
   ]
  },
  {
   "cell_type": "code",
   "execution_count": 49,
   "metadata": {},
   "outputs": [
    {
     "name": "stdout",
     "output_type": "stream",
     "text": [
      "test Kt max: 16815.23562858055\n",
      "test Kt min: -59.82928662131299\n",
      "test Kt mean: 2.5854594971725517\n",
      "\n",
      "\n",
      "train Kt max: 35403.71260380253\n",
      "train Kt min: -1080.8061639132102\n",
      "train Kt mean: 2.849421609595172\n"
     ]
    }
   ],
   "source": [
    "print(\"test Kt max: \"+str(df_test['Kt'].max()))\n",
    "print(\"test Kt min: \"+str(df_test['Kt'].min()))\n",
    "print(\"test Kt mean: \"+str(df_test['Kt'].mean()))\n",
    "print(\"\\n\")\n",
    "print(\"train Kt max: \"+str(df_train['Kt'].max()))\n",
    "print(\"train Kt min: \"+str(df_train['Kt'].min()))\n",
    "print(\"train Kt mean: \"+str(df_train['Kt'].mean()))"
   ]
  },
  {
   "cell_type": "code",
   "execution_count": 50,
   "metadata": {},
   "outputs": [
    {
     "data": {
      "text/plain": [
       "[<matplotlib.lines.Line2D at 0xce340b8>]"
      ]
     },
     "execution_count": 50,
     "metadata": {},
     "output_type": "execute_result"
    },
    {
     "data": {
      "image/png": "[encoded data removed]",
      "text/plain": [
       "<Figure size 432x288 with 1 Axes>"
      ]
     },
     "metadata": {},
     "output_type": "display_data"
    }
   ],
   "source": [
    "plt.plot(df_train['Kt'])"
   ]
  },
  {
   "cell_type": "code",
   "execution_count": 51,
   "metadata": {},
   "outputs": [
    {
     "data": {
      "text/plain": [
       "[<matplotlib.lines.Line2D at 0xce06780>]"
      ]
     },
     "execution_count": 51,
     "metadata": {},
     "output_type": "execute_result"
    },
    {
     "data": {
      "image/png": "[encoded data removed]",
      "text/plain": [
       "<Figure size 432x288 with 1 Axes>"
      ]
     },
     "metadata": {},
     "output_type": "display_data"
    }
   ],
   "source": [
    "plt.plot(df_test['Kt'])"
   ]
  },
  {
   "cell_type": "code",
   "execution_count": 52,
   "metadata": {},
   "outputs": [],
   "source": [
    "df_train= df_train[df_train['Kt']< 5000]\n",
    "df_train= df_train[df_train['Kt']> -1000]\n",
    "df_test= df_test[df_test['Kt']< 5000]\n",
    "df_test= df_test[df_test['Kt']> -1000]"
   ]
  },
  {
   "cell_type": "markdown",
   "metadata": {},
   "source": [
    "#### Group the data (train dataframe)"
   ]
  },
  {
   "cell_type": "code",
   "execution_count": 53,
   "metadata": {},
   "outputs": [],
   "source": [
    "zen = df_train.groupby(['year','month','day','hour'])['zen'].mean()\n",
    "dw_solar = df_train.groupby(['year','month','day','hour'])['dw_solar'].mean()\n",
    "uw_solar = df_train.groupby(['year','month','day','hour'])['uw_solar'].mean()\n",
    "direct_n = df_train.groupby(['year','month','day','hour'])['direct_n'].mean()\n",
    "diffuse = df_train.groupby(['year','month','day','hour'])['diffuse'].mean()\n",
    "dw_ir = df_train.groupby(['year','month','day','hour'])['dw_ir'].mean()\n",
    "dw_casetemp = df_train.groupby(['year','month','day','hour'])['dw_casetemp'].mean()\n",
    "dw_dometemp = df_train.groupby(['year','month','day','hour'])['dw_dometemp'].mean()\n",
    "uw_ir = df_train.groupby(['year','month','day','hour'])['uw_ir'].mean()\n",
    "uw_casetemp = df_train.groupby(['year','month','day','hour'])['uw_casetemp'].mean()\n",
    "uw_dometemp = df_train.groupby(['year','month','day','hour'])['uw_dometemp'].mean()\n",
    "uvb = df_train.groupby(['year','month','day','hour'])['uvb'].mean()\n",
    "par = df_train.groupby(['year','month','day','hour'])['par'].mean()\n",
    "netsolar = df_train.groupby(['year','month','day','hour'])['netsolar'].mean()\n",
    "netir = df_train.groupby(['year','month','day','hour'])['netir'].mean()\n",
    "totalnet = df_train.groupby(['year','month','day','hour'])['totalnet'].mean()\n",
    "temp = df_train.groupby(['year','month','day','hour'])['temp'].mean()\n",
    "rh = df_train.groupby(['year','month','day','hour'])['rh'].mean()\n",
    "windspd = df_train.groupby(['year','month','day','hour'])['windspd'].mean()\n",
    "winddir = df_train.groupby(['year','month','day','hour'])['winddir'].mean()\n",
    "pressure = df_train.groupby(['year','month','day','hour'])['pressure'].mean()\n",
    "ghi = df_train.groupby(['year','month','day','hour'])['ghi'].mean()\n",
    "Kt = df_train.groupby(['year','month','day','hour'])['Kt'].mean()"
   ]
  },
  {
   "cell_type": "code",
   "execution_count": 54,
   "metadata": {},
   "outputs": [],
   "source": [
    "df_new_train = pd.concat([zen,dw_solar,uw_solar,direct_n,diffuse,dw_ir,dw_casetemp,dw_dometemp,uw_ir,uw_casetemp,uw_dometemp,\n",
    "                    uvb,par,netsolar,netir,totalnet,temp,rh,windspd,winddir,pressure,ghi,Kt], axis=1)"
   ]
  },
  {
   "cell_type": "code",
   "execution_count": 55,
   "metadata": {},
   "outputs": [
    {
     "data": {
      "text/html": [
       "<div>\n",
       "<style scoped>\n",
       "    .dataframe tbody tr th:only-of-type {\n",
       "        vertical-align: middle;\n",
       "    }\n",
       "\n",
       "    .dataframe tbody tr th {\n",
       "        vertical-align: top;\n",
       "    }\n",
       "\n",
       "    .dataframe thead th {\n",
       "        text-align: right;\n",
       "    }\n",
       "</style>\n",
       "<table border=\"1\" class=\"dataframe\">\n",
       "  <thead>\n",
       "    <tr style=\"text-align: right;\">\n",
       "      <th></th>\n",
       "      <th></th>\n",
       "      <th></th>\n",
       "      <th></th>\n",
       "      <th>zen</th>\n",
       "      <th>dw_solar</th>\n",
       "      <th>uw_solar</th>\n",
       "      <th>direct_n</th>\n",
       "      <th>diffuse</th>\n",
       "      <th>dw_ir</th>\n",
       "      <th>dw_casetemp</th>\n",
       "      <th>dw_dometemp</th>\n",
       "      <th>uw_ir</th>\n",
       "      <th>uw_casetemp</th>\n",
       "      <th>...</th>\n",
       "      <th>netsolar</th>\n",
       "      <th>netir</th>\n",
       "      <th>totalnet</th>\n",
       "      <th>temp</th>\n",
       "      <th>rh</th>\n",
       "      <th>windspd</th>\n",
       "      <th>winddir</th>\n",
       "      <th>pressure</th>\n",
       "      <th>ghi</th>\n",
       "      <th>Kt</th>\n",
       "    </tr>\n",
       "    <tr>\n",
       "      <th>year</th>\n",
       "      <th>month</th>\n",
       "      <th>day</th>\n",
       "      <th>hour</th>\n",
       "      <th></th>\n",
       "      <th></th>\n",
       "      <th></th>\n",
       "      <th></th>\n",
       "      <th></th>\n",
       "      <th></th>\n",
       "      <th></th>\n",
       "      <th></th>\n",
       "      <th></th>\n",
       "      <th></th>\n",
       "      <th></th>\n",
       "      <th></th>\n",
       "      <th></th>\n",
       "      <th></th>\n",
       "      <th></th>\n",
       "      <th></th>\n",
       "      <th></th>\n",
       "      <th></th>\n",
       "      <th></th>\n",
       "      <th></th>\n",
       "      <th></th>\n",
       "    </tr>\n",
       "  </thead>\n",
       "  <tbody>\n",
       "    <tr>\n",
       "      <th rowspan=\"5\" valign=\"top\">2010.0</th>\n",
       "      <th rowspan=\"5\" valign=\"top\">1.0</th>\n",
       "      <th rowspan=\"5\" valign=\"top\">1.0</th>\n",
       "      <th>8.0</th>\n",
       "      <td>147.640000</td>\n",
       "      <td>-3.319298</td>\n",
       "      <td>-0.385965</td>\n",
       "      <td>2.254386</td>\n",
       "      <td>0.217544</td>\n",
       "      <td>240.949123</td>\n",
       "      <td>257.463158</td>\n",
       "      <td>257.122807</td>\n",
       "      <td>241.624561</td>\n",
       "      <td>255.159649</td>\n",
       "      <td>...</td>\n",
       "      <td>0.0</td>\n",
       "      <td>-1.271930</td>\n",
       "      <td>-1.271930</td>\n",
       "      <td>-17.843860</td>\n",
       "      <td>86.363158</td>\n",
       "      <td>3.459649</td>\n",
       "      <td>322.194737</td>\n",
       "      <td>971.714035</td>\n",
       "      <td>56.746103</td>\n",
       "      <td>-0.069423</td>\n",
       "    </tr>\n",
       "    <tr>\n",
       "      <th>9.0</th>\n",
       "      <td>137.909167</td>\n",
       "      <td>-3.186667</td>\n",
       "      <td>-0.033333</td>\n",
       "      <td>1.803333</td>\n",
       "      <td>0.180000</td>\n",
       "      <td>245.716667</td>\n",
       "      <td>258.640000</td>\n",
       "      <td>258.251667</td>\n",
       "      <td>245.268333</td>\n",
       "      <td>256.210000</td>\n",
       "      <td>...</td>\n",
       "      <td>0.0</td>\n",
       "      <td>-0.618333</td>\n",
       "      <td>-0.618333</td>\n",
       "      <td>-16.991667</td>\n",
       "      <td>84.353333</td>\n",
       "      <td>3.388333</td>\n",
       "      <td>340.455000</td>\n",
       "      <td>972.018333</td>\n",
       "      <td>173.258555</td>\n",
       "      <td>-0.019518</td>\n",
       "    </tr>\n",
       "    <tr>\n",
       "      <th>10.0</th>\n",
       "      <td>127.232667</td>\n",
       "      <td>-3.213333</td>\n",
       "      <td>0.013333</td>\n",
       "      <td>1.315000</td>\n",
       "      <td>0.186667</td>\n",
       "      <td>234.545000</td>\n",
       "      <td>258.533333</td>\n",
       "      <td>258.103333</td>\n",
       "      <td>243.210000</td>\n",
       "      <td>256.148333</td>\n",
       "      <td>...</td>\n",
       "      <td>0.0</td>\n",
       "      <td>-8.660000</td>\n",
       "      <td>-8.660000</td>\n",
       "      <td>-17.196667</td>\n",
       "      <td>84.298333</td>\n",
       "      <td>3.696667</td>\n",
       "      <td>342.185000</td>\n",
       "      <td>972.093333</td>\n",
       "      <td>291.141970</td>\n",
       "      <td>-0.011144</td>\n",
       "    </tr>\n",
       "    <tr>\n",
       "      <th>11.0</th>\n",
       "      <td>116.433167</td>\n",
       "      <td>-3.265000</td>\n",
       "      <td>0.000000</td>\n",
       "      <td>1.536667</td>\n",
       "      <td>0.241667</td>\n",
       "      <td>225.940000</td>\n",
       "      <td>258.170000</td>\n",
       "      <td>257.753333</td>\n",
       "      <td>240.096667</td>\n",
       "      <td>255.845000</td>\n",
       "      <td>...</td>\n",
       "      <td>0.0</td>\n",
       "      <td>-14.153333</td>\n",
       "      <td>-14.153333</td>\n",
       "      <td>-17.428333</td>\n",
       "      <td>84.266667</td>\n",
       "      <td>3.226667</td>\n",
       "      <td>335.816667</td>\n",
       "      <td>972.341667</td>\n",
       "      <td>369.552873</td>\n",
       "      <td>-0.008872</td>\n",
       "    </tr>\n",
       "    <tr>\n",
       "      <th>12.0</th>\n",
       "      <td>105.860667</td>\n",
       "      <td>-3.126667</td>\n",
       "      <td>-0.001667</td>\n",
       "      <td>1.645000</td>\n",
       "      <td>0.226667</td>\n",
       "      <td>240.656667</td>\n",
       "      <td>258.306667</td>\n",
       "      <td>257.915000</td>\n",
       "      <td>243.390000</td>\n",
       "      <td>255.910000</td>\n",
       "      <td>...</td>\n",
       "      <td>0.0</td>\n",
       "      <td>-2.736667</td>\n",
       "      <td>-2.736667</td>\n",
       "      <td>-17.298333</td>\n",
       "      <td>84.818333</td>\n",
       "      <td>3.295000</td>\n",
       "      <td>331.678333</td>\n",
       "      <td>972.923333</td>\n",
       "      <td>397.404717</td>\n",
       "      <td>-0.007868</td>\n",
       "    </tr>\n",
       "  </tbody>\n",
       "</table>\n",
       "<p>5 rows × 23 columns</p>\n",
       "</div>"
      ],
      "text/plain": [
       "                              zen  dw_solar  uw_solar  direct_n   diffuse  \\\n",
       "year   month day hour                                                       \n",
       "2010.0 1.0   1.0 8.0   147.640000 -3.319298 -0.385965  2.254386  0.217544   \n",
       "                 9.0   137.909167 -3.186667 -0.033333  1.803333  0.180000   \n",
       "                 10.0  127.232667 -3.213333  0.013333  1.315000  0.186667   \n",
       "                 11.0  116.433167 -3.265000  0.000000  1.536667  0.241667   \n",
       "                 12.0  105.860667 -3.126667 -0.001667  1.645000  0.226667   \n",
       "\n",
       "                            dw_ir  dw_casetemp  dw_dometemp       uw_ir  \\\n",
       "year   month day hour                                                     \n",
       "2010.0 1.0   1.0 8.0   240.949123   257.463158   257.122807  241.624561   \n",
       "                 9.0   245.716667   258.640000   258.251667  245.268333   \n",
       "                 10.0  234.545000   258.533333   258.103333  243.210000   \n",
       "                 11.0  225.940000   258.170000   257.753333  240.096667   \n",
       "                 12.0  240.656667   258.306667   257.915000  243.390000   \n",
       "\n",
       "                       uw_casetemp    ...     netsolar      netir   totalnet  \\\n",
       "year   month day hour                 ...                                      \n",
       "2010.0 1.0   1.0 8.0    255.159649    ...          0.0  -1.271930  -1.271930   \n",
       "                 9.0    256.210000    ...          0.0  -0.618333  -0.618333   \n",
       "                 10.0   256.148333    ...          0.0  -8.660000  -8.660000   \n",
       "                 11.0   255.845000    ...          0.0 -14.153333 -14.153333   \n",
       "                 12.0   255.910000    ...          0.0  -2.736667  -2.736667   \n",
       "\n",
       "                            temp         rh   windspd     winddir    pressure  \\\n",
       "year   month day hour                                                           \n",
       "2010.0 1.0   1.0 8.0  -17.843860  86.363158  3.459649  322.194737  971.714035   \n",
       "                 9.0  -16.991667  84.353333  3.388333  340.455000  972.018333   \n",
       "                 10.0 -17.196667  84.298333  3.696667  342.185000  972.093333   \n",
       "                 11.0 -17.428333  84.266667  3.226667  335.816667  972.341667   \n",
       "                 12.0 -17.298333  84.818333  3.295000  331.678333  972.923333   \n",
       "\n",
       "                              ghi        Kt  \n",
       "year   month day hour                        \n",
       "2010.0 1.0   1.0 8.0    56.746103 -0.069423  \n",
       "                 9.0   173.258555 -0.019518  \n",
       "                 10.0  291.141970 -0.011144  \n",
       "                 11.0  369.552873 -0.008872  \n",
       "                 12.0  397.404717 -0.007868  \n",
       "\n",
       "[5 rows x 23 columns]"
      ]
     },
     "execution_count": 55,
     "metadata": {},
     "output_type": "execute_result"
    }
   ],
   "source": [
    "df_new_train.head()"
   ]
  },
  {
   "cell_type": "markdown",
   "metadata": {},
   "source": [
    "#### Groupdata - test dataframe"
   ]
  },
  {
   "cell_type": "code",
   "execution_count": 56,
   "metadata": {},
   "outputs": [],
   "source": [
    "test_zen = df_test.groupby(['month','day','hour'])['zen'].mean()\n",
    "test_dw_solar = df_test.groupby(['month','day','hour'])['dw_solar'].mean()\n",
    "test_uw_solar = df_test.groupby(['month','day','hour'])['uw_solar'].mean()\n",
    "test_direct_n = df_test.groupby(['month','day','hour'])['direct_n'].mean()\n",
    "test_diffuse = df_test.groupby(['month','day','hour'])['diffuse'].mean()\n",
    "test_dw_ir = df_test.groupby(['month','day','hour'])['dw_ir'].mean()\n",
    "test_dw_casetemp = df_test.groupby(['month','day','hour'])['dw_casetemp'].mean()\n",
    "test_dw_dometemp = df_test.groupby(['month','day','hour'])['dw_dometemp'].mean()\n",
    "test_uw_ir = df_test.groupby(['month','day','hour'])['uw_ir'].mean()\n",
    "test_uw_casetemp = df_test.groupby(['month','day','hour'])['uw_casetemp'].mean()\n",
    "test_uw_dometemp = df_test.groupby(['month','day','hour'])['uw_dometemp'].mean()\n",
    "test_uvb = df_test.groupby(['month','day','hour'])['uvb'].mean()\n",
    "test_par = df_test.groupby(['month','day','hour'])['par'].mean()\n",
    "test_netsolar = df_test.groupby(['month','day','hour'])['netsolar'].mean()\n",
    "test_netir = df_test.groupby(['month','day','hour'])['netir'].mean()\n",
    "test_totalnet = df_test.groupby(['month','day','hour'])['totalnet'].mean()\n",
    "test_temp = df_test.groupby(['month','day','hour'])['temp'].mean()\n",
    "test_rh = df_test.groupby(['month','day','hour'])['rh'].mean()\n",
    "test_windspd = df_test.groupby(['month','day','hour'])['windspd'].mean()\n",
    "test_winddir = df_test.groupby(['month','day','hour'])['winddir'].mean()\n",
    "test_pressure = df_test.groupby(['month','day','hour'])['pressure'].mean()\n",
    "test_ghi = df_test.groupby(['month','day','hour'])['ghi'].mean()\n",
    "test_Kt = df_test.groupby(['month','day','hour'])['Kt'].mean()"
   ]
  },
  {
   "cell_type": "code",
   "execution_count": 57,
   "metadata": {},
   "outputs": [],
   "source": [
    "df_new_test = pd.concat([test_zen,test_dw_solar,test_uw_solar,test_direct_n,test_diffuse,test_dw_ir,\n",
    "                         test_dw_casetemp,test_dw_dometemp,test_uw_ir,test_uw_casetemp,test_uw_dometemp,\n",
    "                    test_uvb,test_par,test_netsolar,test_netir,test_totalnet,test_temp,test_rh,\n",
    "                         test_windspd,test_winddir,test_pressure,test_ghi,test_Kt], axis=1)"
   ]
  },
  {
   "cell_type": "code",
   "execution_count": 58,
   "metadata": {},
   "outputs": [
    {
     "data": {
      "text/html": [
       "<div>\n",
       "<style scoped>\n",
       "    .dataframe tbody tr th:only-of-type {\n",
       "        vertical-align: middle;\n",
       "    }\n",
       "\n",
       "    .dataframe tbody tr th {\n",
       "        vertical-align: top;\n",
       "    }\n",
       "\n",
       "    .dataframe thead th {\n",
       "        text-align: right;\n",
       "    }\n",
       "</style>\n",
       "<table border=\"1\" class=\"dataframe\">\n",
       "  <thead>\n",
       "    <tr style=\"text-align: right;\">\n",
       "      <th></th>\n",
       "      <th>zen</th>\n",
       "      <th>dw_solar</th>\n",
       "      <th>uw_solar</th>\n",
       "      <th>direct_n</th>\n",
       "      <th>diffuse</th>\n",
       "      <th>dw_ir</th>\n",
       "      <th>dw_casetemp</th>\n",
       "      <th>dw_dometemp</th>\n",
       "      <th>uw_ir</th>\n",
       "      <th>uw_casetemp</th>\n",
       "      <th>...</th>\n",
       "      <th>netsolar</th>\n",
       "      <th>netir</th>\n",
       "      <th>totalnet</th>\n",
       "      <th>temp</th>\n",
       "      <th>rh</th>\n",
       "      <th>windspd</th>\n",
       "      <th>winddir</th>\n",
       "      <th>pressure</th>\n",
       "      <th>ghi</th>\n",
       "      <th>Kt</th>\n",
       "    </tr>\n",
       "    <tr>\n",
       "      <th>hour</th>\n",
       "      <th></th>\n",
       "      <th></th>\n",
       "      <th></th>\n",
       "      <th></th>\n",
       "      <th></th>\n",
       "      <th></th>\n",
       "      <th></th>\n",
       "      <th></th>\n",
       "      <th></th>\n",
       "      <th></th>\n",
       "      <th></th>\n",
       "      <th></th>\n",
       "      <th></th>\n",
       "      <th></th>\n",
       "      <th></th>\n",
       "      <th></th>\n",
       "      <th></th>\n",
       "      <th></th>\n",
       "      <th></th>\n",
       "      <th></th>\n",
       "      <th></th>\n",
       "    </tr>\n",
       "  </thead>\n",
       "  <tbody>\n",
       "    <tr>\n",
       "      <th>7.0</th>\n",
       "      <td>145.536667</td>\n",
       "      <td>-5.036111</td>\n",
       "      <td>-0.005556</td>\n",
       "      <td>1.050000</td>\n",
       "      <td>-1.691667</td>\n",
       "      <td>225.650000</td>\n",
       "      <td>271.297222</td>\n",
       "      <td>270.644444</td>\n",
       "      <td>290.319444</td>\n",
       "      <td>268.880556</td>\n",
       "      <td>...</td>\n",
       "      <td>0.000000</td>\n",
       "      <td>-64.661111</td>\n",
       "      <td>-64.661111</td>\n",
       "      <td>-4.211111</td>\n",
       "      <td>89.900000</td>\n",
       "      <td>3.958333</td>\n",
       "      <td>150.894444</td>\n",
       "      <td>952.938889</td>\n",
       "      <td>38.153234</td>\n",
       "      <td>-0.171464</td>\n",
       "    </tr>\n",
       "    <tr>\n",
       "      <th>8.0</th>\n",
       "      <td>140.396000</td>\n",
       "      <td>-4.896667</td>\n",
       "      <td>-0.068333</td>\n",
       "      <td>1.795000</td>\n",
       "      <td>-1.573333</td>\n",
       "      <td>236.036667</td>\n",
       "      <td>270.815000</td>\n",
       "      <td>270.221667</td>\n",
       "      <td>288.866667</td>\n",
       "      <td>268.450000</td>\n",
       "      <td>...</td>\n",
       "      <td>0.000000</td>\n",
       "      <td>-52.828333</td>\n",
       "      <td>-52.828333</td>\n",
       "      <td>-4.593333</td>\n",
       "      <td>91.183333</td>\n",
       "      <td>3.235000</td>\n",
       "      <td>148.135000</td>\n",
       "      <td>952.245000</td>\n",
       "      <td>148.814364</td>\n",
       "      <td>-0.037425</td>\n",
       "    </tr>\n",
       "    <tr>\n",
       "      <th>9.0</th>\n",
       "      <td>131.753500</td>\n",
       "      <td>-4.581667</td>\n",
       "      <td>-0.096667</td>\n",
       "      <td>3.088333</td>\n",
       "      <td>-1.426667</td>\n",
       "      <td>247.976667</td>\n",
       "      <td>270.580000</td>\n",
       "      <td>269.986667</td>\n",
       "      <td>288.435000</td>\n",
       "      <td>268.101667</td>\n",
       "      <td>...</td>\n",
       "      <td>0.000000</td>\n",
       "      <td>-40.468333</td>\n",
       "      <td>-40.468333</td>\n",
       "      <td>-4.898333</td>\n",
       "      <td>92.058333</td>\n",
       "      <td>2.476667</td>\n",
       "      <td>131.661667</td>\n",
       "      <td>951.585000</td>\n",
       "      <td>314.244805</td>\n",
       "      <td>-0.015046</td>\n",
       "    </tr>\n",
       "    <tr>\n",
       "      <th>10.0</th>\n",
       "      <td>121.700500</td>\n",
       "      <td>-4.665000</td>\n",
       "      <td>-0.340000</td>\n",
       "      <td>3.340000</td>\n",
       "      <td>-1.415000</td>\n",
       "      <td>241.571667</td>\n",
       "      <td>270.898333</td>\n",
       "      <td>270.323333</td>\n",
       "      <td>287.598333</td>\n",
       "      <td>268.296667</td>\n",
       "      <td>...</td>\n",
       "      <td>0.000000</td>\n",
       "      <td>-46.030000</td>\n",
       "      <td>-46.030000</td>\n",
       "      <td>-4.451667</td>\n",
       "      <td>91.293333</td>\n",
       "      <td>2.421667</td>\n",
       "      <td>145.975000</td>\n",
       "      <td>950.940000</td>\n",
       "      <td>454.239484</td>\n",
       "      <td>-0.010324</td>\n",
       "    </tr>\n",
       "    <tr>\n",
       "      <th>11.0</th>\n",
       "      <td>111.024500</td>\n",
       "      <td>-4.480000</td>\n",
       "      <td>-0.051667</td>\n",
       "      <td>4.360000</td>\n",
       "      <td>-1.233333</td>\n",
       "      <td>271.590000</td>\n",
       "      <td>271.455000</td>\n",
       "      <td>270.916667</td>\n",
       "      <td>294.383333</td>\n",
       "      <td>268.693333</td>\n",
       "      <td>...</td>\n",
       "      <td>0.000000</td>\n",
       "      <td>-22.785000</td>\n",
       "      <td>-22.785000</td>\n",
       "      <td>-4.213333</td>\n",
       "      <td>91.341667</td>\n",
       "      <td>2.233333</td>\n",
       "      <td>118.871667</td>\n",
       "      <td>950.326667</td>\n",
       "      <td>548.885814</td>\n",
       "      <td>-0.008169</td>\n",
       "    </tr>\n",
       "    <tr>\n",
       "      <th>12.0</th>\n",
       "      <td>100.208500</td>\n",
       "      <td>-4.666667</td>\n",
       "      <td>-0.300000</td>\n",
       "      <td>3.253333</td>\n",
       "      <td>-1.396667</td>\n",
       "      <td>240.323333</td>\n",
       "      <td>271.436667</td>\n",
       "      <td>270.723333</td>\n",
       "      <td>287.046667</td>\n",
       "      <td>268.766667</td>\n",
       "      <td>...</td>\n",
       "      <td>0.000000</td>\n",
       "      <td>-46.735000</td>\n",
       "      <td>-46.735000</td>\n",
       "      <td>-4.025000</td>\n",
       "      <td>91.908333</td>\n",
       "      <td>2.181667</td>\n",
       "      <td>99.051667</td>\n",
       "      <td>949.630000</td>\n",
       "      <td>589.040966</td>\n",
       "      <td>-0.007920</td>\n",
       "    </tr>\n",
       "    <tr>\n",
       "      <th>13.0</th>\n",
       "      <td>89.412833</td>\n",
       "      <td>6.941667</td>\n",
       "      <td>2.568333</td>\n",
       "      <td>37.210000</td>\n",
       "      <td>9.313333</td>\n",
       "      <td>229.436667</td>\n",
       "      <td>270.868333</td>\n",
       "      <td>270.236667</td>\n",
       "      <td>288.171667</td>\n",
       "      <td>268.686667</td>\n",
       "      <td>...</td>\n",
       "      <td>9.796667</td>\n",
       "      <td>-58.736667</td>\n",
       "      <td>-48.943333</td>\n",
       "      <td>-4.318333</td>\n",
       "      <td>94.170000</td>\n",
       "      <td>3.183333</td>\n",
       "      <td>115.316667</td>\n",
       "      <td>948.886667</td>\n",
       "      <td>571.239451</td>\n",
       "      <td>0.012708</td>\n",
       "    </tr>\n",
       "    <tr>\n",
       "      <th>14.0</th>\n",
       "      <td>79.509000</td>\n",
       "      <td>66.015000</td>\n",
       "      <td>14.283333</td>\n",
       "      <td>39.245000</td>\n",
       "      <td>70.763333</td>\n",
       "      <td>269.898333</td>\n",
       "      <td>272.405000</td>\n",
       "      <td>272.001667</td>\n",
       "      <td>301.948333</td>\n",
       "      <td>269.031667</td>\n",
       "      <td>...</td>\n",
       "      <td>61.178333</td>\n",
       "      <td>-32.058333</td>\n",
       "      <td>29.125000</td>\n",
       "      <td>-3.945000</td>\n",
       "      <td>94.998333</td>\n",
       "      <td>2.643333</td>\n",
       "      <td>128.601667</td>\n",
       "      <td>948.573333</td>\n",
       "      <td>497.007676</td>\n",
       "      <td>0.135205</td>\n",
       "    </tr>\n",
       "    <tr>\n",
       "      <th>15.0</th>\n",
       "      <td>70.543833</td>\n",
       "      <td>184.720000</td>\n",
       "      <td>39.195000</td>\n",
       "      <td>60.050000</td>\n",
       "      <td>178.240000</td>\n",
       "      <td>284.471667</td>\n",
       "      <td>275.201667</td>\n",
       "      <td>274.968333</td>\n",
       "      <td>316.086667</td>\n",
       "      <td>271.068333</td>\n",
       "      <td>...</td>\n",
       "      <td>160.998333</td>\n",
       "      <td>-31.616667</td>\n",
       "      <td>129.378333</td>\n",
       "      <td>-2.130000</td>\n",
       "      <td>93.173333</td>\n",
       "      <td>2.938333</td>\n",
       "      <td>140.046667</td>\n",
       "      <td>947.636667</td>\n",
       "      <td>373.110606</td>\n",
       "      <td>0.519083</td>\n",
       "    </tr>\n",
       "    <tr>\n",
       "      <th>16.0</th>\n",
       "      <td>63.113167</td>\n",
       "      <td>392.156667</td>\n",
       "      <td>84.996667</td>\n",
       "      <td>374.610000</td>\n",
       "      <td>232.673333</td>\n",
       "      <td>275.468333</td>\n",
       "      <td>278.751667</td>\n",
       "      <td>278.428333</td>\n",
       "      <td>335.985000</td>\n",
       "      <td>273.831667</td>\n",
       "      <td>...</td>\n",
       "      <td>325.068333</td>\n",
       "      <td>-60.511667</td>\n",
       "      <td>264.566667</td>\n",
       "      <td>0.220000</td>\n",
       "      <td>86.426667</td>\n",
       "      <td>2.755000</td>\n",
       "      <td>146.100000</td>\n",
       "      <td>946.630000</td>\n",
       "      <td>213.855930</td>\n",
       "      <td>2.104288</td>\n",
       "    </tr>\n",
       "    <tr>\n",
       "      <th>17.0</th>\n",
       "      <td>57.950847</td>\n",
       "      <td>600.271186</td>\n",
       "      <td>128.689831</td>\n",
       "      <td>738.779661</td>\n",
       "      <td>221.118644</td>\n",
       "      <td>273.759322</td>\n",
       "      <td>284.210169</td>\n",
       "      <td>283.540678</td>\n",
       "      <td>361.523729</td>\n",
       "      <td>277.961017</td>\n",
       "      <td>...</td>\n",
       "      <td>484.508475</td>\n",
       "      <td>-87.757627</td>\n",
       "      <td>396.744068</td>\n",
       "      <td>3.664407</td>\n",
       "      <td>71.598305</td>\n",
       "      <td>3.384746</td>\n",
       "      <td>126.791525</td>\n",
       "      <td>945.572881</td>\n",
       "      <td>62.208640</td>\n",
       "      <td>13.667905</td>\n",
       "    </tr>\n",
       "  </tbody>\n",
       "</table>\n",
       "<p>11 rows × 23 columns</p>\n",
       "</div>"
      ],
      "text/plain": [
       "             zen    dw_solar    uw_solar    direct_n     diffuse       dw_ir  \\\n",
       "hour                                                                           \n",
       "7.0   145.536667   -5.036111   -0.005556    1.050000   -1.691667  225.650000   \n",
       "8.0   140.396000   -4.896667   -0.068333    1.795000   -1.573333  236.036667   \n",
       "9.0   131.753500   -4.581667   -0.096667    3.088333   -1.426667  247.976667   \n",
       "10.0  121.700500   -4.665000   -0.340000    3.340000   -1.415000  241.571667   \n",
       "11.0  111.024500   -4.480000   -0.051667    4.360000   -1.233333  271.590000   \n",
       "12.0  100.208500   -4.666667   -0.300000    3.253333   -1.396667  240.323333   \n",
       "13.0   89.412833    6.941667    2.568333   37.210000    9.313333  229.436667   \n",
       "14.0   79.509000   66.015000   14.283333   39.245000   70.763333  269.898333   \n",
       "15.0   70.543833  184.720000   39.195000   60.050000  178.240000  284.471667   \n",
       "16.0   63.113167  392.156667   84.996667  374.610000  232.673333  275.468333   \n",
       "17.0   57.950847  600.271186  128.689831  738.779661  221.118644  273.759322   \n",
       "\n",
       "      dw_casetemp  dw_dometemp       uw_ir  uw_casetemp    ...      \\\n",
       "hour                                                       ...       \n",
       "7.0    271.297222   270.644444  290.319444   268.880556    ...       \n",
       "8.0    270.815000   270.221667  288.866667   268.450000    ...       \n",
       "9.0    270.580000   269.986667  288.435000   268.101667    ...       \n",
       "10.0   270.898333   270.323333  287.598333   268.296667    ...       \n",
       "11.0   271.455000   270.916667  294.383333   268.693333    ...       \n",
       "12.0   271.436667   270.723333  287.046667   268.766667    ...       \n",
       "13.0   270.868333   270.236667  288.171667   268.686667    ...       \n",
       "14.0   272.405000   272.001667  301.948333   269.031667    ...       \n",
       "15.0   275.201667   274.968333  316.086667   271.068333    ...       \n",
       "16.0   278.751667   278.428333  335.985000   273.831667    ...       \n",
       "17.0   284.210169   283.540678  361.523729   277.961017    ...       \n",
       "\n",
       "        netsolar      netir    totalnet      temp         rh   windspd  \\\n",
       "hour                                                                     \n",
       "7.0     0.000000 -64.661111  -64.661111 -4.211111  89.900000  3.958333   \n",
       "8.0     0.000000 -52.828333  -52.828333 -4.593333  91.183333  3.235000   \n",
       "9.0     0.000000 -40.468333  -40.468333 -4.898333  92.058333  2.476667   \n",
       "10.0    0.000000 -46.030000  -46.030000 -4.451667  91.293333  2.421667   \n",
       "11.0    0.000000 -22.785000  -22.785000 -4.213333  91.341667  2.233333   \n",
       "12.0    0.000000 -46.735000  -46.735000 -4.025000  91.908333  2.181667   \n",
       "13.0    9.796667 -58.736667  -48.943333 -4.318333  94.170000  3.183333   \n",
       "14.0   61.178333 -32.058333   29.125000 -3.945000  94.998333  2.643333   \n",
       "15.0  160.998333 -31.616667  129.378333 -2.130000  93.173333  2.938333   \n",
       "16.0  325.068333 -60.511667  264.566667  0.220000  86.426667  2.755000   \n",
       "17.0  484.508475 -87.757627  396.744068  3.664407  71.598305  3.384746   \n",
       "\n",
       "         winddir    pressure         ghi         Kt  \n",
       "hour                                                 \n",
       "7.0   150.894444  952.938889   38.153234  -0.171464  \n",
       "8.0   148.135000  952.245000  148.814364  -0.037425  \n",
       "9.0   131.661667  951.585000  314.244805  -0.015046  \n",
       "10.0  145.975000  950.940000  454.239484  -0.010324  \n",
       "11.0  118.871667  950.326667  548.885814  -0.008169  \n",
       "12.0   99.051667  949.630000  589.040966  -0.007920  \n",
       "13.0  115.316667  948.886667  571.239451   0.012708  \n",
       "14.0  128.601667  948.573333  497.007676   0.135205  \n",
       "15.0  140.046667  947.636667  373.110606   0.519083  \n",
       "16.0  146.100000  946.630000  213.855930   2.104288  \n",
       "17.0  126.791525  945.572881   62.208640  13.667905  \n",
       "\n",
       "[11 rows x 23 columns]"
      ]
     },
     "execution_count": 58,
     "metadata": {},
     "output_type": "execute_result"
    }
   ],
   "source": [
    "df_new_test.loc[2].xs(17,level='day')"
   ]
  },
  {
   "cell_type": "markdown",
   "metadata": {},
   "source": [
    "### Shifting Kt values to make 1 hour ahead forecast"
   ]
  },
  {
   "cell_type": "markdown",
   "metadata": {},
   "source": [
    "#### Train dataset"
   ]
  },
  {
   "cell_type": "code",
   "execution_count": 59,
   "metadata": {},
   "outputs": [],
   "source": [
    "levels_index= []\n",
    "for m in df_new_train.index.levels:\n",
    "    levels_index.append(m)"
   ]
  },
  {
   "cell_type": "code",
   "execution_count": 60,
   "metadata": {
    "scrolled": true
   },
   "outputs": [],
   "source": [
    "for i in levels_index[0]:\n",
    "    for j in levels_index[1]:\n",
    "        df_new_train.loc[i].loc[j]['Kt'] = df_new_train.loc[i].loc[j]['Kt'].shift(-2)"
   ]
  },
  {
   "cell_type": "code",
   "execution_count": 61,
   "metadata": {},
   "outputs": [],
   "source": [
    "df_new_train = df_new_train[~(df_new_train['Kt'].isnull())]"
   ]
  },
  {
   "cell_type": "markdown",
   "metadata": {},
   "source": [
    "#### Test dataset"
   ]
  },
  {
   "cell_type": "code",
   "execution_count": 62,
   "metadata": {},
   "outputs": [],
   "source": [
    "levels_index2= []\n",
    "for m in df_new_test.index.levels:\n",
    "    levels_index2.append(m)"
   ]
  },
  {
   "cell_type": "code",
   "execution_count": 63,
   "metadata": {},
   "outputs": [],
   "source": [
    "for i in levels_index2[0]:\n",
    "    for j in levels_index2[1]:\n",
    "        df_new_test.loc[i].loc[j]['Kt'] = df_new_test.loc[i].loc[j]['Kt'].shift(-2)"
   ]
  },
  {
   "cell_type": "code",
   "execution_count": 64,
   "metadata": {},
   "outputs": [],
   "source": [
    "df_new_test = df_new_test[~(df_new_test['Kt'].isnull())]"
   ]
  },
  {
   "cell_type": "code",
   "execution_count": 65,
   "metadata": {},
   "outputs": [
    {
     "data": {
      "text/html": [
       "<div>\n",
       "<style scoped>\n",
       "    .dataframe tbody tr th:only-of-type {\n",
       "        vertical-align: middle;\n",
       "    }\n",
       "\n",
       "    .dataframe tbody tr th {\n",
       "        vertical-align: top;\n",
       "    }\n",
       "\n",
       "    .dataframe thead th {\n",
       "        text-align: right;\n",
       "    }\n",
       "</style>\n",
       "<table border=\"1\" class=\"dataframe\">\n",
       "  <thead>\n",
       "    <tr style=\"text-align: right;\">\n",
       "      <th></th>\n",
       "      <th></th>\n",
       "      <th></th>\n",
       "      <th>zen</th>\n",
       "      <th>dw_solar</th>\n",
       "      <th>uw_solar</th>\n",
       "      <th>direct_n</th>\n",
       "      <th>diffuse</th>\n",
       "      <th>dw_ir</th>\n",
       "      <th>dw_casetemp</th>\n",
       "      <th>dw_dometemp</th>\n",
       "      <th>uw_ir</th>\n",
       "      <th>uw_casetemp</th>\n",
       "      <th>...</th>\n",
       "      <th>netsolar</th>\n",
       "      <th>netir</th>\n",
       "      <th>totalnet</th>\n",
       "      <th>temp</th>\n",
       "      <th>rh</th>\n",
       "      <th>windspd</th>\n",
       "      <th>winddir</th>\n",
       "      <th>pressure</th>\n",
       "      <th>ghi</th>\n",
       "      <th>Kt</th>\n",
       "    </tr>\n",
       "    <tr>\n",
       "      <th>month</th>\n",
       "      <th>day</th>\n",
       "      <th>hour</th>\n",
       "      <th></th>\n",
       "      <th></th>\n",
       "      <th></th>\n",
       "      <th></th>\n",
       "      <th></th>\n",
       "      <th></th>\n",
       "      <th></th>\n",
       "      <th></th>\n",
       "      <th></th>\n",
       "      <th></th>\n",
       "      <th></th>\n",
       "      <th></th>\n",
       "      <th></th>\n",
       "      <th></th>\n",
       "      <th></th>\n",
       "      <th></th>\n",
       "      <th></th>\n",
       "      <th></th>\n",
       "      <th></th>\n",
       "      <th></th>\n",
       "      <th></th>\n",
       "    </tr>\n",
       "  </thead>\n",
       "  <tbody>\n",
       "    <tr>\n",
       "      <th>2.0</th>\n",
       "      <th>18.0</th>\n",
       "      <th>16.0</th>\n",
       "      <td>62.7875</td>\n",
       "      <td>468.13</td>\n",
       "      <td>100.736667</td>\n",
       "      <td>896.976667</td>\n",
       "      <td>65.341667</td>\n",
       "      <td>193.108333</td>\n",
       "      <td>270.663333</td>\n",
       "      <td>269.246667</td>\n",
       "      <td>298.706667</td>\n",
       "      <td>266.065</td>\n",
       "      <td>...</td>\n",
       "      <td>374.961667</td>\n",
       "      <td>-105.586667</td>\n",
       "      <td>269.363333</td>\n",
       "      <td>-7.67</td>\n",
       "      <td>58.155</td>\n",
       "      <td>10.326667</td>\n",
       "      <td>340.07</td>\n",
       "      <td>956.018333</td>\n",
       "      <td>218.474611</td>\n",
       "      <td>2382.577671</td>\n",
       "    </tr>\n",
       "  </tbody>\n",
       "</table>\n",
       "<p>1 rows × 23 columns</p>\n",
       "</div>"
      ],
      "text/plain": [
       "                     zen  dw_solar    uw_solar    direct_n    diffuse  \\\n",
       "month day  hour                                                         \n",
       "2.0   18.0 16.0  62.7875    468.13  100.736667  896.976667  65.341667   \n",
       "\n",
       "                      dw_ir  dw_casetemp  dw_dometemp       uw_ir  \\\n",
       "month day  hour                                                     \n",
       "2.0   18.0 16.0  193.108333   270.663333   269.246667  298.706667   \n",
       "\n",
       "                 uw_casetemp     ...         netsolar       netir    totalnet  \\\n",
       "month day  hour                  ...                                            \n",
       "2.0   18.0 16.0      266.065     ...       374.961667 -105.586667  269.363333   \n",
       "\n",
       "                 temp      rh    windspd  winddir    pressure         ghi  \\\n",
       "month day  hour                                                             \n",
       "2.0   18.0 16.0 -7.67  58.155  10.326667   340.07  956.018333  218.474611   \n",
       "\n",
       "                          Kt  \n",
       "month day  hour               \n",
       "2.0   18.0 16.0  2382.577671  \n",
       "\n",
       "[1 rows x 23 columns]"
      ]
     },
     "execution_count": 65,
     "metadata": {},
     "output_type": "execute_result"
    }
   ],
   "source": [
    "df_new_test[df_new_test['Kt']==df_new_test['Kt'].max()]"
   ]
  },
  {
   "cell_type": "markdown",
   "metadata": {},
   "source": [
    "### Normalize train and test dataframe"
   ]
  },
  {
   "cell_type": "code",
   "execution_count": 66,
   "metadata": {},
   "outputs": [],
   "source": [
    "train_norm = (df_new_train - df_new_train.mean()) / (df_new_train.max() - df_new_train.min())\n",
    "test_norm =  (df_new_test - df_new_test.mean()) / (df_new_test.max() - df_new_test.min())"
   ]
  },
  {
   "cell_type": "code",
   "execution_count": 67,
   "metadata": {},
   "outputs": [],
   "source": [
    "train_norm.reset_index(inplace=True,drop=True)\n",
    "test_norm.reset_index(inplace=True,drop=True)"
   ]
  },
  {
   "cell_type": "markdown",
   "metadata": {
    "collapsed": true
   },
   "source": [
    "### Making train and test sets with train_norm and test_norm"
   ]
  },
  {
   "cell_type": "markdown",
   "metadata": {
    "collapsed": true
   },
   "source": [
    "#### finding the gcf (greatest common factor) of train and test dataset's length and chop off the extra rows to make it divisible with the batchsize"
   ]
  },
  {
   "cell_type": "code",
   "execution_count": 68,
   "metadata": {},
   "outputs": [
    {
     "name": "stderr",
     "output_type": "stream",
     "text": [
      "C:\\Users\\s269596\\AppData\\Local\\Continuum\\Anaconda3\\lib\\site-packages\\ipykernel_launcher.py:2: DeprecationWarning: fractions.gcd() is deprecated. Use math.gcd() instead.\n",
      "  \n"
     ]
    },
    {
     "data": {
      "text/plain": [
       "1"
      ]
     },
     "execution_count": 68,
     "metadata": {},
     "output_type": "execute_result"
    }
   ],
   "source": [
    "from fractions import gcd\n",
    "gcd(train_norm.shape[0],test_norm.shape[0])"
   ]
  },
  {
   "cell_type": "code",
   "execution_count": 69,
   "metadata": {},
   "outputs": [],
   "source": [
    "import math\n",
    "def roundup(x):\n",
    "    return int(math.ceil(x / 100.0)) * 100"
   ]
  },
  {
   "cell_type": "code",
   "execution_count": 70,
   "metadata": {},
   "outputs": [],
   "source": [
    "train_lim = roundup(train_norm.shape[0])\n",
    "test_lim = roundup(test_norm.shape[0])\n",
    "\n",
    "train_random = train_norm.sample(train_lim-train_norm.shape[0])\n",
    "test_random = test_norm.sample(test_lim-test_norm.shape[0])\n",
    "\n",
    "train_norm = train_norm.append(train_random)\n",
    "test_norm = test_norm.append(test_random)"
   ]
  },
  {
   "cell_type": "code",
   "execution_count": 71,
   "metadata": {},
   "outputs": [],
   "source": [
    "X1 = train_norm.drop('Kt',axis=1)\n",
    "y1 = train_norm['Kt']\n",
    "\n",
    "X2 = test_norm.drop('Kt',axis=1)\n",
    "y2 = test_norm['Kt']"
   ]
  },
  {
   "cell_type": "code",
   "execution_count": 72,
   "metadata": {
    "scrolled": true
   },
   "outputs": [
    {
     "name": "stdout",
     "output_type": "stream",
     "text": [
      "X1_train shape is (9600, 22)\n",
      "y1_train shape is (9600,)\n",
      "X2_test shape is (4100, 22)\n",
      "y2_test shape is (4100,)\n"
     ]
    }
   ],
   "source": [
    "print(\"X1_train shape is {}\".format(X1.shape))\n",
    "print(\"y1_train shape is {}\".format(y1.shape))\n",
    "print(\"X2_test shape is {}\".format(X2.shape))\n",
    "print(\"y2_test shape is {}\".format(y2.shape))"
   ]
  },
  {
   "cell_type": "code",
   "execution_count": 73,
   "metadata": {},
   "outputs": [],
   "source": [
    "X_train = np.array(X1)\n",
    "y_train  = np.array(y1)\n",
    "X_test = np.array(X2)\n",
    "y_test = np.array(y2)"
   ]
  },
  {
   "cell_type": "markdown",
   "metadata": {},
   "source": [
    "### start of RNN"
   ]
  },
  {
   "cell_type": "code",
   "execution_count": 74,
   "metadata": {},
   "outputs": [],
   "source": [
    "import torch\n",
    "import torch.nn as nn\n",
    "import torchvision.transforms as transforms\n",
    "import torchvision.datasets as dsets\n",
    "from torch.autograd import Variable"
   ]
  },
  {
   "cell_type": "code",
   "execution_count": 75,
   "metadata": {},
   "outputs": [],
   "source": [
    "class RNNModel(nn.Module):\n",
    "    def __init__(self, input_dim, hidden_dim, layer_dim, output_dim):\n",
    "        super(RNNModel, self).__init__()\n",
    "        #Hidden Dimension\n",
    "        self.hidden_dim = hidden_dim\n",
    "        \n",
    "        # Number of hidden layers\n",
    "        self.layer_dim = layer_dim\n",
    "        \n",
    "        #Building the RNN\n",
    "        self.rnn = nn.RNN(input_dim, hidden_dim, layer_dim, batch_first=True, nonlinearity='relu')\n",
    "        \n",
    "        # Readout layer\n",
    "        self.fc = nn.Linear(hidden_dim, output_dim)\n",
    "        \n",
    "    def forward(self, x):\n",
    "        # Initializing the hidden state with zeros\n",
    "        # (layer_dim, batch_size, hidden_dim)\n",
    "        h0 = Variable(torch.zeros(self.layer_dim, x.size(0), self.hidden_dim))\n",
    "        \n",
    "        #One time step (the last one perhaps?)\n",
    "        out, hn = self.rnn(x, h0)\n",
    "        \n",
    "        # Indexing hidden state of the last time step\n",
    "        # out.size() --> ??\n",
    "        #out[:,-1,:] --> is it going to be 100,100\n",
    "        out = self.fc(out[:,-1,:])\n",
    "        # out.size() --> 100,1\n",
    "        return out\n",
    "        "
   ]
  },
  {
   "cell_type": "code",
   "execution_count": 76,
   "metadata": {},
   "outputs": [],
   "source": [
    "# Instantiating Model Class\n",
    "input_dim = 22\n",
    "hidden_dim = 15\n",
    "layer_dim = 1\n",
    "output_dim = 1\n",
    "batch_size = 100\n",
    "\n",
    "model = RNNModel(input_dim, hidden_dim, layer_dim, output_dim)\n",
    "\n",
    "# Instantiating Loss Class\n",
    "criterion = nn.MSELoss()\n",
    "\n",
    "# Instantiate Optimizer Class\n",
    "learning_rate = 0.001\n",
    "optimizer = torch.optim.SGD(model.parameters(), lr=learning_rate)\n",
    "\n",
    "# converting numpy array to torch tensor\n",
    "X_train = torch.from_numpy(X_train)\n",
    "y_train = torch.from_numpy(y_train)\n",
    "X_test = torch.from_numpy(X_test)\n",
    "y_test = torch.from_numpy(y_test)\n",
    "\n",
    "# initializing lists to store losses over epochs:\n",
    "train_loss = []\n",
    "test_loss = []\n",
    "train_iter = []\n",
    "test_iter = []"
   ]
  },
  {
   "cell_type": "code",
   "execution_count": 77,
   "metadata": {
    "scrolled": true
   },
   "outputs": [
    {
     "name": "stdout",
     "output_type": "stream",
     "text": [
      "Epoch: 0 Iteration: 0. Train_MSE: 0.1369161605834961. Test_MSE: 0.003520561985898844\n",
      "Epoch: 1 Iteration: 100. Train_MSE: 0.06133745238184929. Test_MSE: 0.002628870456975256\n",
      "Epoch: 2 Iteration: 200. Train_MSE: 0.020976895466446877. Test_MSE: 0.001998323934692096\n",
      "Epoch: 3 Iteration: 300. Train_MSE: 0.010557648725807667. Test_MSE: 0.001542959992870799\n",
      "Epoch: 4 Iteration: 400. Train_MSE: 0.011697902344167233. Test_MSE: 0.0012075730533155655\n",
      "Epoch: 5 Iteration: 500. Train_MSE: 0.009204409085214138. Test_MSE: 0.0009602275758945156\n",
      "Epoch: 6 Iteration: 600. Train_MSE: 0.00564443226903677. Test_MSE: 0.0007776120103262198\n",
      "Epoch: 7 Iteration: 700. Train_MSE: 0.0017134903464466333. Test_MSE: 0.0006460196295420462\n",
      "Epoch: 8 Iteration: 800. Train_MSE: 0.0010988668072968721. Test_MSE: 0.0005518331755803391\n",
      "Epoch: 9 Iteration: 900. Train_MSE: 0.002561698667705059. Test_MSE: 0.0004840173415895187\n",
      "Epoch: 10 Iteration: 1000. Train_MSE: 0.0016655370127409697. Test_MSE: 0.00043201588285885883\n",
      "Epoch: 11 Iteration: 1100. Train_MSE: 0.0016757382545620203. Test_MSE: 0.0003988148319473278\n",
      "Epoch: 12 Iteration: 1200. Train_MSE: 0.0012040267465636134. Test_MSE: 0.00037757403857108647\n",
      "Epoch: 13 Iteration: 1300. Train_MSE: 0.0006665721302852035. Test_MSE: 0.0003623088430123937\n",
      "Epoch: 14 Iteration: 1400. Train_MSE: 0.0010130864102393389. Test_MSE: 0.0003493202491459912\n",
      "Epoch: 15 Iteration: 1500. Train_MSE: 0.007309232838451862. Test_MSE: 0.0003382204943533564\n",
      "Epoch: 16 Iteration: 1600. Train_MSE: 0.000870311341714114. Test_MSE: 0.00032978059699913606\n",
      "Epoch: 17 Iteration: 1700. Train_MSE: 0.0010241593699902296. Test_MSE: 0.00032389355764100814\n",
      "Epoch: 18 Iteration: 1800. Train_MSE: 0.0013726381585001945. Test_MSE: 0.00032023533424906705\n",
      "Epoch: 20 Iteration: 1900. Train_MSE: 0.0031364625319838524. Test_MSE: 0.00031539154973980505\n",
      "Epoch: 21 Iteration: 2000. Train_MSE: 0.002143679652363062. Test_MSE: 0.00031143322774113754\n",
      "Epoch: 22 Iteration: 2100. Train_MSE: 0.0017448334256187081. Test_MSE: 0.00030994315514037144\n",
      "Epoch: 23 Iteration: 2200. Train_MSE: 0.0024294776376336813. Test_MSE: 0.0003089200536117461\n",
      "Epoch: 24 Iteration: 2300. Train_MSE: 0.001867957878857851. Test_MSE: 0.000306557804266223\n",
      "Epoch: 25 Iteration: 2400. Train_MSE: 0.001372967497445643. Test_MSE: 0.00030376028565759483\n",
      "Epoch: 26 Iteration: 2500. Train_MSE: 0.0008817738271318376. Test_MSE: 0.000300628338667328\n",
      "Epoch: 27 Iteration: 2600. Train_MSE: 0.0004645077569875866. Test_MSE: 0.00029874173335368354\n",
      "Epoch: 28 Iteration: 2700. Train_MSE: 0.0006209284183569252. Test_MSE: 0.00029765851402336875\n",
      "Epoch: 29 Iteration: 2800. Train_MSE: 0.0009861440630629659. Test_MSE: 0.0002968183192969739\n",
      "Epoch: 30 Iteration: 2900. Train_MSE: 0.0006583803333342075. Test_MSE: 0.00029379287718203645\n",
      "Epoch: 31 Iteration: 3000. Train_MSE: 0.00164805690292269. Test_MSE: 0.0002930465982242473\n",
      "Epoch: 32 Iteration: 3100. Train_MSE: 0.001259748823940754. Test_MSE: 0.00029371046840089774\n",
      "Epoch: 33 Iteration: 3200. Train_MSE: 0.000636681099422276. Test_MSE: 0.00029401482728974647\n",
      "Epoch: 34 Iteration: 3300. Train_MSE: 0.0008862668182700872. Test_MSE: 0.0002927975953520402\n",
      "Epoch: 35 Iteration: 3400. Train_MSE: 0.007152964361011982. Test_MSE: 0.0002905082946831432\n",
      "Epoch: 36 Iteration: 3500. Train_MSE: 0.0006465765764005482. Test_MSE: 0.0002885400128679387\n",
      "Epoch: 37 Iteration: 3600. Train_MSE: 0.000836190942209214. Test_MSE: 0.00028726165896355427\n",
      "Epoch: 38 Iteration: 3700. Train_MSE: 0.0012536675203591585. Test_MSE: 0.00028698745070320826\n",
      "Epoch: 40 Iteration: 3800. Train_MSE: 0.002927283989265561. Test_MSE: 0.0002851031446820694\n",
      "Epoch: 41 Iteration: 3900. Train_MSE: 0.001992435660213232. Test_MSE: 0.0002833960117948683\n",
      "Epoch: 42 Iteration: 4000. Train_MSE: 0.0014015588676556945. Test_MSE: 0.0002834056073537603\n",
      "Epoch: 43 Iteration: 4100. Train_MSE: 0.002009123796597123. Test_MSE: 0.0002835060577385971\n",
      "Epoch: 44 Iteration: 4200. Train_MSE: 0.0015777993248775601. Test_MSE: 0.00028223453916620216\n",
      "Epoch: 45 Iteration: 4300. Train_MSE: 0.0012134808348491788. Test_MSE: 0.00028042258810134947\n",
      "Epoch: 46 Iteration: 4400. Train_MSE: 0.0007301746518351138. Test_MSE: 0.0002781946063239993\n",
      "Epoch: 47 Iteration: 4500. Train_MSE: 0.0003884311008732766. Test_MSE: 0.00027700229667644734\n",
      "Epoch: 48 Iteration: 4600. Train_MSE: 0.0005616131238639355. Test_MSE: 0.00027649317265644957\n",
      "Epoch: 49 Iteration: 4700. Train_MSE: 0.0009071569656953216. Test_MSE: 0.0002762234643919858\n",
      "Epoch: 50 Iteration: 4800. Train_MSE: 0.0005709647666662931. Test_MSE: 0.00027386266457704876\n",
      "Epoch: 51 Iteration: 4900. Train_MSE: 0.0014097574166953564. Test_MSE: 0.0002734961807737323\n",
      "Epoch: 52 Iteration: 5000. Train_MSE: 0.001146997557953. Test_MSE: 0.00027447648129698697\n",
      "Epoch: 53 Iteration: 5100. Train_MSE: 0.0005822752136737108. Test_MSE: 0.000275067481435335\n",
      "Epoch: 54 Iteration: 5200. Train_MSE: 0.0008439227822236717. Test_MSE: 0.0002742513871275339\n",
      "Epoch: 55 Iteration: 5300. Train_MSE: 0.007132142782211304. Test_MSE: 0.00027239575200541414\n",
      "Epoch: 56 Iteration: 5400. Train_MSE: 0.0005641353782266378. Test_MSE: 0.0002708584597762106\n",
      "Epoch: 57 Iteration: 5500. Train_MSE: 0.000718767405487597. Test_MSE: 0.00026988754001898207\n",
      "Epoch: 58 Iteration: 5600. Train_MSE: 0.0011227934155613184. Test_MSE: 0.00026987847482895353\n",
      "Epoch: 60 Iteration: 5700. Train_MSE: 0.0028924571815878153. Test_MSE: 0.00026834592236733574\n",
      "Epoch: 61 Iteration: 5800. Train_MSE: 0.0019065163796767592. Test_MSE: 0.00026695189049389686\n",
      "Epoch: 62 Iteration: 5900. Train_MSE: 0.0011535033117979765. Test_MSE: 0.00026717735881503184\n",
      "Epoch: 63 Iteration: 6000. Train_MSE: 0.0017013194737955928. Test_MSE: 0.0002674443780522719\n",
      "Epoch: 64 Iteration: 6100. Train_MSE: 0.0013929822016507387. Test_MSE: 0.00026642624671416846\n",
      "Epoch: 65 Iteration: 6200. Train_MSE: 0.0011059596436098218. Test_MSE: 0.0002649044388175418\n",
      "Epoch: 66 Iteration: 6300. Train_MSE: 0.000626630790065974. Test_MSE: 0.00026299656525474133\n",
      "Epoch: 67 Iteration: 6400. Train_MSE: 0.000345354899764061. Test_MSE: 0.0002620585965353539\n",
      "Epoch: 68 Iteration: 6500. Train_MSE: 0.000529065728187561. Test_MSE: 0.00026177978397036444\n",
      "Epoch: 69 Iteration: 6600. Train_MSE: 0.0008578371489420533. Test_MSE: 0.00026175774456442394\n",
      "Epoch: 70 Iteration: 6700. Train_MSE: 0.0005216326680965722. Test_MSE: 0.0002596778987589589\n",
      "Epoch: 71 Iteration: 6800. Train_MSE: 0.001231278758496046. Test_MSE: 0.0002594648540454651\n",
      "Epoch: 72 Iteration: 6900. Train_MSE: 0.0010693484218791127. Test_MSE: 0.00026060678885726714\n",
      "Epoch: 73 Iteration: 7000. Train_MSE: 0.0005577122792601585. Test_MSE: 0.0002613482825156666\n",
      "Epoch: 74 Iteration: 7100. Train_MSE: 0.0008225326309911907. Test_MSE: 0.0002607588464846413\n",
      "Epoch: 75 Iteration: 7200. Train_MSE: 0.007088347803801298. Test_MSE: 0.0002591523695735283\n",
      "Epoch: 76 Iteration: 7300. Train_MSE: 0.0005045938887633383. Test_MSE: 0.0002578751340135596\n",
      "Epoch: 77 Iteration: 7400. Train_MSE: 0.0006453772075474262. Test_MSE: 0.00025706727109050734\n",
      "Epoch: 78 Iteration: 7500. Train_MSE: 0.001017424394376576. Test_MSE: 0.00025719314461216606\n",
      "Epoch: 80 Iteration: 7600. Train_MSE: 0.0028728318866342306. Test_MSE: 0.0002558310469879103\n",
      "Epoch: 81 Iteration: 7700. Train_MSE: 0.0018475742544978857. Test_MSE: 0.0002545982153945147\n",
      "Epoch: 82 Iteration: 7800. Train_MSE: 0.0009760273969732225. Test_MSE: 0.00025494155334038177\n",
      "Epoch: 83 Iteration: 7900. Train_MSE: 0.0014756562886759639. Test_MSE: 0.0002553009004125997\n",
      "Epoch: 84 Iteration: 8000. Train_MSE: 0.001264571095816791. Test_MSE: 0.0002544292860298674\n",
      "Epoch: 85 Iteration: 8100. Train_MSE: 0.001022652955725789. Test_MSE: 0.0002530814224143539\n",
      "Epoch: 86 Iteration: 8200. Train_MSE: 0.0005470465985126793. Test_MSE: 0.0002513701944012652\n",
      "Epoch: 87 Iteration: 8300. Train_MSE: 0.00031790920183993876. Test_MSE: 0.0002505848061233948\n",
      "Epoch: 88 Iteration: 8400. Train_MSE: 0.0005094927037134767. Test_MSE: 0.0002504368123669378\n",
      "Epoch: 89 Iteration: 8500. Train_MSE: 0.0008223072509281337. Test_MSE: 0.0002505509044064105\n",
      "Epoch: 90 Iteration: 8600. Train_MSE: 0.0004900856874883175. Test_MSE: 0.0002486304725962075\n",
      "Epoch: 91 Iteration: 8700. Train_MSE: 0.0010950318537652493. Test_MSE: 0.0002484896356013084\n",
      "Epoch: 92 Iteration: 8800. Train_MSE: 0.0010123976971954107. Test_MSE: 0.000249731451624334\n",
      "Epoch: 93 Iteration: 8900. Train_MSE: 0.0005485457950271666. Test_MSE: 0.00025056469794965873\n"
     ]
    },
    {
     "name": "stdout",
     "output_type": "stream",
     "text": [
      "Epoch: 94 Iteration: 9000. Train_MSE: 0.0008118210243992507. Test_MSE: 0.00025012267273854703\n",
      "Epoch: 95 Iteration: 9100. Train_MSE: 0.007031602784991264. Test_MSE: 0.00024867523051243945\n",
      "Epoch: 96 Iteration: 9200. Train_MSE: 0.00045895911171101034. Test_MSE: 0.00024756760728949866\n",
      "Epoch: 97 Iteration: 9300. Train_MSE: 0.0005965488962829113. Test_MSE: 0.00024686131854414676\n",
      "Epoch: 98 Iteration: 9400. Train_MSE: 0.0009335752693004906. Test_MSE: 0.0002470593648906663\n",
      "Epoch: 100 Iteration: 9500. Train_MSE: 0.002858369844034314. Test_MSE: 0.0002457800596802359\n",
      "Epoch: 101 Iteration: 9600. Train_MSE: 0.001805297564715147. Test_MSE: 0.0002446205542990488\n",
      "Epoch: 102 Iteration: 9700. Train_MSE: 0.0008458262891508639. Test_MSE: 0.0002450256399918885\n",
      "Epoch: 103 Iteration: 9800. Train_MSE: 0.001302738906815648. Test_MSE: 0.000245428784786137\n",
      "Epoch: 104 Iteration: 9900. Train_MSE: 0.001171901123598218. Test_MSE: 0.00024464802863964814\n",
      "Epoch: 105 Iteration: 10000. Train_MSE: 0.0009549749083817005. Test_MSE: 0.00024341832791218934\n",
      "Epoch: 106 Iteration: 10100. Train_MSE: 0.0004842744383495301. Test_MSE: 0.00024184651674889442\n",
      "Epoch: 107 Iteration: 10200. Train_MSE: 0.00029949567397125065. Test_MSE: 0.00024116224266860058\n",
      "Epoch: 108 Iteration: 10300. Train_MSE: 0.00049676897469908. Test_MSE: 0.00024109465153511277\n",
      "Epoch: 109 Iteration: 10400. Train_MSE: 0.0007932689622975886. Test_MSE: 0.0002412867890545318\n",
      "Epoch: 110 Iteration: 10500. Train_MSE: 0.0004672351060435176. Test_MSE: 0.00023945410596760427\n",
      "Epoch: 111 Iteration: 10600. Train_MSE: 0.0009875104296952486. Test_MSE: 0.0002393498986534262\n",
      "Epoch: 112 Iteration: 10700. Train_MSE: 0.0009669906576164067. Test_MSE: 0.00024066166158600506\n",
      "Epoch: 113 Iteration: 10800. Train_MSE: 0.0005454845959320664. Test_MSE: 0.0002415580299002735\n",
      "Epoch: 114 Iteration: 10900. Train_MSE: 0.0008056981023401022. Test_MSE: 0.000241224096595811\n",
      "Epoch: 115 Iteration: 11000. Train_MSE: 0.006967686582356691. Test_MSE: 0.00023989813437822223\n",
      "Epoch: 116 Iteration: 11100. Train_MSE: 0.00042300322093069553. Test_MSE: 0.00023892545860156817\n",
      "Epoch: 117 Iteration: 11200. Train_MSE: 0.0005619846051558852. Test_MSE: 0.00023828601966739221\n",
      "Epoch: 118 Iteration: 11300. Train_MSE: 0.0008621240267530084. Test_MSE: 0.00023851728303536367\n",
      "Epoch: 120 Iteration: 11400. Train_MSE: 0.0028393599204719067. Test_MSE: 0.00023728081386214302\n",
      "Epoch: 121 Iteration: 11500. Train_MSE: 0.0017728947568684816. Test_MSE: 0.00023616244634763758\n",
      "Epoch: 122 Iteration: 11600. Train_MSE: 0.0007444507791660726. Test_MSE: 0.00023660279880452942\n",
      "Epoch: 123 Iteration: 11700. Train_MSE: 0.0011651365784928203. Test_MSE: 0.000237031436331695\n",
      "Epoch: 124 Iteration: 11800. Train_MSE: 0.0011022195685654879. Test_MSE: 0.00023630983484097007\n",
      "Epoch: 125 Iteration: 11900. Train_MSE: 0.0009013634989969432. Test_MSE: 0.0002351600881818891\n",
      "Epoch: 126 Iteration: 12000. Train_MSE: 0.00043410074431449175. Test_MSE: 0.00023368431672748835\n",
      "Epoch: 127 Iteration: 12100. Train_MSE: 0.00028591789305210114. Test_MSE: 0.0002330724618755686\n",
      "Epoch: 128 Iteration: 12200. Train_MSE: 0.0004867405805271119. Test_MSE: 0.0002330566834575873\n",
      "Epoch: 129 Iteration: 12300. Train_MSE: 0.0007671314524486661. Test_MSE: 0.00023329287082106209\n",
      "Epoch: 130 Iteration: 12400. Train_MSE: 0.0004493104061111808. Test_MSE: 0.00023149981266560059\n",
      "Epoch: 131 Iteration: 12500. Train_MSE: 0.0009007030166685581. Test_MSE: 0.000231400709487786\n",
      "Epoch: 132 Iteration: 12600. Train_MSE: 0.0009288563742302358. Test_MSE: 0.00023275558316534673\n",
      "Epoch: 133 Iteration: 12700. Train_MSE: 0.0005453258636407554. Test_MSE: 0.00023368819570209064\n",
      "Epoch: 134 Iteration: 12800. Train_MSE: 0.0008020687964744866. Test_MSE: 0.00023342507083966158\n",
      "Epoch: 135 Iteration: 12900. Train_MSE: 0.00690245209261775. Test_MSE: 0.00023217998559370477\n",
      "Epoch: 136 Iteration: 13000. Train_MSE: 0.0003933848347514868. Test_MSE: 0.00023130043665126163\n",
      "Epoch: 137 Iteration: 13100. Train_MSE: 0.000536410603672266. Test_MSE: 0.00023069363972916075\n",
      "Epoch: 138 Iteration: 13200. Train_MSE: 0.0008001659298315644. Test_MSE: 0.00023093675986660632\n",
      "Epoch: 140 Iteration: 13300. Train_MSE: 0.002812172519043088. Test_MSE: 0.00022971738520750584\n",
      "Epoch: 141 Iteration: 13400. Train_MSE: 0.0017476545181125402. Test_MSE: 0.00022861889464689082\n",
      "Epoch: 142 Iteration: 13500. Train_MSE: 0.0006655952311120927. Test_MSE: 0.0002290732060534001\n",
      "Epoch: 143 Iteration: 13600. Train_MSE: 0.0010539585491642356. Test_MSE: 0.00022951343599489997\n",
      "Epoch: 144 Iteration: 13700. Train_MSE: 0.0010483890073373914. Test_MSE: 0.00022883514086920523\n",
      "Epoch: 145 Iteration: 13800. Train_MSE: 0.0008575219544582069. Test_MSE: 0.00022775678163685753\n",
      "Epoch: 146 Iteration: 13900. Train_MSE: 0.00039355686749331653. Test_MSE: 0.0002263726207238761\n",
      "Epoch: 147 Iteration: 14000. Train_MSE: 0.0002756614703685045. Test_MSE: 0.0002258221441241284\n",
      "Epoch: 148 Iteration: 14100. Train_MSE: 0.00047800171887502074. Test_MSE: 0.00022584726079233003\n",
      "Epoch: 149 Iteration: 14200. Train_MSE: 0.0007424698560498655. Test_MSE: 0.00022611797031191316\n",
      "Epoch: 150 Iteration: 14300. Train_MSE: 0.0004341774038039148. Test_MSE: 0.00022437336238152064\n",
      "Epoch: 151 Iteration: 14400. Train_MSE: 0.0008292821003124118. Test_MSE: 0.00022428164698528493\n",
      "Epoch: 152 Iteration: 14500. Train_MSE: 0.0008960310951806605. Test_MSE: 0.00022566515199086556\n",
      "Epoch: 153 Iteration: 14600. Train_MSE: 0.0005460401298478246. Test_MSE: 0.0002266269983742239\n",
      "Epoch: 154 Iteration: 14700. Train_MSE: 0.0007989648729562759. Test_MSE: 0.0002264272680853216\n",
      "Epoch: 155 Iteration: 14800. Train_MSE: 0.006838198751211166. Test_MSE: 0.0002252646632817216\n",
      "Epoch: 156 Iteration: 14900. Train_MSE: 0.0003689044388011098. Test_MSE: 0.00022447805306082994\n",
      "Epoch: 157 Iteration: 15000. Train_MSE: 0.0005145061295479536. Test_MSE: 0.00022390668541847378\n",
      "Epoch: 158 Iteration: 15100. Train_MSE: 0.0007465500384569168. Test_MSE: 0.00022415438745102608\n",
      "Epoch: 160 Iteration: 15200. Train_MSE: 0.0027775776106864214. Test_MSE: 0.0002229548733402216\n",
      "Epoch: 161 Iteration: 15300. Train_MSE: 0.0017266754293814301. Test_MSE: 0.00022187399841365368\n",
      "Epoch: 162 Iteration: 15400. Train_MSE: 0.0006025988841429353. Test_MSE: 0.0002223335427375409\n",
      "Epoch: 163 Iteration: 15500. Train_MSE: 0.0009621962672099471. Test_MSE: 0.00022277425137379167\n",
      "Epoch: 164 Iteration: 15600. Train_MSE: 0.0010064966045320034. Test_MSE: 0.00022213162386455464\n",
      "Epoch: 165 Iteration: 15700. Train_MSE: 0.000820278306491673. Test_MSE: 0.00022111689180733841\n",
      "Epoch: 166 Iteration: 15800. Train_MSE: 0.00036027244641445577. Test_MSE: 0.00021981381355135797\n",
      "Epoch: 167 Iteration: 15900. Train_MSE: 0.0002671229012776166. Test_MSE: 0.00021931306632823891\n",
      "Epoch: 168 Iteration: 16000. Train_MSE: 0.0004692719376180321. Test_MSE: 0.0002193662384455411\n",
      "Epoch: 169 Iteration: 16100. Train_MSE: 0.0007181081455200911. Test_MSE: 0.00021965806167025998\n",
      "Epoch: 170 Iteration: 16200. Train_MSE: 0.0004206970625091344. Test_MSE: 0.00021796355333700675\n",
      "Epoch: 171 Iteration: 16300. Train_MSE: 0.0007703466690145433. Test_MSE: 0.00021786932750128028\n",
      "Epoch: 172 Iteration: 16400. Train_MSE: 0.0008664689376018941. Test_MSE: 0.00021926193457734019\n",
      "Epoch: 173 Iteration: 16500. Train_MSE: 0.0005457272636704147. Test_MSE: 0.00022023728573764803\n",
      "Epoch: 174 Iteration: 16600. Train_MSE: 0.0007957142661325634. Test_MSE: 0.0002200870817980317\n",
      "Epoch: 175 Iteration: 16700. Train_MSE: 0.006777013652026653. Test_MSE: 0.00021899010778322973\n",
      "Epoch: 176 Iteration: 16800. Train_MSE: 0.00034843114553950727. Test_MSE: 0.00021827561419053562\n",
      "Epoch: 177 Iteration: 16900. Train_MSE: 0.0004964073887094855. Test_MSE: 0.0002177238325112609\n",
      "Epoch: 178 Iteration: 17000. Train_MSE: 0.0007006400846876204. Test_MSE: 0.00021795947797005003\n",
      "Epoch: 180 Iteration: 17100. Train_MSE: 0.0027351987082511187. Test_MSE: 0.00021677009519862925\n",
      "Epoch: 181 Iteration: 17200. Train_MSE: 0.0017076226649805903. Test_MSE: 0.0002156971747546112\n",
      "Epoch: 182 Iteration: 17300. Train_MSE: 0.0005507757305167615. Test_MSE: 0.00021614573419420955\n",
      "Epoch: 183 Iteration: 17400. Train_MSE: 0.0008858743822202086. Test_MSE: 0.00021657171029837254\n",
      "Epoch: 184 Iteration: 17500. Train_MSE: 0.0009732248727232218. Test_MSE: 0.00021595055915256967\n"
     ]
    },
    {
     "name": "stdout",
     "output_type": "stream",
     "text": [
      "Epoch: 185 Iteration: 17600. Train_MSE: 0.0007882328936830163. Test_MSE: 0.0002149815731425126\n",
      "Epoch: 186 Iteration: 17700. Train_MSE: 0.0003324775316286832. Test_MSE: 0.00021374143572648255\n",
      "Epoch: 187 Iteration: 17800. Train_MSE: 0.0002599232830107212. Test_MSE: 0.00021327367664965996\n",
      "Epoch: 188 Iteration: 17900. Train_MSE: 0.0004609735042322427. Test_MSE: 0.00021334013483910376\n",
      "Epoch: 189 Iteration: 18000. Train_MSE: 0.0006932339747436345. Test_MSE: 0.0002136386712354986\n",
      "Epoch: 190 Iteration: 18100. Train_MSE: 0.0004082323284819722. Test_MSE: 0.00021198555499003907\n",
      "Epoch: 191 Iteration: 18200. Train_MSE: 0.0007208215538412333. Test_MSE: 0.00021188301915039384\n",
      "Epoch: 192 Iteration: 18300. Train_MSE: 0.0008398043573834002. Test_MSE: 0.0002132683460218822\n",
      "Epoch: 193 Iteration: 18400. Train_MSE: 0.0005441199173219502. Test_MSE: 0.00021424123180501005\n",
      "Epoch: 194 Iteration: 18500. Train_MSE: 0.0007924804231151938. Test_MSE: 0.0002141263403118965\n",
      "Epoch: 195 Iteration: 18600. Train_MSE: 0.006719001568853855. Test_MSE: 0.00021308574487383596\n",
      "Epoch: 196 Iteration: 18700. Train_MSE: 0.00033104702015407383. Test_MSE: 0.00021243518000265606\n",
      "Epoch: 197 Iteration: 18800. Train_MSE: 0.0004813681880477816. Test_MSE: 0.0002118994084752449\n",
      "Epoch: 198 Iteration: 18900. Train_MSE: 0.0006607964169234037. Test_MSE: 0.00021212130862010566\n",
      "Epoch: 200 Iteration: 19000. Train_MSE: 0.0026872139424085617. Test_MSE: 0.0002109422028621269\n",
      "Epoch: 201 Iteration: 19100. Train_MSE: 0.001689544296823442. Test_MSE: 0.00020987901075711582\n",
      "Epoch: 202 Iteration: 19200. Train_MSE: 0.0005071205087006092. Test_MSE: 0.00021031411217827472\n",
      "Epoch: 203 Iteration: 19300. Train_MSE: 0.0008219823939725757. Test_MSE: 0.00021072130543509153\n",
      "Epoch: 204 Iteration: 19400. Train_MSE: 0.0009466232149861753. Test_MSE: 0.00021011481155421097\n",
      "Epoch: 205 Iteration: 19500. Train_MSE: 0.0007597862859256566. Test_MSE: 0.00020918673126279783\n",
      "Epoch: 206 Iteration: 19600. Train_MSE: 0.00030942665762268007. Test_MSE: 0.00020800378720035116\n",
      "Epoch: 207 Iteration: 19700. Train_MSE: 0.0002538567641749978. Test_MSE: 0.00020756604833820574\n",
      "Epoch: 208 Iteration: 19800. Train_MSE: 0.0004524403193499893. Test_MSE: 0.00020763960425415932\n",
      "Epoch: 209 Iteration: 19900. Train_MSE: 0.0006690153386443853. Test_MSE: 0.00020794012127442447\n",
      "Epoch: 210 Iteration: 20000. Train_MSE: 0.0003965591313317418. Test_MSE: 0.00020632871851190772\n",
      "Epoch: 211 Iteration: 20100. Train_MSE: 0.000678440323099494. Test_MSE: 0.00020621478462171046\n",
      "Epoch: 212 Iteration: 20200. Train_MSE: 0.0008149518980644643. Test_MSE: 0.00020758452373605146\n",
      "Epoch: 213 Iteration: 20300. Train_MSE: 0.0005412871832959354. Test_MSE: 0.00020854842581855473\n",
      "Epoch: 214 Iteration: 20400. Train_MSE: 0.000788936682511121. Test_MSE: 0.00020846128793234583\n",
      "Epoch: 215 Iteration: 20500. Train_MSE: 0.00666408846154809. Test_MSE: 0.00020747286491580043\n",
      "Epoch: 216 Iteration: 20600. Train_MSE: 0.0003160381456837058. Test_MSE: 0.00020688051472492888\n",
      "Epoch: 217 Iteration: 20700. Train_MSE: 0.0004686694301199168. Test_MSE: 0.00020636140116115064\n",
      "Epoch: 218 Iteration: 20800. Train_MSE: 0.0006256960332393646. Test_MSE: 0.00020656602571245123\n",
      "Epoch: 220 Iteration: 20900. Train_MSE: 0.002634840551763773. Test_MSE: 0.00020540570753993482\n",
      "Epoch: 221 Iteration: 21000. Train_MSE: 0.0016724045854061842. Test_MSE: 0.00020436201456329047\n",
      "Epoch: 222 Iteration: 21100. Train_MSE: 0.0004700657445937395. Test_MSE: 0.0002047853071124175\n",
      "Epoch: 223 Iteration: 21200. Train_MSE: 0.0007672880310565233. Test_MSE: 0.00020517725378252428\n",
      "Epoch: 224 Iteration: 21300. Train_MSE: 0.0009250605944544077. Test_MSE: 0.00020458956342541754\n",
      "Epoch: 225 Iteration: 21400. Train_MSE: 0.0007350817904807627. Test_MSE: 0.00020370636688208103\n",
      "Epoch: 226 Iteration: 21500. Train_MSE: 0.0002902499109040946. Test_MSE: 0.00020258543999923147\n",
      "Epoch: 227 Iteration: 21600. Train_MSE: 0.00024807502632029355. Test_MSE: 0.00020217424663123337\n",
      "Epoch: 228 Iteration: 21700. Train_MSE: 0.000443752360297367. Test_MSE: 0.00020225475497804803\n",
      "Epoch: 229 Iteration: 21800. Train_MSE: 0.0006455348921008408. Test_MSE: 0.00020255639873845082\n",
      "Epoch: 230 Iteration: 21900. Train_MSE: 0.0003852935624308884. Test_MSE: 0.00020099700013729197\n",
      "Epoch: 231 Iteration: 22000. Train_MSE: 0.0006409806082956493. Test_MSE: 0.00020087823123036877\n",
      "Epoch: 232 Iteration: 22100. Train_MSE: 0.0007919117342680693. Test_MSE: 0.00020222786245865587\n",
      "Epoch: 233 Iteration: 22200. Train_MSE: 0.0005377679481171072. Test_MSE: 0.00020318032989645124\n",
      "Epoch: 234 Iteration: 22300. Train_MSE: 0.0007848371751606464. Test_MSE: 0.00020311885363173717\n",
      "Epoch: 235 Iteration: 22400. Train_MSE: 0.006612634751945734. Test_MSE: 0.00020218054452907119\n",
      "Epoch: 236 Iteration: 22500. Train_MSE: 0.00030295512988232076. Test_MSE: 0.00020163874761715132\n",
      "Epoch: 237 Iteration: 22600. Train_MSE: 0.00045692850835621357. Test_MSE: 0.00020113180499380307\n",
      "Epoch: 238 Iteration: 22700. Train_MSE: 0.0005947508616372943. Test_MSE: 0.00020131897665872202\n",
      "Epoch: 240 Iteration: 22800. Train_MSE: 0.002578247571364045. Test_MSE: 0.000200176837236305\n",
      "Epoch: 241 Iteration: 22900. Train_MSE: 0.0016560123767703772. Test_MSE: 0.00019915078651899028\n",
      "Epoch: 242 Iteration: 23000. Train_MSE: 0.0004383748455438763. Test_MSE: 0.0001995561930915213\n",
      "Epoch: 243 Iteration: 23100. Train_MSE: 0.0007193900528363883. Test_MSE: 0.00019992535798910808\n",
      "Epoch: 244 Iteration: 23200. Train_MSE: 0.0009070943342521787. Test_MSE: 0.00019934987081502738\n",
      "Epoch: 245 Iteration: 23300. Train_MSE: 0.0007135983323678374. Test_MSE: 0.00019850285132818165\n",
      "Epoch: 246 Iteration: 23400. Train_MSE: 0.00027416730881668627. Test_MSE: 0.0001974324277257665\n",
      "Epoch: 247 Iteration: 23500. Train_MSE: 0.00024279733770526946. Test_MSE: 0.00019704305372381337\n",
      "Epoch: 248 Iteration: 23600. Train_MSE: 0.00043503500637598336. Test_MSE: 0.00019712380450802647\n",
      "Epoch: 249 Iteration: 23700. Train_MSE: 0.000622703053522855. Test_MSE: 0.0001974194827200853\n",
      "Epoch: 250 Iteration: 23800. Train_MSE: 0.00037418349529616535. Test_MSE: 0.00019590514050752973\n",
      "Epoch: 251 Iteration: 23900. Train_MSE: 0.0006084371125325561. Test_MSE: 0.00019577941925154433\n",
      "Epoch: 252 Iteration: 24000. Train_MSE: 0.0007701826980337501. Test_MSE: 0.0001971014800214714\n",
      "Epoch: 253 Iteration: 24100. Train_MSE: 0.0005333133158273995. Test_MSE: 0.00019803533426400905\n",
      "Epoch: 254 Iteration: 24200. Train_MSE: 0.0007802944746799767. Test_MSE: 0.00019799163862277636\n",
      "Epoch: 255 Iteration: 24300. Train_MSE: 0.006564899813383818. Test_MSE: 0.00019709587350964295\n",
      "Epoch: 256 Iteration: 24400. Train_MSE: 0.0002914265787694603. Test_MSE: 0.0001965986360962852\n",
      "Epoch: 257 Iteration: 24500. Train_MSE: 0.0004466354148462415. Test_MSE: 0.00019610249546667368\n",
      "Epoch: 258 Iteration: 24600. Train_MSE: 0.0005671688704751432. Test_MSE: 0.00019627145698933914\n",
      "Epoch: 260 Iteration: 24700. Train_MSE: 0.002518638037145138. Test_MSE: 0.0001951507631955558\n",
      "Epoch: 261 Iteration: 24800. Train_MSE: 0.001640197355300188. Test_MSE: 0.00019414256102296527\n",
      "Epoch: 262 Iteration: 24900. Train_MSE: 0.0004110952722840011. Test_MSE: 0.0001945293172888468\n",
      "Epoch: 263 Iteration: 25000. Train_MSE: 0.0006774243665859103. Test_MSE: 0.00019487704812961887\n",
      "Epoch: 264 Iteration: 25100. Train_MSE: 0.0008920847903937101. Test_MSE: 0.00019431240767864364\n",
      "Epoch: 265 Iteration: 25200. Train_MSE: 0.0006947210640646517. Test_MSE: 0.00019349857603213045\n",
      "Epoch: 266 Iteration: 25300. Train_MSE: 0.0002604605397209525. Test_MSE: 0.0001924769397623089\n",
      "Epoch: 267 Iteration: 25400. Train_MSE: 0.00023779028560966253. Test_MSE: 0.00019210850873666496\n",
      "Epoch: 268 Iteration: 25500. Train_MSE: 0.0004265812458470464. Test_MSE: 0.00019219124606443256\n",
      "Epoch: 269 Iteration: 25600. Train_MSE: 0.0006002990994602442. Test_MSE: 0.00019248364157394652\n",
      "Epoch: 270 Iteration: 25700. Train_MSE: 0.0003633128071669489. Test_MSE: 0.0001910199181027577\n",
      "Epoch: 271 Iteration: 25800. Train_MSE: 0.0005798692000098526. Test_MSE: 0.00019089153530895938\n",
      "Epoch: 272 Iteration: 25900. Train_MSE: 0.0007496413309127092. Test_MSE: 0.00019218671094958897\n",
      "Epoch: 273 Iteration: 26000. Train_MSE: 0.0005279015749692917. Test_MSE: 0.0001931034835382247\n",
      "Epoch: 274 Iteration: 26100. Train_MSE: 0.0007753917598165572. Test_MSE: 0.00019307654113125483\n"
     ]
    },
    {
     "name": "stdout",
     "output_type": "stream",
     "text": [
      "Epoch: 275 Iteration: 26200. Train_MSE: 0.0065206303261220455. Test_MSE: 0.00019222332007409062\n",
      "Epoch: 276 Iteration: 26300. Train_MSE: 0.0002811878512147814. Test_MSE: 0.0001917685235885203\n",
      "Epoch: 277 Iteration: 26400. Train_MSE: 0.0004375993739813566. Test_MSE: 0.00019128518979400877\n",
      "Epoch: 278 Iteration: 26500. Train_MSE: 0.000542316643986851. Test_MSE: 0.00019143942402839604\n",
      "Epoch: 280 Iteration: 26600. Train_MSE: 0.00245849066413939. Test_MSE: 0.00019034311276985863\n",
      "Epoch: 281 Iteration: 26700. Train_MSE: 0.0016249555628746748. Test_MSE: 0.00018935617623132238\n",
      "Epoch: 282 Iteration: 26800. Train_MSE: 0.0003875688125845045. Test_MSE: 0.00018972515831797924\n",
      "Epoch: 283 Iteration: 26900. Train_MSE: 0.0006403569132089615. Test_MSE: 0.000190052640254222\n",
      "Epoch: 284 Iteration: 27000. Train_MSE: 0.0008791410946287215. Test_MSE: 0.00018949871830883154\n",
      "Epoch: 285 Iteration: 27100. Train_MSE: 0.0006779351970180869. Test_MSE: 0.0001887165732670033\n",
      "Epoch: 286 Iteration: 27200. Train_MSE: 0.00024890893837437034. Test_MSE: 0.00018774057719195654\n",
      "Epoch: 287 Iteration: 27300. Train_MSE: 0.00023315141152124852. Test_MSE: 0.00018739122765258124\n",
      "Epoch: 288 Iteration: 27400. Train_MSE: 0.00041820225305855274. Test_MSE: 0.00018747515743299128\n",
      "Epoch: 289 Iteration: 27500. Train_MSE: 0.0005781740183010697. Test_MSE: 0.00018776210941579176\n",
      "Epoch: 290 Iteration: 27600. Train_MSE: 0.0003526141226757318. Test_MSE: 0.00018634839254724408\n",
      "Epoch: 291 Iteration: 27700. Train_MSE: 0.0005543852457776666. Test_MSE: 0.00018621994744222082\n",
      "Epoch: 292 Iteration: 27800. Train_MSE: 0.0007301184814423323. Test_MSE: 0.00018748831202893015\n",
      "Epoch: 293 Iteration: 27900. Train_MSE: 0.0005219461163505912. Test_MSE: 0.00018838613313232563\n",
      "Epoch: 294 Iteration: 28000. Train_MSE: 0.0007702471339143813. Test_MSE: 0.00018837077198599056\n",
      "Epoch: 295 Iteration: 28100. Train_MSE: 0.006479719188064337. Test_MSE: 0.00018755217187386598\n",
      "Epoch: 296 Iteration: 28200. Train_MSE: 0.0002718751784414053. Test_MSE: 0.00018713154972113054\n",
      "Epoch: 297 Iteration: 28300. Train_MSE: 0.0004297572886571288. Test_MSE: 0.00018665578043646354\n",
      "Epoch: 298 Iteration: 28400. Train_MSE: 0.0005197199061512947. Test_MSE: 0.00018679034499745226\n",
      "Epoch: 300 Iteration: 28500. Train_MSE: 0.002398334676399827. Test_MSE: 0.00018571075559491244\n",
      "Epoch: 301 Iteration: 28600. Train_MSE: 0.0016100816428661346. Test_MSE: 0.00018473910538151266\n",
      "Epoch: 302 Iteration: 28700. Train_MSE: 0.0003668700228445232. Test_MSE: 0.0001850863192741591\n",
      "Epoch: 303 Iteration: 28800. Train_MSE: 0.0006073737749829888. Test_MSE: 0.00018539040336413198\n",
      "Epoch: 304 Iteration: 28900. Train_MSE: 0.0008678683079779148. Test_MSE: 0.000184841970168292\n",
      "Epoch: 305 Iteration: 29000. Train_MSE: 0.0006631180876865983. Test_MSE: 0.00018408553604616455\n",
      "Epoch: 306 Iteration: 29100. Train_MSE: 0.0002388594875810668. Test_MSE: 0.000183148403895723\n",
      "Epoch: 307 Iteration: 29200. Train_MSE: 0.00022853640257380903. Test_MSE: 0.0001828138360221928\n",
      "Epoch: 308 Iteration: 29300. Train_MSE: 0.000409764819778502. Test_MSE: 0.00018289663406257707\n",
      "Epoch: 309 Iteration: 29400. Train_MSE: 0.0005566304898820817. Test_MSE: 0.00018317856918913147\n",
      "Epoch: 310 Iteration: 29500. Train_MSE: 0.00034212623722851276. Test_MSE: 0.00018181500914699603\n",
      "Epoch: 311 Iteration: 29600. Train_MSE: 0.0005313770961947739. Test_MSE: 0.0001816867881253488\n",
      "Epoch: 312 Iteration: 29700. Train_MSE: 0.0007116714841686189. Test_MSE: 0.00018292505926611175\n",
      "Epoch: 313 Iteration: 29800. Train_MSE: 0.0005157407140359282. Test_MSE: 0.0001838054951660475\n",
      "Epoch: 314 Iteration: 29900. Train_MSE: 0.0007648809114471078. Test_MSE: 0.0001838026417184472\n",
      "Epoch: 315 Iteration: 30000. Train_MSE: 0.0064415233209729195. Test_MSE: 0.00018302131580040116\n",
      "Epoch: 316 Iteration: 30100. Train_MSE: 0.0002634818374644965. Test_MSE: 0.00018263790249844602\n",
      "Epoch: 317 Iteration: 30200. Train_MSE: 0.00042274207226000726. Test_MSE: 0.00018217661656854545\n",
      "Epoch: 318 Iteration: 30300. Train_MSE: 0.0004990110755898058. Test_MSE: 0.00018230140826224706\n",
      "Epoch: 320 Iteration: 30400. Train_MSE: 0.0023388625122606754. Test_MSE: 0.0001812549552122586\n",
      "Epoch: 321 Iteration: 30500. Train_MSE: 0.0015958416042849422. Test_MSE: 0.00018031244324100753\n",
      "Epoch: 322 Iteration: 30600. Train_MSE: 0.0003483880718704313. Test_MSE: 0.00018064921878984292\n",
      "Epoch: 323 Iteration: 30700. Train_MSE: 0.0005782807129435241. Test_MSE: 0.00018094020188940776\n",
      "Epoch: 324 Iteration: 30800. Train_MSE: 0.0008579098503105342. Test_MSE: 0.0001804061698979707\n",
      "Epoch: 325 Iteration: 30900. Train_MSE: 0.0006503226468339562. Test_MSE: 0.000179681900868933\n",
      "Epoch: 326 Iteration: 31000. Train_MSE: 0.00022991877631284297. Test_MSE: 0.00017878866229019638\n",
      "Epoch: 327 Iteration: 31100. Train_MSE: 0.00022419940796680748. Test_MSE: 0.00017847331347616168\n",
      "Epoch: 328 Iteration: 31200. Train_MSE: 0.00040132307913154364. Test_MSE: 0.00017855921935356085\n",
      "Epoch: 329 Iteration: 31300. Train_MSE: 0.0005363173549994826. Test_MSE: 0.00017884164383555868\n",
      "Epoch: 330 Iteration: 31400. Train_MSE: 0.0003321197291370481. Test_MSE: 0.00017753053191413585\n",
      "Epoch: 331 Iteration: 31500. Train_MSE: 0.0005103796138428152. Test_MSE: 0.0001774090488613953\n",
      "Epoch: 332 Iteration: 31600. Train_MSE: 0.0006941308965906501. Test_MSE: 0.00017862325886597929\n",
      "Epoch: 333 Iteration: 31700. Train_MSE: 0.0005091778002679348. Test_MSE: 0.00017948722391078638\n",
      "Epoch: 334 Iteration: 31800. Train_MSE: 0.0007592106121592224. Test_MSE: 0.00017949648817222095\n",
      "Epoch: 335 Iteration: 31900. Train_MSE: 0.006405293475836515. Test_MSE: 0.00017875069241619576\n",
      "Epoch: 336 Iteration: 32000. Train_MSE: 0.00025585058028809726. Test_MSE: 0.00017840121641414647\n",
      "Epoch: 337 Iteration: 32100. Train_MSE: 0.00041644994053058326. Test_MSE: 0.00017795175171311716\n",
      "Epoch: 338 Iteration: 32200. Train_MSE: 0.00047957408241927624. Test_MSE: 0.0001780647690683739\n",
      "Epoch: 340 Iteration: 32300. Train_MSE: 0.0022804439067840576. Test_MSE: 0.00017704247279441354\n",
      "Epoch: 341 Iteration: 32400. Train_MSE: 0.0015821914421394467. Test_MSE: 0.00017612398991754456\n",
      "Epoch: 342 Iteration: 32500. Train_MSE: 0.00033174172858707607. Test_MSE: 0.00017644870072030993\n",
      "Epoch: 343 Iteration: 32600. Train_MSE: 0.0005519958795048296. Test_MSE: 0.0001767246256511284\n",
      "Epoch: 344 Iteration: 32700. Train_MSE: 0.0008492065826430917. Test_MSE: 0.0001762006062056086\n",
      "Epoch: 345 Iteration: 32800. Train_MSE: 0.0006388332112692297. Test_MSE: 0.00017550508805227018\n",
      "Epoch: 346 Iteration: 32900. Train_MSE: 0.0002221233444288373. Test_MSE: 0.00017465207922388404\n",
      "Epoch: 347 Iteration: 33000. Train_MSE: 0.0002200401941081509. Test_MSE: 0.00017435413162963232\n",
      "Epoch: 348 Iteration: 33100. Train_MSE: 0.0003929029044229537. Test_MSE: 0.00017444216163948155\n",
      "Epoch: 349 Iteration: 33200. Train_MSE: 0.0005168039351701736. Test_MSE: 0.000174723042563928\n",
      "Epoch: 350 Iteration: 33300. Train_MSE: 0.00032231368822976947. Test_MSE: 0.00017346318672815302\n",
      "Epoch: 351 Iteration: 33400. Train_MSE: 0.0004911113646812737. Test_MSE: 0.0001733467583105504\n",
      "Epoch: 352 Iteration: 33500. Train_MSE: 0.0006773246568627656. Test_MSE: 0.00017453223167755656\n",
      "Epoch: 353 Iteration: 33600. Train_MSE: 0.0005022587138228118. Test_MSE: 0.000175378597869833\n",
      "Epoch: 354 Iteration: 33700. Train_MSE: 0.0007532018353231251. Test_MSE: 0.00017539671298831395\n",
      "Epoch: 355 Iteration: 33800. Train_MSE: 0.006371796131134033. Test_MSE: 0.00017468278321405568\n",
      "Epoch: 356 Iteration: 33900. Train_MSE: 0.00024890044005587697. Test_MSE: 0.00017436340781773124\n",
      "Epoch: 357 Iteration: 34000. Train_MSE: 0.00041049145511351526. Test_MSE: 0.0001739255238627188\n",
      "Epoch: 358 Iteration: 34100. Train_MSE: 0.0004617634695023298. Test_MSE: 0.00017402843060066356\n",
      "Epoch: 360 Iteration: 34200. Train_MSE: 0.0022228665184229612. Test_MSE: 0.00017303341454966376\n",
      "Epoch: 361 Iteration: 34300. Train_MSE: 0.0015689837746322155. Test_MSE: 0.00017213846948099259\n",
      "Epoch: 362 Iteration: 34400. Train_MSE: 0.00031676419894210994. Test_MSE: 0.00017244901803683667\n",
      "Epoch: 363 Iteration: 34500. Train_MSE: 0.0005278578610159457. Test_MSE: 0.00017270861947189515\n",
      "Epoch: 364 Iteration: 34600. Train_MSE: 0.0008414607727900147. Test_MSE: 0.0001721935852406692\n",
      "Epoch: 365 Iteration: 34700. Train_MSE: 0.0006284830742515624. Test_MSE: 0.0001715213769884011\n"
     ]
    },
    {
     "name": "stdout",
     "output_type": "stream",
     "text": [
      "Epoch: 366 Iteration: 34800. Train_MSE: 0.0002152433735318482. Test_MSE: 0.00017070298747791222\n",
      "Epoch: 367 Iteration: 34900. Train_MSE: 0.0002159882860723883. Test_MSE: 0.000170418255955848\n",
      "Epoch: 368 Iteration: 35000. Train_MSE: 0.0003845322644338012. Test_MSE: 0.0001705055264980491\n",
      "Epoch: 369 Iteration: 35100. Train_MSE: 0.0004975814954377711. Test_MSE: 0.00017078154758620016\n",
      "Epoch: 370 Iteration: 35200. Train_MSE: 0.00031272045453079045. Test_MSE: 0.00016956973877118686\n",
      "Epoch: 371 Iteration: 35300. Train_MSE: 0.00047337671276181936. Test_MSE: 0.00016945644075697943\n",
      "Epoch: 372 Iteration: 35400. Train_MSE: 0.0006611321005038917. Test_MSE: 0.00017061309039547768\n",
      "Epoch: 373 Iteration: 35500. Train_MSE: 0.0004951133159920573. Test_MSE: 0.00017143944239690422\n",
      "Epoch: 374 Iteration: 35600. Train_MSE: 0.0007475149468518794. Test_MSE: 0.00017146476329588643\n",
      "Epoch: 375 Iteration: 35700. Train_MSE: 0.006340880412608385. Test_MSE: 0.00017077983454635214\n",
      "Epoch: 376 Iteration: 35800. Train_MSE: 0.0002425478887744248. Test_MSE: 0.00017048773632351416\n",
      "Epoch: 377 Iteration: 35900. Train_MSE: 0.0004049735434819013. Test_MSE: 0.00017006060601271696\n",
      "Epoch: 378 Iteration: 36000. Train_MSE: 0.0004453091823961586. Test_MSE: 0.00017015383283756016\n",
      "Epoch: 380 Iteration: 36100. Train_MSE: 0.002166046528145671. Test_MSE: 0.00016918547926332746\n",
      "Epoch: 381 Iteration: 36200. Train_MSE: 0.0015561330365017056. Test_MSE: 0.00016831419597462534\n",
      "Epoch: 382 Iteration: 36300. Train_MSE: 0.0003034879919141531. Test_MSE: 0.00016861108452748466\n",
      "Epoch: 383 Iteration: 36400. Train_MSE: 0.0005057260277681053. Test_MSE: 0.00016885506915957863\n",
      "Epoch: 384 Iteration: 36500. Train_MSE: 0.0008345264941453934. Test_MSE: 0.00016834750558371054\n",
      "Epoch: 385 Iteration: 36600. Train_MSE: 0.0006189548876136541. Test_MSE: 0.00016769657141854164\n",
      "Epoch: 386 Iteration: 36700. Train_MSE: 0.00020906131248921156. Test_MSE: 0.000166909689296397\n",
      "Epoch: 387 Iteration: 36800. Train_MSE: 0.00021220410417299718. Test_MSE: 0.00016663760670397268\n",
      "Epoch: 388 Iteration: 36900. Train_MSE: 0.0003762560954783112. Test_MSE: 0.0001667246014312777\n",
      "Epoch: 389 Iteration: 37000. Train_MSE: 0.00047909197746776044. Test_MSE: 0.0001669958252027243\n",
      "Epoch: 390 Iteration: 37100. Train_MSE: 0.00030352637986652553. Test_MSE: 0.00016582900980355889\n",
      "Epoch: 391 Iteration: 37200. Train_MSE: 0.00045708310790359974. Test_MSE: 0.00016572096586664885\n",
      "Epoch: 392 Iteration: 37300. Train_MSE: 0.0006457766867242754. Test_MSE: 0.00016685117469806353\n",
      "Epoch: 393 Iteration: 37400. Train_MSE: 0.00048797414638102055. Test_MSE: 0.0001676607275936306\n",
      "Epoch: 394 Iteration: 37500. Train_MSE: 0.0007418713648803532. Test_MSE: 0.00016769216932363944\n",
      "Epoch: 395 Iteration: 37600. Train_MSE: 0.006311718840152025. Test_MSE: 0.00016703315481514486\n",
      "Epoch: 396 Iteration: 37700. Train_MSE: 0.00023666989000048488. Test_MSE: 0.00016676623661540568\n",
      "Epoch: 397 Iteration: 37800. Train_MSE: 0.00039978165295906365. Test_MSE: 0.00016634992612784395\n",
      "Epoch: 398 Iteration: 37900. Train_MSE: 0.0004298984713386744. Test_MSE: 0.00016643345550842334\n",
      "Epoch: 400 Iteration: 38000. Train_MSE: 0.002110630739480257. Test_MSE: 0.0001654885461179019\n",
      "Epoch: 401 Iteration: 38100. Train_MSE: 0.0015436720568686724. Test_MSE: 0.00016463984003496773\n",
      "Epoch: 402 Iteration: 38200. Train_MSE: 0.0002915353106800467. Test_MSE: 0.00016492585290860711\n",
      "Epoch: 403 Iteration: 38300. Train_MSE: 0.0004855430161114782. Test_MSE: 0.00016515688013742013\n",
      "Epoch: 404 Iteration: 38400. Train_MSE: 0.000828133022878319. Test_MSE: 0.00016465810553497657\n",
      "Epoch: 405 Iteration: 38500. Train_MSE: 0.0006099743186496198. Test_MSE: 0.00016403197318084453\n",
      "Epoch: 406 Iteration: 38600. Train_MSE: 0.0002034229109995067. Test_MSE: 0.00016327927385046778\n",
      "Epoch: 407 Iteration: 38700. Train_MSE: 0.00020858246716670692. Test_MSE: 0.00016302160760848591\n",
      "Epoch: 408 Iteration: 38800. Train_MSE: 0.0003682314127217978. Test_MSE: 0.00016311142308235267\n",
      "Epoch: 409 Iteration: 38900. Train_MSE: 0.000461541028926149. Test_MSE: 0.0001633810928179264\n",
      "Epoch: 410 Iteration: 39000. Train_MSE: 0.0002948588225990534. Test_MSE: 0.00016226046612742586\n",
      "Epoch: 411 Iteration: 39100. Train_MSE: 0.0004420092736836523. Test_MSE: 0.00016215993459509022\n",
      "Epoch: 412 Iteration: 39200. Train_MSE: 0.0006313765770755708. Test_MSE: 0.0001632658305995945\n",
      "Epoch: 413 Iteration: 39300. Train_MSE: 0.0004811494145542383. Test_MSE: 0.0001640607195085365\n",
      "Epoch: 414 Iteration: 39400. Train_MSE: 0.0007362125325016677. Test_MSE: 0.00016410125703813673\n",
      "Epoch: 415 Iteration: 39500. Train_MSE: 0.006282916758209467. Test_MSE: 0.00016347092405379654\n",
      "Epoch: 416 Iteration: 39600. Train_MSE: 0.0002309500559931621. Test_MSE: 0.00016323071323998784\n",
      "Epoch: 417 Iteration: 39700. Train_MSE: 0.00039481426938436925. Test_MSE: 0.0001628264309453756\n",
      "Epoch: 418 Iteration: 39800. Train_MSE: 0.0004154325579293072. Test_MSE: 0.00016290251792109442\n",
      "Epoch: 420 Iteration: 39900. Train_MSE: 0.002056823344901204. Test_MSE: 0.00016198394318122936\n",
      "Epoch: 421 Iteration: 40000. Train_MSE: 0.001531846821308136. Test_MSE: 0.00016115854429923598\n",
      "Epoch: 422 Iteration: 40100. Train_MSE: 0.00028056083829142153. Test_MSE: 0.0001614333824703758\n",
      "Epoch: 423 Iteration: 40200. Train_MSE: 0.0004670830676332116. Test_MSE: 0.00016165135059932197\n",
      "Epoch: 424 Iteration: 40300. Train_MSE: 0.0008225227938964963. Test_MSE: 0.00016116005862538879\n",
      "Epoch: 425 Iteration: 40400. Train_MSE: 0.0006015735561959445. Test_MSE: 0.0001605541608305614\n",
      "Epoch: 426 Iteration: 40500. Train_MSE: 0.0001983096299227327. Test_MSE: 0.00015983113044543048\n",
      "Epoch: 427 Iteration: 40600. Train_MSE: 0.00020505762950051576. Test_MSE: 0.00015958584947984732\n",
      "Epoch: 428 Iteration: 40700. Train_MSE: 0.00036029116017743945. Test_MSE: 0.00015967598368749316\n",
      "Epoch: 429 Iteration: 40800. Train_MSE: 0.0004449003317859024. Test_MSE: 0.00015994187366509823\n",
      "Epoch: 430 Iteration: 40900. Train_MSE: 0.00028673914493992925. Test_MSE: 0.00015886300636919619\n",
      "Epoch: 431 Iteration: 41000. Train_MSE: 0.0004278702544979751. Test_MSE: 0.0001587666058643932\n",
      "Epoch: 432 Iteration: 41100. Train_MSE: 0.000617461686488241. Test_MSE: 0.00015984617122342213\n",
      "Epoch: 433 Iteration: 41200. Train_MSE: 0.00047423370415344834. Test_MSE: 0.00016062342544103316\n",
      "Epoch: 434 Iteration: 41300. Train_MSE: 0.0007304219761863351. Test_MSE: 0.0001606695380870407\n",
      "Epoch: 435 Iteration: 41400. Train_MSE: 0.006255617830902338. Test_MSE: 0.00016006372487548904\n",
      "Epoch: 436 Iteration: 41500. Train_MSE: 0.00022571247245650738. Test_MSE: 0.0001598460953592409\n",
      "Epoch: 437 Iteration: 41600. Train_MSE: 0.0003901792224496603. Test_MSE: 0.00015945175520908382\n",
      "Epoch: 438 Iteration: 41700. Train_MSE: 0.0004017669416498393. Test_MSE: 0.00015951976430436253\n",
      "Epoch: 440 Iteration: 41800. Train_MSE: 0.0020047009456902742. Test_MSE: 0.0001586254931311823\n",
      "Epoch: 441 Iteration: 41900. Train_MSE: 0.0015204207738861442. Test_MSE: 0.0001578203159622014\n",
      "Epoch: 442 Iteration: 42000. Train_MSE: 0.0002705022634472698. Test_MSE: 0.00015808389508795923\n",
      "Epoch: 443 Iteration: 42100. Train_MSE: 0.0004500440845731646. Test_MSE: 0.00015828982286716318\n",
      "Epoch: 444 Iteration: 42200. Train_MSE: 0.0008175926632247865. Test_MSE: 0.00015780646530653476\n",
      "Epoch: 445 Iteration: 42300. Train_MSE: 0.0005938164540566504. Test_MSE: 0.00015721952874777397\n",
      "Epoch: 446 Iteration: 42400. Train_MSE: 0.00019368749053683132. Test_MSE: 0.00015652293328083296\n",
      "Epoch: 447 Iteration: 42500. Train_MSE: 0.00020163845329079777. Test_MSE: 0.00015628748434179404\n",
      "Epoch: 448 Iteration: 42600. Train_MSE: 0.0003525294305291027. Test_MSE: 0.00015637660198348035\n",
      "Epoch: 449 Iteration: 42700. Train_MSE: 0.00042895186925306916. Test_MSE: 0.0001566370751145471\n",
      "Epoch: 450 Iteration: 42800. Train_MSE: 0.0002789878926705569. Test_MSE: 0.00015559781730182693\n",
      "Epoch: 451 Iteration: 42900. Train_MSE: 0.00041449072887189686. Test_MSE: 0.0001555056604900408\n",
      "Epoch: 452 Iteration: 43000. Train_MSE: 0.0006040605949237943. Test_MSE: 0.00015655978761787006\n",
      "Epoch: 453 Iteration: 43100. Train_MSE: 0.00046727678272873163. Test_MSE: 0.0001573201147619013\n",
      "Epoch: 454 Iteration: 43200. Train_MSE: 0.0007244761800393462. Test_MSE: 0.00015736958418431163\n",
      "Epoch: 455 Iteration: 43300. Train_MSE: 0.006229899358004332. Test_MSE: 0.00015678569637379576\n",
      "Epoch: 456 Iteration: 43400. Train_MSE: 0.0002204177581006661. Test_MSE: 0.00015658791153634673\n"
     ]
    },
    {
     "name": "stdout",
     "output_type": "stream",
     "text": [
      "Epoch: 457 Iteration: 43500. Train_MSE: 0.00038583643618039787. Test_MSE: 0.00015620328932512505\n",
      "Epoch: 458 Iteration: 43600. Train_MSE: 0.00038885034155100584. Test_MSE: 0.0001562634096935487\n",
      "Epoch: 460 Iteration: 43700. Train_MSE: 0.00195383676327765. Test_MSE: 0.0001553918435351317\n",
      "Epoch: 461 Iteration: 43800. Train_MSE: 0.0015093302354216576. Test_MSE: 0.00015460818679255244\n",
      "Epoch: 462 Iteration: 43900. Train_MSE: 0.0002613019896671176. Test_MSE: 0.00015486099957438056\n",
      "Epoch: 463 Iteration: 44000. Train_MSE: 0.0004344593035057187. Test_MSE: 0.0001550552340678561\n",
      "Epoch: 464 Iteration: 44100. Train_MSE: 0.0008132460643537343. Test_MSE: 0.0001545793447642016\n",
      "Epoch: 465 Iteration: 44200. Train_MSE: 0.0005866079591214657. Test_MSE: 0.00015401031681565558\n",
      "Epoch: 466 Iteration: 44300. Train_MSE: 0.0001894681336125359. Test_MSE: 0.00015334178532549293\n",
      "Epoch: 467 Iteration: 44400. Train_MSE: 0.00019798538414761424. Test_MSE: 0.00015311659669893244\n",
      "Epoch: 468 Iteration: 44500. Train_MSE: 0.00034470189712010324. Test_MSE: 0.00015320505065974114\n",
      "Epoch: 469 Iteration: 44600. Train_MSE: 0.00041370224789716303. Test_MSE: 0.00015346149366760267\n",
      "Epoch: 470 Iteration: 44700. Train_MSE: 0.00027155529824085534. Test_MSE: 0.00015246193873131276\n",
      "Epoch: 471 Iteration: 44800. Train_MSE: 0.0004020040505565703. Test_MSE: 0.00015237439637726558\n",
      "Epoch: 472 Iteration: 44900. Train_MSE: 0.0005910939071327448. Test_MSE: 0.00015340370896316713\n",
      "Epoch: 473 Iteration: 45000. Train_MSE: 0.00046036471030674875. Test_MSE: 0.000154146887860763\n",
      "Epoch: 474 Iteration: 45100. Train_MSE: 0.0007186840521171689. Test_MSE: 0.00015420040797132253\n",
      "Epoch: 475 Iteration: 45200. Train_MSE: 0.006205440033227205. Test_MSE: 0.00015363678437882344\n",
      "Epoch: 476 Iteration: 45300. Train_MSE: 0.00021543062757700682. Test_MSE: 0.0001534581105673699\n",
      "Epoch: 477 Iteration: 45400. Train_MSE: 0.00038175209192559123. Test_MSE: 0.0001530831812096567\n",
      "Epoch: 478 Iteration: 45500. Train_MSE: 0.00037672650068998337. Test_MSE: 0.00015313584071121632\n",
      "Epoch: 480 Iteration: 45600. Train_MSE: 0.0019047423265874386. Test_MSE: 0.00015228498712945392\n",
      "Epoch: 481 Iteration: 45700. Train_MSE: 0.0014985634479671717. Test_MSE: 0.00015152093266470628\n",
      "Epoch: 482 Iteration: 45800. Train_MSE: 0.000252860423643142. Test_MSE: 0.00015176266801651968\n",
      "Epoch: 483 Iteration: 45900. Train_MSE: 0.00041986111318692565. Test_MSE: 0.0001519439790192794\n",
      "Epoch: 484 Iteration: 46000. Train_MSE: 0.0008093643118627369. Test_MSE: 0.00015147573758533993\n",
      "Epoch: 485 Iteration: 46100. Train_MSE: 0.0005799475475214422. Test_MSE: 0.00015092433148509955\n",
      "Epoch: 486 Iteration: 46200. Train_MSE: 0.00018568265659268945. Test_MSE: 0.00015028168405039043\n",
      "Epoch: 487 Iteration: 46300. Train_MSE: 0.00019435712601989508. Test_MSE: 0.00015006638865365496\n",
      "Epoch: 488 Iteration: 46400. Train_MSE: 0.0003368405159562826. Test_MSE: 0.00015015468100140268\n",
      "Epoch: 489 Iteration: 46500. Train_MSE: 0.00039900882984511554. Test_MSE: 0.0001504079953319218\n",
      "Epoch: 490 Iteration: 46600. Train_MSE: 0.0002643312036525458. Test_MSE: 0.00014944783510300233\n",
      "Epoch: 491 Iteration: 46700. Train_MSE: 0.00039034293149597943. Test_MSE: 0.00014936753807610575\n",
      "Epoch: 492 Iteration: 46800. Train_MSE: 0.0005785130779258907. Test_MSE: 0.0001503733025636169\n",
      "Epoch: 493 Iteration: 46900. Train_MSE: 0.00045339754433371127. Test_MSE: 0.00015109818158793993\n",
      "Epoch: 494 Iteration: 47000. Train_MSE: 0.0007128491415642202. Test_MSE: 0.00015115239007781024\n",
      "Epoch: 495 Iteration: 47100. Train_MSE: 0.006183560937643051. Test_MSE: 0.0001506053509602588\n",
      "Epoch: 496 Iteration: 47200. Train_MSE: 0.0002108722401317209. Test_MSE: 0.00015044100247634044\n",
      "Epoch: 497 Iteration: 47300. Train_MSE: 0.00037794242962263525. Test_MSE: 0.0001500715299878489\n",
      "Epoch: 498 Iteration: 47400. Train_MSE: 0.00036567103234119713. Test_MSE: 0.0001501148909932013\n",
      "Epoch: 500 Iteration: 47500. Train_MSE: 0.0018571476684883237. Test_MSE: 0.0001492830804585293\n",
      "Epoch: 501 Iteration: 47600. Train_MSE: 0.0014880555681884289. Test_MSE: 0.00014853570600026897\n",
      "Epoch: 502 Iteration: 47700. Train_MSE: 0.00024490500800311565. Test_MSE: 0.000148764996221291\n",
      "Epoch: 503 Iteration: 47800. Train_MSE: 0.0004062491643708199. Test_MSE: 0.00014893284305228359\n",
      "Epoch: 504 Iteration: 47900. Train_MSE: 0.0008059445535764098. Test_MSE: 0.00014846746400329377\n",
      "Epoch: 505 Iteration: 48000. Train_MSE: 0.000573841156437993. Test_MSE: 0.00014792758314092371\n",
      "Epoch: 506 Iteration: 48100. Train_MSE: 0.00018223602091893554. Test_MSE: 0.0001473034237491213\n",
      "Epoch: 507 Iteration: 48200. Train_MSE: 0.0001909171842271462. Test_MSE: 0.00014709328095726906\n",
      "Epoch: 508 Iteration: 48300. Train_MSE: 0.0003291891480330378. Test_MSE: 0.00014717880979550404\n",
      "Epoch: 509 Iteration: 48400. Train_MSE: 0.00038509705336764455. Test_MSE: 0.00014742595825361317\n",
      "Epoch: 510 Iteration: 48500. Train_MSE: 0.00025745079619809985. Test_MSE: 0.00014649679210804487\n",
      "Epoch: 511 Iteration: 48600. Train_MSE: 0.0003794830699916929. Test_MSE: 0.00014641815334445662\n",
      "Epoch: 512 Iteration: 48700. Train_MSE: 0.0005662794574163854. Test_MSE: 0.0001474002357427145\n",
      "Epoch: 513 Iteration: 48800. Train_MSE: 0.0004463837540242821. Test_MSE: 0.00014810985334793423\n",
      "Epoch: 514 Iteration: 48900. Train_MSE: 0.0007070499123074114. Test_MSE: 0.00014816834709305786\n",
      "Epoch: 515 Iteration: 49000. Train_MSE: 0.006163288373500109. Test_MSE: 0.00014764074569530131\n",
      "Epoch: 516 Iteration: 49100. Train_MSE: 0.0002067931927740574. Test_MSE: 0.00014749289903355544\n",
      "Epoch: 517 Iteration: 49200. Train_MSE: 0.0003744099522009492. Test_MSE: 0.0001471328012121575\n",
      "Epoch: 518 Iteration: 49300. Train_MSE: 0.0003552946727722883. Test_MSE: 0.00014717130148468434\n",
      "Epoch: 520 Iteration: 49400. Train_MSE: 0.0018112696707248688. Test_MSE: 0.0001463620671552582\n",
      "Epoch: 521 Iteration: 49500. Train_MSE: 0.0014777560718357563. Test_MSE: 0.0001456346813236987\n",
      "Epoch: 522 Iteration: 49600. Train_MSE: 0.00023758549650665373. Test_MSE: 0.0001458543411464331\n",
      "Epoch: 523 Iteration: 49700. Train_MSE: 0.00039365983684547246. Test_MSE: 0.00014601163860453412\n",
      "Epoch: 524 Iteration: 49800. Train_MSE: 0.0008026573341339827. Test_MSE: 0.00014555315029531307\n",
      "Epoch: 525 Iteration: 49900. Train_MSE: 0.0005681298789568245. Test_MSE: 0.00014502868709737193\n",
      "Epoch: 526 Iteration: 50000. Train_MSE: 0.0001790655660443008. Test_MSE: 0.00014442664170100233\n",
      "Epoch: 527 Iteration: 50100. Train_MSE: 0.00018759898375719786. Test_MSE: 0.00014422445201149817\n",
      "Epoch: 528 Iteration: 50200. Train_MSE: 0.00032179642585106194. Test_MSE: 0.0001443095488292989\n",
      "Epoch: 529 Iteration: 50300. Train_MSE: 0.00037183149834163487. Test_MSE: 0.00014455280503668816\n",
      "Epoch: 530 Iteration: 50400. Train_MSE: 0.00025084312073886395. Test_MSE: 0.00014365873580614395\n",
      "Epoch: 531 Iteration: 50500. Train_MSE: 0.0003693414037115872. Test_MSE: 0.00014358604878857752\n",
      "Epoch: 532 Iteration: 50600. Train_MSE: 0.0005545933963730931. Test_MSE: 0.0001445454329777445\n",
      "Epoch: 533 Iteration: 50700. Train_MSE: 0.0004394963616505265. Test_MSE: 0.00014523944795509988\n",
      "Epoch: 534 Iteration: 50800. Train_MSE: 0.0007014876464381814. Test_MSE: 0.0001453000466066821\n",
      "Epoch: 535 Iteration: 50900. Train_MSE: 0.006143955979496241. Test_MSE: 0.00014479075313326813\n",
      "Epoch: 536 Iteration: 51000. Train_MSE: 0.00020302853954490274. Test_MSE: 0.0001446594323840063\n",
      "Epoch: 537 Iteration: 51100. Train_MSE: 0.00037106822128407657. Test_MSE: 0.0001443103628853928\n",
      "Epoch: 538 Iteration: 51200. Train_MSE: 0.00034563045483082533. Test_MSE: 0.00014434653910334885\n",
      "Epoch: 540 Iteration: 51300. Train_MSE: 0.001766656176187098. Test_MSE: 0.00014356053047780398\n",
      "Epoch: 541 Iteration: 51400. Train_MSE: 0.0014677586732432246. Test_MSE: 0.00014285514437303664\n",
      "Epoch: 542 Iteration: 51500. Train_MSE: 0.00023083816631697118. Test_MSE: 0.00014306822780788336\n",
      "Epoch: 543 Iteration: 51600. Train_MSE: 0.0003819815465249121. Test_MSE: 0.00014321802789776856\n",
      "Epoch: 544 Iteration: 51700. Train_MSE: 0.0007986818091012537. Test_MSE: 0.00014276921782833233\n",
      "Epoch: 545 Iteration: 51800. Train_MSE: 0.0005627732607536018. Test_MSE: 0.0001422624995176988\n",
      "Epoch: 546 Iteration: 51900. Train_MSE: 0.00017616013064980507. Test_MSE: 0.0001416842321051082\n",
      "Epoch: 547 Iteration: 52000. Train_MSE: 0.0001843954814830795. Test_MSE: 0.00014149307945696024\n"
     ]
    },
    {
     "name": "stdout",
     "output_type": "stream",
     "text": [
      "Epoch: 548 Iteration: 52100. Train_MSE: 0.0003146012022625655. Test_MSE: 0.00014158116699366222\n",
      "Epoch: 549 Iteration: 52200. Train_MSE: 0.000359176512574777. Test_MSE: 0.00014182259387594644\n",
      "Epoch: 550 Iteration: 52300. Train_MSE: 0.0002444964775349945. Test_MSE: 0.00014096446285863539\n",
      "Epoch: 551 Iteration: 52400. Train_MSE: 0.0003597362956497818. Test_MSE: 0.0001408982503714763\n",
      "Epoch: 552 Iteration: 52500. Train_MSE: 0.0005432439502328634. Test_MSE: 0.00014183632217048544\n",
      "Epoch: 553 Iteration: 52600. Train_MSE: 0.0004326476773712784. Test_MSE: 0.00014251615833199959\n",
      "Epoch: 554 Iteration: 52700. Train_MSE: 0.0006959789316169918. Test_MSE: 0.00014258013110574392\n",
      "Epoch: 555 Iteration: 52800. Train_MSE: 0.006125730462372303. Test_MSE: 0.00014208841615013788\n",
      "Epoch: 556 Iteration: 52900. Train_MSE: 0.00019951650756411254. Test_MSE: 0.00014197230960479395\n",
      "Epoch: 557 Iteration: 53000. Train_MSE: 0.0003679046640172601. Test_MSE: 0.00014163348485370135\n",
      "Epoch: 558 Iteration: 53100. Train_MSE: 0.0003364012809470296. Test_MSE: 0.00014166550829843459\n",
      "Epoch: 560 Iteration: 53200. Train_MSE: 0.0017234673723578453. Test_MSE: 0.00014090221474626256\n",
      "Epoch: 561 Iteration: 53300. Train_MSE: 0.0014581530122086406. Test_MSE: 0.00014021573730186711\n",
      "Epoch: 562 Iteration: 53400. Train_MSE: 0.00022458445164375007. Test_MSE: 0.00014042082766984178\n",
      "Epoch: 563 Iteration: 53500. Train_MSE: 0.0003709550073835999. Test_MSE: 0.0001405614521865861\n",
      "Epoch: 564 Iteration: 53600. Train_MSE: 0.0007949545979499817. Test_MSE: 0.0001401201547150426\n",
      "Epoch: 565 Iteration: 53700. Train_MSE: 0.0005577580886892974. Test_MSE: 0.0001396281522204572\n",
      "Epoch: 566 Iteration: 53800. Train_MSE: 0.00017346230742987245. Test_MSE: 0.00013907087946053414\n",
      "Epoch: 567 Iteration: 53900. Train_MSE: 0.00018130482931155711. Test_MSE: 0.00013888738262006015\n",
      "Epoch: 568 Iteration: 54000. Train_MSE: 0.00030755632906220853. Test_MSE: 0.00013897472216681454\n",
      "Epoch: 569 Iteration: 54100. Train_MSE: 0.0003470472292974591. Test_MSE: 0.00013921285128813156\n",
      "Epoch: 570 Iteration: 54200. Train_MSE: 0.0002384057588642463. Test_MSE: 0.00013838958451943166\n",
      "Epoch: 571 Iteration: 54300. Train_MSE: 0.0003506630309857428. Test_MSE: 0.00013832988703829595\n",
      "Epoch: 572 Iteration: 54400. Train_MSE: 0.0005322463694028556. Test_MSE: 0.00013924436459627023\n",
      "Epoch: 573 Iteration: 54500. Train_MSE: 0.00042591485544107854. Test_MSE: 0.00013990780890917262\n",
      "Epoch: 574 Iteration: 54600. Train_MSE: 0.0006905618938617408. Test_MSE: 0.00013997344487765123\n",
      "Epoch: 575 Iteration: 54700. Train_MSE: 0.00610828772187233. Test_MSE: 0.00013949783386096632\n",
      "Epoch: 576 Iteration: 54800. Train_MSE: 0.0001962210808414966. Test_MSE: 0.00013939540860137244\n",
      "Epoch: 577 Iteration: 54900. Train_MSE: 0.0003648724814411253. Test_MSE: 0.00013906526057525605\n",
      "Epoch: 578 Iteration: 55000. Train_MSE: 0.0003275918716099113. Test_MSE: 0.0001390928241829887\n",
      "Epoch: 580 Iteration: 55100. Train_MSE: 0.0016815678682178259. Test_MSE: 0.00013835093035445613\n",
      "Epoch: 581 Iteration: 55200. Train_MSE: 0.001448855153284967. Test_MSE: 0.00013768401907032532\n",
      "Epoch: 582 Iteration: 55300. Train_MSE: 0.00021874757658224553. Test_MSE: 0.00013788160690789708\n",
      "Epoch: 583 Iteration: 55400. Train_MSE: 0.00036054995143786073. Test_MSE: 0.00013801495058214007\n",
      "Epoch: 584 Iteration: 55500. Train_MSE: 0.0007914479356259108. Test_MSE: 0.00013758209995292636\n",
      "Epoch: 585 Iteration: 55600. Train_MSE: 0.0005530111375264823. Test_MSE: 0.00013710455064154623\n",
      "Epoch: 586 Iteration: 55700. Train_MSE: 0.00017094353097490966. Test_MSE: 0.00013656647289674086\n",
      "Epoch: 587 Iteration: 55800. Train_MSE: 0.0001783408224582672. Test_MSE: 0.0001363903928872597\n",
      "Epoch: 588 Iteration: 55900. Train_MSE: 0.0003007561608683318. Test_MSE: 0.0001364779642631207\n",
      "Epoch: 589 Iteration: 56000. Train_MSE: 0.00033546279883012176. Test_MSE: 0.00013671359015382533\n",
      "Epoch: 590 Iteration: 56100. Train_MSE: 0.0002325225214008242. Test_MSE: 0.00013592288151525995\n",
      "Epoch: 591 Iteration: 56200. Train_MSE: 0.0003420737339183688. Test_MSE: 0.00013586832568381597\n",
      "Epoch: 592 Iteration: 56300. Train_MSE: 0.000521583016961813. Test_MSE: 0.00013676165196067666\n",
      "Epoch: 593 Iteration: 56400. Train_MSE: 0.00041924259858205914. Test_MSE: 0.00013741135893177825\n",
      "Epoch: 594 Iteration: 56500. Train_MSE: 0.0006853108643554151. Test_MSE: 0.000137479570528059\n",
      "Epoch: 595 Iteration: 56600. Train_MSE: 0.006091575138270855. Test_MSE: 0.0001370205215924732\n",
      "Epoch: 596 Iteration: 56700. Train_MSE: 0.0001931215520016849. Test_MSE: 0.00013693180276105706\n",
      "Epoch: 597 Iteration: 56800. Train_MSE: 0.00036193602136336267. Test_MSE: 0.0001366120399901653\n",
      "Epoch: 598 Iteration: 56900. Train_MSE: 0.0003191417781636119. Test_MSE: 0.0001366373583369717\n",
      "Epoch: 600 Iteration: 57000. Train_MSE: 0.0016413013217970729. Test_MSE: 0.0001359169038624123\n",
      "Epoch: 601 Iteration: 57100. Train_MSE: 0.001439957763068378. Test_MSE: 0.00013526849626410597\n",
      "Epoch: 602 Iteration: 57200. Train_MSE: 0.00021323283726815134. Test_MSE: 0.00013545882026673973\n",
      "Epoch: 603 Iteration: 57300. Train_MSE: 0.0003508775553200394. Test_MSE: 0.00013558371355312882\n",
      "Epoch: 604 Iteration: 57400. Train_MSE: 0.0007882151985540986. Test_MSE: 0.00013515869411681984\n",
      "Epoch: 605 Iteration: 57500. Train_MSE: 0.0005483473651111126. Test_MSE: 0.00013469518484592627\n",
      "Epoch: 606 Iteration: 57600. Train_MSE: 0.00016856510774232447. Test_MSE: 0.00013417655375354487\n",
      "Epoch: 607 Iteration: 57700. Train_MSE: 0.00017548822506796569. Test_MSE: 0.0001340084076244454\n",
      "Epoch: 608 Iteration: 57800. Train_MSE: 0.000294151424895972. Test_MSE: 0.000134096449368354\n",
      "Epoch: 609 Iteration: 57900. Train_MSE: 0.0003244771796744317. Test_MSE: 0.00013432888397415184\n",
      "Epoch: 610 Iteration: 58000. Train_MSE: 0.00022688310127705336. Test_MSE: 0.00013356925768518165\n",
      "Epoch: 611 Iteration: 58100. Train_MSE: 0.00033389159943908453. Test_MSE: 0.00013351985942958722\n",
      "Epoch: 612 Iteration: 58200. Train_MSE: 0.0005112412036396563. Test_MSE: 0.00013439292475916727\n",
      "Epoch: 613 Iteration: 58300. Train_MSE: 0.00041259994031861424. Test_MSE: 0.00013502922053201997\n",
      "Epoch: 614 Iteration: 58400. Train_MSE: 0.0006801920244470239. Test_MSE: 0.00013510007665979947\n",
      "Epoch: 615 Iteration: 58500. Train_MSE: 0.006075550336390734. Test_MSE: 0.00013465616247901452\n",
      "Epoch: 616 Iteration: 58600. Train_MSE: 0.00019019054889213294. Test_MSE: 0.00013458038717283245\n",
      "Epoch: 617 Iteration: 58700. Train_MSE: 0.0003591389977373183. Test_MSE: 0.00013427053645608593\n",
      "Epoch: 618 Iteration: 58800. Train_MSE: 0.00031103380024433136. Test_MSE: 0.00013429376224543998\n",
      "Epoch: 620 Iteration: 58900. Train_MSE: 0.0016029604012146592. Test_MSE: 0.00013359459671259406\n",
      "Epoch: 621 Iteration: 59000. Train_MSE: 0.0014316645683720708. Test_MSE: 0.00013296374799006439\n",
      "Epoch: 622 Iteration: 59100. Train_MSE: 0.00020799419144168496. Test_MSE: 0.00013314824189373118\n",
      "Epoch: 623 Iteration: 59200. Train_MSE: 0.0003416727122385055. Test_MSE: 0.0001332671225642555\n",
      "Epoch: 624 Iteration: 59300. Train_MSE: 0.0007851689588278532. Test_MSE: 0.00013285011840611762\n",
      "Epoch: 625 Iteration: 59400. Train_MSE: 0.0005439022206701338. Test_MSE: 0.00013239993719588652\n",
      "Epoch: 626 Iteration: 59500. Train_MSE: 0.00016631039034109563. Test_MSE: 0.00013189897894455097\n",
      "Epoch: 627 Iteration: 59600. Train_MSE: 0.00017270118405576795. Test_MSE: 0.00013173811486685022\n",
      "Epoch: 628 Iteration: 59700. Train_MSE: 0.0002876519865822047. Test_MSE: 0.00013182615503064125\n",
      "Epoch: 629 Iteration: 59800. Train_MSE: 0.0003141078632324934. Test_MSE: 0.00013205527949352127\n",
      "Epoch: 630 Iteration: 59900. Train_MSE: 0.0002216049615526572. Test_MSE: 0.00013132321575785893\n",
      "Epoch: 631 Iteration: 60000. Train_MSE: 0.00032607780303806067. Test_MSE: 0.0001312772735463612\n",
      "Epoch: 632 Iteration: 60100. Train_MSE: 0.0005012204637750983. Test_MSE: 0.00013213035762357257\n",
      "Epoch: 633 Iteration: 60200. Train_MSE: 0.00040609337156638503. Test_MSE: 0.00013275245825077932\n",
      "Epoch: 634 Iteration: 60300. Train_MSE: 0.0006752359913662076. Test_MSE: 0.00013282424363194608\n",
      "Epoch: 635 Iteration: 60400. Train_MSE: 0.006060205865651369. Test_MSE: 0.00013239369743596737\n",
      "Epoch: 636 Iteration: 60500. Train_MSE: 0.0001874157605925575. Test_MSE: 0.00013232888958591784\n",
      "Epoch: 637 Iteration: 60600. Train_MSE: 0.0003564271319191903. Test_MSE: 0.0001320267575537506\n"
     ]
    },
    {
     "name": "stdout",
     "output_type": "stream",
     "text": [
      "Epoch: 638 Iteration: 60700. Train_MSE: 0.0003032798122148961. Test_MSE: 0.00013204677923381222\n",
      "Epoch: 640 Iteration: 60800. Train_MSE: 0.001566331833600998. Test_MSE: 0.00013136573218279924\n",
      "Epoch: 641 Iteration: 60900. Train_MSE: 0.001423763227649033. Test_MSE: 0.00013075081239087861\n",
      "Epoch: 642 Iteration: 61000. Train_MSE: 0.00020306295482441783. Test_MSE: 0.00013092805132282253\n",
      "Epoch: 643 Iteration: 61100. Train_MSE: 0.00033299042843282223. Test_MSE: 0.0001310393452047189\n",
      "Epoch: 644 Iteration: 61200. Train_MSE: 0.0007824111962690949. Test_MSE: 0.00013062942707599764\n",
      "Epoch: 645 Iteration: 61300. Train_MSE: 0.000539609172847122. Test_MSE: 0.00013019156456670403\n",
      "Epoch: 646 Iteration: 61400. Train_MSE: 0.00016415829304605722. Test_MSE: 0.0001297070989652776\n",
      "Epoch: 647 Iteration: 61500. Train_MSE: 0.00016986210539471358. Test_MSE: 0.00012955251691092187\n",
      "Epoch: 648 Iteration: 61600. Train_MSE: 0.0002811949234455824. Test_MSE: 0.00012964116439530496\n",
      "Epoch: 649 Iteration: 61700. Train_MSE: 0.00030427536694332957. Test_MSE: 0.0001298668196190568\n",
      "Epoch: 650 Iteration: 61800. Train_MSE: 0.00021655892487615347. Test_MSE: 0.00012916157618974588\n",
      "Epoch: 651 Iteration: 61900. Train_MSE: 0.00031864328775554895. Test_MSE: 0.00012911836332607488\n",
      "Epoch: 652 Iteration: 62000. Train_MSE: 0.0004915444878861308. Test_MSE: 0.00012995166591358155\n",
      "Epoch: 653 Iteration: 62100. Train_MSE: 0.0003996671293862164. Test_MSE: 0.00013055928524337393\n",
      "Epoch: 654 Iteration: 62200. Train_MSE: 0.0006704162224195898. Test_MSE: 0.0001306309994091896\n",
      "Epoch: 655 Iteration: 62300. Train_MSE: 0.006045441143214703. Test_MSE: 0.00013021304418813873\n",
      "Epoch: 656 Iteration: 62400. Train_MSE: 0.00018477969570085406. Test_MSE: 0.00013015876201422866\n",
      "Epoch: 657 Iteration: 62500. Train_MSE: 0.00035374227445572615. Test_MSE: 0.0001298648061582318\n",
      "Epoch: 658 Iteration: 62600. Train_MSE: 0.000295912817819044. Test_MSE: 0.00012988186997946156\n",
      "Epoch: 660 Iteration: 62700. Train_MSE: 0.0015312833711504936. Test_MSE: 0.00012921828323989254\n",
      "Epoch: 661 Iteration: 62800. Train_MSE: 0.001416174927726388. Test_MSE: 0.00012861758759614167\n",
      "Epoch: 662 Iteration: 62900. Train_MSE: 0.000198419249500148. Test_MSE: 0.00012878775803512173\n",
      "Epoch: 663 Iteration: 63000. Train_MSE: 0.00032475352054461837. Test_MSE: 0.00012889175057107533\n",
      "Epoch: 664 Iteration: 63100. Train_MSE: 0.0007799041923135519. Test_MSE: 0.0001284870734044062\n",
      "Epoch: 665 Iteration: 63200. Train_MSE: 0.0005355319590307772. Test_MSE: 0.00012805922717221824\n",
      "Epoch: 666 Iteration: 63300. Train_MSE: 0.00016212023911066353. Test_MSE: 0.00012758915554691958\n",
      "Epoch: 667 Iteration: 63400. Train_MSE: 0.0001670697529334575. Test_MSE: 0.00012743959322443\n",
      "Epoch: 668 Iteration: 63500. Train_MSE: 0.0002749022387433797. Test_MSE: 0.00012752737974967891\n",
      "Epoch: 669 Iteration: 63600. Train_MSE: 0.00029490332235582173. Test_MSE: 0.000127748777303\n",
      "Epoch: 670 Iteration: 63700. Train_MSE: 0.00021175634174142033. Test_MSE: 0.00012706633385601397\n",
      "Epoch: 671 Iteration: 63800. Train_MSE: 0.00031153831514529884. Test_MSE: 0.00012702718151401735\n",
      "Epoch: 672 Iteration: 63900. Train_MSE: 0.0004821566108148545. Test_MSE: 0.00012784313976932046\n",
      "Epoch: 673 Iteration: 64000. Train_MSE: 0.00039335779729299247. Test_MSE: 0.00012843851167210497\n",
      "Epoch: 674 Iteration: 64100. Train_MSE: 0.0006656415062025189. Test_MSE: 0.00012851165111667145\n",
      "Epoch: 675 Iteration: 64200. Train_MSE: 0.006031287368386984. Test_MSE: 0.00012810570816874833\n",
      "Epoch: 676 Iteration: 64300. Train_MSE: 0.00018228126282338053. Test_MSE: 0.00012806039902013965\n",
      "Epoch: 677 Iteration: 64400. Train_MSE: 0.000351163384038955. Test_MSE: 0.00012777334280544681\n",
      "Epoch: 678 Iteration: 64500. Train_MSE: 0.0002888467279262841. Test_MSE: 0.00012778745945512518\n",
      "Epoch: 680 Iteration: 64600. Train_MSE: 0.0014976955717429519. Test_MSE: 0.0001271390942636963\n",
      "Epoch: 681 Iteration: 64700. Train_MSE: 0.0014089171309024096. Test_MSE: 0.0001265522464076037\n",
      "Epoch: 682 Iteration: 64800. Train_MSE: 0.00019396733841858804. Test_MSE: 0.0001267158539781965\n",
      "Epoch: 683 Iteration: 64900. Train_MSE: 0.00031681422842666507. Test_MSE: 0.00012681344146801176\n",
      "Epoch: 684 Iteration: 65000. Train_MSE: 0.0007775957346893847. Test_MSE: 0.0001264158769173105\n",
      "Epoch: 685 Iteration: 65100. Train_MSE: 0.0005316651659086347. Test_MSE: 0.0001259996152594355\n",
      "Epoch: 686 Iteration: 65200. Train_MSE: 0.00016014455468393862. Test_MSE: 0.00012554514769192167\n",
      "Epoch: 687 Iteration: 65300. Train_MSE: 0.00016437159501947463. Test_MSE: 0.0001254014942919627\n",
      "Epoch: 688 Iteration: 65400. Train_MSE: 0.00026879223878495395. Test_MSE: 0.0001254896737954075\n",
      "Epoch: 689 Iteration: 65500. Train_MSE: 0.0002860135573428124. Test_MSE: 0.00012570799799453767\n",
      "Epoch: 690 Iteration: 65600. Train_MSE: 0.0002071814815280959. Test_MSE: 0.00012505043943150405\n",
      "Epoch: 691 Iteration: 65700. Train_MSE: 0.0003047685604542494. Test_MSE: 0.00012501498447983937\n",
      "Epoch: 692 Iteration: 65800. Train_MSE: 0.0004729889624286443. Test_MSE: 0.0001258129156667416\n",
      "Epoch: 693 Iteration: 65900. Train_MSE: 0.0003871298104058951. Test_MSE: 0.00012639552093561332\n",
      "Epoch: 694 Iteration: 66000. Train_MSE: 0.0006608620169572532. Test_MSE: 0.00012646976996452021\n",
      "Epoch: 695 Iteration: 66100. Train_MSE: 0.006017906591296196. Test_MSE: 0.00012607523364503606\n",
      "Epoch: 696 Iteration: 66200. Train_MSE: 0.00017994019435718656. Test_MSE: 0.00012603930929374883\n",
      "Epoch: 697 Iteration: 66300. Train_MSE: 0.00034860370215028524. Test_MSE: 0.0001257602176662548\n",
      "Epoch: 698 Iteration: 66400. Train_MSE: 0.00028195674531161785. Test_MSE: 0.00012577201125853107\n",
      "Epoch: 700 Iteration: 66500. Train_MSE: 0.0014652122044935822. Test_MSE: 0.00012514096791912477\n",
      "Epoch: 701 Iteration: 66600. Train_MSE: 0.0014018819201737642. Test_MSE: 0.00012456952548878377\n",
      "Epoch: 702 Iteration: 66700. Train_MSE: 0.00018960308807436377. Test_MSE: 0.00012472836918606746\n",
      "Epoch: 703 Iteration: 66800. Train_MSE: 0.000309059105347842. Test_MSE: 0.00012482082536410108\n",
      "Epoch: 704 Iteration: 66900. Train_MSE: 0.0007754543912597001. Test_MSE: 0.00012443088560831856\n",
      "Epoch: 705 Iteration: 67000. Train_MSE: 0.0005280097830109298. Test_MSE: 0.00012402649675670558\n",
      "Epoch: 706 Iteration: 67100. Train_MSE: 0.0001582575059728697. Test_MSE: 0.0001235879004409509\n",
      "Epoch: 707 Iteration: 67200. Train_MSE: 0.00016174324264284223. Test_MSE: 0.0001234513629271165\n",
      "Epoch: 708 Iteration: 67300. Train_MSE: 0.0002629179216455668. Test_MSE: 0.0001235406337679333\n",
      "Epoch: 709 Iteration: 67400. Train_MSE: 0.0002774501626845449. Test_MSE: 0.0001237563456461551\n",
      "Epoch: 710 Iteration: 67500. Train_MSE: 0.00020280867465771735. Test_MSE: 0.00012312289384815994\n",
      "Epoch: 711 Iteration: 67600. Train_MSE: 0.00029830785933882. Test_MSE: 0.00012309144016608002\n",
      "Epoch: 712 Iteration: 67700. Train_MSE: 0.0004640718980226666. Test_MSE: 0.00012387182535564272\n",
      "Epoch: 713 Iteration: 67800. Train_MSE: 0.0003810624766629189. Test_MSE: 0.0001244427869116938\n",
      "Epoch: 714 Iteration: 67900. Train_MSE: 0.0006561827030964196. Test_MSE: 0.00012451871771635613\n",
      "Epoch: 715 Iteration: 68000. Train_MSE: 0.0060048336163163185. Test_MSE: 0.0001241368714222712\n",
      "Epoch: 716 Iteration: 68100. Train_MSE: 0.00017767770623322576. Test_MSE: 0.00012411093884039974\n",
      "Epoch: 717 Iteration: 68200. Train_MSE: 0.000346107583027333. Test_MSE: 0.00012384039052937122\n",
      "Epoch: 718 Iteration: 68300. Train_MSE: 0.0002753550070337951. Test_MSE: 0.0001238516876691619\n",
      "Epoch: 720 Iteration: 68400. Train_MSE: 0.0014341879868879914. Test_MSE: 0.00012323800158371012\n",
      "Epoch: 721 Iteration: 68500. Train_MSE: 0.0013951760483905673. Test_MSE: 0.00012268031340283245\n",
      "Epoch: 722 Iteration: 68600. Train_MSE: 0.00018549970991443843. Test_MSE: 0.00012283336918787762\n",
      "Epoch: 723 Iteration: 68700. Train_MSE: 0.0003016693808604032. Test_MSE: 0.0001229206471784226\n",
      "Epoch: 724 Iteration: 68800. Train_MSE: 0.0007734459359198809. Test_MSE: 0.00012253805168806214\n",
      "Epoch: 725 Iteration: 68900. Train_MSE: 0.00052448088536039. Test_MSE: 0.00012214427435874704\n",
      "Epoch: 726 Iteration: 69000. Train_MSE: 0.0001564762060297653. Test_MSE: 0.00012171974980481416\n",
      "Epoch: 727 Iteration: 69100. Train_MSE: 0.00015913155220914632. Test_MSE: 0.00012158840143924403\n",
      "Epoch: 728 Iteration: 69200. Train_MSE: 0.00025720580015331507. Test_MSE: 0.00012167779953095245\n"
     ]
    },
    {
     "name": "stdout",
     "output_type": "stream",
     "text": [
      "Epoch: 729 Iteration: 69300. Train_MSE: 0.0002692553971428424. Test_MSE: 0.00012188970098903255\n",
      "Epoch: 730 Iteration: 69400. Train_MSE: 0.00019858083396684378. Test_MSE: 0.0001212784669732555\n",
      "Epoch: 731 Iteration: 69500. Train_MSE: 0.00029217160772532225. Test_MSE: 0.0001212500040684394\n",
      "Epoch: 732 Iteration: 69600. Train_MSE: 0.00045544723980128765. Test_MSE: 0.00012201217170778903\n",
      "Epoch: 733 Iteration: 69700. Train_MSE: 0.0003751017793547362. Test_MSE: 0.00012257062437290287\n",
      "Epoch: 734 Iteration: 69800. Train_MSE: 0.0006516056600958109. Test_MSE: 0.00012264679347087987\n",
      "Epoch: 735 Iteration: 69900. Train_MSE: 0.005992185324430466. Test_MSE: 0.00012227664338219273\n",
      "Epoch: 736 Iteration: 70000. Train_MSE: 0.0001755148114170879. Test_MSE: 0.00012225926819973263\n",
      "Epoch: 737 Iteration: 70100. Train_MSE: 0.00034359045093879104. Test_MSE: 0.00012199695812045174\n",
      "Epoch: 738 Iteration: 70200. Train_MSE: 0.00026901339879259467. Test_MSE: 0.0001220070406731167\n",
      "Epoch: 740 Iteration: 70300. Train_MSE: 0.001404157024808228. Test_MSE: 0.00012141191728044311\n",
      "Epoch: 741 Iteration: 70400. Train_MSE: 0.0013886182568967342. Test_MSE: 0.00012087002750905093\n",
      "Epoch: 742 Iteration: 70500. Train_MSE: 0.0001816538133425638. Test_MSE: 0.00012101831475133072\n",
      "Epoch: 743 Iteration: 70600. Train_MSE: 0.0002945927844848484. Test_MSE: 0.00012110106801152585\n",
      "Epoch: 744 Iteration: 70700. Train_MSE: 0.0007715683314017951. Test_MSE: 0.0001207266119525856\n",
      "Epoch: 745 Iteration: 70800. Train_MSE: 0.0005210955278016627. Test_MSE: 0.00012034435936248343\n",
      "Epoch: 746 Iteration: 70900. Train_MSE: 0.00015477900160476565. Test_MSE: 0.00011993515910610569\n",
      "Epoch: 747 Iteration: 71000. Train_MSE: 0.00015661520592402667. Test_MSE: 0.0001198102236773995\n",
      "Epoch: 748 Iteration: 71100. Train_MSE: 0.00025168084539473057. Test_MSE: 0.00011990022697134087\n",
      "Epoch: 749 Iteration: 71200. Train_MSE: 0.0002613764372654259. Test_MSE: 0.00012010922567492823\n",
      "Epoch: 750 Iteration: 71300. Train_MSE: 0.00019440651522018015. Test_MSE: 0.00011952075323786011\n",
      "Epoch: 751 Iteration: 71400. Train_MSE: 0.0002862818364519626. Test_MSE: 0.00011949520790997246\n",
      "Epoch: 752 Iteration: 71500. Train_MSE: 0.0004471053835004568. Test_MSE: 0.00012023899407930707\n",
      "Epoch: 753 Iteration: 71600. Train_MSE: 0.00036929099587723613. Test_MSE: 0.00012078512683849463\n",
      "Epoch: 754 Iteration: 71700. Train_MSE: 0.0006471374072134495. Test_MSE: 0.00012086215780916506\n",
      "Epoch: 755 Iteration: 71800. Train_MSE: 0.005980006884783506. Test_MSE: 0.0001205029295441339\n",
      "Epoch: 756 Iteration: 71900. Train_MSE: 0.00017346141976304352. Test_MSE: 0.00012049291612418465\n",
      "Epoch: 757 Iteration: 72000. Train_MSE: 0.0003411776851862669. Test_MSE: 0.00012023752538244643\n",
      "Epoch: 758 Iteration: 72100. Train_MSE: 0.000262886198470369. Test_MSE: 0.00012024495693035711\n",
      "Epoch: 760 Iteration: 72200. Train_MSE: 0.00137505738530308. Test_MSE: 0.00011966437893231184\n",
      "Epoch: 761 Iteration: 72300. Train_MSE: 0.0013821498723700643. Test_MSE: 0.00011913530597081257\n",
      "Epoch: 762 Iteration: 72400. Train_MSE: 0.00017800473142415285. Test_MSE: 0.00011927790256670093\n",
      "Epoch: 763 Iteration: 72500. Train_MSE: 0.0002878331288229674. Test_MSE: 0.00011935553798540943\n",
      "Epoch: 764 Iteration: 72600. Train_MSE: 0.0007697917753830552. Test_MSE: 0.00011898751929130437\n",
      "Epoch: 765 Iteration: 72700. Train_MSE: 0.000517841603141278. Test_MSE: 0.00011861545793903171\n",
      "Epoch: 766 Iteration: 72800. Train_MSE: 0.0001531745510874316. Test_MSE: 0.00011821969958416612\n",
      "Epoch: 767 Iteration: 72900. Train_MSE: 0.00015410092601086944. Test_MSE: 0.00011809951467325605\n",
      "Epoch: 768 Iteration: 73000. Train_MSE: 0.0002463260025251657. Test_MSE: 0.00011818974978193831\n",
      "Epoch: 769 Iteration: 73100. Train_MSE: 0.0002537931432016194. Test_MSE: 0.00011839487351646307\n",
      "Epoch: 770 Iteration: 73200. Train_MSE: 0.000190252554602921. Test_MSE: 0.00011782720473706353\n",
      "Epoch: 771 Iteration: 73300. Train_MSE: 0.0002806722477544099. Test_MSE: 0.00011780433531938407\n",
      "Epoch: 772 Iteration: 73400. Train_MSE: 0.00043905634083785117. Test_MSE: 0.00011853110362314486\n",
      "Epoch: 773 Iteration: 73500. Train_MSE: 0.00036360937519930303. Test_MSE: 0.00011906543316897934\n",
      "Epoch: 774 Iteration: 73600. Train_MSE: 0.000642788945697248. Test_MSE: 0.00011914272993327825\n",
      "Epoch: 775 Iteration: 73700. Train_MSE: 0.005968229845166206. Test_MSE: 0.00011879329577870547\n",
      "Epoch: 776 Iteration: 73800. Train_MSE: 0.00017150817438960075. Test_MSE: 0.0001187907245734797\n",
      "Epoch: 777 Iteration: 73900. Train_MSE: 0.00033885915763676167. Test_MSE: 0.00011854222901884309\n",
      "Epoch: 778 Iteration: 74000. Train_MSE: 0.0002569893258623779. Test_MSE: 0.00011854776575193396\n",
      "Epoch: 780 Iteration: 74100. Train_MSE: 0.0013468357501551509. Test_MSE: 0.00011798013882387021\n",
      "Epoch: 781 Iteration: 74200. Train_MSE: 0.0013759084977209568. Test_MSE: 0.00011746221798842162\n",
      "Epoch: 782 Iteration: 74300. Train_MSE: 0.00017455287161283195. Test_MSE: 0.00011759834909562659\n",
      "Epoch: 783 Iteration: 74400. Train_MSE: 0.000281413464108482. Test_MSE: 0.00011766962767211022\n",
      "Epoch: 784 Iteration: 74500. Train_MSE: 0.0007681444403715432. Test_MSE: 0.00011730620523780736\n",
      "Epoch: 785 Iteration: 74600. Train_MSE: 0.0005147303454577923. Test_MSE: 0.00011694182838213919\n",
      "Epoch: 786 Iteration: 74700. Train_MSE: 0.00015165786317083985. Test_MSE: 0.0001165571318330075\n",
      "Epoch: 787 Iteration: 74800. Train_MSE: 0.0001515720214229077. Test_MSE: 0.00011644039909791005\n",
      "Epoch: 788 Iteration: 74900. Train_MSE: 0.00024114109692163765. Test_MSE: 0.00011652928481980588\n",
      "Epoch: 789 Iteration: 75000. Train_MSE: 0.00024650568957440555. Test_MSE: 0.00011672965841353066\n",
      "Epoch: 790 Iteration: 75100. Train_MSE: 0.00018627196550369263. Test_MSE: 0.00011617920531888928\n",
      "Epoch: 791 Iteration: 75200. Train_MSE: 0.0002752513682935387. Test_MSE: 0.00011615623328282356\n",
      "Epoch: 792 Iteration: 75300. Train_MSE: 0.000431200722232461. Test_MSE: 0.00011686644179591221\n",
      "Epoch: 793 Iteration: 75400. Train_MSE: 0.0003580240299925208. Test_MSE: 0.00011738759172866745\n",
      "Epoch: 794 Iteration: 75500. Train_MSE: 0.0006384920561686158. Test_MSE: 0.00011746264384550807\n",
      "Epoch: 795 Iteration: 75600. Train_MSE: 0.005956994369626045. Test_MSE: 0.00011712023377181715\n",
      "Epoch: 796 Iteration: 75700. Train_MSE: 0.00016962508379947394. Test_MSE: 0.00011712220748106867\n",
      "Epoch: 797 Iteration: 75800. Train_MSE: 0.00033661533962003887. Test_MSE: 0.0001168778358872589\n",
      "Epoch: 798 Iteration: 75900. Train_MSE: 0.000251326069701463. Test_MSE: 0.00011688029354504398\n",
      "Epoch: 800 Iteration: 76000. Train_MSE: 0.0013195067876949906. Test_MSE: 0.0001163236730149526\n",
      "Epoch: 801 Iteration: 76100. Train_MSE: 0.001369820791296661. Test_MSE: 0.00011581496051876202\n",
      "Epoch: 802 Iteration: 76200. Train_MSE: 0.00017124399892054498. Test_MSE: 0.00011594406384039777\n",
      "Epoch: 803 Iteration: 76300. Train_MSE: 0.0002751847496256232. Test_MSE: 0.00011600885235165688\n",
      "Epoch: 804 Iteration: 76400. Train_MSE: 0.0007666207384318113. Test_MSE: 0.00011564909767385161\n",
      "Epoch: 805 Iteration: 76500. Train_MSE: 0.0005117654800415039. Test_MSE: 0.00011529144821466404\n",
      "Epoch: 806 Iteration: 76600. Train_MSE: 0.00015018259000498801. Test_MSE: 0.00011491519613833156\n",
      "Epoch: 807 Iteration: 76700. Train_MSE: 0.00014914694475010037. Test_MSE: 0.00011480001562200303\n",
      "Epoch: 808 Iteration: 76800. Train_MSE: 0.00023611733922734857. Test_MSE: 0.00011488682579967124\n",
      "Epoch: 809 Iteration: 76900. Train_MSE: 0.00023950943432282656. Test_MSE: 0.00011508153717317689\n",
      "Epoch: 810 Iteration: 77000. Train_MSE: 0.000182426068931818. Test_MSE: 0.00011454618433966343\n",
      "Epoch: 811 Iteration: 77100. Train_MSE: 0.0002700513869058341. Test_MSE: 0.00011452518116031852\n",
      "Epoch: 812 Iteration: 77200. Train_MSE: 0.0004235244996380061. Test_MSE: 0.00011521954040220238\n",
      "Epoch: 813 Iteration: 77300. Train_MSE: 0.00035249468055553734. Test_MSE: 0.00011572944251347756\n",
      "Epoch: 814 Iteration: 77400. Train_MSE: 0.0006342074484564364. Test_MSE: 0.00011580418177685139\n",
      "Epoch: 815 Iteration: 77500. Train_MSE: 0.005946205463260412. Test_MSE: 0.00011547019809374611\n",
      "Epoch: 816 Iteration: 77600. Train_MSE: 0.0001678427361184731. Test_MSE: 0.00011547813990300305\n",
      "Epoch: 817 Iteration: 77700. Train_MSE: 0.0003344264696352184. Test_MSE: 0.00011523985142545035\n",
      "Epoch: 818 Iteration: 77800. Train_MSE: 0.00024586162180639803. Test_MSE: 0.00011524125885724914\n",
      "Epoch: 820 Iteration: 77900. Train_MSE: 0.001293074688874185. Test_MSE: 0.00011469797563194386\n"
     ]
    },
    {
     "name": "stdout",
     "output_type": "stream",
     "text": [
      "Epoch: 821 Iteration: 78000. Train_MSE: 0.0013638773234561086. Test_MSE: 0.00011420055154136093\n",
      "Epoch: 822 Iteration: 78100. Train_MSE: 0.00016802609025035053. Test_MSE: 0.00011432506737334776\n",
      "Epoch: 823 Iteration: 78200. Train_MSE: 0.0002691279514692724. Test_MSE: 0.00011438545896568947\n",
      "Epoch: 824 Iteration: 78300. Train_MSE: 0.0007652035565115511. Test_MSE: 0.0001140318686228766\n",
      "Epoch: 825 Iteration: 78400. Train_MSE: 0.0005089493351988494. Test_MSE: 0.00011368266545091418\n",
      "Epoch: 826 Iteration: 78500. Train_MSE: 0.00014875733177177608. Test_MSE: 0.00011331808749549495\n",
      "Epoch: 827 Iteration: 78600. Train_MSE: 0.0001467832480557263. Test_MSE: 0.00011320816447821512\n",
      "Epoch: 828 Iteration: 78700. Train_MSE: 0.00023125018924474716. Test_MSE: 0.00011329564582290545\n",
      "Epoch: 829 Iteration: 78800. Train_MSE: 0.00023268992663361132. Test_MSE: 0.00011348721026038098\n",
      "Epoch: 830 Iteration: 78900. Train_MSE: 0.00017870383453555405. Test_MSE: 0.00011296993850907672\n",
      "Epoch: 831 Iteration: 79000. Train_MSE: 0.00026507058646529913. Test_MSE: 0.00011295109814225037\n",
      "Epoch: 832 Iteration: 79100. Train_MSE: 0.0004160402459092438. Test_MSE: 0.0001136310518404701\n",
      "Epoch: 833 Iteration: 79200. Train_MSE: 0.0003470757510513067. Test_MSE: 0.00011413054631853549\n",
      "Epoch: 834 Iteration: 79300. Train_MSE: 0.0006299508386291564. Test_MSE: 0.00011420545594085564\n",
      "Epoch: 835 Iteration: 79400. Train_MSE: 0.00593586964532733. Test_MSE: 0.00011387987497472483\n",
      "Epoch: 836 Iteration: 79500. Train_MSE: 0.00016615392814856023. Test_MSE: 0.00011389364409463581\n",
      "Epoch: 837 Iteration: 79600. Train_MSE: 0.0003322034317534417. Test_MSE: 0.0001136613293324296\n",
      "Epoch: 838 Iteration: 79700. Train_MSE: 0.00024058831331785768. Test_MSE: 0.00011366175609404955\n",
      "Epoch: 840 Iteration: 79800. Train_MSE: 0.0012676538899540901. Test_MSE: 0.00011313121444140719\n",
      "Epoch: 841 Iteration: 79900. Train_MSE: 0.0013581481762230396. Test_MSE: 0.00011264375704344592\n",
      "Epoch: 842 Iteration: 80000. Train_MSE: 0.0001649440237088129. Test_MSE: 0.00011276348248613657\n",
      "Epoch: 843 Iteration: 80100. Train_MSE: 0.0002633110270835459. Test_MSE: 0.0001128193626066368\n",
      "Epoch: 844 Iteration: 80200. Train_MSE: 0.0007638582028448582. Test_MSE: 0.00011247084911817703\n",
      "Epoch: 845 Iteration: 80300. Train_MSE: 0.0005060549592599273. Test_MSE: 0.00011212926573249261\n",
      "Epoch: 846 Iteration: 80400. Train_MSE: 0.0001473847805755213. Test_MSE: 0.00011177498317482117\n",
      "Epoch: 847 Iteration: 80500. Train_MSE: 0.00014448513684328645. Test_MSE: 0.00011166910669793118\n",
      "Epoch: 848 Iteration: 80600. Train_MSE: 0.00022652461484540254. Test_MSE: 0.00011175656867626968\n",
      "Epoch: 849 Iteration: 80700. Train_MSE: 0.0002261576009914279. Test_MSE: 0.00011194498834845264\n",
      "Epoch: 850 Iteration: 80800. Train_MSE: 0.00017514204955659807. Test_MSE: 0.00011144385916300177\n",
      "Epoch: 851 Iteration: 80900. Train_MSE: 0.00026028428692370653. Test_MSE: 0.00011142719925145289\n",
      "Epoch: 852 Iteration: 81000. Train_MSE: 0.0004087350971531123. Test_MSE: 0.00011209283409505496\n",
      "Epoch: 853 Iteration: 81100. Train_MSE: 0.0003417775733396411. Test_MSE: 0.00011258226959963045\n",
      "Epoch: 854 Iteration: 81200. Train_MSE: 0.0006257901550270617. Test_MSE: 0.0001126571928568934\n",
      "Epoch: 855 Iteration: 81300. Train_MSE: 0.005925970152020454. Test_MSE: 0.00011234012237798414\n",
      "Epoch: 856 Iteration: 81400. Train_MSE: 0.00016453977150376886. Test_MSE: 0.0001123603130942496\n",
      "Epoch: 857 Iteration: 81500. Train_MSE: 0.00033000577241182327. Test_MSE: 0.0001121346257074004\n",
      "Epoch: 858 Iteration: 81600. Train_MSE: 0.00023551266349386424. Test_MSE: 0.00011213491634184425\n",
      "Epoch: 860 Iteration: 81700. Train_MSE: 0.0012429914204403758. Test_MSE: 0.00011161846665240545\n",
      "Epoch: 861 Iteration: 81800. Train_MSE: 0.0013525245012715459. Test_MSE: 0.00011114320998147625\n",
      "Epoch: 862 Iteration: 81900. Train_MSE: 0.00016199801757466048. Test_MSE: 0.00011125975447606738\n",
      "Epoch: 863 Iteration: 82000. Train_MSE: 0.00025771462242119014. Test_MSE: 0.00011131288636512216\n",
      "Epoch: 864 Iteration: 82100. Train_MSE: 0.0007625956786796451. Test_MSE: 0.00011097105449654419\n",
      "Epoch: 865 Iteration: 82200. Train_MSE: 0.0005032553453929722. Test_MSE: 0.00011063854173580329\n",
      "Epoch: 866 Iteration: 82300. Train_MSE: 0.00014605959586333483. Test_MSE: 0.00011029498755236512\n",
      "Epoch: 867 Iteration: 82400. Train_MSE: 0.0001422665809514001. Test_MSE: 0.00011019336694777027\n",
      "Epoch: 868 Iteration: 82500. Train_MSE: 0.00022197738871909678. Test_MSE: 0.00011028170722438249\n",
      "Epoch: 869 Iteration: 82600. Train_MSE: 0.00021985698549542576. Test_MSE: 0.0001104675345566442\n",
      "Epoch: 870 Iteration: 82700. Train_MSE: 0.0001717129343887791. Test_MSE: 0.00010998375937595961\n",
      "Epoch: 871 Iteration: 82800. Train_MSE: 0.0002557123953010887. Test_MSE: 0.00010996955584237118\n",
      "Epoch: 872 Iteration: 82900. Train_MSE: 0.0004016529710497707. Test_MSE: 0.00011062140769463746\n",
      "Epoch: 873 Iteration: 83000. Train_MSE: 0.00033662759233266115. Test_MSE: 0.00011110165940306436\n",
      "Epoch: 874 Iteration: 83100. Train_MSE: 0.0006217376794666052. Test_MSE: 0.00011117710325687889\n",
      "Epoch: 875 Iteration: 83200. Train_MSE: 0.00591634027659893. Test_MSE: 0.00011086866925206014\n",
      "Epoch: 876 Iteration: 83300. Train_MSE: 0.00016297452384606004. Test_MSE: 0.00011089524150962449\n",
      "Epoch: 877 Iteration: 83400. Train_MSE: 0.0003278343065176159. Test_MSE: 0.00011067637315193861\n",
      "Epoch: 878 Iteration: 83500. Train_MSE: 0.00023063014668878168. Test_MSE: 0.00011067657174387786\n",
      "Epoch: 880 Iteration: 83600. Train_MSE: 0.0012191085843369365. Test_MSE: 0.00011017312307352348\n",
      "Epoch: 881 Iteration: 83700. Train_MSE: 0.0013470243429765105. Test_MSE: 0.00010970799937320722\n",
      "Epoch: 882 Iteration: 83800. Train_MSE: 0.0001592078187968582. Test_MSE: 0.00010982019740840093\n",
      "Epoch: 883 Iteration: 83900. Train_MSE: 0.0002523800649214536. Test_MSE: 0.00010986963820499309\n",
      "Epoch: 884 Iteration: 84000. Train_MSE: 0.0007614266942255199. Test_MSE: 0.00010953387186785975\n",
      "Epoch: 885 Iteration: 84100. Train_MSE: 0.0005005019484087825. Test_MSE: 0.00010920942003885983\n",
      "Epoch: 886 Iteration: 84200. Train_MSE: 0.00014483771519735456. Test_MSE: 0.00010887638262802928\n",
      "Epoch: 887 Iteration: 84300. Train_MSE: 0.00014011692837812006. Test_MSE: 0.00010877919893591124\n",
      "Epoch: 888 Iteration: 84400. Train_MSE: 0.00021759924129582942. Test_MSE: 0.00010886799403699406\n",
      "Epoch: 889 Iteration: 84500. Train_MSE: 0.0002137771953130141. Test_MSE: 0.00010905095880116071\n",
      "Epoch: 890 Iteration: 84600. Train_MSE: 0.0001684288145042956. Test_MSE: 0.00010858305246794359\n",
      "Epoch: 891 Iteration: 84700. Train_MSE: 0.000251306890277192. Test_MSE: 0.00010857094494226259\n",
      "Epoch: 892 Iteration: 84800. Train_MSE: 0.00039477378595620394. Test_MSE: 0.00010920880237802884\n",
      "Epoch: 893 Iteration: 84900. Train_MSE: 0.0003315838403068483. Test_MSE: 0.00010967928064099028\n",
      "Epoch: 894 Iteration: 85000. Train_MSE: 0.0006177722243592143. Test_MSE: 0.00010975439707624582\n",
      "Epoch: 895 Iteration: 85100. Train_MSE: 0.005907074082642794. Test_MSE: 0.00010945389208312936\n",
      "Epoch: 896 Iteration: 85200. Train_MSE: 0.0001614164502825588. Test_MSE: 0.00010948582662913591\n",
      "Epoch: 897 Iteration: 85300. Train_MSE: 0.00032571106567047536. Test_MSE: 0.00010927268401093804\n",
      "Epoch: 898 Iteration: 85400. Train_MSE: 0.0002259414759464562. Test_MSE: 0.00010927225051184257\n",
      "Epoch: 900 Iteration: 85500. Train_MSE: 0.0011961035197600722. Test_MSE: 0.00010878134836909182\n",
      "Epoch: 901 Iteration: 85600. Train_MSE: 0.0013416511937975883. Test_MSE: 0.00010832665268641313\n",
      "Epoch: 902 Iteration: 85700. Train_MSE: 0.0001565567945363. Test_MSE: 0.000108435139256928\n",
      "Epoch: 903 Iteration: 85800. Train_MSE: 0.00024714236496947706. Test_MSE: 0.00010848104735271286\n",
      "Epoch: 904 Iteration: 85900. Train_MSE: 0.0007603858248330653. Test_MSE: 0.00010815077069710394\n",
      "Epoch: 905 Iteration: 86000. Train_MSE: 0.0004978503566235304. Test_MSE: 0.00010783389175136285\n",
      "Epoch: 906 Iteration: 86100. Train_MSE: 0.00014368513075169176. Test_MSE: 0.00010751036175383203\n",
      "Epoch: 907 Iteration: 86200. Train_MSE: 0.00013804079208057374. Test_MSE: 0.00010741646500848806\n",
      "Epoch: 908 Iteration: 86300. Train_MSE: 0.00021338161604944617. Test_MSE: 0.00010750430591930628\n",
      "Epoch: 909 Iteration: 86400. Train_MSE: 0.00020794277952518314. Test_MSE: 0.00010768348555447674\n",
      "Epoch: 910 Iteration: 86500. Train_MSE: 0.0001652854698477313. Test_MSE: 0.00010723052408599399\n"
     ]
    },
    {
     "name": "stdout",
     "output_type": "stream",
     "text": [
      "Epoch: 911 Iteration: 86600. Train_MSE: 0.00024692912120372057. Test_MSE: 0.00010721961750793964\n",
      "Epoch: 912 Iteration: 86700. Train_MSE: 0.00038788988604210317. Test_MSE: 0.00010784354147229772\n",
      "Epoch: 913 Iteration: 86800. Train_MSE: 0.00032666223705746233. Test_MSE: 0.00010830400950173181\n",
      "Epoch: 914 Iteration: 86900. Train_MSE: 0.000613922777120024. Test_MSE: 0.00010837857209622186\n",
      "Epoch: 915 Iteration: 87000. Train_MSE: 0.005897979252040386. Test_MSE: 0.0001080849743192495\n",
      "Epoch: 916 Iteration: 87100. Train_MSE: 0.0001599030802026391. Test_MSE: 0.0001081215822638339\n",
      "Epoch: 917 Iteration: 87200. Train_MSE: 0.00032354274298995733. Test_MSE: 0.00010791396601971785\n",
      "Epoch: 918 Iteration: 87300. Train_MSE: 0.00022155293845571578. Test_MSE: 0.00010791315482541842\n",
      "Epoch: 920 Iteration: 87400. Train_MSE: 0.001173978322185576. Test_MSE: 0.00010743393382162387\n",
      "Epoch: 921 Iteration: 87500. Train_MSE: 0.0013363836333155632. Test_MSE: 0.00010698838860871923\n",
      "Epoch: 922 Iteration: 87600. Train_MSE: 0.0001536690106149763. Test_MSE: 0.00010709263290878172\n",
      "Epoch: 923 Iteration: 87700. Train_MSE: 0.0002417174109723419. Test_MSE: 0.00010713500612951409\n",
      "Epoch: 924 Iteration: 87800. Train_MSE: 0.0007596202194690704. Test_MSE: 0.00010681006879043055\n",
      "Epoch: 925 Iteration: 87900. Train_MSE: 0.0004952326416969299. Test_MSE: 0.00010650088987717283\n",
      "Epoch: 926 Iteration: 88000. Train_MSE: 0.00014257025031838566. Test_MSE: 0.00010618685666064442\n",
      "Epoch: 927 Iteration: 88100. Train_MSE: 0.00013600468810182065. Test_MSE: 0.00010609701063488932\n",
      "Epoch: 928 Iteration: 88200. Train_MSE: 0.00020928034791722894. Test_MSE: 0.00010618562899777792\n",
      "Epoch: 929 Iteration: 88300. Train_MSE: 0.00020239427976775914. Test_MSE: 0.00010636222023859625\n",
      "Epoch: 930 Iteration: 88400. Train_MSE: 0.0001622614508960396. Test_MSE: 0.00010592326514316392\n",
      "Epoch: 931 Iteration: 88500. Train_MSE: 0.00024258214398287237. Test_MSE: 0.00010591422404157773\n",
      "Epoch: 932 Iteration: 88600. Train_MSE: 0.0003810750204138458. Test_MSE: 0.00010652510453134158\n",
      "Epoch: 933 Iteration: 88700. Train_MSE: 0.000321897299727425. Test_MSE: 0.0001069764017063171\n",
      "Epoch: 934 Iteration: 88800. Train_MSE: 0.0006101977778598666. Test_MSE: 0.00010705080931155714\n",
      "Epoch: 935 Iteration: 88900. Train_MSE: 0.005888945423066616. Test_MSE: 0.00010676495425261734\n",
      "Epoch: 936 Iteration: 89000. Train_MSE: 0.00015844026347622275. Test_MSE: 0.00010680660948916651\n",
      "Epoch: 937 Iteration: 89100. Train_MSE: 0.000321318773785606. Test_MSE: 0.00010660507766535666\n",
      "Epoch: 938 Iteration: 89200. Train_MSE: 0.00021741431555710733. Test_MSE: 0.00010660427428517062\n",
      "Epoch: 940 Iteration: 89300. Train_MSE: 0.001152767683379352. Test_MSE: 0.00010613651440944186\n",
      "Epoch: 941 Iteration: 89400. Train_MSE: 0.0013312411028891802. Test_MSE: 0.00010570043309378789\n",
      "Epoch: 942 Iteration: 89500. Train_MSE: 0.0001509066642029211. Test_MSE: 0.00010580056662540785\n",
      "Epoch: 943 Iteration: 89600. Train_MSE: 0.00023653409152757376. Test_MSE: 0.00010583961175068256\n",
      "Epoch: 944 Iteration: 89700. Train_MSE: 0.0007589654414914548. Test_MSE: 0.00010551966741191735\n",
      "Epoch: 945 Iteration: 89800. Train_MSE: 0.0004926773253828287. Test_MSE: 0.00010521728575834952\n",
      "Epoch: 946 Iteration: 89900. Train_MSE: 0.00014150358038023114. Test_MSE: 0.00010491189783740493\n",
      "Epoch: 947 Iteration: 90000. Train_MSE: 0.00013402049080468714. Test_MSE: 0.00010482552860407396\n",
      "Epoch: 948 Iteration: 90100. Train_MSE: 0.0002052694617304951. Test_MSE: 0.00010491447687137197\n",
      "Epoch: 949 Iteration: 90200. Train_MSE: 0.0001971015881281346. Test_MSE: 0.00010508799342655744\n",
      "Epoch: 950 Iteration: 90300. Train_MSE: 0.00015934614930301905. Test_MSE: 0.00010466270760953033\n",
      "Epoch: 951 Iteration: 90400. Train_MSE: 0.00023838963534217328. Test_MSE: 0.00010465496618777524\n",
      "Epoch: 952 Iteration: 90500. Train_MSE: 0.0003744487767107785. Test_MSE: 0.00010525319171129045\n",
      "Epoch: 953 Iteration: 90600. Train_MSE: 0.0003172301221638918. Test_MSE: 0.00010569569695181601\n",
      "Epoch: 954 Iteration: 90700. Train_MSE: 0.0006065685884095728. Test_MSE: 0.00010576968344822337\n",
      "Epoch: 955 Iteration: 90800. Train_MSE: 0.005880198907107115. Test_MSE: 0.0001054906490530889\n",
      "Epoch: 956 Iteration: 90900. Train_MSE: 0.00015703096869401634. Test_MSE: 0.00010553750404891494\n",
      "Epoch: 957 Iteration: 91000. Train_MSE: 0.0003190482093486935. Test_MSE: 0.00010534194075265131\n",
      "Epoch: 958 Iteration: 91100. Train_MSE: 0.00021340265811886638. Test_MSE: 0.00010534178966213046\n",
      "Epoch: 960 Iteration: 91200. Train_MSE: 0.0011321738129481673. Test_MSE: 0.0001048859052933077\n",
      "Epoch: 961 Iteration: 91300. Train_MSE: 0.001326271565631032. Test_MSE: 0.00010446020303018148\n",
      "Epoch: 962 Iteration: 91400. Train_MSE: 0.00014825872494839132. Test_MSE: 0.00010455763177019496\n",
      "Epoch: 963 Iteration: 91500. Train_MSE: 0.00023153384972829372. Test_MSE: 0.00010459457575226114\n",
      "Epoch: 964 Iteration: 91600. Train_MSE: 0.0007584022241644561. Test_MSE: 0.00010428132484834209\n",
      "Epoch: 965 Iteration: 91700. Train_MSE: 0.000490225909743458. Test_MSE: 0.00010398715361699741\n",
      "Epoch: 966 Iteration: 91800. Train_MSE: 0.00014048929733689874. Test_MSE: 0.00010369135477775385\n",
      "Epoch: 967 Iteration: 91900. Train_MSE: 0.00013207034498918802. Test_MSE: 0.00010360867544752758\n",
      "Epoch: 968 Iteration: 92000. Train_MSE: 0.00020137870160397142. Test_MSE: 0.00010369763693935512\n",
      "Epoch: 969 Iteration: 92100. Train_MSE: 0.000192014776985161. Test_MSE: 0.0001038680602751371\n",
      "Epoch: 970 Iteration: 92200. Train_MSE: 0.00015654051094315946. Test_MSE: 0.000103455936067725\n",
      "Epoch: 971 Iteration: 92300. Train_MSE: 0.00023432236048392951. Test_MSE: 0.00010344928756116579\n",
      "Epoch: 972 Iteration: 92400. Train_MSE: 0.0003679218061733991. Test_MSE: 0.0001040341502944914\n",
      "Epoch: 973 Iteration: 92500. Train_MSE: 0.0003126277879346162. Test_MSE: 0.00010446727691481729\n",
      "Epoch: 974 Iteration: 92600. Train_MSE: 0.000603007385507226. Test_MSE: 0.00010454064294172391\n",
      "Epoch: 975 Iteration: 92700. Train_MSE: 0.005871818866580725. Test_MSE: 0.00010426829622039434\n",
      "Epoch: 976 Iteration: 92800. Train_MSE: 0.00015567451191600412. Test_MSE: 0.00010431866456360473\n",
      "Epoch: 977 Iteration: 92900. Train_MSE: 0.0003168150142300874. Test_MSE: 0.00010412744677090994\n",
      "Epoch: 978 Iteration: 93000. Train_MSE: 0.00020948862947989255. Test_MSE: 0.00010412619118791354\n",
      "Epoch: 980 Iteration: 93100. Train_MSE: 0.0011122761061415076. Test_MSE: 0.000103679162131911\n",
      "Epoch: 981 Iteration: 93200. Train_MSE: 0.0013214659411460161. Test_MSE: 0.00010326052246851146\n",
      "Epoch: 982 Iteration: 93300. Train_MSE: 0.00014573140651918948. Test_MSE: 0.00010335350531172326\n",
      "Epoch: 983 Iteration: 93400. Train_MSE: 0.00022672400518786162. Test_MSE: 0.0001033865104557672\n",
      "Epoch: 984 Iteration: 93500. Train_MSE: 0.0007578927907161415. Test_MSE: 0.00010307723897614709\n",
      "Epoch: 985 Iteration: 93600. Train_MSE: 0.0004878790059592575. Test_MSE: 0.0001027890120717668\n",
      "Epoch: 986 Iteration: 93700. Train_MSE: 0.00013951575965620577. Test_MSE: 0.00010250085090201692\n",
      "Epoch: 987 Iteration: 93800. Train_MSE: 0.0001301764277741313. Test_MSE: 0.00010241989675974666\n",
      "Epoch: 988 Iteration: 93900. Train_MSE: 0.00019759299175348133. Test_MSE: 0.00010250724299248472\n",
      "Epoch: 989 Iteration: 94000. Train_MSE: 0.0001871085405582562. Test_MSE: 0.00010267237124610547\n",
      "Epoch: 990 Iteration: 94100. Train_MSE: 0.00015380042896140367. Test_MSE: 0.00010227126252607992\n",
      "Epoch: 991 Iteration: 94200. Train_MSE: 0.00023040935047902167. Test_MSE: 0.0001022639811522327\n",
      "Epoch: 992 Iteration: 94300. Train_MSE: 0.0003615535097196698. Test_MSE: 0.00010283451109195811\n",
      "Epoch: 993 Iteration: 94400. Train_MSE: 0.0003081322065554559. Test_MSE: 0.00010325690021048351\n",
      "Epoch: 994 Iteration: 94500. Train_MSE: 0.0005995241808705032. Test_MSE: 0.00010332793126826165\n",
      "Epoch: 995 Iteration: 94600. Train_MSE: 0.005863672588020563. Test_MSE: 0.00010306034807850423\n",
      "Epoch: 996 Iteration: 94700. Train_MSE: 0.00015436230751220137. Test_MSE: 0.0001031131293782182\n",
      "Epoch: 997 Iteration: 94800. Train_MSE: 0.00031453921110369265. Test_MSE: 0.00010292552611157163\n",
      "Epoch: 998 Iteration: 94900. Train_MSE: 0.0002057260717265308. Test_MSE: 0.00010292256218138651\n"
     ]
    }
   ],
   "source": [
    "# Training the model\n",
    "seq_dim = 1\n",
    "\n",
    "n_iter =0\n",
    "num_samples = len(X_train)\n",
    "test_samples = len(X_test)\n",
    "batch_size = 100\n",
    "num_epochs = 1000\n",
    "feat_dim = X_train.shape[1]\n",
    "\n",
    "X_train = X_train.type(torch.FloatTensor)\n",
    "y_train = y_train.type(torch.FloatTensor)\n",
    "X_test = X_test.type(torch.FloatTensor)\n",
    "y_test = y_test.type(torch.FloatTensor)\n",
    "\n",
    "for epoch in range(num_epochs):\n",
    "    for i in range(0, int(num_samples/batch_size -1)):\n",
    "        \n",
    "        \n",
    "        features = Variable(X_train[i*batch_size:(i+1)*batch_size, :]).view(-1, seq_dim, feat_dim)\n",
    "        Kt_value = Variable(y_train[i*batch_size:(i+1)*batch_size])\n",
    "        \n",
    "        #print(\"Kt_value={}\".format(Kt_value))\n",
    "        \n",
    "        optimizer.zero_grad()\n",
    "        \n",
    "        outputs = model(features)\n",
    "        #print(\"outputs ={}\".format(outputs))\n",
    "        \n",
    "        loss = criterion(outputs, Kt_value)\n",
    "        \n",
    "        train_loss.append(loss.data[0])\n",
    "        train_iter.append(n_iter)\n",
    "\n",
    "        #print(\"loss = {}\".format(loss))\n",
    "        loss.backward()\n",
    "        \n",
    "        optimizer.step()\n",
    "        \n",
    "        \n",
    "            \n",
    "        if n_iter%100 == 0:\n",
    "            for i in range(0,int(test_samples/batch_size -1)):\n",
    "                features = Variable(X_test[i*batch_size:(i+1)*batch_size, :]).view(-1, seq_dim, feat_dim)\n",
    "                Kt_test = Variable(y_test[i*batch_size:(i+1)*batch_size])\n",
    "                \n",
    "                outputs = model(features)\n",
    "                \n",
    "                mse = np.sqrt(np.mean((Kt_test.data.numpy() - outputs.data.numpy().squeeze())**2)/num_samples)\n",
    "                \n",
    "                test_iter.append(n_iter)\n",
    "                test_loss.append(mse)\n",
    "                \n",
    "            print('Epoch: {} Iteration: {}. Train_MSE: {}. Test_MSE: {}'.format(epoch, n_iter, loss.data[0], mse))\n",
    "        n_iter += 1         "
   ]
  },
  {
   "cell_type": "code",
   "execution_count": 78,
   "metadata": {},
   "outputs": [
    {
     "name": "stdout",
     "output_type": "stream",
     "text": [
      "38000\n"
     ]
    },
    {
     "data": {
      "text/plain": [
       "[<matplotlib.lines.Line2D at 0x4bafbac8>]"
      ]
     },
     "execution_count": 78,
     "metadata": {},
     "output_type": "execute_result"
    },
    {
     "data": {
      "image/png": "[encoded data removed]",
      "text/plain": [
       "<Figure size 432x288 with 1 Axes>"
      ]
     },
     "metadata": {},
     "output_type": "display_data"
    }
   ],
   "source": [
    "print(len(test_loss))\n",
    "#plt.plot(test_loss)\n",
    "plt.plot(train_loss,'-')\n",
    "#plt.ylim([0.000,0.99])\n"
   ]
  },
  {
   "cell_type": "code",
   "execution_count": 79,
   "metadata": {},
   "outputs": [
    {
     "data": {
      "text/plain": [
       "[<matplotlib.lines.Line2D at 0xd3c9e80>]"
      ]
     },
     "execution_count": 79,
     "metadata": {},
     "output_type": "execute_result"
    },
    {
     "data": {
      "image/png": "[encoded data removed]",
      "text/plain": [
       "<Figure size 432x288 with 1 Axes>"
      ]
     },
     "metadata": {},
     "output_type": "display_data"
    }
   ],
   "source": [
    "plt.plot(test_loss,'r')"
   ]
  },
  {
   "cell_type": "markdown",
   "metadata": {
    "collapsed": true
   },
   "source": [
    "#### Demornamization"
   ]
  },
  {
   "cell_type": "code",
   "execution_count": 80,
   "metadata": {},
   "outputs": [],
   "source": [
    "rmse = np.sqrt(mse)"
   ]
  },
  {
   "cell_type": "code",
   "execution_count": 81,
   "metadata": {},
   "outputs": [],
   "source": [
    "rmse_denorm = (rmse * (df_new_test['Kt'].max() - df_new_test['Kt'].min()))+ df_new_test['Kt'].mean()"
   ]
  },
  {
   "cell_type": "code",
   "execution_count": 82,
   "metadata": {},
   "outputs": [
    {
     "data": {
      "text/plain": [
       "31.74081898174663"
      ]
     },
     "execution_count": 82,
     "metadata": {},
     "output_type": "execute_result"
    }
   ],
   "source": [
    "rmse_denorm"
   ]
  },
  {
   "cell_type": "code",
   "execution_count": 83,
   "metadata": {},
   "outputs": [
    {
     "data": {
      "text/plain": [
       "count    4075.000000\n",
       "mean        7.569057\n",
       "std        56.069218\n",
       "min        -0.032646\n",
       "25%        -0.000888\n",
       "50%         0.187680\n",
       "75%         1.290727\n",
       "max      2382.577671\n",
       "Name: Kt, dtype: float64"
      ]
     },
     "execution_count": 83,
     "metadata": {},
     "output_type": "execute_result"
    }
   ],
   "source": [
    "df_new_test['Kt'].describe()"
   ]
  },
  {
   "cell_type": "markdown",
   "metadata": {
    "collapsed": true
   },
   "source": [
    "### Saving train and test losses to a csv"
   ]
  },
  {
   "cell_type": "code",
   "execution_count": 84,
   "metadata": {},
   "outputs": [],
   "source": [
    "df_trainLoss = pd.DataFrame(data={'Train Loss':train_loss, 'iteration':train_iter}, columns=['Train Loss','iteration'])\n",
    "df_trainLoss.to_csv('RNN Paper Results/Exp1_SiouxFalls_TrainLoss.csv')\n",
    "df_testLoss = pd.DataFrame(data={'Test Loss':test_loss, 'iteration':test_iter}, columns=['Test Loss','iteration'])\n",
    "df_testLoss.to_csv('RNN Paper Results/Exp1_SiouxFalls_TestLoss.csv')"
   ]
  },
  {
   "cell_type": "code",
   "execution_count": null,
   "metadata": {},
   "outputs": [],
   "source": []
  }
 ],
 "metadata": {
  "anaconda-cloud": {},
  "kernelspec": {
   "display_name": "Python 3",
   "language": "python",
   "name": "python3"
  },
  "language_info": {
   "codemirror_mode": {
    "name": "ipython",
    "version": 3
   },
   "file_extension": ".py",
   "mimetype": "text/x-python",
   "name": "python",
   "nbconvert_exporter": "python",
   "pygments_lexer": "ipython3",
   "version": "3.6.1"
  }
 },
 "nbformat": 4,
 "nbformat_minor": 2
}
