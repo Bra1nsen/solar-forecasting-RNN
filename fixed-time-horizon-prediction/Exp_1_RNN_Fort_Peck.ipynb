{
 "cells": [
  {
   "cell_type": "code",
   "execution_count": 1,
   "metadata": {},
   "outputs": [],
   "source": [
    "import numpy as np\n",
    "import pandas as pd\n",
    "import datetime\n",
    "import glob\n",
    "import os.path\n",
    "from pandas.compat import StringIO"
   ]
  },
  {
   "cell_type": "markdown",
   "metadata": {},
   "source": [
    "### NREL Bird Model implementation: for obtaining clear sky GHI"
   ]
  },
  {
   "cell_type": "code",
   "execution_count": 2,
   "metadata": {},
   "outputs": [],
   "source": [
    "import itertools\n",
    "import matplotlib.pyplot as plt\n",
    "import pandas as pd\n",
    "import seaborn as sns"
   ]
  },
  {
   "cell_type": "code",
   "execution_count": 3,
   "metadata": {},
   "outputs": [],
   "source": [
    "%matplotlib inline\n",
    "sns.set_color_codes()"
   ]
  },
  {
   "cell_type": "code",
   "execution_count": 4,
   "metadata": {},
   "outputs": [],
   "source": [
    "import pvlib\n",
    "from pvlib import clearsky, atmosphere\n",
    "from pvlib.location import Location"
   ]
  },
  {
   "cell_type": "code",
   "execution_count": 5,
   "metadata": {},
   "outputs": [],
   "source": [
    "ftp = Location(48,-106.449, 'US/Mountain', 630.0216, 'Fort Peck')"
   ]
  },
  {
   "cell_type": "code",
   "execution_count": 6,
   "metadata": {},
   "outputs": [],
   "source": [
    "times2009 = pd.DatetimeIndex(start='2009-01-01', end='2010-01-01', freq='1min',\n",
    "                        tz=ftp.tz)   # 12 months of 2009 - For testing\n",
    "times2010and2011 = pd.DatetimeIndex(start='2010-01-01', end='2012-01-01', freq='1min',\n",
    "                        tz=ftp.tz)   # 24 months of 2010 and 2011 - For training"
   ]
  },
  {
   "cell_type": "code",
   "execution_count": 7,
   "metadata": {},
   "outputs": [],
   "source": [
    "cs_2009 = ftp.get_clearsky(times2009) \n",
    "cs_2010and2011 = ftp.get_clearsky(times2010and2011) # ineichen with climatology table by default\n",
    "#cs_2011 = bvl.get_clearsky(times2011) "
   ]
  },
  {
   "cell_type": "code",
   "execution_count": 8,
   "metadata": {},
   "outputs": [],
   "source": [
    "cs_2009.drop(['dni','dhi'],axis=1, inplace=True) #updating the same dataframe by dropping two columns\n",
    "cs_2010and2011.drop(['dni','dhi'],axis=1, inplace=True) #updating the same dataframe by dropping two columns\n",
    "#cs_2011.drop(['dni','dhi'],axis=1, inplace=True) #updating the same dataframe by dropping two columns"
   ]
  },
  {
   "cell_type": "code",
   "execution_count": 9,
   "metadata": {},
   "outputs": [],
   "source": [
    "cs_2009.reset_index(inplace=True)\n",
    "cs_2010and2011.reset_index(inplace=True)\n",
    "#cs_2011.reset_index(inplace=True)"
   ]
  },
  {
   "cell_type": "code",
   "execution_count": 10,
   "metadata": {},
   "outputs": [],
   "source": [
    "cs_2009['index']=cs_2009['index'].apply(lambda x:x.to_datetime())\n",
    "cs_2009['year'] = cs_2009['index'].apply(lambda x:x.year)\n",
    "cs_2009['month'] = cs_2009['index'].apply(lambda x:x.month)\n",
    "cs_2009['day'] = cs_2009['index'].apply(lambda x:x.day)\n",
    "cs_2009['hour'] = cs_2009['index'].apply(lambda x:x.hour)\n",
    "cs_2009['min'] = cs_2009['index'].apply(lambda x:x.minute)"
   ]
  },
  {
   "cell_type": "code",
   "execution_count": 11,
   "metadata": {},
   "outputs": [],
   "source": [
    "cs_2010and2011['index']=cs_2010and2011['index'].apply(lambda x:x.to_datetime())\n",
    "cs_2010and2011['year'] = cs_2010and2011['index'].apply(lambda x:x.year)\n",
    "cs_2010and2011['month'] = cs_2010and2011['index'].apply(lambda x:x.month)\n",
    "cs_2010and2011['day'] = cs_2010and2011['index'].apply(lambda x:x.day)\n",
    "cs_2010and2011['hour'] = cs_2010and2011['index'].apply(lambda x:x.hour)\n",
    "cs_2010and2011['min'] = cs_2010and2011['index'].apply(lambda x:x.minute)"
   ]
  },
  {
   "cell_type": "code",
   "execution_count": 12,
   "metadata": {},
   "outputs": [
    {
     "name": "stdout",
     "output_type": "stream",
     "text": [
      "(525601, 7)\n",
      "(1051201, 7)\n"
     ]
    }
   ],
   "source": [
    "print(cs_2009.shape)\n",
    "print(cs_2010and2011.shape)\n",
    "#print(cs_2011.shape)"
   ]
  },
  {
   "cell_type": "code",
   "execution_count": 13,
   "metadata": {},
   "outputs": [],
   "source": [
    "cs_2009.drop(cs_2009.index[-1], inplace=True)\n",
    "cs_2010and2011.drop(cs_2010and2011.index[-1], inplace=True)\n",
    "#cs_2011.drop(cs_2011.index[-1], inplace=True)"
   ]
  },
  {
   "cell_type": "code",
   "execution_count": 14,
   "metadata": {},
   "outputs": [
    {
     "name": "stdout",
     "output_type": "stream",
     "text": [
      "(525600, 7)\n",
      "(1051200, 7)\n"
     ]
    }
   ],
   "source": [
    "print(cs_2009.shape)\n",
    "print(cs_2010and2011.shape)\n",
    "#print(cs_2011.shape)"
   ]
  },
  {
   "cell_type": "code",
   "execution_count": 15,
   "metadata": {},
   "outputs": [
    {
     "data": {
      "text/html": [
       "<div>\n",
       "<style scoped>\n",
       "    .dataframe tbody tr th:only-of-type {\n",
       "        vertical-align: middle;\n",
       "    }\n",
       "\n",
       "    .dataframe tbody tr th {\n",
       "        vertical-align: top;\n",
       "    }\n",
       "\n",
       "    .dataframe thead th {\n",
       "        text-align: right;\n",
       "    }\n",
       "</style>\n",
       "<table border=\"1\" class=\"dataframe\">\n",
       "  <thead>\n",
       "    <tr style=\"text-align: right;\">\n",
       "      <th></th>\n",
       "      <th>index</th>\n",
       "      <th>ghi</th>\n",
       "      <th>year</th>\n",
       "      <th>month</th>\n",
       "      <th>day</th>\n",
       "      <th>hour</th>\n",
       "      <th>min</th>\n",
       "    </tr>\n",
       "  </thead>\n",
       "  <tbody>\n",
       "    <tr>\n",
       "      <th>0</th>\n",
       "      <td>2010-01-01 00:00:00-07:00</td>\n",
       "      <td>0.0</td>\n",
       "      <td>2010</td>\n",
       "      <td>1</td>\n",
       "      <td>1</td>\n",
       "      <td>0</td>\n",
       "      <td>0</td>\n",
       "    </tr>\n",
       "    <tr>\n",
       "      <th>1</th>\n",
       "      <td>2010-01-01 00:01:00-07:00</td>\n",
       "      <td>0.0</td>\n",
       "      <td>2010</td>\n",
       "      <td>1</td>\n",
       "      <td>1</td>\n",
       "      <td>0</td>\n",
       "      <td>1</td>\n",
       "    </tr>\n",
       "    <tr>\n",
       "      <th>2</th>\n",
       "      <td>2010-01-01 00:02:00-07:00</td>\n",
       "      <td>0.0</td>\n",
       "      <td>2010</td>\n",
       "      <td>1</td>\n",
       "      <td>1</td>\n",
       "      <td>0</td>\n",
       "      <td>2</td>\n",
       "    </tr>\n",
       "    <tr>\n",
       "      <th>3</th>\n",
       "      <td>2010-01-01 00:03:00-07:00</td>\n",
       "      <td>0.0</td>\n",
       "      <td>2010</td>\n",
       "      <td>1</td>\n",
       "      <td>1</td>\n",
       "      <td>0</td>\n",
       "      <td>3</td>\n",
       "    </tr>\n",
       "    <tr>\n",
       "      <th>4</th>\n",
       "      <td>2010-01-01 00:04:00-07:00</td>\n",
       "      <td>0.0</td>\n",
       "      <td>2010</td>\n",
       "      <td>1</td>\n",
       "      <td>1</td>\n",
       "      <td>0</td>\n",
       "      <td>4</td>\n",
       "    </tr>\n",
       "  </tbody>\n",
       "</table>\n",
       "</div>"
      ],
      "text/plain": [
       "                      index  ghi  year  month  day  hour  min\n",
       "0 2010-01-01 00:00:00-07:00  0.0  2010      1    1     0    0\n",
       "1 2010-01-01 00:01:00-07:00  0.0  2010      1    1     0    1\n",
       "2 2010-01-01 00:02:00-07:00  0.0  2010      1    1     0    2\n",
       "3 2010-01-01 00:03:00-07:00  0.0  2010      1    1     0    3\n",
       "4 2010-01-01 00:04:00-07:00  0.0  2010      1    1     0    4"
      ]
     },
     "execution_count": 15,
     "metadata": {},
     "output_type": "execute_result"
    }
   ],
   "source": [
    "cs_2010and2011.head()"
   ]
  },
  {
   "cell_type": "markdown",
   "metadata": {},
   "source": [
    "### Import files from each year in a separate dataframe"
   ]
  },
  {
   "cell_type": "markdown",
   "metadata": {
    "collapsed": true
   },
   "source": [
    "\n",
    "- year            integer\t year, i.e., 1995\n",
    "- jday            integer\t Julian day (1 through 365 [or 366])\n",
    "- month           integer\t number of the month (1-12)\n",
    "- day             integer\t day of the month(1-31)\n",
    "- hour            integer\t hour of the day (0-23)\n",
    "- min             integer\t minute of the hour (0-59)\n",
    "- dt              real\t decimal time (hour.decimalminutes, e.g., 23.5 = 2330)\n",
    "- zen             real\t solar zenith angle (degrees)\n",
    "- dw_solar        real\t downwelling global solar (Watts m^-2)\n",
    "- uw_solar        real\t upwelling global solar (Watts m^-2)\n",
    "- direct_n        real\t direct-normal solar (Watts m^-2)\n",
    "- diffuse         real\t downwelling diffuse solar (Watts m^-2)\n",
    "- dw_ir           real\t downwelling thermal infrared (Watts m^-2)\n",
    "- dw_casetemp     real\t downwelling IR case temp. (K)\n",
    "- dw_dometemp     real\t downwelling IR dome temp. (K)\n",
    "- uw_ir           real\t upwelling thermal infrared (Watts m^-2)\n",
    "- uw_casetemp     real\t upwelling IR case temp. (K)\n",
    "- uw_dometemp     real\t upwelling IR dome temp. (K)\n",
    "- uvb             real\t global UVB (milliWatts m^-2)\n",
    "- par             real\t photosynthetically active radiation (Watts m^-2)\n",
    "- netsolar        real\t net solar (dw_solar - uw_solar) (Watts m^-2)\n",
    "- netir           real\t net infrared (dw_ir - uw_ir) (Watts m^-2)\n",
    "- totalnet        real\t net radiation (netsolar+netir) (Watts m^-2)\n",
    "- temp            real\t 10-meter air temperature (?C)\n",
    "- rh              real\t relative humidity (%)\n",
    "- windspd         real\t wind speed (ms^-1)\n",
    "- winddir         real\t wind direction (degrees, clockwise from north)\n",
    "- pressure        real\t station pressure (mb)\n"
   ]
  },
  {
   "cell_type": "code",
   "execution_count": 16,
   "metadata": {},
   "outputs": [],
   "source": [
    "cols = ['year', 'jday', 'month', 'day','hour','min','dt','zen','dw_solar','dw_solar_QC','uw_solar',\n",
    "       'uw_solar_QC', 'direct_n','direct_n_QC','diffuse', 'diffuse_QC', 'dw_ir', 'dw_ir_QC', 'dw_casetemp',\n",
    "       'dw_casetemp_QC', 'dw_dometemp','dw_dometemp_QC','uw_ir', 'uw_ir_QC', 'uw_casetemp','uw_casetemp_QC',\n",
    "       'uw_dometemp','uw_dometemp_QC','uvb','uvb_QC','par','par_QC','netsolar','netsolar_QC','netir','netir_QC',\n",
    "       'totalnet','totalnet_QC','temp','temp_QC','rh','rh_QC','windspd','windspd_QC','winddir','winddir_QC',\n",
    "       'pressure','pressure_QC']"
   ]
  },
  {
   "cell_type": "code",
   "execution_count": 17,
   "metadata": {},
   "outputs": [
    {
     "data": {
      "text/plain": [
       "(1050071, 48)"
      ]
     },
     "execution_count": 17,
     "metadata": {},
     "output_type": "execute_result"
    }
   ],
   "source": [
    "path = r'.\\\\data\\\\Fort_Peck\\\\Exp_1_train'\n",
    "all_files = glob.glob(path + \"/*.dat\")\n",
    "all_files.sort()\n",
    "\n",
    "df_big_train = pd.concat([pd.read_csv(f, skipinitialspace = True, quotechar = '\"',skiprows=(2),delimiter=' ', \n",
    "                 index_col=False,header=None, names=cols) for f in all_files],ignore_index=True)\n",
    "df_big_train.shape"
   ]
  },
  {
   "cell_type": "code",
   "execution_count": 18,
   "metadata": {},
   "outputs": [
    {
     "data": {
      "text/plain": [
       "(524996, 48)"
      ]
     },
     "execution_count": 18,
     "metadata": {},
     "output_type": "execute_result"
    }
   ],
   "source": [
    "path = r'.\\\\data\\\\Fort_Peck\\\\Exp_1_test'\n",
    "all_files = glob.glob(path + \"/*.dat\")\n",
    "all_files.sort()\n",
    "\n",
    "df_big_test = pd.concat((pd.read_csv(f, skipinitialspace = True, quotechar = '\"',skiprows=(2),delimiter=' ', \n",
    "                 index_col=False,header=None, names=cols) for f in all_files),ignore_index=True)\n",
    "df_big_test.shape"
   ]
  },
  {
   "cell_type": "code",
   "execution_count": 19,
   "metadata": {},
   "outputs": [
    {
     "data": {
      "text/plain": [
       "(39, 48)"
      ]
     },
     "execution_count": 19,
     "metadata": {},
     "output_type": "execute_result"
    }
   ],
   "source": [
    "df_big_test[df_big_test['dw_solar']==-9999.9].shape"
   ]
  },
  {
   "cell_type": "markdown",
   "metadata": {},
   "source": [
    "### Merging Clear Sky GHI And the big dataframe"
   ]
  },
  {
   "cell_type": "code",
   "execution_count": 21,
   "metadata": {},
   "outputs": [
    {
     "data": {
      "text/plain": [
       "(1050071, 50)"
      ]
     },
     "execution_count": 21,
     "metadata": {},
     "output_type": "execute_result"
    }
   ],
   "source": [
    "df_train = pd.merge(df_big_train, cs_2010and2011, on=['year','month','day','hour','min'])\n",
    "df_train.shape"
   ]
  },
  {
   "cell_type": "code",
   "execution_count": 22,
   "metadata": {},
   "outputs": [
    {
     "data": {
      "text/plain": [
       "(524996, 50)"
      ]
     },
     "execution_count": 22,
     "metadata": {},
     "output_type": "execute_result"
    }
   ],
   "source": [
    "df_test = pd.merge(df_big_test, cs_2009, on=['year','month','day','hour','min'])\n",
    "df_test.shape"
   ]
  },
  {
   "cell_type": "code",
   "execution_count": 23,
   "metadata": {},
   "outputs": [],
   "source": [
    "df_train.drop(['index'],axis=1, inplace=True) #updating the same dataframe by dropping the index columns from clear sky model\n",
    "df_test.drop(['index'], axis=1, inplace=True)"
   ]
  },
  {
   "cell_type": "code",
   "execution_count": 24,
   "metadata": {},
   "outputs": [
    {
     "data": {
      "text/plain": [
       "(1050071, 49)"
      ]
     },
     "execution_count": 24,
     "metadata": {},
     "output_type": "execute_result"
    }
   ],
   "source": [
    "df_train.shape"
   ]
  },
  {
   "cell_type": "markdown",
   "metadata": {},
   "source": [
    "### Managing missing values"
   ]
  },
  {
   "cell_type": "code",
   "execution_count": 25,
   "metadata": {},
   "outputs": [],
   "source": [
    "# Resetting index\n",
    "df_train.reset_index(drop=True, inplace=True)\n",
    "df_test.reset_index(drop=True, inplace=True)"
   ]
  },
  {
   "cell_type": "code",
   "execution_count": 26,
   "metadata": {},
   "outputs": [],
   "source": [
    "# Dropping rows with two or more -9999.9 values in columns"
   ]
  },
  {
   "cell_type": "code",
   "execution_count": 27,
   "metadata": {},
   "outputs": [
    {
     "data": {
      "text/plain": [
       "(1025624, 49)"
      ]
     },
     "execution_count": 27,
     "metadata": {},
     "output_type": "execute_result"
    }
   ],
   "source": [
    "# Step1: Get indices of all rows with 2 or more -999\n",
    "missing_data_indices = np.where((df_train <=-9999.9).apply(sum, axis=1)>=2)[0]\n",
    "# Step2: Drop those indices\n",
    "df_train.drop(missing_data_indices, axis=0, inplace=True)\n",
    "# Checking that the rows are dropped\n",
    "df_train.shape"
   ]
  },
  {
   "cell_type": "code",
   "execution_count": 28,
   "metadata": {},
   "outputs": [
    {
     "data": {
      "text/plain": [
       "(466023, 49)"
      ]
     },
     "execution_count": 28,
     "metadata": {},
     "output_type": "execute_result"
    }
   ],
   "source": [
    "missing_data_indices_test = np.where((df_test <= -9999.9).apply(sum, axis=1)>=2)[0]\n",
    "df_test.drop(missing_data_indices_test, axis=0, inplace=True)\n",
    "df_test.shape"
   ]
  },
  {
   "cell_type": "code",
   "execution_count": 29,
   "metadata": {},
   "outputs": [],
   "source": [
    "# For the rows with only one cell as -9999.9, replacing this cell with the mean of the column"
   ]
  },
  {
   "cell_type": "markdown",
   "metadata": {},
   "source": [
    "#### First resetting index after dropping rows in the previous part of the code"
   ]
  },
  {
   "cell_type": "code",
   "execution_count": 30,
   "metadata": {},
   "outputs": [],
   "source": [
    "# 2nd time - Reseting Index\n",
    "df_train.reset_index(drop=True, inplace=True)\n",
    "df_test.reset_index(drop=True, inplace=True)"
   ]
  },
  {
   "cell_type": "code",
   "execution_count": 31,
   "metadata": {},
   "outputs": [],
   "source": [
    "one_miss_train_idx = np.where((df_train <=-9999.9).apply(sum, axis=1)==1)[0]"
   ]
  },
  {
   "cell_type": "code",
   "execution_count": 32,
   "metadata": {},
   "outputs": [
    {
     "data": {
      "text/plain": [
       "14044"
      ]
     },
     "execution_count": 32,
     "metadata": {},
     "output_type": "execute_result"
    }
   ],
   "source": [
    "len(one_miss_train_idx)"
   ]
  },
  {
   "cell_type": "code",
   "execution_count": 33,
   "metadata": {},
   "outputs": [
    {
     "data": {
      "text/plain": [
       "(1025624, 49)"
      ]
     },
     "execution_count": 33,
     "metadata": {},
     "output_type": "execute_result"
    }
   ],
   "source": [
    "df_train.shape"
   ]
  },
  {
   "cell_type": "code",
   "execution_count": 34,
   "metadata": {},
   "outputs": [
    {
     "name": "stderr",
     "output_type": "stream",
     "text": [
      "C:\\Users\\s269596\\AppData\\Local\\Continuum\\Anaconda3\\lib\\site-packages\\pandas\\core\\indexing.py:194: SettingWithCopyWarning: \n",
      "A value is trying to be set on a copy of a slice from a DataFrame\n",
      "\n",
      "See the caveats in the documentation: http://pandas.pydata.org/pandas-docs/stable/indexing.html#indexing-view-versus-copy\n",
      "  self._setitem_with_indexer(indexer, value)\n"
     ]
    }
   ],
   "source": [
    "col_names = df_train.columns\n",
    "from collections import defaultdict\n",
    "stats = defaultdict(int)\n",
    "total_single_missing_values = 0\n",
    "for name in col_names:\n",
    "    col_mean = df_train[~(df_train[name] == -9999.9)][name].mean()\n",
    "    missing_indices = np.where((df_train[name] == -9999.9))\n",
    "    stats[name] = len(missing_indices[0])\n",
    "    df_train[name].loc[missing_indices] = col_mean\n",
    "    total_single_missing_values += sum(df_train[name] == -9999.9)\n",
    "    "
   ]
  },
  {
   "cell_type": "code",
   "execution_count": 35,
   "metadata": {},
   "outputs": [],
   "source": [
    "df_col_min = df_train.apply(min, axis=0)\n",
    "df_col_max = df_train.apply(max, axis =0)\n",
    "#print(df_col_min, df_col_max)"
   ]
  },
  {
   "cell_type": "code",
   "execution_count": 36,
   "metadata": {},
   "outputs": [],
   "source": [
    "train = np.where((df_train <=-9999.9).apply(sum, axis=1)==1)[0]"
   ]
  },
  {
   "cell_type": "code",
   "execution_count": 37,
   "metadata": {},
   "outputs": [
    {
     "data": {
      "text/plain": [
       "0"
      ]
     },
     "execution_count": 37,
     "metadata": {},
     "output_type": "execute_result"
    }
   ],
   "source": [
    "len(train)"
   ]
  },
  {
   "cell_type": "code",
   "execution_count": 38,
   "metadata": {},
   "outputs": [],
   "source": [
    "# doing the same thing on test dataset"
   ]
  },
  {
   "cell_type": "code",
   "execution_count": 39,
   "metadata": {},
   "outputs": [
    {
     "data": {
      "text/plain": [
       "556"
      ]
     },
     "execution_count": 39,
     "metadata": {},
     "output_type": "execute_result"
    }
   ],
   "source": [
    "one_miss_test_idx = np.where((df_test <=-9999.9).apply(sum, axis=1)==1)[0]\n",
    "len(one_miss_test_idx)"
   ]
  },
  {
   "cell_type": "code",
   "execution_count": 40,
   "metadata": {},
   "outputs": [
    {
     "name": "stderr",
     "output_type": "stream",
     "text": [
      "C:\\Users\\s269596\\AppData\\Local\\Continuum\\Anaconda3\\lib\\site-packages\\pandas\\core\\indexing.py:194: SettingWithCopyWarning: \n",
      "A value is trying to be set on a copy of a slice from a DataFrame\n",
      "\n",
      "See the caveats in the documentation: http://pandas.pydata.org/pandas-docs/stable/indexing.html#indexing-view-versus-copy\n",
      "  self._setitem_with_indexer(indexer, value)\n"
     ]
    }
   ],
   "source": [
    "col_names_test = df_test.columns\n",
    "from collections import defaultdict\n",
    "stats_test = defaultdict(int)\n",
    "total_single_missing_values_test = 0\n",
    "for name in col_names_test:\n",
    "    col_mean = df_test[~(df_test[name] == -9999.9)][name].mean()\n",
    "    missing_indices = np.where((df_test[name] == -9999.9))\n",
    "    stats_test[name] = len(missing_indices[0])\n",
    "    df_test[name].loc[missing_indices] = col_mean\n",
    "    total_single_missing_values_test += sum(df_test[name] == -9999.9)\n",
    "    "
   ]
  },
  {
   "cell_type": "code",
   "execution_count": 41,
   "metadata": {},
   "outputs": [],
   "source": [
    "test = np.where((df_test <=-9999.9).apply(sum, axis=1)==1)[0]"
   ]
  },
  {
   "cell_type": "code",
   "execution_count": 42,
   "metadata": {},
   "outputs": [
    {
     "data": {
      "text/plain": [
       "0"
      ]
     },
     "execution_count": 42,
     "metadata": {},
     "output_type": "execute_result"
    }
   ],
   "source": [
    "len(test)"
   ]
  },
  {
   "cell_type": "code",
   "execution_count": 43,
   "metadata": {},
   "outputs": [
    {
     "data": {
      "text/plain": [
       "(1025624, 49)"
      ]
     },
     "execution_count": 43,
     "metadata": {},
     "output_type": "execute_result"
    }
   ],
   "source": [
    "df_train.shape"
   ]
  },
  {
   "cell_type": "code",
   "execution_count": 44,
   "metadata": {},
   "outputs": [
    {
     "data": {
      "text/plain": [
       "(466023, 49)"
      ]
     },
     "execution_count": 44,
     "metadata": {},
     "output_type": "execute_result"
    }
   ],
   "source": [
    "df_test.shape"
   ]
  },
  {
   "cell_type": "markdown",
   "metadata": {},
   "source": [
    "### Exploratory Data Analysis"
   ]
  },
  {
   "cell_type": "code",
   "execution_count": 45,
   "metadata": {},
   "outputs": [],
   "source": [
    "dw_solar_everyday = df_test.groupby(['jday'])['dw_solar'].mean()\n",
    "ghi_everyday = df_test.groupby(['jday'])['ghi'].mean()\n",
    "j_day = df_test['jday'].unique()"
   ]
  },
  {
   "cell_type": "code",
   "execution_count": 46,
   "metadata": {},
   "outputs": [
    {
     "data": {
      "image/png": "[encoded data removed]",
      "text/plain": [
       "<Figure size 432x288 with 1 Axes>"
      ]
     },
     "metadata": {},
     "output_type": "display_data"
    }
   ],
   "source": [
    "fig = plt.figure()\n",
    "\n",
    "axes1 = fig.add_axes([0.1,0.1,0.8,0.8])\n",
    "#axes2 = fig.add_axes([0.1,0.1,0.8,0.8])\n",
    "\n",
    "axes1.scatter(j_day,dw_solar_everyday,label='Observed dw_solar',color='red')\n",
    "axes1.scatter(j_day, ghi_everyday, label='Clear Sky GHI',color='green')\n",
    "\n",
    "axes1.set_xlabel('Days')\n",
    "axes1.set_ylabel('Solar Irradiance (Watts /m^2)')\n",
    "axes1.set_title('Solar Irradiance - Test Year 2009')\n",
    "axes1.legend(loc='best')\n",
    "\n",
    "fig.savefig('Figure2.png', bbox_inches = 'tight')"
   ]
  },
  {
   "cell_type": "code",
   "execution_count": 47,
   "metadata": {},
   "outputs": [
    {
     "name": "stderr",
     "output_type": "stream",
     "text": [
      "C:\\Users\\s269596\\AppData\\Local\\Continuum\\Anaconda3\\lib\\site-packages\\matplotlib\\axes\\_axes.py:6462: UserWarning: The 'normed' kwarg is deprecated, and has been replaced by the 'density' kwarg.\n",
      "  warnings.warn(\"The 'normed' kwarg is deprecated, and has been \"\n"
     ]
    },
    {
     "data": {
      "image/png": "[encoded data removed]",
      "text/plain": [
       "<Figure size 432x432 with 3 Axes>"
      ]
     },
     "metadata": {},
     "output_type": "display_data"
    }
   ],
   "source": [
    "sns.jointplot(x=dw_solar_everyday,y=ghi_everyday,kind='reg')\n",
    "#plt.title('observed dw_solar vs clear sky ghi')\n",
    "plt.xlabel('Observed global downwelling solar (Watts/m^2)')\n",
    "plt.ylabel('Clear Sky GHI (Watts/m^2)')\n",
    "plt.savefig('Figure3.png', bbox_inches='tight')"
   ]
  },
  {
   "cell_type": "markdown",
   "metadata": {},
   "source": [
    "### making the Kt (clear sky index at time t) column by first removing rows with ghi==0"
   ]
  },
  {
   "cell_type": "code",
   "execution_count": 48,
   "metadata": {},
   "outputs": [],
   "source": [
    "df_train = df_train[df_train['ghi']!=0]\n",
    "df_test = df_test[df_test['ghi']!=0]\n",
    "df_train['Kt'] = df_train['dw_solar']/df_train['ghi']\n",
    "df_test['Kt'] = df_test['dw_solar']/df_test['ghi']"
   ]
  },
  {
   "cell_type": "code",
   "execution_count": 49,
   "metadata": {},
   "outputs": [],
   "source": [
    "df_train.reset_index(inplace=True)\n",
    "df_test.reset_index(inplace=True)"
   ]
  },
  {
   "cell_type": "code",
   "execution_count": 50,
   "metadata": {},
   "outputs": [
    {
     "name": "stdout",
     "output_type": "stream",
     "text": [
      "test Kt max: 6708504.1476219045\n",
      "test Kt min: -760.2171477048815\n",
      "test Kt mean: 32.49910713059261\n",
      "\n",
      "\n",
      "train Kt max: 2638590.5112375193\n",
      "train Kt min: -1423.5534672678295\n",
      "train Kt mean: 8.408929323818732\n"
     ]
    }
   ],
   "source": [
    "print(\"test Kt max: \"+str(df_test['Kt'].max()))\n",
    "print(\"test Kt min: \"+str(df_test['Kt'].min()))\n",
    "print(\"test Kt mean: \"+str(df_test['Kt'].mean()))\n",
    "print(\"\\n\")\n",
    "print(\"train Kt max: \"+str(df_train['Kt'].max()))\n",
    "print(\"train Kt min: \"+str(df_train['Kt'].min()))\n",
    "print(\"train Kt mean: \"+str(df_train['Kt'].mean()))"
   ]
  },
  {
   "cell_type": "code",
   "execution_count": 51,
   "metadata": {},
   "outputs": [
    {
     "data": {
      "text/plain": [
       "[<matplotlib.lines.Line2D at 0x6af9da0>]"
      ]
     },
     "execution_count": 51,
     "metadata": {},
     "output_type": "execute_result"
    },
    {
     "data": {
      "image/png": "[encoded data removed]",
      "text/plain": [
       "<Figure size 432x288 with 1 Axes>"
      ]
     },
     "metadata": {},
     "output_type": "display_data"
    }
   ],
   "source": [
    "plt.plot(df_train['Kt'])"
   ]
  },
  {
   "cell_type": "code",
   "execution_count": 52,
   "metadata": {},
   "outputs": [
    {
     "data": {
      "text/plain": [
       "[<matplotlib.lines.Line2D at 0x5dd1c18>]"
      ]
     },
     "execution_count": 52,
     "metadata": {},
     "output_type": "execute_result"
    },
    {
     "data": {
      "image/png": "[encoded data removed]",
      "text/plain": [
       "<Figure size 432x288 with 1 Axes>"
      ]
     },
     "metadata": {},
     "output_type": "display_data"
    }
   ],
   "source": [
    "plt.plot(df_test['Kt'])"
   ]
  },
  {
   "cell_type": "code",
   "execution_count": 53,
   "metadata": {},
   "outputs": [],
   "source": [
    "df_train= df_train[df_train['Kt']< 5000]\n",
    "df_train= df_train[df_train['Kt']> -1000]\n",
    "df_test= df_test[df_test['Kt']< 5000]\n",
    "df_test= df_test[df_test['Kt']> -1000]"
   ]
  },
  {
   "cell_type": "markdown",
   "metadata": {},
   "source": [
    "#### Group the data (train dataframe)"
   ]
  },
  {
   "cell_type": "code",
   "execution_count": 54,
   "metadata": {},
   "outputs": [],
   "source": [
    "zen = df_train.groupby(['year','month','day','hour'])['zen'].mean()\n",
    "dw_solar = df_train.groupby(['year','month','day','hour'])['dw_solar'].mean()\n",
    "uw_solar = df_train.groupby(['year','month','day','hour'])['uw_solar'].mean()\n",
    "direct_n = df_train.groupby(['year','month','day','hour'])['direct_n'].mean()\n",
    "diffuse = df_train.groupby(['year','month','day','hour'])['diffuse'].mean()\n",
    "dw_ir = df_train.groupby(['year','month','day','hour'])['dw_ir'].mean()\n",
    "dw_casetemp = df_train.groupby(['year','month','day','hour'])['dw_casetemp'].mean()\n",
    "dw_dometemp = df_train.groupby(['year','month','day','hour'])['dw_dometemp'].mean()\n",
    "uw_ir = df_train.groupby(['year','month','day','hour'])['uw_ir'].mean()\n",
    "uw_casetemp = df_train.groupby(['year','month','day','hour'])['uw_casetemp'].mean()\n",
    "uw_dometemp = df_train.groupby(['year','month','day','hour'])['uw_dometemp'].mean()\n",
    "uvb = df_train.groupby(['year','month','day','hour'])['uvb'].mean()\n",
    "par = df_train.groupby(['year','month','day','hour'])['par'].mean()\n",
    "netsolar = df_train.groupby(['year','month','day','hour'])['netsolar'].mean()\n",
    "netir = df_train.groupby(['year','month','day','hour'])['netir'].mean()\n",
    "totalnet = df_train.groupby(['year','month','day','hour'])['totalnet'].mean()\n",
    "temp = df_train.groupby(['year','month','day','hour'])['temp'].mean()\n",
    "rh = df_train.groupby(['year','month','day','hour'])['rh'].mean()\n",
    "windspd = df_train.groupby(['year','month','day','hour'])['windspd'].mean()\n",
    "winddir = df_train.groupby(['year','month','day','hour'])['winddir'].mean()\n",
    "pressure = df_train.groupby(['year','month','day','hour'])['pressure'].mean()\n",
    "ghi = df_train.groupby(['year','month','day','hour'])['ghi'].mean()\n",
    "Kt = df_train.groupby(['year','month','day','hour'])['Kt'].mean()"
   ]
  },
  {
   "cell_type": "code",
   "execution_count": 55,
   "metadata": {},
   "outputs": [],
   "source": [
    "df_new_train = pd.concat([zen,dw_solar,uw_solar,direct_n,diffuse,dw_ir,dw_casetemp,dw_dometemp,uw_ir,uw_casetemp,uw_dometemp,\n",
    "                    uvb,par,netsolar,netir,totalnet,temp,rh,windspd,winddir,pressure,ghi,Kt], axis=1)"
   ]
  },
  {
   "cell_type": "code",
   "execution_count": 56,
   "metadata": {},
   "outputs": [
    {
     "data": {
      "text/html": [
       "<div>\n",
       "<style scoped>\n",
       "    .dataframe tbody tr th:only-of-type {\n",
       "        vertical-align: middle;\n",
       "    }\n",
       "\n",
       "    .dataframe tbody tr th {\n",
       "        vertical-align: top;\n",
       "    }\n",
       "\n",
       "    .dataframe thead th {\n",
       "        text-align: right;\n",
       "    }\n",
       "</style>\n",
       "<table border=\"1\" class=\"dataframe\">\n",
       "  <thead>\n",
       "    <tr style=\"text-align: right;\">\n",
       "      <th></th>\n",
       "      <th></th>\n",
       "      <th></th>\n",
       "      <th></th>\n",
       "      <th>zen</th>\n",
       "      <th>dw_solar</th>\n",
       "      <th>uw_solar</th>\n",
       "      <th>direct_n</th>\n",
       "      <th>diffuse</th>\n",
       "      <th>dw_ir</th>\n",
       "      <th>dw_casetemp</th>\n",
       "      <th>dw_dometemp</th>\n",
       "      <th>uw_ir</th>\n",
       "      <th>uw_casetemp</th>\n",
       "      <th>...</th>\n",
       "      <th>netsolar</th>\n",
       "      <th>netir</th>\n",
       "      <th>totalnet</th>\n",
       "      <th>temp</th>\n",
       "      <th>rh</th>\n",
       "      <th>windspd</th>\n",
       "      <th>winddir</th>\n",
       "      <th>pressure</th>\n",
       "      <th>ghi</th>\n",
       "      <th>Kt</th>\n",
       "    </tr>\n",
       "    <tr>\n",
       "      <th>year</th>\n",
       "      <th>month</th>\n",
       "      <th>day</th>\n",
       "      <th>hour</th>\n",
       "      <th></th>\n",
       "      <th></th>\n",
       "      <th></th>\n",
       "      <th></th>\n",
       "      <th></th>\n",
       "      <th></th>\n",
       "      <th></th>\n",
       "      <th></th>\n",
       "      <th></th>\n",
       "      <th></th>\n",
       "      <th></th>\n",
       "      <th></th>\n",
       "      <th></th>\n",
       "      <th></th>\n",
       "      <th></th>\n",
       "      <th></th>\n",
       "      <th></th>\n",
       "      <th></th>\n",
       "      <th></th>\n",
       "      <th></th>\n",
       "      <th></th>\n",
       "    </tr>\n",
       "  </thead>\n",
       "  <tbody>\n",
       "    <tr>\n",
       "      <th rowspan=\"5\" valign=\"top\">2010.0</th>\n",
       "      <th rowspan=\"5\" valign=\"top\">1.0</th>\n",
       "      <th rowspan=\"5\" valign=\"top\">1.0</th>\n",
       "      <th>7.0</th>\n",
       "      <td>152.500000</td>\n",
       "      <td>-2.550000</td>\n",
       "      <td>0.500000</td>\n",
       "      <td>0.100000</td>\n",
       "      <td>0.500000</td>\n",
       "      <td>152.500000</td>\n",
       "      <td>248.050000</td>\n",
       "      <td>247.800000</td>\n",
       "      <td>195.450000</td>\n",
       "      <td>247.250000</td>\n",
       "      <td>...</td>\n",
       "      <td>0.0</td>\n",
       "      <td>-42.950000</td>\n",
       "      <td>-42.950000</td>\n",
       "      <td>-25.900000</td>\n",
       "      <td>80.250000</td>\n",
       "      <td>4.250000</td>\n",
       "      <td>348.000000</td>\n",
       "      <td>958.950000</td>\n",
       "      <td>5.054489</td>\n",
       "      <td>-2.210247</td>\n",
       "    </tr>\n",
       "    <tr>\n",
       "      <th>8.0</th>\n",
       "      <td>149.438333</td>\n",
       "      <td>-2.245000</td>\n",
       "      <td>0.513333</td>\n",
       "      <td>1.445000</td>\n",
       "      <td>0.243333</td>\n",
       "      <td>149.576667</td>\n",
       "      <td>246.816667</td>\n",
       "      <td>246.593333</td>\n",
       "      <td>190.816667</td>\n",
       "      <td>245.775000</td>\n",
       "      <td>...</td>\n",
       "      <td>0.0</td>\n",
       "      <td>-41.231667</td>\n",
       "      <td>-41.231667</td>\n",
       "      <td>-27.401667</td>\n",
       "      <td>80.756667</td>\n",
       "      <td>3.488333</td>\n",
       "      <td>315.585000</td>\n",
       "      <td>959.703333</td>\n",
       "      <td>47.742733</td>\n",
       "      <td>-0.062791</td>\n",
       "    </tr>\n",
       "    <tr>\n",
       "      <th>9.0</th>\n",
       "      <td>141.688000</td>\n",
       "      <td>-2.595000</td>\n",
       "      <td>-0.056667</td>\n",
       "      <td>1.825000</td>\n",
       "      <td>0.251667</td>\n",
       "      <td>148.300000</td>\n",
       "      <td>244.931667</td>\n",
       "      <td>244.778333</td>\n",
       "      <td>187.660000</td>\n",
       "      <td>244.426667</td>\n",
       "      <td>...</td>\n",
       "      <td>0.0</td>\n",
       "      <td>-39.358333</td>\n",
       "      <td>-39.358333</td>\n",
       "      <td>-28.131667</td>\n",
       "      <td>80.201667</td>\n",
       "      <td>3.893333</td>\n",
       "      <td>341.580000</td>\n",
       "      <td>960.186667</td>\n",
       "      <td>147.117239</td>\n",
       "      <td>-0.018213</td>\n",
       "    </tr>\n",
       "    <tr>\n",
       "      <th>10.0</th>\n",
       "      <td>132.410667</td>\n",
       "      <td>-2.341667</td>\n",
       "      <td>0.215000</td>\n",
       "      <td>1.508333</td>\n",
       "      <td>0.281667</td>\n",
       "      <td>147.040000</td>\n",
       "      <td>243.778333</td>\n",
       "      <td>243.615000</td>\n",
       "      <td>184.533333</td>\n",
       "      <td>243.090000</td>\n",
       "      <td>...</td>\n",
       "      <td>0.0</td>\n",
       "      <td>-37.488333</td>\n",
       "      <td>-37.488333</td>\n",
       "      <td>-29.798333</td>\n",
       "      <td>79.325000</td>\n",
       "      <td>3.816667</td>\n",
       "      <td>341.220000</td>\n",
       "      <td>960.108333</td>\n",
       "      <td>240.573050</td>\n",
       "      <td>-0.009789</td>\n",
       "    </tr>\n",
       "    <tr>\n",
       "      <th>11.0</th>\n",
       "      <td>122.550500</td>\n",
       "      <td>-2.611667</td>\n",
       "      <td>0.143333</td>\n",
       "      <td>1.915000</td>\n",
       "      <td>0.248333</td>\n",
       "      <td>146.465000</td>\n",
       "      <td>243.041667</td>\n",
       "      <td>242.920000</td>\n",
       "      <td>182.806667</td>\n",
       "      <td>242.098333</td>\n",
       "      <td>...</td>\n",
       "      <td>0.0</td>\n",
       "      <td>-36.341667</td>\n",
       "      <td>-36.341667</td>\n",
       "      <td>-30.808333</td>\n",
       "      <td>78.328333</td>\n",
       "      <td>3.310000</td>\n",
       "      <td>304.276667</td>\n",
       "      <td>959.655000</td>\n",
       "      <td>295.936982</td>\n",
       "      <td>-0.008846</td>\n",
       "    </tr>\n",
       "  </tbody>\n",
       "</table>\n",
       "<p>5 rows × 23 columns</p>\n",
       "</div>"
      ],
      "text/plain": [
       "                              zen  dw_solar  uw_solar  direct_n   diffuse  \\\n",
       "year   month day hour                                                       \n",
       "2010.0 1.0   1.0 7.0   152.500000 -2.550000  0.500000  0.100000  0.500000   \n",
       "                 8.0   149.438333 -2.245000  0.513333  1.445000  0.243333   \n",
       "                 9.0   141.688000 -2.595000 -0.056667  1.825000  0.251667   \n",
       "                 10.0  132.410667 -2.341667  0.215000  1.508333  0.281667   \n",
       "                 11.0  122.550500 -2.611667  0.143333  1.915000  0.248333   \n",
       "\n",
       "                            dw_ir  dw_casetemp  dw_dometemp       uw_ir  \\\n",
       "year   month day hour                                                     \n",
       "2010.0 1.0   1.0 7.0   152.500000   248.050000   247.800000  195.450000   \n",
       "                 8.0   149.576667   246.816667   246.593333  190.816667   \n",
       "                 9.0   148.300000   244.931667   244.778333  187.660000   \n",
       "                 10.0  147.040000   243.778333   243.615000  184.533333   \n",
       "                 11.0  146.465000   243.041667   242.920000  182.806667   \n",
       "\n",
       "                       uw_casetemp    ...     netsolar      netir   totalnet  \\\n",
       "year   month day hour                 ...                                      \n",
       "2010.0 1.0   1.0 7.0    247.250000    ...          0.0 -42.950000 -42.950000   \n",
       "                 8.0    245.775000    ...          0.0 -41.231667 -41.231667   \n",
       "                 9.0    244.426667    ...          0.0 -39.358333 -39.358333   \n",
       "                 10.0   243.090000    ...          0.0 -37.488333 -37.488333   \n",
       "                 11.0   242.098333    ...          0.0 -36.341667 -36.341667   \n",
       "\n",
       "                            temp         rh   windspd     winddir    pressure  \\\n",
       "year   month day hour                                                           \n",
       "2010.0 1.0   1.0 7.0  -25.900000  80.250000  4.250000  348.000000  958.950000   \n",
       "                 8.0  -27.401667  80.756667  3.488333  315.585000  959.703333   \n",
       "                 9.0  -28.131667  80.201667  3.893333  341.580000  960.186667   \n",
       "                 10.0 -29.798333  79.325000  3.816667  341.220000  960.108333   \n",
       "                 11.0 -30.808333  78.328333  3.310000  304.276667  959.655000   \n",
       "\n",
       "                              ghi        Kt  \n",
       "year   month day hour                        \n",
       "2010.0 1.0   1.0 7.0     5.054489 -2.210247  \n",
       "                 8.0    47.742733 -0.062791  \n",
       "                 9.0   147.117239 -0.018213  \n",
       "                 10.0  240.573050 -0.009789  \n",
       "                 11.0  295.936982 -0.008846  \n",
       "\n",
       "[5 rows x 23 columns]"
      ]
     },
     "execution_count": 56,
     "metadata": {},
     "output_type": "execute_result"
    }
   ],
   "source": [
    "df_new_train.head()"
   ]
  },
  {
   "cell_type": "markdown",
   "metadata": {},
   "source": [
    "#### Groupdata - test dataframe"
   ]
  },
  {
   "cell_type": "code",
   "execution_count": 57,
   "metadata": {},
   "outputs": [],
   "source": [
    "test_zen = df_test.groupby(['month','day','hour'])['zen'].mean()\n",
    "test_dw_solar = df_test.groupby(['month','day','hour'])['dw_solar'].mean()\n",
    "test_uw_solar = df_test.groupby(['month','day','hour'])['uw_solar'].mean()\n",
    "test_direct_n = df_test.groupby(['month','day','hour'])['direct_n'].mean()\n",
    "test_diffuse = df_test.groupby(['month','day','hour'])['diffuse'].mean()\n",
    "test_dw_ir = df_test.groupby(['month','day','hour'])['dw_ir'].mean()\n",
    "test_dw_casetemp = df_test.groupby(['month','day','hour'])['dw_casetemp'].mean()\n",
    "test_dw_dometemp = df_test.groupby(['month','day','hour'])['dw_dometemp'].mean()\n",
    "test_uw_ir = df_test.groupby(['month','day','hour'])['uw_ir'].mean()\n",
    "test_uw_casetemp = df_test.groupby(['month','day','hour'])['uw_casetemp'].mean()\n",
    "test_uw_dometemp = df_test.groupby(['month','day','hour'])['uw_dometemp'].mean()\n",
    "test_uvb = df_test.groupby(['month','day','hour'])['uvb'].mean()\n",
    "test_par = df_test.groupby(['month','day','hour'])['par'].mean()\n",
    "test_netsolar = df_test.groupby(['month','day','hour'])['netsolar'].mean()\n",
    "test_netir = df_test.groupby(['month','day','hour'])['netir'].mean()\n",
    "test_totalnet = df_test.groupby(['month','day','hour'])['totalnet'].mean()\n",
    "test_temp = df_test.groupby(['month','day','hour'])['temp'].mean()\n",
    "test_rh = df_test.groupby(['month','day','hour'])['rh'].mean()\n",
    "test_windspd = df_test.groupby(['month','day','hour'])['windspd'].mean()\n",
    "test_winddir = df_test.groupby(['month','day','hour'])['winddir'].mean()\n",
    "test_pressure = df_test.groupby(['month','day','hour'])['pressure'].mean()\n",
    "test_ghi = df_test.groupby(['month','day','hour'])['ghi'].mean()\n",
    "test_Kt = df_test.groupby(['month','day','hour'])['Kt'].mean()"
   ]
  },
  {
   "cell_type": "code",
   "execution_count": 58,
   "metadata": {},
   "outputs": [],
   "source": [
    "df_new_test = pd.concat([test_zen,test_dw_solar,test_uw_solar,test_direct_n,test_diffuse,test_dw_ir,\n",
    "                         test_dw_casetemp,test_dw_dometemp,test_uw_ir,test_uw_casetemp,test_uw_dometemp,\n",
    "                    test_uvb,test_par,test_netsolar,test_netir,test_totalnet,test_temp,test_rh,\n",
    "                         test_windspd,test_winddir,test_pressure,test_ghi,test_Kt], axis=1)"
   ]
  },
  {
   "cell_type": "code",
   "execution_count": 59,
   "metadata": {},
   "outputs": [
    {
     "data": {
      "text/html": [
       "<div>\n",
       "<style scoped>\n",
       "    .dataframe tbody tr th:only-of-type {\n",
       "        vertical-align: middle;\n",
       "    }\n",
       "\n",
       "    .dataframe tbody tr th {\n",
       "        vertical-align: top;\n",
       "    }\n",
       "\n",
       "    .dataframe thead th {\n",
       "        text-align: right;\n",
       "    }\n",
       "</style>\n",
       "<table border=\"1\" class=\"dataframe\">\n",
       "  <thead>\n",
       "    <tr style=\"text-align: right;\">\n",
       "      <th></th>\n",
       "      <th>zen</th>\n",
       "      <th>dw_solar</th>\n",
       "      <th>uw_solar</th>\n",
       "      <th>direct_n</th>\n",
       "      <th>diffuse</th>\n",
       "      <th>dw_ir</th>\n",
       "      <th>dw_casetemp</th>\n",
       "      <th>dw_dometemp</th>\n",
       "      <th>uw_ir</th>\n",
       "      <th>uw_casetemp</th>\n",
       "      <th>...</th>\n",
       "      <th>netsolar</th>\n",
       "      <th>netir</th>\n",
       "      <th>totalnet</th>\n",
       "      <th>temp</th>\n",
       "      <th>rh</th>\n",
       "      <th>windspd</th>\n",
       "      <th>winddir</th>\n",
       "      <th>pressure</th>\n",
       "      <th>ghi</th>\n",
       "      <th>Kt</th>\n",
       "    </tr>\n",
       "    <tr>\n",
       "      <th>hour</th>\n",
       "      <th></th>\n",
       "      <th></th>\n",
       "      <th></th>\n",
       "      <th></th>\n",
       "      <th></th>\n",
       "      <th></th>\n",
       "      <th></th>\n",
       "      <th></th>\n",
       "      <th></th>\n",
       "      <th></th>\n",
       "      <th></th>\n",
       "      <th></th>\n",
       "      <th></th>\n",
       "      <th></th>\n",
       "      <th></th>\n",
       "      <th></th>\n",
       "      <th></th>\n",
       "      <th></th>\n",
       "      <th></th>\n",
       "      <th></th>\n",
       "      <th></th>\n",
       "    </tr>\n",
       "  </thead>\n",
       "  <tbody>\n",
       "    <tr>\n",
       "      <th>13.0</th>\n",
       "      <td>93.876897</td>\n",
       "      <td>-5.324138</td>\n",
       "      <td>0.296552</td>\n",
       "      <td>3.444828</td>\n",
       "      <td>0.796552</td>\n",
       "      <td>263.427586</td>\n",
       "      <td>264.431034</td>\n",
       "      <td>264.241379</td>\n",
       "      <td>268.458621</td>\n",
       "      <td>261.768966</td>\n",
       "      <td>...</td>\n",
       "      <td>0.389655</td>\n",
       "      <td>-5.044828</td>\n",
       "      <td>-4.658621</td>\n",
       "      <td>-11.031034</td>\n",
       "      <td>93.793103</td>\n",
       "      <td>3.441379</td>\n",
       "      <td>186.258621</td>\n",
       "      <td>933.775862</td>\n",
       "      <td>454.397482</td>\n",
       "      <td>-0.011699</td>\n",
       "    </tr>\n",
       "    <tr>\n",
       "      <th>14.0</th>\n",
       "      <td>86.859792</td>\n",
       "      <td>11.529167</td>\n",
       "      <td>15.887500</td>\n",
       "      <td>2.856250</td>\n",
       "      <td>19.741667</td>\n",
       "      <td>266.177083</td>\n",
       "      <td>265.522917</td>\n",
       "      <td>265.304167</td>\n",
       "      <td>271.779167</td>\n",
       "      <td>262.820833</td>\n",
       "      <td>...</td>\n",
       "      <td>4.114583</td>\n",
       "      <td>-5.600000</td>\n",
       "      <td>0.353241</td>\n",
       "      <td>-10.216667</td>\n",
       "      <td>94.195833</td>\n",
       "      <td>4.133333</td>\n",
       "      <td>11.343750</td>\n",
       "      <td>933.754167</td>\n",
       "      <td>387.795068</td>\n",
       "      <td>0.033291</td>\n",
       "    </tr>\n",
       "    <tr>\n",
       "      <th>15.0</th>\n",
       "      <td>77.951000</td>\n",
       "      <td>82.070000</td>\n",
       "      <td>76.600000</td>\n",
       "      <td>2.671667</td>\n",
       "      <td>99.445000</td>\n",
       "      <td>266.750000</td>\n",
       "      <td>266.643333</td>\n",
       "      <td>266.485000</td>\n",
       "      <td>274.400000</td>\n",
       "      <td>263.601667</td>\n",
       "      <td>...</td>\n",
       "      <td>23.411667</td>\n",
       "      <td>-7.645000</td>\n",
       "      <td>15.760000</td>\n",
       "      <td>-9.826667</td>\n",
       "      <td>94.228333</td>\n",
       "      <td>4.073333</td>\n",
       "      <td>167.686667</td>\n",
       "      <td>934.028333</td>\n",
       "      <td>258.552442</td>\n",
       "      <td>0.342809</td>\n",
       "    </tr>\n",
       "    <tr>\n",
       "      <th>16.0</th>\n",
       "      <td>70.364167</td>\n",
       "      <td>170.833333</td>\n",
       "      <td>151.813333</td>\n",
       "      <td>3.088333</td>\n",
       "      <td>196.435000</td>\n",
       "      <td>270.118333</td>\n",
       "      <td>268.296667</td>\n",
       "      <td>268.248333</td>\n",
       "      <td>278.895000</td>\n",
       "      <td>264.901667</td>\n",
       "      <td>...</td>\n",
       "      <td>45.646667</td>\n",
       "      <td>-8.785000</td>\n",
       "      <td>36.868333</td>\n",
       "      <td>-8.786667</td>\n",
       "      <td>94.641667</td>\n",
       "      <td>2.905000</td>\n",
       "      <td>339.636667</td>\n",
       "      <td>934.480000</td>\n",
       "      <td>112.367516</td>\n",
       "      <td>1.876063</td>\n",
       "    </tr>\n",
       "    <tr>\n",
       "      <th>17.0</th>\n",
       "      <td>65.665161</td>\n",
       "      <td>257.512903</td>\n",
       "      <td>223.258065</td>\n",
       "      <td>4.993548</td>\n",
       "      <td>288.264516</td>\n",
       "      <td>272.490323</td>\n",
       "      <td>269.638710</td>\n",
       "      <td>269.654839</td>\n",
       "      <td>282.845161</td>\n",
       "      <td>265.922581</td>\n",
       "      <td>...</td>\n",
       "      <td>67.074194</td>\n",
       "      <td>-10.354839</td>\n",
       "      <td>56.725806</td>\n",
       "      <td>-8.000000</td>\n",
       "      <td>95.009677</td>\n",
       "      <td>3.212903</td>\n",
       "      <td>325.225806</td>\n",
       "      <td>934.738710</td>\n",
       "      <td>24.827779</td>\n",
       "      <td>44.603082</td>\n",
       "    </tr>\n",
       "  </tbody>\n",
       "</table>\n",
       "<p>5 rows × 23 columns</p>\n",
       "</div>"
      ],
      "text/plain": [
       "            zen    dw_solar    uw_solar  direct_n     diffuse       dw_ir  \\\n",
       "hour                                                                        \n",
       "13.0  93.876897   -5.324138    0.296552  3.444828    0.796552  263.427586   \n",
       "14.0  86.859792   11.529167   15.887500  2.856250   19.741667  266.177083   \n",
       "15.0  77.951000   82.070000   76.600000  2.671667   99.445000  266.750000   \n",
       "16.0  70.364167  170.833333  151.813333  3.088333  196.435000  270.118333   \n",
       "17.0  65.665161  257.512903  223.258065  4.993548  288.264516  272.490323   \n",
       "\n",
       "      dw_casetemp  dw_dometemp       uw_ir  uw_casetemp    ...       netsolar  \\\n",
       "hour                                                       ...                  \n",
       "13.0   264.431034   264.241379  268.458621   261.768966    ...       0.389655   \n",
       "14.0   265.522917   265.304167  271.779167   262.820833    ...       4.114583   \n",
       "15.0   266.643333   266.485000  274.400000   263.601667    ...      23.411667   \n",
       "16.0   268.296667   268.248333  278.895000   264.901667    ...      45.646667   \n",
       "17.0   269.638710   269.654839  282.845161   265.922581    ...      67.074194   \n",
       "\n",
       "          netir   totalnet       temp         rh   windspd     winddir  \\\n",
       "hour                                                                     \n",
       "13.0  -5.044828  -4.658621 -11.031034  93.793103  3.441379  186.258621   \n",
       "14.0  -5.600000   0.353241 -10.216667  94.195833  4.133333   11.343750   \n",
       "15.0  -7.645000  15.760000  -9.826667  94.228333  4.073333  167.686667   \n",
       "16.0  -8.785000  36.868333  -8.786667  94.641667  2.905000  339.636667   \n",
       "17.0 -10.354839  56.725806  -8.000000  95.009677  3.212903  325.225806   \n",
       "\n",
       "        pressure         ghi         Kt  \n",
       "hour                                     \n",
       "13.0  933.775862  454.397482  -0.011699  \n",
       "14.0  933.754167  387.795068   0.033291  \n",
       "15.0  934.028333  258.552442   0.342809  \n",
       "16.0  934.480000  112.367516   1.876063  \n",
       "17.0  934.738710   24.827779  44.603082  \n",
       "\n",
       "[5 rows x 23 columns]"
      ]
     },
     "execution_count": 59,
     "metadata": {},
     "output_type": "execute_result"
    }
   ],
   "source": [
    "df_new_test.loc[2].xs(17,level='day')"
   ]
  },
  {
   "cell_type": "markdown",
   "metadata": {},
   "source": [
    "### Shifting Kt values to make 1 hour ahead forecast"
   ]
  },
  {
   "cell_type": "markdown",
   "metadata": {},
   "source": [
    "#### Train dataset"
   ]
  },
  {
   "cell_type": "code",
   "execution_count": 60,
   "metadata": {},
   "outputs": [],
   "source": [
    "levels_index= []\n",
    "for m in df_new_train.index.levels:\n",
    "    levels_index.append(m)"
   ]
  },
  {
   "cell_type": "code",
   "execution_count": 61,
   "metadata": {
    "scrolled": true
   },
   "outputs": [],
   "source": [
    "for i in levels_index[0]:\n",
    "    for j in levels_index[1]:\n",
    "        df_new_train.loc[i].loc[j]['Kt'] = df_new_train.loc[i].loc[j]['Kt'].shift(-1)"
   ]
  },
  {
   "cell_type": "code",
   "execution_count": 62,
   "metadata": {},
   "outputs": [],
   "source": [
    "df_new_train = df_new_train[~(df_new_train['Kt'].isnull())]"
   ]
  },
  {
   "cell_type": "markdown",
   "metadata": {},
   "source": [
    "#### Test dataset"
   ]
  },
  {
   "cell_type": "code",
   "execution_count": 63,
   "metadata": {},
   "outputs": [],
   "source": [
    "levels_index2= []\n",
    "for m in df_new_test.index.levels:\n",
    "    levels_index2.append(m)"
   ]
  },
  {
   "cell_type": "code",
   "execution_count": 64,
   "metadata": {},
   "outputs": [],
   "source": [
    "for i in levels_index2[0]:\n",
    "    for j in levels_index2[1]:\n",
    "        df_new_test.loc[i].loc[j]['Kt'] = df_new_test.loc[i].loc[j]['Kt'].shift(-1)"
   ]
  },
  {
   "cell_type": "code",
   "execution_count": 65,
   "metadata": {},
   "outputs": [],
   "source": [
    "df_new_test = df_new_test[~(df_new_test['Kt'].isnull())]"
   ]
  },
  {
   "cell_type": "code",
   "execution_count": 66,
   "metadata": {},
   "outputs": [
    {
     "data": {
      "text/html": [
       "<div>\n",
       "<style scoped>\n",
       "    .dataframe tbody tr th:only-of-type {\n",
       "        vertical-align: middle;\n",
       "    }\n",
       "\n",
       "    .dataframe tbody tr th {\n",
       "        vertical-align: top;\n",
       "    }\n",
       "\n",
       "    .dataframe thead th {\n",
       "        text-align: right;\n",
       "    }\n",
       "</style>\n",
       "<table border=\"1\" class=\"dataframe\">\n",
       "  <thead>\n",
       "    <tr style=\"text-align: right;\">\n",
       "      <th></th>\n",
       "      <th></th>\n",
       "      <th></th>\n",
       "      <th>zen</th>\n",
       "      <th>dw_solar</th>\n",
       "      <th>uw_solar</th>\n",
       "      <th>direct_n</th>\n",
       "      <th>diffuse</th>\n",
       "      <th>dw_ir</th>\n",
       "      <th>dw_casetemp</th>\n",
       "      <th>dw_dometemp</th>\n",
       "      <th>uw_ir</th>\n",
       "      <th>uw_casetemp</th>\n",
       "      <th>...</th>\n",
       "      <th>netsolar</th>\n",
       "      <th>netir</th>\n",
       "      <th>totalnet</th>\n",
       "      <th>temp</th>\n",
       "      <th>rh</th>\n",
       "      <th>windspd</th>\n",
       "      <th>winddir</th>\n",
       "      <th>pressure</th>\n",
       "      <th>ghi</th>\n",
       "      <th>Kt</th>\n",
       "    </tr>\n",
       "    <tr>\n",
       "      <th>month</th>\n",
       "      <th>day</th>\n",
       "      <th>hour</th>\n",
       "      <th></th>\n",
       "      <th></th>\n",
       "      <th></th>\n",
       "      <th></th>\n",
       "      <th></th>\n",
       "      <th></th>\n",
       "      <th></th>\n",
       "      <th></th>\n",
       "      <th></th>\n",
       "      <th></th>\n",
       "      <th></th>\n",
       "      <th></th>\n",
       "      <th></th>\n",
       "      <th></th>\n",
       "      <th></th>\n",
       "      <th></th>\n",
       "      <th></th>\n",
       "      <th></th>\n",
       "      <th></th>\n",
       "      <th></th>\n",
       "      <th></th>\n",
       "    </tr>\n",
       "  </thead>\n",
       "  <tbody>\n",
       "    <tr>\n",
       "      <th>7.0</th>\n",
       "      <th>13.0</th>\n",
       "      <th>20.0</th>\n",
       "      <td>31.445</td>\n",
       "      <td>786.088333</td>\n",
       "      <td>85.93</td>\n",
       "      <td>472.386667</td>\n",
       "      <td>389.726667</td>\n",
       "      <td>466.295</td>\n",
       "      <td>304.083333</td>\n",
       "      <td>303.981667</td>\n",
       "      <td>500.005</td>\n",
       "      <td>298.88</td>\n",
       "      <td>...</td>\n",
       "      <td>702.756667</td>\n",
       "      <td>-33.708333</td>\n",
       "      <td>669.046667</td>\n",
       "      <td>24.815</td>\n",
       "      <td>65.396667</td>\n",
       "      <td>8.685</td>\n",
       "      <td>121.041667</td>\n",
       "      <td>936.996667</td>\n",
       "      <td>35.047437</td>\n",
       "      <td>1801.738697</td>\n",
       "    </tr>\n",
       "  </tbody>\n",
       "</table>\n",
       "<p>1 rows × 23 columns</p>\n",
       "</div>"
      ],
      "text/plain": [
       "                    zen    dw_solar  uw_solar    direct_n     diffuse  \\\n",
       "month day  hour                                                         \n",
       "7.0   13.0 20.0  31.445  786.088333     85.93  472.386667  389.726667   \n",
       "\n",
       "                   dw_ir  dw_casetemp  dw_dometemp    uw_ir  uw_casetemp  \\\n",
       "month day  hour                                                            \n",
       "7.0   13.0 20.0  466.295   304.083333   303.981667  500.005       298.88   \n",
       "\n",
       "                    ...         netsolar      netir    totalnet    temp  \\\n",
       "month day  hour     ...                                                   \n",
       "7.0   13.0 20.0     ...       702.756667 -33.708333  669.046667  24.815   \n",
       "\n",
       "                        rh  windspd     winddir    pressure        ghi  \\\n",
       "month day  hour                                                          \n",
       "7.0   13.0 20.0  65.396667    8.685  121.041667  936.996667  35.047437   \n",
       "\n",
       "                          Kt  \n",
       "month day  hour               \n",
       "7.0   13.0 20.0  1801.738697  \n",
       "\n",
       "[1 rows x 23 columns]"
      ]
     },
     "execution_count": 66,
     "metadata": {},
     "output_type": "execute_result"
    }
   ],
   "source": [
    "df_new_test[df_new_test['Kt']==df_new_test['Kt'].max()]"
   ]
  },
  {
   "cell_type": "markdown",
   "metadata": {},
   "source": [
    "### Normalize train and test dataframe"
   ]
  },
  {
   "cell_type": "code",
   "execution_count": 67,
   "metadata": {},
   "outputs": [],
   "source": [
    "train_norm = (df_new_train - df_new_train.mean()) / (df_new_train.max() - df_new_train.min())\n",
    "test_norm =  (df_new_test - df_new_test.mean()) / (df_new_test.max() - df_new_test.min())"
   ]
  },
  {
   "cell_type": "code",
   "execution_count": 68,
   "metadata": {},
   "outputs": [],
   "source": [
    "train_norm.reset_index(inplace=True,drop=True)\n",
    "test_norm.reset_index(inplace=True,drop=True)"
   ]
  },
  {
   "cell_type": "markdown",
   "metadata": {
    "collapsed": true
   },
   "source": [
    "### Making train and test sets with train_norm and test_norm"
   ]
  },
  {
   "cell_type": "markdown",
   "metadata": {
    "collapsed": true
   },
   "source": [
    "#### finding the gcf (greatest common factor) of train and test dataset's length and chop off the extra rows to make it divisible with the batchsize"
   ]
  },
  {
   "cell_type": "code",
   "execution_count": 69,
   "metadata": {},
   "outputs": [
    {
     "name": "stderr",
     "output_type": "stream",
     "text": [
      "C:\\Users\\s269596\\AppData\\Local\\Continuum\\Anaconda3\\lib\\site-packages\\ipykernel_launcher.py:2: DeprecationWarning: fractions.gcd() is deprecated. Use math.gcd() instead.\n",
      "  \n"
     ]
    },
    {
     "data": {
      "text/plain": [
       "1"
      ]
     },
     "execution_count": 69,
     "metadata": {},
     "output_type": "execute_result"
    }
   ],
   "source": [
    "from fractions import gcd\n",
    "gcd(train_norm.shape[0],test_norm.shape[0])"
   ]
  },
  {
   "cell_type": "code",
   "execution_count": 70,
   "metadata": {},
   "outputs": [],
   "source": [
    "import math\n",
    "def roundup(x):\n",
    "    return int(math.ceil(x / 100.0)) * 100"
   ]
  },
  {
   "cell_type": "code",
   "execution_count": 71,
   "metadata": {},
   "outputs": [],
   "source": [
    "train_lim = roundup(train_norm.shape[0])\n",
    "test_lim = roundup(test_norm.shape[0])\n",
    "\n",
    "train_random = train_norm.sample(train_lim-train_norm.shape[0])\n",
    "test_random = test_norm.sample(test_lim-test_norm.shape[0])\n",
    "\n",
    "train_norm = train_norm.append(train_random)\n",
    "test_norm = test_norm.append(test_random)"
   ]
  },
  {
   "cell_type": "code",
   "execution_count": 72,
   "metadata": {},
   "outputs": [],
   "source": [
    "X1 = train_norm.drop('Kt',axis=1)\n",
    "y1 = train_norm['Kt']\n",
    "\n",
    "X2 = test_norm.drop('Kt',axis=1)\n",
    "y2 = test_norm['Kt']"
   ]
  },
  {
   "cell_type": "code",
   "execution_count": 73,
   "metadata": {
    "scrolled": true
   },
   "outputs": [
    {
     "name": "stdout",
     "output_type": "stream",
     "text": [
      "X1_train shape is (9600, 22)\n",
      "y1_train shape is (9600,)\n",
      "X2_test shape is (4000, 22)\n",
      "y2_test shape is (4000,)\n"
     ]
    }
   ],
   "source": [
    "print(\"X1_train shape is {}\".format(X1.shape))\n",
    "print(\"y1_train shape is {}\".format(y1.shape))\n",
    "print(\"X2_test shape is {}\".format(X2.shape))\n",
    "print(\"y2_test shape is {}\".format(y2.shape))"
   ]
  },
  {
   "cell_type": "code",
   "execution_count": 74,
   "metadata": {},
   "outputs": [],
   "source": [
    "X_train = np.array(X1)\n",
    "y_train  = np.array(y1)\n",
    "X_test = np.array(X2)\n",
    "y_test = np.array(y2)"
   ]
  },
  {
   "cell_type": "markdown",
   "metadata": {},
   "source": [
    "### start of RNN"
   ]
  },
  {
   "cell_type": "code",
   "execution_count": 75,
   "metadata": {},
   "outputs": [],
   "source": [
    "import torch\n",
    "import torch.nn as nn\n",
    "import torchvision.transforms as transforms\n",
    "import torchvision.datasets as dsets\n",
    "from torch.autograd import Variable"
   ]
  },
  {
   "cell_type": "code",
   "execution_count": 76,
   "metadata": {},
   "outputs": [],
   "source": [
    "class RNNModel(nn.Module):\n",
    "    def __init__(self, input_dim, hidden_dim, layer_dim, output_dim):\n",
    "        super(RNNModel, self).__init__()\n",
    "        #Hidden Dimension\n",
    "        self.hidden_dim = hidden_dim\n",
    "        \n",
    "        # Number of hidden layers\n",
    "        self.layer_dim = layer_dim\n",
    "        \n",
    "        #Building the RNN\n",
    "        self.rnn = nn.RNN(input_dim, hidden_dim, layer_dim, batch_first=True, nonlinearity='relu')\n",
    "        \n",
    "        # Readout layer\n",
    "        self.fc = nn.Linear(hidden_dim, output_dim)\n",
    "        \n",
    "    def forward(self, x):\n",
    "        # Initializing the hidden state with zeros\n",
    "        # (layer_dim, batch_size, hidden_dim)\n",
    "        h0 = Variable(torch.zeros(self.layer_dim, x.size(0), self.hidden_dim))\n",
    "        \n",
    "        #One time step (the last one perhaps?)\n",
    "        out, hn = self.rnn(x, h0)\n",
    "        \n",
    "        # Indexing hidden state of the last time step\n",
    "        # out.size() --> ??\n",
    "        #out[:,-1,:] --> is it going to be 100,100\n",
    "        out = self.fc(out[:,-1,:])\n",
    "        # out.size() --> 100,1\n",
    "        return out\n",
    "        "
   ]
  },
  {
   "cell_type": "code",
   "execution_count": 77,
   "metadata": {},
   "outputs": [],
   "source": [
    "# Instantiating Model Class\n",
    "input_dim = 22\n",
    "hidden_dim = 15\n",
    "layer_dim = 1\n",
    "output_dim = 1\n",
    "batch_size = 100\n",
    "\n",
    "model = RNNModel(input_dim, hidden_dim, layer_dim, output_dim)\n",
    "\n",
    "# Instantiating Loss Class\n",
    "criterion = nn.MSELoss()\n",
    "\n",
    "# Instantiate Optimizer Class\n",
    "learning_rate = 0.001\n",
    "optimizer = torch.optim.SGD(model.parameters(), lr=learning_rate)\n",
    "\n",
    "# converting numpy array to torch tensor\n",
    "X_train = torch.from_numpy(X_train)\n",
    "y_train = torch.from_numpy(y_train)\n",
    "X_test = torch.from_numpy(X_test)\n",
    "y_test = torch.from_numpy(y_test)\n",
    "\n",
    "# initializing lists to store losses over epochs:\n",
    "train_loss = []\n",
    "test_loss = []\n",
    "train_iter = []\n",
    "test_iter = []"
   ]
  },
  {
   "cell_type": "code",
   "execution_count": 78,
   "metadata": {
    "scrolled": true
   },
   "outputs": [
    {
     "name": "stdout",
     "output_type": "stream",
     "text": [
      "Epoch: 1 Iteration: 100. Train_MSE: 0.016373340040445328. Test_MSE: 0.0014411520359023933\n",
      "Epoch: 2 Iteration: 200. Train_MSE: 0.00756833516061306. Test_MSE: 0.0011842864718703654\n",
      "Epoch: 3 Iteration: 300. Train_MSE: 0.003676122985780239. Test_MSE: 0.0009975860032243212\n",
      "Epoch: 4 Iteration: 400. Train_MSE: 0.012392270378768444. Test_MSE: 0.0008603397173540615\n",
      "Epoch: 5 Iteration: 500. Train_MSE: 0.003630056045949459. Test_MSE: 0.0007583133955809219\n",
      "Epoch: 6 Iteration: 600. Train_MSE: 0.004392724484205246. Test_MSE: 0.0006812579404680961\n",
      "Epoch: 7 Iteration: 700. Train_MSE: 0.002360597951337695. Test_MSE: 0.0006194336421992494\n",
      "Epoch: 8 Iteration: 800. Train_MSE: 0.0020085936412215233. Test_MSE: 0.0005680213603947479\n",
      "Epoch: 9 Iteration: 900. Train_MSE: 0.002799925860017538. Test_MSE: 0.0005225318417907286\n",
      "Epoch: 10 Iteration: 1000. Train_MSE: 0.001483799540437758. Test_MSE: 0.0004839303461001353\n",
      "Epoch: 11 Iteration: 1100. Train_MSE: 0.0016926635289564729. Test_MSE: 0.0004527805957272085\n",
      "Epoch: 12 Iteration: 1200. Train_MSE: 0.0011603781022131443. Test_MSE: 0.0004281945854841925\n",
      "Epoch: 13 Iteration: 1300. Train_MSE: 0.001238454831764102. Test_MSE: 0.00040767693057784833\n",
      "Epoch: 14 Iteration: 1400. Train_MSE: 0.0016512594884261489. Test_MSE: 0.0003909798279656645\n",
      "Epoch: 15 Iteration: 1500. Train_MSE: 0.00395529018715024. Test_MSE: 0.0003774114908837846\n",
      "Epoch: 16 Iteration: 1600. Train_MSE: 0.002179480390623212. Test_MSE: 0.0003649954857921566\n",
      "Epoch: 17 Iteration: 1700. Train_MSE: 0.0016394576523452997. Test_MSE: 0.00035294578115901114\n",
      "Epoch: 18 Iteration: 1800. Train_MSE: 0.0005769756389781833. Test_MSE: 0.000339265568892667\n",
      "Epoch: 19 Iteration: 1900. Train_MSE: 0.0010395224671810865. Test_MSE: 0.0003246998554586505\n",
      "Epoch: 21 Iteration: 2000. Train_MSE: 0.0007497830665670335. Test_MSE: 0.00031149897739692994\n",
      "Epoch: 22 Iteration: 2100. Train_MSE: 0.0007514234748668969. Test_MSE: 0.00030079973427411236\n",
      "Epoch: 23 Iteration: 2200. Train_MSE: 0.0006466307677328587. Test_MSE: 0.0002917949915237178\n",
      "Epoch: 24 Iteration: 2300. Train_MSE: 0.010249643586575985. Test_MSE: 0.0002841587384945094\n",
      "Epoch: 25 Iteration: 2400. Train_MSE: 0.001730221789330244. Test_MSE: 0.00027762635993549184\n",
      "Epoch: 26 Iteration: 2500. Train_MSE: 0.001965312287211418. Test_MSE: 0.0002719445526169449\n",
      "Epoch: 27 Iteration: 2600. Train_MSE: 0.000965214567258954. Test_MSE: 0.0002656146021095173\n",
      "Epoch: 28 Iteration: 2700. Train_MSE: 0.0007072114385664463. Test_MSE: 0.00025879509037123147\n",
      "Epoch: 29 Iteration: 2800. Train_MSE: 0.0006510037928819656. Test_MSE: 0.00025110118584099195\n",
      "Epoch: 30 Iteration: 2900. Train_MSE: 0.000431481224950403. Test_MSE: 0.00024392031126671066\n",
      "Epoch: 31 Iteration: 3000. Train_MSE: 0.0007522277301177382. Test_MSE: 0.00023776667161147475\n",
      "Epoch: 32 Iteration: 3100. Train_MSE: 0.0005602348828688264. Test_MSE: 0.00023270958723129758\n",
      "Epoch: 33 Iteration: 3200. Train_MSE: 0.0008500926196575165. Test_MSE: 0.00022786440150361528\n",
      "Epoch: 34 Iteration: 3300. Train_MSE: 0.000926138018257916. Test_MSE: 0.000224044856939837\n",
      "Epoch: 35 Iteration: 3400. Train_MSE: 0.001957596279680729. Test_MSE: 0.0002208687480755288\n",
      "Epoch: 36 Iteration: 3500. Train_MSE: 0.0010231130290776491. Test_MSE: 0.0002179772393359862\n",
      "Epoch: 37 Iteration: 3600. Train_MSE: 0.0009658022900111973. Test_MSE: 0.00021510096899291645\n",
      "Epoch: 38 Iteration: 3700. Train_MSE: 0.00020169102936051786. Test_MSE: 0.0002113951298058983\n",
      "Epoch: 39 Iteration: 3800. Train_MSE: 0.0004486883117351681. Test_MSE: 0.00020738004164021405\n",
      "Epoch: 41 Iteration: 3900. Train_MSE: 0.00034127308754250407. Test_MSE: 0.0002038339662168584\n",
      "Epoch: 42 Iteration: 4000. Train_MSE: 0.000616757373791188. Test_MSE: 0.00020089397908776868\n",
      "Epoch: 43 Iteration: 4100. Train_MSE: 0.0005408415454439819. Test_MSE: 0.0001983976106847428\n",
      "Epoch: 44 Iteration: 4200. Train_MSE: 0.009923438541591167. Test_MSE: 0.000196348788622472\n",
      "Epoch: 45 Iteration: 4300. Train_MSE: 0.0010232938220724463. Test_MSE: 0.00019467726735826935\n",
      "Epoch: 46 Iteration: 4400. Train_MSE: 0.001098301843740046. Test_MSE: 0.00019336404683388718\n",
      "Epoch: 47 Iteration: 4500. Train_MSE: 0.0006458158022724092. Test_MSE: 0.00019179710394613946\n",
      "Epoch: 48 Iteration: 4600. Train_MSE: 0.0005025352584198117. Test_MSE: 0.00019013741222648043\n",
      "Epoch: 49 Iteration: 4700. Train_MSE: 0.00029978560633026063. Test_MSE: 0.00018825973858531335\n",
      "Epoch: 50 Iteration: 4800. Train_MSE: 0.0002911654009949416. Test_MSE: 0.00018662538932247446\n",
      "Epoch: 51 Iteration: 4900. Train_MSE: 0.0005658405716530979. Test_MSE: 0.00018523741719252628\n",
      "Epoch: 52 Iteration: 5000. Train_MSE: 0.0004891437129117548. Test_MSE: 0.00018409983855432088\n",
      "Epoch: 53 Iteration: 5100. Train_MSE: 0.0008055248763412237. Test_MSE: 0.00018287158638816576\n",
      "Epoch: 54 Iteration: 5200. Train_MSE: 0.0007983454852364957. Test_MSE: 0.00018201022780061756\n",
      "Epoch: 55 Iteration: 5300. Train_MSE: 0.001338652684353292. Test_MSE: 0.000181302208032694\n",
      "Epoch: 56 Iteration: 5400. Train_MSE: 0.0007378826849162579. Test_MSE: 0.0001807267683902724\n",
      "Epoch: 57 Iteration: 5500. Train_MSE: 0.0007625799626111984. Test_MSE: 0.00018018498693067632\n",
      "Epoch: 58 Iteration: 5600. Train_MSE: 0.00014798747724853456. Test_MSE: 0.00017937753654376023\n",
      "Epoch: 59 Iteration: 5700. Train_MSE: 0.0003018258430529386. Test_MSE: 0.00017853312165284316\n",
      "Epoch: 61 Iteration: 5800. Train_MSE: 0.0002520214475225657. Test_MSE: 0.00017781906571314525\n",
      "Epoch: 62 Iteration: 5900. Train_MSE: 0.000629496353212744. Test_MSE: 0.00017719279919892192\n",
      "Epoch: 63 Iteration: 6000. Train_MSE: 0.0005386245320551097. Test_MSE: 0.00017665577062923825\n",
      "Epoch: 64 Iteration: 6100. Train_MSE: 0.009837010875344276. Test_MSE: 0.0001762286664146365\n",
      "Epoch: 65 Iteration: 6200. Train_MSE: 0.0007925871759653091. Test_MSE: 0.00017589470780268233\n",
      "Epoch: 66 Iteration: 6300. Train_MSE: 0.000794918043538928. Test_MSE: 0.0001756530539573605\n",
      "Epoch: 67 Iteration: 6400. Train_MSE: 0.0005200774758122861. Test_MSE: 0.00017534800707437958\n",
      "Epoch: 68 Iteration: 6500. Train_MSE: 0.00044054369209334254. Test_MSE: 0.00017503950156465243\n",
      "Epoch: 69 Iteration: 6600. Train_MSE: 0.0002057999954558909. Test_MSE: 0.00017470249757215893\n",
      "Epoch: 70 Iteration: 6700. Train_MSE: 0.0002635172859299928. Test_MSE: 0.00017442833601191812\n",
      "Epoch: 71 Iteration: 6800. Train_MSE: 0.0005081241833977401. Test_MSE: 0.0001741954993728408\n",
      "Epoch: 72 Iteration: 6900. Train_MSE: 0.0004720791766885668. Test_MSE: 0.00017398779271752773\n",
      "Epoch: 73 Iteration: 7000. Train_MSE: 0.0007869802648201585. Test_MSE: 0.00017377066131233777\n",
      "Epoch: 74 Iteration: 7100. Train_MSE: 0.0007523558451794088. Test_MSE: 0.00017361505819240403\n",
      "Epoch: 75 Iteration: 7200. Train_MSE: 0.0010811792453750968. Test_MSE: 0.00017347523683184648\n",
      "Epoch: 76 Iteration: 7300. Train_MSE: 0.0006308421725407243. Test_MSE: 0.00017335138407033413\n",
      "Epoch: 77 Iteration: 7400. Train_MSE: 0.0006736128125339746. Test_MSE: 0.00017323207170342298\n",
      "Epoch: 78 Iteration: 7500. Train_MSE: 0.0001422918139724061. Test_MSE: 0.00017308623985132508\n",
      "Epoch: 79 Iteration: 7600. Train_MSE: 0.0002550093922764063. Test_MSE: 0.0001729574460780297\n",
      "Epoch: 81 Iteration: 7700. Train_MSE: 0.0002270841068821028. Test_MSE: 0.00017284978007620658\n",
      "Epoch: 82 Iteration: 7800. Train_MSE: 0.0006338417297229171. Test_MSE: 0.0001727607017719538\n",
      "Epoch: 83 Iteration: 7900. Train_MSE: 0.0005270635592751205. Test_MSE: 0.00017269126691817164\n",
      "Epoch: 84 Iteration: 8000. Train_MSE: 0.009775600396096706. Test_MSE: 0.00017262786304847352\n",
      "Epoch: 85 Iteration: 8100. Train_MSE: 0.0006777655216865242. Test_MSE: 0.00017255605564108785\n",
      "Epoch: 86 Iteration: 8200. Train_MSE: 0.0006503427284769714. Test_MSE: 0.00017246298475945385\n",
      "Epoch: 87 Iteration: 8300. Train_MSE: 0.00045069423504173756. Test_MSE: 0.00017238419728544913\n",
      "Epoch: 88 Iteration: 8400. Train_MSE: 0.00040706980507820845. Test_MSE: 0.00017230985156021025\n",
      "Epoch: 89 Iteration: 8500. Train_MSE: 0.00017446474521420896. Test_MSE: 0.00017225710495916057\n",
      "Epoch: 90 Iteration: 8600. Train_MSE: 0.00025314680533483624. Test_MSE: 0.00017219135806084205\n",
      "Epoch: 91 Iteration: 8700. Train_MSE: 0.00048065008013509214. Test_MSE: 0.00017215087646802135\n",
      "Epoch: 92 Iteration: 8800. Train_MSE: 0.00045292568393051624. Test_MSE: 0.0001720950864268225\n"
     ]
    },
    {
     "name": "stdout",
     "output_type": "stream",
     "text": [
      "Epoch: 93 Iteration: 8900. Train_MSE: 0.0007604020647704601. Test_MSE: 0.00017212194892495127\n",
      "Epoch: 94 Iteration: 9000. Train_MSE: 0.0007141305250115693. Test_MSE: 0.0001720789757240079\n",
      "Epoch: 95 Iteration: 9100. Train_MSE: 0.0009403813164681196. Test_MSE: 0.00017202020159186326\n",
      "Epoch: 96 Iteration: 9200. Train_MSE: 0.0005680472240783274. Test_MSE: 0.00017191402069575385\n",
      "Epoch: 97 Iteration: 9300. Train_MSE: 0.000617766345385462. Test_MSE: 0.00017179071887132456\n",
      "Epoch: 98 Iteration: 9400. Train_MSE: 0.00014223172911442816. Test_MSE: 0.0001717333554432221\n",
      "Epoch: 99 Iteration: 9500. Train_MSE: 0.0002349470159970224. Test_MSE: 0.00017169876044786665\n",
      "Epoch: 101 Iteration: 9600. Train_MSE: 0.00021672490402124822. Test_MSE: 0.0001716580037386041\n",
      "Epoch: 102 Iteration: 9700. Train_MSE: 0.0006240882212296128. Test_MSE: 0.00017166023783835648\n",
      "Epoch: 103 Iteration: 9800. Train_MSE: 0.0005046927253715694. Test_MSE: 0.00017168662980441947\n",
      "Epoch: 104 Iteration: 9900. Train_MSE: 0.009715665131807327. Test_MSE: 0.00017168739792734728\n",
      "Epoch: 105 Iteration: 10000. Train_MSE: 0.0006011630175635219. Test_MSE: 0.0001716385932213604\n",
      "Epoch: 106 Iteration: 10100. Train_MSE: 0.0005627812352031469. Test_MSE: 0.00017151965366231668\n",
      "Epoch: 107 Iteration: 10200. Train_MSE: 0.00040372530929744244. Test_MSE: 0.00017144609126315443\n",
      "Epoch: 108 Iteration: 10300. Train_MSE: 0.0003815999370999634. Test_MSE: 0.00017136942797413328\n",
      "Epoch: 109 Iteration: 10400. Train_MSE: 0.000160789059009403. Test_MSE: 0.00017132782318965843\n",
      "Epoch: 110 Iteration: 10500. Train_MSE: 0.00024460331769660115. Test_MSE: 0.0001712392809801616\n",
      "Epoch: 111 Iteration: 10600. Train_MSE: 0.0004629493923857808. Test_MSE: 0.0001711965997639709\n",
      "Epoch: 112 Iteration: 10700. Train_MSE: 0.00043145217932760715. Test_MSE: 0.00017113491851582796\n",
      "Epoch: 113 Iteration: 10800. Train_MSE: 0.0007289525819942355. Test_MSE: 0.00017123278342721755\n",
      "Epoch: 114 Iteration: 10900. Train_MSE: 0.0006775494548492134. Test_MSE: 0.00017121475009825338\n",
      "Epoch: 115 Iteration: 11000. Train_MSE: 0.0008484621066600084. Test_MSE: 0.0001711733556722679\n",
      "Epoch: 116 Iteration: 11100. Train_MSE: 0.0005220611928962171. Test_MSE: 0.0001710508846647629\n",
      "Epoch: 117 Iteration: 11200. Train_MSE: 0.0005771390860900283. Test_MSE: 0.00017089502261644174\n",
      "Epoch: 118 Iteration: 11300. Train_MSE: 0.0001418611063854769. Test_MSE: 0.00017084477602521142\n",
      "Epoch: 119 Iteration: 11400. Train_MSE: 0.0002230740210507065. Test_MSE: 0.00017081183803821889\n",
      "Epoch: 121 Iteration: 11500. Train_MSE: 0.00021022498549427837. Test_MSE: 0.00017076989325051647\n",
      "Epoch: 122 Iteration: 11600. Train_MSE: 0.0006080222083255649. Test_MSE: 0.00017079809129403223\n",
      "Epoch: 123 Iteration: 11700. Train_MSE: 0.0004795847926288843. Test_MSE: 0.00017085892711611264\n",
      "Epoch: 124 Iteration: 11800. Train_MSE: 0.009659736417233944. Test_MSE: 0.00017088590409947819\n",
      "Epoch: 125 Iteration: 11900. Train_MSE: 0.0005440511740744114. Test_MSE: 0.00017084084545153434\n",
      "Epoch: 126 Iteration: 12000. Train_MSE: 0.0005019983509555459. Test_MSE: 0.00017070198404689555\n",
      "Epoch: 127 Iteration: 12100. Train_MSE: 0.0003682348469737917. Test_MSE: 0.00017062134396441124\n",
      "Epoch: 128 Iteration: 12200. Train_MSE: 0.00035966376890428364. Test_MSE: 0.0001705277504950197\n",
      "Epoch: 129 Iteration: 12300. Train_MSE: 0.00015294758486561477. Test_MSE: 0.00017047282528700339\n",
      "Epoch: 130 Iteration: 12400. Train_MSE: 0.00023658150166738778. Test_MSE: 0.00017035383703509918\n",
      "Epoch: 131 Iteration: 12500. Train_MSE: 0.00044987627188675106. Test_MSE: 0.00017030406272221187\n",
      "Epoch: 132 Iteration: 12600. Train_MSE: 0.0004092671733815223. Test_MSE: 0.00017023735675135993\n",
      "Epoch: 133 Iteration: 12700. Train_MSE: 0.0006959968013688922. Test_MSE: 0.00017037127640724158\n",
      "Epoch: 134 Iteration: 12800. Train_MSE: 0.0006443015299737453. Test_MSE: 0.00017036473685188894\n",
      "Epoch: 135 Iteration: 12900. Train_MSE: 0.0007813628180883825. Test_MSE: 0.00017033255146377334\n",
      "Epoch: 136 Iteration: 13000. Train_MSE: 0.00048510904889553785. Test_MSE: 0.00017019634805135386\n",
      "Epoch: 137 Iteration: 13100. Train_MSE: 0.0005451015313155949. Test_MSE: 0.00017000908745654566\n",
      "Epoch: 138 Iteration: 13200. Train_MSE: 0.00014076557999942452. Test_MSE: 0.0001699455926962665\n",
      "Epoch: 139 Iteration: 13300. Train_MSE: 0.0002147257182514295. Test_MSE: 0.00016989146073513362\n",
      "Epoch: 141 Iteration: 13400. Train_MSE: 0.0002048648748314008. Test_MSE: 0.00016983311664547882\n",
      "Epoch: 142 Iteration: 13500. Train_MSE: 0.0005903089186176658. Test_MSE: 0.00016986873408811697\n",
      "Epoch: 143 Iteration: 13600. Train_MSE: 0.0004558945365715772. Test_MSE: 0.00016994454019562562\n",
      "Epoch: 144 Iteration: 13700. Train_MSE: 0.009609890170395374. Test_MSE: 0.00016998247961826465\n",
      "Epoch: 145 Iteration: 13800. Train_MSE: 0.0004985086852684617. Test_MSE: 0.00016993497819627447\n",
      "Epoch: 146 Iteration: 13900. Train_MSE: 0.0004575385828502476. Test_MSE: 0.00016978222544935062\n",
      "Epoch: 147 Iteration: 14000. Train_MSE: 0.0003398887056391686. Test_MSE: 0.00016969201030183012\n",
      "Epoch: 148 Iteration: 14100. Train_MSE: 0.0003427911433391273. Test_MSE: 0.00016957915152910686\n",
      "Epoch: 149 Iteration: 14200. Train_MSE: 0.0001472139556426555. Test_MSE: 0.00016950571278985624\n",
      "Epoch: 150 Iteration: 14300. Train_MSE: 0.00022885622456669807. Test_MSE: 0.00016935941105295448\n",
      "Epoch: 151 Iteration: 14400. Train_MSE: 0.0004394506977405399. Test_MSE: 0.0001693048051688656\n",
      "Epoch: 152 Iteration: 14500. Train_MSE: 0.00038882700027897954. Test_MSE: 0.0001692324386683912\n",
      "Epoch: 153 Iteration: 14600. Train_MSE: 0.0006645951652899384. Test_MSE: 0.00016938032670865412\n",
      "Epoch: 154 Iteration: 14700. Train_MSE: 0.0006145646912045777. Test_MSE: 0.00016937170837521157\n",
      "Epoch: 155 Iteration: 14800. Train_MSE: 0.0007281511789187789. Test_MSE: 0.00016933604905128196\n",
      "Epoch: 156 Iteration: 14900. Train_MSE: 0.0004538999928627163. Test_MSE: 0.00016918399197272425\n",
      "Epoch: 157 Iteration: 15000. Train_MSE: 0.0005186388152651489. Test_MSE: 0.0001689784409071741\n",
      "Epoch: 158 Iteration: 15100. Train_MSE: 0.00013928243424743414. Test_MSE: 0.00016890456149407177\n",
      "Epoch: 159 Iteration: 15200. Train_MSE: 0.00020808289991691709. Test_MSE: 0.0001688339088695726\n",
      "Epoch: 161 Iteration: 15300. Train_MSE: 0.00020038074580952525. Test_MSE: 0.00016876667570368242\n",
      "Epoch: 162 Iteration: 15400. Train_MSE: 0.0005728501710109413. Test_MSE: 0.0001688098545597748\n",
      "Epoch: 163 Iteration: 15500. Train_MSE: 0.000434028945164755. Test_MSE: 0.00016889896134827172\n",
      "Epoch: 164 Iteration: 15600. Train_MSE: 0.009566188789904118. Test_MSE: 0.00016895003785340394\n",
      "Epoch: 165 Iteration: 15700. Train_MSE: 0.000460238428786397. Test_MSE: 0.0001689069666278992\n",
      "Epoch: 166 Iteration: 15800. Train_MSE: 0.00042311829747632146. Test_MSE: 0.00016875558284557465\n",
      "Epoch: 167 Iteration: 15900. Train_MSE: 0.0003166699025314301. Test_MSE: 0.00016866844935995083\n",
      "Epoch: 168 Iteration: 16000. Train_MSE: 0.0003281624522060156. Test_MSE: 0.00016854912260891438\n",
      "Epoch: 169 Iteration: 16100. Train_MSE: 0.00014219143486116081. Test_MSE: 0.00016846865771376286\n",
      "Epoch: 170 Iteration: 16200. Train_MSE: 0.00022157288913149387. Test_MSE: 0.00016830935071890512\n",
      "Epoch: 171 Iteration: 16300. Train_MSE: 0.00043100156472064555. Test_MSE: 0.00016826020581956735\n",
      "Epoch: 172 Iteration: 16400. Train_MSE: 0.0003707759897224605. Test_MSE: 0.00016819256307386423\n",
      "Epoch: 173 Iteration: 16500. Train_MSE: 0.0006358341197483242. Test_MSE: 0.00016835879639659718\n",
      "Epoch: 174 Iteration: 16600. Train_MSE: 0.0005885945283807814. Test_MSE: 0.00016836062410450687\n",
      "Epoch: 175 Iteration: 16700. Train_MSE: 0.0006833174265921116. Test_MSE: 0.00016833441305509357\n",
      "Epoch: 176 Iteration: 16800. Train_MSE: 0.00042746245162561536. Test_MSE: 0.00016817752966081392\n",
      "Epoch: 177 Iteration: 16900. Train_MSE: 0.0004962619277648628. Test_MSE: 0.00016795755286250097\n",
      "Epoch: 178 Iteration: 17000. Train_MSE: 0.00013753790699411184. Test_MSE: 0.00016787343642793144\n",
      "Epoch: 179 Iteration: 17100. Train_MSE: 0.0002025362482527271. Test_MSE: 0.0001677860887576398\n",
      "Epoch: 181 Iteration: 17200. Train_MSE: 0.00019616109784692526. Test_MSE: 0.00016771006623783757\n",
      "Epoch: 182 Iteration: 17300. Train_MSE: 0.0005561502766795456. Test_MSE: 0.0001677561103780872\n",
      "Epoch: 183 Iteration: 17400. Train_MSE: 0.00041422119829803705. Test_MSE: 0.00016785256780064484\n",
      "Epoch: 184 Iteration: 17500. Train_MSE: 0.00952904112637043. Test_MSE: 0.0001679120153363808\n"
     ]
    },
    {
     "name": "stdout",
     "output_type": "stream",
     "text": [
      "Epoch: 185 Iteration: 17600. Train_MSE: 0.00042809639126062393. Test_MSE: 0.000167867702554732\n",
      "Epoch: 186 Iteration: 17700. Train_MSE: 0.0003953626146540046. Test_MSE: 0.00016770794220901845\n",
      "Epoch: 187 Iteration: 17800. Train_MSE: 0.000297139777103439. Test_MSE: 0.00016761160956158588\n",
      "Epoch: 188 Iteration: 17900. Train_MSE: 0.00031536075402982533. Test_MSE: 0.00016747496727836448\n",
      "Epoch: 189 Iteration: 18000. Train_MSE: 0.00013788542128168046. Test_MSE: 0.0001673776673664164\n",
      "Epoch: 190 Iteration: 18100. Train_MSE: 0.0002148493513232097. Test_MSE: 0.0001671980477002605\n",
      "Epoch: 191 Iteration: 18200. Train_MSE: 0.00042392744217067957. Test_MSE: 0.00016714454949427374\n",
      "Epoch: 192 Iteration: 18300. Train_MSE: 0.00035469623981043696. Test_MSE: 0.0001670663296905327\n",
      "Epoch: 193 Iteration: 18400. Train_MSE: 0.0006098637823015451. Test_MSE: 0.0001672271834202908\n",
      "Epoch: 194 Iteration: 18500. Train_MSE: 0.0005660930182784796. Test_MSE: 0.0001672204846484671\n",
      "Epoch: 195 Iteration: 18600. Train_MSE: 0.0006448708008974791. Test_MSE: 0.000167184393683668\n",
      "Epoch: 196 Iteration: 18700. Train_MSE: 0.00040515244472771883. Test_MSE: 0.0001670145772739166\n",
      "Epoch: 197 Iteration: 18800. Train_MSE: 0.0004768665530718863. Test_MSE: 0.00016677870696615196\n",
      "Epoch: 198 Iteration: 18900. Train_MSE: 0.00013587450666818768. Test_MSE: 0.00016667995478100955\n",
      "Epoch: 199 Iteration: 19000. Train_MSE: 0.00019772877567447722. Test_MSE: 0.0001665724536935701\n",
      "Epoch: 201 Iteration: 19100. Train_MSE: 0.00019204312411602587. Test_MSE: 0.00016648486048620963\n",
      "Epoch: 202 Iteration: 19200. Train_MSE: 0.0005405329284258187. Test_MSE: 0.00016652889496226853\n",
      "Epoch: 203 Iteration: 19300. Train_MSE: 0.00039706702227704227. Test_MSE: 0.0001666258808602651\n",
      "Epoch: 204 Iteration: 19400. Train_MSE: 0.009497376158833504. Test_MSE: 0.00016668721181214264\n",
      "Epoch: 205 Iteration: 19500. Train_MSE: 0.0004010937991552055. Test_MSE: 0.0001666392804576549\n",
      "Epoch: 206 Iteration: 19600. Train_MSE: 0.00037226511631160975. Test_MSE: 0.00016647398890577358\n",
      "Epoch: 207 Iteration: 19700. Train_MSE: 0.0002802468079607934. Test_MSE: 0.00016636974412232228\n",
      "Epoch: 208 Iteration: 19800. Train_MSE: 0.0003042441385332495. Test_MSE: 0.00016621778225794456\n",
      "Epoch: 209 Iteration: 19900. Train_MSE: 0.00013396202120929956. Test_MSE: 0.00016610495388110608\n",
      "Epoch: 210 Iteration: 20000. Train_MSE: 0.0002084165607811883. Test_MSE: 0.00016590846165547495\n",
      "Epoch: 211 Iteration: 20100. Train_MSE: 0.00041763921035453677. Test_MSE: 0.00016585218947697922\n",
      "Epoch: 212 Iteration: 20200. Train_MSE: 0.0003406053292565048. Test_MSE: 0.0001657737073470702\n",
      "Epoch: 213 Iteration: 20300. Train_MSE: 0.0005864682607352734. Test_MSE: 0.00016594124935400607\n",
      "Epoch: 214 Iteration: 20400. Train_MSE: 0.0005461532855406404. Test_MSE: 0.00016593971471632528\n",
      "Epoch: 215 Iteration: 20500. Train_MSE: 0.0006115421419963241. Test_MSE: 0.0001659080961946281\n",
      "Epoch: 216 Iteration: 20600. Train_MSE: 0.00038564502028748393. Test_MSE: 0.00016573780435855568\n",
      "Epoch: 217 Iteration: 20700. Train_MSE: 0.000459242524811998. Test_MSE: 0.00016549671636358895\n",
      "Epoch: 218 Iteration: 20800. Train_MSE: 0.00013422250049188733. Test_MSE: 0.00016539276295385224\n",
      "Epoch: 219 Iteration: 20900. Train_MSE: 0.00019346775661688298. Test_MSE: 0.0001652756019346553\n",
      "Epoch: 221 Iteration: 21000. Train_MSE: 0.0001881525240605697. Test_MSE: 0.00016518669705622895\n",
      "Epoch: 222 Iteration: 21100. Train_MSE: 0.0005263052880764008. Test_MSE: 0.0001652360772328373\n",
      "Epoch: 223 Iteration: 21200. Train_MSE: 0.0003820934798568487. Test_MSE: 0.000165340560046289\n",
      "Epoch: 224 Iteration: 21300. Train_MSE: 0.009470595978200436. Test_MSE: 0.00016541124772382945\n",
      "Epoch: 225 Iteration: 21400. Train_MSE: 0.00037713535130023956. Test_MSE: 0.00016536819893248314\n",
      "Epoch: 226 Iteration: 21500. Train_MSE: 0.0003527727094478905. Test_MSE: 0.0001652061591221341\n",
      "Epoch: 227 Iteration: 21600. Train_MSE: 0.00026562513085082173. Test_MSE: 0.00016510351010625367\n",
      "Epoch: 228 Iteration: 21700. Train_MSE: 0.00029470110894180834. Test_MSE: 0.00016494638420259692\n",
      "Epoch: 229 Iteration: 21800. Train_MSE: 0.00013023189967498183. Test_MSE: 0.00016482939330186684\n",
      "Epoch: 230 Iteration: 21900. Train_MSE: 0.00020246824715286493. Test_MSE: 0.00016462796269018861\n",
      "Epoch: 231 Iteration: 22000. Train_MSE: 0.0004119073273614049. Test_MSE: 0.00016457828032014204\n",
      "Epoch: 232 Iteration: 22100. Train_MSE: 0.00032802802161313593. Test_MSE: 0.00016450405574664306\n",
      "Epoch: 233 Iteration: 22200. Train_MSE: 0.0005648793885484338. Test_MSE: 0.00016467821917741702\n",
      "Epoch: 234 Iteration: 22300. Train_MSE: 0.0005288916290737689. Test_MSE: 0.00016468201149741837\n",
      "Epoch: 235 Iteration: 22400. Train_MSE: 0.0005818752106279135. Test_MSE: 0.00016465217683470716\n",
      "Epoch: 236 Iteration: 22500. Train_MSE: 0.000368445209460333. Test_MSE: 0.00016447704579623966\n",
      "Epoch: 237 Iteration: 22600. Train_MSE: 0.0004440326592884958. Test_MSE: 0.00016422594785743338\n",
      "Epoch: 238 Iteration: 22700. Train_MSE: 0.0001327304053120315. Test_MSE: 0.0001641104384876492\n",
      "Epoch: 239 Iteration: 22800. Train_MSE: 0.00018966858624480665. Test_MSE: 0.00016397909672162027\n",
      "Epoch: 241 Iteration: 22900. Train_MSE: 0.0001845356309786439. Test_MSE: 0.00016388262558172492\n",
      "Epoch: 242 Iteration: 23000. Train_MSE: 0.000512709142640233. Test_MSE: 0.0001639295598306322\n",
      "Epoch: 243 Iteration: 23100. Train_MSE: 0.00036880106199532747. Test_MSE: 0.00016403315602851168\n",
      "Epoch: 244 Iteration: 23200. Train_MSE: 0.009447825141251087. Test_MSE: 0.00016410482253124953\n",
      "Epoch: 245 Iteration: 23300. Train_MSE: 0.0003564320504665375. Test_MSE: 0.00016405989719884978\n",
      "Epoch: 246 Iteration: 23400. Train_MSE: 0.00033601574250496924. Test_MSE: 0.00016389600899250533\n",
      "Epoch: 247 Iteration: 23500. Train_MSE: 0.000252893369179219. Test_MSE: 0.00016378846685779404\n",
      "Epoch: 248 Iteration: 23600. Train_MSE: 0.00028649854357354343. Test_MSE: 0.0001636184240031732\n",
      "Epoch: 249 Iteration: 23700. Train_MSE: 0.00012663383677136153. Test_MSE: 0.00016348886583443092\n",
      "Epoch: 250 Iteration: 23800. Train_MSE: 0.00019696874369401485. Test_MSE: 0.00016327573674880416\n",
      "Epoch: 251 Iteration: 23900. Train_MSE: 0.0004065731482114643. Test_MSE: 0.00016322336753808096\n",
      "Epoch: 252 Iteration: 24000. Train_MSE: 0.0003168984840158373. Test_MSE: 0.00016314333275569844\n",
      "Epoch: 253 Iteration: 24100. Train_MSE: 0.0005449696909636259. Test_MSE: 0.0001633126265296541\n",
      "Epoch: 254 Iteration: 24200. Train_MSE: 0.0005139903514645994. Test_MSE: 0.0001633132298413073\n",
      "Epoch: 255 Iteration: 24300. Train_MSE: 0.0005557265831157565. Test_MSE: 0.00016328184539596153\n",
      "Epoch: 256 Iteration: 24400. Train_MSE: 0.00035333496634848416. Test_MSE: 0.0001631043786965996\n",
      "Epoch: 257 Iteration: 24500. Train_MSE: 0.0004306681512389332. Test_MSE: 0.00016284885586599745\n",
      "Epoch: 258 Iteration: 24600. Train_MSE: 0.00013130373554304242. Test_MSE: 0.00016272625837907232\n",
      "Epoch: 259 Iteration: 24700. Train_MSE: 0.00018610447295941412. Test_MSE: 0.00016258459665513758\n",
      "Epoch: 261 Iteration: 24800. Train_MSE: 0.00018112601537723094. Test_MSE: 0.00016248476010661893\n",
      "Epoch: 262 Iteration: 24900. Train_MSE: 0.0004997798823751509. Test_MSE: 0.0001625318741848329\n",
      "Epoch: 263 Iteration: 25000. Train_MSE: 0.00035702265449799597. Test_MSE: 0.0001626370969880951\n",
      "Epoch: 264 Iteration: 25100. Train_MSE: 0.00942798051983118. Test_MSE: 0.00016271263901493935\n",
      "Epoch: 265 Iteration: 25200. Train_MSE: 0.00033850353793241084. Test_MSE: 0.00016266887606369328\n",
      "Epoch: 266 Iteration: 25300. Train_MSE: 0.00032160591217689216. Test_MSE: 0.00016250621544919167\n",
      "Epoch: 267 Iteration: 25400. Train_MSE: 0.00024134859268087894. Test_MSE: 0.00016239683823883957\n",
      "Epoch: 268 Iteration: 25500. Train_MSE: 0.0002792185405269265. Test_MSE: 0.00016222144957323258\n",
      "Epoch: 269 Iteration: 25600. Train_MSE: 0.00012304839037824422. Test_MSE: 0.00016208701538768258\n",
      "Epoch: 270 Iteration: 25700. Train_MSE: 0.00019191118190065026. Test_MSE: 0.0001618704392541859\n",
      "Epoch: 271 Iteration: 25800. Train_MSE: 0.0004015708400402218. Test_MSE: 0.0001618225050007904\n",
      "Epoch: 272 Iteration: 25900. Train_MSE: 0.00030772166792303324. Test_MSE: 0.00016174518835852296\n",
      "Epoch: 273 Iteration: 26000. Train_MSE: 0.0005262888735160232. Test_MSE: 0.00016191627165367602\n",
      "Epoch: 274 Iteration: 26100. Train_MSE: 0.0005009418237023056. Test_MSE: 0.0001619206435458826\n"
     ]
    },
    {
     "name": "stdout",
     "output_type": "stream",
     "text": [
      "Epoch: 275 Iteration: 26200. Train_MSE: 0.0005325271049514413. Test_MSE: 0.00016189338048359965\n",
      "Epoch: 276 Iteration: 26300. Train_MSE: 0.0003396110550966114. Test_MSE: 0.000161717839477699\n",
      "Epoch: 277 Iteration: 26400. Train_MSE: 0.00041863671503961086. Test_MSE: 0.00016146097668556016\n",
      "Epoch: 278 Iteration: 26500. Train_MSE: 0.00012979141320101917. Test_MSE: 0.00016133463747697673\n",
      "Epoch: 279 Iteration: 26600. Train_MSE: 0.00018267407722305506. Test_MSE: 0.00016118709776849618\n",
      "Epoch: 281 Iteration: 26700. Train_MSE: 0.00017790106358006597. Test_MSE: 0.00016108798537788123\n",
      "Epoch: 282 Iteration: 26800. Train_MSE: 0.0004873759171459824. Test_MSE: 0.00016113881913643095\n",
      "Epoch: 283 Iteration: 26900. Train_MSE: 0.00034662566031329334. Test_MSE: 0.00016124816602778504\n",
      "Epoch: 284 Iteration: 27000. Train_MSE: 0.009410766884684563. Test_MSE: 0.000161329808102032\n",
      "Epoch: 285 Iteration: 27100. Train_MSE: 0.00032282975735142827. Test_MSE: 0.00016129025628218397\n",
      "Epoch: 286 Iteration: 27200. Train_MSE: 0.00030853005591779947. Test_MSE: 0.00016113244109941798\n",
      "Epoch: 287 Iteration: 27300. Train_MSE: 0.00023093586787581444. Test_MSE: 0.00016102540668746715\n",
      "Epoch: 288 Iteration: 27400. Train_MSE: 0.0002726911043282598. Test_MSE: 0.00016084665667656891\n",
      "Epoch: 289 Iteration: 27500. Train_MSE: 0.00011967288446612656. Test_MSE: 0.0001607097048425209\n",
      "Epoch: 290 Iteration: 27600. Train_MSE: 0.00018721978995017707. Test_MSE: 0.00016049116620389843\n",
      "Epoch: 291 Iteration: 27700. Train_MSE: 0.00039683340582996607. Test_MSE: 0.0001604481766641848\n",
      "Epoch: 292 Iteration: 27800. Train_MSE: 0.0002992969239130616. Test_MSE: 0.00016037404437255453\n",
      "Epoch: 293 Iteration: 27900. Train_MSE: 0.0005088418256491423. Test_MSE: 0.00016054714586312142\n",
      "Epoch: 294 Iteration: 28000. Train_MSE: 0.0004891316057182848. Test_MSE: 0.00016055596409030062\n",
      "Epoch: 295 Iteration: 28100. Train_MSE: 0.0005111363716423512. Test_MSE: 0.00016053300169928777\n",
      "Epoch: 296 Iteration: 28200. Train_MSE: 0.0003270577290095389. Test_MSE: 0.00016035928942319453\n",
      "Epoch: 297 Iteration: 28300. Train_MSE: 0.0004077475459780544. Test_MSE: 0.00016010185655251802\n",
      "Epoch: 298 Iteration: 28400. Train_MSE: 0.00012812012573704123. Test_MSE: 0.00015997206564033318\n",
      "Epoch: 299 Iteration: 28500. Train_MSE: 0.00017929321620613337. Test_MSE: 0.00015981918026856715\n",
      "Epoch: 301 Iteration: 28600. Train_MSE: 0.00017482276598457247. Test_MSE: 0.00015972090834112342\n",
      "Epoch: 302 Iteration: 28700. Train_MSE: 0.0004753175307996571. Test_MSE: 0.0001597741314499556\n",
      "Epoch: 303 Iteration: 28800. Train_MSE: 0.0003372140636201948. Test_MSE: 0.0001598863741742011\n",
      "Epoch: 304 Iteration: 28900. Train_MSE: 0.009395928122103214. Test_MSE: 0.0001599733258845138\n",
      "Epoch: 305 Iteration: 29000. Train_MSE: 0.0003085778735112399. Test_MSE: 0.0001599382343227659\n",
      "Epoch: 306 Iteration: 29100. Train_MSE: 0.00029646410257555544. Test_MSE: 0.00015978576245169324\n",
      "Epoch: 307 Iteration: 29200. Train_MSE: 0.0002216499124187976. Test_MSE: 0.00015968052133805616\n",
      "Epoch: 308 Iteration: 29300. Train_MSE: 0.0002665325882844627. Test_MSE: 0.00015949861050502045\n",
      "Epoch: 309 Iteration: 29400. Train_MSE: 0.00011647954670479521. Test_MSE: 0.0001593597059387359\n",
      "Epoch: 310 Iteration: 29500. Train_MSE: 0.00018275713955517858. Test_MSE: 0.00015914079933518766\n",
      "Epoch: 311 Iteration: 29600. Train_MSE: 0.0003924625343643129. Test_MSE: 0.00015910244685153233\n",
      "Epoch: 312 Iteration: 29700. Train_MSE: 0.0002912580966949463. Test_MSE: 0.00015903137601070615\n",
      "Epoch: 313 Iteration: 29800. Train_MSE: 0.0004924966488033533. Test_MSE: 0.00015920511854343247\n",
      "Epoch: 314 Iteration: 29900. Train_MSE: 0.000478302565170452. Test_MSE: 0.00015921701960433052\n",
      "Epoch: 315 Iteration: 30000. Train_MSE: 0.0004916584002785385. Test_MSE: 0.00015919782513366775\n",
      "Epoch: 316 Iteration: 30100. Train_MSE: 0.00031605505500920117. Test_MSE: 0.00015902612877474205\n",
      "Epoch: 317 Iteration: 30200. Train_MSE: 0.0003975562285631895. Test_MSE: 0.00015876801411470747\n",
      "Epoch: 318 Iteration: 30300. Train_MSE: 0.00012651125143747777. Test_MSE: 0.00015863416496008555\n",
      "Epoch: 319 Iteration: 30400. Train_MSE: 0.0001761367602739483. Test_MSE: 0.00015847615818677098\n",
      "Epoch: 321 Iteration: 30500. Train_MSE: 0.00017190957441926003. Test_MSE: 0.00015837883311841373\n",
      "Epoch: 322 Iteration: 30600. Train_MSE: 0.0004638225946109742. Test_MSE: 0.00015843378435285443\n",
      "Epoch: 323 Iteration: 30700. Train_MSE: 0.00032855282188393176. Test_MSE: 0.0001585482332042713\n",
      "Epoch: 324 Iteration: 30800. Train_MSE: 0.009383134543895721. Test_MSE: 0.0001586394968244949\n",
      "Epoch: 325 Iteration: 30900. Train_MSE: 0.0002959442790597677. Test_MSE: 0.0001586085637817101\n",
      "Epoch: 326 Iteration: 31000. Train_MSE: 0.00028524670051410794. Test_MSE: 0.0001584616569828345\n",
      "Epoch: 327 Iteration: 31100. Train_MSE: 0.00021350527822505683. Test_MSE: 0.0001583590584497904\n",
      "Epoch: 328 Iteration: 31200. Train_MSE: 0.0002607180504128337. Test_MSE: 0.00015817509120907318\n",
      "Epoch: 329 Iteration: 31300. Train_MSE: 0.00011344025551807135. Test_MSE: 0.00015803524395138546\n",
      "Epoch: 330 Iteration: 31400. Train_MSE: 0.00017857276543509215. Test_MSE: 0.00015781693985685916\n",
      "Epoch: 331 Iteration: 31500. Train_MSE: 0.0003882592427544296. Test_MSE: 0.00015778304993911943\n",
      "Epoch: 332 Iteration: 31600. Train_MSE: 0.0002837058564182371. Test_MSE: 0.00015771505603373712\n",
      "Epoch: 333 Iteration: 31700. Train_MSE: 0.00047703221207484603. Test_MSE: 0.00015788899418293646\n",
      "Epoch: 334 Iteration: 31800. Train_MSE: 0.00046792541979812086. Test_MSE: 0.00015790485352976683\n",
      "Epoch: 335 Iteration: 31900. Train_MSE: 0.0004737277631647885. Test_MSE: 0.0001578903142559342\n",
      "Epoch: 336 Iteration: 32000. Train_MSE: 0.000305618392303586. Test_MSE: 0.0001577223219026822\n",
      "Epoch: 337 Iteration: 32100. Train_MSE: 0.00038822137867100537. Test_MSE: 0.00015746559814315339\n",
      "Epoch: 338 Iteration: 32200. Train_MSE: 0.00012494645488914102. Test_MSE: 0.00015732947998239728\n",
      "Epoch: 339 Iteration: 32300. Train_MSE: 0.00017314583237748593. Test_MSE: 0.00015716873901752218\n",
      "Epoch: 341 Iteration: 32400. Train_MSE: 0.00016910224803723395. Test_MSE: 0.00015707395256017126\n",
      "Epoch: 342 Iteration: 32500. Train_MSE: 0.00045268223038874567. Test_MSE: 0.00015713104835094624\n",
      "Epoch: 343 Iteration: 32600. Train_MSE: 0.00032052287133410573. Test_MSE: 0.00015724744791313224\n",
      "Epoch: 344 Iteration: 32700. Train_MSE: 0.009372099302709103. Test_MSE: 0.00015734294873568947\n",
      "Epoch: 345 Iteration: 32800. Train_MSE: 0.00028460955945774913. Test_MSE: 0.0001573163135951417\n",
      "Epoch: 346 Iteration: 32900. Train_MSE: 0.00027480171411298215. Test_MSE: 0.0001571746703145791\n",
      "Epoch: 347 Iteration: 33000. Train_MSE: 0.00020615676476154476. Test_MSE: 0.00015707455088305458\n",
      "Epoch: 348 Iteration: 33100. Train_MSE: 0.00025546111282892525. Test_MSE: 0.00015688942526624286\n",
      "Epoch: 349 Iteration: 33200. Train_MSE: 0.00011058714881073684. Test_MSE: 0.00015674980900189523\n",
      "Epoch: 350 Iteration: 33300. Train_MSE: 0.0001746679627103731. Test_MSE: 0.0001565336535007269\n",
      "Epoch: 351 Iteration: 33400. Train_MSE: 0.0003842395672108978. Test_MSE: 0.00015650443505931327\n",
      "Epoch: 352 Iteration: 33500. Train_MSE: 0.00027656563906930387. Test_MSE: 0.00015643932039113945\n",
      "Epoch: 353 Iteration: 33600. Train_MSE: 0.0004625678702723235. Test_MSE: 0.00015661324778123886\n",
      "Epoch: 354 Iteration: 33700. Train_MSE: 0.0004582947585731745. Test_MSE: 0.00015663196541499806\n",
      "Epoch: 355 Iteration: 33800. Train_MSE: 0.0004566508287098259. Test_MSE: 0.00015662021150556358\n",
      "Epoch: 356 Iteration: 33900. Train_MSE: 0.00029605490271933377. Test_MSE: 0.00015645482288140252\n",
      "Epoch: 357 Iteration: 34000. Train_MSE: 0.00037971502752043307. Test_MSE: 0.0001561985342055931\n",
      "Epoch: 358 Iteration: 34100. Train_MSE: 0.00012343862908892334. Test_MSE: 0.000156059513987005\n",
      "Epoch: 359 Iteration: 34200. Train_MSE: 0.00017022488464135677. Test_MSE: 0.00015589568910891376\n",
      "Epoch: 361 Iteration: 34300. Train_MSE: 0.0001663542352616787. Test_MSE: 0.00015580273557673372\n",
      "Epoch: 362 Iteration: 34400. Train_MSE: 0.0004419325268827379. Test_MSE: 0.00015586095352105984\n",
      "Epoch: 363 Iteration: 34500. Train_MSE: 0.0003131318953819573. Test_MSE: 0.00015597850012301194\n",
      "Epoch: 364 Iteration: 34600. Train_MSE: 0.00936263520270586. Test_MSE: 0.00015607673925147267\n",
      "Epoch: 365 Iteration: 34700. Train_MSE: 0.0002744031953625381. Test_MSE: 0.00015605290892686425\n"
     ]
    },
    {
     "name": "stdout",
     "output_type": "stream",
     "text": [
      "Epoch: 366 Iteration: 34800. Train_MSE: 0.000265462149400264. Test_MSE: 0.0001559154407930741\n",
      "Epoch: 367 Iteration: 34900. Train_MSE: 0.00019938143668696284. Test_MSE: 0.0001558165016823859\n",
      "Epoch: 368 Iteration: 35000. Train_MSE: 0.0002507070021238178. Test_MSE: 0.00015562818483445934\n",
      "Epoch: 369 Iteration: 35100. Train_MSE: 0.00010783277684822679. Test_MSE: 0.0001554872557193054\n",
      "Epoch: 370 Iteration: 35200. Train_MSE: 0.00017092823691200465. Test_MSE: 0.00015527133901495593\n",
      "Epoch: 371 Iteration: 35300. Train_MSE: 0.00038035830948501825. Test_MSE: 0.00015524507099372583\n",
      "Epoch: 372 Iteration: 35400. Train_MSE: 0.00026983433053828776. Test_MSE: 0.00015518108358804643\n",
      "Epoch: 373 Iteration: 35500. Train_MSE: 0.00044900455395691097. Test_MSE: 0.00015535289728362087\n",
      "Epoch: 374 Iteration: 35600. Train_MSE: 0.0004494139284361154. Test_MSE: 0.00015537291309089524\n",
      "Epoch: 375 Iteration: 35700. Train_MSE: 0.00044113557669334114. Test_MSE: 0.00015536327382342663\n",
      "Epoch: 376 Iteration: 35800. Train_MSE: 0.000287439877865836. Test_MSE: 0.0001551991437559247\n",
      "Epoch: 377 Iteration: 35900. Train_MSE: 0.0003719366795849055. Test_MSE: 0.0001549427493785097\n",
      "Epoch: 378 Iteration: 36000. Train_MSE: 0.00012195595627417788. Test_MSE: 0.00015480027579502933\n",
      "Epoch: 379 Iteration: 36100. Train_MSE: 0.00016737714759074152. Test_MSE: 0.0001546332641492053\n",
      "Epoch: 381 Iteration: 36200. Train_MSE: 0.0001636677043279633. Test_MSE: 0.0001545418563024426\n",
      "Epoch: 382 Iteration: 36300. Train_MSE: 0.0004316364647820592. Test_MSE: 0.00015459991664727474\n",
      "Epoch: 383 Iteration: 36400. Train_MSE: 0.00030625492217950523. Test_MSE: 0.0001547172260425323\n",
      "Epoch: 384 Iteration: 36500. Train_MSE: 0.00935472920536995. Test_MSE: 0.00015481689214869344\n",
      "Epoch: 385 Iteration: 36600. Train_MSE: 0.0002651888062246144. Test_MSE: 0.00015479583500014774\n",
      "Epoch: 386 Iteration: 36700. Train_MSE: 0.00025708062457852066. Test_MSE: 0.00015466174819084736\n",
      "Epoch: 387 Iteration: 36800. Train_MSE: 0.00019312064978294075. Test_MSE: 0.0001545631540025667\n",
      "Epoch: 388 Iteration: 36900. Train_MSE: 0.000246456969762221. Test_MSE: 0.0001543721151898833\n",
      "Epoch: 389 Iteration: 37000. Train_MSE: 0.00010518625640543178. Test_MSE: 0.00015422972382677223\n",
      "Epoch: 390 Iteration: 37100. Train_MSE: 0.00016731239156797528. Test_MSE: 0.0001540148097860391\n",
      "Epoch: 391 Iteration: 37200. Train_MSE: 0.00037647585850209. Test_MSE: 0.0001539913248170224\n",
      "Epoch: 392 Iteration: 37300. Train_MSE: 0.00026337066083215177. Test_MSE: 0.000153928303224634\n",
      "Epoch: 393 Iteration: 37400. Train_MSE: 0.00043633938184939325. Test_MSE: 0.0001540971560540955\n",
      "Epoch: 394 Iteration: 37500. Train_MSE: 0.00044161814730614424. Test_MSE: 0.00015411766443901745\n",
      "Epoch: 395 Iteration: 37600. Train_MSE: 0.0004271527868695557. Test_MSE: 0.0001541083351835827\n",
      "Epoch: 396 Iteration: 37700. Train_MSE: 0.00027972820680588484. Test_MSE: 0.00015394457060180017\n",
      "Epoch: 397 Iteration: 37800. Train_MSE: 0.00036473802174441516. Test_MSE: 0.0001536872125584406\n",
      "Epoch: 398 Iteration: 37900. Train_MSE: 0.00012044270260958001. Test_MSE: 0.00015354075540206772\n",
      "Epoch: 399 Iteration: 38000. Train_MSE: 0.00016460508049931377. Test_MSE: 0.0001533704350957289\n",
      "Epoch: 401 Iteration: 38100. Train_MSE: 0.0001610706967767328. Test_MSE: 0.00015327971800005035\n",
      "Epoch: 402 Iteration: 38200. Train_MSE: 0.0004218698013573885. Test_MSE: 0.00015333637304625026\n",
      "Epoch: 403 Iteration: 38300. Train_MSE: 0.00029984620050527155. Test_MSE: 0.00015345196646907283\n",
      "Epoch: 404 Iteration: 38400. Train_MSE: 0.009348400868475437. Test_MSE: 0.00015355171837416425\n",
      "Epoch: 405 Iteration: 38500. Train_MSE: 0.0002568245690781623. Test_MSE: 0.0001535320525845951\n",
      "Epoch: 406 Iteration: 38600. Train_MSE: 0.00024960923474282026. Test_MSE: 0.00015340064573679033\n",
      "Epoch: 407 Iteration: 38700. Train_MSE: 0.00018741168605629355. Test_MSE: 0.0001533024715212953\n",
      "Epoch: 408 Iteration: 38800. Train_MSE: 0.00024259283964056522. Test_MSE: 0.00015310920136574457\n",
      "Epoch: 409 Iteration: 38900. Train_MSE: 0.00010265141463605687. Test_MSE: 0.00015296623887946426\n",
      "Epoch: 410 Iteration: 39000. Train_MSE: 0.00016378160216845572. Test_MSE: 0.00015275333792947682\n",
      "Epoch: 411 Iteration: 39100. Train_MSE: 0.00037258569500409067. Test_MSE: 0.0001527324031927049\n",
      "Epoch: 412 Iteration: 39200. Train_MSE: 0.00025727623142302036. Test_MSE: 0.0001526704108102715\n",
      "Epoch: 413 Iteration: 39300. Train_MSE: 0.0004245065792929381. Test_MSE: 0.00015283604648890655\n",
      "Epoch: 414 Iteration: 39400. Train_MSE: 0.00043484088382683694. Test_MSE: 0.00015285752236079685\n",
      "Epoch: 415 Iteration: 39500. Train_MSE: 0.00041448621777817607. Test_MSE: 0.00015284984177331174\n",
      "Epoch: 416 Iteration: 39600. Train_MSE: 0.00027266499819234014. Test_MSE: 0.00015268797870131436\n",
      "Epoch: 417 Iteration: 39700. Train_MSE: 0.00035811946145258844. Test_MSE: 0.00015243193484580333\n",
      "Epoch: 418 Iteration: 39800. Train_MSE: 0.00011887404980370775. Test_MSE: 0.00015228379266073338\n",
      "Epoch: 419 Iteration: 39900. Train_MSE: 0.00016191188478842378. Test_MSE: 0.00015211244859524012\n",
      "Epoch: 421 Iteration: 40000. Train_MSE: 0.0001585722347954288. Test_MSE: 0.00015202416157438338\n",
      "Epoch: 422 Iteration: 40100. Train_MSE: 0.0004124779661651701. Test_MSE: 0.00015208057668262133\n",
      "Epoch: 423 Iteration: 40200. Train_MSE: 0.00029381513013504446. Test_MSE: 0.00015219512696778306\n",
      "Epoch: 424 Iteration: 40300. Train_MSE: 0.009343152865767479. Test_MSE: 0.0001522956971137015\n",
      "Epoch: 425 Iteration: 40400. Train_MSE: 0.0002491222112439573. Test_MSE: 0.00015227824323525816\n",
      "Epoch: 426 Iteration: 40500. Train_MSE: 0.00024265935644507408. Test_MSE: 0.00015215084448363684\n",
      "Epoch: 427 Iteration: 40600. Train_MSE: 0.00018209926201961935. Test_MSE: 0.00015205431570597592\n",
      "Epoch: 428 Iteration: 40700. Train_MSE: 0.0002390982408542186. Test_MSE: 0.00015186065484848886\n",
      "Epoch: 429 Iteration: 40800. Train_MSE: 0.00010021881462307647. Test_MSE: 0.0001517185290673481\n",
      "Epoch: 430 Iteration: 40900. Train_MSE: 0.00016044998483266681. Test_MSE: 0.00015150848210049032\n",
      "Epoch: 431 Iteration: 41000. Train_MSE: 0.0003688366850838065. Test_MSE: 0.00015149129774091628\n",
      "Epoch: 432 Iteration: 41100. Train_MSE: 0.0002515045925974846. Test_MSE: 0.00015143125974791498\n",
      "Epoch: 433 Iteration: 41200. Train_MSE: 0.00041350643732585013. Test_MSE: 0.00015159427968616525\n",
      "Epoch: 434 Iteration: 41300. Train_MSE: 0.0004284758761059493. Test_MSE: 0.00015161693622486468\n",
      "Epoch: 435 Iteration: 41400. Train_MSE: 0.0004026948008686304. Test_MSE: 0.00015161074250743422\n",
      "Epoch: 436 Iteration: 41500. Train_MSE: 0.0002659251040313393. Test_MSE: 0.00015145098313714125\n",
      "Epoch: 437 Iteration: 41600. Train_MSE: 0.00035191269125789404. Test_MSE: 0.00015119648877722823\n",
      "Epoch: 438 Iteration: 41700. Train_MSE: 0.00011733467545127496. Test_MSE: 0.0001510468739894684\n",
      "Epoch: 439 Iteration: 41800. Train_MSE: 0.00015933923714328557. Test_MSE: 0.00015087464260907623\n",
      "Epoch: 441 Iteration: 41900. Train_MSE: 0.00015612682909704745. Test_MSE: 0.00015078981778947177\n",
      "Epoch: 442 Iteration: 42000. Train_MSE: 0.00040342911961488426. Test_MSE: 0.0001508467648716723\n",
      "Epoch: 443 Iteration: 42100. Train_MSE: 0.00028813621611334383. Test_MSE: 0.00015096107656590435\n",
      "Epoch: 444 Iteration: 42200. Train_MSE: 0.009338729083538055. Test_MSE: 0.0001510628194899749\n",
      "Epoch: 445 Iteration: 42300. Train_MSE: 0.00024189503164961934. Test_MSE: 0.00015104817859332536\n",
      "Epoch: 446 Iteration: 42400. Train_MSE: 0.00023599686392117292. Test_MSE: 0.00015092492907846624\n",
      "Epoch: 447 Iteration: 42500. Train_MSE: 0.00017706416838336736. Test_MSE: 0.0001508300478158389\n",
      "Epoch: 448 Iteration: 42600. Train_MSE: 0.00023589763441123068. Test_MSE: 0.0001506361865901312\n",
      "Epoch: 449 Iteration: 42700. Train_MSE: 9.788633178686723e-05. Test_MSE: 0.00015049532681565446\n",
      "Epoch: 450 Iteration: 42800. Train_MSE: 0.00015727909340057522. Test_MSE: 0.00015028900671106875\n",
      "Epoch: 451 Iteration: 42900. Train_MSE: 0.00036517847911454737. Test_MSE: 0.00015027681720869665\n",
      "Epoch: 452 Iteration: 43000. Train_MSE: 0.0002460686955600977. Test_MSE: 0.0001502198861503885\n",
      "Epoch: 453 Iteration: 43100. Train_MSE: 0.00040310510667040944. Test_MSE: 0.00015038093828012597\n",
      "Epoch: 454 Iteration: 43200. Train_MSE: 0.00042246561497449875. Test_MSE: 0.00015040479046687154\n",
      "Epoch: 455 Iteration: 43300. Train_MSE: 0.0003914983826689422. Test_MSE: 0.00015039974619345632\n"
     ]
    },
    {
     "name": "stdout",
     "output_type": "stream",
     "text": [
      "Epoch: 456 Iteration: 43400. Train_MSE: 0.00025976038887165487. Test_MSE: 0.00015024106504647484\n",
      "Epoch: 457 Iteration: 43500. Train_MSE: 0.0003461555461399257. Test_MSE: 0.00014998735256414487\n",
      "Epoch: 458 Iteration: 43600. Train_MSE: 0.0001158412269433029. Test_MSE: 0.00014983563511959338\n",
      "Epoch: 459 Iteration: 43700. Train_MSE: 0.00015682425873819739. Test_MSE: 0.00014966237446827532\n",
      "Epoch: 461 Iteration: 43800. Train_MSE: 0.00015371470362879336. Test_MSE: 0.0001495799327707319\n",
      "Epoch: 462 Iteration: 43900. Train_MSE: 0.0003949011443182826. Test_MSE: 0.00014963603858718962\n",
      "Epoch: 463 Iteration: 44000. Train_MSE: 0.0002828189462888986. Test_MSE: 0.00014974881981127673\n",
      "Epoch: 464 Iteration: 44100. Train_MSE: 0.009337179362773895. Test_MSE: 0.00014985243276258894\n",
      "Epoch: 465 Iteration: 44200. Train_MSE: 0.00023499382950831205. Test_MSE: 0.00014983927704488584\n",
      "Epoch: 466 Iteration: 44300. Train_MSE: 0.0002298802137374878. Test_MSE: 0.0001497186265690081\n",
      "Epoch: 467 Iteration: 44400. Train_MSE: 0.00017225641931872815. Test_MSE: 0.00014962415553573886\n",
      "Epoch: 468 Iteration: 44500. Train_MSE: 0.00023301831970456988. Test_MSE: 0.00014942908997116745\n",
      "Epoch: 469 Iteration: 44600. Train_MSE: 9.572286944603547e-05. Test_MSE: 0.0001492887056837757\n",
      "Epoch: 470 Iteration: 44700. Train_MSE: 0.0001542232494102791. Test_MSE: 0.00014908514370227542\n",
      "Epoch: 471 Iteration: 44800. Train_MSE: 0.00036146340426057577. Test_MSE: 0.00014907309980167653\n",
      "Epoch: 472 Iteration: 44900. Train_MSE: 0.00024099090660456568. Test_MSE: 0.0001490156580057788\n",
      "Epoch: 473 Iteration: 45000. Train_MSE: 0.00039325584657490253. Test_MSE: 0.0001491723554188202\n",
      "Epoch: 474 Iteration: 45100. Train_MSE: 0.0004169124295003712. Test_MSE: 0.00014919607062512943\n",
      "Epoch: 475 Iteration: 45200. Train_MSE: 0.00038106940337456763. Test_MSE: 0.00014919160018049278\n",
      "Epoch: 476 Iteration: 45300. Train_MSE: 0.00025417146389372647. Test_MSE: 0.00014903490774526254\n",
      "Epoch: 477 Iteration: 45400. Train_MSE: 0.00034080975456163287. Test_MSE: 0.00014878317807592287\n",
      "Epoch: 478 Iteration: 45500. Train_MSE: 0.00011431642633397132. Test_MSE: 0.00014863074138048594\n",
      "Epoch: 479 Iteration: 45600. Train_MSE: 0.00015435089881066233. Test_MSE: 0.00014845804515539529\n",
      "Epoch: 481 Iteration: 45700. Train_MSE: 0.00015133920533116907. Test_MSE: 0.00014837888790438173\n",
      "Epoch: 482 Iteration: 45800. Train_MSE: 0.0003868330386467278. Test_MSE: 0.00014843491666842744\n",
      "Epoch: 483 Iteration: 45900. Train_MSE: 0.0002778504858724773. Test_MSE: 0.00014854696181966113\n",
      "Epoch: 484 Iteration: 46000. Train_MSE: 0.009337038733065128. Test_MSE: 0.00014865117285812527\n",
      "Epoch: 485 Iteration: 46100. Train_MSE: 0.00022852388792671263. Test_MSE: 0.00014864057759837688\n",
      "Epoch: 486 Iteration: 46200. Train_MSE: 0.0002242417831439525. Test_MSE: 0.00014852415335669703\n",
      "Epoch: 487 Iteration: 46300. Train_MSE: 0.0001677403342910111. Test_MSE: 0.0001484315977157023\n",
      "Epoch: 488 Iteration: 46400. Train_MSE: 0.00023035095364321023. Test_MSE: 0.00014823736078315832\n",
      "Epoch: 489 Iteration: 46500. Train_MSE: 9.364760626340285e-05. Test_MSE: 0.00014809897883401427\n",
      "Epoch: 490 Iteration: 46600. Train_MSE: 0.0001512402086518705. Test_MSE: 0.00014790025680113148\n",
      "Epoch: 491 Iteration: 46700. Train_MSE: 0.00035781017504632473. Test_MSE: 0.00014789165766981142\n",
      "Epoch: 492 Iteration: 46800. Train_MSE: 0.00023608707124367356. Test_MSE: 0.00014783649962322697\n",
      "Epoch: 493 Iteration: 46900. Train_MSE: 0.0003838920092675835. Test_MSE: 0.00014799105013312973\n",
      "Epoch: 494 Iteration: 47000. Train_MSE: 0.00041170563781633973. Test_MSE: 0.00014801656756256962\n",
      "Epoch: 495 Iteration: 47100. Train_MSE: 0.0003713333571795374. Test_MSE: 0.00014801381785241083\n",
      "Epoch: 496 Iteration: 47200. Train_MSE: 0.0002489151665940881. Test_MSE: 0.0001478597473451422\n",
      "Epoch: 497 Iteration: 47300. Train_MSE: 0.00033558905124664307. Test_MSE: 0.00014761043446043774\n",
      "Epoch: 498 Iteration: 47400. Train_MSE: 0.00011281839397270232. Test_MSE: 0.0001474580703883855\n",
      "Epoch: 499 Iteration: 47500. Train_MSE: 0.00015194066509138793. Test_MSE: 0.00014728537312257733\n",
      "Epoch: 501 Iteration: 47600. Train_MSE: 0.00014901605027262121. Test_MSE: 0.00014720851485012238\n",
      "Epoch: 502 Iteration: 47700. Train_MSE: 0.0003790652262978256. Test_MSE: 0.0001472631772873843\n",
      "Epoch: 503 Iteration: 47800. Train_MSE: 0.0002731159911490977. Test_MSE: 0.00014737303276172062\n",
      "Epoch: 504 Iteration: 47900. Train_MSE: 0.009337296709418297. Test_MSE: 0.00014747624377542471\n",
      "Epoch: 505 Iteration: 48000. Train_MSE: 0.00022240034013520926. Test_MSE: 0.0001474667359195898\n",
      "Epoch: 506 Iteration: 48100. Train_MSE: 0.00021891803771723062. Test_MSE: 0.00014735259894089732\n",
      "Epoch: 507 Iteration: 48200. Train_MSE: 0.00016348771168850362. Test_MSE: 0.0001472607274608956\n",
      "Epoch: 508 Iteration: 48300. Train_MSE: 0.0002278744213981554. Test_MSE: 0.00014706668600507168\n",
      "Epoch: 509 Iteration: 48400. Train_MSE: 9.166033123619854e-05. Test_MSE: 0.00014692960011730032\n",
      "Epoch: 510 Iteration: 48500. Train_MSE: 0.00014842342352494597. Test_MSE: 0.00014673513627725792\n",
      "Epoch: 511 Iteration: 48600. Train_MSE: 0.00035427938564680517. Test_MSE: 0.00014672815796363685\n",
      "Epoch: 512 Iteration: 48700. Train_MSE: 0.0002313495788257569. Test_MSE: 0.00014667339948162088\n",
      "Epoch: 513 Iteration: 48800. Train_MSE: 0.00037491449620574713. Test_MSE: 0.0001468243581627109\n",
      "Epoch: 514 Iteration: 48900. Train_MSE: 0.0004068056878168136. Test_MSE: 0.00014684985639399384\n",
      "Epoch: 515 Iteration: 49000. Train_MSE: 0.00036168377846479416. Test_MSE: 0.00014684716741691198\n",
      "Epoch: 516 Iteration: 49100. Train_MSE: 0.00024386169388890266. Test_MSE: 0.00014669447557301774\n",
      "Epoch: 517 Iteration: 49200. Train_MSE: 0.00033049267949536443. Test_MSE: 0.00014644725709271898\n",
      "Epoch: 518 Iteration: 49300. Train_MSE: 0.0001113466641982086. Test_MSE: 0.00014629375929415216\n",
      "Epoch: 519 Iteration: 49400. Train_MSE: 0.00014960438420530409. Test_MSE: 0.00014612227420223478\n",
      "Epoch: 521 Iteration: 49500. Train_MSE: 0.00014675666170660406. Test_MSE: 0.0001460493238933239\n",
      "Epoch: 522 Iteration: 49600. Train_MSE: 0.000371471542166546. Test_MSE: 0.00014610402577421228\n",
      "Epoch: 523 Iteration: 49700. Train_MSE: 0.0002686292864382267. Test_MSE: 0.00014621328001889722\n",
      "Epoch: 524 Iteration: 49800. Train_MSE: 0.009337899275124073. Test_MSE: 0.00014631669270281472\n",
      "Epoch: 525 Iteration: 49900. Train_MSE: 0.0002165052865166217. Test_MSE: 0.0001463095493858837\n",
      "Epoch: 526 Iteration: 50000. Train_MSE: 0.00021386341541074216. Test_MSE: 0.00014619923176775396\n",
      "Epoch: 527 Iteration: 50100. Train_MSE: 0.00015947464271448553. Test_MSE: 0.00014610909904518466\n",
      "Epoch: 528 Iteration: 50200. Train_MSE: 0.00022554957831744105. Test_MSE: 0.0001459158946789934\n",
      "Epoch: 529 Iteration: 50300. Train_MSE: 8.975481614470482e-05. Test_MSE: 0.00014578062768474823\n",
      "Epoch: 530 Iteration: 50400. Train_MSE: 0.00014572887448593974. Test_MSE: 0.00014559049094712602\n",
      "Epoch: 531 Iteration: 50500. Train_MSE: 0.0003508887311909348. Test_MSE: 0.00014558603993609811\n",
      "Epoch: 532 Iteration: 50600. Train_MSE: 0.00022674925276078284. Test_MSE: 0.0001455332681655219\n",
      "Epoch: 533 Iteration: 50700. Train_MSE: 0.00036627784720622003. Test_MSE: 0.00014568190700098654\n",
      "Epoch: 534 Iteration: 50800. Train_MSE: 0.0004021401982754469. Test_MSE: 0.00014570883272839496\n",
      "Epoch: 535 Iteration: 50900. Train_MSE: 0.00035231211222708225. Test_MSE: 0.00014570745431026548\n",
      "Epoch: 536 Iteration: 51000. Train_MSE: 0.00023895289632491767. Test_MSE: 0.00014555709202934334\n",
      "Epoch: 537 Iteration: 51100. Train_MSE: 0.000325647066347301. Test_MSE: 0.0001453126118584743\n",
      "Epoch: 538 Iteration: 51200. Train_MSE: 0.00010991063754772767. Test_MSE: 0.00014515910468018424\n",
      "Epoch: 539 Iteration: 51300. Train_MSE: 0.00014733706484548748. Test_MSE: 0.00014498882854733282\n",
      "Epoch: 541 Iteration: 51400. Train_MSE: 0.00014456141798291355. Test_MSE: 0.00014491959622937213\n",
      "Epoch: 542 Iteration: 51500. Train_MSE: 0.00036403696867637336. Test_MSE: 0.0001449746250498802\n",
      "Epoch: 543 Iteration: 51600. Train_MSE: 0.00026433923630975187. Test_MSE: 0.00014508366931681872\n",
      "Epoch: 544 Iteration: 51700. Train_MSE: 0.00933877658098936. Test_MSE: 0.00014518817370015073\n",
      "Epoch: 545 Iteration: 51800. Train_MSE: 0.0002107372274622321. Test_MSE: 0.00014518438378074964\n",
      "Epoch: 546 Iteration: 51900. Train_MSE: 0.0002090809284709394. Test_MSE: 0.00014507831987633775\n",
      "Epoch: 547 Iteration: 52000. Train_MSE: 0.0001556273637106642. Test_MSE: 0.000144990846303434\n"
     ]
    },
    {
     "name": "stdout",
     "output_type": "stream",
     "text": [
      "Epoch: 548 Iteration: 52100. Train_MSE: 0.00022337341215461493. Test_MSE: 0.00014479926423687655\n",
      "Epoch: 549 Iteration: 52200. Train_MSE: 8.792056905804202e-05. Test_MSE: 0.0001446664109456678\n",
      "Epoch: 550 Iteration: 52300. Train_MSE: 0.0001431565615348518. Test_MSE: 0.0001444805153611588\n",
      "Epoch: 551 Iteration: 52400. Train_MSE: 0.0003476002311799675. Test_MSE: 0.00014447875801590197\n",
      "Epoch: 552 Iteration: 52500. Train_MSE: 0.00022238444944377989. Test_MSE: 0.00014442736588614748\n",
      "Epoch: 553 Iteration: 52600. Train_MSE: 0.0003579930926207453. Test_MSE: 0.00014457336197187524\n",
      "Epoch: 554 Iteration: 52700. Train_MSE: 0.00039764828397892416. Test_MSE: 0.00014460120695073938\n",
      "Epoch: 555 Iteration: 52800. Train_MSE: 0.00034346897155046463. Test_MSE: 0.00014460084005252306\n",
      "Epoch: 556 Iteration: 52900. Train_MSE: 0.00023436105402652174. Test_MSE: 0.00014445256841572187\n",
      "Epoch: 557 Iteration: 53000. Train_MSE: 0.00032105448190122843. Test_MSE: 0.00014421045177635727\n",
      "Epoch: 558 Iteration: 53100. Train_MSE: 0.00010853970161406323. Test_MSE: 0.00014405673293479268\n",
      "Epoch: 559 Iteration: 53200. Train_MSE: 0.00014514518261421472. Test_MSE: 0.00014388697477916269\n",
      "Epoch: 561 Iteration: 53300. Train_MSE: 0.0001424335059709847. Test_MSE: 0.00014382066909776812\n",
      "Epoch: 562 Iteration: 53400. Train_MSE: 0.0003569252439774573. Test_MSE: 0.00014387511734189218\n",
      "Epoch: 563 Iteration: 53500. Train_MSE: 0.00026022575912065804. Test_MSE: 0.00014398244658694501\n",
      "Epoch: 564 Iteration: 53600. Train_MSE: 0.009339751675724983. Test_MSE: 0.00014408616111936536\n",
      "Epoch: 565 Iteration: 53700. Train_MSE: 0.000205333941266872. Test_MSE: 0.0001440837046167013\n",
      "Epoch: 566 Iteration: 53800. Train_MSE: 0.00020466037676669657. Test_MSE: 0.0001439799830507529\n",
      "Epoch: 567 Iteration: 53900. Train_MSE: 0.00015194612205959857. Test_MSE: 0.00014389325866673332\n",
      "Epoch: 568 Iteration: 54000. Train_MSE: 0.00022135014296509326. Test_MSE: 0.00014370187995300945\n",
      "Epoch: 569 Iteration: 54100. Train_MSE: 8.61225271364674e-05. Test_MSE: 0.00014357056097133596\n",
      "Epoch: 570 Iteration: 54200. Train_MSE: 0.0001406596857123077. Test_MSE: 0.00014338866259528625\n",
      "Epoch: 571 Iteration: 54300. Train_MSE: 0.00034434982808306813. Test_MSE: 0.00014338880002392768\n",
      "Epoch: 572 Iteration: 54400. Train_MSE: 0.00021824060240760446. Test_MSE: 0.0001433384817649566\n",
      "Epoch: 573 Iteration: 54500. Train_MSE: 0.0003500758029986173. Test_MSE: 0.00014348137057391524\n",
      "Epoch: 574 Iteration: 54600. Train_MSE: 0.0003933495900128037. Test_MSE: 0.00014350974958804563\n",
      "Epoch: 575 Iteration: 54700. Train_MSE: 0.00033515540417283773. Test_MSE: 0.00014351010871325326\n",
      "Epoch: 576 Iteration: 54800. Train_MSE: 0.0002300629421370104. Test_MSE: 0.0001433636378154093\n",
      "Epoch: 577 Iteration: 54900. Train_MSE: 0.0003167134418617934. Test_MSE: 0.00014312352892422602\n",
      "Epoch: 578 Iteration: 55000. Train_MSE: 0.00010719176498241723. Test_MSE: 0.00014296937300628513\n",
      "Epoch: 579 Iteration: 55100. Train_MSE: 0.00014305597869679332. Test_MSE: 0.00014280041868195686\n",
      "Epoch: 581 Iteration: 55200. Train_MSE: 0.00014037979417480528. Test_MSE: 0.00014273627383490494\n",
      "Epoch: 582 Iteration: 55300. Train_MSE: 0.00035014565219171345. Test_MSE: 0.00014278944236416802\n",
      "Epoch: 583 Iteration: 55400. Train_MSE: 0.0002562474983278662. Test_MSE: 0.00014289540183642745\n",
      "Epoch: 584 Iteration: 55500. Train_MSE: 0.00934092327952385. Test_MSE: 0.0001429986751535224\n",
      "Epoch: 585 Iteration: 55600. Train_MSE: 0.00020022940589115024. Test_MSE: 0.0001429982617424121\n",
      "Epoch: 586 Iteration: 55700. Train_MSE: 0.00020052750187460333. Test_MSE: 0.00014289773025821952\n",
      "Epoch: 587 Iteration: 55800. Train_MSE: 0.0001484376407461241. Test_MSE: 0.00014281262008756252\n",
      "Epoch: 588 Iteration: 55900. Train_MSE: 0.00021946920605842024. Test_MSE: 0.00014262217735602694\n",
      "Epoch: 589 Iteration: 56000. Train_MSE: 8.437926589976996e-05. Test_MSE: 0.00014249270367163905\n",
      "Epoch: 590 Iteration: 56100. Train_MSE: 0.00013824091001879424. Test_MSE: 0.00014231491839563707\n",
      "Epoch: 591 Iteration: 56200. Train_MSE: 0.0003411665966268629. Test_MSE: 0.000142316766366649\n",
      "Epoch: 592 Iteration: 56300. Train_MSE: 0.00021425765589810908. Test_MSE: 0.0001422678695985929\n",
      "Epoch: 593 Iteration: 56400. Train_MSE: 0.00034249210148118436. Test_MSE: 0.00014240829877411874\n",
      "Epoch: 594 Iteration: 56500. Train_MSE: 0.0003892593376804143. Test_MSE: 0.0001424378068021533\n",
      "Epoch: 595 Iteration: 56600. Train_MSE: 0.00032734154956415296. Test_MSE: 0.00014243941373653376\n",
      "Epoch: 596 Iteration: 56700. Train_MSE: 0.00022602234093938023. Test_MSE: 0.00014229537210335054\n",
      "Epoch: 597 Iteration: 56800. Train_MSE: 0.0003126210649497807. Test_MSE: 0.00014205792856092326\n",
      "Epoch: 598 Iteration: 56900. Train_MSE: 0.00010585388372419402. Test_MSE: 0.00014190409450221732\n",
      "Epoch: 599 Iteration: 57000. Train_MSE: 0.00014099189138505608. Test_MSE: 0.00014173650122703592\n",
      "Epoch: 601 Iteration: 57100. Train_MSE: 0.00013839943858329207. Test_MSE: 0.0001416754054759834\n",
      "Epoch: 602 Iteration: 57200. Train_MSE: 0.00034355896059423685. Test_MSE: 0.0001417280896228352\n",
      "Epoch: 603 Iteration: 57300. Train_MSE: 0.00025237712543457747. Test_MSE: 0.000141832528185366\n",
      "Epoch: 604 Iteration: 57400. Train_MSE: 0.009342174045741558. Test_MSE: 0.0001419351064021262\n",
      "Epoch: 605 Iteration: 57500. Train_MSE: 0.00019541387155186385. Test_MSE: 0.0001419362384459216\n",
      "Epoch: 606 Iteration: 57600. Train_MSE: 0.00019668535969685763. Test_MSE: 0.00014183820843799205\n",
      "Epoch: 607 Iteration: 57700. Train_MSE: 0.00014508661115542054. Test_MSE: 0.0001417541516738251\n",
      "Epoch: 608 Iteration: 57800. Train_MSE: 0.0002177092683268711. Test_MSE: 0.00014156431411818435\n",
      "Epoch: 609 Iteration: 57900. Train_MSE: 8.271799742942676e-05. Test_MSE: 0.00014143656746880027\n",
      "Epoch: 610 Iteration: 58000. Train_MSE: 0.00013588127330876887. Test_MSE: 0.00014126255005817215\n",
      "Epoch: 611 Iteration: 58100. Train_MSE: 0.0003379623522050679. Test_MSE: 0.00014126597306135148\n",
      "Epoch: 612 Iteration: 58200. Train_MSE: 0.00021043751621618867. Test_MSE: 0.0001412177160812885\n",
      "Epoch: 613 Iteration: 58300. Train_MSE: 0.0003352152998559177. Test_MSE: 0.00014135465251381834\n",
      "Epoch: 614 Iteration: 58400. Train_MSE: 0.0003853538364637643. Test_MSE: 0.00014138405344619505\n",
      "Epoch: 615 Iteration: 58500. Train_MSE: 0.00032003040541894734. Test_MSE: 0.00014138545257229193\n",
      "Epoch: 616 Iteration: 58600. Train_MSE: 0.00022226787405088544. Test_MSE: 0.00014124269715024796\n",
      "Epoch: 617 Iteration: 58700. Train_MSE: 0.00030873744981363416. Test_MSE: 0.0001410073617530559\n",
      "Epoch: 618 Iteration: 58800. Train_MSE: 0.00010452006245031953. Test_MSE: 0.00014085369323950915\n",
      "Epoch: 619 Iteration: 58900. Train_MSE: 0.00013894561561755836. Test_MSE: 0.00014068750457761712\n",
      "Epoch: 621 Iteration: 59000. Train_MSE: 0.00013649830361828208. Test_MSE: 0.00014062905743797576\n",
      "Epoch: 622 Iteration: 59100. Train_MSE: 0.0003372111532371491. Test_MSE: 0.00014068049565095617\n",
      "Epoch: 623 Iteration: 59200. Train_MSE: 0.00024864039733074605. Test_MSE: 0.00014078292807952566\n",
      "Epoch: 624 Iteration: 59300. Train_MSE: 0.009343528188765049. Test_MSE: 0.00014088430693527069\n",
      "Epoch: 625 Iteration: 59400. Train_MSE: 0.00019085261737927794. Test_MSE: 0.00014088663093713626\n",
      "Epoch: 626 Iteration: 59500. Train_MSE: 0.00019305490422993898. Test_MSE: 0.00014079101932606652\n",
      "Epoch: 627 Iteration: 59600. Train_MSE: 0.00014187948545441031. Test_MSE: 0.00014070782364283154\n",
      "Epoch: 628 Iteration: 59700. Train_MSE: 0.0002160587173420936. Test_MSE: 0.0001405188378673108\n",
      "Epoch: 629 Iteration: 59800. Train_MSE: 8.114640513667837e-05. Test_MSE: 0.00014039304432473387\n",
      "Epoch: 630 Iteration: 59900. Train_MSE: 0.00013357707939576358. Test_MSE: 0.0001402229370158254\n",
      "Epoch: 631 Iteration: 60000. Train_MSE: 0.00033480877755209804. Test_MSE: 0.00014022783390733745\n",
      "Epoch: 632 Iteration: 60100. Train_MSE: 0.0002067356981569901. Test_MSE: 0.00014018023600920104\n",
      "Epoch: 633 Iteration: 60200. Train_MSE: 0.0003282312536612153. Test_MSE: 0.00014031376111919426\n",
      "Epoch: 634 Iteration: 60300. Train_MSE: 0.0003817607066594064. Test_MSE: 0.00014034309388883323\n",
      "Epoch: 635 Iteration: 60400. Train_MSE: 0.00031292601488530636. Test_MSE: 0.00014034435758242492\n",
      "Epoch: 636 Iteration: 60500. Train_MSE: 0.00021869696502108127. Test_MSE: 0.00014020274769356556\n",
      "Epoch: 637 Iteration: 60600. Train_MSE: 0.0003049431834369898. Test_MSE: 0.00013996889105265457\n"
     ]
    },
    {
     "name": "stdout",
     "output_type": "stream",
     "text": [
      "Epoch: 638 Iteration: 60700. Train_MSE: 0.00010322277375962585. Test_MSE: 0.00013981410285253938\n",
      "Epoch: 639 Iteration: 60800. Train_MSE: 0.00013695012603420764. Test_MSE: 0.00013964783846508828\n",
      "Epoch: 641 Iteration: 60900. Train_MSE: 0.00013465066149365157. Test_MSE: 0.00013959083463775784\n",
      "Epoch: 642 Iteration: 61000. Train_MSE: 0.0003310455067548901. Test_MSE: 0.0001396408641962842\n",
      "Epoch: 643 Iteration: 61100. Train_MSE: 0.00024505314650014043. Test_MSE: 0.00013974174279172464\n",
      "Epoch: 644 Iteration: 61200. Train_MSE: 0.00934492889791727. Test_MSE: 0.00013984226678861374\n",
      "Epoch: 645 Iteration: 61300. Train_MSE: 0.0001865663507487625. Test_MSE: 0.00013984606057279513\n",
      "Epoch: 646 Iteration: 61400. Train_MSE: 0.0001895701716421172. Test_MSE: 0.00013975292593929338\n",
      "Epoch: 647 Iteration: 61500. Train_MSE: 0.00013880946789868176. Test_MSE: 0.00013967059875269662\n",
      "Epoch: 648 Iteration: 61600. Train_MSE: 0.00021450064377859235. Test_MSE: 0.00013948223442343394\n",
      "Epoch: 649 Iteration: 61700. Train_MSE: 7.966682460391894e-05. Test_MSE: 0.00013935761536008014\n",
      "Epoch: 650 Iteration: 61800. Train_MSE: 0.00013130810111761093. Test_MSE: 0.00013919044087191214\n",
      "Epoch: 651 Iteration: 61900. Train_MSE: 0.00033173413248732686. Test_MSE: 0.0001391959784750866\n",
      "Epoch: 652 Iteration: 62000. Train_MSE: 0.00020314977155067027. Test_MSE: 0.0001391492858204757\n",
      "Epoch: 653 Iteration: 62100. Train_MSE: 0.0003215095493942499. Test_MSE: 0.0001392800663431721\n",
      "Epoch: 654 Iteration: 62200. Train_MSE: 0.0003784321597777307. Test_MSE: 0.0001393096548492081\n",
      "Epoch: 655 Iteration: 62300. Train_MSE: 0.0003061384486500174. Test_MSE: 0.00013931077558485236\n",
      "Epoch: 656 Iteration: 62400. Train_MSE: 0.00021530220692511648. Test_MSE: 0.00013916956806283995\n",
      "Epoch: 657 Iteration: 62500. Train_MSE: 0.00030131987296044827. Test_MSE: 0.00013893662356337207\n",
      "Epoch: 658 Iteration: 62600. Train_MSE: 0.00010194070637226105. Test_MSE: 0.00013878084787129606\n",
      "Epoch: 659 Iteration: 62700. Train_MSE: 0.00013497787585947663. Test_MSE: 0.00013861462904810927\n",
      "Epoch: 661 Iteration: 62800. Train_MSE: 0.00013284332817420363. Test_MSE: 0.00013855890131803092\n",
      "Epoch: 662 Iteration: 62900. Train_MSE: 0.0003250706067774445. Test_MSE: 0.00013860683179556384\n",
      "Epoch: 663 Iteration: 63000. Train_MSE: 0.00024183085770346224. Test_MSE: 0.00013870514568650247\n",
      "Epoch: 664 Iteration: 63100. Train_MSE: 0.00934633705765009. Test_MSE: 0.00013880384314873188\n",
      "Epoch: 665 Iteration: 63200. Train_MSE: 0.00018250549328513443. Test_MSE: 0.0001388079164815068\n",
      "Epoch: 666 Iteration: 63300. Train_MSE: 0.00018628784164320678. Test_MSE: 0.00013871568572219967\n",
      "Epoch: 667 Iteration: 63400. Train_MSE: 0.00013588588626589626. Test_MSE: 0.00013863339861542594\n",
      "Epoch: 668 Iteration: 63500. Train_MSE: 0.00021302422101143748. Test_MSE: 0.00013844493149818375\n",
      "Epoch: 669 Iteration: 63600. Train_MSE: 7.823938358342275e-05. Test_MSE: 0.00013832069841616715\n",
      "Epoch: 670 Iteration: 63700. Train_MSE: 0.00012907515338156372. Test_MSE: 0.00013815622458315848\n",
      "Epoch: 671 Iteration: 63800. Train_MSE: 0.0003287398722022772. Test_MSE: 0.00013816212180772558\n",
      "Epoch: 672 Iteration: 63900. Train_MSE: 0.00019967097614426166. Test_MSE: 0.00013811499183626814\n",
      "Epoch: 673 Iteration: 64000. Train_MSE: 0.0003150358097627759. Test_MSE: 0.00013824225522628735\n",
      "Epoch: 674 Iteration: 64100. Train_MSE: 0.0003752521297428757. Test_MSE: 0.0001382716492309064\n",
      "Epoch: 675 Iteration: 64200. Train_MSE: 0.00029965725843794644. Test_MSE: 0.00013827337583842108\n",
      "Epoch: 676 Iteration: 64300. Train_MSE: 0.00021204937365837395. Test_MSE: 0.00013813410912045116\n",
      "Epoch: 677 Iteration: 64400. Train_MSE: 0.00029781798366457224. Test_MSE: 0.0001379038892708934\n",
      "Epoch: 678 Iteration: 64500. Train_MSE: 0.00010070837015518919. Test_MSE: 0.0001377487613984622\n",
      "Epoch: 679 Iteration: 64600. Train_MSE: 0.0001330270170001313. Test_MSE: 0.0001375843365074863\n",
      "Epoch: 681 Iteration: 64700. Train_MSE: 0.00013109639985486865. Test_MSE: 0.0001375316300892633\n",
      "Epoch: 682 Iteration: 64800. Train_MSE: 0.00031928415410220623. Test_MSE: 0.00013757954384605167\n",
      "Epoch: 683 Iteration: 64900. Train_MSE: 0.00023876190243754536. Test_MSE: 0.00013767715451084295\n",
      "Epoch: 684 Iteration: 65000. Train_MSE: 0.009347755461931229. Test_MSE: 0.00013777587875163613\n",
      "Epoch: 685 Iteration: 65100. Train_MSE: 0.00017862785898614675. Test_MSE: 0.00013778214980801723\n",
      "Epoch: 686 Iteration: 65200. Train_MSE: 0.00018310686573386192. Test_MSE: 0.00013769300798795498\n",
      "Epoch: 687 Iteration: 65300. Train_MSE: 0.0001330797967966646. Test_MSE: 0.00013761208108384454\n",
      "Epoch: 688 Iteration: 65400. Train_MSE: 0.00021161901531741023. Test_MSE: 0.00013742523559349436\n",
      "Epoch: 689 Iteration: 65500. Train_MSE: 7.685897435294464e-05. Test_MSE: 0.00013730344157321478\n",
      "Epoch: 690 Iteration: 65600. Train_MSE: 0.00012690102448686957. Test_MSE: 0.00013714284871841218\n",
      "Epoch: 691 Iteration: 65700. Train_MSE: 0.00032584290602244437. Test_MSE: 0.00013715017658717107\n",
      "Epoch: 692 Iteration: 65800. Train_MSE: 0.00019629334565252066. Test_MSE: 0.00013710425765789207\n",
      "Epoch: 693 Iteration: 65900. Train_MSE: 0.00030878899269737303. Test_MSE: 0.00013722946495253348\n",
      "Epoch: 694 Iteration: 66000. Train_MSE: 0.000372216512914747. Test_MSE: 0.0001372598488909771\n",
      "Epoch: 695 Iteration: 66100. Train_MSE: 0.000293426652206108. Test_MSE: 0.00013726217904256845\n",
      "Epoch: 696 Iteration: 66200. Train_MSE: 0.00020892905013170093. Test_MSE: 0.00013712485896380774\n",
      "Epoch: 697 Iteration: 66300. Train_MSE: 0.00029443559469655156. Test_MSE: 0.00013689690038091404\n",
      "Epoch: 698 Iteration: 66400. Train_MSE: 9.951018000720069e-05. Test_MSE: 0.00013674229845899523\n",
      "Epoch: 699 Iteration: 66500. Train_MSE: 0.0001311424857703969. Test_MSE: 0.0001365794254411921\n",
      "Epoch: 701 Iteration: 66600. Train_MSE: 0.0001294032990699634. Test_MSE: 0.00013652928993849987\n",
      "Epoch: 702 Iteration: 66700. Train_MSE: 0.00031361085711978376. Test_MSE: 0.00013657643436713033\n",
      "Epoch: 703 Iteration: 66800. Train_MSE: 0.00023576777311973274. Test_MSE: 0.00013667284827024136\n",
      "Epoch: 704 Iteration: 66900. Train_MSE: 0.009349236264824867. Test_MSE: 0.0001367710007382769\n",
      "Epoch: 705 Iteration: 67000. Train_MSE: 0.00017488004232291132. Test_MSE: 0.0001367787807393818\n",
      "Epoch: 706 Iteration: 67100. Train_MSE: 0.00018003990408033133. Test_MSE: 0.0001366920951670219\n",
      "Epoch: 707 Iteration: 67200. Train_MSE: 0.00013039832992944866. Test_MSE: 0.00013661273902591182\n",
      "Epoch: 708 Iteration: 67300. Train_MSE: 0.00021028396440669894. Test_MSE: 0.00013642711371307794\n",
      "Epoch: 709 Iteration: 67400. Train_MSE: 7.553377508884296e-05. Test_MSE: 0.000136307146856593\n",
      "Epoch: 710 Iteration: 67500. Train_MSE: 0.00012481189332902431. Test_MSE: 0.00013615011618646865\n",
      "Epoch: 711 Iteration: 67600. Train_MSE: 0.00032307542278431356. Test_MSE: 0.00013615846603991742\n",
      "Epoch: 712 Iteration: 67700. Train_MSE: 0.00019299716223031282. Test_MSE: 0.0001361137660907563\n",
      "Epoch: 713 Iteration: 67800. Train_MSE: 0.0003027243074029684. Test_MSE: 0.00013623694077409407\n",
      "Epoch: 714 Iteration: 67900. Train_MSE: 0.00036929736961610615. Test_MSE: 0.00013626801322084916\n",
      "Epoch: 715 Iteration: 68000. Train_MSE: 0.00028748056502081454. Test_MSE: 0.0001362713225250888\n",
      "Epoch: 716 Iteration: 68100. Train_MSE: 0.0002059083490166813. Test_MSE: 0.00013613570313459567\n",
      "Epoch: 717 Iteration: 68200. Train_MSE: 0.00029116400401107967. Test_MSE: 0.00013591026233718045\n",
      "Epoch: 718 Iteration: 68300. Train_MSE: 9.834146476350725e-05. Test_MSE: 0.00013575644616182413\n",
      "Epoch: 719 Iteration: 68400. Train_MSE: 0.0001293162495130673. Test_MSE: 0.00013559507753628592\n",
      "Epoch: 721 Iteration: 68500. Train_MSE: 0.00012776731455232948. Test_MSE: 0.00013554723392963466\n",
      "Epoch: 722 Iteration: 68600. Train_MSE: 0.00030806477298028767. Test_MSE: 0.00013559380311830153\n",
      "Epoch: 723 Iteration: 68700. Train_MSE: 0.00023285593488253653. Test_MSE: 0.00013568931215211363\n",
      "Epoch: 724 Iteration: 68800. Train_MSE: 0.00935068167746067. Test_MSE: 0.00013578703690987753\n",
      "Epoch: 725 Iteration: 68900. Train_MSE: 0.0001713273231871426. Test_MSE: 0.00013579638580907407\n",
      "Epoch: 726 Iteration: 69000. Train_MSE: 0.00017711262626107782. Test_MSE: 0.00013571203265146296\n",
      "Epoch: 727 Iteration: 69100. Train_MSE: 0.0001278394047403708. Test_MSE: 0.00013563347214609928\n",
      "Epoch: 728 Iteration: 69200. Train_MSE: 0.00020898882939945906. Test_MSE: 0.0001354486702866017\n"
     ]
    },
    {
     "name": "stdout",
     "output_type": "stream",
     "text": [
      "Epoch: 729 Iteration: 69300. Train_MSE: 7.426872616633773e-05. Test_MSE: 0.00013533028347646379\n",
      "Epoch: 730 Iteration: 69400. Train_MSE: 0.00012284255353733897. Test_MSE: 0.0001351763736383762\n",
      "Epoch: 731 Iteration: 69500. Train_MSE: 0.00032039821962825954. Test_MSE: 0.00013518562460724796\n",
      "Epoch: 732 Iteration: 69600. Train_MSE: 0.00018979290325660259. Test_MSE: 0.00013514194325809343\n",
      "Epoch: 733 Iteration: 69700. Train_MSE: 0.00029688762151636183. Test_MSE: 0.00013526297717563756\n",
      "Epoch: 734 Iteration: 69800. Train_MSE: 0.0003664855321403593. Test_MSE: 0.00013529468225055731\n",
      "Epoch: 735 Iteration: 69900. Train_MSE: 0.0002818310749717057. Test_MSE: 0.00013529876039904216\n",
      "Epoch: 736 Iteration: 70000. Train_MSE: 0.00020293080888222903. Test_MSE: 0.00013516497445273084\n",
      "Epoch: 737 Iteration: 70100. Train_MSE: 0.0002880275424104184. Test_MSE: 0.00013494170312011524\n",
      "Epoch: 738 Iteration: 70200. Train_MSE: 9.72030611592345e-05. Test_MSE: 0.0001347882211395236\n",
      "Epoch: 739 Iteration: 70300. Train_MSE: 0.0001275455142604187. Test_MSE: 0.0001346284392611669\n",
      "Epoch: 741 Iteration: 70400. Train_MSE: 0.00012617092579603195. Test_MSE: 0.00013458296082115054\n",
      "Epoch: 742 Iteration: 70500. Train_MSE: 0.00030268935370258987. Test_MSE: 0.00013462909230006732\n",
      "Epoch: 743 Iteration: 70600. Train_MSE: 0.0002300384221598506. Test_MSE: 0.00013472355253563552\n",
      "Epoch: 744 Iteration: 70700. Train_MSE: 0.009352119639515877. Test_MSE: 0.00013482097667466786\n",
      "Epoch: 745 Iteration: 70800. Train_MSE: 0.00016794879047665745. Test_MSE: 0.0001348319721143287\n",
      "Epoch: 746 Iteration: 70900. Train_MSE: 0.00017416503396816552. Test_MSE: 0.0001347498612950027\n",
      "Epoch: 747 Iteration: 71000. Train_MSE: 0.00012538953160401434. Test_MSE: 0.00013467297376001277\n",
      "Epoch: 748 Iteration: 71100. Train_MSE: 0.00020775148004759103. Test_MSE: 0.0001344895683864639\n",
      "Epoch: 749 Iteration: 71200. Train_MSE: 7.305642793653533e-05. Test_MSE: 0.00013437287475236658\n",
      "Epoch: 750 Iteration: 71300. Train_MSE: 0.00012093561963411048. Test_MSE: 0.00013422210778265536\n",
      "Epoch: 751 Iteration: 71400. Train_MSE: 0.0003178016922902316. Test_MSE: 0.00013423201737894518\n",
      "Epoch: 752 Iteration: 71500. Train_MSE: 0.00018675008323043585. Test_MSE: 0.00013418869773516423\n",
      "Epoch: 753 Iteration: 71600. Train_MSE: 0.00029124817228876054. Test_MSE: 0.00013430717662462526\n",
      "Epoch: 754 Iteration: 71700. Train_MSE: 0.0003637894697021693. Test_MSE: 0.00013433889288813345\n",
      "Epoch: 755 Iteration: 71800. Train_MSE: 0.00027640507323667407. Test_MSE: 0.00013434327084831487\n",
      "Epoch: 756 Iteration: 71900. Train_MSE: 0.00020007038256153464. Test_MSE: 0.00013421054283861868\n",
      "Epoch: 757 Iteration: 72000. Train_MSE: 0.0002849797601811588. Test_MSE: 0.00013398871300643284\n",
      "Epoch: 758 Iteration: 72100. Train_MSE: 9.611267887521535e-05. Test_MSE: 0.0001338349989182369\n",
      "Epoch: 759 Iteration: 72200. Train_MSE: 0.00012584045180119574. Test_MSE: 0.00013367601105486565\n",
      "Epoch: 761 Iteration: 72300. Train_MSE: 0.00012461247388273478. Test_MSE: 0.000133632199231438\n",
      "Epoch: 762 Iteration: 72400. Train_MSE: 0.00029747176449745893. Test_MSE: 0.00013367724138931694\n",
      "Epoch: 763 Iteration: 72500. Train_MSE: 0.00022730004275217652. Test_MSE: 0.00013377029443096557\n",
      "Epoch: 764 Iteration: 72600. Train_MSE: 0.009353584609925747. Test_MSE: 0.00013386694028573912\n",
      "Epoch: 765 Iteration: 72700. Train_MSE: 0.00016475142911076546. Test_MSE: 0.00013387905007908242\n",
      "Epoch: 766 Iteration: 72800. Train_MSE: 0.00017129495972767472. Test_MSE: 0.00013379867128294855\n",
      "Epoch: 767 Iteration: 72900. Train_MSE: 0.0001230403722729534. Test_MSE: 0.00013372256310121653\n",
      "Epoch: 768 Iteration: 73000. Train_MSE: 0.00020655262051150203. Test_MSE: 0.00013354006588783476\n",
      "Epoch: 769 Iteration: 73100. Train_MSE: 7.187260780483484e-05. Test_MSE: 0.00013342487080680014\n",
      "Epoch: 770 Iteration: 73200. Train_MSE: 0.00011908333544852212. Test_MSE: 0.0001332768472633426\n",
      "Epoch: 771 Iteration: 73300. Train_MSE: 0.00031528458930552006. Test_MSE: 0.00013328737302389644\n",
      "Epoch: 772 Iteration: 73400. Train_MSE: 0.00018381941481493413. Test_MSE: 0.00013324502040428307\n",
      "Epoch: 773 Iteration: 73500. Train_MSE: 0.0002856823557522148. Test_MSE: 0.00013336172343024615\n",
      "Epoch: 774 Iteration: 73600. Train_MSE: 0.0003611973952502012. Test_MSE: 0.00013339394289553489\n",
      "Epoch: 775 Iteration: 73700. Train_MSE: 0.0002711537526920438. Test_MSE: 0.0001333990563807326\n",
      "Epoch: 776 Iteration: 73800. Train_MSE: 0.00019729066116269678. Test_MSE: 0.00013326804388196658\n",
      "Epoch: 777 Iteration: 73900. Train_MSE: 0.00028201224631629884. Test_MSE: 0.00013304829981454177\n",
      "Epoch: 778 Iteration: 74000. Train_MSE: 9.504755871603265e-05. Test_MSE: 0.0001328951518866294\n",
      "Epoch: 779 Iteration: 74100. Train_MSE: 0.0001241573045263067. Test_MSE: 0.00013273757920412066\n",
      "Epoch: 781 Iteration: 74200. Train_MSE: 0.00012311371392570436. Test_MSE: 0.00013269591356705995\n",
      "Epoch: 782 Iteration: 74300. Train_MSE: 0.00029237577109597623. Test_MSE: 0.00013274052545629662\n",
      "Epoch: 783 Iteration: 74400. Train_MSE: 0.00022462542983703315. Test_MSE: 0.00013283275690339705\n",
      "Epoch: 784 Iteration: 74500. Train_MSE: 0.009355084039270878. Test_MSE: 0.00013292910371344904\n",
      "Epoch: 785 Iteration: 74600. Train_MSE: 0.00016181974206119776. Test_MSE: 0.00013294272420406636\n",
      "Epoch: 786 Iteration: 74700. Train_MSE: 0.00016845489153638482. Test_MSE: 0.0001328645284988207\n",
      "Epoch: 787 Iteration: 74800. Train_MSE: 0.00012079116277163848. Test_MSE: 0.00013278968852675714\n",
      "Epoch: 788 Iteration: 74900. Train_MSE: 0.00020540051627904177. Test_MSE: 0.00013260841083858103\n",
      "Epoch: 789 Iteration: 75000. Train_MSE: 7.073753658914939e-05. Test_MSE: 0.00013249507714500498\n",
      "Epoch: 790 Iteration: 75100. Train_MSE: 0.00011729969992302358. Test_MSE: 0.00013235018267665526\n",
      "Epoch: 791 Iteration: 75200. Train_MSE: 0.0003128507232759148. Test_MSE: 0.0001323611142425152\n",
      "Epoch: 792 Iteration: 75300. Train_MSE: 0.00018095990526489913. Test_MSE: 0.00013231967373530202\n",
      "Epoch: 793 Iteration: 75400. Train_MSE: 0.00028027352527715266. Test_MSE: 0.000132434708454129\n",
      "Epoch: 794 Iteration: 75500. Train_MSE: 0.00035869135172106326. Test_MSE: 0.00013246783425185812\n",
      "Epoch: 795 Iteration: 75600. Train_MSE: 0.00026611078646965325. Test_MSE: 0.0001324739446530785\n",
      "Epoch: 796 Iteration: 75700. Train_MSE: 0.0001946113770827651. Test_MSE: 0.00013234466215047424\n",
      "Epoch: 797 Iteration: 75800. Train_MSE: 0.00027914103702642024. Test_MSE: 0.00013212758706075827\n",
      "Epoch: 798 Iteration: 75900. Train_MSE: 9.401531860930845e-05. Test_MSE: 0.0001319754553628171\n",
      "Epoch: 799 Iteration: 76000. Train_MSE: 0.00012250657891854644. Test_MSE: 0.00013181987086164563\n",
      "Epoch: 801 Iteration: 76100. Train_MSE: 0.00012165185034973547. Test_MSE: 0.0001317805664485596\n",
      "Epoch: 802 Iteration: 76200. Train_MSE: 0.00028742998256348073. Test_MSE: 0.00013182456245622567\n",
      "Epoch: 803 Iteration: 76300. Train_MSE: 0.00022201266256161034. Test_MSE: 0.00013191570494730035\n",
      "Epoch: 804 Iteration: 76400. Train_MSE: 0.00935656949877739. Test_MSE: 0.00013201188857331822\n",
      "Epoch: 805 Iteration: 76500. Train_MSE: 0.00015902645827736706. Test_MSE: 0.00013202726272521558\n",
      "Epoch: 806 Iteration: 76600. Train_MSE: 0.0001656568783801049. Test_MSE: 0.00013195172386663511\n",
      "Epoch: 807 Iteration: 76700. Train_MSE: 0.00011863762483699247. Test_MSE: 0.00013187860149746668\n",
      "Epoch: 808 Iteration: 76800. Train_MSE: 0.00020431216398719698. Test_MSE: 0.00013169872275054225\n",
      "Epoch: 809 Iteration: 76900. Train_MSE: 6.965292413951829e-05. Test_MSE: 0.00013158720322851292\n",
      "Epoch: 810 Iteration: 77000. Train_MSE: 0.00011557476682355627. Test_MSE: 0.0001314455056691681\n",
      "Epoch: 811 Iteration: 77100. Train_MSE: 0.00031048915116116405. Test_MSE: 0.0001314574003492116\n",
      "Epoch: 812 Iteration: 77200. Train_MSE: 0.0001781648024916649. Test_MSE: 0.00013141719165434102\n",
      "Epoch: 813 Iteration: 77300. Train_MSE: 0.0002750053827185184. Test_MSE: 0.00013153064163354465\n",
      "Epoch: 814 Iteration: 77400. Train_MSE: 0.00035627794568426907. Test_MSE: 0.00013156447896692255\n",
      "Epoch: 815 Iteration: 77500. Train_MSE: 0.0002612929092720151. Test_MSE: 0.00013157159908172987\n",
      "Epoch: 816 Iteration: 77600. Train_MSE: 0.00019205310672987252. Test_MSE: 0.00013144431210574003\n",
      "Epoch: 817 Iteration: 77700. Train_MSE: 0.0002763922675512731. Test_MSE: 0.00013122955374485478\n",
      "Epoch: 818 Iteration: 77800. Train_MSE: 9.300326928496361e-05. Test_MSE: 0.00013107822427777563\n"
     ]
    },
    {
     "name": "stdout",
     "output_type": "stream",
     "text": [
      "Epoch: 819 Iteration: 77900. Train_MSE: 0.00012089255324099213. Test_MSE: 0.0001309242827799344\n",
      "Epoch: 821 Iteration: 78000. Train_MSE: 0.00012023980525555089. Test_MSE: 0.0001308872283479993\n",
      "Epoch: 822 Iteration: 78100. Train_MSE: 0.0002825976407621056. Test_MSE: 0.00013093100356175444\n",
      "Epoch: 823 Iteration: 78200. Train_MSE: 0.00021949122310616076. Test_MSE: 0.00013102159335881208\n",
      "Epoch: 824 Iteration: 78300. Train_MSE: 0.009358217008411884. Test_MSE: 0.0001311177161065374\n",
      "Epoch: 825 Iteration: 78400. Train_MSE: 0.00015630936832167208. Test_MSE: 0.00013113488853692907\n",
      "Epoch: 826 Iteration: 78500. Train_MSE: 0.00016295835666824132. Test_MSE: 0.00013106122947538934\n",
      "Epoch: 827 Iteration: 78600. Train_MSE: 0.0001165585417766124. Test_MSE: 0.0001309894904796374\n",
      "Epoch: 828 Iteration: 78700. Train_MSE: 0.00020328258688095957. Test_MSE: 0.0001308116800810588\n",
      "Epoch: 829 Iteration: 78800. Train_MSE: 6.862955342512578e-05. Test_MSE: 0.00013070247706908084\n",
      "Epoch: 830 Iteration: 78900. Train_MSE: 0.00011393441673135385. Test_MSE: 0.00013056415564778357\n",
      "Epoch: 831 Iteration: 79000. Train_MSE: 0.0003082095936406404. Test_MSE: 0.00013057677489694742\n",
      "Epoch: 832 Iteration: 79100. Train_MSE: 0.00017543660942465067. Test_MSE: 0.0001305375200361915\n",
      "Epoch: 833 Iteration: 79200. Train_MSE: 0.0002698583994060755. Test_MSE: 0.000130649512064273\n",
      "Epoch: 834 Iteration: 79300. Train_MSE: 0.00035394434235058725. Test_MSE: 0.00013068389072284936\n",
      "Epoch: 835 Iteration: 79400. Train_MSE: 0.0002566906332504004. Test_MSE: 0.00013069177212036398\n",
      "Epoch: 836 Iteration: 79500. Train_MSE: 0.00018963601905852556. Test_MSE: 0.00013056593774082528\n",
      "Epoch: 837 Iteration: 79600. Train_MSE: 0.00027375982608646154. Test_MSE: 0.000130353162699339\n",
      "Epoch: 838 Iteration: 79700. Train_MSE: 9.201573993777856e-05. Test_MSE: 0.0001302022757151798\n",
      "Epoch: 839 Iteration: 79800. Train_MSE: 0.00011933183122891933. Test_MSE: 0.0001300498441304136\n",
      "Epoch: 841 Iteration: 79900. Train_MSE: 0.00011887394066434354. Test_MSE: 0.0001300144292325468\n",
      "Epoch: 842 Iteration: 80000. Train_MSE: 0.0002778478665277362. Test_MSE: 0.0001300574492650122\n",
      "Epoch: 843 Iteration: 80100. Train_MSE: 0.0002170217630919069. Test_MSE: 0.00013014700488065466\n",
      "Epoch: 844 Iteration: 80200. Train_MSE: 0.009359817951917648. Test_MSE: 0.00013024265580758557\n",
      "Epoch: 845 Iteration: 80300. Train_MSE: 0.00015373544010799378. Test_MSE: 0.00013026089200449023\n",
      "Epoch: 846 Iteration: 80400. Train_MSE: 0.00016042361676227301. Test_MSE: 0.00013018905546921173\n",
      "Epoch: 847 Iteration: 80500. Train_MSE: 0.00011456903303042054. Test_MSE: 0.00013011828016445875\n",
      "Epoch: 848 Iteration: 80600. Train_MSE: 0.00020227732602506876. Test_MSE: 0.0001299414823839291\n",
      "Epoch: 849 Iteration: 80700. Train_MSE: 6.765003490727395e-05. Test_MSE: 0.000129834028420561\n",
      "Epoch: 850 Iteration: 80800. Train_MSE: 0.00011234835983486846. Test_MSE: 0.00012969848571464112\n",
      "Epoch: 851 Iteration: 80900. Train_MSE: 0.00030596746364608407. Test_MSE: 0.00012971197799528108\n",
      "Epoch: 852 Iteration: 81000. Train_MSE: 0.00017279166786465794. Test_MSE: 0.00012967389331381443\n",
      "Epoch: 853 Iteration: 81100. Train_MSE: 0.0002650148526299745. Test_MSE: 0.00012978470929325448\n",
      "Epoch: 854 Iteration: 81200. Train_MSE: 0.000351712602423504. Test_MSE: 0.00012981984240619326\n",
      "Epoch: 855 Iteration: 81300. Train_MSE: 0.0002522711583878845. Test_MSE: 0.00012982878035968328\n",
      "Epoch: 856 Iteration: 81400. Train_MSE: 0.00018732761964201927. Test_MSE: 0.0001297049077244177\n",
      "Epoch: 857 Iteration: 81500. Train_MSE: 0.00027117467834614217. Test_MSE: 0.00012949459837006502\n",
      "Epoch: 858 Iteration: 81600. Train_MSE: 9.102674812311307e-05. Test_MSE: 0.00012934481343955146\n",
      "Epoch: 859 Iteration: 81700. Train_MSE: 0.00011780256318161264. Test_MSE: 0.00012919461432890953\n",
      "Epoch: 861 Iteration: 81800. Train_MSE: 0.00011754784645745531. Test_MSE: 0.0001291616994164063\n",
      "Epoch: 862 Iteration: 81900. Train_MSE: 0.0002732814464252442. Test_MSE: 0.000129204862590393\n",
      "Epoch: 863 Iteration: 82000. Train_MSE: 0.0002147927152691409. Test_MSE: 0.00012929415877190018\n",
      "Epoch: 864 Iteration: 82100. Train_MSE: 0.009361356496810913. Test_MSE: 0.0001293899774124938\n",
      "Epoch: 865 Iteration: 82200. Train_MSE: 0.00015128729864954948. Test_MSE: 0.00012940998536167038\n",
      "Epoch: 866 Iteration: 82300. Train_MSE: 0.0001579210947966203. Test_MSE: 0.00012934053584172758\n",
      "Epoch: 867 Iteration: 82400. Train_MSE: 0.00011263979831710458. Test_MSE: 0.00012927147114389506\n",
      "Epoch: 868 Iteration: 82500. Train_MSE: 0.000201271366677247. Test_MSE: 0.0001290963727972874\n",
      "Epoch: 869 Iteration: 82600. Train_MSE: 6.670062430202961e-05. Test_MSE: 0.00012899070614111525\n",
      "Epoch: 870 Iteration: 82700. Train_MSE: 0.00011083600111305714. Test_MSE: 0.00012885797602459783\n",
      "Epoch: 871 Iteration: 82800. Train_MSE: 0.0003037993155885488. Test_MSE: 0.00012887153277832595\n",
      "Epoch: 872 Iteration: 82900. Train_MSE: 0.0001702415174804628. Test_MSE: 0.0001288336938134106\n",
      "Epoch: 873 Iteration: 83000. Train_MSE: 0.00026042532408609986. Test_MSE: 0.00012894267500374303\n",
      "Epoch: 874 Iteration: 83100. Train_MSE: 0.00034956124727614224. Test_MSE: 0.00012897806686517553\n",
      "Epoch: 875 Iteration: 83200. Train_MSE: 0.0002480587863828987. Test_MSE: 0.0001289874392038229\n",
      "Epoch: 876 Iteration: 83300. Train_MSE: 0.00018509855726733804. Test_MSE: 0.00012886476340191776\n",
      "Epoch: 877 Iteration: 83400. Train_MSE: 0.00026865408290177584. Test_MSE: 0.0001286560320930696\n",
      "Epoch: 878 Iteration: 83500. Train_MSE: 9.005988977150992e-05. Test_MSE: 0.00012850648470201216\n",
      "Epoch: 879 Iteration: 83600. Train_MSE: 0.00011635372356977314. Test_MSE: 0.00012835724135703744\n",
      "Epoch: 881 Iteration: 83700. Train_MSE: 0.00011626308696577325. Test_MSE: 0.00012832544055580073\n",
      "Epoch: 882 Iteration: 83800. Train_MSE: 0.0002688175591174513. Test_MSE: 0.00012836758599162773\n",
      "Epoch: 883 Iteration: 83900. Train_MSE: 0.00021265189570840448. Test_MSE: 0.0001284555289522875\n",
      "Epoch: 884 Iteration: 84000. Train_MSE: 0.009362800978124142. Test_MSE: 0.00012855055179570048\n",
      "Epoch: 885 Iteration: 84100. Train_MSE: 0.00014894790365360677. Test_MSE: 0.0001285716866103193\n",
      "Epoch: 886 Iteration: 84200. Train_MSE: 0.00015554785204585642. Test_MSE: 0.0001285038896208484\n",
      "Epoch: 887 Iteration: 84300. Train_MSE: 0.00011078681563958526. Test_MSE: 0.00012843551394259276\n",
      "Epoch: 888 Iteration: 84400. Train_MSE: 0.000200299356947653. Test_MSE: 0.00012826128938835273\n",
      "Epoch: 889 Iteration: 84500. Train_MSE: 6.579333421541378e-05. Test_MSE: 0.000128156897632024\n",
      "Epoch: 890 Iteration: 84600. Train_MSE: 0.00010936906619463116. Test_MSE: 0.00012802654723480199\n",
      "Epoch: 891 Iteration: 84700. Train_MSE: 0.00030169880483299494. Test_MSE: 0.00012804055309798915\n",
      "Epoch: 892 Iteration: 84800. Train_MSE: 0.0001677206892054528. Test_MSE: 0.00012800343953906063\n",
      "Epoch: 893 Iteration: 84900. Train_MSE: 0.00025597636704333127. Test_MSE: 0.0001281108789136664\n",
      "Epoch: 894 Iteration: 85000. Train_MSE: 0.00034746722667478025. Test_MSE: 0.0001281465714761145\n",
      "Epoch: 895 Iteration: 85100. Train_MSE: 0.00024405612202826887. Test_MSE: 0.0001281565250532387\n",
      "Epoch: 896 Iteration: 85200. Train_MSE: 0.0001829676330089569. Test_MSE: 0.00012803529071961313\n",
      "Epoch: 897 Iteration: 85300. Train_MSE: 0.0002662241458892822. Test_MSE: 0.00012782857272642233\n",
      "Epoch: 898 Iteration: 85400. Train_MSE: 8.912292105378583e-05. Test_MSE: 0.0001276798844601478\n",
      "Epoch: 899 Iteration: 85500. Train_MSE: 0.00011493268539197743. Test_MSE: 0.00012753218171119478\n",
      "Epoch: 901 Iteration: 85600. Train_MSE: 0.00011502296547405422. Test_MSE: 0.00012750223187202181\n",
      "Epoch: 902 Iteration: 85700. Train_MSE: 0.0002644619671627879. Test_MSE: 0.00012754403132281847\n",
      "Epoch: 903 Iteration: 85800. Train_MSE: 0.0002105599851347506. Test_MSE: 0.00012763123532184227\n",
      "Epoch: 904 Iteration: 85900. Train_MSE: 0.009364183060824871. Test_MSE: 0.00012772611186758252\n",
      "Epoch: 905 Iteration: 86000. Train_MSE: 0.00014666796778328717. Test_MSE: 0.00012774856965365165\n",
      "Epoch: 906 Iteration: 86100. Train_MSE: 0.00015328741574194282. Test_MSE: 0.0001276825675197363\n",
      "Epoch: 907 Iteration: 86200. Train_MSE: 0.00010900555935222656. Test_MSE: 0.0001276152721797651\n",
      "Epoch: 908 Iteration: 86300. Train_MSE: 0.0001993564364966005. Test_MSE: 0.00012744234081390907\n",
      "Epoch: 909 Iteration: 86400. Train_MSE: 6.492165994131938e-05. Test_MSE: 0.0001273395156157113\n"
     ]
    },
    {
     "name": "stdout",
     "output_type": "stream",
     "text": [
      "Epoch: 910 Iteration: 86500. Train_MSE: 0.00010792549437610433. Test_MSE: 0.0001272116164450775\n",
      "Epoch: 911 Iteration: 86600. Train_MSE: 0.0002996674447786063. Test_MSE: 0.00012722615881249118\n",
      "Epoch: 912 Iteration: 86700. Train_MSE: 0.00016525639512110502. Test_MSE: 0.0001271894630976463\n",
      "Epoch: 913 Iteration: 86800. Train_MSE: 0.0002516693784855306. Test_MSE: 0.00012729530316810803\n",
      "Epoch: 914 Iteration: 86900. Train_MSE: 0.0003454413381405175. Test_MSE: 0.0001273314148201278\n",
      "Epoch: 915 Iteration: 87000. Train_MSE: 0.00024021808349061757. Test_MSE: 0.0001273417832699841\n",
      "Epoch: 916 Iteration: 87100. Train_MSE: 0.00018090839148499072. Test_MSE: 0.0001272218695529157\n",
      "Epoch: 917 Iteration: 87200. Train_MSE: 0.0002638628939166665. Test_MSE: 0.00012701704396483407\n",
      "Epoch: 918 Iteration: 87300. Train_MSE: 8.820134826237336e-05. Test_MSE: 0.00012686894588814394\n",
      "Epoch: 919 Iteration: 87400. Train_MSE: 0.00011354139860486612. Test_MSE: 0.00012672243910295198\n",
      "Epoch: 921 Iteration: 87500. Train_MSE: 0.00011382448428776115. Test_MSE: 0.00012669393698375937\n",
      "Epoch: 922 Iteration: 87600. Train_MSE: 0.00026021667872555554. Test_MSE: 0.00012673501627857663\n",
      "Epoch: 923 Iteration: 87700. Train_MSE: 0.00020851287990808487. Test_MSE: 0.00012682092394095915\n",
      "Epoch: 924 Iteration: 87800. Train_MSE: 0.009365519508719444. Test_MSE: 0.00012691521785504362\n",
      "Epoch: 925 Iteration: 87900. Train_MSE: 0.00014449712762143463. Test_MSE: 0.0001269387027701296\n",
      "Epoch: 926 Iteration: 88000. Train_MSE: 0.00015112460823729634. Test_MSE: 0.0001268743462490328\n",
      "Epoch: 927 Iteration: 88100. Train_MSE: 0.00010729172936407849. Test_MSE: 0.0001268080325365301\n",
      "Epoch: 928 Iteration: 88200. Train_MSE: 0.00019843800691887736. Test_MSE: 0.00012663630303681614\n",
      "Epoch: 929 Iteration: 88300. Train_MSE: 6.408723129425198e-05. Test_MSE: 0.0001265351768125268\n",
      "Epoch: 930 Iteration: 88400. Train_MSE: 0.00010651574120856822. Test_MSE: 0.00012640972549939568\n",
      "Epoch: 931 Iteration: 88500. Train_MSE: 0.0002976946416310966. Test_MSE: 0.00012642456393627537\n",
      "Epoch: 932 Iteration: 88600. Train_MSE: 0.00016287282051052898. Test_MSE: 0.00012638827113605516\n",
      "Epoch: 933 Iteration: 88700. Train_MSE: 0.00024749734438955784. Test_MSE: 0.00012649234894492945\n",
      "Epoch: 934 Iteration: 88800. Train_MSE: 0.0003434820973780006. Test_MSE: 0.00012652848610098685\n",
      "Epoch: 935 Iteration: 88900. Train_MSE: 0.0002365247783018276. Test_MSE: 0.0001265390820598654\n",
      "Epoch: 936 Iteration: 89000. Train_MSE: 0.00017892084724735469. Test_MSE: 0.00012642019352308682\n",
      "Epoch: 937 Iteration: 89100. Train_MSE: 0.0002615674748085439. Test_MSE: 0.0001262168652346373\n",
      "Epoch: 938 Iteration: 89200. Train_MSE: 8.729541877983138e-05. Test_MSE: 0.00012606920989083128\n",
      "Epoch: 939 Iteration: 89300. Train_MSE: 0.00011217641440453008. Test_MSE: 0.00012592384914457058\n",
      "Epoch: 941 Iteration: 89400. Train_MSE: 0.00011265936336712912. Test_MSE: 0.0001258967194264797\n",
      "Epoch: 942 Iteration: 89500. Train_MSE: 0.0002560892316978425. Test_MSE: 0.00012593701160331115\n",
      "Epoch: 943 Iteration: 89600. Train_MSE: 0.0002065161825157702. Test_MSE: 0.00012602183944485256\n",
      "Epoch: 944 Iteration: 89700. Train_MSE: 0.009366821497678757. Test_MSE: 0.00012611557095335122\n",
      "Epoch: 945 Iteration: 89800. Train_MSE: 0.00014247497892938554. Test_MSE: 0.00012614005194986561\n",
      "Epoch: 946 Iteration: 89900. Train_MSE: 0.00014903010742273182. Test_MSE: 0.00012607710323477\n",
      "Epoch: 947 Iteration: 90000. Train_MSE: 0.00010563184332568198. Test_MSE: 0.00012601159695811994\n",
      "Epoch: 948 Iteration: 90100. Train_MSE: 0.00019755089306272566. Test_MSE: 0.00012584088857584545\n",
      "Epoch: 949 Iteration: 90200. Train_MSE: 6.32867231615819e-05. Test_MSE: 0.000125741027362776\n",
      "Epoch: 950 Iteration: 90300. Train_MSE: 0.00010513985762372613. Test_MSE: 0.00012561775747712374\n",
      "Epoch: 951 Iteration: 90400. Train_MSE: 0.00029578126850537956. Test_MSE: 0.00012563282820660313\n",
      "Epoch: 952 Iteration: 90500. Train_MSE: 0.0001605752477189526. Test_MSE: 0.00012559719369347155\n",
      "Epoch: 953 Iteration: 90600. Train_MSE: 0.0002434592170175165. Test_MSE: 0.00012569964734579844\n",
      "Epoch: 954 Iteration: 90700. Train_MSE: 0.0003415878745727241. Test_MSE: 0.00012573578327162402\n",
      "Epoch: 955 Iteration: 90800. Train_MSE: 0.00023296520521398634. Test_MSE: 0.00012574670520108333\n",
      "Epoch: 956 Iteration: 90900. Train_MSE: 0.000177003865246661. Test_MSE: 0.00012562907577606794\n",
      "Epoch: 957 Iteration: 91000. Train_MSE: 0.00025933305732905865. Test_MSE: 0.00012542761928691553\n",
      "Epoch: 958 Iteration: 91100. Train_MSE: 8.640424493933097e-05. Test_MSE: 0.00012528057641977692\n",
      "Epoch: 959 Iteration: 91200. Train_MSE: 0.0001108317737816833. Test_MSE: 0.00012513639520233784\n",
      "Epoch: 961 Iteration: 91300. Train_MSE: 0.00011152578372275457. Test_MSE: 0.0001251102215111076\n",
      "Epoch: 962 Iteration: 91400. Train_MSE: 0.00025208969600498676. Test_MSE: 0.00012514976160150567\n",
      "Epoch: 963 Iteration: 91500. Train_MSE: 0.00020454936020541936. Test_MSE: 0.00012523331920341122\n",
      "Epoch: 964 Iteration: 91600. Train_MSE: 0.00936805084347725. Test_MSE: 0.00012532609228511156\n",
      "Epoch: 965 Iteration: 91700. Train_MSE: 0.0001405672519467771. Test_MSE: 0.00012535122931154317\n",
      "Epoch: 966 Iteration: 91800. Train_MSE: 0.000147030150401406. Test_MSE: 0.00012528941474709818\n",
      "Epoch: 967 Iteration: 91900. Train_MSE: 0.00010403082706034184. Test_MSE: 0.00012522447691687384\n",
      "Epoch: 968 Iteration: 92000. Train_MSE: 0.0001966898562386632. Test_MSE: 0.0001250548334722689\n",
      "Epoch: 969 Iteration: 92100. Train_MSE: 6.250131991691887e-05. Test_MSE: 0.00012495607271936914\n",
      "Epoch: 970 Iteration: 92200. Train_MSE: 0.00010378658043919131. Test_MSE: 0.000124834911612987\n",
      "Epoch: 971 Iteration: 92300. Train_MSE: 0.0002939122205134481. Test_MSE: 0.00012485006469914884\n",
      "Epoch: 972 Iteration: 92400. Train_MSE: 0.00015833936049602926. Test_MSE: 0.0001248149414558692\n",
      "Epoch: 973 Iteration: 92500. Train_MSE: 0.00023956505174282938. Test_MSE: 0.00012491584638135058\n",
      "Epoch: 974 Iteration: 92600. Train_MSE: 0.00033974123653024435. Test_MSE: 0.00012495235455575843\n",
      "Epoch: 975 Iteration: 92700. Train_MSE: 0.00022958025510888547. Test_MSE: 0.00012496376344732108\n",
      "Epoch: 976 Iteration: 92800. Train_MSE: 0.00017519302491564304. Test_MSE: 0.0001248473146963194\n",
      "Epoch: 977 Iteration: 92900. Train_MSE: 0.0002571960794739425. Test_MSE: 0.00012464771399623112\n",
      "Epoch: 978 Iteration: 93000. Train_MSE: 8.55191974551417e-05. Test_MSE: 0.0001245012780035796\n",
      "Epoch: 979 Iteration: 93100. Train_MSE: 0.00010950090654660016. Test_MSE: 0.00012435839951188983\n",
      "Epoch: 981 Iteration: 93200. Train_MSE: 0.00011042582627851516. Test_MSE: 0.00012433338483850052\n",
      "Epoch: 982 Iteration: 93300. Train_MSE: 0.00024825570289976895. Test_MSE: 0.00012437228219091477\n",
      "Epoch: 983 Iteration: 93400. Train_MSE: 0.00020262729958631098. Test_MSE: 0.00012445493067134028\n",
      "Epoch: 984 Iteration: 93500. Train_MSE: 0.009369230829179287. Test_MSE: 0.00012454724905430642\n",
      "Epoch: 985 Iteration: 93600. Train_MSE: 0.000138753981445916. Test_MSE: 0.00012457337067602617\n",
      "Epoch: 986 Iteration: 93700. Train_MSE: 0.00014513643691316247. Test_MSE: 0.00012451326997069603\n",
      "Epoch: 987 Iteration: 93800. Train_MSE: 0.00010248952457914129. Test_MSE: 0.000124449175627052\n",
      "Epoch: 988 Iteration: 93900. Train_MSE: 0.00019585028348956257. Test_MSE: 0.0001242809010591621\n",
      "Epoch: 989 Iteration: 94000. Train_MSE: 6.173516158014536e-05. Test_MSE: 0.00012418375247467837\n",
      "Epoch: 990 Iteration: 94100. Train_MSE: 0.00010245111479889601. Test_MSE: 0.00012406495884409585\n",
      "Epoch: 991 Iteration: 94200. Train_MSE: 0.0002920842671301216. Test_MSE: 0.00012408041974785617\n",
      "Epoch: 992 Iteration: 94300. Train_MSE: 0.00015615769370924681. Test_MSE: 0.00012404596452366966\n",
      "Epoch: 993 Iteration: 94400. Train_MSE: 0.0002358016063226387. Test_MSE: 0.00012414529666613863\n",
      "Epoch: 994 Iteration: 94500. Train_MSE: 0.0003379581612534821. Test_MSE: 0.0001241818543800654\n",
      "Epoch: 995 Iteration: 94600. Train_MSE: 0.0002263338683405891. Test_MSE: 0.00012419349272244057\n",
      "Epoch: 996 Iteration: 94700. Train_MSE: 0.000173488850123249. Test_MSE: 0.00012407852007250794\n",
      "Epoch: 997 Iteration: 94800. Train_MSE: 0.00025512027787044644. Test_MSE: 0.0001238810333861314\n",
      "Epoch: 998 Iteration: 94900. Train_MSE: 8.464665006613359e-05. Test_MSE: 0.000123735735898075\n",
      "Epoch: 999 Iteration: 95000. Train_MSE: 0.00010818024748004973. Test_MSE: 0.00012359471967786356\n"
     ]
    }
   ],
   "source": [
    "# Training the model\n",
    "seq_dim = 1\n",
    "\n",
    "n_iter =0\n",
    "num_samples = len(X_train)\n",
    "test_samples = len(X_test)\n",
    "batch_size = 100\n",
    "num_epochs = 1000\n",
    "feat_dim = X_train.shape[1]\n",
    "\n",
    "X_train = X_train.type(torch.FloatTensor)\n",
    "y_train = y_train.type(torch.FloatTensor)\n",
    "X_test = X_test.type(torch.FloatTensor)\n",
    "y_test = y_test.type(torch.FloatTensor)\n",
    "\n",
    "for epoch in range(num_epochs):\n",
    "    for i in range(0, int(num_samples/batch_size -1)):\n",
    "        \n",
    "        \n",
    "        features = Variable(X_train[i*batch_size:(i+1)*batch_size, :]).view(-1, seq_dim, feat_dim)\n",
    "        Kt_value = Variable(y_train[i*batch_size:(i+1)*batch_size])\n",
    "        \n",
    "        #print(\"Kt_value={}\".format(Kt_value))\n",
    "        \n",
    "        optimizer.zero_grad()\n",
    "        \n",
    "        outputs = model(features)\n",
    "        #print(\"outputs ={}\".format(outputs))\n",
    "        \n",
    "        loss = criterion(outputs, Kt_value)\n",
    "        \n",
    "        train_loss.append(loss.data[0])\n",
    "        train_iter.append(n_iter)\n",
    "\n",
    "        #print(\"loss = {}\".format(loss))\n",
    "        loss.backward()\n",
    "        \n",
    "        optimizer.step()\n",
    "        \n",
    "        n_iter += 1  \n",
    "            \n",
    "        if n_iter%100 == 0:\n",
    "            for i in range(0,int(test_samples/batch_size -1)):\n",
    "                features = Variable(X_test[i*batch_size:(i+1)*batch_size, :]).view(-1, seq_dim, feat_dim)\n",
    "                Kt_test = Variable(y_test[i*batch_size:(i+1)*batch_size])\n",
    "                \n",
    "                outputs = model(features)\n",
    "                \n",
    "                mse = np.sqrt(np.mean((Kt_test.data.numpy() - outputs.data.numpy().squeeze())**2)/num_samples)\n",
    "                \n",
    "                test_iter.append(n_iter)\n",
    "                test_loss.append(mse)\n",
    "                \n",
    "            print('Epoch: {} Iteration: {}. Train_MSE: {}. Test_MSE: {}'.format(epoch, n_iter, loss.data[0], mse))\n",
    "               "
   ]
  },
  {
   "cell_type": "code",
   "execution_count": 79,
   "metadata": {},
   "outputs": [
    {
     "name": "stdout",
     "output_type": "stream",
     "text": [
      "37050\n"
     ]
    },
    {
     "data": {
      "text/plain": [
       "[<matplotlib.lines.Line2D at 0xf5fcac8>]"
      ]
     },
     "execution_count": 79,
     "metadata": {},
     "output_type": "execute_result"
    },
    {
     "data": {
      "image/png": "[encoded data removed]",
      "text/plain": [
       "<Figure size 432x288 with 1 Axes>"
      ]
     },
     "metadata": {},
     "output_type": "display_data"
    }
   ],
   "source": [
    "print(len(test_loss))\n",
    "#plt.plot(test_loss)\n",
    "plt.plot(train_loss,'-')\n",
    "#plt.ylim([0.000,0.99])\n"
   ]
  },
  {
   "cell_type": "code",
   "execution_count": 80,
   "metadata": {},
   "outputs": [
    {
     "data": {
      "text/plain": [
       "[<matplotlib.lines.Line2D at 0xbecaf98>]"
      ]
     },
     "execution_count": 80,
     "metadata": {},
     "output_type": "execute_result"
    },
    {
     "data": {
      "image/png": "[encoded data removed]",
      "text/plain": [
       "<Figure size 432x288 with 1 Axes>"
      ]
     },
     "metadata": {},
     "output_type": "display_data"
    }
   ],
   "source": [
    "plt.plot(test_loss,'r')"
   ]
  },
  {
   "cell_type": "markdown",
   "metadata": {
    "collapsed": true
   },
   "source": [
    "#### Demornamization"
   ]
  },
  {
   "cell_type": "code",
   "execution_count": 81,
   "metadata": {},
   "outputs": [],
   "source": [
    "rmse = np.sqrt(mse)"
   ]
  },
  {
   "cell_type": "code",
   "execution_count": 82,
   "metadata": {},
   "outputs": [],
   "source": [
    "rmse_denorm = (rmse * (df_new_test['Kt'].max() - df_new_test['Kt'].min()))+ df_new_test['Kt'].mean()"
   ]
  },
  {
   "cell_type": "code",
   "execution_count": 83,
   "metadata": {},
   "outputs": [
    {
     "data": {
      "text/plain": [
       "28.40179473080549"
      ]
     },
     "execution_count": 83,
     "metadata": {},
     "output_type": "execute_result"
    }
   ],
   "source": [
    "rmse_denorm"
   ]
  },
  {
   "cell_type": "code",
   "execution_count": 84,
   "metadata": {},
   "outputs": [
    {
     "data": {
      "text/plain": [
       "count    3941.000000\n",
       "mean        8.365886\n",
       "std        50.266729\n",
       "min        -0.486594\n",
       "25%        -0.012258\n",
       "50%         0.097332\n",
       "75%         1.286577\n",
       "max      1801.738697\n",
       "Name: Kt, dtype: float64"
      ]
     },
     "execution_count": 84,
     "metadata": {},
     "output_type": "execute_result"
    }
   ],
   "source": [
    "df_new_test['Kt'].describe()"
   ]
  },
  {
   "cell_type": "markdown",
   "metadata": {
    "collapsed": true
   },
   "source": [
    "### Saving train and test losses to a csv"
   ]
  },
  {
   "cell_type": "code",
   "execution_count": 85,
   "metadata": {},
   "outputs": [],
   "source": [
    "df_trainLoss = pd.DataFrame(data={'Train Loss':train_loss}, columns=['Train Loss'])\n",
    "df_trainLoss.to_csv('RNN Paper Results/Exp1_FortPeck_TrainLoss.csv')\n",
    "df_testLoss = pd.DataFrame(data={'Test Loss':test_loss}, columns=['Test Loss'])\n",
    "df_testLoss.to_csv('RNN Paper Results/Exp1_FortPeck_TestLoss.csv')"
   ]
  }
 ],
 "metadata": {
  "anaconda-cloud": {},
  "kernelspec": {
   "display_name": "Python 3",
   "language": "python",
   "name": "python3"
  },
  "language_info": {
   "codemirror_mode": {
    "name": "ipython",
    "version": 3
   },
   "file_extension": ".py",
   "mimetype": "text/x-python",
   "name": "python",
   "nbconvert_exporter": "python",
   "pygments_lexer": "ipython3",
   "version": "3.6.1"
  }
 },
 "nbformat": 4,
 "nbformat_minor": 2
}
